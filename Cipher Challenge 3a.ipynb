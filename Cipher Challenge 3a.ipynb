{
 "cells": [
  {
   "cell_type": "markdown",
   "metadata": {},
   "source": [
    "# Decryption tools\n",
    "## This shows how I managed to decode this practice encryption challenge:\n",
    "### https://www.cipherchallenge.org/challenge/practice-challenge-3/"
   ]
  },
  {
   "cell_type": "code",
   "execution_count": 1,
   "metadata": {},
   "outputs": [],
   "source": [
    "import string\n",
    "\n",
    "\n",
    "# A function to decode some text, based on a key\n",
    "# To make it easy to see which letters are successfully guessed,\n",
    "# the input text will be converted to upper case.\n",
    "# The key will be either lower or upper case (depending on whether the letter has been discovered)\n",
    "def decode1(text, key):\n",
    "    table = str.maketrans(string.ascii_uppercase, key)\n",
    "    print(text.upper().translate(table))\n"
   ]
  },
  {
   "cell_type": "code",
   "execution_count": 2,
   "metadata": {},
   "outputs": [
    {
     "name": "stdout",
     "output_type": "stream",
     "text": [
      "bcd\n"
     ]
    }
   ],
   "source": [
    "# A quick test to see if it works.\n",
    "decode1(\"ABC\", \"bcdefghijklmnopqrstuvwxyza\")"
   ]
  },
  {
   "cell_type": "code",
   "execution_count": 3,
   "metadata": {},
   "outputs": [],
   "source": [
    "# Define the text to decode:\n",
    "message = \"\"\"\n",
    "Wshhp,\n",
    "X msdjru je ar trhjsxd jwr beij Sfebbe Jrd hrfehj hrsbbp msid’j sd sttxurdj ie X sizru shtwxlri je irshtw jwr cxiixed fsfrhi xd tsir jwr ehxvxdsb hrfehj wsu arrd cxinxbru. Jwrp irshtwru rlrhpjwxdv sdu tekbud’j nxdu xj akj jwrd iecredr wsu s ahsxdmslr sdu twrtzru jwr Sfebbe rbrlrd nxbri. Je rlrhpedr’i hrbxrn jwrp nekdu xj jwrhr sdu jwr shtwxlxij hrtzedru jwsj iecredr vej uxijhstjru. Mxjw jwr lebkcr en cxiixed fsfrhi jwrp shr wsdubxdv jwxi xi dej s ikhfhxir, akj vxlrd jwr xcfehjsdtr en jwrir uetkcrdji xj xi s axj sbshcxdv sdu uerid’j nrrb bxzr jwr msp DSIS kiksbbp ueri jwxdvi. Sdpmsp, jwr nxdu iwekbu wslr hrsiikhru cr, sdu xj mekbu wslr xn X wsud’j beezru ie tshrnkbbp sj jwr nxbr. Rlrhpjwxdv beezru nxdr rotrfj jwsj jwr mehu Xdyrtjxed xd jwr frdkbjxcsjr fshsvhsfw msi ifrbj mxjw sd X. Pek csp dej ar ikhfhxiru, akj xn pek beez sj jwr urthpfj en jwr csdvbru lrhixed xj xi cxiifrbj bdyrtjxed, mxjw sd b hrfbstxdv jwr X.\n",
    "X mekbud’j wslr dejxtru akj X wsu urthpfjru jwr ehxvxdsb ap wsdu sdu msi ikhfhxiru ap jwr jpfe. Xj ijktz xd cp cxdu ie mwrd X ism jwr nxbru lrhixed mxjwekj xj jwsj hsdv sbshc arbbi. Edtr mr ijshjru xdlrijxvsjxdv mr betzru kf jwr tecfkjrh nxbri ie X tsd edbp siikcr jwsj jwr nxbru lrhixed msi jhsdithxaru ap iecredr mwe dem wsi sttrii je jwr fhxdjru lrhixed akj mwe uerid’j wslr jwr tbrshsdtr je sttrii jwr ehxvxdsb. Jwr gkrijxed xi, mwp mekbu jwrp fheuktr s drm lrhixed? X tsd edbp jwxdz jwsj jwrp msdjru je wrsu enn cehr xdlrijxvsjxed ap vxlxdv ki s hrsied je jwxdz xj msi sbb s cxijszr snjrh sbb. Xn jwsj msi jwr fbsd jwrd xj wsid’j mehzru. Xj irrci tbrsh je cr jwsj iecredr hrsbbp ueri wslr iecrjwxdv je wxur.\n",
    "X twrtzru jwr irtkhxjp tbrshsdtr bxij sdu jwrhr mrhr jme wkduhru sdu jwxhjp-irlrd frefbr mxjw sttrii je jwr shtwxlr heec mwrhr mr shr ijehxdv jwr xdlrijxvsjxed nxbri mwe ue dej sbie wslr tkhhrdj sttrii je jweir tecfkjrh nxbri. En jweir, edr wkduhru sdu rxvwjrrd uxu wslr jrhcxdsb sttrii arnehr mr tbeiru xj uemd, ie jwr ikifrtj bxij xi iwhxdzxdv, mwxtw X ikffeir xi iecrjwxdv, akj X mekbu fhrnrh je dshhem xj uemd s axj cehr. Mxjw jwr bskdtw en Sfebbe Jmrblr tecxdv kf droj cedjw jwr ceeu xi vrjjxdv jrdir sdu X mekbu hrsbbp bxzr je cszr ikhr ekh cxitwxrn cszrh uerid’j wslr sdp cehr ikhfhxiri xd ijehr.\n",
    "Je cszr csjjrhi mehir X wrshu jwsj jwr wsmzi sj jwr Frdjsved shr vrjjxdv hrijbrii. Tekbu pek vrj elrh jwrhr sdu nxdu ekj mwsj jwrp shr jwxdzxdv? Vxlrd jwsj ekh jehcrdjeh irrci je wslr fhrjjp wxvw-brlrb sttrii, cspar pek tekbu thsdz kf jwr irtkhxjp ed ekh tecci? Cspar s zrpmehu txfwrh abetzru si ijsdushu?\n",
    "Crv\n",
    "\"\"\""
   ]
  },
  {
   "cell_type": "code",
   "execution_count": 4,
   "metadata": {},
   "outputs": [
    {
     "name": "stdout",
     "output_type": "stream",
     "text": [
      "\n",
      "WSHHP,\n",
      "X MSDJRU JE AR TRHJSXD JWR BEIJ SFEBBE JRD HRFEHJ HRSBBP MSID’J SD STTXURDJ IE X SIZRU SHTWXLRI JE IRSHTW JWR CXIIXED FSFRHI XD TSIR JWR EHXVXDSB HRFEHJ WSU ARRD CXINXBRU. JWRP IRSHTWRU RLRHPJWXDV SDU TEKBUD’J NXDU XJ AKJ JWRD IECREDR WSU S AHSXDMSLR SDU TWRTZRU JWR SFEBBE RBRLRD NXBRI. JE RLRHPEDR’I HRBXRN JWRP NEKDU XJ JWRHR SDU JWR SHTWXLXIJ HRTZEDRU JWSJ IECREDR VEJ UXIJHSTJRU. MXJW JWR LEBKCR EN CXIIXED FSFRHI JWRP SHR WSDUBXDV JWXI XI DEJ S IKHFHXIR, AKJ VXLRD JWR XCFEHJSDTR EN JWRIR UETKCRDJI XJ XI S AXJ SBSHCXDV SDU UERID’J NRRB BXZR JWR MSP DSIS KIKSBBP UERI JWXDVI. SDPMSP, JWR NXDU IWEKBU WSLR HRSIIKHRU CR, SDU XJ MEKBU WSLR XN X WSUD’J BEEZRU IE TSHRNKBBP SJ JWR NXBR. RLRHPJWXDV BEEZRU NXDR ROTRFJ JWSJ JWR MEHU XDYRTJXED XD JWR FRDKBJXCSJR FSHSVHSFW MSI IFRBJ MXJW SD X. PEK CSP DEJ AR IKHFHXIRU, AKJ XN PEK BEEZ SJ JWR URTHPFJ EN JWR CSDVBRU LRHIXED XJ XI CXIIFRBJ BDYRTJXED, MXJW SD B HRFBSTXDV JWR X.\n",
      "X MEKBUD’J WSLR DEJXTRU AKJ X WSU URTHPFJRU JWR EHXVXDSB AP WSDU SDU MSI IKHFHXIRU AP JWR JPFE. XJ IJKTZ XD CP CXDU IE MWRD X ISM JWR NXBRU LRHIXED MXJWEKJ XJ JWSJ HSDV SBSHC ARBBI. EDTR MR IJSHJRU XDLRIJXVSJXDV MR BETZRU KF JWR TECFKJRH NXBRI IE X TSD EDBP SIIKCR JWSJ JWR NXBRU LRHIXED MSI JHSDITHXARU AP IECREDR MWE DEM WSI STTRII JE JWR FHXDJRU LRHIXED AKJ MWE UERID’J WSLR JWR TBRSHSDTR JE STTRII JWR EHXVXDSB. JWR GKRIJXED XI, MWP MEKBU JWRP FHEUKTR S DRM LRHIXED? X TSD EDBP JWXDZ JWSJ JWRP MSDJRU JE WRSU ENN CEHR XDLRIJXVSJXED AP VXLXDV KI S HRSIED JE JWXDZ XJ MSI SBB S CXIJSZR SNJRH SBB. XN JWSJ MSI JWR FBSD JWRD XJ WSID’J MEHZRU. XJ IRRCI TBRSH JE CR JWSJ IECREDR HRSBBP UERI WSLR IECRJWXDV JE WXUR.\n",
      "X TWRTZRU JWR IRTKHXJP TBRSHSDTR BXIJ SDU JWRHR MRHR JME WKDUHRU SDU JWXHJP-IRLRD FREFBR MXJW STTRII JE JWR SHTWXLR HEEC MWRHR MR SHR IJEHXDV JWR XDLRIJXVSJXED NXBRI MWE UE DEJ SBIE WSLR TKHHRDJ STTRII JE JWEIR TECFKJRH NXBRI. EN JWEIR, EDR WKDUHRU SDU RXVWJRRD UXU WSLR JRHCXDSB STTRII ARNEHR MR TBEIRU XJ UEMD, IE JWR IKIFRTJ BXIJ XI IWHXDZXDV, MWXTW X IKFFEIR XI IECRJWXDV, AKJ X MEKBU FHRNRH JE DSHHEM XJ UEMD S AXJ CEHR. MXJW JWR BSKDTW EN SFEBBE JMRBLR TECXDV KF DROJ CEDJW JWR CEEU XI VRJJXDV JRDIR SDU X MEKBU HRSBBP BXZR JE CSZR IKHR EKH CXITWXRN CSZRH UERID’J WSLR SDP CEHR IKHFHXIRI XD IJEHR.\n",
      "JE CSZR CSJJRHI MEHIR X WRSHU JWSJ JWR WSMZI SJ JWR FRDJSVED SHR VRJJXDV HRIJBRII. TEKBU PEK VRJ ELRH JWRHR SDU NXDU EKJ MWSJ JWRP SHR JWXDZXDV? VXLRD JWSJ EKH JEHCRDJEH IRRCI JE WSLR FHRJJP WXVW-BRLRB STTRII, CSPAR PEK TEKBU THSDZ KF JWR IRTKHXJP ED EKH TECCI? CSPAR S ZRPMEHU TXFWRH ABETZRU SI IJSDUSHU?\n",
      "CRV\n",
      "\n"
     ]
    }
   ],
   "source": [
    "# Attempt to decode it:\n",
    "# To start with, the key will translate letters to themselves ()\n",
    "decode1(message, \"ABCDEFGHIJKLMNOPQRSTUVWXYZ\")  "
   ]
  },
  {
   "cell_type": "code",
   "execution_count": 5,
   "metadata": {},
   "outputs": [
    {
     "name": "stdout",
     "output_type": "stream",
     "text": [
      "\n",
      "harry,\n",
      "X MaDJeU JE Ae TerJaXD Jhe BEIJ aFEBBE JeD reFErJ reaBBy MaID’J aD aTTXUeDJ IE X aIZeU arThXLeI JE IearTh Jhe mXIIXED FaFerI XD TaIe Jhe ErXgXDaB reFErJ haU AeeD mXINXBeU. Jhey IearTheU eLeryJhXDg aDU TEKBUD’J NXDU XJ AKJ JheD IEmeEDe haU a AraXDMaLe aDU TheTZeU Jhe aFEBBE eBeLeD NXBeI. JE eLeryEDe’I reBXeN Jhey NEKDU XJ Jhere aDU Jhe arThXLXIJ reTZEDeU JhaJ IEmeEDe gEJ UXIJraTJeU. MXJh Jhe LEBKme EN mXIIXED FaFerI Jhey are haDUBXDg JhXI XI DEJ a IKrFrXIe, AKJ gXLeD Jhe XmFErJaDTe EN JheIe UETKmeDJI XJ XI a AXJ aBarmXDg aDU UEeID’J NeeB BXZe Jhe May DaIa KIKaBBy UEeI JhXDgI. aDyMay, Jhe NXDU IhEKBU haLe reaIIKreU me, aDU XJ MEKBU haLe XN X haUD’J BEEZeU IE TareNKBBy aJ Jhe NXBe. eLeryJhXDg BEEZeU NXDe eOTeFJ JhaJ Jhe MErU XDYeTJXED XD Jhe FeDKBJXmaJe FaragraFh MaI IFeBJ MXJh aD X. yEK may DEJ Ae IKrFrXIeU, AKJ XN yEK BEEZ aJ Jhe UeTryFJ EN Jhe maDgBeU LerIXED XJ XI mXIIFeBJ BDYeTJXED, MXJh aD B reFBaTXDg Jhe X.\n",
      "X MEKBUD’J haLe DEJXTeU AKJ X haU UeTryFJeU Jhe ErXgXDaB Ay haDU aDU MaI IKrFrXIeU Ay Jhe JyFE. XJ IJKTZ XD my mXDU IE MheD X IaM Jhe NXBeU LerIXED MXJhEKJ XJ JhaJ raDg aBarm AeBBI. EDTe Me IJarJeU XDLeIJXgaJXDg Me BETZeU KF Jhe TEmFKJer NXBeI IE X TaD EDBy aIIKme JhaJ Jhe NXBeU LerIXED MaI JraDITrXAeU Ay IEmeEDe MhE DEM haI aTTeII JE Jhe FrXDJeU LerIXED AKJ MhE UEeID’J haLe Jhe TBearaDTe JE aTTeII Jhe ErXgXDaB. Jhe GKeIJXED XI, Mhy MEKBU Jhey FrEUKTe a DeM LerIXED? X TaD EDBy JhXDZ JhaJ Jhey MaDJeU JE heaU ENN mEre XDLeIJXgaJXED Ay gXLXDg KI a reaIED JE JhXDZ XJ MaI aBB a mXIJaZe aNJer aBB. XN JhaJ MaI Jhe FBaD JheD XJ haID’J MErZeU. XJ IeemI TBear JE me JhaJ IEmeEDe reaBBy UEeI haLe IEmeJhXDg JE hXUe.\n",
      "X TheTZeU Jhe IeTKrXJy TBearaDTe BXIJ aDU Jhere Mere JME hKDUreU aDU JhXrJy-IeLeD FeEFBe MXJh aTTeII JE Jhe arThXLe rEEm Mhere Me are IJErXDg Jhe XDLeIJXgaJXED NXBeI MhE UE DEJ aBIE haLe TKrreDJ aTTeII JE JhEIe TEmFKJer NXBeI. EN JhEIe, EDe hKDUreU aDU eXghJeeD UXU haLe JermXDaB aTTeII AeNEre Me TBEIeU XJ UEMD, IE Jhe IKIFeTJ BXIJ XI IhrXDZXDg, MhXTh X IKFFEIe XI IEmeJhXDg, AKJ X MEKBU FreNer JE DarrEM XJ UEMD a AXJ mEre. MXJh Jhe BaKDTh EN aFEBBE JMeBLe TEmXDg KF DeOJ mEDJh Jhe mEEU XI geJJXDg JeDIe aDU X MEKBU reaBBy BXZe JE maZe IKre EKr mXIThXeN maZer UEeID’J haLe aDy mEre IKrFrXIeI XD IJEre.\n",
      "JE maZe maJJerI MErIe X hearU JhaJ Jhe haMZI aJ Jhe FeDJagED are geJJXDg reIJBeII. TEKBU yEK geJ ELer Jhere aDU NXDU EKJ MhaJ Jhey are JhXDZXDg? gXLeD JhaJ EKr JErmeDJEr IeemI JE haLe FreJJy hXgh-BeLeB aTTeII, mayAe yEK TEKBU TraDZ KF Jhe IeTKrXJy ED EKr TEmmI? mayAe a ZeyMErU TXFher ABETZeU aI IJaDUarU?\n",
      "meg\n",
      "\n"
     ]
    }
   ],
   "source": [
    "# I will cheat a bit here with some advanced knowledge! \n",
    "# I know that these messages go between Meg and Harry, so I'll put those letters in first:\n",
    "decode1(message, \"ABmDEFGrIJKLMNOyQeaTUghXYZ\")"
   ]
  },
  {
   "cell_type": "code",
   "execution_count": 6,
   "metadata": {},
   "outputs": [
    {
     "name": "stdout",
     "output_type": "stream",
     "text": [
      "\n",
      "harry,\n",
      "X waDteU tE be TertaXD the BEst aFEBBE teD reFErt reaBBy wasD’t aD aTTXUeDt sE X asZeU arThXves tE searTh the mXssXED FaFers XD Tase the ErXgXDaB reFErt haU beeD mXsNXBeU. they searTheU everythXDg aDU TEKBUD’t NXDU Xt bKt theD sEmeEDe haU a braXDwave aDU TheTZeU the aFEBBE eBeveD NXBes. tE everyEDe’s reBXeN they NEKDU Xt there aDU the arThXvXst reTZEDeU that sEmeEDe gEt UXstraTteU. wXth the vEBKme EN mXssXED FaFers they are haDUBXDg thXs Xs DEt a sKrFrXse, bKt gXveD the XmFErtaDTe EN these UETKmeDts Xt Xs a bXt aBarmXDg aDU UEesD’t NeeB BXZe the way Dasa KsKaBBy UEes thXDgs. aDyway, the NXDU shEKBU have reassKreU me, aDU Xt wEKBU have XN X haUD’t BEEZeU sE TareNKBBy at the NXBe. everythXDg BEEZeU NXDe eOTeFt that the wErU XDYeTtXED XD the FeDKBtXmate FaragraFh was sFeBt wXth aD X. yEK may DEt be sKrFrXseU, bKt XN yEK BEEZ at the UeTryFt EN the maDgBeU versXED Xt Xs mXssFeBt BDYeTtXED, wXth aD B reFBaTXDg the X.\n",
      "X wEKBUD’t have DEtXTeU bKt X haU UeTryFteU the ErXgXDaB by haDU aDU was sKrFrXseU by the tyFE. Xt stKTZ XD my mXDU sE wheD X saw the NXBeU versXED wXthEKt Xt that raDg aBarm beBBs. EDTe we starteU XDvestXgatXDg we BETZeU KF the TEmFKter NXBes sE X TaD EDBy assKme that the NXBeU versXED was traDsTrXbeU by sEmeEDe whE DEw has aTTess tE the FrXDteU versXED bKt whE UEesD’t have the TBearaDTe tE aTTess the ErXgXDaB. the GKestXED Xs, why wEKBU they FrEUKTe a Dew versXED? X TaD EDBy thXDZ that they waDteU tE heaU ENN mEre XDvestXgatXED by gXvXDg Ks a reasED tE thXDZ Xt was aBB a mXstaZe aNter aBB. XN that was the FBaD theD Xt hasD’t wErZeU. Xt seems TBear tE me that sEmeEDe reaBBy UEes have sEmethXDg tE hXUe.\n",
      "X TheTZeU the seTKrXty TBearaDTe BXst aDU there were twE hKDUreU aDU thXrty-seveD FeEFBe wXth aTTess tE the arThXve rEEm where we are stErXDg the XDvestXgatXED NXBes whE UE DEt aBsE have TKrreDt aTTess tE thEse TEmFKter NXBes. EN thEse, EDe hKDUreU aDU eXghteeD UXU have termXDaB aTTess beNEre we TBEseU Xt UEwD, sE the sKsFeTt BXst Xs shrXDZXDg, whXTh X sKFFEse Xs sEmethXDg, bKt X wEKBU FreNer tE DarrEw Xt UEwD a bXt mEre. wXth the BaKDTh EN aFEBBE tweBve TEmXDg KF DeOt mEDth the mEEU Xs gettXDg teDse aDU X wEKBU reaBBy BXZe tE maZe sKre EKr mXsThXeN maZer UEesD’t have aDy mEre sKrFrXses XD stEre.\n",
      "tE maZe matters wErse X hearU that the hawZs at the FeDtagED are gettXDg restBess. TEKBU yEK get Ever there aDU NXDU EKt what they are thXDZXDg? gXveD that EKr tErmeDtEr seems tE have Fretty hXgh-BeveB aTTess, maybe yEK TEKBU TraDZ KF the seTKrXty ED EKr TEmms? maybe a ZeywErU TXFher bBETZeU as staDUarU?\n",
      "meg\n",
      "\n"
     ]
    }
   ],
   "source": [
    "# There are lots of \"Jhe\" words in there.  \"J\" must be \"t\"\n",
    "# The phrase \"Mhere Me are\" suggests \"M\" is \"w\"\n",
    "# \"mayAe\" suggests that \"A\" is \"b\"\n",
    "# \"IeemI JE haLe\" probably means \"I\" is \"s\" and \"L\" is \"v\"\n",
    "# Let's try that lot:\n",
    "decode1(message, \"bBmDEFGrstKvwNOyQeaTUghXYZ\")"
   ]
  },
  {
   "cell_type": "code",
   "execution_count": 7,
   "metadata": {},
   "outputs": [
    {
     "name": "stdout",
     "output_type": "stream",
     "text": [
      "\n",
      "harry,\n",
      "i wanteU to be Tertain the Bost apoBBo ten report reaBBy wasn’t an aTTiUent so i asZeU arThives to searTh the mission papers in Tase the originaB report haU been misNiBeU. they searTheU everything anU ToKBUn’t NinU it bKt then someone haU a brainwave anU TheTZeU the apoBBo eBeven NiBes. to everyone’s reBieN they NoKnU it there anU the arThivist reTZoneU that someone got UistraTteU. with the voBKme oN mission papers they are hanUBing this is not a sKrprise, bKt given the importanTe oN these UoTKments it is a bit aBarming anU Uoesn’t NeeB BiZe the way nasa KsKaBBy Uoes things. anyway, the NinU shoKBU have reassKreU me, anU it woKBU have iN i haUn’t BooZeU so TareNKBBy at the NiBe. everything BooZeU Nine eOTept that the worU inYeTtion in the penKBtimate paragraph was speBt with an i. yoK may not be sKrpriseU, bKt iN yoK BooZ at the UeTrypt oN the mangBeU version it is misspeBt BnYeTtion, with an B repBaTing the i.\n",
      "i woKBUn’t have notiTeU bKt i haU UeTrypteU the originaB by hanU anU was sKrpriseU by the typo. it stKTZ in my minU so when i saw the NiBeU version withoKt it that rang aBarm beBBs. onTe we starteU investigating we BoTZeU Kp the TompKter NiBes so i Tan onBy assKme that the NiBeU version was transTribeU by someone who now has aTTess to the printeU version bKt who Uoesn’t have the TBearanTe to aTTess the originaB. the GKestion is, why woKBU they proUKTe a new version? i Tan onBy thinZ that they wanteU to heaU oNN more investigation by giving Ks a reason to thinZ it was aBB a mistaZe aNter aBB. iN that was the pBan then it hasn’t worZeU. it seems TBear to me that someone reaBBy Uoes have something to hiUe.\n",
      "i TheTZeU the seTKrity TBearanTe Bist anU there were two hKnUreU anU thirty-seven peopBe with aTTess to the arThive room where we are storing the investigation NiBes who Uo not aBso have TKrrent aTTess to those TompKter NiBes. oN those, one hKnUreU anU eighteen UiU have terminaB aTTess beNore we TBoseU it Uown, so the sKspeTt Bist is shrinZing, whiTh i sKppose is something, bKt i woKBU preNer to narrow it Uown a bit more. with the BaKnTh oN apoBBo tweBve Toming Kp neOt month the mooU is getting tense anU i woKBU reaBBy BiZe to maZe sKre oKr misThieN maZer Uoesn’t have any more sKrprises in store.\n",
      "to maZe matters worse i hearU that the hawZs at the pentagon are getting restBess. ToKBU yoK get over there anU NinU oKt what they are thinZing? given that oKr tormentor seems to have pretty high-BeveB aTTess, maybe yoK ToKBU TranZ Kp the seTKrity on oKr Tomms? maybe a ZeyworU Tipher bBoTZeU as stanUarU?\n",
      "meg\n",
      "\n"
     ]
    }
   ],
   "source": [
    "# \"XDvestXgatXED\" is probably \"investigation\" - X=i, D=n, E=o\n",
    "# \"FaragraFh\" F=p\n",
    "decode1(message, \"bBmnopGrstKvwNOyQeaTUghiYZ\")"
   ]
  },
  {
   "cell_type": "code",
   "execution_count": 8,
   "metadata": {},
   "outputs": [
    {
     "name": "stdout",
     "output_type": "stream",
     "text": [
      "\n",
      "harry,\n",
      "i wanted to be certain the lost apollo ten report really wasn’t an accident so i asked archives to search the mission papers in case the original report had been misfiled. they searched everything and couldn’t find it but then someone had a brainwave and checked the apollo eleven files. to everyone’s relief they found it there and the archivist reckoned that someone got distracted. with the volume of mission papers they are handling this is not a surprise, but given the importance of these documents it is a bit alarming and doesn’t feel like the way nasa usually does things. anyway, the find should have reassured me, and it would have if i hadn’t looked so carefully at the file. everything looked fine eOcept that the word inYection in the penultimate paragraph was spelt with an i. you may not be surprised, but if you look at the decrypt of the mangled version it is misspelt lnYection, with an l replacing the i.\n",
      "i wouldn’t have noticed but i had decrypted the original by hand and was surprised by the typo. it stuck in my mind so when i saw the filed version without it that rang alarm bells. once we started investigating we locked up the computer files so i can only assume that the filed version was transcribed by someone who now has access to the printed version but who doesn’t have the clearance to access the original. the Guestion is, why would they produce a new version? i can only think that they wanted to head off more investigation by giving us a reason to think it was all a mistake after all. if that was the plan then it hasn’t worked. it seems clear to me that someone really does have something to hide.\n",
      "i checked the security clearance list and there were two hundred and thirty-seven people with access to the archive room where we are storing the investigation files who do not also have current access to those computer files. of those, one hundred and eighteen did have terminal access before we closed it down, so the suspect list is shrinking, which i suppose is something, but i would prefer to narrow it down a bit more. with the launch of apollo twelve coming up neOt month the mood is getting tense and i would really like to make sure our mischief maker doesn’t have any more surprises in store.\n",
      "to make matters worse i heard that the hawks at the pentagon are getting restless. could you get over there and find out what they are thinking? given that our tormentor seems to have pretty high-level access, maybe you could crank up the security on our comms? maybe a keyword cipher blocked as standard?\n",
      "meg\n",
      "\n"
     ]
    }
   ],
   "source": [
    "# \"wanteU\" U=d\n",
    "# \"Tertain\" T=c\n",
    "# \"apoBBo\" B=l (These messages are all about NASA missions!)\n",
    "# \"assKme\" K=u\n",
    "# \"a mistaZe aNter aBB\" Z=k, N=f\n",
    "decode1(message, \"blmnopGrstuvwfOyQeacdghiYk\")"
   ]
  },
  {
   "cell_type": "code",
   "execution_count": 9,
   "metadata": {},
   "outputs": [
    {
     "name": "stdout",
     "output_type": "stream",
     "text": [
      "\n",
      "harry,\n",
      "i wanted to be certain the lost apollo ten report really wasn’t an accident so i asked archives to search the mission papers in case the original report had been misfiled. they searched everything and couldn’t find it but then someone had a brainwave and checked the apollo eleven files. to everyone’s relief they found it there and the archivist reckoned that someone got distracted. with the volume of mission papers they are handling this is not a surprise, but given the importance of these documents it is a bit alarming and doesn’t feel like the way nasa usually does things. anyway, the find should have reassured me, and it would have if i hadn’t looked so carefully at the file. everything looked fine except that the word injection in the penultimate paragraph was spelt with an i. you may not be surprised, but if you look at the decrypt of the mangled version it is misspelt lnjection, with an l replacing the i.\n",
      "i wouldn’t have noticed but i had decrypted the original by hand and was surprised by the typo. it stuck in my mind so when i saw the filed version without it that rang alarm bells. once we started investigating we locked up the computer files so i can only assume that the filed version was transcribed by someone who now has access to the printed version but who doesn’t have the clearance to access the original. the question is, why would they produce a new version? i can only think that they wanted to head off more investigation by giving us a reason to think it was all a mistake after all. if that was the plan then it hasn’t worked. it seems clear to me that someone really does have something to hide.\n",
      "i checked the security clearance list and there were two hundred and thirty-seven people with access to the archive room where we are storing the investigation files who do not also have current access to those computer files. of those, one hundred and eighteen did have terminal access before we closed it down, so the suspect list is shrinking, which i suppose is something, but i would prefer to narrow it down a bit more. with the launch of apollo twelve coming up next month the mood is getting tense and i would really like to make sure our mischief maker doesn’t have any more surprises in store.\n",
      "to make matters worse i heard that the hawks at the pentagon are getting restless. could you get over there and find out what they are thinking? given that our tormentor seems to have pretty high-level access, maybe you could crank up the security on our comms? maybe a keyword cipher blocked as standard?\n",
      "meg\n",
      "\n"
     ]
    }
   ],
   "source": [
    "# \"Guestion\" G=q\n",
    "# \"neOt\" O=x\n",
    "# \"it is misspelt lnYection, with an l replacing the i\" Y=j\n",
    "# \"Q\" must be \"z\"\n",
    "decode1(message, \"blmnopqrstuvwfxyzeacdghijk\")"
   ]
  },
  {
   "cell_type": "code",
   "execution_count": 10,
   "metadata": {},
   "outputs": [
    {
     "name": "stdout",
     "output_type": "stream",
     "text": [
      "\n",
      "Harry,\n",
      "I wanted to be certain the lost Apollo Ten report really wasn’t an accident so I asked archives to search the mission papers in case the original report had been misfiled. They searched everything and couldn’t find it but then someone had a brainwave and checked the Apollo eleven files. To everyone’s relief they found it there and the archivist reckoned that someone got distracted. With the volume of mission papers they are handling this is not a surprise, but given the importance of these documents it is a bit alarming and doesn’t feel like the way NASA usually does things. Anyway, the find should have reassured me, and it would have if I hadn’t looked so carefully at the file. Everything looked fine except that the word Injection in the penultimate paragraph was spelt with an I. You may not be surprised, but if you look at the decrypt of the mangled version it is misspelt lnjection, with an l replacing the I.\n",
      "I wouldn’t have noticed but I had decrypted the original by hand and was surprised by the typo. It stuck in my mind so when I saw the filed version without it that rang alarm bells. Once we started investigating we locked up the computer files so I can only assume that the filed version was transcribed by someone who now has access to the printed version but who doesn’t have the clearance to access the original. The question is, why would they produce a new version? I can only think that they wanted to head off more investigation by giving us a reason to think it was all a mistake after all. If that was the plan then it hasn’t worked. It seems clear to me that someone really does have something to hide.\n",
      "I checked the security clearance list and there were two hundred and thirty-seven people with access to the archive room where we are storing the investigation files who do not also have current access to those computer files. Of those, one hundred and eighteen did have terminal access before we closed it down, so the suspect list is shrinking, which I suppose is something, but I would prefer to narrow it down a bit more. With the launch of Apollo Twelve coming up next month the mood is getting tense and I would really like to make sure our mischief maker doesn’t have any more surprises in store.\n",
      "To make matters worse I heard that the hawks at the Pentagon are getting restless. Could you get over there and find out what they are thinking? Given that our tormentor seems to have pretty high-level access, maybe you could crank up the security on our comms? Maybe a keyword cipher blocked as standard?\n",
      "Meg\n",
      "\n"
     ]
    }
   ],
   "source": [
    "# That looks good.\n",
    "# Let's write another decode function that preserves the case of the letters\n",
    "def decode2(text, key):\n",
    "    table = str.maketrans(string.ascii_letters, key.lower()+key.upper())\n",
    "    print(text.translate(table))\n",
    "\n",
    "# Then run it with the discovered key:\n",
    "decode2(message, \"blmnopqrstuvwfxyzeacdghijk\")"
   ]
  },
  {
   "cell_type": "markdown",
   "metadata": {},
   "source": [
    "### Postscript\n",
    "Looking at the key:\n",
    "<pre>ABCDEFGHIJKLMNOPQRSTUVWXYZ\n",
    "blmnopqrstuvwfxyzeacdghijk</pre>\n",
    "\n",
    "The key appears to be a shift with letters a-g out of place.\n",
    "Letters a-g correspond to SATURNV, so that was the codeword used!"
   ]
  },
  {
   "cell_type": "code",
   "execution_count": null,
   "metadata": {},
   "outputs": [],
   "source": []
  }
 ],
 "metadata": {
  "kernelspec": {
   "display_name": "Python 3",
   "language": "python",
   "name": "python3"
  },
  "language_info": {
   "codemirror_mode": {
    "name": "ipython",
    "version": 3
   },
   "file_extension": ".py",
   "mimetype": "text/x-python",
   "name": "python",
   "nbconvert_exporter": "python",
   "pygments_lexer": "ipython3",
   "version": "3.7.4"
  }
 },
 "nbformat": 4,
 "nbformat_minor": 4
}
