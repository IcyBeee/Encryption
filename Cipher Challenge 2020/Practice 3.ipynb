{
 "cells": [
  {
   "cell_type": "markdown",
   "metadata": {},
   "source": [
    "# 2020 Coronavirus distraction challenge 2020\n",
    "## Practice 3\n",
    "Challenge link https://www.cipherchallenge.org/challenge/practice-challenge-3/"
   ]
  },
  {
   "cell_type": "code",
   "execution_count": 2,
   "metadata": {},
   "outputs": [],
   "source": [
    "message3a=\"\"\"SPDDN,\n",
    "T BZY'G GSTYV GSTF TF PRZHG PWOSLXN. GSL LYLDMN PYB DPJ XPGLDTPWF DLCHTDLB GZ ADZBHOL IPWHPRWL LWLXLYGF PDL EPD GZZ LKALYFTIL GZ XPVL GSTF ADPOGTOPW, PYB YZ-ZYL VYZJF SZJ GZ BZ TG. TG TF AZFFTRWL GSPG BTL PWOSLXTFGLY PDL EZOHFFLB ZY GSTF, RHG TE FZ GSLN PDL YZ GSDLPG GZ PYNZYL PG GSL XZXLYG. GSPG BZLFY'G XLPY JL SPIL YZGSTYM GZ JZDDN PRZHG. GSL APGLYG ETWLB RN WLZ FQTWPDB JPF EZD P ADZGZGNAL YHOWLPD DLPOGZD. FQTWPDB TF PY LYMTYLLD PYB ASNFTOTFG, PYB FPJ OZOVDZEG'F OWPTX GSPG GSL YHOWLPD GDPYFXHGPGTZY DLPOGTZY OZHWB YZG NTLWB LYLDMN \"ZY PY LYMTYLLDTYM FOPWL\" PF P OSPWWLYML GZ RL RLPGLY. GDPYFXHGPGTZY ZOOHDF JSLY PY PGZX TF STG RN PY LYLDMLGTO YLHGDZY, PYB STF TBLP JPF GZ GDTMMLD P ADZOLFF HFTYM WTMSGLD LWLXLYGF GSPG ADZBHOL P WZG ZE YLHGDZYF PF JLWW PF LYLDMN JSLY STG, FZ GSPG GSL ADZOLFF TF FLWE-FHFGPTYTYM. FZ EPD, STF PGGLXAGF GZ HFL LWLXLYGF WTVL RLDNWWTHX PYB TYBTHX SPIL RLLY HYFHOOLFFEHW, RHG TY GSL WPFG NLPD SPSY PYB FGDPFFXPY FHOOLLBLB JSLDL SL EPTWLB, HFTYM HDPYTHX, PYB TG TF AZFFTRWL GSPG GSTF OZHWB WLPB GZ P ADPOGTOPW LYLDMN MLYLDPGTZY ADZOLFF. TE GSPG TF JSPG BTL PWOSLXTFGLY PDL JZDVTYM ZY GSLY JL SPIL P XHOS RTMMLD ADZRWLX. YHOWLPD ADZOLFFLF NTLWB P XTWWTZY GTXLF XZDL LYLDMN EZD LPOS MDPX ZE EHLW GSPY GSL OHDDLYG OSLXTOPW DLPOGTZYF WTVL RHDYTYM OZPW, PYB TE GSL YPQTF OZHWB SPDYLFF GSPG GSLY GSLTD FGLLW PYB PWHXTYTHX ADZBHOGTZY JZHWB XPFFTILWN TYODLPFL MTITYM GSLX P SHML PBIPYGPML TY JPD. JL BZY'G VYZJ SZJ EPD GSLN SPIL MZG JTGS GSTF GLOSYZWZMN, RHG T GSTYV JL FSZHWB PFFHXL GSPG GSLN PDL PSLPB ZE HF PYB GDN GZ ETYB ZHG SZJ EPD.\"\"\""
   ]
  },
  {
   "cell_type": "code",
   "execution_count": 3,
   "metadata": {},
   "outputs": [
    {
     "name": "stdout",
     "output_type": "stream",
     "text": [
      "harry,\n",
      "T BZY't thTYV thTF TF aRZHt aWOheXy. the eYerMy aYB raJ XaterTaWF reCHTreB tZ ArZBHOe IaWHaRWe eWeXeYtF are Ear tZZ eKAeYFTIe tZ XaVe thTF AraOtTOaW, aYB YZ-ZYe VYZJF hZJ tZ BZ Tt. Tt TF AZFFTRWe that BTe aWOheXTFteY are EZOHFFeB ZY thTF, RHt TE FZ they are YZ threat tZ aYyZYe at the XZXeYt. that BZeFY't XeaY Je haIe YZthTYM tZ JZrry aRZHt. the AateYt ETWeB Ry WeZ FQTWarB JaF EZr a ArZtZtyAe YHOWear reaOtZr. FQTWarB TF aY eYMTYeer aYB AhyFTOTFt, aYB FaJ OZOVrZEt'F OWaTX that the YHOWear traYFXHtatTZY reaOtTZY OZHWB YZt yTeWB eYerMy \"ZY aY eYMTYeerTYM FOaWe\" aF a OhaWWeYMe tZ Re ReateY. traYFXHtatTZY ZOOHrF JheY aY atZX TF hTt Ry aY eYerMetTO YeHtrZY, aYB hTF TBea JaF tZ trTMMer a ArZOeFF HFTYM WTMhter eWeXeYtF that ArZBHOe a WZt ZE YeHtrZYF aF JeWW aF eYerMy JheY hTt, FZ that the ArZOeFF TF FeWE-FHFtaTYTYM. FZ Ear, hTF atteXAtF tZ HFe eWeXeYtF WTVe ReryWWTHX aYB TYBTHX haIe ReeY HYFHOOeFFEHW, RHt TY the WaFt year hahY aYB FtraFFXaY FHOOeeBeB Jhere he EaTWeB, HFTYM HraYTHX, aYB Tt TF AZFFTRWe that thTF OZHWB WeaB tZ a AraOtTOaW eYerMy MeYeratTZY ArZOeFF. TE that TF Jhat BTe aWOheXTFteY are JZrVTYM ZY theY Je haIe a XHOh RTMMer ArZRWeX. YHOWear ArZOeFFeF yTeWB a XTWWTZY tTXeF XZre eYerMy EZr eaOh MraX ZE EHeW thaY the OHrreYt OheXTOaW reaOtTZYF WTVe RHrYTYM OZaW, aYB TE the YaQTF OZHWB harYeFF that theY theTr FteeW aYB aWHXTYTHX ArZBHOtTZY JZHWB XaFFTIeWy TYOreaFe MTITYM theX a hHMe aBIaYtaMe TY Jar. Je BZY't VYZJ hZJ Ear they haIe MZt JTth thTF teOhYZWZMy, RHt T thTYV Je FhZHWB aFFHXe that they are aheaB ZE HF aYB try tZ ETYB ZHt hZJ Ear.\n"
     ]
    }
   ],
   "source": [
    "# Well, that's obviously another substitution cipher addressed to Harry...\n",
    "# There are a lot of \"GSL\" words in there, and I already know that S=h - so try them as \"the\"\n",
    "import string\n",
    "\n",
    "# A simple translation method.\n",
    "# text: The text to translate, in upper case\n",
    "# key: A substitution alphabet, usually in lower case so that the translated characters show up\n",
    "def decode(text, key):\n",
    "    table = str.maketrans(string.ascii_uppercase, key)\n",
    "    print(text.upper().translate(table))\n",
    "\n",
    "decode(message3a, \"ABCrEFtHIJKeMyOaQRhTUVWXYZ\")"
   ]
  },
  {
   "cell_type": "code",
   "execution_count": 4,
   "metadata": {},
   "outputs": [
    {
     "name": "stdout",
     "output_type": "stream",
     "text": [
      "harry,\n",
      "i BoY't thiYV this is aRoHt aWOheXy. the eYerMy aYB raw XateriaWs reCHireB to AroBHOe vaWHaRWe eWeXeYts are Ear too eKAeYsive to XaVe this AraOtiOaW, aYB Yo-oYe VYows how to Bo it. it is AossiRWe that Bie aWOheXisteY are EoOHsseB oY this, RHt iE so they are Yo threat to aYyoYe at the XoXeYt. that BoesY't XeaY we have YothiYM to worry aRoHt. the AateYt EiWeB Ry Weo sQiWarB was Eor a ArototyAe YHOWear reaOtor. sQiWarB is aY eYMiYeer aYB AhysiOist, aYB saw OoOVroEt's OWaiX that the YHOWear traYsXHtatioY reaOtioY OoHWB Yot yieWB eYerMy \"oY aY eYMiYeeriYM sOaWe\" as a OhaWWeYMe to Re ReateY. traYsXHtatioY oOOHrs wheY aY atoX is hit Ry aY eYerMetiO YeHtroY, aYB his iBea was to triMMer a AroOess HsiYM WiMhter eWeXeYts that AroBHOe a Wot oE YeHtroYs as weWW as eYerMy wheY hit, so that the AroOess is seWE-sHstaiYiYM. so Ear, his atteXAts to Hse eWeXeYts WiVe ReryWWiHX aYB iYBiHX have ReeY HYsHOOessEHW, RHt iY the Wast year hahY aYB strassXaY sHOOeeBeB where he EaiWeB, HsiYM HraYiHX, aYB it is AossiRWe that this OoHWB WeaB to a AraOtiOaW eYerMy MeYeratioY AroOess. iE that is what Bie aWOheXisteY are worViYM oY theY we have a XHOh RiMMer AroRWeX. YHOWear AroOesses yieWB a XiWWioY tiXes Xore eYerMy Eor eaOh MraX oE EHeW thaY the OHrreYt OheXiOaW reaOtioYs WiVe RHrYiYM OoaW, aYB iE the YaQis OoHWB harYess that theY their steeW aYB aWHXiYiHX AroBHOtioY woHWB XassiveWy iYOrease MiviYM theX a hHMe aBvaYtaMe iY war. we BoY't VYow how Ear they have Mot with this teOhYoWoMy, RHt i thiYV we shoHWB assHXe that they are aheaB oE Hs aYB try to EiYB oHt how Ear.\n"
     ]
    }
   ],
   "source": [
    "# \"T\", \"thTF\" -> T=i, F=s\n",
    "# \"tZ\", \"tZZ\" -> Z=o\n",
    "# \"Jhat\" -> J=w\n",
    "# \"they haIe\" -> I=v\n",
    "decode(message3a, \"ABCrEstHvwKeMyOaQRhiUVWXYo\")"
   ]
  },
  {
   "cell_type": "code",
   "execution_count": 6,
   "metadata": {},
   "outputs": [
    {
     "name": "stdout",
     "output_type": "stream",
     "text": [
      "harry,\n",
      "i don't think this is about alchemy. the enerMy and raw materials reCuired to produce valuable elements are Ear too eKpensive to make this practical, and no-one knows how to do it. it is possible that die alchemisten are Eocussed on this, but iE so they are no threat to anyone at the moment. that doesn't mean we have nothinM to worry about. the patent Eiled by leo sQilard was Eor a prototype nuclear reactor. sQilard is an enMineer and physicist, and saw cockroEt's claim that the nuclear transmutation reaction could not yield enerMy \"on an enMineerinM scale\" as a challenMe to be beaten. transmutation occurs when an atom is hit by an enerMetic neutron, and his idea was to triMMer a process usinM liMhter elements that produce a lot oE neutrons as well as enerMy when hit, so that the process is selE-sustaininM. so Ear, his attempts to use elements like beryllium and indium have been unsuccessEul, but in the last year hahn and strassman succeeded where he Eailed, usinM uranium, and it is possible that this could lead to a practical enerMy Meneration process. iE that is what die alchemisten are workinM on then we have a much biMMer problem. nuclear processes yield a million times more enerMy Eor each Mram oE Euel than the current chemical reactions like burninM coal, and iE the naQis could harness that then their steel and aluminium production would massively increase MivinM them a huMe advantaMe in war. we don't know how Ear they have Mot with this technoloMy, but i think we should assume that they are ahead oE us and try to Eind out how Ear.\n"
     ]
    }
   ],
   "source": [
    "# \"i BoY't thiYV this aRoHt\" -> B=d, Y=n, V=k, R=b, H=u\n",
    "# \"AossiRWe\" -> A=p, W=l\n",
    "# \"aWOheXisteY\" -> O=c, X=m\n",
    "decode(message3a, \"pdCrEstuvwKeMycaQbhiUklmno\")"
   ]
  },
  {
   "cell_type": "code",
   "execution_count": 7,
   "metadata": {},
   "outputs": [
    {
     "name": "stdout",
     "output_type": "stream",
     "text": [
      "harry,\n",
      "i don't think this is about alchemy. the energy and raw materials required to produce valuable elements are far too expensive to make this practical, and no-one knows how to do it. it is possible that die alchemisten are focussed on this, but if so they are no threat to anyone at the moment. that doesn't mean we have nothing to worry about. the patent filed by leo sQilard was for a prototype nuclear reactor. sQilard is an engineer and physicist, and saw cockroft's claim that the nuclear transmutation reaction could not yield energy \"on an engineering scale\" as a challenge to be beaten. transmutation occurs when an atom is hit by an energetic neutron, and his idea was to trigger a process using lighter elements that produce a lot of neutrons as well as energy when hit, so that the process is self-sustaining. so far, his attempts to use elements like beryllium and indium have been unsuccessful, but in the last year hahn and strassman succeeded where he failed, using uranium, and it is possible that this could lead to a practical energy generation process. if that is what die alchemisten are working on then we have a much bigger problem. nuclear processes yield a million times more energy for each gram of fuel than the current chemical reactions like burning coal, and if the naQis could harness that then their steel and aluminium production would massively increase giving them a huge advantage in war. we don't know how far they have got with this technology, but i think we should assume that they are ahead of us and try to find out how far.\n"
     ]
    }
   ],
   "source": [
    "# \"enerMy\" -> M=g\n",
    "# \"reCuired\" -> C=q\n",
    "# \"Ear too eKpensive\" -> E=f, K=x\n",
    "decode(message3a, \"pdqrfstuvwxegycaQbhiUklmno\")"
   ]
  },
  {
   "cell_type": "code",
   "execution_count": 8,
   "metadata": {},
   "outputs": [
    {
     "name": "stdout",
     "output_type": "stream",
     "text": [
      "harry,\n",
      "i don't think this is about alchemy. the energy and raw materials required to produce valuable elements are far too expensive to make this practical, and no-one knows how to do it. it is possible that die alchemisten are focussed on this, but if so they are no threat to anyone at the moment. that doesn't mean we have nothing to worry about. the patent filed by leo szilard was for a prototype nuclear reactor. szilard is an engineer and physicist, and saw cockroft's claim that the nuclear transmutation reaction could not yield energy \"on an engineering scale\" as a challenge to be beaten. transmutation occurs when an atom is hit by an energetic neutron, and his idea was to trigger a process using lighter elements that produce a lot of neutrons as well as energy when hit, so that the process is self-sustaining. so far, his attempts to use elements like beryllium and indium have been unsuccessful, but in the last year hahn and strassman succeeded where he failed, using uranium, and it is possible that this could lead to a practical energy generation process. if that is what die alchemisten are working on then we have a much bigger problem. nuclear processes yield a million times more energy for each gram of fuel than the current chemical reactions like burning coal, and if the nazis could harness that then their steel and aluminium production would massively increase giving them a huge advantage in war. we don't know how far they have got with this technology, but i think we should assume that they are ahead of us and try to find out how far.\n"
     ]
    }
   ],
   "source": [
    "# \"naQis\" -> Q=z\n",
    "# That leaves U=j\n",
    "decode(message3a, \"pdqrfstuvwxegycazbhijklmno\")"
   ]
  },
  {
   "cell_type": "code",
   "execution_count": 9,
   "metadata": {},
   "outputs": [
    {
     "name": "stdout",
     "output_type": "stream",
     "text": [
      "problemstuvwxyzacdfghijknq\n"
     ]
    }
   ],
   "source": [
    "import string\n",
    "\n",
    "# Attempts to determine the keyword used for a substition cipher\n",
    "# alphabet: The substitution alphabet\n",
    "def decode_key(alphabet):\n",
    "    for letter in string.ascii_lowercase:\n",
    "        print(chr(alphabet.find(letter) + ord(\"a\")), end=\"\")\n",
    "    print()\n",
    "\n",
    "decode_key(\"pdqrfstuvwxegycazbhijklmno\")"
   ]
  },
  {
   "cell_type": "code",
   "execution_count": 12,
   "metadata": {},
   "outputs": [],
   "source": [
    "message3b=\"\"\"CSTW, T BX SABETYI HZ GMAEAY HZ GCABV MTHS WTGA XATHYAF. GSA MBG CBFH ZL HSA HABX MSZ GCWTH HSA BHZX BYE HZIAHSAF MTHS LFTGRS SBG MZFVAE ZJH HSA EAHBTWG ZL SZM TH MZFVG. GSA TG B OFTWWTBYH RSAXTGH BG MAWW BG B CSPGTRTGH BYE T BX SZCTYI GSA RBY GSAE GZXA WTISH ZY SZM WTVAWP TH TG HSBH HSBH ETA BWRSAXTGHAY RZJWE EAKAWZC B YJRWABF CZMAF IAYAFBHTZY GPGHAX LFZX HSA CFZRAGG.\n",
    "ZY HSA MBP OBRV, T CWBY HZ BWGZ KTGTH GZXA CAZCWA T VYZM TY YZFMBP. B YAM CZMAF GZJFRA MTWW OA ZL YZ JGA HZ HSA YBQTG MTHSZJH HSA FBM XBHAFTBWG LZF XBYJLBRHJFTYI, BYE B WZH ZL HSA XBUZF OBJNTHA GXAWHAFG TY AJFZCA BFA OBGAE TY HSA RZJYHFP. AKAY MTHSZJH B YAM GZJFRA ZL CZMAF HSA IAFXBY XTWTHBFP CWBYYAFG MTWW SBKA HSATF APA ZY GJCCWP WTYAG BYE HSA YZFMAITBY BWJXTYTJX RZXCBYTAG XJGH OA ZYA ZL HSATF CFTXA HBFIAHG. T HSZJISH T MZJWE EFZC TY BYE HFP HZ IAH B GAYGA ZL SZM MAWW EALAYEAE HSAGA CWBRAG BFA. HSAFA XBP BWFABEP SBKA OAAY BCCFZBRSAG LFZX IAFXBYP BG CBFH ZL HSATF BFXG OJTWE-JC BYE TH MZJWE OA IZZE HZ VYZM HSBH HZZ. TL HSA MZFGH SBCCAYG BYE YZFMBP TG TYKBEAE, HSAY T MBYH HZ SBKA GZXA BIAYHG BWFABEP AXOAEEAE TY HSA YBHTZYBW TYLFBGHFJRHJFA BYE MA YAAE HZ HSTYV BOZJH SZM MA MZJWE GARJFA RZXXJYTRBHTZYG TY BY ZRRJCTAE RZJYHFP. TL PZJ ZF HSA BIAYRP SBKA BYP RZYHBRHG HSAFA HSAY WAH XA VYZM. MTHS B WTHHWA WJRV T XBP AKAY IAH HZ GAA HSA YZFHSAFY WTISHG MSTWA T BX HSAFA.\"\"\""
   ]
  },
  {
   "cell_type": "code",
   "execution_count": 13,
   "metadata": {},
   "outputs": [
    {
     "name": "stdout",
     "output_type": "stream",
     "text": [
      "phil, i BX heBEiYI tZ GMeEeY tZ GpeBk Mith liGe XeitYeF. Ghe MBG pBFt ZL the teBX MhZ Gplit the BtZX BYE tZIetheF Mith LFiGRh hBG MZFkeE ZJt the EetBilG ZL hZM it MZFkG. Ghe iG B OFilliBYt RheXiGt BG Mell BG B phPGiRiGt BYE i BX hZpiYI Ghe RBY GheE GZXe liIht ZY hZM likelP it iG thBt thBt Eie BlRheXiGteY RZJlE EeKelZp B YJRleBF pZMeF IeYeFBtiZY GPGteX LFZX the pFZReGG.\n",
      "ZY the MBP OBRk, i plBY tZ BlGZ KiGit GZXe peZple i kYZM iY YZFMBP. B YeM pZMeF GZJFRe Mill Oe ZL YZ JGe tZ the YBQiG MithZJt the FBM XBteFiBlG LZF XBYJLBRtJFiYI, BYE B lZt ZL the XBjZF OBJNite GXelteFG iY eJFZpe BFe OBGeE iY the RZJYtFP. eKeY MithZJt B YeM GZJFRe ZL pZMeF the IeFXBY XilitBFP plBYYeFG Mill hBKe theiF ePe ZY GJpplP liYeG BYE the YZFMeIiBY BlJXiYiJX RZXpBYieG XJGt Oe ZYe ZL theiF pFiXe tBFIetG. i thZJIht i MZJlE EFZp iY BYE tFP tZ Iet B GeYGe ZL hZM Mell EeLeYEeE theGe plBReG BFe. theFe XBP BlFeBEP hBKe OeeY BppFZBRheG LFZX IeFXBYP BG pBFt ZL theiF BFXG OJilE-Jp BYE it MZJlE Oe IZZE tZ kYZM thBt tZZ. iL the MZFGt hBppeYG BYE YZFMBP iG iYKBEeE, theY i MBYt tZ hBKe GZXe BIeYtG BlFeBEP eXOeEEeE iY the YBtiZYBl iYLFBGtFJRtJFe BYE Me YeeE tZ thiYk BOZJt hZM Me MZJlE GeRJFe RZXXJYiRBtiZYG iY BY ZRRJpieE RZJYtFP. iL PZJ ZF the BIeYRP hBKe BYP RZYtBRtG theFe theY let Xe kYZM. Mith B little lJRk i XBP eKeY Iet tZ Gee the YZFtheFY liIhtG Mhile i BX theFe.\n"
     ]
    }
   ],
   "source": [
    "# I'm guessing this message is addressed to Phil -> C=p, S=h, T=i, W=l\n",
    "# \"HSA\" might be \"the\" -> H=t, A=e\n",
    "# There's a 2 letter gap between \"i\" and \"l\", so I'll guess that U=j and V=k\n",
    "decode(message3b, \"eBpDEFGtIJKLMNOPQRhijklXYZ\")"
   ]
  },
  {
   "cell_type": "code",
   "execution_count": 14,
   "metadata": {},
   "outputs": [
    {
     "name": "stdout",
     "output_type": "stream",
     "text": [
      "phil, i am heaEinI to sweEen to speak with lise meitneF. she was paFt oL the team who split the atom anE toIetheF with LFisch has woFkeE out the Eetails oL how it woFks. she is a OFilliant chemist as well as a phPsicist anE i am hopinI she can sheE some liIht on how likelP it is that that Eie alchemisten coulE EeKelop a nucleaF poweF IeneFation sPstem LFom the pFocess.\n",
      "on the waP Oack, i plan to also Kisit some people i know in noFwaP. a new poweF souFce will Oe oL no use to the naQis without the Faw mateFials LoF manuLactuFinI, anE a lot oL the majoF OauNite smelteFs in euFope aFe OaseE in the countFP. eKen without a new souFce oL poweF the IeFman militaFP planneFs will haKe theiF ePe on supplP lines anE the noFweIian aluminium companies must Oe one oL theiF pFime taFIets. i thouIht i woulE EFop in anE tFP to Iet a sense oL how well EeLenEeE these places aFe. theFe maP alFeaEP haKe Oeen appFoaches LFom IeFmanP as paFt oL theiF aFms OuilE-up anE it woulE Oe IooE to know that too. iL the woFst happens anE noFwaP is inKaEeE, then i want to haKe some aIents alFeaEP emOeEEeE in the national inLFastFuctuFe anE we neeE to think aOout how we woulE secuFe communications in an occupieE countFP. iL Pou oF the aIencP haKe anP contacts theFe then let me know. with a little luck i maP eKen Iet to see the noFtheFn liIhts while i am theFe.\n"
     ]
    }
   ],
   "source": [
    "# \"tZ GpeBk Mith\" -> Z=o, G=s, B=a, M=w\n",
    "# \"Mith B little lJRk\" -> J=u, R=c\n",
    "# Guess that X=m and Y=n, filling the pattern at the end\n",
    "decode(message3b, \"eapDEFstIuKLwNOPQchijklmno\")"
   ]
  },
  {
   "cell_type": "code",
   "execution_count": 20,
   "metadata": {},
   "outputs": [
    {
     "name": "stdout",
     "output_type": "stream",
     "text": [
      "phil, i am heading to sweden to speak with lise meitner. she was part of the team who split the atom and together with frisch has worked out the details of how it works. she is a brilliant chemist as well as a physicist and i am hoping she can shed some light on how likely it is that that die alchemisten could develop a nuclear power generation system from the process.\n",
      "on the way back, i plan to also visit some people i know in norway. a new power source will be of no use to the nazis without the raw materials for manufacturing, and a lot of the major bauxite smelters in europe are based in the country. even without a new source of power the german military planners will have their eye on supply lines and the norwegian aluminium companies must be one of their prime targets. i thought i would drop in and try to get a sense of how well defended these places are. there may already have been approaches from germany as part of their arms build-up and it would be good to know that too. if the worst happens and norway is invaded, then i want to have some agents already embedded in the national infrastructure and we need to think about how we would secure communications in an occupied country. if you or the agency have any contacts there then let me know. with a little luck i may even get to see the northern lights while i am there.\n"
     ]
    }
   ],
   "source": [
    "# \"i am heaEinI to sweEen to speak with lise meitneF\" -> E=d, I=g, F=r\n",
    "# \"toIetheF\" -> I=g\n",
    "# \"oL how it woFks\" -> L=f\n",
    "# \"OFilliant chemist as well as a phPsicist\" -> O=b, P=y\n",
    "# \"EeKelop\" -> K=v\n",
    "# \"naQis\" -> Q=z\n",
    "# \"OauNite\" -> N=x\n",
    "# Which leaves D=q\n",
    "decode(message3b, \"eapqdrstguvfwxbyzchijklmno\")"
   ]
  },
  {
   "cell_type": "code",
   "execution_count": 21,
   "metadata": {},
   "outputs": [
    {
     "name": "stdout",
     "output_type": "stream",
     "text": [
      "borealistuvwxyzcdfghjkmnpq\n"
     ]
    }
   ],
   "source": [
    "decode_key(\"eapqdrstguvfwxbyzchijklmno\")"
   ]
  },
  {
   "cell_type": "code",
   "execution_count": null,
   "metadata": {},
   "outputs": [],
   "source": []
  }
 ],
 "metadata": {
  "kernelspec": {
   "display_name": "Python 3",
   "language": "python",
   "name": "python3"
  },
  "language_info": {
   "codemirror_mode": {
    "name": "ipython",
    "version": 3
   },
   "file_extension": ".py",
   "mimetype": "text/x-python",
   "name": "python",
   "nbconvert_exporter": "python",
   "pygments_lexer": "ipython3",
   "version": "3.8.0"
  }
 },
 "nbformat": 4,
 "nbformat_minor": 4
}
