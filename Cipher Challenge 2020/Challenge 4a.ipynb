{
 "cells": [
  {
   "cell_type": "markdown",
   "metadata": {},
   "source": [
    "# Coronavirus distraction cipher challenge 2020\n",
    "## Challenge 4a\n",
    "Challenge link https://www.cipherchallenge.org/challenge/competition-challenge-4/"
   ]
  },
  {
   "cell_type": "code",
   "execution_count": 3,
   "metadata": {},
   "outputs": [],
   "source": [
    "message4a=\"\"\"BTUXY KHUEU FFAYQ UFZQD ESDAG BIMEH QDKUZ FQDQE FUZSM ZPBMU PARRU ZMZGZ QJBQO FQPIM KMEKA GEGEB QOFQP ZGOXQ MDQZQ DSKTM EEQDU AGEBA FQZFU MXMZP FTQDQ MDQMZ GYNQD ARSDA GBEIA DWUZS FADQM XUEQF TMFAZ QARYQ UFZQD EOAXX MNADM FADET MENQQ ZUZOA ZFMOF IUFTM SDAGB ARPUE EUPQZ FSQDY MZEOU QZFUE FEOXA EQFAQ UZEFQ UZMZP FTQKT MHQNQ QZBME EUZSU ZFQXX USQZO QOAZO QDZUZ SFTQZ MLUZG OXQMD BDASD MYYQF AFTQE IQPUE TFQMY ITUXQ UIMEF TQDQA ZQARF TQUDO AZFMO FEUZN QDXUZ EYGSS XQPAG FMOAB KARMX QFFQD EQZFN KFTQE OUQZF UEFEV AAEMZ PTMZX QFAIU XTQXY PMYQE MFFTQ DQUOT EQDLU QTGZS EYUZU EFQDU GYUFA GFXUZ QEFTQ BAFQZ FUMXY UXUFM DKMBB XUOMF UAZEA RZGOX QMDQZ QDSKM ZPMBB MDQZF XKFTQ YUZUE FQDIM EEAUY BDQEE QPNKU FEOAZ FQZFE FTMFI UFTUZ MIQQW TQTMP OAZHQ ZQPMF ABXQH QXSDA GBFAP QHQXA BFTQU PQMEI UFTUZ UFFTQ NAEEF QMYUZ NQDXU ZTMHQ DMYBQ PGBYA ZUFAD UZSAR OAYYG ZUOMF UAZEF AMZPR DAYFT QYUZU EFDKM ZPFTQ YAEFB DAYUE UZSXQ MPUEF TQMFF MOTQP YQYAF TQQZH QXABQ IMEYM DWQPP UQMXO TQYUE FQZUM YZAFE GDQTA IRDQQ KAGMD QFAFD MHQXN GFUTM HQFAY QQFGB IUFTY KZQIZ ADIQS UMZRD UQZPE MZPFT QZTQM PNMOW FAQZS XMZPO AGXPK AGYAH QKAGD NMEQF ARDMZ OQMZP YMWQO AZFMO FIUFT EAYQA RAGDM XXUQE UFTUZ WIQET AGXPA BQZPU EOGEE UAZEI UFTFT QRDQZ OTYUZ UEFQD ARMDY MYQZF EIQMD QSAUZ SFAZQ QPTUE TQXBT MDDK\"\"\""
   ]
  },
  {
   "cell_type": "code",
   "execution_count": 4,
   "metadata": {},
   "outputs": [
    {
     "name": "stdout",
     "output_type": "stream",
     "text": [
      "Q: 139 (13.19%) F: 98 (9.30%) Z: 89 (8.44%) U: 86 (8.16%) M: 80 (7.59%)\n",
      "A: 77 (7.31%) E: 70 (6.64%) D: 58 (5.50%) T: 50 (4.74%) Y: 38 (3.61%)\n",
      "X: 37 (3.51%) P: 34 (3.23%) O: 32 (3.04%) G: 29 (2.75%) B: 27 (2.56%)\n",
      "S: 22 (2.09%) I: 21 (1.99%) K: 18 (1.71%) R: 16 (1.52%) N: 12 (1.14%)\n",
      "H: 11 (1.04%) W:  6 (0.57%) L:  2 (0.19%) J:  1 (0.09%) V:  1 (0.09%)\n",
      "\n",
      "-----\n"
     ]
    }
   ],
   "source": [
    "# OK - it's arranged in blocks, so it's probably not a straight substitution.\n",
    "# Let's try frequency analysis anyway..\n",
    "from collections import Counter\n",
    "\n",
    "# Takes a string or list of items and counts the frequencies of those items\n",
    "# data: The list or string to analyse\n",
    "# max_values: The maximum number of values to display (set to None for no limit)\n",
    "# no_columns: The amount of columns to use in the output\n",
    "def frequency_analysis(data, max_values=30, no_columns=5):\n",
    "    frequencies = Counter()\n",
    "    for item in data:\n",
    "        frequencies[item] += 1\n",
    "    \n",
    "    total = sum(frequencies.values())\n",
    "    column = 1\n",
    "    for item, frequency in frequencies.most_common(max_values):\n",
    "        print(f\"{item}: {frequency:2} ({frequency / total:.2%})\", end=\" \" if column % no_columns else \"\\n\")\n",
    "        column += 1\n",
    "    print(\"\\n-----\")\n",
    "    \n",
    "frequency_analysis(message4a.replace(\" \", \"\"))"
   ]
  },
  {
   "cell_type": "code",
   "execution_count": 5,
   "metadata": {},
   "outputs": [
    {
     "name": "stdout",
     "output_type": "stream",
     "text": [
      "BhUXYKHUEUttAYeUtZeDESDAGBIMEHeDKUZteDeEtUZSMZPBMUPARRUZMZGZeJBeOtePIMKMEKAGEGEBeOtePZGOXeMDeZeDSKhMEEeDUAGEBAteZtUMXMZPtheDeMDeMZGYNeDARSDAGBEIADWUZStADeMXUEethMtAZeARYeUtZeDEOAXXMNADMtADEhMENeeZUZOAZtMOtIUthMSDAGBARPUEEUPeZtSeDYMZEOUeZtUEtEOXAEetAeUZEteUZMZPtheKhMHeNeeZBMEEUZSUZteXXUSeZOeOAZOeDZUZStheZMLUZGOXeMDBDASDMYYetAtheEIePUEhteMYIhUXeUIMEtheDeAZeARtheUDOAZtMOtEUZNeDXUZEYGSSXePAGtMOABKARMXetteDEeZtNKtheEOUeZtUEtEVAAEMZPhMZXetAIUXheXYPMYeEMttheDeUOhEeDLUehGZSEYUZUEteDUGYUtAGtXUZeEtheBAteZtUMXYUXUtMDKMBBXUOMtUAZEARZGOXeMDeZeDSKMZPMBBMDeZtXKtheYUZUEteDIMEEAUYBDeEEePNKUtEOAZteZtEthMtIUthUZMIeeWhehMPOAZHeZePMtABXeHeXSDAGBtAPeHeXABtheUPeMEIUthUZUttheNAEEteMYUZNeDXUZhMHeDMYBePGBYAZUtADUZSAROAYYGZUOMtUAZEtAMZPRDAYtheYUZUEtDKMZPtheYAEtBDAYUEUZSXeMPUEtheMttMOhePYeYAtheeZHeXABeIMEYMDWePPUeMXOheYUEteZUMYZAtEGDehAIRDeeKAGMDetAtDMHeXNGtUhMHetAYeetGBIUthYKZeIZADIeSUMZRDUeZPEMZPtheZheMPNMOWtAeZSXMZPOAGXPKAGYAHeKAGDNMEetARDMZOeMZPYMWeOAZtMOtIUthEAYeARAGDMXXUeEUthUZWIeEhAGXPABeZPUEOGEEUAZEIUththeRDeZOhYUZUEteDARMDYMYeZtEIeMDeSAUZStAZeePhUEheXBhMDDK\n"
     ]
    }
   ],
   "source": [
    "# Actually, that looks promising  There are a few FTQs in there, so let's try that as \"the\"\n",
    "import string\n",
    "\n",
    "# A simple translation method.\n",
    "# text: The text to translate, in upper case\n",
    "# key: A substitution alphabet, usually in lower case so that the translated characters show up\n",
    "def decode(text, key):\n",
    "    table = str.maketrans(string.ascii_uppercase, key)\n",
    "    print(text.upper().translate(table))\n",
    "\n",
    "squished = message4a.replace(\" \", \"\")\n",
    "\n",
    "decode(squished, \"ABCDEtGHIJKLMNOPeRShUVWXYZ\")"
   ]
  },
  {
   "cell_type": "code",
   "execution_count": 6,
   "metadata": {},
   "outputs": [
    {
     "name": "stdout",
     "output_type": "stream",
     "text": [
      "philmyvisittomeitnersgroupwasveryinterestingandpaidoffinanunexpectedwayasyoususpectednuclearenergyhasseriouspotentialandthereareanumberofgroupsworkingtorealisethatoneofmeitnerscollaboratorshasbeenincontactwithagroupofdissidentgermanscientistsclosetoeinsteinandtheyhavebeenpassingintelligenceconcerningthenazinuclearprogrammetotheswedishteamwhileiwasthereoneoftheircontactsinberlinsmuggledoutacopyofalettersentbythescientistsjoosandhanletowilhelmdamesatthereichserziehungsministeriumitoutlinesthepotentialmilitaryapplicationsofnuclearenergyandapparentlytheministerwassoimpressedbyitscontentsthatwithinaweekhehadconvenedatoplevelgrouptodeveloptheideaswithinitthebossteaminberlinhaverampedupmonitoringofcommunicationstoandfromtheministryandthemostpromisingleadistheattachedmemotheenvelopewasmarkeddiealchemisteniamnotsurehowfreeyouaretotravelbutihavetomeetupwithmynewnorwegianfriendsandthenheadbacktoenglandcouldyoumoveyourbasetofranceandmakecontactwithsomeofouralliesithinkweshouldopendiscussionswiththefrenchministerofarmamentswearegoingtoneedhishelpharry\n"
     ]
    }
   ],
   "source": [
    "# Actually, that fits a Caesar cipher pattern...\n",
    "decode(squished, \"opqrstuvwxyzabcdefghijklmn\")"
   ]
  },
  {
   "cell_type": "markdown",
   "metadata": {},
   "source": [
    "### Edited version:\n",
    "Phil,\n",
    "My visit to Meitner's group was very interesting and paid off in an unexpected way. As you suspected, nuclear energy has serious potential and there are a number of groups working to realise that one of Meitner's collaborators has been in contact with a group of dissident German scientists close to Einstein and they have been passing intelligence concerning the Nazi nuclear programme to the Swedish team. While I was there, one of their contacts in Berlin smuggled out a copy of a letter sent by the scientists Joosandhanle to Wilhelm Dames at the Reichserziehungsministerium. It outlines the potential military applications of nuclear energy and apparently the minister was so impressed by its contents that within a week he had convened a top level group to develop the ideas within it. The BOSS team in Berlin have ramped up monitoring of communications to and from the ministry and the most promising lead is the attached memo. The envelope was marked \"Die Alchemisten\". I am not sure how free you are to travel, but I have to meet up with my new Norwegian friends and then head back to England. Could you move your base to France and make contact with some of our allies? I think we should open discussions with the French minister of armaments. We are going to need his help.\n",
    "Harry."
   ]
  }
 ],
 "metadata": {
  "kernelspec": {
   "display_name": "Python 3",
   "language": "python",
   "name": "python3"
  },
  "language_info": {
   "codemirror_mode": {
    "name": "ipython",
    "version": 3
   },
   "file_extension": ".py",
   "mimetype": "text/x-python",
   "name": "python",
   "nbconvert_exporter": "python",
   "pygments_lexer": "ipython3",
   "version": "3.8.0"
  }
 },
 "nbformat": 4,
 "nbformat_minor": 4
}
