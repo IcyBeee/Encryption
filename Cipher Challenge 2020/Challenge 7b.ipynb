{
 "cells": [
  {
   "cell_type": "markdown",
   "metadata": {},
   "source": [
    "# Coronavirus distraction Cipher Challenge 2020\n",
    "## Challenge 7b, Gunnerside\n",
    "Challenge link https://www.cipherchallenge.org/challenge/competition-challenge-7/"
   ]
  },
  {
   "cell_type": "code",
   "execution_count": 1,
   "metadata": {},
   "outputs": [],
   "source": [
    "message7b=\"\"\"ODBBY YZYKB XODZY XESQX XBONO SPCYK GBCVW YDPVK OGBFY BMOOS ECBQZ XVPCZ OBSWW OYRSD CMXCY YSDOX XSBKB BCNZY YXOLX XBOCW KQOCD DDDOE YYYZE TXGSD KGSCV RYORV DDGYW KGOCD ODPWK ODCBO BFKON YCVIP KBMCM CYYXC IEBUD SXKSQ NXRBK DZDOW SOIND KGYDC IFKWG UOBRY VDKSZ BOVNK YRBCN NOOMP EYORB DRWQO BSPAR ODIEM RXDGO KRODB RMRKD WCVLO KSDRY PCNVO YQXVS YGOSD ZKYBP RCXOW BXLOK RBDNZ CSOKQ XDQXX RSBXS OFOKF RDYBO OKOBW KWXSP NKOEX VKEVQ BIONX NKDNO WWRYK MNYBX QEYPD DZVRO DBSKN OKDKC MCEKD VEVYN GOBZL XYEEF SNDOM DNCSK OGSDN MORND KOKDW KRNVC ENYCN XOODM YNXGE BRNOD OOBWS DYCDR XBXSO FOKYR DPNOB SLBBO OFYNX VKMGS RDVLO WSXYR VDVOC BRKSP OOBNX KYRDQ MXRSB BOOFL SNKGO DCSYD NPXYE OCCLY SZVPY LDYOV CKVGS YQBDX OKVUN YMYCQ KKGBV ISXRD SYODV KDZXX KDXON ODRIM CBKKG BYNBO ESGYR DDESO EYDMX XOQXD SKBIB KXENQ DYVCO MRVCC KYKLO XSQDD XOXKR VDZES VCZOZ NSKND VONXK OVCZX RMKCO NEKCN OXVDK BNOSR SKZNQ BXINO DCDEK QYRDK DXDBS ERPBO MOMCK FMKCK KSVXE LDXOV GNOXS KNXOX GMYEB OYDSX QIVXX DYOOB RKDMU YTKBR OXGXK ORCKK ZYKDC SMSBD XYBSQ YOKGG YWXCB KDGXO KSRVD QVXYS YBOMZ KYOCO DRKDZ ZCZBV OMSWK NXOCR DOSDG WEPSN COCRD OXOYV BDOMY OIMCV SRCWC BKOKL ZXXCK OVDKI NOVRY DPCOK VRCZD WYYCK WXLME SEQRO XXDCO KRMDX ZYODB OFKRY DDORK GDCCS XKDKD MKLSB ULDIC BYSPM RCOZO YPRVR DEIKV GZVDV BSFBD OXOOB VKZCC SQCXK SDKRM YDVKO COOVR HDVFS ZCOYR OQMBC KOKXN YDDND COOBN IDQYX RSODM OOBVV CSYCO IEOWA ZXSKR DDNOX NOMKK XTCKB DYQDM LWOKO RCMOB RYDLN OWXDS KVSOG VWYVZ XCSGE DXDSY ZRQOD OBBEO DYCKZ KORWC KSSEY NQDXY NODGO CPHOX BPYVD KSBSD XWKYO LDSOR GVKVD VCNYY YYXSD YETGW RZDSS YODVQ KBMVV WSBGW SXOSX KVSOZ MXKRQ ODBSO XNXYO SZQDB XERPB DCOXB SMXYE SCD\"\"\""
   ]
  },
  {
   "cell_type": "code",
   "execution_count": 2,
   "metadata": {},
   "outputs": [
    {
     "name": "stdout",
     "output_type": "stream",
     "text": [
      "O: 161 (11.86%) D: 134 (9.87%) K: 114 (8.39%) X: 99 (7.29%) Y: 98 (7.22%)\n",
      "S: 90 (6.63%) B: 86 (6.33%) C: 83 (6.11%) R: 69 (5.08%) V: 66 (4.86%)\n",
      "N: 58 (4.27%) M: 42 (3.09%) Z: 38 (2.80%) E: 38 (2.80%) G: 34 (2.50%)\n",
      "W: 33 (2.43%) Q: 31 (2.28%) P: 23 (1.69%) L: 18 (1.33%) I: 17 (1.25%)\n",
      "F: 13 (0.96%) U:  5 (0.37%) T:  4 (0.29%) A:  2 (0.15%) H:  2 (0.15%)\n",
      "\n",
      "-----\n"
     ]
    }
   ],
   "source": [
    "from collections import Counter\n",
    "\n",
    "# Takes a string or list of items and counts the frequencies of those items\n",
    "# data: The list or string to analyse\n",
    "# max_values: The maximum number of values to display (set to None for no limit)\n",
    "# no_columns: The amount of columns to use in the output\n",
    "def frequency_analysis(data, max_values=30, no_columns=5):\n",
    "    frequencies = Counter()\n",
    "    for item in data:\n",
    "        frequencies[item] += 1\n",
    "    \n",
    "    total = sum(frequencies.values())\n",
    "    column = 1\n",
    "    for item, frequency in frequencies.most_common(max_values):\n",
    "        print(f\"{item}: {frequency:2} ({frequency / total:.2%})\", end=\" \" if column % no_columns else \"\\n\")\n",
    "        column += 1\n",
    "    print(\"\\n-----\")\n",
    "\n",
    "squished = message7b.replace(\" \", \"\")\n",
    "frequency_analysis(squished)"
   ]
  },
  {
   "cell_type": "code",
   "execution_count": 3,
   "metadata": {},
   "outputs": [
    {
     "name": "stdout",
     "output_type": "stream",
     "text": [
      "etrroopoarnetponuignnredeifsoawrslmotflaewrvorceeiusrgpnlfsperimmeohitscnsooitennirarrsdpoonebnnresmagestttteuooopujnwitawislhoehlttwomawestetfmaetsrervaedoslyfarcscsoonsyurktinaigdnhratptemieydtawotsyvamwkerholtaipreldaohrsddeecfuoehrthmgerifqhetyuchntweahetrhchatmslbeaithofsdleognlioweitpaorfhsnemrnbeahrtdpsieagntgnnhirnieveavhtoreeaermamnifdaeunlaulgryedndatdemmhoacdornguofttplhetriadeatascsuatlulodwerpbnouuvidtectdsiaewitdcehdtaeatmahdlsudosdneetcodnwurhdeteermitosthnrnieveaohtfderibrreevodnlacwihtlbeminohltlesrhaifeerdnaohtgcnhirreevbidawetsiotdfnouessboiplfobtoelsalwiogrtnealkdocosgaawrlyinhtioetlatpnnatnedethycsraawrodreuiwohttuieuotcnnegntiaryranudgtolsechlssaoabenigttnenahltpuilspepdiadtlednaelspnhcaseduasdenltardeihiapdgrnydetstuagohtatntriuhfrececsavcasaailnubtnelwdeniadnenwcoureotingylnntoeerhatckojarhenwnaehsaapoatsicirtnorigoeawwomnsratwneaihltglnoiorecpaoesethatppsprlecimadneshteitwmufidseshteneolrtecoeycslihsmsraeabpnnsaeltaydelhotfsealhsptmoosamnbcuiughenntseahctnpoetrevahottehawtssinatatcabirkbtysroifchsepeofhlhtuyalwpltlrivrteneerlapssigsnaitahcotlaeseelhxtlvipseohegcrsaeandottdtseerdytgonhietceerllsioseyuemqpniahttdendecaanjsartogtcbmeaehscerhotbdemntialiewlmolpnsiwutntiophgeterruetosapaehmsaiiuodgtnodetwesfxenrfoltairitnmaoebtiehwlaltlsdoooonitoujwmhptiioetlgarcllmirwmineinaliepcnahgetriendnoeipgtrnuhfrtsenricnouist\n"
     ]
    }
   ],
   "source": [
    "# The clue in part 7a says that this is \"a combination of Casear shift and basic transposition\"\n",
    "# So if we assume that O=e:\n",
    "# ABCDEFGHIJKLMNOPQRSTUVWXYZ\n",
    "# qrstuvwxyzabcdefghijklmnop\n",
    "# That makes D=t, K=a, X=n - which looks good.\n",
    "# Do the Caesar shift:\n",
    "\n",
    "import string\n",
    "\n",
    "# A simple translation method.\n",
    "# text: The text to translate, in upper case\n",
    "# key: A substitution alphabet, usually in lower case so that the translated characters show up\n",
    "def decode(text, key):\n",
    "    table = str.maketrans(string.ascii_uppercase, key)\n",
    "    print(text.upper().translate(table))\n",
    "\n",
    "    \n",
    "decode(squished, \"qrstuvwxyzabcdefghijklmnop\")"
   ]
  },
  {
   "cell_type": "code",
   "execution_count": 4,
   "metadata": {},
   "outputs": [
    {
     "name": "stdout",
     "output_type": "stream",
     "text": [
      "length = 1358\n",
      "2 7 14 97 194 679 "
     ]
    }
   ],
   "source": [
    "# How long is the text, and what are the even divisors of that number?\n",
    "length = len(squished)\n",
    "print(\"length = \" + str(length))\n",
    "\n",
    "for n in range(2, length):\n",
    "    if length % n == 0:\n",
    "        print(n, end=\" \")"
   ]
  },
  {
   "cell_type": "code",
   "execution_count": 6,
   "metadata": {},
   "outputs": [
    {
     "name": "stdout",
     "output_type": "stream",
     "text": [
      "etrroopoarnetp\n",
      "onuignnredeifs\n",
      "oawrslmotflaew\n",
      "rvorceeiusrgpn\n",
      "lfsperimmeohit\n",
      "scnsooitennira\n",
      "rrsdpoonebnnre\n",
      "smagestttteuoo\n",
      "opujnwitawislh\n",
      "oehlttwomawest\n",
      "etfmaetsrervae\n",
      "doslyfarcscsoo\n",
      "nsyurktinaigdn\n",
      "hratptemieydta\n",
      "wotsyvamwkerho\n",
      "ltaipreldaohrs\n",
      "ddeecfuoehrthm\n",
      "gerifqhetyuchn\n",
      "tweahetrhchatm\n",
      "slbeaithofsdle\n",
      "ognlioweitpaor\n",
      "fhsnemrnbeahrt\n",
      "dpsieagntgnnhi\n",
      "rnieveavhtoree\n",
      "aermamnifdaeun\n",
      "laulgryedndatd\n",
      "emmhoacdornguo\n",
      "fttplhetriadea\n",
      "tascsuatlulodw\n",
      "erpbnouuvidtec\n",
      "tdsiaewitdcehd\n",
      "taeatmahdlsudo\n",
      "sdneetcodnwurh\n",
      "deteermitosthn\n",
      "rnieveaohtfder\n",
      "ibrreevodnlacw\n",
      "ihtlbeminohltl\n",
      "esrhaifeerdnao\n",
      "htgcnhirreevbi\n",
      "dawetsiotdfnou\n",
      "essboiplfobtoe\n",
      "lsalwiogrtneal\n",
      "kdocosgaawrlyi\n",
      "nhtioetlatpnna\n",
      "tnedethycsraaw\n",
      "rodreuiwohttui\n",
      "euotcnnegntiar\n",
      "yranudgtolsech\n",
      "lssaoabenigttn\n",
      "enahltpuilspep\n",
      "diadtlednaelsp\n",
      "nhcaseduasdenl\n",
      "tardeihiapdgrn\n",
      "ydetstuagohtat\n",
      "ntriuhfrececsa\n",
      "vcasaailnubtne\n",
      "lwdeniadnenwco\n",
      "ureotingylnnto\n",
      "eerhatckojarhe\n",
      "nwnaehsaapoats\n",
      "icirtnorigoeaw\n",
      "womnsratwneaih\n",
      "ltglnoiorecpao\n",
      "esethatppsprle\n",
      "cimadneshteitw\n",
      "mufidseshteneo\n",
      "lrtecoeycslihs\n",
      "msraeabpnnsael\n",
      "taydelhotfseal\n",
      "hsptmoosamnbcu\n",
      "iughenntseahct\n",
      "npoetrevahotte\n",
      "hawtssinatatca\n",
      "birkbtysroifch\n",
      "sepeofhlhtuyal\n",
      "wpltlrivrtenee\n",
      "rlapssigsnaita\n",
      "hcotlaeseelhxt\n",
      "lvipseohegcrsa\n",
      "eandottdtseerd\n",
      "ytgonhietceerl\n",
      "lsioseyuemqpni\n",
      "ahttdendecaanj\n",
      "sartogtcbmeaeh\n",
      "scerhotbdemnti\n",
      "aliewlmolpnsiw\n",
      "utntiophgeterr\n",
      "uetosapaehmsai\n",
      "iuodgtnodetwes\n",
      "fxenrfoltairit\n",
      "nmaoebtiehwlal\n",
      "tlsdoooonitouj\n",
      "wmhptiioetlgar\n",
      "cllmirwmineina\n",
      "liepcnahgetrie\n",
      "ndnoeipgtrnuhf\n",
      "rtsenricnouist\n"
     ]
    }
   ],
   "source": [
    "# I'll guess that that means the transposition is based on columns of 14 letters.\n",
    "# Let's try writing it in 14 columns:\n",
    "\n",
    "# First save the decoded text:\n",
    "table = str.maketrans(string.ascii_uppercase, \"qrstuvwxyzabcdefghijklmnop\")\n",
    "shifted = squished.translate(table)\n",
    "\n",
    "for n in range(0, len(shifted), 14):\n",
    "    print(shifted[n:n+14])"
   ]
  },
  {
   "cell_type": "code",
   "execution_count": 20,
   "metadata": {},
   "outputs": [
    {
     "name": "stdout",
     "output_type": "stream",
     "text": [
      "ortonoprrapete\n",
      "gunnersidenifo\n",
      "swallowrftmaeo\n",
      "coverinrsuegpr\n",
      "esfromtpemihil\n",
      "oncontasneiirs\n",
      "psronnedbeonrr\n",
      "eamsetogtttuos\n",
      "nupwithjwaislo\n",
      "thetwotlamweso\n",
      "aftersemertvae\n",
      "ysofcrolscasod\n",
      "ryskiinuantgdn\n",
      "partymateiedth\n",
      "ytovemoskwarhw\n",
      "patrolsiadehrl\n",
      "cedfromeheuthd\n",
      "frequeniythchg\n",
      "hewehrmachtatt\n",
      "ablisheefotdls\n",
      "ingoperltiwaoo\n",
      "eshmantnebrhrf\n",
      "espanniigtgnhd\n",
      "vineoveetharer\n",
      "aremainmdfneua\n",
      "guardedlndyatl\n",
      "ommandohrocgue\n",
      "ltthatapiredef\n",
      "ssaultwculaodt\n",
      "nproducbivutee\n",
      "asdecididtweht\n",
      "teamshoaldaudt\n",
      "endtwohendcurs\n",
      "etersineotmthd\n",
      "vineforethader\n",
      "erbelowrndvaci\n",
      "bthehillonmlti\n",
      "arsideohrefnae\n",
      "ngthericerivbh\n",
      "twasfouedtinod\n",
      "ossiblebofptoe\n",
      "wasinglltroeal\n",
      "oodsraicwaglyk\n",
      "otheplaitatnnn\n",
      "eentrywdschaat\n",
      "edoutwirhoitur\n",
      "countertngniae\n",
      "uardsthnlogecy\n",
      "ossagenainbttl\n",
      "lantsuphlippee\n",
      "tailedpdanelsd\n",
      "schedulasadenn\n",
      "eraidindpahgrt\n",
      "sedthattogutay\n",
      "urtheraicefcsn\n",
      "aacablesunitnv\n",
      "ndwindoeenawcl\n",
      "teringoolynntu\n",
      "aretakehjocrhe\n",
      "enwhoasapasatn\n",
      "ticnorwrgioeai\n",
      "smorethnnwaaiw\n",
      "ngtocooleripal\n",
      "hesappetsptrle\n",
      "dmineswatheitc\n",
      "dfusesoithenem\n",
      "ctrolysesceihl\n",
      "ersasplannbaem\n",
      "eyalsoldftheat\n",
      "mpsonsutmaobch\n",
      "egunatthesnhci\n",
      "toproveehaettn\n",
      "swasanattaitch\n",
      "britishkoryfcb\n",
      "opefullethhyas\n",
      "llprevettrinew\n",
      "salsagapnsiitr\n",
      "localstteeehxh\n",
      "sivechapgeorsl\n",
      "onatedddsttere\n",
      "ngtheeloctiery\n",
      "sisequiomeypnl\n",
      "dtheadjtcenana\n",
      "oragechtmbtaes\n",
      "hecombiredtnts\n",
      "willnoweplmsia\n",
      "intothrtegperu\n",
      "steamaiohepsau\n",
      "gouttosdednwei\n",
      "rexfiltnatorif\n",
      "eambwilohetlan\n",
      "oslotojdinoout\n",
      "thmilorpteigaw\n",
      "illremamniwinc\n",
      "ceinthepegaril\n",
      "endingfortpuhn\n",
      "nstructeoniisr\n"
     ]
    }
   ],
   "source": [
    "# Now I need to rearrange the columns.\n",
    "# After lots of trial and error, it looks like this sequence is getting there\n",
    "# The words \"Swallow\" and \"Gunnerside\" are formed early on\n",
    "for index in range(0, len(shifted), 14):\n",
    "    print(\"\".join([shifted[index+n] for n in (4,2,1,5,10,7,13,3,9,8,6,11,12,0)]))"
   ]
  },
  {
   "cell_type": "code",
   "execution_count": 23,
   "metadata": {},
   "outputs": [
    {
     "name": "stdout",
     "output_type": "stream",
     "text": [
      "reportonoperationgunnersidefromswallowafterrecoveringsuppliesfromthemissioncontainerdropsronnenbergsteamsetouttojoinupwithswallowthetwoteamsmetafterseveraldaysofcrosscountryskiingandthepartymadeitswaytovemorkwhilepatrolshadreducedfromthehighfrequencythatthewehrmachtestablishedfollowingoperationfreshmanthebridgespanningtheravineoverthemanaremainedfullyguardedandthecommandogroupfeltthatadirectassaultwouldbeunproductiveitwasdecidedthatateamshoulddescendtwohundredmetersintotheravinefordtheriverbelowandclimbthehillonthefarsideonreachingtheriverbeditwasfoundtobepossibletofollowasingletrackgoodsrailwayintotheplantandtheentrywascarriedoutwithoutencounteringanyguardsthelocalbossagentintheplantsupplieddetailedplansandschedulesandtheraidingpartyusedthattogainfurtheraccessviaacabletunnelandwindowencounteringonlythecaretakerjohansenwhoasapatrioticnorwegianwasmorethanwillingtocooperatethesappersplacedmineswithtimedfusesontheelectrolysischambersasplannedtheyalsoleftathompsonsubmachinegunatthescenetoprovethatthiswasanattackbybritishforceshopefullythatwillpreventreprisalsagainstthelocalstheexplosivechargesdetonateddestroyingtheelectrolysisequipmentandtheadjacentstoragechambersthecombinedteamwillnowsplitupintothreegroupsteamaisheadingouttoswedenforexfiltrationteambwillheadtooslotojoinupwithmilorgteamcwillremaininplaceintheregionpendingfurtherinstructions"
     ]
    }
   ],
   "source": [
    "# The text at the end could be \"(furth)er instructions\"\n",
    "for index in range(0, len(shifted), 14):\n",
    "    print(\"\".join([shifted[index+n] for n in (3,0,6,4,2,1,5,10,7,13,11,9,8,12)]), end=\"\")"
   ]
  },
  {
   "cell_type": "markdown",
   "metadata": {},
   "source": [
    "### Edited for clarity\n",
    "Report on Operation Gunnerside from Swallow.<br>\n",
    "After recovering supplies from the mission container drops, Ronnenberg's team set out to join up with Swallow. The two teams met after several days of cross-country skiing and the party made its way to Vemork.<br>\n",
    "While patrols had reduced from the high frequency that the Wehrmacht established following Operation Freshman, the bridge spanning the ravine over the Mana remained fully guarded and the commando group felt that a direct assault would be unproductive. It was decided that a team should descend two hundred meters into the ravine, ford the river below and climb the hill on the far side.<br>\n",
    "On reaching the river bed. it was found to be possible to follow a single track goods railway into the plant and the entry was carried out without encountering any guards. The local BOSS agent in the plant supplied detailed plans and schedules and the raiding party used that to gain further access via a cable tunnel and window, encountering only the caretaker, Johansen, who, as a patriotic Norwegian, was more than willing to cooperate.<br>\n",
    "The sappers placed mines with timed fuses on the electrolysis chambers as planned. They also left a Thompson submachine gun at the scene to prove that this was an attack by British forces. Hopefully that will prevent reprisals against the locals.<br>\n",
    "The explosive charges detonated, destroying the electrolysis equipment and the adjacent storage chambers. The combined team will now split up into three groups:<br>\n",
    "Team A is heading out to Sweden for exfiltration.<br>\n",
    "Team B will head to Oslo to join up with Milorg.<br>\n",
    "Team C will remain in place in the region, pending further instructions."
   ]
  },
  {
   "cell_type": "code",
   "execution_count": 1,
   "metadata": {},
   "outputs": [
    {
     "name": "stdout",
     "output_type": "stream",
     "text": [
      "Found it: patrols\n"
     ]
    }
   ],
   "source": [
    "# Added some new tools to search for the keyword in a transposition.\n",
    "# Remove duplicate (and non-alpabetic) letters from a word and return the result\n",
    "def remove_duplicates(word):\n",
    "    result = \"\"\n",
    "    for letter in word:\n",
    "        if letter.isalpha() and letter not in result:\n",
    "            result += letter\n",
    "    return result\n",
    "\n",
    "\n",
    "# Search some text for a word that contains letters in a given order\n",
    "# text: The test to search\n",
    "# order: A list of integers representing the alphabetical order of the letters in the word\n",
    "def search_combinations(text, order):\n",
    "    for word in text.split():\n",
    "        word = remove_duplicates(word)\n",
    "        if len(word) == len(order):\n",
    "            positions = dict()\n",
    "            for n, letter in enumerate(sorted(word)):\n",
    "                positions[letter]=n\n",
    "            if [positions[letter] for letter in word] == order:\n",
    "                print(f\"Found it: {word}\")\n",
    "                break\n",
    "\n",
    "\n",
    "# Run it on the text from 7a\n",
    "\n",
    "message = \"\"\"Phil,\n",
    "Sorry I haven’t been in touch much, Churchill asked BOSS to set up an operations wing in the UK under the name of the Special Operations Executive and that has occupied a lot of my time. As soon as we got set up I was put in touch with Einar Skinnarland, an engineer from Vemork who had hijacked a coastal steamer and sailed to Aberdeen to join the war effort here. Churchill ordered us to work up plans to attack the plant and Einar helped us to brief an intelligence gathering team to infiltrate the region. Operation Grouse was launched in October with an advance party of four officers and NCOs led by Jens-Anton Poulsson. They were parachuted into the Hardangervidda as German patrols tended to avoid it, and after a period of observation they prepared the ground for a glider assault. Under the codename Operation Freshman we sent over two gliders carrying commandos equipped with explosives and everything they needed to effect an escape, but a combination of bad weather and bad luck killed the mission. Both gliders made it to the Norwegian coast, but one crashed early on, and the other in the mountains. We were not aware of survivors, and unfortunately the Germans now knew that the plant was a target and stepped up security. They lit up the place with floodlights, mined the approaches and, for a while, stepped up the guard rotas. Grouse volunteered to stay in place, changing their callsign to Swallow and continued to send intelligence reports. They reported that although the mines and lights were still in place there were signs that security was beginning to slacken.\n",
    "With these updates we decided to try again, and launched Operation Gunnerside. Six Norwegian commandos led by Joachim Ronnenberg were parachuted in from an RAF Halifax and joined up with Swallow. The attached document is their mission report. They sent it from the plateau while retreating from the plant in case they didn’t make it back, so have used a standard combination of basic ciphers to make it hard to crack but easy to implement. In training we recommended a combination of Casear shift and basic transposition. I leave it to you to decipher.\"\"\"\n",
    "\n",
    "search_combinations(message, [3,0,6,4,2,1,5])"
   ]
  },
  {
   "cell_type": "code",
   "execution_count": null,
   "metadata": {},
   "outputs": [],
   "source": []
  }
 ],
 "metadata": {
  "kernelspec": {
   "display_name": "Python 3",
   "language": "python",
   "name": "python3"
  },
  "language_info": {
   "codemirror_mode": {
    "name": "ipython",
    "version": 3
   },
   "file_extension": ".py",
   "mimetype": "text/x-python",
   "name": "python",
   "nbconvert_exporter": "python",
   "pygments_lexer": "ipython3",
   "version": "3.8.0"
  }
 },
 "nbformat": 4,
 "nbformat_minor": 4
}
