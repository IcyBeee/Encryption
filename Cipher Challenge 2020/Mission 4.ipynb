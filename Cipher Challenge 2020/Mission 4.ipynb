{
 "cells": [
  {
   "cell_type": "markdown",
   "metadata": {},
   "source": [
    "# Cipher Challenge 2020\n",
    "### Practice Challenge 4\n",
    "\n",
    "Challenge link https://www.cipherchallenge.org/challenge/competition-challenge-4/"
   ]
  },
  {
   "cell_type": "code",
   "execution_count": 1,
   "metadata": {},
   "outputs": [],
   "source": [
    "# Part A - \"It's all about the numbers\"\n",
    "part_a_text = \"\"\"Q PAFM LZAGV A KTAVS QV UI MVYDQZQMB AKWDC EAQBCWZ BC MLUDVL AVL MFMV PAZZI QB OMCCQVO VWGPMZM GQCP PQB EWVCAECB QV CPM UWL. GM KWCP AOZMM CPAC CPM BQTMVEM QB FMZI GWZZIQVO. CPQB QB ETMAZTI AV AZMA WN QVCMZMBC AB QC XZMBMVCB A EZDEQAT NZWVC QV AVI XWCMVCQAT QVFABQWV BW GM GWDTL PAFM MHXMECML BWUM QVCMZMBC QV WDZ QVCMTTQOMVEM, WZ AC TMABC BWUM XDBP KAES GAZVQVO DB CW SMMX AGAI NZWU KABQE LMNMVEM QVBCATTACQWVB TQSM TQBCMVQVO XWBCB. CPM NAEC CPAC VW-WVM GAVCB CW CATS AKWDC CPM NAEQTQCQMB QV CPM AZMA BDOOMBCB CPAC QC QB ATT FMZI PDBP PDBP. BWUMCPQVO QUXWZCAVC QB PAXXMVQVO CPMZM AVL GM XZWKAKTI GAVC CW NQVL WDC GPAC.\n",
    "\n",
    "WDZ AOMVCB QV TWVLWV SMXC GACEP NWZ CPM CWDZQVO XAZCI AVL ZMEWZLML CPMU AB AZZQFQVO AC TQFMZXWWT BCZMMC. CPM OZWDX EWVBQBCML WN CGMVCI CPZMM EIETQBCB GPW BXTQC DX AVL BCAIML GQCP UMUKMZB WN TWEAT BEWDC OZWDXB GPQTM CPMQZ TMALMZ GAB PWBCML KI A UMUKMZ WN CPM TWEAT WZCBOZDXXM. GM ZMEMQFML ZMXWZCB NZWU S'B VMCGWZS CPAC CPM OZWDX PAB KMMV QVFQCML CW BCAI GQCP CPM BXATLQVO ZWCAZI ETDK QV TQVEWTV AVL GM VMML IWD CW QVFMBCQOACM AVI ZMXWZCB IWD EAV NQVL AKWDC CPAC FQBQC. Q GQTT EWVCQVDM CW XZMBB NWZ QVNWZUACQWV AKWDC BCZACMOQE LMFMTWXUMVCB QV VWZGQEP AVL VWZNWTS.\n",
    "\n",
    "CPM ASMTA QVQCQACQFM PAB KMMV OQFMV AXXZWFAT AVL Q GQTT KM BMCCQVO CPAC DX CPQB GMMS. CPM QVCMVCQWV QB CW MVZWTT TMALMZB AVL UMUKMZB WN TWEAT BEWDC OZWDXB, CZAQV CPMU QV EWDVCMZ-QVCMTTQOMVEM AVL DBM CPMU CW PWBC CPM BXIETQBC CWDZQVO OZWDXB QV CPM PWXM WN OMCCQVO QVBQLM CPMQZ WXMZACQWV. BQVEM NDCDZM EWUUDVQEACQWVB UAI QVETDLM BMVBQCQFM WXMZACQWVAT LMCAQTB WN CPQB QVQCQACQFM Q QVCMVL CW QVEZMABM BMEDZQCI KI UWFQVO CW A KTWESML SMIGWZL EQXPMZ.\n",
    "\n",
    "CPM ACCAEPML LWEDUMVC GAB QVCMZEMXCML KI WDZ TWVLWV AOMVCB GPMV CPM XAZCI XWBCML QC WV AZZQFAT AC TQFMZXWWT BCZMMC. AB DBDAT QC GAB ALLZMBBML CW CQZXQCJDNMZ. XZQUAZI AVATIBQB BDOOMBCB CPAC QC LWMB VWC DBM A BDKBCQCDCQWV EQXPMZ.\n",
    "\n",
    "UWZM CW NWTTWG.\n",
    "\n",
    "XMAZT.\"\"\""
   ]
  },
  {
   "cell_type": "code",
   "execution_count": 2,
   "metadata": {},
   "outputs": [],
   "source": [
    "# Bring in the basic decoder function\n",
    "import string\n",
    "\n",
    "# A simple translation method.\n",
    "# text: The text to translate, in upper case\n",
    "# key: A substitution alphabet, usually in lower case so that the translated characters show up\n",
    "def decode(text, key):\n",
    "    table = str.maketrans(string.ascii_uppercase, key)\n",
    "    print(text.upper().translate(table))"
   ]
  },
  {
   "cell_type": "code",
   "execution_count": 3,
   "metadata": {},
   "outputs": [],
   "source": [
    "from collections import Counter\n",
    "\n",
    "# Takes a string or list of items and counts the frequencies of those items\n",
    "# data: The list or string to analyse\n",
    "# max_values: The maximum number of values to display (set to None for no limit)\n",
    "# no_columns: The amount of columns to use in the output\n",
    "def frequency_analysis(data, max_values=30, no_columns=5):\n",
    "    frequencies = Counter()\n",
    "    for item in data:\n",
    "        frequencies[item] += 1\n",
    "    \n",
    "    total = sum(frequencies.values())\n",
    "    column = 1\n",
    "    for item, frequency in frequencies.most_common(max_values):\n",
    "        print(f\"{item}: {frequency:2} ({frequency / total:.2%})\", end=\" \" if column % no_columns else \"\\n\")\n",
    "        column += 1\n",
    "    print(\"\\n-----\")"
   ]
  },
  {
   "cell_type": "code",
   "execution_count": 4,
   "metadata": {},
   "outputs": [
    {
     "name": "stdout",
     "output_type": "stream",
     "text": [
      "M: 174 (11.11%) C: 172 (10.98%) Q: 131 (8.37%) V: 118 (7.54%) A: 116 (7.41%)\n",
      "W: 115 (7.34%) B: 105 (6.70%) Z: 93 (5.94%) P: 63 (4.02%) T: 63 (4.02%)\n",
      "D: 48 (3.07%) L: 46 (2.94%) E: 46 (2.94%) X: 43 (2.75%) O: 33 (2.11%)\n",
      "G: 32 (2.04%) I: 28 (1.79%) U: 27 (1.72%) K: 22 (1.40%) N: 22 (1.40%)\n",
      "F: 21 (1.34%) .: 17 (1.09%) S: 13 (0.83%) \n",
      ": 10 (0.64%) ,:  2 (0.13%)\n",
      "-:  2 (0.13%) Y:  1 (0.06%) H:  1 (0.06%) ':  1 (0.06%) J:  1 (0.06%)\n",
      "\n",
      "-----\n"
     ]
    }
   ],
   "source": [
    "frequency_analysis(part_a_text.replace(\" \", \"\"))"
   ]
  },
  {
   "cell_type": "code",
   "execution_count": 5,
   "metadata": {},
   "outputs": [
    {
     "name": "stdout",
     "output_type": "stream",
     "text": [
      "Q hAFe LZAGV A KTAVS QV UI eVYDQZQeB AKWDt EAQBtWZ Bt eLUDVL AVL eFeV hAZZI QB OettQVO VWGheZe GQth hQB EWVtAEtB QV the UWL. Ge KWth AOZee thAt the BQTeVEe QB FeZI GWZZIQVO. thQB QB ETeAZTI AV AZeA WN QVteZeBt AB Qt XZeBeVtB A EZDEQAT NZWVt QV AVI XWteVtQAT QVFABQWV BW Ge GWDTL hAFe eHXeEteL BWUe QVteZeBt QV WDZ QVteTTQOeVEe, WZ At TeABt BWUe XDBh KAES GAZVQVO DB tW SeeX AGAI NZWU KABQE LeNeVEe QVBtATTAtQWVB TQSe TQBteVQVO XWBtB. the NAEt thAt VW-WVe GAVtB tW tATS AKWDt the NAEQTQtQeB QV the AZeA BDOOeBtB thAt Qt QB ATT FeZI hDBh hDBh. BWUethQVO QUXWZtAVt QB hAXXeVQVO theZe AVL Ge XZWKAKTI GAVt tW NQVL WDt GhAt.\n",
      "\n",
      "WDZ AOeVtB QV TWVLWV SeXt GAtEh NWZ the tWDZQVO XAZtI AVL ZeEWZLeL theU AB AZZQFQVO At TQFeZXWWT BtZeet. the OZWDX EWVBQBteL WN tGeVtI thZee EIETQBtB GhW BXTQt DX AVL BtAIeL GQth UeUKeZB WN TWEAT BEWDt OZWDXB GhQTe theQZ TeALeZ GAB hWBteL KI A UeUKeZ WN the TWEAT WZtBOZDXXe. Ge ZeEeQFeL ZeXWZtB NZWU S'B VetGWZS thAt the OZWDX hAB KeeV QVFQteL tW BtAI GQth the BXATLQVO ZWtAZI ETDK QV TQVEWTV AVL Ge VeeL IWD tW QVFeBtQOAte AVI ZeXWZtB IWD EAV NQVL AKWDt thAt FQBQt. Q GQTT EWVtQVDe tW XZeBB NWZ QVNWZUAtQWV AKWDt BtZAteOQE LeFeTWXUeVtB QV VWZGQEh AVL VWZNWTS.\n",
      "\n",
      "the ASeTA QVQtQAtQFe hAB KeeV OQFeV AXXZWFAT AVL Q GQTT Ke BettQVO thAt DX thQB GeeS. the QVteVtQWV QB tW eVZWTT TeALeZB AVL UeUKeZB WN TWEAT BEWDt OZWDXB, tZAQV theU QV EWDVteZ-QVteTTQOeVEe AVL DBe theU tW hWBt the BXIETQBt tWDZQVO OZWDXB QV the hWXe WN OettQVO QVBQLe theQZ WXeZAtQWV. BQVEe NDtDZe EWUUDVQEAtQWVB UAI QVETDLe BeVBQtQFe WXeZAtQWVAT LetAQTB WN thQB QVQtQAtQFe Q QVteVL tW QVEZeABe BeEDZQtI KI UWFQVO tW A KTWESeL SeIGWZL EQXheZ.\n",
      "\n",
      "the AttAEheL LWEDUeVt GAB QVteZEeXteL KI WDZ TWVLWV AOeVtB GheV the XAZtI XWBteL Qt WV AZZQFAT At TQFeZXWWT BtZeet. AB DBDAT Qt GAB ALLZeBBeL tW tQZXQtJDNeZ. XZQUAZI AVATIBQB BDOOeBtB thAt Qt LWeB VWt DBe A BDKBtQtDtQWV EQXheZ.\n",
      "\n",
      "UWZe tW NWTTWG.\n",
      "\n",
      "XeAZT.\n"
     ]
    }
   ],
   "source": [
    "# CPM is probably \"the\"\n",
    "decode(part_a_text.upper(), \"ABtDEFGHIJKLeNOhQRSTUVWXYZ\")"
   ]
  },
  {
   "cell_type": "code",
   "execution_count": 6,
   "metadata": {},
   "outputs": [
    {
     "name": "stdout",
     "output_type": "stream",
     "text": [
      "i have LraGV a KlaVS iV UI eVYDirieB aKWDt EaiBtWr Bt eLUDVL aVL eveV harrI iB OettiVO VWGhere Gith hiB EWVtaEtB iV the UWL. Ge KWth aOree that the BileVEe iB verI GWrrIiVO. thiB iB ElearlI aV area WN iVtereBt aB it preBeVtB a ErDEial NrWVt iV aVI pWteVtial iVvaBiWV BW Ge GWDlL have eHpeEteL BWUe iVtereBt iV WDr iVtelliOeVEe, Wr at leaBt BWUe pDBh KaES GarViVO DB tW Seep aGaI NrWU KaBiE LeNeVEe iVBtallatiWVB liSe liBteViVO pWBtB. the NaEt that VW-WVe GaVtB tW talS aKWDt the NaEilitieB iV the area BDOOeBtB that it iB all verI hDBh hDBh. BWUethiVO iUpWrtaVt iB happeViVO there aVL Ge prWKaKlI GaVt tW NiVL WDt Ghat.\n",
      "\n",
      "WDr aOeVtB iV lWVLWV Sept GatEh NWr the tWDriVO partI aVL reEWrLeL theU aB arriviVO at liverpWWl Btreet. the OrWDp EWVBiBteL WN tGeVtI three EIEliBtB GhW Bplit Dp aVL BtaIeL Gith UeUKerB WN lWEal BEWDt OrWDpB Ghile their leaLer GaB hWBteL KI a UeUKer WN the lWEal WrtBOrDppe. Ge reEeiveL repWrtB NrWU S'B VetGWrS that the OrWDp haB KeeV iVviteL tW BtaI Gith the BpalLiVO rWtarI ElDK iV liVEWlV aVL Ge VeeL IWD tW iVveBtiOate aVI repWrtB IWD EaV NiVL aKWDt that viBit. i Gill EWVtiVDe tW preBB NWr iVNWrUatiWV aKWDt BtrateOiE LevelWpUeVtB iV VWrGiEh aVL VWrNWlS.\n",
      "\n",
      "the aSela iVitiative haB KeeV OiveV apprWval aVL i Gill Ke BettiVO that Dp thiB GeeS. the iVteVtiWV iB tW eVrWll leaLerB aVL UeUKerB WN lWEal BEWDt OrWDpB, traiV theU iV EWDVter-iVtelliOeVEe aVL DBe theU tW hWBt the BpIEliBt tWDriVO OrWDpB iV the hWpe WN OettiVO iVBiLe their WperatiWV. BiVEe NDtDre EWUUDViEatiWVB UaI iVElDLe BeVBitive WperatiWVal LetailB WN thiB iVitiative i iVteVL tW iVEreaBe BeEDritI KI UWviVO tW a KlWESeL SeIGWrL Eipher.\n",
      "\n",
      "the attaEheL LWEDUeVt GaB iVterEepteL KI WDr lWVLWV aOeVtB GheV the partI pWBteL it WV arrival at liverpWWl Btreet. aB DBDal it GaB aLLreBBeL tW tirpitJDNer. priUarI aValIBiB BDOOeBtB that it LWeB VWt DBe a BDKBtitDtiWV Eipher.\n",
      "\n",
      "UWre tW NWllWG.\n",
      "\n",
      "pearl.\n"
     ]
    }
   ],
   "source": [
    "# \"thAt Qt\" -> A=a, Q=i\n",
    "# \"thZee \" -> Z=r\n",
    "# \"hAFe\" -> F=v\n",
    "# \"XeAZT\" -> X=p, T=l (Pearl is sending these messages)\n",
    "decode(part_a_text.upper(), \"aBtDEvGHIJKLeNOhiRSlUVWpYr\")"
   ]
  },
  {
   "cell_type": "code",
   "execution_count": 7,
   "metadata": {},
   "outputs": [
    {
     "name": "stdout",
     "output_type": "stream",
     "text": [
      "i have Lrawn a KlanS in Uy enYuiries aKout caistor st eLUunL anL even harry is getting nowhere with his contacts in the UoL. we Koth agree that the silence is very worrying. this is clearly an area oN interest as it presents a crucial Nront in any potential invasion so we woulL have eHpecteL soUe interest in our intelligence, or at least soUe push KacS warning us to Seep away NroU Kasic LeNence installations liSe listening posts. the Nact that no-one wants to talS aKout the Nacilities in the area suggests that it is all very hush hush. soUething iUportant is happening there anL we proKaKly want to NinL out what.\n",
      "\n",
      "our agents in lonLon Sept watch Nor the touring party anL recorLeL theU as arriving at liverpool street. the group consisteL oN twenty three cyclists who split up anL stayeL with UeUKers oN local scout groups while their leaLer was hosteL Ky a UeUKer oN the local ortsgruppe. we receiveL reports NroU S's networS that the group has Keen inviteL to stay with the spalLing rotary cluK in lincoln anL we neeL you to investigate any reports you can NinL aKout that visit. i will continue to press Nor inNorUation aKout strategic LevelopUents in norwich anL norNolS.\n",
      "\n",
      "the aSela initiative has Keen given approval anL i will Ke setting that up this weeS. the intention is to enroll leaLers anL UeUKers oN local scout groups, train theU in counter-intelligence anL use theU to host the spyclist touring groups in the hope oN getting insiLe their operation. since Nuture coUUunications Uay incluLe sensitive operational Letails oN this initiative i intenL to increase security Ky Uoving to a KlocSeL SeyworL cipher.\n",
      "\n",
      "the attacheL LocuUent was intercepteL Ky our lonLon agents when the party posteL it on arrival at liverpool street. as usual it was aLLresseL to tirpitJuNer. priUary analysis suggests that it Loes not use a suKstitution cipher.\n",
      "\n",
      "Uore to Nollow.\n",
      "\n",
      "pearl.\n"
     ]
    }
   ],
   "source": [
    "# \"Gith hiB\" -> G=w, B=s\n",
    "# \"aOree that the BileVEe iB verI GWrrIiVO\" -> O=g, V=n, E=c, I=y, W=o\n",
    "# \"EWDVter-iVtelliOeVEe\" -> D=u\n",
    "decode(part_a_text.upper(), \"astucvwHyJKLeNghiRSlUnopYr\")"
   ]
  },
  {
   "cell_type": "code",
   "execution_count": 8,
   "metadata": {},
   "outputs": [
    {
     "name": "stdout",
     "output_type": "stream",
     "text": [
      "i have drawn a blank in my enquiries about caistor st edmund and even harry is getting nowhere with his contacts in the mod. we both agree that the silence is very worrying. this is clearly an area of interest as it presents a crucial front in any potential invasion so we would have expected some interest in our intelligence, or at least some push back warning us to keep away from basic defence installations like listening posts. the fact that no-one wants to talk about the facilities in the area suggests that it is all very hush hush. something important is happening there and we probably want to find out what.\n",
      "\n",
      "our agents in london kept watch for the touring party and recorded them as arriving at liverpool street. the group consisted of twenty three cyclists who split up and stayed with members of local scout groups while their leader was hosted by a member of the local ortsgruppe. we received reports from k's network that the group has been invited to stay with the spalding rotary club in lincoln and we need you to investigate any reports you can find about that visit. i will continue to press for information about strategic developments in norwich and norfolk.\n",
      "\n",
      "the akela initiative has been given approval and i will be setting that up this week. the intention is to enroll leaders and members of local scout groups, train them in counter-intelligence and use them to host the spyclist touring groups in the hope of getting inside their operation. since future communications may include sensitive operational details of this initiative i intend to increase security by moving to a blocked keyword cipher.\n",
      "\n",
      "the attached document was intercepted by our london agents when the party posted it on arrival at liverpool street. as usual it was addressed to tirpitzufer. primary analysis suggests that it does not use a substitution cipher.\n",
      "\n",
      "more to follow.\n",
      "\n",
      "pearl.\n"
     ]
    }
   ],
   "source": [
    "# \"Lrawn a KlanS in Uy enYuiries\" -> L=d, K=b, S=k, U=m, Y=q\n",
    "# \"Nuture\" -> N=f\n",
    "# Pattern implies H=x, J=z, R=j\n",
    "decode(part_a_text.upper(), \"astucvwxyzbdefghijklmnopqr\")"
   ]
  },
  {
   "cell_type": "code",
   "execution_count": 10,
   "metadata": {},
   "outputs": [
    {
     "name": "stdout",
     "output_type": "stream",
     "text": [
      "Decoded alphabet: akelmnopqrstuvwxyzbcdfghij\n",
      "Keyword: akel\n"
     ]
    }
   ],
   "source": [
    "# Attempts to determine the keyword used for a substitution cipher\n",
    "# alphabet: The substitution alphabet\n",
    "def decode_key(alphabet):\n",
    "    decoded_alphabet = \"\"\n",
    "    for letter in string.ascii_lowercase:\n",
    "        decoded_alphabet += chr(alphabet.find(letter) + ord(\"a\"))\n",
    "    print(f\"Decoded alphabet: {decoded_alphabet}\")\n",
    "    \n",
    "    remaining_letters = list(string.ascii_lowercase)\n",
    "    for pos, letter in enumerate(decoded_alphabet):\n",
    "        remaining_letters.remove(letter)\n",
    "        next_letter_index = remaining_letters.index(decoded_alphabet[pos+1])\n",
    "        if decoded_alphabet[pos+1:] == \"\".join(remaining_letters[next_letter_index:] + remaining_letters[:next_letter_index]):\n",
    "            print(f\"Keyword: {decoded_alphabet[:pos+2]}\")\n",
    "            break\n",
    "\n",
    "decode_key(\"astucvwxyzbdefghijklmnopqr\")"
   ]
  },
  {
   "cell_type": "code",
   "execution_count": 11,
   "metadata": {},
   "outputs": [],
   "source": [
    "# Part B - \"Ortsgruppe\"\n",
    "part_b_text = \"\"\"EAUDR CLWNE LHLIE OUJMR UREON TOOYL DOWNN SSOAH TADRN HAMCR NGHIT TRIEA SRTNA LIGTN LOGAN HERTB TIHIS RAKTC THOSR GHPUO NFEEI DSNLA CONDU RYITS ETEDH RRAIO SMYDA EAMBL STMOI ASAPS LENBI LAEPC BUTST ESIHE ONRRT CKPAS OVDRI AVREE USBYA EWYLA OTATR ELCVA OSCRS UNROT ATPYS EDUEO HOTRS INOSL DOHNN VERAO ANSGI DFREO STSUO AYITW HMMTE EROBS THBFE ITSRI SCUHO INMTG VEEOM TTONH GHWUI LLPIS NDHET NETEX EWAFD SWTYI THOHE TSRRG PPEUE CHNXA INNGG WSBEA UTHOT FAHET RLNEA ANTDD EIAHR TIICV IEHTS RENEI HEATC ITLPA ITICY WADTS FFCII LTOUT EAOTR RSLUE ESWVA YFOAR THPME EAULS ESFRO ORONF KADLN HEITC YOFTF RSAEF FEERW OPORP TUIRN IEFTS ROEOP EXLNP RAIOT NOTON EOHHT RHNEA THBDE STEUL FTEOH ITACY INESB LIORN FESFR CETAR INNAA NYIOM YADTN TIIIS SOENM AYRWS LAIEX GTLNO AVBEE HIDEN HEOTG SIASP DIQNN ISTUI VEEIN SOVSF LLGIA LIEEF SYUAO UGESG TEWSD WILEL SEUUO TIERM ERIHE LODNN NTSOO PPRUO OUBTR OTERH SADRN ISEST SADRN ORATE SUESR HETTM ATHHT YHVEA NOBET ENOEF GOTRT NIIEW LPSLA ONHST GITEF THTSA OUNYE RUTTS DTMEO TOEEG HEWTR THOIY RISUN RUTTC ONFIS RTEOH RUEIS SWDAE DICIN ISOAT STDRE UNTMD ERDHA OYUIO ENMST ISEER ARAMK LETBI SALIB TOIEP KUSCP GNLIA ACOSR STESH PETSC UMVRE NFOER BELMR NISIT LFHET UGIOH MEJAN YIGON ISELT INTNG BRTOI SHAIR IOSDE ECAPI LYHLT HOEEM ERISV ETECH ARBYE ILIUD GAHNC INFAO RASTN ITEMT SARRC SSHOT CONEU RYHTW CHRIP VIEOD NFRIO ATOMI THONR GHUUO THDTE YADAN IGTNH OMTSE INTHG ATTHI INYHK UMGOI TWNHA TOATT EITKN ACOOC NTHUW NPAEL NIGNN URWOO RAIND SEVOR CEIIS MASAS MIGUN HATTT ERAHE ENCRO ANEHG PLNSA EDONF OUIRR INRTE RYUAB IFHTT REREA THNEE ERAPH SYUPO OUDCL ORAFW DTERH TOUMO HOTRS INPSS LDNAI WIHGT COYAP ENPST STEOR TATSN TOSEC YOREU SICSN REYEL\"\"\""
   ]
  },
  {
   "cell_type": "code",
   "execution_count": 16,
   "metadata": {},
   "outputs": [
    {
     "name": "stdout",
     "output_type": "stream",
     "text": [
      "E: 150 (10.79%) T: 143 (10.29%) I: 111 (7.99%) O: 111 (7.99%) S: 103 (7.41%)\n",
      "N: 100 (7.19%) A: 99 (7.12%) R: 99 (7.12%) H: 76 (5.47%) U: 51 (3.67%)\n",
      "L: 48 (3.45%) D: 41 (2.95%) C: 36 (2.59%) Y: 31 (2.23%) G: 31 (2.23%)\n",
      "P: 30 (2.16%) F: 30 (2.16%) M: 29 (2.09%) W: 23 (1.65%) B: 19 (1.37%)\n",
      "V: 15 (1.08%) K:  7 (0.50%) X:  4 (0.29%) J:  2 (0.14%) Q:  1 (0.07%)\n",
      "\n",
      "-----\n"
     ]
    }
   ],
   "source": [
    "squished = part_b_text.replace(\" \", \"\")\n",
    "frequency_analysis(squished)"
   ]
  },
  {
   "cell_type": "code",
   "execution_count": 17,
   "metadata": {},
   "outputs": [
    {
     "name": "stdout",
     "output_type": "stream",
     "text": [
      "1390\n"
     ]
    }
   ],
   "source": [
    "# This frequency looks close to normal English, so as part A suggests, it is not a substitution cipher.\n",
    "# How many letters?\n",
    "print(len(squished))"
   ]
  },
  {
   "cell_type": "code",
   "execution_count": 18,
   "metadata": {},
   "outputs": [
    {
     "name": "stdout",
     "output_type": "stream",
     "text": [
      "2 5 10 139 278 "
     ]
    }
   ],
   "source": [
    "# Find the factors\n",
    "for n in range(2, 1390//2):\n",
    "    if 1390 % n == 0:\n",
    "        print(n, end=\" \")"
   ]
  },
  {
   "cell_type": "code",
   "execution_count": 32,
   "metadata": {},
   "outputs": [
    {
     "name": "stdout",
     "output_type": "stream",
     "text": [
      "EAUDRCLWNE\n",
      "LHLIEOUJMR\n",
      "UREONTOOYL\n",
      "DOWNNSSOAH\n",
      "TADRNHAMCR\n",
      "NGHITTRIEA\n",
      "SRTNALIGTN\n",
      "LOGANHERTB\n",
      "TIHISRAKTC\n",
      "THOSRGHPUO\n",
      "NFEEIDSNLA\n",
      "CONDURYITS\n",
      "ETEDHRRAIO\n",
      "SMYDAEAMBL\n",
      "STMOIASAPS\n",
      "LENBILAEPC\n",
      "BUTSTESIHE\n",
      "ONRRTCKPAS\n",
      "OVDRIAVREE\n",
      "USBYAEWYLA\n",
      "OTATRELCVA\n",
      "OSCRSUNROT\n",
      "ATPYSEDUEO\n",
      "HOTRSINOSL\n",
      "DOHNNVERAO\n",
      "ANSGIDFREO\n",
      "STSUOAYITW\n",
      "HMMTEEROBS\n",
      "THBFEITSRI\n",
      "SCUHOINMTG\n",
      "VEEOMTTONH\n",
      "GHWUILLPIS\n",
      "NDHETNETEX\n",
      "EWAFDSWTYI\n",
      "THOHETSRRG\n",
      "PPEUECHNXA\n",
      "INNGGWSBEA\n",
      "UTHOTFAHET\n",
      "RLNEAANTDD\n",
      "EIAHRTIICV\n",
      "IEHTSRENEI\n",
      "HEATCITLPA\n",
      "ITICYWADTS\n",
      "FFCIILTOUT\n",
      "EAOTRRSLUE\n",
      "ESWVAYFOAR\n",
      "THPMEEAULS\n",
      "ESFROORONF\n",
      "KADLNHEITC\n",
      "YOFTFRSAEF\n",
      "FEERWOPORP\n",
      "TUIRNIEFTS\n",
      "ROEOPEXLNP\n",
      "RAIOTNOTON\n",
      "EOHHTRHNEA\n",
      "THBDESTEUL\n",
      "FTEOHITACY\n",
      "INESBLIORN\n",
      "FESFRCETAR\n",
      "INNAANYIOM\n",
      "YADTNTIIIS\n",
      "SOENMAYRWS\n",
      "LAIEXGTLNO\n",
      "AVBEEHIDEN\n",
      "HEOTGSIASP\n",
      "DIQNNISTUI\n",
      "VEEINSOVSF\n",
      "LLGIALIEEF\n",
      "SYUAOUGESG\n",
      "TEWSDWILEL\n",
      "SEUUOTIERM\n",
      "ERIHELODNN\n",
      "NTSOOPPRUO\n",
      "OUBTROTERH\n",
      "SADRNISEST\n",
      "SADRNORATE\n",
      "SUESRHETTM\n",
      "ATHHTYHVEA\n",
      "NOBETENOEF\n",
      "GOTRTNIIEW\n",
      "LPSLAONHST\n",
      "GITEFTHTSA\n",
      "OUNYERUTTS\n",
      "DTMEOTOEEG\n",
      "HEWTRTHOIY\n",
      "RISUNRUTTC\n",
      "ONFISRTEOH\n",
      "RUEISSWDAE\n",
      "DICINISOAT\n",
      "STDREUNTMD\n",
      "ERDHAOYUIO\n",
      "ENMSTISEER\n",
      "ARAMKLETBI\n",
      "SALIBTOIEP\n",
      "KUSCPGNLIA\n",
      "ACOSRSTESH\n",
      "PETSCUMVRE\n",
      "NFOERBELMR\n",
      "NISITLFHET\n",
      "UGIOHMEJAN\n",
      "YIGONISELT\n",
      "INTNGBRTOI\n",
      "SHAIRIOSDE\n",
      "ECAPILYHLT\n",
      "HOEEMERISV\n",
      "ETECHARBYE\n",
      "ILIUDGAHNC\n",
      "INFAORASTN\n",
      "ITEMTSARRC\n",
      "SSHOTCONEU\n",
      "RYHTWCHRIP\n",
      "VIEODNFRIO\n",
      "ATOMITHONR\n",
      "GHUUOTHDTE\n",
      "YADANIGTNH\n",
      "OMTSEINTHG\n",
      "ATTHIINYHK\n",
      "UMGOITWNHA\n",
      "TOATTEITKN\n",
      "ACOOCNTHUW\n",
      "NPAELNIGNN\n",
      "URWOORAIND\n",
      "SEVORCEIIS\n",
      "MASASMIGUN\n",
      "HATTTERAHE\n",
      "ENCROANEHG\n",
      "PLNSAEDONF\n",
      "OUIRRINRTE\n",
      "RYUABIFHTT\n",
      "REREATHNEE\n",
      "ERAPHSYUPO\n",
      "OUDCLORAFW\n",
      "DTERHTOUMO\n",
      "HOTRSINPSS\n",
      "LDNAIWIHGT\n",
      "COYAPENPST\n",
      "STEORTATSN\n",
      "TOSECYOREU\n",
      "SICSNREYEL\n"
     ]
    }
   ],
   "source": [
    "# 10 columns is likely...\n",
    "columns = 10\n",
    "\n",
    "for n in range(0, 1390, columns):\n",
    "    print(squished[n:n+columns])"
   ]
  },
  {
   "cell_type": "code",
   "execution_count": 41,
   "metadata": {},
   "outputs": [
    {
     "name": "stdout",
     "output_type": "stream",
     "text": [
      "DEARUNCLEWILHELMOURJOURNEYTOLONDONWASSHORTANDCHARMINGTHETRAINSRATTLINGALONGTHEBRITISHTRACKSTHROUGHOPENFIELDSANDCOUNTRYSIDETHEIRROADSMAYBEALMOSTIMPASSABLEINPLACESBUTTHESEIRONTRACKSPROVIDEAVERYUSABLEWAYTOTRAVELACROSSCOUNTRYATSPEEDOURHOSTSINLONDONHAVEORGANISEDFORUSTOSTAYWITHMEMBERSOFTHEBRITISHSCOUTINGMOVEMENTTHOUGHIWILLSPENDTHENEXTFEWDAYSWITHTHEORTSGRUPPEEXCHANGINGNEWSABOUTTHEFATHERLANDANDTHEIRACTIVITIESHEREINTHECAPITALCITYITWASDIFFICULTTOTEAROURSELVESAWAYFROMTHEPLEASURESOFNORFOLKANDTHECITYOFFERSFARFEWEROPPORTUNITIESFOROPENEXPLORATIONONTHEOTHERHANDTHEBUSTLEOFTHECITYASINBERLINOFFERSACERTAINANONYMITYANDITISINSOMEWAYSRELAXINGTOLEAVEBEHINDTHEGOSSIPANDINQUISITIVENESSOFVILLAGELIFEASYOUSUGGESTEDWEWILLUSEOURTIMEHEREINLONDONTOSUPPORTOURBROTHERSANDSISTERSANDTOREASSURETHEMTHATTHEYHAVENOTBEENFORGOTTENIWILLPASSONTHEGIFTSTHATYOUENTRUSTEDTOMETOGETHERWITHYOURINSTRUCTIONSFORTHEIRUSEASWEDIDINCAISTORSTEDMUNDTHERADIOYOUSENTMEISREMARKABLEITISABLETOPICKUPSIGNALSACROSSTHESPECTRUMEVENFROMBERLINITSELFTHOUGHIAMENJOYINGLISTENINGTOBRITISHRADIOESPECIALLYTHEHOMESERVICETHEYAREBUILDINGACHAINOFTRANSMITTERSACROSSTHECOUNTRYWHICHPROVIDEINFORMATIONTHROUGHOUTTHEDAYANDNIGHTSOMETHINGTHATITHINKYOUMIGHTWANTTOTAKEINTOACCOUNTWHENPLANNINGOUROWNRADIOSERVICESIAMASSUMINGTHATTHEREARENOCHANGESPLANNEDFOROURITINERARYBUTIFTHEREARETHENPERHAPSYOUCOULDFORWARDTHEMTOOURHOSTSINSPALDINGWITHACOPYSENTPOSTRESTANTETOCSEYOURSSINCERELY"
     ]
    }
   ],
   "source": [
    "# First line is \"EAUDRCLWNE\".  The messages usually start \"Dear Uncle Wilhelm\"\n",
    "# Possibly only 5 columns, as the pattern seems to repeat:\n",
    "\n",
    "columns = 5\n",
    "length = len(squished)\n",
    "for n in range(0, length, columns):\n",
    "    for c in (3, 0, 1, 4, 2):\n",
    "        print(squished[n+c], end=\"\")"
   ]
  },
  {
   "cell_type": "markdown",
   "metadata": {},
   "source": [
    "Reformatted for clarity:\n",
    "\n",
    "Dear Uncle Wilhelm,<br>\n",
    "Our journey to London was short and charming. The trains rattling along the British tracks through open fields and countryside. Their roads may be almost impassable in places, but these iron tracks provide a very usable way to travel across country at speed.<br>\n",
    "Our hosts in London have organised for us to stay with members of the British scouting movement, though I will spend the next few days with the ortsgruppe, exchanging news about the Fatherland and their activities here in the capital city. It was difficult to tear ourselves away from the pleasures of Norfolk and the city offers far fewer opportunities for open exploration. On the other hand, the bustle of the city, as in Berlin, offers a certain anonymity and it is in someways relaxing to leave behind the gossip and inquisitiveness of village life.<br>\n",
    "As you suggested, we will use our time here in London to support our brothers and sisters and to reassure them that they have not been forgotten. I will pass on the gifts that you entrusted to me, together with your instructions for their use, as we did in Caistor St. Edmund.<br>\n",
    "The radio you sent me is remarkable. It is able to pick up signals across the spectrum, even from Berlin itself, though I am enjoying listening to British radio, especially the Home Service. They are building a chain of transmitters across the country, which provide information throughout the day and night. Something that I think you might want to take into account when planning our own radio services.<br>\n",
    "I am assuming that there are no changes planned for our itinerary, but if there are, then perhaps you could forward them to our hosts in Spalding, with a copy sent post-restante to CSE.<br>\n",
    "Yours Sincerely<br>"
   ]
  }
 ],
 "metadata": {
  "kernelspec": {
   "display_name": "Python 3",
   "language": "python",
   "name": "python3"
  },
  "language_info": {
   "codemirror_mode": {
    "name": "ipython",
    "version": 3
   },
   "file_extension": ".py",
   "mimetype": "text/x-python",
   "name": "python",
   "nbconvert_exporter": "python",
   "pygments_lexer": "ipython3",
   "version": "3.9.0"
  }
 },
 "nbformat": 4,
 "nbformat_minor": 4
}
