{
 "cells": [
  {
   "cell_type": "markdown",
   "metadata": {},
   "source": [
    "# Coronavirus distraction Cipher Challenge 2020\n",
    "## Challenge 8b, Suspicion\n",
    "Challenge link https://www.cipherchallenge.org/challenge/competition-challenge-8/"
   ]
  },
  {
   "cell_type": "code",
   "execution_count": 1,
   "metadata": {},
   "outputs": [],
   "source": [
    "message8b=\"\"\"HQROA CANZP DNUZH CWMUR PNVPF XLZUN UHWBW QZBWU CGPDT OZCDQ MCNNA HFRHQ ZUICH QHQPO OHPQF QLPJV BNWNU CZCLF ZFNQC OSDQQ ZCUHP YHGFC GHFZZ YQNCN QQNDX UFBLY HPOPR CVXZD BNQUN COFCP HQQHU XDQLO FZYOP PYWUH HAQON HNHQC VUWFO YUTNH NQXUZ PFQPN QCCCO WHUZH QPPYQ GQCHQ OZHUR FGQHQ HONHQ PHFQQ POQVP FLXQC PNUSH NHCHF CXNZU PCQFZ UQYHL WQHHP ALTZH NUMCU GPWSG PNHQQ OPVPQ LDZUC PPLZU FSRQH OQHNH PQMUC BHUSH RWUHQ NOFRN ZFTCZ HZHHX QHFCF QFHFP PQQOC QUZQQ RHZCQ GHQWN LBMLP NHHYU YHPNU WFWQZ YUOBQ QHQPL QBPVO QAQPH URKTZ NQQNH SOGIH YZNFF MNPHU WBZCQ TUOQC QHNFW UXHYU WNYQX HZHOO MUOZT DLPPL BNLUT OCZQH PQCUY QCHGC QPNQG QTXON NQHUC HQZFN OOQNQ HUXYH PFNQQ CCZPO WHQHS ZUCLN FUHBQ WUBLX QUOZH QNFQQ NXOWH FNSUQ HQNOF PGFPO QBQNH FARZS APWGW HQPPN RQDUH OBHHA QZBGW UQHHR ZHBHU LGQTN FGFLS ZPZZP GQNCT WCBFU HLQXN NVHFS TPOMQ XXPHH HUUNY LUQWQ HHQAF TOHHH MQCHF NNTUF HSSUZ LNCUL HLWNQ UCHAH HPNXO MNHHO MUNHQ YUXPH YZCGQ HQOFG APSFC HRHWH PPDCW OPWFZ QFNHU LCWPW ZQNYC OCGHP PQHUZ OFFQN HZYFG AFZTZ PQQBQ ONCUZ HHOHR FHPHM PFCDQ UXCNV ZDZXZ QQOCW ZZCLZ FFBCZ FNQXS ZOLSN ZGZUP FWNSR PZOHG ZHLRH FUQCY NDBOZ AQPCH FHLWH HZOWW QQPSQ OZPHL QGOZT GNFBH WBAFN QOWHX FCICQ ZZQDV FNSFL NPOXH MHPTQ CUNPW FQYPB FTZRN WOUWI ZZHAG XGOHY FZQHY WONUQ HAGZP PNUUQ FZNHW PCCRP BPSBL CQUPD ZSGLZ ZZZHQ FHCPD USCRT SNQUB UOUHU HOCZC RLHCQ IPWUY HHHZP RCNQQ ZZCCD MHQHO FUSZV LGNNH PZGFP NYCXD ZHHCG XGWHF HQCZN DZZCS LTQPG OHLCP HHCFU LTBZU SQNZQ YOFPH NUNQZ ZCGCS PXGOT HGNFB NWQCQ QOHPH QQOPV PQLGV WZGHQ HXTCH QNUCC NDXCH ZMLPZ ZZFGP ZQCOF FGZMA BPPYG YHUPP NDPCW WPUNC BHPFD CHPQU ZWQNC ZODHH UOAFH HQUWP GCZWN CCQNC CNUFH BOHQQ PCOQH XNZUH YPDCB NQYGC ZPNWB FCHCQ UPXWZ FONFN QPASG RQNHU FOHHH GHCWF HPFWF QHO\"\"\""
   ]
  },
  {
   "cell_type": "code",
   "execution_count": 2,
   "metadata": {},
   "outputs": [
    {
     "name": "stdout",
     "output_type": "stream",
     "text": [
      "H: 176 (12.46%) Q: 162 (11.46%) P: 109 (7.71%) Z: 108 (7.64%) N: 106 (7.50%)\n",
      "C: 103 (7.29%) U: 91 (6.44%) F: 88 (6.23%) O: 74 (5.24%) W: 56 (3.96%)\n",
      "G: 46 (3.26%) L: 41 (2.90%) B: 34 (2.41%) X: 32 (2.26%) Y: 32 (2.26%)\n",
      "S: 28 (1.98%) D: 25 (1.77%) R: 23 (1.63%) T: 23 (1.63%) A: 20 (1.42%)\n",
      "M: 16 (1.13%) V: 13 (0.92%) I:  5 (0.35%) J:  1 (0.07%) K:  1 (0.07%)\n",
      "\n",
      "-----\n"
     ]
    }
   ],
   "source": [
    "# The clue in 8a says that this is an affine shift followed by a transposition.\n",
    "\n",
    "from collections import Counter\n",
    "\n",
    "# Takes a string or list of items and counts the frequencies of those items\n",
    "# data: The list or string to analyse\n",
    "# max_values: The maximum number of values to display (set to None for no limit)\n",
    "# no_columns: The amount of columns to use in the output\n",
    "def frequency_analysis(data, max_values=30, no_columns=5):\n",
    "    frequencies = Counter()\n",
    "    for item in data:\n",
    "        frequencies[item] += 1\n",
    "    \n",
    "    total = sum(frequencies.values())\n",
    "    column = 1\n",
    "    for item, frequency in frequencies.most_common(max_values):\n",
    "        print(f\"{item}: {frequency:2} ({frequency / total:.2%})\", end=\" \" if column % no_columns else \"\\n\")\n",
    "        column += 1\n",
    "    print(\"\\n-----\")\n",
    "\n",
    "squished = message8b.replace(\" \", \"\")\n",
    "frequency_analysis(squished)"
   ]
  },
  {
   "cell_type": "code",
   "execution_count": 15,
   "metadata": {},
   "outputs": [
    {
     "name": "stdout",
     "output_type": "stream",
     "text": [
      "ABCDEFGHIJKLMNOPQRSTUVWXYZ\n",
      "abcdefghijklmnopqrstuvwxyz (1) 15\n",
      "ajsbktcludmvenwfoxgpyhqzir (3) 19\n",
      "avqlgbwrmhcxsnidytojezupkf (5) 23\n",
      "apetixmbqfujyncrgvkzodshwl (7) 1\n",
      "adgjmpsvybehknqtwzcfilorux (9) 5\n",
      "atmfyrkdwpibungzslexqjcvoh (11) 9\n",
      "ahovcjqxelszgnubipwdkryfmt (15) 17\n",
      "axurolifczwtqnkhebyvspmjgd (17) 21\n",
      "alwhsdozkvgrcnyjufqbmxitep (19) 25\n",
      "afkpuzejotydinsxchmrwbglqv (21) 3\n",
      "arizqhypgxofwnevmdulctkbsj (23) 7\n",
      "azyxwvutsrqponmlkjihgfedcb (25) 11\n"
     ]
    }
   ],
   "source": [
    "# The problem with that frequency set is that the second letter (usually \"t\") is very close to the first (usually \"e\"), and the next four letters after that are all quite close to each other.import string\n",
    "\n",
    "# I'll work on the assumption that H=e and Q=t\n",
    "# What I need is an affine-shifted alphabet where those two letters match\n",
    "# Let's start by going through all of the shifts and looking for a gap of 9\n",
    "\n",
    "import string\n",
    "\n",
    "def generate_affine(offset, shift):\n",
    "    alphabet = ['.'] * 26\n",
    "    for no, letter in enumerate(string.ascii_lowercase):\n",
    "        alphabet[(offset+(no*shift))%26] = letter\n",
    "    return \"\".join(alphabet)\n",
    "\n",
    "print(string.ascii_uppercase)\n",
    "for shift in (1, 3, 5, 7, 9, 11, 15, 17, 19, 21, 23, 25):\n",
    "    alphabet = generate_affine(0, shift)\n",
    "    gap = (alphabet.index(\"t\") - alphabet.index(\"e\")) % 26\n",
    "    print(f\"{alphabet} ({shift}) {gap}\")"
   ]
  },
  {
   "cell_type": "code",
   "execution_count": 16,
   "metadata": {},
   "outputs": [
    {
     "name": "stdout",
     "output_type": "stream",
     "text": [
      "ABCDEFGHIJKLMNOPQRSTUVWXYZ\n",
      "bungzslexqjcvohatmfyrkdwpi\n"
     ]
    }
   ],
   "source": [
    "# A shift of 11 characters seems to do the job.\n",
    "# Offsetting it by 15 puts the letters in the right place:\n",
    "print(string.ascii_uppercase)\n",
    "print(generate_affine(15, 11))"
   ]
  },
  {
   "cell_type": "code",
   "execution_count": 10,
   "metadata": {},
   "outputs": [
    {
     "name": "stdout",
     "output_type": "stream",
     "text": [
      "etmhbnboiagoriendvrmaokaswciroredudtiudrnlagyhingtvnoobesmetirxnetetahheatstcaqkuodornincsisotnhfgttinreapelsnlesiiptonottogwrsucpeahamnkwiguotronhsnaetterwgtchsiphaapdreebthoeoetnkrdshpryoeotwriastaotnnnhderietaaptltnethiermsltetehoetaesttahtkascwtnaorfeoenesnwoirantsirtpecdteeabcyieorvnrladflaoetthakatcgirnaacirsfmtehteoeatvrnuerfemdretohsmoisynieieewtesnstsesaatthntrittmeintletdocuvcaoeeprpeaordsdtiprhuttetactuakhtbtaermjyiottoefhlxepiossvoaerduintyrhtnteosdrweprdoptweiehhvrhiygcaacuocryhniteatnrptnelntaotltywhooternetisohhtoterwpeasottnniahdetefirncosreutdrucwtrhietosttowhdesofrtetohsalsahtutoesbmifbadldetaaomtgrehueebtiuldrteemieuercltyoslscfiaiialtonydnusrectwookesfyahvtwwaeeerropcrtdteetbsyheeevtnesooyrseffriconrcecdotrnebeeaowhvoeehvroetprwaepinltethslbafsnemedeaagndhadsitsoercndaditopnhnleaaterihsstoeipslbsiyiattuthonrieehemseaevasngtrwnokigiwitthndiincissunisotwfihcfoilirasdofmaiheliecmesrtnpoguhibtanesecdeeihddttafthiaectlhiylosuedubsothdewsnxntiitgksofscoahweveaytnroadstpausyimodhrdxiieblwlhepsitepdhortebliaaorrtsioedannmauafucntragiflciiiietsenagrfnmyfotrurhrerehninmcentxadrpeeeiamnottiinngvetehsrfikclooeailsaopnwgieenlwldesetniogiinfcytalhecnaeensrcyuirftoitphsaeorotiinlnfawlhyelosuodtnttheaetthakatclkdiletewynetornnogwneivcaiiislaitnhsslivbuaaplperaaoganddaronueasgneatridtonihgeerhbseetrdalnidonntonnorseuhettanhtewoirepagnuotplniaodusnentrawdishosotabflmtoersheeelendseasdsteh\n"
     ]
    }
   ],
   "source": [
    "# A simple translation method.\n",
    "# text: The text to translate, in upper case\n",
    "# key: A substitution alphabet, usually in lower case so that the translated characters show up\n",
    "def decode(text, key):\n",
    "    table = str.maketrans(string.ascii_uppercase, key)\n",
    "    decoded_text = text.upper().translate(table)\n",
    "    print(decoded_text)\n",
    "    return decoded_text\n",
    "\n",
    "shifted = decode(squished, \"bungzslexqjcvohatmfyrkdwpi\")"
   ]
  },
  {
   "cell_type": "code",
   "execution_count": 11,
   "metadata": {},
   "outputs": [
    {
     "name": "stdout",
     "output_type": "stream",
     "text": [
      "length = 1413\n",
      "3 9 157 471 "
     ]
    }
   ],
   "source": [
    "# How long is the text, and what are the even divisors of that number?\n",
    "length = len(shifted)\n",
    "print(\"length = \" + str(length))\n",
    "\n",
    "for n in range(2, length):\n",
    "    if length % n == 0:\n",
    "        print(n, end=\" \")"
   ]
  },
  {
   "cell_type": "code",
   "execution_count": 12,
   "metadata": {},
   "outputs": [
    {
     "name": "stdout",
     "output_type": "stream",
     "text": [
      "etmhbnboi\n",
      "agoriendv\n",
      "rmaokaswc\n",
      "iroredudt\n",
      "iudrnlagy\n",
      "hingtvnoo\n",
      "besmetirx\n",
      "netetahhe\n",
      "atstcaqku\n",
      "odornincs\n",
      "isotnhfgt\n",
      "tinreapel\n",
      "snlesiipt\n",
      "onottogwr\n",
      "sucpeaham\n",
      "nkwiguotr\n",
      "onhsnaett\n",
      "erwgtchsi\n",
      "phaapdree\n",
      "bthoeoetn\n",
      "krdshpryo\n",
      "eotwriast\n",
      "aotnnnhde\n",
      "rietaaptl\n",
      "tnethierm\n",
      "sltetehoe\n",
      "taesttaht\n",
      "kascwtnao\n",
      "rfeoenesn\n",
      "woirantsi\n",
      "rtpecdtee\n",
      "abcyieorv\n",
      "nrladflao\n",
      "etthakatc\n",
      "girnaacir\n",
      "sfmtehteo\n",
      "eatvrnuer\n",
      "femdretoh\n",
      "smoisynie\n",
      "ieewtesns\n",
      "tsesaatth\n",
      "ntrittmei\n",
      "ntletdocu\n",
      "vcaoeeprp\n",
      "eaordsdti\n",
      "prhutteta\n",
      "ctuakhtbt\n",
      "aermjyiot\n",
      "toefhlxep\n",
      "iossvoaer\n",
      "duintyrht\n",
      "nteosdrwe\n",
      "prdoptwei\n",
      "ehhvrhiyg\n",
      "caacuocry\n",
      "hniteatnr\n",
      "ptnelntao\n",
      "tltywhoot\n",
      "ernetisoh\n",
      "htoterwpe\n",
      "asottnnia\n",
      "hdetefirn\n",
      "cosreutdr\n",
      "ucwtrhiet\n",
      "osttowhde\n",
      "sofrtetoh\n",
      "salsahtut\n",
      "oesbmifba\n",
      "dldetaaom\n",
      "tgrehueeb\n",
      "tiuldrtee\n",
      "mieuerclt\n",
      "yoslscfia\n",
      "iialtonyd\n",
      "nusrectwo\n",
      "okesfyahv\n",
      "twwaeeerr\n",
      "opcrtdtee\n",
      "tbsyheeev\n",
      "tnesooyrs\n",
      "effriconr\n",
      "cecdotrne\n",
      "beeaowhvo\n",
      "eehvroetp\n",
      "rwaepinlt\n",
      "ethslbafs\n",
      "nemedeaag\n",
      "ndhadsits\n",
      "oercndadi\n",
      "topnhnlea\n",
      "aterihsst\n",
      "oeipslbsi\n",
      "yiattutho\n",
      "nrieehems\n",
      "eaevasngt\n",
      "rwnokigiw\n",
      "itthndiin\n",
      "cissuniso\n",
      "twfihcfoi\n",
      "lirasdofm\n",
      "aiheliecm\n",
      "esrtnpogu\n",
      "hibtanese\n",
      "cdeeihddt\n",
      "tafthiaec\n",
      "tlhiylosu\n",
      "edubsothd\n",
      "ewsnxntii\n",
      "tgksofsco\n",
      "ahweveayt\n",
      "nroadstpa\n",
      "usyimodhr\n",
      "dxiieblwl\n",
      "hepsitepd\n",
      "horteblia\n",
      "aorrtsioe\n",
      "dannmauaf\n",
      "ucntragif\n",
      "lciiiiets\n",
      "enagrfnmy\n",
      "fotrurhre\n",
      "rehninmce\n",
      "ntxadrpee\n",
      "eiamnotti\n",
      "inngveteh\n",
      "srfikcloo\n",
      "eailsaopn\n",
      "wgieenlwl\n",
      "desetniog\n",
      "iinfcytal\n",
      "hecnaeens\n",
      "rcyuirfto\n",
      "itphsaeor\n",
      "otiinlnfa\n",
      "wlhyelosu\n",
      "odtntthea\n",
      "etthakatc\n",
      "lkdiletew\n",
      "ynetornno\n",
      "gwneivcai\n",
      "iislaitnh\n",
      "sslivbuaa\n",
      "plperaaog\n",
      "anddaronu\n",
      "easgneatr\n",
      "idtonihge\n",
      "erhbseetr\n",
      "dalnidonn\n",
      "tonnorseu\n",
      "hettanhte\n",
      "woirepagn\n",
      "uotplniao\n",
      "dusnentra\n",
      "wdishosot\n",
      "abflmtoer\n",
      "sheeelend\n",
      "seasdsteh\n"
     ]
    }
   ],
   "source": [
    "# Let's go for 9 columns\n",
    "for n in range(0, len(shifted), 9):\n",
    "    print(shifted[n:n+9])"
   ]
  },
  {
   "cell_type": "code",
   "execution_count": 13,
   "metadata": {},
   "outputs": [
    {
     "name": "stdout",
     "output_type": "stream",
     "text": [
      "thebombingraidonvemorkwascarriedoutduringdaylightonnovembersixteenththeattacksquadronconsistingofthirteenplanessplitintotwogroupseachmakingtworunsonthetargetswhichappearedtobethenorskhydropowerstationandthenitrateplantthreemilestotheeasttheattackwasnotforeseennorwasitinterceptedbyaircoverandalloftheattackingaircraftseemtohavereturnedfromthemissioneyewitnessesstatethatintermittentcloudcoverappearedtodisrupttheattackbutthemajorityoftheexplosivesaroundthirtytonsweredroppedwithveryhighaccuracyonthenitrateplantonlytwotothreetonshitthepowerstationandthereinforcedstructurewithstoodtheworstoftheassaultthebombsfailedtodamagetherebuiltdeuteriumelectrolysisfacilityandournewstocksofheavywaterwereprotectedbythesevenstoreysofreinforcedconcreteabovehoweverthepowerplantitselfhasbeendamagedandthissecondraidontheplantraisesthepossibilitythatourenemieshaveagentsworkingwithinitindiscussionwithofficialsfromdiealchemistengroupithasbeendecidedthatthefacilityshouldbeshutdownexistingstocksofheavywaterandpotassiumhydroxidewillbeshippedtotheirlaboratoriesandmanufacturingfacilitiesingermanyforfurtherenrichmentandexperimentationgiventheriskoflocalespionagewewillneedtosignificantlyenhancesecurityforthisoperationfinallyweshouldnotethattheattackkilledtwentyonenorwegianciviliansthisisvaluablepropagandaandouragentsaredoingtheirbesthereandinlondontoensurethatthenorwegianpopulationunderstandswhoistoblamefortheseneedlessdeaths"
     ]
    }
   ],
   "source": [
    "# \"ahweveayt\" -> \"heavywate(r)\"\n",
    "for index in range(0, len(shifted), 9):\n",
    "    print(\"\".join([shifted[index+n] for n in (1,3,0,4,7,2,6,8,5)]), end=\"\")"
   ]
  },
  {
   "cell_type": "markdown",
   "metadata": {},
   "source": [
    "### Edited for clarity\n",
    "\n",
    "The bombing raid on Vemork was carried out during daylight on November sixteenth. The attack squadron consisting of thirteen planes, split into two groups, each making two runs on the targets, which appeared to be the Norsk Hydro power station and the nitrate plant three miles to the east.<br/>\n",
    "The attack was not foreseen, nor was it intercepted by air cover and all of the attacking aircraft seem to have returned from the mission. Eyewitnesses state that intermittent cloud cover appeared to disrupt the attack, but the majority of the explosives (around thirty tons) were dropped with very high accuracy on the nitrate plant. Only two to three tons hit the power station and the reinforced structure withstood the worst of the assault.<br/>\n",
    "The bombs failed to damage the rebuilt deuterium electrolysis facility and our new stocks of heavy water were protected by the seven storeys of reinforced concrete above. However, the power plant itself has been damaged and this second raid on the plant raises the possibility that our enemies have agents working within it.<br/>\n",
    "In discussion with officials from Die Alchemisten group, it has been decided that the facility should be shut down. Existing stocks of heavy water and potassium hydroxide will be shipped to their laboratories and manufacturing facilities in Germany for further enrichment and experimentation.<br/>\n",
    "Given the risk of local espionage, we will need to significantly enhance security for this operation.<br/>\n",
    "Finally, we should note that the attack killed twenty one Norwegian civilians. This is valuable propaganda and our agents are doing their best here and in London to ensure that the Norwegian population understands who is to blame for these needless deaths."
   ]
  },
  {
   "cell_type": "code",
   "execution_count": 3,
   "metadata": {},
   "outputs": [
    {
     "name": "stdout",
     "output_type": "stream",
     "text": [
      "Found it: clampdown\n"
     ]
    }
   ],
   "source": [
    "# Remove duplicate (and non-alphabetic) letters from a word and return the result\n",
    "def remove_duplicates(word):\n",
    "    result = \"\"\n",
    "    for letter in word:\n",
    "        if letter.isalpha() and letter not in result:\n",
    "            result += letter\n",
    "    return result\n",
    "\n",
    "\n",
    "# Search some text for a word that contains letters in a given order\n",
    "# text: The test to search\n",
    "# order: A list of integers representing the alphabetical order of the letters in the word\n",
    "def search_combinations(text, order):\n",
    "    for word in text.split():\n",
    "        squished = remove_duplicates(word)\n",
    "        if len(squished) == len(order):\n",
    "            positions = dict()\n",
    "            for n, letter in enumerate(sorted(squished)):\n",
    "                positions[letter]=n\n",
    "            if [positions[letter] for letter in squished] == order:\n",
    "                print(f\"Found it: {squished}\")\n",
    "                \n",
    "\n",
    "# I tried all of the words in the previous messages and there were no matches.\n",
    "# I really need to run it on a fulll dictionary.\n",
    "# I found the keyword from a strong hint on the forum, so let's test it here\n",
    "message = \"\"\"clampdown\"\"\"\n",
    "\n",
    "search_combinations(message, [1,3,0,4,7,2,6,8,5])"
   ]
  },
  {
   "cell_type": "code",
   "execution_count": null,
   "metadata": {},
   "outputs": [],
   "source": []
  }
 ],
 "metadata": {
  "kernelspec": {
   "display_name": "Python 3",
   "language": "python",
   "name": "python3"
  },
  "language_info": {
   "codemirror_mode": {
    "name": "ipython",
    "version": 3
   },
   "file_extension": ".py",
   "mimetype": "text/x-python",
   "name": "python",
   "nbconvert_exporter": "python",
   "pygments_lexer": "ipython3",
   "version": "3.8.3"
  }
 },
 "nbformat": 4,
 "nbformat_minor": 4
}
