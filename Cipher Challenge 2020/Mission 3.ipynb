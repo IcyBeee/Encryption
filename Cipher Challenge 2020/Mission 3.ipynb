{
 "cells": [
  {
   "cell_type": "markdown",
   "metadata": {},
   "source": [
    "# Cipher Challenge 2020\n",
    "### Practice Challenge 3\n",
    "\n",
    "Challenge link https://www.cipherchallenge.org/challenge/practice-challenge-3/"
   ]
  },
  {
   "cell_type": "code",
   "execution_count": null,
   "metadata": {},
   "outputs": [],
   "source": [
    "# Part A - \n",
    "part_a_text = \"\"\"\"\"\""
   ]
  },
  {
   "cell_type": "code",
   "execution_count": null,
   "metadata": {},
   "outputs": [],
   "source": [
    "# Bring in the basic decoder function\n",
    "import string\n",
    "\n",
    "# A simple translation method.\n",
    "# text: The text to translate, in upper case\n",
    "# key: A substitution alphabet, usually in lower case so that the translated characters show up\n",
    "def decode(text, key):\n",
    "    table = str.maketrans(string.ascii_uppercase, key)\n",
    "    print(text.upper().translate(table))"
   ]
  },
  {
   "cell_type": "code",
   "execution_count": null,
   "metadata": {},
   "outputs": [],
   "source": [
    "# \n",
    "decode(part_a_text.upper(), \"ABCDEFGHIJKLMNOPQRSTUVWXYZ\")"
   ]
  },
  {
   "cell_type": "code",
   "execution_count": null,
   "metadata": {},
   "outputs": [],
   "source": [
    "# Part B - \n",
    "part_b_text = \"\"\"\"\"\""
   ]
  },
  {
   "cell_type": "code",
   "execution_count": null,
   "metadata": {},
   "outputs": [],
   "source": [
    "from collections import Counter\n",
    "\n",
    "# Takes a string or list of items and counts the frequencies of those items\n",
    "# data: The list or string to analyse\n",
    "# max_values: The maximum number of values to display (set to None for no limit)\n",
    "# no_columns: The amount of columns to use in the output\n",
    "def frequency_analysis(data, max_values=30, no_columns=5):\n",
    "    frequencies = Counter()\n",
    "    for item in data:\n",
    "        frequencies[item] += 1\n",
    "    \n",
    "    total = sum(frequencies.values())\n",
    "    column = 1\n",
    "    for item, frequency in frequencies.most_common(max_values):\n",
    "        print(f\"{item}: {frequency:2} ({frequency / total:.2%})\", end=\" \" if column % no_columns else \"\\n\")\n",
    "        column += 1\n",
    "    print(\"\\n-----\")"
   ]
  },
  {
   "cell_type": "code",
   "execution_count": null,
   "metadata": {},
   "outputs": [],
   "source": [
    "frequency_analysis(part_b_text.replace(\" \", \"\"))"
   ]
  },
  {
   "cell_type": "code",
   "execution_count": null,
   "metadata": {},
   "outputs": [],
   "source": [
    "# \n",
    "decode(part_b_text, \"ABCDEFGHIJKLMNOPQRSTUVWXYZ\")"
   ]
  },
  {
   "cell_type": "code",
   "execution_count": null,
   "metadata": {},
   "outputs": [],
   "source": [
    "# Attempts to determine the keyword used for a substitution cipher\n",
    "# alphabet: The substitution alphabet\n",
    "def decode_key(alphabet):\n",
    "    decoded_alphabet = \"\"\n",
    "    for letter in string.ascii_lowercase:\n",
    "        decoded_alphabet += chr(alphabet.find(letter) + ord(\"a\"))\n",
    "    print(f\"Decoded alphabet: {decoded_alphabet}\")\n",
    "    \n",
    "    remaining_letters = list(string.ascii_lowercase)\n",
    "    for pos, letter in enumerate(decoded_alphabet):\n",
    "        remaining_letters.remove(letter)\n",
    "        next_letter_index = remaining_letters.index(decoded_alphabet[pos+1])\n",
    "        if decoded_alphabet[pos+1:] == \"\".join(remaining_letters[next_letter_index:] + remaining_letters[:next_letter_index]):\n",
    "            print(f\"Keyword: {decoded_alphabet[:pos+2]}\")\n",
    "            break\n",
    "\n",
    "decode_key(\"abnodpqerstuvwxyzfghijcklm\")"
   ]
  },
  {
   "cell_type": "code",
   "execution_count": null,
   "metadata": {},
   "outputs": [],
   "source": []
  }
 ],
 "metadata": {
  "kernelspec": {
   "display_name": "Python 3",
   "language": "python",
   "name": "python3"
  },
  "language_info": {
   "codemirror_mode": {
    "name": "ipython",
    "version": 3
   },
   "file_extension": ".py",
   "mimetype": "text/x-python",
   "name": "python",
   "nbconvert_exporter": "python",
   "pygments_lexer": "ipython3",
   "version": "3.9.0"
  }
 },
 "nbformat": 4,
 "nbformat_minor": 4
}
