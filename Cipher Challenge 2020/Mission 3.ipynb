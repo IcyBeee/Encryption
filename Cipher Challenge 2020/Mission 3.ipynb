{
 "cells": [
  {
   "cell_type": "markdown",
   "metadata": {},
   "source": [
    "# Cipher Challenge 2020\n",
    "### Practice Challenge 3\n",
    "\n",
    "Challenge link https://www.cipherchallenge.org/challenge/practice-challenge-3/"
   ]
  },
  {
   "cell_type": "code",
   "execution_count": 1,
   "metadata": {},
   "outputs": [],
   "source": [
    "# Part A - \n",
    "part_a_text = \"\"\"GSVZWF GA OIODLAZO PAD GSOTD JADW AZ GSO TZGODROBG, TG XAAWF DOVXXL TYBADGVZG VZN T SVIO NTFRHFFON GSO RAZGOZGF JTGS SVDDL. AHD FAHDROF TZ QODYVZL SVIO RAZPTDYON GSVG GSO ZRV YVQVMTZO RVDDTON GSO TZFGDHRGTAZF TFFHON EL TS VZN ZD, VZN IW JDAGO GA GSO RSTOP RAZFGVEXOF AP XARVX BAXTRO PADROF DOCHOFGTZQ GSOY GA WOOB VZ OLO AHG PAD GSO GAHDTZQ QDAHBF VZN GA DOBADG AZ VZL YVGGODF AP TZGODOFG. FBORTVX EDVZRS VDO RAADNTZVGTZQ TZGOXXTQOZRO VRGTITGTOF VZN PADJVDNON V DOBADG PDAY GSO XARVX RAZFGVEHXVDL TZ ZADPAXW NOGVTXTZQ VRGTITGL EL AZO AP GSO GAHDTZQ RLRXTZQ BVDGTOF JSA JODO FOOZ GVWTZQ BSAGAQDVBSF VZN FWOGRSTZQ GSO XVZNFRVBO VG RVTFGAD FG ONYHZN. GSO XARVX RAZFGVEXO CHOFGTAZON GSOY, EHG GSOL JODO ZAG SOXN VF GSODO JODO ZA QDAHZNF PAD VZ VDDOFG. GSOL SVN VDDTION VG SVDJTRS VZN JODO VBBVDOZGXL GAHDTZQ ZADPAXW VG GSO TZITGVGTAZ AP V XARVX FRAHG QDAHB EOPADO SOVNTZQ GA XAZNAZ.\n",
    "JSTXO GSODO VDO FTQZTPTRVZG NOPOZRO TZFGVXXVGTAZF TZ GSVG VDOV, RVTFGAD FG ONYHZN FOOYF VZ HZXTWOXL GVDQOG PAD QODYVZ TZGOXXTQOZRO FA BODSVBF GSTF TF TZZAROZG, EHG GSO OITNOZRO JO SVIO FA PVD FHQQOFGF GSVG GSVG TF HZXTWOXL. VZAGSOD BAFFTETXTGL TF GSVG TG TF V DON SODDTZQ ABODVGTAZ NTFQHTFTZQ GSO VRGTITGTOF AP AGSOD QDAHBF, EHG UHFG TZ RVFO T JTXX YVWO OZCHTDTOF JTGS AHD FTFGOD VQOZRTOF GA FOO TP GSODO TF VZLGSTZQ JO FSAHXN WZAJ VEAHG TZ GSVG VDOV.\n",
    "T VFWON AHD VQOZGF TZ ZADPAXW GA DOBADG AZ HZHFHVX VRGTITGL VZN FOZG GSOY V XTFG AP WOLJADNF GSVG FSAHXN GDTQQOD TZIOFGTQVGTAZ. GSOL PADJVDNON GSO VGGVRSON YOFFVQO VNNDOFFON GA GTDBTGMHPOD, JSTRS JVF XOPG VG GSO RVTFGAD FG ONYHZN BAFG APPTRO EL GSO XARVX FRAHGYVFGOD. TG JVF TZ V EHXWL BVRWOG RAZGVTZTZQ V ZHYEOD AP FWOGRSOF AP GSO VDOV GAQOGSOD JTGS VZ OZRDLBGON YOFFVQO JSTRS JO ZOON LAH GA NORTBSOD CHTRWXL. VZVXLFTF AP AGSOD RAYYHZTRVGTAZ TZGODROBGF SVIO FHQQOFGON GSVG GSTF YOFFVQO YVL VXFA RAZGVTZ V WOL GA PHGHDO RAYYHZTRVGTAZF VRDAFF GSO FBLRXTFG ZOGJADW FA LAH FSAHXN FBOZN FAYO GTYO GSTZWTZQ VEAHG TG AZRO LAH SVIO FHEYTGGON GSO NORDLBG.\n",
    "JSTXO GSO YTFFTAZ AP GSO FBLRXTFGF TF FBOXXON AHG TZ NOGVTX TZ GSO XVFG NORDLBG, TG TF FGTXX ZAG RXOVD JSVG GSO XVDQOD VTYF AP GSO VEJOSD YTFFTAZ YTQSG EO, EHG LAHD DOFOVDRS TZGA JTXSOXY VZN ZTWAXVHF SVF BDAEVEXL XON LAH GA GSO FVYO RAZRXHFTAZ VF YO: GSTF TF V STQS-XOIOX YTFFTAZ VZN TF XTWOXL GA BAFO V FTQZTPTRVZG GSDOVG GA AHD FORHDTGL. TG PAXXAJF GSVG JO FSAHXN TZRDOVFO AHD AJZ FORHDTGL GA BDOIOZG ZVMT RANO EDOVWODF PDAY DOVNTZQ AHD YOFFVQOF, FA T JTXX XOZQGSOZ GSO WOLJADN TZ YL ZOKG YTFFTAZ EDTOPTZQ. T JTXX VXFA DOITOJ AHD RAYYHZTRVGTAZ BDAGARAXF PAD FHEFOCHOZG YOFFVQOF JTGS SVDDL VZN JTXX HBNVGO LAH AZ GSO FGVZNVDNF GA HFO TZ YTFFTAZ EDTOPTZQ 4.\n",
    "GSO DOBADG PDAY ZADPAXW QVIO YO VZ TNOV VEAHG SAJ JO RAHXN QVGSOD TZGOXXTQOZRO AZ GSO FBLRXTFG ZOGJADW. SVDDL VZN T NTFRHFFON GSTF JTGS IW FTZRO TG RVDDTOF V ZHYEOD AP DTFWF, EHG IW VBBDAION GSO FGDVGOQL JSTRS JO SVIO QTIOZ GSO RANOZVYO GSO VWOXV TZTGTVGTIO. YADO GA PAXXAJ.\n",
    "BOVDX\"\"\""
   ]
  },
  {
   "cell_type": "code",
   "execution_count": 2,
   "metadata": {},
   "outputs": [],
   "source": [
    "# Bring in the basic decoder function\n",
    "import string\n",
    "\n",
    "# A simple translation method.\n",
    "# text: The text to translate, in upper case\n",
    "# key: A substitution alphabet, usually in lower case so that the translated characters show up\n",
    "def decode(text, key):\n",
    "    table = str.maketrans(string.ascii_uppercase, key)\n",
    "    print(text.upper().translate(table))"
   ]
  },
  {
   "cell_type": "code",
   "execution_count": 3,
   "metadata": {},
   "outputs": [],
   "source": [
    "from collections import Counter\n",
    "\n",
    "# Takes a string or list of items and counts the frequencies of those items\n",
    "# data: The list or string to analyse\n",
    "# max_values: The maximum number of values to display (set to None for no limit)\n",
    "# no_columns: The amount of columns to use in the output\n",
    "def frequency_analysis(data, max_values=30, no_columns=5):\n",
    "    frequencies = Counter()\n",
    "    for item in data:\n",
    "        frequencies[item] += 1\n",
    "    \n",
    "    total = sum(frequencies.values())\n",
    "    column = 1\n",
    "    for item, frequency in frequencies.most_common(max_values):\n",
    "        print(f\"{item}: {frequency:2} ({frequency / total:.2%})\", end=\" \" if column % no_columns else \"\\n\")\n",
    "        column += 1\n",
    "    print(\"\\n-----\")"
   ]
  },
  {
   "cell_type": "code",
   "execution_count": 4,
   "metadata": {},
   "outputs": [
    {
     "name": "stdout",
     "output_type": "stream",
     "text": [
      "O: 275 (11.34%) G: 239 (9.86%) T: 198 (8.16%) A: 182 (7.51%) V: 179 (7.38%)\n",
      "F: 171 (7.05%) Z: 165 (6.80%) D: 151 (6.23%) S: 117 (4.82%) X: 93 (3.84%)\n",
      "R: 86 (3.55%) H: 77 (3.18%) N: 74 (3.05%) Q: 56 (2.31%) Y: 49 (2.02%)\n",
      "L: 48 (1.98%) J: 45 (1.86%) P: 44 (1.81%) B: 43 (1.77%) W: 33 (1.36%)\n",
      "E: 29 (1.20%) I: 25 (1.03%) .: 17 (0.70%) ,: 11 (0.45%) C:  5 (0.21%)\n",
      "\n",
      ":  5 (0.21%) M:  3 (0.12%) U:  1 (0.04%) ::  1 (0.04%) -:  1 (0.04%)\n",
      "\n",
      "-----\n"
     ]
    }
   ],
   "source": [
    "frequency_analysis(part_a_text.replace(\" \", \"\"))"
   ]
  },
  {
   "cell_type": "code",
   "execution_count": 5,
   "metadata": {},
   "outputs": [
    {
     "name": "stdout",
     "output_type": "stream",
     "text": [
      "thVZWF tA eIeDLAZe PAD theTD JADW AZ the TZteDReBt, Tt XAAWF DeVXXL TYBADtVZt VZN T hVIe NTFRHFFeN the RAZteZtF JTth hVDDL. AHD FAHDReF TZ QeDYVZL hVIe RAZPTDYeN thVt the ZRV YVQVMTZe RVDDTeN the TZFtDHRtTAZF TFFHeN EL Th VZN ZD, VZN IW JDAte tA the RhTeP RAZFtVEXeF AP XARVX BAXTRe PADReF DeCHeFtTZQ theY tA WeeB VZ eLe AHt PAD the tAHDTZQ QDAHBF VZN tA DeBADt AZ VZL YVtteDF AP TZteDeFt. FBeRTVX EDVZRh VDe RAADNTZVtTZQ TZteXXTQeZRe VRtTITtTeF VZN PADJVDNeN V DeBADt PDAY the XARVX RAZFtVEHXVDL TZ ZADPAXW NetVTXTZQ VRtTITtL EL AZe AP the tAHDTZQ RLRXTZQ BVDtTeF JhA JeDe FeeZ tVWTZQ BhAtAQDVBhF VZN FWetRhTZQ the XVZNFRVBe Vt RVTFtAD Ft eNYHZN. the XARVX RAZFtVEXe CHeFtTAZeN theY, EHt theL JeDe ZAt heXN VF theDe JeDe ZA QDAHZNF PAD VZ VDDeFt. theL hVN VDDTIeN Vt hVDJTRh VZN JeDe VBBVDeZtXL tAHDTZQ ZADPAXW Vt the TZITtVtTAZ AP V XARVX FRAHt QDAHB EePADe heVNTZQ tA XAZNAZ.\n",
      "JhTXe theDe VDe FTQZTPTRVZt NePeZRe TZFtVXXVtTAZF TZ thVt VDeV, RVTFtAD Ft eNYHZN FeeYF VZ HZXTWeXL tVDQet PAD QeDYVZ TZteXXTQeZRe FA BeDhVBF thTF TF TZZAReZt, EHt the eITNeZRe Je hVIe FA PVD FHQQeFtF thVt thVt TF HZXTWeXL. VZAtheD BAFFTETXTtL TF thVt Tt TF V DeN heDDTZQ ABeDVtTAZ NTFQHTFTZQ the VRtTITtTeF AP AtheD QDAHBF, EHt UHFt TZ RVFe T JTXX YVWe eZCHTDTeF JTth AHD FTFteD VQeZRTeF tA Fee TP theDe TF VZLthTZQ Je FhAHXN WZAJ VEAHt TZ thVt VDeV.\n",
      "T VFWeN AHD VQeZtF TZ ZADPAXW tA DeBADt AZ HZHFHVX VRtTITtL VZN FeZt theY V XTFt AP WeLJADNF thVt FhAHXN tDTQQeD TZIeFtTQVtTAZ. theL PADJVDNeN the VttVRheN YeFFVQe VNNDeFFeN tA tTDBTtMHPeD, JhTRh JVF XePt Vt the RVTFtAD Ft eNYHZN BAFt APPTRe EL the XARVX FRAHtYVFteD. Tt JVF TZ V EHXWL BVRWet RAZtVTZTZQ V ZHYEeD AP FWetRheF AP the VDeV tAQetheD JTth VZ eZRDLBteN YeFFVQe JhTRh Je ZeeN LAH tA NeRTBheD CHTRWXL. VZVXLFTF AP AtheD RAYYHZTRVtTAZ TZteDReBtF hVIe FHQQeFteN thVt thTF YeFFVQe YVL VXFA RAZtVTZ V WeL tA PHtHDe RAYYHZTRVtTAZF VRDAFF the FBLRXTFt ZetJADW FA LAH FhAHXN FBeZN FAYe tTYe thTZWTZQ VEAHt Tt AZRe LAH hVIe FHEYTtteN the NeRDLBt.\n",
      "JhTXe the YTFFTAZ AP the FBLRXTFtF TF FBeXXeN AHt TZ NetVTX TZ the XVFt NeRDLBt, Tt TF FtTXX ZAt RXeVD JhVt the XVDQeD VTYF AP the VEJehD YTFFTAZ YTQht Ee, EHt LAHD DeFeVDRh TZtA JTXheXY VZN ZTWAXVHF hVF BDAEVEXL XeN LAH tA the FVYe RAZRXHFTAZ VF Ye: thTF TF V hTQh-XeIeX YTFFTAZ VZN TF XTWeXL tA BAFe V FTQZTPTRVZt thDeVt tA AHD FeRHDTtL. Tt PAXXAJF thVt Je FhAHXN TZRDeVFe AHD AJZ FeRHDTtL tA BDeIeZt ZVMT RANe EDeVWeDF PDAY DeVNTZQ AHD YeFFVQeF, FA T JTXX XeZQtheZ the WeLJADN TZ YL ZeKt YTFFTAZ EDTePTZQ. T JTXX VXFA DeITeJ AHD RAYYHZTRVtTAZ BDAtARAXF PAD FHEFeCHeZt YeFFVQeF JTth hVDDL VZN JTXX HBNVte LAH AZ the FtVZNVDNF tA HFe TZ YTFFTAZ EDTePTZQ 4.\n",
      "the DeBADt PDAY ZADPAXW QVIe Ye VZ TNeV VEAHt hAJ Je RAHXN QVtheD TZteXXTQeZRe AZ the FBLRXTFt ZetJADW. hVDDL VZN T NTFRHFFeN thTF JTth IW FTZRe Tt RVDDTeF V ZHYEeD AP DTFWF, EHt IW VBBDAIeN the FtDVteQL JhTRh Je hVIe QTIeZ the RANeZVYe the VWeXV TZTtTVtTIe. YADe tA PAXXAJ.\n",
      "BeVDX\n"
     ]
    }
   ],
   "source": [
    "# GSO is probably \"the\"\n",
    "decode(part_a_text.upper(), \"ABCDEFtHIJKLMNePQRhTUVWXYZ\")"
   ]
  },
  {
   "cell_type": "code",
   "execution_count": 7,
   "metadata": {},
   "outputs": [
    {
     "name": "stdout",
     "output_type": "stream",
     "text": [
      "thaZWF to everLoZe Por their JorW oZ the iZterReBt, it XooWF reaXXL iYBortaZt aZN i have NiFRHFFeN the RoZteZtF Jith harrL. oHr FoHrReF iZ QerYaZL have RoZPirYeN that the ZRa YaQaMiZe RarrieN the iZFtrHRtioZF iFFHeN EL ih aZN Zr, aZN vW Jrote to the RhieP RoZFtaEXeF oP XoRaX BoXiRe PorReF reCHeFtiZQ theY to WeeB aZ eLe oHt Por the toHriZQ QroHBF aZN to reBort oZ aZL YatterF oP iZtereFt. FBeRiaX EraZRh are RoorNiZatiZQ iZteXXiQeZRe aRtivitieF aZN PorJarNeN a reBort ProY the XoRaX RoZFtaEHXarL iZ ZorPoXW NetaiXiZQ aRtivitL EL oZe oP the toHriZQ RLRXiZQ BartieF Jho Jere FeeZ taWiZQ BhotoQraBhF aZN FWetRhiZQ the XaZNFRaBe at RaiFtor Ft eNYHZN. the XoRaX RoZFtaEXe CHeFtioZeN theY, EHt theL Jere Zot heXN aF there Jere Zo QroHZNF Por aZ arreFt. theL haN arriveN at harJiRh aZN Jere aBBareZtXL toHriZQ ZorPoXW at the iZvitatioZ oP a XoRaX FRoHt QroHB EePore heaNiZQ to XoZNoZ.\n",
      "JhiXe there are FiQZiPiRaZt NePeZRe iZFtaXXatioZF iZ that area, RaiFtor Ft eNYHZN FeeYF aZ HZXiWeXL tarQet Por QerYaZ iZteXXiQeZRe Fo BerhaBF thiF iF iZZoReZt, EHt the eviNeZRe Je have Fo Par FHQQeFtF that that iF HZXiWeXL. aZother BoFFiEiXitL iF that it iF a reN herriZQ oBeratioZ NiFQHiFiZQ the aRtivitieF oP other QroHBF, EHt UHFt iZ RaFe i JiXX YaWe eZCHirieF Jith oHr FiFter aQeZRieF to Fee iP there iF aZLthiZQ Je FhoHXN WZoJ aEoHt iZ that area.\n",
      "i aFWeN oHr aQeZtF iZ ZorPoXW to reBort oZ HZHFHaX aRtivitL aZN FeZt theY a XiFt oP WeLJorNF that FhoHXN triQQer iZveFtiQatioZ. theL PorJarNeN the attaRheN YeFFaQe aNNreFFeN to tirBitMHPer, JhiRh JaF XePt at the RaiFtor Ft eNYHZN BoFt oPPiRe EL the XoRaX FRoHtYaFter. it JaF iZ a EHXWL BaRWet RoZtaiZiZQ a ZHYEer oP FWetRheF oP the area toQether Jith aZ eZRrLBteN YeFFaQe JhiRh Je ZeeN LoH to NeRiBher CHiRWXL. aZaXLFiF oP other RoYYHZiRatioZ iZterReBtF have FHQQeFteN that thiF YeFFaQe YaL aXFo RoZtaiZ a WeL to PHtHre RoYYHZiRatioZF aRroFF the FBLRXiFt ZetJorW Fo LoH FhoHXN FBeZN FoYe tiYe thiZWiZQ aEoHt it oZRe LoH have FHEYitteN the NeRrLBt.\n",
      "JhiXe the YiFFioZ oP the FBLRXiFtF iF FBeXXeN oHt iZ NetaiX iZ the XaFt NeRrLBt, it iF FtiXX Zot RXear Jhat the XarQer aiYF oP the aEJehr YiFFioZ YiQht Ee, EHt LoHr reFearRh iZto JiXheXY aZN ZiWoXaHF haF BroEaEXL XeN LoH to the FaYe RoZRXHFioZ aF Ye: thiF iF a hiQh-XeveX YiFFioZ aZN iF XiWeXL to BoFe a FiQZiPiRaZt threat to oHr FeRHritL. it PoXXoJF that Je FhoHXN iZRreaFe oHr oJZ FeRHritL to BreveZt ZaMi RoNe EreaWerF ProY reaNiZQ oHr YeFFaQeF, Fo i JiXX XeZQtheZ the WeLJorN iZ YL ZeKt YiFFioZ EriePiZQ. i JiXX aXFo revieJ oHr RoYYHZiRatioZ BrotoRoXF Por FHEFeCHeZt YeFFaQeF Jith harrL aZN JiXX HBNate LoH oZ the FtaZNarNF to HFe iZ YiFFioZ EriePiZQ 4.\n",
      "the reBort ProY ZorPoXW Qave Ye aZ iNea aEoHt hoJ Je RoHXN Qather iZteXXiQeZRe oZ the FBLRXiFt ZetJorW. harrL aZN i NiFRHFFeN thiF Jith vW FiZRe it RarrieF a ZHYEer oP riFWF, EHt vW aBBroveN the FtrateQL JhiRh Je have QiveZ the RoNeZaYe the aWeXa iZitiative. Yore to PoXXoJ.\n",
      "BearX\n"
     ]
    }
   ],
   "source": [
    "# \"theDe\" -> D=r\n",
    "# \"tA\" -> A=o\n",
    "# \"T hVIe\" -> T=i, V=a, I=v\n",
    "decode(part_a_text.upper(), \"oBCrEFtHvJKLMNePQRhiUaWXYZ\")"
   ]
  },
  {
   "cell_type": "code",
   "execution_count": 8,
   "metadata": {},
   "outputs": [
    {
     "name": "stdout",
     "output_type": "stream",
     "text": [
      "thanks to everyone for their work on the interRept, it looks really important anN i have NisRHsseN the Rontents with harry. oHr soHrRes in germany have RonfirmeN that the nRa magaMine RarrieN the instrHRtions issHeN Ey ih anN nr, anN vk wrote to the Rhief RonstaEles of loRal poliRe forRes reCHesting them to keep an eye oHt for the toHring groHps anN to report on any matters of interest. speRial EranRh are RoorNinating intelligenRe aRtivities anN forwarNeN a report from the loRal RonstaEHlary in norfolk Netailing aRtivity Ey one of the toHring RyRling parties who were seen taking photographs anN sketRhing the lanNsRape at Raistor st eNmHnN. the loRal RonstaEle CHestioneN them, EHt they were not helN as there were no groHnNs for an arrest. they haN arriveN at harwiRh anN were apparently toHring norfolk at the invitation of a loRal sRoHt groHp Eefore heaNing to lonNon.\n",
      "while there are signifiRant NefenRe installations in that area, Raistor st eNmHnN seems an Hnlikely target for german intelligenRe so perhaps this is innoRent, EHt the eviNenRe we have so far sHggests that that is Hnlikely. another possiEility is that it is a reN herring operation NisgHising the aRtivities of other groHps, EHt UHst in Rase i will make enCHiries with oHr sister agenRies to see if there is anything we shoHlN know aEoHt in that area.\n",
      "i askeN oHr agents in norfolk to report on HnHsHal aRtivity anN sent them a list of keyworNs that shoHlN trigger investigation. they forwarNeN the attaRheN message aNNresseN to tirpitMHfer, whiRh was left at the Raistor st eNmHnN post offiRe Ey the loRal sRoHtmaster. it was in a EHlky paRket Rontaining a nHmEer of sketRhes of the area together with an enRrypteN message whiRh we neeN yoH to NeRipher CHiRkly. analysis of other RommHniRation interRepts have sHggesteN that this message may also Rontain a key to fHtHre RommHniRations aRross the spyRlist network so yoH shoHlN spenN some time thinking aEoHt it onRe yoH have sHEmitteN the NeRrypt.\n",
      "while the mission of the spyRlists is spelleN oHt in Netail in the last NeRrypt, it is still not Rlear what the larger aims of the aEwehr mission might Ee, EHt yoHr researRh into wilhelm anN nikolaHs has proEaEly leN yoH to the same RonRlHsion as me: this is a high-level mission anN is likely to pose a signifiRant threat to oHr seRHrity. it follows that we shoHlN inRrease oHr own seRHrity to prevent naMi RoNe Ereakers from reaNing oHr messages, so i will lengthen the keyworN in my neKt mission Eriefing. i will also review oHr RommHniRation protoRols for sHEseCHent messages with harry anN will HpNate yoH on the stanNarNs to Hse in mission Eriefing 4.\n",
      "the report from norfolk gave me an iNea aEoHt how we RoHlN gather intelligenRe on the spyRlist network. harry anN i NisRHsseN this with vk sinRe it Rarries a nHmEer of risks, EHt vk approveN the strategy whiRh we have given the RoNename the akela initiative. more to follow.\n",
      "pearl\n"
     ]
    }
   ],
   "source": [
    "# \"thaZWF to everLoZe Por their JorW oZ\" -> Z=n, W=k, F=s, L=y, P=f, J=w\n",
    "# \"FtrateQL\" -> Q=g\n",
    "# \"reaXXL iYBortaZt\" -> X=l, Y=m, B=p\n",
    "decode(part_a_text.upper(), \"opCrEstHvwKyMNefgRhiUaklmn\")"
   ]
  },
  {
   "cell_type": "code",
   "execution_count": 9,
   "metadata": {},
   "outputs": [
    {
     "name": "stdout",
     "output_type": "stream",
     "text": [
      "thanks to everyone for their work on the intercept, it looks really important and i have discussed the contents with harry. our sources in germany have confirmed that the nca magazine carried the instructions issued by ih and nr, and vk wrote to the chief constables of local police forces requesting them to keep an eye out for the touring groups and to report on any matters of interest. special branch are coordinating intelligence activities and forwarded a report from the local constabulary in norfolk detailing activity by one of the touring cycling parties who were seen taking photographs and sketching the landscape at caistor st edmund. the local constable questioned them, but they were not held as there were no grounds for an arrest. they had arrived at harwich and were apparently touring norfolk at the invitation of a local scout group before heading to london.\n",
      "while there are significant defence installations in that area, caistor st edmund seems an unlikely target for german intelligence so perhaps this is innocent, but the evidence we have so far suggests that that is unlikely. another possibility is that it is a red herring operation disguising the activities of other groups, but just in case i will make enquiries with our sister agencies to see if there is anything we should know about in that area.\n",
      "i asked our agents in norfolk to report on unusual activity and sent them a list of keywords that should trigger investigation. they forwarded the attached message addressed to tirpitzufer, which was left at the caistor st edmund post office by the local scoutmaster. it was in a bulky packet containing a number of sketches of the area together with an encrypted message which we need you to decipher quickly. analysis of other communication intercepts have suggested that this message may also contain a key to future communications across the spyclist network so you should spend some time thinking about it once you have submitted the decrypt.\n",
      "while the mission of the spyclists is spelled out in detail in the last decrypt, it is still not clear what the larger aims of the abwehr mission might be, but your research into wilhelm and nikolaus has probably led you to the same conclusion as me: this is a high-level mission and is likely to pose a significant threat to our security. it follows that we should increase our own security to prevent nazi code breakers from reading our messages, so i will lengthen the keyword in my next mission briefing. i will also review our communication protocols for subsequent messages with harry and will update you on the standards to use in mission briefing 4.\n",
      "the report from norfolk gave me an idea about how we could gather intelligence on the spyclist network. harry and i discussed this with vk since it carries a number of risks, but vk approved the strategy which we have given the codename the akela initiative. more to follow.\n",
      "pearl\n"
     ]
    }
   ],
   "source": [
    "# \"interRept\" -> R=c\n",
    "# \"anN i have NisRHsseN\" -> N=d, H=u\n",
    "# C=q, K=x, M=z, U=j (sequence), E=b (missing letter)\n",
    "decode(part_a_text.upper(), \"opqrbstuvwxyzdefgchijaklmn\")"
   ]
  },
  {
   "cell_type": "code",
   "execution_count": 10,
   "metadata": {},
   "outputs": [
    {
     "name": "stdout",
     "output_type": "stream",
     "text": [
      "Decoded alphabet: vernopqstuwxyzabcdfghijklm\n",
      "Keyword: vern\n"
     ]
    }
   ],
   "source": [
    "# Attempts to determine the keyword used for a substitution cipher\n",
    "# alphabet: The substitution alphabet\n",
    "def decode_key(alphabet):\n",
    "    decoded_alphabet = \"\"\n",
    "    for letter in string.ascii_lowercase:\n",
    "        decoded_alphabet += chr(alphabet.find(letter) + ord(\"a\"))\n",
    "    print(f\"Decoded alphabet: {decoded_alphabet}\")\n",
    "    \n",
    "    remaining_letters = list(string.ascii_lowercase)\n",
    "    for pos, letter in enumerate(decoded_alphabet):\n",
    "        remaining_letters.remove(letter)\n",
    "        next_letter_index = remaining_letters.index(decoded_alphabet[pos+1])\n",
    "        if decoded_alphabet[pos+1:] == \"\".join(remaining_letters[next_letter_index:] + remaining_letters[:next_letter_index]):\n",
    "            print(f\"Keyword: {decoded_alphabet[:pos+2]}\")\n",
    "            break\n",
    "\n",
    "decode_key(\"opqrbstuvwxyzdefgchijaklmn\")"
   ]
  },
  {
   "cell_type": "code",
   "execution_count": 11,
   "metadata": {},
   "outputs": [],
   "source": [
    "# Part B - \n",
    "part_b_text = \"\"\"STCG KBIYT MVYUTYZ,\n",
    "V JGKHJ JUCJ PDK CBS JUT OCZVYP CJ JVGEVJQKOTG CGT CYY MTYY CBS JUCJ PDK TBWDPTS JUT HXTJIUTH V HTBJ PDK YCHJ MTTX. V UCLT TBIYDHTS ZP ZDHJ GTITBJ VZEGTHHVDBH DO JUT ATCKJVOKY, VO HDZTMUCJ HJCGX YCBSHICET VB BDGODYX. V UDET CBS ATYVTLT JUCJ PDK MVYY OVBS JUTZ DO RGTCJ VBJTGTHJ. JUT OYCJ CBS DETB OVTYSH UCLT C HECGJCB ATCKJP EKBIJKCJTS AP WKHJ C OTM YCBSZCGXH DO SVHJVBIJVDB, AKJ JUTVG VHDYCJVDB ZCXTH JUTZ HJCBS DKJ TLTB ZDGT CBS VBIGTCHTH JUTVG VBJTGTHJ.\n",
    "DKG UDHJH UCLT ATTB ZDHJ CRGTTCAYT CBS TLTB JUT YDICY EDYVIT ODGIT UCLT ATTB CH CIIDZZDSCJVBR CH PDK HKRRTHJTS JUTP MDKYS AT. JUT YDICY IDBHJCAYT HTTZTS ZDHJ VBJTGTHJTS VB DKG EUDJDRGCEUVI UDAAP, AKJ UT CEETCGTS JD AT IDBJTBJ MVJU JUT TNEYCBCJVDB DO DKG VBJTGTHJ VB JUTVG ATCKJVOKY IDKBJGPHVST CBS LVYYCRTH. UT MCH CYHD LTGP CEEGTIVCJVLT DO DKG GDKRU HXTJIUTH DO JUTVG HJGVXVBR YCBSHICET, JUDKRU UT SVS HTTZ HKGEGVHTS CJ JUT BKZATG DO SGCMVBRH MT UCLT ZCST DO JUT OVTYSH CGDKBS ICVHJDG HJ TSZKBS, HKRRTHJVBR JUCJ VJH HVRBVOVICBIT VH BDJ MVSTYP XBDMB.\n",
    "JUT YDICY HIDKJZCHJTG CRGTTS JD ECHH JUVH ZTHHCRT JD PDK CBS UCH CYHD CGGCBRTS ODG DKG ODGMCGS JGCLTY. MT MVYY UTCS BTNJ JD YDBSDB JD ZTTJ MVJU ZP IDKHVB BVXDYCKH ATODGT EGTECGVBR ODG JUT HTIDBS HJCRT DO DKG YVJJYT CSLTBJKGT. VO PDK UCLT CBP OKGJUTG GTFKTHJH ODG VBODGZCJVDB DG CSSVJVDBCY SGCMVBRH VB JUVH TNJGCDGSVBCGP ECGJ DO JUT MDGYS JUTB EYTCHT SD ZCXT HKGT JD YTJ ZT XBDM ATODGT MT STECGJ.\n",
    "YTJ ZT OVBVHU MVJU C YVJJYT EKQQYT ODG PDK. ICB PDK OVBS CB TVRUJ YTJJTG TBRYVHU MDGS MUVIU PDK ICB IUCBRT AP CYJTGVBR JUT DGSTG DO VJH YTJJTGH JD EGDSKIT ODKG DJUTG SVOOTGTBJ TBRYVHU MDGSH?\n",
    "PDKGH HVBITGTYP,\n",
    "DJJD\"\"\""
   ]
  },
  {
   "cell_type": "code",
   "execution_count": 12,
   "metadata": {},
   "outputs": [
    {
     "name": "stdout",
     "output_type": "stream",
     "text": [
      "T: 173 (12.71%) J: 129 (9.48%) C: 104 (7.64%) D: 104 (7.64%) V: 86 (6.32%)\n",
      "G: 85 (6.25%) B: 85 (6.25%) H: 84 (6.17%) U: 62 (4.56%) Y: 60 (4.41%)\n",
      "S: 56 (4.11%) K: 51 (3.75%) O: 39 (2.87%) I: 34 (2.50%) Z: 28 (2.06%)\n",
      "P: 26 (1.91%) R: 26 (1.91%) M: 25 (1.84%) E: 25 (1.84%) A: 19 (1.40%)\n",
      "L: 14 (1.03%) X: 12 (0.88%) .: 11 (0.81%) ,:  7 (0.51%) \n",
      ":  6 (0.44%)\n",
      "Q:  3 (0.22%) N:  3 (0.22%) W:  2 (0.15%) F:  1 (0.07%) ?:  1 (0.07%)\n",
      "\n",
      "-----\n"
     ]
    }
   ],
   "source": [
    "frequency_analysis(part_b_text.replace(\" \", \"\"))"
   ]
  },
  {
   "cell_type": "code",
   "execution_count": 13,
   "metadata": {},
   "outputs": [
    {
     "name": "stdout",
     "output_type": "stream",
     "text": [
      "SeCG KBIYe MVYheYZ,\n",
      "V tGKHt thCt PDK CBS the OCZVYP Ct tVGEVtQKOeG CGe CYY MeYY CBS thCt PDK eBWDPeS the HXetIheH V HeBt PDK YCHt MeeX. V hCLe eBIYDHeS ZP ZDHt GeIeBt VZEGeHHVDBH DO the AeCKtVOKY, VO HDZeMhCt HtCGX YCBSHICEe VB BDGODYX. V hDEe CBS AeYVeLe thCt PDK MVYY OVBS theZ DO RGeCt VBteGeHt. the OYCt CBS DEeB OVeYSH hCLe C HECGtCB AeCKtP EKBItKCteS AP WKHt C OeM YCBSZCGXH DO SVHtVBItVDB, AKt theVG VHDYCtVDB ZCXeH theZ HtCBS DKt eLeB ZDGe CBS VBIGeCHeH theVG VBteGeHt.\n",
      "DKG hDHtH hCLe AeeB ZDHt CRGeeCAYe CBS eLeB the YDICY EDYVIe ODGIe hCLe AeeB CH CIIDZZDSCtVBR CH PDK HKRReHteS theP MDKYS Ae. the YDICY IDBHtCAYe HeeZeS ZDHt VBteGeHteS VB DKG EhDtDRGCEhVI hDAAP, AKt he CEEeCGeS tD Ae IDBteBt MVth the eNEYCBCtVDB DO DKG VBteGeHt VB theVG AeCKtVOKY IDKBtGPHVSe CBS LVYYCReH. he MCH CYHD LeGP CEEGeIVCtVLe DO DKG GDKRh HXetIheH DO theVG HtGVXVBR YCBSHICEe, thDKRh he SVS HeeZ HKGEGVHeS Ct the BKZAeG DO SGCMVBRH Me hCLe ZCSe DO the OVeYSH CGDKBS ICVHtDG Ht eSZKBS, HKRReHtVBR thCt VtH HVRBVOVICBIe VH BDt MVSeYP XBDMB.\n",
      "the YDICY HIDKtZCHteG CRGeeS tD ECHH thVH ZeHHCRe tD PDK CBS hCH CYHD CGGCBReS ODG DKG ODGMCGS tGCLeY. Me MVYY heCS BeNt tD YDBSDB tD Zeet MVth ZP IDKHVB BVXDYCKH AeODGe EGeECGVBR ODG the HeIDBS HtCRe DO DKG YVttYe CSLeBtKGe. VO PDK hCLe CBP OKGtheG GeFKeHtH ODG VBODGZCtVDB DG CSSVtVDBCY SGCMVBRH VB thVH eNtGCDGSVBCGP ECGt DO the MDGYS theB EYeCHe SD ZCXe HKGe tD Yet Ze XBDM AeODGe Me SeECGt.\n",
      "Yet Ze OVBVHh MVth C YVttYe EKQQYe ODG PDK. ICB PDK OVBS CB eVRht YetteG eBRYVHh MDGS MhVIh PDK ICB IhCBRe AP CYteGVBR the DGSeG DO VtH YetteGH tD EGDSKIe ODKG DtheG SVOOeGeBt eBRYVHh MDGSH?\n",
      "PDKGH HVBIeGeYP,\n",
      "DttD\n"
     ]
    }
   ],
   "source": [
    "# JUT = \"the\"\n",
    "decode(part_b_text, \"ABCDEFGHItKLMNOPQRSehVWXYZ\")"
   ]
  },
  {
   "cell_type": "code",
   "execution_count": 14,
   "metadata": {},
   "outputs": [
    {
     "name": "stdout",
     "output_type": "stream",
     "text": [
      "Sear KBIYe MiYheYZ,\n",
      "i trKHt that PDK aBS the OaZiYP at tirEitQKOer are aYY MeYY aBS that PDK eBWDPeS the HXetIheH i HeBt PDK YaHt MeeX. i haLe eBIYDHeS ZP ZDHt reIeBt iZEreHHiDBH DO the AeaKtiOKY, iO HDZeMhat HtarX YaBSHIaEe iB BDrODYX. i hDEe aBS AeYieLe that PDK MiYY OiBS theZ DO Rreat iBtereHt. the OYat aBS DEeB OieYSH haLe a HEartaB AeaKtP EKBItKateS AP WKHt a OeM YaBSZarXH DO SiHtiBItiDB, AKt their iHDYatiDB ZaXeH theZ HtaBS DKt eLeB ZDre aBS iBIreaHeH their iBtereHt.\n",
      "DKr hDHtH haLe AeeB ZDHt aRreeaAYe aBS eLeB the YDIaY EDYiIe ODrIe haLe AeeB aH aIIDZZDSatiBR aH PDK HKRReHteS theP MDKYS Ae. the YDIaY IDBHtaAYe HeeZeS ZDHt iBtereHteS iB DKr EhDtDRraEhiI hDAAP, AKt he aEEeareS tD Ae IDBteBt Mith the eNEYaBatiDB DO DKr iBtereHt iB their AeaKtiOKY IDKBtrPHiSe aBS LiYYaReH. he MaH aYHD LerP aEEreIiatiLe DO DKr rDKRh HXetIheH DO their HtriXiBR YaBSHIaEe, thDKRh he SiS HeeZ HKrEriHeS at the BKZAer DO SraMiBRH Me haLe ZaSe DO the OieYSH arDKBS IaiHtDr Ht eSZKBS, HKRReHtiBR that itH HiRBiOiIaBIe iH BDt MiSeYP XBDMB.\n",
      "the YDIaY HIDKtZaHter aRreeS tD EaHH thiH ZeHHaRe tD PDK aBS haH aYHD arraBReS ODr DKr ODrMarS traLeY. Me MiYY heaS BeNt tD YDBSDB tD Zeet Mith ZP IDKHiB BiXDYaKH AeODre EreEariBR ODr the HeIDBS HtaRe DO DKr YittYe aSLeBtKre. iO PDK haLe aBP OKrther reFKeHtH ODr iBODrZatiDB Dr aSSitiDBaY SraMiBRH iB thiH eNtraDrSiBarP Eart DO the MDrYS theB EYeaHe SD ZaXe HKre tD Yet Ze XBDM AeODre Me SeEart.\n",
      "Yet Ze OiBiHh Mith a YittYe EKQQYe ODr PDK. IaB PDK OiBS aB eiRht Yetter eBRYiHh MDrS MhiIh PDK IaB IhaBRe AP aYteriBR the DrSer DO itH YetterH tD ErDSKIe ODKr Dther SiOOereBt eBRYiHh MDrSH?\n",
      "PDKrH HiBIereYP,\n",
      "DttD\n"
     ]
    }
   ],
   "source": [
    "# \"V tGKHt thCt\" -> V=i C=a\n",
    "# \"CGe\" -> G=r\n",
    "decode(part_b_text, \"ABaDEFrHItKLMNOPQRSehiWXYZ\")"
   ]
  },
  {
   "cell_type": "code",
   "execution_count": 17,
   "metadata": {},
   "outputs": [
    {
     "name": "stdout",
     "output_type": "stream",
     "text": [
      "dear unIle wilhelZ,\n",
      "i trust that PDu and the OaZilP at tirEitQuOer are all well and that PDu enWDPed the sXetIhes i sent PDu last weeX. i have enIlDsed ZP ZDst reIent iZEressiDns DO the beautiOul, iO sDZewhat starX landsIaEe in nDrODlX. i hDEe and believe that PDu will Oind theZ DO great interest. the Olat and DEen Oields have a sEartan beautP EunItuated bP Wust a Oew landZarXs DO distinItiDn, but their isDlatiDn ZaXes theZ stand Dut even ZDre and inIreases their interest.\n",
      "Dur hDsts have been ZDst agreeable and even the lDIal EDliIe ODrIe have been as aIIDZZDdating as PDu suggested theP wDuld be. the lDIal IDnstable seeZed ZDst interested in Dur EhDtDgraEhiI hDbbP, but he aEEeared tD be IDntent with the eNElanatiDn DO Dur interest in their beautiOul IDuntrPside and villages. he was alsD verP aEEreIiative DO Dur rDugh sXetIhes DO their striXing landsIaEe, thDugh he did seeZ surErised at the nuZber DO drawings we have Zade DO the Oields arDund IaistDr st edZund, suggesting that its signiOiIanIe is nDt widelP XnDwn.\n",
      "the lDIal sIDutZaster agreed tD Eass this Zessage tD PDu and has alsD arranged ODr Dur ODrward travel. we will head neNt tD lDndDn tD Zeet with ZP IDusin niXDlaus beODre EreEaring ODr the seIDnd stage DO Dur little adventure. iO PDu have anP Ourther reFuests ODr inODrZatiDn Dr additiDnal drawings in this eNtraDrdinarP Eart DO the wDrld then Elease dD ZaXe sure tD let Ze XnDw beODre we deEart.\n",
      "let Ze Oinish with a little EuQQle ODr PDu. Ian PDu Oind an eight letter english wDrd whiIh PDu Ian Ihange bP altering the Drder DO its letters tD ErDduIe ODur Dther diOOerent english wDrds?\n",
      "PDurs sinIerelP,\n",
      "DttD\n"
     ]
    }
   ],
   "source": [
    "# \"Sear\" -> S=d\n",
    "# \"trKHt\" -> K=u, H=s\n",
    "# \"aYY MeYY\" -> Y=l, M=w\n",
    "# \"i haLe\" -> L=v\n",
    "# \"aRreeaAYe\" -> R=g, A=b\n",
    "# \"haLe AeeB\" -> B=n\n",
    "decode(part_b_text, \"bnaDEFrsItuvwNOPQgdehiWXlZ\")"
   ]
  },
  {
   "cell_type": "code",
   "execution_count": 19,
   "metadata": {},
   "outputs": [
    {
     "name": "stdout",
     "output_type": "stream",
     "text": [
      "dear uncle wilhelm,\n",
      "i trust that you and the family at tirpitzufer are all well and that you enjoyed the sketches i sent you last week. i have enclosed my most recent impressions of the beautiful, if somewhat stark landscape in norfolk. i hope and believe that you will find them of great interest. the flat and open fields have a spartan beauty punctuated by just a few landmarks of distinction, but their isolation makes them stand out even more and increases their interest.\n",
      "our hosts have been most agreeable and even the local police force have been as accommodating as you suggested they would be. the local constable seemed most interested in our photographic hobby, but he appeared to be content with the explanation of our interest in their beautiful countryside and villages. he was also very appreciative of our rough sketches of their striking landscape, though he did seem surprised at the number of drawings we have made of the fields around caistor st edmund, suggesting that its significance is not widely known.\n",
      "the local scoutmaster agreed to pass this message to you and has also arranged for our forward travel. we will head next to london to meet with my cousin nikolaus before preparing for the second stage of our little adventure. if you have any further requests for information or additional drawings in this extraordinary part of the world then please do make sure to let me know before we depart.\n",
      "let me finish with a little puzzle for you. can you find an eight letter english word which you can change by altering the order of its letters to produce four other different english words?\n",
      "yours sincerely,\n",
      "otto\n"
     ]
    }
   ],
   "source": [
    "# \"unIle wilhelZ\" -> I=c, Z=m\n",
    "# \"PDu anS the\" -> P=y, D=o, S=d\n",
    "# \"surEriseS\" -> E=p\n",
    "# Guess F=q, N=x, Q=z, W=j.  O=f, X=k (remaining letters)\n",
    "decode(part_b_text, \"bnaopqrsctuvwxfyzgdehijklm\")"
   ]
  },
  {
   "cell_type": "code",
   "execution_count": 20,
   "metadata": {},
   "outputs": [
    {
     "name": "stdout",
     "output_type": "stream",
     "text": [
      "Decoded alphabet: caistoruvwxyzbdefghjklmnpq\n",
      "Keyword: caistor\n"
     ]
    }
   ],
   "source": [
    "decode_key(\"bnaopqrsctuvwxfyzgdehijklm\")"
   ]
  },
  {
   "cell_type": "code",
   "execution_count": null,
   "metadata": {},
   "outputs": [],
   "source": []
  }
 ],
 "metadata": {
  "kernelspec": {
   "display_name": "Python 3",
   "language": "python",
   "name": "python3"
  },
  "language_info": {
   "codemirror_mode": {
    "name": "ipython",
    "version": 3
   },
   "file_extension": ".py",
   "mimetype": "text/x-python",
   "name": "python",
   "nbconvert_exporter": "python",
   "pygments_lexer": "ipython3",
   "version": "3.9.0"
  }
 },
 "nbformat": 4,
 "nbformat_minor": 4
}
