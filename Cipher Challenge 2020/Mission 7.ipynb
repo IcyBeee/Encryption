{
 "cells": [
  {
   "cell_type": "markdown",
   "metadata": {},
   "source": [
    "# Cipher Challenge 2020\n",
    "### Challenge 7\n",
    "\n",
    "Challenge link https://www.cipherchallenge.org/challenge/competition-challenge-7/"
   ]
  },
  {
   "cell_type": "code",
   "execution_count": null,
   "metadata": {},
   "outputs": [],
   "source": [
    "# Part A - \"The (Chain) Home Straight\"\n",
    "part_a_text = \"\"\"MYMAG ZLGAV LDBIF QXEBW NYTRM VZCRV EIWSG HNXCC LKMAZ CSSAR DEZGY EZVLT BVWEG KIBHM ZRMYM CBSXY GZKAG OZREZ VEFUF XHWBI EVTXS LNEEU FVVIG PGGYE EPATF NLZXV FAZOY IWKPE POALX IBEKZ LRWKP EPGDI YZTEF GYHUV TIRBP XARBI GSLCU VZEYG EIWKW TUKHL XRBSG UYIVC WCXIT TAVZD RVFXR YMAQU QXAVL IIODM HEPAF CCMMK MNNHZ WLXCI QKESM YMSRI TTAVZ MNISM GVAAA JHIAR DENJO IWKPA GZZXA VKAFK QMEVA HNXCC LKMAZ GWWHI MCBBP VXUIS PXLTH WJUET ETTGM RSXZQ MYMAO CPLKY YWNYE IPYQC UILVK ZMSGN PJHCT OJOYK FVASN MPAAZ KHJKE LBESM VMSXU VXAEZ ZJMYM PYGTR MVFTG KYXBR TSGUA XAVBR VVHMK VWPGO ZRBJI LFUOI IIMCN ZPHLZ VCROE MLDWR RRTOX CGTUG EXAVM XCREL XEIVL XPTHI BEQZS EMRLU GISJB JPIAM GILJM LJGDM FGWUA JPHUP BHRTL DBRCT UUCMM ZMSVT MVXDM RUGGI GKPEP XPAPV ZEQKE EBEMD NTORX XWTVG EMHEA AEKFR WVZWN EMIMN MEAZS IWLBC UGYHZ VZMNT LYMYW RVZTI LKWTE EESZV BTUKQ MLYMR ZKYEG UBHRO CZXJA EYHLG DSCTV TELXD MAAZT QXIVP NZCSE JEIYR HEMTP OHZQS KKPEO ULXBE KAFKT XBJQN IUWZX UQNGN PSIVZ AGOZR MYMAV XXMGZ ATEES EOVJE RTMVB VNEQU YSNIN IAJTR ZJAOS GCEGU PAIKP QIYIS VYPHM YMIZV ZVMRV CRUQT KFBEP ZTRZK PEEJQ WRJBE ZCSMV YQAZZ ZPWKP ELILP ETPAV TSSFV DKVYD CFGIT UKEMV SCTGN PXAIM EBLFW TIMSG OWPPF ZRVKO EUFCT GNPRX NIGRT EWXDJ EQJPH BETOA JZRTE LWRGC IGFBS HXPLH NUUPN ZJTKP RRGEX AVGPB YPMMZ ACEAN MTCBH NZHIU IMAXZ SITKB APNPH VZXHR XEIQK ISSGD XTJXO FYTFE VAOJK NEGGC TRLQI VKQVR IZYGK MRZKL WNIMS VTAPT TMIGO DXXDX TVTRX HRZRR YEEEC BWRTE CMYZE RYACV CQSGY LRWRA KGNPQ WZZEP ZWCUL BWVZS SNKZE IKLPB EOTUK PBMVV TBLZY KJCRI KTPER VCRGY HVFLE OXPED ZVGNH TPBKG IGCTP EEWTO KASLJ QBYKE SIIWV RZSEM KPELN LZXSZ OXKYX AVTAJ YZAXN WUYJY SMSMA ORPXH UMTNO YSKUM PBXEX AVUIG CZYEU CSHGW PRSMB RZEIK KWWNZ NLTEL WNOEF NKBHR GTVFZ VIFZC CYVML FZSEM KPEEO DOMFW UEGTV WVNEA IPMLK WOTXP EMJWW RTPIW KWAPZ QELKQ FJKVR XNMXN IEPRN PEAGY HPYMR RZSIR ZVTRT OIWKW AGZLG DTPAV TSSFV BHRTH IFZOH GHPEU CMTBO YGKVI SRYPG NIQTL ZZTKV DEAZT XULBA TGTRP VZIFQ CIOVI LVTRS NIKOH TEIKZ VTRRW MZVVC RILTT SQLVZ TILYI REEDY ZXMSG KOXAR BWRIZ YEUWB FIFVX FCRGX LGDJJ YSGVM GXIVV YTXUP LITTT XTIQE FZZXA VBAEM PXLZB EFGDE VFDEE YESKP NOEOY GKVIS RJDIV LZIGE MYMNM CNTEQ TZVTN OYXAV QNPXP ELVNO ERZRZ NQTUU FXKRQ SVTRW NJXIP OZRLF QTVYN VNTQA YZZHX KMRZO YIMYM IEVWE GJEHN ZPZXI BHRGM AXYZA EKTRM VVDVT RXAVG WBTEA TEBTU KTVTX MNGYE SYRTL VTESH LZHNT OWXJX EPOLP EPIFG KCEWV UOYOE MHEAI AIPXA RBWBA WHZZD EHYEL XVFCH YPAXE MEQZZ EKIMS GZSIF ZBWBA WHUVO OBJES DEWWJ NLXMY MYUGG IBEUI AJQSK KPEVX PBYZT TEGEM HEBHV TRWTI MVRXJ JBEML LHLPT EKEQO QAXRK TGUZW HFVWR MTZXR EALUF VVICC VGWEW MINGG RIBEB HROYX XIKEC ZHEKZ NWRGN XMFWL NZPSN IMNRS TILTW UYJDI KZWUF RJHTD IGRUF VTZZD RLPRV VKACG MMEZB YVZTW VCMAE ZSEMK PIAMD EKVKO ZOYKM FIHRG OEGUQ TVYNV NTQAY ZSEMN MCEGN OMYMC YUNOV ZXHRX LWLFW NNYAS LJQBY KELXW ITRUQ XAVKO HTEVR CQEFO YCHLZ HNTOW IVIRY\"\"\""
   ]
  },
  {
   "cell_type": "code",
   "execution_count": 2,
   "metadata": {},
   "outputs": [],
   "source": [
    "from collections import Counter\n",
    "\n",
    "# Takes a string or list of items and counts the frequencies of those items\n",
    "# data: The list or string to analyse\n",
    "# max_values: The maximum number of values to display (set to None for no limit)\n",
    "# no_columns: The amount of columns to use in the output\n",
    "def frequency_analysis(data, max_values=30, no_columns=5):\n",
    "    frequencies = Counter()\n",
    "    for item in data:\n",
    "        frequencies[item] += 1\n",
    "    \n",
    "    total = sum(frequencies.values())\n",
    "    column = 1\n",
    "    for item, frequency in frequencies.most_common(max_values):\n",
    "        print(f\"{item}: {frequency:2} ({frequency / total:.2%})\", end=\" \" if column % no_columns else \"\\n\")\n",
    "        column += 1\n",
    "    print(\"\\n-----\")"
   ]
  },
  {
   "cell_type": "code",
   "execution_count": 3,
   "metadata": {},
   "outputs": [
    {
     "name": "stdout",
     "output_type": "stream",
     "text": [
      "E: 170 (7.31%) V: 136 (5.85%) Z: 134 (5.76%) T: 131 (5.63%) M: 122 (5.25%)\n",
      "I: 119 (5.12%) R: 115 (4.95%) G: 100 (4.30%) X: 100 (4.30%) A: 97 (4.17%)\n",
      "P: 94 (4.04%) K: 93 (4.00%) Y: 91 (3.91%) L: 83 (3.57%) W: 81 (3.48%)\n",
      "N: 78 (3.35%) S: 75 (3.23%) B: 68 (2.92%) H: 66 (2.84%) C: 65 (2.80%)\n",
      "O: 63 (2.71%) U: 61 (2.62%) F: 54 (2.32%) Q: 47 (2.02%) J: 47 (2.02%)\n",
      "D: 35 (1.51%) \n",
      "-----\n"
     ]
    }
   ],
   "source": [
    "squished = part_a_text.replace(\" \", \"\")\n",
    "frequency_analysis(squished)"
   ]
  },
  {
   "cell_type": "code",
   "execution_count": 4,
   "metadata": {},
   "outputs": [
    {
     "name": "stdout",
     "output_type": "stream",
     "text": [
      "MYM: 11 XAV: 11 KPE:  9 VTR:  7 BHR:  6 \n",
      "IWK:  5 TUK:  5 GNP:  5 ZSE:  5 SEM:  5 \n",
      "YMA:  4 OZR:  4 WKP:  4 PEP:  4 IBE:  4 \n",
      "GYH:  4 MHE:  4 MSG:  4 VCR:  4 ELX:  4 \n",
      "ZSI:  4 AGZ:  3 TRM:  3 RMV:  3 ZCS:  3 \n",
      "GYE:  3 GOZ:  3 UFV:  3 ZOY:  3 PXA:  3 \n"
     ]
    }
   ],
   "source": [
    "# Probably a Vigenere.\n",
    "\n",
    "# A function that searches for multiple ocurrences of letters of the specified size and prints out the most common ones\n",
    "def pattern_finder(text, size):\n",
    "    patterns = Counter()\n",
    "    for index in range(len(text)):\n",
    "        patterns[text[index:index+size]] += 1\n",
    "\n",
    "    column = 0\n",
    "    for item, count in patterns.most_common(30):\n",
    "        print(f\"{item}: {count:2}\", end=\" \")\n",
    "        column += 1\n",
    "        if column % 5 == 0:\n",
    "            print()\n",
    "\n",
    "pattern_finder(squished, 3)"
   ]
  },
  {
   "cell_type": "code",
   "execution_count": 5,
   "metadata": {},
   "outputs": [
    {
     "name": "stdout",
     "output_type": "stream",
     "text": [
      "MYM/2 0 (0) 72 (0) 264 (0) 360 (0) 432 (0) 800 (0) 864 (0) 1750 (0) 1832 (0) 2008 (0) 2256 (0) All the same!\n",
      "MYM/3 0 (0) 72 (0) 264 (0) 360 (0) 432 (0) 800 (2) 864 (0) 1750 (1) 1832 (2) 2008 (1) 2256 (0) \n",
      "MYM/4 0 (0) 72 (0) 264 (0) 360 (0) 432 (0) 800 (0) 864 (0) 1750 (2) 1832 (0) 2008 (0) 2256 (0) \n",
      "MYM/5 0 (0) 72 (2) 264 (4) 360 (0) 432 (2) 800 (0) 864 (4) 1750 (0) 1832 (2) 2008 (3) 2256 (1) \n",
      "MYM/6 0 (0) 72 (0) 264 (0) 360 (0) 432 (0) 800 (2) 864 (0) 1750 (4) 1832 (2) 2008 (4) 2256 (0) \n",
      "MYM/7 0 (0) 72 (2) 264 (5) 360 (3) 432 (5) 800 (2) 864 (3) 1750 (0) 1832 (5) 2008 (6) 2256 (2) \n",
      "MYM/8 0 (0) 72 (0) 264 (0) 360 (0) 432 (0) 800 (0) 864 (0) 1750 (6) 1832 (0) 2008 (0) 2256 (0) \n",
      "MYM/9 0 (0) 72 (0) 264 (3) 360 (0) 432 (0) 800 (8) 864 (0) 1750 (4) 1832 (5) 2008 (1) 2256 (6) \n",
      "MYM/10 0 (0) 72 (2) 264 (4) 360 (0) 432 (2) 800 (0) 864 (4) 1750 (0) 1832 (2) 2008 (8) 2256 (6) \n",
      "MYM/11 0 (0) 72 (6) 264 (0) 360 (8) 432 (3) 800 (8) 864 (6) 1750 (1) 1832 (6) 2008 (6) 2256 (1) \n",
      "MYM/12 0 (0) 72 (0) 264 (0) 360 (0) 432 (0) 800 (8) 864 (0) 1750 (10) 1832 (8) 2008 (4) 2256 (0) \n",
      "MYM/13 0 (0) 72 (7) 264 (4) 360 (9) 432 (3) 800 (7) 864 (6) 1750 (8) 1832 (12) 2008 (6) 2256 (7) \n",
      "MYM/14 0 (0) 72 (2) 264 (12) 360 (10) 432 (12) 800 (2) 864 (10) 1750 (0) 1832 (12) 2008 (6) 2256 (2) \n",
      "MYM/15 0 (0) 72 (12) 264 (9) 360 (0) 432 (12) 800 (5) 864 (9) 1750 (10) 1832 (2) 2008 (13) 2256 (6) \n",
      "MYM/16 0 (0) 72 (8) 264 (8) 360 (8) 432 (0) 800 (0) 864 (0) 1750 (6) 1832 (8) 2008 (8) 2256 (0) \n",
      "MYM/17 0 (0) 72 (4) 264 (9) 360 (3) 432 (7) 800 (1) 864 (14) 1750 (16) 1832 (13) 2008 (2) 2256 (12) \n",
      "MYM/18 0 (0) 72 (0) 264 (12) 360 (0) 432 (0) 800 (8) 864 (0) 1750 (4) 1832 (14) 2008 (10) 2256 (6) \n",
      "MYM/19 0 (0) 72 (15) 264 (17) 360 (18) 432 (14) 800 (2) 864 (9) 1750 (2) 1832 (8) 2008 (13) 2256 (14) \n",
      "MYM/20 0 (0) 72 (12) 264 (4) 360 (0) 432 (12) 800 (0) 864 (4) 1750 (10) 1832 (12) 2008 (8) 2256 (16) \n",
      "MYM/21 0 (0) 72 (9) 264 (12) 360 (3) 432 (12) 800 (2) 864 (3) 1750 (7) 1832 (5) 2008 (13) 2256 (9) \n",
      "MYM/22 0 (0) 72 (6) 264 (0) 360 (8) 432 (14) 800 (8) 864 (6) 1750 (12) 1832 (6) 2008 (6) 2256 (12) \n",
      "MYM/23 0 (0) 72 (3) 264 (11) 360 (15) 432 (18) 800 (18) 864 (13) 1750 (2) 1832 (15) 2008 (7) 2256 (2) \n",
      "MYM/24 0 (0) 72 (0) 264 (0) 360 (0) 432 (0) 800 (8) 864 (0) 1750 (22) 1832 (8) 2008 (16) 2256 (0) \n",
      "MYM/25 0 (0) 72 (22) 264 (14) 360 (10) 432 (7) 800 (0) 864 (14) 1750 (0) 1832 (7) 2008 (8) 2256 (6) \n",
      "MYM/26 0 (0) 72 (20) 264 (4) 360 (22) 432 (16) 800 (20) 864 (6) 1750 (8) 1832 (12) 2008 (6) 2256 (20) \n",
      "\n",
      "XAV/2 231 (1) 303 (1) 455 (1) 511 (1) 1039 (1) 1319 (1) 1359 (1) 1703 (1) 1767 (1) 1871 (1) 2295 (1) All the same!\n",
      "XAV/3 231 (0) 303 (0) 455 (2) 511 (1) 1039 (1) 1319 (2) 1359 (0) 1703 (2) 1767 (0) 1871 (2) 2295 (0) \n",
      "XAV/4 231 (3) 303 (3) 455 (3) 511 (3) 1039 (3) 1319 (3) 1359 (3) 1703 (3) 1767 (3) 1871 (3) 2295 (3) All the same!\n",
      "XAV/5 231 (1) 303 (3) 455 (0) 511 (1) 1039 (4) 1319 (4) 1359 (4) 1703 (3) 1767 (2) 1871 (1) 2295 (0) \n",
      "XAV/6 231 (3) 303 (3) 455 (5) 511 (1) 1039 (1) 1319 (5) 1359 (3) 1703 (5) 1767 (3) 1871 (5) 2295 (3) \n",
      "XAV/7 231 (0) 303 (2) 455 (0) 511 (0) 1039 (3) 1319 (3) 1359 (1) 1703 (2) 1767 (3) 1871 (2) 2295 (6) \n",
      "XAV/8 231 (7) 303 (7) 455 (7) 511 (7) 1039 (7) 1319 (7) 1359 (7) 1703 (7) 1767 (7) 1871 (7) 2295 (7) All the same!\n",
      "XAV/9 231 (6) 303 (6) 455 (5) 511 (7) 1039 (4) 1319 (5) 1359 (0) 1703 (2) 1767 (3) 1871 (8) 2295 (0) \n",
      "XAV/10 231 (1) 303 (3) 455 (5) 511 (1) 1039 (9) 1319 (9) 1359 (9) 1703 (3) 1767 (7) 1871 (1) 2295 (5) \n",
      "XAV/11 231 (0) 303 (6) 455 (4) 511 (5) 1039 (5) 1319 (10) 1359 (6) 1703 (9) 1767 (7) 1871 (1) 2295 (7) \n",
      "XAV/12 231 (3) 303 (3) 455 (11) 511 (7) 1039 (7) 1319 (11) 1359 (3) 1703 (11) 1767 (3) 1871 (11) 2295 (3) \n",
      "XAV/13 231 (10) 303 (4) 455 (0) 511 (4) 1039 (12) 1319 (6) 1359 (7) 1703 (0) 1767 (12) 1871 (12) 2295 (7) \n",
      "XAV/14 231 (7) 303 (9) 455 (7) 511 (7) 1039 (3) 1319 (3) 1359 (1) 1703 (9) 1767 (3) 1871 (9) 2295 (13) \n",
      "XAV/15 231 (6) 303 (3) 455 (5) 511 (1) 1039 (4) 1319 (14) 1359 (9) 1703 (8) 1767 (12) 1871 (11) 2295 (0) \n",
      "XAV/16 231 (7) 303 (15) 455 (7) 511 (15) 1039 (15) 1319 (7) 1359 (15) 1703 (7) 1767 (7) 1871 (15) 2295 (7) \n",
      "XAV/17 231 (10) 303 (14) 455 (13) 511 (1) 1039 (2) 1319 (10) 1359 (16) 1703 (3) 1767 (16) 1871 (1) 2295 (0) \n",
      "XAV/18 231 (15) 303 (15) 455 (5) 511 (7) 1039 (13) 1319 (5) 1359 (9) 1703 (11) 1767 (3) 1871 (17) 2295 (9) \n",
      "XAV/19 231 (3) 303 (18) 455 (18) 511 (17) 1039 (13) 1319 (8) 1359 (10) 1703 (12) 1767 (0) 1871 (9) 2295 (15) \n",
      "XAV/20 231 (11) 303 (3) 455 (15) 511 (11) 1039 (19) 1319 (19) 1359 (19) 1703 (3) 1767 (7) 1871 (11) 2295 (15) \n",
      "XAV/21 231 (0) 303 (9) 455 (14) 511 (7) 1039 (10) 1319 (17) 1359 (15) 1703 (2) 1767 (3) 1871 (2) 2295 (6) \n",
      "XAV/22 231 (11) 303 (17) 455 (15) 511 (5) 1039 (5) 1319 (21) 1359 (17) 1703 (9) 1767 (7) 1871 (1) 2295 (7) \n",
      "XAV/23 231 (1) 303 (4) 455 (18) 511 (5) 1039 (4) 1319 (8) 1359 (2) 1703 (1) 1767 (19) 1871 (8) 2295 (18) \n",
      "XAV/24 231 (15) 303 (15) 455 (23) 511 (7) 1039 (7) 1319 (23) 1359 (15) 1703 (23) 1767 (15) 1871 (23) 2295 (15) \n",
      "XAV/25 231 (6) 303 (3) 455 (5) 511 (11) 1039 (14) 1319 (19) 1359 (9) 1703 (3) 1767 (17) 1871 (21) 2295 (20) \n",
      "XAV/26 231 (23) 303 (17) 455 (13) 511 (17) 1039 (25) 1319 (19) 1359 (7) 1703 (13) 1767 (25) 1871 (25) 2295 (7) \n",
      "\n",
      "KPE/2 137 (1) 153 (1) 601 (1) 761 (1) 889 (1) 913 (1) 1305 (1) 1425 (1) 2025 (1) All the same!\n",
      "KPE/3 137 (2) 153 (0) 601 (1) 761 (2) 889 (1) 913 (1) 1305 (0) 1425 (0) 2025 (0) \n",
      "KPE/4 137 (1) 153 (1) 601 (1) 761 (1) 889 (1) 913 (1) 1305 (1) 1425 (1) 2025 (1) All the same!\n",
      "KPE/5 137 (2) 153 (3) 601 (1) 761 (1) 889 (4) 913 (3) 1305 (0) 1425 (0) 2025 (0) \n",
      "KPE/6 137 (5) 153 (3) 601 (1) 761 (5) 889 (1) 913 (1) 1305 (3) 1425 (3) 2025 (3) \n",
      "KPE/7 137 (4) 153 (6) 601 (6) 761 (5) 889 (0) 913 (3) 1305 (3) 1425 (4) 2025 (2) \n",
      "KPE/8 137 (1) 153 (1) 601 (1) 761 (1) 889 (1) 913 (1) 1305 (1) 1425 (1) 2025 (1) All the same!\n",
      "KPE/9 137 (2) 153 (0) 601 (7) 761 (5) 889 (7) 913 (4) 1305 (0) 1425 (3) 2025 (0) \n",
      "KPE/10 137 (7) 153 (3) 601 (1) 761 (1) 889 (9) 913 (3) 1305 (5) 1425 (5) 2025 (5) \n",
      "KPE/11 137 (5) 153 (10) 601 (7) 761 (2) 889 (9) 913 (0) 1305 (7) 1425 (6) 2025 (1) \n",
      "KPE/12 137 (5) 153 (9) 601 (1) 761 (5) 889 (1) 913 (1) 1305 (9) 1425 (9) 2025 (9) \n",
      "KPE/13 137 (7) 153 (10) 601 (3) 761 (7) 889 (5) 913 (3) 1305 (5) 1425 (8) 2025 (10) \n",
      "KPE/14 137 (11) 153 (13) 601 (13) 761 (5) 889 (7) 913 (3) 1305 (3) 1425 (11) 2025 (9) \n",
      "KPE/15 137 (2) 153 (3) 601 (1) 761 (11) 889 (4) 913 (13) 1305 (0) 1425 (0) 2025 (0) \n",
      "KPE/16 137 (9) 153 (9) 601 (9) 761 (9) 889 (9) 913 (1) 1305 (9) 1425 (1) 2025 (9) \n",
      "KPE/17 137 (1) 153 (0) 601 (6) 761 (13) 889 (5) 913 (12) 1305 (13) 1425 (14) 2025 (2) \n",
      "KPE/18 137 (11) 153 (9) 601 (7) 761 (5) 889 (7) 913 (13) 1305 (9) 1425 (3) 2025 (9) \n",
      "KPE/19 137 (4) 153 (1) 601 (12) 761 (1) 889 (15) 913 (1) 1305 (13) 1425 (0) 2025 (11) \n",
      "KPE/20 137 (17) 153 (13) 601 (1) 761 (1) 889 (9) 913 (13) 1305 (5) 1425 (5) 2025 (5) \n",
      "KPE/21 137 (11) 153 (6) 601 (13) 761 (5) 889 (7) 913 (10) 1305 (3) 1425 (18) 2025 (9) \n",
      "KPE/22 137 (5) 153 (21) 601 (7) 761 (13) 889 (9) 913 (11) 1305 (7) 1425 (17) 2025 (1) \n",
      "KPE/23 137 (22) 153 (15) 601 (3) 761 (2) 889 (15) 913 (16) 1305 (17) 1425 (22) 2025 (1) \n",
      "KPE/24 137 (17) 153 (9) 601 (1) 761 (17) 889 (1) 913 (1) 1305 (9) 1425 (9) 2025 (9) \n",
      "KPE/25 137 (12) 153 (3) 601 (1) 761 (11) 889 (14) 913 (13) 1305 (5) 1425 (0) 2025 (0) \n",
      "KPE/26 137 (7) 153 (23) 601 (3) 761 (7) 889 (5) 913 (3) 1305 (5) 1425 (21) 2025 (23) \n",
      "\n",
      "VTR/2 1156 (0) 1506 (0) 1596 (0) 1610 (0) 1796 (0) 1868 (0) 2044 (0) All the same!\n",
      "VTR/3 1156 (1) 1506 (0) 1596 (0) 1610 (2) 1796 (2) 1868 (2) 2044 (1) \n",
      "VTR/4 1156 (0) 1506 (2) 1596 (0) 1610 (2) 1796 (0) 1868 (0) 2044 (0) \n",
      "VTR/5 1156 (1) 1506 (1) 1596 (1) 1610 (0) 1796 (1) 1868 (3) 2044 (4) \n",
      "VTR/6 1156 (4) 1506 (0) 1596 (0) 1610 (2) 1796 (2) 1868 (2) 2044 (4) \n",
      "VTR/7 1156 (1) 1506 (1) 1596 (0) 1610 (0) 1796 (4) 1868 (6) 2044 (0) \n",
      "VTR/8 1156 (4) 1506 (2) 1596 (4) 1610 (2) 1796 (4) 1868 (4) 2044 (4) \n",
      "VTR/9 1156 (4) 1506 (3) 1596 (3) 1610 (8) 1796 (5) 1868 (5) 2044 (1) \n",
      "VTR/10 1156 (6) 1506 (6) 1596 (6) 1610 (0) 1796 (6) 1868 (8) 2044 (4) \n",
      "VTR/11 1156 (1) 1506 (10) 1596 (1) 1610 (4) 1796 (3) 1868 (9) 2044 (9) \n",
      "VTR/12 1156 (4) 1506 (6) 1596 (0) 1610 (2) 1796 (8) 1868 (8) 2044 (4) \n",
      "VTR/13 1156 (12) 1506 (11) 1596 (10) 1610 (11) 1796 (2) 1868 (9) 2044 (3) \n",
      "VTR/14 1156 (8) 1506 (8) 1596 (0) 1610 (0) 1796 (4) 1868 (6) 2044 (0) \n",
      "VTR/15 1156 (1) 1506 (6) 1596 (6) 1610 (5) 1796 (11) 1868 (8) 2044 (4) \n",
      "VTR/16 1156 (4) 1506 (2) 1596 (12) 1610 (10) 1796 (4) 1868 (12) 2044 (12) \n",
      "VTR/17 1156 (0) 1506 (10) 1596 (15) 1610 (12) 1796 (11) 1868 (15) 2044 (4) \n",
      "VTR/18 1156 (4) 1506 (12) 1596 (12) 1610 (8) 1796 (14) 1868 (14) 2044 (10) \n",
      "VTR/19 1156 (16) 1506 (5) 1596 (0) 1610 (14) 1796 (10) 1868 (6) 2044 (11) \n",
      "VTR/20 1156 (16) 1506 (6) 1596 (16) 1610 (10) 1796 (16) 1868 (8) 2044 (4) \n",
      "VTR/21 1156 (1) 1506 (15) 1596 (0) 1610 (14) 1796 (11) 1868 (20) 2044 (7) \n",
      "VTR/22 1156 (12) 1506 (10) 1596 (12) 1610 (4) 1796 (14) 1868 (20) 2044 (20) \n",
      "VTR/23 1156 (6) 1506 (11) 1596 (9) 1610 (0) 1796 (2) 1868 (5) 2044 (20) \n",
      "VTR/24 1156 (4) 1506 (18) 1596 (12) 1610 (2) 1796 (20) 1868 (20) 2044 (4) \n",
      "VTR/25 1156 (6) 1506 (6) 1596 (21) 1610 (10) 1796 (21) 1868 (18) 2044 (19) \n",
      "VTR/26 1156 (12) 1506 (24) 1596 (10) 1610 (24) 1796 (2) 1868 (22) 2044 (16) \n",
      "\n",
      "BHR/2 570 (0) 706 (0) 1402 (0) 1530 (0) 1850 (0) 2114 (0) All the same!\n",
      "BHR/3 570 (0) 706 (1) 1402 (1) 1530 (0) 1850 (2) 2114 (2) \n",
      "BHR/4 570 (2) 706 (2) 1402 (2) 1530 (2) 1850 (2) 2114 (2) All the same!\n",
      "BHR/5 570 (0) 706 (1) 1402 (2) 1530 (0) 1850 (0) 2114 (4) \n",
      "BHR/6 570 (0) 706 (4) 1402 (4) 1530 (0) 1850 (2) 2114 (2) \n",
      "BHR/7 570 (3) 706 (6) 1402 (2) 1530 (4) 1850 (2) 2114 (0) \n",
      "BHR/8 570 (2) 706 (2) 1402 (2) 1530 (2) 1850 (2) 2114 (2) All the same!\n",
      "BHR/9 570 (3) 706 (4) 1402 (7) 1530 (0) 1850 (5) 2114 (8) \n",
      "BHR/10 570 (0) 706 (6) 1402 (2) 1530 (0) 1850 (0) 2114 (4) \n",
      "BHR/11 570 (9) 706 (2) 1402 (5) 1530 (1) 1850 (2) 2114 (2) \n",
      "BHR/12 570 (6) 706 (10) 1402 (10) 1530 (6) 1850 (2) 2114 (2) \n",
      "BHR/13 570 (11) 706 (4) 1402 (11) 1530 (9) 1850 (4) 2114 (8) \n",
      "BHR/14 570 (10) 706 (6) 1402 (2) 1530 (4) 1850 (2) 2114 (0) \n",
      "BHR/15 570 (0) 706 (1) 1402 (7) 1530 (0) 1850 (5) 2114 (14) \n",
      "BHR/16 570 (10) 706 (2) 1402 (10) 1530 (10) 1850 (10) 2114 (2) \n",
      "BHR/17 570 (9) 706 (9) 1402 (8) 1530 (0) 1850 (14) 2114 (6) \n",
      "BHR/18 570 (12) 706 (4) 1402 (16) 1530 (0) 1850 (14) 2114 (8) \n",
      "BHR/19 570 (0) 706 (3) 1402 (15) 1530 (10) 1850 (7) 2114 (5) \n",
      "BHR/20 570 (10) 706 (6) 1402 (2) 1530 (10) 1850 (10) 2114 (14) \n",
      "BHR/21 570 (3) 706 (13) 1402 (16) 1530 (18) 1850 (2) 2114 (14) \n",
      "BHR/22 570 (20) 706 (2) 1402 (16) 1530 (12) 1850 (2) 2114 (2) \n",
      "BHR/23 570 (18) 706 (16) 1402 (22) 1530 (12) 1850 (10) 2114 (21) \n",
      "BHR/24 570 (18) 706 (10) 1402 (10) 1530 (18) 1850 (2) 2114 (2) \n",
      "BHR/25 570 (20) 706 (6) 1402 (2) 1530 (5) 1850 (0) 2114 (14) \n",
      "BHR/26 570 (24) 706 (4) 1402 (24) 1530 (22) 1850 (4) 2114 (8) \n",
      "\n",
      "IWK/2 135 (1) 191 (1) 295 (1) 1463 (1) 1511 (1) All the same!\n",
      "IWK/3 135 (0) 191 (2) 295 (1) 1463 (2) 1511 (2) \n",
      "IWK/4 135 (3) 191 (3) 295 (3) 1463 (3) 1511 (3) All the same!\n",
      "IWK/5 135 (0) 191 (1) 295 (0) 1463 (3) 1511 (1) \n",
      "IWK/6 135 (3) 191 (5) 295 (1) 1463 (5) 1511 (5) \n",
      "IWK/7 135 (2) 191 (2) 295 (1) 1463 (0) 1511 (6) \n",
      "IWK/8 135 (7) 191 (7) 295 (7) 1463 (7) 1511 (7) All the same!\n",
      "IWK/9 135 (0) 191 (2) 295 (7) 1463 (5) 1511 (8) \n",
      "IWK/10 135 (5) 191 (1) 295 (5) 1463 (3) 1511 (1) \n",
      "IWK/11 135 (3) 191 (4) 295 (9) 1463 (0) 1511 (4) \n",
      "IWK/12 135 (3) 191 (11) 295 (7) 1463 (11) 1511 (11) \n",
      "IWK/13 135 (5) 191 (9) 295 (9) 1463 (7) 1511 (3) \n",
      "IWK/14 135 (9) 191 (9) 295 (1) 1463 (7) 1511 (13) \n",
      "IWK/15 135 (0) 191 (11) 295 (10) 1463 (8) 1511 (11) \n",
      "IWK/16 135 (7) 191 (15) 295 (7) 1463 (7) 1511 (7) \n",
      "IWK/17 135 (16) 191 (4) 295 (6) 1463 (1) 1511 (15) \n",
      "IWK/18 135 (9) 191 (11) 295 (7) 1463 (5) 1511 (17) \n",
      "IWK/19 135 (2) 191 (1) 295 (10) 1463 (0) 1511 (10) \n",
      "IWK/20 135 (15) 191 (11) 295 (15) 1463 (3) 1511 (11) \n",
      "IWK/21 135 (9) 191 (2) 295 (1) 1463 (14) 1511 (20) \n",
      "IWK/22 135 (3) 191 (15) 295 (9) 1463 (11) 1511 (15) \n",
      "IWK/23 135 (20) 191 (7) 295 (19) 1463 (14) 1511 (16) \n",
      "IWK/24 135 (15) 191 (23) 295 (7) 1463 (23) 1511 (23) \n",
      "IWK/25 135 (10) 191 (16) 295 (20) 1463 (13) 1511 (11) \n",
      "IWK/26 135 (5) 191 (9) 295 (9) 1463 (7) 1511 (3) \n",
      "\n",
      "TUK/2 195 (1) 691 (1) 939 (1) 1227 (1) 1883 (1) All the same!\n",
      "TUK/3 195 (0) 691 (1) 939 (0) 1227 (0) 1883 (2) \n",
      "TUK/4 195 (3) 691 (3) 939 (3) 1227 (3) 1883 (3) All the same!\n",
      "TUK/5 195 (0) 691 (1) 939 (4) 1227 (2) 1883 (3) \n",
      "TUK/6 195 (3) 691 (1) 939 (3) 1227 (3) 1883 (5) \n",
      "TUK/7 195 (6) 691 (5) 939 (1) 1227 (2) 1883 (0) \n",
      "TUK/8 195 (3) 691 (3) 939 (3) 1227 (3) 1883 (3) All the same!\n",
      "TUK/9 195 (6) 691 (7) 939 (3) 1227 (3) 1883 (2) \n",
      "TUK/10 195 (5) 691 (1) 939 (9) 1227 (7) 1883 (3) \n",
      "TUK/11 195 (8) 691 (9) 939 (4) 1227 (6) 1883 (2) \n",
      "TUK/12 195 (3) 691 (7) 939 (3) 1227 (3) 1883 (11) \n",
      "TUK/13 195 (0) 691 (2) 939 (3) 1227 (5) 1883 (11) \n",
      "TUK/14 195 (13) 691 (5) 939 (1) 1227 (9) 1883 (7) \n",
      "TUK/15 195 (0) 691 (1) 939 (9) 1227 (12) 1883 (8) \n",
      "TUK/16 195 (3) 691 (3) 939 (11) 1227 (11) 1883 (11) \n",
      "TUK/17 195 (8) 691 (11) 939 (4) 1227 (3) 1883 (13) \n",
      "TUK/18 195 (15) 691 (7) 939 (3) 1227 (3) 1883 (11) \n",
      "TUK/19 195 (5) 691 (7) 939 (8) 1227 (11) 1883 (2) \n",
      "TUK/20 195 (15) 691 (11) 939 (19) 1227 (7) 1883 (3) \n",
      "TUK/21 195 (6) 691 (19) 939 (15) 1227 (9) 1883 (14) \n",
      "TUK/22 195 (19) 691 (9) 939 (15) 1227 (17) 1883 (13) \n",
      "TUK/23 195 (11) 691 (1) 939 (19) 1227 (8) 1883 (20) \n",
      "TUK/24 195 (3) 691 (19) 939 (3) 1227 (3) 1883 (11) \n",
      "TUK/25 195 (20) 691 (16) 939 (14) 1227 (2) 1883 (8) \n",
      "TUK/26 195 (13) 691 (15) 939 (3) 1227 (5) 1883 (11) \n",
      "\n",
      "GNP/2 388 (0) 788 (0) 948 (0) 980 (0) 1196 (0) All the same!\n",
      "GNP/3 388 (1) 788 (2) 948 (0) 980 (2) 1196 (2) \n",
      "GNP/4 388 (0) 788 (0) 948 (0) 980 (0) 1196 (0) All the same!\n",
      "GNP/5 388 (3) 788 (3) 948 (3) 980 (0) 1196 (1) \n",
      "GNP/6 388 (4) 788 (2) 948 (0) 980 (2) 1196 (2) \n",
      "GNP/7 388 (3) 788 (4) 948 (3) 980 (0) 1196 (6) \n",
      "GNP/8 388 (4) 788 (4) 948 (4) 980 (4) 1196 (4) All the same!\n",
      "GNP/9 388 (1) 788 (5) 948 (3) 980 (8) 1196 (8) \n",
      "GNP/10 388 (8) 788 (8) 948 (8) 980 (0) 1196 (6) \n",
      "GNP/11 388 (3) 788 (7) 948 (2) 980 (1) 1196 (8) \n",
      "GNP/12 388 (4) 788 (8) 948 (0) 980 (8) 1196 (8) \n",
      "GNP/13 388 (11) 788 (8) 948 (12) 980 (5) 1196 (0) \n",
      "GNP/14 388 (10) 788 (4) 948 (10) 980 (0) 1196 (6) \n",
      "GNP/15 388 (13) 788 (8) 948 (3) 980 (5) 1196 (11) \n",
      "GNP/16 388 (4) 788 (4) 948 (4) 980 (4) 1196 (12) \n",
      "GNP/17 388 (14) 788 (6) 948 (13) 980 (11) 1196 (6) \n",
      "GNP/18 388 (10) 788 (14) 948 (12) 980 (8) 1196 (8) \n",
      "GNP/19 388 (8) 788 (9) 948 (17) 980 (11) 1196 (18) \n",
      "GNP/20 388 (8) 788 (8) 948 (8) 980 (0) 1196 (16) \n",
      "GNP/21 388 (10) 788 (11) 948 (3) 980 (14) 1196 (20) \n",
      "GNP/22 388 (14) 788 (18) 948 (2) 980 (12) 1196 (8) \n",
      "GNP/23 388 (20) 788 (6) 948 (5) 980 (14) 1196 (0) \n",
      "GNP/24 388 (4) 788 (20) 948 (12) 980 (20) 1196 (20) \n",
      "GNP/25 388 (13) 788 (13) 948 (23) 980 (5) 1196 (21) \n",
      "GNP/26 388 (24) 788 (8) 948 (12) 980 (18) 1196 (0) \n",
      "\n",
      "ZSE/2 533 (1) 1301 (1) 1421 (1) 2205 (1) 2245 (1) All the same!\n",
      "ZSE/3 533 (2) 1301 (2) 1421 (2) 2205 (0) 2245 (1) \n",
      "ZSE/4 533 (1) 1301 (1) 1421 (1) 2205 (1) 2245 (1) All the same!\n",
      "ZSE/5 533 (3) 1301 (1) 1421 (1) 2205 (0) 2245 (0) \n",
      "ZSE/6 533 (5) 1301 (5) 1421 (5) 2205 (3) 2245 (1) \n",
      "ZSE/7 533 (1) 1301 (6) 1421 (0) 2205 (0) 2245 (5) \n",
      "ZSE/8 533 (5) 1301 (5) 1421 (5) 2205 (5) 2245 (5) All the same!\n",
      "ZSE/9 533 (2) 1301 (5) 1421 (8) 2205 (0) 2245 (4) \n",
      "ZSE/10 533 (3) 1301 (1) 1421 (1) 2205 (5) 2245 (5) \n",
      "ZSE/11 533 (5) 1301 (3) 1421 (2) 2205 (5) 2245 (1) \n",
      "ZSE/12 533 (5) 1301 (5) 1421 (5) 2205 (9) 2245 (1) \n",
      "ZSE/13 533 (0) 1301 (1) 1421 (4) 2205 (8) 2245 (9) \n",
      "ZSE/14 533 (1) 1301 (13) 1421 (7) 2205 (7) 2245 (5) \n",
      "ZSE/15 533 (8) 1301 (11) 1421 (11) 2205 (0) 2245 (10) \n",
      "ZSE/16 533 (5) 1301 (5) 1421 (13) 2205 (13) 2245 (5) \n",
      "ZSE/17 533 (6) 1301 (9) 1421 (10) 2205 (12) 2245 (1) \n",
      "ZSE/18 533 (11) 1301 (5) 1421 (17) 2205 (9) 2245 (13) \n",
      "ZSE/19 533 (1) 1301 (9) 1421 (15) 2205 (1) 2245 (3) \n",
      "ZSE/20 533 (13) 1301 (1) 1421 (1) 2205 (5) 2245 (5) \n",
      "ZSE/21 533 (8) 1301 (20) 1421 (14) 2205 (0) 2245 (19) \n",
      "ZSE/22 533 (5) 1301 (3) 1421 (13) 2205 (5) 2245 (1) \n",
      "ZSE/23 533 (4) 1301 (13) 1421 (18) 2205 (20) 2245 (14) \n",
      "ZSE/24 533 (5) 1301 (5) 1421 (5) 2205 (21) 2245 (13) \n",
      "ZSE/25 533 (8) 1301 (1) 1421 (21) 2205 (5) 2245 (20) \n",
      "ZSE/26 533 (13) 1301 (1) 1421 (17) 2205 (21) 2245 (9) \n",
      "\n",
      "SEM/2 534 (0) 1302 (0) 1422 (0) 2206 (0) 2246 (0) All the same!\n",
      "SEM/3 534 (0) 1302 (0) 1422 (0) 2206 (1) 2246 (2) \n",
      "SEM/4 534 (2) 1302 (2) 1422 (2) 2206 (2) 2246 (2) All the same!\n",
      "SEM/5 534 (4) 1302 (2) 1422 (2) 2206 (1) 2246 (1) \n",
      "SEM/6 534 (0) 1302 (0) 1422 (0) 2206 (4) 2246 (2) \n",
      "SEM/7 534 (2) 1302 (0) 1422 (1) 2206 (1) 2246 (6) \n",
      "SEM/8 534 (6) 1302 (6) 1422 (6) 2206 (6) 2246 (6) All the same!\n",
      "SEM/9 534 (3) 1302 (6) 1422 (0) 2206 (1) 2246 (5) \n",
      "SEM/10 534 (4) 1302 (2) 1422 (2) 2206 (6) 2246 (6) \n",
      "SEM/11 534 (6) 1302 (4) 1422 (3) 2206 (6) 2246 (2) \n",
      "SEM/12 534 (6) 1302 (6) 1422 (6) 2206 (10) 2246 (2) \n",
      "SEM/13 534 (1) 1302 (2) 1422 (5) 2206 (9) 2246 (10) \n",
      "SEM/14 534 (2) 1302 (0) 1422 (8) 2206 (8) 2246 (6) \n",
      "SEM/15 534 (9) 1302 (12) 1422 (12) 2206 (1) 2246 (11) \n",
      "SEM/16 534 (6) 1302 (6) 1422 (14) 2206 (14) 2246 (6) \n",
      "SEM/17 534 (7) 1302 (10) 1422 (11) 2206 (13) 2246 (2) \n",
      "SEM/18 534 (12) 1302 (6) 1422 (0) 2206 (10) 2246 (14) \n",
      "SEM/19 534 (2) 1302 (10) 1422 (16) 2206 (2) 2246 (4) \n",
      "SEM/20 534 (14) 1302 (2) 1422 (2) 2206 (6) 2246 (6) \n",
      "SEM/21 534 (9) 1302 (0) 1422 (15) 2206 (1) 2246 (20) \n",
      "SEM/22 534 (6) 1302 (4) 1422 (14) 2206 (6) 2246 (2) \n",
      "SEM/23 534 (5) 1302 (14) 1422 (19) 2206 (21) 2246 (15) \n",
      "SEM/24 534 (6) 1302 (6) 1422 (6) 2206 (22) 2246 (14) \n",
      "SEM/25 534 (9) 1302 (2) 1422 (22) 2206 (6) 2246 (21) \n",
      "SEM/26 534 (14) 1302 (2) 1422 (18) 2206 (22) 2246 (10) \n",
      "\n"
     ]
    }
   ],
   "source": [
    "# A function that searches the given text for a word and figures out where it would line up with a key of a given size\n",
    "def get_alignment(text, word, key_size):\n",
    "    print(f\"{word}/{key_size}\", end=\" \")\n",
    "    alignments = []\n",
    "    position = -1\n",
    "    while True:\n",
    "        position = text.find(word, position+1)\n",
    "        if position >= 0:\n",
    "            alignment = position % key_size\n",
    "            print(f\"{position} ({alignment})\", end=\" \")\n",
    "            alignments.append(alignment)\n",
    "        else:\n",
    "            break\n",
    "    if alignments.count(alignments[0]) == len(alignments):\n",
    "        print(\"All the same!\", end=\"\")\n",
    "    print()\n",
    "\n",
    "for trigraph in (\"MYM\", \"XAV\", \"KPE\", \"VTR\", \"BHR\", \"IWK\", \"TUK\", \"GNP\", \"ZSE\", \"SEM\"):\n",
    "    for n in range(2,27):\n",
    "        get_alignment(squished, trigraph, n)\n",
    "    print()"
   ]
  },
  {
   "cell_type": "code",
   "execution_count": 6,
   "metadata": {},
   "outputs": [
    {
     "name": "stdout",
     "output_type": "stream",
     "text": [
      "XAV: ETR\n",
      "KPE: RIA\n",
      "BHR: IAN\n",
      "IWK: PPG\n",
      "TUK: ANG\n",
      "GNP: NGL\n",
      "ZSE: GLA\n",
      "SEM: ZXI\n"
     ]
    }
   ],
   "source": [
    "# Looks like the key size is 2, 4 or 8.  Assume 8 for the final challenge.\n",
    "\n",
    "# A function to reverse search for a key that would convert the given word to an encoded word\n",
    "def lookup_key(word, encoded_word):\n",
    "    key = \"\"\n",
    "    for letter, encoded_letter in zip(word, encoded_word):\n",
    "        diff = (ord(encoded_letter) - ord(letter)) % 26\n",
    "        key += chr(diff + ord('A'))\n",
    "    print(key)\n",
    "\n",
    "for word in (\"XAV\", \"KPE\", \"BHR\", \"IWK\", \"TUK\", \"GNP\", \"ZSE\", \"SEM\"):\n",
    "    print(word, end=\": \")\n",
    "    lookup_key(\"THE\", word)"
   ]
  },
  {
   "cell_type": "code",
   "execution_count": 7,
   "metadata": {},
   "outputs": [],
   "source": [
    "# Lining those up...\n",
    "# TR.....E\n",
    "# .RIA....\n",
    "# ..IAN...\n",
    "# PG.....P x\n",
    "# ...ANG..\n",
    "# ....NGL.\n",
    "# .....GLA x\n",
    "# I.....ZX x\n",
    "\n",
    "# Combined, we have \"TRIANGLE\""
   ]
  },
  {
   "cell_type": "code",
   "execution_count": 8,
   "metadata": {},
   "outputs": [
    {
     "name": "stdout",
     "output_type": "stream",
     "text": [
      "THEATTACHEDDOCUMENTWASINTERCEPTEDBYHARRYSTEAMWHOHAVEMANAGEDTOPLANTABUGONTHECOMMUNICATIONLINESOUTOFTIRPITZUFEROURCRYPTANALYSTSHAVEEXAMINEDTHECIPHERTEXTANDTHECASEFILESANDBELIEVETHATITMAYBERELATEDTOTHEWHEATSTONECLOCKCIPHERDEPUTYHEADOFTHEDIVISIONHASWRITTENABOSSGUIDETOTHESECIPHERMACHINESANDWEHAVEADDEDTHATTOTHECASEFILESHARRYSTEAMALSORECOVEREDASCRAPOFBURNTPAPERFROMTHEABWEHRHQWASTEWHICHCARRIESTHEFOLLOWINGMESSAGEWHICHWETHINKMIGHTBEPARTOFTHEPLAINTEXTTENTIALSTOPTHETRIPWIREOPTIONISALSODEPRECATEDSINCEITISMORELIKELYTHATTHEEXPLTHENAVYREPORTEDTHATADUTCHFISHINGVESSELWASIMPOUNDEDBYTHENAZIAUTHORITIESINBREMERHAVENTHECREWWEREDETAINEDANDNEGOTIATIONSAREUNDERWAYBETWEENTHEDUTCHANDGERMANAUTHORITIESTOTRYTOGETTHEFISHERMENANDTHEIRVESSELBACKBUTINTHEMEANTIMERNPATROLSWILLWATCHOUTFORTHEBOATINCASEITISINVOLVEDINTHEOPERATIONTHEAIRMINISTRYHAVEBEENBRIEFEDONOURFINDINGSSOFARANDHAVEEMPHASISEDTHEIMPORTANCEOFPROTECTINGTHERDFSYSTEMWHICHIAMTOLDTHEYCALLCHAINHOMEVKISSYMPATHETICBUTTHETHREEOFUSARESTILLWORRIEDABOUTTHENEWAGENTSEMBEDDEDINLONDONANDWEARENOTSUREHOWMUCHOFATHREATTHEYPOSEITISCRUCIALTHATWEBREAKTHEATTACHEDCIPHERTEXTASFASTASPOSSIBLESOWECANPUTEFFECTIVECOUNTERMEASURESINPLACEITISTEMPTINGTOARRESTALLTWENTYTHREESPYCLISTSANDASKTHEMDIRECTLYBUTWITHOUTREVEALINGTHEEXTENTOFOURSURVEILLANCEANDCODEBREAKINGABILITYITWILLNOTBEPOSSIBLETOPROVETHATTHEYHAVEBROKENTHELAWSOWEWOULDNOTBEABLETODETAINORDEPORTTHEMITWOULDUSUALLYBEBETTERTOWATCHANDWAITBUTTHEAIRMINISTRYFEELSTHATTHERISKTOOURAIRDEFENCEISTOOGREATSOWENEEDTOACTFASTIFWEKNEWEXACTLYWHENANDWHERETHEYINTENDEDTOATTACKCHAINHOMETHENWEMIGHTBEABLETOINCREASESECURITYTOPREVENTITBUTAGAINWERISKREVEALINGOURCOUNTERINTELLIGENCECAPABILITIESHARRYSUGGESTEDTHATWECOULDOBSCUREOURTRACKSBYFAKINGAVISITBYDIGNITARIESTOTHETARGETSITESASACOVERSTORYFORINCREASEDSECURITYBUTWECANTMAINTAINTHEINCREASEFORLONGWITHOUTRAISINGSUSPICIONSOITISCRUCIALTODETERMINETHEIRPLANSWHATEVERTHEABWEHRAREINTENDINGTHEYWONTWANTTHEIRAGENTSTOFALLINTOOURHANDSESPECIALLYAFTERADEMOLITIONSINCETHATWOULDGIVEUSTHEEXCUSEWENEEDTOARRESTTHEMITWOULDBEGOODTOKNOWWHATTHEYHAVEINMINDFORTHEIREXFILTRATIONTHINGSAREVERYFINELYBALANCEDIFWEACTTOOSOONWEGIVEAWAYOURCRUCIALADVANTAGEINTHEINTERCEPTWARIFWEACTTOOLATEOURENEMIESCOULDSERIOUSLYDAMAGEOURAIRDEFENCECAPABILITYITISCLEARTHATTHINGSARECOMINGTOAHEADANDITISCRUCIALTHATWECRACKTHECLOCKCIPHERASSOONASPOSSIBLETHEFATEOFTHECOUNTRYLIESINYOURHANDSPEARL\n"
     ]
    }
   ],
   "source": [
    "# A method to decode/encode a Vigenere cipher.  Case and punctuation are preserved.\n",
    "# text: The text to encode\n",
    "# key: The key to use\n",
    "# encode: If set to True, will encode the given text instead of decoding it\n",
    "def vigenere(text, key, encode=False):\n",
    "    shifts = [ord(letter.upper()) - ord(\"A\") for letter in key]\n",
    "    key_length = len(key)\n",
    "    key_index = 0\n",
    "    for letter in text:\n",
    "        letter_val = ord(letter)\n",
    "        if letter.isupper():\n",
    "            offset = ord(\"A\")\n",
    "        elif letter.islower():\n",
    "            offset = ord(\"a\")\n",
    "        else:\n",
    "            print(letter, end=\"\")\n",
    "            continue\n",
    "\n",
    "        if encode:\n",
    "            shift = shifts[key_index]\n",
    "        else:\n",
    "            shift = -shifts[key_index]\n",
    "\n",
    "        print(chr((((letter_val - offset) + shift) % 26) + offset), end=\"\")\n",
    "        key_index = (key_index + 1) % key_length\n",
    "    print()\n",
    "\n",
    "vigenere(squished, \"TRIANGLE\")"
   ]
  },
  {
   "cell_type": "markdown",
   "metadata": {},
   "source": [
    "### Edited for clarity:\n",
    "\n",
    "The attached document was intercepted by Harry's team, who have managed to plant a bug on the communication lines out of Tirpitzufer. Our cryptanalysts have examined the ciphertext and the case files and believe that it may be related to the Wheatstone Clock cipher.<br>\n",
    "Deputy head of the division has written a BOSS guide to these cipher machines and we have added that to the case files. Harry's team also recovered a scrap of burnt paper from the Abwehr HQ waste, which carries the following message which we think might be part of the plaintext:<br><br>\n",
    "\n",
    "...tential STOP<br>\n",
    "The trip wire option is also deprecated, since it is more likely that the expl...<br><br>\n",
    "\n",
    "The navy reported that a dutch fishing vessel was impounded by the Nazi authorities in Bremerhaven. The crew were detained and negotiations are underway between the Dutch and German authorities to try to get the fishermen and their vessel back, but in the meantime, RN patrols will watch out for the boat in case it is involved in the operation. The Air Ministry have been briefed on our findings so far and have emphasised the importance of protecting the RDF system, which I am told they call chain home.<br>\n",
    "VK is sympathetic, but the three of us are still worried about the new agents embedded in London and we are not sure how much of a threat they pose. It is crucial that we break the attached ciphertext as fast as possible, so we can put effective countermeasures in place.<br>\n",
    "It is tempting to arrest all twenty three spyclists and ask them directly, but without revealing the extent of our surveillance and codebreaking ability.<br>\n",
    "It will not be possible to prove that they have broken the law, so we would not be able to detain or deport them.<br> It would usually be better to watch and wait, but the Air Ministry feels that the risk to our air defence is too great, so we need to act fast.<br>\n",
    "If we knew exactly when and where they intended to attack chain home, then we might be able to increase security to prevent it, but again we risk revealing our counterintelligence capabilities.<br>\n",
    "Harry suggested that we could obscure our tracks by faking a visit by dignitaries to the target sites as a cover story for increased security, but we can't maintain the increase for long without raising suspicion, so it is crucial to determine their plans.<br>\n",
    "Whatever the Abwehr are intending, they won't want their agents to fall into our hands, especially after a demolition, since that would give us the excuse we need to arrest them. It would be good to know what they have in mind for their exfiltration/ Things are very finely balanced: if we act too soon, we give away our crucial advantage in the intercept war. If we act too late, our enemies could seriously damage our air defence capability.<br>\n",
    "It is clear that things are coming to a head and it is crucial that we crack the clock cipher as soon as possible. The fate of the country lies in your hands.<br>\n",
    "Pearl"
   ]
  },
  {
   "cell_type": "code",
   "execution_count": 9,
   "metadata": {},
   "outputs": [],
   "source": [
    "# Part B - \"War clouds\"\n",
    "part_b_text = \"\"\"VXLKV ZXZSZ XODRQ YFQEM OLMRT OFATI MXTAW AYANK RBPCE SXCUP OB#RT BXSEK RDSJ+ WYTG+ JDIKP NRJTP #AFYX BAZRO VAWUH RUYIZ RCOSX CBNW# VNIQS XJPEU YKCJO PSMCE QXBIC #HYIZ T+RBJ +MXPM TDSKR UNQ#U BIHZX VBZET EGSZE MWXQD UFQXS EKRZD ENOND SZEQU IXNGL +REON AHUOQ +ULFN ELDQB HKZGS QPSMC NRQ#O LMEOP FXLBU LSY#I C+IO# SGRDL VIMFU MPOTL UPADT SCAUW MSJGX VHWAH CIWBN KAPIZ EMWPX DBLCP +H#KN RJTPZ ELNZA WZRKS HKNDS LHJNK VFQHM O#ATL SPISE JFSTD SPQYQ FQEGZ HLNDX Z+VKB +JKSD FWZAT UXH#K M#XNH XHZTL UKBTE BWDPU #APXB POTGZ CHODT SQGNB J#IVU VMZXV +PFAN TRILP EMHYO ERKAR T+YDJ WOIHU IZFTX LWUB+ ZGSLN QYT+R +THCH TPBXZ JVLDT EIWIH KNDA# IQYCL WJVMO PWRFT GKXCQ EHCNH MBEQ+ MPUCO DSOLD JWKSH KNDA# ILUXV TOCHC KUVQR FBXJT AZAKU FHIYT BJNMC HSOXL XYJKM ZJWMD UGNWP BWYRX ISFUL YNTBZ WZKTY GRY+R QVH#S W#QBF YXW+W ZSIAS TI+VR GPXQM XEVUK QXJGN IXBGH EWYIY WYSXB L+JWG ZCHOQ HZWLX QBHVJ ZSDKW RGFTU GXTGW #MEOT NTEJA QH#JE AJWRQ GVKYX N#LOZ WUZTW PHWXB MPT+D LVZXJ HIONA TEUQO SRDLW YR+CP VQENQ MENKX Z+UBX KSMTO JWMI+ SUJND JMXI# HPMEO WUXYJ ZXJPM IKRZI QCXBO #HYAI FDUVQ KUBNH YVHWP RBTCJ +MPOR QVNEG IVXYJ KCRUI ZQDIH PJVLU IVGJB VXYWS QNH#V YQCJP VMGOQ FMNCK XFLDT SGRAS RHWC# FOFAV LNBIF HNELJ BNHYE MIAPS MCJPY IWQJH VCWDU RFBRT BNBJA UKW+A SVCND JM+BP M#PLJ HLNVZ LUPAX PR+HN LR+DI VHGPA SPBNU HFOIH PZTYX NS+QA #VD+B PHGLE QROFX QRNYD FSFJO IXAI+ QEIEM EOTXL NJBZW SGSFA XUOQF P+MQP HULTE GHPZT HBJKT KVNHM BEQEI EKVUS EFLPJ HOK#T DIARY FQPBO CPOWS ROENQ IJ+WC JZTRW OAX+Y FQPBO CPOW# ANPIX ALTVW KSHXQ MCENG MEOHU QPXBE ROCKC R+VQS PIVNQ LBAIN WILDT #DRHK OXWDR XIWCP CUCPC UFYJB WHQXY PER+G A#INQ PBOCP OWHZT XTPZM WYWSV JA#YF QSH#X EUOCJ FULRO EILZI JZXOD HOAX+ WMT+Z QG+SR UGPQH RNLDT CRNIS RYTDL VGWXH #SCKU NENUK TJKPA WIXJS V#KME N#TQW IXBJ+ WKJWO XMDLG VPWKC KUENU IPGJR WMKNP RDHWD LPBOC POW#J QTEGB +EJSH WAYTQ YCLWA HVLSO RSUZX NJ+BT ESGRA SRXMQ X+SCT PMULN YDHFO VKSYC JDRQN FYFW+ DHXVH WLYWY QLXYJ ZXJEQ UI+LX MQSI# XMHCT OB#TY H#NIX JHY#H #NYI# V+IVG ZCHOW #QBTI LDTGN EVZDS JLHIJ MINR+ UIFLJ M#OWR FYX+Z SOJPU KCQYD LVTZW OQTNC UQDLD TVJWU +LQFP GQPXV BZDHR FVBLB +JPVY DXDYW MISVW APCJS CILJH FYLDT ZGXK# SZDMX UWTC+ BPECU IOWAQ WKGCQ SNDSA WOHMY WMIRC +BPMR CNZDU RFBRT BNHYO CKCRY TOQGX KXMCK PWRNQ RXKJT IXD+N ITRUW DQPFP U#NBN UTEGZ TSODH KYHIY WTCBO CAH#C IXNXV HEYXP MHKND A#IZQ #HUXV CKNAT BNTZG KSWQM UTRCP MPUSO W#ANK UOTYX MUNLY FP+TW BYPUL RSOKA +WZSI YDWYQ ESFJV COPB# HVNLP CTSRP SCASG YFQ+B IMKYB NW#HZ XBXSV XYJRN GLUXI SFULY ZIWRV +HPZS YJPEU YJFSY WNMST JVDZU FVTAN O#EMW AXHI+ RCHE+ OFOHR A#ANG XHPYX ETU+A XRQ+W SMPAH CNPZU +OPJN TVOCK CRVI+ RHFOF ANQLE O+UTE SXKWP JADPD LV#GZ QJSKI SE+MX SZESN YKWL# XHIYQ GIEME OFUHR TESNI SECAK SHW+I RYFQC #SMQJ QSWAQ WKGCT ZWNSD J+A#S U+QIH MKJMR FTOQS RFKXS BJXEK NVXOD JEVGP CIPBU FYXHP QBTGM SRASA IDPGQ PMSAI F#ANV ZXZSZ XODLH YDLVK PRWBP #HQEH IVZGR YDRGU WJU#+ H#PWT SZTXF TKAQN ZJPCU AKVNY RVNJ# TJMRF APFW# HZQL+ NBLPE ZTBJY EUPYR GIJHB GSRAV SFSBF OENB+ JOASA IASXM TCPVG ZHXFU TKUQT IGRKJ O#VGM V#QFP SCILW UXVKM IJUVH KGRVY QCJES XAMCK XFLDU QRSVW YRWKN FHV+N DJM+B PCHVS NFHRH LDSZE MWBDW DRXBV WGH#B VNELH SREAQ AXDIP VLH#O HORQV Q+JBN HYQTK CA#IL ULGVM KQGVY PBOFY XRHED #LWAP RIMDL VIMKN VLHUV BOBXS ACOVA HMHUY VNR+I TAWCL SCIL# ANVKY RQRQA XIMNU GVGZU CTONT ELZIY RPVYD MVMD+ BPRVS CIDLT WB+JU TDKNQ HV+DL VUHUL BI#JH ZTEGB +NVAK UMRQD OR#FA PMEOL FQ#VT SZXOD KCQYI MNUGV TGZUC #AHRS OKA+W AYW+O AX+YF QMFOF LPBO+ OFUQN HYMIO LRYI+ SI#PA CKXFA JKISE RMXKP EQT+G BRYFQ JM+IW OLFVH K#YQL FYXSZ ERWXI OSYQT RCPIK PJXVC KXZNW HPHYP EUYKC RPNUI QPJMC KXFJV RQKDT KJ+AX YHTDQ HWTGW UC#XN PFYXT CUVDF OAIVW NDJGH #KONB US+VK QNZJP UYW+S GRPVJ GMQAR #NZIZ ULDTZ GRNWO FXDTU GZSMG ZORQH ZUJUZ EWX#H OAX+Y FQXNC #R#C# UTPIQ +HQD# HWAH+ CTJRS XMFIW #RTLB +JERA SRYNR CHE+O FOHRA #ANJB ZWSNP UKCQY PTUVH #RWLP #QLUR JZMOH BJUSD KOQGB JPWVO EQFUB NWRNI QOJYE U#A#I NQPXC VCXW# QBDVA YHIXY JKCRX +I+P+ ISFME OWX+Q FTUXB TWUPH CNHMB +QCEV YGRJW #QUXB +JKQT KCA#I NUMCW CMCOX VRTLB +JGON WNFYF Q#JPO LWCMS HFSBZ XJ+NJ MXYPU PA#TV CZJ#T GW#UJ DIXFS OKAQB SACFQ AX+WV WOSXO LBJLX FLDZT JMOKE IHWKR G#PCN HMUJH UIZ+W UB+WM R+GBV QS+QC EVYGR JWQDV KTZGX KESW+ NGYFQ +BIMG PHLCK JANEL DTVJR ARCO# XOCZL H+PAV OD+VW KQBHK ROVQT +G+RI Z+SVU VLNUN URILP SCHWE WIDQB MITBP OC#XP BOJVR JAYHQ EKNTI Q+IGJ MRFCK ULNJZ TBJKI NI+VF SUFWM IDVTJ HBSPB #AHRE XUX+# OVACN XBPCE NPCHU IVPXK MVZJR +J+WX MQHZG PCMEO ILULT LUPAV ZOATK XSRFD BVPLB OWRIX JQKSK CQYTE +HI#Q FPRBU HZT+F JKJT+ HIJZS AVWXH UYBTQ DVMUM EVLHJ UXJKB HKEJZ SDKOH UGRPI SFVLN YCXZX NV+B+ JOASA IASXM NDJMI EMEVS QHRIU PAVQS WSWLU YFQCI GNQLB DOIZK SJHSZ ESANF BPOTA PEWCH CKUST BMXNU KQSAC IUPYA #DIQP SRCUA HSPBE QEGPA IXD+Y GQPVQ +UVRH FMWBO PBNQV BGUKS ZXYJU PYSGY IC#IV HLUOU YDVBL QCT+N ACJYS NQGSG INX+S CNPZU MO+UN EWJBJ +NATR DFGSU YIMRC QHU#O ASEKS +PZQN TYPEM IAYFQ JMVMO MVRBN QWKGD SBJFS W+IXJ G+JWQ JHYXZ +JQSE JPV+K NFYFT NQV#J XQCVO WJUAT FXMNV SOZSA WLVMQ UGW#J HUFUF TUXKJ RNYOQ DU+MP ZH+BP UO#IZ JPMPQ VPEUY VWCQA IEQV# XFUYB O#QOE +UABE WESKC JOWDT UMKXM VCPWP ZQSEL DSZEM WGRVB I+RXT WIOIZ NWUB+ ZGSTD JASVC LH#KM EN#FY XWSEJ ERXJ+ WYFQ# VOKWL SPOZT KIUKB TYDTS RGQIN DJM+B PZHNY IYFYX JHQYE SAJ+A RMCRQ PFOHD FXZXY RQTVZ GSRNL RGVJQ MVOCB NBDSN WUAY# JURXJ +WIYQ GOVZE WCMCI DHRXV FXZ+J KTFW+ ASYPN DJMUB IFPME ODUXK JZSZX ODU#P QDVMZ +BPAH SCFSN FOVKP GZGSA F#OVU YIJPG VGZHU OB#LT KNPSY VOCKC JOX+I +P+IS FMEOZ IZ+VK BEXRD SGRHW C#KVR PNCIU ZRWBU KXWMD OQU#C JW#NO VCR+O I#GPL BPONE TXBHX YCUAX NHDZP +GLHF ZXZRI LPERN ZGOVK A#IW+ VJWRT LPNTL UPAVI JQT+G BROMP E#VGW IRBHF VBMZN ZXPMY GQGUG #HPI# VPOFV TEANB JPRKP +GIVQ XTOCN #PWPR FVZUG ZGSAW JOQGP QFPCP VGZUC QUVGN BIPGR OVASY XOGVJ NFKYH UXBFW BXMWY #TDKW YDTIH GPACK UZJVR Q+HQD #ILQG BTC+B PJUYR CNHUQ BNBJB NHYRD FYRYO +C+SG QCFP# GWDXZ QBHKA KUKWI YWMI+ BPQAH LCP#T QDLDT ZKTI+ WMIWN JZEU# HFUTL XZYHY JKWYT WJGJG +H#HP MRJWR FVZWX JWYCT DFNA# I+OPO TGW#C RMIPN LDTIW KFPAP RHTU# EZI#K QMIR# ODHD+ UJQDE KNRGU O+Q+B OMXHU XZSOE UBRNZ GOVKI +RYHT +WJZO VHLCW HZFYX JWATK IGOAX +YFQS ITJVR BJHEK MXZTX WK#SF QUVNU VPVTJ RBEJO +RTSR DSHQD VMDQV GZHV# SNAUF JILPE BHXYW AWQUI DLVTP OJFHF JV+B+ JDODF NGY+R H#VLH VCPWN LWXOJ AB+WE KCRQC TVWPI CZH#Y OCHXN JKMZG SIOUT VRHGP AUIDU GVPUV KSIRC NHDCT CESFU POB#R ILPEB +J#SE JIRQP C#SGA PUBZI JU+LP GWD+J +AXIM QSOBO FASNB DFYOI HIVZ# JEMWA X+G+R JGIGU JMRFP YJVRJ ZTSRY KPYRB DLV#G ZHUID UGVPU SODKI J+SGR DLVRP NSCI# ANTUE +JKNP OABRB INDGS UPASC ILHFO IEZNA ZJ#U+ O+IVR HFCO# H#CKX FIDPI YCJRH JGVLS UNJF+ PYJ#H FXJKS YVOFS TDSRU YIZRZ #POHS WXLJI LPER+ JYVHJ +WYFQ SHPBI #PMUQ ONTBX BHJKR HWA#I VRMBP CUBFK X+UFT DLXZI VJRDF AXBIC Q+VGZ HQOTY LVHB+ JWUFW BXTW+ SPFJT #O#AT LKPHY SPORU YFQXH WPIHX #JHXN ILPEB +NVIX D+IGO XDIZN PVGZH #PWPQ DLDTU JISFI S+FQG ZOLBP BOHZF VXKTO RGRDF OUYTG RZHUF CJFUT ZETWK PTNXS GIMD+ BPFTS OIZNV +B+JP MIDRB VLHMV HSCID URFBP WZGSF WKSQI G+QBV MOALN YJFTH ZUOLB HTSKC RDHWD L+BPO ENFON LPNAS KSIOR YFQEV TGCTO CPCUB VWXZS ACURX WJA#V +ZQG+ SMPOR BW#LW XLQBH KJZSA QNGIW MDLVW S+PRH LCTPZ EGNZB JWNAT CUAQN HDUOQ VQXTO FAXIS LXVRZ SXJRD FIXJS IGRHL C#QFY X+SZG SAGQG BOR#F AP#CU VSODY QLNFX ZQBHK ROVRA WQGWM NMIMO MVRB# QWIJA YVZOA QTHCJ +WPTU #NPRQ FMEOA PBXEB YJQTH MEMWN DRDVD RJ#TG W#NRJ FWSZX KXRNY GS+N\"\"\""
   ]
  },
  {
   "cell_type": "code",
   "execution_count": 10,
   "metadata": {},
   "outputs": [
    {
     "name": "stdout",
     "output_type": "stream",
     "text": [
      "P: 265 (4.42%) J: 249 (4.15%) H: 249 (4.15%) S: 247 (4.12%) I: 247 (4.12%)\n",
      "X: 246 (4.10%) R: 245 (4.09%) V: 242 (4.04%) Q: 242 (4.04%) W: 241 (4.02%)\n",
      "U: 237 (3.95%) O: 229 (3.82%) N: 229 (3.82%) T: 216 (3.60%) B: 210 (3.50%)\n",
      "+: 207 (3.45%) C: 200 (3.34%) Y: 195 (3.25%) Z: 194 (3.24%) A: 189 (3.15%)\n",
      "F: 188 (3.14%) K: 186 (3.10%) D: 180 (3.00%) M: 179 (2.99%) G: 176 (2.94%)\n",
      "L: 171 (2.85%) #: 170 (2.84%) E: 165 (2.75%) \n",
      "-----\n"
     ]
    }
   ],
   "source": [
    "# \"So I need to find out about the Wheatstone Clock cipher\"\n",
    "# Let's check what characters are in use...\n",
    "squished = part_b_text.replace(\" \", \"\")\n",
    "frequency_analysis(squished)"
   ]
  },
  {
   "cell_type": "code",
   "execution_count": 11,
   "metadata": {},
   "outputs": [
    {
     "name": "stdout",
     "output_type": "stream",
     "text": [
      "YFQ: 18 +BP: 13 MEO: 12 DLV: 12 B+J: 12 \n",
      "LDT: 12 FYX: 11 A#I: 10 ZGS:  9 J+W:  8 \n",
      "KCR:  8 PBO:  8 VGZ:  8 SZE:  7 EMW:  7 \n",
      "UPA:  7 GZH:  7 ILP:  7 LPE:  7 XYJ:  7 \n",
      "NDJ:  7 AX+:  7 #AN:  7 SCI:  7 SZX:  6 \n",
      "XOD:  6 QBH:  6 BHK:  6 SGR:  6 CKU:  6 \n"
     ]
    }
   ],
   "source": [
    "# All the letters, plus \"#\" and \"+\", both seemingly randomly placed.  What can they mean?\n",
    "# The frequencies indicate that this is a polyalphabetic cipher\n",
    "# Wikipedia doesn't discuss a \"Wheatstone Clock Cipher\", but there are a few articles about a clock device he produced, e.g. https://incoherency.co.uk/blog/stories/wheatstone-cryptograph.html\n",
    "# Using a device like this would introduce one new character, but we have two new characters.\n",
    "# Could they:\n",
    "#   a. Be encoding spaces?\n",
    "#   b. Be using a 26/28 gear ratio?\n",
    "#   c. Be using one of the characters to change the direction of rotation?\n",
    "\n",
    "# If it's polyalphabetic, can we attack it like a Vignenere?\n",
    "pattern_finder(squished, 3)"
   ]
  },
  {
   "cell_type": "code",
   "execution_count": 12,
   "metadata": {},
   "outputs": [
    {
     "name": "stdout",
     "output_type": "stream",
     "text": [
      "SC+ULO#Q+LWOXAY+XKUOQNDWBFTKUCXHTS\n",
      "KEEPYOURKEYWORDSSAFEFROMPRYINGEYES\n"
     ]
    }
   ],
   "source": [
    "# I tried the usual approach with Vignere ciphers, but no dice\n",
    "\n",
    "# D'oh - the mechanism is described in great detail here: https://www.cipherchallenge.org/wp-content/uploads/2020/12/CC2020-clock-ciphers-redacted.pdf\n",
    "\n",
    "# Basically, to encode we need to set up a 28-char randomised key alphabet.  We advance to each letter in the message and advance the same number of positons in the key.\n",
    "# So, going backwards, we will need to create the alphabet and count backwards for each letter.  Doing the same countback on a 26 letter alphabet should produce a straight forward substitution cipher.  Unfortunately, that would require us to know the 28-char alphabet.\n",
    "\n",
    "# Write functions to encode and decode this cipher and test with the example:\n",
    "\n",
    "import string\n",
    "\n",
    "def clock_encode(plaintext, key):\n",
    "    key_size = len(key)\n",
    "    alpha26 = string.ascii_uppercase\n",
    "    plain_pos = 0\n",
    "    cipher_pos = 0\n",
    "    ciphertext = \"\"\n",
    "    for letter in plaintext.replace(\" \", \"\"):\n",
    "        diff = (alpha26.index(letter) - plain_pos) % 26\n",
    "        if diff == 0:\n",
    "            diff = 26\n",
    "        plain_pos = (plain_pos + diff) % 26\n",
    "        cipher_pos = (cipher_pos + diff) % key_size\n",
    "        ciphertext += key[cipher_pos]\n",
    "    return ciphertext\n",
    "\n",
    "\n",
    "def clock_decode(ciphertext, key):\n",
    "    key_size = len(key)\n",
    "    alpha26 = string.ascii_uppercase\n",
    "    plain_pos = 0\n",
    "    cipher_pos = 0\n",
    "    plaintext = \"\"\n",
    "    for letter in ciphertext.replace(\" \", \"\"):\n",
    "        diff = (key.index(letter) - cipher_pos) % key_size\n",
    "        cipher_pos = (cipher_pos + diff) % key_size\n",
    "        plain_pos = (plain_pos + diff) % 26\n",
    "        plaintext += alpha26[plain_pos]\n",
    "    return plaintext\n",
    "\n",
    "\n",
    "example_key = \"+ACEGIKMOQSUWY#BDFHJLNPRTVXZ\"\n",
    "ciphertext = clock_encode(\"KEEP YOUR KEYWORDS SAFE FROM PRYING EYES\", example_key)\n",
    "print(ciphertext)\n",
    "plaintext = clock_decode(ciphertext, example_key)\n",
    "print(plaintext)"
   ]
  },
  {
   "cell_type": "code",
   "execution_count": 13,
   "metadata": {},
   "outputs": [
    {
     "name": "stdout",
     "output_type": "stream",
     "text": [
      "JCUFGPIWYKMUVLMELZKHZWPRZ#LFSL+UHWZ+UYXPHQLFGLVW#HADXHLROBSWGUTFEPYUVLHQZN\n",
      "L:  8 (10.81%) U:  6 (8.11%) H:  6 (8.11%) W:  5 (6.76%) Z:  5 (6.76%)\n",
      "F:  4 (5.41%) P:  4 (5.41%) G:  3 (4.05%) Y:  3 (4.05%) V:  3 (4.05%)\n",
      "K:  2 (2.70%) M:  2 (2.70%) E:  2 (2.70%) R:  2 (2.70%) #:  2 (2.70%)\n",
      "S:  2 (2.70%) +:  2 (2.70%) X:  2 (2.70%) Q:  2 (2.70%) J:  1 (1.35%)\n",
      "C:  1 (1.35%) I:  1 (1.35%) A:  1 (1.35%) D:  1 (1.35%) O:  1 (1.35%)\n",
      "B:  1 (1.35%) T:  1 (1.35%) N:  1 (1.35%) \n",
      "-----\n"
     ]
    }
   ],
   "source": [
    "# Try the encode out on the fragment...\n",
    "ciphertext = clock_encode(\"TENTIAL STOP THE TRIP WIRE OPTION IS ALSO DEPRECATED SINCE IT IS MORE LIKELY THAT THE EXPL\", example_key)\n",
    "print(ciphertext)\n",
    "frequency_analysis(ciphertext)\n"
   ]
  },
  {
   "cell_type": "code",
   "execution_count": 14,
   "metadata": {},
   "outputs": [
    {
     "name": "stdout",
     "output_type": "stream",
     "text": [
      "KW+ASVCNDJM+BPM#PLJHLNVZLUPAXPR+HNLR+DIVHGPASPBNUHFOIHPZTYXNS+QA#VD+BPHGLE\n"
     ]
    }
   ],
   "source": [
    "# OK - there are 8 Ls there.  Let's look for the pattern of Ls in the ciphertext...\n",
    "import re\n",
    "\n",
    "if match := re.search(r\".............(.)..\\1.........\\1..\\1............\\1..\\1........\\1..............\\1....\", squished):\n",
    "    print(match.group(0))"
   ]
  },
  {
   "cell_type": "code",
   "execution_count": 15,
   "metadata": {},
   "outputs": [
    {
     "name": "stdout",
     "output_type": "stream",
     "text": [
      "TENTIALSTOPTHETRIPWIREOPTIONISALSODEPRECATEDSINCEITISMORELIKELYTHATTHEEXPL\n"
     ]
    }
   ],
   "source": [
    "# Put them next to each other...\n",
    "# JCUFGPIWYKMUVLMELZKHZWPRZ#LFSL+UHWZ+UYXPHQLFGLVW#HADXHLROBSWGUTFEPYUVLHQZN\n",
    "# KW+ASVCNDJM+BPM#PLJHLNVZLUPAXPR+HNLR+DIVHGPASPBNUHFOIHPZTYXNS+QA#VD+BPHGLE\n",
    "\n",
    "# There's a consistent mapping there, and all letters are present. So can we work out the key?\n",
    "# +ACEGIKMOQSUWY#BDFHJLNPRTVXZ (example key)\n",
    "# RFW#SCJMTGX+NDUYOAHKPEVZQBIL (substituted)\n",
    "# Try substituting...\n",
    "print(clock_decode(\"KW+ASVCNDJM+BPM#PLJHLNVZLUPAXPR+HNLR+DIVHGPASPBNUHFOIHPZTYXNS+QA#VD+BPHGLE\", \"RFW#SCJMTGX+NDUYOAHKPEVZQBIL\"))"
   ]
  },
  {
   "cell_type": "code",
   "execution_count": 16,
   "metadata": {},
   "outputs": [
    {
     "name": "stdout",
     "output_type": "stream",
     "text": [
      "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\n"
     ]
    }
   ],
   "source": [
    "# Looks good.  Try with the whole thing...\n",
    "key = \"RFW#SCJMTGX+NDUYOAHKPEVZQBIL\"\n",
    "plaintext = clock_decode(squished, key)\n",
    "print(plaintext)"
   ]
  },
  {
   "cell_type": "code",
   "execution_count": 17,
   "metadata": {},
   "outputs": [
    {
     "name": "stdout",
     "output_type": "stream",
     "text": [
      "Q: 761 (12.70%) F: 660 (11.01%) A: 479 (7.99%) M: 441 (7.36%) U: 422 (7.04%)\n",
      "E: 394 (6.57%) Z: 390 (6.51%) D: 356 (5.94%) T: 324 (5.41%) X: 235 (3.92%)\n",
      "O: 206 (3.44%) P: 206 (3.44%) G: 166 (2.77%) B: 159 (2.65%) Y: 127 (2.12%)\n",
      "S: 118 (1.97%) I: 115 (1.92%) R: 114 (1.90%) K: 111 (1.85%) N: 84 (1.40%)\n",
      "H: 68 (1.13%) W: 39 (0.65%) J:  6 (0.10%) C:  5 (0.08%) L:  4 (0.07%)\n",
      "V:  4 (0.07%) \n",
      "-----\n"
     ]
    }
   ],
   "source": [
    "# Hmmm.  Probably something to do with where I started.\n",
    "frequency_analysis(plaintext)"
   ]
  },
  {
   "cell_type": "code",
   "execution_count": 18,
   "metadata": {},
   "outputs": [
    {
     "name": "stdout",
     "output_type": "stream",
     "text": [
      "KARLOPERATIONCATHEDRALTOWERHASBEENAPPROVEDANDOURAGENTSAREARRANGINGTOPROVIDEYOUWITHTHETNTYOUREQUESTEDINYOURLASTMESSAGESTOPTHISWILLBESHIPPEDONADUTCHFISHINGVESSELWHICHWILLLANDATTHEMARSHESOFFOLDLEIGHATTWOAMONFRIDAYDECEMBERTENTHSTOPTHEYWILLSIGNALTHEIRARRIVALBYFLASHINGTHEIRNAVIGATIONLIGHTSINMORSECODETOSPELLOUTTHEWORDFLATANDYOUWILLREPLYTYRESTOPIFYOUBELIEVETHATYOUAREBEINGWATCHEDTHENABANDONTHERENDEZVOUSANDTRYAGAINATINTERVALSOFTWODAYSTHREEDAYSFIVEDAYSANDSEVENDAYSSTOPDONOTATTEMPTTOMAKECONTACTWITHTHEBOATORITSCREWINANYOTHERWAYSTOPTHEEXPLOSIVEISSTABLEBUTSHOULDBETREATEDWITHCARESTOPTHEFUSESARETHEMOSTRECENTPRODUCTOFOURRESEARCHANDTECHNOLOGYDIVISIONANDCARRYTRIPLETRIGGERSSTOPTHEYHAVEATIMERCIRCUITWHICHMAYBESETFORANYPERIODFROMTHREEMINUTESTOSEVENTEENHOURSSTOPTHEYCANALSOBETRIGGEREDBYATRIPWIREASSEMBLYORTHEFUSEMECHANISMCANBEREPLACEDWITHAHANDGRENADEMECHANISMSTOPSINCETHESECHARGESHAVEBEENSHAPEDFORDEMOLITIONUSEWEDONOTRECOMMENDUSINGTHESEDEVICESINCOMBATSINCEYOUHAVENOCERTAINTYTHATTHECHARGEWILLLANDINANORIENTATIONTHATWILLMAXIMISEITSDESTRUCTIVEPOTENTIALSTOPTHETRIPWIREOPTIONISALSODEPRECATEDSINCEITISMORELIKELYTHATTHEEXPLOSIVESWILLBEDISCOVEREDIFTHEYAREATTACHEDTOSUCHATRIGGERANDMOREOVERITWOULDBEDIFFICULTTOCOORDINATETHECHARGESUSINGSUCHADEVICESTOPTHECHARGESTHEMSELVESARESMALLBUTTHEGEOMETRYOFTHEPACKAGEWILLFOCUSTHEBLASTSOITISIMPERATIVETHATYOUINSTALLTHESECHARGESINACCORDANCEWITHTHEMANUFACTURERSINSTRUCTIONSSTOPINORDERTOMAXIMISETHEDAMAGETOTHETOWERSTHEENGINEERSRECOMMENDTHATYOUSETCHARGESONTHREEOFTHELEGSOFEACHTOWERWITHCHARGESTWOANDTHREESETTOEXPLODEINSEQUENCEAFTERCHARGEONESTOPSETANADDITIONALDELAYOFTHIRTYSECONDSFORCHARGETWOANDONEMINUTETWENTYFIVESECONDSFORCHARGETHREESTOPASTHEFIRSTLEGBUCKLESITWILLSTRESSTHEFRAMESOTHATTHESHOCKWAVEOFTHESECONDCHARGEWILLDISTORTTHESUPPORTINGMEMBERSSTOPWITHTHETHIRDEXPLOSIONTHEFRAMESHOULDBUCKLERESULTINGINTHETOTALDESTRUCTIONOFTHETOWERSBUTTHISSEQUENCEWILLMAKESITECLEARANCEANDRECONSTRUCTIONHARDERTOACCOMPLISHSTOPTHEDELAYWITHCHARGETHREEALSOINCREASESTHELIKELIHOODTHATSOLDIERSWILLHAVEARRIVEDONSITEINTIMETOBECAUGHTINTHETHIRDBLASTINCREASINGCONFUSIONANDLOSSOFMORALESTOPIFITISPOSSIBLETOCLIMBTHETOWERINADVANCEOFTHEDEMOLITIONTOGETMOREDETAILEDIMAGESOFTHEAERIALANDAMPLIFIERCIRCUITRYTHENTHISSHOULDBEATTEMPTEDHOWEVERIFTHEREISANYGUARDPRESENCETHENNORISKSSHOULDBETAKENINTHISREGARDSTOPWEMUSTLEAVEITTOYOUTODETERMINETHEMOSTEFFECTIVETARGETSFORTHEOPERATIONBUTTHEDEMOLITIONMUSTHAPPENSIMULTANEOUSLYATALLSITESFORTWOREASONSSTOPFIRSTINORDERTOPREVENTOURENEMYFROMDISRUPTINGTHEOPERATIONONCETHEYREALISEWHATISHAPPENINGSTOPSECONDWEMUSTLEAVENODOUBTTHATTHISWASANACTOFWARSTOPTHEREISARISKTHATTHEBRITISHGOVERNMENTMAYTRYTOREACHANACCOMMODATIONWITHTHEFUHRERDIVIDINGTHEWORLDBETWEENTHEIRDYINGEMPIREANDOURSJUSTASITISBORNSTOPTHEONLYWAYTOENSURETHATWECANTRULYSUPPLANTTHEMISTODRAWTHEMINTOAWARTHEYCANNOTWINANDTHISPROJECTWILLBETHEPROVOCATIONTHATENSURESTHATTHISWILLHAPPENSTOPTHEPLANNINGDIVISIONHASDETERMINEDTHATJANUARYFIRSTWILLBETHEOPTIMALNIGHTFORTHEATTACKASITCOINCIDESWITHANEWMOONSTOPTHEYSUGGESTTHATYOUSPLITINTOTWOTEAMSTOATTACKTHEEDMUNDSTCAISTORANDCANEWDONSITESOPENINGACORRIDORALONGTHETHAMESFOROURFORTHCOMINGAIRRAIDSSTOPTHESUPPORTTEAMSSHOULDSETUPLOOKOUTPOSTSATTHETARGETSINADVANCEOFTHEATTACKSOTHATYOUCANMONITORGUARDMOVEMENTSANDMAKEAFINALASSESSMENTOFTHESECURITYSTOPFOLLOWINGTHEOPERATIONTHESABOTAGETEAMSSHOULDRENDEZVOUSTOGETHERWITHTHESUPPORTTEAMSATTHEHOMEOFTHELOCALORTSGRUPPECHIEFINSOUTHMALDONSTOPAUBOATWILLSTANDBYTOPICKYOUALLUPATTHREEFORTYSEVENJANUARYSECONDWITHAFALLBACKRENDEZVOUSOFONETHIRTEENONTHETHIRTEENTHWHENTHESEARCHSHOULDHAVEDIEDDOWNSTOPYOUWILLNEEDTOGAINACCESSTOABOATCAPABLEOFCARRYINGYOUALLOUTTOMEETITSTOPTHEREAREVERYMANYFISHINGVESSELSINTHISNEIGHBOURHOODANDWERECOMMENDSTEALINGONEAFTERTHEOPERATIONSTOPITMIGHTFEELLESSSECURETHATOBTAININGONEINADVANCEHOWEVERWEMUSTDOEVERYTHINGWECANTOPREVENTSUSPICIONINADVANCEOFTHEOPERATIONSTOPIFTHISMISSIONSUCCEEDSTHENITWILLBEONLYAMATTEROFDAYSBEFORETHEWARBEGINSANDYOURTHREECOMRADESINLONDONWILLPLAYACRUCIALROLEINCOORDINATINGOURINTELLIGENCEEFFORTSBEHINDENEMYLINESSTOPWEHAVEBEENWATCHINGANDLISTENINGCAREFULLYFORSIGNSTHATTHEOPERATIONCOULDHAVEBEENCOMPROMISEDANDASARESULTOFTHOSEENQUIRIESWEHAVEDISCOVEREDANEWTOPSECRETAGENCYKNOWNONLYBYTHEACRONYMBOSSSTOPWEHAVEBEENUNABLETOINFILTRATETHISGROUPBUTITISKNOWNTHATTHELEADERISSOMEONEWITHTHEINITIALHANDTHATTHEYARETAKINGTHELEADONSIGNALSINTELLIGENCESTOPTHEHEADOFTHECOUNTERINTELLIGENCEBRANCHUSESTHECODENAMEPEARLANDWEWILLBEMAKINGEVERYEFFORTTODISCOVERHERIDENTITYSTOPWHILETHEDECLARATIONOFWARANDTHEDESTRUCTIONOFTHERDFSYSTEMARETHECENTRALGOALSOFTHISOPERATIONTHELONDONTRIANGLEWILLBEKEYTOENSURINGAFLOWOFHIGHQUALITYINTELLIGENCETOINFORMOURBATTLEPLANSSTOPWITHOUTTHEIRCOMMUNICATIONSWEWILLBEUNABLETOMONITORBRITISHPLANSPLACINGGERMANLIVESATUNNECESSARYRISKSTOPIFTHEREISANYCHANCETHATMEMBERSOFYOURGROUPCOULDBECAPTUREDANDINTERROGATEDTHENYOUSHOULDABANDONTHESABOTAGEOPERATIONANDRETURNTOTIRPITZUFERSTOPPROTECTINGTHEIDENTITYOFTHETRIANGLEISOFFARGREATERLONGTERMIMPORTANCETOUSSTOPWECANFINDOTHERWAYSTOPROVOKETHEWARBUTWEWOULDFINDITMOREDIFFICULTTOENSURETHATWECANWINITWITHOUTANETWORKOFAGENTSINTHECAPITALSTOPTHEMISSIONWILLBEREGARDEDASASUCCESSONLYIFWECANGUARANTEETHEIRSAFETYSTOPTOINCREASETHESECURITYOFTHELONDONTRIANGLEITISCRUCIALTHATTHECLOCKCIPHERDEVICEANDTHEASSOCIATEDCODEBOOKSREACHOURLONDONAGENTSSTOPTHEDEVICECANNOTBEALLOWEDTOFALLINTOENEMYHANDSANDTHISMUSTBETHETOPPRIORITYSTOPIFYOUARECAPTUREDTHENTHECODEBOOKCONTAININGTHEKEYSTOTHECIPHERMUSTBEDESTROYEDSTOPITISPRINTEDONSPECIALPAPERTHATSHOULDEASILYDISSOLVEBUTITCANALSOBEINGESTEDIFNECESSARYSTOPWHENUSINGTHEMACHINETAKECARETOERASETHECIPHERALPHABETAFTERUSEANDTODELETETHEKEYFROMTHECODEBOOKTOENSURETHATNOONEUSESTHESAMEKEYTWICESTOPTHISWILLALSOREDUCETHERISKOFTHEKEYEDCIPHERFALLINGINTOENEMYHANDSSTOPIFCAPTUREAPPEARSIMMINENTTHENUSEONEOFTHESHAPEDCHARGESTODESTROYTHEDEVICEPREFERABLYBURYINGITTOGETHERWITHTHECHARGETOINCREASETHEDESTRUCTIVEPOWERANDMAKEITHARDERTORECONSTRUCTSTOPEVERYONEINTHEMOVEMENTWILLBEPRAYINGFORYOURSUCCESSANDYOURCOURAGEANDCOMMITMENTTOTHEFATHERLANDWILLBEPRAISEDFOREVERSTOPYOUAREANINSPIRATIONTOUSALLSTOPWISHINGYOULUCKINTHEFINALPHASEOFTHEOPERATIONSTOPYOURSUNCLEWILHELM\n",
      "Key is NDUYOAHKPEVZQBILRFW#SCJMTGX+\n"
     ]
    }
   ],
   "source": [
    "# Looks like English.  The + and # have gone.\n",
    "# Try shifting the key?\n",
    "key2 = key\n",
    "for n in range(len(key)):\n",
    "    text = clock_decode(squished, key2)\n",
    "    if \"STOP\" in text:\n",
    "        print(text)\n",
    "        print(f\"Key is {key2}\")\n",
    "        break\n",
    "    else:\n",
    "        key2 = key2[1:] + key2[0]"
   ]
  },
  {
   "cell_type": "markdown",
   "metadata": {},
   "source": [
    "### Edited for clarity\n",
    "\n",
    "Karl,\n",
    "Operation Cathedral Tower has been approved and our agents are arranging to provide you with the TNT you requested in your last message stop <br/>\n",
    "This will be shipped on a Dutch fishing vessel which will land at the marshes of Foldleigh at two AM on Friday December tenth stop<br/>\n",
    "They will signal their arrival by flashing their navigation lights in morse code to spell out the word \"flat\" and you will reply \"tyre\" stop<br/>\n",
    "If you believe that you are being watched, then abandon the rendezvous and try again at intervals of two days, three days, five days and seven days stop<br/>\n",
    "Do not attempt to make contact with the boat or its crew in any other way stop<br/>\n",
    "The explosive is stable, but should be treated with care stop<br/>\n",
    "The fuses are the most recent product of our research and technology division and carry triple triggers stop<br/>\n",
    "They have a timer circuit which may be set for any period from three minutes to seventeen hours stop<br/>\n",
    "They can also be triggered by a tripwire assembly or the fuse mechanism can be replaced with a hand grenade mechanism stop<br/>\n",
    "Since these charges have been shaped for demolition use, we do not recommend using these devices in combat, since you have no certainty that the charge will land in an orientation that will maximise its destructive potential stop<br/>\n",
    "The tripwire option is also deprecated, since it is more likely that the explosives will be discovered if they are attached to such a trigger and moreover it would be difficult to coordinate the charges using such a device stop<br/>\n",
    "The charges themselves are small, but the geometry of the package will focus the blast, so it is imperative that you install these charges in accordance with the manufacturer's instructions stop<br/>\n",
    "In order to maximise the damage to the towers, the engineers recommend that you set charges on three of the legs of each tower with charges two and three set to explode in sequence after charge one stop<br/>\n",
    "Set an additional delay of thirty seconds for charge two and one minute twenty five seconds for charge three stop<br/>\n",
    "As the first leg buckles, it will stress the frame so that the shockwave of the second charge will distort the supporting members stop<br/>\n",
    "With the third explosion, the frame should buckle, resulting in the total destruction of the towers, but this sequence will make site clearance and reconstruction harder to accomplish stop<br/>\n",
    "The delay with charge three also increases the likelihood that soldiers will have arrived on site in time to be caught in the third blast, increasing confusion and loss of morale stop<br/>\n",
    "If it is possible to climb the tower in advance of the demolition to get more detailed images of the aerial and amplifier circuitry, then this should be attempted, however if there is any guard presence, then no risks should be taken in this regard stop<br/>\n",
    "We must leave it to you to determine the most effective targets for the operation, but the demolition must happen simultaneously at all sites for two reasons stop<br/>\n",
    "First, in order to prevent our enemy from disrupting the operation once they realise what is happening stop<br/>\n",
    "Second, we must leave no doubt that this was an act of war stop\n",
    "<br/>\n",
    "There is a risk that the British government may try to reach an accommodation with the Fuhrer dividing the world between their dying empire and ours just as it is born stop<br/>\n",
    "The only way to ensure that we can truly supplant them is to draw them into a war they cannot win and this project will be the provocation that ensures that this will happen stop<br/>\n",
    "The planning division has determined that January first will be the optimal night for the attack as it coincides with a new moon stop<br/>\n",
    "They suggest that you split in to two teams to attack the Edmund St. Caistor and Canewdon sites, opening a corridor along the Thames for our forthcoming air raids stop<br/>\n",
    "The support teams should set up lookout posts at the targets in advance of the attack, so that you can monitor guard movements and make a final assessment of the security stop<br/>\n",
    "Following the operation, the sabotage teams should rendezvous together with the support teams at the home of the local Ortsgruppe chief in South Maldon stop<br/>\n",
    "Auboat will stand by to pick you all up at three forty seven January second with a fallback rendezvous of one thirteen on the thirteenth, when the search should have died down stop<br/>\n",
    "You will need to gain access to a boat capable of carrying you all out to meet it stop<br/>\n",
    "There are very many fishing vessels in this neighbourhood and we recommend stealing one after the operation stop<br/>\n",
    "It might feel less secure that obtaining one in advance, however we must do everything we can to prevent suspicion in advance of the operation stop<br/>\n",
    "If this mission succeeds, then it will be only a matter of days before the war begins and your three comrades in London will play a crucial role in coordinating our intelligence efforts behind enemy lines stop<br/>\n",
    "We have been watching and listening carefully for signs that the operation could have been compromised and as a result of those enquiries, we have discovered a new top-secret agency known only by the acronym BOSS stop<br/>\n",
    "We have been unable to infiltrate this group, but it is known that the leader is someone with the initial hand that they are taking the lead on signals intelligence stop<br/>\n",
    "The head of the counter-intelligence branch uses the codename \"Pearl\" and we will be making every effort to discover her identity stop<br/>\n",
    "While the declaration of war and the destruction of the RDF system are the central goals of this operation, the London triangle will be key to ensuring a flow of high quality intelligence to inform our battle plans stop<br/>\n",
    "Without their communications, we will be unable to monitor British plans, placing German lives at unnecessary risk stop<br/>\n",
    "If there is any chance that members of your group could be captured and interrogated, then you should abandon the sabotage operation and return to Tirpitzufer stop<br/>\n",
    "Protecting the identity of the triangle is of far greater long-term importance to us stop<br/>\n",
    "We can find other ways to provoke the war, but we would find it more difficult to ensure that we can win it without a network of agents in the capital stop<br/>\n",
    "The mission will be regarded as a success only if we can guarantee their safety stop<br/>\n",
    "To increase the security of the London triangle, it is crucial that the clock cipher device and the associated codebooks reach our London agents stop<br/>\n",
    "The device cannot be allowed to fall into enemy hands and this must be the top priority stop<br/>\n",
    "If you are captured, then the codebook containing the keys to the cipher must be destroyed stop<br/>\n",
    "It is printed on special paper that should easily dissolve, but it can also be ingested if necessary stop<br/>\n",
    "When using the machine, take care to erase the cipher alphabet after use and to delete the key from the codebook to ensure that no-one uses the same key twice stop<br/>\n",
    "This will also reduce the risk of the keyed cipher falling into enemy hands stop<br/>\n",
    "If capture appears imminent, then use one of the shaped charges to destroy the device, preferably burying it together with the charge to increase the destructive power and make it harder to reconstruct stop<br/>\n",
    "Everyone in the movement will be praying for your success and your courage and commitment to the Fatherland will be praised forever stop<br/>\n",
    "You are an inspiration to us all stop<br/>\n",
    "Wishing you luck in the final phase of the operation stop<br/>\n",
    "Yours,<br/>\n",
    "Uncle Wilhelm"
   ]
  },
  {
   "cell_type": "code",
   "execution_count": 20,
   "metadata": {},
   "outputs": [
    {
     "data": {
      "text/plain": [
       "'KXRTESPAJMXJPYRBTU+IEMEOFUHRTHXWIOK#QWAUYTGDLVTPORBDT+GXKMQUNWA#XBNZJ#GO#FOXLFTZEYREUKCJOJIHX+SCQMUFLUTBILDSZEMWGRYDQGXZMWIN#QPJKMQEUBIYRUGPVQESXMUCPB#UL#TKIPGJXJMLHYDLVFPMCOFWZFVLJZTVARWSFNHYVDRC+VM+OLJRAYQWB'"
      ]
     },
     "execution_count": 20,
     "metadata": {},
     "output_type": "execute_result"
    }
   ],
   "source": [
    "clock_encode(\"HASANYONEFIGUREDOUTIFTHEREISAKEYWORDYETSTOPTHESECONDADDENDUMMETHODSDONTAPPEARTAPPLYTOTHISKEYSTOPITAPPEARSTHATTHELETTERSFROMATOMANDUTOZARESPACEDOUTATINTERVALSOFEIGHBUTTHELETTERSNTOTARESPACEDOUTATINTERVALSOFFOUR\", \"NDUYOAHKPEVZQBILRFW#SCJMTGX+\")"
   ]
  },
  {
   "cell_type": "code",
   "execution_count": 21,
   "metadata": {},
   "outputs": [
    {
     "data": {
      "text/plain": [
       "'HASANYONEFIGUREDOUTIFTHEREISAKEYWORDYETSTOPTHESECONDADDENDUMMETHODSDONTAPPEARTAPPLYTOTHISKEYSTOPITAPPEARSTHATTHELETTERSFROMATOMANDUTOZARESPACEDOUTATINTERVALSOFEIGHBUTTHELETTERSNTOTARESPACEDOUTATINTERVALSOFFOUR'"
      ]
     },
     "execution_count": 21,
     "metadata": {},
     "output_type": "execute_result"
    }
   ],
   "source": [
    "clock_decode(\"KXRTESPAJMXJPYRBTU+IEMEOFUHRTHXWIOK#QWAUYTGDLVTPORBDT+GXKMQUNWA#XBNZJ#GO#FOXLFTZEYREUKCJOJIHX+SCQMUFLUTBILDSZEMWGRYDQGXZMWIN#QPJKMQEUBIYRUGPVQESXMUCPB#UL#TKIPGJXJMLHYDLVFPMCOFWZFVLJZTVARWSFNHYVDRC+VM+OLJRAYQWB\", \"NDUYOAHKPEVZQBILRFW#SCJMTGX+\")"
   ]
  },
  {
   "cell_type": "code",
   "execution_count": null,
   "metadata": {},
   "outputs": [],
   "source": []
  }
 ],
 "metadata": {
  "kernelspec": {
   "display_name": "Python 3",
   "language": "python",
   "name": "python3"
  },
  "language_info": {
   "codemirror_mode": {
    "name": "ipython",
    "version": 3
   },
   "file_extension": ".py",
   "mimetype": "text/x-python",
   "name": "python",
   "nbconvert_exporter": "python",
   "pygments_lexer": "ipython3",
   "version": "3.9.0"
  }
 },
 "nbformat": 4,
 "nbformat_minor": 4
}
