{
 "cells": [
  {
   "cell_type": "markdown",
   "metadata": {},
   "source": [
    "# Cipher Challenge 2020\n",
    "### Practice Challenge 2\n",
    "\n",
    "Challenge link https://www.cipherchallenge.org/challenge/practice-challenge-2/"
   ]
  },
  {
   "cell_type": "code",
   "execution_count": 1,
   "metadata": {},
   "outputs": [],
   "source": [
    "# Part A - \"Instructions\"\n",
    "part_a_text = \"\"\"Hni piwvyjh qb hni bgvoh egoogqx gxhivwijh nko vkgoip k xaediv qb caiohgqxo kdqah hni ojywlgoh qjivkhgqx, gb hnkh go mnkh gh go, dah gh nko kloq hvguuivip ixcagvgio kdqah hni jivoqxxil vibivixwip gx hnkh eiookui. Qav wqaxhivgxhillguixwi axgh nkti kosip ei hq hkos yqa mghn ixcagvgio kdqah hni xkeio eixhgqxip hnivi, gx jkvhgwalkv: Zioogwk; Mglnile; Xgsqlkao; Hgvjghrabiv. Gh go jqoogdli hnkh hnioi kvi joiapqxyeo qv wqpi xkeio, dah hniy pq xqh kjjikv gx qav viwqvpo kxp WG dvkxwn mqalp di tivy gxhiviohip gx kxyhngxu yqa wkx bgxp qah kdqah hnie gx vilkhgqx hq Xkrg ojy qjivkhgqxo. G bqllqmip aj qx hni OGO vijqvh hnkh Nghliv Yqahn uvqajo hvktillgxu kdvqkp mivi kosip hq wqejlihi k pihkglip caiohgqxxkgvi, wniwsgxu gb Nkvvy nkp lgxso hnkh wqalp nilj mghn hngo, kxp ni oixh ei hni khhkwnip eiookui hnkh mko jnqhquvkjnip dy k DQOO axpivwqtiv qjivkhgti gx Divlgx. Ni hqlp ei hnkh gh nkp diix ifbglhvkhip bvqe Kdminv nikpcakvhivo kxp kjjikvo hq di k vicaioh bqv kjjvqtkl bqv k xim egoogqx, hnqaun xighniv N xqv G nkti nkp hgei hq dviks gh, oq G lqqs bqvmkvp hq viwigtgxu yqav piwvyjho. Mi dilgiti hni eiookui nko diix ixwgjnivip aogxu k siymqvp oadohghahgqx wgjniv kxp ugtix hnkh mi kvi xqh oavi nqm oivgqao hni ojywlgoh hnvikh egunh di mi mqalp di uvkhibal gb yqa wqalp piwgjniv gh cagwsly. Hni eiookui mko kloq k viegxpiv hq ei hnkh qav qmx oiwavghy go kx gejqvhkxh wqxogpivkhgqx, oq G mgll kloq omghwn hq k siymqvp oadohghahgqx wgjniv bqv hni xifh Egoogqx Dvgibgxu. Jikvl.\"\"\""
   ]
  },
  {
   "cell_type": "code",
   "execution_count": 2,
   "metadata": {},
   "outputs": [],
   "source": [
    "# Bring in the basic decoder function\n",
    "import string\n",
    "\n",
    "# A simple translation method.\n",
    "# text: The text to translate, in upper case\n",
    "# key: A substitution alphabet, usually in lower case so that the translated characters show up\n",
    "def decode(text, key):\n",
    "    table = str.maketrans(string.ascii_uppercase, key)\n",
    "    print(text.upper().translate(table))"
   ]
  },
  {
   "cell_type": "code",
   "execution_count": 7,
   "metadata": {},
   "outputs": [
    {
     "name": "stdout",
     "output_type": "stream",
     "text": [
      "the PeWVYJt oB the BGVst EGssGoX GXteVWeJt has VaGseP a XAEbeV oB CAestGoXs aboAt the sJYWLGst oJeVatGoX, GB that Gs Mhat Gt Gs, bAt Gt has aLso tVGUUeVeP eXCAGVGes aboAt the JeVsoXXeL VeBeVeXWeP GX that EessaUe. oAV WoAXteVGXteLLGUeXWe AXGt haTe asSeP Ee to tasS YoA MGth eXCAGVGes aboAt the XaEes EeXtGoXeP theVe, GX JaVtGWALaV: ZessGWa; MGLheLE; XGSoLaAs; tGVJGtRABeV. Gt Gs JossGbLe that these aVe JseAPoXYEs oV WoPe XaEes, bAt theY Po Xot aJJeaV GX oAV VeWoVPs aXP WG bVaXWh MoALP be TeVY GXteVesteP GX aXYthGXU YoA WaX BGXP oAt aboAt theE GX VeLatGoX to XaRG sJY oJeVatGoXs. G BoLLoMeP AJ oX the sGs VeJoVt that hGtLeV YoAth UVoAJs tVaTeLLGXU abVoaP MeVe asSeP to WoEJLete a PetaGLeP CAestGoXXaGVe, WheWSGXU GB haVVY haP LGXSs that WoALP heLJ MGth thGs, aXP he seXt Ee the attaWheP EessaUe that Mas JhotoUVaJheP bY a boss AXPeVWoTeV oJeVatGTe GX beVLGX. he toLP Ee that Gt haP beeX eFBGLtVateP BVoE abMehV heaPCAaVteVs aXP aJJeaVs to be a VeCAest BoV aJJVoTaL BoV a XeM EGssGoX, thoAUh XeGtheV h XoV G haTe haP tGEe to bVeaS Gt, so G LooS BoVMaVP to VeWeGTGXU YoAV PeWVYJts. Me beLGeTe the EessaUe has beeX eXWGJheVeP AsGXU a SeYMoVP sAbstGtAtGoX WGJheV aXP UGTeX that Me aVe Xot sAVe hoM seVGoAs the sJYWLGst thVeat EGUht be Me MoALP be UVateBAL GB YoA WoALP PeWGJheV Gt CAGWSLY. the EessaUe Mas aLso a VeEGXPeV to Ee that oAV oMX seWAVGtY Gs aX GEJoVtaXt WoXsGPeVatGoX, so G MGLL aLso sMGtWh to a SeYMoVP sAbstGtAtGoX WGJheV BoV the XeFt EGssGoX bVGeBGXU. JeaVL.\n"
     ]
    }
   ],
   "source": [
    "# hni must be \"the\", K is  probably \"a\", DQOO is probably \"BOSS\"...\n",
    "decode(part_a_text.upper(), \"ABCbEFGteJaLMhsPoRSTUVWXYZ\")"
   ]
  },
  {
   "cell_type": "code",
   "execution_count": 8,
   "metadata": {},
   "outputs": [
    {
     "name": "stdout",
     "output_type": "stream",
     "text": [
      "the decrypt of the first mission intercept has raised a number of questions about the spyclist operation, if that is what it is, but it has also triggered enquiries about the personnel referenced in that message. our counterintelligence unit have asked me to task you with enquiries about the names mentioned there, in particular: jessica; wilhelm; nikolaus; tirpitzufer. it is possible that these are pseudonyms or code names, but they do not appear in our records and ci branch would be very interested in anything you can find out about them in relation to nazi spy operations. i followed up on the sis report that hitler youth groups travelling abroad were asked to complete a detailed questionnaire, checking if harry had links that could help with this, and he sent me the attached message that was photographed by a boss undercover operative in berlin. he told me that it had been exfiltrated from abwehr headquarters and appears to be a request for approval for a new mission, though neither h nor i have had time to break it, so i look forward to receiving your decrypts. we believe the message has been enciphered using a keyword substitution cipher and given that we are not sure how serious the spyclist threat might be we would be grateful if you could decipher it quickly. the message was also a reminder to me that our own security is an important consideration, so i will also switch to a keyword substitution cipher for the next mission briefing. pearl.\n"
     ]
    }
   ],
   "source": [
    "# Looks like a shift of 19...\n",
    "decode(part_a_text.upper(), \"ufqbmxitepalwhsdozkvgrcnyj\")"
   ]
  },
  {
   "cell_type": "code",
   "execution_count": 9,
   "metadata": {},
   "outputs": [
    {
     "name": "stdout",
     "output_type": "stream",
     "text": [
      "The decrypt of the first mission intercept has raised a number of questions about the spyclist operation, if that is what it is, but it has also triggered enquiries about the personnel referenced in that message. Our counterintelligence unit have asked me to task you with enquiries about the names mentioned there, in particular: Jessica; Wilhelm; Nikolaus; Tirpitzufer. It is possible that these are pseudonyms or code names, but they do not appear in our records and CI branch would be very interested in anything you can find out about them in relation to Nazi spy operations. I followed up on the SIS report that Hitler Youth groups travelling abroad were asked to complete a detailed questionnaire, checking if Harry had links that could help with this, and he sent me the attached message that was photographed by a BOSS undercover operative in Berlin. He told me that it had been exfiltrated from Abwehr headquarters and appears to be a request for approval for a new mission, though neither H nor I have had time to break it, so I look forward to receiving your decrypts. We believe the message has been enciphered using a keyword substitution cipher and given that we are not sure how serious the spyclist threat might be we would be grateful if you could decipher it quickly. The message was also a reminder to me that our own security is an important consideration, so I will also switch to a keyword substitution cipher for the next Mission Briefing. Pearl.\n"
     ]
    }
   ],
   "source": [
    "# Alternative version of the simple translation method, but this time preserving the case\n",
    "def decode2(text, key):\n",
    "    table = str.maketrans(string.ascii_letters, key.lower()+key.upper())\n",
    "    print(text.translate(table))\n",
    "\n",
    "decode2(part_a_text, \"ufqbmxitepalwhsdozkvgrcnyj\")"
   ]
  },
  {
   "cell_type": "code",
   "execution_count": 10,
   "metadata": {},
   "outputs": [],
   "source": [
    "# Part B - \"Not an enigma\"\n",
    "part_b_text = \"\"\"AKKHCKUDC N DLI ZUJJUDC KD HZBHE JPZFAKTUJHIJ UC KTH LX HJKABYUJTZHCK UJ SDUCS NHYY AYKTDLST KTH IHWHCK UCWIHAJH UC EUFYDZAKUW KHCJUDC TAJ JUSCURUWACKYP UCWIHAJHE KTH IUJX RDI DLI ASHCKJ UC WDZZLCUWAKUCS NUKT KTHUI TACEYHIJ. NUKT KHYHSIAZ KIARRUW LCEHI HCTACWHE JLFHIMUJUDC BP KTH LX UCKHYYUSHCWH DISACUJAKUDCJ UK UJ AYJD UCWIHAJUCSYP EURRUWLYK RDI KTH ASHCKJ ACE KTHUI TACEYHIJ KD IHFAKIUAKH UCKHYYUSHCWH IHFDIKJ DR ACP JUSCURUWACWH. KTH LJH DR BACXUCS WUFTHIJ UJ CD YDCSHI IHSAIEHE AJ JHWLIH ACE EHJFUKH UKJ DBMUDLJ AEMACKASHJ, KTH HCUSZA UJ KDD MAYLABYH KD LJ KD AYYDN UKJ LJH BHTUCE HCHZP YUCHJ. RDI CDN, NH AIH HCWDLIASUCS DLI ASHCKJ KD LJH A ZUO DR XHPNDIE ACE KIACJFDJUKUDC WUFTHIJ AJ KALSTK UC KTHUI BAJUW KIAUCUCS, JUCWH KTHJH AIH IHYUABYH ACE ED CDK IHGLUIH KTH ASHCKJ KD BH UC FDJJHJJUDC DR ZDIH KTAC A JHIUHJ DR XHP NDIEJ ACE FTIAJHJ, NTUWT KTHP AIH NHYY ABYH KD ZHZDIUJH. AJ KTH GLACKUKP DR JUSCAYJ KIARRUW UCWIHAJHJ NH NUYY CHHE KD IHWDCJUEHI DLI FIDKDWDYJ, BLK RDI CDN U KTUCX DLI RDWLJ JTDLYE BH DC EHMHYDFUCS JHWLIH WDZZLCUWAKUDC WTACCHYJ, NUKT WLK-DLKJ KD UJDYAKH DLI ZDIH MAYLABYH AJJHKJ. U EUJWLJJHE KTUJ UJJLH NUKT ZP WDLCKHIFAIK UC EHFAIKZHCK UT NTD UJ A XHHC WPWYUJK ACE TH ZAEH A IAKTHI UCSHCUDLJ JLSSHJKUDC KTAK NH ZUSTK ZAXH SDDE LJH DR KTH TUKYHI PDLKT. A CLZBHI DR FAIKUHJ TAMH BHHC UCMUKHE KD MUJUK KTH LX DC WPWYUCS KDLIJ ACE TH TAE BHHC WDCJUEHIUCS AJXUCS KTHZ KD IHWDIE UCRDIZAKUDC ABDLK KTH YAPDLK DR ZUYUKAIP ACE UCELJKIUAY YACEZAIXJ AJ FAIK DR TUJ UCKHYYUSHCWH SAKTHIUCS DFHIAKUDC. UK UJ TUSTYP YUXHYP KTAK ACP NAI NUYY UCMDYMH A FIDKIAWKHE BDZBUCS WAZFAUSC ACE LF KD EAKH ZAFJ NUYY BH DR SIHAK MAYLH UC DLI FYACCUCS. RLIKTHIZDIH, KTH WDLCKIPJUEH IDAE YAPDLKJ UC KTH LX AIH CDKDIUDLJ RDI KTHUI UCHRRUWUHCWP ACE ACP UCMAJUDC, NDLYE BH JHMHIHYP TAZFHIHE BP DLI YAWX DR XCDNYHESH DR KIACJFDIK CHKNDIXJ. TH TAE EIARKHE AC AFFAIHCKYP IAKTHI UCCDWLDLJ AIKUWYH RDI KTH CAQU WPWYUJK AJJDWUAKUDC ZASAQUCH NUKT A YUJK DR KTUCSJ KTAK DLI PDLCS WPWYUJKJ ZUSTK RUCE UCKHIHJKUCS: UZFIHJJ DC PDLI ZHZDIP KTH IDAEJ ACE FAKTJ, MUYYASHJ ACE KDNCJ, DLKJKACEUCS WTLIWT KDNHIJ ACE DKTHI YACEZAIXJ JD KTAK PDL NUYY CDK RDISHK KTHZ. ZAXH A CDKH DR KTH CAZHJ, FYAWHJ, IUMHIJ, JHAJ ACE ZDLCKAUCJ. FHITAFJ PDL ZAP BH ABYH KD LKUYUJH KTHJH JDZH KUZH RDI KTH BHCHRUK DR KTH RAKTHIYACE. JTDLYE PDL WDZH KD A BIUESH NTUWT UCKHIHJKJ PDL, HOAZUCH UKJ WDCJKILWKUDC ACE KTH ZAKHIUAYJ LJHE. YHAIC KD ZHAJLIH ACE HJKUZAKH KTH NUEKT DR JKIHAZJ. NAEH KTIDLST RDIEJ JD KTAK PDL NUYY BH ABYH KD RUCE KTHZ UC KTH EAIX. U FIDFDJH KTAK NH WDCJUEHI LJUCS KTHJH AJJHKJ AJ KTH WLK-DLKJ BHKNHHC DLI LCEHIWDMHI ASHCKJ ACE KTHUI TACEYHIJ UC KTH LX ACE DLI WDZZLCUWAKUDCJ CHKNDIX. KTHP AIH IHYAKUMHYP RIHH KD ZDMH AIDLCE KTH WDLCKIP ACE WAC HAJUYP BH KIAUCHE KD LJH EIDF-DRRJ ACE DKTHI JFPWIARK KD AYYDN KTHZ KD WDYYHWK UCKHYYUSHCWH IHFDIKJ ACE FAJJ KTHZ DC. KTH ZAIMHYYDLJ FDJKH IHJKACKH JPJKHZ AYYDNJ LJ KD WDZZLCUWAKH NUKT KTHZ, ACE A JLUKABYH WDEHBDDX NDLYE AYYDN LJ KD KIACJZUK UCJKILWKUDCJ UC FYAUC KHOK NUKT CD IUJX KTAK KTH ZHACUCS WDLYE BH EUJWHICHE BP WDLCKHIUCKHYYUSHCWH DFHIAKUMHJ UC KTH FDJKAY JHIMUWH. U TAMH ACDKTHI KTDLSTK ABDLK TDN NH ZUSTK HOFYDUK KTUJ CHKNDIX RLIKTHI, TDNHMHI U CHHE KD NDIX KTIDLST JDZH ZDIH EHKAUYJ BHRDIH U EUJWLJJ UK NUKT PDL, ACE U NACKHE KD WTHWX KTAK PDL AIH TAFFP RDI ZH KD AYYDWAKH IHJDLIWHJ KD KIAUC A CLZBHI DR TUKYHI PDLKT UC KTH IHGLUIHE JXUYYJ RDI KTUJ DFHIAKUDC. CI.\"\"\""
   ]
  },
  {
   "cell_type": "code",
   "execution_count": 11,
   "metadata": {},
   "outputs": [],
   "source": [
    "from collections import Counter\n",
    "\n",
    "# Takes a string or list of items and counts the frequencies of those items\n",
    "# data: The list or string to analyse\n",
    "# max_values: The maximum number of values to display (set to None for no limit)\n",
    "# no_columns: The amount of columns to use in the output\n",
    "def frequency_analysis(data, max_values=30, no_columns=5):\n",
    "    frequencies = Counter()\n",
    "    for item in data:\n",
    "        frequencies[item] += 1\n",
    "    \n",
    "    total = sum(frequencies.values())\n",
    "    column = 1\n",
    "    for item, frequency in frequencies.most_common(max_values):\n",
    "        print(f\"{item}: {frequency:2} ({frequency / total:.2%})\", end=\" \" if column % no_columns else \"\\n\")\n",
    "        column += 1\n",
    "    print(\"\\n-----\")"
   ]
  },
  {
   "cell_type": "code",
   "execution_count": 12,
   "metadata": {},
   "outputs": [
    {
     "name": "stdout",
     "output_type": "stream",
     "text": [
      "H: 319 (11.28%) K: 267 (9.44%) U: 224 (7.92%) D: 224 (7.92%) A: 215 (7.61%)\n",
      "C: 211 (7.46%) J: 196 (6.93%) I: 179 (6.33%) T: 132 (4.67%) Y: 111 (3.93%)\n",
      "L: 105 (3.71%) E: 93 (3.29%) W: 86 (3.04%) Z: 69 (2.44%) S: 61 (2.16%)\n",
      "R: 53 (1.87%) N: 48 (1.70%) P: 48 (1.70%) F: 46 (1.63%) B: 38 (1.34%)\n",
      "X: 28 (0.99%) M: 24 (0.85%) .: 20 (0.71%) ,: 17 (0.60%) O:  4 (0.14%)\n",
      "G:  3 (0.11%) -:  3 (0.11%) Q:  2 (0.07%) ::  1 (0.04%) \n",
      "-----\n"
     ]
    }
   ],
   "source": [
    "frequency_analysis(part_b_text.replace(\" \", \"\"))"
   ]
  },
  {
   "cell_type": "code",
   "execution_count": 13,
   "metadata": {},
   "outputs": [
    {
     "name": "stdout",
     "output_type": "stream",
     "text": [
      "AtteCtUDC N DLI ZUJJUDC tD eZBeE JPZFAthUJeIJ UC the LX eJtABYUJhZeCt UJ SDUCS NeYY AYthDLSh the IeWeCt UCWIeAJe UC EUFYDZAtUW teCJUDC hAJ JUSCURUWACtYP UCWIeAJeE the IUJX RDI DLI ASeCtJ UC WDZZLCUWAtUCS NUth theUI hACEYeIJ. NUth teYeSIAZ tIARRUW LCEeI eChACWeE JLFeIMUJUDC BP the LX UCteYYUSeCWe DISACUJAtUDCJ Ut UJ AYJD UCWIeAJUCSYP EURRUWLYt RDI the ASeCtJ ACE theUI hACEYeIJ tD IeFAtIUAte UCteYYUSeCWe IeFDItJ DR ACP JUSCURUWACWe. the LJe DR BACXUCS WUFheIJ UJ CD YDCSeI IeSAIEeE AJ JeWLIe ACE EeJFUte UtJ DBMUDLJ AEMACtASeJ, the eCUSZA UJ tDD MAYLABYe tD LJ tD AYYDN UtJ LJe BehUCE eCeZP YUCeJ. RDI CDN, Ne AIe eCWDLIASUCS DLI ASeCtJ tD LJe A ZUO DR XePNDIE ACE tIACJFDJUtUDC WUFheIJ AJ tALSht UC theUI BAJUW tIAUCUCS, JUCWe theJe AIe IeYUABYe ACE ED CDt IeGLUIe the ASeCtJ tD Be UC FDJJeJJUDC DR ZDIe thAC A JeIUeJ DR XeP NDIEJ ACE FhIAJeJ, NhUWh theP AIe NeYY ABYe tD ZeZDIUJe. AJ the GLACtUtP DR JUSCAYJ tIARRUW UCWIeAJeJ Ne NUYY CeeE tD IeWDCJUEeI DLI FIDtDWDYJ, BLt RDI CDN U thUCX DLI RDWLJ JhDLYE Be DC EeMeYDFUCS JeWLIe WDZZLCUWAtUDC WhACCeYJ, NUth WLt-DLtJ tD UJDYAte DLI ZDIe MAYLABYe AJJetJ. U EUJWLJJeE thUJ UJJLe NUth ZP WDLCteIFAIt UC EeFAItZeCt Uh NhD UJ A XeeC WPWYUJt ACE he ZAEe A IAtheI UCSeCUDLJ JLSSeJtUDC thAt Ne ZUSht ZAXe SDDE LJe DR the hUtYeI PDLth. A CLZBeI DR FAItUeJ hAMe BeeC UCMUteE tD MUJUt the LX DC WPWYUCS tDLIJ ACE he hAE BeeC WDCJUEeIUCS AJXUCS theZ tD IeWDIE UCRDIZAtUDC ABDLt the YAPDLt DR ZUYUtAIP ACE UCELJtIUAY YACEZAIXJ AJ FAIt DR hUJ UCteYYUSeCWe SAtheIUCS DFeIAtUDC. Ut UJ hUShYP YUXeYP thAt ACP NAI NUYY UCMDYMe A FIDtIAWteE BDZBUCS WAZFAUSC ACE LF tD EAte ZAFJ NUYY Be DR SIeAt MAYLe UC DLI FYACCUCS. RLItheIZDIe, the WDLCtIPJUEe IDAE YAPDLtJ UC the LX AIe CDtDIUDLJ RDI theUI UCeRRUWUeCWP ACE ACP UCMAJUDC, NDLYE Be JeMeIeYP hAZFeIeE BP DLI YAWX DR XCDNYeESe DR tIACJFDIt CetNDIXJ. he hAE EIARteE AC AFFAIeCtYP IAtheI UCCDWLDLJ AItUWYe RDI the CAQU WPWYUJt AJJDWUAtUDC ZASAQUCe NUth A YUJt DR thUCSJ thAt DLI PDLCS WPWYUJtJ ZUSht RUCE UCteIeJtUCS: UZFIeJJ DC PDLI ZeZDIP the IDAEJ ACE FAthJ, MUYYASeJ ACE tDNCJ, DLtJtACEUCS WhLIWh tDNeIJ ACE DtheI YACEZAIXJ JD thAt PDL NUYY CDt RDISet theZ. ZAXe A CDte DR the CAZeJ, FYAWeJ, IUMeIJ, JeAJ ACE ZDLCtAUCJ. FeIhAFJ PDL ZAP Be ABYe tD LtUYUJe theJe JDZe tUZe RDI the BeCeRUt DR the RAtheIYACE. JhDLYE PDL WDZe tD A BIUESe NhUWh UCteIeJtJ PDL, eOAZUCe UtJ WDCJtILWtUDC ACE the ZAteIUAYJ LJeE. YeAIC tD ZeAJLIe ACE eJtUZAte the NUEth DR JtIeAZJ. NAEe thIDLSh RDIEJ JD thAt PDL NUYY Be ABYe tD RUCE theZ UC the EAIX. U FIDFDJe thAt Ne WDCJUEeI LJUCS theJe AJJetJ AJ the WLt-DLtJ BetNeeC DLI LCEeIWDMeI ASeCtJ ACE theUI hACEYeIJ UC the LX ACE DLI WDZZLCUWAtUDCJ CetNDIX. theP AIe IeYAtUMeYP RIee tD ZDMe AIDLCE the WDLCtIP ACE WAC eAJUYP Be tIAUCeE tD LJe EIDF-DRRJ ACE DtheI JFPWIARt tD AYYDN theZ tD WDYYeWt UCteYYUSeCWe IeFDItJ ACE FAJJ theZ DC. the ZAIMeYYDLJ FDJte IeJtACte JPJteZ AYYDNJ LJ tD WDZZLCUWAte NUth theZ, ACE A JLUtABYe WDEeBDDX NDLYE AYYDN LJ tD tIACJZUt UCJtILWtUDCJ UC FYAUC teOt NUth CD IUJX thAt the ZeACUCS WDLYE Be EUJWeICeE BP WDLCteIUCteYYUSeCWe DFeIAtUMeJ UC the FDJtAY JeIMUWe. U hAMe ACDtheI thDLSht ABDLt hDN Ne ZUSht eOFYDUt thUJ CetNDIX RLItheI, hDNeMeI U CeeE tD NDIX thIDLSh JDZe ZDIe EetAUYJ BeRDIe U EUJWLJJ Ut NUth PDL, ACE U NACteE tD WheWX thAt PDL AIe hAFFP RDI Ze tD AYYDWAte IeJDLIWeJ tD tIAUC A CLZBeI DR hUtYeI PDLth UC the IeGLUIeE JXUYYJ RDI thUJ DFeIAtUDC. CI.\n"
     ]
    }
   ],
   "source": [
    "# KTH -> \"the\"\n",
    "decode(part_b_text, \"ABCDEFGeIJtLMNOPQRShUVWXYZ\")"
   ]
  },
  {
   "cell_type": "code",
   "execution_count": 15,
   "metadata": {},
   "outputs": [
    {
     "name": "stdout",
     "output_type": "stream",
     "text": [
      "attentUDn N DLI ZUJJUDn tD eZbes JPZFathUJeIJ Un the LX eJtabYUJhZent UJ SDUnS NeYY aYthDLSh the IeWent UnWIeaJe Un sUFYDZatUW tenJUDn haJ JUSnURUWantYP UnWIeaJes the IUJX RDI DLI aSentJ Un WDZZLnUWatUnS NUth theUI hansYeIJ. NUth teYeSIaZ tIaRRUW LnseI enhanWes JLFeIMUJUDn bP the LX UnteYYUSenWe DISanUJatUDnJ Ut UJ aYJD UnWIeaJUnSYP sURRUWLYt RDI the aSentJ ans theUI hansYeIJ tD IeFatIUate UnteYYUSenWe IeFDItJ DR anP JUSnURUWanWe. the LJe DR banXUnS WUFheIJ UJ nD YDnSeI IeSaIses aJ JeWLIe ans seJFUte UtJ DbMUDLJ asMantaSeJ, the enUSZa UJ tDD MaYLabYe tD LJ tD aYYDN UtJ LJe behUns eneZP YUneJ. RDI nDN, Ne aIe enWDLIaSUnS DLI aSentJ tD LJe a ZUO DR XePNDIs ans tIanJFDJUtUDn WUFheIJ aJ taLSht Un theUI baJUW tIaUnUnS, JUnWe theJe aIe IeYUabYe ans sD nDt IeGLUIe the aSentJ tD be Un FDJJeJJUDn DR ZDIe than a JeIUeJ DR XeP NDIsJ ans FhIaJeJ, NhUWh theP aIe NeYY abYe tD ZeZDIUJe. aJ the GLantUtP DR JUSnaYJ tIaRRUW UnWIeaJeJ Ne NUYY nees tD IeWDnJUseI DLI FIDtDWDYJ, bLt RDI nDN U thUnX DLI RDWLJ JhDLYs be Dn seMeYDFUnS JeWLIe WDZZLnUWatUDn WhanneYJ, NUth WLt-DLtJ tD UJDYate DLI ZDIe MaYLabYe aJJetJ. U sUJWLJJes thUJ UJJLe NUth ZP WDLnteIFaIt Un seFaItZent Uh NhD UJ a Xeen WPWYUJt ans he Zase a IatheI UnSenUDLJ JLSSeJtUDn that Ne ZUSht ZaXe SDDs LJe DR the hUtYeI PDLth. a nLZbeI DR FaItUeJ haMe been UnMUtes tD MUJUt the LX Dn WPWYUnS tDLIJ ans he has been WDnJUseIUnS aJXUnS theZ tD IeWDIs UnRDIZatUDn abDLt the YaPDLt DR ZUYUtaIP ans UnsLJtIUaY YansZaIXJ aJ FaIt DR hUJ UnteYYUSenWe SatheIUnS DFeIatUDn. Ut UJ hUShYP YUXeYP that anP NaI NUYY UnMDYMe a FIDtIaWtes bDZbUnS WaZFaUSn ans LF tD sate ZaFJ NUYY be DR SIeat MaYLe Un DLI FYannUnS. RLItheIZDIe, the WDLntIPJUse IDas YaPDLtJ Un the LX aIe nDtDIUDLJ RDI theUI UneRRUWUenWP ans anP UnMaJUDn, NDLYs be JeMeIeYP haZFeIes bP DLI YaWX DR XnDNYesSe DR tIanJFDIt netNDIXJ. he has sIaRtes an aFFaIentYP IatheI UnnDWLDLJ aItUWYe RDI the naQU WPWYUJt aJJDWUatUDn ZaSaQUne NUth a YUJt DR thUnSJ that DLI PDLnS WPWYUJtJ ZUSht RUns UnteIeJtUnS: UZFIeJJ Dn PDLI ZeZDIP the IDasJ ans FathJ, MUYYaSeJ ans tDNnJ, DLtJtansUnS WhLIWh tDNeIJ ans DtheI YansZaIXJ JD that PDL NUYY nDt RDISet theZ. ZaXe a nDte DR the naZeJ, FYaWeJ, IUMeIJ, JeaJ ans ZDLntaUnJ. FeIhaFJ PDL ZaP be abYe tD LtUYUJe theJe JDZe tUZe RDI the beneRUt DR the RatheIYans. JhDLYs PDL WDZe tD a bIUsSe NhUWh UnteIeJtJ PDL, eOaZUne UtJ WDnJtILWtUDn ans the ZateIUaYJ LJes. YeaIn tD ZeaJLIe ans eJtUZate the NUsth DR JtIeaZJ. Nase thIDLSh RDIsJ JD that PDL NUYY be abYe tD RUns theZ Un the saIX. U FIDFDJe that Ne WDnJUseI LJUnS theJe aJJetJ aJ the WLt-DLtJ betNeen DLI LnseIWDMeI aSentJ ans theUI hansYeIJ Un the LX ans DLI WDZZLnUWatUDnJ netNDIX. theP aIe IeYatUMeYP RIee tD ZDMe aIDLns the WDLntIP ans Wan eaJUYP be tIaUnes tD LJe sIDF-DRRJ ans DtheI JFPWIaRt tD aYYDN theZ tD WDYYeWt UnteYYUSenWe IeFDItJ ans FaJJ theZ Dn. the ZaIMeYYDLJ FDJte IeJtante JPJteZ aYYDNJ LJ tD WDZZLnUWate NUth theZ, ans a JLUtabYe WDsebDDX NDLYs aYYDN LJ tD tIanJZUt UnJtILWtUDnJ Un FYaUn teOt NUth nD IUJX that the ZeanUnS WDLYs be sUJWeInes bP WDLnteIUnteYYUSenWe DFeIatUMeJ Un the FDJtaY JeIMUWe. U haMe anDtheI thDLSht abDLt hDN Ne ZUSht eOFYDUt thUJ netNDIX RLItheI, hDNeMeI U nees tD NDIX thIDLSh JDZe ZDIe setaUYJ beRDIe U sUJWLJJ Ut NUth PDL, ans U Nantes tD WheWX that PDL aIe haFFP RDI Ze tD aYYDWate IeJDLIWeJ tD tIaUn a nLZbeI DR hUtYeI PDLth Un the IeGLUIes JXUYYJ RDI thUJ DFeIatUDn. nI.\n"
     ]
    }
   ],
   "source": [
    "# \"he hAE BeeC\" -> \"he has been\"?\n",
    "decode(part_b_text, \"abnDsFGeIJtLMNOPQRShUVWXYZ\")"
   ]
  },
  {
   "cell_type": "code",
   "execution_count": 17,
   "metadata": {},
   "outputs": [
    {
     "name": "stdout",
     "output_type": "stream",
     "text": [
      "attention N oLI ZiJJion to eZbes JPZFathiJeIJ in the Lk eJtabYiJhZent iJ SoinS NeYY aYthoLSh the Iecent incIeaJe in siFYoZatic tenJion haJ JiSniRicantYP incIeaJes the IiJk RoI oLI aSentJ in coZZLnicatinS Nith theiI hansYeIJ. Nith teYeSIaZ tIaRRic LnseI enhances JLFeIMiJion bP the Lk inteYYiSence oISaniJationJ it iJ aYJo incIeaJinSYP siRRicLYt RoI the aSentJ ans theiI hansYeIJ to IeFatIiate inteYYiSence IeFoItJ oR anP JiSniRicance. the LJe oR bankinS ciFheIJ iJ no YonSeI IeSaIses aJ JecLIe ans seJFite itJ obMioLJ asMantaSeJ, the eniSZa iJ too MaYLabYe to LJ to aYYoN itJ LJe behins eneZP YineJ. RoI noN, Ne aIe encoLIaSinS oLI aSentJ to LJe a ZiO oR kePNoIs ans tIanJFoJition ciFheIJ aJ taLSht in theiI baJic tIaininS, Jince theJe aIe IeYiabYe ans so not IeGLiIe the aSentJ to be in FoJJeJJion oR ZoIe than a JeIieJ oR keP NoIsJ ans FhIaJeJ, Nhich theP aIe NeYY abYe to ZeZoIiJe. aJ the GLantitP oR JiSnaYJ tIaRRic incIeaJeJ Ne NiYY nees to IeconJiseI oLI FIotocoYJ, bLt RoI noN i think oLI RocLJ JhoLYs be on seMeYoFinS JecLIe coZZLnication channeYJ, Nith cLt-oLtJ to iJoYate oLI ZoIe MaYLabYe aJJetJ. i siJcLJJes thiJ iJJLe Nith ZP coLnteIFaIt in seFaItZent ih Nho iJ a keen cPcYiJt ans he Zase a IatheI inSenioLJ JLSSeJtion that Ne ZiSht Zake Soos LJe oR the hitYeI PoLth. a nLZbeI oR FaItieJ haMe been inMites to MiJit the Lk on cPcYinS toLIJ ans he has been conJiseIinS aJkinS theZ to IecoIs inRoIZation aboLt the YaPoLt oR ZiYitaIP ans insLJtIiaY YansZaIkJ aJ FaIt oR hiJ inteYYiSence SatheIinS oFeIation. it iJ hiShYP YikeYP that anP NaI NiYY inMoYMe a FIotIactes boZbinS caZFaiSn ans LF to sate ZaFJ NiYY be oR SIeat MaYLe in oLI FYanninS. RLItheIZoIe, the coLntIPJise Ioas YaPoLtJ in the Lk aIe notoIioLJ RoI theiI ineRRiciencP ans anP inMaJion, NoLYs be JeMeIeYP haZFeIes bP oLI Yack oR knoNYesSe oR tIanJFoIt netNoIkJ. he has sIaRtes an aFFaIentYP IatheI innocLoLJ aIticYe RoI the naQi cPcYiJt aJJociation ZaSaQine Nith a YiJt oR thinSJ that oLI PoLnS cPcYiJtJ ZiSht Rins inteIeJtinS: iZFIeJJ on PoLI ZeZoIP the IoasJ ans FathJ, MiYYaSeJ ans toNnJ, oLtJtansinS chLIch toNeIJ ans otheI YansZaIkJ Jo that PoL NiYY not RoISet theZ. Zake a note oR the naZeJ, FYaceJ, IiMeIJ, JeaJ ans ZoLntainJ. FeIhaFJ PoL ZaP be abYe to LtiYiJe theJe JoZe tiZe RoI the beneRit oR the RatheIYans. JhoLYs PoL coZe to a bIisSe Nhich inteIeJtJ PoL, eOaZine itJ conJtILction ans the ZateIiaYJ LJes. YeaIn to ZeaJLIe ans eJtiZate the Nisth oR JtIeaZJ. Nase thIoLSh RoIsJ Jo that PoL NiYY be abYe to Rins theZ in the saIk. i FIoFoJe that Ne conJiseI LJinS theJe aJJetJ aJ the cLt-oLtJ betNeen oLI LnseIcoMeI aSentJ ans theiI hansYeIJ in the Lk ans oLI coZZLnicationJ netNoIk. theP aIe IeYatiMeYP RIee to ZoMe aIoLns the coLntIP ans can eaJiYP be tIaines to LJe sIoF-oRRJ ans otheI JFPcIaRt to aYYoN theZ to coYYect inteYYiSence IeFoItJ ans FaJJ theZ on. the ZaIMeYYoLJ FoJte IeJtante JPJteZ aYYoNJ LJ to coZZLnicate Nith theZ, ans a JLitabYe cosebook NoLYs aYYoN LJ to tIanJZit inJtILctionJ in FYain teOt Nith no IiJk that the ZeaninS coLYs be siJceInes bP coLnteIinteYYiSence oFeIatiMeJ in the FoJtaY JeIMice. i haMe anotheI thoLSht aboLt hoN Ne ZiSht eOFYoit thiJ netNoIk RLItheI, hoNeMeI i nees to NoIk thIoLSh JoZe ZoIe setaiYJ beRoIe i siJcLJJ it Nith PoL, ans i Nantes to check that PoL aIe haFFP RoI Ze to aYYocate IeJoLIceJ to tIain a nLZbeI oR hitYeI PoLth in the IeGLiIes JkiYYJ RoI thiJ oFeIation. nI.\n"
     ]
    }
   ],
   "source": [
    "# \"attentUDn\" -> U=i, D=o\n",
    "# \"enhanWes\" -> W=c\n",
    "# \"Xeen\" -> X=k\n",
    "decode(part_b_text, \"abnosFGeIJtLMNOPQRShiVckYZ\")"
   ]
  },
  {
   "cell_type": "code",
   "execution_count": 18,
   "metadata": {},
   "outputs": [
    {
     "name": "stdout",
     "output_type": "stream",
     "text": [
      "attention w ouI miJJion to embed JPmFathiJeIJ in the uk eJtabliJhment iJ going well although the Iecent incIeaJe in diFlomatic tenJion haJ JigniRicantlP incIeaJed the IiJk RoI ouI agentJ in communicating with theiI handleIJ. with telegIam tIaRRic undeI enhanced JuFeIMiJion bP the uk intelligence oIganiJationJ it iJ alJo incIeaJinglP diRRicult RoI the agentJ and theiI handleIJ to IeFatIiate intelligence IeFoItJ oR anP JigniRicance. the uJe oR banking ciFheIJ iJ no longeI IegaIded aJ JecuIe and deJFite itJ obMiouJ adMantageJ, the enigma iJ too Maluable to uJ to allow itJ uJe behind enemP lineJ. RoI now, we aIe encouIaging ouI agentJ to uJe a miO oR kePwoId and tIanJFoJition ciFheIJ aJ taught in theiI baJic tIaining, Jince theJe aIe Ieliable and do not IeGuiIe the agentJ to be in FoJJeJJion oR moIe than a JeIieJ oR keP woIdJ and FhIaJeJ, which theP aIe well able to memoIiJe. aJ the GuantitP oR JignalJ tIaRRic incIeaJeJ we will need to IeconJideI ouI FIotocolJ, but RoI now i think ouI RocuJ Jhould be on deMeloFing JecuIe communication channelJ, with cut-outJ to iJolate ouI moIe Maluable aJJetJ. i diJcuJJed thiJ iJJue with mP counteIFaIt in deFaItment ih who iJ a keen cPcliJt and he made a IatheI ingeniouJ JuggeJtion that we might make good uJe oR the hitleI Pouth. a numbeI oR FaItieJ haMe been inMited to MiJit the uk on cPcling touIJ and he had been conJideIing aJking them to IecoId inRoImation about the laPout oR militaIP and induJtIial landmaIkJ aJ FaIt oR hiJ intelligence gatheIing oFeIation. it iJ highlP likelP that anP waI will inMolMe a FIotIacted bombing camFaign and uF to date maFJ will be oR gIeat Malue in ouI Flanning. RuItheImoIe, the countIPJide Ioad laPoutJ in the uk aIe notoIiouJ RoI theiI ineRRiciencP and anP inMaJion, would be JeMeIelP hamFeIed bP ouI lack oR knowledge oR tIanJFoIt netwoIkJ. he had dIaRted an aFFaIentlP IatheI innocuouJ aIticle RoI the naQi cPcliJt aJJociation magaQine with a liJt oR thingJ that ouI Poung cPcliJtJ might Rind inteIeJting: imFIeJJ on PouI memoIP the IoadJ and FathJ, MillageJ and townJ, outJtanding chuIch toweIJ and otheI landmaIkJ Jo that Pou will not RoIget them. make a note oR the nameJ, FlaceJ, IiMeIJ, JeaJ and mountainJ. FeIhaFJ Pou maP be able to utiliJe theJe Jome time RoI the beneRit oR the RatheIland. Jhould Pou come to a bIidge which inteIeJtJ Pou, eOamine itJ conJtIuction and the mateIialJ uJed. leaIn to meaJuIe and eJtimate the width oR JtIeamJ. wade thIough RoIdJ Jo that Pou will be able to Rind them in the daIk. i FIoFoJe that we conJideI uJing theJe aJJetJ aJ the cut-outJ between ouI undeIcoMeI agentJ and theiI handleIJ in the uk and ouI communicationJ netwoIk. theP aIe IelatiMelP RIee to moMe aIound the countIP and can eaJilP be tIained to uJe dIoF-oRRJ and otheI JFPcIaRt to allow them to collect intelligence IeFoItJ and FaJJ them on. the maIMellouJ FoJte IeJtante JPJtem allowJ uJ to communicate with them, and a Juitable codebook would allow uJ to tIanJmit inJtIuctionJ in Flain teOt with no IiJk that the meaning could be diJceIned bP counteIintelligence oFeIatiMeJ in the FoJtal JeIMice. i haMe anotheI thought about how we might eOFloit thiJ netwoIk RuItheI, howeMeI i need to woIk thIough Jome moIe detailJ beRoIe i diJcuJJ it with Pou, and i wanted to check that Pou aIe haFFP RoI me to allocate IeJouIceJ to tIain a numbeI oR hitleI Pouth in the IeGuiIed JkillJ RoI thiJ oFeIation. nI.\n"
     ]
    }
   ],
   "source": [
    "# \"coZZLnicatinS\" -> Z=m, L=u, S=g\n",
    "# \"cosebook\" -> E=d (d'oh!)\n",
    "# \"coYYect inteYYiSence\" -> Y=l\n",
    "# \"knoNYesSe\" -> N=w\n",
    "decode(part_b_text, \"abnodFGeIJtuMwOPQRghiVcklm\")"
   ]
  },
  {
   "cell_type": "code",
   "execution_count": 19,
   "metadata": {},
   "outputs": [
    {
     "name": "stdout",
     "output_type": "stream",
     "text": [
      "attention w our mission to embed sPmFathisers in the uk establishment is going well although the recent increase in diFlomatic tension has significantlP increased the risk for our agents in communicating with their handlers. with telegram traffic under enhanced suFerMision bP the uk intelligence organisations it is also increasinglP difficult for the agents and their handlers to reFatriate intelligence reForts of anP significance. the use of banking ciFhers is no longer regarded as secure and desFite its obMious adMantages, the enigma is too Maluable to us to allow its use behind enemP lines. for now, we are encouraging our agents to use a miO of kePword and transFosition ciFhers as taught in their basic training, since these are reliable and do not reGuire the agents to be in Fossession of more than a series of keP words and Fhrases, which theP are well able to memorise. as the GuantitP of signals traffic increases we will need to reconsider our Frotocols, but for now i think our focus should be on deMeloFing secure communication channels, with cut-outs to isolate our more Maluable assets. i discussed this issue with mP counterFart in deFartment ih who is a keen cPclist and he made a rather ingenious suggestion that we might make good use of the hitler Pouth. a number of Farties haMe been inMited to Misit the uk on cPcling tours and he had been considering asking them to record information about the laPout of militarP and industrial landmarks as Fart of his intelligence gathering oFeration. it is highlP likelP that anP war will inMolMe a Frotracted bombing camFaign and uF to date maFs will be of great Malue in our Flanning. furthermore, the countrPside road laPouts in the uk are notorious for their inefficiencP and anP inMasion, would be seMerelP hamFered bP our lack of knowledge of transFort networks. he had drafted an aFFarentlP rather innocuous article for the naQi cPclist association magaQine with a list of things that our Poung cPclists might find interesting: imFress on Pour memorP the roads and Faths, Millages and towns, outstanding church towers and other landmarks so that Pou will not forget them. make a note of the names, Flaces, riMers, seas and mountains. FerhaFs Pou maP be able to utilise these some time for the benefit of the fatherland. should Pou come to a bridge which interests Pou, eOamine its construction and the materials used. learn to measure and estimate the width of streams. wade through fords so that Pou will be able to find them in the dark. i FroFose that we consider using these assets as the cut-outs between our undercoMer agents and their handlers in the uk and our communications network. theP are relatiMelP free to moMe around the countrP and can easilP be trained to use droF-offs and other sFPcraft to allow them to collect intelligence reForts and Fass them on. the marMellous Foste restante sPstem allows us to communicate with them, and a suitable codebook would allow us to transmit instructions in Flain teOt with no risk that the meaning could be discerned bP counterintelligence oFeratiMes in the Fostal serMice. i haMe another thought about how we might eOFloit this network further, howeMer i need to work through some more details before i discuss it with Pou, and i wanted to check that Pou are haFFP for me to allocate resources to train a number of hitler Pouth in the reGuired skills for this oFeration. nr.\n"
     ]
    }
   ],
   "source": [
    "# \"ouI miJJion\" -> I=r, J=s\n",
    "# \"beRoIe\" -> R=f\n",
    "decode(part_b_text, \"abnodFGerstuMwOPQfghiVcklm\")"
   ]
  },
  {
   "cell_type": "code",
   "execution_count": 20,
   "metadata": {},
   "outputs": [
    {
     "name": "stdout",
     "output_type": "stream",
     "text": [
      "attention w our mission to embed sympathisers in the uk establishment is going well although the recent increase in diplomatic tension has significantly increased the risk for our agents in communicating with their handlers. with telegram traffic under enhanced supervision by the uk intelligence organisations it is also increasingly difficult for the agents and their handlers to repatriate intelligence reports of any significance. the use of banking ciphers is no longer regarded as secure and despite its obvious advantages, the enigma is too valuable to us to allow its use behind enemy lines. for now, we are encouraging our agents to use a mix of keyword and transposition ciphers as taught in their basic training, since these are reliable and do not require the agents to be in possession of more than a series of key words and phrases, which they are well able to memorise. as the quantity of signals traffic increases we will need to reconsider our protocols, but for now i think our focus should be on developing secure communication channels, with cut-outs to isolate our more valuable assets. i discussed this issue with my counterpart in department ih who is a keen cyclist and he made a rather ingenious suggestion that we might make good use of the hitler youth. a number of parties have been invited to visit the uk on cycling tours and he had been considering asking them to record information about the layout of military and industrial landmarks as part of his intelligence gathering operation. it is highly likely that any war will involve a protracted bombing campaign and up to date maps will be of great value in our planning. furthermore, the countryside road layouts in the uk are notorious for their inefficiency and any invasion, would be severely hampered by our lack of knowledge of transport networks. he had drafted an apparently rather innocuous article for the nazi cyclist association magazine with a list of things that our young cyclists might find interesting: impress on your memory the roads and paths, villages and towns, outstanding church towers and other landmarks so that you will not forget them. make a note of the names, places, rivers, seas and mountains. perhaps you may be able to utilise these some time for the benefit of the fatherland. should you come to a bridge which interests you, examine its construction and the materials used. learn to measure and estimate the width of streams. wade through fords so that you will be able to find them in the dark. i propose that we consider using these assets as the cut-outs between our undercover agents and their handlers in the uk and our communications network. they are relatively free to move around the country and can easily be trained to use drop-offs and other spycraft to allow them to collect intelligence reports and pass them on. the marvellous poste restante system allows us to communicate with them, and a suitable codebook would allow us to transmit instructions in plain text with no risk that the meaning could be discerned by counterintelligence operatives in the postal service. i have another thought about how we might exploit this network further, however i need to work through some more details before i discuss it with you, and i wanted to check that you are happy for me to allocate resources to train a number of hitler youth in the required skills for this operation. nr.\n"
     ]
    }
   ],
   "source": [
    "# \"sPmFathisers\" -> P=y, F=p\n",
    "# \"suFerMision\" -> M=v\n",
    "# Guess G=q, O=x, Q=z, V=j\n",
    "decode(part_b_text, \"abnodpqerstuvwxyzfghijcklm\")"
   ]
  },
  {
   "cell_type": "code",
   "execution_count": 21,
   "metadata": {},
   "outputs": [
    {
     "name": "stdout",
     "output_type": "stream",
     "text": [
      "Decoded alphabet: abwehrstuvxyzcdfgijklmnopq\n",
      "Keyword: abwehr\n"
     ]
    }
   ],
   "source": [
    "# Attempts to determine the keyword used for a substitution cipher\n",
    "# alphabet: The substitution alphabet\n",
    "def decode_key(alphabet):\n",
    "    decoded_alphabet = \"\"\n",
    "    for letter in string.ascii_lowercase:\n",
    "        decoded_alphabet += chr(alphabet.find(letter) + ord(\"a\"))\n",
    "    print(f\"Decoded alphabet: {decoded_alphabet}\")\n",
    "    \n",
    "    remaining_letters = list(string.ascii_lowercase)\n",
    "    for pos, letter in enumerate(decoded_alphabet):\n",
    "        remaining_letters.remove(letter)\n",
    "        next_letter_index = remaining_letters.index(decoded_alphabet[pos+1])\n",
    "        if decoded_alphabet[pos+1:] == \"\".join(remaining_letters[next_letter_index:] + remaining_letters[:next_letter_index]):\n",
    "            print(f\"Keyword: {decoded_alphabet[:pos+2]}\")\n",
    "            break\n",
    "\n",
    "decode_key(\"abnodpqerstuvwxyzfghijcklm\")"
   ]
  },
  {
   "cell_type": "code",
   "execution_count": null,
   "metadata": {},
   "outputs": [],
   "source": []
  }
 ],
 "metadata": {
  "kernelspec": {
   "display_name": "Python 3",
   "language": "python",
   "name": "python3"
  },
  "language_info": {
   "codemirror_mode": {
    "name": "ipython",
    "version": 3
   },
   "file_extension": ".py",
   "mimetype": "text/x-python",
   "name": "python",
   "nbconvert_exporter": "python",
   "pygments_lexer": "ipython3",
   "version": "3.9.0"
  }
 },
 "nbformat": 4,
 "nbformat_minor": 4
}
