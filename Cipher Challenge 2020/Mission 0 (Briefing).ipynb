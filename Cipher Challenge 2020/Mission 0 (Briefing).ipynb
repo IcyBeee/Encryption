{
 "cells": [
  {
   "cell_type": "markdown",
   "metadata": {},
   "source": [
    "# Cipher Challenge 2020\n",
    "### Challenge 0\n",
    "\n",
    "Challenge link https://www.cipherchallenge.org/challenge/introduction/"
   ]
  },
  {
   "cell_type": "code",
   "execution_count": 1,
   "metadata": {},
   "outputs": [],
   "source": [
    "# Part A - Mission Briefing\n",
    "part_a_text = \"\"\"1. SFBE UIJT NJTTJPO CSJFGJOH BOE NBLF TVSF ZPV VOEFSTUBOE XIBU ZPV OFFE UP EP.\n",
    "2. JG ZPV BSF XPSLJOH XJUI PUIFST BTTFNCMF ZPVS UFBN BOE BTTJHO EVUJFT. NBLF TVSF ZPV IBWF TFUVQ B UFBN BOE OPNJOBUFE B UFBN DBQUBJO TP UIFZ DBO TVCNJU ZPVS TPMVUJPOT.\n",
    "3. DIFDL NJTTJPO EFBEMJOFT UP NBLF TVSF ZPV EPO'U NJTT BO JNQPSUBOU CVMMFUJO. ZPV DBO GJOE UIFN PO UIF DIBMMFOHF QBHFT.\n",
    "4. DIFDL UIF NJTTJPO SVMFT TP ZPV LOPX XIBU JT BMMPXFE BOE XIBU JTO'U. ZPV DBO GJOE UIFN JO UIF JOTUSVDUJPOT TFDUJPO BMPOH XJUI PUIFS VTFGVM JOGPSNBUJPO.\n",
    "5. JG ZPV BSF OFX UP DPEFCSFBLJOH UIFO UBLF B MPPL BU PVS USBJOJOH QBHFT GPS TPNF IFMQ BOE HVJEBODF.\n",
    "6. XIFUIFS ZPV BSF OFX PS FYQFSJFODFE, EPXOMPBE UIF CPTT DSZQUBOBMZTU IBOECPPL, FJUIFS GSPN UIF CPTT MJCSBSZ PS GSPN UIF USBJOJOH QBHF.\n",
    "7. GPS FBDI SPVOE PG UIJT NJTTJPO EFDJQIFS UIF CSJFGJOH OPUF (QBSU B) BOE TVCNJU JU VTJOH UIF CPY BU UIF CPUUPN PG UIBU QBHF UP NBLF TVSF ZPV IBWF VOEFSTUPPE XIBU ZPV OFFE UP EP. UIFO UBDLMF UIF NJTTJPO TFHNFOU (QBSU C). ZPV EP OPU IBWF UP XBJU VOUJM ZPV IBWF CSPLFO UIF FOFNZ USBOTNJTTJPO (QBSU C) CFGPSF ZPV TVCNJU QBSU B.\n",
    "8. ZPV DBO QSBDUJDF CZ DSBDLJOH UIF FODSZQUFE WFSTJPO PG UIJT CSJFGJOH OPUF BCPWF, CVU ZPV EPO'U OFFE UP TVCNJU JU BT ZPV DBO DPNQBSF ZPVS EFDSZQU XJUI UIJT QMBJOUFYU WFSTJPO.\n",
    "9. BT TPPO BT ZPV IBWF CSPLFO UIF FOFNZ USBOTNJTTJPO TVCNJU JU UP PVS BOBMZTUT CZ VTJOH UIF CPY BU UIF CPUUPN PG QBSU C.\n",
    "10. JG ZPV OFFE TVQQPSU GSPN CPTT UIFO HP UP ZPVS TFDSFU BDDPVOU QBHF XIFSF ZPV XJMM GJOE B SFDPSE PG ZPVS TVCNJTTJPOT BOE BOZ GFFECBDL GSPN PVS BOBMZTUT. JG UIFZ UIJOL UIBU ZPV IBWF NJTVOEFSTUPPE ZPVS JOTUSVDUJPOT PS NBEF B NJTUBLF JO EFDJQIFSJOH UIF FOFNZ DPNNT UIFO UIFZ XJMM GMBH UIBU IFSF BOE ZPV DBO SFWJTJU UIF NJTTJPO QBHF UP TVCNJU BHBJO.\n",
    "11. DIFDL ZPVS TVCNJTTJPO TUBUVT PO ZPVS BDDPVOU QBHF - ZPVS BDIJFWFNFOUT XJMM CF SFDPSEFE UIFSF BOE PO UIF MFBEFSCPBSE. \"\"\""
   ]
  },
  {
   "cell_type": "code",
   "execution_count": 2,
   "metadata": {},
   "outputs": [],
   "source": [
    "# Bring in the basic decoder function\n",
    "import string\n",
    "\n",
    "# A simple translation method.\n",
    "# text: The text to translate, in upper case\n",
    "# key: A substitution alphabet, usually in lower case so that the translated characters show up\n",
    "def decode(text, key):\n",
    "    table = str.maketrans(string.ascii_uppercase, key)\n",
    "    print(text.upper().translate(table))"
   ]
  },
  {
   "cell_type": "code",
   "execution_count": 5,
   "metadata": {},
   "outputs": [
    {
     "name": "stdout",
     "output_type": "stream",
     "text": [
      "1. read this mission briefing and make sure you understand what you need to do.\n",
      "2. if you are working with others assemble your team and assign duties. make sure you have setup a team and nominated a team captain so they can submit your solutions.\n",
      "3. check mission deadlines to make sure you don't miss an important bulletin. you can find them on the challenge pages.\n",
      "4. check the mission rules so you know what is allowed and what isn't. you can find them in the instructions section along with other useful information.\n",
      "5. if you are new to codebreaking then take a look at our training pages for some help and guidance.\n",
      "6. whether you are new or experienced, download the boss cryptanalyst handbook, either from the boss library or from the training page.\n",
      "7. for each round of this mission decipher the briefing note (part a) and submit it using the box at the bottom of that page to make sure you have understood what you need to do. then tackle the mission segment (part b). you do not have to wait until you have broken the enemy transmission (part b) before you submit part a.\n",
      "8. you can practice by cracking the encrypted version of this briefing note above, but you don't need to submit it as you can compare your decrypt with this plaintext version.\n",
      "9. as soon as you have broken the enemy transmission submit it to our analysts by using the box at the bottom of part b.\n",
      "10. if you need support from boss then go to your secret account page where you will find a record of your submissions and any feedback from our analysts. if they think that you have misunderstood your instructions or made a mistake in deciphering the enemy comms then they will flag that here and you can revisit the mission page to submit again.\n",
      "11. check your submission status on your account page - your achievements will be recorded there and on the leaderboard. \n"
     ]
    }
   ],
   "source": [
    "# I Think I can see the word \"mission\" in the first line, so this is probably just a single letter shift\n",
    "decode(part_a_text, \"zabcdefghijklmnopqrstuvwxy\")"
   ]
  },
  {
   "cell_type": "code",
   "execution_count": 6,
   "metadata": {},
   "outputs": [],
   "source": [
    "# Part B - Tinker, Tailor, Tourist?\n",
    "part_b_text = \"\"\"ZE EZEVKVVE-KYZIKP-JVMVE KYV NVJKVIE GFNVIJ NVIV CFTBVU ZE R XIFNZEX TFEWIFEKRKZFE KYRK IVDZEUVU VMVIPFEV FW KYV XIVRK NRI. XVIDREP NRJ ZE KYV XIZG FW KYV ERQZ GRIKP REU JVTIVKCP RIDZEX ZKJVCW RJ ZK KIZVU KF IVRJJVIK ZKJ GFNVI. ZE KYV IVZTY TYRETVCCVIP YZKCVI REU YZJ GRIKP NVIV JVTIVKCP GCFKKZEX KF VOGREU KYVZI SFIUVIJ ZE R SZU KF UFDZERKV VLIFGV. KYV FKYVI VLIFGVRE ERKZFEJ NVIV XIZGGVU SP ZEUVTZJZFE, LERSCV KF XRLXV KYV XIFNZEX KYIVRK REU UVJGVIRKV KF RMFZU REFKYVI NRI. RXRZEJK KYZJ SRTBXIFLEU KYV RCCZVU ZEKVCCZXVETV JVIMZTVJ NVIV RCRIDVU SP R DRJJZMV ZETIVRJV ZE KYV ELDSVI FW XVIDRE KFLIZJKJ MZJZKZEX KYVZI TRGZKRCJ, SLK NZKY KYVZI RXVEKJ WLCCP VEXRXVU ZE UVMVCFGZEX EVN JGP EVKNFIBJ RTIFJJ DZUUCV VLIFGV KYVP UZU EFK YRMV KYV IVJFLITVJ KF ZEMVJKZXRKV. CLTBZCP R EVN RXVETP YRU IVTVEKCP SVVE SFIE. KYV SLIVRL FW JVTLIZKP REU JZXERCJ ZEKVCCZXVETV NRJ JVK LG RJ R AFZEK LB/LJ FGVIRKZFE KF WZCC R XRG ZE TRGRTZKP RK R UVJGVIRKV KZDV. KYZJ NRJ KYVZI YFLI REU ZK WVCC KF KYVD KF UVKVIDZEV YFN XIVRK R KYIVRK NRJ GFJVU SP KYVJV MZJZKFIJ. LEUVIJKRWWVU KYVP YRMV IVTILZKVU PFL KF YVCG KYVD SIVRB KYV XVIDRE JGP IZEX REU GIVMVEK KYV ERQZJ WIFD NZEEZEX KYV NRI SVWFIV ZK YRJ VMVE JKRIKVU.\"\"\""
   ]
  },
  {
   "cell_type": "code",
   "execution_count": 7,
   "metadata": {},
   "outputs": [
    {
     "name": "stdout",
     "output_type": "stream",
     "text": [
      "in nineteen-thirty-seven the western powers were locked in a growing confrontation that reminded everyone of the great war. germany was in the grip of the nazi party and secretly arming itself as it tried to reassert its power. in the reich chancellery hitler and his party were secretly plotting to expand their borders in a bid to dominate europe. the other european nations were gripped by indecision, unable to gauge the growing threat and desperate to avoid another war. against this background the allied intelligence services were alarmed by a massive increase in the number of german tourists visiting their capitals, but with their agents fully engaged in developing new spy networks across middle europe they did not have the resources to investigate. luckily a new agency had recently been born. the bureau of security and signals intelligence was set up as a joint uk/us operation to fill a gap in capacity at a desperate time. this was their hour and it fell to them to determine how great a threat was posed by these visitors. understaffed they have recruited you to help them break the german spy ring and prevent the nazis from winning the war before it has even started.\n"
     ]
    }
   ],
   "source": [
    "# Lots of \"KYV\" in there - assume that's \"the\".\n",
    "# Fill in the rest of the letters sequentially\n",
    "decode(part_b_text, \"jklmnopqrstuvwxyzabcdefghi\")"
   ]
  },
  {
   "cell_type": "code",
   "execution_count": null,
   "metadata": {},
   "outputs": [],
   "source": []
  }
 ],
 "metadata": {
  "kernelspec": {
   "display_name": "Python 3",
   "language": "python",
   "name": "python3"
  },
  "language_info": {
   "codemirror_mode": {
    "name": "ipython",
    "version": 3
   },
   "file_extension": ".py",
   "mimetype": "text/x-python",
   "name": "python",
   "nbconvert_exporter": "python",
   "pygments_lexer": "ipython3",
   "version": "3.9.0"
  }
 },
 "nbformat": 4,
 "nbformat_minor": 4
}
