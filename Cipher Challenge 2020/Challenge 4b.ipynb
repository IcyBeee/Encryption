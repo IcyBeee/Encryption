{
 "cells": [
  {
   "cell_type": "markdown",
   "metadata": {},
   "source": [
    "# 2020 Coronavirus distraction challenge 2020\n",
    "## Challenge 4b\n",
    "Challenge link https://www.cipherchallenge.org/challenge/competition-challenge-4/"
   ]
  },
  {
   "cell_type": "code",
   "execution_count": 2,
   "metadata": {},
   "outputs": [],
   "source": [
    "message4b=\"\"\"WSIJK BYYKSCT DW VSY HZARYBSJKYC ADBBSKKYY, IYSARJYIQSYRLCTJBSCSJKYISLB, KNYCKP CSCKR HFISZ CSCYKYYC KRSIKP CSCY\n",
    "KRY ADBBSKKYY NHJ IYADCMYCYV EP KRY BSCSJKYI HK KRY IYGLYJK DW KRY ARHCAYZZDI RSBJYZW.\n",
    "SK SJ KHJXYV NSKR IYHZSJSCT KRY BSZSKHIP HCV SCVLJKISHZ FIDBSJY DW CLAZYHI YCYITP.\n",
    "KRY ADBBSKKYY IYADTCSJYJ KRY KYARCSAHZ ARHZZYCTYJ SCMDZMYV SC SCVLJKISHZSJSCT KRY FIDAYJJYJ RSKRYIKD ADCVLAKYV LCVYI ZHEDIHKDIP ADCVSKSDCJ, ELK WYYZJ KRHK KRY DEJKHAZYJ AHC EY DMYIADBY EP H ADBESCHKSDC DW JASYCKSWSA HCV YCTSCYYISCT YOAYZZYCAY HZIYHVP FDJJYJJYV EP KRY JKHKY.\n",
    "KRY ADBBSKKYY SVYCKSWSYV KRHK KRY FISCASFZY SJJLY SJ KRHK DW ADCKIDZZSCT KRY CLAZYHI IYHAKSDC NRSAR SJ BYVSHKYV EP KRY YCYITP DW WIYY CYLKIDCJ. KRYJY CYYV KD EY JZDNYV KD YWWYAKSMYZP RHICYJJ KRYSI FDNYI, HCV KD KRSJ YCV KRY ADBBSKKYY IYADBBYCVJ KRY HAGLSJSKSDC DW H JLSKHEZY BDVYIHKDI.\n",
    "KRY EYJK-XCDNC AHCVSVHKY SJ VYLKYISLB HCV KRY EYJK JDLIAY DW KRSJ BHKYISHZ SJ KRY FDNYI FZHCK HK MYBDIX SC CDINHP. KRY KIDCJKHV HCV EILC YZYAKIDZPKSA FIDAYJJ HK KRHK WHASZSKP SJ FIDVLASCT DMYI KNYCKP XSZDTIHBJ DW RYHMP NHKYI FYI PYHI, HCV KRSJ ADLZV YHJSZP EY JAHZYV LF.\n",
    "JSCAY NY VD CDK NHCK KD HZYIK DLI YCYBSYJ KD KRY SBFDIKHCAY DW KRY BHKYISHZ KRY ADBBSKKYY IYADBBYCVJ FZHASCT HC SCSKSHZ DIVYI WDI WSMY ZSKIYJ DW RYHMP NHKYI KRIDLTR DLI DNC VPY SCVLJKIP JPCVSAHKY ADIFDIHKSDC NRSAR, EP RHFFP HAASVYCK, DNCJ H GLHIKYI DW KRY JRHIYJ SC KRY MYBDIX FZHCK.\"\"\""
   ]
  },
  {
   "cell_type": "code",
   "execution_count": 4,
   "metadata": {},
   "outputs": [
    {
     "name": "stdout",
     "output_type": "stream",
     "text": [
      "Y: 166 (14.25%) K: 126 (10.82%) S: 101 (8.67%) C: 86 (7.38%) D: 78 (6.70%)\n",
      "I: 74 (6.35%) H: 74 (6.35%) J: 68 (5.84%) R: 57 (4.89%) A: 54 (4.64%)\n",
      "Z: 42 (3.61%) V: 41 (3.52%) B: 36 (3.09%) L: 26 (2.23%) P: 25 (2.15%)\n",
      "W: 23 (1.97%) F: 19 (1.63%) N: 17 (1.46%) E: 16 (1.37%) T: 15 (1.29%)\n",
      "M: 11 (0.94%) X:  5 (0.43%) G:  3 (0.26%) Q:  1 (0.09%) O:  1 (0.09%)\n",
      "\n",
      "-----\n"
     ]
    }
   ],
   "source": [
    "# Looks like this one has normal spacing and punctuation.\n",
    "from collections import Counter\n",
    "\n",
    "# Takes a string or list of items and counts the frequencies of those items\n",
    "# data: The list or string to analyse\n",
    "# max_values: The maximum number of values to display (set to None for no limit)\n",
    "# no_columns: The amount of columns to use in the output\n",
    "def frequency_analysis(data, max_values=30, no_columns=5):\n",
    "    frequencies = Counter()\n",
    "    for item in data:\n",
    "        frequencies[item] += 1\n",
    "    \n",
    "    total = sum(frequencies.values())\n",
    "    column = 1\n",
    "    for item, frequency in frequencies.most_common(max_values):\n",
    "        print(f\"{item}: {frequency:2} ({frequency / total:.2%})\", end=\" \" if column % no_columns else \"\\n\")\n",
    "        column += 1\n",
    "    print(\"\\n-----\")\n",
    "\n",
    "# Just analyse the letters:\n",
    "frequency_analysis(\"\".join([c for c in message4b if c.isalpha()]))"
   ]
  },
  {
   "cell_type": "code",
   "execution_count": 5,
   "metadata": {},
   "outputs": [
    {
     "name": "stdout",
     "output_type": "stream",
     "text": [
      "WSIJt BeetSCT DW VSe HZAheBSJteC ADBBSttee, IeSAhJeIQSehLCTJBSCSJteISLB, tNeCtP CSCth HFISZ CSCeteeC thSItP CSCe\n",
      "the ADBBSttee NHJ IeADCMeCeV EP the BSCSJteI Ht the IeGLeJt DW the AhHCAeZZDI hSBJeZW.\n",
      "St SJ tHJXeV NSth IeHZSJSCT the BSZStHIP HCV SCVLJtISHZ FIDBSJe DW CLAZeHI eCeITP.\n",
      "the ADBBSttee IeADTCSJeJ the teAhCSAHZ AhHZZeCTeJ SCMDZMeV SC SCVLJtISHZSJSCT the FIDAeJJeJ hStheItD ADCVLAteV LCVeI ZHEDIHtDIP ADCVStSDCJ, ELt WeeZJ thHt the DEJtHAZeJ AHC Ee DMeIADBe EP H ADBESCHtSDC DW JASeCtSWSA HCV eCTSCeeISCT eOAeZZeCAe HZIeHVP FDJJeJJeV EP the JtHte.\n",
      "the ADBBSttee SVeCtSWSeV thHt the FISCASFZe SJJLe SJ thHt DW ADCtIDZZSCT the CLAZeHI IeHAtSDC NhSAh SJ BeVSHteV EP the eCeITP DW WIee CeLtIDCJ. theJe CeeV tD Ee JZDNeV tD eWWeAtSMeZP hHICeJJ theSI FDNeI, HCV tD thSJ eCV the ADBBSttee IeADBBeCVJ the HAGLSJStSDC DW H JLStHEZe BDVeIHtDI.\n",
      "the EeJt-XCDNC AHCVSVHte SJ VeLteISLB HCV the EeJt JDLIAe DW thSJ BHteISHZ SJ the FDNeI FZHCt Ht MeBDIX SC CDINHP. the tIDCJtHV HCV EILC eZeAtIDZPtSA FIDAeJJ Ht thHt WHASZStP SJ FIDVLASCT DMeI tNeCtP XSZDTIHBJ DW heHMP NHteI FeI PeHI, HCV thSJ ADLZV eHJSZP Ee JAHZeV LF.\n",
      "JSCAe Ne VD CDt NHCt tD HZeIt DLI eCeBSeJ tD the SBFDItHCAe DW the BHteISHZ the ADBBSttee IeADBBeCVJ FZHASCT HC SCStSHZ DIVeI WDI WSMe ZStIeJ DW heHMP NHteI thIDLTh DLI DNC VPe SCVLJtIP JPCVSAHte ADIFDIHtSDC NhSAh, EP hHFFP HAASVeCt, DNCJ H GLHIteI DW the JhHIeJ SC the MeBDIX FZHCt.\n"
     ]
    }
   ],
   "source": [
    "# OK - KRY must be \"the\"\n",
    "import string\n",
    "\n",
    "# A simple translation method.\n",
    "# text: The text to translate, in upper case\n",
    "# key: A substitution alphabet, usually in lower case so that the translated characters show up\n",
    "def decode(text, key):\n",
    "    table = str.maketrans(string.ascii_uppercase, key)\n",
    "    print(text.upper().translate(table))\n",
    "\n",
    "decode(message4b, \"ABCDEFGHIJtLMNOPQhSTUVWXeZ\")"
   ]
  },
  {
   "cell_type": "code",
   "execution_count": 6,
   "metadata": {},
   "outputs": [
    {
     "name": "stdout",
     "output_type": "stream",
     "text": [
      "WiIst meetinT DW die alchemisten cDmmittee, IeichseIQiehLnTsministeIiLm, tNentP ninth aFIil nineteen thiItP nine\n",
      "the cDmmittee Nas IecDnMened EP the ministeI at the IeGLest DW the chancellDI himselW.\n",
      "it is tasXed Nith IealisinT the militaIP and indLstIial FIDmise DW nLcleaI eneITP.\n",
      "the cDmmittee IecDTnises the technical challenTes inMDlMed in indLstIialisinT the FIDcesses hitheItD cDndLcted LndeI laEDIatDIP cDnditiDns, ELt Weels that the DEstacles can Ee DMeIcDme EP a cDmEinatiDn DW scientiWic and enTineeIinT eOcellence alIeadP FDssessed EP the state.\n",
      "the cDmmittee identiWied that the FIinciFle issLe is that DW cDntIDllinT the nLcleaI IeactiDn Nhich is mediated EP the eneITP DW WIee neLtIDns. these need tD Ee slDNed tD eWWectiMelP haIness theiI FDNeI, and tD this end the cDmmittee IecDmmends the acGLisitiDn DW a sLitaEle mDdeIatDI.\n",
      "the Eest-XnDNn candidate is deLteIiLm and the Eest sDLIce DW this mateIial is the FDNeI Flant at MemDIX in nDINaP. the tIDnstad and EILn electIDlPtic FIDcess at that WacilitP is FIDdLcinT DMeI tNentP XilDTIams DW heaMP NateI FeI PeaI, and this cDLld easilP Ee scaled LF.\n",
      "since Ne dD nDt Nant tD aleIt DLI enemies tD the imFDItance DW the mateIial the cDmmittee IecDmmends FlacinT an initial DIdeI WDI WiMe litIes DW heaMP NateI thIDLTh DLI DNn dPe indLstIP sPndicate cDIFDIatiDn Nhich, EP haFFP accident, DNns a GLaIteI DW the shaIes in the MemDIX Flant.\n"
     ]
    }
   ],
   "source": [
    "# \"VSe HZAheBSJteC\" = \"Die Alchemisten\" -> V=d, S=i, H=a, Z=l, A=c, B=m, J=s, C=n\n",
    "decode(message4b, \"cmnDEFGaIstLMNOPQhiTUdWXel\")"
   ]
  },
  {
   "cell_type": "code",
   "execution_count": 8,
   "metadata": {},
   "outputs": [
    {
     "name": "stdout",
     "output_type": "stream",
     "text": [
      "first meetinT of die alchemisten committee, reichserQiehunTsministerium, tNenty ninth april nineteen thirty nine\n",
      "the committee Nas reconMened Ey the minister at the request of the chancellor himself.\n",
      "it is tasXed Nith realisinT the military and industrial promise of nuclear enerTy.\n",
      "the committee recoTnises the technical challenTes inMolMed in industrialisinT the processes hitherto conducted under laEoratory conditions, Eut feels that the oEstacles can Ee oMercome Ey a comEination of scientific and enTineerinT excellence already possessed Ey the state.\n",
      "the committee identified that the principle issue is that of controllinT the nuclear reaction Nhich is mediated Ey the enerTy of free neutrons. these need to Ee sloNed to effectiMely harness their poNer, and to this end the committee recommends the acquisition of a suitaEle moderator.\n",
      "the Eest-XnoNn candidate is deuterium and the Eest source of this material is the poNer plant at MemorX in norNay. the tronstad and Erun electrolytic process at that facility is producinT oMer tNenty XiloTrams of heaMy Nater per year, and this could easily Ee scaled up.\n",
      "since Ne do not Nant to alert our enemies to the importance of the material the committee recommends placinT an initial order for fiMe litres of heaMy Nater throuTh our oNn dye industry syndicate corporation Nhich, Ey happy accident, oNns a quarter of the shares in the MemorX plant.\n"
     ]
    }
   ],
   "source": [
    "# \"cDmmittee Nas\" -> D=o, N=h\n",
    "# \"the ministeI at the IeGLest DW the chancellDI himselW\", I=r, G=q, L=u, D=o, W=f\n",
    "# \"eOcellence alIeadP FDssessed\" -> O=x, P=y, F=p\n",
    "decode(message4b, \"cmnoEpqarstuMNxyQhiTUdfXel\")"
   ]
  },
  {
   "cell_type": "code",
   "execution_count": 9,
   "metadata": {},
   "outputs": [
    {
     "name": "stdout",
     "output_type": "stream",
     "text": [
      "first meeting of die alchemisten committee, reichserziehungsministerium, twenty ninth april nineteen thirty nine\n",
      "the committee was reconvened by the minister at the request of the chancellor himself.\n",
      "it is tasked with realising the military and industrial promise of nuclear energy.\n",
      "the committee recognises the technical challenges involved in industrialising the processes hitherto conducted under laboratory conditions, but feels that the obstacles can be overcome by a combination of scientific and engineering excellence already possessed by the state.\n",
      "the committee identified that the principle issue is that of controlling the nuclear reaction which is mediated by the energy of free neutrons. these need to be slowed to effectively harness their power, and to this end the committee recommends the acquisition of a suitable moderator.\n",
      "the best-known candidate is deuterium and the best source of this material is the power plant at vemork in norway. the tronstad and brun electrolytic process at that facility is producing over twenty kilograms of heavy water per year, and this could easily be scaled up.\n",
      "since we do not want to alert our enemies to the importance of the material the committee recommends placing an initial order for five litres of heavy water through our own dye industry syndicate corporation which, by happy accident, owns a quarter of the shares in the vemork plant.\n"
     ]
    }
   ],
   "source": [
    "# \"meetinT\" -> T=g\n",
    "# \"tNenty\" -> N=w\n",
    "# \"reconMened Ey\" -> M=v, E=b\n",
    "# \"tasXed\" -> X=k\n",
    "# I'll guess that the Q in that long German word is \"z\", which leaves U=j\n",
    "decode(message4b, \"cmnobpqarstuvwxyzhigjdfkel\")"
   ]
  },
  {
   "cell_type": "code",
   "execution_count": 10,
   "metadata": {},
   "outputs": [
    {
     "name": "stdout",
     "output_type": "stream",
     "text": [
      "Decoded alphabet: heavywtrsuxzbcdfgijklmnopq\n",
      "Keyword: heavywtr\n"
     ]
    }
   ],
   "source": [
    "# Try to work out the keyword with my new function:\n",
    "# Attempts to determine the keyword used for a substition cipher\n",
    "# alphabet: The substitution alphabet\n",
    "def decode_key(alphabet):\n",
    "    decoded_alphabet = \"\"\n",
    "    for letter in string.ascii_lowercase:\n",
    "        decoded_alphabet += chr(alphabet.find(letter) + ord(\"a\"))\n",
    "    print(f\"Decoded alphabet: {decoded_alphabet}\")\n",
    "    \n",
    "    remaining_letters = list(string.ascii_lowercase)\n",
    "    for pos, letter in enumerate(decoded_alphabet):\n",
    "        remaining_letters.remove(letter)\n",
    "        next_letter_index = remaining_letters.index(decoded_alphabet[pos+1])\n",
    "        if decoded_alphabet[pos+1:] == \"\".join(remaining_letters[next_letter_index:] + remaining_letters[:next_letter_index]):\n",
    "            print(f\"Keyword: {decoded_alphabet[:pos+2]}\")\n",
    "            break\n",
    "\n",
    "decode_key(\"cmnobpqarstuvwxyzhigjdfkel\")"
   ]
  },
  {
   "cell_type": "markdown",
   "metadata": {},
   "source": [
    "\"Heavy Water\""
   ]
  }
 ],
 "metadata": {
  "kernelspec": {
   "display_name": "Python 3",
   "language": "python",
   "name": "python3"
  },
  "language_info": {
   "codemirror_mode": {
    "name": "ipython",
    "version": 3
   },
   "file_extension": ".py",
   "mimetype": "text/x-python",
   "name": "python",
   "nbconvert_exporter": "python",
   "pygments_lexer": "ipython3",
   "version": "3.8.0"
  }
 },
 "nbformat": 4,
 "nbformat_minor": 4
}
