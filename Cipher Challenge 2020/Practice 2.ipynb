{
 "cells": [
  {
   "cell_type": "markdown",
   "metadata": {},
   "source": [
    "# 2020 Coronavirus distraction challenge 2020\n",
    "## Practice 2\n",
    "Challenge link https://www.cipherchallenge.org/challenge/practice-challenge-2/"
   ]
  },
  {
   "cell_type": "code",
   "execution_count": 5,
   "metadata": {},
   "outputs": [],
   "source": [
    "message2a=\"BDGP G DUIHR LIOM XHYS NDU LHGNGKD SGPGNIHC INNIODU KNYB DU KIGR NDIN NDU VQSLUH PYYMK PGMU NDU XYHSIN QKUR LC NDU BINUVN YXXGOU KNYB DU KQAAUKNUR NDIN NDU RYOQSUVN SGADN DITU LUUV I RUKGAV RHIWGVA XYH IV GVTUVNGYV KNYB YVU YX YQH XGUPR IAUVNK NHGUR NY XGVR YQN WDGOD YVU LQN NDU VQSLUHK PYYMUR WHYVA KNYB BINUVN VQSLUHK KNIHNGVA AL UGADN DITU VYN LUUV GKKQUR CUN KNYB NDU IAUVN DIR VYN KUUV NDU BDYNY CYQ KUVN LQN KDU KDYWUR GVGNGINGTU IVR NHGUR KYSU YNDUH VQSLUHK KNYB AL-KGZ-NDHUU-FUHY-KUTUV-NWY-KGZ-I WIK NDU SYKN BHYSGKGVA KNYB ODUOMUR WGND YQH UZBUHNK IVR NDUC WUHU OYVXQKUR KNYB IOOYHRGVA NY OYOMOHYXN NDU GVTUVNGYV GK GSBHIONGOIP KNYB KYSUYVU BYGVNUR YQN NDIN GN XGNK WGND NDU VISU RGU IPODUSGKNUV KNYB KUU INNIODUR KNYB WGPP GVTUKNGAINU XQHNDUH KNYB VUZN OYSSQVGOINGYV GV KUTUV RICK KNYB\"\n",
    "\n",
    "message2b=\"GLKKF, J RGXRPXU BTQ QGX ELQXYQ FBT LNPXU VX LOBTQ. J QGJYP JQ VJDGQ OX KXSLQXU QB L SXRQTKX RBRPRKBAQ UXSJWXKXU LQ QGX JYNQJQTQX BA XSXRQKJRLS XYDJYXXKN BY LEKJS QZXYQF QGJKU YJYXQXXY QGJKQF NJC. QGX QBEJR ZLN \\\"QGX QKLYNVTQLQJBY BA VLQQXK OF GJDG XYXKDF ELKQJRSXN LYU KLUJLQJBYN\\\". DJWXY QGX SLOXS BY QGX GJYUXYOTKD XYWXSBEX J QGJYP QGX ABSSBZJYD XCQKLRQ JN ELKQJRTSLKSF JYQXKXNQJYD: \\\"JY QGX RLNX BA YTRSXLK QKLYNVTQLQJBYN, JQ NXXVN QGLQ QGX SBNN BA VLNN JN EKXRJNXSF XHTLS QB QGX JYRKXLNX JY QGX PJYXQJR XYXKDF QGLQ GLN QLPXY ESLRX. QGJN DJWXN L NQKJPJYD EKBBA BA QGX VBUXKY EGFNJRLS SLZ QGLQ VLNN LYU XYXKDF LKX XHTJWLSXYQ. JY YJYXQXXY QGJKQF QZB RGLUZJRP UJNRBWXKXU QGX YXTQKBY, L YXZ QFEX BA LQBVJR ELKQJRSX ZGJRG GLN YB XSXRQKJR RGLKDX. JQ UBXN YBQ QGXKXABKX JYQXKLRQ ZJQG BQGXK XSXRQKBYN LYU EKBUTRXN YB JBYJNLQJBY ZGXY ELNNJYD QGKBTDG L DLN. JQ JN BA BTQNQLYUJYD JVEBKQLYRX OXRLTNX BA JQN EBZXK QB EKBUTRX QKLYNVTQLQJBYN. QGXKX JN SJQQSX GBEX QGLQ QGJN EKBRXNN RLY OX TNXU BY LY XYDJYXXKJYD NRLSX QB RBYWXKQ VLNN JYQB XYXKDF. NB ALK, BTK SLOBKLQBKF XCEXKJVXYQN EKBUTRX QGX RBYWXKNX KXNTSQ. QGXBKF JYUJRLQXN QGLQ LQ QXVEXKLQTKXN XHTLS QB QGBNX BA QGX JYQXKJBK BA QGX NTY BK NQLKN, JQ VJDGQ OX EBNNJOSX QB RBYWXKQ QGX JYXCEXYNJWX NJVESX XSXVXYQN QB QGX VBKX WLSTLOSX GXLWJXK RBVOJYLQJBYN, OTQ EKLRQJRLSSF, QGXKX JN YB VXQGBU BA EKBUTRJYD QGX XAAXRQN ABKVXKSF LQQKJOTQXU QB QGX 'EGJSBNBEGXK'N NQBYX'.\\\"\""
   ]
  },
  {
   "cell_type": "code",
   "execution_count": 3,
   "metadata": {},
   "outputs": [],
   "source": [
    "# Let's import my frequency analysis tool...\n",
    "from collections import Counter\n",
    "\n",
    "# Takes a string or list of items and counts the frequencies of those items\n",
    "# data: The list or string to analyse\n",
    "# max_values: The maximum number of values to display (set to None for no limit)\n",
    "# no_columns: The amount of columns to use in the output\n",
    "def frequency_analysis(data, max_values=30, no_columns=5):\n",
    "    frequencies = Counter()\n",
    "    for item in data:\n",
    "        frequencies[item] += 1\n",
    "    \n",
    "    total = sum(frequencies.values())\n",
    "    column = 1\n",
    "    for item, frequency in frequencies.most_common(max_values):\n",
    "        print(f\"{item}: {frequency:2} ({frequency / total:.2%})\", end=\" \" if column % no_columns else \"\\n\")\n",
    "        column += 1\n",
    "    print(\"\\n-----\")"
   ]
  },
  {
   "cell_type": "code",
   "execution_count": 5,
   "metadata": {},
   "outputs": [
    {
     "name": "stdout",
     "output_type": "stream",
     "text": [
      "N: 85 (12.98%) U: 84 (12.82%) Y: 55 (8.40%) G: 49 (7.48%) K: 48 (7.33%)\n",
      "V: 46 (7.02%) D: 39 (5.95%) I: 36 (5.50%) H: 28 (4.27%) R: 24 (3.66%)\n",
      "B: 21 (3.21%) O: 19 (2.90%) S: 18 (2.75%) Q: 18 (2.75%) A: 15 (2.29%)\n",
      "L: 13 (1.98%) X: 12 (1.83%) P: 10 (1.53%) W: 10 (1.53%) T:  8 (1.22%)\n",
      "M:  6 (0.92%) C:  6 (0.92%) Z:  4 (0.61%) F:  1 (0.15%) \n",
      "-----\n"
     ]
    }
   ],
   "source": [
    "# And run it on message A (after stripping out the non-alphabetical characters):\n",
    "frequency_analysis(\"\".join([c for c in message2a if c.isalpha()]))"
   ]
  },
  {
   "cell_type": "code",
   "execution_count": 7,
   "metadata": {},
   "outputs": [
    {
     "name": "stdout",
     "output_type": "stream",
     "text": [
      "BhGP G heIHR LIOM XHYS the LHGtGKh SGPGtIHC IttIOhe KtYB he KIGR thIt the VQSLeH PYYMK PGMe the XYHSIt QKeR LC the BIteVt YXXGOe KtYB he KQAAeKteR thIt the RYOQSeVt SGAht hITe LeeV I ReKGAV RHIWGVA XYH IV GVTeVtGYV KtYB YVe YX YQH XGePR IAeVtK tHGeR tY XGVR YQt WhGOh YVe LQt the VQSLeHK PYYMeR WHYVA KtYB BIteVt VQSLeHK KtIHtGVA AL eGAht hITe VYt LeeV GKKQeR Cet KtYB the IAeVt hIR VYt KeeV the BhYtY CYQ KeVt LQt Khe KhYWeR GVGtGItGTe IVR tHGeR KYSe YtheH VQSLeHK KtYB AL-KGZ-thHee-FeHY-KeTeV-tWY-KGZ-I WIK the SYKt BHYSGKGVA KtYB OheOMeR WGth YQH eZBeHtK IVR theC WeHe OYVXQKeR KtYB IOOYHRGVA tY OYOMOHYXt the GVTeVtGYV GK GSBHIOtGOIP KtYB KYSeYVe BYGVteR YQt thIt Gt XGtK WGth the VISe RGe IPOheSGKteV KtYB Kee IttIOheR KtYB WGPP GVTeKtGAIte XQHtheH KtYB VeZt OYSSQVGOItGYV GV KeTeV RICK KtYB\n"
     ]
    }
   ],
   "source": [
    "# OK - The distribution is not ideal, but there are lots of \"NDU\" in the text, so let's assume that's \"THE\"\n",
    "# Bring in the decode tool...\n",
    "import string\n",
    "\n",
    "# A simple translation method.\n",
    "# text: The text to translate, in upper case\n",
    "# key: A substitution alphabet, usually in lower case so that the translated characters show up\n",
    "def decode(text, key):\n",
    "    table = str.maketrans(string.ascii_uppercase, key)\n",
    "    print(text.upper().translate(table))\n",
    "    \n",
    "# And try it...\n",
    "decode(message2a, \"ABChEFGHIJKLMtOPQRSTeVWXYZ\")"
   ]
  },
  {
   "cell_type": "code",
   "execution_count": 9,
   "metadata": {},
   "outputs": [
    {
     "name": "stdout",
     "output_type": "stream",
     "text": [
      "BhGP G hearR LaOM XrYS the LrGtGsh SGPGtarC attaOhe stYB he saGR that the nQSLer PYYMs PGMe the XYrSat QseR LC the Batent YXXGOe stYB he sQAAesteR that the RYOQSent SGAht have Leen a ResGAn RraWGnA XYr an GnventGYn stYB Yne YX YQr XGePR aAents trGeR tY XGnR YQt WhGOh Yne LQt the nQSLers PYYMeR WrYnA stYB Batent nQSLers startGnA AL eGAht have nYt Leen GssQeR Cet stYB the aAent haR nYt seen the BhYtY CYQ sent LQt she shYWeR GnGtGatGve anR trGeR sYSe Yther nQSLers stYB AL-sGZ-three-FerY-seven-tWY-sGZ-a Was the SYst BrYSGsGnA stYB OheOMeR WGth YQr eZBerts anR theC Were OYnXQseR stYB aOOYrRGnA tY OYOMOrYXt the GnventGYn Gs GSBraOtGOaP stYB sYSeYne BYGnteR YQt that Gt XGts WGth the naSe RGe aPOheSGsten stYB see attaOheR stYB WGPP GnvestGAate XQrther stYB neZt OYSSQnGOatGYn Gn seven RaCs stYB\n"
     ]
    }
   ],
   "source": [
    "# \"thIt the\" -> I=a?\n",
    "# \"Khe\", \"Kee\" -> K=s?\n",
    "# \"AL-KGZ-thHee-FeHY-KeTeV-tWY-KGZ-I\" - Looks like a combination -> H=r, T=v, V=n\n",
    "decode(message2a, \"ABChEFGraJsLMtOPQRSvenWXYZ\")"
   ]
  },
  {
   "cell_type": "code",
   "execution_count": 10,
   "metadata": {},
   "outputs": [
    {
     "name": "stdout",
     "output_type": "stream",
     "text": [
      "phiP i heard bacM XrYS the british SiPitarC attache stYp he said that the nQSber PYYMs PiMe the XYrSat Qsed bC the patent YXXice stYp he sQggested that the dYcQSent Sight have been a design draWing XYr an inventiYn stYp Yne YX YQr XiePd agents tried tY Xind YQt Which Yne bQt the nQSbers PYYMed WrYng stYp patent nQSbers starting gb eight have nYt been issQed Cet stYp the agent had nYt seen the phYtY CYQ sent bQt she shYWed initiative and tried sYSe Yther nQSbers stYp gb-siZ-three-FerY-seven-tWY-siZ-a Was the SYst prYSising stYp checMed With YQr eZperts and theC Were cYnXQsed stYp accYrding tY cYcMcrYXt the inventiYn is iSpracticaP stYp sYSeYne pYinted YQt that it Xits With the naSe die aPcheSisten stYp see attached stYp WiPP investigate XQrther stYp neZt cYSSQnicatiYn in seven daCs stYp\n"
     ]
    }
   ],
   "source": [
    "# Looking good...\n",
    "# \"hearR\" -> R=d\n",
    "# \"attaOhe\" -> O=c\n",
    "# \"Leen\" -> L=b\n",
    "# \"Batent\" -> B=p\n",
    "# \"startGnA\" -> G=i, A=g\n",
    "decode(message2a, \"gpChEFiraJsbMtcPQdSvenWXYZ\")"
   ]
  },
  {
   "cell_type": "code",
   "execution_count": 12,
   "metadata": {},
   "outputs": [
    {
     "name": "stdout",
     "output_type": "stream",
     "text": [
      "phil i heard back from the british military attache stop he said that the number looks like the format used by the patent office stop he suggested that the document might have been a design draWing for an invention stop one of our field agents tried to find out Which one but the numbers looked Wrong stop patent numbers starting gb eight have not been issued yet stop the agent had not seen the photo you sent but she shoWed initiative and tried some other numbers stop gb-siZ-three-Fero-seven-tWo-siZ-a Was the most promising stop checked With our eZperts and they Were confused stop according to cockcroft the invention is impractical stop someone pointed out that it fits With the name die alchemisten stop see attached stop Will investigate further stop neZt communication in seven days stop\n"
     ]
    }
   ],
   "source": [
    "# \"phiP i heard bacM XrYS the british SiPitarC\" -> P=l, M=k, X=f, Y=o, S=m,  C=y\n",
    "# \"issQed\" -> Q=u\n",
    "decode(message2a, \"gpyhEFiraJsbktcludmvenWfoZ\")"
   ]
  },
  {
   "cell_type": "code",
   "execution_count": 13,
   "metadata": {},
   "outputs": [
    {
     "name": "stdout",
     "output_type": "stream",
     "text": [
      "phil i heard back from the british military attache stop he said that the number looks like the format used by the patent office stop he suggested that the document might have been a design drawing for an invention stop one of our field agents tried to find out which one but the numbers looked wrong stop patent numbers starting gb eight have not been issued yet stop the agent had not seen the photo you sent but she showed initiative and tried some other numbers stop gb-six-three-zero-seven-two-six-a was the most promising stop checked with our experts and they were confused stop according to cockcroft the invention is impractical stop someone pointed out that it fits with the name die alchemisten stop see attached stop will investigate further stop next communication in seven days stop\n"
     ]
    }
   ],
   "source": [
    "# Nearly there...\n",
    "# \"draWing\" -> W=w!\n",
    "# \"gb-siZ-three-Fero-seven-tWo-siZ-a\" -> Z=x, F=z\n",
    "decode(message2a, \"gpyhEziraJsbktcludmvenwfox\")"
   ]
  },
  {
   "cell_type": "markdown",
   "metadata": {},
   "source": [
    "### Postscript\n",
    "\n",
    "Looks like the letter sequence is going in steps of three, starting from position 9.\n",
    "On the page for part A, you can decrypt it by setting A to 3 and B to 8 (it starts from 0)\n",
    "\n",
    "The reason the frequency analysis was a bit weird was because the telegram message had a lot of \"STOP\"s in it."
   ]
  },
  {
   "cell_type": "markdown",
   "metadata": {},
   "source": [
    "## Part B"
   ]
  },
  {
   "cell_type": "code",
   "execution_count": 6,
   "metadata": {},
   "outputs": [
    {
     "name": "stdout",
     "output_type": "stream",
     "text": [
      "X: 156 (13.55%) Q: 140 (12.16%) J: 92 (7.99%) B: 84 (7.30%) Y: 83 (7.21%)\n",
      "L: 79 (6.86%) K: 78 (6.78%) N: 73 (6.34%) G: 61 (5.30%) R: 47 (4.08%)\n",
      "S: 40 (3.48%) T: 30 (2.61%) E: 29 (2.52%) U: 25 (2.17%) V: 22 (1.91%)\n",
      "D: 22 (1.91%) A: 19 (1.65%) F: 18 (1.56%) O: 14 (1.22%) W: 12 (1.04%)\n",
      "Z: 11 (0.96%) P:  9 (0.78%) C:  4 (0.35%) H:  3 (0.26%) \n",
      "-----\n"
     ]
    }
   ],
   "source": [
    "# Analyse the frequencies of the letters\n",
    "frequency_analysis(\"\".join([c for c in message2b if c.isalpha()]))"
   ]
  },
  {
   "cell_type": "code",
   "execution_count": 8,
   "metadata": {},
   "outputs": [
    {
     "name": "stdout",
     "output_type": "stream",
     "text": [
      "harry, J RheRPeU BTt the EateYt yBT aNPeU Ve aOBTt. J thJYP Jt VJDht Oe reSateU tB a SeRtTre RBRPRrBAt UeSJWereU at the JYNtJtTte BA eSeRtrJRaS eYDJYeerN BY aErJS tZeYty thJrU YJYeteeY thJrty NJC. the tBEJR ZaN \"the traYNVTtatJBY BA Vatter Oy hJDh eYerDy EartJRSeN aYU raUJatJBYN\". DJWeY the SaOeS BY the hJYUeYOTrD eYWeSBEe J thJYP the ABSSBZJYD eCtraRt JN EartJRTSarSy JYtereNtJYD: \"JY the RaNe BA YTRSear traYNVTtatJBYN, Jt NeeVN that the SBNN BA VaNN JN EreRJNeSy eHTaS tB the JYRreaNe JY the PJYetJR eYerDy that haN taPeY ESaRe. thJN DJWeN a NtrJPJYD ErBBA BA the VBUerY EhyNJRaS SaZ that VaNN aYU eYerDy are eHTJWaSeYt. JY YJYeteeY thJrty tZB RhaUZJRP UJNRBWereU the YeTtrBY, a YeZ tyEe BA atBVJR EartJRSe ZhJRh haN YB eSeRtrJR RharDe. Jt UBeN YBt thereABre JYteraRt ZJth Bther eSeRtrBYN aYU ErBUTReN YB JBYJNatJBY ZheY EaNNJYD thrBTDh a DaN. Jt JN BA BTtNtaYUJYD JVEBrtaYRe OeRaTNe BA JtN EBZer tB ErBUTRe traYNVTtatJBYN. there JN SJttSe hBEe that thJN ErBReNN RaY Oe TNeU BY aY eYDJYeerJYD NRaSe tB RBYWert VaNN JYtB eYerDy. NB Aar, BTr SaOBratBry eCEerJVeYtN ErBUTRe the RBYWerNe reNTSt. theBry JYUJRateN that at teVEeratTreN eHTaS tB thBNe BA the JYterJBr BA the NTY Br NtarN, Jt VJDht Oe EBNNJOSe tB RBYWert the JYeCEeYNJWe NJVESe eSeVeYtN tB the VBre WaSTaOSe heaWJer RBVOJYatJBYN, OTt EraRtJRaSSy, there JN YB VethBU BA ErBUTRJYD the eAAeRtN ABrVerSy attrJOTteU tB the 'EhJSBNBEher'N NtBYe'.\"\n"
     ]
    }
   ],
   "source": [
    "# \"QGX\" -> Q=t, G=h, X=e\n",
    "# \"GLKKF\" is probably harry -> L=a, K=r, F=y\n",
    "decode(message2b, \"ABCDEyhHIJraMNOPtRSTUVWeYZ\")"
   ]
  },
  {
   "cell_type": "code",
   "execution_count": 12,
   "metadata": {},
   "outputs": [
    {
     "name": "stdout",
     "output_type": "stream",
     "text": [
      "harry, i checked out the patent you asked me about. i think it might be related to a lecture cockcroft delivered at the institute of electrical engineers on april twenty third nineteen thirty six. the topic was \"the transmutation of matter by high energy particles and radiations\". given the label on the hindenburg envelope i think the following extract is particularly interesting: \"in the case of nuclear transmutations, it seems that the loss of mass is precisely equal to the increase in the kinetic energy that has taken place. this gives a striking proof of the modern physical law that mass and energy are equivalent. in nineteen thirty two chadwick discovered the neutron, a new type of atomic particle which has no electric charge. it does not therefore interact with other electrons and produces no ionisation when passing through a gas. it is of outstanding importance because of its power to produce transmutations. there is little hope that this process can be used on an engineering scale to convert mass into energy. so far, our laboratory experiments produce the converse result. theory indicates that at temperatures equal to those of the interior of the sun or stars, it might be possible to convert the inexpensive simple elements to the more valuable heavier combinations, but practically, there is no method of producing the effects formerly attributed to the 'philosopher's stone'.\"\n"
     ]
    }
   ],
   "source": [
    "# Assuming this is another Affine cipher, can we work the alphabet out straight away?\n",
    "# There are 12 steps between \"a\" and \"e\", so maybe a step of 3 between each letter...?\n",
    "decode(message2b, \"foxgpyhqzirajsbktcludmvenw\")"
   ]
  },
  {
   "cell_type": "code",
   "execution_count": null,
   "metadata": {},
   "outputs": [],
   "source": []
  }
 ],
 "metadata": {
  "kernelspec": {
   "display_name": "Python 3",
   "language": "python",
   "name": "python3"
  },
  "language_info": {
   "codemirror_mode": {
    "name": "ipython",
    "version": 3
   },
   "file_extension": ".py",
   "mimetype": "text/x-python",
   "name": "python",
   "nbconvert_exporter": "python",
   "pygments_lexer": "ipython3",
   "version": "3.8.0"
  }
 },
 "nbformat": 4,
 "nbformat_minor": 4
}
