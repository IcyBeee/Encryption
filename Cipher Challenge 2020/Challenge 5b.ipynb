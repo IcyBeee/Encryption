{
 "cells": [
  {
   "cell_type": "markdown",
   "metadata": {},
   "source": [
    "# Coronavirus distraction Cipher Challenge 2020\n",
    "## Challenge 5b, Allier est Allez\n",
    "Challenge link https://www.cipherchallenge.org/challenge/competition-challenge-5/"
   ]
  },
  {
   "cell_type": "code",
   "execution_count": 2,
   "metadata": {},
   "outputs": [],
   "source": [
    "message5b=\"\"\"ynlsA assfi iosnl tgaia fcrft rmhfo nFece riMns hifro Atyem mnrao shwts Jhtat asqeA curle aliee brmme fhDot euime xeBra euiws nuaeo vdvlm noeis ghnit itpra moate rnWea gdrnv oaeth oiflh mdoea lwwde anheo srsbo etpvd arhsu cvtae erudc mlofn soetw Nraro vPeiy ryulA osrle hlird okawt dthea qBnue aadPr eesse Piday Bsase nrcad srsho dawht otohs rtisa iagnh ineto sdotl mrfos oNrHd okyrs aeshh atast npitt oiedn lahtt egoou psspn totii eahwh tbude oltii ivseg hhnte dolyr icrce ttlni pakRu anjnA etnge wrcse eagdh rfiho wtilw nloah mngio rprde oignt noimv hstmn seeeh liWiw Nrano uhpry eehsd caepc fsaar croaa ofrgo oudno ndhnr euldi oeksr mogai algnf otrmh fktch Soolt Aomrs edmtg moeat whrit eahps taeeg rsnei kttce upcSs tight nwtea ahnta ssrio tnprv Hayge raefW thote rmtln tpafe uthLe afwwf ssaka ttdih ewrne citnp igetl hfite nhadg treie rdgtn tciae lnhpa tHmeo Ougub rnaet rgrba dsotd thein radee cerhs abdtu eirte ethoa nswsf gotin reagh cAadl onsir nleam wsaei isnms mfotg rneai hmFet ufsrt eerhr qiinu Ssnte iochl okwso emhtt ahdhm hdiea tsdhs egfih elwbt etudo lfcuo nntid oaefr cniit hmtei yhcgu aeOrt tatns reifh arede ileot dprah tntal ApaRF deaan hervd rienl fadua ontrs teadh meiem teshp atnse gasrr iceab aturf enrct oersx odhss oitti ghwnp proeu tefhs ostii avsIi pttbs ilost taAeh rleul iteit sdvla eoeao wyNre uwdbt kntno oawht owoag icrha yefnw okito mhiOt hergn uaRsn jtibk nruan kitoe Nteoo hysHd rkmod irari tansa innto nfudd oorcr aewso idhag htntl hpate dtahn hslat edfco aokdo norun eudnh neadr dtihy eggio rklfm oDasr ueiet tmutu beewr hybua lenat gieoe acsnc httes oatrg sotui sendn reioe tdtro nriee muomc hwrws ehado ebmvi Aleyl niayr f\"\"\""
   ]
  },
  {
   "cell_type": "code",
   "execution_count": 3,
   "metadata": {},
   "outputs": [
    {
     "name": "stdout",
     "output_type": "stream",
     "text": [
      "E: 148 (10.68%) T: 133 (9.60%) A: 124 (8.95%) O: 104 (7.50%) R: 100 (7.22%)\n",
      "I: 94 (6.78%) N: 93 (6.71%) H: 87 (6.28%) S: 86 (6.20%) D: 62 (4.47%)\n",
      "L: 44 (3.17%) U: 40 (2.89%) M: 38 (2.74%) F: 37 (2.67%) G: 36 (2.60%)\n",
      "W: 34 (2.45%) C: 31 (2.24%) P: 25 (1.80%) Y: 17 (1.23%) B: 17 (1.23%)\n",
      "K: 15 (1.08%) V: 13 (0.94%) J:  3 (0.22%) Q:  3 (0.22%) X:  2 (0.14%)\n",
      "\n",
      "-----\n"
     ]
    }
   ],
   "source": [
    "from collections import Counter\n",
    "\n",
    "# Takes a string or list of items and counts the frequencies of those items\n",
    "# data: The list or string to analyse\n",
    "# max_values: The maximum number of values to display (set to None for no limit)\n",
    "# no_columns: The amount of columns to use in the output\n",
    "def frequency_analysis(data, max_values=30, no_columns=5):\n",
    "    frequencies = Counter()\n",
    "    for item in data:\n",
    "        frequencies[item] += 1\n",
    "    \n",
    "    total = sum(frequencies.values())\n",
    "    column = 1\n",
    "    for item, frequency in frequencies.most_common(max_values):\n",
    "        print(f\"{item}: {frequency:2} ({frequency / total:.2%})\", end=\" \" if column % no_columns else \"\\n\")\n",
    "        column += 1\n",
    "    print(\"\\n-----\")\n",
    "    \n",
    "frequency_analysis(message5b.upper().replace(\" \", \"\"))"
   ]
  },
  {
   "cell_type": "code",
   "execution_count": 14,
   "metadata": {},
   "outputs": [
    {
     "name": "stdout",
     "output_type": "stream",
     "text": [
      "length = 1386\n",
      "2 3 6 7 9 11 14 18 21 22 33 42 63 66 77 99 126 154 198 231 462 693 "
     ]
    }
   ],
   "source": [
    "# OK - this set of frequencies looks like normal English, so what we have here is propably some sort of transposition.\n",
    "# How long is the text, and what are the even divisors of that number?\n",
    "squished = message5b.replace(\" \", \"\")\n",
    "length = len(squished)\n",
    "print(\"length = \" + str(length))\n",
    "\n",
    "for n in range(2, length):\n",
    "    if length % n == 0:\n",
    "        print(n, end=\" \")"
   ]
  },
  {
   "cell_type": "code",
   "execution_count": 15,
   "metadata": {},
   "outputs": [
    {
     "name": "stdout",
     "output_type": "stream",
     "text": [
      "ynlsAa\n",
      "ssfiio\n",
      "snltga\n",
      "iafcrf\n",
      "trmhfo\n",
      "nFecer\n",
      "iMnshi\n",
      "froAty\n",
      "emmnra\n",
      "oshwts\n"
     ]
    }
   ],
   "source": [
    "# Looking at the beginning of the text, I can see what looks like an anagram of \"Analysis of\"\n",
    "# The capital \"A\" is in the fifth column, so the transposition must be based on blocks of at least 6.\n",
    "# Let's put the first section of the text into columns of 6:\n",
    "\n",
    "for n in range(0, 60, 6):\n",
    "    print(squished[n:n+6])"
   ]
  },
  {
   "cell_type": "code",
   "execution_count": 16,
   "metadata": {},
   "outputs": [
    {
     "name": "stdout",
     "output_type": "stream",
     "text": [
      "AnalysisofsignalstrafficfromtheFrenchMinistryofArmamentsshowthatJacquesAllieramemberoftheDeuxiemeBureauwasinvolvedinsomethingimportantWearrangedtohavehimfollowedandhewasobservedtopurchasetraveldocumentsforNorwayPreviouslyAllierhadworkedattheBanquedeParisdesPaysBasandrecordsshowthatthisorganisationheldmostofNorskHydrossharesatthatpointleadingtothesuppositionthathewouldbevisitingthehydroelectricplantinRjukanAgentswerechargedwithfollowinghimandreportingonhismovementsWhileinNorwayhepurchasedspaceforacargoofaroundonehundredkilogramsonaflightfromStockholmtoAmsterdamtogetherwithapassengerticketSuspectingthathewastransportingHeavyWaterfromtheplanttheLuftwaffewastaskedwithinterceptingtheflightandredirectingtheplanetoHamburgOuragentsboardeditthereandsearcheditbuttherewasnosignofthecargoandAlliersnamewasmissingfromthemanifestFurtherenquiriesinStockholmshowedthathehadmissedtheflightbutwecouldfindnotraceofhiminthecityOuragentsattheairfieldreportedthatanRAFplanehadarrivedandleftaroundthesametimeasthepassengeraircraftbutnorecordsexistshowingthepurposeofthatvisitItispossiblethatAllierusedittoleaveNorwaybutwedonotknowwhatcargoifanyhetookwithhimOuragentsinRjukanbrokeintotheNorskHydroadministrationandfoundarecordshowingthattheplanthadheldastockofaroundonehundredandeightykilogramsofDeuteriumbuttheywereunabletogainaccesstothestorageunitsinordertodeterminehowmuchwasremovedbyAllierifany"
     ]
    }
   ],
   "source": [
    "# That looks good - if we rearrange row 1 to be \"Analys\", then arranging the second row the same way gives \"isofsi\"\n",
    "# So the first two words are \"Analysis of\"\n",
    "# Do the whole message in blocks of 6 rearranged in that order:\n",
    "\n",
    "for index in range(0, len(squished), 6):\n",
    "    print(\"\".join([squished[index+n] for n in (4,1,5,2,0,3)]), end=\"\")"
   ]
  },
  {
   "cell_type": "markdown",
   "metadata": {},
   "source": [
    "### Edited for clarity\n",
    "\n",
    "Analysis of signals traffic from the French Ministry of Armaments show that Jacques Allier, a member of the Deuxieme Bureau, was involved in something important. We arranged to have him followed and he was observed to purchase travel documents for Norway. Previously, Allier had worked at the Banque de Paris des Pays Bas and records show that this organisation held most of Norsk Hydro's shares at that point, leading to the supposition that he would be visiting the hydroelectric plant in Rjukan. Agents were charged with following him and reporting on his movements.\n",
    "While in Norway, he purchased space for a cargo of around one hundred kilograms on a flight from Stockholm to Amsterdam, together with a passenger ticket. Suspecting that he was transporting Heavy Water from the plant, the Luftwaffe was tasked with intercepting the flight and redirecting the plane to Hamburg. Our agents boarded it there and searched it, but there was no sign of the cargo and Allier's name was missing from the manifest. Further enquiries in Stockholm showed that he had missed the flight, but we could find no trace of him in the city.\n",
    "Our agents at the airfield reported that an RAF plane had arrived and left around the same time as the passenger aircraft, but no records exist showing the purpose of that visit. It is possible that Allier used it to leave Norway, but we do not know what cargo, if any, he took with him.\n",
    "Our agents in Rjukan broke into the Norsk Hydro administration and found a record showing that the plant had held a stock of around one hundred and eighty kilograms of Deuterium, but they were unable to gain access to the storage units in order to determine how much was removed by Allier, if any."
   ]
  },
  {
   "cell_type": "code",
   "execution_count": null,
   "metadata": {},
   "outputs": [],
   "source": []
  }
 ],
 "metadata": {
  "kernelspec": {
   "display_name": "Python 3",
   "language": "python",
   "name": "python3"
  },
  "language_info": {
   "codemirror_mode": {
    "name": "ipython",
    "version": 3
   },
   "file_extension": ".py",
   "mimetype": "text/x-python",
   "name": "python",
   "nbconvert_exporter": "python",
   "pygments_lexer": "ipython3",
   "version": "3.8.0"
  }
 },
 "nbformat": 4,
 "nbformat_minor": 4
}
