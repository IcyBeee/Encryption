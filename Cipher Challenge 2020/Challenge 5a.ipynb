{
 "cells": [
  {
   "cell_type": "markdown",
   "metadata": {},
   "source": [
    "# Coronavirus distraction Cipher Challenge 2020\n",
    "## Challenge 5a, Stop! \n",
    "Challenge link https://www.cipherchallenge.org/challenge/competition-challenge-5/"
   ]
  },
  {
   "cell_type": "code",
   "execution_count": 1,
   "metadata": {},
   "outputs": [],
   "source": [
    "message5a=\"\"\"TCCRVCOWV PTLYDRB TSSORZ BCWX\n",
    "LWVCTLCB OV CNR AZRVLN UOVOBCZJ WA TZUTURVCB BTJ JWD HOSS ER CZTFRSSOVM CW VWZHTJ BCWX UOBBOWV CW CZTVBXWZC VWZBQ NJGZW BCWLQ WA NRTFJ HTCRZ CW T BTAR SWLTCOWV BCWX NTZZJ TBQRG UR CW WAARZ JWD WDZ BDXXWZC BCWX EWBB OVCRSSOMRVLR ZRXWZCB BDMMRBC CNTC CNR MRZUTV UOSOCTZJ TZR LSWBRSJ UWVOCWZOVM TSS EWTCB TVG ASOMNCB OV TVG WDC WA VWZHTJ BCWX BDMMRBC BXSOCCOVM LTZMW BCWX LOFOSOTV ASOMNCB TSBW ZOBQJ BCWX ZTA NTFR WAARZRG T XSTVR BCWX HOSS LWVCTLC JWD FOT CNR RUETBBJ BCWX WCNRZ LWUUDVOLTCOWV LNTVVRSB OVBRLDZR BCWX GW VWC ZRXSJ CW CNOB CRSRMZTU URBBTMR RVGB\"\"\""
   ]
  },
  {
   "cell_type": "code",
   "execution_count": 2,
   "metadata": {},
   "outputs": [
    {
     "name": "stdout",
     "output_type": "stream",
     "text": [
      "C: 53 (10.84%) W: 51 (10.43%) B: 45 (9.20%) T: 40 (8.18%) R: 40 (8.18%)\n",
      "V: 33 (6.75%) O: 31 (6.34%) Z: 31 (6.34%) S: 25 (5.11%) X: 17 (3.48%)\n",
      "L: 16 (3.27%) J: 15 (3.07%) N: 14 (2.86%) M: 14 (2.86%) U: 13 (2.66%)\n",
      "A: 12 (2.45%) D: 11 (2.25%) G:  7 (1.43%) H:  5 (1.02%) F:  5 (1.02%)\n",
      "E:  4 (0.82%) Q:  4 (0.82%) P:  1 (0.20%) Y:  1 (0.20%) \n",
      ":  1 (0.20%)\n",
      "\n",
      "-----\n"
     ]
    }
   ],
   "source": [
    "from collections import Counter\n",
    "\n",
    "# Takes a string or list of items and counts the frequencies of those items\n",
    "# data: The list or string to analyse\n",
    "# max_values: The maximum number of values to display (set to None for no limit)\n",
    "# no_columns: The amount of columns to use in the output\n",
    "def frequency_analysis(data, max_values=30, no_columns=5):\n",
    "    frequencies = Counter()\n",
    "    for item in data:\n",
    "        frequencies[item] += 1\n",
    "    \n",
    "    total = sum(frequencies.values())\n",
    "    column = 1\n",
    "    for item, frequency in frequencies.most_common(max_values):\n",
    "        print(f\"{item}: {frequency:2} ({frequency / total:.2%})\", end=\" \" if column % no_columns else \"\\n\")\n",
    "        column += 1\n",
    "    print(\"\\n-----\")\n",
    "    \n",
    "frequency_analysis(message5a.replace(\" \", \"\"))"
   ]
  },
  {
   "cell_type": "code",
   "execution_count": 5,
   "metadata": {},
   "outputs": [
    {
     "name": "stdout",
     "output_type": "stream",
     "text": [
      "BCWX: 10 (10.20%) CW:  5 (5.10%) CNR:  3 (3.06%) WA:  3 (3.06%) JWD:  3 (3.06%)\n",
      "OV:  2 (2.04%) HOSS:  2 (2.04%) VWZHTJ:  2 (2.04%) T:  2 (2.04%) BDMMRBC:  2 (2.04%)\n",
      "TVG:  2 (2.04%) ASOMNCB:  2 (2.04%) TCCRVCOWV:  1 (1.02%) PTLYDRB:  1 (1.02%) TSSORZ:  1 (1.02%)\n",
      "LWVCTLCB:  1 (1.02%) AZRVLN:  1 (1.02%) UOVOBCZJ:  1 (1.02%) TZUTURVCB:  1 (1.02%) BTJ:  1 (1.02%)\n",
      "ER:  1 (1.02%) CZTFRSSOVM:  1 (1.02%) UOBBOWV:  1 (1.02%) CZTVBXWZC:  1 (1.02%) VWZBQ:  1 (1.02%)\n",
      "NJGZW:  1 (1.02%) BCWLQ:  1 (1.02%) NRTFJ:  1 (1.02%) HTCRZ:  1 (1.02%) BTAR:  1 (1.02%)\n",
      "\n",
      "-----\n"
     ]
    }
   ],
   "source": [
    "frequency_analysis(message5a.split())"
   ]
  },
  {
   "cell_type": "code",
   "execution_count": 6,
   "metadata": {},
   "outputs": [
    {
     "name": "stdout",
     "output_type": "stream",
     "text": [
      "TtteVtOoV PTLYDes TSSOeZ stop\n",
      "LoVtTLts OV the AZeVLh UOVOstZJ oA TZUTUeVts sTJ JoD HOSS Ee tZTFeSSOVM to VoZHTJ stop UOssOoV to tZTVspoZt VoZsQ hJGZo stoLQ oA heTFJ HTteZ to T sTAe SoLTtOoV stop hTZZJ TsQeG Ue to oAAeZ JoD oDZ sDppoZt stop Eoss OVteSSOMeVLe ZepoZts sDMMest thTt the MeZUTV UOSOtTZJ TZe LSoseSJ UoVOtoZOVM TSS EoTts TVG ASOMhts OV TVG oDt oA VoZHTJ stop sDMMest spSOttOVM LTZMo stop LOFOSOTV ASOMhts TSso ZOsQJ stop ZTA hTFe oAAeZeG T pSTVe stop HOSS LoVtTLt JoD FOT the eUETssJ stop otheZ LoUUDVOLTtOoV LhTVVeSs OVseLDZe stop Go Vot ZepSJ to thOs teSeMZTU UessTMe eVGs\n"
     ]
    }
   ],
   "source": [
    "# OK - the title of the challenge is \"stop\" and there is a lot of ocurrences of \"BCWX\", so let's assume this is a telegram.\n",
    "# If \"BCWX\" is stop, then there's a good chance that \"CNR\" is \"the\"\n",
    "import string\n",
    "\n",
    "# A simple translation method.\n",
    "# text: The text to translate, in upper case\n",
    "# key: A substitution alphabet, usually in lower case so that the translated characters show up\n",
    "def decode(text, key):\n",
    "    table = str.maketrans(string.ascii_uppercase, key)\n",
    "    print(text.upper().translate(table))\n",
    "    \n",
    "\n",
    "decode(message5a, \"AstDEFGHIJKLMhOPQeSTUVopYZ\")"
   ]
  },
  {
   "cell_type": "code",
   "execution_count": 7,
   "metadata": {},
   "outputs": [
    {
     "name": "stdout",
     "output_type": "stream",
     "text": [
      "atteVtOoV PaLYDes aSSOer stop\n",
      "LoVtaLts OV the AreVLh UOVOstrJ oA arUaUeVts saJ JoD HOSS Ee traFeSSOVM to VorHaJ stop UOssOoV to traVsport Vorsk hJdro stoLk oA heaFJ Hater to a saAe SoLatOoV stop harrJ asked Ue to oAAer JoD oDr sDpport stop Eoss OVteSSOMeVLe reports sDMMest that the MerUaV UOSOtarJ are LSoseSJ UoVOtorOVM aSS Eoats aVd ASOMhts OV aVd oDt oA VorHaJ stop sDMMest spSOttOVM LarMo stop LOFOSOaV ASOMhts aSso rOskJ stop raA haFe oAAered a pSaVe stop HOSS LoVtaLt JoD FOa the eUEassJ stop other LoUUDVOLatOoV LhaVVeSs OVseLDre stop do Vot repSJ to thOs teSeMraU UessaMe eVds\n"
     ]
    }
   ],
   "source": [
    "# \"hTZZJ TsQeG Ue to\" - \"Harry asked me to\"? -> T=a, Z=r, Q=k, G=d, U=m\n",
    "decode(message5a, \"AstDEFdHIJKLMhOPkeSaUVopYr\")"
   ]
  },
  {
   "cell_type": "code",
   "execution_count": 8,
   "metadata": {},
   "outputs": [
    {
     "name": "stdout",
     "output_type": "stream",
     "text": [
      "attention PacYDes allier stop\n",
      "contacts in the french Uinistry of arUaUents say yoD will Ee travellinM to norway stop Uission to transport norsk hydro stock of heavy water to a safe location stop harry asked Ue to offer yoD oDr sDpport stop Eoss intelliMence reports sDMMest that the MerUan Uilitary are closely UonitorinM all Eoats and fliMhts in and oDt of norway stop sDMMest splittinM carMo stop civilian fliMhts also risky stop raf have offered a plane stop will contact yoD via the eUEassy stop other coUUDnication channels insecDre stop do not reply to this teleMraU UessaMe ends\n"
     ]
    }
   ],
   "source": [
    "# \"atteVtOoV\" - \"attention\" -> V=n, O=i\n",
    "# \"heaFJ Hater to a saAe SoLatOoV\" -> F=v, J=y, H=w, A=f, S=l, L=c\n",
    "decode(message5a, \"fstDEvdwIyKcMhiPkelaUnopYr\")"
   ]
  },
  {
   "cell_type": "code",
   "execution_count": 9,
   "metadata": {},
   "outputs": [
    {
     "name": "stdout",
     "output_type": "stream",
     "text": [
      "attention PacYues allier stop\n",
      "contacts in the french ministry of armaments say you will be travelling to norway stop mission to transport norsk hydro stock of heavy water to a safe location stop harry asked me to offer you our support stop boss intelligence reports suggest that the german military are closely monitoring all boats and flights in and out of norway stop suggest splitting cargo stop civilian flights also risky stop raf have offered a plane stop will contact you via the embassy stop other communication channels insecure stop do not reply to this telegram message ends\n"
     ]
    }
   ],
   "source": [
    "# \"Uinistry of arUaUents\" -> U=m\n",
    "# \"yoD will Ee travellinM\" -> D=u, E=b, M=g\n",
    "decode(message5a, \"fstubvdwIyKcghiPkelamnopYr\")"
   ]
  },
  {
   "cell_type": "code",
   "execution_count": 10,
   "metadata": {},
   "outputs": [
    {
     "name": "stdout",
     "output_type": "stream",
     "text": [
      "attention jacques allier stop\n",
      "contacts in the french ministry of armaments say you will be travelling to norway stop mission to transport norsk hydro stock of heavy water to a safe location stop harry asked me to offer you our support stop boss intelligence reports suggest that the german military are closely monitoring all boats and flights in and out of norway stop suggest splitting cargo stop civilian flights also risky stop raf have offered a plane stop will contact you via the embassy stop other communication channels insecure stop do not reply to this telegram message ends\n"
     ]
    }
   ],
   "source": [
    "# \"PacYues\" -> P=j, Y=q\n",
    "# Assume from sequence that I=x, K=z\n",
    "decode(message5a, \"fstubvdwxyzcghijkelamnopqr\")"
   ]
  },
  {
   "cell_type": "code",
   "execution_count": 11,
   "metadata": {},
   "outputs": [
    {
     "name": "stdout",
     "output_type": "stream",
     "text": [
      "Decoded alphabet: telgramnopqsuvwxyzbcdfhijk\n",
      "Keyword: telgram\n"
     ]
    }
   ],
   "source": [
    "import string\n",
    "\n",
    "# Attempts to determine the keyword used for a substition cipher\n",
    "# alphabet: The substitution alphabet\n",
    "def decode_key(alphabet):\n",
    "    decoded_alphabet = \"\"\n",
    "    for letter in string.ascii_lowercase:\n",
    "        decoded_alphabet += chr(alphabet.find(letter) + ord(\"a\"))\n",
    "    print(f\"Decoded alphabet: {decoded_alphabet}\")\n",
    "    \n",
    "    remaining_letters = list(string.ascii_lowercase)\n",
    "    for pos, letter in enumerate(decoded_alphabet):\n",
    "        remaining_letters.remove(letter)\n",
    "        next_letter_index = remaining_letters.index(decoded_alphabet[pos+1])\n",
    "        if decoded_alphabet[pos+1:] == \"\".join(remaining_letters[next_letter_index:] + remaining_letters[:next_letter_index]):\n",
    "            print(f\"Keyword: {decoded_alphabet[:pos+2]}\")\n",
    "            break\n",
    "\n",
    "decode_key(\"fstubvdwxyzcghijkelamnopqr\")"
   ]
  },
  {
   "cell_type": "code",
   "execution_count": null,
   "metadata": {},
   "outputs": [],
   "source": []
  }
 ],
 "metadata": {
  "kernelspec": {
   "display_name": "Python 3",
   "language": "python",
   "name": "python3"
  },
  "language_info": {
   "codemirror_mode": {
    "name": "ipython",
    "version": 3
   },
   "file_extension": ".py",
   "mimetype": "text/x-python",
   "name": "python",
   "nbconvert_exporter": "python",
   "pygments_lexer": "ipython3",
   "version": "3.8.0"
  }
 },
 "nbformat": 4,
 "nbformat_minor": 4
}
