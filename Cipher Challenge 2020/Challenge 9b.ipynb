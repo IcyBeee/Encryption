{
 "cells": [
  {
   "cell_type": "markdown",
   "metadata": {},
   "source": [
    "# Coronavirus distraction Cipher Challenge 2020\n",
    "## Challenge 9b, \n",
    "Challenge link https://www.cipherchallenge.org/challenge/competition-challenge-9/"
   ]
  },
  {
   "cell_type": "code",
   "execution_count": 1,
   "metadata": {},
   "outputs": [],
   "source": [
    "message9b=\"\"\"-..- -... --. --. ..-. --- - -.. .. ...- ..- .- - ..- -... --. --. ..-. -- / ...- --.- / ..-. .-. .-. ..- --. .-.. --.- -.. .-- .... / ... - .. ...- . -..- -- ... .-. .-- / -.- - .-- / -.-- -. --- ...- ... -.- - --.. / ...- -- / -... .--. -- / . -. ...- -..- .- - / --.. -... -.-- -. . -- -.. / . --.. / ..-. - --.- / ... -. --. ..- .-. . -.-- -. .- --.- / --. .... -.-. -.. / .-.. - .-- --. -... .--. .-. .-- .. .... .. --. - -..- ..- - -.-. ... -..- - -.-. .... .. / ..-. ..- .... .. . -.. -.. ..- -... / -.- ..-. / . ... .- ..-. .-.. ... .- ..-. / .-.. -- - -- -... .... --. / -- -.-- .-- --- .-.. -.-. -. ... / -. --- .--- -.- / ... .-- -.-- -.. / -.-- -..- --.- -..- ..-. .. .. .-.. -.- / .-. -- / --. --.. ..- -.. / .-. . ... .--. --- -. ... .. -... .. .-.. .. - -.-- / --. .--. ... / ..- --. . .-- - -.- ...- .- / .-. .. / -..- .-.. .. / .-- - --.- --.- -. ... .-.. / -.-- --.. ..- .. --.- / --.. .- ...- .-- / .-.. --.- -- / .--- ..- .-.. --.- -. ...- .-. -... -.-. -. .-- / -.. -.-- / -.-. .--. . .-.. - -.-- / .- .... --.- -.. -- -..- -..- / .--. -... --.. --.. -. .- --.- / -.-. - / .. .-- - / -.-. -.-- .. .. -.-- . -.. / .--- -.- ..-. --. / --. .... .-- .--- ... .-.. .- --. ..-. ... -.. / ...- .... --. -- -.- .... . / ..-. -.-. -.-- -- / .-. -.. --- -.-. / .--. -.. .- / -.-. -... .. .- -.. -... -.- .- -..- --- .--- -... --- ..-. -... / --.- .-. -- -. / ... --.- --.. -... .--- / .- -. -.. / ..- ... -... .--- --- / ..- --. . .-- - -.- ...- .- / .-.. ...- / -..- .-.. .. / .-- .--- -..- ..- - ... -..- -. --. -. --.- -. -.-- -.. / ..- .-.. / --. -... -. -.. .... .--- --- / .- -... .-- -..- / .-.. -..- -.. .-- -.-. -. .- .-. .-- -.-. -. ..- ..- .-. .--. -. .-- .-.. -. / -.. -.-- / -- .--. / ..-. - --.- / . .-. ..-. -.-. -... .- ..-. ...- --- ...- -.-- ...- --. .-.. / -.-. - / .. .-- - / --.- .-. -- ..- -..- .... / .--- -.- ..-. --. / .- ..-. .-.. .-- -.. -.. .- -.-- .-- ..-. ..- .-- / ...- .... --. ...- -..- -.- --. -... --. --.. / ..- ..-. ..-. / ...- -. -.- --.. -..- --- -. / -.- -... / --.- . -... / -.- --. --.- --.- --. -- .-.. / ... -. / -... . / -.. .--. .--. ... . .--- --- -... ..- ..-. . / -..- -.- -.-. / .-- -.- .... / .-- -- --. .-.. .. ...- .-.. .. -- -..- .-- .... -- .. .-. .-- -..- / -..- -.-- - ..- / ...- .-. --. - --.. / -.- .--. -.-- .-.. .--- .- ...- -.-- / .--- .-. .. --.. ...- -- / .-- .-. ..- -... -... -. .-- / ... -.-. / -.-. .--. -.. .- --.. -.-- -.. - -- .-- .--. / .-. .- -.. / -.-. . .-. -.-. -. . -. --. ...- -... .- / -.-. - / .. .-- - / .. -..- -.-- ..-. -.-. ..- -.. .--- / .--- -.- ..-. --. / --.. .-- / .- - .-.. / -.-. .... --.. .. .-.. --. -.-- -..- / .--. -. / .--. -.. .-- .--. / . -... / ..- --. .--- .--- / .- -.. / .-. . .- -.. -.-- / ..- .--. / ..- .--- -.- .-. / .-- -.- .... / -- -..- .. --.- / - ... / -.-- .- - .--- --. . / .- -.. .-.. ..- .- .--. .-.. .- --- / -. -- .--- --.. -.-. .. --.. --. / -... -.-. -..- -.-- / --- ..-. --- -... .. -.-- -..- --- / - -.-- --. --.. .-- --. .--. --- / ..- --.. / --. ..- .-. / --. ...- .-- -.. .- ... -... .... / .. -.. / .-. ..- / -- ...- -.- -.- ...- ..- / - --.- / -- .- -..- / ..-. .. .-- ..- ..-. / -. -..- -.-. .--. --- ..- -. --- ...- .- .- --.. --. / --- .--. -.- .-.. / --- -... -- .-.. --- --.- .--. / -- -.. / --.. -- -..- / .-. . ... .. ... - .- -. -.-. . / -... -.. ..- .--- .-- .--- ..- --.. / -.-. - --. / .-- .-. / ..-. .. / -.- - .-- -... ..-. .-- .. .--- .. / --.. ..- / .- --- .-.. / .. .--- . -- .--. --.. / -... -.-. -..- -.-- / -- -.- -.-. ..- -.-. / . --.. / -. --.- / . .-. .--- .-. ...- - ..- .-. --.- / --- .... / --. -.-- .--- --.. .--. -.-. / .--- . / ...- . .--- .-.. .. ...- / .-.. --.. .-- / . .... - .-- / -... ..- -- / .. .--- --- / -..- .- .- .--- / --.- -..- .--- -- -... --- -... .- / ..- --. .-. ..-. / .-. ... -. --- / .... .- -. -.. --- ...- . .-. / ..- .--. / -.. --. / .--. .-. --.- .-.. .-- .-. ..- .... --. / --. .--. ... .-- .. .--. -.-. / ..-. -.-- / -.- -... -.- -..- . / --.. .- .... -. .-.. / .--- --. / .. -.. .--. ..-. .--- .-.. --.- / -.-. -.. -.-- --.. / .-.. .-- .-- / -.. .- -..- -..- ..- --.. ... / ..-. --. -... .--. -..- / .... -.-. / --.- - / -.-- -.. .. ..-. ..- ... .--- ..- - / -.- -.-- ..-. .. ..-. .-.. -..- -.-- -.-. .--. / - --.- / .--. -..- .- -.- ..-. - ...- .- -- .-.. -- -.- -..- -... -.-- -..- --. .-- -... -..- --. .-.. -- / ...- -.-- --.. .. .-.. -.-- / --. .--- ...- -.-- -.. .. -... / --- .--. -.- .-.. / .. .-.. -..- .- ..-. -.- -.. / -. .--- -.-- .-. -.. -- .--. -.- --.- / ... -. / -... . / .--- --- - --.- ..-. -.. ..- ..-. . / ..-. -.-. -.- -. .- / -..- --.- .-- .-.. --- / -..- .-.. .. / -..- -- -. ..- .-. .--- ... -.-- / --. - .--- / --- ...- -... -.-- ... ..-. / .-.. -.-. --.. --.- ...- --- / -.-. --.- -. / -.-- --.. --- -... -.- -.. ... -.-- -..- / -.. . --.. .- / -..- --.- -- .... --.- / .--. -. .- .--. .-. -.-- -.-- .-. --.- / - -.-. ..-. / .--. .- .- / .--- .... . . ..-. .. / .-. . ..- / .... --. -.. .- ..- .-- / .-.. -- .... .. / -.-- .--. -.-- .-.. ... / ...- -- .... - / --.- .--- . .--. / ..-. -.- / .-. ..-. -.-. / ..- .... -... .... -- .... ... -..- / .. ... / ... ..-. .-. ...- .--- ... ..-. . / ...- --.- / ... ..- .-. -.-- .-.. --. .... / -.- -.-- . ...- .... / ..- ..-. -.-- .-- - --.- -..- / .-.. ..- -..- / -.-- ...- ... ... .--. ..- -. / .- -... .-- -.- ... / .- -..- -.. -.-. -. / -.-. -.. -.-- --.. / -.-- - .--. .-- -.. .--. -.-- / ..-. .- / --- .-. / .-- -... --. .... ..-. .. --.- .... ... .-. / .. -.. / . .... .-- --.- -.. -.-- .. ..- / -.- -.-- ...- / .-.. .--- ... ..-. -.- .... --. .--- .-.. / .... -.-- / -. -... -.-- / -. -.-. -.. -.- .... --.. .. --- / --- .--. -.- .-.. / -.. -... . -... ..-. .--- -... / -.. -.-. .--- -... -. -- .--- --. -..- -.-. --. / ... -. / -- --- -. .. - --- .-. / - ..- -... --. --. / -.-. ...- / .... -.-- .... ..- -... / .-- -..- . -..- -- ... .-. / ..-. ... .. / ..- - / .-.. -.-. .-.. -.-- ..-. / -... --.. .. --.- ...- / -... -.-. -..- -.-- / --- -..- -.. -... .. --. -.- .. -.-. / . --.. / ..-. - --.- / -.-. -.-- -. .- --. / --- -... .-. / --. .--. -..- .- / ...- --.- ... -.-- -... -.-- .--- -.-- ..- .. / -.- ..-. / - .-- / --.. -. - -.- .-- -..- .-- / ...- ... / .-. --.. -.-. -- .... ...- -..- -.-. --- -. --- -- --.. -.. .- --.. .. -.-- -.. --.. .. -. --- / .-.. .- -. --- -.- .--- .--- .- .... / -..- --.- / -.-- .--- .--- / ... .... .-.. -.. .-. / ... - --- .--. / . .--. .--. ... - / ...- --.- / .-- -.- .... / .-- -..- ... ...- . -.- .. / ..-. ... .. / --.. -..- --. - -.-- ...- ..- -..- --.. / -- .... .--- .--. ... .--. .- .--. .-.. --.. / -... .-- / -.- -. / ...- -.-- -- ..- --- -. / .-.. . / -- -..- -..- / --. ...- --.. .-. ..-. / --. .... -.-. -.. / -.. .--- .. .... -..- ... - / .--- -..- ..- / -.-. ..-. -..- --.. .--- -.- --.. - .--- / .-.. .-- ... . / - --. .-- / ..-. .. .-- ..- ..-. / -. --.. -..- .--. -- -.. --- - / -.- .-.. .- -. .-- .--. . -.- .--- --- / .-.. -.- .. ...- / -- -.. -.. --. .- -.-. .--. --.- / -. . / - .... . / - - / -.-. .--. ..-. / .--. .... .--. . .... ..- ...- / ... .--- / .. -. .--- / --. .-. .. -. -.- ... --- -.-- --.. -.- - / .--- .... ..- / .--- -- / .-.. -..- -.-- .-. -. -- / ... -..- -.. -.-- / . ... .--. / -... -..- -- --.. . / ..-. --. -... -.-. / .... .-- -... -... -.-. --. ... .... / .. -.. / .-. ..- / --. .. ...- --. .-. .. ...- ..- / .-.. --. / -.- -..- ...- -..- -... --- -..- / -. -... -.-- / -. -.-. -.. -.- .... --.. .. --- / -..- --.- .--. / -.- .-.. / --. .-.. -... --. .- -.-- .-. --. -- .-.. / .-. --. -. - -.- -.-. / -... . / .... .--- .-- ..-. --- / --.- .... / .-- -.- .... / .-. . -..- -.-- ...- .. / - -.- / --.. -. -.- / .--- .... -.-- -. ...- / .- -... .-- -..- / -..- .- -- -. .- -... / .--. -.-- -... / --.. -.-- .... .-.. -.-. --- -.. / . - ..- -... -.-- --.- --.. ..-. / ... . -... --.. / .... .-- -... -... -.-. --. ... .... / .-.. -..- .- .- / .-. ..- / --. .. ..-. -- --.. ..- ...- ..- / -.- .-- .... ... .--- ... .-.. .-- -.. --.- / .-.. -- .... .. / .-.. -.. --- . ..- .... --.. .. -- / --- .--- / -..- .- / -- --- -... -- -..- --- -... .- / -.. -- .--. / .-. --. .... --- .-.. -.. -- ... / .- ... / -... / ..-. --. . --.- .- / ...- .-- .-. ... / -.- -.-- . ...- .... .-- / -.-- - / .... -.- / .-- ... .... .--- .-.. -.- / --.- ...- / -.-- .- -..- ...- .-. .-- -. .-- -.-. / --.. -.-- -.-. ... -.. ... -.-- -..- -.-. / --.. -.-- / ..-. - ..- . / .. .-. ..-. ..-. .-. -.-- / --. .... -.-. -.. / .... ..- / -..- --- - .... . / -.- ..-. / - .-- / -. .-.. -..- .-- / -. .. / -. -.-. -.. -.- / .--. -.. .- / -- --- .-.. .- .-. --.. --.- / --.- .-. -- -. / -.- -. --.. -.-. .... -- ..-. / .--. .-.. .- -. ... / ..- .--. / -.. --. / .... ...- .-- -.. . --- .-.. ...- -.- .... --. / .--- ... ...- / ..-. / .--- .- ... ... . / .--- .... -.-- -. ...- / .-- ...- / -... --- / -... - . -.- ..- -.- -..- .--. -.-- -.-. / -.. . --.. .- / -- .--. .--. ..- ..-. ..- .- --.. -- -..- / ..-. .-. .--. .... . ...- --. .-.. / .- ... --- --. .. ..-. ... --. / .... .-- -.. .--- .- ... / -.. . .--- / ... ...- / .... -- .-.. / -... --. / .--- ..-. ..- .-- -.-- / .--- .. / .--. -.. .- / .. -..- -.- .- ..-. -.- -.. / --.- .-. -.-- . -.-. / . -. --.- / ... ..-. / .. --.. . ... .--. / ..- ...- --.- .-. / ...- .... ..-. -..- ..- .-.. .-- -... / ...- ... -.-- -..- -- .-. .. .-- / .-. --.. -..- -.-- / .... -.- / - .... .--. ..- .- .... .--. ..- .-.. -.- / --.- ...- / -..- .- -- -. .- / -.. -.-- / -.-. .--. - -.-- --.- --.. -.-. -. .--. / ..-. - --.- / --.- .-. .--. -... .-.. / -.-. -... / --. -.-- .--- --.. .--. -.-. ..- -.. .... / .. .--- . ..-. / -.-- ...- .-. -- .--. / --- ... .-.. .-- .--- / -- .... / ...- -.-- / ..-. --.. -.- --- / --.- .--- --.. .- -. / .-.. -.-- .--. -... --- ... -..- --.- ..-. .-.. -.- / -.-- .-. / --.. -.- -.- / - .. -- . ... / - ..- .--. --.- / --. --.. ...- - -.-. / ...- .... ..-. -..- ..- .-.. .-- -... / -..- ... / --. .--- / ...- -..- ..- -... --- .--- -.- .--- / ...- ..- / .. - - / -.-. .- .--- .-- -... -.-- -..- .- -.-. / . -..- -.. ... ...- / . ... .--. / --- -- -.. ... .- / ..- -. ..-. / ..-. ... --- --.- ...- ... .-. / ... -..- - / --.- -... ... -..- ..- -.-. -.-- .. .--- ..- -.. / .--- -.- ..-. --. / -.. --. ..- ... -.. / .... -.-- -.-- -... ...- -... - . .-.. / ..- .... -..- / --.. .... -.- --. .--- - --.. --.. -. / .-- -. .- / --.- .-.. / --.. -.-. / --.. .-. .-. - .-.. -.. -.-. / - --- / -..- .--. ... .-.. / .... --.- - / .-- -.- .... / ...- .. .-- -- .-- -..- . .-. --. .. / --.. ... --.- .--- -..- -..- / -... -.- --.. --.. -.- .--- / --.. .- ...- .-- / --.- ...- -. .-- --.. ..- .. -... --.- .-- ...- / .--- -.- -..- -.. -.-. / -.. .-. --- / -.. ... - .- -..- .--. -.-- . / . - .- --. -..- .--. / --- .-. / ... -... --.- ..-. -- -.. .... ... .-. / .--- .... -..- -.-. ...- / -..- -.-- .-- -..- / -..- .. .-. ..- ...- / -..- .- .-- -.. ...- / ...- -... .. .- -..- -.- .-.. / -- -. .. .--- / --- --.. .... -.- .--- -- ...- -- - / --- .- -.-- --.- -. . .--. ..- / .--- -... -..- .--. .-. --- -... .--. / .- -.-- .-.. / -. -- -.- -..- / -... . / -- .--- --. ..- ..-. . / --.- .--. . --. / .-- -.- .... / --. . ...- -.- ... / -- ..-. -..- / -..- -.- --. .. -. -.- .--- / .- --- .-.. / ...- -- ..-. -... / -... -.-. .--- .--. .-. .-- .--. / --.. -.-- -.-. -.. / -.. . --.. .- / --.- .--- ..-. -.. -- / . .-. ..-. -... .... . .--. .-. ..-. / --.- --- -... / --.- - / ..-. .... . .-.. -.-- - ..- - / .-- ..-. .. / ... -.. -.. / - .-.. .. -..- ...- -- .-.. / .. --.. / --- -.-. -.. -. / .. . --- --- . -.- .--- / .-.. -.- / .--. -.-. --- ... -.-. --.- .-. / ... -. / -.. .. . / -... -- -.. .. ..-. -. .--- - ..- ..-. --- / ..- ...- --.- .-.\"\"\""
   ]
  },
  {
   "cell_type": "code",
   "execution_count": 8,
   "metadata": {},
   "outputs": [
    {
     "ename": "KeyError",
     "evalue": "'.-..'",
     "output_type": "error",
     "traceback": [
      "\u001b[1;31m---------------------------------------------------------------------------\u001b[0m",
      "\u001b[1;31mKeyError\u001b[0m                                  Traceback (most recent call last)",
      "\u001b[1;32m<ipython-input-8-d451076d0f2d>\u001b[0m in \u001b[0;36m<module>\u001b[1;34m\u001b[0m\n\u001b[0;32m     12\u001b[0m \u001b[0malpha\u001b[0m \u001b[1;33m=\u001b[0m \u001b[1;34m\"\"\u001b[0m\u001b[1;33m\u001b[0m\u001b[1;33m\u001b[0m\u001b[0m\n\u001b[0;32m     13\u001b[0m \u001b[1;32mfor\u001b[0m \u001b[0mletter\u001b[0m \u001b[1;32min\u001b[0m \u001b[0mmessage9b\u001b[0m\u001b[1;33m.\u001b[0m\u001b[0msplit\u001b[0m\u001b[1;33m(\u001b[0m\u001b[1;33m)\u001b[0m\u001b[1;33m:\u001b[0m\u001b[1;33m\u001b[0m\u001b[1;33m\u001b[0m\u001b[0m\n\u001b[1;32m---> 14\u001b[1;33m     \u001b[0malpha\u001b[0m \u001b[1;33m+=\u001b[0m \u001b[0mm2t\u001b[0m\u001b[1;33m[\u001b[0m\u001b[0mletter\u001b[0m\u001b[1;33m]\u001b[0m\u001b[1;33m\u001b[0m\u001b[1;33m\u001b[0m\u001b[0m\n\u001b[0m",
      "\u001b[1;31mKeyError\u001b[0m: '.-..'"
     ]
    }
   ],
   "source": [
    "# Well that's obviously morse code\n",
    "m2t = {\".-\":\"a\", \"-...\":\"b\", \"-.-.\":\"c\", \"-..\":\"d\", \".\":\"e\",\n",
    "       \"..-.\":\"f\", \"--.\":\"g\", \"....\":\"h\", \"..\":\"i\", \".---\":\"j\",\n",
    "       \"-.-\":\"k\", \".---\":\"l\", \"--\":\"m\", \"-.\":\"n\", \"---\":\"o\",\n",
    "       \".--.\":\"p\", \"--.-\":\"q\", \".-.\":\"r\", \"...\":\"s\",\n",
    "       \"-\":\"t\", \"..-\":\"u\", \"...-\":\"v\", \".--\":\"w\",\n",
    "       \"-..-\":\"x\", \"-.--\":\"y\", \"--..\":\"z\",\n",
    "       \".----\":\"1\", \"..---\":\"2\", \"...--\":\"3\", \"....-\":\"4\", \".....\":\"5\",\n",
    "       \"-....\":\"6\", \"--...\":\"7\", \"---..\":\"8\", \"----.\":\"9\",\"-----\":\"0\",\n",
    "       \"/\":\" \"}\n",
    "\n",
    "alpha = \"\"\n",
    "for letter in message9b.split():\n",
    "    alpha += m2t[letter]"
   ]
  },
  {
   "cell_type": "code",
   "execution_count": 10,
   "metadata": {},
   "outputs": [
    {
     "name": "stdout",
     "output_type": "stream",
     "text": [
      "/: 495 (16.37%) -..-: 122 (4.03%) -.--: 110 (3.64%) -...: 105 (3.47%) -..: 105 (3.47%)\n",
      "...: 104 (3.44%) --.: 101 (3.34%) ..: 101 (3.34%) ..-: 101 (3.34%) .-: 101 (3.34%)\n",
      ".--: 101 (3.34%) ..-.: 100 (3.31%) .-..: 98 (3.24%) ....: 98 (3.24%) .---: 98 (3.24%)\n",
      "...-: 97 (3.21%) -.-: 97 (3.21%) -: 95 (3.14%) .: 94 (3.11%) -.: 92 (3.04%)\n",
      ".--.: 91 (3.01%) --: 88 (2.91%) .-.: 88 (2.91%) --..: 88 (2.91%) -.-.: 88 (2.91%)\n",
      "---: 84 (2.78%) --.-: 82 (2.71%) \n",
      "-----\n"
     ]
    }
   ],
   "source": [
    "# Evidently not.  There are some sequences in there that aren't morse.\n",
    "\n",
    "# Let's frequency analyze them:\n",
    "from collections import Counter\n",
    "\n",
    "# Takes a string or list of items and counts the frequencies of those items\n",
    "# data: The list or string to analyse\n",
    "# max_values: The maximum number of values to display (set to None for no limit)\n",
    "# no_columns: The amount of columns to use in the output\n",
    "def frequency_analysis(data, max_values=30, no_columns=5):\n",
    "    frequencies = Counter()\n",
    "    for item in data:\n",
    "        frequencies[item] += 1\n",
    "    \n",
    "    total = sum(frequencies.values())\n",
    "    column = 1\n",
    "    for item, frequency in frequencies.most_common(max_values):\n",
    "        print(f\"{item}: {frequency:2} ({frequency / total:.2%})\", end=\" \" if column % no_columns else \"\\n\")\n",
    "        column += 1\n",
    "    print(\"\\n-----\")\n",
    "\n",
    "frequency_analysis(message9b.split())"
   ]
  },
  {
   "cell_type": "code",
   "execution_count": 12,
   "metadata": {},
   "outputs": [
    {
     "name": "stdout",
     "output_type": "stream",
     "text": [
      "ABCCDEFGHIJKFJBCCDL IM DNNJCOMGPQ RFHISALRNP TFP UVEIRTFW IL BXL SVIAKF WBUVSLG SW DFM RVCJNSUVKM CQYG OFPCBXNPHQHCFAJFYRAFYQH DJQHSGGJB TD SRKDORKD OLFLBQC LUPEOYVR VEZT RPUG UAMADHHOT NL CWJG NSRXEVRHBHOHFU CXR JCSPFTIK NH AOH PFMMVRO UWJHM WKIP OML ZJOMVINBYVP GU YXSOFU KQMGLAA XBWWVKM YF HPF YUHHUSG ZTDC CQPZROKCDRG IQCLTQS DYUL NGEY XGK YBHKGBTKAEZBEDB MNLV RMWBZ KVG JRBZE JCSPFTIK OI AOH PZAJFRAVCVMVUG JO CBVGQZE KBPA OAGPYVKNPYVJJNXVPOV GU LX DFM SNDYBKDIEIUICO YF HPF MNLJAQ ZTDC KDOPGGKUPDJP IQCIATCBCW JDD IVTWAEV TB MSB TCMMCLO RV BS GXXRSZEBJDS ATY PTQ PLCOHIOHLAPQLHNPA AUFJ INCFW TXUOZKIU ZNHWIL PNJBBVP RY YXGKWUGFLPX NKG YSNYVSVCIBK YF HPF HAUDYJGZ ZTDC WP KFO YQWHOCUA XV XGPX SB JCZZ KG NSKGU JX JZTN PTQ LAHM FR UKFZCS KGOJKXOKE VLZWYHWC BYAU EDEBHUAE FUCWPCXE JW CJN CIPGKRBQ HG NJ LITTIJ FM LKA DHPJD VAYXEJVEIKKWC EXTO EBLOEMX LG WLA NSRHRFKVYS BGJZPZJW YFC PN DH TFPBDPHZH WJ KEO HZSLXW BYAU LTYJY SW VM SNZNIFJNM EQ CUZWXY ZS ISZOHI OWP SQFP BJL HZE AKKZ MAZLBEBK JCND NRVE QKVGEISN JX GC XNMOPNJQC CXRPHXY DU TBTAS WKQVO ZC HGXDZOM YGUW OPP GKAAJWR DCBXA QY MF UGHDJRZJF TUDHDOAUYX FM XAKTDFIKLOLTABUACPBACOL IUWHOU CZIUGHB EXTO HOAKDTG VZUNGLXTM RV BS ZEFMDGJDS DYTVK AMPOE AOH ALVJNZRU CFZ EIBURD OYWMIE YMV UWEBTGRUA GSWK AMLQM XVKXNUUNM FYD XKK ZQSSDH NSJ QCGKJP OLQH UXUOR ILQF MZSX DT NDY JQBQLQRA HR RDNIZRDS IM RJNUOCQ TUSIQ JDUPFMA OJA UIRRXJV KBPTR KAGYV YGUW UFXPGXU DK EN PBCQDHMQRN HG SQPMGUHJ TUI OZRDTQCZO QU VBU VYGTQWHE EXTO GBSBDZB GYZBVLZCAYC RV LEVHFEN FJBCC YI QUQJB PASALRN DRH JF OYOUD BWHMI BYAU EAGBHCTHY SW DFM YUVKC EBN CXAK IMRUBUZUJH TD FP WVFTPAP IR NWYLQIAYEVELWGKWHUGWHVE OKVETZZKQ AM UZZ RQOGN RFEX SXXRF IM PTQ PARISTH DRH WACFUIJAW LQZXRXKXOW BP TV IULJEV OS LAA CIWND CQYG GZHQARF ZAJ YDAWZTWFZ OPRS FCP DHPJD VWAXLGEF TOKVPXSTZE OTHI LGGCKYXM VS FQS FF YXD XQXSQJI RZ HVZ CNHVTREUWTF ZQJ ZL OAUNVL RAGU SRX BALWS DCBY QPBBYCRQ HG NJ CHICNHIJ OC TAIABEA VBU VYGTQWHE AMX TO COBCKUNCLO NCVFTY BS QZPDE MQ PTQ NSAUIH FT WVT ZQUVI KBPA AKLVKB XUB WUQOYEG SFJBUMWD RSBW QPBBYCRQ OAKK NJ CHDLWJIJ TPQRZROPGM OLQH OGESJQWHL EZ AK LEBLAEBK GLX NCQEOGLR KR B DCSMK IPNR TUSIQP UF QT PRQZOT MI UKAINPVPY WUYRGRUAY WU DFJS HNDDNU CQYG QJ AEFQS TD FP VOAP VH VYGT XGK LEOKNWM MNLV TVWYQLD XOKVR JX GC QIPGSEOITQC ZRI D ZKRRS ZQUVI PI BE BFSTJTAXUY GSWK LXXJDJKWLA DNXQSICO KRECHDRC QPGZKR GSZ RI QLO BC ZDJPU ZH XGK HATKDTG MNUSY SVM RD HWSRX JIMN IQDAJOPB IRUALNHP NWAU QT FQXJKQXJOT MI AKLVK GU YXFUMWYVX DFM MNXBO YB CUZWXYJGQ HZSD UINLX EROPZ LQ IU DWTE MZWKV OUXBERAMDOT UN WTT FHLSR FJXM CWIFY IQDAJOPB AR CZ IAJBEZTZ IJ HFF YKZPBUAKY SAGRI SRX ELGRK JVD DREMIRN RAF MBRAJYUHZJG ZTDC GCJRG QUUBIBFSO JQA WQTCZFWWV PVK MO WY WNNFOGY FE AXRO QMF PTQ IHPLPASNCH WRMZAA BTWWTZ WKIP MIVPWJHBMPI ZTAGY GNE GRFKAXUS SFKCAX EN RBMDLGQRN ZQAYI AUPA AHNJI AKPGI IBHKATO LVHZ EWQTZLILF EKUMVSXJ ZBAXNEBX KUO VLTA BS LZCJDS MXSC PTQ CSITR LDA ATCHVTZ KEO ILDB BYZXNPX WUYG GSWK MZDGL SNDBQSXND MEB MF DQSOUFJF PDH RGG FOHAILO HW EYGV HSEESTZ OT XYERYMN RV GHS BLGHDVZFJDE JIMN\n"
     ]
    }
   ],
   "source": [
    "# That's 26 unique characters, plus \"/\" as a space.\n",
    "# Distribution is flat, so it's probably a vigenere\n",
    "\n",
    "# Assign them to letters\n",
    "import string\n",
    "\n",
    "alpha = \"\"\n",
    "code2alpha = {\"/\": \" \"}\n",
    "letters = list(string.ascii_uppercase)\n",
    "\n",
    "for letter in message9b.split():\n",
    "    if letter not in code2alpha:\n",
    "        code2alpha[letter] = letters.pop(0)\n",
    "    alpha += code2alpha[letter]\n",
    "print(alpha)"
   ]
  },
  {
   "cell_type": "code",
   "execution_count": 29,
   "metadata": {},
   "outputs": [
    {
     "name": "stdout",
     "output_type": "stream",
     "text": [
      "CJN/2 (1 x 2)\n",
      "CJN/3 (2 x 2)\n",
      "CJN/6 (5 x 2)\n",
      "CJN/9 (5 x 2)\n",
      "CJN/11 (0 x 2)\n",
      "CJN/18 (5 x 2)\n",
      "CJN/22 (11 x 2)\n",
      "TFP/5 (1 x 2)\n",
      "TFP/11 (8 x 2)\n",
      "TFP/13 (2 x 2)\n",
      "GLX/2 (1 x 2)\n",
      "GLX/4 (3 x 2)\n",
      "ZRI/2 (0 x 2)\n",
      "ZRI/3 (1 x 2)\n",
      "ZRI/6 (4 x 2)\n",
      "ZRI/11 (8 x 2)\n",
      "ZRI/22 (8 x 2)\n",
      "PDH/5 (4 x 2)\n",
      "WLA/7 (0 x 2)\n",
      "LAA/7 (3 x 2)\n",
      "KEO/2 (1 x 2)\n",
      "KVG/2 (0 x 2)\n",
      "KVG/3 (2 x 2)\n",
      "KVG/4 (0 x 2)\n",
      "KVG/6 (2 x 2)\n",
      "KVG/8 (0 x 2)\n",
      "KVG/11 (1 x 2)\n",
      "KVG/12 (8 x 2)\n",
      "KVG/16 (0 x 2)\n",
      "KVG/22 (12 x 2)\n",
      "KVG/24 (8 x 2)\n",
      "CXR/5 (3 x 2)\n",
      "NDY/2 (1 x 2)\n",
      "NDY/3 (2 x 2)\n",
      "NDY/4 (3 x 2)\n",
      "NDY/5 (0 x 2)\n",
      "NDY/6 (5 x 2)\n",
      "NDY/8 (3 x 2)\n",
      "NDY/9 (8 x 2)\n",
      "NDY/10 (5 x 2)\n",
      "NDY/12 (11 x 2)\n",
      "NDY/15 (5 x 2)\n",
      "NDY/16 (11 x 2)\n",
      "NDY/18 (17 x 2)\n",
      "NDY/20 (15 x 2)\n",
      "NDY/24 (11 x 2)\n",
      "FCP/11 (2 x 2)\n",
      "FQS/3 (0 x 2)\n",
      "FQS/5 (2 x 2)\n",
      "FQS/7 (1 x 2)\n",
      "FQS/9 (6 x 2)\n",
      "FQS/15 (12 x 2)\n",
      "FQS/21 (15 x 2)\n",
      "VBU/2 (0 x 2)\n",
      "VBU/4 (2 x 2)\n"
     ]
    }
   ],
   "source": [
    "# There are spaces in there, so let's assume some of the three letter words are \"the\"\n",
    "\n",
    "# A function that searches the given text for a word and figures out where it would line up with a key of a given size\n",
    "def get_alignment(text, word, key_size):\n",
    "    alignments = []\n",
    "    position = -1\n",
    "    while True:\n",
    "        position = text.find(word, position+1)\n",
    "        if position >= 0:\n",
    "            alignment = position % key_size\n",
    "            alignments.append(alignment)\n",
    "        else:\n",
    "            break\n",
    "    if len(alignments) > 1 and alignments.count(alignments[0]) == len(alignments):\n",
    "        print(f\"{word}/{key_size} ({alignments[0]} x {len(alignments)})\")\n",
    "\n",
    "# We need to discount the spaces when looking for alignments:\n",
    "squished = alpha.replace(\" \", \"\")\n",
    "for word in set(alpha.split()):\n",
    "    if len(word) == 3:\n",
    "        for n in range(2,27): \n",
    "            get_alignment(squished, word, n)"
   ]
  },
  {
   "cell_type": "code",
   "execution_count": 30,
   "metadata": {},
   "outputs": [
    {
     "name": "stdout",
     "output_type": "stream",
     "text": [
      "EXTO/3 (1 x 3)\n",
      "EXTO/9 (4 x 3)\n",
      "ZTDC/2 (1 x 4)\n",
      "ZTDC/3 (2 x 4)\n",
      "ZTDC/4 (3 x 4)\n",
      "ZTDC/6 (5 x 4)\n",
      "ZTDC/12 (11 x 4)\n",
      "MNLV/2 (1 x 2)\n",
      "MNLV/19 (7 x 2)\n",
      "OLQH/2 (0 x 2)\n",
      "OLQH/3 (1 x 2)\n",
      "OLQH/6 (4 x 2)\n",
      "WKIP/2 (1 x 2)\n",
      "WKIP/17 (7 x 2)\n",
      "CQYG/11 (8 x 3)\n",
      "JIMN/3 (2 x 2)\n",
      "VYGT/2 (1 x 3)\n",
      "KBPA/2 (0 x 2)\n",
      "KBPA/5 (4 x 2)\n",
      "KBPA/10 (4 x 2)\n"
     ]
    }
   ],
   "source": [
    "# No common key length there at all.\n",
    "# According to the message in 9a, this is a telegram.\n",
    "# Let's try the previous exercise with 4 letter words, some of which should be \"STOP\"\n",
    "\n",
    "for word in set(alpha.split()):\n",
    "    if len(word) == 4:\n",
    "        for n in range(2,27): \n",
    "            get_alignment(squished, word, n)"
   ]
  },
  {
   "cell_type": "code",
   "execution_count": 32,
   "metadata": {},
   "outputs": [
    {
     "name": "stdout",
     "output_type": "stream",
     "text": [
      "EXTO: MEFZ\n",
      "ZTDC: HAPN\n",
      "MNLV: UUXG\n",
      "OLQH: WSCS\n",
      "WKIP: ERUA\n",
      "CQYG: KXKR\n",
      "JIMN: RPYY\n",
      "VYGT: DFSE\n",
      "KBPA: SIBL\n"
     ]
    }
   ],
   "source": [
    "# A function to reverse search for a key that would convert the given word to an encoded word\n",
    "def lookup_key(word, encoded_word):\n",
    "    key = \"\"\n",
    "    for letter, encoded_letter in zip(word, encoded_word):\n",
    "        diff = (ord(encoded_letter) - ord(letter)) % 26\n",
    "        key += chr(diff + ord('A'))\n",
    "    print(f\"{encoded_word}: {key}\")\n",
    "\n",
    "for stop_candidate in (\"EXTO\", \"ZTDC\", \"MNLV\", \"OLQH\", \"WKIP\", \"CQYG\", \"JIMN\", \"VYGT\", \"KBPA\"):\n",
    "    lookup_key(\"STOP\", stop_candidate)"
   ]
  },
  {
   "cell_type": "code",
   "execution_count": null,
   "metadata": {},
   "outputs": [],
   "source": []
  }
 ],
 "metadata": {
  "kernelspec": {
   "display_name": "Python 3",
   "language": "python",
   "name": "python3"
  },
  "language_info": {
   "codemirror_mode": {
    "name": "ipython",
    "version": 3
   },
   "file_extension": ".py",
   "mimetype": "text/x-python",
   "name": "python",
   "nbconvert_exporter": "python",
   "pygments_lexer": "ipython3",
   "version": "3.8.3"
  }
 },
 "nbformat": 4,
 "nbformat_minor": 4
}
