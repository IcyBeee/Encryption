{
 "cells": [
  {
   "cell_type": "markdown",
   "metadata": {},
   "source": [
    "# Coronavirus distraction Cipher Challenge 2020\n",
    "## Challenge 9b, Hidden Depths\n",
    "Challenge link https://www.cipherchallenge.org/challenge/competition-challenge-9/"
   ]
  },
  {
   "cell_type": "code",
   "execution_count": 1,
   "metadata": {},
   "outputs": [],
   "source": [
    "message9b=\"\"\"-..- -... --. --. ..-. --- - -.. .. ...- ..- .- - ..- -... --. --. ..-. -- / ...- --.- / ..-. .-. .-. ..- --. .-.. --.- -.. .-- .... / ... - .. ...- . -..- -- ... .-. .-- / -.- - .-- / -.-- -. --- ...- ... -.- - --.. / ...- -- / -... .--. -- / . -. ...- -..- .- - / --.. -... -.-- -. . -- -.. / . --.. / ..-. - --.- / ... -. --. ..- .-. . -.-- -. .- --.- / --. .... -.-. -.. / .-.. - .-- --. -... .--. .-. .-- .. .... .. --. - -..- ..- - -.-. ... -..- - -.-. .... .. / ..-. ..- .... .. . -.. -.. ..- -... / -.- ..-. / . ... .- ..-. .-.. ... .- ..-. / .-.. -- - -- -... .... --. / -- -.-- .-- --- .-.. -.-. -. ... / -. --- .--- -.- / ... .-- -.-- -.. / -.-- -..- --.- -..- ..-. .. .. .-.. -.- / .-. -- / --. --.. ..- -.. / .-. . ... .--. --- -. ... .. -... .. .-.. .. - -.-- / --. .--. ... / ..- --. . .-- - -.- ...- .- / .-. .. / -..- .-.. .. / .-- - --.- --.- -. ... .-.. / -.-- --.. ..- .. --.- / --.. .- ...- .-- / .-.. --.- -- / .--- ..- .-.. --.- -. ...- .-. -... -.-. -. .-- / -.. -.-- / -.-. .--. . .-.. - -.-- / .- .... --.- -.. -- -..- -..- / .--. -... --.. --.. -. .- --.- / -.-. - / .. .-- - / -.-. -.-- .. .. -.-- . -.. / .--- -.- ..-. --. / --. .... .-- .--- ... .-.. .- --. ..-. ... -.. / ...- .... --. -- -.- .... . / ..-. -.-. -.-- -- / .-. -.. --- -.-. / .--. -.. .- / -.-. -... .. .- -.. -... -.- .- -..- --- .--- -... --- ..-. -... / --.- .-. -- -. / ... --.- --.. -... .--- / .- -. -.. / ..- ... -... .--- --- / ..- --. . .-- - -.- ...- .- / .-.. ...- / -..- .-.. .. / .-- .--- -..- ..- - ... -..- -. --. -. --.- -. -.-- -.. / ..- .-.. / --. -... -. -.. .... .--- --- / .- -... .-- -..- / .-.. -..- -.. .-- -.-. -. .- .-. .-- -.-. -. ..- ..- .-. .--. -. .-- .-.. -. / -.. -.-- / -- .--. / ..-. - --.- / . .-. ..-. -.-. -... .- ..-. ...- --- ...- -.-- ...- --. .-.. / -.-. - / .. .-- - / --.- .-. -- ..- -..- .... / .--- -.- ..-. --. / .- ..-. .-.. .-- -.. -.. .- -.-- .-- ..-. ..- .-- / ...- .... --. ...- -..- -.- --. -... --. --.. / ..- ..-. ..-. / ...- -. -.- --.. -..- --- -. / -.- -... / --.- . -... / -.- --. --.- --.- --. -- .-.. / ... -. / -... . / -.. .--. .--. ... . .--- --- -... ..- ..-. . / -..- -.- -.-. / .-- -.- .... / .-- -- --. .-.. .. ...- .-.. .. -- -..- .-- .... -- .. .-. .-- -..- / -..- -.-- - ..- / ...- .-. --. - --.. / -.- .--. -.-- .-.. .--- .- ...- -.-- / .--- .-. .. --.. ...- -- / .-- .-. ..- -... -... -. .-- / ... -.-. / -.-. .--. -.. .- --.. -.-- -.. - -- .-- .--. / .-. .- -.. / -.-. . .-. -.-. -. . -. --. ...- -... .- / -.-. - / .. .-- - / .. -..- -.-- ..-. -.-. ..- -.. .--- / .--- -.- ..-. --. / --.. .-- / .- - .-.. / -.-. .... --.. .. .-.. --. -.-- -..- / .--. -. / .--. -.. .-- .--. / . -... / ..- --. .--- .--- / .- -.. / .-. . .- -.. -.-- / ..- .--. / ..- .--- -.- .-. / .-- -.- .... / -- -..- .. --.- / - ... / -.-- .- - .--- --. . / .- -.. .-.. ..- .- .--. .-.. .- --- / -. -- .--- --.. -.-. .. --.. --. / -... -.-. -..- -.-- / --- ..-. --- -... .. -.-- -..- --- / - -.-- --. --.. .-- --. .--. --- / ..- --.. / --. ..- .-. / --. ...- .-- -.. .- ... -... .... / .. -.. / .-. ..- / -- ...- -.- -.- ...- ..- / - --.- / -- .- -..- / ..-. .. .-- ..- ..-. / -. -..- -.-. .--. --- ..- -. --- ...- .- .- --.. --. / --- .--. -.- .-.. / --- -... -- .-.. --- --.- .--. / -- -.. / --.. -- -..- / .-. . ... .. ... - .- -. -.-. . / -... -.. ..- .--- .-- .--- ..- --.. / -.-. - --. / .-- .-. / ..-. .. / -.- - .-- -... ..-. .-- .. .--- .. / --.. ..- / .- --- .-.. / .. .--- . -- .--. --.. / -... -.-. -..- -.-- / -- -.- -.-. ..- -.-. / . --.. / -. --.- / . .-. .--- .-. ...- - ..- .-. --.- / --- .... / --. -.-- .--- --.. .--. -.-. / .--- . / ...- . .--- .-.. .. ...- / .-.. --.. .-- / . .... - .-- / -... ..- -- / .. .--- --- / -..- .- .- .--- / --.- -..- .--- -- -... --- -... .- / ..- --. .-. ..-. / .-. ... -. --- / .... .- -. -.. --- ...- . .-. / ..- .--. / -.. --. / .--. .-. --.- .-.. .-- .-. ..- .... --. / --. .--. ... .-- .. .--. -.-. / ..-. -.-- / -.- -... -.- -..- . / --.. .- .... -. .-.. / .--- --. / .. -.. .--. ..-. .--- .-.. --.- / -.-. -.. -.-- --.. / .-.. .-- .-- / -.. .- -..- -..- ..- --.. ... / ..-. --. -... .--. -..- / .... -.-. / --.- - / -.-- -.. .. ..-. ..- ... .--- ..- - / -.- -.-- ..-. .. ..-. .-.. -..- -.-- -.-. .--. / - --.- / .--. -..- .- -.- ..-. - ...- .- -- .-.. -- -.- -..- -... -.-- -..- --. .-- -... -..- --. .-.. -- / ...- -.-- --.. .. .-.. -.-- / --. .--- ...- -.-- -.. .. -... / --- .--. -.- .-.. / .. .-.. -..- .- ..-. -.- -.. / -. .--- -.-- .-. -.. -- .--. -.- --.- / ... -. / -... . / .--- --- - --.- ..-. -.. ..- ..-. . / ..-. -.-. -.- -. .- / -..- --.- .-- .-.. --- / -..- .-.. .. / -..- -- -. ..- .-. .--- ... -.-- / --. - .--- / --- ...- -... -.-- ... ..-. / .-.. -.-. --.. --.- ...- --- / -.-. --.- -. / -.-- --.. --- -... -.- -.. ... -.-- -..- / -.. . --.. .- / -..- --.- -- .... --.- / .--. -. .- .--. .-. -.-- -.-- .-. --.- / - -.-. ..-. / .--. .- .- / .--- .... . . ..-. .. / .-. . ..- / .... --. -.. .- ..- .-- / .-.. -- .... .. / -.-- .--. -.-- .-.. ... / ...- -- .... - / --.- .--- . .--. / ..-. -.- / .-. ..-. -.-. / ..- .... -... .... -- .... ... -..- / .. ... / ... ..-. .-. ...- .--- ... ..-. . / ...- --.- / ... ..- .-. -.-- .-.. --. .... / -.- -.-- . ...- .... / ..- ..-. -.-- .-- - --.- -..- / .-.. ..- -..- / -.-- ...- ... ... .--. ..- -. / .- -... .-- -.- ... / .- -..- -.. -.-. -. / -.-. -.. -.-- --.. / -.-- - .--. .-- -.. .--. -.-- / ..-. .- / --- .-. / .-- -... --. .... ..-. .. --.- .... ... .-. / .. -.. / . .... .-- --.- -.. -.-- .. ..- / -.- -.-- ...- / .-.. .--- ... ..-. -.- .... --. .--- .-.. / .... -.-- / -. -... -.-- / -. -.-. -.. -.- .... --.. .. --- / --- .--. -.- .-.. / -.. -... . -... ..-. .--- -... / -.. -.-. .--- -... -. -- .--- --. -..- -.-. --. / ... -. / -- --- -. .. - --- .-. / - ..- -... --. --. / -.-. ...- / .... -.-- .... ..- -... / .-- -..- . -..- -- ... .-. / ..-. ... .. / ..- - / .-.. -.-. .-.. -.-- ..-. / -... --.. .. --.- ...- / -... -.-. -..- -.-- / --- -..- -.. -... .. --. -.- .. -.-. / . --.. / ..-. - --.- / -.-. -.-- -. .- --. / --- -... .-. / --. .--. -..- .- / ...- --.- ... -.-- -... -.-- .--- -.-- ..- .. / -.- ..-. / - .-- / --.. -. - -.- .-- -..- .-- / ...- ... / .-. --.. -.-. -- .... ...- -..- -.-. --- -. --- -- --.. -.. .- --.. .. -.-- -.. --.. .. -. --- / .-.. .- -. --- -.- .--- .--- .- .... / -..- --.- / -.-- .--- .--- / ... .... .-.. -.. .-. / ... - --- .--. / . .--. .--. ... - / ...- --.- / .-- -.- .... / .-- -..- ... ...- . -.- .. / ..-. ... .. / --.. -..- --. - -.-- ...- ..- -..- --.. / -- .... .--- .--. ... .--. .- .--. .-.. --.. / -... .-- / -.- -. / ...- -.-- -- ..- --- -. / .-.. . / -- -..- -..- / --. ...- --.. .-. ..-. / --. .... -.-. -.. / -.. .--- .. .... -..- ... - / .--- -..- ..- / -.-. ..-. -..- --.. .--- -.- --.. - .--- / .-.. .-- ... . / - --. .-- / ..-. .. .-- ..- ..-. / -. --.. -..- .--. -- -.. --- - / -.- .-.. .- -. .-- .--. . -.- .--- --- / .-.. -.- .. ...- / -- -.. -.. --. .- -.-. .--. --.- / -. . / - .... . / - - / -.-. .--. ..-. / .--. .... .--. . .... ..- ...- / ... .--- / .. -. .--- / --. .-. .. -. -.- ... --- -.-- --.. -.- - / .--- .... ..- / .--- -- / .-.. -..- -.-- .-. -. -- / ... -..- -.. -.-- / . ... .--. / -... -..- -- --.. . / ..-. --. -... -.-. / .... .-- -... -... -.-. --. ... .... / .. -.. / .-. ..- / --. .. ...- --. .-. .. ...- ..- / .-.. --. / -.- -..- ...- -..- -... --- -..- / -. -... -.-- / -. -.-. -.. -.- .... --.. .. --- / -..- --.- .--. / -.- .-.. / --. .-.. -... --. .- -.-- .-. --. -- .-.. / .-. --. -. - -.- -.-. / -... . / .... .--- .-- ..-. --- / --.- .... / .-- -.- .... / .-. . -..- -.-- ...- .. / - -.- / --.. -. -.- / .--- .... -.-- -. ...- / .- -... .-- -..- / -..- .- -- -. .- -... / .--. -.-- -... / --.. -.-- .... .-.. -.-. --- -.. / . - ..- -... -.-- --.- --.. ..-. / ... . -... --.. / .... .-- -... -... -.-. --. ... .... / .-.. -..- .- .- / .-. ..- / --. .. ..-. -- --.. ..- ...- ..- / -.- .-- .... ... .--- ... .-.. .-- -.. --.- / .-.. -- .... .. / .-.. -.. --- . ..- .... --.. .. -- / --- .--- / -..- .- / -- --- -... -- -..- --- -... .- / -.. -- .--. / .-. --. .... --- .-.. -.. -- ... / .- ... / -... / ..-. --. . --.- .- / ...- .-- .-. ... / -.- -.-- . ...- .... .-- / -.-- - / .... -.- / .-- ... .... .--- .-.. -.- / --.- ...- / -.-- .- -..- ...- .-. .-- -. .-- -.-. / --.. -.-- -.-. ... -.. ... -.-- -..- -.-. / --.. -.-- / ..-. - ..- . / .. .-. ..-. ..-. .-. -.-- / --. .... -.-. -.. / .... ..- / -..- --- - .... . / -.- ..-. / - .-- / -. .-.. -..- .-- / -. .. / -. -.-. -.. -.- / .--. -.. .- / -- --- .-.. .- .-. --.. --.- / --.- .-. -- -. / -.- -. --.. -.-. .... -- ..-. / .--. .-.. .- -. ... / ..- .--. / -.. --. / .... ...- .-- -.. . --- .-.. ...- -.- .... --. / .--- ... ...- / ..-. / .--- .- ... ... . / .--- .... -.-- -. ...- / .-- ...- / -... --- / -... - . -.- ..- -.- -..- .--. -.-- -.-. / -.. . --.. .- / -- .--. .--. ..- ..-. ..- .- --.. -- -..- / ..-. .-. .--. .... . ...- --. .-.. / .- ... --- --. .. ..-. ... --. / .... .-- -.. .--- .- ... / -.. . .--- / ... ...- / .... -- .-.. / -... --. / .--- ..-. ..- .-- -.-- / .--- .. / .--. -.. .- / .. -..- -.- .- ..-. -.- -.. / --.- .-. -.-- . -.-. / . -. --.- / ... ..-. / .. --.. . ... .--. / ..- ...- --.- .-. / ...- .... ..-. -..- ..- .-.. .-- -... / ...- ... -.-- -..- -- .-. .. .-- / .-. --.. -..- -.-- / .... -.- / - .... .--. ..- .- .... .--. ..- .-.. -.- / --.- ...- / -..- .- -- -. .- / -.. -.-- / -.-. .--. - -.-- --.- --.. -.-. -. .--. / ..-. - --.- / --.- .-. .--. -... .-.. / -.-. -... / --. -.-- .--- --.. .--. -.-. ..- -.. .... / .. .--- . ..-. / -.-- ...- .-. -- .--. / --- ... .-.. .-- .--- / -- .... / ...- -.-- / ..-. --.. -.- --- / --.- .--- --.. .- -. / .-.. -.-- .--. -... --- ... -..- --.- ..-. .-.. -.- / -.-- .-. / --.. -.- -.- / - .. -- . ... / - ..- .--. --.- / --. --.. ...- - -.-. / ...- .... ..-. -..- ..- .-.. .-- -... / -..- ... / --. .--- / ...- -..- ..- -... --- .--- -.- .--- / ...- ..- / .. - - / -.-. .- .--- .-- -... -.-- -..- .- -.-. / . -..- -.. ... ...- / . ... .--. / --- -- -.. ... .- / ..- -. ..-. / ..-. ... --- --.- ...- ... .-. / ... -..- - / --.- -... ... -..- ..- -.-. -.-- .. .--- ..- -.. / .--- -.- ..-. --. / -.. --. ..- ... -.. / .... -.-- -.-- -... ...- -... - . .-.. / ..- .... -..- / --.. .... -.- --. .--- - --.. --.. -. / .-- -. .- / --.- .-.. / --.. -.-. / --.. .-. .-. - .-.. -.. -.-. / - --- / -..- .--. ... .-.. / .... --.- - / .-- -.- .... / ...- .. .-- -- .-- -..- . .-. --. .. / --.. ... --.- .--- -..- -..- / -... -.- --.. --.. -.- .--- / --.. .- ...- .-- / --.- ...- -. .-- --.. ..- .. -... --.- .-- ...- / .--- -.- -..- -.. -.-. / -.. .-. --- / -.. ... - .- -..- .--. -.-- . / . - .- --. -..- .--. / --- .-. / ... -... --.- ..-. -- -.. .... ... .-. / .--- .... -..- -.-. ...- / -..- -.-- .-- -..- / -..- .. .-. ..- ...- / -..- .- .-- -.. ...- / ...- -... .. .- -..- -.- .-.. / -- -. .. .--- / --- --.. .... -.- .--- -- ...- -- - / --- .- -.-- --.- -. . .--. ..- / .--- -... -..- .--. .-. --- -... .--. / .- -.-- .-.. / -. -- -.- -..- / -... . / -- .--- --. ..- ..-. . / --.- .--. . --. / .-- -.- .... / --. . ...- -.- ... / -- ..-. -..- / -..- -.- --. .. -. -.- .--- / .- --- .-.. / ...- -- ..-. -... / -... -.-. .--- .--. .-. .-- .--. / --.. -.-- -.-. -.. / -.. . --.. .- / --.- .--- ..-. -.. -- / . .-. ..-. -... .... . .--. .-. ..-. / --.- --- -... / --.- - / ..-. .... . .-.. -.-- - ..- - / .-- ..-. .. / ... -.. -.. / - .-.. .. -..- ...- -- .-.. / .. --.. / --- -.-. -.. -. / .. . --- --- . -.- .--- / .-.. -.- / .--. -.-. --- ... -.-. --.- .-. / ... -. / -.. .. . / -... -- -.. .. ..-. -. .--- - ..- ..-. --- / ..- ...- --.- .-.\"\"\""
   ]
  },
  {
   "cell_type": "code",
   "execution_count": 2,
   "metadata": {},
   "outputs": [
    {
     "name": "stdout",
     "output_type": "stream",
     "text": [
      "xbggfotdivuatubggfm vq frruglqdwh stivexmsrw ktw ynovsktz vm bpm envxat zbynemd ez ftq sngureynaq ghcd ltwgbprwihigtxutcsxtchi fuhieddub kf esaflsaf lmtmbhg mywolcns nojk swyd yxqxfiilk rm gzud responsibility gps ugewtkva ri xli wtqqnsl yzuiq zavw lqm julqnvrbcnw dy cpelty ahqdmxx pbzznaq ct iwt cyiiyed jkfg ghwjslagfsd vhgmkhe fcym rdoc pda cbiadbkaxojbofb qrmn sqzbj and usbjo ugewtkva lv xli wjxutsxngnqnyd ul gbndhjo abwx lxdwcnarwcnuurpnwln dy mp ftq erfcbafvovyvgl ct iwt qrmuxh jkfg aflwddaywfuw vhgvxkgbgz uff vnkzxon kb qeb kgqqgml sn be dppsejobufe xkc wkh wmglivlimxwhmirwx xytu vrgtz kpyljavy jrizvm wrubbnw sc cpdazydtmwp rad cercnengvba ct iwt ixyfcudj jkfg zw atl chzilgyx pn pdwp eb ugjj ad ready up ujkr wkh mxiq ts yatjge adluaplao nmjzcizg bcxy ofobiyxo tygzwgpo uz gur gvwdasbh id ru mvkkvu tq max fiwuf nxcpounovaazg opkl obmloqp md zmx resistance bdujwjuz ctg wr fi ktwbfwiji zu aol ijempz bcxy mkcuc ez nq erjrvturq oh gyjzpc je vejliv lzw ehtw bum ijo xaaj qxjmboba ugrf rsno handover up dg prqlwruhg gpswipc fy kbkxe zahnl jg idpfjlq cdyz lww daxxuzs fgbpx hc qt ydifusjut kyfiflxycp tq pxakftvamlmkxbyxgwbxglm vyzily gjvydib opkl ilxafkd njyrdmpkq sn be jotqfdufe fckna xqwlo xli xmnurjsy gtj ovbysf lczqvo cqn yzobkdsyx deza xqmhq pnapryyrq tcf paa jheefi reu hgdauw lmhi ypyls vmht qjep fk rfc uhbhmhsx is sfrvjsfe vq surylgh kyevh ufywtqx lux yvsspun abwks axdcn cdyz ytpwdpy fa or wbghfiqhsr id ehwqdyiu kyv ljsfkhgjl hy nby ncdkhzio opkl dbebfjb dcjbnmjgxcg sn monitor tubgg cv hyhub wxexmsr fsi ut lclyf bziqv bcxy oxdbigkic ez ftq cynag obr gpxa vqsybyjyui kf tw zntkwxw vs rzcmhvxconomzdaziydzino lanokjjah xq yjj shldr stop eppst vq wkh wxsveki fsi zxgtyvuxz mhjpspaplz bw kn vymuon le mxx gvzrf ghcd djihxst jxu cfxzjkztj lwse tgw fiwuf nzxpmdot klanwpekjo lkiv mddgacpq ne the tt cpf phpehuv sj inj grinksoyzkt jhu jm lxyrnm sxdy esp bxmze fgbc hwbbcgsh id ru givgrivu lg kxvxbox nby ncdkhzio xqp kl glbgayrgml rgntkc be hjwfo qh wkh rexyvi tk znk jhynv abwx xamnab pyb zyhlcod etubyqzf sebz hwbbcgsh lxaa ru gifmzuvu kwhsjslwdq lmhi ldoeuhzim oj xa mobmxoba dmp rgholdms as b fgeqa vwrs kyevhw yt hk wshjlk qv yaxvrwnwc zycsdsyxc zy ftue irffry ghcd hu xothe kf tw nlxw ni ncdk pda molarzq qrmn knzchmf plans up dg hvwdeolvkhg jsv f jasse jhynv wv bo btekukxpyc deza mppufuazmx frphevgl asogifsg hwdjas dej sv hml bg jfuwy ji pda ixkafkd qryec enq sf izesp uvqr vhfxulwb vsyxmriw rzxy hk thpuahpulk qv xamna dy cptyqzcnp ftq qrpbl cb gyjzpcudh ijef yvrmp oslwj mh vy fzko qjzan lypbosxqflk yr zkk times tupq gzvtc vhfxulwb xs gj vxubojkj vu itt cajwbyxac exdsv esp omdsa unf fsoqvsr sxt qbsxucyijud jkfg dgusd hyybvbtel uhx zhkgjtzzn wna ql zc zrrtldc to xpsl hqt wkh viwmwxergi zsqjxx bkzzkj zavw qvnwzuibqwv jkxdc dro dstaxpye etagxp or sbqfmdhsr jhxcv xywx xiruv xawdv vbiaxkl mnij ozhkjmvmt oayqnepu jbxprobp ayl nmkx be mjgufe qpeg wkh gevks mfx xkginkj aol vmfb bcjprwp zycd deza qjfdm erfbheprf qob qt fhelytut wfi sdd tlixvml iz ocdn ieooekj lk pcoscqr sn die bmdifnjtufo uvqr\n"
     ]
    }
   ],
   "source": [
    "# Well that's obviously morse code\n",
    "m2t = {\".-\":\"a\", \"-...\":\"b\", \"-.-.\":\"c\", \"-..\":\"d\", \".\":\"e\",\n",
    "       \"..-.\":\"f\", \"--.\":\"g\", \"....\":\"h\", \"..\":\"i\", \".---\":\"j\",\n",
    "       \"-.-\":\"k\", \".-..\":\"l\", \"--\":\"m\", \"-.\":\"n\", \"---\":\"o\",\n",
    "       \".--.\":\"p\", \"--.-\":\"q\", \".-.\":\"r\", \"...\":\"s\",\n",
    "       \"-\":\"t\", \"..-\":\"u\", \"...-\":\"v\", \".--\":\"w\",\n",
    "       \"-..-\":\"x\", \"-.--\":\"y\", \"--..\":\"z\",\n",
    "       \".----\":\"1\", \"..---\":\"2\", \"...--\":\"3\", \"....-\":\"4\", \".....\":\"5\",\n",
    "       \"-....\":\"6\", \"--...\":\"7\", \"---..\":\"8\", \"----.\":\"9\",\"-----\":\"0\",\n",
    "       \"/\":\" \"}\n",
    "\n",
    "alpha = \"\"\n",
    "for letter in message9b.split():\n",
    "    alpha += m2t[letter]\n",
    "print(alpha)"
   ]
  },
  {
   "cell_type": "code",
   "execution_count": 5,
   "metadata": {},
   "outputs": [
    {
     "name": "stdout",
     "output_type": "stream",
     "text": [
      "waffenschutzstaffel to coordinate operations for shipment of the vemork product to the fatherland stop wehrmachtstreifendienst personnel to maintain station security stop wach bataillon to have responsibility for security of the rolling stock stop die alchemisten to retain overall command of the mission stop operational control lies with the feldgendarmerie stop track and train security is the responsibility of zugwach stop counterintelligence to be the responsibility of the abwehr stop intelligence concerning all aspects of the mission to be coordinated via the sicherheitsdienst stop plant director bjarne nilssen is responsible for preparation of the shipment stop he has informed us that he will be ready to ship the item on sunday twentieth february stop everyone involved in the shipment to be vetted by the local schutzstaffel stop reports of any resistance activity are to be forwarded to the abwehr stop casks to be reweighed at rjukan to ensure the load has not been tampered with stop handover to be monitored closely at every stage by zugwach stop all rolling stock to be inspected thoroughly by wehrmachtstreifendienst before loading stop loading platforms to be inspected daily until the shipment and hourly during the operation stop leave cancelled for all troops and police stop every army unit in the vicinity is required to provide guard patrols for rolling stock route stop nielsen to be instructed to organise the transport of the shipment stop geheime feldpolizei to monitor staff at every station and on every train stop entryways to the plant and rail facilities to be guarded by wehrmachtstreifendienst personnel at all times stop doors to the storage and transport facilities to be locked at all times stop outside the logistics team and local security operations only officers of the ss and members of die alchemisten can be copied into the plans stop tinnoset to be prepared to receive the shipment but no indication should be given of the nature of the cargo stop orders for onwards shipment from tinnoset will be provided separately stop rjukanfos to be prepared for shipment as a decoy stop guards to be placed in prominent positions on this vessel stop sf hydro to be used to ship the product stop loading plans to be established for a dummy cargo on sf rjuakanfos stop additional security measures should not be put in place on the landing stage for sf hydro stop security routines must be maintained in order to reinforce the decoy on rjukanfos stop heavy water to be kept under observation at all times stop extra security to be provided on all transport until the cargo has reached die alchemisten stop local officials and employees are to be assumed to work for the resistance unless vetted stop information about the shipment should be encrypted using high grade field ciphers stop temporary security measures can only be lifted once the cargo has reached the next staging post stop extra resources can be provided for all aspects of this mission on request to die alchemisten stop \n"
     ]
    }
   ],
   "source": [
    "# OK - looks like every 26th word is english.\n",
    "# Perhaps there's a different shift for each word?\n",
    "\n",
    "def shift_word(word, n):\n",
    "    shifted = \"\"\n",
    "    for letter in word:\n",
    "        shifted += chr((((ord(letter) - n) - ord('a')) % 26) + ord('a'))\n",
    "    return shifted\n",
    "\n",
    "n = 1\n",
    "plaintext = \"\"\n",
    "for word in alpha.split():\n",
    "    plaintext += shift_word(word, n) + \" \"\n",
    "    n = (n + 1) % 26\n",
    "print(plaintext)"
   ]
  },
  {
   "cell_type": "code",
   "execution_count": 19,
   "metadata": {},
   "outputs": [
    {
     "name": "stdout",
     "output_type": "stream",
     "text": [
      "wwwdotcipherchallengedotorgslashelite"
     ]
    }
   ],
   "source": [
    "# After reading loads of hints in the forum, here's a hidden message pointing to bonus challenge 10!\n",
    "for sentence in plaintext.split(\"stop \"):\n",
    "    if sentence:\n",
    "        print(sentence[0], end=\"\")"
   ]
  },
  {
   "cell_type": "code",
   "execution_count": null,
   "metadata": {},
   "outputs": [],
   "source": []
  }
 ],
 "metadata": {
  "kernelspec": {
   "display_name": "Python 3",
   "language": "python",
   "name": "python3"
  },
  "language_info": {
   "codemirror_mode": {
    "name": "ipython",
    "version": 3
   },
   "file_extension": ".py",
   "mimetype": "text/x-python",
   "name": "python",
   "nbconvert_exporter": "python",
   "pygments_lexer": "ipython3",
   "version": "3.8.3"
  }
 },
 "nbformat": 4,
 "nbformat_minor": 4
}
