{
 "cells": [
  {
   "cell_type": "markdown",
   "metadata": {},
   "source": [
    "# Cipher Challenge 2020\n",
    "### Challenge 5\n",
    "\n",
    "Challenge link https://www.cipherchallenge.org/challenge/competition-challenge-5/"
   ]
  },
  {
   "cell_type": "code",
   "execution_count": 1,
   "metadata": {},
   "outputs": [],
   "source": [
    "# Part A - \"Lincoln Cathedral\"\n",
    "part_a_text = \"\"\"WFGJB WBLGL NOTFA VBTGM BTOPJ AEBAN YTRAG NBLAD BNTSW GTFTF BJONL ONSEO UTDRO UPSTF BAIBJ AOPBR ATGON LGLMA NADBT ORBER UGTAN LKRGB CSBVB RAJMB MKBRS OCTFB JGNEO JNSEO UTGND ASSOE GATGO NANLO NBOCT FBMFA SMALB AMAHO RKRBA ITFRO UDFSP OTTGN DSOMB TFGND TFATO URRBD UJARA DBNTS FALNO TNOTG EBLTF BJONL ONPAR TYEON SGSTB LOCTW BNTYT FRBBE YEJGS TSKUT TFBDR OUPAR RGVGN DGNJG NEOJN FALON JYTWB NTYMB MKBRS ATCGR STGAS SUMBL FBFAL MGSEO UNTBL KUTTF BPFOT ODRAP FGNTF BJOEA JPAPB RAEEO MPANY GNDTF BGRRB PORTO NTFBV GSGTE ONCGR MBLTF BNUMK BRGWG JJMAI BBNQU GRGBS WGTFO URJON LONAD BNTST OSBBG CTFBY FAVBA NYTFG NDONT FBOTF BRTFR BBANL WGJJK RGBCY OUONT FATNB XTTGM BTFBD ROUPW ASTRA EIBLA STFBY RBTUR NBLSO UTFSP JGTUP ANLVG SGTBL AEFAG NOCBS SBXAN LIBNT VGJJA DBSAJ ONDTF BTFAM BSKUT LBSPG TBTFB GREON TGNUG NDGNT BRBST GNJAN LMARI SNOTF GNDOK VGOUS GNTFB GRKBF AVGOU RSUDD BSTBL ANYPA RTGEU JARPJ ANTFB NORTF BRNDR OUPAR BNOWS TAYGN DWGTF SEOUT SGNEA NBWLO NANLA IBJAF ASRBE RUGTB LONBO CTFBM TOSPY ONTFB PARTY OURAG RMGNG STRYE ONTAE TSARB GNERB ASGND JYAJA RMBLA KOUTT FBSPY EJGST SKUTA RBSTG JJNOT PRBPA RBLTO TBJJU SWFAT GTGST FATGS WORRY GNDTF BMTFB YARBP ARTGE UJARJ YADGT ATBLA KOUTT FBPRB SBNEB ATEAG STORA NLNOW ATEAN BWLON ANLTF GSEON EBRNA KOUTA ETGVG TYGNB ASTAN DJGAA NLBSS BXMAI BSMBW ONLBR GCGTG SEONN BETBL WGTFA GRLBC BNEBC ORTFB EAPGT AJKUT TFBYA RBRBC USGND TOTBJ JANLG TWGJJ KBFAR LCORU STOFB JPTFB MGCTF BYWON TTBJJ USWFA TWBAR BSUPP OSBLT OKBPR OTBET GNDTF BATTA EFBLT BJBDR AMWAS EOPGB LKYAN AIBJA ADBNT GNSPA JLGND FGSSG STBRW ORISA TTFBT BJBDR APFYO CCGEB ANLDA VBFGM AEEBS STFBM BSSAD BWASL BJGVB RBLKY ONBOC TFBSP YEJGS TSANL ONEBM ORBGT WASAL LRBSS BLTOW GJFBJ MGNTG RPGTZ UCBRT FBSPY EJGST SFAVB RBVBR TBLTO ASUKS TGTUT GONEG PFBRC ORTFG SMBSS ADBKU TKJOE IBLGT TOLGS DUGSB TFBMB SSADB STRUE TURBT FATMA LBGTA JOTFA RLBRT OERAE IKUTG AMDJA LGLGL GTFAS ASBER BTMBS SADBF GLLBN GNTFB LBEGP FBRBL TBXTW FGEFS UDDBS TSTFA TTFBS PYEJG STMGS SGONG SEJOS GNDON GTSAG MSGAM NOTSU RBWFA TTFBG NGTGA JSRLC STANL CORKU TGWGJ JDOKA EITOT FBAGR MGNGS TRYTO ASIGC TFBYF AVBAN YSUDD BSTGO NSGTG SAJSO EJBAR CROMT FBEON TBNTS OCTFG SMBSS ADBTF ATTFB DBRMA NSARB DBTTG NDAJG TTJBS USPGE GOUSS OWBWG JJNBB LTOST BPUPO UROWN SBEUR GTYGW GJJSB NLMYN BXTKR GBCGN DUSGN DAVGD BNBRB EGPFB RWGTF IBYJB NDTFT FRBBM ORBTO COJJO WPBAR J\"\"\""
   ]
  },
  {
   "cell_type": "code",
   "execution_count": 2,
   "metadata": {},
   "outputs": [],
   "source": [
    "# Bring in the basic decoder function\n",
    "import string\n",
    "\n",
    "# A simple translation method.\n",
    "# text: The text to translate, in upper case\n",
    "# key: A substitution alphabet, usually in lower case so that the translated characters show up\n",
    "def decode(text, key):\n",
    "    table = str.maketrans(string.ascii_uppercase, key)\n",
    "    print(text.upper().translate(table))"
   ]
  },
  {
   "cell_type": "code",
   "execution_count": 3,
   "metadata": {},
   "outputs": [],
   "source": [
    "from collections import Counter\n",
    "\n",
    "# Takes a string or list of items and counts the frequencies of those items\n",
    "# data: The list or string to analyse\n",
    "# max_values: The maximum number of values to display (set to None for no limit)\n",
    "# no_columns: The amount of columns to use in the output\n",
    "def frequency_analysis(data, max_values=30, no_columns=5):\n",
    "    frequencies = Counter()\n",
    "    for item in data:\n",
    "        frequencies[item] += 1\n",
    "    \n",
    "    total = sum(frequencies.values())\n",
    "    column = 1\n",
    "    for item, frequency in frequencies.most_common(max_values):\n",
    "        print(f\"{item}: {frequency:2} ({frequency / total:.2%})\", end=\" \" if column % no_columns else \"\\n\")\n",
    "        column += 1\n",
    "    print(\"\\n-----\")"
   ]
  },
  {
   "cell_type": "code",
   "execution_count": 6,
   "metadata": {},
   "outputs": [
    {
     "name": "stdout",
     "output_type": "stream",
     "text": [
      "B: 228 (11.72%) T: 218 (11.20%) G: 158 (8.12%) A: 157 (8.07%) S: 136 (6.99%)\n",
      "N: 132 (6.78%) O: 123 (6.32%) R: 114 (5.86%) F: 102 (5.24%) J: 75 (3.85%)\n",
      "L: 70 (3.60%) E: 63 (3.24%) U: 59 (3.03%) D: 55 (2.83%) M: 45 (2.31%)\n",
      "P: 45 (2.31%) W: 36 (1.85%) Y: 36 (1.85%) C: 28 (1.44%) K: 27 (1.39%)\n",
      "V: 16 (0.82%) I: 15 (0.77%) X:  5 (0.26%) H:  1 (0.05%) Q:  1 (0.05%)\n",
      "Z:  1 (0.05%) \n",
      "-----\n"
     ]
    }
   ],
   "source": [
    "squished = part_a_text.replace(\" \", \"\")\n",
    "frequency_analysis(squished)"
   ]
  },
  {
   "cell_type": "code",
   "execution_count": 8,
   "metadata": {},
   "outputs": [
    {
     "name": "stdout",
     "output_type": "stream",
     "text": [
      "WhGJeWeLGLNOthAVetGMetOPJAEeANYtRAGNeLADeNtSWGththeJONLONSEOUtDROUPStheAIeJAOPeRAtGONLGLMANADetOReERUGtANLKRGeCSeVeRAJMeMKeRSOCtheJGNEOJNSEOUtGNDASSOEGAtGONANLONeOCtheMhASMALeAMAHORKReAIthROUDhSPOttGNDSOMethGNDthAtOURReDUJARADeNtShALNOtNOtGEeLtheJONLONPARtYEONSGSteLOCtWeNtYthReeEYEJGStSKUttheDROUPARRGVGNDGNJGNEOJNhALONJYtWeNtYMeMKeRSAtCGRStGASSUMeLhehALMGSEOUNteLKUtthePhOtODRAPhGNtheJOEAJPAPeRAEEOMPANYGNDtheGRRePORtONtheVGSGtEONCGRMeLtheNUMKeRGWGJJMAIeeNQUGRGeSWGthOURJONLONADeNtStOSeeGCtheYhAVeANYthGNDONtheOtheRthReeANLWGJJKRGeCYOUONthAtNeXttGMetheDROUPWAStRAEIeLAStheYRetURNeLSOUthSPJGtUPANLVGSGteLAEhAGNOCeSSeXANLIeNtVGJJADeSAJONDthethAMeSKUtLeSPGtetheGREONtGNUGNDGNteReStGNJANLMARISNOthGNDOKVGOUSGNtheGRKehAVGOURSUDDeSteLANYPARtGEUJARPJANtheNORtheRNDROUPAReNOWStAYGNDWGthSEOUtSGNEANeWLONANLAIeJAhASReERUGteLONeOCtheMtOSPYONthePARtYOURAGRMGNGStRYEONtAEtSAReGNEReASGNDJYAJARMeLAKOUttheSPYEJGStSKUtAReStGJJNOtPRePAReLtOteJJUSWhAtGtGSthAtGSWORRYGNDtheMtheYARePARtGEUJARJYADGtAteLAKOUtthePReSeNEeAtEAGStORANLNOWAtEANeWLONANLthGSEONEeRNAKOUtAEtGVGtYGNeAStANDJGAANLeSSeXMAIeSMeWONLeRGCGtGSEONNeEteLWGthAGRLeCeNEeCORtheEAPGtAJKUttheYAReReCUSGNDtOteJJANLGtWGJJKehARLCORUStOheJPtheMGCtheYWONtteJJUSWhAtWeAReSUPPOSeLtOKePROteEtGNDtheAttAEheLteJeDRAMWASEOPGeLKYANAIeJAADeNtGNSPAJLGNDhGSSGSteRWORISAttheteJeDRAPhYOCCGEeANLDAVehGMAEEeSStheMeSSADeWASLeJGVeReLKYONeOCtheSPYEJGStSANLONEeMOReGtWASALLReSSeLtOWGJheJMGNtGRPGtZUCeRtheSPYEJGStShAVeReVeRteLtOASUKStGtUtGONEGPheRCORthGSMeSSADeKUtKJOEIeLGttOLGSDUGSetheMeSSADeStRUEtURethAtMALeGtAJOthARLeRtOERAEIKUtGAMDJALGLGLGthASASeERetMeSSADehGLLeNGNtheLeEGPheReLteXtWhGEhSUDDeStSthAttheSPYEJGStMGSSGONGSEJOSGNDONGtSAGMSGAMNOtSUReWhAttheGNGtGAJSRLCStANLCORKUtGWGJJDOKAEItOtheAGRMGNGStRYtOASIGCtheYhAVeANYSUDDeStGONSGtGSAJSOEJeARCROMtheEONteNtSOCthGSMeSSADethAttheDeRMANSAReDettGNDAJGttJeSUSPGEGOUSSOWeWGJJNeeLtOStePUPOUROWNSeEURGtYGWGJJSeNLMYNeXtKRGeCGNDUSGNDAVGDeNeReEGPheRWGthIeYJeNDththReeMORetOCOJJOWPeARJ\n"
     ]
    }
   ],
   "source": [
    "# TFB is probably \"the\"\n",
    "decode(squished, \"AeCDEhGHIJKLMNOPQRStUVWXYZ\")"
   ]
  },
  {
   "cell_type": "code",
   "execution_count": 10,
   "metadata": {},
   "outputs": [
    {
     "name": "stdout",
     "output_type": "stream",
     "text": [
      "WhGleWeLGLNOthaVetGMetOplaEeaNYtraGNeLaDeNtSWGththelONLONSEOUtDrOUpStheaIelaOperatGONLGLMaNaDetOreErUGtaNLKrGeCSeVeralMeMKerSOCthelGNEOlNSEOUtGNDaSSOEGatGONaNLONeOCtheMhaSMaLeaMaHOrKreaIthrOUDhSpOttGNDSOMethGNDthatOUrreDUlaraDeNtShaLNOtNOtGEeLthelONLONpartYEONSGSteLOCtWeNtYthreeEYElGStSKUttheDrOUparrGVGNDGNlGNEOlNhaLONlYtWeNtYMeMKerSatCGrStGaSSUMeLhehaLMGSEOUNteLKUtthephOtODraphGNthelOEalpaperaEEOMpaNYGNDtheGrrepOrtONtheVGSGtEONCGrMeLtheNUMKerGWGllMaIeeNQUGrGeSWGthOUrlONLONaDeNtStOSeeGCtheYhaVeaNYthGNDONtheOtherthreeaNLWGllKrGeCYOUONthatNeXttGMetheDrOUpWaStraEIeLaStheYretUrNeLSOUthSplGtUpaNLVGSGteLaEhaGNOCeSSeXaNLIeNtVGllaDeSalONDthethaMeSKUtLeSpGtetheGrEONtGNUGNDGNtereStGNlaNLMarISNOthGNDOKVGOUSGNtheGrKehaVGOUrSUDDeSteLaNYpartGEUlarplaNtheNOrtherNDrOUpareNOWStaYGNDWGthSEOUtSGNEaNeWLONaNLaIelahaSreErUGteLONeOCtheMtOSpYONthepartYOUraGrMGNGStrYEONtaEtSareGNEreaSGNDlYalarMeLaKOUttheSpYElGStSKUtareStGllNOtprepareLtOtellUSWhatGtGSthatGSWOrrYGNDtheMtheYarepartGEUlarlYaDGtateLaKOUtthepreSeNEeatEaGStOraNLNOWatEaNeWLONaNLthGSEONEerNaKOUtaEtGVGtYGNeaStaNDlGaaNLeSSeXMaIeSMeWONLerGCGtGSEONNeEteLWGthaGrLeCeNEeCOrtheEapGtalKUttheYarereCUSGNDtOtellaNLGtWGllKeharLCOrUStOhelptheMGCtheYWONttellUSWhatWeareSUppOSeLtOKeprOteEtGNDtheattaEheLteleDraMWaSEOpGeLKYaNaIelaaDeNtGNSpalLGNDhGSSGSterWOrISattheteleDraphYOCCGEeaNLDaVehGMaEEeSStheMeSSaDeWaSLelGVereLKYONeOCtheSpYElGStSaNLONEeMOreGtWaSaLLreSSeLtOWGlhelMGNtGrpGtZUCertheSpYElGStShaVereVerteLtOaSUKStGtUtGONEGpherCOrthGSMeSSaDeKUtKlOEIeLGttOLGSDUGSetheMeSSaDeStrUEtUrethatMaLeGtalOtharLertOEraEIKUtGaMDlaLGLGLGthaSaSeEretMeSSaDehGLLeNGNtheLeEGphereLteXtWhGEhSUDDeStSthattheSpYElGStMGSSGONGSElOSGNDONGtSaGMSGaMNOtSUreWhattheGNGtGalSrLCStaNLCOrKUtGWGllDOKaEItOtheaGrMGNGStrYtOaSIGCtheYhaVeaNYSUDDeStGONSGtGSalSOElearCrOMtheEONteNtSOCthGSMeSSaDethattheDerMaNSareDettGNDalGttleSUSpGEGOUSSOWeWGllNeeLtOStepUpOUrOWNSeEUrGtYGWGllSeNLMYNeXtKrGeCGNDUSGNDaVGDeNereEGpherWGthIeYleNDththreeMOretOCOllOWpearl\n"
     ]
    }
   ],
   "source": [
    "# \"thRee\" -> R=r?\n",
    "# \"PeARJ\" -> P=p, A=a, J=l\n",
    "decode(squished, \"aeCDEhGHIlKLMNOpQrStUVWXYZ\")"
   ]
  },
  {
   "cell_type": "code",
   "execution_count": 13,
   "metadata": {},
   "outputs": [
    {
     "name": "stdout",
     "output_type": "stream",
     "text": [
      "whileweLiLnothaVetiMetoplaceanytraineLaDentswiththelonLonscoUtDroUpstheakelaoperationLiLManaDetorecrUitanLKrieCseVeralMeMKersoCthelincolnscoUtinDassociationanLoneoCtheMhasMaLeaMaHorKreakthroUDhspottinDsoMethinDthatoUrreDUlaraDentshaLnotnoticeLthelonLonpartyconsisteLoCtwentythreecyclistsKUttheDroUparriVinDinlincolnhaLonlytwentyMeMKersatCirstiassUMeLhehaLMiscoUnteLKUtthephotoDraphinthelocalpaperaccoMpanyinDtheirreportontheVisitconCirMeLthenUMKeriwillMakeenQUirieswithoUrlonLonaDentstoseeiCtheyhaVeanythinDontheotherthreeanLwillKrieCyoUonthatneXttiMetheDroUpwastrackeLastheyretUrneLsoUthsplitUpanLVisiteLachainoCesseXanLkentVillaDesalonDthethaMesKUtLespitetheircontinUinDinterestinlanLMarksnothinDoKVioUsintheirKehaVioUrsUDDesteLanyparticUlarplanthenorthernDroUparenowstayinDwithscoUtsincanewLonanLakelahasrecrUiteLoneoCtheMtospyonthepartyoUrairMinistrycontactsareincreasinDlyalarMeLaKoUtthespyclistsKUtarestillnotprepareLtotellUswhatitisthatisworryinDtheMtheyareparticUlarlyaDitateLaKoUtthepresenceatcaistoranLnowatcanewLonanLthisconcernaKoUtactiVityineastanDliaanLesseXMakesMewonLeriCitisconnecteLwithairLeCenceCorthecapitalKUttheyarereCUsinDtotellanLitwillKeharLCorUstohelptheMiCtheywonttellUswhatwearesUpposeLtoKeprotectinDtheattacheLteleDraMwascopieLKyanakelaaDentinspalLinDhissisterworksattheteleDraphyoCCiceanLDaVehiMaccesstheMessaDewasLeliVereLKyoneoCthespyclistsanLonceMoreitwasaLLresseLtowilhelMintirpitZUCerthespyclistshaVereVerteLtoasUKstitUtioncipherCorthisMessaDeKUtKlockeLittoLisDUisetheMessaDestrUctUrethatMaLeitalotharLertocrackKUtiaMDlaLiLiLithasasecretMessaDehiLLenintheLeciphereLteXtwhichsUDDeststhatthespyclistMissionisclosinDonitsaiMsiaMnotsUrewhattheinitialsrLCstanLCorKUtiwillDoKacktotheairMinistrytoaskiCtheyhaVeanysUDDestionsitisalsoclearCroMthecontentsoCthisMessaDethattheDerMansareDettinDalittlesUspicioUssowewillneeLtostepUpoUrownsecUrityiwillsenLMyneXtKrieCinDUsinDaViDenerecipherwithkeylenDththreeMoretoCollowpearl\n"
     ]
    }
   ],
   "source": [
    "# \"WhGleWe\" -> W=w, G=i\n",
    "# \"theaIelaOperatGON\" -> I=k, O=o, N=n\n",
    "# \"theSpYElGStS\" -> S=s, Y=y, E=c\n",
    "decode(squished, \"aeCDchiHklKLMnopQrstUVwXyZ\")"
   ]
  },
  {
   "cell_type": "code",
   "execution_count": 16,
   "metadata": {},
   "outputs": [
    {
     "name": "stdout",
     "output_type": "stream",
     "text": [
      "whilewedidnothavetimetoplaceanytrainedagentswiththelondonscoutgroupstheakelaoperationdidmanagetorecruitandbriefseveralmembersofthelincolnscoutingassociationandoneofthemhasmadeamajorbreakthroughspottingsomethingthatourregularagentshadnotnoticedthelondonpartyconsistedoftwentythreecyclistsbutthegrouparrivinginlincolnhadonlytwentymembersatfirstiassumedhehadmiscountedbutthephotographinthelocalpaperaccompanyingtheirreportonthevisitconfirmedthenumberiwillmakeenquirieswithourlondonagentstoseeiftheyhaveanythingontheotherthreeandwillbriefyouonthatnexttimethegroupwastrackedastheyreturnedsouthsplitupandvisitedachainofessexandkentvillagesalongthethamesbutdespitetheircontinuinginterestinlandmarksnothingobviousintheirbehavioursuggestedanyparticularplanthenortherngrouparenowstayingwithscoutsincanewdonandakelahasrecruitedoneofthemtospyonthepartyourairministrycontactsareincreasinglyalarmedaboutthespyclistsbutarestillnotpreparedtotelluswhatitisthatisworryingthemtheyareparticularlyagitatedaboutthepresenceatcaistorandnowatcanewdonandthisconcernaboutactivityineastangliaandessexmakesmewonderifitisconnectedwithairdefenceforthecapitalbuttheyarerefusingtotellanditwillbehardforustohelpthemiftheywonttelluswhatwearesupposedtobeprotectingtheattachedtelegramwascopiedbyanakelaagentinspaldinghissisterworksatthetelegraphyofficeandgavehimaccessthemessagewasdeliveredbyoneofthespyclistsandoncemoreitwasaddressedtowilhelmintirpitzuferthespyclistshaverevertedtoasubstitutioncipherforthismessagebutblockedittodisguisethemessagestructurethatmadeitalothardertocrackbutiamgladididithasasecretmessagehiddeninthedecipheredtextwhichsuggeststhatthespyclistmissionisclosingonitsaimsiamnotsurewhattheinitialsrdfstandforbutiwillgobacktotheairministrytoaskiftheyhaveanysuggestionsitisalsoclearfromthecontentsofthismessagethatthegermansaregettingalittlesuspicioussowewillneedtostepupourownsecurityiwillsendmynextbriefingusingavigenerecipherwithkeylengththreemoretofollowpearl\n"
     ]
    }
   ],
   "source": [
    "# \"traineLaDentswiththelonLonscoUtDroUps\" -> L=d, D=g, U=u\n",
    "# \"LiLManaDetorecrUit\" -> M=m\n",
    "# \"oCCice\" -> C=f\n",
    "# Fill in gaps: H=j, Q=q, V=v, X=x, Z=z, K=b\n",
    "decode(squished, \"aefgchijklbdmnopqrstuvwxyz\")"
   ]
  },
  {
   "cell_type": "markdown",
   "metadata": {},
   "source": [
    "Edited for clarity:\n",
    "\n",
    "While we did not have time to place any trained agents with the London scout groups, the Akela operation did manage to recruit and brief several members of the Lincoln Scouting Association and one of them has made a major breakthrough, spotting something that our regular agents had not noticed. The London party consisted of twenty three cyclists, but the group arriving in Lincoln had only twenty members. At first I assumed he had miscounted, but the photograph in the local paper accompanying their report on the visit confirmed the number.\n",
    "I will make enquiries with our London agents to see if they have anything on the other three and will brief you on that next time. The group was tracked as they returned South, split up and visited a chain of Essex and Kent villages along the Thames but despite their continuing interest in landmarks, nothing obvious in their behaviour suggested any particular plan.\n",
    "The Northern group are now staying with scouts in Canewdon and Akela has recruited one of them to spy on the party. Our air ministry contacts are increasingly alarmed about the spyclists but are still not prepared to tell us what it is that is worrying them. They are particularly agitated about the presence at Caistor and now at Canewdon and this concern about activity in East Anglia and Essex makes me wonder if it is connected with air defence for the capital, but they are refusing to tell and it will be hard for us to help them if they won't tell us what we are supposed to be protecting.\n",
    "The attached telegram was copied by an Akela agent in Spalding. His sister works at the telegraphy office and gave him access. The message was delivered by one of the spyclists and once more it was addressed to Wilhelm Intirpitzufer.\n",
    "The spyclists have reverted to a substitution cipher for this message, but blocked it to disguise the message structure. That made it a lot harder to crack, but I am glad I did - it has a secret message hidden in the deciphered text which suggests that the spyclist mission is closing on its aims.\n",
    "I am not sure what the initials RDF stand for, but I will go back to the air ministry to ask if they have any suggestions. It is also clear from the contents of this message that the Germans are getting a little suspicious, so we will need to step up our own security. I will send my next briefing using a Vigenere cipher with key length three. More to follow...\n",
    "Pearl\n"
   ]
  },
  {
   "cell_type": "code",
   "execution_count": 17,
   "metadata": {},
   "outputs": [
    {
     "name": "stdout",
     "output_type": "stream",
     "text": [
      "Decoded alphabet: akelbcdfghijmnopqrstuvwxyz\n",
      "Keyword: akelb\n"
     ]
    }
   ],
   "source": [
    "# Attempts to determine the keyword used for a substitution cipher\n",
    "# alphabet: The substitution alphabet\n",
    "def decode_key(alphabet):\n",
    "    decoded_alphabet = \"\"\n",
    "    for letter in string.ascii_lowercase:\n",
    "        decoded_alphabet += chr(alphabet.find(letter) + ord(\"a\"))\n",
    "    print(f\"Decoded alphabet: {decoded_alphabet}\")\n",
    "    \n",
    "    remaining_letters = list(string.ascii_lowercase)\n",
    "    for pos, letter in enumerate(decoded_alphabet):\n",
    "        remaining_letters.remove(letter)\n",
    "        next_letter_index = remaining_letters.index(decoded_alphabet[pos+1])\n",
    "        if decoded_alphabet[pos+1:] == \"\".join(remaining_letters[next_letter_index:] + remaining_letters[:next_letter_index]):\n",
    "            print(f\"Keyword: {decoded_alphabet[:pos+2]}\")\n",
    "            break\n",
    "\n",
    "decode_key(\"aefgchijklbdmnopqrstuvwxyz\")"
   ]
  },
  {
   "cell_type": "code",
   "execution_count": 18,
   "metadata": {},
   "outputs": [],
   "source": [
    "# Part B - \"Intercept 5B\"\n",
    "part_b_text = \"\"\"HEWZC ULSEF PSOES TWAJV CXZVT PAEHF EBOVZ VCNOS JEUQV JEHVC ZDPAP BBVJV CZLVC APUPU SPULV SUWUH MVCUH PBTVA BPUMV ZTWBP DEABV XBOEI EWCBP MCSLW BOEHZ WSWST VABQC ABPMP EHVCZ DPAPB VUPBA VFUWU HVCZO VABAA OWZEH FPBOC AAVTE PUBEZ EABPU NHZWF PUNAV MBOEB VFEZA JVCTE UBPVU EHABV XBOEJ NZWLP VCASJ WSSVF EHTEB VLVXJ BOEAR EBLOE AWUHE GXSWP UEHTC LOWIV CBOVF BOEBV FEZAW ZEICP SBWUH FOJAB VXWAC ACWSP FPSSA EUHJV CTJUV BEAWU HAREB LOEAD PWVCZ HEWZM ZPEUH QEAAP LWFOV OWAXZ VTPAE HBVEU ACZEB OEPZA WMEHE SPDEZ JABVX ZEWSS JPTCA BLVUN ZWBCS WBEVC ZOVAB APUBO ESVLW SALVC BNZVC XAMVZ BOETW ZDESS VCAFW JPUFO PLOBO EJOWD EVZNW UPAEH VCZBZ WDESB OVCNO AVTEV MBOEA LVCBA OWDEI EEUZW BOEZT VZEAV SPLPB VCABO WUFEO WHEGX ELBEH WARPU NZWBO EZWSV BVMYC EABPV UAWIV CBVCZ XSWUA ABVXN EUEZW SSJPO VXEBO EJFEZ EAWBP AMPEH FPBOB OEWUA FEZAB OWBFE NWDEI CBFEM EESBO WBFEW ZEWBZ PARVM VDEZA BWJPU NVCZF ESLVT EAVFE FPSSZ EBCZU BVSVU HVUVU BCEAH WJABV XEDEU BOVCN OFEOW DEEUQ VJEHV CZBPT EBVNE BOEZB OEZEO WAIEE UAVTE HEIWB EWTVU NBOEN ZVCXW IVCBF OEZEF EAOVC SHDPA PBUEG BABVX BOEZE WZEAV TWUJP UBEZE ABPUN APBEA BVDPA PBWSV UNBOE TWQEA BPLBO WTEAE ABCWZ JAVFE OWDEH ELPHE HBVAX SPBPU BVBFV NZVCX AABVX ZWSMF PSSSE WHVUE XWZBJ VUWBV CZVMB OEREU BLVWA BFOPS EPWTD EZJTC LOSVV RPUNM VZFWZ HBVEG XSVZP UNBOE EAAEG TWZAO EAABV XHVSE BTERU VFPMJ VCOWD EWIEB BEZPH EWICB POWDE IEEUB VSHBO WBLWU EFHVU AMPMB EEUBO LEUBC ZJLOC ZLOWM MVZHA WUESE DWBPV UFPBO WFPHE DPEFV MBOEA CZZVC UHPUN SWUHA PUBOP AVBOE ZFPAE ZWBOE ZMSWB SWUHA LWXEW UHPAB OEAPB EVMWU VBOEZ MWALP UWBPU NBVFE ZFOPL OPFPS SIELE ZBWPU BVARE BLOMV ZJVCA BVXMP UWSSJ PMJVC OWDEW UJMCZ BOEZZ EYCEA BAMVZ AXELP MPLPU MVZTW BPVUB OEUXE ZOWXA JVCLV CSHSE WDEWT EAAWN EMVZT EWBBO EXVAB VMMPL EBOEZ EABVX RWZST EAAWN EEUHA \"\"\""
   ]
  },
  {
   "cell_type": "code",
   "execution_count": 19,
   "metadata": {},
   "outputs": [
    {
     "name": "stdout",
     "output_type": "stream",
     "text": [
      "E: 183 (12.53%) B: 141 (9.66%) V: 132 (9.04%) A: 109 (7.47%) W: 105 (7.19%)\n",
      "P: 92 (6.30%) Z: 87 (5.96%) O: 81 (5.55%) U: 80 (5.48%) C: 61 (4.18%)\n",
      "S: 59 (4.04%) H: 47 (3.22%) F: 41 (2.81%) L: 35 (2.40%) M: 35 (2.40%)\n",
      "J: 31 (2.12%) T: 30 (2.05%) X: 29 (1.99%) N: 25 (1.71%) D: 23 (1.58%)\n",
      "I: 13 (0.89%) R:  9 (0.62%) Q:  5 (0.34%) G:  5 (0.34%) Y:  2 (0.14%)\n",
      "\n",
      "-----\n"
     ]
    }
   ],
   "source": [
    "squished = part_b_text.replace(\" \", \"\")\n",
    "frequency_analysis(squished)"
   ]
  },
  {
   "cell_type": "code",
   "execution_count": 22,
   "metadata": {},
   "outputs": [
    {
     "name": "stdout",
     "output_type": "stream",
     "text": [
      "HeWZCULSeFPSheSTWAJVCXZVTPAeHFethVZVCNhSJeUQVJeHVCZDPAPttVJVCZLVCAPUPUSPULVSUWUHMVCUHPtTVAtPUMVZTWtPDeAtVXtheIeWCtPMCSLWtheHZWSWSTVAtQCAtPMPeHVCZDPAPtVUPtAVFUWUHVCZhVAtAAhWZeHFPthCAAVTePUteZeAtPUNHZWFPUNAVMthetVFeZAJVCTeUtPVUeHAtVXtheJNZWLPVCASJWSSVFeHTetVLVXJtheARetLheAWUHeGXSWPUeHTCLhWIVCthVFthetVFeZAWZeICPStWUHFhJAtVXWACACWSPFPSSAeUHJVCTJUVteAWUHARetLheADPWVCZHeWZMZPeUHQeAAPLWFhVhWAXZVTPAeHtVeUACZethePZAWMeHeSPDeZJAtVXZeWSSJPTCAtLVUNZWtCSWteVCZhVAtAPUtheSVLWSALVCtNZVCXAMVZtheTWZDeSSVCAFWJPUFhPLhtheJhWDeVZNWUPAeHVCZtZWDeSthVCNhAVTeVMtheALVCtAhWDeIeeUZWtheZTVZeAVSPLPtVCAthWUFehWHeGXeLteHWARPUNZWtheZWSVtVMYCeAtPVUAWIVCtVCZXSWUAAtVXNeUeZWSSJPhVXetheJFeZeAWtPAMPeHFPththeWUAFeZAthWtFeNWDeICtFeMeeSthWtFeWZeWtZPARVMVDeZAtWJPUNVCZFeSLVTeAVFeFPSSZetCZUtVSVUHVUVUtCeAHWJAtVXeDeUthVCNhFehWDeeUQVJeHVCZtPTetVNetheZtheZehWAIeeUAVTeHeIWteWTVUNtheNZVCXWIVCtFheZeFeAhVCSHDPAPtUeGtAtVXtheZeWZeAVTWUJPUteZeAtPUNAPteAtVDPAPtWSVUNtheTWQeAtPLthWTeAeAtCWZJAVFehWDeHeLPHeHtVAXSPtPUtVtFVNZVCXAAtVXZWSMFPSSSeWHVUeXWZtJVUWtVCZVMtheReUtLVWAtFhPSePWTDeZJTCLhSVVRPUNMVZFWZHtVeGXSVZPUNtheeAAeGTWZAheAAtVXHVSetTeRUVFPMJVChWDeWIetteZPHeWICtPhWDeIeeUtVSHthWtLWUeFHVUAMPMteeUthLeUtCZJLhCZLhWMMVZHAWUeSeDWtPVUFPthWFPHeDPeFVMtheACZZVCUHPUNSWUHAPUthPAVtheZFPAeZWtheZMSWtSWUHALWXeWUHPAtheAPteVMWUVtheZMWALPUWtPUNtVFeZFhPLhPFPSSIeLeZtWPUtVARetLhMVZJVCAtVXMPUWSSJPMJVChWDeWUJMCZtheZZeYCeAtAMVZAXeLPMPLPUMVZTWtPVUtheUXeZhWXAJVCLVCSHSeWDeWTeAAWNeMVZTeWttheXVAtVMMPLetheZeAtVXRWZSTeAAWNeeUHA\n"
     ]
    }
   ],
   "source": [
    "# Part A says this is a substitution cipher\n",
    "# \"BOE\" is probably \"the\"\n",
    "decode(squished, \"AtCDeFGHIJKLMNhPQRSTUVWXYZ\")"
   ]
  },
  {
   "cell_type": "code",
   "execution_count": 23,
   "metadata": {},
   "outputs": [
    {
     "name": "stdout",
     "output_type": "stream",
     "text": [
      "HeWrCULSeFPSheSTWAJVCXrVTPAeHFethVrVCNhSJeUQVJeHVCrDPAPttVJVCrLVCAPUPUSPULVSUWUHMVCUHPtTVAtPUMVrTWtPDeAtVXtheleWCtPMCSLWtheHrWSWSTVAtQCAtPMPeHVCrDPAPtVUPtAVFUWUHVCrhVAtAAhWreHFPthCAAVTePUtereAtPUNHrWFPUNAVMthetVFerAJVCTeUtPVUeHAtVXtheJNrWLPVCASJWSSVFeHTetVLVXJtheARetLheAWUHeGXSWPUeHTCLhWlVCthVFthetVFerAWrelCPStWUHFhJAtVXWACACWSPFPSSAeUHJVCTJUVteAWUHARetLheADPWVCrHeWrMrPeUHQeAAPLWFhVhWAXrVTPAeHtVeUACrethePrAWMeHeSPDerJAtVXreWSSJPTCAtLVUNrWtCSWteVCrhVAtAPUtheSVLWSALVCtNrVCXAMVrtheTWrDeSSVCAFWJPUFhPLhtheJhWDeVrNWUPAeHVCrtrWDeSthVCNhAVTeVMtheALVCtAhWDeleeUrWtherTVreAVSPLPtVCAthWUFehWHeGXeLteHWARPUNrWtherWSVtVMYCeAtPVUAWlVCtVCrXSWUAAtVXNeUerWSSJPhVXetheJFereAWtPAMPeHFPththeWUAFerAthWtFeNWDelCtFeMeeSthWtFeWreWtrPARVMVDerAtWJPUNVCrFeSLVTeAVFeFPSSretCrUtVSVUHVUVUtCeAHWJAtVXeDeUthVCNhFehWDeeUQVJeHVCrtPTetVNethertherehWAleeUAVTeHelWteWTVUNtheNrVCXWlVCtFhereFeAhVCSHDPAPtUeGtAtVXthereWreAVTWUJPUtereAtPUNAPteAtVDPAPtWSVUNtheTWQeAtPLthWTeAeAtCWrJAVFehWDeHeLPHeHtVAXSPtPUtVtFVNrVCXAAtVXrWSMFPSSSeWHVUeXWrtJVUWtVCrVMtheReUtLVWAtFhPSePWTDerJTCLhSVVRPUNMVrFWrHtVeGXSVrPUNtheeAAeGTWrAheAAtVXHVSetTeRUVFPMJVChWDeWletterPHeWlCtPhWDeleeUtVSHthWtLWUeFHVUAMPMteeUthLeUtCrJLhCrLhWMMVrHAWUeSeDWtPVUFPthWFPHeDPeFVMtheACrrVCUHPUNSWUHAPUthPAVtherFPAerWtherMSWtSWUHALWXeWUHPAtheAPteVMWUVtherMWALPUWtPUNtVFerFhPLhPFPSSleLertWPUtVARetLhMVrJVCAtVXMPUWSSJPMJVChWDeWUJMCrtherreYCeAtAMVrAXeLPMPLPUMVrTWtPVUtheUXerhWXAJVCLVCSHSeWDeWTeAAWNeMVrTeWttheXVAtVMMPLethereAtVXRWrSTeAAWNeeUHA\n"
     ]
    }
   ],
   "source": [
    "# \"IetteZ\" -> I=l, Z=r ?\n",
    "decode(squished, \"AtCDeFGHlJKLMNhPQRSTUVWXYr\")"
   ]
  },
  {
   "cell_type": "code",
   "execution_count": 26,
   "metadata": {},
   "outputs": [
    {
     "name": "stdout",
     "output_type": "stream",
     "text": [
      "HearCULSeFPSheSTaAJoCXroTPAeHFethoroCghSJeUQoJeHoCrDPAPttoJoCrLoCAPUPUSPULoSUaUHMoCUHPtToAtPUMorTatPDeAtoXtheleaCtPMCSLatheHraSaSToAtQCAtPMPeHoCrDPAPtoUPtAoFUaUHoCrhoAtAAhareHFPthCAAoTePUtereAtPUgHraFPUgAoMthetoFerAJoCTeUtPoUeHAtoXtheJgraLPoCASJaSSoFeHTetoLoXJtheARetLheAaUHeGXSaPUeHTCLhaloCthoFthetoFerAarelCPStaUHFhJAtoXaACACaSPFPSSAeUHJoCTJUoteAaUHARetLheADPaoCrHearMrPeUHQeAAPLaFhohaAXroTPAeHtoeUACrethePrAaMeHeSPDerJAtoXreaSSJPTCAtLoUgratCSateoCrhoAtAPUtheSoLaSALoCtgroCXAMortheTarDeSSoCAFaJPUFhPLhtheJhaDeorgaUPAeHoCrtraDeSthoCghAoTeoMtheALoCtAhaDeleeUratherToreAoSPLPtoCAthaUFehaHeGXeLteHaARPUgratheraSotoMYCeAtPoUAaloCtoCrXSaUAAtoXgeUeraSSJPhoXetheJFereAatPAMPeHFPththeaUAFerAthatFegaDelCtFeMeeSthatFeareatrPARoMoDerAtaJPUgoCrFeSLoTeAoFeFPSSretCrUtoSoUHoUoUtCeAHaJAtoXeDeUthoCghFehaDeeUQoJeHoCrtPTetogethertherehaAleeUAoTeHelateaToUgthegroCXaloCtFhereFeAhoCSHDPAPtUeGtAtoXthereareAoTaUJPUtereAtPUgAPteAtoDPAPtaSoUgtheTaQeAtPLthaTeAeAtCarJAoFehaDeHeLPHeHtoAXSPtPUtotFogroCXAAtoXraSMFPSSSeaHoUeXartJoUatoCroMtheReUtLoaAtFhPSePaTDerJTCLhSooRPUgMorFarHtoeGXSorPUgtheeAAeGTarAheAAtoXHoSetTeRUoFPMJoChaDealetterPHealCtPhaDeleeUtoSHthatLaUeFHoUAMPMteeUthLeUtCrJLhCrLhaMMorHAaUeSeDatPoUFPthaFPHeDPeFoMtheACrroCUHPUgSaUHAPUthPAotherFPAeratherMSatSaUHALaXeaUHPAtheAPteoMaUotherMaALPUatPUgtoFerFhPLhPFPSSleLertaPUtoARetLhMorJoCAtoXMPUaSSJPMJoChaDeaUJMCrtherreYCeAtAMorAXeLPMPLPUMorTatPoUtheUXerhaXAJoCLoCSHSeaDeaTeAAageMorTeattheXoAtoMMPLethereAtoXRarSTeAAageeUHA\n"
     ]
    }
   ],
   "source": [
    "# \"tVNether\" -> V=o, N=g ?\n",
    "# \"thWt\" -> W=a ?\n",
    "decode(squished, \"AtCDeFGHlJKLMghPQRSTUoaXYr\")"
   ]
  },
  {
   "cell_type": "code",
   "execution_count": 27,
   "metadata": {},
   "outputs": [
    {
     "name": "stdout",
     "output_type": "stream",
     "text": [
      "dearunclewilhelmaAJouXromiAedwethoroughlJenQoJedourDiAittoJourcouAininlincolnandMounditmoAtinMormatiDeAtoXtheleautiMulcathedralalmoAtQuAtiMiedourDiAitonitAownandourhoAtAAharedwithuAAomeintereAtingdrawingAoMthetowerAJoumentionedAtoXtheJgraciouAlJallowedmetocoXJtheARetcheAandeGXlainedmuchalouthowthetowerAareluiltandwhJAtoXaAuAualiwillAendJoumJnoteAandARetcheADiaourdearMriendQeAAicawhohaAXromiAedtoenAuretheirAaMedeliDerJAtoXreallJimuAtcongratulateourhoAtAinthelocalAcoutgrouXAMorthemarDellouAwaJinwhichtheJhaDeorganiAedourtraDelthoughAomeoMtheAcoutAhaDeleenrathermoreAolicitouAthanwehadeGXectedaARingratheralotoMYueAtionAaloutourXlanAAtoXgenerallJihoXetheJwereAatiAMiedwiththeanAwerAthatwegaDelutweMeelthatweareatriARoMoDerAtaJingourwelcomeAowewillreturntolondonontueAdaJAtoXeDenthoughwehaDeenQoJedourtimetogethertherehaAleenAomedelateamongthegrouXaloutwhereweAhouldDiAitneGtAtoXthereareAomanJintereAtingAiteAtoDiAitalongthemaQeAticthameAeAtuarJAowehaDedecidedtoAXlitintotwogrouXAAtoXralMwillleadoneXartJonatouroMtheRentcoaAtwhileiamDerJmuchlooRingMorwardtoeGXloringtheeAAeGmarAheAAtoXdoletmeRnowiMJouhaDealetteridealutihaDeleentoldthatcanewdonAMiMteenthcenturJchurchaMMordAaneleDationwithawideDiewoMtheAurroundinglandAinthiAotherwiAeratherMlatlandAcaXeandiAtheAiteoManotherMaAcinatingtowerwhichiwilllecertaintoARetchMorJouAtoXMinallJiMJouhaDeanJMurtherreYueAtAMorAXeciMicinMormationthenXerhaXAJoucouldleaDeameAAageMormeattheXoAtoMMicethereAtoXRarlmeAAageendA\n"
     ]
    }
   ],
   "source": [
    "# \"HearCULSeFPSheST\" -> H=d, C=u, U=n, L=c, S=l, F=w, P=i, T=m (Uncle Wilhelm again!)\n",
    "decode(squished, \"AtuDewGdlJKcMghiQRlmnoaXYr\")"
   ]
  },
  {
   "cell_type": "code",
   "execution_count": 28,
   "metadata": {},
   "outputs": [
    {
     "name": "stdout",
     "output_type": "stream",
     "text": [
      "dearunclewilhelmasyoupromisedwethoroughlyenjoyedourvisittoyourcousininlincolnandfounditmostinformativestoptheleautifulcathedralalmostjustifiedourvisitonitsownandourhostssharedwithussomeinterestingdrawingsofthetowersyoumentionedstoptheygraciouslyallowedmetocopythesRetchesandeGplainedmuchalouthowthetowersareluiltandwhystopasusualiwillsendyoumynotesandsRetchesviaourdearfriendjessicawhohaspromisedtoensuretheirsafedeliverystopreallyimustcongratulateourhostsinthelocalscoutgroupsforthemarvellouswayinwhichtheyhaveorganisedourtravelthoughsomeofthescoutshaveleenrathermoresolicitousthanwehadeGpectedasRingratheralotofYuestionsaloutourplansstopgenerallyihopetheyweresatisfiedwiththeanswersthatwegavelutwefeelthatweareatrisRofoverstayingourwelcomesowewillreturntolondonontuesdaystopeventhoughwehaveenjoyedourtimetogethertherehasleensomedelateamongthegroupaloutwhereweshouldvisitneGtstoptherearesomanyinterestingsitestovisitalongthemajesticthamesestuarysowehavedecidedtosplitintotwogroupsstopralfwillleadonepartyonatouroftheRentcoastwhileiamverymuchlooRingforwardtoeGploringtheesseGmarshesstopdoletmeRnowifyouhavealetteridealutihaveleentoldthatcanewdonsfifteenthcenturychurchaffordsanelevationwithawideviewofthesurroundinglandsinthisotherwiseratherflatlandscapeandisthesiteofanotherfascinatingtowerwhichiwilllecertaintosRetchforyoustopfinallyifyouhaveanyfurtherreYuestsforspecificinformationthenperhapsyoucouldleaveamessageformeatthepostofficetherestopRarlmessageends\n"
     ]
    }
   ],
   "source": [
    "# \"wethoroughlJenQoJedourDiAittoJourcouAin\" -> J=y, Q=j, D=v, A=s\n",
    "# \"MounditmoAtinMormatiDe\" -> M=f\n",
    "# \"AtoX\" -> X=p\n",
    "decode(squished, \"stuvewGdlyKcfghijRlmnoapYr\")"
   ]
  },
  {
   "cell_type": "code",
   "execution_count": 33,
   "metadata": {},
   "outputs": [
    {
     "name": "stdout",
     "output_type": "stream",
     "text": [
      "dearunclewilhelmasyoupromisedwethoroughlyenjoyedourvisittoyourcousininlincolnandfounditmostinformativestopthebeautifulcathedralalmostjustifiedourvisitonitsownandourhostssharedwithussomeinterestingdrawingsofthetowersyoumentionedstoptheygraciouslyallowedmetocopythesketchesandexplainedmuchabouthowthetowersarebuiltandwhystopasusualiwillsendyoumynotesandsketchesviaourdearfriendjessicawhohaspromisedtoensuretheirsafedeliverystopreallyimustcongratulateourhostsinthelocalscoutgroupsforthemarvellouswayinwhichtheyhaveorganisedourtravelthoughsomeofthescoutshavebeenrathermoresolicitousthanwehadexpectedaskingratheralotofquestionsaboutourplansstopgenerallyihopetheyweresatisfiedwiththeanswersthatwegavebutwefeelthatweareatriskofoverstayingourwelcomesowewillreturntolondonontuesdaystopeventhoughwehaveenjoyedourtimetogethertherehasbeensomedebateamongthegroupaboutwhereweshouldvisitnextstoptherearesomanyinterestingsitestovisitalongthemajesticthamesestuarysowehavedecidedtosplitintotwogroupsstopralfwillleadonepartyonatourofthekentcoastwhileiamverymuchlookingforwardtoexploringtheessexmarshesstopdoletmeknowifyouhaveabetterideabutihavebeentoldthatcanewdonsfifteenthcenturychurchaffordsanelevationwithawideviewofthesurroundinglandsinthisotherwiseratherflatlandscapeandisthesiteofanotherfascinatingtowerwhichiwillbecertaintosketchforyoustopfinallyifyouhaveanyfurtherrequestsforspecificinformationthenperhapsyoucouldleaveamessageformeatthepostofficetherestopkarlmessageends\n"
     ]
    }
   ],
   "source": [
    "# \"sRetches\" -> R=k\n",
    "# \"eGplained\" -> G=x\n",
    "# \"alout\" -> I=b (not l!)\n",
    "# Filling in, K=z, Y=q\n",
    "decode(squished, \"stuvewxdbyzcfghijklmnoapqr\")"
   ]
  },
  {
   "cell_type": "markdown",
   "metadata": {},
   "source": [
    "Edited for clarity:\n",
    "\n",
    "Dear Uncle Wilhelm,<br>\n",
    "As you promised, we thoroughly enjoyed our visit to your cousin in Lincoln and found it most informative stop<br>\n",
    "The beautiful cathedral almost justified our visit on its own and our hosts shared with us some interesting drawings of the towers you mentioned stop<br>\n",
    "They graciously allowed me to copy the sketches and explained much about how the towers are built and why stop<br>\n",
    "As usual, I will send you my notes and sketches via our dear friend Jessica, who has promised to ensure their safe delivery stop<br>\n",
    "Really I must congratulate our hosts in the local scout groups for the marvellous way in which they have organised our travel, though some of the scouts have been rather more solicitous than we had expected, asking rather a lot of questions about our plans stop<br>\n",
    "Generally, I hope they were satisfied with the answers that we gave, but we feel that we are at risk of overstaying our welcome, so we will return to London on Tuesday stop<br>\n",
    "Even though we have enjoyed our time together, there has been some debate among the group about where we should visit next stop<br>\n",
    "There are so many interesting sites to visit along the majestic Thames estuary, so we have decided to split into two groups stop<br>\n",
    "Ralf will lead one party on a tour of the Kent coast, while I am very much looking forward to exploring the Essex marshes stop<br>\n",
    "Do let me know if you have a better idea, but I have been told that Canewdon's fifteenth century church affords an elevation with a wide view of the surrounding lands in this otherwise rather flat landscape and is the site of another fascinating tower which I will be certain to sketch for you stop<br>\n",
    "Finally, if you have any further requests for specific information, then perhaps you could leave a message for me at the Post Office there stop<br>\n",
    "Karl<br>\n",
    "Message Ends<br>"
   ]
  },
  {
   "cell_type": "code",
   "execution_count": 34,
   "metadata": {},
   "outputs": [
    {
     "name": "stdout",
     "output_type": "stream",
     "text": [
      "Decoded alphabet: wilhemnopqrstuvxyzabcdfgjk\n",
      "Keyword: wilhem\n"
     ]
    }
   ],
   "source": [
    "decode_key(\"stuvewxdbyzcfghijklmnoapqr\")"
   ]
  },
  {
   "cell_type": "markdown",
   "metadata": {},
   "source": [
    "Apparently there's a hidden message in here somewhere...\n",
    "\n",
    "The first letter of each sentence spells out: \"At Target RDF\"."
   ]
  },
  {
   "cell_type": "code",
   "execution_count": null,
   "metadata": {},
   "outputs": [],
   "source": []
  }
 ],
 "metadata": {
  "kernelspec": {
   "display_name": "Python 3",
   "language": "python",
   "name": "python3"
  },
  "language_info": {
   "codemirror_mode": {
    "name": "ipython",
    "version": 3
   },
   "file_extension": ".py",
   "mimetype": "text/x-python",
   "name": "python",
   "nbconvert_exporter": "python",
   "pygments_lexer": "ipython3",
   "version": "3.9.0"
  }
 },
 "nbformat": 4,
 "nbformat_minor": 4
}
