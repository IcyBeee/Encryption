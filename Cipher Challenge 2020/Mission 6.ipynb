{
 "cells": [
  {
   "cell_type": "markdown",
   "metadata": {},
   "source": [
    "# Cipher Challenge 2020\n",
    "### Practice Challenge 6\n",
    "\n",
    "Challenge link https://www.cipherchallenge.org/challenge/competition-challenge-6/"
   ]
  },
  {
   "cell_type": "code",
   "execution_count": 7,
   "metadata": {},
   "outputs": [],
   "source": [
    "# Part A - \"A breakthrough\"\n",
    "part_a_text = \"\"\"FXWCR SURSR NJCDL IRZGV MRYJS HJEVH FXYZQ LWRWT OZVVN EDWVD XNLYY DQRUL VJJIP FESTG XQRWN FQZJL SXWMV FTMHW FILFR IKXWE GFPWT MLXZW FEXRS HWFIM FXXVV FEGKC DYJNS FZSKR GVRHT XUZHI SBKFU JZJSI HXZGJ EWXZQ RFVYT DXVVY YHWVZ FJQTK KNEJY FUJGR WKZMZ FMZVS FWFIH FCVZI SWZVJ RVABV LIRZG KFUDQ IHFUB AVWYV GFCRY FIYYH RRQIW RZEGS FWMZQ LKRWV STIWY YHGIH FBWMI RZXKH RPJNK JERSV RKKKJ CDSUO FULJJ PJEWN FQJUW MRWXY HBRVX RGYFV JVKJI SWVYN FXXIH XZGJE WQVDA VVTJX IUHSC BGLWL CDIKK FKWMV BMRGG VHSRE QVWTI HHFPR VQIJX HYDSZ FJIHU CDHVP JEWKF UYYHK CDYZP NXKYY DAVPN JVJUW MVLRG RWKDS THTWW MZVGL WBVKJ RUIKK JJDRV VYFUD RWYYU JVGNW IJIHS KDIUU JJVJJ LSKKJ VDXKH SURKC RSURS ROQNL YYWMV VFDHI VSFIW ZIHIR WJRQI KKFKF TZQHZ GJUZN KKYYH TILLZ QFCDW ILARO TWWMV VUPFQ ZVYKR ZILSX JWFXU WUTDQ TIITC NTEHT WWMVO FEGQR GNVVM RGXFP JNKFK ITIWZ ZWTLV QPNJG WFIHH FUIFI YYHHF PNEJX RQIXR NEJXF IMVUW VVNUH SKVFE GBRVF SOJKR IVVHI LGVYN JLYFU XKRYY HIVSF IWJUW JEDSK WMVUJ YDISH JEDSZ QHIHF JHNEW MVQZD EJIRA VUYYH YYUJV ZJVNX CHFUL SXXUK RYYHN IGJGD WKXWV DSUWM RWIRW JTRNE FNUHI NLYYW MVDWI LAROT WWMVV UPFQZ VYKRZ ILSXJ WFXUZ QYYHZ BLHZU HLOFK HIUHX TUNGW NFQXF IYYHI VSFIW JUWJE DSKVY FRZID LVQYJ DYKKJ GRWKD ZKKTI LYZHX RQIKK JPZJI HFSOJ KRHFQ KZURK KFKDL IRZGP FKFMZ QLKKJ UHXTU NGWNF QMRGQ VIYKK JTRZE WWPWM VGFPD KKHWK KJJSD TONJW LIRZG DWILA VGFKN NEJXT UTJVT LUFXH SKVFE GFBHQ RJWFX UJLSV VXVAF EGPVQ YNHWV DXBHI KRWVS TIWTE WMVVU PFQZV YXUTL SXZQY YHNIQ JZJMS RZIKT FGXRQ ISRYY WJRPX JHSKP JRONJ WTWWM VWTLU NEJUR UYZHX IHHFQ HZONE JYYHR RJFZQ XKWMV SFIWD FIYNH SKBYY DYJHY FIKWU TDONE FTCQB VKFMH QFVYR QTKKJ IINMH FCRSX WMVZF POZTN NCBYY HFBHQ RJWFX UZQJJ VJOKF UEJVQ BRWHY LSXIT IWMVG JGDWK XWVIW FPYYH JRVYV QIRQI JRBVN SFZYY DYKKJ WXQCW BVQYP VJKRK WDQFQ LKKJK KFDHX ZQYNR LIRZG VTWWJ EZNKK JZJMK DWILA ZQLZQ XNDQV DSUVJ MHSRW HRQJN GTEWM VDHIR XKLHZ QYYHQ RVYKH QVJWR PBVLS KHWTH UKHIJ SJCOJ URZKW MVPJJ VFXHF KWFIJ JKUIW DSULW RQYYD YGDXK PDRLW DLSZV YIBHF QYRFY JZMFD YCDXK DLIHJ UWTSU NVIRV RSKKJ ZUHFQ HVUSJ UIWVY RQIJI TIUFU LTULW VFYZR SRQIW LSULS XLVLH XKLTE HIKKN JWMZQ PZQLZ WBRVF EHWIR WRQIK KFKWM VBRVD SKUFU LTULW VFYZR SWLSU LSXWM VQFML LRWNF QXPVY VPBVX XVEZK DUGDW VQYCB YYLXZ VXFPJ KKNEJ SVZKI RRKKJ SRKWL SJRSK KJKLE RUITR RDLYK HJKKJ PFFCO NKFMR LSYRR VDSUL YIHKV UXKRF EHBRH WFSQR QJUHY VFYZR SJBXK HRKKF KXXVV WVIQV FYZRS FIWRG NFZFM HXKRW RQLVI NEGFJ ZJCOF JLSUL HRWJS HFILS XIWFP FZUYY UJRWX KKJPK FMHGV HSVAU VUNDH SKLSX ZNKKY YLXWR WRZMZ OJRQI RUJER BSXNC GNEJT LWFJH WZHXF IRRVY JWTXL AVIWF QYCLS VZFIQ NEJTW DNIDY KDHBV YYHKZ UXKIJ NVYRW NFQXR UJSHN EJGLL QKLSE RWWRQ BONEF TCQFE GJJVJ OWTGU TMLIV DWZQL FIIVI JEFJR UTLQI CRSUR SRQIZ WQFRP JONBH TLUXG BHCLX KIWZH SUVFI HMLQY ZQLWR WZQKF URRWN FQFSR ZKWMZ VYVFM ERQFJ DZWNJ QTKFQ VDWZI YYHDB QTNZM RWNKL XSXYZ WNJFJ IWFZQ YYDYN HMRYJ KRXKR UKKJD INEGN EJTLW NRPFC VTERY JXWVZ MRWYY HRZVX ZQLGD WKBRV PGVUX RUJUR NEJNK FFEWG VMZJW RFUJJ SDZQL RVYYH NIFTM HWNLY YWMVW TLUNE JURUY ZHXRO QFZJU WMVPF JPZTK FTFJJ VFJWM VBBVU JCLPV ODKRL VWXFV TDHYY LSXHQ JHNJX UZDRY RUZQL KKFKW MVDYK DHYHI ZQYVU HVSYN LQCJN MHZJD HCXJN HFEDQ PVJUW MVHST UDGWJ UWJCH LIDRR QIWRZ EGYYD YZWZJ HXRFQ RVXZF FUILM AHZSM VUNKX XVVYY HXRPJ BHDNR WUITI WMVWW RQXGR XZWNF QXKDL VRKKK JTLUY HWRVN YDAVX XVGKF UYYLX MLLVQ JIHHZ SMVUF EGPER BZQLK KFKLY JKTLO ISHWV DXFQF SODJW WRLLY WKFUB RUIKR HIDHB WMVLW DHXJD LVEZK BTLZN COMRY JKRHY HHBWM VGJKD NCVKF UDFXW JHQWD XZKFM HYFJT YDWIB MRVFJ NJUPJ KRYID AVOYF FFZVY FUYFV JKXUR FTDPF EGUFV YRWYY HWUIY FZJIL STDXV ZJEHJ UWTRF YHXNT NQPLK NHHRQ HIDHB WMZVT EHFEG BFUPF XYNKF KLXXR NEJTE WMVQN YRUVZ JTDSD RZEWF TRZEW JIWTK KJJSD TONJW TGHWR WNFQG VITIH NKVZT FJVGX GHFIO \"\"\""
   ]
  },
  {
   "cell_type": "code",
   "execution_count": 8,
   "metadata": {},
   "outputs": [],
   "source": [
    "from collections import Counter\n",
    "\n",
    "# Takes a string or list of items and counts the frequencies of those items\n",
    "# data: The list or string to analyse\n",
    "# max_values: The maximum number of values to display (set to None for no limit)\n",
    "# no_columns: The amount of columns to use in the output\n",
    "def frequency_analysis(data, max_values=30, no_columns=5):\n",
    "    frequencies = Counter()\n",
    "    for item in data:\n",
    "        frequencies[item] += 1\n",
    "    \n",
    "    total = sum(frequencies.values())\n",
    "    column = 1\n",
    "    for item, frequency in frequencies.most_common(max_values):\n",
    "        print(f\"{item}: {frequency:2} ({frequency / total:.2%})\", end=\" \" if column % no_columns else \"\\n\")\n",
    "        column += 1\n",
    "    print(\"\\n-----\")"
   ]
  },
  {
   "cell_type": "code",
   "execution_count": 9,
   "metadata": {},
   "outputs": [
    {
     "name": "stdout",
     "output_type": "stream",
     "text": [
      "V: 204 (6.69%) W: 202 (6.62%) J: 200 (6.56%) F: 195 (6.39%) R: 195 (6.39%)\n",
      "K: 183 (6.00%) Y: 166 (5.44%) H: 160 (5.25%) I: 146 (4.79%) Z: 134 (4.39%)\n",
      "U: 127 (4.16%) X: 120 (3.93%) L: 118 (3.87%) Q: 116 (3.80%) S: 104 (3.41%)\n",
      "D: 103 (3.38%) N: 102 (3.34%) T: 88 (2.89%) M: 75 (2.46%) E: 71 (2.33%)\n",
      "G: 69 (2.26%) P: 47 (1.54%) B: 45 (1.48%) C: 35 (1.15%) O: 30 (0.98%)\n",
      "A: 15 (0.49%) \n",
      "-----\n"
     ]
    }
   ],
   "source": [
    "squished = part_a_text.replace(\" \", \"\")\n",
    "frequency_analysis(squished)"
   ]
  },
  {
   "cell_type": "code",
   "execution_count": 10,
   "metadata": {},
   "outputs": [
    {
     "name": "stdout",
     "output_type": "stream",
     "text": [
      "WMV: 29 YYH: 22 KKJ: 20 NEJ: 14 RQI: 12 \n",
      "ZQL: 11 LSX: 11 WNF:  9 NFQ:  9 FEG:  9 \n",
      "JUW:  9 KFK:  9 KFU:  8 KKF:  8 YYD:  7 \n",
      "KWM:  7 IRZ:  6 RWN:  6 IKK:  6 TWW:  6 \n",
      "HSK:  6 ZVY:  6 JKR:  6 ZQY:  6 LIR:  5 \n",
      "RZG:  5 WFI:  5 XXV:  5 VSF:  5 IHF:  5 \n"
     ]
    }
   ],
   "source": [
    "# OK - as hinted last week, this is a Vigenere.  Key size is 2 apparently.\n",
    "\n",
    "# A function that searches for multiple ocurrences of letters of the specified size and prints out the most common ones\n",
    "def pattern_finder(text, size):\n",
    "    patterns = Counter()\n",
    "    for index in range(len(text)):\n",
    "        patterns[text[index:index+size]] += 1\n",
    "\n",
    "    column = 0\n",
    "    for item, count in patterns.most_common(30):\n",
    "        print(f\"{item}: {count:2}\", end=\" \")\n",
    "        column += 1\n",
    "        if column % 5 == 0:\n",
    "            print()\n",
    "\n",
    "pattern_finder(squished, 3)"
   ]
  },
  {
   "cell_type": "code",
   "execution_count": 11,
   "metadata": {},
   "outputs": [
    {
     "name": "stdout",
     "output_type": "stream",
     "text": [
      "WMV/3 82 (1) 397 (1) 469 (1) 562 (1) 622 (1) 661 (1) 790 (1) 814 (1) 889 (1) 901 (1) 1078 (1) 1180 (1) 1243 (1) 1282 (1) 1345 (1) 1396 (1) 1528 (1) 1579 (1) 1753 (1) 1783 (1) 2446 (1) 2470 (1) 2488 (1) 2539 (1) 2584 (1) 2665 (1) 2785 (1) 2818 (1) 2980 (1) All the same!\n",
      "YYH/3 179 (2) 257 (2) 284 (2) 446 (2) 602 (2) 710 (2) 773 (2) 827 (2) 851 (2) 926 (2) 956 (2) 1199 (2) 1271 (2) 1358 (2) 1412 (2) 1541 (2) 2120 (2) 2300 (2) 2378 (2) 2432 (2) 2648 (2) 2903 (2) All the same!\n",
      "KKJ/3 312 (0) 498 (0) 537 (0) 987 (0) 1008 (0) 1047 (0) 1068 (0) 1089 (0) 1332 (0) 1437 (0) 1461 (0) 1488 (0) 1662 (0) 1842 (0) 1854 (0) 1872 (0) 2010 (0) 2346 (0) 2688 (0) 3009 (0) All the same!\n",
      "NEJ/3 191 (2) 716 (2) 725 (2) 1115 (2) 1250 (2) 1268 (2) 1832 (2) 2066 (2) 2105 (2) 2144 (2) 2354 (2) 2405 (2) 2453 (2) 2975 (2) All the same!\n"
     ]
    }
   ],
   "source": [
    "# A function that searches the given text for a word and figures out where it would line up with a key of a given size\n",
    "def get_alignment(text, word, key_size):\n",
    "    print(f\"{word}/{key_size}\", end=\" \")\n",
    "    alignments = []\n",
    "    position = -1\n",
    "    while True:\n",
    "        position = text.find(word, position+1)\n",
    "        if position >= 0:\n",
    "            alignment = position % key_size\n",
    "            print(f\"{position} ({alignment})\", end=\" \")\n",
    "            alignments.append(alignment)\n",
    "        else:\n",
    "            break\n",
    "    if alignments.count(alignments[0]) == len(alignments):\n",
    "        print(\"All the same!\", end=\"\")\n",
    "    print()\n",
    "\n",
    "for word in (\"WMV\", \"YYH\", \"KKJ\", \"NEJ\"):\n",
    "    get_alignment(squished, word, 3)"
   ]
  },
  {
   "cell_type": "code",
   "execution_count": 12,
   "metadata": {},
   "outputs": [
    {
     "name": "stdout",
     "output_type": "stream",
     "text": [
      "DFR\n",
      "FRD\n",
      "RDF\n",
      "UXF\n"
     ]
    }
   ],
   "source": [
    "# A function to reverse search for a key that would convert the given word to an encoded word\n",
    "def lookup_key(word, encoded_word):\n",
    "    key = \"\"\n",
    "    for letter, encoded_letter in zip(word, encoded_word):\n",
    "        diff = (ord(encoded_letter) - ord(letter)) % 26\n",
    "        key += chr(diff + ord('A'))\n",
    "    print(key)\n",
    "\n",
    "for word in (\"WMV\", \"YYH\", \"KKJ\", \"NEJ\"):\n",
    "    lookup_key(\"THE\", word)"
   ]
  },
  {
   "cell_type": "code",
   "execution_count": 13,
   "metadata": {},
   "outputs": [
    {
     "name": "stdout",
     "output_type": "stream",
     "text": [
      "OURLONDONAKELAGROUPSHAVEBEENSCOUTINGFORCLUESINAREASWITHALARGEGERMANPOPULATIONUSINGTHECOVEROFGOODTURNDAYTOVISITANUMBEROFHOUSESANDFLATSKNOWNTOBEOCCUPIEDBYFOREIGNRESIDENTSINMOSTCASESTHEREWASNOTHINGTOREPORTWHICHISNOTAREALSURPRISEASVKSGROUPHADALREADYVETTEDALOTOFTHEMANDFOUNDNOTHINGTOREPORTTHEBREAKTHROUGHCAMEWHENONEOFTHELANDLADIESMENTIONEDTHATSHEWASSADTOSEEHERPREVIOUSRESIDENTLEAVESOSUDDENLYBUTGLADTHATTHEYHADBEENABLETORECOMMENDSUCHANICEREPLACEMENTFORTHEFLATIMIGHTHAVEMISSEDTHEIMPORTANCEOFTHISBUTWEHEARDTHESAMESTORYATTHREEDIFFERENTADDRESSESINTHEEASTENDOFLONDONALLWITHTHESAMEDEPARTUREDATEANDTHATCOINCIDEDWITHTHEORIGINALARRIVALOFTHESPYCLISTTOURINGGROUPFROMNORFOLKONEOFTHELANDLADIESHADSOMEWHATFORTUITOUSLYKEPTARECORDOFTHECOMINGSANDGOINGSOFHERRESIDENTSANDWASABLETODESCRIBEVISITORSTOTHEDEPARTEDTENANTTHEREHADBEENANINCREASEINTHENUMBEROVERTHETHREEWEEKSLEADINGUPTOTHEIRDEPARTUREANDTHATDATECOINCIDEDWITHTHEARRIVALOFTHESPYCLISTTOURINGGROUPINTHEUKICIRCULATEDDESCRIPTIONSOFTHEDEPARTEDTENANTSTOOURAGENTSATTHEPORTAUTHORITIESANDTHEYWEREABLETOCONFIRMTHATAGROUPMATCHINGTHEDESCRIPTIONHADLEFTTHECOUNTRYTHEDAYAFTERTHESPYCLISTGROUPARRIVEDATKINGSCROSSOURAGENTSANDAKELAGROUPSINESSEXANDKENTWEREASKEDTOREPORTONTHESPYCLISTGROUPSINTHEIRNEIGHBOURHOODSANDBOTHTEAMSSENTMEALISTOFTHETOURINGPARTIESRECONCILINGTHEMAGAINSTTHEPARTYOFTWENTYTHATSETOFFFROMLINCOLNWEHAVELOSTANOTHERFIVEALONGTHEWAYLUCKILYTHEAKELAGROUPINESSEXHADBEENWATCHINGFORTHEDEPARTUREFROMTHEEASTENDANDSOWEKNOWTHATTHEFULLTWENTYSETOFFALONGTHETHAMESINTWOGROUPSOFTENWITHEIGHTARRIVINGINSWALEANDSEVENATCANEWDONTHEACROSTICINTHELASTTELEGRAMWEINTERCEPTEDSPELLEDOUTTHEMESSAGEATTARGETRDFANDIRANTHATPASTMYAIRMINISTRYCONTACTSWHOATLASTAGREEDTOBRIEFMEONTHEIRCONCERNSRDFSTANDSFORRADIODIRECTIONANDFINDINGIQUESTIONEDTHISTHINKINGITWASANERRORANDTHATTHEYMEANTRADIODIRECTIONFINDINGTHENAVIGATIONSYSTEMWEUSEBUTAPPARENTLYTHISISSOMETHINGNEWFROMTHEBOFFINSONTHETIZARDCOMMITTEETHEYCALLITCHAINHOMEANDITREFERSTOANEWAEROPLANEDETECTIONSYSTEMTHATUSESREFLECTIONOFRADIOWAVESTORANGEFINDASWELLASINDICATEBEARINGFROMAIRTHREATSTHEYHAVEBEENEXPERIMENTINGWITHTHISFORAWHILEANDARENOWBUILDINGOUTASERIESOFMASTSTOGIVEFRONTLINEWARNINGOFAIRATTACKSTHEFIRSTFEWSTATIONSAREBEINGBUILTINNORFOLKLINCOLNANDESSEXTOPROVIDEARINGOFDEFENCEAROUNDLONDONANDITLOOKSLIKEOURSPYCLISTFRIENDSAREHUNTINGFORINFORMATIONABOUTTHISTECHNOLOGYITISNOTCLEARIFTHEYKNOWWHATITISBUTITISCERTAINTHATWEHAVETOSTOPTHEMFINDINGOUTIAMALSONOTSUREWHATTHEMISSINGPARTYMEMBERSAREDOINGITCANTBEJUSTMORESPYINGASTHEIRCOVERWITHTHETOURINGPARTIESALLOWEDTHEMASMUCHACCESSASTHEYWERELIKELYTOGETSOSOMETHINGELSEISUPIAMHOPINGTHATTHEATTACHEDINTERCEPTWILLGIVEUSACLUEWEANALYSEDTHEENCRYPTEDTELEGRAMANDFOUNDTHATITUSESACLASSICADFGVXCIPHERITUSESTHESAMEKEYWORDFORTHETRANSPOSITIONSTAGEOFTHECIPHERASIHAVEUSEDFORTHISVIGENERECIPHERANDKNOWINGTHATITSHOULDBEREASONABLYSTRAIGHTFORWARDTOCRACKTHEIRMESSAGEBUTYOUWILLHAVETOCHECKTHEDETAILSFORYOURSELFASIHAVETOGOHARRYHASASKEDMETOTRAVELTOCAISTORTOSETUPACOMMANDPOSTATTHERDFTOWERINCASEWENEEDTOACTQUICKLYIFWECANCRACKTHISONEANDWORKOUTWHATISGOINGONTHENIHOPEWECANMOUNTACOUNTERTOTHESPYCLISTOPERATIONBEFOREITSUCCEEDSPEARL\n"
     ]
    }
   ],
   "source": [
    "# RDF was mentioned last week!\n",
    "\n",
    "# A method to decode/encode a Vigenere cipher.  Case and punctuation are preserved.\n",
    "# text: The text to encode\n",
    "# key: The key to use\n",
    "# encode: If set to True, will encode the given text instead of decoding it\n",
    "def vigenere(text, key, encode=False):\n",
    "    shifts = [ord(letter.upper()) - ord(\"A\") for letter in key]\n",
    "    key_length = len(key)\n",
    "    key_index = 0\n",
    "    for letter in text:\n",
    "        letter_val = ord(letter)\n",
    "        if letter.isupper():\n",
    "            offset = ord(\"A\")\n",
    "        elif letter.islower():\n",
    "            offset = ord(\"a\")\n",
    "        else:\n",
    "            print(letter, end=\"\")\n",
    "            continue\n",
    "\n",
    "        if encode:\n",
    "            shift = shifts[key_index]\n",
    "        else:\n",
    "            shift = -shifts[key_index]\n",
    "\n",
    "        print(chr((((letter_val - offset) + shift) % 26) + offset), end=\"\")\n",
    "        key_index = (key_index + 1) % key_length\n",
    "    print()\n",
    "\n",
    "vigenere(squished, \"RDF\")"
   ]
  },
  {
   "cell_type": "markdown",
   "metadata": {},
   "source": [
    "Edited for clarity:\n",
    "\n",
    "Our London Akela groups have been \"scouting\" for clues in areas with a large German population using the cover of good turn day to visit a number of houses and flats known to be occupied by foreign residents. In most cases, there was nothing to report, which is not a real surprise as VKS group had already vetted a lot of them and found nothing to report.<br>\n",
    "The breakthrough came when one of the landladies mentioned that she was sad to see her previous resident leave so suddenly, but glad that they had been able to recommend such a nice replacement for the flat. I might have missed the importance of this, but we heard the same story at three different addresses in the East end of London, all with the same departure date and that coincided with the original arrival of the spyclist touring group from Norfolk.<br>\n",
    "One of the landladies had (somewhat fortuitously) kept a record of the comings and goings of her residents and was able to describe visitors to the departed tenant.  There had been an increase in the number over the three weeks leading up to their departure and that date coincided with the arrival of the spyclist touring group in the UK.<br>\n",
    "I circulated descriptions of the departed tenants to our agents at the port authorities and they were able to confirm that a group matching the description had left the country the day after the spyclist group arrived at Kings Cross. Our agents and Akela groups in Essex and Kent were asked to report on the spyclist groups in their neighbourhoods and both teams sent me a list of the touring parties, reconciling them against the party of twenty that set off from Lincoln.<br>\n",
    "We have lost another five along the way. Luckily, the Akela group in Essex had been watching for the departure from the East end and so we know that the full twenty set off along the Thames in two groups, often with eight arriving in Swale and seven at Canewdon. The acrostic in the last telegram we intercepted spelled out the message at target RDF and I ran that past my air ministry contacts who at last agreed to brief me on their concerns.<br>\n",
    "RDF stands for Radio Direction and Finding. I questioned this, thinking it was an error and that they meant \"Radio Direction Finding\" (the navigation system we use), but apparently this is something new from the boffins on the Tizard committee. They call it \"Chain Home\" and it refers to a new aeroplane detection system that uses reflection of radio waves to range find as well as indicate bearing from air threats.<br>\n",
    "They have been experimenting with this for a while and are now building out a series of masts to give front line warning of air attacks. The first few stations are being built in Norfolk, Lincoln and Essex to provide a ring of defence around London and it looks like our spyclist friends are hunting for information about this technology. It is not clear if they know what it is, but it is certain that we have to stop them finding out.<br>\n",
    "I am also not sure what the missing party members are doing. It can't be just more spying. as their cover with the touring parties allowed them as much access as they were likely to get, so something else is up.<br>\n",
    "I am hoping that the attached intercept will give us a clue. We analysed the encrypted telegram and found that it uses a classic adfgvx cipher. It uses the same keyword for the transposition stage of the cipher as I have used for this Vigenere cipher and knowing that it should be reasonably straightforward to crack their message, but you will have to check the details for yourself as I have to go.<br>\n",
    "Harry has asked me to travel to Caistor to set up a command post at the RDF tower in case we need to act quickly. If we can crack this one and work out what is going on, then I hope we can mount a counter to the spyclist operation before it succeeds.<br>\n",
    "Pearl."
   ]
  },
  {
   "cell_type": "code",
   "execution_count": 14,
   "metadata": {},
   "outputs": [],
   "source": [
    "# Part B - \"Pressure builds\"\n",
    "part_b_text = \"\"\"DADFD DXFGF FDFFX GADAD XFGGA DGDDG GFGGA GGAFA GGGAV GVFDD AAVAG DFFXG XGDFV GGDFD DGFAV GFADG GFFGF FVAGD FDFGA DAAFD VDVGG DDFDG FGVFA AFFXD VGGDD GFFGD GFGDF ADDVA VDVGA AVDVF GDAAA AVAFG XADAF DGDGD VAGGG DFAFF AFXGF AAFGD FGVAF FVDGF DGFGG DFGVG GFGFF FGGVF FFXDF FDFVG FGVFF DADDD GFFFV FADFA VGGDA AVDFF DFDAF DDAGG FAVGX FGGDG VDAFV DGDGG VDGGV FDDVV VADDD DDAGF GDXDA DDADD DFVDV FDFFF AGXFD GVDDG FFDDG AVGAD GFFDD AFDVD GGGFF AFVFG GDVGX DFGAF GDDFV AFFAF VDVDF GDGVF AGGGX DGDVF DGVAD GAGFG GFDFF AFDFA VDGDF DDFXF AFGDA VGDVG FGVFF FAFGF DFDGF GFDVD GAVDD GFGGG GGFGD FVAVG DDVFV DDGVF FGVDF AADFD GAFAF FAAVF VDVGG VGFFG FGFGV FVFDD DFAFV GGFFG AGFGX DFGFF XGAGF GXGGG DFFGV FDDDA FDVGG GFFDD AAVFV AXDFG VDFDD GDGDF AAAFD FAFFG GFVDV GGFVA DDFDG DVGFD GGAFV GVFFG GAAVG DGGFD GADGF DFFDF FDAFV DGDDF DAFGV GDFAG VDAAG DDFDD VFDAD DGFGD XFGDA AFGVD FFVAV AFAGG GFGDV GGGAG GFAGA AFGDG ADDDF FDAFF FGFFV AGGFD DFADG DDGVG FADAG DFFGG GFDFF FAGAD DGFGD GVFGF GDVGF FAAXF DDFGD AFGVD FGVDV AVGGA VADGA DVFVA DDGGD GGFXG VFAFD ADGXD FGFDG GGFGF FGGFF DGAAG DFVGV DVGVG VDFGV DVGVD GFAFD FGDGD ADAFF FDGVF XGGGG FFGFG VDVAD GVAFD VFGAX GAADG DDXDV GVGGG FFXGG FGAGF AFFFD FVFDF VADDG GGGGA AGVAF AVGVV VGXGG GFFVA AGFGV GGGFA DAAGV AAGDD FGADD DDDAD VDFGV FAFDA GGFFD DDDGG GVDDG DFFAV DFGVG FDFDG AFFVA DGGDF DDGXG DDFFD DAGFD VDGFV ADAGD FFVDG FFGDF GDFDV GFAAF GDFAF FFAFF DDDGF FGDVA VGDGF GDFDG VFFDD DFDFF VDVAV GGDAG GGFGF DDFDG GFADF FADAD ADFFA DDAVD VGGGA AGDGA VFDFV DDFAF VDFGD FGFVA GFXFG DGDFA DFGDV DVDGG GGFGV GGFVA DGGAD FXGGG FGVDF VVGDG FGGAG DFDAG VGDFV FDAVD AAXDA DFDGF VDGFF AFGVA VGGFV GFFXD DGAGA FVAAD AAVDF DGAFD AFFGV GFGXF XGDDG DDFDA VDVAD GVDAD DDVDD AFFFD DGVVF FXAFG AGFDF GDGVA DDVDF FGGAA DDAAD FDFGA GFGGG DFFVG DGDDD FGDFG GGFFX ADDAD FFGAF GGADF FAGDG FFDAD FGGAD FXDGD GAGFG DXADG FFVDD GVFVD GDFFF DVDVG FGVDD FFFVA GFGGG FFGAF VDVAA AFFDF FGVGX GDDAF FDFGF FGADF VAFGV AVAVF DAFFG GDGVD FGVGV GDFFD GFVDV GXGDD FDFDD FGFDG VAFFD GVFDG FDDGV GFFVA FDXGA GGDFG AAFFX GFAGD DDAAV DVAAA GFVDG DXGFD DDVDF FADVA XGFFA ADGGF VADGG GFAGG FFXDV FGGDD XGGGF FDDFF VFDGD AAFVG VDFGV AGFDG GFVVV DADAG GDFDV AAGGF XDFGV GDFGF VGDAF GGFXD ADDGV FGGAA XGVFF FFDFD ADDAA GAAFD GGFFX ADGXG GGVFD GVFGF VAVGG GXDAF DDDGG FGAVF GFFGX GGGFG GDFFA GGAFA VGAAF GVDXD GDXFD FDDGF VDFFD GFGDD GDVDF FXAFD FFVFG GXGGG GFDDF AXGGG DGVDG FXAGD FGFGF DDGVD GGGDG AXFDG DAFGF ADAXF GFGGV GADFF DDFGV GVFFA GDFDF FDAGF AAFGA AVVVA GVVGF DFAFF FGDGG FDGAF FAAGD DFDFD VFDDF FGFGD VGAGA GFFGF VGFAD AADDF DAFDD GGFAG DAFGV DDGVD FFGDG GFAGA GGDFV AFFGG FGVAA VVDAG VAFGF DGFVA AAGDD FFDGG VGVFD DFGGG XGVGV FVDGF VDGGG FADGG GFFDD AFAGG FGDDG DFGFG GDFDF AGGGF GAFGG FFGGG GFGFG DFGGD FFDAF AGDGD GGGVF VGAFF VFDDF AAGGF GDFFD DFDAD GVXGF GFVGG AGGFG DGGGG VGVDD GGFFF FDFFD FVAFF DGGFG DDDAF DGGGX DFADA XGGDA GDAGG GDFGG DFGGA VDDDA DVDFF DDGAF FFGFD GDFAD DDFGG FFXGF DFFVD GDFAF GAFFF DFDGF AVFFG GAGGF DGGVD DVVGV FXFVA FGAFX GGAFV GAGDV FVGFG DGAGV GADGF VGAFV FDFAV DFDGG FXGAA DFFFG DGGAD VAGDV FVFGF VAADG AVAFD DGVGA AGGAD GDVFG DADVF AVVAA VAGGF DGGGX DVFFG AAVDF DADDG GGFDX FDGFD VGVDD GFGDG GGFFF GGDAD VGFFX GGDDG GFGGA DXAGF DGDFV FFDVD VDFDG DADGG DGGAV DDFXD AAGGV FDGFG GFAAD DDGVD VGGGG FVAAA VAVGD GVDFF VAGDX GDFDA FDGAX DVFDF VAXVV GFADD DGVGF FFDFF DFFGG FGFAG FAGDF FFDAD AGVAG GGFGD DGVFA FGDDD AGGAG DGGXF DGFDG FVAFA DGDAG GGDDD AFVAF FDFGG GGDFG AGGFF XAAGG AFGVA FGVFA FVDVD FGGAD AGDVG GAVFG DGFFG FDGGA FXFDD XFDAA GGGFG VDDGD FGFFG FGVGA AFADV XFDDG GGFDF DFGDF DFAGG VFGDG GADDF FDGDG GFFDD FDGFF AGFFG DAVFG GFDFG FDDAD GFGVF AAVDD GVFVA GFFGV DVFVV VAVFG DFGFF XFDDD DGFVF DAVAD FAGGF XADAA DGGFG DGVDA DVDGD AGDFF GADGG XFGAD FGAGA FDDFG FGFFD FDVFV GAGDF DADGF GAGAA AGDGV FDGVG VVFFX DGDDF FFVGV DFGGG DDFDG DGDFG VFXVV DGVVG DFAFA FFFVF DAVDF FXAD\"\"\""
   ]
  },
  {
   "cell_type": "code",
   "execution_count": 15,
   "metadata": {},
   "outputs": [
    {
     "name": "stdout",
     "output_type": "stream",
     "text": [
      "ADDFAAGDGVFGDDFDDFGXDVFDDGDFFDFFGGDGDFGGFVGXDFGDAAGGDDAAFGDFGXADFVFGDVGFAAGFDVFGGGDFGDDFGFGGDVFGAGAAGFVAFVGVDGAAADGFGVAGAGDFGFGGDFADDVGGGXFVGVFDADDADFAAFGADDVDDAAFGGFDFDFDGFVGXDVGGGXFVGVFDADFDDVAFGGGGDGDFGFFXDVGDDVGGGFFVAFFVGVGDDFFGAGFDDVGFDGDGFVGFGGGFFFAAFADVFGAGGGDGDFFFAFDFDFFDGFAAAFDFAAFGADGFDFDDGVGDDFDVFGGGDGDFDVGDAFFVGDGGGDDFGFGFDVGFFDAAFGADGFGGFVFXFGDFAVDFGDGGDGDFFDDFGFGFFGFVGGDGDVFGAGFVFGGGDGDFDFAAGDGGDGDVGFAFFVGDDFAVDFGDAAFGADDVGGDGDVFGFAGGDGDFVAFFAAVADGAAAVDFAAFFDVGFFXFDAADDDFADAFAADVGGDGDVFGGGDGDVGFAAFGADGGDGDFDGDFAAAVDFFGFDVAFXFVGXDFGDGFFFAAVAFGFVGGDADFGFGGGDFVFGAGDFFGFVGVAGDGGGFVFXGDFVGGDFDDGGGGDGDFFFAFGDFVFFGGDGDFFVFGDDFVFFDVFGAGGFGGFVGDFFGFGGFVFXGGDGDFFDFVDDAAFDFVGDGGGFAGGDGVFXFXDFGFDGAAGDDFADGXDVGGDGFFDFVAFVGVGDFDAAGGDFGFGGAGDVAFGGGGDGDFDADFAAGVGGDVAFGVFDDDFDFVDDFAADDFAVDVDDDFAAFGADGXDFDGAAAVDFGFFXDFFGGGFFGVDDDGGGDVFFDFAAADFFDVGDDVFGAGDVGGGFGGFVFXDVGGGFGFDVFFFXFDDVDDDVGGVADVGFAAADFFDVGDAADAFDDFAAFGADFVFGDDDFGXDFDGAAAVDFFDDFAAGDFGDFADGGFVGVGFDFDVGGFXGDFVFXDFGDFDVADVGGGXDVFDFDFXGDFVAVDVADDFGVGFAAFDFDGXDVGGDGAAAVDFGDVADGDVAGDGFDDFAVDFFDFVAFGFDFDDGVGDDVGGVAGFGGFVFXGFAAAFDFGGVAFFGVGFGGDADFFVGVGDFXGDDVFFAAGDVADDFVFGDDDFGDFGFGFVGXAAGFAAFDAADDFAFVAFDDFVFGDDDFFGGGGDAAGGDVFVFGAAGGGGDGDVGFFXFVDVFGGGDDFVGVFDADDAGDDVFGAGADDVGFAAGFGGDFGDGFGGFVFXGDAAFDAFDGAAGFDADFDFFGAGDVAVDFFGGGDGDFAADDDDFVFFFXAAFGVADVFGAGFADFVADAVAGGDGDFFVGDGGGFAGGDGVFXFXDFDVFGFADFFGGGAAFGADFVFGDDDFGXDFAAGDDFGDDFGVFGDVGGDFADDVGXDVFDFDGVGFDFGGDGDVGFGGFVGFDFDDGVGDDFFVGVGDAFGVGGGVGDDFDDFVFFFFGVFGDVDDAAGGDVFVFGGFGFGGFVFXDFGFGGAADAFDDVGFDGDVFGAGAAGFAAAFDFFXFDAAFGAFFVGDFVGVGDDXFVGVGDFGDFVADGFVFFDFDVGFDFGFGFDFFGGGDVAAFDDVFGFVGDADDFGDGGFVAAAVFVDVADGVFGFXFDDFAAGFAAFGGGGFGVGDFXGDDVGFDFGFGFGGFVFXGAGVAAGDGDDFFDGFGXDVGGDGFVGVGDDGFVGFGGGXFVGVFDADDADFADDVAFAFDVDDGVFDGGGGFVGDDFGFFVFDAVDFAAFGADDVGXFVGVFDADFXGDDFAFDFGDDVGGDVAFGXDFDDFVGVFDADGFFDDVFXAAGXAAVAGVFGGDDFFFAAGDFADFADGFGGFVFXGVGFDFFVAFGGDGDFFDFVDDAAFDAFDVGFDGDVFGAGDAFVAAGGGFFFDVAGDGGGDADFFXFVGFGFDVDAFDDFDAGVGGDVAFAAFGVAGGDGDVFGAGGXDFGDDFGGFVAAFDAAGDFFGGDGDFFDFVDDAAFDGFGGDGAAGGFFDVAGDGGGGXDFFDFDFXGDDFAVDFFGGGFVGVGDADDFFXAAGDGGGVGDDFAAFGADGGDGDFDDFDFVDDFADDFVGVFDADAFAAFDFDDVFGGGFVGGDGDFGXGDFVFGAGDGAAFGADGFGFGGFVFXDVAFVAFVGVDGAAAVDFAAGFGVAGAGDFGFGGDVFVFGAADAFVGVGGDGFVGXDADFGFGGGGFVAAGDGDAAFGAGDFFVGVGDGGGDAAAVDFFDGGDGDFFGFXFDDFAAGFDFFDDFGGGVGFFAFGFVGXAAFGADGXDFGXDVFDFDFFAAFADFGGDGDFGDDFGAGVDVGDDFADAAGDGDAAFGAGDFFFDFFGGGGFGFGGFVFXGDAAFDAFGFFXAAGDGGVAGXDVFDFDGDDFGGGVGDFGGGFVFDFVFGADFVFGGGDGDVGFGXDFDFFAAAFGADGXDVFDFDGGDGDFFGGGGDAAAVDFFDGGFVFFDFDFGGGXDVGGDGGVGFAFFVGDGGDGDFAFDVFGAAFDGFGGAAAGDFFVAFFVGVGDAAADAVDFFGGGGVGDDFGXDGDFFGGXDFGXDVFDFDAAFDFDGDDFAGGDFVGVFXDADFAFFVGDDFGDDFGGGVGDFGDVFGAGDGFVFFDFGFGGFVFXDFAVDFFGDVAFVAFVGVADFVFGFVGGGXDVGFDGGVGFGGFVFXGDFVDDDFDFADGXDVGGDGFVGVGDFVGDDVAGDVFGAAFDFXFDAAFGGGDGDFFGGXDFAAGDDFAADAFDDFGGFVGDDFGGGVGDFGGXDVGGDGAAGXDGFVFDDFGGGDDFAAGFGVGDDFFVAFADGDAAGXDVFGAGGFFXDGFVGGFVAGGDAAFXDGGFAAFGADADDFGFDDGDDVFXGGDVFVFGGFFVAFGGDGDFGFDFDVFFFXFVGDGGAAFGGGFDAAFGADFFAAGDFAGFAFFVGDVAFVGVAAFGADVAFVGVGDAFGDDVDFFGADGFGGFVGFGGGVADVAGFGGFVFXADDFGGAADVFDGFFVAFVAFVGVGDGXDVGFDGDFGFGFDGFVGVFDADDADFGFDFFGGGDVFGGGDGDFGVGFGVAAFDGXAAVAGVGFDVFGAGVAFVGVGDGDDFFFAAGDFAAADAFDDFDDFDFVDDFAADDFAVDVDDDFGFGGFVFXFAAAGDFD\n"
     ]
    }
   ],
   "source": [
    "# Part A tells us that this is an ADFGVX cipher (https://en.wikipedia.org/wiki/ADFGVX_cipher).\n",
    "# The keyword is the same as that used in part A, e.g. \"RDF\".\n",
    "# First we have to untangle the letters by moving the third of each group of three to the beginning (\"DFR\" -> \"RDF\")\n",
    "squished = part_b_text.replace(\" \", \"\")\n",
    "untangled = \"\"\n",
    "column_length = len(squished) // 3\n",
    "for i in range(column_length):\n",
    "    untangled += squished[i+(column_length*2)] + squished[i] + squished[i+column_length]\n",
    "print(untangled)"
   ]
  },
  {
   "cell_type": "code",
   "execution_count": 16,
   "metadata": {},
   "outputs": [
    {
     "name": "stdout",
     "output_type": "stream",
     "text": [
      "{'AA': 'A', 'AD': 'B', 'AF': 'C', 'AG': 'D', 'AV': 'E', 'AX': 'F', 'DA': 'G', 'DD': 'H', 'DF': 'I', 'DG': 'J', 'DV': 'K', 'DX': 'L', 'FA': 'M', 'FD': 'N', 'FF': 'O', 'FG': 'P', 'FV': 'Q', 'FX': 'R', 'GA': 'S', 'GD': 'T', 'GF': 'U', 'GG': 'V', 'GV': 'W', 'GX': 'X', 'VA': 'Y', 'VD': 'Z', 'VF': '0', 'VG': '1', 'VV': '2', 'VX': '3', 'XA': '4', 'XD': '5', 'XF': '6', 'XG': '7', 'XV': '8', 'XX': '9'}\n"
     ]
    }
   ],
   "source": [
    "# Now we need to substitute each pair of letters with a unique value.  Use this table:\n",
    "#   A D F G V X\n",
    "# A a b c d e f\n",
    "# D g h i j k l\n",
    "# F m n o p q r\n",
    "# G s t u v w x\n",
    "# V y z 0 1 2 3\n",
    "# X 4 5 6 7 8 9\n",
    "\n",
    "import string\n",
    "\n",
    "characters = list(string.ascii_uppercase + string.digits)\n",
    "table = dict()\n",
    "\n",
    "for y in \"ADFGVX\":\n",
    "    for x in \"ADFGVX\":\n",
    "        table[y+x] = characters.pop(0)\n",
    "\n",
    "print(table)"
   ]
  },
  {
   "cell_type": "code",
   "execution_count": 17,
   "metadata": {},
   "outputs": [
    {
     "name": "stdout",
     "output_type": "stream",
     "text": [
      "BIATWPHNIXKNJINOVJIVQXITAVHAPIXBQPKUAUKPVITIUVKPDAUYQWJABUWDDIUVIBKVXQWNBGIAPBKHAPUIIJQXKVXQWNBNKCVVJIURKTKVUQCQWTIPDNKUJJQUVUOAMKPDVJIOCIINUACIAPBUIHWTIKPVJIKTCQTVTIUUKUNAPBUVQRPIEITVJINIUUPQVJKPDQPVJIIATVJKUCQTIEITAPBKVJKPMVJIYOAYJAEIAOKURNAHIBCAKVJKPVJKUAPBVJIJIAEIPNYRQXITUOAYPQVGIUVTQPDIPQWDJVQRTQVIHVVJIOCTQOVJIQPHQOKPDUVQTOUVQRVJINQHANQTVUDTWRRIUJATIBXKVJOIYQWTNAVIUVDKCVVJIGIAWVKCWNHNQHMBIEKHIAPBXIJAEIURIPVOWHJVKOIABOKTKPDKVUVQRKVUUKORNKHKVYKUABOKTAGNIAPBQPHIXIJAEINIATPIBVQWUIKVRTQRITNYKVXKNNRTQEKBIWUANNXKVJAEITYJKDJNIEINQCUIHWTKVYUVQRUACIVYOWUVGIQWTRTKOATYHQPHITPPQXAUANAHMQCHQPHIPVTAVKQPAVVJKURQKPVHQWNBGTKPDBKUAUVITUVQRTANCJAUGIIPDKEIPVJIAHHQORAPYKPDMIYGYVJIQTVUDTWRRIKPMIPVAPBQPHIXIATITIWPKVIBKXKNNWUIVJKUVQUIHWTIQWTCWVWTIHQOOWPKHAVKQPUUVQRIUVAGNKUJKPDAUACIRNAPCQTQWTLQWTPIYJQOIKUIUUIPVKANKPQTBITVQAEQKBWPRNIAUAPVUWTRTKUIUUVQRSWATTINUXKVJQWTJQUVXQWNBGIBKCCKHWNVVQTIUQNEIAPBKXQWNBRTICITKVKCXIHQWNBUNKRAXAYWPTIOATMIBUVQRWUIQCVJINQHANCKUJKPDGQAVUOKDJVGIRQUUKGNIGWVKCAPYVJKPDXITIVQANATOVJINQHANUVJAVOKDJVXINNRTIEIPVQWTBIRATVWTIAPBVJIHNQHMHQWNBCANNKPVQVJIXTQPDJAPBUUVQRKCYQWJAEIAUWDDIUVKQPAGQWVJQXGIUVVQATTAPDIQWTVTAEINVJIPRNIAUINIVWUMPQXAPBXIXKNNOAMIVJITISWKTIBATTAPDIOIPVUUVQRTANCURATVYXKNNTIVWTPVQNQPBQPVJKUXIIMAPBXKNNVJIPVTAEINVQOIIVXKVJWUCQTVJICKPANUVADIQCQWTABEIPVWTIXJIPXIXKNNANNTIDTQWRGICQTITIVWTPKPDJQOIUVQRIEIPKCYQWBQPQVXKUJWUVQRTQHIIBXKVJQWTQTKDKPANRNAPVJIPXIATIAGNIVQTIVWTPXKVJAXJQNIVTIAUWTIQCBTAXKPDURJQVQDTARJUAPBBIUHTKRVKQPUQCVJIUIKORQTVAPVNAPBOATMUCQTYQWAPBYQWTCTKIPBUVQUVWBYUVQRBIVAKNUQCYQWTXKUJIUUJQWNBGIUIPVKPVJIWUWANXAYWUKPDYQWTTIOATMAGNIHNQHMBIEKHIUVQRMATN\n"
     ]
    }
   ],
   "source": [
    "transposed = \"\"\n",
    "for i in range(0, len(untangled), 2):\n",
    "    transposed += table[untangled[i:i+2]]\n",
    "print(transposed)"
   ]
  },
  {
   "cell_type": "code",
   "execution_count": 18,
   "metadata": {},
   "outputs": [
    {
     "name": "stdout",
     "output_type": "stream",
     "text": [
      "I: 182 (11.47%) V: 144 (9.07%) Q: 126 (7.94%) A: 113 (7.12%) T: 109 (6.87%)\n",
      "K: 109 (6.87%) U: 109 (6.87%) P: 101 (6.36%) N: 83 (5.23%) J: 73 (4.60%)\n",
      "W: 69 (4.35%) B: 53 (3.34%) R: 46 (2.90%) X: 42 (2.65%) H: 39 (2.46%)\n",
      "C: 37 (2.33%) D: 34 (2.14%) O: 33 (2.08%) Y: 27 (1.70%) G: 20 (1.26%)\n",
      "E: 20 (1.26%) M: 15 (0.95%) S:  2 (0.13%) L:  1 (0.06%) \n",
      "-----\n"
     ]
    }
   ],
   "source": [
    "frequency_analysis(transposed)"
   ]
  },
  {
   "cell_type": "code",
   "execution_count": 20,
   "metadata": {},
   "outputs": [
    {
     "name": "stdout",
     "output_type": "stream",
     "text": [
      "BeATWPHNeXKNheNOthetQXeTAtHAPeXBQPKUAUKPteTeUtKPDAUYQWhABUWDDeUteBKtXQWNBGeAPBKHAPUeehQXKtXQWNBNKCttheURKTKtUQCQWTePDNKUhhQUtUOAMKPDtheOCeeNUACeAPBUeHWTeKPtheKTCQTtTeUUKUNAPBUtQRPeEeTtheNeUUPQthKPDQPtheeATthKUCQTeEeTAPBKthKPMtheYOAYhAEeAOKURNAHeBCAKthKPthKUAPBtheheAEePNYRQXeTUOAYPQtGeUtTQPDePQWDhtQRTQteHttheOCTQOtheQPHQOKPDUtQTOUtQRtheNQHANQTtUDTWRReUhATeBXKthOeYQWTNAteUtDKCttheGeAWtKCWNHNQHMBeEKHeAPBXehAEeURePtOWHhtKOeABOKTKPDKtUtQRKtUUKORNKHKtYKUABOKTAGNeAPBQPHeXehAEeNeATPeBtQWUeKtRTQReTNYKtXKNNRTQEKBeWUANNXKthAEeTYhKDhNeEeNQCUeHWTKtYUtQRUACetYOWUtGeQWTRTKOATYHQPHeTPPQXAUANAHMQCHQPHePtTAtKQPAtthKURQKPtHQWNBGTKPDBKUAUteTUtQRTANChAUGeePDKEePtheAHHQORAPYKPDMeYGYtheQTtUDTWRReKPMePtAPBQPHeXeATeTeWPKteBKXKNNWUethKUtQUeHWTeQWTCWtWTeHQOOWPKHAtKQPUUtQReUtAGNKUhKPDAUACeRNAPCQTQWTLQWTPeYhQOeKUeUUePtKANKPQTBeTtQAEQKBWPRNeAUAPtUWTRTKUeUUtQRSWATTeNUXKthQWThQUtXQWNBGeBKCCKHWNttQTeUQNEeAPBKXQWNBRTeCeTKtKCXeHQWNBUNKRAXAYWPTeOATMeBUtQRWUeQCtheNQHANCKUhKPDGQAtUOKDhtGeRQUUKGNeGWtKCAPYthKPDXeTetQANATOtheNQHANUthAtOKDhtXeNNRTeEePtQWTBeRATtWTeAPBtheHNQHMHQWNBCANNKPtQtheXTQPDhAPBUUtQRKCYQWhAEeAUWDDeUtKQPAGQWthQXGeUttQATTAPDeQWTtTAEeNthePRNeAUeNetWUMPQXAPBXeXKNNOAMetheTeSWKTeBATTAPDeOePtUUtQRTANCURATtYXKNNTetWTPtQNQPBQPthKUXeeMAPBXKNNthePtTAEeNtQOeetXKthWUCQTtheCKPANUtADeQCQWTABEePtWTeXhePXeXKNNANNTeDTQWRGeCQTeTetWTPKPDhQOeUtQReEePKCYQWBQPQtXKUhWUtQRTQHeeBXKthQWTQTKDKPANRNAPthePXeATeAGNetQTetWTPXKthAXhQNetTeAUWTeQCBTAXKPDURhQtQDTARhUAPBBeUHTKRtKQPUQCtheUeKORQTtAPtNAPBOATMUCQTYQWAPBYQWTCTKePBUtQUtWBYUtQRBetAKNUQCYQWTXKUheUUhQWNBGeUePtKPtheWUWANXAYWUKPDYQWTTeOATMAGNeHNQHMBeEKHeUtQRMATN\n"
     ]
    }
   ],
   "source": [
    "# A simple translation method (modified to include digits).\n",
    "# text: The text to translate, in upper case\n",
    "# key: A substitution alphabet, usually in lower case so that the translated characters show up\n",
    "def decode(text, key):\n",
    "    table = str.maketrans(string.ascii_uppercase + string.digits, key)\n",
    "    print(text.upper().translate(table))\n",
    "\n",
    "# Lots of instances of VJI, so assume that's \"the\"\n",
    "decode(transposed, \"ABCDEFGHehKLMNOPQRSTUtWXYZ!£$%^&*()#\")"
   ]
  },
  {
   "cell_type": "code",
   "execution_count": 21,
   "metadata": {},
   "outputs": [
    {
     "name": "stdout",
     "output_type": "stream",
     "text": [
      "dearunclewilhelmthetQweratcanewdQniUaUintereUtinDaUYQuhadUuDDeUteditwQuldGeandicanUeehQwitwQuldliCttheURiritUQCQurenDliUhhQUtUmaMinDthemCeelUaCeandUecureintheirCQrtreUUiUlandUtQRneEertheleUUnQthinDQntheearthiUCQreEerandithinMtheYmaYhaEeamiURlacedCaithinthiUandtheheaEenlYRQwerUmaYnQtGeUtrQnDenQuDhtQRrQtectthemCrQmtheQncQminDUtQrmUtQRthelQcalQrtUDruRReUharedwithmeYQurlateUtDiCttheGeautiCulclQcMdeEiceandwehaEeURentmuchtimeadmirinDitUtQRitUUimRlicitYiUadmiraGleandQncewehaEelearnedtQuUeitRrQRerlYitwillRrQEideuUallwithaEerYhiDhleEelQCUecuritYUtQRUaCetYmuUtGeQurRrimarYcQncernnQwaUalacMQCcQncentratiQnatthiURQintcQuldGrinDdiUaUterUtQRralChaUGeenDiEentheaccQmRanYinDMeYGYtheQrtUDruRReinMentandQncewearereunitediwilluUethiUtQUecureQurCuturecQmmunicatiQnUUtQReUtaGliUhinDaUaCeRlanCQrQurLQurneYhQmeiUeUUentialinQrdertQaEQidunRleaUantUurRriUeUUtQRSuarrelUwithQurhQUtwQuldGediCCiculttQreUQlEeandiwQuldRreCeritiCwecQuldUliRawaYunremarMedUtQRuUeQCthelQcalCiUhinDGQatUmiDhtGeRQUUiGleGutiCanYthinDweretQalarmthelQcalUthatmiDhtwellRreEentQurdeRartureandtheclQcMcQuldCallintQthewrQnDhandUUtQRiCYQuhaEeaUuDDeUtiQnaGQuthQwGeUttQarranDeQurtraEelthenRleaUeletuUMnQwandwewillmaMethereSuiredarranDementUUtQRralCURartYwillreturntQlQndQnthiUweeMandwillthentraEeltQmeetwithuUCQrtheCinalUtaDeQCQuradEenturewhenwewillallreDrQuRGeCQrereturninDhQmeUtQReEeniCYQudQnQtwiUhuUtQRrQceedwithQurQriDinalRlanthenweareaGletQreturnwithawhQletreaUureQCdrawinDURhQtQDraRhUanddeUcriRtiQnUQCtheUeimRQrtantlandmarMUCQrYQuandYQurCriendUtQUtudYUtQRdetailUQCYQurwiUheUUhQuldGeUentintheuUualwaYuUinDYQurremarMaGleclQcMdeEiceUtQRMarl\n"
     ]
    }
   ],
   "source": [
    "# \"BeATWPHNeXKNheNO\" -> B=d, A=a, T=r, W=u, P=n, H=c, N=l, X=w, K=i, O=m (Dear Uncle Wilhelm again!)\n",
    "decode(transposed, \"adCDEFGcehiLMlmnQRSrUtuwYZ!£$%^&*()#\")"
   ]
  },
  {
   "cell_type": "code",
   "execution_count": 22,
   "metadata": {},
   "outputs": [
    {
     "name": "stdout",
     "output_type": "stream",
     "text": [
      "dearunclewilhelmthetoweratcanewdonisasinterestingasyouhadsuggesteditwouldbeandicanseehowitwouldliftthespiritsofourenglishhostsmakingthemfeelsafeandsecureintheirfortressislandstopneverthelessnothingontheearthisforeverandithinktheymayhaveamisplacedfaithinthisandtheheavenlypowersmaynotbestrongenoughtoprotectthemfromtheoncomingstormstopthelocalortsgruppesharedwithmeyourlatestgiftthebeautifulclockdeviceandwehavespentmuchtimeadmiringitstopitssimplicityisadmirableandoncewehavelearnedtouseitproperlyitwillprovideusallwithaveryhighlevelofsecuritystopsafetymustbeourprimaryconcernnowasalackofconcentrationatthispointcouldbringdisasterstopralfhasbeengiventheaccompanyingkeybytheortsgruppeinkentandoncewearereunitediwillusethistosecureourfuturecommunicationsstopestablishingasafeplanforourjourneyhomeisessentialinordertoavoidunpleasantsurprisesstopquarrelswithourhostwouldbedifficulttoresolveandiwouldpreferitifwecouldslipawayunremarkedstopuseofthelocalfishingboatsmightbepossiblebutifanythingweretoalarmthelocalsthatmightwellpreventourdepartureandtheclockcouldfallintothewronghandsstopifyouhaveasuggestionabouthowbesttoarrangeourtravelthenpleaseletusknowandwewillmaketherequiredarrangementsstopralfspartywillreturntolondonthisweekandwillthentraveltomeetwithusforthefinalstageofouradventurewhenwewillallregroupbeforereturninghomestopevenifyoudonotwishustoproceedwithouroriginalplanthenweareabletoreturnwithawholetreasureofdrawingsphotographsanddescriptionsoftheseimportantlandmarksforyouandyourfriendstostudystopdetailsofyourwishesshouldbesentintheusualwayusingyourremarkableclockdevicestopkarl\n"
     ]
    }
   ],
   "source": [
    "# \"thetQweratcanewdQn\" -> Q=o\n",
    "# \"iUaUintereUtinDaUYQuhadUuDDeUteditwQuldGe\" -> U=s, D=g, Y=y, G=b\n",
    "# \"liCttheURiritUQC\" -> C=f, R=p\n",
    "# \"heaEenlY\" -> E=v\n",
    "# \"QurLQurneYhQme\" -> L=j\n",
    "# \"remarMed\" -> M=k\n",
    "# \"reSuired\" -> S=q\n",
    "# Assume F=x and Z=z (looks like \"adfgvx\" was the keyword for the grid!). Fill in numbers in sequence (there aren't any in the message).\n",
    "decode(transposed, \"adfgvxbcehijklmnopqrstuwyz0123456789\")"
   ]
  },
  {
   "cell_type": "markdown",
   "metadata": {},
   "source": [
    "Edited for clarity:\n",
    "\n",
    "Dear Uncle Wilhelm,<br>\n",
    "The tower at Canewdon is as interesting as you had suggested it would be and I can see how it would lift the spirits of our English hosts, making them feel safe and secure in their fortress island stop<br>\n",
    "Nevertheless, nothing on the Earth is forever and I think they may have a misplaced faith in this and the heavenly powers may not be strong enough to protect them from the oncoming storm stop<br>\n",
    "The local Ortsgruppe shared with me your latest gift, the beautiful clock device and we have spent much time admiring it stop<br>\n",
    "Its simplicity is admirable and once we have learned to use it properly it will provide us all with a very high level of security stop<br>\n",
    "Safety must be our primary concern now as a lack of concentration at this point could bring disaster stop<br>\n",
    "Ralf has been given the accompanying key by the Ortsgruppe in Kent and once we are reunited, I will use this to secure our future communications stop<br>\n",
    "Establishing a safe plan for our journey home is essential in order to avoid unpleasant surprises stop<br>\n",
    "Quarrels with our host would be difficult to resolve and I would prefer it if we could slip away unremarked stop<br>\n",
    "Use of the local fishing boats might be possible, but if anything were to alarm the locals, that might well prevent our departure and the clock could fall into the wrong hands stop<br>\n",
    "If you have a suggestion about how best to arrange our travel, then please let us know and we will make the required arrangements stop<br>\n",
    "Ralf's party will return to London this week and will then travel to meet with us for the final stage of our adventure, when we will all regroup before returning home stop<br>\n",
    "Even if you do not wish us to proceed with our original plan, then we are able to return with a whole treasure of drawings, photographs and descriptions of these important landmarks for you and your friends to study stop<br>\n",
    "Details of your wishes should be sent in the usual way, using your remarkable clock device stop<br>\n",
    "Karl"
   ]
  },
  {
   "cell_type": "markdown",
   "metadata": {},
   "source": [
    "Whoah - another acrostic there!\n",
    "\n",
    "\"TNT Is Required\""
   ]
  }
 ],
 "metadata": {
  "kernelspec": {
   "display_name": "Python 3",
   "language": "python",
   "name": "python3"
  },
  "language_info": {
   "codemirror_mode": {
    "name": "ipython",
    "version": 3
   },
   "file_extension": ".py",
   "mimetype": "text/x-python",
   "name": "python",
   "nbconvert_exporter": "python",
   "pygments_lexer": "ipython3",
   "version": "3.9.0"
  }
 },
 "nbformat": 4,
 "nbformat_minor": 4
}
