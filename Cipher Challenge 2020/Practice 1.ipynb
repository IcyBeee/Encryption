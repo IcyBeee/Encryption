{
 "cells": [
  {
   "cell_type": "markdown",
   "metadata": {},
   "source": [
    "# Coronavirus distraction cipher challenge 2020\n",
    "## Practice 1\n",
    "Challenge link https://www.cipherchallenge.org/challenge/practice-challenge-1/"
   ]
  },
  {
   "cell_type": "code",
   "execution_count": 1,
   "metadata": {},
   "outputs": [],
   "source": [
    "# Challenge A comes with a built in Caesar Cipher codewheel.\n",
    "message1a=\"\"\"CVMMT,\n",
    "D VH MZVGGT NJMMT OJ WJOCZM TJP, WPO NJHZOCDIB CVN XJHZ PK VIY OCZ NDN VMZ OJJ WPNT OJ CZGK. D VH CJKDIB TJP XVI.\n",
    "AJGGJRDIB OCZ DIQVNDJI JA KJGVIY, RZ VMZ VGG JI YJPWGZ YPOT, OMVRGDIB OCMJPBC JGY ADGZN AJM VITOCDIB OCVO HDBCO WZ PNZAPG OJ JPM AMDZIYN DI ZPMJKZ. HT OZVH CVN WZZI VNFZY OJ GJJF VO DIOZGGDBZIXZ ADGZN XJIIZXOZY RDOC VDM OMVINKJMO VIY D RVN BDQZI OCZ CDIYZIWPMB YDNVNOZM OJ XCZXF JPO.\n",
    "OCZMZ DNI’O HPXC OJ BJ JI VN HJNO JA OCZ KVKZMN MZXJQZMZY AMJH OCZ RMZXFVBZ RZMZ WVYGT YVHVBZY. RZ YJ CVQZ V GVMBZ IPHWZM JA AMVBHZION JA OMVQZG YJXPHZION RCDXC D CVQZ NZIO OJ OCZ NOVOZ YZKVMOHZIO AJM DY XCZXFN, WPO OCVO RDGG OVFZ V RCDGZ, VIY DI OCZ HZVIODHZ, D CVQZ WZZI ZSVHDIDIB NJHZ JA OCZ HJMZ PIPNPVG DOZHN.\n",
    "OCZ HJNO DIOZMZNODIB JIZ DN V XCVMMZY ZIQZGJKZ XVMMTDIB V NRVNODFV VIY HVMFZY YDZ VGXCZHDNOZI. D OCDIF OCVO HDBCO WZ RJMOC DIQZNODBVODIB.\n",
    "OCZ XJIOZION RZMZ HDNNDIB, WPO DI OCZ NVHZ ZQDYZIXZ WVB D AJPIY V AMVBHZIO JA OJMI WGPZ KVKZM RDOC V IPHWZM DI OCZ WJOOJH XJMIZM. OCZMZ DN IJ YZNXMDKODJI RDOC DO, WPO D VH BPZNNDIB OCVO OCZT HPNO CVQZ WZZI AJPIY OJBZOCZM. RVOZM CVN YDNNJGQZY VIY JWNXPMZY OCZ IPHWZM NJ D XVI’O MZVY DO VIY D YJI’O MZXJBIDNZ OCZ AJMHVO. JI OCZ JOCZM CVIY, OCZ RVOZM HPNO CVQZ KMJOZXOZY DO AMJH OCZ CZVO JA OCZ AGVHZN VN OCZMZ VMZ IJ WPMI HVMFN VIY D RJIYZMZY DA TJPM S-MVT OZVH HDBCO WZ VWGZ OJ VNNDNO.\n",
    "CVQZ TJP NZZI VITOCDIB GDFZ DO WZAJMZ, JM CVQZ TJP CZVMY JA YDZ VGXCZHDNOZI? VITOCDIB TJP CVQZ RJPGY WZ BMZVO. OCVIFN\n",
    "KCDG\"\"\"\n",
    "\n",
    "message1b=\"\"\"XPQT, QB QA OWWL BW PMIZ NZWU GWC. BPQVOA IZM PMKBQK PMZM BWW, JCB QB QA UIQVTG JCZMICKZIKG IA EM BZG BW UISM ACZM ITT BPM JWAA NQMTL IOMVBA PIDM AMKCZM KPIVVMTA WN KWUUCVQKIBQWV IVL ZWCBMA WCB WN BZWCJTM QN BPMG VMML BPMU. QB QA MAAMVBQIT EWZS, JCB Q PIDM JMMV QBKPQVO BW OMB WCB BPMZM EQBP BPMU IVL GWCZ TMBBMZ KIUM IB BPM ZQOPB BQUM.\n",
    "Q PIDMV’B PMIZL WN LQM ITKPMUQABMV JMNWZM, JCB QB LWMA ZMUQVL UM WN AWUMBPQVO BPIB Q KIV’B YCQBM XTIKM. Q EQTT OMB JIKS BW GWC QN Q ZMUMUJMZ. BPM VCUJMZ QA ATQOPBTG MIAQMZ. BPQA TWWSA TQSM BPM JWBBWU ZQOPB KWZVMZ WN I JTCMXZQVB IVL Q IAACUM BPM VCUJMZ QA ZMTIBML BW BPM LMAQOV. BPM F-ZIG BMIU BWWS I AVIX EPQKP QVKZMIAML BPM KWVBZIAB IVL Q BPQVS Q KIV UISM WCB BPM TMBBMZA OJ IB BPM ABIZB, EPQKP QA ACOOMABQDM. BPM VMFB BEW LQOQBA IZM VWB KTMIZ, JCB BPMG KWCTL JM MQOPB-BPZMM WZ MQOPB-NQDM. Q PIDM AMVB I ZMYCMAB BW BPM CS UQTQBIZG IBBIKPM BW AMM QN PM ZMKWOVQAMA BPM NWZUIB.\n",
    "Q EQTT JM QV BWCKP QV AMDMV LIGA.\n",
    "PIZZG\"\"\""
   ]
  },
  {
   "cell_type": "code",
   "execution_count": 2,
   "metadata": {},
   "outputs": [],
   "source": [
    "# Bring in the basic decoder function\n",
    "import string\n",
    "\n",
    "# A simple translation method.\n",
    "# text: The text to translate, in upper case\n",
    "# key: A substitution alphabet, usually in lower case so that the translated characters show up\n",
    "def decode(text, key):\n",
    "    table = str.maketrans(string.ascii_uppercase, key)\n",
    "    print(text.upper().translate(table))"
   ]
  },
  {
   "cell_type": "code",
   "execution_count": 3,
   "metadata": {},
   "outputs": [
    {
     "name": "stdout",
     "output_type": "stream",
     "text": [
      "harry,\n",
      "i am really sorry to bother you, but something has come up and the sis are too busy to help. i am hoping you can.\n",
      "following the invasion of poland, we are all on double duty, trawling through old files for anything that might be useful to our friends in europe. my team has been asked to look at intelligence files connected with air transport and i was given the hindenburg disaster to check out.\n",
      "there isn’t much to go on as most of the papers recovered from the wreckage were badly damaged. we do have a large number of fragments of travel documents which i have sent to the state department for id checks, but that will take a while, and in the meantime, i have been examining some of the more unusual items.\n",
      "the most interesting one is a charred envelope carrying a swastika and marked die alchemisten. i think that might be worth investigating.\n",
      "the contents were missing, but in the same evidence bag i found a fragment of torn blue paper with a number in the bottom corner. there is no description with it, but i am guessing that they must have been found together. water has dissolved and obscured the number so i can’t read it and i don’t recognise the format. on the other hand, the water must have protected it from the heat of the flames as there are no burn marks and i wondered if your x-ray team might be able to assist.\n",
      "have you seen anything like it before, or have you heard of die alchemisten? anything you have would be great. thanks\n",
      "phil\n"
     ]
    }
   ],
   "source": [
    "# Do message1a - after playing with the codewheel, the shift starts with letter f:\n",
    "decode(message1a, \"fghijklmnopqrstuvwxyzabcde\")"
   ]
  },
  {
   "cell_type": "code",
   "execution_count": 4,
   "metadata": {},
   "outputs": [
    {
     "name": "stdout",
     "output_type": "stream",
     "text": [
      "phil, it is good to hear from you. things are hectic here too, but it is mainly bureaucracy as we try to make sure all the boss field agents have secure channels of communication and routes out of trouble if they need them. it is essential work, but i have been itching to get out there with them and your letter came at the right time.\n",
      "i haven’t heard of die alchemisten before, but it does remind me of something that i can’t quite place. i will get back to you if i remember. the number is slightly easier. this looks like the bottom right corner of a blueprint and i assume the number is related to the design. the x-ray team took a snap which increased the contrast and i think i can make out the letters gb at the start, which is suggestive. the next two digits are not clear, but they could be eight-three or eight-five. i have sent a request to the uk military attache to see if he recognises the format.\n",
      "i will be in touch in seven days.\n",
      "harry\n"
     ]
    }
   ],
   "source": [
    "# Assume that, as this is practice challenge 1, then part b is also a Caesar shift.\n",
    "# End of message is signed \"PIZZG\", which is probably \"HARRY\"\n",
    "decode(message1b, \"stuvwxyzabcdefghijklmnopqr\")"
   ]
  },
  {
   "cell_type": "code",
   "execution_count": null,
   "metadata": {},
   "outputs": [],
   "source": []
  }
 ],
 "metadata": {
  "kernelspec": {
   "display_name": "Python 3",
   "language": "python",
   "name": "python3"
  },
  "language_info": {
   "codemirror_mode": {
    "name": "ipython",
    "version": 3
   },
   "file_extension": ".py",
   "mimetype": "text/x-python",
   "name": "python",
   "nbconvert_exporter": "python",
   "pygments_lexer": "ipython3",
   "version": "3.8.0"
  }
 },
 "nbformat": 4,
 "nbformat_minor": 4
}
