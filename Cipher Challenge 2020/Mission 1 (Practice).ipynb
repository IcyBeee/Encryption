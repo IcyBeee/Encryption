{
 "cells": [
  {
   "cell_type": "markdown",
   "metadata": {},
   "source": [
    "# Cipher Challenge 2020\n",
    "### Practice Challenge 1\n",
    "\n",
    "Challenge link https://www.cipherchallenge.org/challenge/practice-challenge-1/"
   ]
  },
  {
   "cell_type": "code",
   "execution_count": 4,
   "metadata": {},
   "outputs": [],
   "source": [
    "# Part A - \n",
    "part_a_text = \"\"\"Hvs Pfwhwgv Rowzm Vsfozr ofhwqzs cb gc qozzsr gdmqzwghg vog fowgsr qcbqsfb oh ucjsfbasbh zsjszg hvoh hvs zofus wbqfsogs wb hfojsz tfca hvs Qcbhwbsbh vog aogysr ob wbtwzhfohwcb cdsfohwcb pm hvs Opksvf.\n",
    "GWG vog fsqswjsr fsdcfhg hvoh Vwhzsf Mcihv ufcidg hfojszzwbu opfcor vojs pssb ogysr hc qcadzshs o rshowzsr eisghwcbbowfs, wbqzirwbu eisghwcbg cb hsffowb, dcdizohwcb, obr dczwhwqoz jwskg ct hvs dcdizohwcb. JY vog hoysb o dsfgcboz wbhsfsgh wb hvs ghcfm pih vwg fsgcifqsg ofs tizzm ozzcqohsr wb wbjsghwuohwbu o biapsf ct gigdsqhsr Usfaob ousbhg ozfsorm zwjwbu wb hvs IY, gc PCGG vog pssb hogysr kwhv wbjsghwuohwbu obr fsdcfhwbu cb hvs gdmqzwgh hcifwbu bshkcfy.\n",
    "Voffm wg qiffsbhzm sbuousr wbjsghwuohwbu Rws Ozqvsawghsb gc vs vog ogysr cif hsoa hc hoys hvwg cb. Kvwzs wh wg dcggwpzs hvoh hvs qmqzs hcifwghg ofs cdsfohwbu og o tcfkofr cpgsfjsf rwjwgwcb wb dfsdofohwcb tcf o tihifs wbjogwcb, hvs gaozz biapsfg wbjczjsr, obr hvswf hfojsz fcihsg aoys wh gssa zwyszm hvoh hvwg wg oh acgh o tswbh rsgwubsr hc rfok cif fsgcifqsg okom tfca acfs gwubwtwqobh cdsfohwcbg. Kvoh ks rc ybck wg hvoh hvsfs wg ob wbhszzwusbqs rwasbgwcb hc hvwg gwbqs cif cdsfohwjsg wb hvs UDC wbhsfqsdhsr hvs ohhoqvsr sbqfmdhsr asggous wb o pibrzs ct zshhsfg zsth dcghs fsghobhs tcf cbs ct hvs hcifwbu dofhwsg oh o Gqchhwgv dcgh cttwqs. Cif twfgh hogy wg hc rsqwdvsf hvwg asggous obr hc obozmgs whg qcbhsbhg. Sjsb wt hvwg hifbg cih hc ps o rwjsfgwcbofm hoqhwq wh dfcjwrsg ig kwhv ob cddcfhibwhm hc rsjszcd cif PCGG vcas wbhszzwusbqs cdsfohwcb obr ks kwzz ps hfsohwbu hvs awggwcb gsfwcigzm. Cdsfohwjsg tfca ozz hvfss PCGG rwjwgwcbg kwzz ps kcfywbu hcushvsf oh hvs Pfcorkom hc wbhsfqsdh, rsqwdvsf obr obozmgs dchsbhwozzm fszsjobh gcifqsg. Ks kwzz ps dcghwbu idrohsg vsfs wb hvs awggwcb dousg igwbu ghobrofr dfchcqczg. Gwbqs cif qcaaibwqohwcbg ofs dfchsqhsr ks kwzz, tcf bck, igs hwsf cbs (Qosgof obr ottwbs gvwth) sbqfmdhwcb. Mcif twszr wggis qwdvsf kvssz wg ohhoqvsr, obr mcif twfgh hogy wg hc rsqwdvsf hvs ohhoqvsr asggous obr hc ghirm wh qofstizzm.\n",
    "Dsofz.\"\"\""
   ]
  },
  {
   "cell_type": "code",
   "execution_count": 5,
   "metadata": {},
   "outputs": [],
   "source": [
    "# Bring in the basic decoder function\n",
    "import string\n",
    "\n",
    "# A simple translation method.\n",
    "# text: The text to translate, in upper case\n",
    "# key: A substitution alphabet, usually in lower case so that the translated characters show up\n",
    "def decode(text, key):\n",
    "    table = str.maketrans(string.ascii_uppercase, key)\n",
    "    print(text.upper().translate(table))"
   ]
  },
  {
   "cell_type": "code",
   "execution_count": 6,
   "metadata": {},
   "outputs": [
    {
     "name": "stdout",
     "output_type": "stream",
     "text": [
      "the british daily herald article on so called spyclists has raised concern at government levels that the large increase in travel from the continent has masked an infiltration operation by the abwehr.\n",
      "sis has received reports that hitler youth groups travelling abroad have been asked to complete a detailed questionnaire, including questions on terrain, population, and political views of the population. vk has taken a personal interest in the story but his resources are fully allocated in investigating a number of suspected german agents already living in the uk, so boss has been tasked with investigating and reporting on the spyclist touring network.\n",
      "harry is currently engaged investigating die alchemisten so he has asked our team to take this on. while it is possible that the cycle tourists are operating as a forward observer division in preparation for a future invasion, the small numbers involved, and their travel routes make it seem likely that this is at most a feint designed to draw our resources away from more significant operations. what we do know is that there is an intelligence dimension to this since our operatives in the gpo intercepted the attached encrypted message in a bundle of letters left poste restante for one of the touring parties at a scottish post office. our first task is to decipher this message and to analyse its contents. even if this turns out to be a diversionary tactic it provides us with an opportunity to develop our boss home intelligence operation and we will be treating the mission seriously. operatives from all three boss divisions will be working together at the broadway to intercept, decipher and analyse potentially relevant sources. we will be posting updates here in the mission pages using standard protocols. since our communications are protected we will, for now, use tier one (caesar and affine shift) encryption. your field issue cipher wheel is attached, and your first task is to decipher the attached message and to study it carefully.\n",
      "pearl.\n"
     ]
    }
   ],
   "source": [
    "# PCGG must be BOSS...\n",
    "decode(part_a_text, \"mnopqrstuvwxyzabcdefghijkl\")"
   ]
  },
  {
   "cell_type": "code",
   "execution_count": 7,
   "metadata": {},
   "outputs": [],
   "source": [
    "# Part B - \n",
    "part_b_text = \"\"\"Se jkgx Pkyyoig, O gs cxozotm zu coyn eua ckrr ot euax tkc rolk. O gs yaxk eua corr tuz luxmkz ay, gtj eua igt hk yaxk zngz ck corr tuz luxmkz eua. Sge euax hayotkyy lruaxoyn zu znk mxkgz hktkloz ul ay grr. Eua somnz hk iutikxtkj zngz cozn znk mxucotm atikxzgotze ot znk nuskrgtj ck corr lotj oz jolloiarz zu iutzotak zu iussatoigzk, haz rubk corr lotj g cge, gtj O gs yaxk eua rubk euax nuskrgtj gy sain gy ck ju. Ck zxayz zngz uax klluxz zu yzge ot zuain corr hk xkcgxjkj he gt kwagr klluxz ut euax vgxz. O nuvk zngz se tkvnkc Qgxr, cnu hxotmy eua znoy skyygmk, corr hk ghrk zu nkrv eua laxznkx cozn znkyk sgzzkxy. Ot znk skgtzosk, vkxngvy eua igt nkrv nos. Nk oy g mxkgz rubkx ul zxgoty, igtgr hugzy gtj gkxuvrgtky, gtj oz cuarj hk g mxkgz qotjtkyy ol eua cuarj gmxkk zu nkrv nos zu kdvruxk yusk ul znk sgte zxgtyvuxz zxkgyaxky nojjkt gixuyy znk AQ. Oz oy gt atayagr vgyyout haz O nuvk zngz eua corr lkkr ghrk zu gyyoyz nos ot znoy. Nk oy vgxzoiargxre qkkt zu kdvruxk znk vuyyohoroze ul vnuzumxgvnotm gy sgte ul znk otzxomaotm zxgbkr yozky gy nk igt. O ykks zu xkigrr zngz Atirk Cornkrs otzxujaikj eua zu znk lgyiotgzotm nuhhe ul vnuzumxgvnoi xkvxujaizout cnkt eua yzgekj cozn noy lgsore ot Zoxvozfalkx. Ol eua ckxk ghrk zu gyyoyz Qgxr he jkbkruvotm noy lorsy gtj luxcgxjotm znks zu noy nusk zngz cuarj, O gs yaxk, gbuoj attkikyygxe jkrge gtj g mxkgz jkgr ul atvrkgygtz soyatjkxyzgtjotm. Ol znkxk oy gte cge ck igt gyyoyz eua ot euax bgraghrk cuxq vrkgyk rkz Qgxr qtuc gtj ck corr ktjkgbuax zu uhromk eua. Euax jkgx lxoktj, Toqurgay X.\"\"\""
   ]
  },
  {
   "cell_type": "code",
   "execution_count": 14,
   "metadata": {},
   "outputs": [],
   "source": [
    "from collections import Counter\n",
    "\n",
    "# Takes a string or list of items and counts the frequencies of those items\n",
    "# data: The list or string to analyse\n",
    "# max_values: The maximum number of values to display (set to None for no limit)\n",
    "# no_columns: The amount of columns to use in the output\n",
    "def frequency_analysis(data, max_values=30, no_columns=5):\n",
    "    frequencies = Counter()\n",
    "    for item in data:\n",
    "        frequencies[item] += 1\n",
    "    \n",
    "    total = sum(frequencies.values())\n",
    "    column = 1\n",
    "    for item, frequency in frequencies.most_common(max_values):\n",
    "        print(f\"{item}: {frequency:2} ({frequency / total:.2%})\", end=\" \" if column % no_columns else \"\\n\")\n",
    "        column += 1\n",
    "    print(\"\\n-----\")"
   ]
  },
  {
   "cell_type": "code",
   "execution_count": 16,
   "metadata": {},
   "outputs": [
    {
     "name": "stdout",
     "output_type": "stream",
     "text": [
      "k: 127 (10.18%) g: 102 (8.18%) z: 101 (8.10%) u: 96 (7.70%) o: 85 (6.82%)\n",
      "t: 76 (6.09%) y: 72 (5.77%) x: 70 (5.61%) r: 68 (5.45%) a: 60 (4.81%)\n",
      "n: 56 (4.49%) e: 39 (3.13%) j: 37 (2.97%) c: 34 (2.73%) l: 31 (2.49%)\n",
      "s: 28 (2.25%) v: 25 (2.00%) i: 24 (1.92%) m: 23 (1.84%) h: 21 (1.68%)\n",
      ".: 14 (1.12%) ,: 12 (0.96%) O: 11 (0.88%) b:  8 (0.64%) q:  5 (0.40%)\n",
      "Q:  4 (0.32%) S:  2 (0.16%) E:  2 (0.16%) C:  2 (0.16%) N:  2 (0.16%)\n",
      "\n",
      "-----\n"
     ]
    }
   ],
   "source": [
    "frequency_analysis(part_b_text.replace(\" \", \"\"))"
   ]
  },
  {
   "cell_type": "code",
   "execution_count": 18,
   "metadata": {},
   "outputs": [
    {
     "name": "stdout",
     "output_type": "stream",
     "text": [
      "my dear jessica, i am writing to wish you well in your new life. i am sure you will not forget us, and you can be sure that we will not forget you. may your business flourish to the great benefit of us all. you might be concerned that with the growing uncertainty in the homeland we will find it difficult to continue to communicate, but love will find a way, and i am sure you love your homeland as much as we do. we trust that our effort to stay in touch will be rewarded by an equal effort on your part. i hope that my nephew karl, who brings you this message, will be able to help you further with these matters. in the meantime, perhaps you can help him. he is a great lover of trains, canal boats and aeroplanes, and it would be a great kindness if you would agree to help him to explore some of the many transport treasures hidden across the uk. it is an unusual passion but i hope that you will feel able to assist him in this. he is particularly keen to explore the possibility of photographing as many of the intriguing travel sites as he can. i seem to recall that uncle wilhelm introduced you to the fascinating hobby of photographic reproduction when you stayed with his family in tirpitzufer. if you were able to assist karl by developing his films and forwarding them to his home that would, i am sure, avoid unnecessary delay and a great deal of unpleasant misunderstanding. if there is any way we can assist you in your valuable work please let karl know and we will endeavour to oblige you. your dear friend, nikolaus r.\n"
     ]
    }
   ],
   "source": [
    "# Lots of \"znk\" in there - assume that's \"the\".\n",
    "# Fill in the rest of the letters sequentially\n",
    "decode(part_b_text, \"uvwxyzabcdefghijklmnopqrst\")"
   ]
  },
  {
   "cell_type": "code",
   "execution_count": 20,
   "metadata": {},
   "outputs": [
    {
     "name": "stdout",
     "output_type": "stream",
     "text": [
      "The British Daily Herald article on so called spyclists has raised concern at government levels that the large increase in travel from the Continent has masked an infiltration operation by the Abwehr.\n",
      "SIS has received reports that Hitler Youth groups travelling abroad have been asked to complete a detailed questionnaire, including questions on terrain, population, and political views of the population. VK has taken a personal interest in the story but his resources are fully allocated in investigating a number of suspected German agents already living in the UK, so BOSS has been tasked with investigating and reporting on the spyclist touring network.\n",
      "Harry is currently engaged investigating Die Alchemisten so he has asked our team to take this on. While it is possible that the cycle tourists are operating as a forward observer division in preparation for a future invasion, the small numbers involved, and their travel routes make it seem likely that this is at most a feint designed to draw our resources away from more significant operations. What we do know is that there is an intelligence dimension to this since our operatives in the GPO intercepted the attached encrypted message in a bundle of letters left poste restante for one of the touring parties at a Scottish post office. Our first task is to decipher this message and to analyse its contents. Even if this turns out to be a diversionary tactic it provides us with an opportunity to develop our BOSS home intelligence operation and we will be treating the mission seriously. Operatives from all three BOSS divisions will be working together at the Broadway to intercept, decipher and analyse potentially relevant sources. We will be posting updates here in the mission pages using standard protocols. Since our communications are protected we will, for now, use tier one (Caesar and affine shift) encryption. Your field issue cipher wheel is attached, and your first task is to decipher the attached message and to study it carefully.\n",
      "Pearl.\n",
      "\n",
      "My dear Jessica, I am writing to wish you well in your new life. I am sure you will not forget us, and you can be sure that we will not forget you. May your business flourish to the great benefit of us all. You might be concerned that with the growing uncertainty in the homeland we will find it difficult to continue to communicate, but love will find a way, and I am sure you love your homeland as much as we do. We trust that our effort to stay in touch will be rewarded by an equal effort on your part. I hope that my nephew Karl, who brings you this message, will be able to help you further with these matters. In the meantime, perhaps you can help him. He is a great lover of trains, canal boats and aeroplanes, and it would be a great kindness if you would agree to help him to explore some of the many transport treasures hidden across the UK. It is an unusual passion but I hope that you will feel able to assist him in this. He is particularly keen to explore the possibility of photographing as many of the intriguing travel sites as he can. I seem to recall that Uncle Wilhelm introduced you to the fascinating hobby of photographic reproduction when you stayed with his family in Tirpitzufer. If you were able to assist Karl by developing his films and forwarding them to his home that would, I am sure, avoid unnecessary delay and a great deal of unpleasant misunderstanding. If there is any way we can assist you in your valuable work please let Karl know and we will endeavour to oblige you. Your dear friend, Nikolaus R.\n"
     ]
    }
   ],
   "source": [
    "import string\n",
    "\n",
    "# Alternative version of decode, but this time preserving the case\n",
    "def decode2(text, key):\n",
    "    table = str.maketrans(string.ascii_letters, key.lower()+key.upper())\n",
    "    print(text.translate(table))\n",
    "    \n",
    "decode2(part_a_text, \"mnopqrstuvwxyzabcdefghijkl\")\n",
    "print()\n",
    "decode2(part_b_text, \"uvwxyzabcdefghijklmnopqrst\")"
   ]
  },
  {
   "cell_type": "code",
   "execution_count": null,
   "metadata": {},
   "outputs": [],
   "source": []
  }
 ],
 "metadata": {
  "kernelspec": {
   "display_name": "Python 3",
   "language": "python",
   "name": "python3"
  },
  "language_info": {
   "codemirror_mode": {
    "name": "ipython",
    "version": 3
   },
   "file_extension": ".py",
   "mimetype": "text/x-python",
   "name": "python",
   "nbconvert_exporter": "python",
   "pygments_lexer": "ipython3",
   "version": "3.9.0"
  }
 },
 "nbformat": 4,
 "nbformat_minor": 4
}
