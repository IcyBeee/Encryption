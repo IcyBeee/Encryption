{
 "cells": [
  {
   "cell_type": "markdown",
   "metadata": {},
   "source": [
    "# Cipher Challenge 2018\n",
    "## Challenge 7a"
   ]
  },
  {
   "cell_type": "code",
   "execution_count": 1,
   "metadata": {},
   "outputs": [],
   "source": [
    "message7a = \"EODNJ XPMTD JBHMT BTDGT UJYEU MDIZJ IKHEA KJAPJ TEJUY EUNDY EDHBK ZGJTE PTDGX BZSSB ZEURP BKMUX XEONK IEJTE CKZUJ MDIDC HBREI IUBZD XTUJV KIJJT EHUST JDYBK ZJBRR BHNEJ BWZBN WYEBK JCHBA DAXPZ BCEHY DZEZJ GDYDS EJTEH BBYTD GAEEZ EOCEH JXPGU IDIIE YAXEG JTEIT EXLEI MEHEE YCJUE GBRAX DNWIY UIIUB ZRUXE IDZGY KNTBR JTEIJ EDYCK ZWJEN TZBXB SPTDG AEEZJ DWEZD CDHJC HEIKY DAXPJ BYDWE IKHEU JGUGZ JNBZJ DUZDZ PRKHJ TEHIE NHEJI JTEAU SAEDK JURKX HBKZG JDAXE TDGAE EZNXE DHEGD ZGUXE DZJBZ UJJBI JEDGP YPIEX RDIYP TEDGI MDYUS KEIIE GJTDJ MTBEL EHTDG RBXXB MEGYE UZJBJ TEJKZ ZEXID ZGBZU ZJBJT ETEDG FKDHJ EHIYK IJTDL EWZBM ZMTDJ UMDIX BBWUZ SRBHU JMDIJ BBYKN TBRDN BUZNU GEZNE JTDJJ TEPTD GRBKZ GYETE HECHB ADAXP JTEPM EHENB ZZENJ EGMUJ TJTEE YDUXI JTDJR UHIJS BJYEU ZJEHE IJEGU ZAXDN WAKJU ZDNBZ RKIEG IJDJE DRJEH YPAXD NWBKJ UMDIC KQQXE GMTPT DGJTE PUZLB XLEGY ECEHT DCIJT EPVKI JGUGZ JWZBM TBMJB RUZGJ TEITD GBMDH NTULE DZGTB CEGUM BKXGA EDAXE JBTEX CCEHT DCIJT EPMDZ JEGJB UYCXU NDJEY EUZJT EJTER JBRJT EITDG BMDHN TULEC DCEHI UZJTD JNDIE JTEPI TBKXG TDLET UJYET DHGEH UMDIZ JSBUZ SJBTD ZSDHB KZGXB ZSEZB KSTJB SEJND KSTJI BYEJT UZSMD IZDSS UZSDJ YEZBZ EBRJT ECDCE HIUTD GIEEZ XBBWE GUZJE HEIJU ZSEZB KSTJB VKIJU RPDXX JTUIE RRBHJ UJKHZ EGYPT EDGND KJUBK IXPJH PUZSJ BUSZB HEJTE JTHBA AUZSA ETUZG YPEDH DZGXB BWEGD HBKZG JTEHB BYBZE YBHEJ UYEJB IEEMT DJMEM EHEYU IIUZS DIUGU GIBYP RBBJN DKSTJ BZIBY EJTUZ SDZGU AEZJG BMZJB CUNWU JKCMT EZJTE PTUJY EUTDG AEEZI UJJUZ SHEDG UZSAX DNWIN BGEAB BWUJM DIRKX XBRYD HLEXX BKIUR GDJEG UGEDI BZNHP CJBSH DCTPD ZGUZR BHYDJ UBZIE NKHUJ PDZGU TDGVK IJAEE ZHEDG UZSJT EIENJ UBZBZ JHDZI CBIUJ UBZNU CTEHI UJIEE YEGTE MDICD HJUNK XDHXP WEEZB ZNBXK YZDHJ HDZIC BIUJU BZIDZ GMDID HSKUZ SJTDJ UJMBK XGAEA EIJJB HEDGB RRJTE NUCTE HJEOJ NBXKY ZAPNB XKYZJ BNBZR KIEEZ EYPNH PCJDZ DXPIJ IUMDI YKIUZ SBZVK IJTBM IENKH EJTDJ MBKXG AEMTE ZJTEM BHXGM EZJGD HWXKN WUXPD IUTDG RDXXE ZUTDG GHBCC EGJTE ABBWD ZGUJT DGIXU CCEGK ZGEHJ TEJDA XEIBY ETBMJ TEPTD GYUII EGUJG KHUZS JTEIE DHNTD ZGJTE HEUJM DITUG GEZUZ JTEIT DGBMI UJBBW DGEEC AHEDJ TJBIX BMJTE ICUZZ UZSAE TUZGY PEPEI DZGCU NWEGJ TEABB WKCAK JDIUC KXXEG YPIEX RKCHU STJDS DUZJT EJDAX EJBCI TURJE GIXUS TJXPJ BBZEI UGEUI JHKSS XEGJB HESDU ZYPAD XDZNE DZGJT EJDAX EYBLE GDSDU ZDZGJ TUIJU YEUTE DHGDG UIJUZ NJNXU NWDIU ITURJ EGYPM EUSTJ JTEJD AXEHB JDJEG ADNWD ZGJTE HEUJM DIBZN EYBHE DIBRJ YEJDX XUNNX UZWDI DHDJN TEJJB BJTEZ SDSEG UIJBB GKCSH DAAEG DJJTE JDAXE DZGCK XXEGI UGEMD PIUJJ KHZEG DSDUZ NXUNW UZSIE LEHDX JUYEI DIUJG UGIBU JMDID ZBUIE UWZEM LEHPM EXXJT EJKYA XEHIB ZDIDR EYDGE JTEID YEIBK ZGJTB KSTYK NTYKN TFKUE JEH\"\n",
    "\n",
    "squished = message7a.replace(\" \", \"\")"
   ]
  },
  {
   "cell_type": "code",
   "execution_count": 2,
   "metadata": {},
   "outputs": [
    {
     "name": "stdout",
     "output_type": "stream",
     "text": [
      "E: 259 (11.97%) J: 212 (9.80%) D: 179 (8.28%) B: 151 (6.98%) U: 148 (6.84%)\n",
      "Z: 145 (6.70%) T: 134 (6.20%) I: 124 (5.73%) G: 115 (5.32%) H: 89 (4.11%)\n",
      "X: 82 (3.79%) K: 73 (3.37%) Y: 64 (2.96%) N: 58 (2.68%) S: 51 (2.36%)\n",
      "M: 50 (2.31%) A: 47 (2.17%) P: 46 (2.13%) C: 45 (2.08%) R: 38 (1.76%)\n",
      "W: 28 (1.29%) L: 12 (0.55%) V:  5 (0.23%) O:  4 (0.18%) F:  2 (0.09%)\n",
      "Q:  2 (0.09%) \n",
      "-----\n"
     ]
    }
   ],
   "source": [
    "from collections import Counter\n",
    "\n",
    "# Takes a string or list of items and counts the frequencies of those items\n",
    "# data: The list or string to analyse\n",
    "# max_values: The maximum number of values to display (set to None for no limit)\n",
    "# no_columns: The amount of columns to use in the output\n",
    "def frequency_analysis(data, max_values=30, no_columns=5):\n",
    "    frequencies = Counter()\n",
    "    for item in data:\n",
    "        frequencies[item] += 1\n",
    "    \n",
    "    total = sum(frequencies.values())\n",
    "    column = 1\n",
    "    for item, frequency in frequencies.most_common(max_values):\n",
    "        print(f\"{item}: {frequency:2} ({frequency / total:.2%})\", end=\" \" if column % no_columns else \"\\n\")\n",
    "        column += 1\n",
    "    print(\"\\n-----\")\n",
    "    \n",
    "frequency_analysis(squished)"
   ]
  },
  {
   "cell_type": "code",
   "execution_count": 5,
   "metadata": {},
   "outputs": [
    {
     "name": "stdout",
     "output_type": "stream",
     "text": [
      "eOaNtXPMhatoHMhohaGhUtYeUMaIZtIKHeAKtAPthetUYeUNaYeaHoKZGthePhaGXoZSSoZeURPoKMUXXeONKIetheCKZUtMaIaCHoReIIUoZaXhUtVKIttheHUShtaYoKZtoRRoHNetoWZoNWYeoKtCHoAaAXPZoCeHYaZeZtGaYaSetheHooYhaGAeeZeOCeHtXPGUIaIIeYAXeGtheIheXLeIMeHeeYCtUeGoRAXaNWIYUIIUoZRUXeIaZGYKNhoRtheIteaYCKZWteNhZoXoSPhaGAeeZtaWeZaCaHtCHeIKYaAXPtoYaWeIKHeUtGUGZtNoZtaUZaZPRKHtheHIeNHetItheAUSAeaKtURKXHoKZGtaAXehaGAeeZNXeaHeGaZGUXeaZtoZUttoIteaGPYPIeXRaIYPheaGIMaYUSKeIIeGthatMhoeLeHhaGRoXXoMeGYeUZtothetKZZeXIaZGoZUZtotheheaGFKaHteHIYKIthaLeWZoMZMhatUMaIXooWUZSRoHUtMaItooYKNhoRaNoUZNUGeZNethatthePhaGRoKZGYeheHeCHoAaAXPthePMeHeNoZZeNteGMUththeeYaUXIthatRUHItSotYeUZteHeIteGUZAXaNWAKtUZaNoZRKIeGItateaRteHYPAXaNWoKtUMaICKQQXeGMhPhaGthePUZLoXLeGYeCeHhaCIthePVKItGUGZtWZoMhoMtoRUZGtheIhaGoMaHNhULeaZGhoCeGUMoKXGAeaAXetoheXCCeHhaCIthePMaZteGtoUYCXUNateYeUZthetheRtoRtheIhaGoMaHNhULeCaCeHIUZthatNaIethePIhoKXGhaLehUtYehaHGeHUMaIZtSoUZStohaZSaHoKZGXoZSeZoKShtoSetNaKShtIoYethUZSMaIZaSSUZSatYeZoZeoRtheCaCeHIUhaGIeeZXooWeGUZteHeItUZSeZoKShtoVKItURPaXXthUIeRRoHtUtKHZeGYPheaGNaKtUoKIXPtHPUZStoUSZoHethethHoAAUZSAehUZGYPeaHaZGXooWeGaHoKZGtheHooYoZeYoHetUYetoIeeMhatMeMeHeYUIIUZSaIUGUGIoYPRootNaKShtoZIoYethUZSaZGUAeZtGoMZtoCUNWUtKCMheZthePhUtYeUhaGAeeZIUttUZSHeaGUZSAXaNWINoGeAooWUtMaIRKXXoRYaHLeXXoKIURGateGUGeaIoZNHPCtoSHaChPaZGUZRoHYatUoZIeNKHUtPaZGUhaGVKItAeeZHeaGUZStheIeNtUoZoZtHaZICoIUtUoZNUCheHIUtIeeYeGheMaICaHtUNKXaHXPWeeZoZNoXKYZaHtHaZICoIUtUoZIaZGMaIaHSKUZSthatUtMoKXGAeAeIttoHeaGoRRtheNUCheHteOtNoXKYZAPNoXKYZtoNoZRKIeeZeYPNHPCtaZaXPItIUMaIYKIUZSoZVKIthoMIeNKHethatMoKXGAeMheZtheMoHXGMeZtGaHWXKNWUXPaIUhaGRaXXeZUhaGGHoCCeGtheAooWaZGUthaGIXUCCeGKZGeHthetaAXeIoYehoMthePhaGYUIIeGUtGKHUZStheIeaHNhaZGtheHeUtMaIhUGGeZUZtheIhaGoMIUtooWaGeeCAHeathtoIXoMtheICUZZUZSAehUZGYPePeIaZGCUNWeGtheAooWKCAKtaIUCKXXeGYPIeXRKCHUShtaSaUZthetaAXetoCIhURteGIXUShtXPtooZeIUGeUItHKSSXeGtoHeSaUZYPAaXaZNeaZGthetaAXeYoLeGaSaUZaZGthUItUYeUheaHGaGUItUZNtNXUNWaIUIhURteGYPMeUShtthetaAXeHotateGAaNWaZGtheHeUtMaIoZNeYoHeaIoRtYetaXXUNNXUZWaIaHatNhettootheZSaSeGUItooGKCSHaAAeGatthetaAXeaZGCKXXeGIUGeMaPIUttKHZeGaSaUZNXUNWUZSIeLeHaXtUYeIaIUtGUGIoUtMaIaZoUIeUWZeMLeHPMeXXthetKYAXeHIoZaIaReYaGetheIaYeIoKZGthoKShYKNhYKNhFKUeteH\n"
     ]
    }
   ],
   "source": [
    "import string\n",
    "\n",
    "# A simple translation method.\n",
    "# text: The text to translate, in upper case\n",
    "# key: A substitution alphabet, usually in lower case so that the translated characters show up\n",
    "def decode(text, key):\n",
    "    table = str.maketrans(string.ascii_uppercase, key)\n",
    "    print(text.upper().translate(table))\n",
    "\n",
    "# Lots of \"JTE\" in there...\n",
    "# Also \"JTDJ\", so D=a?\n",
    "# Lots of \"JB\", so B=o?\n",
    "decode(squished, \"AoCaeFGHItKLMNOPQRShUVWXYZ\")"
   ]
  },
  {
   "cell_type": "code",
   "execution_count": 6,
   "metadata": {},
   "outputs": [
    {
     "name": "stdout",
     "output_type": "stream",
     "text": [
      "eOaNtXPMhatorMhohadhUtYeUMasZtsureAutAPthetUYeUNaYearouZdthePhadXoZSSoZeURPouMUXXeONusetheCuZUtMasaCroRessUoZaXhUtVusttherUShtaYouZtoRRorNetoWZoNWYeoutCroAaAXPZoCerYaZeZtdaYaSetherooYhadAeeZeOCertXPdUsasseYAXedthesheXLesMereeYCtUedoRAXaNWsYUssUoZRUXesaZdYuNhoRthesteaYCuZWteNhZoXoSPhadAeeZtaWeZaCartCresuYaAXPtoYaWesureUtdUdZtNoZtaUZaZPRurtherseNretstheAUSAeautURuXrouZdtaAXehadAeeZNXearedaZdUXeaZtoZUttosteadPYPseXRasYPheadsMaYUSuessedthatMhoeLerhadRoXXoMedYeUZtothetuZZeXsaZdoZUZtotheheadquartersYusthaLeWZoMZMhatUMasXooWUZSRorUtMastooYuNhoRaNoUZNUdeZNethatthePhadRouZdYehereCroAaAXPthePMereNoZZeNtedMUththeeYaUXsthatRUrstSotYeUZterestedUZAXaNWAutUZaNoZRusedstateaRterYPAXaNWoutUMasCuQQXedMhPhadthePUZLoXLedYeCerhaCsthePVustdUdZtWZoMhoMtoRUZdtheshadoMarNhULeaZdhoCedUMouXdAeaAXetoheXCCerhaCsthePMaZtedtoUYCXUNateYeUZthetheRtoRtheshadoMarNhULeCaCersUZthatNasethePshouXdhaLehUtYeharderUMasZtSoUZStohaZSarouZdXoZSeZouShtoSetNauShtsoYethUZSMasZaSSUZSatYeZoZeoRtheCaCersUhadseeZXooWedUZterestUZSeZouShtoVustURPaXXthUseRRortUturZedYPheadNautUousXPtrPUZStoUSZorethethroAAUZSAehUZdYPearaZdXooWedarouZdtherooYoZeYoretUYetoseeMhatMeMereYUssUZSasUdUdsoYPRootNauShtoZsoYethUZSaZdUAeZtdoMZtoCUNWUtuCMheZthePhUtYeUhadAeeZsUttUZSreadUZSAXaNWsNodeAooWUtMasRuXXoRYarLeXXousURdatedUdeasoZNrPCtoSraChPaZdUZRorYatUoZseNurUtPaZdUhadVustAeeZreadUZStheseNtUoZoZtraZsCosUtUoZNUChersUtseeYedheMasCartUNuXarXPWeeZoZNoXuYZartraZsCosUtUoZsaZdMasarSuUZSthatUtMouXdAeAesttoreadoRRtheNUCherteOtNoXuYZAPNoXuYZtoNoZRuseeZeYPNrPCtaZaXPstsUMasYusUZSoZVusthoMseNurethatMouXdAeMheZtheMorXdMeZtdarWXuNWUXPasUhadRaXXeZUhaddroCCedtheAooWaZdUthadsXUCCeduZderthetaAXesoYehoMthePhadYUssedUtdurUZSthesearNhaZdthereUtMashUddeZUZtheshadoMsUtooWadeeCAreathtosXoMthesCUZZUZSAehUZdYPePesaZdCUNWedtheAooWuCAutasUCuXXedYPseXRuCrUShtaSaUZthetaAXetoCshURtedsXUShtXPtooZesUdeUstruSSXedtoreSaUZYPAaXaZNeaZdthetaAXeYoLedaSaUZaZdthUstUYeUheardadUstUZNtNXUNWasUshURtedYPMeUShtthetaAXerotatedAaNWaZdthereUtMasoZNeYoreasoRtYetaXXUNNXUZWasaratNhettootheZSaSedUstooduCSraAAedatthetaAXeaZdCuXXedsUdeMaPsUtturZedaSaUZNXUNWUZSseLeraXtUYesasUtdUdsoUtMasaZoUseUWZeMLerPMeXXthetuYAXersoZasaReYadethesaYesouZdthouShYuNhYuNhquUeter\n"
     ]
    }
   ],
   "source": [
    "# \"totheheaGFKaHteHI\" -> G=d, F=q, K=u, H=r, I=s\n",
    "decode(squished, \"AoCaeqdrstuLMNOPQRShUVWXYZ\")"
   ]
  },
  {
   "cell_type": "code",
   "execution_count": 7,
   "metadata": {},
   "outputs": [
    {
     "name": "stdout",
     "output_type": "stream",
     "text": [
      "eOactlPMhatorMhohadhUtYeUMasntsureAutAPthetUYeUcaYearoundthePhadlonggoneUfPouMUlleOcusetheCunUtMasaCrofessUonalhUtVusttherUghtaYountofforcetoWnocWYeoutCroAaAlPnoCerYanentdaYagetherooYhadAeeneOCertlPdUsasseYAledtheshelLesMereeYCtUedofAlacWsYUssUonfUlesandYuchofthesteaYCunWtechnologPhadAeentaWenaCartCresuYaAlPtoYaWesureUtdUdntcontaUnanPfurthersecretstheAUgAeautUfulroundtaAlehadAeenclearedandUleantonUttosteadPYPselfasYPheadsMaYUguessedthatMhoeLerhadfolloMedYeUntothetunnelsandonUntotheheadquartersYusthaLeWnoMnMhatUMaslooWUngforUtMastooYuchofacoUncUdencethatthePhadfoundYehereCroAaAlPthePMereconnectedMUththeeYaUlsthatfUrstgotYeUnterestedUnAlacWAutUnaconfusedstateafterYPAlacWoutUMasCuQQledMhPhadthePUnLolLedYeCerhaCsthePVustdUdntWnoMhoMtofUndtheshadoMarchULeandhoCedUMouldAeaAletohelCCerhaCsthePMantedtoUYClUcateYeUnthetheftoftheshadoMarchULeCaCersUnthatcasethePshouldhaLehUtYeharderUMasntgoUngtohangaroundlongenoughtogetcaughtsoYethUngMasnaggUngatYenoneoftheCaCersUhadseenlooWedUnterestUngenoughtoVustUfPallthUseffortUturnedYPheadcautUouslPtrPUngtoUgnorethethroAAUngAehUndYPearandlooWedaroundtherooYoneYoretUYetoseeMhatMeMereYUssUngasUdUdsoYPfootcaughtonsoYethUngandUAentdoMntoCUcWUtuCMhenthePhUtYeUhadAeensUttUngreadUngAlacWscodeAooWUtMasfullofYarLellousUfdatedUdeasoncrPCtograChPandUnforYatUonsecurUtPandUhadVustAeenreadUngthesectUonontransCosUtUoncUChersUtseeYedheMasCartUcularlPWeenoncoluYnartransCosUtUonsandMasarguUngthatUtMouldAeAesttoreadoffthecUCherteOtcoluYnAPcoluYntoconfuseeneYPcrPCtanalPstsUMasYusUngonVusthoMsecurethatMouldAeMhentheMorldMentdarWlucWUlPasUhadfallenUhaddroCCedtheAooWandUthadslUCCedunderthetaAlesoYehoMthePhadYUssedUtdurUngthesearchandthereUtMashUddenUntheshadoMsUtooWadeeCAreathtosloMthesCUnnUngAehUndYPePesandCUcWedtheAooWuCAutasUCulledYPselfuCrUghtagaUnthetaAletoCshUftedslUghtlPtoonesUdeUstruggledtoregaUnYPAalanceandthetaAleYoLedagaUnandthUstUYeUheardadUstUnctclUcWasUshUftedYPMeUghtthetaAlerotatedAacWandthereUtMasonceYoreasoftYetallUcclUnWasaratchettoothengagedUstooduCgraAAedatthetaAleandCulledsUdeMaPsUtturnedagaUnclUcWUngseLeraltUYesasUtdUdsoUtMasanoUseUWneMLerPMellthetuYAlersonasafeYadethesaYesoundthoughYuchYuchquUeter\n"
     ]
    }
   ],
   "source": [
    "# \"Suessed\" -> S=g\n",
    "# \"RurtherseNrets\" -> R=f, N=c\n",
    "# \"tothetuZZeXs\" -> Z=n, X=l\n",
    "decode(squished, \"AoCaeqdrstuLMcOPQfghUVWlYn\")"
   ]
  },
  {
   "cell_type": "code",
   "execution_count": 8,
   "metadata": {},
   "outputs": [
    {
     "name": "stdout",
     "output_type": "stream",
     "text": [
      "exactlywhatorwhohadhitYeiwasntsureAutAythetiYeicaYearoundtheyhadlonggoneifyouwillexcusetheCunitwasaCrofessionalhitVusttherightaYountofforcetoWnocWYeoutCroAaAlynoCerYanentdaYagetherooYhadAeenexCertlydisasseYAledtheshelveswereeYCtiedofAlacWsYissionfilesandYuchofthesteaYCunWtechnologyhadAeentaWenaCartCresuYaAlytoYaWesureitdidntcontainanyfurthersecretstheAigAeautifulroundtaAlehadAeenclearedandileantonittosteadyYyselfasYyheadswaYiguessedthatwhoeverhadfollowedYeintothetunnelsandonintotheheadquartersYusthaveWnownwhatiwaslooWingforitwastooYuchofacoincidencethattheyhadfoundYehereCroAaAlytheywereconnectedwiththeeYailsthatfirstgotYeinterestedinAlacWAutinaconfusedstateafterYyAlacWoutiwasCuQQledwhyhadtheyinvolvedYeCerhaCstheyVustdidntWnowhowtofindtheshadowarchiveandhoCediwouldAeaAletohelCCerhaCstheywantedtoiYClicateYeinthetheftoftheshadowarchiveCaCersinthatcasetheyshouldhavehitYeharderiwasntgoingtohangaroundlongenoughtogetcaughtsoYethingwasnaggingatYenoneoftheCaCersihadseenlooWedinterestingenoughtoVustifyallthiseffortiturnedYyheadcautiouslytryingtoignorethethroAAingAehindYyearandlooWedaroundtherooYoneYoretiYetoseewhatwewereYissingasididsoYyfootcaughtonsoYethingandiAentdowntoCicWituCwhentheyhitYeihadAeensittingreadingAlacWscodeAooWitwasfullofYarvellousifdatedideasoncryCtograChyandinforYationsecurityandihadVustAeenreadingthesectionontransCositionciChersitseeYedhewasCarticularlyWeenoncoluYnartransCositionsandwasarguingthatitwouldAeAesttoreadofftheciChertextcoluYnAycoluYntoconfuseeneYycryCtanalystsiwasYusingonVusthowsecurethatwouldAewhentheworldwentdarWlucWilyasihadfallenihaddroCCedtheAooWandithadsliCCedunderthetaAlesoYehowtheyhadYisseditduringthesearchandthereitwashiddenintheshadowsitooWadeeCAreathtoslowthesCinningAehindYyeyesandCicWedtheAooWuCAutasiCulledYyselfuCrightagainthetaAletoCshiftedslightlytoonesideistruggledtoregainYyAalanceandthetaAleYovedagainandthistiYeiheardadistinctclicWasishiftedYyweightthetaAlerotatedAacWandthereitwasonceYoreasoftYetallicclinWasaratchettoothengagedistooduCgraAAedatthetaAleandCulledsidewaysitturnedagainclicWingseveraltiYesasitdidsoitwasanoiseiWnewverywellthetuYAlersonasafeYadethesaYesoundthoughYuchYuchquieter\n"
     ]
    }
   ],
   "source": [
    "# \"eOactlPMhat\" -> O=x, P=y, M=w\n",
    "# \"shadoMarchULe\" -> U=i, L=v\n",
    "decode(squished, \"AoCaeqdrstuvwcxyQfghiVWlYn\")"
   ]
  },
  {
   "cell_type": "code",
   "execution_count": 9,
   "metadata": {},
   "outputs": [
    {
     "name": "stdout",
     "output_type": "stream",
     "text": [
      "exactlywhatorwhohadhitmeiwasntsurebutbythetimeicamearoundtheyhadlonggoneifyouwillexcusethepunitwasaprofessionalhitjusttherightamountofforcetoknockmeoutprobablynopermanentdamagetheroomhadbeenexpertlydisassembledtheshelveswereemptiedofblacksmissionfilesandmuchofthesteampunktechnologyhadbeentakenapartpresumablytomakesureitdidntcontainanyfurthersecretsthebigbeautifulroundtablehadbeenclearedandileantonittosteadymyselfasmyheadswamiguessedthatwhoeverhadfollowedmeintothetunnelsandonintotheheadquartersmusthaveknownwhatiwaslookingforitwastoomuchofacoincidencethattheyhadfoundmehereprobablytheywereconnectedwiththeemailsthatfirstgotmeinterestedinblackbutinaconfusedstateaftermyblackoutiwaspuzzledwhyhadtheyinvolvedmeperhapstheyjustdidntknowhowtofindtheshadowarchiveandhopediwouldbeabletohelpperhapstheywantedtoimplicatemeinthetheftoftheshadowarchivepapersinthatcasetheyshouldhavehitmeharderiwasntgoingtohangaroundlongenoughtogetcaughtsomethingwasnaggingatmenoneofthepapersihadseenlookedinterestingenoughtojustifyallthiseffortiturnedmyheadcautiouslytryingtoignorethethrobbingbehindmyearandlookedaroundtheroomonemoretimetoseewhatweweremissingasididsomyfootcaughtonsomethingandibentdowntopickitupwhentheyhitmeihadbeensittingreadingblackscodebookitwasfullofmarvellousifdatedideasoncryptographyandinformationsecurityandihadjustbeenreadingthesectionontranspositionciphersitseemedhewasparticularlykeenoncolumnartranspositionsandwasarguingthatitwouldbebesttoreadofftheciphertextcolumnbycolumntoconfuseenemycryptanalystsiwasmusingonjusthowsecurethatwouldbewhentheworldwentdarkluckilyasihadfallenihaddroppedthebookandithadslippedunderthetablesomehowtheyhadmisseditduringthesearchandthereitwashiddenintheshadowsitookadeepbreathtoslowthespinningbehindmyeyesandpickedthebookupbutasipulledmyselfuprightagainthetabletopshiftedslightlytoonesideistruggledtoregainmybalanceandthetablemovedagainandthistimeiheardadistinctclickasishiftedmyweightthetablerotatedbackandthereitwasoncemoreasoftmetallicclinkasaratchettoothengagedistoodupgrabbedatthetableandpulledsidewaysitturnedagainclickingseveraltimesasitdidsoitwasanoiseiknewverywellthetumblersonasafemadethesamesoundthoughmuchmuchquieter\n"
     ]
    }
   ],
   "source": [
    "# \"whohadhitYe\" -> Y=m\n",
    "# \"AutAythetiYe\" -> A=b\n",
    "# \"exCertly\" -> C=p\n",
    "# \"CuQQled\" -> Q=z\n",
    "# \"tooW\" -> W=k\n",
    "# \"Vust\" -> V=j\n",
    "decode(squished, \"bopaeqdrstuvwcxyzfghijklmn\")"
   ]
  },
  {
   "cell_type": "markdown",
   "metadata": {},
   "source": [
    "### Edited for clarity\n",
    "Exactly what (or who) had hit me, I wasn't sure, but by the time I came around, they had long gone. If you will excuse the pun, it was a \"professional hit\" - just the right amount of force to knock me out, probably no permanent damage.<br/>\n",
    "The room had been expertly disassembled, the shelves were emptied of Black's mission files and much of the \"Steampunk\" technology had been taken apart, presumably to make sure it didn't contain any further secrets. The big beautiful round table had been cleared and I leant on it to steady myself as my head swam. I guessed that whoever had followed me into the tunnels and on into the headquarters must have known what I was looking for. It was too much of a coincidence that they had found me here, probably they were connected with the e-mails that first got me interested in Black, but in a confused state after my blackout, I was puzzled why had they involved me?<br/>\n",
    "Perhaps they just didn't know how to find the Shadow Archive and hoped I would be able to help. Perhaps they wanted to implicate me in the theft of the Shadow Archive papers. In that case, they should have hit me harder - I wasn't going to hang around long enough to get caught.<br/>\n",
    "Something was nagging at me: none of the papers I had seen looked interesting enough to justify all this effort. I turned my head cautiously, trying to ignore the throbbing behind my ear and looked around the room one more time to see what we were missing. As I did so, my foot caught on something and I bent down to pick it up. When they hit me, I had been sitting reading Black's codebook - it was full of marvellous, if dated, ideas on cryptography and information security, and I had just been reading the section on transposition ciphers. It seemed he was particularly keen on columnar transpositions and was arguing that it would be best to read off the ciphertext column by column to confuse enemy cryptanalysts. I was musing on just how secure that would be when the world went dark. Luckily, as I had fallen, I had dropped the book and it had slipped under the table. Somehow they had missed it during the search and there it was, hidden in the shadows.<br/>\n",
    "I took a deep breath to slow the spinning behind my eyes and picked the book up, but as I pulled myself upright again, the tabletop shifted slightly to one side. I struggled to regain my balance and the table moved again and this time I heard a distinct \"click\" as I shifted my weight. The table rotated back and there it was once more - a soft, metallic \"clink\" as a ratchet tooth engaged. I stood up, grabbed at the table and pulled sideways. It turned again, clicking several times - as it did so, it was a noise I knew very well. The tumblers on a safe made the same sound, though much, much quieter."
   ]
  },
  {
   "cell_type": "code",
   "execution_count": 10,
   "metadata": {},
   "outputs": [
    {
     "name": "stdout",
     "output_type": "stream",
     "text": [
      "Decoded alphabet: dangerstuvwxyzbcfhijklmopq\n",
      "Keyword: danger\n"
     ]
    }
   ],
   "source": [
    "# Attempts to determine the keyword used for a substition cipher\n",
    "# alphabet: The substitution alphabet\n",
    "def decode_key(alphabet):\n",
    "    decoded_alphabet = \"\"\n",
    "    for letter in string.ascii_lowercase:\n",
    "        decoded_alphabet += chr(alphabet.find(letter) + ord(\"a\"))\n",
    "    print(f\"Decoded alphabet: {decoded_alphabet}\")\n",
    "    \n",
    "    remaining_letters = list(string.ascii_lowercase)\n",
    "    for pos, letter in enumerate(decoded_alphabet):\n",
    "        remaining_letters.remove(letter)\n",
    "        next_letter_index = remaining_letters.index(decoded_alphabet[pos+1])\n",
    "        if decoded_alphabet[pos+1:] == \"\".join(remaining_letters[next_letter_index:] + remaining_letters[:next_letter_index]):\n",
    "            print(f\"Keyword: {decoded_alphabet[:pos+2]}\")\n",
    "            break\n",
    "\n",
    "decode_key(\"bopaeqdrstuvwcxyzfghijklmn\")"
   ]
  },
  {
   "cell_type": "code",
   "execution_count": null,
   "metadata": {},
   "outputs": [],
   "source": []
  }
 ],
 "metadata": {
  "kernelspec": {
   "display_name": "Python 3",
   "language": "python",
   "name": "python3"
  },
  "language_info": {
   "codemirror_mode": {
    "name": "ipython",
    "version": 3
   },
   "file_extension": ".py",
   "mimetype": "text/x-python",
   "name": "python",
   "nbconvert_exporter": "python",
   "pygments_lexer": "ipython3",
   "version": "3.8.3"
  }
 },
 "nbformat": 4,
 "nbformat_minor": 4
}
