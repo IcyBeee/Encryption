{
 "cells": [
  {
   "cell_type": "markdown",
   "metadata": {},
   "source": [
    "# Cipher Challenge 2018\n",
    "## Challenge 4"
   ]
  },
  {
   "cell_type": "code",
   "execution_count": 1,
   "metadata": {},
   "outputs": [],
   "source": [
    "# 4a (No Title)\n",
    "message4a = \"\"\"JUR DYKR NLH VB JUR BLZR. JUR IYLDX ZKHRKZ VH NCGYA SLZCKH LH JUR VB-UCKHR ZKHRKZ CS DGVZR LJ BRN HDCJYLBA PLGA. JUR UVHJCGP ICCXH (CG LJ YRLHJ, NVXVERAVL) JCYA ZR JULJ VJ ULA IRRB HRJ KE IP VBHERDJCG BRLZR LBA ED GLBALYY HCZR JVZR LSJRG LEGVY 1875 LH L NLP JC KHR JUR EGVHCBRGH' EGCERGJP HJCGR JC VBHJGKDJ BRN GRDGKVJH VB JUR LGJ CS ARJRDJVCB. JUR BLZR SVGHJ LEERLGH VB EKIYVD VB LB LGJVDYR VB JUR CIHRGMRG BRNHELERG VB 1877, LBA JUR UVHJCGVLBH HLP VJ NLH DCVBRA LH L TGVHYP URLAYVBR IP L WCKGBLYVHJ NUC NLH HBKIIRA IP BRLZR, IKJ V LZ BCJ HC HKGR. VJ AVAB'J HRRZ LB LDDVARBJ JULJ ACKTYLH IYLDX NLH YCCXVBT JC HRJ KE L JCE HRDGRJ LGDUVMR VB YCBACB LJ JULJ JVZR, LBA HDCJYLBA PLGA TLMR UVZ JUR ERGSRDJ YCDLJVCB. VJ NLH DRBJGLY LBA RLHP JC LDDRHH. VJ ULA HRMRGLY RBJGLBDRH, NVJU L HJRLAP SYCN CS MVHVJCGH, BCJ LYY CS JURZ RBJVGRYP GREKJLIYR, JULJ NCKYA AVHTKVHR JUR DCZVBTH LBA TCVBTH CS JUR LTRBJH LBA CSSVDRGH CS IYLDX'H BRJNCGX. IRHJ CS LYY VJ ULA JUR RBJVGR ZRJGCECYVJLB ECYVDR SCGDR HJLBAVBT TKLGA, NUVDU NLH TGRLJ SCG IYLDX, LBA JCKTU CB ZR. VJ NCKYA IR JUR VARLY YCDLJVCB SCG JUR HULACN LGDUVMR.\n",
    "HDCJYLBA PLGA ULA ZCMRA JC BRN EGRZVHRH HRMRGLY JVZRH HVBDR VJ NLH SVGHJ HRJ KE, IKJ V NLH IRJJVBT JULJ JUR HULACN LGDUVMR ULA ZCMRA NVJU VJ, LBA V HERBJ JUR IRHJ ELGJ CS JUGRR NRRXH HDCKJVBT JUR BCGZLB HULN IKVYAVBTH LBA JUR BRN \"BRN HDCJYLBA PLGA\" BROJ ACCG LJ JUR DKGJVH TGRRB IKVYAVBT. VJ VH BCJ RLHP JC AC JULJ NVJUCKJ IRVBT HECJJRA, URBDR JUR BVTUJ JVZR GRDCBBLVHHLBDR VB JUR GLVB. JUR NLJRG LBA JUR DCYA EYLPRA ULMCD NVJU ZP ZCCA, IKJ LYHC NVJU ZLBP ARJRDJCG HPHJRZH HC VJ NLH NCGJU JUR AVHDCZSCGJ.\n",
    "BC-CBR NLH YVXRYP JC TVMR ZR JUR GRLY EYLBH CS JUR EYLDR, JUCKTU ULGGP NLH ULEEP JC EGCMVAR ZR NVJU L DCEP CS JUR CSSVDVLY YLPCKJ, LBA V KHRA L YVALG HPHJRZ JC ZLE LH ZKDU CS JUR CKJHVAR LH V DCKYA. DCZELGVBT JUR JNC HUCKYA ULMR GRMRLYRA KBZLGXRA HJCGLTR LGRLH LBA TVMRB ZR HCZR VARL UCN V ZVTUJ TRJ VB, IKJ BCJUVBT HUCNRA KE KBJVY V ULA L YKDXP IGRLX. YVJRGLYYP. V ULA YCNRGRA JUR YVALG ARJRDJCG ACNB L HULSJ CB JUR DKGJVH TGRRB GCCS, UCEVBT JC TRJ L TYVZEHR VBJC HCZR CS JUR BRLGIP GCCZH. VJ ULA WKHJ LICKJ GRLDURA TGCKBA YRMRY NURB JUR BPYCB YVBR HBLEERA. VJ ZLAR L URYY CS L GCN LH VJ DYLJJRGRA ACNB, LBA V EGRELGRA JC GKB, IKJ BC LYLGZH NRBJ CSS LBA, ZCGR VZECGJLBJYP, V BCJVDRA HCZRJUVBT HVTBVSVDLBJ. VJ ULA JLXRB LGCKBA SVMR HRDCBAH SCG JUR YVALG JC DGLHU ACNB, NUVDU, LJ L GCKTU RHJVZLJR, ZRLBJ VJ ULA SLYYRB SGRR SCG LGCKBA CBR UKBAGRA LBA JNRBJP ZRJGRH. JULJ NCKYA ULMR JLXRB VJ L YCBT NLP KBARGTGCKBA, LBA JURGR NRGR BC ILHRZRBJ GCCZH ZLGXRA CB JUR EYLBH VB JULJ YCDLJVCB. V NLH EGRJJP HKGR V ULA SCKBA JUR HULACN LGDUVMR: BCN V WKHJ ULA JC SVBA L NLP VB.\n",
    "\"\"\""
   ]
  },
  {
   "cell_type": "code",
   "execution_count": 2,
   "metadata": {},
   "outputs": [
    {
     "name": "stdout",
     "output_type": "stream",
     "text": [
      "the DYKe NLH VB the BLZe. the IYLDX ZKHeKZ VH NCGYA SLZCKH LH the VB-hCKHe ZKHeKZ CS DGVZe Lt BeN HDCtYLBA PLGA. the hVHtCGP ICCXH (CG Lt YeLHt, NVXVEeAVL) tCYA Ze thLt Vt hLA IeeB Het KE IP VBHEeDtCG BeLZe LBA ED GLBALYY HCZe tVZe LSteG LEGVY 1875 LH L NLP tC KHe the EGVHCBeGH' EGCEeGtP HtCGe tC VBHtGKDt BeN GeDGKVtH VB the LGt CS AeteDtVCB. the BLZe SVGHt LEEeLGH VB EKIYVD VB LB LGtVDYe VB the CIHeGMeG BeNHELEeG VB 1877, LBA the hVHtCGVLBH HLP Vt NLH DCVBeA LH L TGVHYP heLAYVBe IP L WCKGBLYVHt NhC NLH HBKIIeA IP BeLZe, IKt V LZ BCt HC HKGe. Vt AVAB't HeeZ LB LDDVAeBt thLt ACKTYLH IYLDX NLH YCCXVBT tC Het KE L tCE HeDGet LGDhVMe VB YCBACB Lt thLt tVZe, LBA HDCtYLBA PLGA TLMe hVZ the EeGSeDt YCDLtVCB. Vt NLH DeBtGLY LBA eLHP tC LDDeHH. Vt hLA HeMeGLY eBtGLBDeH, NVth L HteLAP SYCN CS MVHVtCGH, BCt LYY CS theZ eBtVGeYP GeEKtLIYe, thLt NCKYA AVHTKVHe the DCZVBTH LBA TCVBTH CS the LTeBtH LBA CSSVDeGH CS IYLDX'H BetNCGX. IeHt CS LYY Vt hLA the eBtVGe ZetGCECYVtLB ECYVDe SCGDe HtLBAVBT TKLGA, NhVDh NLH TGeLt SCG IYLDX, LBA tCKTh CB Ze. Vt NCKYA Ie the VAeLY YCDLtVCB SCG the HhLACN LGDhVMe.\n",
      "HDCtYLBA PLGA hLA ZCMeA tC BeN EGeZVHeH HeMeGLY tVZeH HVBDe Vt NLH SVGHt Het KE, IKt V NLH IettVBT thLt the HhLACN LGDhVMe hLA ZCMeA NVth Vt, LBA V HEeBt the IeHt ELGt CS thGee NeeXH HDCKtVBT the BCGZLB HhLN IKVYAVBTH LBA the BeN \"BeN HDCtYLBA PLGA\" BeOt ACCG Lt the DKGtVH TGeeB IKVYAVBT. Vt VH BCt eLHP tC AC thLt NVthCKt IeVBT HECtteA, heBDe the BVTht tVZe GeDCBBLVHHLBDe VB the GLVB. the NLteG LBA the DCYA EYLPeA hLMCD NVth ZP ZCCA, IKt LYHC NVth ZLBP AeteDtCG HPHteZH HC Vt NLH NCGth the AVHDCZSCGt.\n",
      "BC-CBe NLH YVXeYP tC TVMe Ze the GeLY EYLBH CS the EYLDe, thCKTh hLGGP NLH hLEEP tC EGCMVAe Ze NVth L DCEP CS the CSSVDVLY YLPCKt, LBA V KHeA L YVALG HPHteZ tC ZLE LH ZKDh CS the CKtHVAe LH V DCKYA. DCZELGVBT the tNC HhCKYA hLMe GeMeLYeA KBZLGXeA HtCGLTe LGeLH LBA TVMeB Ze HCZe VAeL hCN V ZVTht Tet VB, IKt BCthVBT HhCNeA KE KBtVY V hLA L YKDXP IGeLX. YVteGLYYP. V hLA YCNeGeA the YVALG AeteDtCG ACNB L HhLSt CB the DKGtVH TGeeB GCCS, hCEVBT tC Tet L TYVZEHe VBtC HCZe CS the BeLGIP GCCZH. Vt hLA WKHt LICKt GeLDheA TGCKBA YeMeY NheB the BPYCB YVBe HBLEEeA. Vt ZLAe L heYY CS L GCN LH Vt DYLtteGeA ACNB, LBA V EGeELGeA tC GKB, IKt BC LYLGZH NeBt CSS LBA, ZCGe VZECGtLBtYP, V BCtVDeA HCZethVBT HVTBVSVDLBt. Vt hLA tLXeB LGCKBA SVMe HeDCBAH SCG the YVALG tC DGLHh ACNB, NhVDh, Lt L GCKTh eHtVZLte, ZeLBt Vt hLA SLYYeB SGee SCG LGCKBA CBe hKBAGeA LBA tNeBtP ZetGeH. thLt NCKYA hLMe tLXeB Vt L YCBT NLP KBAeGTGCKBA, LBA theGe NeGe BC ILHeZeBt GCCZH ZLGXeA CB the EYLBH VB thLt YCDLtVCB. V NLH EGettP HKGe V hLA SCKBA the HhLACN LGDhVMe: BCN V WKHt hLA tC SVBA L NLP VB.\n",
      "\n"
     ]
    }
   ],
   "source": [
    "import string\n",
    "\n",
    "# A simple translation method.\n",
    "# text: The text to translate, in upper case\n",
    "# key: A substitution alphabet, usually in lower case so that the translated characters show up\n",
    "def decode(text, key):\n",
    "    table = str.maketrans(string.ascii_uppercase, key)\n",
    "    print(text.upper().translate(table))\n",
    "\n",
    "# Lots of \"JUR\" -> \"the\"\n",
    "decode(message4a, \"ABCDEFGHItKLMNOPQeSThVWXYZ\")"
   ]
  },
  {
   "cell_type": "code",
   "execution_count": 3,
   "metadata": {},
   "outputs": [
    {
     "name": "stdout",
     "output_type": "stream",
     "text": [
      "the DYKe NaH in the naZe. the bYaDX ZKHeKZ iH NCGYd SaZCKH aH the in-hCKHe ZKHeKZ CS DGiZe at neN HDCtYand PaGd. the hiHtCGP bCCXH (CG at YeaHt, NiXiEedia) tCYd Ze that it had been Het KE bP inHEeDtCG neaZe and ED GandaYY HCZe tiZe aSteG aEGiY 1875 aH a NaP tC KHe the EGiHCneGH' EGCEeGtP HtCGe tC inHtGKDt neN GeDGKitH in the aGt CS deteDtiCn. the naZe SiGHt aEEeaGH in EKbYiD in an aGtiDYe in the CbHeGMeG neNHEaEeG in 1877, and the hiHtCGianH HaP it NaH DCined aH a TGiHYP headYine bP a WCKGnaYiHt NhC NaH HnKbbed bP neaZe, bKt i aZ nCt HC HKGe. it didn't HeeZ an aDDident that dCKTYaH bYaDX NaH YCCXinT tC Het KE a tCE HeDGet aGDhiMe in YCndCn at that tiZe, and HDCtYand PaGd TaMe hiZ the EeGSeDt YCDatiCn. it NaH DentGaY and eaHP tC aDDeHH. it had HeMeGaY entGanDeH, Nith a HteadP SYCN CS MiHitCGH, nCt aYY CS theZ entiGeYP GeEKtabYe, that NCKYd diHTKiHe the DCZinTH and TCinTH CS the aTentH and CSSiDeGH CS bYaDX'H netNCGX. beHt CS aYY it had the entiGe ZetGCECYitan ECYiDe SCGDe HtandinT TKaGd, NhiDh NaH TGeat SCG bYaDX, and tCKTh Cn Ze. it NCKYd be the ideaY YCDatiCn SCG the HhadCN aGDhiMe.\n",
      "HDCtYand PaGd had ZCMed tC neN EGeZiHeH HeMeGaY tiZeH HinDe it NaH SiGHt Het KE, bKt i NaH bettinT that the HhadCN aGDhiMe had ZCMed Nith it, and i HEent the beHt EaGt CS thGee NeeXH HDCKtinT the nCGZan HhaN bKiYdinTH and the neN \"neN HDCtYand PaGd\" neOt dCCG at the DKGtiH TGeen bKiYdinT. it iH nCt eaHP tC dC that NithCKt beinT HECtted, henDe the niTht tiZe GeDCnnaiHHanDe in the Gain. the NateG and the DCYd EYaPed haMCD Nith ZP ZCCd, bKt aYHC Nith ZanP deteDtCG HPHteZH HC it NaH NCGth the diHDCZSCGt.\n",
      "nC-Cne NaH YiXeYP tC TiMe Ze the GeaY EYanH CS the EYaDe, thCKTh haGGP NaH haEEP tC EGCMide Ze Nith a DCEP CS the CSSiDiaY YaPCKt, and i KHed a YidaG HPHteZ tC ZaE aH ZKDh CS the CKtHide aH i DCKYd. DCZEaGinT the tNC HhCKYd haMe GeMeaYed KnZaGXed HtCGaTe aGeaH and TiMen Ze HCZe idea hCN i ZiTht Tet in, bKt nCthinT HhCNed KE KntiY i had a YKDXP bGeaX. YiteGaYYP. i had YCNeGed the YidaG deteDtCG dCNn a HhaSt Cn the DKGtiH TGeen GCCS, hCEinT tC Tet a TYiZEHe intC HCZe CS the neaGbP GCCZH. it had WKHt abCKt GeaDhed TGCKnd YeMeY Nhen the nPYCn Yine HnaEEed. it Zade a heYY CS a GCN aH it DYatteGed dCNn, and i EGeEaGed tC GKn, bKt nC aYaGZH Nent CSS and, ZCGe iZECGtantYP, i nCtiDed HCZethinT HiTniSiDant. it had taXen aGCKnd SiMe HeDCndH SCG the YidaG tC DGaHh dCNn, NhiDh, at a GCKTh eHtiZate, Zeant it had SaYYen SGee SCG aGCKnd Cne hKndGed and tNentP ZetGeH. that NCKYd haMe taXen it a YCnT NaP KndeGTGCKnd, and theGe NeGe nC baHeZent GCCZH ZaGXed Cn the EYanH in that YCDatiCn. i NaH EGettP HKGe i had SCKnd the HhadCN aGDhiMe: nCN i WKHt had tC Sind a NaP in.\n",
      "\n"
     ]
    }
   ],
   "source": [
    "# \"thLt\" -> L=a\n",
    "# \"thLt Vt hLA IeeB\" -> V=i, A=d, I=b, B=n\n",
    "decode(message4a, \"dnCDEFGHbtKaMNOPQeSThiWXYZ\")"
   ]
  },
  {
   "cell_type": "code",
   "execution_count": 4,
   "metadata": {},
   "outputs": [
    {
     "name": "stdout",
     "output_type": "stream",
     "text": [
      "the clue was in the name. the blacX museum is wCGld SamCus as the in-hCuse museum CS cGime at new scCtland PaGd. the histCGP bCCXs (CG at least, wiXiEedia) tCld me that it had been set uE bP insEectCG neame and Ec Gandall sCme time aSteG aEGil 1875 as a waP tC use the EGisCneGs' EGCEeGtP stCGe tC instGuct new GecGuits in the aGt CS detectiCn. the name SiGst aEEeaGs in Eublic in an aGticle in the CbseGMeG newsEaEeG in 1877, and the histCGians saP it was cCined as a TGislP headline bP a WCuGnalist whC was snubbed bP neame, but i am nCt sC suGe. it didn't seem an accident that dCuTlas blacX was lCCXinT tC set uE a tCE secGet aGchiMe in lCndCn at that time, and scCtland PaGd TaMe him the EeGSect lCcatiCn. it was centGal and easP tC access. it had seMeGal entGances, with a steadP SlCw CS MisitCGs, nCt all CS them entiGelP GeEutable, that wCuld disTuise the cCminTs and TCinTs CS the aTents and CSSiceGs CS blacX's netwCGX. best CS all it had the entiGe metGCEClitan EClice SCGce standinT TuaGd, which was TGeat SCG blacX, and tCuTh Cn me. it wCuld be the ideal lCcatiCn SCG the shadCw aGchiMe.\n",
      "scCtland PaGd had mCMed tC new EGemises seMeGal times since it was SiGst set uE, but i was bettinT that the shadCw aGchiMe had mCMed with it, and i sEent the best EaGt CS thGee weeXs scCutinT the nCGman shaw buildinTs and the new \"new scCtland PaGd\" neOt dCCG at the cuGtis TGeen buildinT. it is nCt easP tC dC that withCut beinT sECtted, hence the niTht time GecCnnaissance in the Gain. the wateG and the cCld ElaPed haMCc with mP mCCd, but alsC with manP detectCG sPstems sC it was wCGth the discCmSCGt.\n",
      "nC-Cne was liXelP tC TiMe me the Geal Elans CS the Elace, thCuTh haGGP was haEEP tC EGCMide me with a cCEP CS the CSSicial laPCut, and i used a lidaG sPstem tC maE as much CS the Cutside as i cCuld. cCmEaGinT the twC shCuld haMe GeMealed unmaGXed stCGaTe aGeas and TiMen me sCme idea hCw i miTht Tet in, but nCthinT shCwed uE until i had a lucXP bGeaX. liteGallP. i had lCweGed the lidaG detectCG dCwn a shaSt Cn the cuGtis TGeen GCCS, hCEinT tC Tet a TlimEse intC sCme CS the neaGbP GCCms. it had Wust abCut Geached TGCund leMel when the nPlCn line snaEEed. it made a hell CS a GCw as it clatteGed dCwn, and i EGeEaGed tC Gun, but nC alaGms went CSS and, mCGe imECGtantlP, i nCticed sCmethinT siTniSicant. it had taXen aGCund SiMe secCnds SCG the lidaG tC cGash dCwn, which, at a GCuTh estimate, meant it had Sallen SGee SCG aGCund Cne hundGed and twentP metGes. that wCuld haMe taXen it a lCnT waP undeGTGCund, and theGe weGe nC basement GCCms maGXed Cn the Elans in that lCcatiCn. i was EGettP suGe i had SCund the shadCw aGchiMe: nCw i Wust had tC Sind a waP in.\n",
      "\n"
     ]
    }
   ],
   "source": [
    "# \"the DYKe NaH in the naZe\" -> D=c, Y=l, K=u, N=w, H=s Z=m\n",
    "decode(message4a, \"dnCcEFGsbtuaMwOPQeSThiWXlm\")"
   ]
  },
  {
   "cell_type": "code",
   "execution_count": 5,
   "metadata": {},
   "outputs": [
    {
     "name": "stdout",
     "output_type": "stream",
     "text": [
      "the clue was in the name. the black museum is world famous as the in-house museum of crime at new scotland yard. the history books (or at least, wikipedia) told me that it had been set up by inspector neame and pc randall some time after april 1875 as a way to use the prisoners' property store to instruct new recruits in the art of detection. the name first appears in public in an article in the observer newspaper in 1877, and the historians say it was coined as a grisly headline by a journalist who was snubbed by neame, but i am not so sure. it didn't seem an accident that douglas black was looking to set up a top secret archive in london at that time, and scotland yard gave him the perfect location. it was central and easy to access. it had several entrances, with a steady flow of visitors, not all of them entirely reputable, that would disguise the comings and goings of the agents and officers of black's network. best of all it had the entire metropolitan police force standing guard, which was great for black, and tough on me. it would be the ideal location for the shadow archive.\n",
      "scotland yard had moved to new premises several times since it was first set up, but i was betting that the shadow archive had moved with it, and i spent the best part of three weeks scouting the norman shaw buildings and the new \"new scotland yard\" next door at the curtis green building. it is not easy to do that without being spotted, hence the night time reconnaissance in the rain. the water and the cold played havoc with my mood, but also with many detector systems so it was worth the discomfort.\n",
      "no-one was likely to give me the real plans of the place, though harry was happy to provide me with a copy of the official layout, and i used a lidar system to map as much of the outside as i could. comparing the two should have revealed unmarked storage areas and given me some idea how i might get in, but nothing showed up until i had a lucky break. literally. i had lowered the lidar detector down a shaft on the curtis green roof, hoping to get a glimpse into some of the nearby rooms. it had just about reached ground level when the nylon line snapped. it made a hell of a row as it clattered down, and i prepared to run, but no alarms went off and, more importantly, i noticed something significant. it had taken around five seconds for the lidar to crash down, which, at a rough estimate, meant it had fallen free for around one hundred and twenty metres. that would have taken it a long way underground, and there were no basement rooms marked on the plans in that location. i was pretty sure i had found the shadow archive: now i just had to find a way in.\n",
      "\n"
     ]
    }
   ],
   "source": [
    "# \"blacX museum is wCGld SamCus\" -> X=k, C=o, G=r, S=f\n",
    "# \"new scCtland PaGd\" -> P=y\n",
    "# \"WCuGnalist\" -> W=j\n",
    "# \"a tCE secGet aGchiMe\" -> E=p, M=v\n",
    "# \"buildinT\" -> T=g\n",
    "# \"neOt\" -> O=x\n",
    "# Fill in gaps -> F=q, Q=z\n",
    "decode(message4a, \"dnocpqrsbtuavwxyzefghijklm\")"
   ]
  },
  {
   "cell_type": "code",
   "execution_count": 6,
   "metadata": {},
   "outputs": [
    {
     "name": "stdout",
     "output_type": "stream",
     "text": [
      "Decoded alphabet: lidarstuvwxyzbcefghjkmnopq\n",
      "Keyword: lidar\n"
     ]
    }
   ],
   "source": [
    "# Attempts to determine the keyword used for a substition cipher\n",
    "# alphabet: The substitution alphabet\n",
    "def decode_key(alphabet):\n",
    "    decoded_alphabet = \"\"\n",
    "    for letter in string.ascii_lowercase:\n",
    "        decoded_alphabet += chr(alphabet.find(letter) + ord(\"a\"))\n",
    "    print(f\"Decoded alphabet: {decoded_alphabet}\")\n",
    "    \n",
    "    remaining_letters = list(string.ascii_lowercase)\n",
    "    for pos, letter in enumerate(decoded_alphabet):\n",
    "        remaining_letters.remove(letter)\n",
    "        next_letter_index = remaining_letters.index(decoded_alphabet[pos+1])\n",
    "        if decoded_alphabet[pos+1:] == \"\".join(remaining_letters[next_letter_index:] + remaining_letters[:next_letter_index]):\n",
    "            print(f\"Keyword: {decoded_alphabet[:pos+2]}\")\n",
    "            break\n",
    "\n",
    "decode_key(\"dnocpqrsbtuavwxyzefghijklm\")"
   ]
  },
  {
   "cell_type": "code",
   "execution_count": 7,
   "metadata": {},
   "outputs": [],
   "source": [
    "message4b = \"\"\"ATRDW PFKFD KITGG TPGTD PRGFG ZGTPP RFGRD PIDZM KYIEQ GTPLR QKYGT PFZHG TPDYD PIKZY GTPZG GZXRY FRDPD PFGWP FFRYL KYGTP YZDGT GTPGT DPPPX BPDZD FRDPR IDZMK YIGTD PRGGZ ZHDKY OWHPY APGTP OZDPK IYZOO KAPFP PXBRD RWQFP LOZAH FFPLP YGKDP WQZYO ZDXKY IRWWK RYAPF RYLHY REWPG ZLPGP DXKYP GTPKD EPFGF GDRGP IQKGT KYVGT PQRDP XKFGR VPYKY GTPKD ZHGWZ ZVGTP QOZAH FGZZX HATZY GDPRG KPFRY LYZGP YZHIT ZYDPR WBZWK GKVRF JZYDZ ATRHM DZGPG TPWRM ZOBZM PDIZJ PDYFG TPMZD WLZOF GRGPF UHFGR FGTPW RMZOI DRJKG QIZJP DYFGT PBTQF KARWM ZDWLR YLMPR DPBPD TRBFG ZZXHA TKYAW KYPLG ZZJPD WZZVG TPDPR WXKIT GZOGT PXZDP BZMPD OHWRY LGTPK YPJKG REKWK GQZOK GFBZW KGKAR WKYOW HPYAP ZHDGR FVYZM KFYZG GZATZ ZFPRO RJZHD PLBRD GYPDG ZAZYG DZWGT PZGTP DFGTR GMRQD KFVFM RDRYR WWKRY APMKW WPYAZ HDRIP RAZHY GPDRW WKRYA PRYLR LRYIP DZHFP FARWR GKZYK YFGPR LZHDF GDRGP IQFTZ HWLEP GZXRK YGRKY RYRLX KGGPL WQHYP RFQBP RAPEP GMPPY GTPPX BPDZD FGZIP GTPDG TPQRD PGTPE KIIPF GBZWK GKARW GTDPR GGZZH DPXBK DPEHG RFPYP XKPFZ OZYPR YZGTP DGTPQ RWFZG TDPRG PYZHD GDRLK YIDZH GPFMP YPPLG ZKYLH APGTP XGZMZ DVGZI PGTPD MTKWP BDPJP YGKYI GTPXO DZXOZ DXKYI RBZMP DEWZA RIRKY FGZHD KYGPD PFGZH DXZFG KXBZD GRYGM PRBZY KYGTK FKFAZ YOHFK ZYRYL XKWLL KFGDH FGGTP EPFGZ HGAZX PMZHW LEPGZ PYAZH DRIPR LQFOH YAGKZ YRWRW WKRYA PEPGM PPYRW WGTDP PGTRG XRVPF KGTRD LOZDG TPPXB PDZDF GZOKI TGZYP RYZGT PDZDH FRYLK YGTPZ GGZXR YADKF KFKGT KYVKF PYFPR YZBBZ DGHYK GQGZL ZUHFG GTRG\"\"\""
   ]
  },
  {
   "cell_type": "code",
   "execution_count": 9,
   "metadata": {},
   "outputs": [
    {
     "name": "stdout",
     "output_type": "stream",
     "text": [
      "P: 152 (12.84%) G: 136 (11.49%) Z: 112 (9.46%) R: 93 (7.85%) D: 88 (7.43%)\n",
      "Y: 87 (7.35%) K: 76 (6.42%) F: 66 (5.57%) T: 62 (5.24%) W: 46 (3.89%)\n",
      "H: 38 (3.21%) A: 30 (2.53%) L: 30 (2.53%) I: 27 (2.28%) X: 26 (2.20%)\n",
      "M: 22 (1.86%) O: 22 (1.86%) B: 21 (1.77%) Q: 18 (1.52%) E: 12 (1.01%)\n",
      "V: 10 (0.84%) J:  8 (0.68%) U:  2 (0.17%) \n",
      "-----\n"
     ]
    }
   ],
   "source": [
    "from collections import Counter\n",
    "\n",
    "# Takes a string or list of items and counts the frequencies of those items\n",
    "# data: The list or string to analyse\n",
    "# max_values: The maximum number of values to display (set to None for no limit)\n",
    "# no_columns: The amount of columns to use in the output\n",
    "def frequency_analysis(data, max_values=30, no_columns=5):\n",
    "    frequencies = Counter()\n",
    "    for item in data:\n",
    "        frequencies[item] += 1\n",
    "    \n",
    "    total = sum(frequencies.values())\n",
    "    column = 1\n",
    "    for item, frequency in frequencies.most_common(max_values):\n",
    "        print(f\"{item}: {frequency:2} ({frequency / total:.2%})\", end=\" \" if column % no_columns else \"\\n\")\n",
    "        column += 1\n",
    "    print(\"\\n-----\")\n",
    "   \n",
    "squished = message4b.replace(\" \", \"\")\n",
    "frequency_analysis(squished)"
   ]
  },
  {
   "cell_type": "code",
   "execution_count": 11,
   "metadata": {},
   "outputs": [
    {
     "name": "stdout",
     "output_type": "stream",
     "text": [
      "AhRDWeFKFDKIhtthethDeRtFtZtheeRFtRDeIDZMKYIEQtheLRQKYtheFZHtheDYDeIKZYtheZttZXRYFRDeDeFtWeFFRYLKYtheYZDththethDeeeXBeDZDFRDeRIDZMKYIthDeRttZZHDKYOWHeYAetheOZDeKIYZOOKAeFeeXBRDRWQFeLOZAHFFeLeYtKDeWQZYOZDXKYIRWWKRYAeFRYLHYREWetZLeteDXKYetheKDEeFtFtDRteIQKthKYVtheQRDeXKFtRVeYKYtheKDZHtWZZVtheQOZAHFtZZXHAhZYtDeRtKeFRYLYZteYZHIhZYDeRWBZWKtKVRFJZYDZAhRHMDZtetheWRMZOBZMeDIZJeDYFtheMZDWLZOFtRteFUHFtRFtheWRMZOIDRJKtQIZJeDYFtheBhQFKARWMZDWLRYLMeRDeBeDhRBFtZZXHAhKYAWKYeLtZZJeDWZZVtheDeRWXKIhtZOtheXZDeBZMeDOHWRYLtheKYeJKtREKWKtQZOKtFBZWKtKARWKYOWHeYAeZHDtRFVYZMKFYZttZAhZZFeRORJZHDeLBRDtYeDtZAZYtDZWtheZtheDFthRtMRQDKFVFMRDRYRWWKRYAeMKWWeYAZHDRIeRAZHYteDRWWKRYAeRYLRLRYIeDZHFeFARWRtKZYKYFteRLZHDFtDRteIQFhZHWLEetZXRKYtRKYRYRLXKtteLWQHYeRFQBeRAeEetMeeYtheeXBeDZDFtZIetheDtheQRDetheEKIIeFtBZWKtKARWthDeRttZZHDeXBKDeEHtRFeYeXKeFZOZYeRYZtheDtheQRWFZthDeRteYZHDtDRLKYIDZHteFMeYeeLtZKYLHAetheXtZMZDVtZIetheDMhKWeBDeJeYtKYItheXODZXOZDXKYIRBZMeDEWZARIRKYFtZHDKYteDeFtZHDXZFtKXBZDtRYtMeRBZYKYthKFKFAZYOHFKZYRYLXKWLLKFtDHFttheEeFtZHtAZXeMZHWLEetZeYAZHDRIeRLQFOHYAtKZYRWRWWKRYAeEetMeeYRWWthDeethRtXRVeFKthRDLOZDtheeXBeDZDFtZOKIhtZYeRYZtheDZDHFRYLKYtheZttZXRYADKFKFKthKYVKFeYFeRYZBBZDtHYKtQtZLZUHFtthRt\n"
     ]
    }
   ],
   "source": [
    "# Probably substitution cipher again\n",
    "# Lots of instances of \"GTP\", so lets go for T=h\n",
    "decode(squished, \"ABCDEFtHIJKLMNOeQRShUVWXYZ\")"
   ]
  },
  {
   "cell_type": "code",
   "execution_count": 14,
   "metadata": {},
   "outputs": [
    {
     "name": "stdout",
     "output_type": "stream",
     "text": [
      "AhaDWeFKFDKIhtthethDeatFtotheeaFtaDeIDoMKnIEQtheLaQKntheFoHtheDnDeIKontheottomanFaDeDeFtWeFFanLKnthenoDththethDeeemBeDoDFaDeaIDoMKnIthDeattooHDKnOWHenAetheOoDeKInoOOKAeFeemBaDaWQFeLOoAHFFeLentKDeWQonOoDmKnIaWWKanAeFanLHnaEWetoLeteDmKnetheKDEeFtFtDateIQKthKnVtheQaDemKFtaVenKntheKDoHtWooVtheQOoAHFtoomHAhontDeatKeFanLnotenoHIhonDeaWBoWKtKVaFJonDoAhaHMDotetheWaMoOBoMeDIoJeDnFtheMoDWLoOFtateFUHFtaFtheWaMoOIDaJKtQIoJeDnFtheBhQFKAaWMoDWLanLMeaDeBeDhaBFtoomHAhKnAWKneLtooJeDWooVtheDeaWmKIhtoOthemoDeBoMeDOHWanLtheKneJKtaEKWKtQoOKtFBoWKtKAaWKnOWHenAeoHDtaFVnoMKFnottoAhooFeaOaJoHDeLBaDtneDtoAontDoWtheotheDFthatMaQDKFVFMaDanaWWKanAeMKWWenAoHDaIeaAoHnteDaWWKanAeanLaLanIeDoHFeFAaWatKonKnFteaLoHDFtDateIQFhoHWLEetomaKntaKnanaLmKtteLWQHneaFQBeaAeEetMeentheemBeDoDFtoIetheDtheQaDetheEKIIeFtBoWKtKAaWthDeattooHDemBKDeEHtaFenemKeFoOoneanotheDtheQaWFothDeatenoHDtDaLKnIDoHteFMeneeLtoKnLHAethemtoMoDVtoIetheDMhKWeBDeJentKnIthemODomOoDmKnIaBoMeDEWoAaIaKnFtoHDKnteDeFtoHDmoFtKmBoDtantMeaBonKnthKFKFAonOHFKonanLmKWLLKFtDHFttheEeFtoHtAomeMoHWLEetoenAoHDaIeaLQFOHnAtKonaWaWWKanAeEetMeenaWWthDeethatmaVeFKthaDLOoDtheemBeDoDFtoOKIhtoneanotheDoDHFanLKntheottomanADKFKFKthKnVKFenFeanoBBoDtHnKtQtoLoUHFtthat\n"
     ]
    }
   ],
   "source": [
    "# \"thRt\" -> R=a\n",
    "# \"theZttZXRY\" -> Z=o, X=m, Y=n (guessing \"the Ottoman\")\n",
    "decode(squished, \"ABCDEFtHIJKLMNOeQaShUVWmno\")"
   ]
  },
  {
   "cell_type": "code",
   "execution_count": 15,
   "metadata": {},
   "outputs": [
    {
     "name": "stdout",
     "output_type": "stream",
     "text": [
      "AharWesKsrKIhtthethreatstotheeastareIroMKnIEQtheLaQKnthesoHthernreIKontheottomansarerestWessanLKnthenorththethreeemBerorsareaIroMKnIthreattooHrKnOWHenAetheOoreKInoOOKAeseemBaraWQseLOoAHsseLentKreWQonOormKnIaWWKanAesanLHnaEWetoLetermKnetheKrEeststrateIQKthKnVtheQaremKstaVenKntheKroHtWooVtheQOoAHstoomHAhontreatKesanLnotenoHIhonreaWBoWKtKVasJonroAhaHMrotetheWaMoOBoMerIoJernstheMorWLoOstatesUHstastheWaMoOIraJKtQIoJernstheBhQsKAaWMorWLanLMeareBerhaBstoomHAhKnAWKneLtooJerWooVthereaWmKIhtoOthemoreBoMerOHWanLtheKneJKtaEKWKtQoOKtsBoWKtKAaWKnOWHenAeoHrtasVnoMKsnottoAhooseaOaJoHreLBartnertoAontroWtheothersthatMaQrKsVsMaranaWWKanAeMKWWenAoHraIeaAoHnteraWWKanAeanLaLanIeroHsesAaWatKonKnsteaLoHrstrateIQshoHWLEetomaKntaKnanaLmKtteLWQHneasQBeaAeEetMeentheemBerorstoIethertheQaretheEKIIestBoWKtKAaWthreattooHremBKreEHtasenemKesoOoneanothertheQaWsothreatenoHrtraLKnIroHtesMeneeLtoKnLHAethemtoMorVtoIetherMhKWeBreJentKnIthemOromOormKnIaBoMerEWoAaIaKnstoHrKnterestoHrmostKmBortantMeaBonKnthKsKsAonOHsKonanLmKWLLKstrHsttheEestoHtAomeMoHWLEetoenAoHraIeaLQsOHnAtKonaWaWWKanAeEetMeenaWWthreethatmaVesKtharLOortheemBerorstoOKIhtoneanotherorHsanLKntheottomanArKsKsKthKnVKsenseanoBBortHnKtQtoLoUHstthat\n"
     ]
    }
   ],
   "source": [
    "# \"thDeatF\" -> D=r, F=s\n",
    "decode(squished, \"ABCrEstHIJKLMNOeQaShUVWmno\")"
   ]
  },
  {
   "cell_type": "code",
   "execution_count": 16,
   "metadata": {},
   "outputs": [
    {
     "name": "stdout",
     "output_type": "stream",
     "text": [
      "AharWesisrightthethreatstotheeastaregroMingEQtheLaQinthesouthernregiontheottomansarerestWessanLinthenorththethreeemperorsareagroMingthreattoourinOWuenAetheOoreignoOOiAeseemparaWQseLOoAusseLentireWQonOormingaWWianAesanLunaEWetoLeterminetheirEeststrategQithinVtheQaremistaVenintheiroutWooVtheQOoAustoomuAhontreatiesanLnotenoughonreaWpoWitiVasJonroAhauMrotetheWaMoOpoMergoJernstheMorWLoOstatesUustastheWaMoOgraJitQgoJernsthephQsiAaWMorWLanLMeareperhapstoomuAhinAWineLtooJerWooVthereaWmightoOthemorepoMerOuWanLtheineJitaEiWitQoOitspoWitiAaWinOWuenAeourtasVnoMisnottoAhooseaOaJoureLpartnertoAontroWtheothersthatMaQrisVsMaranaWWianAeMiWWenAourageaAounteraWWianAeanLaLangerousesAaWationinsteaLourstrategQshouWLEetomaintainanaLmitteLWQuneasQpeaAeEetMeentheemperorstogethertheQaretheEiggestpoWitiAaWthreattoourempireEutasenemiesoOoneanothertheQaWsothreatenourtraLingroutesMeneeLtoinLuAethemtoMorVtogetherMhiWepreJentingthemOromOormingapoMerEWoAagainstourinterestourmostimportantMeaponinthisisAonOusionanLmiWLListrusttheEestoutAomeMouWLEetoenAourageaLQsOunAtionaWaWWianAeEetMeenaWWthreethatmaVesitharLOortheemperorstoOightoneanotherorusanLintheottomanArisisithinVisenseanopportunitQtoLoUustthat\n"
     ]
    }
   ],
   "source": [
    "# \"KnthesoHthernreIKon\" -> K=i, H=u, I=g\n",
    "# \"thethreeemBerorsarea\" -> B=p\n",
    "decode(squished, \"ApCrEstugJiLMNOeQaShUVWmno\")"
   ]
  },
  {
   "cell_type": "code",
   "execution_count": 17,
   "metadata": {},
   "outputs": [
    {
     "name": "stdout",
     "output_type": "stream",
     "text": [
      "AharlesisrightthethreatstotheeastaregrowingbythedayinthesouthernregiontheottomansarerestlessandinthenorththethreeemperorsareagrowingthreattoourinOluenAetheOoreignoOOiAeseemparalysedOoAussedentirelyonOormingallianAesandunabletodeterminetheirbeststrategyithinktheyaremistakenintheiroutlooktheyOoAustoomuAhontreatiesandnotenoughonrealpolitikasJonroAhauwrotethelawoOpowergoJernstheworldoOstatesjustasthelawoOgraJitygoJernsthephysiAalworldandweareperhapstoomuAhinAlinedtooJerlooktherealmightoOthemorepowerOulandtheineJitabilityoOitspolitiAalinOluenAeourtasknowisnottoAhooseaOaJouredpartnertoAontroltheothersthatwayriskswaranallianAewillenAourageaAounterallianAeandadangerousesAalationinsteadourstrategyshouldbetomaintainanadmittedlyuneasypeaAebetweentheemperorstogethertheyarethebiggestpolitiAalthreattoourempirebutasenemiesoOoneanothertheyalsothreatenourtradingroutesweneedtoinduAethemtoworktogetherwhilepreJentingthemOromOormingapowerbloAagainstourinterestourmostimportantweaponinthisisAonOusionandmilddistrustthebestoutAomewouldbetoenAourageadysOunAtionalallianAebetweenallthreethatmakesithardOortheemperorstoOightoneanotherorusandintheottomanArisisithinkisenseanopportunitytodojustthat\n"
     ]
    }
   ],
   "source": [
    "# \"groMing\" -> M=w\n",
    "# \"toLeterminetheirEeststrategQ\" -> L=d, E=b, Q=y\n",
    "# \"ithinV\" -> V=k\n",
    "# \"outWooV\" => W=l\n",
    "# U=j (fits pattern)\n",
    "decode(squished, \"ApCrbstugJidwNOeyaShjklmno\")"
   ]
  },
  {
   "cell_type": "code",
   "execution_count": 18,
   "metadata": {},
   "outputs": [
    {
     "name": "stdout",
     "output_type": "stream",
     "text": [
      "charlesisrightthethreatstotheeastaregrowingbythedayinthesouthernregiontheottomansarerestlessandinthenorththethreeemperorsareagrowingthreattoourinfluencetheforeignofficeseemparalysedfocussedentirelyonformingalliancesandunabletodeterminetheirbeststrategyithinktheyaremistakenintheiroutlooktheyfocustoomuchontreatiesandnotenoughonrealpolitikasvonrochauwrotethelawofpowergovernstheworldofstatesjustasthelawofgravitygovernsthephysicalworldandweareperhapstoomuchinclinedtooverlooktherealmightofthemorepowerfulandtheinevitabilityofitspoliticalinfluenceourtasknowisnottochooseafavouredpartnertocontroltheothersthatwayriskswaranalliancewillencourageacounterallianceandadangerousescalationinsteadourstrategyshouldbetomaintainanadmittedlyuneasypeacebetweentheemperorstogethertheyarethebiggestpoliticalthreattoourempirebutasenemiesofoneanothertheyalsothreatenourtradingroutesweneedtoinducethemtoworktogetherwhilepreventingthemfromformingapowerblocagainstourinterestourmostimportantweaponinthisisconfusionandmilddistrustthebestoutcomewouldbetoencourageadysfunctionalalliancebetweenallthreethatmakesithardfortheemperorstofightoneanotherorusandintheottomancrisisithinkisenseanopportunitytodojustthat\n"
     ]
    }
   ],
   "source": [
    "# \"Aharles\" -> A=c\n",
    "# \"inOluenAe\" -> O=f\n",
    "# \"graJity\" -> J=v\n",
    "decode(squished, \"cpCrbstugvidwNfeyaShjklmno\")"
   ]
  },
  {
   "cell_type": "markdown",
   "metadata": {},
   "source": [
    "### Edited for clarity\n",
    "\n",
    "Charles is right, the threats to the east are growing by the day. In the southern region, the Ottomans are restless and in the north, the three emperors are a growing threat to our influence.<br/>\n",
    "The Foreign Office seem paralysed, focussed entirely on forming alliances and, unable to determine their best strategy, I think they are mistaken in their outlook. They focus too much on treaties and not enough on realpolitik. As Von Rochau wrote, the law of power governs the world of states, just as the law of gravity governs the physical world and we are perhaps too much inclined to overlook the real might of the more powerful and the inevitability of its political influence<br/>\n",
    "Our task now is not to choose a favoured partner to control the others. That way risks war. An alliance will encourage a counter-alliance and a dangerous escalation.<br/>\n",
    "Instead, our strategy should be to maintain an admittedly uneasy peace between the emperors.  Together they are the biggest political threat to our empire, but as enemies of one another they also threaten our trading routes. We need to induce them to work together, while preventing them from forming a power bloc against our interest.<br/>\n",
    "Our most important weapon in this is confusion and mild distrust. The best outcome would be to encourage a dysfunctional alliance between all three that makes it hard for the emperors to fight one another (or us) and in the Ottoman crisis I think I sense an opportunity to do just that."
   ]
  },
  {
   "cell_type": "code",
   "execution_count": 19,
   "metadata": {},
   "outputs": [
    {
     "name": "stdout",
     "output_type": "stream",
     "text": [
      "Decoded alphabet: realpoitkuvwxyzbcdfghjmnqs\n",
      "Keyword: realpoitku\n"
     ]
    }
   ],
   "source": [
    "decode_key(\"cpqrbstugvidwxfeyazhjklmno\")"
   ]
  },
  {
   "cell_type": "code",
   "execution_count": null,
   "metadata": {},
   "outputs": [],
   "source": []
  }
 ],
 "metadata": {
  "kernelspec": {
   "display_name": "Python 3",
   "language": "python",
   "name": "python3"
  },
  "language_info": {
   "codemirror_mode": {
    "name": "ipython",
    "version": 3
   },
   "file_extension": ".py",
   "mimetype": "text/x-python",
   "name": "python",
   "nbconvert_exporter": "python",
   "pygments_lexer": "ipython3",
   "version": "3.8.3"
  }
 },
 "nbformat": 4,
 "nbformat_minor": 4
}
