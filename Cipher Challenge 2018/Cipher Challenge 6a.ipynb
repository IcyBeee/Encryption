{
 "cells": [
  {
   "cell_type": "markdown",
   "metadata": {},
   "source": [
    "# Cipher Challenge 2018\n",
    "## Challenge 6a"
   ]
  },
  {
   "cell_type": "code",
   "execution_count": 1,
   "metadata": {},
   "outputs": [],
   "source": [
    "message6a = \"\"\"WJONH TNGYN CTTKH JQWCJ VIHVN TDONG UVWMI AKJNJ ZINHJ WVNTL DKCTW JJVIH VIZMI HBNGU VITDL LWCJD JVISZ DDBNC TBDHJ DLJVI BOIGI IBEJQ JVDKS VJVIG IONHJ VIDUU NHWDC NZADP DLENE IGHBN GYITH NOVWU VVNTU ZINGZ QAIIC LDGSD JJICW CJVIB DMIJV IQODK ZTAIW CJIGI HJWCS JDGIN TZNJI GAKJC DJVWC SWCJV IBZDD YITWB EDGJN CJICD KSVJD VNMII PUWJI TBQUD UDCHE WGNJD GOVDI MIGJV NJBWS VJAIW JODKZ TVNMI AIICI NHQJD SIJTW HUDKG NSITA KJWCI ITITJ DGIUD MIGJV IZWTN GHDWU NGGWI TDCHI NGUVW CSLDG JVIUV WBCIQ WIMIC JKNZZ QLDKC TWJNJ JVIAN UYDLJ VIHJN UYHAK JJVIG IONHC DHWSC DLJVI ZWTNG DGDLN CQTWH JKGAN CUIJD HKSSI HJWJV NTLNZ ZICJV NJLNG HDWSK IHHIT WJBWS VJVNM ISDJU NKSVJ DCNZI TSIVW SVIGK ELDGJ KCNJI ZQJVI UVWBC IQONH LNWGZ QOWTI AKJCD JHDOW TIJVN JWUDK ZTCJA GWTSI WJNCT NZZJV DHIVD KGHDC JVIUZ WBAWC SONZZ ENWTD LLNHW UZWBA ITKEZ DDYWC SLDGJ VIZDH JBNUV WCINH WHKHE IUJIT WJVNT UNKSV JDCDC IDLJV IZITS IHTIH WSCIT JDUNJ UVGNW CHDWB NTIGI NTQJD ZDOIG WJANU YTDOC AKJNH WBDMI TZDDH IAGWU YHJDH JINTQ BQHIZ LENGJ DLJVI WCCIG ONZZU DZZNE HITNC TJDBQ NBNRI BICJW LDKCT BQHIZ LHJNG WCSWC JDNUD CJGDZ GDDBW JONHM IGQXK ZIHMI GCINC TODKZ TCJVN MIZDD YITDK JDLEZ NUIDC JVIAG WTSID LJVIC NKJWZ KHWJB KHJVN MIAII CUKJJ WCSIT SIJIU VCDZD SQDCU INZZA GNHHN CTEDZ WHVIT WCHJG KBICJ HJVIG IONHN BNEDC JVION ZZUDM IGITW CHBNZ ZAKZA HJVNJ WNHHK BITOD KZTVN MIZWJ KEJDH WSCWL QNUJW MWJQN CTNAN CYDLL WCICW CIJII CJVUI CJKGQ JIZIS GNEVB NUVWC IHWCE DZWHV ITONZ CKJKC ZIHHW ONHBW HJNYI CWVNT LDKCT TDKSZ NHAZN UYHUD BBNCT UICJG IKCTI GNZNG SIUWG UKZNG DNYJN AZIWC JVIUI CJGID LJVIG DDBJV IGION HNLWZ WCSHQ HJIBO WJVTG NOIGH UDCJN WCWCS BNEHD LIMIG QCNJW DCNCT JVIJN AZIUD KZTAI JKGCI TZWYI NGIHJ NKGNC JZNRQ HKHNC JVION ZZHOI GIZWC ITOWJ VAGNH HADKC TZITS IGHNC TLDZT IGHBN GYITO WJVOV NJZDD YITZW YIBWH HWDCU DTICN BIHWC NBDCS HJJVI BONHJ VIBDH JNBNR WCSLW CTAZN UYHUD TIADD YWJUD CJNWC ITNCK BAIGD LYIQH NCTAI HJDLN ZZNZW HJDLU WEVIG HNCTO VICNC TVDOJ VIQHV DKZTA IKHIT WJODK ZTAIO DGJVN LDGJK CIDCJ VIAWA ZWDEV WZIAZ NUYBN GYIJA KJWTW TCJLI IZZWY IHIZZ WCSWJ VNGGQ BWSVJ AIWCJ IGIHJ ITWLD CZQLD GVWHJ DGWUN ZGINH DCHAK JWLCD JJVIC JVWHO DKZTL WCTNV DBIWC BQDOC EGWMN JIUDZ ZIUJW DCWJD DYNHI NJAQJ VIJIZ ISGNE VNCTE KJBQL IIJKE DEICW CSJVI UDTIA DDYNJ GNCTD BJDGI NTNHO WJVJV IJVGI IIBEI GDGHD EIGNJ WDCWJ BNQAI CIUIH HNGQJ DICVN CUIDE IGNJW DCNZH IUKGW JQTKG WCSJV IDEIG NJWDC WJHIZ LWCJV NJUNH IOIBD MITLG DBEKG IZQZI JJIGH KAHJW JKJWD CUGQE JDSGN BHJDJ GNCHE DHWJW DCUWE VIGHN CTNJJ VIKGS WCSDL ANGDC EZNQL NWGDJ VIGBD GIUDB EZWUN JITUW EVIGH ZWYIJ VIMWS ICIGI NCTEZ NQLNW GUWEV IGHNC TMNGW NCJHK EDCJV IBWON HUDBE ZIJIZ QWBBI GHITW COVNJ WONHG INTWC SNCTJ VICWJ VWJBI\"\"\"\n",
    "\n",
    "squished = message6a.replace(\" \", \"\")"
   ]
  },
  {
   "cell_type": "code",
   "execution_count": 2,
   "metadata": {},
   "outputs": [
    {
     "name": "stdout",
     "output_type": "stream",
     "text": [
      "I: 254 (11.55%) J: 208 (9.45%) N: 183 (8.32%) D: 169 (7.68%) W: 157 (7.14%)\n",
      "C: 151 (6.86%) H: 122 (5.55%) G: 115 (5.23%) V: 113 (5.14%) Z: 104 (4.73%)\n",
      "T: 103 (4.68%) K: 68 (3.09%) U: 68 (3.09%) B: 63 (2.86%) L: 49 (2.23%)\n",
      "S: 49 (2.23%) A: 47 (2.14%) O: 43 (1.95%) Q: 40 (1.82%) E: 40 (1.82%)\n",
      "Y: 26 (1.18%) M: 22 (1.00%) R:  3 (0.14%) P:  2 (0.09%) X:  1 (0.05%)\n",
      "\n",
      "-----\n"
     ]
    }
   ],
   "source": [
    "from collections import Counter\n",
    "\n",
    "# Takes a string or list of items and counts the frequencies of those items\n",
    "# data: The list or string to analyse\n",
    "# max_values: The maximum number of values to display (set to None for no limit)\n",
    "# no_columns: The amount of columns to use in the output\n",
    "def frequency_analysis(data, max_values=30, no_columns=5):\n",
    "    frequencies = Counter()\n",
    "    for item in data:\n",
    "        frequencies[item] += 1\n",
    "    \n",
    "    total = sum(frequencies.values())\n",
    "    column = 1\n",
    "    for item, frequency in frequencies.most_common(max_values):\n",
    "        print(f\"{item}: {frequency:2} ({frequency / total:.2%})\", end=\" \" if column % no_columns else \"\\n\")\n",
    "        column += 1\n",
    "    print(\"\\n-----\")\n",
    "\n",
    "frequency_analysis(squished)"
   ]
  },
  {
   "cell_type": "code",
   "execution_count": 3,
   "metadata": {},
   "outputs": [
    {
     "name": "stdout",
     "output_type": "stream",
     "text": [
      "WtONHTNGYNCTTKHtQWCtVeHVNTDONGUVWMeAKtNtZeNHtWVNTLDKCTWttVeHVeZMeHBNGUVeTDLLWCtDtVeSZDDBNCTBDHtDLtVeBOeGeeBEtQtVDKSVtVeGeONHtVeDUUNHWDCNZADPDLENEeGHBNGYeTHNOVWUVVNTUZeNGZQAeeCLDGSDtteCWCtVeBDMetVeQODKZTAeWCteGeHtWCStDGeNTZNteGAKtCDtVWCSWCtVeBZDDYeTWBEDGtNCteCDKSVtDVNMeePUWteTBQUDUDCHEWGNtDGOVDeMeGtVNtBWSVtAeWtODKZTVNMeAeeCeNHQtDSetTWHUDKGNSeTAKtWCeeTeTtDGeUDMeGtVeZWTNGHDWUNGGWeTDCHeNGUVWCSLDGtVeUVWBCeQWeMeCtKNZZQLDKCTWtNttVeANUYDLtVeHtNUYHAKttVeGeONHCDHWSCDLtVeZWTNGDGDLNCQTWHtKGANCUetDHKSSeHtWtVNTLNZZeCtVNtLNGHDWSKeHHeTWtBWSVtVNMeSDtUNKSVtDCNZeTSeVWSVeGKELDGtKCNteZQtVeUVWBCeQONHLNWGZQOWTeAKtCDtHDOWTetVNtWUDKZTCtAGWTSeWtNCTNZZtVDHeVDKGHDCtVeUZWBAWCSONZZENWTDLLNHWUZWBAeTKEZDDYWCSLDGtVeZDHtBNUVWCeNHWHKHEeUteTWtVNTUNKSVtDCDCeDLtVeZeTSeHTeHWSCeTtDUNtUVGNWCHDWBNTeGeNTQtDZDOeGWtANUYTDOCAKtNHWBDMeTZDDHeAGWUYHtDHteNTQBQHeZLENGtDLtVeWCCeGONZZUDZZNEHeTNCTtDBQNBNReBeCtWLDKCTBQHeZLHtNGWCSWCtDNUDCtGDZGDDBWtONHMeGQXKZeHMeGCeNCTODKZTCtVNMeZDDYeTDKtDLEZNUeDCtVeAGWTSeDLtVeCNKtWZKHWtBKHtVNMeAeeCUKttWCSeTSeteUVCDZDSQDCUeNZZAGNHHNCTEDZWHVeTWCHtGKBeCtHtVeGeONHNBNEDCtVeONZZUDMeGeTWCHBNZZAKZAHtVNtWNHHKBeTODKZTVNMeZWtKEtDHWSCWLQNUtWMWtQNCTNANCYDLLWCeCWCeteeCtVUeCtKGQteZeSGNEVBNUVWCeHWCEDZWHVeTONZCKtKCZeHHWONHBWHtNYeCWVNTLDKCTTDKSZNHAZNUYHUDBBNCTUeCtGeKCTeGNZNGSeUWGUKZNGDNYtNAZeWCtVeUeCtGeDLtVeGDDBtVeGeONHNLWZWCSHQHteBOWtVTGNOeGHUDCtNWCWCSBNEHDLeMeGQCNtWDCNCTtVetNAZeUDKZTAetKGCeTZWYeNGeHtNKGNCtZNRQHKHNCtVeONZZHOeGeZWCeTOWtVAGNHHADKCTZeTSeGHNCTLDZTeGHBNGYeTOWtVOVNtZDDYeTZWYeBWHHWDCUDTeCNBeHWCNBDCSHttVeBONHtVeBDHtNBNRWCSLWCTAZNUYHUDTeADDYWtUDCtNWCeTNCKBAeGDLYeQHNCTAeHtDLNZZNZWHtDLUWEVeGHNCTOVeCNCTVDOtVeQHVDKZTAeKHeTWtODKZTAeODGtVNLDGtKCeDCtVeAWAZWDEVWZeAZNUYBNGYetAKtWTWTCtLeeZZWYeHeZZWCSWtVNGGQBWSVtAeWCteGeHteTWLDCZQLDGVWHtDGWUNZGeNHDCHAKtWLCDttVeCtVWHODKZTLWCTNVDBeWCBQDOCEGWMNteUDZZeUtWDCWtDDYNHeNtAQtVeteZeSGNEVNCTEKtBQLeetKEDEeCWCStVeUDTeADDYNtGNCTDBtDGeNTNHOWtVtVetVGeeeBEeGDGHDEeGNtWDCWtBNQAeCeUeHHNGQtDeCVNCUeDEeGNtWDCNZHeUKGWtQTKGWCStVeDEeGNtWDCWtHeZLWCtVNtUNHeOeBDMeTLGDBEKGeZQZetteGHKAHtWtKtWDCUGQEtDSGNBHtDtGNCHEDHWtWDCUWEVeGHNCTNttVeKGSWCSDLANGDCEZNQLNWGDtVeGBDGeUDBEZWUNteTUWEVeGHZWYetVeMWSeCeGeNCTEZNQLNWGUWEVeGHNCTMNGWNCtHKEDCtVeBWONHUDBEZeteZQWBBeGHeTWCOVNtWONHGeNTWCSNCTtVeCWtVWtBe\n"
     ]
    }
   ],
   "source": [
    "import string\n",
    "\n",
    "# A simple translation method.\n",
    "# text: The text to translate, in upper case\n",
    "# key: A substitution alphabet, usually in lower case so that the translated characters show up\n",
    "def decode(text, key):\n",
    "    table = str.maketrans(string.ascii_uppercase, key)\n",
    "    print(text.upper().translate(table))\n",
    "\n",
    "decode(squished, \"ABCDEFGHetKLMNOPQRSTUVWXYZ\")"
   ]
  },
  {
   "cell_type": "code",
   "execution_count": 4,
   "metadata": {},
   "outputs": [
    {
     "name": "stdout",
     "output_type": "stream",
     "text": [
      "WtONHTNGYNCTTKHtQWCtheHhNTDONGUhWMeAKtNtZeNHtWhNTLDKCTWttheHheZMeHBNGUheTDLLWCtDtheSZDDBNCTBDHtDLtheBOeGeeBEtQthDKShtheGeONHtheDUUNHWDCNZADPDLENEeGHBNGYeTHNOhWUhhNTUZeNGZQAeeCLDGSDtteCWCtheBDMetheQODKZTAeWCteGeHtWCStDGeNTZNteGAKtCDthWCSWCtheBZDDYeTWBEDGtNCteCDKShtDhNMeePUWteTBQUDUDCHEWGNtDGOhDeMeGthNtBWShtAeWtODKZThNMeAeeCeNHQtDSetTWHUDKGNSeTAKtWCeeTeTtDGeUDMeGtheZWTNGHDWUNGGWeTDCHeNGUhWCSLDGtheUhWBCeQWeMeCtKNZZQLDKCTWtNttheANUYDLtheHtNUYHAKttheGeONHCDHWSCDLtheZWTNGDGDLNCQTWHtKGANCUetDHKSSeHtWthNTLNZZeCthNtLNGHDWSKeHHeTWtBWShthNMeSDtUNKShtDCNZeTSehWSheGKELDGtKCNteZQtheUhWBCeQONHLNWGZQOWTeAKtCDtHDOWTethNtWUDKZTCtAGWTSeWtNCTNZZthDHehDKGHDCtheUZWBAWCSONZZENWTDLLNHWUZWBAeTKEZDDYWCSLDGtheZDHtBNUhWCeNHWHKHEeUteTWthNTUNKShtDCDCeDLtheZeTSeHTeHWSCeTtDUNtUhGNWCHDWBNTeGeNTQtDZDOeGWtANUYTDOCAKtNHWBDMeTZDDHeAGWUYHtDHteNTQBQHeZLENGtDLtheWCCeGONZZUDZZNEHeTNCTtDBQNBNReBeCtWLDKCTBQHeZLHtNGWCSWCtDNUDCtGDZGDDBWtONHMeGQXKZeHMeGCeNCTODKZTCthNMeZDDYeTDKtDLEZNUeDCtheAGWTSeDLtheCNKtWZKHWtBKHthNMeAeeCUKttWCSeTSeteUhCDZDSQDCUeNZZAGNHHNCTEDZWHheTWCHtGKBeCtHtheGeONHNBNEDCtheONZZUDMeGeTWCHBNZZAKZAHthNtWNHHKBeTODKZThNMeZWtKEtDHWSCWLQNUtWMWtQNCTNANCYDLLWCeCWCeteeCthUeCtKGQteZeSGNEhBNUhWCeHWCEDZWHheTONZCKtKCZeHHWONHBWHtNYeCWhNTLDKCTTDKSZNHAZNUYHUDBBNCTUeCtGeKCTeGNZNGSeUWGUKZNGDNYtNAZeWCtheUeCtGeDLtheGDDBtheGeONHNLWZWCSHQHteBOWthTGNOeGHUDCtNWCWCSBNEHDLeMeGQCNtWDCNCTthetNAZeUDKZTAetKGCeTZWYeNGeHtNKGNCtZNRQHKHNCtheONZZHOeGeZWCeTOWthAGNHHADKCTZeTSeGHNCTLDZTeGHBNGYeTOWthOhNtZDDYeTZWYeBWHHWDCUDTeCNBeHWCNBDCSHttheBONHtheBDHtNBNRWCSLWCTAZNUYHUDTeADDYWtUDCtNWCeTNCKBAeGDLYeQHNCTAeHtDLNZZNZWHtDLUWEheGHNCTOheCNCThDOtheQHhDKZTAeKHeTWtODKZTAeODGthNLDGtKCeDCtheAWAZWDEhWZeAZNUYBNGYetAKtWTWTCtLeeZZWYeHeZZWCSWthNGGQBWShtAeWCteGeHteTWLDCZQLDGhWHtDGWUNZGeNHDCHAKtWLCDttheCthWHODKZTLWCTNhDBeWCBQDOCEGWMNteUDZZeUtWDCWtDDYNHeNtAQtheteZeSGNEhNCTEKtBQLeetKEDEeCWCStheUDTeADDYNtGNCTDBtDGeNTNHOWththethGeeeBEeGDGHDEeGNtWDCWtBNQAeCeUeHHNGQtDeChNCUeDEeGNtWDCNZHeUKGWtQTKGWCStheDEeGNtWDCWtHeZLWCthNtUNHeOeBDMeTLGDBEKGeZQZetteGHKAHtWtKtWDCUGQEtDSGNBHtDtGNCHEDHWtWDCUWEheGHNCTNttheKGSWCSDLANGDCEZNQLNWGDtheGBDGeUDBEZWUNteTUWEheGHZWYetheMWSeCeGeNCTEZNQLNWGUWEheGHNCTMNGWNCtHKEDCtheBWONHUDBEZeteZQWBBeGHeTWCOhNtWONHGeNTWCSNCTtheCWthWtBe\n"
     ]
    }
   ],
   "source": [
    "# Looks like V=h from the large number of \"tVe\" trigraphs\n",
    "decode(squished, \"ABCDEFGHetKLMNOPQRSTUhWXYZ\")"
   ]
  },
  {
   "cell_type": "code",
   "execution_count": 5,
   "metadata": {},
   "outputs": [
    {
     "name": "stdout",
     "output_type": "stream",
     "text": [
      "WtOaHTaGYaCTTKHtQWCtheHhaTDOaGUhWMeAKtatZeaHtWhaTLDKCTWttheHheZMeHBaGUheTDLLWCtDtheSZDDBaCTBDHtDLtheBOeGeeBEtQthDKShtheGeOaHtheDUUaHWDCaZADPDLEaEeGHBaGYeTHaOhWUhhaTUZeaGZQAeeCLDGSDtteCWCtheBDMetheQODKZTAeWCteGeHtWCStDGeaTZateGAKtCDthWCSWCtheBZDDYeTWBEDGtaCteCDKShtDhaMeePUWteTBQUDUDCHEWGatDGOhDeMeGthatBWShtAeWtODKZThaMeAeeCeaHQtDSetTWHUDKGaSeTAKtWCeeTeTtDGeUDMeGtheZWTaGHDWUaGGWeTDCHeaGUhWCSLDGtheUhWBCeQWeMeCtKaZZQLDKCTWtattheAaUYDLtheHtaUYHAKttheGeOaHCDHWSCDLtheZWTaGDGDLaCQTWHtKGAaCUetDHKSSeHtWthaTLaZZeCthatLaGHDWSKeHHeTWtBWShthaMeSDtUaKShtDCaZeTSehWSheGKELDGtKCateZQtheUhWBCeQOaHLaWGZQOWTeAKtCDtHDOWTethatWUDKZTCtAGWTSeWtaCTaZZthDHehDKGHDCtheUZWBAWCSOaZZEaWTDLLaHWUZWBAeTKEZDDYWCSLDGtheZDHtBaUhWCeaHWHKHEeUteTWthaTUaKShtDCDCeDLtheZeTSeHTeHWSCeTtDUatUhGaWCHDWBaTeGeaTQtDZDOeGWtAaUYTDOCAKtaHWBDMeTZDDHeAGWUYHtDHteaTQBQHeZLEaGtDLtheWCCeGOaZZUDZZaEHeTaCTtDBQaBaReBeCtWLDKCTBQHeZLHtaGWCSWCtDaUDCtGDZGDDBWtOaHMeGQXKZeHMeGCeaCTODKZTCthaMeZDDYeTDKtDLEZaUeDCtheAGWTSeDLtheCaKtWZKHWtBKHthaMeAeeCUKttWCSeTSeteUhCDZDSQDCUeaZZAGaHHaCTEDZWHheTWCHtGKBeCtHtheGeOaHaBaEDCtheOaZZUDMeGeTWCHBaZZAKZAHthatWaHHKBeTODKZThaMeZWtKEtDHWSCWLQaUtWMWtQaCTaAaCYDLLWCeCWCeteeCthUeCtKGQteZeSGaEhBaUhWCeHWCEDZWHheTOaZCKtKCZeHHWOaHBWHtaYeCWhaTLDKCTTDKSZaHAZaUYHUDBBaCTUeCtGeKCTeGaZaGSeUWGUKZaGDaYtaAZeWCtheUeCtGeDLtheGDDBtheGeOaHaLWZWCSHQHteBOWthTGaOeGHUDCtaWCWCSBaEHDLeMeGQCatWDCaCTthetaAZeUDKZTAetKGCeTZWYeaGeHtaKGaCtZaRQHKHaCtheOaZZHOeGeZWCeTOWthAGaHHADKCTZeTSeGHaCTLDZTeGHBaGYeTOWthOhatZDDYeTZWYeBWHHWDCUDTeCaBeHWCaBDCSHttheBOaHtheBDHtaBaRWCSLWCTAZaUYHUDTeADDYWtUDCtaWCeTaCKBAeGDLYeQHaCTAeHtDLaZZaZWHtDLUWEheGHaCTOheCaCThDOtheQHhDKZTAeKHeTWtODKZTAeODGthaLDGtKCeDCtheAWAZWDEhWZeAZaUYBaGYetAKtWTWTCtLeeZZWYeHeZZWCSWthaGGQBWShtAeWCteGeHteTWLDCZQLDGhWHtDGWUaZGeaHDCHAKtWLCDttheCthWHODKZTLWCTahDBeWCBQDOCEGWMateUDZZeUtWDCWtDDYaHeatAQtheteZeSGaEhaCTEKtBQLeetKEDEeCWCStheUDTeADDYatGaCTDBtDGeaTaHOWththethGeeeBEeGDGHDEeGatWDCWtBaQAeCeUeHHaGQtDeChaCUeDEeGatWDCaZHeUKGWtQTKGWCStheDEeGatWDCWtHeZLWCthatUaHeOeBDMeTLGDBEKGeZQZetteGHKAHtWtKtWDCUGQEtDSGaBHtDtGaCHEDHWtWDCUWEheGHaCTattheKGSWCSDLAaGDCEZaQLaWGDtheGBDGeUDBEZWUateTUWEheGHZWYetheMWSeCeGeaCTEZaQLaWGUWEheGHaCTMaGWaCtHKEDCtheBWOaHUDBEZeteZQWBBeGHeTWCOhatWOaHGeaTWCSaCTtheCWthWtBe\n"
     ]
    }
   ],
   "source": [
    "# lots of \"thNt\" -> N=a\n",
    "decode(squished, \"ABCDEFGHetKLMaOPQRSTUhWXYZ\")"
   ]
  },
  {
   "cell_type": "code",
   "execution_count": 6,
   "metadata": {},
   "outputs": [
    {
     "name": "stdout",
     "output_type": "stream",
     "text": [
      "WtOaHTarYaCTTKHtQWCtheHhaToOarUhWMeAKtatZeaHtWhaTLoKCTWttheHheZMeHmarUheToLLWCtotheSZoomaCTmoHtoLthemOereemptQthoKShthereOaHtheoUUaHWoCaZAoPoLpaperHmarYeTHaOhWUhhaTUZearZQAeeCLorSotteCWCthemoMetheQOoKZTAeWCtereHtWCStoreaTZaterAKtCothWCSWCthemZooYeTWmportaCteCoKShtohaMeePUWteTmQUoUoCHpWratorOhoeMerthatmWShtAeWtOoKZThaMeAeeCeaHQtoSetTWHUoKraSeTAKtWCeeTeTtoreUoMertheZWTarHoWUarrWeToCHearUhWCSLortheUhWmCeQWeMeCtKaZZQLoKCTWtattheAaUYoLtheHtaUYHAKtthereOaHCoHWSCoLtheZWTaroroLaCQTWHtKrAaCUetoHKSSeHtWthaTLaZZeCthatLarHoWSKeHHeTWtmWShthaMeSotUaKShtoCaZeTSehWSherKpLortKCateZQtheUhWmCeQOaHLaWrZQOWTeAKtCotHoOWTethatWUoKZTCtArWTSeWtaCTaZZthoHehoKrHoCtheUZWmAWCSOaZZpaWToLLaHWUZWmAeTKpZooYWCSLortheZoHtmaUhWCeaHWHKHpeUteTWthaTUaKShtoCoCeoLtheZeTSeHTeHWSCeTtoUatUhraWCHoWmaTereaTQtoZoOerWtAaUYToOCAKtaHWmoMeTZooHeArWUYHtoHteaTQmQHeZLpartoLtheWCCerOaZZUoZZapHeTaCTtomQamaRemeCtWLoKCTmQHeZLHtarWCSWCtoaUoCtroZroomWtOaHMerQXKZeHMerCeaCTOoKZTCthaMeZooYeToKtoLpZaUeoCtheArWTSeoLtheCaKtWZKHWtmKHthaMeAeeCUKttWCSeTSeteUhCoZoSQoCUeaZZAraHHaCTpoZWHheTWCHtrKmeCtHthereOaHamapoCtheOaZZUoMereTWCHmaZZAKZAHthatWaHHKmeTOoKZThaMeZWtKptoHWSCWLQaUtWMWtQaCTaAaCYoLLWCeCWCeteeCthUeCtKrQteZeSraphmaUhWCeHWCpoZWHheTOaZCKtKCZeHHWOaHmWHtaYeCWhaTLoKCTToKSZaHAZaUYHUommaCTUeCtreKCTeraZarSeUWrUKZaroaYtaAZeWCtheUeCtreoLtheroomthereOaHaLWZWCSHQHtemOWthTraOerHUoCtaWCWCSmapHoLeMerQCatWoCaCTthetaAZeUoKZTAetKrCeTZWYeareHtaKraCtZaRQHKHaCtheOaZZHOereZWCeTOWthAraHHAoKCTZeTSerHaCTLoZTerHmarYeTOWthOhatZooYeTZWYemWHHWoCUoTeCameHWCamoCSHtthemOaHthemoHtamaRWCSLWCTAZaUYHUoTeAooYWtUoCtaWCeTaCKmAeroLYeQHaCTAeHtoLaZZaZWHtoLUWpherHaCTOheCaCThoOtheQHhoKZTAeKHeTWtOoKZTAeOorthaLortKCeoCtheAWAZWophWZeAZaUYmarYetAKtWTWTCtLeeZZWYeHeZZWCSWtharrQmWShtAeWCtereHteTWLoCZQLorhWHtorWUaZreaHoCHAKtWLCottheCthWHOoKZTLWCTahomeWCmQoOCprWMateUoZZeUtWoCWtooYaHeatAQtheteZeSraphaCTpKtmQLeetKpopeCWCStheUoTeAooYatraCTomtoreaTaHOWththethreeemperorHoperatWoCWtmaQAeCeUeHHarQtoeChaCUeoperatWoCaZHeUKrWtQTKrWCStheoperatWoCWtHeZLWCthatUaHeOemoMeTLrompKreZQZetterHKAHtWtKtWoCUrQptoSramHtotraCHpoHWtWoCUWpherHaCTattheKrSWCSoLAaroCpZaQLaWrothermoreUompZWUateTUWpherHZWYetheMWSeCereaCTpZaQLaWrUWpherHaCTMarWaCtHKpoCthemWOaHUompZeteZQWmmerHeTWCOhatWOaHreaTWCSaCTtheCWthWtme\n"
     ]
    }
   ],
   "source": [
    "# \"thethGeeeBEeGDGH\" -> G=r, B=m, E=p, D=o, H=s (the three emperors again!)\n",
    "decode(squished, \"AmCopFrHetKLMaOPQRSTUhWXYZ\")"
   ]
  },
  {
   "cell_type": "code",
   "execution_count": 8,
   "metadata": {},
   "outputs": [
    {
     "name": "stdout",
     "output_type": "stream",
     "text": [
      "itOaHTarYanTTKHtyintheHhaToOarchiMeAKtatleaHtihaTfoKnTittheHhelMeHmarcheToffintotheSloomanTmoHtofthemOereemptythoKShthereOaHtheoccaHionalAoPofpaperHmarYeTHaOhichhaTclearlyAeenforSotteninthemoMetheyOoKlTAeintereHtinStoreaTlaterAKtnothinSinthemlooYeTimportantenoKShtohaMeePciteTmycoconHpiratorOhoeMerthatmiShtAeitOoKlThaMeAeeneaHytoSetTiHcoKraSeTAKtineeTeTtorecoMertheliTarHoicarrieTonHearchinSforthechimneyieMentKallyfoKnTitattheAacYoftheHtacYHAKtthereOaHnoHiSnoftheliTarorofanyTiHtKrAancetoHKSSeHtithaTfallenthatfarHoiSKeHHeTitmiShthaMeSotcaKShtonaleTSehiSherKpfortKnatelythechimneyOaHfairlyOiTeAKtnotHoOiTethaticoKlTntAriTSeitanTallthoHehoKrHontheclimAinSOallpaiToffaHiclimAeTKplooYinSfortheloHtmachineaHiHKHpecteTithaTcaKShtononeoftheleTSeHTeHiSneTtocatchrainHoimaTereaTytoloOeritAacYToOnAKtaHimoMeTlooHeAricYHtoHteaTymyHelfpartoftheinnerOallcollapHeTanTtomyamaRementifoKnTmyHelfHtarinSintoacontrolroomitOaHMeryXKleHMerneanTOoKlTnthaMelooYeToKtofplaceontheAriTSeofthenaKtilKHitmKHthaMeAeencKttinSeTSetechnoloSyonceallAraHHanTpoliHheTinHtrKmentHthereOaHamapontheOallcoMereTinHmallAKlAHthatiaHHKmeTOoKlThaMelitKptoHiSnifyactiMityanTaAanYoffinenineteenthcentKryteleSraphmachineHinpoliHheTOalnKtKnleHHiOaHmiHtaYenihaTfoKnTToKSlaHAlacYHcommanTcentreKnTeralarSecircKlaroaYtaAleinthecentreoftheroomthereOaHafilinSHyHtemOithTraOerHcontaininSmapHofeMerynationanTthetaAlecoKlTAetKrneTliYeareHtaKrantlaRyHKHantheOallHOerelineTOithAraHHAoKnTleTSerHanTfolTerHmarYeTOithOhatlooYeTliYemiHHioncoTenameHinamonSHtthemOaHthemoHtamaRinSfinTAlacYHcoTeAooYitcontaineTanKmAerofYeyHanTAeHtofallaliHtofcipherHanTOhenanThoOtheyHhoKlTAeKHeTitOoKlTAeOorthafortKneontheAiAliophileAlacYmarYetAKtiTiTntfeelliYeHellinSitharrymiShtAeintereHteTifonlyforhiHtoricalreaHonHAKtifnotthenthiHOoKlTfinTahomeinmyoOnpriMatecollectionitooYaHeatAytheteleSraphanTpKtmyfeetKpopeninSthecoTeAooYatranTomtoreaTaHOiththethreeemperorHoperationitmayAeneceHHarytoenhanceoperationalHecKrityTKrinStheoperationitHelfinthatcaHeOemoMeTfrompKrelyletterHKAHtitKtioncryptoSramHtotranHpoHitioncipherHanTattheKrSinSofAaronplayfairothermorecomplicateTcipherHliYetheMiSenereanTplayfaircipherHanTMariantHKponthemiOaHcompletelyimmerHeTinOhatiOaHreaTinSanTthenithitme\n"
     ]
    }
   ],
   "source": [
    "# \"WmportaCt\" -> W=i, C=n\n",
    "# \"partoLthe\" -> L=f\n",
    "# \"pZaQLaWrUWpher\" -> Z=l, Q=y, U=c (Playfair was mentioned in the last message)\n",
    "decode(squished, \"AmnopFrHetKfMaOPyRSTchiXYl\")"
   ]
  },
  {
   "cell_type": "code",
   "execution_count": 11,
   "metadata": {},
   "outputs": [
    {
     "name": "stdout",
     "output_type": "stream",
     "text": [
      "itwasdarYanddKstyintheshadowarchiMeAKtatleastihadfoKndittheshelMesmarchedoffintotheSloomandmostofthemwereemptythoKShtherewastheoccasionalAoPofpapersmarYedsawhichhadclearlyAeenforSotteninthemoMetheywoKldAeinterestinStoreadlaterAKtnothinSinthemlooYedimportantenoKShtohaMeePcitedmycoconspiratorwhoeMerthatmiShtAeitwoKldhaMeAeeneasytoSetdiscoKraSedAKtineededtorecoMerthelidarsoicarriedonsearchinSforthechimneyieMentKallyfoKnditattheAacYofthestacYsAKttherewasnosiSnofthelidarorofanydistKrAancetosKSSestithadfallenthatfarsoiSKesseditmiShthaMeSotcaKShtonaledSehiSherKpfortKnatelythechimneywasfairlywideAKtnotsowidethaticoKldntAridSeitandallthosehoKrsontheclimAinSwallpaidoffasiclimAedKplooYinSforthelostmachineasisKspectedithadcaKShtononeoftheledSesdesiSnedtocatchrainsoimadereadytoloweritAacYdownAKtasimoMedlooseAricYstosteadymyselfpartoftheinnerwallcollapsedandtomyamaRementifoKndmyselfstarinSintoacontrolroomitwasMeryXKlesMerneandwoKldnthaMelooYedoKtofplaceontheAridSeofthenaKtilKsitmKsthaMeAeencKttinSedSetechnoloSyonceallArassandpolishedinstrKmentstherewasamaponthewallcoMeredinsmallAKlAsthatiassKmedwoKldhaMelitKptosiSnifyactiMityandaAanYoffinenineteenthcentKryteleSraphmachinesinpolishedwalnKtKnlessiwasmistaYenihadfoKnddoKSlasAlacYscommandcentreKnderalarSecircKlaroaYtaAleinthecentreoftheroomtherewasafilinSsystemwithdrawerscontaininSmapsofeMerynationandthetaAlecoKldAetKrnedliYearestaKrantlaRysKsanthewallswerelinedwithArassAoKndledSersandfoldersmarYedwithwhatlooYedliYemissioncodenamesinamonSstthemwasthemostamaRinSfindAlacYscodeAooYitcontainedanKmAerofYeysandAestofallalistofciphersandwhenandhowtheyshoKldAeKseditwoKldAeworthafortKneontheAiAliophileAlacYmarYetAKtididntfeelliYesellinSitharrymiShtAeinterestedifonlyforhistoricalreasonsAKtifnotthenthiswoKldfindahomeinmyownpriMatecollectionitooYaseatAytheteleSraphandpKtmyfeetKpopeninSthecodeAooYatrandomtoreadaswiththethreeemperorsoperationitmayAenecessarytoenhanceoperationalsecKritydKrinStheoperationitselfinthatcasewemoMedfrompKrelylettersKAstitKtioncryptoSramstotranspositionciphersandattheKrSinSofAaronplayfairothermorecomplicatedciphersliYetheMiSenereandplayfairciphersandMariantsKponthemiwascompletelyimmersedinwhatiwasreadinSandthenithitme\n"
     ]
    }
   ],
   "source": [
    "# \"marcheToff\" -> T=d\n",
    "# \"moHtofthemOereempty\" -> H=s, O=w\n",
    "decode(squished, \"AmnopFrsetKfMawPyRSdchiXYl\")"
   ]
  },
  {
   "cell_type": "code",
   "execution_count": 13,
   "metadata": {},
   "outputs": [
    {
     "name": "stdout",
     "output_type": "stream",
     "text": [
      "itwasdarkanddustyintheshadowarchivebutatleastihadfoundittheshelvesmarchedoffintothegloomandmostofthemwereemptythoughtherewastheoccasionalboxofpapersmarkedsawhichhadclearlybeenforgotteninthemovetheywouldbeinterestingtoreadlaterbutnothinginthemlookedimportantenoughtohaveexcitedmycoconspiratorwhoeverthatmightbeitwouldhavebeeneasytogetdiscouragedbutineededtorecoverthelidarsoicarriedonsearchingforthechimneyieventuallyfounditatthebackofthestacksbuttherewasnosignofthelidarorofanydisturbancetosuggestithadfallenthatfarsoiguesseditmighthavegotcaughtonaledgehigherupfortunatelythechimneywasfairlywidebutnotsowidethaticouldntbridgeitandallthosehoursontheclimbingwallpaidoffasiclimbeduplookingforthelostmachineasisuspectedithadcaughtononeoftheledgesdesignedtocatchrainsoimadereadytoloweritbackdownbutasimovedloosebrickstosteadymyselfpartoftheinnerwallcollapsedandtomyamazementifoundmyselfstaringintoacontrolroomitwasveryjulesverneandwouldnthavelookedoutofplaceonthebridgeofthenautilusitmusthavebeencuttingedgetechnologyonceallbrassandpolishedinstrumentstherewasamaponthewallcoveredinsmallbulbsthatiassumedwouldhavelituptosignifyactivityandabankoffinenineteenthcenturytelegraphmachinesinpolishedwalnutunlessiwasmistakenihadfounddouglasblackscommandcentreunderalargecircularoaktableinthecentreoftheroomtherewasafilingsystemwithdrawerscontainingmapsofeverynationandthetablecouldbeturnedlikearestaurantlazysusanthewallswerelinedwithbrassboundledgersandfoldersmarkedwithwhatlookedlikemissioncodenamesinamongstthemwasthemostamazingfindblackscodebookitcontainedanumberofkeysandbestofallalistofciphersandwhenandhowtheyshouldbeuseditwouldbeworthafortuneonthebibliophileblackmarketbutididntfeellikesellingitharrymightbeinterestedifonlyforhistoricalreasonsbutifnotthenthiswouldfindahomeinmyownprivatecollectionitookaseatbythetelegraphandputmyfeetupopeningthecodebookatrandomtoreadaswiththethreeemperorsoperationitmaybenecessarytoenhanceoperationalsecurityduringtheoperationitselfinthatcasewemovedfrompurelylettersubstitutioncryptogramstotranspositionciphersandattheurgingofbaronplayfairothermorecomplicatedcipherslikethevigenereandplayfairciphersandvariantsuponthemiwascompletelyimmersedinwhatiwasreadingandthenithitme\n"
     ]
    }
   ],
   "source": [
    "# \"itwasdarYanddKstyintheshadowarchiMe\" -> Y=k, K=u, M=v\n",
    "# \"ePcited\" -> P=x\n",
    "# \"themostamaRinSfind\" -> R=z, S=g\n",
    "# \"AKtatleast\" -> A=b\n",
    "# Filling in -> F=q, X=j\n",
    "decode(squished, \"bmnopqrsetufvawxyzgdchijkl\")"
   ]
  },
  {
   "cell_type": "markdown",
   "metadata": {},
   "source": [
    "### Edited for clarity\n",
    "It was dark and dusty in the shadow archive, but at least I had found it. The shelves marched off into the gloom and most of them were empty, though there was the occasional box of papers marked \"SA\", which had clearly been forgotten in the move.<br/>\n",
    "They would be interesting to read later, but nothing in them looked important enough to have excited my co-conspirator, whoever that might be. It would have been easy to get discouraged, but I needed to recover the lidar, so I carried on searching for the chimney. I eventually found it at the back of the stacks, but there was no sign of the lidar or of any disturbance to suggest it had fallen that far, so I guessed it might have got caught on a ledge higher up.<br/>\n",
    "Fortunately, the chimney was fairly wide but not so wide that I couldn't bridge it and all those hours on the climbing wall paid off as I climbed up looking for the lost machine. As I suspected, it had caught on one of the ledges designed to catch rain, so I made ready to lower it back down, but as I moved, loose bricks to steady myself, part of the inner wall collapsed and to my amazement, I found myself staring into a control room!<br>\n",
    "It was very \"Jules Verne\" and wouldn't have looked out of place on the bridge of the Nautilus. It must have been cutting-edge technology once - all brass and polished instruments. There was a map on the wall covered in small bulbs that I assumed would have lit up to signify activity and a bank of fine nineteenth century telegraph machines in polished walnut. Unless I was mistaken, I had found Douglas Black's command centre.<br/>\n",
    "Uder a large circular oak table in the centre of the room there was a filing system with drawers containing maps of every nation and the table could be turned like a restaurant lazy Susan. The walls were lined with brass bound ledgers and folders, marked with what looked like mission codenames. In amongst them was the most amazing find: Black's code book. It contained a number of keys and, best of all, a list of ciphers and when and how they should be used.<br/>\n",
    "It would be worth a fortune on the bibliophile black market, but I didn't feel like selling it. Harry might be interested, if only for historical reasons, but if not, then this would find a home in my own private collection.<br/>\n",
    "I took a seat by the telegraph and put my feet up, opening the code book at random to read. As with the three emperors operation, it may be necessary to enhance operational security during the operation itself. In that case, we moved from purely letter substitution cryptograms to transposition ciphers and at the urging of Baron Playfair, other more complicated ciphers like the Vigenere and Playfair ciphers and variants upon them. I was completely immersed in what I was reading and then it hit me."
   ]
  },
  {
   "cell_type": "code",
   "execution_count": 14,
   "metadata": {},
   "outputs": [
    {
     "name": "stdout",
     "output_type": "stream",
     "text": [
      "Decoded alphabet: nautilsvwxyzbcdefghjkmopqr\n",
      "Keyword: nautils\n"
     ]
    }
   ],
   "source": [
    "# Attempts to determine the keyword used for a substition cipher\n",
    "# alphabet: The substitution alphabet\n",
    "def decode_key(alphabet):\n",
    "    decoded_alphabet = \"\"\n",
    "    for letter in string.ascii_lowercase:\n",
    "        decoded_alphabet += chr(alphabet.find(letter) + ord(\"a\"))\n",
    "    print(f\"Decoded alphabet: {decoded_alphabet}\")\n",
    "    \n",
    "    remaining_letters = list(string.ascii_lowercase)\n",
    "    for pos, letter in enumerate(decoded_alphabet):\n",
    "        remaining_letters.remove(letter)\n",
    "        next_letter_index = remaining_letters.index(decoded_alphabet[pos+1])\n",
    "        if decoded_alphabet[pos+1:] == \"\".join(remaining_letters[next_letter_index:] + remaining_letters[:next_letter_index]):\n",
    "            print(f\"Keyword: {decoded_alphabet[:pos+2]}\")\n",
    "            break\n",
    "\n",
    "decode_key(\"bmnopqrsetufvawxyzgdchijkl\")"
   ]
  },
  {
   "cell_type": "code",
   "execution_count": null,
   "metadata": {},
   "outputs": [],
   "source": []
  }
 ],
 "metadata": {
  "kernelspec": {
   "display_name": "Python 3",
   "language": "python",
   "name": "python3"
  },
  "language_info": {
   "codemirror_mode": {
    "name": "ipython",
    "version": 3
   },
   "file_extension": ".py",
   "mimetype": "text/x-python",
   "name": "python",
   "nbconvert_exporter": "python",
   "pygments_lexer": "ipython3",
   "version": "3.8.3"
  }
 },
 "nbformat": 4,
 "nbformat_minor": 4
}
