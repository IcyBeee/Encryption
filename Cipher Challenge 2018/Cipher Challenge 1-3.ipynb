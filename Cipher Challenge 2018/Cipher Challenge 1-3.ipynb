{
 "cells": [
  {
   "cell_type": "markdown",
   "metadata": {},
   "source": [
    "# Cipher Challenge 2018\n",
    "## Practice Tests 1-3"
   ]
  },
  {
   "cell_type": "code",
   "execution_count": 3,
   "metadata": {},
   "outputs": [],
   "source": [
    "# 1a, In the Dark\n",
    "message1a=\"AOL ZPNUZ DLYL ZBIASL, HUK PA AVVR TL H DOPSL AV ZWVA AOLT, IBA NYHKBHSSF P ZAHYALK AV THRL AOLT VBA, HUK SPRL VUL VM AOVZL VSK MHZOPVULK 3K WPJABYLZ, AOHA ZWYPUNZ PUAV MVJBZ DOLU FVB JYVZZ FVBY LFLZ HUK JVBUA AV H OBUKYLK, AOL AYBAO JYFZAHSSPZLK HUK P YLHSPZLK AOHA P OHK ILLU ZLHYJOPUN MVY PA HSS HSVUN. PA DHZU'A AOHA P MVBUK ZVTLAOPUN WHYAPJBSHY. DOHA P UVAPJLK DHZ HJABHSSF HU HIZLUJL, H DOVSL JVSSLJAPVU VM HWWHYLUASF BUYLSHALK AOPUNZ AOHA ZOVBSK OHCL LEPZALK IBA KPKU'A. HUK QBZA HZ P OHK MPNBYLK AOHA VBA, ZVTLVUL, HUK IHJR AOLU P KPKU'A RUVD DOV, DYVAL AV ALSS TL HIVBA PA. AOLF VICPVBZSF OHK H ZLUZL VM AOL KYHTHAPJ, HUK HU LEJLSSLUA ZLUZL VM APTPUN. PM AOLF OHK ZLUA PA AV TL LCLU H MLD KHFZ ILMVYL P DVBSK OHCL HZZBTLK PA DHZ ZVTL RPUK VM JYHGF HKCLYAPZPUN ZABUA, IBA DOLU AOL WVZAJHYK HYYPCLK, PA DHZ PTTLKPHALSF VICPVBZ AV TL DOHA PA YLMLYYLK AV. PA JHYYPLK QBZA AOYLL DVYKZ, HUK PA KLZJYPILK WLYMLJASF AOL TPZZPUN WPLJLZ PU TF WBGGSL. PA QBZA ZHPK: AOL ZOHKVD HYJOPCL.\""
   ]
  },
  {
   "cell_type": "code",
   "execution_count": 4,
   "metadata": {},
   "outputs": [
    {
     "name": "stdout",
     "output_type": "stream",
     "text": [
      "the signs were subtle, and it took me a while to spot them, but gradually i started to make them out, and like one of those old fashioned 3d pictures, that springs into focus when you cross your eyes and count to a hundred, the truth crystallised and i realised that i had been searching for it all along. it wasn't that i found something particular. what i noticed was actually an absence, a whole collection of apparently unrelated things that should have existed but didn't. and just as i had figured that out, someone, and back then i didn't know who, wrote to tell me about it. they obviously had a sense of the dramatic, and an excellent sense of timing. if they had sent it to me even a few days before i would have assumed it was some kind of crazy advertising stunt, but when the postcard arrived, it was immediately obvious to me what it referred to. it carried just three words, and it described perfectly the missing pieces in my puzzle. it just said: the shadow archive.\n"
     ]
    }
   ],
   "source": [
    "# The first exercise is usually a Caesar shift.  Can't see an obvious \"the\".  Try \"P\" as \"i\n",
    "\n",
    "import string\n",
    "\n",
    "# A simple translation method.\n",
    "# text: The text to translate, in upper case\n",
    "# key: A substitution alphabet, usually in lower case so that the translated characters show up\n",
    "def decode(text, key):\n",
    "    table = str.maketrans(string.ascii_uppercase, key)\n",
    "    print(text.upper().translate(table))\n",
    "\n",
    "decode(message1a, \"tuvwxyzabcdefghijklmnopqrs\")"
   ]
  },
  {
   "cell_type": "code",
   "execution_count": 5,
   "metadata": {},
   "outputs": [],
   "source": [
    "# 1b, Jekyll and Hyde\n",
    "message1b= \"\"\"JZFC XLUPDEJ,\n",
    "TE SLD MPPY XJ OPPAPDE AWPLDFCP LYO L RCPLE ACTGTWPRP EZ DPCGP LD JZF ACTGLEP DPNCPELCJ ESPDP WLDE YTYP JPLCD, LYO ESZFRS TE HZFWO MP XJ LCOPYE HTDS EZ NZYETYFP EZ DPCGP JZF ESCZFRSZFE JZFC CPTRY, HP LCP, YZYP ZQ FD, TXXZCELW, LYO XJ ESZFRSED SLGP EFCYPO EZ XJ DFNNPDDZC.\n",
    "JZF LCP ZQ NZFCDP PYETEWPO EZ OTDCPRLCO XJ LOGTNP, SZHPGPC T SLGP RTGPY NZYDTOPCLETZY EZ ESP NSLYRPD TY XJ CZWP ZGPC ESP WLDE DPGPCLW JPLCD. LD JZFC PXATCP SLD RCZHY TY XLRYTQTNPYNP, ZESPCD LNCZDD ZFC NZYETYPYE SLGP RCZHY QCLNETZFD, LYO LY TYNCPLDTYR AZCETZY ZQ XJ ETXP TD DAPYE XLYLRTYR ESP TXALNE ZQ ESPTC BFLCCPWD FAZY ZFC TDWLYO. T SLGP QPWE, LE ETXPD, WTVP DEPASPYDZY'D OC UPVJWW LD T SLGP XLYLRPO JZFC SZFDPSZWO LQQLTCD LYO ESP XZCP AFMWTN LDAPNED ZQ JZFC DELEP. LE ZESPCD T SLGP MPPY ACPDDPO EZ FYOPCELVP ESP CZWP ZQ XC SJOP, QZNFDDTYR XJ CLRP FYOPC RCPLE ACZGZNLETZY QCZX ESP AZHPCD ESLE ESCPLEPY EZ LDDLTW FD. HTES ESPDP CPQWPNETZYD T SLGP NZXP EZ ESP GTPH ESLE ESP ETXP XLJ SLGP NZXP EZ OTDDPNE ESP CZWP ZQ ACTGLEP DPNCPELCJ TYEZ TED EHZ GPCJ DPALCLEP QFYNETZYD.\n",
    "ESP AFMWTN QLNP ZQ ESP CZJLW SZFDPSZWO XFDE ZQ NZFCDP NZYETYFP EZ MP ACPDPYEPO MJ DZXPZYP ZQ RCLNP LYO OTRYTEJ HSZ NLY NZXXLYO ESP NZYQTOPYNP ZQ ESP NZFCETPCD. HP SLGP OTDNFDDPO LE WPYRES HSZ XTRSE QTWW ESLE CZWP HSPY T PGPYEFLWWJ ALDD ZY, LYO T MPWTPGP ESLE HP SLGP LRCPPO EZ TYGTEP AZYDZYMJ EZ TYSPCTE ESLE XLYEWP. SP TD L RZZO XLY LYO HTWW DPCGP JZF HPWW. T HZFWO DFRRPDE ESLE QZC ESP DLVP ZQ NZYETYFTEJ SP NZYETYFPD EZ NLCCJ ESP ETEWP ZQ ACTGLEP DPNCPELCJ LYO HTWW MP SLAAJ EZ ACPALCP STX QZC ESTD CZWP. SZHPGPC ESPCP LCP DZXP LDAPNED ZQ XJ LNETGTETPD ESLE T DFDAPNE ESLE AZYDZYMJ HZFWO DECFRRWP EZ LNNZXAWTDS LYO QZC ESZDP T HZFWO TYGTEP JZF EZ NZYDTOPC L YPH AZDTETZY TY JZFC SZFDPSZWO, ESLE ZQ DPNCPE DPNCPELCJ.\n",
    "TY ESPDP BFLCCPWDZXP ETXPD TE XLJ MP YPNPDDLCJ EZ NZXXTDDTZY LNETZYD ZC PYBFTCTPD ESLE DZXP XTRSE CPRLCO LD MPYPLES ESP OTRYTEJ ZQ ESP NCZHY. ESP DPNCPE DPNCPELCJ NLY, MJ NZYNPLWTYR ESPDP LNETGTETPD, ACPDPCGP ESP CPAFELETZY ZQ JZFC RZGPCYXPYE LD L CPWTLMWP LYO ECFDEHZCESJ ALCETNTALYE TY TYEPCYLETZYLW LQQLTCD, HSTWP LWDZ ACZGTOTYR JZF LYO JZFC XTYTDEPCD HTES ESP HPLAZYD EZ OPQPLE ZFC PYPXTPD. TQ HP DFNNPPO LD T SZAP HP HTWW, ESPY HLCD ZQ ESP QFEFCP XLJ MP HZY HTESZFE L DSZE MPTYR QTCPO.\n",
    "TE TD XJ QPCGPYE SZAP ESLE JZF LRCPP HTES XJ LYLWJDTD LYO ESLE EZRPESPC HP NLY XZGP EZ PDELMWTDS ESP YPH ZQQTNP. T SLGP DPGPCLW YLXPD ESLE T HZFWO SFXMWJ DFRRPDE LD DECZYR NLYOTOLEPD QZC ESP YPH CZWP. LWW LCP RZZO XPY, HTES XTWTELCJ MLNVRCZFYOD LYO L CPAFELETZY QZC SZYZFC ESLE YZ-ZYP NZFWO BFPDETZY. T HTWW MP SLAAJ EZ OTDNFDD ESTD QFCESPC LE JZFC AWPLDFCP.\n",
    "JZFC QLTESQFW DPCGLYE,\n",
    "NSLCWPD RCPJ\"\"\""
   ]
  },
  {
   "cell_type": "code",
   "execution_count": 8,
   "metadata": {},
   "outputs": [
    {
     "name": "stdout",
     "output_type": "stream",
     "text": [
      "your majesty,\n",
      "it has been my deepest pleasure and a great privilege to serve as you private secretary these last nine years, and though it would be my ardent wish to continue to serve you throughout your reign, we are, none of us, immortal, and my thoughts have turned to my successor.\n",
      "you are of course entitled to disregard my advice, however i have given consideration to the changes in my role over the last several years. as your empire has grown in magnificence, others across our continent have grown fractious, and an increasing portion of my time is spent managing the impact of their quarrels upon our island. i have felt, at times, like stephenson's dr jekyll as i have managed your household affairs and the more public aspects of your state. at others i have been pressed to undertake the role of mr hyde, focussing my rage under great provocation from the powers that threaten to assail us. with these reflections i have come to the view that the time may have come to dissect the role of private secretary into its two very separate functions.\n",
      "the public face of the royal household must of course continue to be presented by someone of grace and dignity who can command the confidence of the courtiers. we have discussed at length who might fill that role when i eventually pass on, and i believe that we have agreed to invite ponsonby to inherit that mantle. he is a good man and will serve you well. i would suggest that for the sake of continuity he continues to carry the title of private secretary and will be happy to prepare him for this role. however there are some aspects of my activities that i suspect that ponsonby would struggle to accomplish and for those i would invite you to consider a new position in your household, that of secret secretary.\n",
      "in these quarrelsome times it may be necessary to commission actions or enquiries that some might regard as beneath the dignity of the crown. the secret secretary can, by concealing these activities, preserve the reputation of your government as a reliable and trustworthy participant in international affairs, while also providing you and your ministers with the weapons to defeat our enemies. if we succeed as i hope we will, then wars of the future may be won without a shot being fired.\n",
      "it is my fervent hope that you agree with my analysis and that together we can move to establish the new office. i have several names that i would humbly suggest as strong candidates for the new role. all are good men, with military backgrounds and a reputation for honour that no-one could question. i will be happy to discuss this further at your pleasure.\n",
      "your faithful servant,\n",
      "charles grey\n"
     ]
    }
   ],
   "source": [
    "# Bound to be another Caesar shift.  Try \"T\"->\"i\"\n",
    "decode(message1b, \"pqrstuvwxyzabcdefghijklmno\")"
   ]
  },
  {
   "cell_type": "code",
   "execution_count": 9,
   "metadata": {},
   "outputs": [],
   "source": [
    "# 2a, Through a Glass Darkly\n",
    "\n",
    "message2a=\"\"\"SPML OHK ILLU YLSHAPCLSF KBSS ZPUJL YLABYUPUN MYVT TF DVYR DPAO OHYYF PU AOL TPKKSL LHZA. AOL IYPAPZO SPIYHYF DHZ KLSPNOALK AV NLA PAZ OHUKZ VU AOL YVTHU KPHYF HUK AOL JVSSLJAVY ZLLTLK AV OHCL MVYNVAALU HIVBA TL, THFIL ILJHBZL OHYYF'Z ALHT THKL PA AVV KHUNLYVBZ AV OHUN HYVBUK. P DHZ OHWWF AV ZLAASL IHJR PU AV TF DVYR HA AOL SPIYHYF HUK DHZ PUCVSCLK PU H WYVQLJA AV AYHJR KVDU HUK JHAHSVNBL TPZZPUN KVJBTLUAZ MYVT AOL SHAL UPULALLUAO JLUABYF. AOLF KLAHPSLK MVYLPNU WVSPJF, DOPJO ZVBUKZ KBSS, IBA DPAO CPJAVYPH AHRPUN HU HJAPCL PUALYLZA AOLYL DLYL H SVA VM SLAALYZ ILADLLU KVDUPUN ZAYLLA HUK AOL WHSHJL HUK P DHZ LUQVFPUN ZWFPUN VU MHTVBZ JOHYHJALYZ MYVT OPZAVYF. P YLHSSF MLSA SPRL P DHZ NLAAPUN ZVTL PUZPNOA PUAV OVD AOLF AOVBNOA HUK OVD AOL TVKLYU DVYSK JHTL PUAV ILPUN PU AOHA ABTBSABVBZ WLYPVK.\n",
    "\n",
    "DOPSL P DHZ THPUSF AOLYL AV JOLJR AOL SLAALYZ MVY HBAOLUAPJPAF, P NVA YLHSSF PUCVSCLK PU AYFPUN AV BUKLYZAHUK OVD AOLF HSS MPAALK AVNLAOLY, HUK WHYA VM AOL QVI DHZ AV JYVZZ JOLJR ZAHALTLUAZ PU AOL SLAALYZ DPAO DOHA DL RUVD HJABHSSF OHWWLULK. AOLYL HYL H SVA VM WLVWSL DOV DPSS WHF H SVA VM TVULF AV VDU H SLAALY MYVT H YVFHS, ZV AOL HYJOPCL PZ WSHNBLK DPAO MVYNLYPLZ. ZVTL VM AOLT FVB JHU KLALJA IF HUHSFZPUN AOL WHWLY, VAOLYZ IF AOL DYPAPUN ZAFSL. ZVTL QBZA MHSS VCLY ILJHBZL AOL JVUALUA PZ VBA VM SPUL DPAO VAOLY KVJBTLUAZ, IBA HZ P ZABKPLK AOLT P ILNHU AV YLHSPZL AOHA H UBTILY VM AOLT OPUALK HA LCLUAZ AOHA P JVBSKU'A MPUK PU AOL OPZAVYPJHS YLJVYK. JLYAHPU UHTLZ HWWLHYLK HUK DLYL JSLHYSF PTWVYAHUA, HUK AOLU KPZHWWLHYLK JVTWSLALSF MYVT AYHJL. KPWSVTHAPJ PUJPKLUAZ DLYL TLUAPVULK AOHA ULCLY OHWWLULK HJJVYKPUN AV AOL OPZAVYF IVVRZ. VUL AOPUN FVB SLHYU PU AOPZ IBZPULZZ PZ AOHA AOL JPCPS ZLYCPJL ULCLY SLAZ HUF KLJPZPVU, OVDLCLY ZLJYLA, NV BUYLJVYKLK. VM JVBYZL AOHA TPNOA QBZA OHCL TLHUA AOVZL SLAALYZ HUK KVJBTLUAZ DLYL MHRL, IBA P WYPKL TFZLSM VU ILPUN HU LEJLSSLUA MVYNLY, HUK P DVBSK UVA OHCL ILLU HISL AV WYVKBJL AOLT. AOL WHWLY DHZ YPNOA, AOL PUR DHZ JOLTPJHSSF JVYYLJA HUK HNLK QBZA AOL YPNOA HTVBUA, HUK AOL ZAFSL VM DYPAPUN DHZ AVAHSSF JVUCPUJPUN. HUK P DHZ JVUCPUJLK. JVUCPUJLK AOHA ZVTLDOLYL AOLYL TBZA IL HU HYJOPCL VM NVCLYUTLUA KVJBTLUAZ MYVT AOL WLYPVK AOHA YLJVYKLK HSS VM AOLZL TPZZPUN ZAVYPLZ PU MBSS.\n",
    "\n",
    "AOLU P YLJLPCLK AOL TLZZHNL HIVBA AOL ZOHKVD HYJOPCL. ZVTLVUL LSZL RULD HIVBA PA, HUK OHK DVYRLK VBA AOHA P DHZ OBUAPUN MVY PA AVV. AOL WVZAJHYK KPKU'A OLSW TBJO, IBA AOL LTHPSZ KPK. AOL MPYZA VUL OHK AOL ZBIQLJA SPUL QLRFSS HUK OFKL HUK DHZ LUJYFWALK BZPUN H ZPTWSL JHLZHY ZOPMA AV KPZJVBYHNL JHZBHS PUALYLZA. PA KPKU'A AHRL TL SVUN AV JYHJR PA, HUK AOL UHTLZ HUK KLAHPSZ PA JVUAHPULK THAJOLK AOL NYVDPUN SPZA VM TFZALYPVBZ YLMLYLUJLZ MYVT TF VDU YLZLHYJO. KVBNSHZ ISHJR DHZ JSLHYSF HU PTWVYAHUA MPNBYL, HUK P OHK H MLLSPUN AOHA OL OHK ZVTLAOPUN AV KV DPAO AOL HYJOPCL. AOHA MLLSPUN DHZ JVUMPYTLK IF AOL ZLJVUK LTHPS, ISHJR OLHYA, AOHA P YLJLPCLK SHALY AOHA DLLR. HNHPU PA DHZ LUJYFWALK IBA AOPZ APTL BZPUN HU HMMPUL ZOPMA JPWOLY. PA DHZ JSLHYSF MYVT AOL ZHTL PUKPCPKBHS - HA AOL CLYF SLHZA DOVLCLY DHZ ZLUKPUN TL AOL LTHPSZ OHK H OHIPA VM TPZZPUN AOL SLAALY Y MYVT AOL DVYK \"FVBY\".\n",
    "\n",
    "ZVTLVUL DHZ WSHFPUN NHTLZ DPAO TL, HUK P DHZ TVYL AOHU OHWWF AV QVPU PU.\"\"\""
   ]
  },
  {
   "cell_type": "code",
   "execution_count": 10,
   "metadata": {},
   "outputs": [
    {
     "name": "stdout",
     "output_type": "stream",
     "text": [
      "life had been relatively dull since returning from my work with harry in the middle east. the british library was delighted to get its hands on the roman diary and the collector seemed to have forgotten about me, maybe because harry's team made it too dangerous to hang around. i was happy to settle back in to my work at the library and was involved in a project to track down and catalogue missing documents from the late nineteenth century. they detailed foreign policy, which sounds dull, but with victoria taking an active interest there were a lot of letters between downing street and the palace and i was enjoying spying on famous characters from history. i really felt like i was getting some insight into how they thought and how the modern world came into being in that tumultuous period.\n",
      "\n",
      "while i was mainly there to check the letters for authenticity, i got really involved in trying to understand how they all fitted together, and part of the job was to cross check statements in the letters with what we know actually happened. there are a lot of people who will pay a lot of money to own a letter from a royal, so the archive is plagued with forgeries. some of them you can detect by analysing the paper, others by the writing style. some just fall over because the content is out of line with other documents, but as i studied them i began to realise that a number of them hinted at events that i couldn't find in the historical record. certain names appeared and were clearly important, and then disappeared completely from trace. diplomatic incidents were mentioned that never happened according to the history books. one thing you learn in this business is that the civil service never lets any decision, however secret, go unrecorded. of course that might just have meant those letters and documents were fake, but i pride myself on being an excellent forger, and i would not have been able to produce them. the paper was right, the ink was chemically correct and aged just the right amount, and the style of writing was totally convincing. and i was convinced. convinced that somewhere there must be an archive of government documents from the period that recorded all of these missing stories in full.\n",
      "\n",
      "then i received the message about the shadow archive. someone else knew about it, and had worked out that i was hunting for it too. the postcard didn't help much, but the emails did. the first one had the subject line jekyll and hyde and was encrypted using a simple caesar shift to discourage casual interest. it didn't take me long to crack it, and the names and details it contained matched the growing list of mysterious references from my own research. douglas black was clearly an important figure, and i had a feeling that he had something to do with the archive. that feeling was confirmed by the second email, black heart, that i received later that week. again it was encrypted but this time using an affine shift cipher. it was clearly from the same individual - at the very least whoever was sending me the emails had a habit of missing the letter r from the word \"your\".\n",
      "\n",
      "someone was playing games with me, and i was more than happy to join in.\n"
     ]
    }
   ],
   "source": [
    "# There's lots of \"AOL\" in there, which was \"the\" in 1a\n",
    "decode(message2a, \"tuvwxyzabcdefghijklmnopqrs\")"
   ]
  },
  {
   "cell_type": "code",
   "execution_count": 11,
   "metadata": {},
   "outputs": [],
   "source": [
    "# 2b, Black Heart\n",
    "\n",
    "message2b = \"\"\"GYN OFCNDAG,\n",
    "\n",
    "YZ YG EYZF NAMNAZ ZFCZ Y TYPH WQGADT YP HYGCMNAAWAPZ EYZF QIS RSHMAWAPZ. YZ YG ODACN ZI WA ZFCZ QIS CNA NYMFZ YP IPA NAMCNH, YZ YG ZYWA ZI AGZCVDYGF ZFA ITTYOA IT GAONAZ GAONAZCNQ, CPH ZI ZCKA ZFA GAONAZ ECN ZI ISN APAWYAG. IP IPA GYMPYTYOCPZ BIYPZ FIEALAN, Y HI PIZ CMNAA. ZFYG NIDA YG PIZ GSYZAH ZI MIIH WAP EYZF C NABSZCZYIP TIN FIPISN. QISN GSMMAGZYIPG EISDH VA OCBYZCD YT Y EANA DIIKYPM ZI CBBIYPZ C OFYAT IT GZCTT IN C PAE TINAYMP GAONAZCNQ, FIEALAN ZFA ZCGKG ZFCZ EA VIZF KPIE CNA PAOAGGCNQ YT EA CNA ZI BNIZAOZ CPH AXBCPH ZFA AWBYNA EYDD NAUSYNA C WCP IT CDZIMAZFAN HYTTANAPZ OFCNCOZAN. C NAH VDIIHAH WCP EYZF C VDCOK FACNZ.\n",
    "\n",
    "ZFANA YG IPA WCP EA VIZF KPIE EFI YG APZYNADQ GSYZAH ZI ZFA DAGG OIPMAPYCD CGBAOZG IT WIHANP GZCZAONCTZ, CPH Y CW GSNBNYGAH ZFCZ QIS HYH PIZ CHH FYG PCWA ZI ZFA DYGZ - QIS CWANYOCP OISGYP HISMDCG VDCOK. VDCOK YG C WCP IT GYPMSDCN ZCDAPZG CPH Y EISDH GSMMAGZ ZFCZ QIS COZ EYZF SZWIGZ GBAAH ZI VNYPM FYW ZI DIPHIP. Y VADYALA ZFCZ FA YG OSZ TNIW ZFA GCWA ODIZF CG QIS, CPH Y CW OIPTYHAPZ ZFCZ QIS EYDD VA CVDA ZI BANGSCHA FYW ZI ZCKA SB ZFA BIGZ IT GAONAZ GAONAZCNQ. Y CW NCZFAN DIIKYPM TINECNH ZI WQ TYNGZ WAAZYPM EYZF WN. VDCOK CPH Y ZNSGZ QIS EYDD PIZ HYGCBBIYPZ WA YP ZFYG, VSZ YT QIS TYPH ZFCZ FA YG PIZ CWAPCVDA ZI NACGIP ZFAP Y EYDD TYPH CPIZFAN ECQ ZI BANGSCHA FYW. C WCP DYKA VDCOK CDECQG FCG C GKADAZIP IN ZEI YP FYG ODIGAZ!\n",
    "\n",
    "L.\"\"\""
   ]
  },
  {
   "cell_type": "code",
   "execution_count": 17,
   "metadata": {},
   "outputs": [
    {
     "name": "stdout",
     "output_type": "stream",
     "text": [
      "GYN OhaNDeG,\n",
      "\n",
      "Yt YG EYth NeMNet that Y TYPH WQGeDT YP HYGaMNeeWePt EYth QIS RSHMeWePt. Yt YG ODeaN tI We that QIS aNe NYMht YP IPe NeMaNH, Yt YG tYWe tI eGtaVDYGh the ITTYOe IT GeONet GeONetaNQ, aPH tI taKe the GeONet EaN tI ISN ePeWYeG. IP IPe GYMPYTYOaPt BIYPt hIEeLeN, Y HI PIt aMNee. thYG NIDe YG PIt GSYteH tI MIIH WeP EYth a NeBStatYIP TIN hIPISN. QISN GSMMeGtYIPG EISDH Ve OaBYtaD YT Y EeNe DIIKYPM tI aBBIYPt a OhYeT IT GtaTT IN a PeE TINeYMP GeONetaNQ, hIEeLeN the taGKG that Ee VIth KPIE aNe PeOeGGaNQ YT Ee aNe tI BNIteOt aPH eXBaPH the eWBYNe EYDD NeUSYNe a WaP IT aDtIMetheN HYTTeNePt OhaNaOteN. a NeH VDIIHeH WaP EYth a VDaOK heaNt.\n",
      "\n",
      "theNe YG IPe WaP Ee VIth KPIE EhI YG ePtYNeDQ GSYteH tI the DeGG OIPMePYaD aGBeOtG IT WIHeNP GtateONaTt, aPH Y aW GSNBNYGeH that QIS HYH PIt aHH hYG PaWe tI the DYGt - QIS aWeNYOaP OISGYP HISMDaG VDaOK. VDaOK YG a WaP IT GYPMSDaN taDePtG aPH Y EISDH GSMMeGt that QIS aOt EYth StWIGt GBeeH tI VNYPM hYW tI DIPHIP. Y VeDYeLe that he YG OSt TNIW the GaWe ODIth aG QIS, aPH Y aW OIPTYHePt that QIS EYDD Ve aVDe tI BeNGSaHe hYW tI taKe SB the BIGt IT GeONet GeONetaNQ. Y aW NatheN DIIKYPM TINEaNH tI WQ TYNGt WeetYPM EYth WN. VDaOK aPH Y tNSGt QIS EYDD PIt HYGaBBIYPt We YP thYG, VSt YT QIS TYPH that he YG PIt aWePaVDe tI NeaGIP theP Y EYDD TYPH aPItheN EaQ tI BeNGSaHe hYW. a WaP DYKe VDaOK aDEaQG haG a GKeDetIP IN tEI YP hYG ODIGet!\n",
      "\n",
      "L.\n"
     ]
    }
   ],
   "source": [
    "# After a few tries, doesn't seem to be another Caesar.  2a says it's an affine.\n",
    "# Try \"ZFA\" for \"the\" and \"C\" for \"a\"\n",
    "decode(message2b, \"eBaDEhGHIJKLMNOPQRSTUVWXYt\")"
   ]
  },
  {
   "cell_type": "code",
   "execution_count": 18,
   "metadata": {},
   "outputs": [
    {
     "name": "stdout",
     "output_type": "stream",
     "text": [
      "sir OharDes,\n",
      "\n",
      "it is with regret that i TiPH WQseDT iP HisagreeWePt with QIS RSHgeWePt. it is ODear tI We that QIS are right iP IPe regarH, it is tiWe tI estaVDish the ITTiOe IT seOret seOretarQ, aPH tI taKe the seOret war tI ISr ePeWies. IP IPe sigPiTiOaPt BIiPt hIweLer, i HI PIt agree. this rIDe is PIt sSiteH tI gIIH WeP with a reBStatiIP TIr hIPISr. QISr sSggestiIPs wISDH Ve OaBitaD iT i were DIIKiPg tI aBBIiPt a OhieT IT staTT Ir a Pew TIreigP seOretarQ, hIweLer the tasKs that we VIth KPIw are PeOessarQ iT we are tI BrIteOt aPH eXBaPH the eWBire wiDD reUSire a WaP IT aDtIgether HiTTerePt OharaOter. a reH VDIIHeH WaP with a VDaOK heart.\n",
      "\n",
      "there is IPe WaP we VIth KPIw whI is ePtireDQ sSiteH tI the Dess OIPgePiaD asBeOts IT WIHerP stateOraTt, aPH i aW sSrBriseH that QIS HiH PIt aHH his PaWe tI the Dist - QIS aWeriOaP OISsiP HISgDas VDaOK. VDaOK is a WaP IT siPgSDar taDePts aPH i wISDH sSggest that QIS aOt with StWIst sBeeH tI VriPg hiW tI DIPHIP. i VeDieLe that he is OSt TrIW the saWe ODIth as QIS, aPH i aW OIPTiHePt that QIS wiDD Ve aVDe tI BersSaHe hiW tI taKe SB the BIst IT seOret seOretarQ. i aW rather DIIKiPg TIrwarH tI WQ Tirst WeetiPg with Wr. VDaOK aPH i trSst QIS wiDD PIt HisaBBIiPt We iP this, VSt iT QIS TiPH that he is PIt aWePaVDe tI reasIP theP i wiDD TiPH aPIther waQ tI BersSaHe hiW. a WaP DiKe VDaOK aDwaQs has a sKeDetIP Ir twI iP his ODIset!\n",
      "\n",
      "L.\n"
     ]
    }
   ],
   "source": [
    "# Maybe an affine?  There are 24 steps between a and e.  Doesn't seem to reach h properly.\n",
    "# \"Yt YG EYth NeMNet that Y\" -> Y=i, G=s, E=w, N=r, M=g\n",
    "decode(message2b, \"eBaDwhsHIJKLgrOPQRSTUVWXit\")"
   ]
  },
  {
   "cell_type": "code",
   "execution_count": 19,
   "metadata": {},
   "outputs": [
    {
     "name": "stdout",
     "output_type": "stream",
     "text": [
      "epalwhsdozkvgrcnyjufqbmxit\n"
     ]
    }
   ],
   "source": [
    "# There's a difference of 19 between h and I.  That works for the gap between a and e as well.\n",
    "key = ['.' for n in range(26)]\n",
    "p = 2\n",
    "for letter in string.ascii_lowercase:\n",
    "    key[p] = letter\n",
    "    p = (p + 19) % 26\n",
    "key = \"\".join(key)\n",
    "print(key)"
   ]
  },
  {
   "cell_type": "code",
   "execution_count": 20,
   "metadata": {},
   "outputs": [
    {
     "name": "stdout",
     "output_type": "stream",
     "text": [
      "sir charles,\n",
      "\n",
      "it is with regret that i find myself in disagreement with you judgement. it is clear to me that you are right in one regard, it is time to establish the office of secret secretary, and to take the secret war to our enemies. on one significant point however, i do not agree. this role is not suited to good men with a reputation for honour. your suggestions would be capital if i were looking to appoint a chief of staff or a new foreign secretary, however the tasks that we both know are necessary if we are to protect and expand the empire will require a man of altogether different character. a red blooded man with a black heart.\n",
      "\n",
      "there is one man we both know who is entirely suited to the less congenial aspects of modern statecraft, and i am surprised that you did not add his name to the list - you american cousin douglas black. black is a man of singular talents and i would suggest that you act with utmost speed to bring him to london. i believe that he is cut from the same cloth as you, and i am confident that you will be able to persuade him to take up the post of secret secretary. i am rather looking forward to my first meeting with mr. black and i trust you will not disappoint me in this, but if you find that he is not amenable to reason then i will find another way to persuade him. a man like black always has a skeleton or two in his closet!\n",
      "\n",
      "v.\n"
     ]
    }
   ],
   "source": [
    "decode(message2b, \"epalwhsdozkvgrcnyjufqbmxit\")"
   ]
  },
  {
   "cell_type": "code",
   "execution_count": 5,
   "metadata": {},
   "outputs": [
    {
     "name": "stdout",
     "output_type": "stream",
     "text": [
      "epalwhsdozkvgrcnyjufqbmxit\n",
      "avqlgbwrmhcxsnidytojezupkf\n"
     ]
    }
   ],
   "source": [
    "# Let's make that key generator a function...\n",
    "def generate_affine_key(start, gap):\n",
    "    key = ['.' for n in range(26)]\n",
    "    pos = start\n",
    "    for letter in string.ascii_lowercase:\n",
    "        key[pos] = letter\n",
    "        pos = (pos + gap) % 26\n",
    "    return \"\".join(key)\n",
    "\n",
    "# Test it\n",
    "print(generate_affine_key(2, 19))\n",
    "print(generate_affine_key(0, 5))"
   ]
  },
  {
   "cell_type": "code",
   "execution_count": 6,
   "metadata": {},
   "outputs": [],
   "source": [
    "# 3a, In the shadows\n",
    "\n",
    "message3a=\"FTNPTQP RDF TGOBTLFKX HPPQ IYDI B FYTLKM HQTR DGTLI MTLVKDF GKDJH GLI B RDF KPSI RTQMPCBQV RYDI YP YDM IT MT RBIY IYP FYDMTR DCJYBOP. B STLQM FTNP ICDJPF TS YBN BQ GTFITQ QPRFWDWPC JKBWWBQVF SCTN IYP WPCBTM. IYP FITCBPF FITWWPM BQ 1873, DCTLQM IYP MDIP TS IYP KPIIPCF GPIRPPQ OBJITCBD DQM FBC JYDCKPF, FT B DFFLNP YP CPILCQPM IT PQVKDQM IYPQ, GLI B JTLKMQ’I SBQM DQX CPJTCM TS YBN BQ IYP BNNBVCDIBTQ SBKPF DQM IYPCP RDF QTIYBQV BQ IYP TSSBJBDK CPJTCM IT FLVVPFI IYDI YP NPI RBIY FBC JYDCKPF, KPI DKTQP RBIY YPC NDEPFIX. IYP ICDBK YDM VTQP JTKM DQM B NBVYI YDOP NTOPM TQ DI IYDI WTBQI, GLI IYPQ B VTI IYP IYBCM PNDBK. IYBF IBNP BI RDF D HPXRTCM JBWYPC DQM BI ITTH D KBIIKP KTQVPC IT GCPDH, IYTLVY IYP RTCM FICLJILCP YPKWPM D KTI. BI JTQSBCNPM POPCXIYBQV B YDM VLPFFPM FT SDC DGTLI GKDJH, DQM CDBFPM D RYTKP KTDM TS QPR ZLPFIBTQF! BI DKFT FLVVPFIPM IYDI B NBVYI SBQM DQFRPCF BQ IYP FYDMTR DCJYBOP, GLI SBCFI B YDM IT SBVLCP TLI RYPCP BI RDF, DQM YTR B JTLKM VPI BQ. B FIBKK JDQ’I GPKBPOP BI, GLI IYP DQFRPC JDNP SCTN D VTTVKP FPDCJY. B RDF KTTHBQV STC D KTJDIBTQ IYDI RTLKM YDOP WCTOBMPM GKDJH RBIY JTOPC STC D FICPDN TS OBFBITCF, WCPSPCDGKX BQ D JPQICDK KTQMTQ KTJDIBTQ, DQM RBIY SDJBKBIBPF STC FPJLCP FITCDVP TS TSSBJBDK CPJTCMF, DQM BI FYTLKM YDOP GPPQ TWPQPM BQ 1873 TC 1874. B FPDCJYPM STC “GKDJH, KTQMTQ, 1874” DQM B KBHPM RYDI B STLQM. DQM IYDI BF RYX B STLQM NXFPKS KXBQV TQ IYP CTTS TS IYP QTCNDQ FYDR GLBKMBQVF BQ IYP NBMMKP TS IYP QBVYI DQM BQ WTLCBQV CDBQ! B YDM IT SBVLCP TLI D RDX TS VPIIBQV BQFBMP TQP TS IYP NTFI FPJLCP KTJDIBTQF BQ PQVKDQM!\""
   ]
  },
  {
   "cell_type": "code",
   "execution_count": 11,
   "metadata": {},
   "outputs": [
    {
     "name": "stdout",
     "output_type": "stream",
     "text": [
      "FTNeTQe RaF TGOiTLFKX HeeQ that i FhTLKM HQTR aGTLt MTLVKaF GKaJH GLt i RaF KeSt RTQMeCiQV Rhat he haM tT MT Rith the FhaMTR aCJhiOe. i STLQM FTNe tCaJeF TS hiN iQ GTFtTQ QeRFWaWeC JKiWWiQVF SCTN the WeCiTM. the FtTCieF FtTWWeM iQ 1873, aCTLQM the Mate TS the KetteCF GetReeQ OiJtTCia aQM FiC JhaCKeF, FT i aFFLNe he CetLCQeM tT eQVKaQM theQ, GLt i JTLKMQ’t SiQM aQX CeJTCM TS hiN iQ the iNNiVCatiTQ SiKeF aQM theCe RaF QTthiQV iQ the TSSiJiaK CeJTCM tT FLVVeFt that he Net Rith FiC JhaCKeF, Ket aKTQe Rith heC NaEeFtX. the tCaiK haM VTQe JTKM aQM i NiVht haOe NTOeM TQ at that WTiQt, GLt theQ i VTt the thiCM eNaiK. thiF tiNe it RaF a HeXRTCM JiWheC aQM it tTTH a KittKe KTQVeC tT GCeaH, thTLVh the RTCM FtCLJtLCe heKWeM a KTt. it JTQSiCNeM eOeCXthiQV i haM VLeFFeM FT SaC aGTLt GKaJH, aQM CaiFeM a RhTKe KTaM TS QeR ZLeFtiTQF! it aKFT FLVVeFteM that i NiVht SiQM aQFReCF iQ the FhaMTR aCJhiOe, GLt SiCFt i haM tT SiVLCe TLt RheCe it RaF, aQM hTR i JTLKM Vet iQ. i FtiKK JaQ’t GeKieOe it, GLt the aQFReC JaNe SCTN a VTTVKe FeaCJh. i RaF KTTHiQV STC a KTJatiTQ that RTLKM haOe WCTOiMeM GKaJH Rith JTOeC STC a FtCeaN TS OiFitTCF, WCeSeCaGKX iQ a JeQtCaK KTQMTQ KTJatiTQ, aQM Rith SaJiKitieF STC FeJLCe FtTCaVe TS TSSiJiaK CeJTCMF, aQM it FhTLKM haOe GeeQ TWeQeM iQ 1873 TC 1874. i FeaCJheM STC “GKaJH, KTQMTQ, 1874” aQM i KiHeM Rhat i STLQM. aQM that iF RhX i STLQM NXFeKS KXiQV TQ the CTTS TS the QTCNaQ FhaR GLiKMiQVF iQ the NiMMKe TS the QiVht aQM iQ WTLCiQV CaiQ! i haM tT SiVLCe TLt a RaX TS VettiQV iQFiMe TQe TS the NTFt FeJLCe KTJatiTQF iQ eQVKaQM!\n"
     ]
    }
   ],
   "source": [
    "# Try obvious substitutions\n",
    "# B=i?\n",
    "# IYP=the?\n",
    "# D=a\n",
    "decode(message3a, \"AiCaEFGHtJKLMNOeQRSTUVWXhZ\")"
   ]
  },
  {
   "cell_type": "code",
   "execution_count": 12,
   "metadata": {},
   "outputs": [
    {
     "name": "stdout",
     "output_type": "stream",
     "text": [
      "zirajsbktcludmvenwfoxgpyhq\n"
     ]
    }
   ],
   "source": [
    "# Gap between a and e is 12...\n",
    "print(generate_affine_key(3, 3))"
   ]
  },
  {
   "cell_type": "code",
   "execution_count": 13,
   "metadata": {},
   "outputs": [
    {
     "name": "stdout",
     "output_type": "stream",
     "text": [
      "someone was obviously keen that i should know about douglas black but i was left wondering what he had to do with the shadow archive. i found some traces of him in boston newspaper clippings from the period. the stories stopped in 1873, around the date of the letters between victoria and sir charles, so i assume he returned to england then, but i couldn’t find any record of him in the immigration files and there was nothing in the official record to suggest that he met with sir charles, let alone with her majesty. the trail had gone cold and i might have moved on at that point, but then i got the third email. this time it was a keyword cipher and it took a little longer to break, though the word structure helped a lot. it confirmed everything i had guessed so far about black, and raised a whole load of new questions! it also suggested that i might find answers in the shadow archive, but first i had to figure out where it was, and how i could get in. i still can’t believe it, but the answer came from a google search. i was looking for a location that would have provided black with cover for a stream of visitors, preferably in a central london location, and with facilities for secure storage of official records, and it should have been opened in 1873 or 1874. i searched for “black, london, 1874” and i liked what i found. and that is why i found myself lying on the roof of the norman shaw buildings in the middle of the night and in pouring rain! i had to figure out a way of getting inside one of the most secure locations in england!\n"
     ]
    }
   ],
   "source": [
    "decode(message3a, \"zirajsbktcludmvenwfoxgpyhq\")"
   ]
  },
  {
   "cell_type": "code",
   "execution_count": 14,
   "metadata": {},
   "outputs": [],
   "source": [
    "# 3b, The devil and the deep blue sea\n",
    "\n",
    "message3b= \"\"\"CTN HLETPQW DP NDBCQ, GDZT DI OJPQJI DP ARGG, ORQ IJQ ARGG TIJRBC QJ KTNPRLAT HT QCLQ UJNFDIB ZJN CTN UJRGA OT UJNQC QCT NDPF. ORQ JZ YJRNPT PCT CLA LI LIPUTN ZJN QCLQ. PCT KJDIQTA JRQ QCLQ NTQRNIDIB QJ QCT RIDQTA PQLQTP YLNNDTA DQP JUI NDPFP.\n",
    "\n",
    "D CLA FTKQ HWPTGZ LHRPTA ZJN QCT GLPQ ZTU WTLNP PTKLNLQDIB QCT BNTTAW LIA STILG ZNJH QCTDN HJITW OW L SLNDTQW JZ HTLIP, IJQ LGG JZ QCTH TIQDNTGW LKKNJSTA OW QCT GLU. D ULP GTZQ UJIATNDIB CJU QCT MRTTI FITU LOJRQ QCLQ, LIA UCTQCTN HW YJRPDI CLA OTTI DIPQNRYQTA QJ QTGG QCT ZTATNLG HLNPCLGGP LOJRQ HW LYQDSDQDTP. ADPYNTQDJI PTTHTA QCT UDPT YJRNPT, LIA LIWULW, CJU JZQTI AJ WJR BTQ L EJO JZZTN ZNJH L MRTTI?\n",
    "\n",
    "YCLNGTP CLP AJIT L PQTNGDIB EJO ATSTGJKDIB L ITQUJNF JZ LBTIQP LIA CDP DIQTGGDBTIYT JKTNLQDJIP CLST OTYJHT L FTW KLNQ JZ ONDQDPC ADKGJHLYW. QCT BNJUDIB DIPQLODGDQW LYNJPP TRNJKT QCNTLQTIP QCT THKDNT, LIA DQ DP CTN HLETPQW’P OTGDTZ QCLQ UT UDGG ITTA QJ NTPKJIA DI FDIA QJ ATPQLODGDPT JRN TITHDTP OTZJNT QCTW BNJU QJJ PQNJIB. QCDP DP L ITU LIA ALIBTNJRP FDIA JZ ULNZLNT, ORQ YJRGA, D PRKKJPT, PLST GDSTP, LIA UT UDGG, DI LIW YLPT, ITTA QJ HLQYC JRN TITHDTP DZ UT LNT QJ PQLW LCTLA.\n",
    "\n",
    "QCDP TIQDNT JKTNLQDJI HRPQ OT FTKQ PTYNTQ. ZDNPQ ZNJH JRN TITHDTP, ORQ PTYJIA, LIA ERPQ LP DHKJNQLIQ, ZNJH QCT JZZDYDLG HLYCDITNW JZ PQLQT. CTN HLETPQW YLIIJQ LZZJNA QCT NDPF QCLQ CTN BJSTNIHTIQ YJRGA OT DHKGDYLQTA DI QCTPT JKTNLQDJIP, LIA PDN YCLNGTP CLP NTLPJI QJ OTGDTST QCLQ QCT ZJNTDBI JZZDYT HLW CLST OTTI YJHKNJHDPTA. ZJN QCDP NTLPJI UT ITTA QJ HJST PDN YCLNGTP’ DIQTGGDBTIYT JKTNLQDJI QJ L HJNT PTYRNT GJYLQDJI. LIA D QCDIF D CLST LI DATL UCTNT QCLQ YJRGA OT!\"\"\""
   ]
  },
  {
   "cell_type": "code",
   "execution_count": 19,
   "metadata": {},
   "outputs": [
    {
     "name": "stdout",
     "output_type": "stream",
     "text": [
      "heN HLEePtW DP NDBht, GDZe DI OJPtJI DP ARGG, ORt IJt ARGG eIJRBh tJ KeNPRLAe He thLt UJNFDIB ZJN heN UJRGA Oe UJNth the NDPF. ORt JZ YJRNPe Phe hLA LI LIPUeN ZJN thLt. Phe KJDIteA JRt thLt NetRNIDIB tJ the RIDteA PtLteP YLNNDeA DtP JUI NDPFP.\n",
      "\n",
      "D hLA FeKt HWPeGZ LHRPeA ZJN the GLPt ZeU WeLNP PeKLNLtDIB the BNeeAW LIA SeILG ZNJH theDN HJIeW OW L SLNDetW JZ HeLIP, IJt LGG JZ theH eItDNeGW LKKNJSeA OW the GLU. D ULP GeZt UJIAeNDIB hJU the MReeI FIeU LOJRt thLt, LIA UhetheN HW YJRPDI hLA OeeI DIPtNRYteA tJ teGG the ZeAeNLG HLNPhLGGP LOJRt HW LYtDSDtDeP. ADPYNetDJI PeeHeA the UDPe YJRNPe, LIA LIWULW, hJU JZteI AJ WJR Bet L EJO JZZeN ZNJH L MReeI?\n",
      "\n",
      "YhLNGeP hLP AJIe L PteNGDIB EJO AeSeGJKDIB L IetUJNF JZ LBeItP LIA hDP DIteGGDBeIYe JKeNLtDJIP hLSe OeYJHe L FeW KLNt JZ ONDtDPh ADKGJHLYW. the BNJUDIB DIPtLODGDtW LYNJPP eRNJKe thNeLteIP the eHKDNe, LIA Dt DP heN HLEePtW’P OeGDeZ thLt Ue UDGG IeeA tJ NePKJIA DI FDIA tJ AePtLODGDPe JRN eIeHDeP OeZJNe theW BNJU tJJ PtNJIB. thDP DP L IeU LIA ALIBeNJRP FDIA JZ ULNZLNe, ORt YJRGA, D PRKKJPe, PLSe GDSeP, LIA Ue UDGG, DI LIW YLPe, IeeA tJ HLtYh JRN eIeHDeP DZ Ue LNe tJ PtLW LheLA.\n",
      "\n",
      "thDP eItDNe JKeNLtDJI HRPt Oe FeKt PeYNet. ZDNPt ZNJH JRN eIeHDeP, ORt PeYJIA, LIA ERPt LP DHKJNtLIt, ZNJH the JZZDYDLG HLYhDIeNW JZ PtLte. heN HLEePtW YLIIJt LZZJNA the NDPF thLt heN BJSeNIHeIt YJRGA Oe DHKGDYLteA DI thePe JKeNLtDJIP, LIA PDN YhLNGeP hLP NeLPJI tJ OeGDeSe thLt the ZJNeDBI JZZDYe HLW hLSe OeeI YJHKNJHDPeA. ZJN thDP NeLPJI Ue IeeA tJ HJSe PDN YhLNGeP’ DIteGGDBeIYe JKeNLtDJI tJ L HJNe PeYRNe GJYLtDJI. LIA D thDIF D hLSe LI DAeL UheNe thLt YJRGA Oe!\n"
     ]
    }
   ],
   "source": [
    "# Keyword cipher this time...\n",
    "# QCT=the?\n",
    "decode(message3b, \"ABhDEFGHIJKLMNOPtRSeUVWXYZ\")"
   ]
  },
  {
   "cell_type": "code",
   "execution_count": 20,
   "metadata": {},
   "outputs": [
    {
     "name": "stdout",
     "output_type": "stream",
     "text": [
      "heN HaEePtW DP NDBht, GDZe DI OJPtJI DP ARGG, ORt IJt ARGG eIJRBh tJ KeNPRaAe He that UJNFDIB ZJN heN UJRGA Oe UJNth the NDPF. ORt JZ YJRNPe Phe haA aI aIPUeN ZJN that. Phe KJDIteA JRt that NetRNIDIB tJ the RIDteA PtateP YaNNDeA DtP JUI NDPFP.\n",
      "\n",
      "D haA FeKt HWPeGZ aHRPeA ZJN the GaPt ZeU WeaNP PeKaNatDIB the BNeeAW aIA SeIaG ZNJH theDN HJIeW OW a SaNDetW JZ HeaIP, IJt aGG JZ theH eItDNeGW aKKNJSeA OW the GaU. D UaP GeZt UJIAeNDIB hJU the MReeI FIeU aOJRt that, aIA UhetheN HW YJRPDI haA OeeI DIPtNRYteA tJ teGG the ZeAeNaG HaNPhaGGP aOJRt HW aYtDSDtDeP. ADPYNetDJI PeeHeA the UDPe YJRNPe, aIA aIWUaW, hJU JZteI AJ WJR Bet a EJO JZZeN ZNJH a MReeI?\n",
      "\n",
      "YhaNGeP haP AJIe a PteNGDIB EJO AeSeGJKDIB a IetUJNF JZ aBeItP aIA hDP DIteGGDBeIYe JKeNatDJIP haSe OeYJHe a FeW KaNt JZ ONDtDPh ADKGJHaYW. the BNJUDIB DIPtaODGDtW aYNJPP eRNJKe thNeateIP the eHKDNe, aIA Dt DP heN HaEePtW’P OeGDeZ that Ue UDGG IeeA tJ NePKJIA DI FDIA tJ AePtaODGDPe JRN eIeHDeP OeZJNe theW BNJU tJJ PtNJIB. thDP DP a IeU aIA AaIBeNJRP FDIA JZ UaNZaNe, ORt YJRGA, D PRKKJPe, PaSe GDSeP, aIA Ue UDGG, DI aIW YaPe, IeeA tJ HatYh JRN eIeHDeP DZ Ue aNe tJ PtaW aheaA.\n",
      "\n",
      "thDP eItDNe JKeNatDJI HRPt Oe FeKt PeYNet. ZDNPt ZNJH JRN eIeHDeP, ORt PeYJIA, aIA ERPt aP DHKJNtaIt, ZNJH the JZZDYDaG HaYhDIeNW JZ Ptate. heN HaEePtW YaIIJt aZZJNA the NDPF that heN BJSeNIHeIt YJRGA Oe DHKGDYateA DI thePe JKeNatDJIP, aIA PDN YhaNGeP haP NeaPJI tJ OeGDeSe that the ZJNeDBI JZZDYe HaW haSe OeeI YJHKNJHDPeA. ZJN thDP NeaPJI Ue IeeA tJ HJSe PDN YhaNGeP’ DIteGGDBeIYe JKeNatDJI tJ a HJNe PeYRNe GJYatDJI. aIA D thDIF D haSe aI DAea UheNe that YJRGA Oe!\n"
     ]
    }
   ],
   "source": [
    "# L=a\n",
    "decode(message3b, \"ABhDEFGHIJKaMNOPtRSeUVWXYZ\")"
   ]
  },
  {
   "cell_type": "code",
   "execution_count": 21,
   "metadata": {},
   "outputs": [
    {
     "name": "stdout",
     "output_type": "stream",
     "text": [
      "her HaEePtW DP rDBht, GDZe Dn bJPtJn DP sRGG, bRt nJt sRGG enJRBh tJ KerPRase He that wJrFDnB ZJr her wJRGs be wJrth the rDPF. bRt JZ YJRrPe Phe has an anPwer ZJr that. Phe KJDntes JRt that retRrnDnB tJ the RnDtes PtateP YarrDes DtP Jwn rDPFP.\n",
      "\n",
      "D has FeKt HWPeGZ aHRPes ZJr the GaPt Zew WearP PeKaratDnB the BreesW ans SenaG ZrJH theDr HJneW bW a SarDetW JZ HeanP, nJt aGG JZ theH entDreGW aKKrJSes bW the Gaw. D waP GeZt wJnserDnB hJw the MReen Fnew abJRt that, ans whether HW YJRPDn has been DnPtrRYtes tJ teGG the ZeseraG HarPhaGGP abJRt HW aYtDSDtDeP. sDPYretDJn PeeHes the wDPe YJRrPe, ans anWwaW, hJw JZten sJ WJR Bet a EJb JZZer ZrJH a MReen?\n",
      "\n",
      "YharGeP haP sJne a PterGDnB EJb seSeGJKDnB a netwJrF JZ aBentP ans hDP DnteGGDBenYe JKeratDJnP haSe beYJHe a FeW Kart JZ brDtDPh sDKGJHaYW. the BrJwDnB DnPtabDGDtW aYrJPP eRrJKe threatenP the eHKDre, ans Dt DP her HaEePtW’P beGDeZ that we wDGG nees tJ rePKJns Dn FDns tJ sePtabDGDPe JRr eneHDeP beZJre theW BrJw tJJ PtrJnB. thDP DP a new ans sanBerJRP FDns JZ warZare, bRt YJRGs, D PRKKJPe, PaSe GDSeP, ans we wDGG, Dn anW YaPe, nees tJ HatYh JRr eneHDeP DZ we are tJ PtaW aheas.\n",
      "\n",
      "thDP entDre JKeratDJn HRPt be FeKt PeYret. ZDrPt ZrJH JRr eneHDeP, bRt PeYJns, ans ERPt aP DHKJrtant, ZrJH the JZZDYDaG HaYhDnerW JZ Ptate. her HaEePtW YannJt aZZJrs the rDPF that her BJSernHent YJRGs be DHKGDYates Dn thePe JKeratDJnP, ans PDr YharGeP haP reaPJn tJ beGDeSe that the ZJreDBn JZZDYe HaW haSe been YJHKrJHDPes. ZJr thDP reaPJn we nees tJ HJSe PDr YharGeP’ DnteGGDBenYe JKeratDJn tJ a HJre PeYRre GJYatDJn. ans D thDnF D haSe an Dsea where that YJRGs be!\n"
     ]
    }
   ],
   "source": [
    "# \"UhetheN\" -> U=w, N=r\n",
    "# \"haA OeeI\" -> A=s, O=b, I=n\n",
    "decode(message3b, \"sBhDEFGHnJKaMrbPtRSewVWXYZ\")"
   ]
  },
  {
   "cell_type": "code",
   "execution_count": 23,
   "metadata": {},
   "outputs": [
    {
     "name": "stdout",
     "output_type": "stream",
     "text": [
      "her majesty Ds rDBht, GDZe Dn bJstJn Ds dRGG, bRt nJt dRGG enJRBh tJ KersRade me that wJrFDnB ZJr her wJRGd be wJrth the rDsF. bRt JZ YJRrse she had an answer ZJr that. she KJDnted JRt that retRrnDnB tJ the RnDted states YarrDed Dts Jwn rDsFs.\n",
      "\n",
      "D had FeKt myseGZ amRsed ZJr the Gast Zew years seKaratDnB the Breedy and SenaG ZrJm theDr mJney by a SarDety JZ means, nJt aGG JZ them entDreGy aKKrJSed by the Gaw. D was GeZt wJnderDnB hJw the MReen Fnew abJRt that, and whether my YJRsDn had been DnstrRYted tJ teGG the ZederaG marshaGGs abJRt my aYtDSDtDes. dDsYretDJn seemed the wDse YJRrse, and anyway, hJw JZten dJ yJR Bet a jJb JZZer ZrJm a MReen?\n",
      "\n",
      "YharGes has dJne a sterGDnB jJb deSeGJKDnB a netwJrF JZ aBents and hDs DnteGGDBenYe JKeratDJns haSe beYJme a Fey Kart JZ brDtDsh dDKGJmaYy. the BrJwDnB DnstabDGDty aYrJss eRrJKe threatens the emKDre, and Dt Ds her majesty’s beGDeZ that we wDGG need tJ resKJnd Dn FDnd tJ destabDGDse JRr enemDes beZJre they BrJw tJJ strJnB. thDs Ds a new and danBerJRs FDnd JZ warZare, bRt YJRGd, D sRKKJse, saSe GDSes, and we wDGG, Dn any Yase, need tJ matYh JRr enemDes DZ we are tJ stay ahead.\n",
      "\n",
      "thDs entDre JKeratDJn mRst be FeKt seYret. ZDrst ZrJm JRr enemDes, bRt seYJnd, and jRst as DmKJrtant, ZrJm the JZZDYDaG maYhDnery JZ state. her majesty YannJt aZZJrd the rDsF that her BJSernment YJRGd be DmKGDYated Dn these JKeratDJns, and sDr YharGes has reasJn tJ beGDeSe that the ZJreDBn JZZDYe may haSe been YJmKrJmDsed. ZJr thDs reasJn we need tJ mJSe sDr YharGes’ DnteGGDBenYe JKeratDJn tJ a mJre seYRre GJYatDJn. and D thDnF D haSe an Ddea where that YJRGd be!\n"
     ]
    }
   ],
   "source": [
    "# \"HaEePtW\" -> H=m, E=J, P=s, W=y\n",
    "# A=d (\"had\", not \"has\")\n",
    "decode(message3b, \"dBhDjFGmnJKaMrbstRSewVyXYZ\")"
   ]
  },
  {
   "cell_type": "code",
   "execution_count": 24,
   "metadata": {},
   "outputs": [
    {
     "name": "stdout",
     "output_type": "stream",
     "text": [
      "her majesty is right, GiZe in boston is duGG, but not duGG enough to persuade me that worFing Zor her wouGd be worth the risF. but oZ Yourse she had an answer Zor that. she pointed out that returning to the united states Yarried its own risFs.\n",
      "\n",
      "i had Fept myseGZ amused Zor the Gast Zew years separating the greedy and SenaG Zrom their money by a Sariety oZ means, not aGG oZ them entireGy approSed by the Gaw. i was GeZt wondering how the Mueen Fnew about that, and whether my Yousin had been instruYted to teGG the ZederaG marshaGGs about my aYtiSities. disYretion seemed the wise Yourse, and anyway, how oZten do you get a job oZZer Zrom a Mueen?\n",
      "\n",
      "YharGes has done a sterGing job deSeGoping a networF oZ agents and his inteGGigenYe operations haSe beYome a Fey part oZ british dipGomaYy. the growing instabiGity aYross europe threatens the empire, and it is her majesty’s beGieZ that we wiGG need to respond in Find to destabiGise our enemies beZore they grow too strong. this is a new and dangerous Find oZ warZare, but YouGd, i suppose, saSe GiSes, and we wiGG, in any Yase, need to matYh our enemies iZ we are to stay ahead.\n",
      "\n",
      "this entire operation must be Fept seYret. Zirst Zrom our enemies, but seYond, and just as important, Zrom the oZZiYiaG maYhinery oZ state. her majesty Yannot aZZord the risF that her goSernment YouGd be impGiYated in these operations, and sir YharGes has reason to beGieSe that the Zoreign oZZiYe may haSe been Yompromised. Zor this reason we need to moSe sir YharGes’ inteGGigenYe operation to a more seYure GoYation. and i thinF i haSe an idea where that YouGd be!\n"
     ]
    }
   ],
   "source": [
    "# \"Ds rDBht\" -> D=i, B=g\n",
    "# \"enJRBh tJ KersRade me\" -> J=o, R=u, K=p\n",
    "decode(message3b, \"dghijFGmnopaMrbstuSewVyXYZ\")"
   ]
  },
  {
   "cell_type": "code",
   "execution_count": 25,
   "metadata": {},
   "outputs": [
    {
     "name": "stdout",
     "output_type": "stream",
     "text": [
      "her majesty is right, life in boston is dull, but not dull enough to persuade me that working for her would be worth the risk. but of course she had an answer for that. she pointed out that returning to the united states carried its own risks.\n",
      "\n",
      "i had kept myself amused for the last few years separating the greedy and Senal from their money by a Sariety of means, not all of them entirely approSed by the law. i was left wondering how the queen knew about that, and whether my cousin had been instructed to tell the federal marshalls about my actiSities. discretion seemed the wise course, and anyway, how often do you get a job offer from a queen?\n",
      "\n",
      "charles has done a sterling job deSeloping a network of agents and his intelligence operations haSe become a key part of british diplomacy. the growing instability across europe threatens the empire, and it is her majesty’s belief that we will need to respond in kind to destabilise our enemies before they grow too strong. this is a new and dangerous kind of warfare, but could, i suppose, saSe liSes, and we will, in any case, need to match our enemies if we are to stay ahead.\n",
      "\n",
      "this entire operation must be kept secret. first from our enemies, but second, and just as important, from the official machinery of state. her majesty cannot afford the risk that her goSernment could be implicated in these operations, and sir charles has reason to belieSe that the foreign office may haSe been compromised. for this reason we need to moSe sir charles’ intelligence operation to a more secure location. and i think i haSe an idea where that could be!\n"
     ]
    }
   ],
   "source": [
    "# \"worFing Zor her wouGd be worth the risF\" ->  F=k, Z=f, G=l\n",
    "# \"Mueen\" -> M=q\n",
    "# \"and we wiGG, in any Yase\" -> Y=c\n",
    "decode(message3b, \"dghijklmnopaqrbstuSewVyXcf\")"
   ]
  },
  {
   "cell_type": "code",
   "execution_count": 26,
   "metadata": {},
   "outputs": [
    {
     "name": "stdout",
     "output_type": "stream",
     "text": [
      "her majesty is right, life in boston is dull, but not dull enough to persuade me that working for her would be worth the risk. but of course she had an answer for that. she pointed out that returning to the united states carried its own risks.\n",
      "\n",
      "i had kept myself amused for the last few years separating the greedy and venal from their money by a variety of means, not all of them entirely approved by the law. i was left wondering how the queen knew about that, and whether my cousin had been instructed to tell the federal marshalls about my activities. discretion seemed the wise course, and anyway, how often do you get a job offer from a queen?\n",
      "\n",
      "charles has done a sterling job developing a network of agents and his intelligence operations have become a key part of british diplomacy. the growing instability across europe threatens the empire, and it is her majesty’s belief that we will need to respond in kind to destabilise our enemies before they grow too strong. this is a new and dangerous kind of warfare, but could, i suppose, save lives, and we will, in any case, need to match our enemies if we are to stay ahead.\n",
      "\n",
      "this entire operation must be kept secret. first from our enemies, but second, and just as important, from the official machinery of state. her majesty cannot afford the risk that her government could be implicated in these operations, and sir charles has reason to believe that the foreign office may have been compromised. for this reason we need to move sir charles’ intelligence operation to a more secure location. and i think i have an idea where that could be!\n"
     ]
    }
   ],
   "source": [
    "# \"Sariety\" -> S=v\n",
    "# filling in the pattern, V=x, X=z\n",
    "decode(message3b, \"dghijklmnopaqrbstuvewxyzcf\")"
   ]
  },
  {
   "cell_type": "code",
   "execution_count": 27,
   "metadata": {},
   "outputs": [
    {
     "name": "stdout",
     "output_type": "stream",
     "text": [
      "Decoded alphabet: loyatzbcdefghijkmnpqrsuvwx\n",
      "Keyword: loyatz\n"
     ]
    }
   ],
   "source": [
    "# Attempts to determine the keyword used for a substition cipher\n",
    "# alphabet: The substitution alphabet\n",
    "def decode_key(alphabet):\n",
    "    decoded_alphabet = \"\"\n",
    "    for letter in string.ascii_lowercase:\n",
    "        decoded_alphabet += chr(alphabet.find(letter) + ord(\"a\"))\n",
    "    print(f\"Decoded alphabet: {decoded_alphabet}\")\n",
    "    \n",
    "    remaining_letters = list(string.ascii_lowercase)\n",
    "    for pos, letter in enumerate(decoded_alphabet):\n",
    "        remaining_letters.remove(letter)\n",
    "        next_letter_index = remaining_letters.index(decoded_alphabet[pos+1])\n",
    "        if decoded_alphabet[pos+1:] == \"\".join(remaining_letters[next_letter_index:] + remaining_letters[:next_letter_index]):\n",
    "            print(f\"Keyword: {decoded_alphabet[:pos+2]}\")\n",
    "            break\n",
    "\n",
    "decode_key(\"dghijklmnopaqrbstuvewxyzcf\")"
   ]
  },
  {
   "cell_type": "code",
   "execution_count": null,
   "metadata": {},
   "outputs": [],
   "source": []
  }
 ],
 "metadata": {
  "kernelspec": {
   "display_name": "Python 3",
   "language": "python",
   "name": "python3"
  },
  "language_info": {
   "codemirror_mode": {
    "name": "ipython",
    "version": 3
   },
   "file_extension": ".py",
   "mimetype": "text/x-python",
   "name": "python",
   "nbconvert_exporter": "python",
   "pygments_lexer": "ipython3",
   "version": "3.8.3"
  }
 },
 "nbformat": 4,
 "nbformat_minor": 4
}
