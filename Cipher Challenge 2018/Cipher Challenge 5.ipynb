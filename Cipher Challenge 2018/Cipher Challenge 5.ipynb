{
 "cells": [
  {
   "cell_type": "markdown",
   "metadata": {},
   "source": [
    "# Cipher Challenge 2018\n",
    "## Challenge 5"
   ]
  },
  {
   "cell_type": "code",
   "execution_count": 5,
   "metadata": {},
   "outputs": [],
   "source": [
    "message5a = \"\"\"UAYHJ UXXZB JHKGN MTUIT BEJTN JMBIA YNKCM UJTJT NUDNA BEJTN KZDNG SGBKZ DAGIT ULNUJ MUXXT ALNAC CNAXN DJBRX AIWAH AMAPJ BCGBL UDNHN IKGUJ PJBTU HBCNG AJUBZ RKJAI ULUXN ZSUZN NGUZS CGBVN IJBEJ TUHHI AXNDB NHZJH NNYXU WNTUH HBGJB EJTUZ SHBUJ TUZWU JYKHJ TALNR NNZIB ZINUL NDRPI TAGXN HSGNP JTNEU GHJJK RNXUZ NTADR NNZBC NZNDU ZAZDX BZDBZ MAHEK XXBEX ARBKG NGHAZ DNZSU ZNNGH MUJTJ TNHWU XXHZN NDNDJ BRKUX DJTNH TADBM AGITU LNDNN CRNZN AJTZN MHIBJ XAZDP AGDSN JJUZS AIINH HMAHZ BJSBU ZSJBR NNAHP MUJTB KJTAG GPHTN XCRKJ UHJUX XDUDZ JTALN NZBKS TJBSU LNTUY JTNNO IKHNT NMBKX DZNND JBSNJ BCNZX PUZLB XLNDY PGNIB ZZAUH HAZIN TADTN XCNDY NJBEU ZDJTN AGITU LNRKJ UJDUD ZJSUL NYNAZ PBRLU BKHMA PUZJT NDKIJ JTAJT ADIBH JYNJT NXUDA GMAHE AGJBB ZAGGB MEBGY NJBHI AXNAZ DAIIN HHJTG BKSTJ TNEGB ZJDBB GMAHJ BBGUH WPHBU JBBWA SAYRX NAZDH CNZJA ZBJTN GYUHN GARXN EBGJZ USTJN OCXBG UZSJT NXARP GUZJT BEHNM NGHAZ DJKZZ NXHPH JNYHA GBKZD JTNZN USTRB KGTBB DSCHM AHKHN XNHHD BMZJT NGNAZ DUIBK XDNAH UXPTA LNSBJ XBHJR KJUYA GWNDJ TNJKZ ZNXHA ZDBZB IIAHU BZHKH NDJTN HNKHJ GUIWB EARAX XBEJM UZNJB TNXCY NZALU SAJNR AIWUY BLNDF KUNJX PAZDW NCJAZ NPNBK JEBGH NZHBG HUTAD ZBUDN AMTNJ TNGJT NHTAD BMAGI TULNM AHHJU XXBCN GAJUB ZAXBG ZBJRK JUEUJ MAHJT NZHNI KGUJP MBKXD RNJUS TJAZD UIBKX DZJRN HKGNU EJTNP MNGNK HUZSU ZEGAG NDBGH NUHYB YNJNG HEBGU ZJGKH UBZDN JNIJU BZHBU XAPNG NDKCM UJTUZ HKXAJ UBZAZ DYBLN DHXBM XPUJM AHTBG GURXN UMAHT BJDAY CAZDJ TNAUG HYNXX NDBEH NMASN AZDYB KXDUM AHVKH JARBK JJBSU LNKCM TNZUE BKZDA HJNNX DBBGY AGWND MUJTJ TNUZU JUAXH LGULU IJBGU AGNSU ZAUYC NGAJG UOUJM AHUZI BZSGK BKHUZ JTAJD AGWAZ DDAZW JKZZN XRKJY BGNHU SZUEU IAZJX PUJIA GGUND JTNJG ADNYA GWJAZ ZBZJT NXBIW VBTZJ AZZMA HBZNB EJTNJ BCHAE NYAWN GHUZL UIJBG UAZXB ZDBZA ZDUTA DIGAI WNDBZ NBGJM BBETU HHAEN HUZYP BJTNG XUENA HAIAJ RKGSX AGJTU HMAHR USAZD TNALP AZDLN GPGKH JPJTA JJBXD YNJMB JTUZS HZBBZ NTADK HNDUJ UZALN GPXBZ SJUYN AZDZB BZNTA DKCSG ADNDU JUZVK HJAHX BZSUE JTNGB BYRNT UZDUJ MAHHJ UXXUZ KHNJT NZHBY NBZNM BKXDT ALNRN NZYAU ZJAUZ UZSJT NXBIW HBAXX YPCGN IAKJU BZHMN GNCGB RARXP KZZNI NHHAG PRKJZ BBZNT ADCAU DEBGA JAZZH AENMU JTBKJ HBYNJ TUZSU YCBGJ AZJJB TUDNH BUDNI UDNDJ BJAIW XNJTN XBIWA ZDAEJ NGAZB JTNGN USTJN NZTBK GHBES GUYMB GWUMA HUZUT ADEBK ZDJTN HTADB MAGIT ULN\"\"\""
   ]
  },
  {
   "cell_type": "code",
   "execution_count": 6,
   "metadata": {},
   "outputs": [
    {
     "name": "stdout",
     "output_type": "stream",
     "text": [
      "N: 211 (11.24%) J: 167 (8.89%) B: 154 (8.20%) A: 153 (8.15%) U: 149 (7.93%)\n",
      "Z: 144 (7.67%) H: 116 (6.18%) T: 101 (5.38%) G: 99 (5.27%) D: 95 (5.06%)\n",
      "X: 75 (3.99%) K: 62 (3.30%) I: 49 (2.61%) M: 46 (2.45%) S: 39 (2.08%)\n",
      "Y: 37 (1.97%) E: 34 (1.81%) R: 33 (1.76%) P: 30 (1.60%) L: 28 (1.49%)\n",
      "C: 27 (1.44%) W: 21 (1.12%) V:  4 (0.21%) O:  3 (0.16%) F:  1 (0.05%)\n",
      "\n",
      "-----\n"
     ]
    }
   ],
   "source": [
    "squished = message5a.replace(\" \", \"\")\n",
    "\n",
    "from collections import Counter\n",
    "\n",
    "# Takes a string or list of items and counts the frequencies of those items\n",
    "# data: The list or string to analyse\n",
    "# max_values: The maximum number of values to display (set to None for no limit)\n",
    "# no_columns: The amount of columns to use in the output\n",
    "def frequency_analysis(data, max_values=30, no_columns=5):\n",
    "    frequencies = Counter()\n",
    "    for item in data:\n",
    "        frequencies[item] += 1\n",
    "    \n",
    "    total = sum(frequencies.values())\n",
    "    column = 1\n",
    "    for item, frequency in frequencies.most_common(max_values):\n",
    "        print(f\"{item}: {frequency:2} ({frequency / total:.2%})\", end=\" \" if column % no_columns else \"\\n\")\n",
    "        column += 1\n",
    "    print(\"\\n-----\")\n",
    "    \n",
    "frequency_analysis(squished)    "
   ]
  },
  {
   "cell_type": "code",
   "execution_count": 27,
   "metadata": {},
   "outputs": [
    {
     "name": "stdout",
     "output_type": "stream",
     "text": [
      "iamstillnotsurewhichofthetwocameupwiththeideaoftheundergroundarchiveitwillhaveappealedtoblackasawaytoprovidesecuritytohisoperationbutacivilengineeringprojectofthisscaledoesntseemlikehissortofthingsoithinkitmusthavebeenconceivedbycharlesgreythefirsttubelinehadbeenopenedinandlondonwasfulloflabourersandengineerswiththeskillsneededtobuildtheshadowarchivedeepbeneathnewscotlandyardgettingaccesswasnotgoingtobeeasywithoutharryshelpbutistilldidnthaveenoughtogivehimtheexcusehewouldneedtogetopenlyinvolvedmyreconnaissancehadhelpedmetofindthearchivebutitdidntgivemeanyobviouswayintheductthathadcostmethelidarwasfartoonarrowformetoscaleandaccessthroughthefrontdoorwastooriskysoitookagambleandspentanothermiserablefortnightexploringthelabyrinthofsewersandtunnelsystemsaroundtheneighbourhoodgpswasuselessdownthereandicouldeasilyhavegotlostbutimarkedthetunnelsandonoccasionsusedtheseustrickofaballoftwinetohelpmenavigatebackimovedquietlyandkeptaneyeoutforsensorsihadnoideawhethertheshadowarchivewasstilloperationalornotbutifitwasthensecuritywouldbetightandicouldntbesureiftheywereusinginfraredorseismometersforintrusiondetectionsoilayeredupwithinsulationandmovedslowlyitwashorribleiwashotdampandtheairsmelledofsewageandmouldiwasjustabouttogiveupwhenifoundasteeldoormarkedwiththeinitialsvrivictoriareginaimperatrixitwasincongruousinthatdarkanddanktunnelbutmoresignificantlyitcarriedthetrademarktannonthelockjohntannwasoneofthetopsafemakersinvictorianlondonandihadcrackedoneortwoofhissafesinmyotherlifeasacatburglarthiswasbigandheavyandveryrustythattoldmetwothingsnoonehaduseditinaverylongtimeandnoonehadupgradeditinjustaslongiftheroombehinditwasstillinusethensomeonewouldhavebeenmaintainingthelocksoallmyprecautionswereprobablyunnecessarybutnoonehadpaidforatannsafewithoutsomethingimportanttohidesoidecidedtotacklethelockandafteranothereighteenhoursofgrimworkiwasinihadfoundtheshadowarchive\n"
     ]
    }
   ],
   "source": [
    "import string\n",
    "\n",
    "# A simple translation method.\n",
    "# text: The text to translate, in upper case\n",
    "# key: A substitution alphabet, usually in lower case so that the translated characters show up\n",
    "def decode(text, key):\n",
    "    table = str.maketrans(string.ascii_uppercase, key)\n",
    "    print(text.upper().translate(table))\n",
    "\n",
    "# Starting with E, and T, worked out H, then tried other common letters until it came out\n",
    "decode(squished, \"aopdfqrsctuvwexyzbghijklmn\")"
   ]
  },
  {
   "cell_type": "markdown",
   "metadata": {},
   "source": [
    "### Edited for clarity\n",
    "\n",
    "I am still not sure which of the two came up with the idea of the underground archive. It will have appealed to Black as a way to provide security to his operation but a civil engineering project of this scale doesn't seem like his sort of thing, so I think it must have been conceived by Charles Grey.<br/>\n",
    "The first tube line had been opened in and London was full of labourers and engineers with the skills needed to build the shadow archive deep beneath New Scotland Yard. Getting access was not going to be easy without Harry's help, but I still didn't have enough to give him the excuse he would need to get openly involved.<br/>\n",
    "My reconnaissance had helped me to find the archive but it didn't give me any obvious way in the duct - that had cost me. The lidar was far too narrow for me to scale and access through the front door was too risky, so I took a gamble and spent another miserable fortnight exploring the labyrinth of sewers and tunnel systems around the neighbourhood. GPS was useless down there and I could easily have got lost, but I marked the tunnels and, on occasions, used Theseus' trick of a ball of twine to help me navigate back. I moved quietly and kept an eye out for sensors. I had no idea whether the shadow archive was still operational or not, but if it was, then security would be tight and I couldn't be sure if they were using infra-red or seismometers for intrusion detection. So I layered up with insulation and moved slowly. It was horrible. I was hot, damp and the air smelled of sewage and mould. I was just about to give up when I found a steel door, marked with the initials VRI: Victoria Regina Imperatrix.<br/>\n",
    "It was incongruous in that dark and dank tunnel, but more significantly, it carried the trademark \"Tann\" on the lock. John Tann was one of the top safe makers in Victorian London and I had cracked one or two of his safes in my other life as a cat burglar. This was big and heavy and very rusty. That told me two things: no-one had used it in a very long time and no-one had upgraded it in just as long.<br/>\n",
    "If the room behind it was still in use, then someone would have been maintaining the lock, so all my precautions were probably unnecessary, but no-one had paid for a Tann safe without something important to hide, so I decided to tackle the lock and after another eighteen hours of grim work, I was in. I had found the shadow archive."
   ]
  },
  {
   "cell_type": "code",
   "execution_count": 38,
   "metadata": {},
   "outputs": [
    {
     "name": "stdout",
     "output_type": "stream",
     "text": [
      "Decoded alphabet: aridnestuvwxyzbcfghjklmopq\n",
      "Keyword: aridne\n"
     ]
    }
   ],
   "source": [
    "# Attempts to determine the keyword used for a substition cipher\n",
    "# alphabet: The substitution alphabet\n",
    "def decode_key(alphabet):\n",
    "    decoded_alphabet = \"\"\n",
    "    for letter in string.ascii_lowercase:\n",
    "        decoded_alphabet += chr(alphabet.find(letter) + ord(\"a\"))\n",
    "    print(f\"Decoded alphabet: {decoded_alphabet}\")\n",
    "    \n",
    "    remaining_letters = list(string.ascii_lowercase)\n",
    "    for pos, letter in enumerate(decoded_alphabet):\n",
    "        remaining_letters.remove(letter)\n",
    "        next_letter_index = remaining_letters.index(decoded_alphabet[pos+1])\n",
    "        if decoded_alphabet[pos+1:] == \"\".join(remaining_letters[next_letter_index:] + remaining_letters[:next_letter_index]):\n",
    "            print(f\"Keyword: {decoded_alphabet[:pos+1]}\")\n",
    "            break\n",
    "\n",
    "decode_key(\"aopdfqrsctuvwexyzbghijklmn\")"
   ]
  },
  {
   "cell_type": "code",
   "execution_count": 29,
   "metadata": {},
   "outputs": [],
   "source": [
    "message5b = \"\"\"JKYRMGHJ WDMDI YNZ GLZ HE KJLX KD RCYHTR YR WZGKYZI ZK NZA JNZYV HYZPYR SD CYR HIDMGHJ WDMDI HAK ZKYD PGDLFYH SZ YZDJJDXXZI JDA CHCLWIYZI PWKYHIHG JRA HA GDRSPRWB YZGRE XZGS HIDMCR GZS VJR ZK YRWB D JDAK YZ CYR YZDJLSYZI NZJ ZK HE KJLX PTHKRGKJ GLZ JPRNWR JR HXZIKLZ HAK HIYHLWSYD ZK YRWB R CHHY D CYR JDJDGI HAK ZK HJYZBJHG HAK HYDXGHKHC ZK YZZJ KCRKJAIDHG YD TYDKHHX HE WWDN JPZMYH JGZGHBXH HAKPWWLSHGRI CRHGK KJLX HN CYR HBZGLH YGHAKGZY YD HIYHLWSYD JKD SZ AKCRHGE HAK YHMDT HGDBXH HAK ZK KRHGAK XGHK GHTYZW R KYHJHGB PRX SWHJKD HLTRHW HAK CYRA GHAKZ HAK YZYZDJDM PGRYZDJYRBOH JRDJJLG YD YDHG ZK XDA YZ PWHG YRI HN VYDAK D ZJ HTRKYRMCR JDA ZK KZY JD RDJJLG CHWCDGEYL YR KRAK CHIYDMYZI HE ZK CHHY KZY WWDN HA CYR GRN GHAKGLS CDZMR ZK CYR YZDTHG HAK YD GHNZB SZ HIYRWRE R YDRKYDRX ZK YHHV PWGRWLIDKGRB JD VIGRXJDEHJLRI GLZ ZK JGZGHBXH HHGAK HAK SZ HLTRHW HAK HTRTYH ZK HWEDJJZB HE PRX KD JKATDWKZZS HAK SZ HGRWT HAK XZGS PRNR PRWB HAK KIHGDC ZK CYR JGZKIR HAK HIYHLWSYD ZK PGK ZK YZDKHGIJDC AKDN CHHIZGB ZK JL NZWWR PRX JDAK KYHCLGB KHP CYR CHTRTYH PWWRGZX HXDK HXRJ HAK KR HGDBXH HAK SZ JHIRS ZNK HAK CWGZN HAK ZK JHKRGKJYZXHC JJHGB HAK CYR KYHXRDWGRB YD CHKILCYZI HKLBJDC GDHAK PKDYLKGZBBZ YR JKYHJHGB DWHRGJDC CYR HYZKJCRWT YHHNKHE KYHXHHGTRJDC IDWELB HAK KRAK VYDAK D YZDKIHWSHG YZ KLE JXDR GLZ KLZER YZDJLSYZI ZK CRHW CWLZI JDAK KRAK HLGK JD KD CYR JIDKIRK GZ PTHKRGKJ PIDWZB YZ HHGTR ZK HWERYL HGR JGHCRHW WRIDKDWZB GLZ KRAK HKRYLKGZSYL GRHBBR PRX KD CRZGER CYR HXZA KR JLZWWRI CYR VRHN TYDGRHBBR VJDG HA YHAK YZDKIRYD JWHJYLZI HA SD HIYHGHSGHKYD YRDJJLG YXHCYZI ZK KWLIDSSDC HE WWDN KD YHAK YZDKIR JKGZBBLJ HA SD VGZS JYZKGZX AKDN CHIRS JD HA GHKJDYDX HXDGB HAK GZS KWLIDSSDC JTYDAK HVRX CYR YZDKYHMGHKYD GZS KGZBBLJ ZK CRHW CWLZI AIDAN YZDKIR GZS HKDKHBBR IDWELB R CHGGDKJ JRA KJRH HAK SZ YZDKJHLF HAK CYR JGZGGZA YRDGRTWLE KHWABXRB JHYZKJCRWT HXZA KRKRHGAK GHCYL HE WWDN RDCYD ZK JHKLZG TYDCRGK GLZ YHAK HWBZYDKYRKJYZI HVRK CYR KIR PHAK SD CYR JYRXZKKZ HAK HTRTYH ZK JVHHJ KD HJLIOH HAK JR JDAK HVRK WWDN RDJJLG KRAK VJDG R JD HGHAK HBZGLH SZ JHDGHWWHIYRAI HAK YD HTRGKLZ CHJLRI JRA JVGLK HAK PE YZDJJHGBBLJ WRKLGE JKD CYR RDGRTWLE YD TYDJDGBL WDGBR HAK\"\"\""
   ]
  },
  {
   "cell_type": "code",
   "execution_count": 31,
   "metadata": {},
   "outputs": [
    {
     "name": "stdout",
     "output_type": "stream",
     "text": [
      "HAK: 29 (7.51%) ZK: 25 (6.48%) CYR: 18 (4.66%) SZ:  8 (2.07%) HE:  7 (1.81%)\n",
      "YD:  7 (1.81%) GLZ:  6 (1.55%) KD:  6 (1.55%) HA:  6 (1.55%) R:  5 (1.30%)\n",
      "WWDN:  5 (1.30%) JD:  5 (1.30%) KRAK:  5 (1.30%) SD:  4 (1.04%) GZS:  4 (1.04%)\n",
      "D:  4 (1.04%) JDAK:  4 (1.04%) YZ:  4 (1.04%) PRX:  4 (1.04%) KJLX:  3 (0.78%)\n",
      "YR:  3 (0.78%) JRA:  3 (0.78%) HIYHLWSYD:  3 (0.78%) YHAK:  3 (0.78%) WDMDI:  2 (0.52%)\n",
      "JDA:  2 (0.52%) XZGS:  2 (0.52%) YRWB:  2 (0.52%) YZDJLSYZI:  2 (0.52%) PTHKRGKJ:  2 (0.52%)\n",
      "\n",
      "-----\n"
     ]
    }
   ],
   "source": [
    "frequency_analysis(message5b.split())"
   ]
  },
  {
   "cell_type": "code",
   "execution_count": 32,
   "metadata": {},
   "outputs": [
    {
     "name": "stdout",
     "output_type": "stream",
     "text": [
      "JeYRMGtJ WDMDI YNZ GLZ tE eJLX eD RCYtTR YR WZGeYZI Ze NZh JNZYV tYZPYR SD CYR tIDMGtJ WDMDI the ZeYD PGDLFYt SZ YZDJJDXXZI JDh CtCLWIYZI PWeYtItG JRh th GDRSPRWB YZGRE XZGS tIDMCR GZS VJR Ze YRWB D JDhe YZ CYR YZDJLSYZI NZJ Ze tE eJLX PTteRGeJ GLZ JPRNWR JR tXZIeLZ the tIYtLWSYD Ze YRWB R CttY D CYR JDJDGI the Ze tJYZBJtG the tYDXGtetC Ze YZZJ eCReJhIDtG YD TYDettX tE WWDN JPZMYt JGZGtBXt thePWWLStGRI CRtGe eJLX tN CYR tBZGLt YGtheGZY YD tIYtLWSYD JeD SZ heCRtGE the YtMDT tGDBXt the Ze eRtGhe XGte GtTYZW R eYtJtGB PRX SWtJeD tLTRtW the CYRh GtheZ the YZYZDJDM PGRYZDJYRBOt JRDJJLG YD YDtG Ze XDh YZ PWtG YRI tN VYDhe D ZJ tTReYRMCR JDh Ze eZY JD RDJJLG CtWCDGEYL YR eRhe CtIYDMYZI tE Ze CttY eZY WWDN th CYR GRN GtheGLS CDZMR Ze CYR YZDTtG the YD GtNZB SZ tIYRWRE R YDReYDRX Ze YttV PWGRWLIDeGRB JD VIGRXJDEtJLRI GLZ Ze JGZGtBXt ttGhe the SZ tLTRtW the tTRTYt Ze tWEDJJZB tE PRX eD JehTDWeZZS the SZ tGRWT the XZGS PRNR PRWB the eItGDC Ze CYR JGZeIR the tIYtLWSYD Ze PGe Ze YZDetGIJDC heDN CttIZGB Ze JL NZWWR PRX JDhe eYtCLGB etP CYR CtTRTYt PWWRGZX tXDe tXRJ the eR tGDBXt the SZ JtIRS ZNe the CWGZN the Ze JteRGeJYZXtC JJtGB the CYR eYtXRDWGRB YD CteILCYZI teLBJDC GDthe PeDYLeGZBBZ YR JeYtJtGB DWtRGJDC CYR tYZeJCRWT YttNetE eYtXttGTRJDC IDWELB the eRhe VYDhe D YZDeItWStG YZ eLE JXDR GLZ eLZER YZDJLSYZI Ze CRtW CWLZI JDhe eRhe tLGe JD eD CYR JIDeIRe GZ PTteRGeJ PIDWZB YZ ttGTR Ze tWERYL tGR JGtCRtW WRIDeDWZB GLZ eRhe teRYLeGZSYL GRtBBR PRX eD CRZGER CYR tXZh eR JLZWWRI CYR VRtN TYDGRtBBR VJDG th Ythe YZDeIRYD JWtJYLZI th SD tIYtGtSGteYD YRDJJLG YXtCYZI Ze eWLIDSSDC tE WWDN eD Ythe YZDeIR JeGZBBLJ th SD VGZS JYZeGZX heDN CtIRS JD th GteJDYDX tXDGB the GZS eWLIDSSDC JTYDhe tVRX CYR YZDeYtMGteYD GZS eGZBBLJ Ze CRtW CWLZI hIDhN YZDeIR GZS teDetBBR IDWELB R CtGGDeJ JRh eJRt the SZ YZDeJtLF the CYR JGZGGZh YRDGRTWLE etWhBXRB JtYZeJCRWT tXZh eReRtGhe GtCYL tE WWDN RDCYD Ze JteLZG TYDCRGe GLZ Ythe tWBZYDeYReJYZI tVRe CYR eIR Pthe SD CYR JYRXZeeZ the tTRTYt Ze JVttJ eD tJLIOt the JR JDhe tVRe WWDN RDJJLG eRhe VJDG R JD tGthe tBZGLt SZ JtDGtWWtIYRhI the YD tTRGeLZ CtJLRI JRh JVGLe the PE YZDJJtGBBLJ WReLGE JeD CYR RDGRTWLE YD TYDJDGBL WDGBR the\n"
     ]
    }
   ],
   "source": [
    "# \"HAK\" must be \"the\"\n",
    "decode(message5b, \"hBCDEFGtIJeLMNOPQRSTUVWXYZ\")"
   ]
  },
  {
   "cell_type": "code",
   "execution_count": 33,
   "metadata": {},
   "outputs": [
    {
     "name": "stdout",
     "output_type": "stream",
     "text": [
      "the RBGDW LBGDJDYT DY ELWTRGDR RYC DtJ EGLtRW JLBBGeJJDZY EP the tLGVJ hRJ IRLJeC ZLtGRTe DY the IhRYIeWWeGDeJ ZS eLGZBe theGe DJ R GDJV thRt GLJJDR NDWW tRVe thDJ RJ the eOILJe Dt JeeVJ tZ eYTRTe the ZttZXRYJ RYC DS theP RIt RYC tRVe IZYJtRYtDYZBWe theY ZLG tGRCDYT GZLteJ tZ DYCDR NDWW Ee LYCeG thGeRtRt hZXe TWRCJtZYeJ BRXBhWet ELWTRGDRY hZGGZGJ RYC the FLeJtDZY ZS the eRJt hRJ JtDGGeC R BLEWDI RBBetDte SZG RItDZY NhDIh IZLWC WeRC tZ JLBBZGt SZG DYteGMeYtDZY RYC XRVe thDYTJ CDSSDILWt SZG the BGDXe XDYDJteG he DJ SRIeC NDth XZGtZYJ SZGV DS he JLBBZGtJ RItDZY theY Dt NDWW Ee CDSSDILWt tZ IZYCeXY GLJJDRY DYteGSeGeYIe DS he IZLYJeWJ DYRItDZY theY he GDJV RBBeRGDYT NeRV RYC IRWWZLJ Rt hZXe RYC REGZRC Dt XRP RBBeRG LYSZGtLYRte thRt ZLG BZWDtDIRW WeRCeGJ RGe LYREWe tZ RTGee ZY BZWDIP JtGRteTP ZG tRItDIJ RYC Dt DJ tGLe thRt thDJ IZLWC WeRC tZ IZYSLJDZY REZLt ZLG RDXJ ELt ZY GeSWeItDZY D thDYV thRt the BLEWDI CDJRTGeeXeYt EetNeeY TWRCJtZYe RYC CDJGReWD BGeJeYtJ RY ZBBZGtLYDtP theDG CDJBLte IZYCLIteC DY BRGWDRXeYt RYC the BGeJJ CeXZYJtGRteJ tZ the NZGWC the tNZ SRIeJ ZS the eXBDGe Rt the JRXe tDXe XZGRWWP eYTRTeC RYC Pet BGLCeYt thDJ XRP RWWZN LJ tZ BGZIeeC NDth CDJIGetDZY tZ tGP tZ DYSWLeYIe the RItZGJ RYC tZ CDGeIt the BWRP RNRP SGZX the TWRGe ZS the SZZtWDThtJ Dt XRP Ee BZJJDEWe tZ eYTRTe the WeRTLe ZS the thGee eXBeGZGJ tZ ZLG IRLJeEDJXRGIV DJ BRGtDILWRGWP VeeY tZ XRDYtRDY R ERWRYIe ZS BZNeG DY the GeTDZY RYC tZ RMZDC SLGtheG NRG RYC he NDWW YZt YeeC tZ Ee IZYMDYIeC thRt RY LYEGDCWeC GLJJDR DJ YZt tZ hDJ RCMRYtRTe JZ D thDYV Ne IRY GeWP ZY hDX tZ GeDY DY GLJJDRJ eOBRYJDZYRGP MDJDZYZY the ZtheG hRYC the WeRTLe DtJeWS XRP BGeJeYt R WZYTeG teGX thGeRt tZ the eXBDGe TDMeY the EGeRCth ZS DtJ DYSWLeYIe DY YZGtheGY eLGZBe RYC Ne XLJt tGeRC IRGeSLWWPthe eXBeGZGJ eYMZPJ NDWW Ee XeetDYT DY GeDIhJtRCt JZZY tZ CeteGXDYe the GeJBZYJe tZ the IGDJDJ RYC D YeeC R BWRY tZ DYSWLeYIe the ZLtIZXe RJ RWNRPJ ZLG JtGRteTP XLJt Ee tZ JZN IZYSLJDZY RYC ZY thDJ D BWRY tZ RJV SZG RCMDIe SGZX ERGZY BWRPSRDG he hRJ GeIeYtWP IZYIWLCeC hDJ IZXXDJJDZY ZS eYFLDGP DYtZ the IDMDW JeGMDIe RYC DS RYPZYe VYZNJ hZN tZ IZYtGZW RY RTeYCR Dt XLJt Ee ZLG ZNY IDMDW JeGMRYtJ\n"
     ]
    }
   ],
   "source": [
    "# The last word is \"the\", therefore this is probably reversed, and \"HAK\" is \"eht\"\n",
    "reverse5b = message5b[::-1]\n",
    "decode(reverse5b, \"hBCDEFGeIJtLMNOPQRSTUVWXYZ\")"
   ]
  },
  {
   "cell_type": "code",
   "execution_count": 34,
   "metadata": {},
   "outputs": [
    {
     "name": "stdout",
     "output_type": "stream",
     "text": [
      "the aBrDW LBrDJDnT Dn ELWTarDa anC DtJ ErLtaW JLBBreJJDon EP the tLrVJ haJ IaLJeC oLtraTe Dn the IhanIeWWerDeJ oS eLroBe there DJ a rDJV that rLJJDa NDWW taVe thDJ aJ the eOILJe Dt JeeVJ to enTaTe the ottoXanJ anC DS theP aIt anC taVe IonJtantDnoBWe then oLr traCDnT roLteJ to DnCDa NDWW Ee LnCer threatat hoXe TWaCJtoneJ BaXBhWet ELWTarDan horrorJ anC the FLeJtDon oS the eaJt haJ JtDrreC a BLEWDI aBBetDte Sor aItDon NhDIh IoLWC WeaC to JLBBort Sor DnterMentDon anC XaVe thDnTJ CDSSDILWt Sor the BrDXe XDnDJter he DJ SaIeC NDth XortonJ SorV DS he JLBBortJ aItDon then Dt NDWW Ee CDSSDILWt to IonCeXn rLJJDan DnterSerenIe DS he IoLnJeWJ DnaItDon then he rDJV aBBearDnT NeaV anC IaWWoLJ at hoXe anC aEroaC Dt XaP aBBear LnSortLnate that oLr BoWDtDIaW WeaCerJ are LnaEWe to aTree on BoWDIP JtrateTP or taItDIJ anC Dt DJ trLe that thDJ IoLWC WeaC to IonSLJDon aEoLt oLr aDXJ ELt on reSWeItDon D thDnV that the BLEWDI CDJaTreeXent EetNeen TWaCJtone anC CDJraeWD BreJentJ an oBBortLnDtP theDr CDJBLte IonCLIteC Dn BarWDaXent anC the BreJJ CeXonJtrateJ to the NorWC the tNo SaIeJ oS the eXBDre at the JaXe tDXe XoraWWP enTaTeC anC Pet BrLCent thDJ XaP aWWoN LJ to BroIeeC NDth CDJIretDon to trP to DnSWLenIe the aItorJ anC to CDreIt the BWaP aNaP SroX the TWare oS the SootWDThtJ Dt XaP Ee BoJJDEWe to enTaTe the WeaTLe oS the three eXBerorJ to oLr IaLJeEDJXarIV DJ BartDILWarWP Veen to XaDntaDn a EaWanIe oS BoNer Dn the reTDon anC to aMoDC SLrther Nar anC he NDWW not neeC to Ee IonMDnIeC that an LnErDCWeC rLJJDa DJ not to hDJ aCMantaTe Jo D thDnV Ne Ian reWP on hDX to reDn Dn rLJJDaJ eOBanJDonarP MDJDonon the other hanC the WeaTLe DtJeWS XaP BreJent a WonTer terX threat to the eXBDre TDMen the EreaCth oS DtJ DnSWLenIe Dn northern eLroBe anC Ne XLJt treaC IareSLWWPthe eXBerorJ enMoPJ NDWW Ee XeetDnT Dn reDIhJtaCt Joon to CeterXDne the reJBonJe to the IrDJDJ anC D neeC a BWan to DnSWLenIe the oLtIoXe aJ aWNaPJ oLr JtrateTP XLJt Ee to JoN IonSLJDon anC on thDJ D BWan to aJV Sor aCMDIe SroX Earon BWaPSaDr he haJ reIentWP IonIWLCeC hDJ IoXXDJJDon oS enFLDrP Dnto the IDMDW JerMDIe anC DS anPone VnoNJ hoN to IontroW an aTenCa Dt XLJt Ee oLr oNn IDMDW JerMantJ\n"
     ]
    }
   ],
   "source": [
    "# \"thGee\" -> G=r\n",
    "# \"thRt\" -> R=a\n",
    "# \"theY he\" -> Y=n\n",
    "# \"ZtheG\" -> Z=o\n",
    "decode(reverse5b, \"hBCDEFreIJtLMNOPQaSTUVWXno\")"
   ]
  },
  {
   "cell_type": "code",
   "execution_count": 35,
   "metadata": {},
   "outputs": [
    {
     "name": "stdout",
     "output_type": "stream",
     "text": [
      "the april Lprising in ELlgaria anC its ErLtal sLppression Ey the tLrks has caLseC oLtrage in the chancelleries oS eLrope there is a risk that rLssia Nill take this as the eOcLse it seeks to engage the ottomans anC iS they act anC take constantinople then oLr traCing roLtes to inCia Nill Ee LnCer threatat home glaCstones pamphlet ELlgarian horrors anC the FLestion oS the east has stirreC a pLElic appetite Sor action Nhich coLlC leaC to sLpport Sor interMention anC make things CiSSicLlt Sor the prime minister he is SaceC Nith mortons Sork iS he sLpports action then it Nill Ee CiSSicLlt to conCemn rLssian interSerence iS he coLnsels inaction then he risk appearing Neak anC calloLs at home anC aEroaC it may appear LnSortLnate that oLr political leaCers are LnaEle to agree on policy strategy or tactics anC it is trLe that this coLlC leaC to conSLsion aEoLt oLr aims ELt on reSlection i think that the pLElic Cisagreement EetNeen glaCstone anC Cisraeli presents an opportLnity their CispLte conCLcteC in parliament anC the press Cemonstrates to the NorlC the tNo Saces oS the empire at the same time morally engageC anC yet prLCent this may alloN Ls to proceeC Nith Ciscretion to try to inSlLence the actors anC to Cirect the play aNay Srom the glare oS the Sootlights it may Ee possiEle to engage the leagLe oS the three emperors to oLr caLseEismarck is particLlarly keen to maintain a Ealance oS poNer in the region anC to aMoiC SLrther Nar anC he Nill not neeC to Ee conMinceC that an LnEriCleC rLssia is not to his aCMantage so i think Ne can rely on him to rein in rLssias eOpansionary Misionon the other hanC the leagLe itselS may present a longer term threat to the empire giMen the EreaCth oS its inSlLence in northern eLrope anC Ne mLst treaC careSLllythe emperors enMoys Nill Ee meeting in reichstaCt soon to Cetermine the response to the crisis anC i neeC a plan to inSlLence the oLtcome as alNays oLr strategy mLst Ee to soN conSLsion anC on this i plan to ask Sor aCMice Srom Earon playSair he has recently conclLCeC his commission oS enFLiry into the ciMil serMice anC iS anyone knoNs hoN to control an agenCa it mLst Ee oLr oNn ciMil serMants\n"
     ]
    }
   ],
   "source": [
    "# \"IontroW\" -> I=c, W=l\n",
    "# \"taVe thDJ aJ\" -> V=k, D=i, J=s\n",
    "# \"JtrateTP\" -> T=g, P=y\n",
    "# \"three eXBerorJ\" -> X=m, B=p\n",
    "decode(reverse5b, \"hpCiEFrecstLMNOyQaSgUklmno\")"
   ]
  },
  {
   "cell_type": "code",
   "execution_count": 36,
   "metadata": {},
   "outputs": [
    {
     "name": "stdout",
     "output_type": "stream",
     "text": [
      "the april uprising in bulgaria and its brutal suppression by the turks has caused outrage in the chancelleries of europe there is a risk that russia will take this as the excuse it seeks to engage the ottomans and if they act and take constantinople then our trading routes to india will be under threatat home gladstones pamphlet bulgarian horrors and the question of the east has stirred a public appetite for action which could lead to support for intervention and make things difficult for the prime minister he is faced with mortons fork if he supports action then it will be difficult to condemn russian interference if he counsels inaction then he risk appearing weak and callous at home and abroad it may appear unfortunate that our political leaders are unable to agree on policy strategy or tactics and it is true that this could lead to confusion about our aims but on reflection i think that the public disagreement between gladstone and disraeli presents an opportunity their dispute conducted in parliament and the press demonstrates to the world the two faces of the empire at the same time morally engaged and yet prudent this may allow us to proceed with discretion to try to influence the actors and to direct the play away from the glare of the footlights it may be possible to engage the league of the three emperors to our causebismarck is particularly keen to maintain a balance of power in the region and to avoid further war and he will not need to be convinced that an unbridled russia is not to his advantage so i think we can rely on him to rein in russias expansionary visionon the other hand the league itself may present a longer term threat to the empire given the breadth of its influence in northern europe and we must tread carefullythe emperors envoys will be meeting in reichstadt soon to determine the response to the crisis and i need a plan to influence the outcome as always our strategy must be to sow confusion and on this i plan to ask for advice from baron playfair he has recently concluded his commission of enquiry into the civil service and if anyone knows how to control an agenda it must be our own civil servants\n"
     ]
    }
   ],
   "source": [
    "# \"Lprising\" -> L=u\n",
    "# \"ELlgaria\" -> E=b\n",
    "# \"anC\" -> C=d\n",
    "# \"oS\" -> S=f\n",
    "# \"FLestion\" -> F=q\n",
    "# \"Nhich\" -> N=w\n",
    "# Filling in, M=v, O=x, Q=z, U=j\n",
    "decode(reverse5b, \"hpdibqrecstuvwxyzafgjklmno\")"
   ]
  },
  {
   "cell_type": "code",
   "execution_count": 39,
   "metadata": {},
   "outputs": [
    {
     "name": "stdout",
     "output_type": "stream",
     "text": [
      "Decoded alphabet: reichstaduvwxyzbfgjklmnopq\n",
      "Keyword: reichstad\n"
     ]
    }
   ],
   "source": [
    "decode_key(\"hpdibqrecstuvwxyzafgjklmno\")"
   ]
  },
  {
   "cell_type": "code",
   "execution_count": null,
   "metadata": {},
   "outputs": [],
   "source": []
  }
 ],
 "metadata": {
  "kernelspec": {
   "display_name": "Python 3",
   "language": "python",
   "name": "python3"
  },
  "language_info": {
   "codemirror_mode": {
    "name": "ipython",
    "version": 3
   },
   "file_extension": ".py",
   "mimetype": "text/x-python",
   "name": "python",
   "nbconvert_exporter": "python",
   "pygments_lexer": "ipython3",
   "version": "3.8.3"
  }
 },
 "nbformat": 4,
 "nbformat_minor": 4
}
