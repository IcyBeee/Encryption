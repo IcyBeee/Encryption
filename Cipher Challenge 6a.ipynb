{
 "cells": [
  {
   "cell_type": "markdown",
   "metadata": {},
   "source": [
    "# Cipher Challenge 6a"
   ]
  },
  {
   "cell_type": "code",
   "execution_count": 2,
   "metadata": {},
   "outputs": [],
   "source": [
    "# Here we go again...\n",
    "message6a = \"\"\"\n",
    "Yim flgf age jgzxgexoo audo! Zti rqxzqv za xnq Tuex iayrp lghi xqerxc yfmxdij flozky gt gzh vdibqrzurm uxy byhxmimxoar cmw g fsv bvoavofc. Ztetw cugv ldmkzhy ur Rmrmxie rsx sizfmts xnmx jark.\n",
    "\n",
    "Aj iayxei, zti rqxzqv xmmyqw gz ecryr xsz aj wgiyfmuzw gzh g iluxi tqa vdshxis. Ii taa nmzk fau urbqwzukgfmuzw gzh zis vqvvqxxmxudw za ggfgn: flk eehaxkgv gzh zti sapk. Flk xizfix ostfeozij pizmmre xnmx gdi qzscz xu m jki qkyfkdw ur sad xkmq gzh g iluxi hgrit sl qrmurkqvy mx TMWG es cq exq kuurm fs nmzk vyyf ey yyit xxayhxi tmvxaaozk zti tqa zmvmqx ruwz mw cq hop aofl zti luvyf stq, etp ak tebqr’z yejq qaol vdsmdiye aofl ztez. U waetkox ztez ayx xigwix imrx xxk xu siz tmy av nqv sqwymkk ayz mkgur, ya, vkxyifetfpe, U xnurq ii cupr tebq xu byz essq ilrsxf mtfs ztez urbqwzukgfmuz. M gy okqr tax za hohixf xua qaol xqwugviq ecmc ldss flk eehaxgsi kzuauve es imr O xighi eay xgrturm flk ysrq lazx? Eay gdi vdizfc cqpr ostziifij imzt xnq txqwy. U xnurq ii tqij fs zmok floe ecmc ldss flk OMG mw ztie mvk zsz digxpe eyvbsyqh za fk mgzuzk mx naqk, nyz yeeni eay iayrp idbpuux eayx axnqv rurqe ez flk Nyxqea?\n",
    "\n",
    "U hop lghi yaqk flugknfw gnsaf xnq pkfxkd: mz yeqqw g ossbirxmts ggei ztez flk Esbuize exq xu npgyi lav gxp zti vdshxise ez ZEYM, wu U wzqtvqh ab wadzkuprmriq mt flk GWYD, etp ey m vkeyrf xnq Xkgjkxwhqvm xmyfiturm bsyf mtfixoivfij flk mxzmgnqh sqwymkk ilool cmw lxemsij fsv eiidiz. Ii nmzk tej fvugfrq fxqequrm ux hgx uzi ur xnq joqpj mkkzxy flozoy ti xqgusroeiy ux ge e iaqhurgfmuz sl mrgsvgyqozk gzh ygfyfmzgxoar, ya qgkfk ii ytsaxh yqx g figy audoozk uz mz ar ztez neyuw.\n",
    "\n",
    "Zgvturm fs zti iarzqrz, ux xqeje e ruxzxi ruok m gxmde ostetodeik rkiwrqxzqv, gzh O mq lurjurm ux nmvj fs hqpoqzk mreark isxwmts ez flk mkkzge isaxh lux ztez bvurmrq. Faf ml ayx ysrq huqwt’f audo gf RGEE, ctixq exq xnqc mqxzurm mpr flkuv ozxkx jxaq? Cq exqr’z nvumhimwzurm ux gzh TMWG uw zdcozk bqve texp xu wikb mz grjqv cdeve. Gugpj ksa mwq flk Nyxqea’e txajoxixe xu feqq e rasq mrj eik uj ztie oet eik mreflozk?\n",
    "\n",
    "O wikb xnurqurm U lghi suwyqh yaqkflozk yuktujooetf lkdi, gzh ztixq age hkrmtuxkxc yaqkflozk oz cugv rmwz yiyeemq xnmx oe vkmprk fuflkdmts qk, nyz U ggz’x vgx sk jozkkd st ux. O mq ygvk flkdi oe e huk ixyk fs yaqkflozk yfexurm yi oz xnq jgoi. O’xp rqx eay qzsc uj O isxw mz ayz. Ur zti sqetfmsq, lkdi oe xnq mtfixoivf, pkf qk wrui lui cug kkf st.\n",
    "\"\"\""
   ]
  },
  {
   "cell_type": "code",
   "execution_count": 3,
   "metadata": {},
   "outputs": [
    {
     "name": "stdout",
     "output_type": "stream",
     "text": [
      "X: 136 (7.35%) Z: 124 (6.70%) I: 118 (6.37%) Q: 109 (5.89%) M: 106 (5.73%) \n",
      "E: 106 (5.73%) U: 101 (5.46%) K: 100 (5.40%) R: 84 (4.54%) F: 83 (4.48%) \n",
      "G: 82 (4.43%) Y: 80 (4.32%) A: 75 (4.05%) T: 71 (3.84%) S: 68 (3.67%) \n",
      "O: 64 (3.46%) L: 50 (2.70%) V: 50 (2.70%) W: 42 (2.27%) H: 39 (2.11%) \n",
      "D: 33 (1.78%) N: 33 (1.78%) J: 29 (1.57%) P: 25 (1.35%) C: 25 (1.35%) \n",
      "B: 18 (0.97%) \n",
      "-----\n",
      "FLK: 11 (2.49%) GZH:  9 (2.04%) ZTI:  8 (1.81%) XNQ:  7 (1.59%) U:  7 (1.59%) \n",
      "XU:  6 (1.36%) G:  5 (1.13%) II:  5 (1.13%) FS:  5 (1.13%) ZTEZ:  5 (1.13%) \n",
      "O:  5 (1.13%) UX:  5 (1.13%) ZA:  4 (0.91%) UR:  4 (0.91%) M:  4 (0.91%) \n",
      "EAY:  4 (0.91%) MZ:  4 (0.91%) E:  4 (0.91%) LGHI:  3 (0.68%) XNMX:  3 (0.68%) \n",
      "NMZK:  3 (0.68%) CQ:  3 (0.68%) EXQ:  3 (0.68%) EZ:  3 (0.68%) YAQKFLOZK:  3 (0.68%) \n",
      "OE:  3 (0.68%) AGE:  2 (0.45%) RQXZQV:  2 (0.45%) IAYRP:  2 (0.45%) CMW:  2 (0.45%) \n",
      "\n",
      "-----\n"
     ]
    }
   ],
   "source": [
    "# Let's do the Frequency Analysis thing again, on words and letters\n",
    "from collections import Counter\n",
    "\n",
    "def frequency_analysis(data):\n",
    "    frequencies = Counter()\n",
    "    for item in data:\n",
    "        frequencies[item] += 1\n",
    "    \n",
    "    total = sum(frequencies.values())\n",
    "    column = 0\n",
    "    for item, frequency in frequencies.most_common(30):\n",
    "        print(f\"{item}: {frequency:2} ({frequency / total:.2%})\", end=\" \")\n",
    "        column += 1\n",
    "        if column %5 == 0:\n",
    "            print()\n",
    "    print(\"\\n-----\")\n",
    "\n",
    "frequency_analysis([letter for letter in message6a.upper() if letter.isalpha()])\n",
    "frequency_analysis(message6a.upper().split())"
   ]
  },
  {
   "cell_type": "code",
   "execution_count": 8,
   "metadata": {},
   "outputs": [],
   "source": [
    "# Hmmm.  Don't think that matches up with another monoalphabetic substitution cipher.  No obvious \"E\" or \"the\"\n",
    "# It's not a columnular cipher, because there are capitals and punctuation in proper places.\n",
    "# Let's try a vigenere...\n",
    "\n",
    "def vigenere(text, key, encode=False):\n",
    "    shifts = [ord(letter.upper()) - ord(\"A\") for letter in key]\n",
    "    key_length = len(key)\n",
    "    key_index = 0\n",
    "    for letter in text:\n",
    "        letter_val = ord(letter)\n",
    "        if letter.isupper():\n",
    "            offset = ord(\"A\")\n",
    "        elif letter.islower():\n",
    "            offset = ord(\"a\")\n",
    "        else:\n",
    "            print(letter, end=\"\")\n",
    "            continue\n",
    "\n",
    "        if encode:\n",
    "            shift = shifts[key_index]\n",
    "        else:\n",
    "            shift = -shifts[key_index]\n",
    "\n",
    "        print(chr((((letter_val - offset) + shift) % 26) + offset), end=\"\")\n",
    "        key_index = (key_index + 1) % key_length\n",
    "    print()"
   ]
  },
  {
   "cell_type": "code",
   "execution_count": 20,
   "metadata": {},
   "outputs": [
    {
     "name": "stdout",
     "output_type": "stream",
     "text": [
      "\n",
      "Meg that was fantastic work! The letter to the Post could have really stirred things up and preventing its publication was a top priority. Thank your friends in Langley for getting that done.\n",
      "\n",
      "Of course, the letter raises an awful lot of questions and a whole new problem. We now have two investigations and two perpetrators to catch: the saboteur and the mole. The letter contained details that are known to a few members of our team and a whole bunch of engineers at NASA so we are going to have just as much trouble narrowing the new target list as we did with the first one, and we haven’t made much progress with that. I suspect that our leaker will try to get his or her message out again, so, reluctantly, I think we will have to put some effort into that investigation. I am keen not to divert too much resource away from the sabotage enquiry so can I leave you running the mole hunt? You are pretty well connected with the press. I think we need to take this away from the CIA as they are not really supposed to be active at home, but maybe you could exploit your other links at the Bureau?\n",
      "\n",
      "I did have some thoughts about the letter: it makes a compelling case that the Soviets are to blame for all the problems at NASA, so I stepped up surveillance in the USSR, and as a result the Teufelsberg listening post intercepted the attached message which was flagged top secret. We have had trouble breaking it but one of the field agents thinks he recognises it as a combination of anagramming and substitution, so maybe we should set a team working on it on that basis.\n",
      "\n",
      "Turning to the content, it reads a little like a crazy conspiracy newsletter, and I am finding it hard to believe anyone working at the agency would fit that profile. But if our mole doesn’t work at NASA, where are they getting all their intel from? We aren’t broadcasting it and NASA is trying very hard to keep it under wraps. Could you ask the Bureau’s profilers to take a look and see if they can see anything?\n",
      "\n",
      "I keep thinking I have missed something significant here, and there was definitely something in your last message that is really bothering me, but I can’t put my finger on it. I am sure there is a big clue to something staring me in the face. I’ll let you know if I work it out. In the meantime, here is the intercept, let me know how you get on.\n",
      "\n"
     ]
    }
   ],
   "source": [
    "# There's a lot of capital \"O\"s, and one \"O’xp\" - which could be \"I\" and \"I'll\"\n",
    "# There are several capitalised words: TMWG(x2), ZEYM, GWYD & RGEE - which are likely to be NASA\n",
    "# I tried putting random letters in the key to see if I could get one of them to work.  Not great.\n",
    "# Then I decided that approach works best if you start from the beginning.  I wonder if the first word might be \"Meg\" again...\n",
    "\n",
    "vigenere(message6a, \"meg\")"
   ]
  },
  {
   "cell_type": "markdown",
   "metadata": {},
   "source": [
    "Turns out that \"meg\" turns \"Yim\" into \"Meg\", and everything else just fell out!  That was lucky!"
   ]
  },
  {
   "cell_type": "code",
   "execution_count": null,
   "metadata": {},
   "outputs": [],
   "source": []
  }
 ],
 "metadata": {
  "kernelspec": {
   "display_name": "Python 3",
   "language": "python",
   "name": "python3"
  },
  "language_info": {
   "codemirror_mode": {
    "name": "ipython",
    "version": 3
   },
   "file_extension": ".py",
   "mimetype": "text/x-python",
   "name": "python",
   "nbconvert_exporter": "python",
   "pygments_lexer": "ipython3",
   "version": "3.7.4"
  }
 },
 "nbformat": 4,
 "nbformat_minor": 4
}
