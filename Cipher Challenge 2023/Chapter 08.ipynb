{
 "cells": [
  {
   "cell_type": "markdown",
   "metadata": {},
   "source": [
    "#### Cipher Challenge 2023\n",
    "### Chapter 08 / 2023-Nov-30\n",
    "\n",
    "Challenge link https://www.cipherchallenge.org/challenge/challenge-8/"
   ]
  },
  {
   "cell_type": "code",
   "execution_count": 23,
   "metadata": {},
   "outputs": [],
   "source": [
    "# Part A - \"Reading list\"\n",
    "part_a_text = \"\"\"SIJKJ BZTYS KYZZL APNAE PAQHF AWGEU WPPPS OPIEN NPTXE BWKAQ UMFZW HQEZT EPSIA MFXOJ MMTIE LEQDE YWLOP ZQVWM SKHPQ TYLAT XVGMP VLBCM DRDCJ XTSFH HEZHT VLAPP GNDMZ HWLOT DQFOZ TNXOU SBDQW PLAUE PIJEJ DWKJI FQTWM LLJGN EBZXW QTKLZ QMSMS MEIUA PLWQE ZSVEN JHXPW KDXWE WAGNE PWKOM WILBL TNPEX YBLHT BEHCM GOPZL APMXY ZZLTY LEHYM QLSMK IPVLM CGAGR BGXDB SUWQK APDAW PVUXN WFGPK LBYOL APPGN DMZHW LLHEP WTEBW FABWW EPWYE AZHHA ZHHQE IZZLT YBAMH IKMZP WKTAA MAWKL TJDXE PSMTB OTDVL KZOWK DEZHZ ZYTYQ KXOBZ XEPWY EKGNW LKHXM GGPQF MSMET YWJAL DWALL SZCCV ZPIYT TVKMX IALTM KMPID BYOXK ZULAP TAUCI JRDMW FDTAD PIYHZ LAYNW FOZTM MPLOT JBGZP BSMSM JBHWM EOTAD PBGKP IVFZZ WHQUS BDQWL EPGNR PLLMC LLSMO TDDWK JKSKP NMESM JWTIJ RAIYX DEWKP MFVCG HMPLO BEPSA ZALHQ LAYQM JXYBU BAPWK DIFWL ALBXM OXYBG GDPWT OIHMP LSGOA LKPVY MSMFX OBZXX BZBDW FXWWG DDPSK OJMMT BALCM SEWGH KPBLR PIKRE PWELB WKZVW LRMLT WWLMZ CYAPZ SGJES RHMFX PLLHA TSGZC JGPFL LEMHL NWMEO GGNEZ QMZOW MLTAL EWXMS MEXXJ WKDWX KZOWK DPGND MZHWL SGOUS DPMFJ FQJBP ASUZC LMSME BEEGN WLTXR WGWEW CGZEA YEPWK PESLL VQHYM OAZPS WLZWT DWFMZ LALWQ CXXIA LTMOX DPGNW LFHEL ALNWM GEUSB DQWLE PWHCG LALBL APBZX QBOTD XSKEW XTYQF LFZSG NMKVL UWBEP WKMCL BQQFW TBZTC LLHMM DBPDW MSILK ZOWKD EGNWL ZTGMJ BDSWW SQKKP XMMLB AHYIF WSQKV SIFVP WXMSM YHGMJ GZZKA TXWOP VAYSM OTDAZ HCBGY XWFXJ XWHAT WETSW ATUUH FTVND CSEWG XBYLK HXMGG PBGUL KCMSM EBWWG DQWJP LZVMZ PWTCQ FZQZG FJWMC ZLAXA AOALB SKPGG NCMSW TVYKT OZMYW O\"\"\""
   ]
  },
  {
   "cell_type": "code",
   "execution_count": 24,
   "metadata": {},
   "outputs": [],
   "source": [
    "from collections import Counter\n",
    "\n",
    "# Takes a string or list of items and counts the frequencies of those items\n",
    "# data: The list or string to analyse\n",
    "# max_values: The maximum number of values to display (set to None for no limit)\n",
    "# no_columns: The amount of columns to use in the output\n",
    "def frequency_analysis(data, max_values=30, no_columns=5):\n",
    "    frequencies = Counter()\n",
    "    for item in data:\n",
    "        frequencies[item] += 1\n",
    "    \n",
    "    total = sum(frequencies.values())\n",
    "    column = 1\n",
    "    for item, frequency in frequencies.most_common(max_values):\n",
    "        print(f\"{item}: {frequency:2} ({frequency / total:.2%})\", end=\" \" if column % no_columns else \"\\n\")\n",
    "        column += 1\n",
    "    print(\"\\n-----\")"
   ]
  },
  {
   "cell_type": "code",
   "execution_count": 29,
   "metadata": {},
   "outputs": [
    {
     "name": "stdout",
     "output_type": "stream",
     "text": [
      "W: 97 (8.01%) L: 89 (7.35%) M: 85 (7.02%) P: 76 (6.28%) Z: 64 (5.28%)\n",
      "E: 61 (5.04%) A: 60 (4.95%) T: 55 (4.54%) S: 51 (4.21%) K: 50 (4.13%)\n",
      "G: 50 (4.13%) B: 50 (4.13%) X: 47 (3.88%) D: 44 (3.63%) H: 41 (3.39%)\n",
      "O: 36 (2.97%) Y: 35 (2.89%) Q: 35 (2.89%) F: 31 (2.56%) J: 29 (2.39%)\n",
      "I: 26 (2.15%) N: 25 (2.06%) C: 24 (1.98%) V: 22 (1.82%) U: 18 (1.49%)\n",
      "R: 10 (0.83%) \n",
      "-----\n"
     ]
    }
   ],
   "source": [
    "squished = part_a_text.replace(\" \", \"\")[::-1]\n",
    "frequency_analysis(squished)"
   ]
  },
  {
   "cell_type": "code",
   "execution_count": 30,
   "metadata": {},
   "outputs": [],
   "source": [
    "# Tools to help decode Vigenere ciphers\n",
    "\n",
    "\n",
    "# A function that searches for multiple ocurrences of letters of the specified size and prints out the most common ones\n",
    "def pattern_finder(text, size):\n",
    "    patterns = Counter()\n",
    "    for index in range(len(text)):\n",
    "        patterns[text[index:index+size]] += 1\n",
    "\n",
    "    column = 0\n",
    "    for item, count in patterns.most_common(30):\n",
    "        print(f\"{item}: {count:2}\", end=\" \")\n",
    "        column += 1\n",
    "        if column % 5 == 0:\n",
    "            print()\n",
    "\n",
    "\n",
    "# A function that searches the given text for a word and figures out where it would line up with a key of a given size\n",
    "def get_alignment(text, word, key_size):\n",
    "    print(f\"{word}/{key_size}\", end=\" \")\n",
    "    alignments = []\n",
    "    position = -1\n",
    "    while True:\n",
    "        position = text.find(word, position+1)\n",
    "        if position >= 0:\n",
    "            alignment = position % key_size\n",
    "            print(f\"{position} ({alignment})\", end=\" \")\n",
    "            alignments.append(alignment)\n",
    "        else:\n",
    "            break\n",
    "    if alignments.count(alignments[0]) == len(alignments):\n",
    "        print(\"All the same!\", end=\"\")\n",
    "    print()\n",
    "\n",
    "\n",
    "# A function to reverse search for a key that would convert the given word to an encoded word\n",
    "def lookup_key(word, encoded_word):\n",
    "    key = \"\"\n",
    "    for letter, encoded_letter in zip(word, encoded_word):\n",
    "        diff = (ord(encoded_letter) - ord(letter)) % 26\n",
    "        key += chr(diff + ord('A'))\n",
    "    print(key)"
   ]
  },
  {
   "cell_type": "code",
   "execution_count": 31,
   "metadata": {},
   "outputs": [
    {
     "name": "stdout",
     "output_type": "stream",
     "text": [
      "MSM:  9 WPE:  8 DKW:  6 KWP:  6 PAL:  6 \n",
      "ALZ:  5 EMS:  5 DTO:  5 NGP:  5 WQD:  4 \n",
      "LWN:  4 WNG:  4 WOZ:  4 XZB:  4 LAL:  4 \n",
      "SMC:  3 BLA:  3 TWP:  3 WBE:  3 HZA:  3 \n",
      "KWO:  3 OZK:  3 HLL:  3 QDB:  3 DBS:  3 \n",
      "BSU:  3 LWH:  3 WHZ:  3 HZM:  3 ZMD:  3 \n"
     ]
    }
   ],
   "source": [
    "pattern_finder(squished, 3)"
   ]
  },
  {
   "cell_type": "code",
   "execution_count": 35,
   "metadata": {},
   "outputs": [
    {
     "name": "stdout",
     "output_type": "stream",
     "text": [
      "MSM/5 61 (1) 141 (1) 357 (2) 405 (0) 533 (3) 681 (1) 773 (3) 1015 (0) 1017 (2) \n",
      "WPE/5 220 (0) 264 (4) 332 (2) 484 (4) 792 (2) 868 (3) 880 (0) 984 (4) \n",
      "DKW/5 186 (1) 390 (0) 398 (3) 570 (0) 810 (0) 994 (4) \n",
      "KWP/5 219 (4) 331 (1) 571 (1) 839 (4) 983 (3) 995 (0) \n",
      "PAL/5 254 (4) 726 (1) 894 (4) 954 (4) 1082 (2) 1194 (4) \n",
      "ALZ/5 28 (3) 304 (4) 704 (4) 955 (0) 1195 (0) \n",
      "EMS/5 60 (0) 356 (1) 404 (4) 772 (2) 1014 (4) \n",
      "DTO/5 118 (3) 246 (1) 634 (4) 818 (3) 1070 (0) \n",
      "NGP/5 287 (2) 387 (2) 647 (2) 891 (1) 1079 (4) \n",
      "WQD/5 53 (3) 268 (3) 652 (2) 1056 (1) \n",
      "MSM/6 61 (1) 141 (3) 357 (3) 405 (3) 533 (5) 681 (3) 773 (5) 1015 (1) 1017 (3) \n",
      "WPE/6 220 (4) 264 (0) 332 (2) 484 (4) 792 (0) 868 (4) 880 (4) 984 (0) \n",
      "DKW/6 186 (0) 390 (0) 398 (2) 570 (0) 810 (0) 994 (4) \n",
      "KWP/6 219 (3) 331 (1) 571 (1) 839 (5) 983 (5) 995 (5) \n",
      "PAL/6 254 (2) 726 (0) 894 (0) 954 (0) 1082 (2) 1194 (0) \n",
      "ALZ/6 28 (4) 304 (4) 704 (2) 955 (1) 1195 (1) \n",
      "EMS/6 60 (0) 356 (2) 404 (2) 772 (4) 1014 (0) \n",
      "DTO/6 118 (4) 246 (0) 634 (4) 818 (2) 1070 (2) \n",
      "NGP/6 287 (5) 387 (3) 647 (5) 891 (3) 1079 (5) \n",
      "WQD/6 53 (5) 268 (4) 652 (4) 1056 (0) \n",
      "MSM/7 61 (5) 141 (1) 357 (0) 405 (6) 533 (1) 681 (2) 773 (3) 1015 (0) 1017 (2) \n",
      "WPE/7 220 (3) 264 (5) 332 (3) 484 (1) 792 (1) 868 (0) 880 (5) 984 (4) \n",
      "DKW/7 186 (4) 390 (5) 398 (6) 570 (3) 810 (5) 994 (0) \n",
      "KWP/7 219 (2) 331 (2) 571 (4) 839 (6) 983 (3) 995 (1) \n",
      "PAL/7 254 (2) 726 (5) 894 (5) 954 (2) 1082 (4) 1194 (4) \n",
      "ALZ/7 28 (0) 304 (3) 704 (4) 955 (3) 1195 (5) \n",
      "EMS/7 60 (4) 356 (6) 404 (5) 772 (2) 1014 (6) \n",
      "DTO/7 118 (6) 246 (1) 634 (4) 818 (6) 1070 (6) \n",
      "NGP/7 287 (0) 387 (2) 647 (3) 891 (2) 1079 (1) \n",
      "WQD/7 53 (4) 268 (2) 652 (1) 1056 (6) \n",
      "MSM/8 61 (5) 141 (5) 357 (5) 405 (5) 533 (5) 681 (1) 773 (5) 1015 (7) 1017 (1) \n",
      "WPE/8 220 (4) 264 (0) 332 (4) 484 (4) 792 (0) 868 (4) 880 (0) 984 (0) \n",
      "DKW/8 186 (2) 390 (6) 398 (6) 570 (2) 810 (2) 994 (2) \n",
      "KWP/8 219 (3) 331 (3) 571 (3) 839 (7) 983 (7) 995 (3) \n",
      "PAL/8 254 (6) 726 (6) 894 (6) 954 (2) 1082 (2) 1194 (2) \n",
      "ALZ/8 28 (4) 304 (0) 704 (0) 955 (3) 1195 (3) \n",
      "EMS/8 60 (4) 356 (4) 404 (4) 772 (4) 1014 (6) \n",
      "DTO/8 118 (6) 246 (6) 634 (2) 818 (2) 1070 (6) \n",
      "NGP/8 287 (7) 387 (3) 647 (7) 891 (3) 1079 (7) \n",
      "WQD/8 53 (5) 268 (4) 652 (4) 1056 (0) \n",
      "MSM/9 61 (7) 141 (6) 357 (6) 405 (0) 533 (2) 681 (6) 773 (8) 1015 (7) 1017 (0) \n",
      "WPE/9 220 (4) 264 (3) 332 (8) 484 (7) 792 (0) 868 (4) 880 (7) 984 (3) \n",
      "DKW/9 186 (6) 390 (3) 398 (2) 570 (3) 810 (0) 994 (4) \n",
      "KWP/9 219 (3) 331 (7) 571 (4) 839 (2) 983 (2) 995 (5) \n",
      "PAL/9 254 (2) 726 (6) 894 (3) 954 (0) 1082 (2) 1194 (6) \n",
      "ALZ/9 28 (1) 304 (7) 704 (2) 955 (1) 1195 (7) \n",
      "EMS/9 60 (6) 356 (5) 404 (8) 772 (7) 1014 (6) \n",
      "DTO/9 118 (1) 246 (3) 634 (4) 818 (8) 1070 (8) \n",
      "NGP/9 287 (8) 387 (0) 647 (8) 891 (0) 1079 (8) \n",
      "WQD/9 53 (8) 268 (7) 652 (4) 1056 (3) \n",
      "MSM/10 61 (1) 141 (1) 357 (7) 405 (5) 533 (3) 681 (1) 773 (3) 1015 (5) 1017 (7) \n",
      "WPE/10 220 (0) 264 (4) 332 (2) 484 (4) 792 (2) 868 (8) 880 (0) 984 (4) \n",
      "DKW/10 186 (6) 390 (0) 398 (8) 570 (0) 810 (0) 994 (4) \n",
      "KWP/10 219 (9) 331 (1) 571 (1) 839 (9) 983 (3) 995 (5) \n",
      "PAL/10 254 (4) 726 (6) 894 (4) 954 (4) 1082 (2) 1194 (4) \n",
      "ALZ/10 28 (8) 304 (4) 704 (4) 955 (5) 1195 (5) \n",
      "EMS/10 60 (0) 356 (6) 404 (4) 772 (2) 1014 (4) \n",
      "DTO/10 118 (8) 246 (6) 634 (4) 818 (8) 1070 (0) \n",
      "NGP/10 287 (7) 387 (7) 647 (7) 891 (1) 1079 (9) \n",
      "WQD/10 53 (3) 268 (8) 652 (2) 1056 (6) \n",
      "MSM/11 61 (6) 141 (9) 357 (5) 405 (9) 533 (5) 681 (10) 773 (3) 1015 (3) 1017 (5) \n",
      "WPE/11 220 (0) 264 (0) 332 (2) 484 (0) 792 (0) 868 (10) 880 (0) 984 (5) \n",
      "DKW/11 186 (10) 390 (5) 398 (2) 570 (9) 810 (7) 994 (4) \n",
      "KWP/11 219 (10) 331 (1) 571 (10) 839 (3) 983 (4) 995 (5) \n",
      "PAL/11 254 (1) 726 (0) 894 (3) 954 (8) 1082 (4) 1194 (6) \n",
      "ALZ/11 28 (6) 304 (7) 704 (0) 955 (9) 1195 (7) \n",
      "EMS/11 60 (5) 356 (4) 404 (8) 772 (2) 1014 (2) \n",
      "DTO/11 118 (8) 246 (4) 634 (7) 818 (4) 1070 (3) \n",
      "NGP/11 287 (1) 387 (2) 647 (9) 891 (0) 1079 (1) \n",
      "WQD/11 53 (9) 268 (4) 652 (3) 1056 (0) \n",
      "MSM/12 61 (1) 141 (9) 357 (9) 405 (9) 533 (5) 681 (9) 773 (5) 1015 (7) 1017 (9) \n",
      "WPE/12 220 (4) 264 (0) 332 (8) 484 (4) 792 (0) 868 (4) 880 (4) 984 (0) \n",
      "DKW/12 186 (6) 390 (6) 398 (2) 570 (6) 810 (6) 994 (10) \n",
      "KWP/12 219 (3) 331 (7) 571 (7) 839 (11) 983 (11) 995 (11) \n",
      "PAL/12 254 (2) 726 (6) 894 (6) 954 (6) 1082 (2) 1194 (6) \n",
      "ALZ/12 28 (4) 304 (4) 704 (8) 955 (7) 1195 (7) \n",
      "EMS/12 60 (0) 356 (8) 404 (8) 772 (4) 1014 (6) \n",
      "DTO/12 118 (10) 246 (6) 634 (10) 818 (2) 1070 (2) \n",
      "NGP/12 287 (11) 387 (3) 647 (11) 891 (3) 1079 (11) \n",
      "WQD/12 53 (5) 268 (4) 652 (4) 1056 (0) \n",
      "MSM/13 61 (9) 141 (11) 357 (6) 405 (2) 533 (0) 681 (5) 773 (6) 1015 (1) 1017 (3) \n",
      "WPE/13 220 (12) 264 (4) 332 (7) 484 (3) 792 (12) 868 (10) 880 (9) 984 (9) \n",
      "DKW/13 186 (4) 390 (0) 398 (8) 570 (11) 810 (4) 994 (6) \n",
      "KWP/13 219 (11) 331 (6) 571 (12) 839 (7) 983 (8) 995 (7) \n",
      "PAL/13 254 (7) 726 (11) 894 (10) 954 (5) 1082 (3) 1194 (11) \n",
      "ALZ/13 28 (2) 304 (5) 704 (2) 955 (6) 1195 (12) \n",
      "EMS/13 60 (8) 356 (5) 404 (1) 772 (5) 1014 (0) \n",
      "DTO/13 118 (1) 246 (12) 634 (10) 818 (12) 1070 (4) \n",
      "NGP/13 287 (1) 387 (10) 647 (10) 891 (7) 1079 (0) \n",
      "WQD/13 53 (1) 268 (8) 652 (2) 1056 (3) \n",
      "MSM/14 61 (5) 141 (1) 357 (7) 405 (13) 533 (1) 681 (9) 773 (3) 1015 (7) 1017 (9) \n",
      "WPE/14 220 (10) 264 (12) 332 (10) 484 (8) 792 (8) 868 (0) 880 (12) 984 (4) \n",
      "DKW/14 186 (4) 390 (12) 398 (6) 570 (10) 810 (12) 994 (0) \n",
      "KWP/14 219 (9) 331 (9) 571 (11) 839 (13) 983 (3) 995 (1) \n",
      "PAL/14 254 (2) 726 (12) 894 (12) 954 (2) 1082 (4) 1194 (4) \n",
      "ALZ/14 28 (0) 304 (10) 704 (4) 955 (3) 1195 (5) \n",
      "EMS/14 60 (4) 356 (6) 404 (12) 772 (2) 1014 (6) \n",
      "DTO/14 118 (6) 246 (8) 634 (4) 818 (6) 1070 (6) \n",
      "NGP/14 287 (7) 387 (9) 647 (3) 891 (9) 1079 (1) \n",
      "WQD/14 53 (11) 268 (2) 652 (8) 1056 (6) \n",
      "MSM/15 61 (1) 141 (6) 357 (12) 405 (0) 533 (8) 681 (6) 773 (8) 1015 (10) 1017 (12) \n",
      "WPE/15 220 (10) 264 (9) 332 (2) 484 (4) 792 (12) 868 (13) 880 (10) 984 (9) \n",
      "DKW/15 186 (6) 390 (0) 398 (8) 570 (0) 810 (0) 994 (4) \n",
      "KWP/15 219 (9) 331 (1) 571 (1) 839 (14) 983 (8) 995 (5) \n",
      "PAL/15 254 (14) 726 (6) 894 (9) 954 (9) 1082 (2) 1194 (9) \n",
      "ALZ/15 28 (13) 304 (4) 704 (14) 955 (10) 1195 (10) \n",
      "EMS/15 60 (0) 356 (11) 404 (14) 772 (7) 1014 (9) \n",
      "DTO/15 118 (13) 246 (6) 634 (4) 818 (8) 1070 (5) \n",
      "NGP/15 287 (2) 387 (12) 647 (2) 891 (6) 1079 (14) \n",
      "WQD/15 53 (8) 268 (13) 652 (7) 1056 (6) \n"
     ]
    }
   ],
   "source": [
    "for key_length in range(5,16):\n",
    "    for pattern in (\"MSM\", \"WPE\", \"DKW\", \"KWP\", \"PAL\", \"ALZ\", \"EMS\", \"DTO\", \"NGP\", \"WQD\"):\n",
    "        get_alignment(squished, pattern, key_length)"
   ]
  },
  {
   "cell_type": "code",
   "execution_count": null,
   "metadata": {},
   "outputs": [],
   "source": []
  },
  {
   "cell_type": "code",
   "execution_count": 37,
   "metadata": {},
   "outputs": [],
   "source": [
    "# Part B \"A historic cipher\"\n",
    "part_b_text = \"\"\"33512 53443 21114 22523 14422 53534 11352 24224 21253 45425 55213 44224 14432 15321 21343 33515 21221 51325 42221 33242 24143 42554 35133 25524 14432 12435 41215 54125 34312 11542 35341 12414 43214 11535 43255 52155 54322 11415 21432 55521 34542 14224 14424 22421 15214 41411 14543 53411 41251 51454 51423 51142 21143 22215 35333 35132 25531 51415 51143 45542 24144 22143 25552 13454 21413 52534 42114 23533 51213 34132 35512 11535 15144 23221 14114 21135 33213 53421 25342 42511 21334 13235 51332 13442 33151 53523 21151 12414 55413 21434 34215 54235 55353 41442 21422 42154 35323 22154 42253 53442 35422 42154 25425 13225 53151 41551 25343 51555 21154 23541 15353 33542 21242 51154 14334 11425 23342 23515 21322 15442 25353 44235 23354 32115 34351 55313 42422 42153 35353 11114 15212 21415 42353 54314 32131 45332 21423 52325 43211 44414 51143 45525 42251 12114 11514 23553 21322 52143 21422 41442 24214 43513 32552 41443 21421 52521 55423 51521 14322 51121 11353 32135 22422 41442 43143 21321 22351 52425 33112 13222 21114 12154 25143 23251 11253 45421 14342 13221 54422 53534 25111 43421 45412 13411 25432 15313 11253 42111 11253 43513 15114 21442 21422 42115 21141 52114 55432 11542 25112 13321 34421 14235 41131 55424 14112 11434 55253 42232 13213 44225 14324 12135 41322 14424 35342 12155 42355 32154 35344 32534 54215 54235 53145 43124 25332 54225 11335 15513 42511 41154 13114 23555 25143 43522 42242 15435 32322 15442 25353 44235 41153 54221 54422 54225 54143 43435 42322 14224 25335 52111 42153 55121 43211 55142 24253 42344 21241 44321 53132 53242 42352 32142 24211 52542 44141 13351 24354 12142 24144 25351 23144 22421 15253 42321 34351 32324 21432 55521 34542 14235 25345 41525 33253 41442 21242 53325 54351 33255 54353 44325 34542 13315 15352 32115 11423 53221 14432 14224 21322 55315 14155 11432 35342 12524 14432 11141 21344 25121 14151 15413 15144 22534 23254 21434 55254 25435 34421 42534 11331 43451 41152 15425 35131 12542 21331 12554 35133 25534 35425 32114 15423 53235 11212 54225 24144 32111 24354 43424 25334 22421 32214 24221 15112 21535 33412 53431 21154 23534 11143 45542 15252 15542 35152 11411 35344 42542 24242 53324 21251 14321 15511 43423 15514 42542 24332 11434 55312 12141 11111 45125 34234 22414 42422 42155 21144 22414 34554 22421 14424 22133 41422 15542 24212 24224 14553 43542 24253 42342 35553 54425 42242 42533 24212 51115 25232 44242 24144 24224 21152 12511 34354 22425 34235 43534 54321 31125 43212 53442 24212 14325 55213 45421 53134 21411 25413 52534 42215 53513 42423 52425 33422 42115 21553 52111 34354 23421 21554 23553 21143 45141 15353 52221 43213 44224 21111 31141 25542 53534 35222 42511 25344 33532 43213 32134 42443 51332 55112 14321 15213 25155 14331 42321 24251 11521 41134 21442 25353 41434 55443 51332 55552 11142 15355 12425 11542 41434 54213 52221 32215 44225 35342 42124 14114 22415 21144 22134 21554 23522 25152 13321 53134 22542 25111 43421 33414 25142 24152 11442 24215 41434 34354 21422 22351 55522 35153 32142 35421 43231 42354 22421 41152 11111 13344 22532 24211 42315 21211 14235 33515 52133 14345 51125 44253 23254 35344 22534 13214 23524 14151 41111 24253 31434 55423 55313 25325 53351 21432 55521 34542 13351 32255 31514 15513 31311 42532 14115 35422 15442 21551 44214 32325 43511 4211\"\"\""
   ]
  },
  {
   "cell_type": "code",
   "execution_count": 38,
   "metadata": {},
   "outputs": [],
   "source": [
    "squished = part_b_text.replace(\" \", \"\")"
   ]
  },
  {
   "cell_type": "code",
   "execution_count": 39,
   "metadata": {},
   "outputs": [
    {
     "name": "stdout",
     "output_type": "stream",
     "text": [
      "2714\n",
      "2, 23, 46, 59, 118, 1357, "
     ]
    }
   ],
   "source": [
    "length = len(squished)\n",
    "print(length)\n",
    "for n in range(2, length):\n",
    "    if length % n == 0:\n",
    "        print(n, end=\", \")"
   ]
  },
  {
   "cell_type": "code",
   "execution_count": 40,
   "metadata": {},
   "outputs": [
    {
     "name": "stdout",
     "output_type": "stream",
     "text": [
      "21: 181 (13.34%) 42: 148 (10.91%) 35: 113 (8.33%) 25: 111 (8.18%) 34: 97 (7.15%)\n",
      "14: 97 (7.15%) 24: 75 (5.53%) 15: 73 (5.38%) 11: 71 (5.23%) 55: 51 (3.76%)\n",
      "32: 51 (3.76%) 54: 45 (3.32%) 33: 42 (3.10%) 51: 32 (2.36%) 43: 31 (2.28%)\n",
      "13: 31 (2.28%) 41: 29 (2.14%) 22: 20 (1.47%) 53: 20 (1.47%) 23: 19 (1.40%)\n",
      "44: 13 (0.96%) 31:  6 (0.44%) 45:  1 (0.07%) \n",
      "-----\n",
      "{11, 13, 14, 15, 21, 22, 23, 24, 25, 31, 32, 33, 34, 35, 41, 42, 43, 44, 45, 51, 53, 54, 55}\n"
     ]
    }
   ],
   "source": [
    "# Probably pairs.  What is the range of numbers...?\n",
    "nums = list()\n",
    "for n in range(0, len(squished), 2):\n",
    "    nums.append(int(squished[n:n+2]))\n",
    "    \n",
    "frequency_analysis(nums)\n",
    "print(set(nums))"
   ]
  },
  {
   "cell_type": "code",
   "execution_count": 44,
   "metadata": {},
   "outputs": [
    {
     "name": "stdout",
     "output_type": "stream",
     "text": [
      "LTIMQEAPIGCPINMANFPHEIMVIWEMPHCQEUEEMLNDEFDBIPFBKPHCMIVNBKWHCQEHNOEWOIMJEDPNMAHCQEODNQIWEWVKECDEQIWEMVEPHCPPHEDERCACVNMAOIDCVTPNAPECKFDNLLTKIUDCDTCMWPHCPEQIWEMVEONIMPAPNLTELOKNTEDNDCPKECAPANLENMEIMHIAELOKNTLEMPLDDNGEDAHCWOKCMMEWPNWNMCPEPHEVNKKEVPINMPNPHEVIPTKIUDCDTIMNDWEDPNODNLNPEHIAVCLOCIGMFNDEKEVPINMPNGNQEDMNDUBPPHEUNNJACDEFCDPNNQCKBCUKEPNGIQECRCTCMWIPIAECATPNUEKIEQEPHCPHERNBKWHCQEPDIEWPNDECKIAEANLENFPHCPQCKBEFNDHILAEKFEAOEVICKKTAIMVECMEKEVPINMIACMESOEMAIQEUBAIMEAAIMNBDAPCPEPHEDECDECWQEDPIAELEMPAPNOBDVHCAECMWIMFKBEMPICKOENOKERHNMEEWPNUEVNMQIMVEWPNUCVJHILIPIALTWBPTCAVBAPNWICMNFPHEVNKKEVPINMPNODNPEVPIPIVCMMNPKEPHILWEAPDNTEQEDTPHIMGREHCQEUBIKPPNGEPHEDIPRCALTHNOEPHCPUTGCPHEDIMGEMNBGHEQIWEMVEPNIMVDILIMCPEHILIVNBKWVNMQIMVELDDNGEDAPNKECQEPHEKIUDCDTCKNMEIHCQEAOEMPTECDAVBDCPIMGIPCMWIPVNMPCIMALCMTODEVINBAIPELAIVNBKWMNPUECDPNKNAEIPIHCQEAHNRMHILPHEKEPPEDAFDNLOIMJEDPNMACMWPDIEWPNDECANMRIPHHILHEIAQEDTCMGDTRIPHLECMWJEEOAACTIMGPHCPPHEWECPHCMWPHECPPELOPEWPHEFPHCWMNPHIMGPNWNRIPHHILHEIADIGHPPHCPPHEDEIAMNPHIMGVNMVKBAIQEIMPHEEQIWEMVEUBPCAIONIMPEWNBPPNHILPHEDEWNEAMNPMEEWPNUECMTODNNFEQEMPHEABAOIVINMNFHIAIMQNKQELEMPRNBKWAEQEDEKTWCLCGEHIADEOBPCPINMCMWRNBKWWEAPDNTHIAVHCMVENFEKEVPINMHEHCAPHDECPEMEWPNFIDELEUBPIPIACMELOPTPHDECPHEVCMMNPCFFNDWFNDLEPNPCKJPNPHEODEAABMPIKHECGDEEAPNLTWELCMWAIRIKKVNMPIMBEPNHCDCAAHILCMWPNUBIKWLTEQIWEMVELTKIUDCDTLBAPUEODNPEVPEWCPCKKVNAPA\n",
      "E: 181 (13.34%) P: 148 (10.91%) N: 113 (8.33%) I: 111 (8.18%) M: 97 (7.15%)\n",
      "C: 97 (7.15%) H: 75 (5.53%) D: 73 (5.38%) A: 71 (5.23%) W: 51 (3.76%)\n",
      "K: 51 (3.76%) V: 45 (3.32%) L: 42 (3.10%) T: 32 (2.36%) Q: 31 (2.28%)\n",
      "B: 31 (2.28%) O: 29 (2.14%) F: 20 (1.47%) U: 20 (1.47%) G: 19 (1.40%)\n",
      "R: 13 (0.96%) J:  6 (0.44%) S:  1 (0.07%) \n",
      "-----\n"
     ]
    }
   ],
   "source": [
    "# Convert them to letters\n",
    "import string\n",
    "n2l = dict()\n",
    "letters = list(string.ascii_uppercase)\n",
    "for n in set(nums):\n",
    "    n2l[n] = letters.pop(0)\n",
    "#   1 2 3 4 5\n",
    "# 1 A . B C D\n",
    "# 2 E F G H I\n",
    "# 3 J K L M N\n",
    "# 4 O P Q R S\n",
    "# 5 T . U V W\n",
    "\n",
    "ciphertext = \"\"\n",
    "for n in nums:\n",
    "    ciphertext += n2l[n]\n",
    "print(ciphertext)\n",
    "frequency_analysis(ciphertext)"
   ]
  },
  {
   "cell_type": "code",
   "execution_count": 42,
   "metadata": {},
   "outputs": [],
   "source": [
    "import string\n",
    "\n",
    "# A simple translation method.\n",
    "# text: The text to translate, in upper case\n",
    "# key: A substitution alphabet, usually in lower case so that the translated characters show up\n",
    "def decode(text, key):\n",
    "    table = str.maketrans(string.ascii_uppercase, key)\n",
    "    print(text.upper().translate(table))"
   ]
  },
  {
   "cell_type": "code",
   "execution_count": 46,
   "metadata": {},
   "outputs": [
    {
     "name": "stdout",
     "output_type": "stream",
     "text": [
      "LTIMQeAtIGCtINMANFtheIMVIWeMthCQeUeeMLNDeFDBItFBKthCMIVNBKWhCQehNOeWOIMJeDtNMAhCQeODNQIWeWVKeCDeQIWeMVethCttheDeRCACVNMAOIDCVTtNAteCKFDNLLTKIUDCDTCMWthCteQIWeMVeONIMtAtNLTeLOKNTeDNDCtKeCAtANLeNMeIMhIAeLOKNTLeMtLDDNGeDAhCWOKCMMeWtNWNMCtetheVNKKeVtINMtNtheVItTKIUDCDTIMNDWeDtNODNLNtehIAVCLOCIGMFNDeKeVtINMtNGNQeDMNDUBttheUNNJACDeFCDtNNQCKBCUKetNGIQeCRCTCMWItIAeCATtNUeKIeQethCtheRNBKWhCQetDIeWtNDeCKIAeANLeNFthCtQCKBeFNDhILAeKFeAOeVICKKTAIMVeCMeKeVtINMIACMeSOeMAIQeUBAIMeAAIMNBDAtCtetheDeCDeCWQeDtIAeLeMtAtNOBDVhCAeCMWIMFKBeMtICKOeNOKeRhNMeeWtNUeVNMQIMVeWtNUCVJhILItIALTWBtTCAVBAtNWICMNFtheVNKKeVtINMtNODNteVtItIVCMMNtKethILWeAtDNTeQeDTthIMGRehCQeUBIKttNGetheDItRCALThNOethCtUTGCtheDIMGeMNBGheQIWeMVetNIMVDILIMCtehILIVNBKWVNMQIMVeLDDNGeDAtNKeCQetheKIUDCDTCKNMeIhCQeAOeMtTeCDAVBDCtIMGItCMWItVNMtCIMALCMTODeVINBAIteLAIVNBKWMNtUeCDtNKNAeItIhCQeAhNRMhILtheKetteDAFDNLOIMJeDtNMACMWtDIeWtNDeCANMRIthhILheIAQeDTCMGDTRIthLeCMWJeeOAACTIMGthCttheWeCthCMWtheCtteLOteWtheFthCWMNthIMGtNWNRIthhILheIADIGhtthCttheDeIAMNthIMGVNMVKBAIQeIMtheeQIWeMVeUBtCAIONIMteWNBttNhILtheDeWNeAMNtMeeWtNUeCMTODNNFeQeMtheABAOIVINMNFhIAIMQNKQeLeMtRNBKWAeQeDeKTWCLCGehIADeOBtCtINMCMWRNBKWWeAtDNThIAVhCMVeNFeKeVtINMhehCAthDeCteMeWtNFIDeLeUBtItIACMeLOtTthDeCtheVCMMNtCFFNDWFNDLetNtCKJtNtheODeAABMtIKheCGDeeAtNLTWeLCMWAIRIKKVNMtIMBetNhCDCAAhILCMWtNUBIKWLTeQIWeMVeLTKIUDCDTLBAtUeODNteVteWCtCKKVNAtA\n"
     ]
    }
   ],
   "source": [
    "decode(ciphertext, \"ABCDeFGhIJKLMNOtQRSTUVWXYZ\")"
   ]
  },
  {
   "cell_type": "code",
   "execution_count": 47,
   "metadata": {},
   "outputs": [
    {
     "name": "stdout",
     "output_type": "stream",
     "text": [
      "LTIMQeAtIGatINMANFtheIMVIWeMthaQeUeeMLNreFrBItFBlthaMIVNBlWhaQehNOeWOIMJertNMAhaQeOrNQIWeWVleareQIWeMVethatthereRaAaVNMAOIraVTtNAtealFrNLLTlIUrarTaMWthateQIWeMVeONIMtAtNLTeLOlNTerNratleaAtANLeNMeIMhIAeLOlNTLeMtLrrNGerAhaWOlaMMeWtNWNMatetheVNlleVtINMtNtheVItTlIUrarTIMNrWertNOrNLNtehIAVaLOaIGMFNreleVtINMtNGNQerMNrUBttheUNNJAareFartNNQalBaUletNGIQeaRaTaMWItIAeaATtNUelIeQethatheRNBlWhaQetrIeWtNrealIAeANLeNFthatQalBeFNrhILAelFeAOeVIallTAIMVeaMeleVtINMIAaMeSOeMAIQeUBAIMeAAIMNBrAtatethereareaWQertIAeLeMtAtNOBrVhaAeaMWIMFlBeMtIalOeNOleRhNMeeWtNUeVNMQIMVeWtNUaVJhILItIALTWBtTaAVBAtNWIaMNFtheVNlleVtINMtNOrNteVtItIVaMMNtlethILWeAtrNTeQerTthIMGRehaQeUBIlttNGetherItRaALThNOethatUTGatherIMGeMNBGheQIWeMVetNIMVrILIMatehILIVNBlWVNMQIMVeLrrNGerAtNleaQethelIUrarTalNMeIhaQeAOeMtTearAVBratIMGItaMWItVNMtaIMALaMTOreVINBAIteLAIVNBlWMNtUeartNlNAeItIhaQeAhNRMhILtheletterAFrNLOIMJertNMAaMWtrIeWtNreaANMRIthhILheIAQerTaMGrTRIthLeaMWJeeOAAaTIMGthattheWeathaMWtheatteLOteWtheFthaWMNthIMGtNWNRIthhILheIArIGhtthatthereIAMNthIMGVNMVlBAIQeIMtheeQIWeMVeUBtaAIONIMteWNBttNhILthereWNeAMNtMeeWtNUeaMTOrNNFeQeMtheABAOIVINMNFhIAIMQNlQeLeMtRNBlWAeQerelTWaLaGehIAreOBtatINMaMWRNBlWWeAtrNThIAVhaMVeNFeleVtINMhehaAthreateMeWtNFIreLeUBtItIAaMeLOtTthreatheVaMMNtaFFNrWFNrLetNtalJtNtheOreAABMtIlheaGreeAtNLTWeLaMWAIRIllVNMtIMBetNharaAAhILaMWtNUBIlWLTeQIWeMVeLTlIUrarTLBAtUeOrNteVteWatallVNAtA\n"
     ]
    }
   ],
   "source": [
    "# \"theKetteD\" -> K=l, D=r\n",
    "# \"thCtthe\" -> C=a\n",
    "decode(ciphertext, \"ABareFGhIJlLMNOtQRSTUVWXYZ\")"
   ]
  },
  {
   "cell_type": "code",
   "execution_count": 48,
   "metadata": {},
   "outputs": [
    {
     "name": "stdout",
     "output_type": "stream",
     "text": [
      "LyiMQestiGatiNMsNFtheiMViWeMthaQebeeMLNreFrBitFBlthaMiVNBlWhaQehNOeWOiMJertNMshaQeOrNQiWeWVleareQiWeMVethatthereRasaVNMsOiraVytNstealFrNLLylibraryaMWthateQiWeMVeONiMtstNLyeLOlNyerNratleastsNLeNMeiMhiseLOlNyLeMtLrrNGershaWOlaMMeWtNWNMatetheVNlleVtiNMtNtheVitylibraryiMNrWertNOrNLNtehisVaLOaiGMFNreleVtiNMtNGNQerMNrbBtthebNNJsareFartNNQalBabletNGiQeaRayaMWitiseasytNbelieQethatheRNBlWhaQetrieWtNrealisesNLeNFthatQalBeFNrhiLselFesOeViallysiMVeaMeleVtiNMisaMeSOeMsiQebBsiMessiMNBrstatethereareaWQertiseLeMtstNOBrVhaseaMWiMFlBeMtialOeNOleRhNMeeWtNbeVNMQiMVeWtNbaVJhiLitisLyWBtyasVBstNWiaMNFtheVNlleVtiNMtNOrNteVtitiVaMMNtlethiLWestrNyeQerythiMGRehaQebBilttNGetheritRasLyhNOethatbyGatheriMGeMNBGheQiWeMVetNiMVriLiMatehiLiVNBlWVNMQiMVeLrrNGerstNleaQethelibraryalNMeihaQesOeMtyearsVBratiMGitaMWitVNMtaiMsLaMyOreViNBsiteLsiVNBlWMNtbeartNlNseitihaQeshNRMhiLthelettersFrNLOiMJertNMsaMWtrieWtNreasNMRithhiLheisQeryaMGryRithLeaMWJeeOssayiMGthattheWeathaMWtheatteLOteWtheFthaWMNthiMGtNWNRithhiLheisriGhtthatthereisMNthiMGVNMVlBsiQeiMtheeQiWeMVebBtasiONiMteWNBttNhiLthereWNesMNtMeeWtNbeaMyOrNNFeQeMthesBsOiViNMNFhisiMQNlQeLeMtRNBlWseQerelyWaLaGehisreOBtatiNMaMWRNBlWWestrNyhisVhaMVeNFeleVtiNMhehasthreateMeWtNFireLebBtitisaMeLOtythreatheVaMMNtaFFNrWFNrLetNtalJtNtheOressBMtilheaGreestNLyWeLaMWsiRillVNMtiMBetNharasshiLaMWtNbBilWLyeQiWeMVeLylibraryLBstbeOrNteVteWatallVNsts\n"
     ]
    }
   ],
   "source": [
    "# \"atleaAt\" -> A=s\n",
    "# \"lIUrarT\" -> I=i, U=b, T=y\n",
    "decode(ciphertext, \"sBareFGhiJlLMNOtQRSybVWXYZ\")"
   ]
  },
  {
   "cell_type": "code",
   "execution_count": 51,
   "metadata": {},
   "outputs": [
    {
     "name": "stdout",
     "output_type": "stream",
     "text": [
      "myinvestigationsoftheinViWenthavebeenmorefrBitfBlthaniVoBlWhavehoOeWOinJertonshaveOroviWeWVleareviWenVethatthereRasaVonsOiraVytostealfrommylibraryanWthateviWenVeOointstomyemOloyeroratleastsomeoneinhisemOloymentmrrogershaWOlanneWtoWonatetheVolleVtiontotheVitylibraryinorWertoOromotehisVamOaignforeleVtiontogovernorbBtthebooJsarefartoovalBabletogiveaRayanWitiseasytobelievethatheRoBlWhavetrieWtorealisesomeofthatvalBeforhimselfesOeViallysinVeaneleVtionisaneSOensivebBsinessinoBrstatethereareaWvertisementstoOBrVhaseanWinflBentialOeoOleRhoneeWtobeVonvinVeWtobaVJhimitismyWBtyasVBstoWianoftheVolleVtiontoOroteVtitiVannotlethimWestroyeverythingRehavebBilttogetheritRasmyhoOethatbygatheringenoBgheviWenVetoinVriminatehimiVoBlWVonvinVemrrogerstoleavethelibraryaloneihavesOentyearsVBratingitanWitVontainsmanyOreVioBsitemsiVoBlWnotbeartoloseitihaveshoRnhimthelettersfromOinJertonsanWtrieWtoreasonRithhimheisveryangryRithmeanWJeeOssayingthattheWeathanWtheattemOteWthefthaWnothingtoWoRithhimheisrightthatthereisnothingVonVlBsiveintheeviWenVebBtasiOointeWoBttohimthereWoesnotneeWtobeanyOroofeventhesBsOiVionofhisinvolvementRoBlWseverelyWamagehisreOBtationanWRoBlWWestroyhisVhanVeofeleVtionhehasthreateneWtofiremebBtitisanemOtythreatheVannotafforWformetotalJtotheOressBntilheagreestomyWemanWsiRillVontinBetoharasshimanWtobBilWmyeviWenVemylibrarymBstbeOroteVteWatallVosts\n"
     ]
    }
   ],
   "source": [
    "# \"LyiMQestiGatiNMsNFthe\" -> L=m, M=n, Q=v, G=g N=o, F=f\n",
    "decode(ciphertext, \"sBarefghiJlmnoOtvRSybVWXYZ\")"
   ]
  },
  {
   "cell_type": "code",
   "execution_count": 53,
   "metadata": {},
   "outputs": [
    {
     "name": "stdout",
     "output_type": "stream",
     "text": [
      "myinvestigationsoftheincidenthavebeenmorefruitfulthanicouldhavehopedpinkertonshaveprovidedclearevidencethattherewasaconspiracytostealfrommylibraryandthatevidencepointstomyemployeroratleastsomeoneinhisemploymentmrrogershadplannedtodonatethecollectiontothecitylibraryinordertopromotehiscampaignforelectiontogovernorbutthebooksarefartoovaluabletogiveawayanditiseasytobelievethathewouldhavetriedtorealisesomeofthatvalueforhimselfespeciallysinceanelectionisanexpensivebusinessinourstatethereareadvertisementstopurchaseandinfluentialpeoplewhoneedtobeconvincedtobackhimitismydutyascustodianofthecollectiontoprotectiticannotlethimdestroyeverythingwehavebuilttogetheritwasmyhopethatbygatheringenoughevidencetoincriminatehimicouldconvincemrrogerstoleavethelibraryaloneihavespentyearscuratingitanditcontainsmanypreciousitemsicouldnotbeartoloseitihaveshownhimthelettersfrompinkertonsandtriedtoreasonwithhimheisveryangrywithmeandkeepssayingthatthedeathandtheattemptedthefthadnothingtodowithhimheisrightthatthereisnothingconclusiveintheevidencebutasipointedouttohimtheredoesnotneedtobeanyproofeventhesuspicionofhisinvolvementwouldseverelydamagehisreputationandwoulddestroyhischanceofelectionhehasthreatenedtofiremebutitisanemptythreathecannotaffordformetotalktothepressuntilheagreestomydemandsiwillcontinuetoharasshimandtobuildmyevidencemylibrarymustbeprotectedatallcosts\n"
     ]
    }
   ],
   "source": [
    "# \"inViWent\" -> V=c, W=d\n",
    "# \"frBitfBlthaniVoBlWhavehoOeW\" -> B=u, O=p\n",
    "# \"thereRasaVonsOiraVy\" -> R=w\n",
    "# \"thebooJs\" -> J=k\n",
    "# \"eSOensive\" -> S=x\n",
    "decode(ciphertext, \"suarefghiklmnoptvwxybcdXYZ\")"
   ]
  },
  {
   "cell_type": "markdown",
   "metadata": {},
   "source": [
    "# Edited for clarity\n",
    "\n",
    "My investigations of the incident have been more fruitful than I could have hoped.<br/>\n",
    "Pinkertons have provided clear evidence that there was a conspiracy to steal from my library and that evidence points to my employer or at least someone in his employment.<br/>\n",
    "Ar Rogers had planned to donate the collection to the city library in order to promote his campaign for election to governor, but the books are far too valuable to give away and it is easy to believe that he would have tried to realise some of that value for himself, especially since an election is an expensive business. In our state there are advertisements to purchase and influential people who need to be convinced to back him. It is my duty as custodian of the collection to protect it. I cannot let him destroy everything we have built together.<br/>\n",
    "It was my hope that by gathering enough evidence to incriminate him, I could convince Mr Rogers to leave the library alone. I have spent years curating it and it contains many precious items. I could not bear to lose it.<br/>\n",
    "I have shown him the letters from Pinkertons and tried to reason with him. He is very angry with me and keeps saying that the death and the attempted theft had nothing to do with him. He is right that there is nothing conclusive in the evidence, but as I pointed out to him, there does not need to be any proof, even the suspicion of his involvement would severely damage his reputation and would destroy his chance of election. He has threatened to fire me, but it is an empty threat. He cannot afford for me to talk to the press until he agrees to my demands.<br/>\n",
    "I will continue to harass him and to build my evidence. My library must be protected at all costs.<br/>"
   ]
  },
  {
   "cell_type": "code",
   "execution_count": null,
   "metadata": {},
   "outputs": [],
   "source": []
  }
 ],
 "metadata": {
  "kernelspec": {
   "display_name": "Python 3 (ipykernel)",
   "language": "python",
   "name": "python3"
  },
  "language_info": {
   "codemirror_mode": {
    "name": "ipython",
    "version": 3
   },
   "file_extension": ".py",
   "mimetype": "text/x-python",
   "name": "python",
   "nbconvert_exporter": "python",
   "pygments_lexer": "ipython3",
   "version": "3.12.0"
  }
 },
 "nbformat": 4,
 "nbformat_minor": 4
}
