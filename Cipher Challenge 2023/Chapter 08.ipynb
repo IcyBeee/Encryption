{
 "cells": [
  {
   "cell_type": "markdown",
   "metadata": {},
   "source": [
    "#### Cipher Challenge 2023\n",
    "### Chapter 08 / 2023-Nov-30\n",
    "\n",
    "Challenge link https://www.cipherchallenge.org/challenge/challenge-8/"
   ]
  },
  {
   "cell_type": "code",
   "execution_count": 23,
   "metadata": {},
   "outputs": [],
   "source": [
    "# Part A - \"Reading list\"\n",
    "part_a_text = \"\"\"SIJKJ BZTYS KYZZL APNAE PAQHF AWGEU WPPPS OPIEN NPTXE BWKAQ UMFZW HQEZT EPSIA MFXOJ MMTIE LEQDE YWLOP ZQVWM SKHPQ TYLAT XVGMP VLBCM DRDCJ XTSFH HEZHT VLAPP GNDMZ HWLOT DQFOZ TNXOU SBDQW PLAUE PIJEJ DWKJI FQTWM LLJGN EBZXW QTKLZ QMSMS MEIUA PLWQE ZSVEN JHXPW KDXWE WAGNE PWKOM WILBL TNPEX YBLHT BEHCM GOPZL APMXY ZZLTY LEHYM QLSMK IPVLM CGAGR BGXDB SUWQK APDAW PVUXN WFGPK LBYOL APPGN DMZHW LLHEP WTEBW FABWW EPWYE AZHHA ZHHQE IZZLT YBAMH IKMZP WKTAA MAWKL TJDXE PSMTB OTDVL KZOWK DEZHZ ZYTYQ KXOBZ XEPWY EKGNW LKHXM GGPQF MSMET YWJAL DWALL SZCCV ZPIYT TVKMX IALTM KMPID BYOXK ZULAP TAUCI JRDMW FDTAD PIYHZ LAYNW FOZTM MPLOT JBGZP BSMSM JBHWM EOTAD PBGKP IVFZZ WHQUS BDQWL EPGNR PLLMC LLSMO TDDWK JKSKP NMESM JWTIJ RAIYX DEWKP MFVCG HMPLO BEPSA ZALHQ LAYQM JXYBU BAPWK DIFWL ALBXM OXYBG GDPWT OIHMP LSGOA LKPVY MSMFX OBZXX BZBDW FXWWG DDPSK OJMMT BALCM SEWGH KPBLR PIKRE PWELB WKZVW LRMLT WWLMZ CYAPZ SGJES RHMFX PLLHA TSGZC JGPFL LEMHL NWMEO GGNEZ QMZOW MLTAL EWXMS MEXXJ WKDWX KZOWK DPGND MZHWL SGOUS DPMFJ FQJBP ASUZC LMSME BEEGN WLTXR WGWEW CGZEA YEPWK PESLL VQHYM OAZPS WLZWT DWFMZ LALWQ CXXIA LTMOX DPGNW LFHEL ALNWM GEUSB DQWLE PWHCG LALBL APBZX QBOTD XSKEW XTYQF LFZSG NMKVL UWBEP WKMCL BQQFW TBZTC LLHMM DBPDW MSILK ZOWKD EGNWL ZTGMJ BDSWW SQKKP XMMLB AHYIF WSQKV SIFVP WXMSM YHGMJ GZZKA TXWOP VAYSM OTDAZ HCBGY XWFXJ XWHAT WETSW ATUUH FTVND CSEWG XBYLK HXMGG PBGUL KCMSM EBWWG DQWJP LZVMZ PWTCQ FZQZG FJWMC ZLAXA AOALB SKPGG NCMSW TVYKT OZMYW O\"\"\""
   ]
  },
  {
   "cell_type": "code",
   "execution_count": 24,
   "metadata": {},
   "outputs": [],
   "source": [
    "from collections import Counter\n",
    "\n",
    "# Takes a string or list of items and counts the frequencies of those items\n",
    "# data: The list or string to analyse\n",
    "# max_values: The maximum number of values to display (set to None for no limit)\n",
    "# no_columns: The amount of columns to use in the output\n",
    "def frequency_analysis(data, max_values=30, no_columns=5):\n",
    "    frequencies = Counter()\n",
    "    for item in data:\n",
    "        frequencies[item] += 1\n",
    "    \n",
    "    total = sum(frequencies.values())\n",
    "    column = 1\n",
    "    for item, frequency in frequencies.most_common(max_values):\n",
    "        print(f\"{item}: {frequency:2} ({frequency / total:.2%})\", end=\" \" if column % no_columns else \"\\n\")\n",
    "        column += 1\n",
    "    print(\"\\n-----\")"
   ]
  },
  {
   "cell_type": "code",
   "execution_count": 25,
   "metadata": {},
   "outputs": [
    {
     "name": "stdout",
     "output_type": "stream",
     "text": [
      "W: 97 (8.01%) L: 89 (7.35%) M: 85 (7.02%) P: 76 (6.28%) Z: 64 (5.28%)\n",
      "E: 61 (5.04%) A: 60 (4.95%) T: 55 (4.54%) S: 51 (4.21%) K: 50 (4.13%)\n",
      "B: 50 (4.13%) G: 50 (4.13%) X: 47 (3.88%) D: 44 (3.63%) H: 41 (3.39%)\n",
      "O: 36 (2.97%) Y: 35 (2.89%) Q: 35 (2.89%) F: 31 (2.56%) J: 29 (2.39%)\n",
      "I: 26 (2.15%) N: 25 (2.06%) C: 24 (1.98%) V: 22 (1.82%) U: 18 (1.49%)\n",
      "R: 10 (0.83%) \n",
      "-----\n"
     ]
    }
   ],
   "source": [
    "squished = part_a_text.replace(\" \", \"\")\n",
    "frequency_analysis(squished)"
   ]
  },
  {
   "cell_type": "code",
   "execution_count": 26,
   "metadata": {},
   "outputs": [],
   "source": [
    "# Tools to help decode Vigenere ciphers\n",
    "\n",
    "\n",
    "# A function that searches for multiple ocurrences of letters of the specified size and prints out the most common ones\n",
    "def pattern_finder(text, size):\n",
    "    patterns = Counter()\n",
    "    for index in range(len(text)):\n",
    "        patterns[text[index:index+size]] += 1\n",
    "\n",
    "    column = 0\n",
    "    for item, count in patterns.most_common(30):\n",
    "        print(f\"{item}: {count:2}\", end=\" \")\n",
    "        column += 1\n",
    "        if column % 5 == 0:\n",
    "            print()\n",
    "\n",
    "\n",
    "# A function that searches the given text for a word and figures out where it would line up with a key of a given size\n",
    "def get_alignment(text, word, key_size):\n",
    "    print(f\"{word}/{key_size}\", end=\" \")\n",
    "    alignments = []\n",
    "    position = -1\n",
    "    while True:\n",
    "        position = text.find(word, position+1)\n",
    "        if position >= 0:\n",
    "            alignment = position % key_size\n",
    "            print(f\"{position} ({alignment})\", end=\" \")\n",
    "            alignments.append(alignment)\n",
    "        else:\n",
    "            break\n",
    "    if alignments.count(alignments[0]) == len(alignments):\n",
    "        print(\"All the same!\", end=\"\")\n",
    "    print()\n",
    "\n",
    "\n",
    "# A function to reverse search for a key that would convert the given word to an encoded word\n",
    "def lookup_key(word, encoded_word):\n",
    "    key = \"\"\n",
    "    for letter, encoded_letter in zip(word, encoded_word):\n",
    "        diff = (ord(encoded_letter) - ord(letter)) % 26\n",
    "        key += chr(diff + ord('A'))\n",
    "    print(key)"
   ]
  },
  {
   "cell_type": "code",
   "execution_count": 27,
   "metadata": {},
   "outputs": [
    {
     "name": "stdout",
     "output_type": "stream",
     "text": [
      "MSM:  9 EPW:  8 LAP:  6 PWK:  6 WKD:  6 \n",
      "ZLA:  5 PGN:  5 OTD:  5 SME:  5 DQW:  4 \n",
      "BZX:  4 ZOW:  4 GNW:  4 NWL:  4 LAL:  4 \n",
      "ZZL:  3 EBW:  3 EPS:  3 MFX:  3 GND:  3 \n",
      "NDM:  3 DMZ:  3 MZH:  3 ZHW:  3 HWL:  3 \n",
      "USB:  3 SBD:  3 BDQ:  3 GNE:  3 XYB:  3 \n"
     ]
    }
   ],
   "source": [
    "pattern_finder(squished, 3)"
   ]
  },
  {
   "cell_type": "code",
   "execution_count": 29,
   "metadata": {},
   "outputs": [
    {
     "name": "stdout",
     "output_type": "stream",
     "text": [
      "MSM/3 191 (2) 193 (1) 435 (0) 527 (2) 675 (0) 803 (2) 851 (2) 1067 (2) 1147 (1) \n",
      "EPW/3 224 (2) 328 (1) 340 (1) 416 (2) 724 (1) 876 (0) 944 (2) 988 (1) \n",
      "LAP/3 14 (2) 126 (0) 254 (2) 314 (2) 482 (2) 954 (0) \n",
      "PWK/3 213 (0) 225 (0) 369 (0) 637 (1) 877 (1) 989 (2) \n",
      "WKD/3 214 (1) 398 (2) 638 (2) 810 (0) 818 (2) 1022 (2) \n",
      "ZLA/3 13 (1) 253 (1) 504 (0) 904 (1) 1180 (1) \n",
      "PGN/3 129 (0) 317 (2) 561 (0) 821 (2) 921 (0) \n",
      "OTD/3 138 (0) 390 (0) 574 (1) 962 (2) 1090 (1) \n",
      "SME/3 194 (2) 436 (1) 804 (0) 852 (0) 1148 (2) \n",
      "DQW/3 152 (2) 556 (1) 940 (1) 1155 (0) \n",
      "BZX/3 181 (1) 413 (2) 681 (0) 957 (0) \n",
      "ZOW/3 396 (0) 792 (0) 816 (0) 1020 (0) All the same!\n",
      "GNW/3 422 (2) 858 (0) 922 (1) 1026 (0) \n",
      "NWL/3 423 (0) 859 (1) 923 (2) 1027 (1) \n",
      "LAL/3 644 (2) 905 (2) 929 (2) 950 (2) All the same!\n",
      "MSM/4 191 (3) 193 (1) 435 (3) 527 (3) 675 (3) 803 (3) 851 (3) 1067 (3) 1147 (3) \n",
      "EPW/4 224 (0) 328 (0) 340 (0) 416 (0) 724 (0) 876 (0) 944 (0) 988 (0) All the same!\n",
      "LAP/4 14 (2) 126 (2) 254 (2) 314 (2) 482 (2) 954 (2) All the same!\n",
      "PWK/4 213 (1) 225 (1) 369 (1) 637 (1) 877 (1) 989 (1) All the same!\n",
      "WKD/4 214 (2) 398 (2) 638 (2) 810 (2) 818 (2) 1022 (2) All the same!\n",
      "ZLA/4 13 (1) 253 (1) 504 (0) 904 (0) 1180 (0) \n",
      "PGN/4 129 (1) 317 (1) 561 (1) 821 (1) 921 (1) All the same!\n",
      "OTD/4 138 (2) 390 (2) 574 (2) 962 (2) 1090 (2) All the same!\n",
      "SME/4 194 (2) 436 (0) 804 (0) 852 (0) 1148 (0) \n",
      "DQW/4 152 (0) 556 (0) 940 (0) 1155 (3) \n",
      "BZX/4 181 (1) 413 (1) 681 (1) 957 (1) All the same!\n",
      "ZOW/4 396 (0) 792 (0) 816 (0) 1020 (0) All the same!\n",
      "GNW/4 422 (2) 858 (2) 922 (2) 1026 (2) All the same!\n",
      "NWL/4 423 (3) 859 (3) 923 (3) 1027 (3) All the same!\n",
      "LAL/4 644 (0) 905 (1) 929 (1) 950 (2) \n",
      "MSM/5 191 (1) 193 (3) 435 (0) 527 (2) 675 (0) 803 (3) 851 (1) 1067 (2) 1147 (2) \n",
      "EPW/5 224 (4) 328 (3) 340 (0) 416 (1) 724 (4) 876 (1) 944 (4) 988 (3) \n",
      "LAP/5 14 (4) 126 (1) 254 (4) 314 (4) 482 (2) 954 (4) \n",
      "PWK/5 213 (3) 225 (0) 369 (4) 637 (2) 877 (2) 989 (4) \n",
      "WKD/5 214 (4) 398 (3) 638 (3) 810 (0) 818 (3) 1022 (2) \n",
      "ZLA/5 13 (3) 253 (3) 504 (4) 904 (4) 1180 (0) \n",
      "PGN/5 129 (4) 317 (2) 561 (1) 821 (1) 921 (1) \n",
      "OTD/5 138 (3) 390 (0) 574 (4) 962 (2) 1090 (0) \n",
      "SME/5 194 (4) 436 (1) 804 (4) 852 (2) 1148 (3) \n",
      "DQW/5 152 (2) 556 (1) 940 (0) 1155 (0) \n",
      "BZX/5 181 (1) 413 (3) 681 (1) 957 (2) \n",
      "ZOW/5 396 (1) 792 (2) 816 (1) 1020 (0) \n",
      "GNW/5 422 (2) 858 (3) 922 (2) 1026 (1) \n",
      "NWL/5 423 (3) 859 (4) 923 (3) 1027 (2) \n",
      "LAL/5 644 (4) 905 (0) 929 (4) 950 (0) \n",
      "MSM/6 191 (5) 193 (1) 435 (3) 527 (5) 675 (3) 803 (5) 851 (5) 1067 (5) 1147 (1) \n",
      "EPW/6 224 (2) 328 (4) 340 (4) 416 (2) 724 (4) 876 (0) 944 (2) 988 (4) \n",
      "LAP/6 14 (2) 126 (0) 254 (2) 314 (2) 482 (2) 954 (0) \n",
      "PWK/6 213 (3) 225 (3) 369 (3) 637 (1) 877 (1) 989 (5) \n",
      "WKD/6 214 (4) 398 (2) 638 (2) 810 (0) 818 (2) 1022 (2) \n",
      "ZLA/6 13 (1) 253 (1) 504 (0) 904 (4) 1180 (4) \n",
      "PGN/6 129 (3) 317 (5) 561 (3) 821 (5) 921 (3) \n",
      "OTD/6 138 (0) 390 (0) 574 (4) 962 (2) 1090 (4) \n",
      "SME/6 194 (2) 436 (4) 804 (0) 852 (0) 1148 (2) \n",
      "DQW/6 152 (2) 556 (4) 940 (4) 1155 (3) \n",
      "BZX/6 181 (1) 413 (5) 681 (3) 957 (3) \n",
      "ZOW/6 396 (0) 792 (0) 816 (0) 1020 (0) All the same!\n",
      "GNW/6 422 (2) 858 (0) 922 (4) 1026 (0) \n",
      "NWL/6 423 (3) 859 (1) 923 (5) 1027 (1) \n",
      "LAL/6 644 (2) 905 (5) 929 (5) 950 (2) \n",
      "MSM/7 191 (2) 193 (4) 435 (1) 527 (2) 675 (3) 803 (5) 851 (4) 1067 (3) 1147 (6) \n",
      "EPW/7 224 (0) 328 (6) 340 (4) 416 (3) 724 (3) 876 (1) 944 (6) 988 (1) \n",
      "LAP/7 14 (0) 126 (0) 254 (2) 314 (6) 482 (6) 954 (2) \n",
      "PWK/7 213 (3) 225 (1) 369 (5) 637 (0) 877 (2) 989 (2) \n",
      "WKD/7 214 (4) 398 (6) 638 (1) 810 (5) 818 (6) 1022 (0) \n",
      "ZLA/7 13 (6) 253 (1) 504 (0) 904 (1) 1180 (4) \n",
      "PGN/7 129 (3) 317 (2) 561 (1) 821 (2) 921 (4) \n",
      "OTD/7 138 (5) 390 (5) 574 (0) 962 (3) 1090 (5) \n",
      "SME/7 194 (5) 436 (2) 804 (6) 852 (5) 1148 (0) \n",
      "DQW/7 152 (5) 556 (3) 940 (2) 1155 (0) \n",
      "BZX/7 181 (6) 413 (0) 681 (2) 957 (5) \n",
      "ZOW/7 396 (4) 792 (1) 816 (4) 1020 (5) \n",
      "GNW/7 422 (2) 858 (4) 922 (5) 1026 (4) \n",
      "NWL/7 423 (3) 859 (5) 923 (6) 1027 (5) \n",
      "LAL/7 644 (0) 905 (2) 929 (5) 950 (5) \n",
      "MSM/8 191 (7) 193 (1) 435 (3) 527 (7) 675 (3) 803 (3) 851 (3) 1067 (3) 1147 (3) \n",
      "EPW/8 224 (0) 328 (0) 340 (4) 416 (0) 724 (4) 876 (4) 944 (0) 988 (4) \n",
      "LAP/8 14 (6) 126 (6) 254 (6) 314 (2) 482 (2) 954 (2) \n",
      "PWK/8 213 (5) 225 (1) 369 (1) 637 (5) 877 (5) 989 (5) \n",
      "WKD/8 214 (6) 398 (6) 638 (6) 810 (2) 818 (2) 1022 (6) \n",
      "ZLA/8 13 (5) 253 (5) 504 (0) 904 (0) 1180 (4) \n",
      "PGN/8 129 (1) 317 (5) 561 (1) 821 (5) 921 (1) \n",
      "OTD/8 138 (2) 390 (6) 574 (6) 962 (2) 1090 (2) \n",
      "SME/8 194 (2) 436 (4) 804 (4) 852 (4) 1148 (4) \n",
      "DQW/8 152 (0) 556 (4) 940 (4) 1155 (3) \n",
      "BZX/8 181 (5) 413 (5) 681 (1) 957 (5) \n",
      "ZOW/8 396 (4) 792 (0) 816 (0) 1020 (4) \n",
      "GNW/8 422 (6) 858 (2) 922 (2) 1026 (2) \n",
      "NWL/8 423 (7) 859 (3) 923 (3) 1027 (3) \n",
      "LAL/8 644 (4) 905 (1) 929 (1) 950 (6) \n",
      "MSM/9 191 (2) 193 (4) 435 (3) 527 (5) 675 (0) 803 (2) 851 (5) 1067 (5) 1147 (4) \n",
      "EPW/9 224 (8) 328 (4) 340 (7) 416 (2) 724 (4) 876 (3) 944 (8) 988 (7) \n",
      "LAP/9 14 (5) 126 (0) 254 (2) 314 (8) 482 (5) 954 (0) \n",
      "PWK/9 213 (6) 225 (0) 369 (0) 637 (7) 877 (4) 989 (8) \n",
      "WKD/9 214 (7) 398 (2) 638 (8) 810 (0) 818 (8) 1022 (5) \n",
      "ZLA/9 13 (4) 253 (1) 504 (0) 904 (4) 1180 (1) \n",
      "PGN/9 129 (3) 317 (2) 561 (3) 821 (2) 921 (3) \n",
      "OTD/9 138 (3) 390 (3) 574 (7) 962 (8) 1090 (1) \n",
      "SME/9 194 (5) 436 (4) 804 (3) 852 (6) 1148 (5) \n",
      "DQW/9 152 (8) 556 (7) 940 (4) 1155 (3) \n",
      "BZX/9 181 (1) 413 (8) 681 (6) 957 (3) \n",
      "ZOW/9 396 (0) 792 (0) 816 (6) 1020 (3) \n",
      "GNW/9 422 (8) 858 (3) 922 (4) 1026 (0) \n",
      "NWL/9 423 (0) 859 (4) 923 (5) 1027 (1) \n",
      "LAL/9 644 (5) 905 (5) 929 (2) 950 (5) \n"
     ]
    }
   ],
   "source": [
    "for key_length in range(3,10):\n",
    "    for pattern in (\"MSM\", \"EPW\", \"LAP\", \"PWK\", \"WKD\", \"ZLA\", \"PGN\", \"OTD\", \"SME\", \"DQW\", \"BZX\", \"ZOW\", \"GNW\", \"NWL\", \"LAL\"):\n",
    "        get_alignment(squished, pattern, key_length)       "
   ]
  },
  {
   "cell_type": "code",
   "execution_count": 30,
   "metadata": {},
   "outputs": [
    {
     "name": "stdout",
     "output_type": "stream",
     "text": [
      "EPW: LIS\n",
      "LAP: STL\n",
      "PWK: WPG\n",
      "WKD: DDZ\n",
      "PGN: WZJ\n",
      "OTD: VMZ\n",
      "BZX: IST\n",
      "ZOW: GHS\n",
      "GNW: NGS\n",
      "NWL: UPH\n"
     ]
    }
   ],
   "source": [
    "for pattern in (\"EPW\", \"LAP\", \"PWK\", \"WKD\", \"PGN\", \"OTD\", \"BZX\", \"ZOW\", \"GNW\", \"NWL\"):\n",
    "    print(pattern, end=\": \")\n",
    "    lookup_key(\"THE\", pattern)"
   ]
  },
  {
   "cell_type": "code",
   "execution_count": 32,
   "metadata": {},
   "outputs": [],
   "source": [
    "# A method to decode/encode a Vigenere cipher.  Case and punctuation are preserved.\n",
    "# text: The text to encode\n",
    "# key: The key to use\n",
    "# encode: If set to True, will encode the given text instead of decoding it\n",
    "def vigenere(text, key, encode=False):\n",
    "    shifts = [ord(letter.upper()) - ord(\"A\") for letter in key]\n",
    "    key_length = len(key)\n",
    "    key_index = 0\n",
    "    for letter in text:\n",
    "        letter_val = ord(letter)\n",
    "        if letter.isupper():\n",
    "            offset = ord(\"A\")\n",
    "        elif letter.islower():\n",
    "            offset = ord(\"a\")\n",
    "        else:\n",
    "            print(letter, end=\"\")\n",
    "            continue\n",
    "\n",
    "        if encode:\n",
    "            shift = shifts[key_index]\n",
    "        else:\n",
    "            shift = -shifts[key_index]\n",
    "\n",
    "        print(chr((((letter_val - offset) + shift) % 26) + offset), end=\"\")\n",
    "        key_index = (key_index + 1) % key_length\n",
    "    print()"
   ]
  },
  {
   "cell_type": "code",
   "execution_count": 33,
   "metadata": {},
   "outputs": [
    {
     "name": "stdout",
     "output_type": "stream",
     "text": [
      "HARRYTHANKSFORTHEFILESYOUSENTMEWEHAVEAMUCHBETTERPICTUREOFWHATHAPPENEDBUTIAMSTILLNOTVERYCLEARWHYANDIAMNOTENTIRELYSUREIKNOWWHOINTHEHOUSEHOLDWASINVOLVEDMAISIEWASCLEARLYVERYANXIOUSABOUTTHELIBRARYTHEATTACHEDEXTRACTFROMHERSPELLSOUTHERDEEPATTACHMENTTOITMOREOVERTHEEFFORTANDMONEYSHESPENTTRYINGTOESTABLISHEVIDENCECONNECTINGTHEHOUSEHOLDTOTHEATTEMPTEDTHEFTSHOWSHOWIMPORTANTITWASTOHERISITPOSSIBLETHATITWASNTROGERSWHOORGANISEDTHETHEFTCOULDSOMEONEINTHEMANORHAVEHADAGRUDGEAGAINSTMAISIESTEALINGFROMTHELIBRARYSEEMSLIKEAGOODIFCONVOLUTEDWAYTOGETATHERIWOULDLIKETOREADMOREOFMAISIESTHOUGHTSBUTSHEWASVERYCAREFULHERDIARYPAGESWEREENCRYPTEDWITHAHOSTOFDIFFERENTCIPHERSANDASTIMEWENTONSHEADAPTEDANDSTRENGTHENEDTHEMTHISONELOOKSHARDBUTITISREALLYPRETTYEASYTHELATERONESGETALOTTOUGHERANYWAYWENEEDTOPLANOURNEXTSTEPSCOULDYOUTRYTOGETALISTOFTHEMEMBERSOFROGERSHOUSEHOLDANDMAKEENQUIRIESABOUTTHEMITWOULDBEGOODTOKNOWIFTHEREWASANYONEWHOHADAREASONTODISLIKEMAISIEWESHOULDNOTDISCOUNTMAISIESTHEORYTHATTHETHEFTWASPARTOFANINSURANCESCAMEITHERBUTIFINDITHARDTOBELIEVETHATROGERSWOULDHAVERISKEDHISREPUTATIONANDHISCHANCEOFTHEGOVERNORSHIPEVENIFHEWASSHORTOFMONEYPEOPLELIKEHIMCOULDUSUALLYFINDSOMEONETOBACKTHEMILOOKFORWARDTOHEARINGFROMYOUJODIEPSWHATAREYOUREADINGRIGHTNOW\n"
     ]
    }
   ],
   "source": [
    "# lis.\n",
    "# l.st\n",
    "\n",
    "vigenere(squished, \"list\")"
   ]
  },
  {
   "cell_type": "code",
   "execution_count": 37,
   "metadata": {},
   "outputs": [],
   "source": [
    "# Part B \"A historic cipher\"\n",
    "part_b_text = \"\"\"33512 53443 21114 22523 14422 53534 11352 24224 21253 45425 55213 44224 14432 15321 21343 33515 21221 51325 42221 33242 24143 42554 35133 25524 14432 12435 41215 54125 34312 11542 35341 12414 43214 11535 43255 52155 54322 11415 21432 55521 34542 14224 14424 22421 15214 41411 14543 53411 41251 51454 51423 51142 21143 22215 35333 35132 25531 51415 51143 45542 24144 22143 25552 13454 21413 52534 42114 23533 51213 34132 35512 11535 15144 23221 14114 21135 33213 53421 25342 42511 21334 13235 51332 13442 33151 53523 21151 12414 55413 21434 34215 54235 55353 41442 21422 42154 35323 22154 42253 53442 35422 42154 25425 13225 53151 41551 25343 51555 21154 23541 15353 33542 21242 51154 14334 11425 23342 23515 21322 15442 25353 44235 23354 32115 34351 55313 42422 42153 35353 11114 15212 21415 42353 54314 32131 45332 21423 52325 43211 44414 51143 45525 42251 12114 11514 23553 21322 52143 21422 41442 24214 43513 32552 41443 21421 52521 55423 51521 14322 51121 11353 32135 22422 41442 43143 21321 22351 52425 33112 13222 21114 12154 25143 23251 11253 45421 14342 13221 54422 53534 25111 43421 45412 13411 25432 15313 11253 42111 11253 43513 15114 21442 21422 42115 21141 52114 55432 11542 25112 13321 34421 14235 41131 55424 14112 11434 55253 42232 13213 44225 14324 12135 41322 14424 35342 12155 42355 32154 35344 32534 54215 54235 53145 43124 25332 54225 11335 15513 42511 41154 13114 23555 25143 43522 42242 15435 32322 15442 25353 44235 41153 54221 54422 54225 54143 43435 42322 14224 25335 52111 42153 55121 43211 55142 24253 42344 21241 44321 53132 53242 42352 32142 24211 52542 44141 13351 24354 12142 24144 25351 23144 22421 15253 42321 34351 32324 21432 55521 34542 14235 25345 41525 33253 41442 21242 53325 54351 33255 54353 44325 34542 13315 15352 32115 11423 53221 14432 14224 21322 55315 14155 11432 35342 12524 14432 11141 21344 25121 14151 15413 15144 22534 23254 21434 55254 25435 34421 42534 11331 43451 41152 15425 35131 12542 21331 12554 35133 25534 35425 32114 15423 53235 11212 54225 24144 32111 24354 43424 25334 22421 32214 24221 15112 21535 33412 53431 21154 23534 11143 45542 15252 15542 35152 11411 35344 42542 24242 53324 21251 14321 15511 43423 15514 42542 24332 11434 55312 12141 11111 45125 34234 22414 42422 42155 21144 22414 34554 22421 14424 22133 41422 15542 24212 24224 14553 43542 24253 42342 35553 54425 42242 42533 24212 51115 25232 44242 24144 24224 21152 12511 34354 22425 34235 43534 54321 31125 43212 53442 24212 14325 55213 45421 53134 21411 25413 52534 42215 53513 42423 52425 33422 42115 21553 52111 34354 23421 21554 23553 21143 45141 15353 52221 43213 44224 21111 31141 25542 53534 35222 42511 25344 33532 43213 32134 42443 51332 55112 14321 15213 25155 14331 42321 24251 11521 41134 21442 25353 41434 55443 51332 55552 11142 15355 12425 11542 41434 54213 52221 32215 44225 35342 42124 14114 22415 21144 22134 21554 23522 25152 13321 53134 22542 25111 43421 33414 25142 24152 11442 24215 41434 34354 21422 22351 55522 35153 32142 35421 43231 42354 22421 41152 11111 13344 22532 24211 42315 21211 14235 33515 52133 14345 51125 44253 23254 35344 22534 13214 23524 14151 41111 24253 31434 55423 55313 25325 53351 21432 55521 34542 13351 32255 31514 15513 31311 42532 14115 35422 15442 21551 44214 32325 43511 4211\"\"\""
   ]
  },
  {
   "cell_type": "code",
   "execution_count": 38,
   "metadata": {},
   "outputs": [],
   "source": [
    "squished = part_b_text.replace(\" \", \"\")"
   ]
  },
  {
   "cell_type": "code",
   "execution_count": 39,
   "metadata": {},
   "outputs": [
    {
     "name": "stdout",
     "output_type": "stream",
     "text": [
      "2714\n",
      "2, 23, 46, 59, 118, 1357, "
     ]
    }
   ],
   "source": [
    "length = len(squished)\n",
    "print(length)\n",
    "for n in range(2, length):\n",
    "    if length % n == 0:\n",
    "        print(n, end=\", \")"
   ]
  },
  {
   "cell_type": "code",
   "execution_count": 40,
   "metadata": {},
   "outputs": [
    {
     "name": "stdout",
     "output_type": "stream",
     "text": [
      "21: 181 (13.34%) 42: 148 (10.91%) 35: 113 (8.33%) 25: 111 (8.18%) 34: 97 (7.15%)\n",
      "14: 97 (7.15%) 24: 75 (5.53%) 15: 73 (5.38%) 11: 71 (5.23%) 55: 51 (3.76%)\n",
      "32: 51 (3.76%) 54: 45 (3.32%) 33: 42 (3.10%) 51: 32 (2.36%) 43: 31 (2.28%)\n",
      "13: 31 (2.28%) 41: 29 (2.14%) 22: 20 (1.47%) 53: 20 (1.47%) 23: 19 (1.40%)\n",
      "44: 13 (0.96%) 31:  6 (0.44%) 45:  1 (0.07%) \n",
      "-----\n",
      "{11, 13, 14, 15, 21, 22, 23, 24, 25, 31, 32, 33, 34, 35, 41, 42, 43, 44, 45, 51, 53, 54, 55}\n"
     ]
    }
   ],
   "source": [
    "# Probably pairs.  What is the range of numbers...?\n",
    "nums = list()\n",
    "for n in range(0, len(squished), 2):\n",
    "    nums.append(int(squished[n:n+2]))\n",
    "    \n",
    "frequency_analysis(nums)\n",
    "print(set(nums))"
   ]
  },
  {
   "cell_type": "code",
   "execution_count": 44,
   "metadata": {},
   "outputs": [
    {
     "name": "stdout",
     "output_type": "stream",
     "text": [
      "LTIMQEAPIGCPINMANFPHEIMVIWEMPHCQEUEEMLNDEFDBIPFBKPHCMIVNBKWHCQEHNOEWOIMJEDPNMAHCQEODNQIWEWVKECDEQIWEMVEPHCPPHEDERCACVNMAOIDCVTPNAPECKFDNLLTKIUDCDTCMWPHCPEQIWEMVEONIMPAPNLTELOKNTEDNDCPKECAPANLENMEIMHIAELOKNTLEMPLDDNGEDAHCWOKCMMEWPNWNMCPEPHEVNKKEVPINMPNPHEVIPTKIUDCDTIMNDWEDPNODNLNPEHIAVCLOCIGMFNDEKEVPINMPNGNQEDMNDUBPPHEUNNJACDEFCDPNNQCKBCUKEPNGIQECRCTCMWIPIAECATPNUEKIEQEPHCPHERNBKWHCQEPDIEWPNDECKIAEANLENFPHCPQCKBEFNDHILAEKFEAOEVICKKTAIMVECMEKEVPINMIACMESOEMAIQEUBAIMEAAIMNBDAPCPEPHEDECDECWQEDPIAELEMPAPNOBDVHCAECMWIMFKBEMPICKOENOKERHNMEEWPNUEVNMQIMVEWPNUCVJHILIPIALTWBPTCAVBAPNWICMNFPHEVNKKEVPINMPNODNPEVPIPIVCMMNPKEPHILWEAPDNTEQEDTPHIMGREHCQEUBIKPPNGEPHEDIPRCALTHNOEPHCPUTGCPHEDIMGEMNBGHEQIWEMVEPNIMVDILIMCPEHILIVNBKWVNMQIMVELDDNGEDAPNKECQEPHEKIUDCDTCKNMEIHCQEAOEMPTECDAVBDCPIMGIPCMWIPVNMPCIMALCMTODEVINBAIPELAIVNBKWMNPUECDPNKNAEIPIHCQEAHNRMHILPHEKEPPEDAFDNLOIMJEDPNMACMWPDIEWPNDECANMRIPHHILHEIAQEDTCMGDTRIPHLECMWJEEOAACTIMGPHCPPHEWECPHCMWPHECPPELOPEWPHEFPHCWMNPHIMGPNWNRIPHHILHEIADIGHPPHCPPHEDEIAMNPHIMGVNMVKBAIQEIMPHEEQIWEMVEUBPCAIONIMPEWNBPPNHILPHEDEWNEAMNPMEEWPNUECMTODNNFEQEMPHEABAOIVINMNFHIAIMQNKQELEMPRNBKWAEQEDEKTWCLCGEHIADEOBPCPINMCMWRNBKWWEAPDNTHIAVHCMVENFEKEVPINMHEHCAPHDECPEMEWPNFIDELEUBPIPIACMELOPTPHDECPHEVCMMNPCFFNDWFNDLEPNPCKJPNPHEODEAABMPIKHECGDEEAPNLTWELCMWAIRIKKVNMPIMBEPNHCDCAAHILCMWPNUBIKWLTEQIWEMVELTKIUDCDTLBAPUEODNPEVPEWCPCKKVNAPA\n",
      "E: 181 (13.34%) P: 148 (10.91%) N: 113 (8.33%) I: 111 (8.18%) M: 97 (7.15%)\n",
      "C: 97 (7.15%) H: 75 (5.53%) D: 73 (5.38%) A: 71 (5.23%) W: 51 (3.76%)\n",
      "K: 51 (3.76%) V: 45 (3.32%) L: 42 (3.10%) T: 32 (2.36%) Q: 31 (2.28%)\n",
      "B: 31 (2.28%) O: 29 (2.14%) F: 20 (1.47%) U: 20 (1.47%) G: 19 (1.40%)\n",
      "R: 13 (0.96%) J:  6 (0.44%) S:  1 (0.07%) \n",
      "-----\n"
     ]
    }
   ],
   "source": [
    "# Convert them to letters\n",
    "import string\n",
    "n2l = dict()\n",
    "letters = list(string.ascii_uppercase)\n",
    "for n in set(nums):\n",
    "    n2l[n] = letters.pop(0)\n",
    "#   1 2 3 4 5\n",
    "# 1 A . B C D\n",
    "# 2 E F G H I\n",
    "# 3 J K L M N\n",
    "# 4 O P Q R S\n",
    "# 5 T . U V W\n",
    "\n",
    "ciphertext = \"\"\n",
    "for n in nums:\n",
    "    ciphertext += n2l[n]\n",
    "print(ciphertext)\n",
    "frequency_analysis(ciphertext)"
   ]
  },
  {
   "cell_type": "code",
   "execution_count": 42,
   "metadata": {},
   "outputs": [],
   "source": [
    "import string\n",
    "\n",
    "# A simple translation method.\n",
    "# text: The text to translate, in upper case\n",
    "# key: A substitution alphabet, usually in lower case so that the translated characters show up\n",
    "def decode(text, key):\n",
    "    table = str.maketrans(string.ascii_uppercase, key)\n",
    "    print(text.upper().translate(table))"
   ]
  },
  {
   "cell_type": "code",
   "execution_count": 46,
   "metadata": {},
   "outputs": [
    {
     "name": "stdout",
     "output_type": "stream",
     "text": [
      "LTIMQeAtIGCtINMANFtheIMVIWeMthCQeUeeMLNDeFDBItFBKthCMIVNBKWhCQehNOeWOIMJeDtNMAhCQeODNQIWeWVKeCDeQIWeMVethCttheDeRCACVNMAOIDCVTtNAteCKFDNLLTKIUDCDTCMWthCteQIWeMVeONIMtAtNLTeLOKNTeDNDCtKeCAtANLeNMeIMhIAeLOKNTLeMtLDDNGeDAhCWOKCMMeWtNWNMCtetheVNKKeVtINMtNtheVItTKIUDCDTIMNDWeDtNODNLNtehIAVCLOCIGMFNDeKeVtINMtNGNQeDMNDUBttheUNNJACDeFCDtNNQCKBCUKetNGIQeCRCTCMWItIAeCATtNUeKIeQethCtheRNBKWhCQetDIeWtNDeCKIAeANLeNFthCtQCKBeFNDhILAeKFeAOeVICKKTAIMVeCMeKeVtINMIACMeSOeMAIQeUBAIMeAAIMNBDAtCtetheDeCDeCWQeDtIAeLeMtAtNOBDVhCAeCMWIMFKBeMtICKOeNOKeRhNMeeWtNUeVNMQIMVeWtNUCVJhILItIALTWBtTCAVBAtNWICMNFtheVNKKeVtINMtNODNteVtItIVCMMNtKethILWeAtDNTeQeDTthIMGRehCQeUBIKttNGetheDItRCALThNOethCtUTGCtheDIMGeMNBGheQIWeMVetNIMVDILIMCtehILIVNBKWVNMQIMVeLDDNGeDAtNKeCQetheKIUDCDTCKNMeIhCQeAOeMtTeCDAVBDCtIMGItCMWItVNMtCIMALCMTODeVINBAIteLAIVNBKWMNtUeCDtNKNAeItIhCQeAhNRMhILtheKetteDAFDNLOIMJeDtNMACMWtDIeWtNDeCANMRIthhILheIAQeDTCMGDTRIthLeCMWJeeOAACTIMGthCttheWeCthCMWtheCtteLOteWtheFthCWMNthIMGtNWNRIthhILheIADIGhtthCttheDeIAMNthIMGVNMVKBAIQeIMtheeQIWeMVeUBtCAIONIMteWNBttNhILtheDeWNeAMNtMeeWtNUeCMTODNNFeQeMtheABAOIVINMNFhIAIMQNKQeLeMtRNBKWAeQeDeKTWCLCGehIADeOBtCtINMCMWRNBKWWeAtDNThIAVhCMVeNFeKeVtINMhehCAthDeCteMeWtNFIDeLeUBtItIACMeLOtTthDeCtheVCMMNtCFFNDWFNDLetNtCKJtNtheODeAABMtIKheCGDeeAtNLTWeLCMWAIRIKKVNMtIMBetNhCDCAAhILCMWtNUBIKWLTeQIWeMVeLTKIUDCDTLBAtUeODNteVteWCtCKKVNAtA\n"
     ]
    }
   ],
   "source": [
    "decode(ciphertext, \"ABCDeFGhIJKLMNOtQRSTUVWXYZ\")"
   ]
  },
  {
   "cell_type": "code",
   "execution_count": 47,
   "metadata": {},
   "outputs": [
    {
     "name": "stdout",
     "output_type": "stream",
     "text": [
      "LTIMQeAtIGatINMANFtheIMVIWeMthaQeUeeMLNreFrBItFBlthaMIVNBlWhaQehNOeWOIMJertNMAhaQeOrNQIWeWVleareQIWeMVethatthereRaAaVNMAOIraVTtNAtealFrNLLTlIUrarTaMWthateQIWeMVeONIMtAtNLTeLOlNTerNratleaAtANLeNMeIMhIAeLOlNTLeMtLrrNGerAhaWOlaMMeWtNWNMatetheVNlleVtINMtNtheVItTlIUrarTIMNrWertNOrNLNtehIAVaLOaIGMFNreleVtINMtNGNQerMNrUBttheUNNJAareFartNNQalBaUletNGIQeaRaTaMWItIAeaATtNUelIeQethatheRNBlWhaQetrIeWtNrealIAeANLeNFthatQalBeFNrhILAelFeAOeVIallTAIMVeaMeleVtINMIAaMeSOeMAIQeUBAIMeAAIMNBrAtatethereareaWQertIAeLeMtAtNOBrVhaAeaMWIMFlBeMtIalOeNOleRhNMeeWtNUeVNMQIMVeWtNUaVJhILItIALTWBtTaAVBAtNWIaMNFtheVNlleVtINMtNOrNteVtItIVaMMNtlethILWeAtrNTeQerTthIMGRehaQeUBIlttNGetherItRaALThNOethatUTGatherIMGeMNBGheQIWeMVetNIMVrILIMatehILIVNBlWVNMQIMVeLrrNGerAtNleaQethelIUrarTalNMeIhaQeAOeMtTearAVBratIMGItaMWItVNMtaIMALaMTOreVINBAIteLAIVNBlWMNtUeartNlNAeItIhaQeAhNRMhILtheletterAFrNLOIMJertNMAaMWtrIeWtNreaANMRIthhILheIAQerTaMGrTRIthLeaMWJeeOAAaTIMGthattheWeathaMWtheatteLOteWtheFthaWMNthIMGtNWNRIthhILheIArIGhtthatthereIAMNthIMGVNMVlBAIQeIMtheeQIWeMVeUBtaAIONIMteWNBttNhILthereWNeAMNtMeeWtNUeaMTOrNNFeQeMtheABAOIVINMNFhIAIMQNlQeLeMtRNBlWAeQerelTWaLaGehIAreOBtatINMaMWRNBlWWeAtrNThIAVhaMVeNFeleVtINMhehaAthreateMeWtNFIreLeUBtItIAaMeLOtTthreatheVaMMNtaFFNrWFNrLetNtalJtNtheOreAABMtIlheaGreeAtNLTWeLaMWAIRIllVNMtIMBetNharaAAhILaMWtNUBIlWLTeQIWeMVeLTlIUrarTLBAtUeOrNteVteWatallVNAtA\n"
     ]
    }
   ],
   "source": [
    "# \"theKetteD\" -> K=l, D=r\n",
    "# \"thCtthe\" -> C=a\n",
    "decode(ciphertext, \"ABareFGhIJlLMNOtQRSTUVWXYZ\")"
   ]
  },
  {
   "cell_type": "code",
   "execution_count": 48,
   "metadata": {},
   "outputs": [
    {
     "name": "stdout",
     "output_type": "stream",
     "text": [
      "LyiMQestiGatiNMsNFtheiMViWeMthaQebeeMLNreFrBitFBlthaMiVNBlWhaQehNOeWOiMJertNMshaQeOrNQiWeWVleareQiWeMVethatthereRasaVNMsOiraVytNstealFrNLLylibraryaMWthateQiWeMVeONiMtstNLyeLOlNyerNratleastsNLeNMeiMhiseLOlNyLeMtLrrNGershaWOlaMMeWtNWNMatetheVNlleVtiNMtNtheVitylibraryiMNrWertNOrNLNtehisVaLOaiGMFNreleVtiNMtNGNQerMNrbBtthebNNJsareFartNNQalBabletNGiQeaRayaMWitiseasytNbelieQethatheRNBlWhaQetrieWtNrealisesNLeNFthatQalBeFNrhiLselFesOeViallysiMVeaMeleVtiNMisaMeSOeMsiQebBsiMessiMNBrstatethereareaWQertiseLeMtstNOBrVhaseaMWiMFlBeMtialOeNOleRhNMeeWtNbeVNMQiMVeWtNbaVJhiLitisLyWBtyasVBstNWiaMNFtheVNlleVtiNMtNOrNteVtitiVaMMNtlethiLWestrNyeQerythiMGRehaQebBilttNGetheritRasLyhNOethatbyGatheriMGeMNBGheQiWeMVetNiMVriLiMatehiLiVNBlWVNMQiMVeLrrNGerstNleaQethelibraryalNMeihaQesOeMtyearsVBratiMGitaMWitVNMtaiMsLaMyOreViNBsiteLsiVNBlWMNtbeartNlNseitihaQeshNRMhiLthelettersFrNLOiMJertNMsaMWtrieWtNreasNMRithhiLheisQeryaMGryRithLeaMWJeeOssayiMGthattheWeathaMWtheatteLOteWtheFthaWMNthiMGtNWNRithhiLheisriGhtthatthereisMNthiMGVNMVlBsiQeiMtheeQiWeMVebBtasiONiMteWNBttNhiLthereWNesMNtMeeWtNbeaMyOrNNFeQeMthesBsOiViNMNFhisiMQNlQeLeMtRNBlWseQerelyWaLaGehisreOBtatiNMaMWRNBlWWestrNyhisVhaMVeNFeleVtiNMhehasthreateMeWtNFireLebBtitisaMeLOtythreatheVaMMNtaFFNrWFNrLetNtalJtNtheOressBMtilheaGreestNLyWeLaMWsiRillVNMtiMBetNharasshiLaMWtNbBilWLyeQiWeMVeLylibraryLBstbeOrNteVteWatallVNsts\n"
     ]
    }
   ],
   "source": [
    "# \"atleaAt\" -> A=s\n",
    "# \"lIUrarT\" -> I=i, U=b, T=y\n",
    "decode(ciphertext, \"sBareFGhiJlLMNOtQRSybVWXYZ\")"
   ]
  },
  {
   "cell_type": "code",
   "execution_count": 51,
   "metadata": {},
   "outputs": [
    {
     "name": "stdout",
     "output_type": "stream",
     "text": [
      "myinvestigationsoftheinViWenthavebeenmorefrBitfBlthaniVoBlWhavehoOeWOinJertonshaveOroviWeWVleareviWenVethatthereRasaVonsOiraVytostealfrommylibraryanWthateviWenVeOointstomyemOloyeroratleastsomeoneinhisemOloymentmrrogershaWOlanneWtoWonatetheVolleVtiontotheVitylibraryinorWertoOromotehisVamOaignforeleVtiontogovernorbBtthebooJsarefartoovalBabletogiveaRayanWitiseasytobelievethatheRoBlWhavetrieWtorealisesomeofthatvalBeforhimselfesOeViallysinVeaneleVtionisaneSOensivebBsinessinoBrstatethereareaWvertisementstoOBrVhaseanWinflBentialOeoOleRhoneeWtobeVonvinVeWtobaVJhimitismyWBtyasVBstoWianoftheVolleVtiontoOroteVtitiVannotlethimWestroyeverythingRehavebBilttogetheritRasmyhoOethatbygatheringenoBgheviWenVetoinVriminatehimiVoBlWVonvinVemrrogerstoleavethelibraryaloneihavesOentyearsVBratingitanWitVontainsmanyOreVioBsitemsiVoBlWnotbeartoloseitihaveshoRnhimthelettersfromOinJertonsanWtrieWtoreasonRithhimheisveryangryRithmeanWJeeOssayingthattheWeathanWtheattemOteWthefthaWnothingtoWoRithhimheisrightthatthereisnothingVonVlBsiveintheeviWenVebBtasiOointeWoBttohimthereWoesnotneeWtobeanyOroofeventhesBsOiVionofhisinvolvementRoBlWseverelyWamagehisreOBtationanWRoBlWWestroyhisVhanVeofeleVtionhehasthreateneWtofiremebBtitisanemOtythreatheVannotafforWformetotalJtotheOressBntilheagreestomyWemanWsiRillVontinBetoharasshimanWtobBilWmyeviWenVemylibrarymBstbeOroteVteWatallVosts\n"
     ]
    }
   ],
   "source": [
    "# \"LyiMQestiGatiNMsNFthe\" -> L=m, M=n, Q=v, G=g N=o, F=f\n",
    "decode(ciphertext, \"sBarefghiJlmnoOtvRSybVWXYZ\")"
   ]
  },
  {
   "cell_type": "code",
   "execution_count": 53,
   "metadata": {},
   "outputs": [
    {
     "name": "stdout",
     "output_type": "stream",
     "text": [
      "myinvestigationsoftheincidenthavebeenmorefruitfulthanicouldhavehopedpinkertonshaveprovidedclearevidencethattherewasaconspiracytostealfrommylibraryandthatevidencepointstomyemployeroratleastsomeoneinhisemploymentmrrogershadplannedtodonatethecollectiontothecitylibraryinordertopromotehiscampaignforelectiontogovernorbutthebooksarefartoovaluabletogiveawayanditiseasytobelievethathewouldhavetriedtorealisesomeofthatvalueforhimselfespeciallysinceanelectionisanexpensivebusinessinourstatethereareadvertisementstopurchaseandinfluentialpeoplewhoneedtobeconvincedtobackhimitismydutyascustodianofthecollectiontoprotectiticannotlethimdestroyeverythingwehavebuilttogetheritwasmyhopethatbygatheringenoughevidencetoincriminatehimicouldconvincemrrogerstoleavethelibraryaloneihavespentyearscuratingitanditcontainsmanypreciousitemsicouldnotbeartoloseitihaveshownhimthelettersfrompinkertonsandtriedtoreasonwithhimheisveryangrywithmeandkeepssayingthatthedeathandtheattemptedthefthadnothingtodowithhimheisrightthatthereisnothingconclusiveintheevidencebutasipointedouttohimtheredoesnotneedtobeanyproofeventhesuspicionofhisinvolvementwouldseverelydamagehisreputationandwoulddestroyhischanceofelectionhehasthreatenedtofiremebutitisanemptythreathecannotaffordformetotalktothepressuntilheagreestomydemandsiwillcontinuetoharasshimandtobuildmyevidencemylibrarymustbeprotectedatallcosts\n"
     ]
    }
   ],
   "source": [
    "# \"inViWent\" -> V=c, W=d\n",
    "# \"frBitfBlthaniVoBlWhavehoOeW\" -> B=u, O=p\n",
    "# \"thereRasaVonsOiraVy\" -> R=w\n",
    "# \"thebooJs\" -> J=k\n",
    "# \"eSOensive\" -> S=x\n",
    "decode(ciphertext, \"suarefghiklmnoptvwxybcdXYZ\")"
   ]
  },
  {
   "cell_type": "markdown",
   "metadata": {},
   "source": [
    "# Edited for clarity\n",
    "\n",
    "My investigations of the incident have been more fruitful than I could have hoped.<br/>\n",
    "Pinkertons have provided clear evidence that there was a conspiracy to steal from my library and that evidence points to my employer or at least someone in his employment.<br/>\n",
    "Ar Rogers had planned to donate the collection to the city library in order to promote his campaign for election to governor, but the books are far too valuable to give away and it is easy to believe that he would have tried to realise some of that value for himself, especially since an election is an expensive business. In our state there are advertisements to purchase and influential people who need to be convinced to back him. It is my duty as custodian of the collection to protect it. I cannot let him destroy everything we have built together.<br/>\n",
    "It was my hope that by gathering enough evidence to incriminate him, I could convince Mr Rogers to leave the library alone. I have spent years curating it and it contains many precious items. I could not bear to lose it.<br/>\n",
    "I have shown him the letters from Pinkertons and tried to reason with him. He is very angry with me and keeps saying that the death and the attempted theft had nothing to do with him. He is right that there is nothing conclusive in the evidence, but as I pointed out to him, there does not need to be any proof, even the suspicion of his involvement would severely damage his reputation and would destroy his chance of election. He has threatened to fire me, but it is an empty threat. He cannot afford for me to talk to the press until he agrees to my demands.<br/>\n",
    "I will continue to harass him and to build my evidence. My library must be protected at all costs.<br/>"
   ]
  },
  {
   "cell_type": "code",
   "execution_count": null,
   "metadata": {},
   "outputs": [],
   "source": []
  }
 ],
 "metadata": {
  "kernelspec": {
   "display_name": "Python 3 (ipykernel)",
   "language": "python",
   "name": "python3"
  },
  "language_info": {
   "codemirror_mode": {
    "name": "ipython",
    "version": 3
   },
   "file_extension": ".py",
   "mimetype": "text/x-python",
   "name": "python",
   "nbconvert_exporter": "python",
   "pygments_lexer": "ipython3",
   "version": "3.12.0"
  }
 },
 "nbformat": 4,
 "nbformat_minor": 4
}
