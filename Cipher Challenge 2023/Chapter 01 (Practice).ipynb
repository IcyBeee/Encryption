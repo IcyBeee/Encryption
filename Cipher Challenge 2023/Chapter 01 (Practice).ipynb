{
 "cells": [
  {
   "cell_type": "markdown",
   "metadata": {},
   "source": [
    "# Cipher Challenge 2023\n",
    "### Chapter 01 (Practice) / 2023-Oct-05\n",
    "\n",
    "Challenge link https://www.cipherchallenge.org/challenge/challenge-1/"
   ]
  },
  {
   "cell_type": "code",
   "execution_count": 1,
   "metadata": {},
   "outputs": [],
   "source": [
    "# Part A - \"A Country Retreat\"\n",
    "part_a_text = \"\"\"\n",
    "ZAWN FKZEA, PDWJGO OK IQYD BKN PDA XKKG, PDA NAYKIIAJZWPEKJ, WJZ PDA YDWHHAJCA! YDNEOPEA EO KJA KB IU BWRKQNEPA WQPDKNO, WJZ KB YKQNOA ODA ODWNAO W BENOP JWIA SEPD IU CNAWP WQJP, WCWPDW DECDBEAHZ. SA DWRA W BEHA KJ DAN EJ PDA WNYDERA WJZ E WI OQNA UKQ SKQHZ AJFKU NAWZEJC EP. PDA IWJOEKJ EO BWXQHKQO, E YWJ AWOEHU EIWCEJA IEOO IWNLHA KN LKENKP PWGEJC PAW DANA WJZ EP EO PDA EZAWH XWYGCNKQJZ BKN W OWXXWPEYWH. EP DWO W NAWH CKPDEY BAAH, PDKQCD E IQOP WZIEP, PDA YQNNAJP KSJAN ZEZJ’P OAAI WHH PDWP DWLLU SDAJ E OWEZ OK PK DAN. ODA SWO LKHEPA, XQP JKP WIQOAZ, WJZ IQPPANAZ OKIAPDEJC HEGA “SEHH PDAU JARAN OPKL DWQJPEJC QO” WO ODA SWHGAZ WSWU. CDKOPO OAAI PK XA PDA PDAIA WP PDA IKIAJP - E ZAYNULPAZ PDA LWLAN UKQ OAJP WJZ BKQJZ PDA WYNKOPEY. WP BENOP E PDKQCDP PDA EJEPEWH HAPPANO OLAHP KQP NAZ NQI, WJZ WOOQIAZ PDA JKPA SWO WOOKYEWPAZ SEPD PDA GEZJWL KB PDA BWIKQO NWYADKNOA, XQP EP ZEZJ’P PWGA HKJC PK NAWHEOA PDWP EP ODKQHZ XA NAWZ XWYGSWNZO: IQNZAN. YWJ UKQ OWU IKNA WXKQP SDANA PDA JKPA YWIA BNKI? EO EP W YKHZ YWOA UKQ WNA SKNGEJC KJ? OKQJZO BQJ. OQZKGQ EO WHH RANU SAHH, XQP PK NAWHHU OPNAPYD PDA HEPPHA CNAU YAHHO (WO LKENKP SKQHZ OWU) E SKQHZ HKRA OKIAPDEJC W HEPPHA OPNKJCAN, OK EB PDANA EO WJUPDEJC AHOA EJ PDA BEHA PDWP E YKQHZ WOOEOP SEPD, HAP IA GJKS. UKQ IAJPEKJAZ PDWP UKQ WNA SKNGEJC SEPD PDA PNWEJAAO WCWEJ. E OQCCAOP PDWP SA AJYNULP KQN IAOOWCAO PK KJA WJKPDAN WJZ OAP PDAI WO WJ ATANYEOA BKN PDA PAWI. SA YKQHZ OPWNP SEPD OKIAPDEJC OEILHA BKN PDA JASXEAO WJZ PDAJ NWIL QL PDA ZEBBEYQHPU. SDWP ZK UKQ PDEJG? WJUSWU, EP EO PEIA BKN YKBBAA. PDAU OANRA EP EJ PDA KNWJCANU IEZ-WBPANJKKJ. PK XA DKJAOP E ATLAYPAZ PAW EJ W YKQJPNU DKQOA HEGA PDEO, XQP PDWP EO PDA LKSAN KB PDEO LHWYA – EP YKILHAPAHU OAHHO PDA EHHQOEKJ PDWP E WI XWYG EJ AJCHWJZ, NWPDAN PDWJ JAS AJCHWJZ. NECDP ZKSJ PK PDA LWJAHHEJC WJZ PDA YWNLAPO. SDKARAN XQEHP EP DWZ WJ AUA BKN ZAPWEH. E SEHH HKKG BKNSWNZ PK DAWNEJC BNKI UKQ. ZKJ’P BKNCAP PK OAJZ IA OKIAPDEJC EJPANAOPEJC PK ZK - E JAAZ PK GAAL IU XNWEJ ODWNL BKN SDAJ E CAP XWYG, WJZ ARAJ PDA CNAWP WCWPDW EO JK IWPYD BKN PDA XKOO WNYDERAO. WHH PDA XAOP, DWNNU\"\"\""
   ]
  },
  {
   "cell_type": "code",
   "execution_count": 2,
   "metadata": {},
   "outputs": [],
   "source": [
    "# Bring in the basic decoder function\n",
    "import string\n",
    "\n",
    "# A simple translation method.\n",
    "# text: The text to translate, in upper case\n",
    "# key: A substitution alphabet, usually in lower case so that the translated characters show up\n",
    "def decode(text, key):\n",
    "    table = str.maketrans(string.ascii_uppercase, key)\n",
    "    print(text.upper().translate(table))"
   ]
  },
  {
   "cell_type": "code",
   "execution_count": 3,
   "metadata": {},
   "outputs": [
    {
     "name": "stdout",
     "output_type": "stream",
     "text": [
      "\n",
      "dear jodie, thanks so much for the book, the recommendation, and the challenge! christie is one of my favourite authors, and of course she shares a first name with my great aunt, agatha highfield. we have a file on her in the archive and i am sure you would enjoy reading it. the mansion is fabulous, i can easily imagine miss marple or poirot taking tea here and it is the ideal background for a sabbatical. it has a real gothic feel, though i must admit, the current owner didn’t seem all that happy when i said so to her. she was polite, but not amused, and muttered something like “will they never stop haunting us” as she walked away. ghosts seem to be the theme at the moment - i decrypted the paper you sent and found the acrostic. at first i thought the initial letters spelt out red rum, and assumed the note was associated with the kidnap of the famous racehorse, but it didn’t take long to realise that it should be read backwards: murder. can you say more about where the note came from? is it a cold case you are working on? sounds fun. sudoku is all very well, but to really stretch the little grey cells (as poirot would say) i would love something a little stronger, so if there is anything else in the file that i could assist with, let me know. you mentioned that you are working with the trainees again. i suggest that we encrypt our messages to one another and set them as an exercise for the team. we could start with something simple for the newbies and then ramp up the difficulty. what do you think? anyway, it is time for coffee. they serve it in the orangery mid-afternoon. to be honest i expected tea in a country house like this, but that is the power of this place – it completely sells the illusion that i am back in england, rather than new england. right down to the panelling and the carpets. whoever built it had an eye for detail. i will look forward to hearing from you. don’t forget to send me something interesting to do - i need to keep my brain sharp for when i get back, and even the great agatha is no match for the boss archives. all the best, harry\n"
     ]
    }
   ],
   "source": [
    "# As this is week 1, it's probably a Caesar cipher.  Signed by Harry (-4)\n",
    "decode(part_a_text, \"efghijklmnopqrstuvwxyzabcd\")"
   ]
  },
  {
   "cell_type": "code",
   "execution_count": 4,
   "metadata": {},
   "outputs": [],
   "source": [
    "# Part B \"Murder she said\"\n",
    "part_b_text = \"\"\"\n",
    "OWDUGEW LG LZW TGKK LJSAFAFY VANAKAGF, EQ FSEW AK BGVAW, SFV A OADD TW KMHWJNAKAFY QGMJ VWNWDGHEWFL ZWJW AF LZW SYWFUQ. AL AK YJWSL LG ZSNW KG ESFQ FWO JWUJMALK SFV A ZGHW LZSL QGM OADD WFBGQ LZW WPWJUAKW.\n",
    "\n",
    "A ZSNW ZSV KWNWJSD JGDWK AF LZW GJYSFAKSLAGF KAFUW A BGAFWV, OALZ WPLWFVWV HWJAGVK OGJCAFY AF LZW XAWDV, TML XGJ FGO A ZWSV LZW SJUZSWGDGYAKLK VANAKAGF, GMJ FSEW XGJ LZW TGKK UGDV USKW KWULAGF. ZWJW OW EAFW KGMJUWK GX ZAKLGJAU AFLWDDAYWFUW LZSL EAYZL TW MKWXMD AF DANW USKWK. OW SDKG JWKWSJUZ FGNWD UJQHLGYJSHZAU LWUZFAIMWK SFV MKW LZW USKW XADWK OW ZGDV SK WPWJUAKWK XGJ KLSXX LJSAFAFY.\n",
    "\n",
    "A SE TGJJGOAFY LZW ESLWJASD OW OADD MKW XJGE KUGLDSFV QSJV. A USEW SUJGKK AL S XWO QWSJK TSUC AF LZW KZSVGO SJUZANW, VMJAFY LZW CGEHJGESL XADWK AFNWKLAYSLAGF. AL OSKF’L JWDWNSFL SL LZW LAEW, TML AL USMYZL EQ WQW: S JWIMWKL XJGE LZW HAFCWJLGF SYWFUQ AF LZW MK XGJ AFXGJESLAGF STGML S QGMFY ESF OZGKW TGVQ ZSV TWWF XGMFV AF LZW DATJSJQ GX S UGMFLJQ ZGMKW AF FWO WFYDSFV. AL KGMFVWV DACW S UDSKKAU GX LZW YWFJW, TML A OSK LGG TMKQ LG JWSV AL LZWF. A LZAFC AL EAYZL TW XMF, KG XJGE FWPL OWWC OW OADD ZSNW SUUWKK LG LZW GJAYAFSD VGUMEWFLK SFV OW OADD LJQ LG KGDNW LZW EQKLWJQ LGYWLZWJ.\n",
    "\n",
    "AX OW FWWV SFQLZAFY LZSL AK FGL UGFLSAFWV AF LZW XADWK LZWF A ZSNW SF SYWFL GF LZW YJGMFV AF LZW MK OZG KZGMDV TW STDW LG ZWDH. ZSJJQ KMYYWKLWV LZSL SK HSJL GX QGMJ LJSAFAFY A KZGMDV YANW QGM SUUWKK LG LZW WFUJQHLWV UGEEMFAUSLAGFK XJGE LZSL SYWFL, ZSJJQ ZAEKWDX, KG QGM OADD TW STDW LG HJSULAUW TJWSCAFY LZWE LGG. AL OADD TW XMF LG KWW OZSL ZW UGEWK MH OALZ LG LWKL QGM!\n",
    "\n",
    "YGGV DMUC, BGVAW.\n",
    "\"\"\""
   ]
  },
  {
   "cell_type": "code",
   "execution_count": 5,
   "metadata": {},
   "outputs": [
    {
     "name": "stdout",
     "output_type": "stream",
     "text": [
      "\n",
      "welcome to the boss training division, my name is jodie, and i will be supervising your development here in the agency. it is great to have so many new recruits and i hope that you will enjoy the exercise.\n",
      "\n",
      "i have had several roles in the organisation since i joined, with extended periods working in the field, but for now i head the archaeologists division, our name for the boss cold case section. here we mine sources of historic intelligence that might be useful in live cases. we also research novel cryptographic techniques and use the case files we hold as exercises for staff training.\n",
      "\n",
      "i am borrowing the material we will use from scotland yard. i came across it a few years back in the shadow archive, during the kompromat files investigation. it wasn’t relevant at the time, but it caught my eye: a request from the pinkerton agency in the us for information about a young man whose body had been found in the library of a country house in new england. it sounded like a classic of the genre, but i was too busy to read it then. i think it might be fun, so from next week we will have access to the original documents and we will try to solve the mystery together.\n",
      "\n",
      "if we need anything that is not contained in the files then i have an agent on the ground in the us who should be able to help. harry suggested that as part of your training i should give you access to the encrypted communications from that agent, harry himself, so you will be able to practice breaking them too. it will be fun to see what he comes up with to test you!\n",
      "\n",
      "good luck, jodie.\n",
      "\n"
     ]
    }
   ],
   "source": [
    "# Probably a substitution cipher, probably from Jodie (turned out to be a Caesar again)\n",
    "decode(part_b_text, \"ijklmnopqrstuvwxyzabcdefgh\")"
   ]
  },
  {
   "cell_type": "code",
   "execution_count": null,
   "metadata": {},
   "outputs": [],
   "source": []
  }
 ],
 "metadata": {
  "kernelspec": {
   "display_name": "Python 3 (ipykernel)",
   "language": "python",
   "name": "python3"
  },
  "language_info": {
   "codemirror_mode": {
    "name": "ipython",
    "version": 3
   },
   "file_extension": ".py",
   "mimetype": "text/x-python",
   "name": "python",
   "nbconvert_exporter": "python",
   "pygments_lexer": "ipython3",
   "version": "3.12.0"
  }
 },
 "nbformat": 4,
 "nbformat_minor": 4
}
