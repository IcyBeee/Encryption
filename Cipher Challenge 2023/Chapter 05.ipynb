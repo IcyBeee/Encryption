{
 "cells": [
  {
   "cell_type": "markdown",
   "metadata": {},
   "source": [
    "#### Cipher Challenge 2023\n",
    "### Chapter 05 / 2023-Nov-09\n",
    "\n",
    "Challenge link https://www.cipherchallenge.org/challenge/challenge-5/"
   ]
  },
  {
   "cell_type": "code",
   "execution_count": 1,
   "metadata": {},
   "outputs": [],
   "source": [
    "# Part A - \"A disturbing discovery\"\n",
    "part_a_text = \"\"\"RDLLW NRDGA MVHLN ROSHJ WHVNR OJYGA OLNHG LOJHL NYVHP GCDGY COGNY SDBVY BOYGH PLDLS RYQOM IPNYN TDMDG YGNOL SOJNV LHFNR ONOBO ELDJR DGCRD CGNIO OGJYS AOCPJ IWNRO JHBYS OMHYN TDMGH NYGNR OVYBO MYRDC IHLLH TOCVL HFNRO FYVHB BHTOC PJHGN ROIHH AMRHJ BODCI PNCYC GNEON VDLDB NRHPE RSPLY HPMBW DBLOM VHLCR DMIOO GDJBD SOHVY GNOLO MNNHN ROYGN OBBYE OGSOM OLQYS OVHLD TRYBO NROYG VDFHP MJHLN BDGCM JWLYG EPMOC NROJP IBYSB DQDNH LWHQO LNROL HDCVL HFNRO BHSDB JHBYS OMNDN YHGNR OLODM DCODC CLHJT RYSRM OOFMQ OLWPG BYAOB WIPNY EPOMM NRDNT DMNRO JHYGN DGWTD WNRDN RDMGH NRYGE NHCHT YNRNR OSDMO TODLO YGQOM NYEDN YGERO LOYED NROLV LHFNR OVYBO MNRDN MHHGD VNOLF YMMMN WBOML OSOYQ OCNRO JYGAO LNHGL OJHLN MROTD MDIBO NHJOL MPDCO NROJH BYSON HLOHJ OGNRO SDMON ROWCH GNMOO FNHRD QOIOO GJDLN YSPBD LBWCY BYEOG NHLAO OGRDL JOLTL HNODF OFHSR DMNYM YGENR OFVHL NROYL BDSAH VJLHE LOMMJ OLRDJ MNHYF JLOMM RYMVL YOGCL HEOLM IPNNR OCONO SNYQO YGSRD LEOLO JBYOC TYNRD BHGEB YMNHV LODMH GMTRW NROSD MOTDM RHJOB OMMRD LJOLM CYDLW MRHTM NRDND JBDGG OCFOO NYGEN HCYMS PMMNR OSDMO TDMSD GSOBB OCMHH GDVNO LROLO SOYQO CNROL OJBWN ROTRH BONRY GETHP BCRDQ OIOOG OGNYL OBWVH LEHNN OGIWG HTYVF DYMYO RDCGH NTLYN NOGDE DYGNH NROJH BYSOS RYOVT YNRDG OUNLD HLCYG DLWSB DYFNR OOGSL WJNOC GHNON RDNCL TRYNO RDCVH PGCMO TGYGN HNROI YGCYG EHVNR OIHHA CYMJB DWOCM OQOLD BVODN PLOMN RDNMP EEOMN OCYNR DCIOO GTLYN NOGHG NRONW JOTLY NOLYG NROFD GMYHG YNMOB VNHFR DLJOL TDMMS OJNYS DBDMN RONWJ OVDSO DJJOD LOCNH IODMN DGCDL CPGCO LTHHC NWJYS DBHVR PGCLO CMHVN WJOTL YNOLM YGNRO MNDNO IPNYN TDMNL PONRD NNROB ONNOL ZMRHT OCDCY MNYGS NYQOC YJDGC NRDNN ROBON NOLDT DMFYM MYGEY NMPJJ OLMOL YVYGN ROGHN OIHNR VODNP LOMMO OGYGH NROLC HSPFO GNMNW JOCHG NRORH PMOFD SRYGO RDLJO LTDMS BODLB WCYMN PLIOC IWNRO CYMSH QOLWR YMCDY BWBHE GHNOC NROVY GCYGE MTYNR NROLO FDLAM YVNRO GHNOT DMTLY NNOGI WMHFO HGOYG NRORH PMORH BCNRO GCHOM NRDNF ODGNR DNNRO WTOLO YGBOD EPOTY NRYMB OMHLN RDNNR OWTOL OMHFO RHTYG QHBQO CTYNR RYFTR WCYCR OSRHH MONRD NJDLN YSPBD LIHHA ROMOG NDBON NOLNH LHEOL MDMAY GERYF YVROS HPBCD SSHPG NVHLN ROCYM SHQOL WDGCL OSOYQ OCNRO DNNDS ROCLO JBWTO SDGZP CEOZP MNRHT LDNNB OCLHE OLMVO BNIWN ROVDS NNRDN ROOGS LWJNO CYNPM YGEDQ YEOGO LOSYJ ROLRO SBODL BWCYC GHNTD GNNHN DAODS RDGSO NRDND GWHGO HNROL NRDGR DLJOL THPBC LODCY N\n",
    "\"\"\""
   ]
  },
  {
   "cell_type": "code",
   "execution_count": 2,
   "metadata": {},
   "outputs": [],
   "source": [
    "# Bring in the basic decoder function\n",
    "import string\n",
    "\n",
    "# A simple translation method.\n",
    "# text: The text to translate, in upper case\n",
    "# key: A substitution alphabet, usually in lower case so that the translated characters show up\n",
    "def decode(text, key):\n",
    "    table = str.maketrans(string.ascii_uppercase, key)\n",
    "    print(text.upper().translate(table))"
   ]
  },
  {
   "cell_type": "code",
   "execution_count": 6,
   "metadata": {},
   "outputs": [
    {
     "name": "stdout",
     "output_type": "stream",
     "text": [
      "harrythaGAMVHrtheSHJyHVtheJYGAertHGreJHrtYVHPGCaGYCeGtYSaBVYBeYGHPrarShYQeMIPtYtTaMaGYGterSeJtVrHFtheteBeEraJhaGChaCGtIeeGJYSAeCPJIytheJHBYSeMHYtTaMGHtYGtheVYBeMYhaCIHrrHTeCVrHFtheFYVHBBHTeCPJHGtheIHHAMhHJBeaCIPtCYCGtEetVaraBthHPEhSPrYHPMByaBreMVHrChaMIeeGaJBaSeHVYGtereMttHtheYGteBBYEeGSeMerQYSeVHraThYBetheYGVaFHPMJHrtBaGCMJyrYGEPMeCtheJPIBYSBaQatHryHQertherHaCVrHFtheBHSaBJHBYSeMtatYHGthereaMaCeaCCrHJThYShMeeFMQeryPGBYAeByIPtYEPeMMthatTaMtheJHYGtaGyTaythathaMGHthYGEtHCHTYththeSaMeTeareYGQeMtYEatYGEhereYEatherVrHFtheVYBeMthatMHHGaVterFYMMMtyBeMreSeYQeCtheJYGAertHGreJHrtMheTaMaIBetHJerMPaCetheJHBYSetHreHJeGtheSaMetheyCHGtMeeFtHhaQeIeeGJartYSPBarByCYBYEeGtHrAeeGharJerTrHteaFeFHShaMtYMYGEtheFVHrtheYrBaSAHVJrHEreMMJerhaJMtHYFJreMMhYMVrYeGCrHEerMIPttheCeteStYQeYGSharEereJBYeCTYthaBHGEBYMtHVreaMHGMThytheSaMeTaMhHJeBeMMharJerMCYaryMhHTMthataJBaGGeCFeetYGEtHCYMSPMMtheSaMeTaMSaGSeBBeCMHHGaVterhereSeYQeCthereJBytheThHBethYGETHPBChaQeIeeGeGtYreByVHrEHtteGIyGHTYVFaYMYehaCGHtTrYtteGaEaYGtHtheJHBYSeShYeVTYthaGeUtraHrCYGarySBaYFtheeGSryJteCGHtethatCrThYtehaCVHPGCMeTGYGtHtheIYGCYGEHVtheIHHACYMJBayeCMeQeraBVeatPreMthatMPEEeMteCYthaCIeeGTrYtteGHGthetyJeTrYterYGtheFaGMYHGYtMeBVtHFharJerTaMMSeJtYSaBaMthetyJeVaSeaJJeareCtHIeaMtaGCarCPGCerTHHCtyJYSaBHVhPGCreCMHVtyJeTrYterMYGtheMtateIPtYtTaMtrPethattheBetterZMhHTeCaCYMtYGStYQeCYJaGCthattheBetteraTaMFYMMYGEYtMPJJerMerYVYGtheGHteIHthVeatPreMMeeGYGHtherCHSPFeGtMtyJeCHGthehHPMeFaShYGeharJerTaMSBearByCYMtPrIeCIytheCYMSHQeryhYMCaYByBHEGHteCtheVYGCYGEMTYththereFarAMYVtheGHteTaMTrYtteGIyMHFeHGeYGthehHPMehHBCtheGCHeMthatFeaGthattheyTereYGBeaEPeTYthYMBeMHrthattheyTereMHFehHTYGQHBQeCTYthhYFThyCYCheShHHMethatJartYSPBarIHHAheMeGtaBettertHrHEerMaMAYGEhYFYVheSHPBCaSSHPGtVHrtheCYMSHQeryaGCreSeYQeCtheattaSheCreJByTeSaGZPCEeZPMthHTrattBeCrHEerMVeBtIytheVaStthatheeGSryJteCYtPMYGEaQYEeGereSYJherheSBearByCYCGHtTaGttHtaAeaShaGSethataGyHGeHtherthaGharJerTHPBCreaCYt\n",
      "\n"
     ]
    }
   ],
   "source": [
    "squished = part_a_text.replace(\" \", \"\")\n",
    "\n",
    "# Looks like a substitution cipher to start with, addressed to harry\n",
    "# \"RDLLW\" -> R=h, D=a, L=r, W=y\n",
    "# Lots of \"NRO\" -> N=t, O=e\n",
    "decode(squished, \"ABCaEFGHIJKrMtePQhSTUVyXYZ\")"
   ]
  },
  {
   "cell_type": "code",
   "execution_count": 7,
   "metadata": {},
   "outputs": [
    {
     "name": "stdout",
     "output_type": "stream",
     "text": [
      "harrythanksfortheSoJyoftheJYnkertonreJortYfoPnCanYCentYSaBfYBeYnoPrarShYQesIPtYtTasanYnterSeJtfroFtheteBeEraJhanChaCntIeenJYSkeCPJIytheJoBYSesoYtTasnotYnthefYBesYhaCIorroTeCfroFtheFYfoBBoTeCPJontheIookshoJBeaCIPtCYCntEetfaraBthoPEhSPrYoPsByaBresforChasIeenaJBaSeofYnteresttotheYnteBBYEenSeserQYSeforaThYBetheYnfaFoPsJortBanCsJyrYnEPseCtheJPIBYSBaQatoryoQertheroaCfroFtheBoSaBJoBYSestatYonthereasaCeaCCroJThYShseeFsQeryPnBYkeByIPtYEPessthatTastheJoYntanyTaythathasnothYnEtoCoTYththeSaseTeareYnQestYEatYnEhereYEatherfroFthefYBesthatsoonafterFYssstyBesreSeYQeCtheJYnkertonreJortsheTasaIBetoJersPaCetheJoBYSetoreoJentheSasetheyContseeFtohaQeIeenJartYSPBarByCYBYEentorkeenharJerTroteaFeFoShastYsYnEtheFfortheYrBaSkofJroEressJerhaJstoYFJresshYsfrYenCroEersIPttheCeteStYQeYnSharEereJBYeCTYthaBonEBYstofreasonsThytheSaseTashoJeBessharJersCYaryshoTsthataJBanneCFeetYnEtoCYsSPsstheSaseTasSanSeBBeCsoonafterhereSeYQeCthereJBytheThoBethYnEToPBChaQeIeenentYreByforEottenIynoTYfFaYsYehaCnotTrYttenaEaYntotheJoBYSeShYefTYthaneUtraorCYnarySBaYFtheenSryJteCnotethatCrThYtehaCfoPnCseTnYntotheIYnCYnEoftheIookCYsJBayeCseQeraBfeatPresthatsPEEesteCYthaCIeenTrYttenonthetyJeTrYterYntheFansYonYtseBftoFharJerTassSeJtYSaBasthetyJefaSeaJJeareCtoIeastanCarCPnCerTooCtyJYSaBofhPnCreCsoftyJeTrYtersYnthestateIPtYtTastrPethattheBetterZshoTeCaCYstYnStYQeCYJanCthattheBetteraTasFYssYnEYtsPJJerserYfYnthenoteIothfeatPresseenYnotherCoSPFentstyJeConthehoPseFaShYneharJerTasSBearByCYstPrIeCIytheCYsSoQeryhYsCaYByBoEnoteCthefYnCYnEsTYththereFarksYfthenoteTasTrYttenIysoFeoneYnthehoPsehoBCthenCoesthatFeanthattheyTereYnBeaEPeTYthYsBesorthattheyTeresoFehoTYnQoBQeCTYthhYFThyCYCheShoosethatJartYSPBarIookhesentaBettertoroEersaskYnEhYFYfheSoPBCaSSoPntfortheCYsSoQeryanCreSeYQeCtheattaSheCreJByTeSanZPCEeZPsthoTrattBeCroEersfeBtIythefaStthatheenSryJteCYtPsYnEaQYEenereSYJherheSBearByCYCnotTanttotakeaShanSethatanyoneotherthanharJerToPBCreaCYt\n",
      "\n"
     ]
    }
   ],
   "source": [
    "# \"thaGAMVHrthe\" -> G=n, A=k, M=s, V=f, H=o\n",
    "decode(squished, \"kBCaEFnoIJKrstePQhSTUfyXYZ\")"
   ]
  },
  {
   "cell_type": "code",
   "execution_count": 8,
   "metadata": {},
   "outputs": [
    {
     "name": "stdout",
     "output_type": "stream",
     "text": [
      "harrythanksforthecopyofthepinkertonreportifoPndanidenticalfileinoPrarchivesbPtitTasaninterceptfromthetelegraphandhadntbeenpickedPpbythepolicesoitTasnotinthefilesihadborroTedfromthemifolloTedPponthebookshopleadbPtdidntgetfaralthoPghcPrioPslyalresfordhasbeenaplaceofinteresttotheintelligenceserviceforaThiletheinfamoPsportlandspyringPsedthepPbliclavatoryovertheroadfromthelocalpolicestationthereasadeaddropThichseemsveryPnlikelybPtigPessthatTasthepointanyTaythathasnothingtodoTiththecaseTeareinvestigatinghereigatherfromthefilesthatsoonaftermissstylesreceivedthepinkertonreportsheTasabletopersPadethepolicetoreopenthecasetheydontseemtohavebeenparticPlarlydiligentorkeenharperTroteamemochastisingthemfortheirlackofprogressperhapstoimpresshisfriendrogersbPtthedetectiveinchargerepliedTithalonglistofreasonsThythecaseTashopelessharpersdiaryshoTsthataplannedmeetingtodiscPssthecaseTascancelledsoonafterhereceivedthereplytheTholethingToPldhavebeenentirelyforgottenbynoTifmaisiehadnotTrittenagaintothepolicechiefTithaneUtraordinaryclaimtheencryptednotethatdrThitehadfoPndseTnintothebindingofthebookdisplayedseveralfeatPresthatsPggestedithadbeenTrittenonthetypeTriterinthemansionitselftomharperTasscepticalasthetypefaceappearedtobeastandardPnderToodtypicalofhPndredsoftypeTritersinthestatebPtitTastrPethattheletterZshoTedadistinctivedipandthattheletteraTasmissingitsPpperserifinthenotebothfeatPresseeninotherdocPmentstypedonthehoPsemachineharperTasclearlydistPrbedbythediscoveryhisdailylognotedthefindingsTiththeremarksifthenoteTasTrittenbysomeoneinthehoPseholdthendoesthatmeanthattheyTereinleagPeTithislesorthattheyTeresomehoTinvolvedTithhimThydidhechoosethatparticPlarbookhesentalettertorogersaskinghimifhecoPldaccoPntforthediscoveryandreceivedtheattachedreplyTecanZPdgeZPsthoTrattledrogersfeltbythefactthatheencrypteditPsingavigenerecipherheclearlydidnotTanttotakeachancethatanyoneotherthanharperToPldreadit\n",
      "\n"
     ]
    }
   ],
   "source": [
    "# \"SoJyoftheJYnkertonreJort\" -> S=c, J=p, Y=i\n",
    "# \"IookshoJ\" -> I=b\n",
    "# \"YnteBBYEenSeserQYSe\" -> B=l, E=g, Q=v\n",
    "# \"CoesthatFean\" -> C=d, F=m\n",
    "decode(squished, \"kldagmnobpKrstePvhcTUfyXiZ\")"
   ]
  },
  {
   "cell_type": "code",
   "execution_count": 9,
   "metadata": {},
   "outputs": [
    {
     "name": "stdout",
     "output_type": "stream",
     "text": [
      "harrythanksforthecopyofthepinkertonreportifoundanidenticalfileinourarchivesbutitwasaninterceptfromthetelegraphandhadntbeenpickedupbythepolicesoitwasnotinthefilesihadborrowedfromthemifolloweduponthebookshopleadbutdidntgetfaralthoughcuriouslyalresfordhasbeenaplaceofinteresttotheintelligenceserviceforawhiletheinfamousportlandspyringusedthepubliclavatoryovertheroadfromthelocalpolicestationthereasadeaddropwhichseemsveryunlikelybutiguessthatwasthepointanywaythathasnothingtodowiththecaseweareinvestigatinghereigatherfromthefilesthatsoonaftermissstylesreceivedthepinkertonreportshewasabletopersuadethepolicetoreopenthecasetheydontseemtohavebeenparticularlydiligentorkeenharperwroteamemochastisingthemfortheirlackofprogressperhapstoimpresshisfriendrogersbutthedetectiveinchargerepliedwithalonglistofreasonswhythecasewashopelessharpersdiaryshowsthataplannedmeetingtodiscussthecasewascancelledsoonafterhereceivedthereplythewholethingwouldhavebeenentirelyforgottenbynowifmaisiehadnotwrittenagaintothepolicechiefwithanextraordinaryclaimtheencryptednotethatdrwhitehadfoundsewnintothebindingofthebookdisplayedseveralfeaturesthatsuggestedithadbeenwrittenonthetypewriterinthemansionitselftomharperwasscepticalasthetypefaceappearedtobeastandardunderwoodtypicalofhundredsoftypewritersinthestatebutitwastruethattheletterjshowedadistinctivedipandthattheletterawasmissingitsupperserifinthenotebothfeaturesseeninotherdocumentstypedonthehousemachineharperwasclearlydisturbedbythediscoveryhisdailylognotedthefindingswiththeremarksifthenotewaswrittenbysomeoneinthehouseholdthendoesthatmeanthattheywereinleaguewithislesorthattheyweresomehowinvolvedwithhimwhydidhechoosethatparticularbookhesentalettertorogersaskinghimifhecouldaccountforthediscoveryandreceivedtheattachedreplywecanjudgejusthowrattledrogersfeltbythefactthatheencrypteditusingavigenerecipherheclearlydidnotwanttotakeachancethatanyoneotherthanharperwouldreadit\n",
      "\n"
     ]
    }
   ],
   "source": [
    "# \"ifoPnd\" -> P=u\n",
    "# \"repliedTith\" -> T=w\n",
    "# \"eUtraordinary\" -> U=x\n",
    "decode(squished, \"kldagmnobpqrsteuvhcwxfyzij\")"
   ]
  },
  {
   "cell_type": "markdown",
   "metadata": {},
   "source": [
    "# Edited for clarity\n",
    "\n",
    "Harry,<br/>\n",
    "Thanks for the copy of the Pinkerton report. I found an identical file in our archives, but it was an intercept from the telegraph and hadn't been picked up by the police, so it was not in the files I had borrowed from them.<br/>\n",
    "I followed up on the bookshop lead but didn't get far, although curiously Alresford has been a place of interest to the intelligence service for a while. The infamous Portland spy ring used the public lavatory over the road from the local police station there as a dead drop, which seems very unlikely but I guess that was the point. Anyway, that has nothing to do with the case we are investigating here.<br/>\n",
    "I gather from the files that soon after Miss Styles received the Pinkerton report, she was able to persuade the police to re-open the case. They don't seem to have been particularly diligent or keen. Harper wrote a memo chastising them for their lack of progress, perhaps to impress his friend, Rogers, but the detective in charge replied with a long list of reasons why the case was hopeless.<br/>\n",
    "Harper's diary shows that a planned meeting to discuss the case was cancelled soon after he received the reply. The whole thing would have been entirely forgotten by now if Maisie had not written again to the police chief with an extraordinary claim. The encrypted note that Dr White had found sewn into the binding of the book displayed several features that suggested it had been written on the typewriter in the mansion itself.<br/>\n",
    "Tom Harper was sceptical as the typeface appeared to be a standard Underwood, typical of hundreds of typewriters in the state, but it was true that the letter \"j\" showed a distinctive dip and that the letter \"a\" was missing its upper serif in the note both features seen in other documents type \"d\" on the house machine. Harper was clearly disturbed by the discovery. His daily log noted the findings with the remarks. If the note was written by someone in the household, then does that mean that they were in league with Isles or that they were somehow involved with him.<br/>\n",
    "Why did he choose that particular book? He sent a letter to Rogers, asking him if he could account for the discovery and received the attached reply. We can judge just how rattled Rogers felt by the fact that he encrypted it using a Vigenere cipher. He clearly did not want to take a chance that anyone other than Harper would read it.<br/>\n"
   ]
  },
  {
   "cell_type": "code",
   "execution_count": 11,
   "metadata": {},
   "outputs": [
    {
     "name": "stdout",
     "output_type": "stream",
     "text": [
      "Decoded alphabet: discoveryzabfghjklmnpqtuwx\n",
      "Keyword: discovery\n"
     ]
    }
   ],
   "source": [
    "import string\n",
    "\n",
    "# Attempts to determine the keyword used for a substitution cipher\n",
    "# alphabet: The substitution alphabet\n",
    "def decode_key(alphabet):\n",
    "    decoded_alphabet = \"\"\n",
    "    for letter in string.ascii_lowercase:\n",
    "        decoded_alphabet += chr(alphabet.find(letter) + ord(\"a\"))\n",
    "    print(f\"Decoded alphabet: {decoded_alphabet}\")\n",
    "    \n",
    "    remaining_letters = list(string.ascii_lowercase)\n",
    "    for pos, letter in enumerate(decoded_alphabet):\n",
    "        remaining_letters.remove(letter)\n",
    "        next_letter_index = remaining_letters.index(decoded_alphabet[pos+1])\n",
    "        if decoded_alphabet[pos+1:] == \"\".join(remaining_letters[next_letter_index:] + remaining_letters[:next_letter_index]):\n",
    "            print(f\"Keyword: {decoded_alphabet[:pos+2]}\")\n",
    "            break\n",
    "\n",
    "decode_key(\"kldagmnobpqrsteuvhcwxfyzij\")"
   ]
  },
  {
   "cell_type": "code",
   "execution_count": 16,
   "metadata": {},
   "outputs": [],
   "source": [
    "# Part B \"Begging a favor\"\n",
    "part_b_text = \"\"\"YOHAP IEVFW WIZBU NWVGJ TMZKY FTNII URDGV IAIRT TNAIJ JDOCI JCZWM JYJII QEOHV WANYZ SGHSR GOPHK MEICK JTCOK IRRVZ YEYWJ HOQSI JDDBK MEWWE IIIUF KTCSS TOFTF ZNYPP NSGSJ XBJRP NCVBE TTNSV MORMF ZCJIC ITCWE PIRCL QDFBF BAIMK MIIUR GOPHZ YAIRZ KIIRZ YESHI JMZZP ZNGWB JLTHY FTDHT TUGRY FVZPV JNRFZ YTZBS DAIMF SEDBD DHJIJ JHJZU DOPFT QADAK MAOHY JCCOI FCOSI NSOWT XOAHY JTTDV HAIPV ZSZRK TIYSE YIAMK MENCL WCZOJ YHZHP UERFZ YEMKV MOGRZ STCSD FNNWF SSZSD XTJAV YOWSU NVDBR YIJBE TTNQZ JNXSR SDRWK MOPHD ZCCGK WOIUV WEQWU JNXSF KAGWE PBZHN JEIGF REJBV NNHMY TUNSY TLYOE ITCSP TUIUD FNDGC JSDKZ QLICK JNOSI YADBF WCJCG JRVHV BIOVR SYAII YHZFZ SVZGK NGVHZ TNNWY FVZOC WEVRP JXKFV XSZRD DCJBJ YEMBR YIJBR YTCSG WONDV HTJTR XCVBU FLYSI FIGWE LMTQR RPVWX SFJFJ YAOSX TVZFE TRVBU NTCCL LHOHY FTTCL ZNYSI XTJCU FNYOX WEZRN NTCAV BHTMF ZWJIC IWVBK YOMSF UEIHY JCVGV BHZBZ MAQSJ TMPQY YOGCJ JAIRN JHVJV SOOVZ SGOCX FIITI TMDHZ HAIBF YUIRV WSOOE IIFBF BTCOK RADGZ JHVGS JEIDI JSNWE LFJFW ZROVV WIIJV XTDUR YIJBR SDDHZ XCGSR WTCOK XHZKR XDZSG QYYWJ YRZGJ JDWMK MERVF QEDBT NDZBK XHZZF AENHY JLDPI FRTOE IWJIC IDJOE DTCWE LTJDI TTZQK NTCCN JVZFJ MEDGD JRZZP FSZFM FNOCW YHZSJ YAOSR SDNII JLTAP XTVHL XANDI JSZBK TWISI LIQSJ LRZOK JRRSZ LHOHF RYQWV BSVBU BINVV XWCWC JINZV XCGSR WLTHI JSKOJ XEYVV XEZAJ SOOHF MAQST FUNSU FNTRR RABSR SDZJV SIAVV BANWE YEIRZ SGOCJ YEVZW WOHAV MINIE YIHSC DDZOK MFJFV XTVZC JDOVR YPGOE MECOJ FLMSR IYKOZ ITCSG WIXSW TRCWJ RINRV JDNOE IIYCE TTNSV FNTFV FSJBK TCJBK NNPSK TPJYV FNYDI TBZOK BHVHD ZSOGL WEGMS JAMCL YIIST FSZWD ZSOWE XINHK MAOMF ZBMWE LAAWE FLCOC YTJMF ZRDBM JSOWX FTDCE XAIRC JTCWD WENHZ SPZOT JLZHL XNJHZ SVDHV LONGZ UAOHY NSXFZ YIXOC YIHSP TUMGZ SFMWV SDNVZ URJUV WS\n",
    "\"\"\""
   ]
  },
  {
   "cell_type": "code",
   "execution_count": 19,
   "metadata": {},
   "outputs": [],
   "source": [
    "# Tools to help decode Vigenere ciphers\n",
    "\n",
    "from collections import Counter\n",
    "\n",
    "# A function that searches for multiple ocurrences of letters of the specified size and prints out the most common ones\n",
    "def pattern_finder(text, size):\n",
    "    patterns = Counter()\n",
    "    for index in range(len(text)):\n",
    "        patterns[text[index:index+size]] += 1\n",
    "\n",
    "    column = 0\n",
    "    for item, count in patterns.most_common(30):\n",
    "        print(f\"{item}: {count:2}\", end=\" \")\n",
    "        column += 1\n",
    "        if column % 5 == 0:\n",
    "            print()\n",
    "\n",
    "\n",
    "# A function that searches the given text for a word and figures out where it would line up with a key of a given size\n",
    "def get_alignment(text, word, key_size):\n",
    "    print(f\"{word}/{key_size}\", end=\" \")\n",
    "    alignments = []\n",
    "    position = -1\n",
    "    while True:\n",
    "        position = text.find(word, position+1)\n",
    "        if position >= 0:\n",
    "            alignment = position % key_size\n",
    "            print(f\"{position} ({alignment})\", end=\" \")\n",
    "            alignments.append(alignment)\n",
    "        else:\n",
    "            break\n",
    "    if alignments.count(alignments[0]) == len(alignments):\n",
    "        print(\"All the same!\", end=\"\")\n",
    "    print()\n",
    "\n",
    "\n",
    "# A function to reverse search for a key that would convert the given word to an encoded word\n",
    "def lookup_key(word, encoded_word):\n",
    "    key = \"\"\n",
    "    for letter, encoded_letter in zip(word, encoded_word):\n",
    "        diff = (ord(encoded_letter) - ord(letter)) % 26\n",
    "        key += chr(diff + ord('A'))\n",
    "    print(key)"
   ]
  },
  {
   "cell_type": "code",
   "execution_count": 20,
   "metadata": {},
   "outputs": [
    {
     "name": "stdout",
     "output_type": "stream",
     "text": [
      "TCS:  5 AIR:  4 TTN:  4 ZSG:  4 KME:  4 \n",
      "MFZ:  4 HYJ:  4 RSD:  4 OEI:  4 WEL:  4 \n",
      "YFT:  3 IIU:  3 OPH:  3 TCO:  3 COK:  3 \n",
      "ZYE:  3 EII:  3 ETT:  3 JIC:  3 ICI:  3 \n",
      "ITC:  3 TCW:  3 CWE:  3 MKM:  3 IRZ:  3 \n",
      "FZY:  3 OHY:  3 SOW:  3 YHZ:  3 BRY:  3 \n"
     ]
    }
   ],
   "source": [
    "squished = part_b_text.replace(\" \", \"\")\n",
    "pattern_finder(squished, 3)"
   ]
  },
  {
   "cell_type": "code",
   "execution_count": 22,
   "metadata": {},
   "outputs": [
    {
     "name": "stdout",
     "output_type": "stream",
     "text": [
      "TCS/5 121 (1) 361 (1) 471 (1) 581 (1) 1181 (1) All the same!\n",
      "AIR/5 36 (1) 196 (1) 731 (1) 1331 (1) All the same!\n",
      "TTN/5 39 (4) 150 (0) 395 (0) 1210 (0) \n",
      "ZSG/5 69 (4) 744 (4) 852 (2) 1114 (4) \n",
      "KME/5 79 (4) 109 (4) 329 (4) 869 (4) All the same!\n",
      "MFZ/5 158 (3) 683 (3) 1293 (3) 1313 (3) All the same!\n",
      "HYJ/5 283 (3) 303 (3) 703 (3) 893 (3) All the same!\n",
      "RSD/5 404 (4) 829 (4) 969 (4) 1094 (4) All the same!\n",
      "OEI/5 468 (3) 773 (3) 903 (3) 1203 (3) All the same!\n",
      "WEL/5 608 (3) 803 (3) 918 (3) 1298 (3) All the same!\n",
      "TCS/6 121 (1) 361 (1) 471 (3) 581 (5) 1181 (5) \n",
      "AIR/6 36 (0) 196 (4) 731 (5) 1331 (5) \n",
      "TTN/6 39 (3) 150 (0) 395 (5) 1210 (4) \n",
      "ZSG/6 69 (3) 744 (0) 852 (0) 1114 (4) \n",
      "KME/6 79 (1) 109 (1) 329 (5) 869 (5) \n",
      "MFZ/6 158 (2) 683 (5) 1293 (3) 1313 (5) \n",
      "HYJ/6 283 (1) 303 (3) 703 (1) 893 (5) \n",
      "RSD/6 404 (2) 829 (1) 969 (3) 1094 (2) \n",
      "OEI/6 468 (0) 773 (5) 903 (3) 1203 (3) \n",
      "WEL/6 608 (2) 803 (5) 918 (0) 1298 (2) \n",
      "TCS/7 121 (2) 361 (4) 471 (2) 581 (0) 1181 (5) \n",
      "AIR/7 36 (1) 196 (0) 731 (3) 1331 (1) \n",
      "TTN/7 39 (4) 150 (3) 395 (3) 1210 (6) \n",
      "ZSG/7 69 (6) 744 (2) 852 (5) 1114 (1) \n",
      "KME/7 79 (2) 109 (4) 329 (0) 869 (1) \n",
      "MFZ/7 158 (4) 683 (4) 1293 (5) 1313 (4) \n",
      "HYJ/7 283 (3) 303 (2) 703 (3) 893 (4) \n",
      "RSD/7 404 (5) 829 (3) 969 (3) 1094 (2) \n",
      "OEI/7 468 (6) 773 (3) 903 (0) 1203 (6) \n",
      "WEL/7 608 (6) 803 (5) 918 (1) 1298 (3) \n"
     ]
    }
   ],
   "source": [
    "for key_length in range(5,8):\n",
    "    for pattern in (\"TCS\", \"AIR\", \"TTN\", \"ZSG\", \"KME\", \"MFZ\", \"HYJ\", \"RSD\", \"OEI\", \"WEL\"):\n",
    "        get_alignment(squished, pattern, key_length)"
   ]
  },
  {
   "cell_type": "code",
   "execution_count": 24,
   "metadata": {},
   "outputs": [
    {
     "name": "stdout",
     "output_type": "stream",
     "text": [
      "TCS: AVO\n",
      "AIR: HBN\n",
      "KME: RFA\n",
      "MFZ: TYV\n",
      "HYJ: ORF\n",
      "RSD: YLZ\n",
      "OEI: VXE\n",
      "WEL: DXH\n"
     ]
    }
   ],
   "source": [
    "for pattern in (\"TCS\", \"AIR\", \"KME\", \"MFZ\", \"HYJ\", \"RSD\", \"OEI\", \"WEL\"):\n",
    "    print(pattern, end=\": \")\n",
    "    lookup_key(\"THE\", pattern)"
   ]
  },
  {
   "cell_type": "code",
   "execution_count": 25,
   "metadata": {},
   "outputs": [],
   "source": [
    "# .avo.\n",
    "# .hbn. x\n",
    "# fa..r\n",
    "# v..ty x\n",
    "# f..or\n",
    "# lz..y x\n",
    "# e..vx x\n",
    "# h..dx x"
   ]
  },
  {
   "cell_type": "code",
   "execution_count": 26,
   "metadata": {},
   "outputs": [],
   "source": [
    "# A method to decode/encode a Vigenere cipher.  Case and punctuation are preserved.\n",
    "# text: The text to encode\n",
    "# key: The key to use\n",
    "# encode: If set to True, will encode the given text instead of decoding it\n",
    "def vigenere(text, key, encode=False):\n",
    "    shifts = [ord(letter.upper()) - ord(\"A\") for letter in key]\n",
    "    key_length = len(key)\n",
    "    key_index = 0\n",
    "    for letter in text:\n",
    "        letter_val = ord(letter)\n",
    "        if letter.isupper():\n",
    "            offset = ord(\"A\")\n",
    "        elif letter.islower():\n",
    "            offset = ord(\"a\")\n",
    "        else:\n",
    "            print(letter, end=\"\")\n",
    "            continue\n",
    "\n",
    "        if encode:\n",
    "            shift = shifts[key_index]\n",
    "        else:\n",
    "            shift = -shifts[key_index]\n",
    "\n",
    "        print(chr((((letter_val - offset) + shift) % 26) + offset), end=\"\")\n",
    "        key_index = (key_index + 1) % key_length\n",
    "    print()"
   ]
  },
  {
   "cell_type": "code",
   "execution_count": 27,
   "metadata": {},
   "outputs": [
    {
     "name": "stdout",
     "output_type": "stream",
     "text": [
      "TOMMYDEARFRIENDIWASSOMEWHATSURPRISEDANDCONFUSEDTORECEIVEYOURLETTERASKINGMEABOUTTHENOTETHATDRWHITEDISCOVEREDINTHEBINDINGOFTHEBOOKFOUNDBYISLESSBODYICANNOTSEEHOWYOUCOULDTHINKIWOULDKNOWANYTHINGABOUTITANDIFINDITEXTREMELYUNLIKELYTHATITCOULDHAVEBEENWRITTENBYANYONEINMYHOUSEHOLDYOURCLAIMTHATTHECHARACTERISTICSOFTHETYPECANBEUSEDTOIDENTIFYTHESOURCEASTHETYPEWRITERWEHOLDINTHEMANSIONSEEMSTOMETOBEDIVINATIONNOTSCIENCEANDWITHOUTMUCHSTRONGEREVIDENCEOFALINKBETWEENSOMEONEINMYHOUSEHOLDANDTHEYOUNGMANISLESIWILLNOTENTERTAINORCOOPERATEWITHANYFURTHERINVESTIGATIONSIHAVEALREADYEXPRESSEDMYCONSTERNATIONATTHEPROSPECTOFASCANDALDERAILINGMYCAMPAIGNFORSTATEGOVERNORANDITHOUGHTTHATYOUUNDERSTOODANDAGREEDWITHMEWHYYOUWOULDWANTTOREOPENTHECASEWHENIHAVESOMUCHTOLOSEANDWEHAVENOTHINGTOGAINFROMITICANNOTUNDERSTANDIKNOWTHATMAISIEHASBEENPRESSINGFORFURTHERINVESTIGATIONANDITISCLEARTHATSHEWASDEEPLYDISTRESSEDBYTHEWHOLEINCIDENTSHELOVESTHELIBRARYANDWOULDDOANYTHINGTOPROTECTITHOWEVERSHEISMERELYASERVANTOFTHEESTATEANDSURELYMYSTATUSASPRESENTOWNERGIVESGREATERWEIGHTTOMYVIEWSANDWISHESWHILEISLESCLEARLYTRESPASSEDHESEEMSNOTTOHAVECAUSEDANYDAMAGEANDEVENIFHEWASINTENDINGTOSTEALFROMMEHISUNTIMELYDEATHFORESTALLEDTHATPLANHEHASALREADYPAIDTHEPRICEFORHISMISDEEDSANDIDONOTSEEANYREASONTOCONTINUETOPOKEANDPROBEATWHATMUSTSURELYBEAROUTINECASEIMUSTINSISTTHATYOUBRINGAFINALHALTTOYOURINVESTIGATIONSANDLETHIMRESTINPEACELETUSNOTINVITEGOSSIPATTHISCRITICALTIMEYOURSINFRIENDSHIPROGERS\n",
      "\n"
     ]
    }
   ],
   "source": [
    "vigenere(squished, \"favor\")"
   ]
  },
  {
   "cell_type": "markdown",
   "metadata": {},
   "source": [
    "# Edited for clarity\n",
    "\n",
    "Tommy dear friend, I was somewhat surprised and confused to receive your letter asking me about the note that Dr White discovered in the binding of the book found by Isles's body. I cannot see how you could think I would know anything about it and I find it extremely unlikely that it could have been written by anyone in my household.<br/>\n",
    "Your claim that the characteristics of the type can be used to identify the source as the typewriter we hold in the mansion seems to me to be divination, not science and without much stronger evidence of a link between someone in my household and the youngman Isles, I will not entertain or co-operate with any further investigations.<br/>\n",
    "I have already expressed my consternation at the prospect of a scandal derailing my campaign for state governor and I thought that you understood and agreed with me. Why you would want to re-open the case when I have so much to lose and we have nothing to gain from it I cannot understand.<br/>\n",
    "I know that Maisie has been pressing for further investigation and it is clear that she was deeply distressed by the whole incident. She loves the library and would do anything to protect it, however she is merely a servant of the estate and surely my status as present owner gives greater weight to my views and wishes.<br/>\n",
    "While Isles clearly trespassed, he seems not to have caused any damage and even if he was intending to steal from me, his untimely death forestalled that plan. He has already paid the price for his misdeeds and I do not see any reason to continue to poke and probe at what must surely be a routine case.<br/>\n",
    "I must insist that you bring a final halt to your investigations and let him rest in peace. Let us not invite gossip at this critical time.<br/>\n",
    "Yours in friendship, Rogers.<br/>"
   ]
  },
  {
   "cell_type": "code",
   "execution_count": null,
   "metadata": {},
   "outputs": [],
   "source": []
  }
 ],
 "metadata": {
  "kernelspec": {
   "display_name": "Python 3 (ipykernel)",
   "language": "python",
   "name": "python3"
  },
  "language_info": {
   "codemirror_mode": {
    "name": "ipython",
    "version": 3
   },
   "file_extension": ".py",
   "mimetype": "text/x-python",
   "name": "python",
   "nbconvert_exporter": "python",
   "pygments_lexer": "ipython3",
   "version": "3.12.0"
  }
 },
 "nbformat": 4,
 "nbformat_minor": 4
}
