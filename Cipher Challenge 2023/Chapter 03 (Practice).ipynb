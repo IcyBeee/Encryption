{
 "cells": [
  {
   "cell_type": "markdown",
   "metadata": {},
   "source": [
    "# Cipher Challenge 2023\n",
    "### Chapter 03 (Practice) / 2023-Oct-19\n",
    "\n",
    "Challenge link https://www.cipherchallenge.org/challenge/challenge-3/"
   ]
  },
  {
   "cell_type": "code",
   "execution_count": 1,
   "metadata": {},
   "outputs": [],
   "source": [
    "# Part A - \"Unravelling the threads\"\n",
    "part_a_text = \"\"\"\n",
    "EATI WCEVA, UCN EVE KUA KITVBAAJ SAK CB? V TJJLZA KUAP RITRXAE KUA RVFUAIJ, HLK FAIUTFJ KUAP JKILSSYAE NVKU NUTK KUA YAKKAI KCYE KUAZ. PCL BAAE KC XBCN GLVKA T HVK THCLK KUA LJ KC LBEAIJKTBE NUTK NTJ SCVBS CB. ZP CNB IATEVBS VJ KUTK KUA CNBAI CD KUA YVHITIP NUAIA KUA HCEP NTJ DCLBE NTJ FYTBBVBS CB ZCLBKVBS T RTZFTVSB KC SAK AYARKAE TJ SCMAIBCI CD KUA JKTKA HLK NTJ NCIIVAE KUTK TBP JRTBETY ZVSUK LBEAIZVBA UVJ RUTBRAJ. UA JAAZJ KC UTMA HAAB CB SCCE KAIZJ NVKU KUA YCRTY RUVAD CD FCYVRA, TBE JVBRA KUTK VJ TYJC TB AYARKAE FCJVKVCB, KUAP NVYY UTMA HCKU LBEAIJKCCE NUTK NTJ TK JKTXA. V ELS TICLBE TBE DCLBE KUTK KUA RUVAD, KCZ UTIFAI, UTE T IAFLKTKVCB TJ TB UCBAJK ZTB, HLK UVJ WLESAZABK ZVSUK UTMA HAAB VBDYLABRAE HP UVJ DIVABEJUVF NVKU ICSAIJ, TBE KUA DTRK KUTK KUA FCYVRA NAIA IAYLRKTBK KC VBMAJKVSTKA ZVSUK UTMA UTE ZCIA KC EC NVKU ZTBFCNAI JUCIKTSAJ KUTB TBP LBELA VBDYLABRA. V RUARXAE KUAVI TIRUVMAJ TBE KUAIA VJ JCZA AMVEABRA KUTK UTIFAI RTIIVAE CLK GLVAK ABGLVIVAJ CD UVJ CNB, FAIUTFJ TDKAI UA IARAVMAE KUA YAKKAI DICZ ICSAIJ. V NCBEAIAE VD KUTK NTJ ELA EVYVSABRA, HLK VK ZVSUK TYJC HA HARTLJA UA IARAVMAE T JKITBSA YAKKAI DICZ T YCRTY ECRKCI NUC JAAZAE KC UTMA HAAB TJJVJKVBS KUA YVHITIVTB, ZTVJVA JKPYAJ, NVKU UAI CNB VBMAJKVSTKVCB VBKC KUA RTJA. V TZ JKVYY LBJLIA NUP JUA NTJ VBMCYMAE. JUA NCIXAE VB ICSAIJ’ UCLJAUCYE TBE NTJ KUA CBA NUC DCLBE KUA HCEP, HLK VK ECAJ JAAZ T YVKKYA THCMA UAI FTP SITEA KC HA YTLBRUVBS TB VBMAJKVSTKVCB VBKC KUA RVIRLZJKTBRAJ CD KUA EATKU. KUA RLIIABK CNBAI CD KUA UCLJA IAZAZHAIJ UAI SITBEDTKUAI KTYXVBS THCLK ZVJJ ZTVJVA VB DCBE KCBAJ. JUA NCIXAE UAIA LBKVY JUA NTJ BC YCBSAI THYA KC EC JC TBE NTJ T EVYVSABK YVHITIVTB NUC HLVYK KUA RCYYARKVCB DICZ SCCE KC SIATK. (VK VJ JKVYY AORAYYABK, TBE V UTMA BCK UTE KVZA KC JKTIK T RICJJNCIE CI T JLECXL JVBRA V EVJRCMAIAE VK!) FAIUTFJ JUA NTJ LFJAK KUTK JCZACBA UTE HICXAB KUA JTBRKVKP CD UAI ECZTVB TBE WLJK NTBKAE KC LBEAIJKTBE NUP. JUA ZLJK UTMA HAAB NCIIVAE THCLK KUA JARLIVKP CD KUA RCYYARKVCB TBE VK NCLYE UTMA HAAB DILJKITKVBS KUTK KUA FCYVRA EVE BCK TFFATI MAIP VBKAIAJKAE. JUA JAAZJ KC UTMA TJXAE KUA YCRTY ECRKCI ZTLIVRA NUVKA KC VBMAJKVSTKA KUA MCYLZA DCLBE VB KUA EARATJAE’J SITJF; SVMAB UVJ DVBEVBSJ, KUTK NTJ T SCCE RTYY. V TZ BCK JLIA NUTK UVJ YAKKAI KAYYJ LJ, HLK CBRA PCL UTMA HICXAB KUA ABRIPFKVCB CB VK FAIUTFJ PCL RTB YAK ZA XBCN NUTK PCL KUVBX. V UCFA PCL EVEB’K ZVBE ZA ABRIPFKVBS KUVJ BCKA. V KUCLSUK PCL TBE KUA KITVBAAJ ZVSUK ABWCP HIATXVBS VK. VK VJ SCCE FITRKVRA DCI KUA YAKKAI DICZ EI ZTLIVRA NUVKA ZE! TYY KUA HAJK, UTIIP\"\"\""
   ]
  },
  {
   "cell_type": "code",
   "execution_count": 2,
   "metadata": {},
   "outputs": [],
   "source": [
    "# Bring in the basic decoder function\n",
    "import string\n",
    "\n",
    "# A simple translation method.\n",
    "# text: The text to translate, in upper case\n",
    "# key: A substitution alphabet, usually in lower case so that the translated characters show up\n",
    "def decode(text, key):\n",
    "    table = str.maketrans(string.ascii_uppercase, key)\n",
    "    print(text.upper().translate(table))"
   ]
  },
  {
   "cell_type": "code",
   "execution_count": 3,
   "metadata": {},
   "outputs": [
    {
     "name": "stdout",
     "output_type": "stream",
     "text": [
      "\n",
      "dear jodie, hoN did the traiBeeJ Set oB? i aJJLZe they RraRXed the RiFherJ, HLt FerhaFJ they JtrLSSYed Nith Nhat the Yetter toYd theZ. yoL Beed to XBoN GLite a Hit aHoLt the LJ to LBderJtaBd Nhat NaJ SoiBS oB. Zy oNB readiBS iJ that the oNBer oD the YiHrary Nhere the Hody NaJ DoLBd NaJ FYaBBiBS oB ZoLBtiBS a RaZFaiSB to Set eYeRted aJ SoMerBor oD the Jtate HLt NaJ Norried that aBy JRaBdaY ZiSht LBderZiBe hiJ RhaBReJ. he JeeZJ to haMe HeeB oB Sood terZJ Nith the YoRaY RhieD oD FoYiRe, aBd JiBRe that iJ aYJo aB eYeRted FoJitioB, they NiYY haMe Hoth LBderJtood Nhat NaJ at JtaXe. i dLS aroLBd aBd DoLBd that the RhieD, toZ harFer, had a reFLtatioB aJ aB hoBeJt ZaB, HLt hiJ jLdSeZeBt ZiSht haMe HeeB iBDYLeBRed Hy hiJ DrieBdJhiF Nith roSerJ, aBd the DaRt that the FoYiRe Nere reYLRtaBt to iBMeJtiSate ZiSht haMe had Zore to do Nith ZaBFoNer JhortaSeJ thaB aBy LBdLe iBDYLeBRe. i RheRXed their arRhiMeJ aBd there iJ JoZe eMideBRe that harFer Rarried oLt GLiet eBGLirieJ oD hiJ oNB, FerhaFJ aDter he reReiMed the Yetter DroZ roSerJ. i NoBdered iD that NaJ dLe diYiSeBRe, HLt it ZiSht aYJo He HeRaLJe he reReiMed a JtraBSe Yetter DroZ a YoRaY doRtor Nho JeeZed to haMe HeeB aJJiJtiBS the YiHrariaB, ZaiJie JtyYeJ, Nith her oNB iBMeJtiSatioB iBto the RaJe. i aZ JtiYY LBJLre Nhy Jhe NaJ iBMoYMed. Jhe NorXed iB roSerJ’ hoLJehoYd aBd NaJ the oBe Nho DoLBd the Hody, HLt it doeJ JeeZ a YittYe aHoMe her Fay Srade to He YaLBRhiBS aB iBMeJtiSatioB iBto the RirRLZJtaBReJ oD the death. the RLrreBt oNBer oD the hoLJe reZeZHerJ her SraBdDather taYXiBS aHoLt ZiJJ ZaiJie iB DoBd toBeJ. Jhe NorXed here LBtiY Jhe NaJ Bo YoBSer aHYe to do Jo aBd NaJ a diYiSeBt YiHrariaB Nho HLiYt the RoYYeRtioB DroZ Sood to Sreat. (it iJ JtiYY eOReYYeBt, aBd i haMe Bot had tiZe to Jtart a RroJJNord or a JLdoXL JiBRe i diJRoMered it!) FerhaFJ Jhe NaJ LFJet that JoZeoBe had HroXeB the JaBRtity oD her doZaiB aBd jLJt NaBted to LBderJtaBd Nhy. Jhe ZLJt haMe HeeB Norried aHoLt the JeRLrity oD the RoYYeRtioB aBd it NoLYd haMe HeeB DrLJtratiBS that the FoYiRe did Bot aFFear Mery iBtereJted. Jhe JeeZJ to haMe aJXed the YoRaY doRtor ZaLriRe Nhite to iBMeJtiSate the MoYLZe DoLBd iB the deReaJed’J SraJF; SiMeB hiJ DiBdiBSJ, that NaJ a Sood RaYY. i aZ Bot JLre Nhat hiJ Yetter teYYJ LJ, HLt oBRe yoL haMe HroXeB the eBRryFtioB oB it FerhaFJ yoL RaB Yet Ze XBoN Nhat yoL thiBX. i hoFe yoL didB’t ZiBd Ze eBRryFtiBS thiJ Bote. i thoLSht yoL aBd the traiBeeJ ZiSht eBjoy HreaXiBS it. it iJ Sood FraRtiRe Dor the Yetter DroZ dr ZaLriRe Nhite Zd! aYY the HeJt, harry\n"
     ]
    }
   ],
   "source": [
    "# \"KUA\" is common -> K=t, U=h, A=e\n",
    "# Looks like this message is from Harry to Jodie...\n",
    "# \"UTIIP\" -> T=a, I=r, P=y\n",
    "# \"EATI WCEVA\" -> E=d, W=j, C=o, V=i\n",
    "decode(part_a_text, \"eBoDdFGHrJtLMNOyQRSahijXYZ\")"
   ]
  },
  {
   "cell_type": "code",
   "execution_count": 4,
   "metadata": {},
   "outputs": [
    {
     "name": "stdout",
     "output_type": "stream",
     "text": [
      "\n",
      "dear jodie, how did the trainees get on? i assume they cracked the ciphers, but perhaps they struggled with what the letter told them. you need to know quite a bit about the us to understand what was going on. my own reading is that the owner of the library where the body was found was planning on mounting a campaign to get elected as governor of the state but was worried that any scandal might undermine his chances. he seems to have been on good terms with the local chief of police, and since that is also an elected position, they will have both understood what was at stake. i dug around and found that the chief, tom harper, had a reputation as an honest man, but his judgement might have been influenced by his friendship with rogers, and the fact that the police were reluctant to investigate might have had more to do with manpower shortages than any undue influence. i checked their archives and there is some evidence that harper carried out quiet enquiries of his own, perhaps after he received the letter from rogers. i wondered if that was due diligence, but it might also be because he received a strange letter from a local doctor who seemed to have been assisting the librarian, maisie styles, with her own investigation into the case. i am still unsure why she was involved. she worked in rogers’ household and was the one who found the body, but it does seem a little above her pay grade to be launching an investigation into the circumstances of the death. the current owner of the house remembers her grandfather talking about miss maisie in fond tones. she worked here until she was no longer able to do so and was a diligent librarian who built the collection from good to great. (it is still excellent, and i have not had time to start a crossword or a sudoku since i discovered it!) perhaps she was upset that someone had broken the sanctity of her domain and just wanted to understand why. she must have been worried about the security of the collection and it would have been frustrating that the police did not appear very interested. she seems to have asked the local doctor maurice white to investigate the volume found in the deceased’s grasp; given his findings, that was a good call. i am not sure what his letter tells us, but once you have broken the encryption on it perhaps you can let me know what you think. i hope you didn’t mind me encrypting this note. i thought you and the trainees might enjoy breaking it. it is good practice for the letter from dr maurice white md! all the best, harry\n"
     ]
    }
   ],
   "source": [
    "# \"hoN did the traiBeeJ Set oB?\" -> N=w, B=n, J=s, S=g\n",
    "# \"i aJJLZe they RraRXed the RiFherJ\" -> L=u, Z=m, R=c, X=k, F=p\n",
    "# \"haMe HeeB iBDYLeBRed Hy hiJ DrieBdJhiF Nith roSerJ\" -> M=v, H=b, D=f, Y=l, R=c\n",
    "# Left over: G=q, O=x, Q=z\n",
    "decode(part_a_text, \"enofdpqbrstuvwxyzcgahijklm\")"
   ]
  },
  {
   "cell_type": "code",
   "execution_count": 6,
   "metadata": {},
   "outputs": [],
   "source": [
    "import string\n",
    "\n",
    "# Attempts to determine the keyword used for a substitution cipher\n",
    "# alphabet: The substitution alphabet\n",
    "def decode_key(alphabet):\n",
    "    decoded_alphabet = \"\"\n",
    "    for letter in string.ascii_lowercase:\n",
    "        decoded_alphabet += chr(alphabet.find(letter) + ord(\"a\"))\n",
    "    print(f\"Decoded alphabet: {decoded_alphabet}\")\n",
    "    \n",
    "    remaining_letters = list(string.ascii_lowercase)\n",
    "    for pos, letter in enumerate(decoded_alphabet):\n",
    "        remaining_letters.remove(letter)\n",
    "        next_letter_index = remaining_letters.index(decoded_alphabet[pos+1])\n",
    "        if decoded_alphabet[pos+1:] == \"\".join(remaining_letters[next_letter_index:] + remaining_letters[:next_letter_index]):\n",
    "            print(f\"Keyword: {decoded_alphabet[:pos+2]}\")\n",
    "            break\n"
   ]
  },
  {
   "cell_type": "code",
   "execution_count": 7,
   "metadata": {},
   "outputs": [
    {
     "name": "stdout",
     "output_type": "stream",
     "text": [
      "Decoded alphabet: threadsuvwxyzbcfgijklmnopq\n",
      "Keyword: threads\n"
     ]
    }
   ],
   "source": [
    "decode_key(\"enofdpqbrstuvwxyzcgahijklm\")"
   ]
  },
  {
   "cell_type": "code",
   "execution_count": 8,
   "metadata": {},
   "outputs": [],
   "source": [
    "# Part B \"Doctoring the evidence?\"\n",
    "part_b_text = \"\"\"\n",
    "AREIR JKZVJ JJKPY RJVZL JKEAZ VKKUE KVNEJ LBGCB MVBGR ADPPC LIGYE VZKUE KNRNC LYASV BAEBP KUVBT CSBCK RVBKU RMCYL ZRKUE KPCLJ RBKZR PCLEI RIVTU KKUEK VKUEJ JCZRM EYLRE JEJFR GVEYR AVKVC BCSFC RJNCI XDLKV GCLYA BCKJR REBPK UVBTI RZEIX EDYRE DCLKV KKUEK ZVTUK ROFYE VBKUR FIRJR BGRCI KURAR EKUCS KURPC LBTZE BPCLS CLBAV BKURY VDIEI PVKVJ ESVBR JFRGV ZRBEB AVKNE JNVKU JCZRI RYLGK EBGRK UEKVE KKEGX RAKUR DVBAV BTEJV AVABC KROFR GKKCS VBAEB PKUVB TIRZE IXEDY RKURI RVBPC LGEBV ZETVB RZPJL IFIVJ RKURB KCAVJ GCMRI KUREK KEGUR ABCKR GYREI YPNIV KKRBV BEGVF URIEB AGEIR SLYYP GCBGR EYRAD RKNRR BKURY REKUR IEBAK URRBA DCEIA JRMRB KURBV EJJLZ RAKUV JKCDR EFLDY VJURI JKIVG XKCFI CZCKR KURRA VKVCB TVMRB KURFI CZVBR BGRCS RBGIP FKVCB VBKUR KEYRD LKGCB JLYKV BTNVK UZPSI VRBAJ VBKUR DCCXK IEARB CBRCS KURZU EAURE IACSJ LGUEG CBGRV KEBAV GCLYA BCKSV BAEBP IRGCI ACSEB EAMRI KVJVB TGEZF EVTBI RSRII VBTKC JLGUE GLIVC JVKPE KKUVJ FCVBK VSRYK VJUCL YAEKY REJKE KKRZF KKCAR GVFUR IKURZ RJJET REBAH LVGXY PAVJG CMRIR AKUEK KUREL KUCIU EALJR AKURM RIPZV YAGCB MRBKV CBCSE JUVSK GVFUR IGYRE IYPVB KRBAR AKCDR DICXR BKURS VIJKY VBRIR EAIRG RBKRM RBKJU EMRZE ARVKG YREIR IKUEB RMRIK CZRKU EKVEZ VBZCI KEYAE BTRIE BAKUR IRJKG CBKEV BRAZL GUKCE YEIZZ RRJFR GVEYY PKURI EKURI GYLZJ PIRMR IJREG ICJKV GNUVG UIREA ZLIAR IKUCL TUSCI KURYC BTRJK KVZRV EJJLZ RAVKK CIREA IRAIL ZNUVG UGELJ RAZRZ LGUGC BSLJV CBNUR KURIC IBCKK UVJGC BGREY RAZRJ JETRF CVBKJ KCKUR LBSCI KLBEK RAREK UCSPC LIVBK RIYCF RIVJB CKEFF EIRBK KCZRD LKVKU VBXPC LEIRI VTUKK UEKVK JFIRJ RBGRJ UCLYA DRJLS SVGVR BKKCR BGCLI ETRKU RFCYV GRKCI RCFRB KURGE JRVNV YYSCI NEIAE GCFPC SKUVJ YRKKR IKCTR KURIN VKUZP SVBAV BTJKC ZPSIV RBAKC ZUEIF RIEJG UVRSC SFCYV GRURJ UCLYA UEMRK URFCN RIEBA VBSYL RBGRK CACJC NVKUZ PDRJK NVJUR JZELI VGRAI ZELIV GRNUV KRZA\"\"\""
   ]
  },
  {
   "cell_type": "code",
   "execution_count": 9,
   "metadata": {},
   "outputs": [
    {
     "name": "stdout",
     "output_type": "stream",
     "text": [
      "R: 194 (12.98%) K: 161 (10.77%) V: 117 (7.83%) E: 110 (7.36%) B: 104 (6.96%)\n",
      "C: 103 (6.89%) I: 91 (6.09%) U: 91 (6.09%) J: 73 (4.88%) A: 65 (4.35%)\n",
      "G: 63 (4.21%) L: 51 (3.41%) Z: 47 (3.14%) Y: 47 (3.14%) S: 32 (2.14%)\n",
      "P: 30 (2.01%) F: 29 (1.94%) T: 22 (1.47%) N: 19 (1.27%) D: 18 (1.20%)\n",
      "M: 15 (1.00%) X:  9 (0.60%) O:  2 (0.13%) \n",
      ":  1 (0.07%) H:  1 (0.07%)\n",
      "\n",
      "-----\n"
     ]
    }
   ],
   "source": [
    "from collections import Counter\n",
    "\n",
    "# Takes a string or list of items and counts the frequencies of those items\n",
    "# data: The list or string to analyse\n",
    "# max_values: The maximum number of values to display (set to None for no limit)\n",
    "# no_columns: The amount of columns to use in the output\n",
    "def frequency_analysis(data, max_values=30, no_columns=5):\n",
    "    frequencies = Counter()\n",
    "    for item in data:\n",
    "        frequencies[item] += 1\n",
    "    \n",
    "    total = sum(frequencies.values())\n",
    "    column = 1\n",
    "    for item, frequency in frequencies.most_common(max_values):\n",
    "        print(f\"{item}: {frequency:2} ({frequency / total:.2%})\", end=\" \" if column % no_columns else \"\\n\")\n",
    "        column += 1\n",
    "    print(\"\\n-----\")\n",
    "    \n",
    "squished = part_b_text.replace(\" \", \"\")\n",
    "frequency_analysis(squished)"
   ]
  },
  {
   "cell_type": "code",
   "execution_count": 10,
   "metadata": {},
   "outputs": [
    {
     "name": "stdout",
     "output_type": "stream",
     "text": [
      "\n",
      "AeEIeJtZVJJJtPYeJVZLJtEAZVtthEtVNEJLBGCBMVBGeADPPCLIGYEVZthEtNeNCLYASVBAEBPthVBTCSBCteVBtheMCYLZethEtPCLJeBtZePCLEIeIVThtthEtVthEJJCZeMEYLeEJEJFeGVEYeAVtVCBCSFCeJNCIXDLtVGCLYABCtJeeEBPthVBTIeZEIXEDYeEDCLtVtthEtZVThteOFYEVBtheFIeJeBGeCItheAeEthCSthePCLBTZEBPCLSCLBAVBtheYVDIEIPVtVJESVBeJFeGVZeBEBAVtNEJNVthJCZeIeYLGtEBGethEtVEttEGXeAtheDVBAVBTEJVAVABCteOFeGttCSVBAEBPthVBTIeZEIXEDYetheIeVBPCLGEBVZETVBeZPJLIFIVJetheBtCAVJGCMeItheEttEGheABCteGYeEIYPNIVtteBVBEGVFheIEBAGEIeSLYYPGCBGeEYeADetNeeBtheYeEtheIEBAtheeBADCEIAJeMeBtheBVEJJLZeAthVJtCDeEFLDYVJheIJtIVGXtCFICZCtetheeAVtVCBTVMeBtheFICZVBeBGeCSeBGIPFtVCBVBthetEYeDLtGCBJLYtVBTNVthZPSIVeBAJVBtheDCCXtIEAeBCBeCStheZhEAheEIACSJLGhEGCBGeVtEBAVGCLYABCtSVBAEBPIeGCIACSEBEAMeItVJVBTGEZFEVTBIeSeIIVBTtCJLGhEGLIVCJVtPEtthVJFCVBtVSeYtVJhCLYAEtYeEJtEtteZFttCAeGVFheItheZeJJETeEBAHLVGXYPAVJGCMeIeAthEttheELthCIhEALJeAtheMeIPZVYAGCBMeBtVCBCSEJhVStGVFheIGYeEIYPVBteBAeAtCDeDICXeBtheSVIJtYVBeIeEAIeGeBteMeBtJhEMeZEAeVtGYeEIeIthEBeMeItCZethEtVEZVBZCItEYAEBTeIEBAtheIeJtGCBtEVBeAZLGhtCEYEIZZeeJFeGVEYYPtheIEtheIGYLZJPIeMeIJeEGICJtVGNhVGhIeEAZLIAeIthCLThSCItheYCBTeJttVZeVEJJLZeAVttCIeEAIeAILZNhVGhGELJeAZeZLGhGCBSLJVCBNhetheICIBCtthVJGCBGeEYeAZeJJETeFCVBtJtCtheLBSCItLBEteAeEthCSPCLIVBteIYCFeIVJBCtEFFEIeBttCZeDLtVthVBXPCLEIeIVThtthEtVtJFIeJeBGeJhCLYADeJLSSVGVeBttCeBGCLIETetheFCYVGetCIeCFeBtheGEJeVNVYYSCINEIAEGCFPCSthVJYetteItCTetheINVthZPSVBAVBTJtCZPSIVeBAtCZhEIFeIEJGhVeSCSFCYVGeheJhCLYAhEMetheFCNeIEBAVBSYLeBGetCACJCNVthZPDeJtNVJheJZELIVGeAIZELIVGeNhVteZA\n"
     ]
    }
   ],
   "source": [
    "# \"KUR\" -> k=t, U=h, R=e\n",
    "decode(squished, \"ABCDEFGHIJtLMNOPQeSThVWXYZ\")"
   ]
  },
  {
   "cell_type": "code",
   "execution_count": 11,
   "metadata": {
    "scrolled": true
   },
   "outputs": [
    {
     "name": "stdout",
     "output_type": "stream",
     "text": [
      "\n",
      "deareJtZVJJJtPYeJVZLJtadZVtthatVNaJLBGCBMVBGedDPPCLrGYaVZthatNeNCLYdSVBdaBPthVBTCSBCteVBtheMCYLZethatPCLJeBtZePCLarerVThtthatVthaJJCZeMaYLeaJaJFeGVaYedVtVCBCSFCeJNCrXDLtVGCLYdBCtJeeaBPthVBTreZarXaDYeaDCLtVtthatZVThteOFYaVBtheFreJeBGeCrthedeathCSthePCLBTZaBPCLSCLBdVBtheYVDrarPVtVJaSVBeJFeGVZeBaBdVtNaJNVthJCZereYLGtaBGethatVattaGXedtheDVBdVBTaJVdVdBCteOFeGttCSVBdaBPthVBTreZarXaDYethereVBPCLGaBVZaTVBeZPJLrFrVJetheBtCdVJGCMertheattaGhedBCteGYearYPNrVtteBVBaGVFheraBdGareSLYYPGCBGeaYedDetNeeBtheYeatheraBdtheeBdDCardJeMeBtheBVaJJLZedthVJtCDeaFLDYVJherJtrVGXtCFrCZCtetheedVtVCBTVMeBtheFrCZVBeBGeCSeBGrPFtVCBVBthetaYeDLtGCBJLYtVBTNVthZPSrVeBdJVBtheDCCXtradeBCBeCStheZhadheardCSJLGhaGCBGeVtaBdVGCLYdBCtSVBdaBPreGCrdCSaBadMertVJVBTGaZFaVTBreSerrVBTtCJLGhaGLrVCJVtPatthVJFCVBtVSeYtVJhCLYdatYeaJtatteZFttCdeGVFhertheZeJJaTeaBdHLVGXYPdVJGCMeredthattheaLthCrhadLJedtheMerPZVYdGCBMeBtVCBCSaJhVStGVFherGYearYPVBteBdedtCDeDrCXeBtheSVrJtYVBereadreGeBteMeBtJhaMeZadeVtGYearerthaBeMertCZethatVaZVBZCrtaYdaBTeraBdthereJtGCBtaVBedZLGhtCaYarZZeeJFeGVaYYPtheratherGYLZJPreMerJeaGrCJtVGNhVGhreadZLrderthCLThSCrtheYCBTeJttVZeVaJJLZedVttCreadredrLZNhVGhGaLJedZeZLGhGCBSLJVCBNhetherCrBCtthVJGCBGeaYedZeJJaTeFCVBtJtCtheLBSCrtLBatedeathCSPCLrVBterYCFerVJBCtaFFareBttCZeDLtVthVBXPCLarerVThtthatVtJFreJeBGeJhCLYdDeJLSSVGVeBttCeBGCLraTetheFCYVGetCreCFeBtheGaJeVNVYYSCrNardaGCFPCSthVJYettertCTetherNVthZPSVBdVBTJtCZPSrVeBdtCZharFeraJGhVeSCSFCYVGeheJhCLYdhaMetheFCNeraBdVBSYLeBGetCdCJCNVthZPDeJtNVJheJZaLrVGedrZaLrVGeNhVteZd\n"
     ]
    }
   ],
   "source": [
    "# \"thEt\" -> E=a\n",
    "# \"AeEI\" -> A=d, I=r\n",
    "decode(squished, \"dBCDaFGHrJtLMNOPQeSThVWXYZ\")"
   ]
  },
  {
   "cell_type": "code",
   "execution_count": 12,
   "metadata": {},
   "outputs": [
    {
     "name": "stdout",
     "output_type": "stream",
     "text": [
      "\n",
      "deareJtyiJJJtPYeJiyLJtadyitthatiwaJLBcCBMiBcedDPPCLrcYaiythatwewCLYdSiBdaBPthiBTCSBCteiBtheMCYLyethatPCLJeBtyePCLareriThtthatithaJJCyeMaYLeaJaJFeciaYeditiCBCSFCeJwCrkDLticCLYdBCtJeeaBPthiBTreyarkaDYeaDCLtitthatyiThteOFYaiBtheFreJeBceCrthedeathCSthePCLBTyaBPCLSCLBdiBtheYiDrarPitiJaSiBeJFeciyeBaBditwaJwithJCyereYLctaBcethatiattackedtheDiBdiBTaJididBCteOFecttCSiBdaBPthiBTreyarkaDYethereiBPCLcaBiyaTiBeyPJLrFriJetheBtCdiJcCMertheattachedBCtecYearYPwritteBiBaciFheraBdcareSLYYPcCBceaYedDetweeBtheYeatheraBdtheeBdDCardJeMeBtheBiaJJLyedthiJtCDeaFLDYiJherJtricktCFrCyCtetheeditiCBTiMeBtheFrCyiBeBceCSeBcrPFtiCBiBthetaYeDLtcCBJLYtiBTwithyPSrieBdJiBtheDCCktradeBCBeCStheyhadheardCSJLchacCBceitaBdicCLYdBCtSiBdaBPrecCrdCSaBadMertiJiBTcayFaiTBreSerriBTtCJLchacLriCJitPatthiJFCiBtiSeYtiJhCLYdatYeaJtatteyFttCdeciFhertheyeJJaTeaBdHLickYPdiJcCMeredthattheaLthCrhadLJedtheMerPyiYdcCBMeBtiCBCSaJhiStciFhercYearYPiBteBdedtCDeDrCkeBtheSirJtYiBereadreceBteMeBtJhaMeyadeitcYearerthaBeMertCyethatiayiByCrtaYdaBTeraBdthereJtcCBtaiBedyLchtCaYaryyeeJFeciaYYPtherathercYLyJPreMerJeacrCJticwhichreadyLrderthCLThSCrtheYCBTeJttiyeiaJJLyedittCreadredrLywhichcaLJedyeyLchcCBSLJiCBwhetherCrBCtthiJcCBceaYedyeJJaTeFCiBtJtCtheLBSCrtLBatedeathCSPCLriBterYCFeriJBCtaFFareBttCyeDLtithiBkPCLareriThtthatitJFreJeBceJhCLYdDeJLSSicieBttCeBcCLraTetheFCYicetCreCFeBthecaJeiwiYYSCrwardacCFPCSthiJYettertCTetherwithyPSiBdiBTJtCyPSrieBdtCyharFeraJchieSCSFCYiceheJhCLYdhaMetheFCweraBdiBSYLeBcetCdCJCwithyPDeJtwiJheJyaLricedryaLricewhiteyd\n"
     ]
    }
   ],
   "source": [
    "# \"VattaGXed\" -> V=i, G=c, X=k\n",
    "# \"theZhadheard\" -> Z=y\n",
    "# \"Nhether\" -> N=w\n",
    "decode(squished, \"dBCDaFcHrJtLMwOPQeSThiWkYy\")"
   ]
  },
  {
   "cell_type": "code",
   "execution_count": 13,
   "metadata": {},
   "outputs": [
    {
     "name": "stdout",
     "output_type": "stream",
     "text": [
      "\n",
      "dearestmissstylesimLstadmitthatiwasLncCnMincedbyyCLrclaimthatwewCLldSindanythingCSnCteintheMClLmethatyCLsentmeyCLarerightthatithassCmeMalLeasaspecialeditiCnCSpCeswCrkbLticCLldnCtseeanythingremarkableabCLtitthatmighteOplainthepresenceCrthedeathCStheyCLngmanyCLSCLndinthelibraryitisaSinespecimenanditwaswithsCmerelLctancethatiattackedthebindingasididnCteOpecttCSindanythingremarkablethereinyCLcanimaginemysLrprisethentCdiscCMertheattachednCteclearlywritteninacipherandcareSLllycCncealedbetweentheleatherandtheendbCardseMentheniassLmedthistCbeapLblisherstricktCprCmCtetheeditiCngiMentheprCminenceCSencryptiCninthetalebLtcCnsLltingwithmySriendsinthebCCktradenCneCSthemhadheardCSsLchacCnceitandicCLldnCtSindanyrecCrdCSanadMertisingcampaignreSerringtCsLchacLriCsityatthispCintiSeltishCLldatleastattempttCdecipherthemessageandHLicklydiscCMeredthattheaLthCrhadLsedtheMerymildcCnMentiCnCSashiStcipherclearlyintendedtCbebrCkentheSirstlinereadrecenteMentshaMemadeitclearerthaneMertCmethatiaminmCrtaldangerandtherestcCntainedmLchtCalarmmeespeciallytheratherclLmsyreMerseacrCsticwhichreadmLrderthCLghSCrthelCngesttimeiassLmedittCreadredrLmwhichcaLsedmemLchcCnSLsiCnwhetherCrnCtthiscCncealedmessagepCintstCtheLnSCrtLnatedeathCSyCLrinterlCperisnCtapparenttCmebLtithinkyCLarerightthatitspresenceshCLldbesLSSicienttCencCLragethepClicetCreCpenthecaseiwillSCrwardacCpyCSthislettertCgetherwithmySindingstCmySriendtCmharperaschieSCSpCliceheshCLldhaMethepCwerandinSlLencetCdCsCwithmybestwishesmaLricedrmaLricewhitemd\n"
     ]
    }
   ],
   "source": [
    "# \"thatiwaJ\" -> J=s\n",
    "# \"thiBTreyarkaDYe\" -> B=n, T=?, Z!=y: Z=m, D=b, Y=l\n",
    "# \"deciFhertheyeJJaTe\" -> F=p, T=g\n",
    "# \"deareJtyiJJJtPYeJ\" = \"Dearest Miss Styles\" -> P=y\n",
    "decode(squished, \"dnCbapcHrstLMwOyQeSghiWklm\")"
   ]
  },
  {
   "cell_type": "code",
   "execution_count": 16,
   "metadata": {},
   "outputs": [
    {
     "name": "stdout",
     "output_type": "stream",
     "text": [
      "\n",
      "dearestmissstylesimustadmitthatiwasunconvincedbyyourclaimthatwewouldfindanythingofnoteinthevolumethatyousentmeyouarerightthatithassomevalueasaspecialeditionofpoesworkbuticouldnotseeanythingremarkableaboutitthatmightexplainthepresenceorthedeathoftheyoungmanyoufoundinthelibraryitisafinespecimenanditwaswithsomereluctancethatiattackedthebindingasididnotexpecttofindanythingremarkablethereinyoucanimaginemysurprisethentodiscovertheattachednoteclearlywritteninacipherandcarefullyconcealedbetweentheleatherandtheendboardseventheniassumedthistobeapublisherstricktopromotetheeditiongiventheprominenceofencryptioninthetalebutconsultingwithmyfriendsinthebooktradenoneofthemhadheardofsuchaconceitandicouldnotfindanyrecordofanadvertisingcampaignreferringtosuchacuriosityatthispointifeltishouldatleastattempttodecipherthemessageandquicklydiscoveredthattheauthorhadusedtheverymildconventionofashiftcipherclearlyintendedtobebrokenthefirstlinereadrecenteventshavemadeitclearerthanevertomethatiaminmortaldangerandtherestcontainedmuchtoalarmmeespeciallytheratherclumsyreverseacrosticwhichreadmurderthoughforthelongesttimeiassumedittoreadredrumwhichcausedmemuchconfusionwhetherornotthisconcealedmessagepointstotheunfortunatedeathofyourinterloperisnotapparenttomebutithinkyouarerightthatitspresenceshouldbesufficienttoencouragethepolicetoreopenthecaseiwillforwardacopyofthislettertogetherwithmyfindingstomyfriendtomharperaschiefofpoliceheshouldhavethepowerandinfluencetodosowithmybestwishesmauricedrmauricewhitemd\n"
     ]
    }
   ],
   "source": [
    "# \"imLstadmitthatiwasLncCnMincedbyyCLrclaim\" -> L=u, C=o, M=v\n",
    "# \"HLicklydiscCMered\" -> H=q\n",
    "# \"tmighteOplain\" -> O=x\n",
    "# gaps: Q=z, S=f, W=j\n",
    "decode(squished, \"dnobapcqrstuvwxyzefghijklm\")"
   ]
  },
  {
   "cell_type": "code",
   "execution_count": 17,
   "metadata": {},
   "outputs": [
    {
     "name": "stdout",
     "output_type": "stream",
     "text": [
      "Decoded alphabet: edgarstuvwxyzbcfhijklmnopq\n",
      "Keyword: edgar\n"
     ]
    }
   ],
   "source": [
    "decode_key(\"dnobapcqrstuvwxyzefghijklm\")"
   ]
  },
  {
   "cell_type": "markdown",
   "metadata": {},
   "source": [
    "# Edited for clarity\n",
    "\n",
    "Dearest Miss Styles,<br>\n",
    "I must admit that I was unconvinced by your claim that we would find anything of note in the volume that you sent me. You are right that it has some value as a special edition of Poe's work, but I could not see anything remarkable about it that might explain the presence or the death of the young man you found in the library.<br>\n",
    "It is a fine specimen and it was with some reluctance that I attacked the binding as I did not expect to find anything remarkable therein.<br>\n",
    "You can imagine my surprise then to discover the attached note, clearly written in a cipher and carefully concealed between the leather and the endboards. Even then, I assumed this to be a publisher's trick to promote the edition, given the prominence of encryption in the tale, but consulting with my friends in the book trade, none of them had heard of such a conceit, and I could not find any record of an advertising campaign referring to such a curiosity.<br>\n",
    "At this point, I felt I should at least attempt to decipher the message and quickly discovered that the author had used the very mild convention of a shift cipher, clearly intended to be broken. The first line read \"recent events have made it clearer than ever to me that I am in mortal danger\" and the rest contained much to alarm me, especially the rather clumsy reverse acrostic, which read \"murder\", though for the longest time I assumed it to read \"Red Rum\", which caused me much confusion.<br>\n",
    "Whether or not this concealed message points to the unfortunate death of your interloper is not apparent to me, but I think you are right that its presence should be sufficient to encourage the police to reopen the case.<br>\n",
    "I will forward a copy of this letter, together with my findings to my friend Tom Harper. As chief of police, he should have the power and influence to do so.<br>\n",
    "With my best wishes, Maurice.\n",
    "Dr Maurice White MD."
   ]
  },
  {
   "cell_type": "code",
   "execution_count": null,
   "metadata": {},
   "outputs": [],
   "source": []
  }
 ],
 "metadata": {
  "kernelspec": {
   "display_name": "Python 3 (ipykernel)",
   "language": "python",
   "name": "python3"
  },
  "language_info": {
   "codemirror_mode": {
    "name": "ipython",
    "version": 3
   },
   "file_extension": ".py",
   "mimetype": "text/x-python",
   "name": "python",
   "nbconvert_exporter": "python",
   "pygments_lexer": "ipython3",
   "version": "3.12.0"
  }
 },
 "nbformat": 4,
 "nbformat_minor": 4
}
