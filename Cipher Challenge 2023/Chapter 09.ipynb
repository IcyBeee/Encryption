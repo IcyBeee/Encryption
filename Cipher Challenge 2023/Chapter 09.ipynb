{
 "cells": [
  {
   "cell_type": "markdown",
   "metadata": {},
   "source": [
    "#### Cipher Challenge 2023\n",
    "### Chapter 09 / 2023-Dec-07\n",
    "\n",
    "Challenge link https://www.cipherchallenge.org/challenge/challenge-9/"
   ]
  },
  {
   "cell_type": "code",
   "execution_count": 1,
   "metadata": {},
   "outputs": [],
   "source": [
    "# Part A - \"Ups and downs\"\n",
    "part_a_text = \"\"\"XOLIM IHAZE AOVEF RPEKS QOBPP EXEWT LEVNZ ELTOG TTWOU HVREA QDAHI UNHBI ZHIUO DSRVN EYIUJ PHODA XEEIA HKYNI QDVNY SRRUG VRZHD DVNLE ZIXEW TLEQO WLGCB IBNNN IFZLZ OEITG LERAE PWIGT QEGTV IRECE RRTBJ FFRXT LEVNK IHEGT MAASM EHAFC LRTTH DBTCC KUZRV NGALA XGRNG MFEFO WRRRE AQDVA FUBBP EHDBT WOFST FMMVR KCNNX EQTTB TOWLK WVNZT LEVNZ ELTOG TTWOF SZYHA GPVRN NPMII AILHV RWEQF FOKEJ SEIAH URAWW RAMAH KGVBV RNAHO ZILLR AGENN ZWFOX EHOAH VRVOH EASLA QDTIS RRRRT HTPLE TLEFT HAAHA WSSEI AHURW WVNZT LETFJ EFOMH ASQOW LGCBI BNLEL IQNHT OIZER REAGO NAQDL IQNHT VEGED VEAVE ALDFF OFTLE MAXFR RSSKC NNXEW LTRUG VRUCB NBIHU HDHOT IZETT AHQMN NAIBN NNGDA SPPTE RRHDW RAMJU MLKCT IJELE QOGTV NYEWT TFHNW TLEBX PAFSW OBOYT LETIS RRRYA QDMAA SMEQO GTVNY EWTQC LRTTM IWDJP BNPIV DEAAH FOKEJ SPEYT LLAOL TPIWE GTZRI ELTTT XTVHA SVIGC RNNNA YWAEN AWVOH OYKJP VEAIH EPCEA MTLEM ABONW BTATL ECAZE TTAHT TMAAS MEWAL TPBEA WLKWH DHOTI ZEEIA HLERA QDHOM AVNTA VNAHP LJBRA PYQMI IAIGC BNBIH UHDHO TIZEV NAHIE SSPWV NUOYT LEVOM SPLCO SITGF FXEKT LETIS RRRSU GTTLZ HTPSS WEDAW AUWLE VIUOM THAYF RRBTV OAGAT MAZBA WAWVR HDBNE AQDAH TTAHA SKOFL JGRDK WVIGT LENNN ADSSS DDEAH EQDHO FEVEN UENHD HOAHE ATCHA SOZOE YWEVT WONAS AWUZI GSBTP RTTLE KTHAN ANLGS HDCAW EVUMT LEVIT OHNDA PEMTV RWRAM AHVRV OHEAS LAQDK IRYTI SRRRR TBNNN AYZHL HDDTF JEVEW TLETI SRRRA CZLPE VTWOG THTLE KIRYT OWLKW VNSMI IAIWS HETTH AQDAH CYAEV ENRBT VNZTH TPLSH VRAHT TTOWL KWVNG ANAKS WSEMR NHOYT LEQOW LGCBI BNAHC YKOFL EBYUN AMLXT OAECT PMTLE SIQDT FJEKT LEVES SBNAH MIRAX DBTZH KWHDA HTTMA LYTFA HVRRR EAQDV AFUBB PEBTQ MOWVR MISFC CYFKK WSBOB NAWSS ZVVRQ OIVKC XELIP CBNRE VTWOJ WBTAT LESRE ASIBO RALYT RUMGC BNREV THDEI AHAHJ FFRKE ZIWSA SBIWL ROGTX NKWDH XTLEI RUGVR CKREP TLEPO YKOWV RJFKK FBNTB TWEQM MUYLS KPLEG DVRNP ICKIE ANWSL TRDBN TTXTL EMAOW OKBOP TLEWR UUZWS SPOHN WTPBI EMPGS HDZYA HIEMP VRLSK OBKVN GAMTL EKIRY TISRR RKMYY FEFOK EJSNN PMIIA IAWVR ZVKCB IESTF WRUUE BZBCO CSPLP EJSVU MTLEP OYKOW VRFBI UNHBI FSMAW LBAVC LESAQ DBTRO WSGTW EQMTI OEJYA HTTAH CYAEV EPOAH VETET THDJY TOZLH DVNNN ACSSQ MIIAI WSBAM KXRIU QDVNP OYKGR WSVRV ABIBN ZHIUO DHAZE MAHEB TDOKS JBPET OYHVR HOHPH TTTPE SSLSA MSOYT LEFAO ELTLE RNNLG SHDPE MTVRW RAMMA ASMEH OFOKE JSROW SGTZH HDGUJ HTINH UBNTH NBITI CAPCR AMKAH VRWSH OMHVR LIRRG IBISA WLPHV VKGHT HOUOB NNFIE WLSKA WEAVE NLGSX TGSZL DITGA HASKY LTVRZ BNTLT TLYNH TKUBT XTLEV EPHVV XTLEF ROGVN LLPEM TVRBN KYHEC KVUYF IUQDN NRNTR NPXEF CDPGI ZMIIA IWSLI RRYAQ DAIPC MIBIJ RTTLE RAVIG TVRWS BITGK IWHVR PHVVE AMTCC LEWTH AOVVR AIBNT OKTLE KRIIR EWSHO KRJLX TQEXN KWNFA HCYRE HDLEA PNNLI EIWLD OLTGO QEAHV NOIGT LEPOK STOLU BPFOB AMLMO ZEKTL EAEOK RNKHR RPY\"\"\""
   ]
  },
  {
   "cell_type": "code",
   "execution_count": 2,
   "metadata": {},
   "outputs": [],
   "source": [
    "from collections import Counter\n",
    "\n",
    "# Takes a string or list of items and counts the frequencies of those items\n",
    "# data: The list or string to analyse\n",
    "# max_values: The maximum number of values to display (set to None for no limit)\n",
    "# no_columns: The amount of columns to use in the output\n",
    "def frequency_analysis(data, max_values=30, no_columns=5):\n",
    "    frequencies = Counter()\n",
    "    for item in data:\n",
    "        frequencies[item] += 1\n",
    "    \n",
    "    total = sum(frequencies.values())\n",
    "    column = 1\n",
    "    for item, frequency in frequencies.most_common(max_values):\n",
    "        print(f\"{item}: {frequency:2} ({frequency / total:.2%})\", end=\" \" if column % no_columns else \"\\n\")\n",
    "        column += 1\n",
    "    print(\"\\n-----\")"
   ]
  },
  {
   "cell_type": "code",
   "execution_count": 3,
   "metadata": {},
   "outputs": [
    {
     "name": "stdout",
     "output_type": "stream",
     "text": [
      "T: 184 (8.33%) E: 179 (8.11%) A: 165 (7.47%) R: 131 (5.93%) H: 124 (5.62%)\n",
      "L: 116 (5.25%) I: 114 (5.16%) N: 111 (5.03%) O: 103 (4.66%) V: 102 (4.62%)\n",
      "S: 93 (4.21%) W: 90 (4.08%) B: 76 (3.44%) M: 64 (2.90%) K: 64 (2.90%)\n",
      "P: 62 (2.81%) D: 60 (2.72%) G: 56 (2.54%) F: 53 (2.40%) Y: 45 (2.04%)\n",
      "C: 44 (1.99%) Z: 42 (1.90%) U: 41 (1.86%) Q: 38 (1.72%) X: 26 (1.18%)\n",
      "J: 25 (1.13%) \n",
      "-----\n"
     ]
    }
   ],
   "source": [
    "squished = part_a_text.replace(\" \", \"\")\n",
    "frequency_analysis(squished)"
   ]
  },
  {
   "cell_type": "code",
   "execution_count": 4,
   "metadata": {},
   "outputs": [],
   "source": [
    "# Tools to help decode Vigenere ciphers\n",
    "\n",
    "\n",
    "# A function that searches for multiple ocurrences of letters of the specified size and prints out the most common ones\n",
    "def pattern_finder(text, size):\n",
    "    patterns = Counter()\n",
    "    for index in range(len(text)):\n",
    "        patterns[text[index:index+size]] += 1\n",
    "\n",
    "    column = 0\n",
    "    for item, count in patterns.most_common(30):\n",
    "        print(f\"{item}: {count:2}\", end=\" \")\n",
    "        column += 1\n",
    "        if column % 5 == 0:\n",
    "            print()\n",
    "\n",
    "\n",
    "# A function that searches the given text for a word and figures out where it would line up with a key of a given size\n",
    "def get_alignment(text, word, key_size):\n",
    "    print(f\"{word}/{key_size}\", end=\" \")\n",
    "    alignments = []\n",
    "    position = -1\n",
    "    while True:\n",
    "        position = text.find(word, position+1)\n",
    "        if position >= 0:\n",
    "            alignment = position % key_size\n",
    "            print(f\"{position} ({alignment})\", end=\" \")\n",
    "            alignments.append(alignment)\n",
    "        else:\n",
    "            break\n",
    "    if alignments.count(alignments[0]) == len(alignments):\n",
    "        print(\"All the same!\", end=\"\")\n",
    "    print()\n",
    "\n",
    "\n",
    "# A function to reverse search for a key that would convert the given word to an encoded word\n",
    "def lookup_key(word, encoded_word):\n",
    "    key = \"\"\n",
    "    for letter, encoded_letter in zip(word, encoded_word):\n",
    "        diff = (ord(encoded_letter) - ord(letter)) % 26\n",
    "        key += chr(diff + ord('A'))\n",
    "    print(key)"
   ]
  },
  {
   "cell_type": "code",
   "execution_count": 5,
   "metadata": {},
   "outputs": [
    {
     "name": "stdout",
     "output_type": "stream",
     "text": [
      "TLE: 36 AQD: 12 HVR: 10 RRR: 10 LEV:  8 \n",
      "SRR:  7 EWT:  6 OGT:  6 TWO:  6 OWL:  6 \n",
      "IBN:  6 NNN:  6 MII:  6 IIA:  6 IAI:  6 \n",
      "AHV:  6 TIS:  6 ISR:  6 DHO:  6 HTT:  6 \n",
      "EVE:  6 VNZ:  5 REA:  5 EIA:  5 IAH:  5 \n",
      "GCB:  5 XTL:  5 WVN:  5 VRW:  5 EJS:  5 \n"
     ]
    }
   ],
   "source": [
    "pattern_finder(squished, 3)"
   ]
  },
  {
   "cell_type": "code",
   "execution_count": 6,
   "metadata": {},
   "outputs": [
    {
     "name": "stdout",
     "output_type": "stream",
     "text": [
      "TLE/3 29 (2) 115 (1) 169 (1) 269 (2) 385 (1) 409 (1) 477 (0) 575 (2) 589 (1) 711 (0) 723 (0) 829 (1) 849 (0) 939 (0) 1007 (2) 1029 (0) 1095 (0) 1117 (1) 1199 (2) 1237 (1) 1249 (1) 1359 (0) 1421 (2) 1435 (1) 1493 (2) 1505 (2) 1553 (2) 1621 (1) 1799 (2) 1807 (1) 1971 (0) 1981 (1) 2057 (2) 2107 (1) 2169 (0) 2193 (0) \n",
      "AQD/3 49 (1) 225 (0) 369 (0) 451 (1) 599 (2) 769 (1) 915 (0) 1061 (2) 1145 (2) 1291 (1) 1653 (0) 2043 (0) \n",
      "HVR/3 45 (0) 303 (0) 359 (2) 1051 (1) 1169 (2) 1285 (1) 1777 (1) 1879 (1) 1887 (0) 2077 (1) \n",
      "RRR/3 221 (2) 375 (0) 376 (1) 595 (1) 855 (0) 1071 (0) 1072 (1) 1101 (0) 1287 (0) 1563 (0) \n",
      "LEV/3 30 (0) 170 (2) 270 (0) 830 (2) 878 (2) 1030 (1) 1250 (2) 1972 (1) \n",
      "SRR/3 95 (2) 374 (2) 594 (0) 854 (2) 1070 (2) 1100 (2) 1562 (2) \n",
      "EWT/3 27 (0) 113 (2) 567 (0) 615 (0) 1093 (1) 2091 (0) \n",
      "OGT/3 38 (2) 278 (2) 561 (0) 609 (0) 1113 (0) 1411 (1) \n",
      "TWO/3 41 (2) 239 (2) 281 (2) 989 (2) 1111 (1) 1351 (1) \n",
      "OWL/3 119 (2) 261 (0) 423 (0) 1125 (0) 1177 (1) 1203 (0) \n",
      "TLE/4 29 (1) 115 (3) 169 (1) 269 (1) 385 (1) 409 (1) 477 (1) 575 (3) 589 (1) 711 (3) 723 (3) 829 (1) 849 (1) 939 (3) 1007 (3) 1029 (1) 1095 (3) 1117 (1) 1199 (3) 1237 (1) 1249 (1) 1359 (3) 1421 (1) 1435 (3) 1493 (1) 1505 (1) 1553 (1) 1621 (1) 1799 (3) 1807 (3) 1971 (3) 1981 (1) 2057 (1) 2107 (3) 2169 (1) 2193 (1) \n",
      "AQD/4 49 (1) 225 (1) 369 (1) 451 (3) 599 (3) 769 (1) 915 (3) 1061 (1) 1145 (1) 1291 (3) 1653 (1) 2043 (3) \n",
      "HVR/4 45 (1) 303 (3) 359 (3) 1051 (3) 1169 (1) 1285 (1) 1777 (1) 1879 (3) 1887 (3) 2077 (1) \n",
      "RRR/4 221 (1) 375 (3) 376 (0) 595 (3) 855 (3) 1071 (3) 1072 (0) 1101 (1) 1287 (3) 1563 (3) \n",
      "LEV/4 30 (2) 170 (2) 270 (2) 830 (2) 878 (2) 1030 (2) 1250 (2) 1972 (0) \n",
      "SRR/4 95 (3) 374 (2) 594 (2) 854 (2) 1070 (2) 1100 (0) 1562 (2) \n",
      "EWT/4 27 (3) 113 (1) 567 (3) 615 (3) 1093 (1) 2091 (3) \n",
      "OGT/4 38 (2) 278 (2) 561 (1) 609 (1) 1113 (1) 1411 (3) \n",
      "TWO/4 41 (1) 239 (3) 281 (1) 989 (1) 1111 (3) 1351 (3) \n",
      "OWL/4 119 (3) 261 (1) 423 (3) 1125 (1) 1177 (1) 1203 (3) \n",
      "TLE/5 29 (4) 115 (0) 169 (4) 269 (4) 385 (0) 409 (4) 477 (2) 575 (0) 589 (4) 711 (1) 723 (3) 829 (4) 849 (4) 939 (4) 1007 (2) 1029 (4) 1095 (0) 1117 (2) 1199 (4) 1237 (2) 1249 (4) 1359 (4) 1421 (1) 1435 (0) 1493 (3) 1505 (0) 1553 (3) 1621 (1) 1799 (4) 1807 (2) 1971 (1) 1981 (1) 2057 (2) 2107 (2) 2169 (4) 2193 (3) \n",
      "AQD/5 49 (4) 225 (0) 369 (4) 451 (1) 599 (4) 769 (4) 915 (0) 1061 (1) 1145 (0) 1291 (1) 1653 (3) 2043 (3) \n",
      "HVR/5 45 (0) 303 (3) 359 (4) 1051 (1) 1169 (4) 1285 (0) 1777 (2) 1879 (4) 1887 (2) 2077 (2) \n",
      "RRR/5 221 (1) 375 (0) 376 (1) 595 (0) 855 (0) 1071 (1) 1072 (2) 1101 (1) 1287 (2) 1563 (3) \n",
      "LEV/5 30 (0) 170 (0) 270 (0) 830 (0) 878 (3) 1030 (0) 1250 (0) 1972 (2) \n",
      "SRR/5 95 (0) 374 (4) 594 (4) 854 (4) 1070 (0) 1100 (0) 1562 (2) \n",
      "EWT/5 27 (2) 113 (3) 567 (2) 615 (0) 1093 (3) 2091 (1) \n",
      "OGT/5 38 (3) 278 (3) 561 (1) 609 (4) 1113 (3) 1411 (1) \n",
      "TWO/5 41 (1) 239 (4) 281 (1) 989 (4) 1111 (1) 1351 (1) \n",
      "OWL/5 119 (4) 261 (1) 423 (3) 1125 (0) 1177 (2) 1203 (3) \n",
      "TLE/6 29 (5) 115 (1) 169 (1) 269 (5) 385 (1) 409 (1) 477 (3) 575 (5) 589 (1) 711 (3) 723 (3) 829 (1) 849 (3) 939 (3) 1007 (5) 1029 (3) 1095 (3) 1117 (1) 1199 (5) 1237 (1) 1249 (1) 1359 (3) 1421 (5) 1435 (1) 1493 (5) 1505 (5) 1553 (5) 1621 (1) 1799 (5) 1807 (1) 1971 (3) 1981 (1) 2057 (5) 2107 (1) 2169 (3) 2193 (3) \n",
      "AQD/6 49 (1) 225 (3) 369 (3) 451 (1) 599 (5) 769 (1) 915 (3) 1061 (5) 1145 (5) 1291 (1) 1653 (3) 2043 (3) \n",
      "HVR/6 45 (3) 303 (3) 359 (5) 1051 (1) 1169 (5) 1285 (1) 1777 (1) 1879 (1) 1887 (3) 2077 (1) \n",
      "RRR/6 221 (5) 375 (3) 376 (4) 595 (1) 855 (3) 1071 (3) 1072 (4) 1101 (3) 1287 (3) 1563 (3) \n",
      "LEV/6 30 (0) 170 (2) 270 (0) 830 (2) 878 (2) 1030 (4) 1250 (2) 1972 (4) \n",
      "SRR/6 95 (5) 374 (2) 594 (0) 854 (2) 1070 (2) 1100 (2) 1562 (2) \n",
      "EWT/6 27 (3) 113 (5) 567 (3) 615 (3) 1093 (1) 2091 (3) \n",
      "OGT/6 38 (2) 278 (2) 561 (3) 609 (3) 1113 (3) 1411 (1) \n",
      "TWO/6 41 (5) 239 (5) 281 (5) 989 (5) 1111 (1) 1351 (1) \n",
      "OWL/6 119 (5) 261 (3) 423 (3) 1125 (3) 1177 (1) 1203 (3) \n",
      "TLE/7 29 (1) 115 (3) 169 (1) 269 (3) 385 (0) 409 (3) 477 (1) 575 (1) 589 (1) 711 (4) 723 (2) 829 (3) 849 (2) 939 (1) 1007 (6) 1029 (0) 1095 (3) 1117 (4) 1199 (2) 1237 (5) 1249 (3) 1359 (1) 1421 (0) 1435 (0) 1493 (2) 1505 (0) 1553 (6) 1621 (4) 1799 (0) 1807 (1) 1971 (4) 1981 (0) 2057 (6) 2107 (0) 2169 (6) 2193 (2) \n",
      "AQD/7 49 (0) 225 (1) 369 (5) 451 (3) 599 (4) 769 (6) 915 (5) 1061 (4) 1145 (4) 1291 (3) 1653 (1) 2043 (6) \n",
      "HVR/7 45 (3) 303 (2) 359 (2) 1051 (1) 1169 (0) 1285 (4) 1777 (6) 1879 (3) 1887 (4) 2077 (5) \n",
      "RRR/7 221 (4) 375 (4) 376 (5) 595 (0) 855 (1) 1071 (0) 1072 (1) 1101 (2) 1287 (6) 1563 (2) \n",
      "LEV/7 30 (2) 170 (2) 270 (4) 830 (4) 878 (3) 1030 (1) 1250 (4) 1972 (5) \n",
      "SRR/7 95 (4) 374 (3) 594 (6) 854 (0) 1070 (6) 1100 (1) 1562 (1) \n",
      "EWT/7 27 (6) 113 (1) 567 (0) 615 (6) 1093 (1) 2091 (5) \n",
      "OGT/7 38 (3) 278 (5) 561 (1) 609 (0) 1113 (0) 1411 (4) \n",
      "TWO/7 41 (6) 239 (1) 281 (1) 989 (2) 1111 (5) 1351 (0) \n",
      "OWL/7 119 (0) 261 (2) 423 (3) 1125 (5) 1177 (1) 1203 (6) \n",
      "TLE/8 29 (5) 115 (3) 169 (1) 269 (5) 385 (1) 409 (1) 477 (5) 575 (7) 589 (5) 711 (7) 723 (3) 829 (5) 849 (1) 939 (3) 1007 (7) 1029 (5) 1095 (7) 1117 (5) 1199 (7) 1237 (5) 1249 (1) 1359 (7) 1421 (5) 1435 (3) 1493 (5) 1505 (1) 1553 (1) 1621 (5) 1799 (7) 1807 (7) 1971 (3) 1981 (5) 2057 (1) 2107 (3) 2169 (1) 2193 (1) \n",
      "AQD/8 49 (1) 225 (1) 369 (1) 451 (3) 599 (7) 769 (1) 915 (3) 1061 (5) 1145 (1) 1291 (3) 1653 (5) 2043 (3) \n",
      "HVR/8 45 (5) 303 (7) 359 (7) 1051 (3) 1169 (1) 1285 (5) 1777 (1) 1879 (7) 1887 (7) 2077 (5) \n",
      "RRR/8 221 (5) 375 (7) 376 (0) 595 (3) 855 (7) 1071 (7) 1072 (0) 1101 (5) 1287 (7) 1563 (3) \n",
      "LEV/8 30 (6) 170 (2) 270 (6) 830 (6) 878 (6) 1030 (6) 1250 (2) 1972 (4) \n",
      "SRR/8 95 (7) 374 (6) 594 (2) 854 (6) 1070 (6) 1100 (4) 1562 (2) \n",
      "EWT/8 27 (3) 113 (1) 567 (7) 615 (7) 1093 (5) 2091 (3) \n",
      "OGT/8 38 (6) 278 (6) 561 (1) 609 (1) 1113 (1) 1411 (3) \n",
      "TWO/8 41 (1) 239 (7) 281 (1) 989 (5) 1111 (7) 1351 (7) \n",
      "OWL/8 119 (7) 261 (5) 423 (7) 1125 (5) 1177 (1) 1203 (3) \n",
      "TLE/9 29 (2) 115 (7) 169 (7) 269 (8) 385 (7) 409 (4) 477 (0) 575 (8) 589 (4) 711 (0) 723 (3) 829 (1) 849 (3) 939 (3) 1007 (8) 1029 (3) 1095 (6) 1117 (1) 1199 (2) 1237 (4) 1249 (7) 1359 (0) 1421 (8) 1435 (4) 1493 (8) 1505 (2) 1553 (5) 1621 (1) 1799 (8) 1807 (7) 1971 (0) 1981 (1) 2057 (5) 2107 (1) 2169 (0) 2193 (6) \n",
      "AQD/9 49 (4) 225 (0) 369 (0) 451 (1) 599 (5) 769 (4) 915 (6) 1061 (8) 1145 (2) 1291 (4) 1653 (6) 2043 (0) \n",
      "HVR/9 45 (0) 303 (6) 359 (8) 1051 (7) 1169 (8) 1285 (7) 1777 (4) 1879 (7) 1887 (6) 2077 (7) \n",
      "RRR/9 221 (5) 375 (6) 376 (7) 595 (1) 855 (0) 1071 (0) 1072 (1) 1101 (3) 1287 (0) 1563 (6) \n",
      "LEV/9 30 (3) 170 (8) 270 (0) 830 (2) 878 (5) 1030 (4) 1250 (8) 1972 (1) \n",
      "SRR/9 95 (5) 374 (5) 594 (0) 854 (8) 1070 (8) 1100 (2) 1562 (5) \n",
      "EWT/9 27 (0) 113 (5) 567 (0) 615 (3) 1093 (4) 2091 (3) \n",
      "OGT/9 38 (2) 278 (8) 561 (3) 609 (6) 1113 (6) 1411 (7) \n",
      "TWO/9 41 (5) 239 (5) 281 (2) 989 (8) 1111 (4) 1351 (1) \n",
      "OWL/9 119 (2) 261 (0) 423 (0) 1125 (0) 1177 (7) 1203 (6) \n"
     ]
    }
   ],
   "source": [
    "for key_length in range(3,10):\n",
    "    for pattern in (\"TLE\", \"AQD\", \"HVR\", \"RRR\", \"LEV\", \"SRR\", \"EWT\", \"OGT\", \"TWO\", \"OWL\"):\n",
    "        get_alignment(squished, pattern, key_length)       "
   ]
  },
  {
   "cell_type": "code",
   "execution_count": 7,
   "metadata": {},
   "outputs": [],
   "source": [
    "# Part B \"Nothing to go on?\"\n",
    "part_b_text = \"\"\"97 26 57 58 105 68 57 69 58 35 58 73 88 58 79 45 74 98 104 110 56 80 26 36 97 106 69 75 100 28 54 58 63 108 95 67 39 35 87 102 89 98 78 28 68 57 85 68 67 100 48 46 68 96 67 97 106 49 36 79 64 88 75 106 67 76 58 63 109 78 106 69 74 100 74 89 85 78 48 78 87 96 67 57 67 48 46 68 96 67 98 89 69 37 58 102 107 99 69 45 46 90 85 78 77 69 38 54 57 64 67 96 67 26 78 68 65 77 68 70 29 37 58 74 69 68 68 55 74 68 84 106 99 106 37 45 79 105 90 95 78 65 37 100 74 69 57 106 39 57 98 106 67 75 88 28 36 97 82 106 67 100 65 46 67 85 77 67 69 27 57 100 93 108 56 110 69 37 77 104 106 79 68 48 36 96 63 77 79 79 37 46 59 95 67 67 100 26 36 76 63 100 78 80 26 45 60 63 110 67 96 28 78 67 102 97 56 68 48 58 98 63 67 87 98 28 36 68 86 79 95 108 56 74 100 95 89 68 110 65 44 69 63 96 58 108 67 35 86 74 106 58 110 28 66 58 85 68 56 89 69 65 96 105 70 58 68 37 57 100 74 86 58 68 66 45 79 106 97 95 86 28 47 98 93 100 78 80 26 58 57 63 110 86 67 26 38 98 84 77 78 97 56 35 100 63 97 67 69 67 37 67 63 106 67 106 45 57 67 74 69 68 96 59 35 87 86 88 77 69 38 36 59 94 98 56 68 37 37 99 85 107 56 106 37 57 86 65 110 86 106 37 74 59 106 69 87 78 59 35 87 65 110 78 78 65 37 100 74 100 78 78 65 45 90 65 79 97 97 55 37 100 74 106 99 79 26 46 59 86 67 56 109 29 76 59 84 67 86 89 36 46 90 63 96 68 68 48 46 59 64 90 68 78 37 68 57 105 89 99 69 27 74 67 105 88 89 69 68 35 79 73 86 56 108 67 57 67 105 88 75 69 27 75 60 104 89 85 67 48 78 87 102 78 87 67 26 76 67 64 106 88 100 37 46 90 85 78 67 100 65 45 96 105 70 58 68 37 57 100 74 96 58 108 67 35 86 74 106 58 110 28 66 58 85 68 56 90 28 37 97 73 77 89 69 38 76 87 64 67 98 89 65 78 90 63 68 56 106 69 38 58 102 80 78 78 26 68 79 106 97 66 86 59 35 58 63 106 85 89 69 64 79 64 67 87 69 27 74 68 66 68 58 70 26 36 98 84 106 78 109 36 37 58 64 88 67 69 59 35 79 64 78 89 89 37 56 59 75 86 95 108 67 58 57 82 106 67 100 56 36 79 82 106 99 99 57 36 59 105 78 89 67 27 57 86 63 98 58 68 58 37 70 63 68 99 69 27 57 67 102 107 99 69 45 46 90 85 78 75 89 36 57 86 96 67 57 106 36 68 57 93 89 98 90 65 46 96 65 110 95 89 68 45 69 64 67 77 69 38 54 59 75 108 86 100 48 48 57 94 106 97 108 26 65 68 96 67 57 69 67 35 76 102 78 89 97 65 45 68 102 110 85 78 65 37 100 86 79 67 78 59 35 58 63 86 95 108 67 58 57 65 78 89 67 27 54 79 84 77 67 69 36 35 58 76 67 78 110 56 74 68 96 106 99 107 47 37 69 85 68 56 68 65 67 90 74 78 89 89 37 46 90 63 77 67 68 48 78 89 63 97 56 89 37 68 59 94 77 67 89 69 76 57 84 106 66 108 26 45 76 65 79 97 97 59 57 70 63 79 99 97 26 36 99 102 110 56 97 47 37 69 64 96 78 109 29 57 96 95 110 75 67 66 78 59 82 86 89 89 37 67 59 73 77 95 70 55 57 100 93 69 95 110 37 68 57 73 109 78 108 67 54 59 64 108 86 69 57 36 90 65 97 56 106 36 76 79 106 97 66 69 55 74 57 74 88 78 110 56 56 59 75 68 58 70 29 37 100 63 110 67 77 45 37 69 104 97 89 89 39 35 68 85 107 56 110 58 36 57 85 78 59 108 26 57 67 75 68 56 106 69 45 60 63 96 68 108 48 46 96 106 99 58 110 37 68 57 75 110 56 87 29 76 79 102 110 56 97 56 35 79 74 100 95 110 47 37 69 64 100 58 109 26 57 67 84 69 68 68 26 44 69 63 77 67 67 56 74 90 85 80 56 96 28 77 60 104 67 67 67 56 77 78 85 79 86 106 37 37 88 74 100 56 108 65 58 58 85 68 77 96 28 78 68 63 110 67 77 48 78 87 102 96 78 110 48 45 67 75 68 56 88 28 47 68 96 89 67 110 28 46 90 102 110 88 106 36 77 96 73 77 95 110 58 57 100 93 110 58 90 28 37 97 73 100 78 80 26 58 57 63 110 89 89 27 77 57 93 106 75 106 67 76 59 94 96 58 79 27 45 57 92 69 99 78 65 78 69 63 78 58 70 27 37 68 63 96 67 78 59 35 99 85 110 86 106 59 37 60 63 88 58 79 45 74 98 104 89 88 68 26 35 68 96 89 67 106 37 74 67 82 69 57 78 59 64 59 106 78 95 110 38 74 100 95 78 58 106 69 48 57 73 78 95 110 37 68 57 92 69 97 108 26 64 68 102 69 99 78 28 67 57 74 100 56 68 45 35 86 85 110 79 79 65 76 87 102 78 95 110 37 37 59 106 67 58 98 37 68 57 94 106 99 67 36 46 79 64 96 89 106 39 35 67 65 98 78 109 26 36 96 92 89 99 108 65 46 57 64 89 67 79 27 35 59 106 78 89 67 26 57 67 74 96 58 89 36 46 96 75 110 86 67 27 45 68 85 110 86 78 59 57 68 84 69 68 68 69 74 57 92 67 99 89 69 64 78 82 106 97 108 49 35 70 102 77 95 78 65 78 89 106 67 76 78 45 35 57 103 89 99 97 65 76 59 65 107 87 69 27 54 79 64 97 67 69 36 35 57 102 110 88 100 26 36 79 95 89 95 110 45 68 96 104 67 66 100 26 65 59 63 77 99 69 37 45 90 85 68 56 69 38 36 98 65 80 56 69 57 66 96 106 67 79 69 28 75 67 73 100 56 96 26 36 68 85 106 99 108 47 76 59 76 67 66 78 59 74 67 96 69 68 77 26 57 100 93 106 78 109 36 47 58 63 77 89 67 45 74 98 104 100 78 80 26 68 57 64 69 75 110 65 65 57 85 77 78 90 28 47 68 96 69 75 78 28 66 58 63 77 89 67 69 74 68 75 70 95 68 26 77 79 102 110 78 108 28 56 79 104 77 56 68 39 57 100 74 78 58 88 28 47 79 106 97 67 69 37 68 57 104 106 79 68 48 36 78 105 89 95 77 65 35\"\"\""
   ]
  },
  {
   "cell_type": "code",
   "execution_count": 8,
   "metadata": {},
   "outputs": [
    {
     "name": "stdout",
     "output_type": "stream",
     "text": [
      "64\n",
      "{26, 27, 28, 29, 35, 36, 37, 38, 39, 44, 45, 46, 47, 48, 49, 54, 55, 56, 57, 58, 59, 60, 63, 64, 65, 66, 67, 68, 69, 70, 73, 74, 75, 76, 77, 78, 79, 80, 82, 84, 85, 86, 87, 88, 89, 90, 92, 93, 94, 95, 96, 97, 98, 99, 100, 102, 103, 104, 105, 106, 107, 108, 109, 110}\n"
     ]
    }
   ],
   "source": [
    "nums = [int(n) for n in part_b_text.split(\" \")]\n",
    "unique_nums = set(nums)\n",
    "print(len(unique_nums))\n",
    "print(unique_nums)"
   ]
  },
  {
   "cell_type": "code",
   "execution_count": 9,
   "metadata": {},
   "outputs": [
    {
     "name": "stdout",
     "output_type": "stream",
     "text": [
      "67: 91 (6.09%) 68: 75 (5.02%) 78: 69 (4.62%) 69: 61 (4.08%) 57: 57 (3.82%)\n",
      "106: 53 (3.55%) 58: 47 (3.15%) 89: 46 (3.08%) 37: 44 (2.95%) 110: 40 (2.68%)\n",
      "56: 37 (2.48%) 96: 37 (2.48%) 79: 36 (2.41%) 100: 36 (2.41%) 74: 34 (2.28%)\n",
      "65: 34 (2.28%) 59: 33 (2.21%) 77: 31 (2.07%) 63: 30 (2.01%) 97: 29 (1.94%)\n",
      "36: 29 (1.94%) 26: 28 (1.87%) 86: 26 (1.74%) 35: 24 (1.61%) 85: 24 (1.61%)\n",
      "45: 23 (1.54%) 95: 23 (1.54%) 99: 22 (1.47%) 108: 21 (1.41%) 28: 20 (1.34%)\n",
      "64: 20 (1.34%) 75: 19 (1.27%) 98: 18 (1.20%) 90: 18 (1.20%) 102: 17 (1.14%)\n",
      "46: 17 (1.14%) 76: 17 (1.14%) 88: 16 (1.07%) 48: 15 (1.00%) 87: 14 (0.94%)\n",
      "27: 13 (0.87%) 66: 12 (0.80%) 70: 11 (0.74%) 104: 10 (0.67%) 105:  9 (0.60%)\n",
      "73:  9 (0.60%) 47:  9 (0.60%) 80:  8 (0.54%) 109:  8 (0.54%) 38:  8 (0.54%)\n",
      "84:  8 (0.54%) 93:  7 (0.47%) 54:  6 (0.40%) 107:  6 (0.40%) 82:  6 (0.40%)\n",
      "39:  5 (0.33%) 29:  5 (0.33%) 60:  5 (0.33%) 94:  5 (0.33%) 55:  4 (0.27%)\n",
      "92:  4 (0.27%) 49:  2 (0.13%) 44:  2 (0.13%) 103:  1 (0.07%) \n",
      "-----\n"
     ]
    }
   ],
   "source": [
    "frequency_analysis(nums, 64)"
   ]
  },
  {
   "cell_type": "code",
   "execution_count": null,
   "metadata": {},
   "outputs": [],
   "source": []
  }
 ],
 "metadata": {
  "kernelspec": {
   "display_name": "Python 3 (ipykernel)",
   "language": "python",
   "name": "python3"
  },
  "language_info": {
   "codemirror_mode": {
    "name": "ipython",
    "version": 3
   },
   "file_extension": ".py",
   "mimetype": "text/x-python",
   "name": "python",
   "nbconvert_exporter": "python",
   "pygments_lexer": "ipython3",
   "version": "3.12.0"
  }
 },
 "nbformat": 4,
 "nbformat_minor": 4
}
