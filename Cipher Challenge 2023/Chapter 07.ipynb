{
 "cells": [
  {
   "cell_type": "markdown",
   "metadata": {},
   "source": [
    "#### Cipher Challenge 2023\n",
    "### Chapter 07 / 2023-Nov-23\n",
    "\n",
    "Challenge link https://www.cipherchallenge.org/challenge/challenge-7/"
   ]
  },
  {
   "cell_type": "code",
   "execution_count": 1,
   "metadata": {},
   "outputs": [],
   "source": [
    "# Part A - \"Objet Trouve\"\n",
    "part_a_text = \"\"\"OFHVG PMRZR DLJEA BTRNE KGJYT LKUVO JJXNU OTWPR VAJIW JGKNJ GBXLW VHUGY JZRGJ LQZFE CYDRR QHVZE HGJLR VWFCN JSIYQ DNKAN UHMRR QYYNK XRPSJ KXRTM WFQZC PXZIG QATDL NTWJI HROHS UMAIA MRXUG JTEXV PBJJX UGPSM IFVPL RXVQU NEMGU OJGVB OPXVH GQZJE HUKTY YIGGE YFJNP LSTVL RAJUX RNLLI EZULS KJEQT YYIZC UTIXB VOJSS BMZJC PRTZN EEYTL XWSEF DNKLG JLMFT RVOFK LRYVZ CHOGH GCIGQ KJTMC JLWZX VHVZE HGJLY VPRIY FDMGU LQWMA VOJGS YKJJR VPJPA VWNPK NTEAU LJNLL OHNJM REVZC HAVIW VEXKA YYIUC ZYPXL RPSXE AFAMV EODYJ MMNVL IGLEC ZNEKZ CRJJM GJHWU XBTLF UEQFL IKSJJ PHYMG KZJEG EAWYV HHUPS XEGTH SJTBU PYZSA EPUYI ETLFU MAIVK WFLEV QLQAU PSJXR CKTWV BYZNK ANUVS CCJJL SZWCQ AYVHG JLURX GGYSK LNVPB FVXGK TLXJJ HYNEF IVNEK BPPPE SJAVZ NMYNI JRFYG ATSVR CRNKF HVPBF RQGYM FAGJL SVAEG JWLMG UDNCP TGATE EAADF PLRTL NJQNK ZNVWY GAYVV GQAMV GUKLK UINTL XKGUK LKYEE RLWZY AFLWJ XNPKY YEGVO JDIQK JFCIK CTNEI ECUIK LRCAY FVAGF LVRRT HQYEI GITKL NEJJG XRFFT LVEGJ TDQRP KFKMB PATII PQYIK LREHZ JIBHT WZWYG ZIVEG JHXDM FCKAV RGWYJ RRQVO FKCBW KTESG RSFEX BEVSU YPVHS PJHTA MVVVP CJJXV IHYZS AKUYF XUGJN IGHOZ YRRPG ZXLVE QBSUM AIAMV EPEPI VRGCZ MVEQQ MYYIY KIWRV LCAYY IZCUT IMBDQ JTXZQ ZYJXE QULCC GQAMZ WQGJN JMBPD MZPRY LHRRA QAPES JHVWT IEVHN ELBYA MVYAH VWKYA CAJPS HPNRR RPCTJ KSOGS DZRTC AYYIS QVYFJ GJLQR HQGYY YIOQV PYIUC KYROR PMWFQ GJLXY IYXLX NEFLB XKSAG VKKLR XLWPZ NNBFS PRKAJ DWVPV ZIGBN SJTXV QUFEH GJLNE ZRUAN XEGKV SJFLR PSBIE VVSJI FVHGC MFJLI KLNVP YNEFG EYIIZ GSDCM XGSDK LNVOJ NEFGU LRKRF PSKLR HAFKX UGAND IBHON JJNNS LZZRP AMRXU GZJVQ FVVMR ZRDLJ EIAIH LVHOA HSVWG CIQZW UGKLR RTQMG FSXVO NVZRU ATMMF KAZJX UGYJD YFVZZ IIYAI JRVVU RYYEG VOJPA VNSXV RQCUT KLRTP SYMFR SFTIG QKTKL RKYGZ HQKUL ZJGJH YNIEG UTKIA QBLYX UGUHF RFKKJ IXUGT TJXEG JJEXQ KZHFZ RTFGP TVPRJ IXBPZ YYEGU VRVSS VOJKI YGNWR QFTLH VMIGK GPXUG HQIIF HVWUH RCSJI WJGYJ JIAVM WFQGJ LRRRB TPYJI YHMZI XUGYR FVRVO JPGBP KZTXR FAMVM EQDSK IFVZF EHRUA FSPVU OJUXU CAYYI AQAJW SHPKN EXUGZ UZRRQ MYYIO QVPNE FVFUV HBPVZ IZRTF TNRFJ VQVWN PKLZH QGUYP TRYYN KIEKA NJGYG HWKLN VZTDI GJPSX MFXLW PAEQU LZRBW YMFYF GOTCH NPKSF TBNPH VQNPD TIXUJ PXFJS KJJNS HNKTM IENVT BXUGJ NIGHO ZYRRP GZMFA RXLWT PBULM VQNAI JKSGJ LNEZR UANXE GKVSZ AVNSK FVJCY IKLRV LCKSS VOJDI FUHLV WRPAY FIAIS FEHSQ YDFYE QDSGI EWZFC MGFLK VEGGK RPSJP HYKIZ RAYFH REYDG XVVIZ KMSAV ZRVRR YJGEE GKYFA BTRBZ XUVOJ GMAML WKSAU HLVRG UAMVR VCTXL VRAVZ NMYNI JRFYG ATSVR CRYYI PKWMV VNPKX YIQUV RVPVI OYFRG JPXRA SWSFW JNKYD FYEUZ NEGRT LQPQV UZRRM FKLXK CYGZ\"\"\""
   ]
  },
  {
   "cell_type": "code",
   "execution_count": 2,
   "metadata": {},
   "outputs": [],
   "source": [
    "from collections import Counter\n",
    "\n",
    "# Takes a string or list of items and counts the frequencies of those items\n",
    "# data: The list or string to analyse\n",
    "# max_values: The maximum number of values to display (set to None for no limit)\n",
    "# no_columns: The amount of columns to use in the output\n",
    "def frequency_analysis(data, max_values=30, no_columns=5):\n",
    "    frequencies = Counter()\n",
    "    for item in data:\n",
    "        frequencies[item] += 1\n",
    "    \n",
    "    total = sum(frequencies.values())\n",
    "    column = 1\n",
    "    for item, frequency in frequencies.most_common(max_values):\n",
    "        print(f\"{item}: {frequency:2} ({frequency / total:.2%})\", end=\" \" if column % no_columns else \"\\n\")\n",
    "        column += 1\n",
    "    print(\"\\n-----\")"
   ]
  },
  {
   "cell_type": "code",
   "execution_count": 3,
   "metadata": {},
   "outputs": [
    {
     "name": "stdout",
     "output_type": "stream",
     "text": [
      "V: 136 (6.59%) J: 125 (6.06%) R: 121 (5.86%) G: 117 (5.67%) Y: 113 (5.47%)\n",
      "K: 95 (4.60%) L: 92 (4.46%) I: 92 (4.46%) F: 87 (4.22%) E: 87 (4.22%)\n",
      "P: 84 (4.07%) A: 83 (4.02%) N: 80 (3.88%) Z: 79 (3.83%) U: 76 (3.68%)\n",
      "S: 72 (3.49%) T: 70 (3.39%) X: 69 (3.34%) H: 67 (3.25%) M: 63 (3.05%)\n",
      "Q: 63 (3.05%) W: 49 (2.37%) C: 47 (2.28%) B: 36 (1.74%) O: 32 (1.55%)\n",
      "D: 29 (1.41%) \n",
      "-----\n"
     ]
    }
   ],
   "source": [
    "squished = part_a_text.replace(\" \", \"\")\n",
    "frequency_analysis(squished)"
   ]
  },
  {
   "cell_type": "code",
   "execution_count": 4,
   "metadata": {},
   "outputs": [],
   "source": [
    "# Tools to help decode Vigenere ciphers\n",
    "\n",
    "\n",
    "# A function that searches for multiple ocurrences of letters of the specified size and prints out the most common ones\n",
    "def pattern_finder(text, size):\n",
    "    patterns = Counter()\n",
    "    for index in range(len(text)):\n",
    "        patterns[text[index:index+size]] += 1\n",
    "\n",
    "    column = 0\n",
    "    for item, count in patterns.most_common(30):\n",
    "        print(f\"{item}: {count:2}\", end=\" \")\n",
    "        column += 1\n",
    "        if column % 5 == 0:\n",
    "            print()\n",
    "\n",
    "\n",
    "# A function that searches the given text for a word and figures out where it would line up with a key of a given size\n",
    "def get_alignment(text, word, key_size):\n",
    "    print(f\"{word}/{key_size}\", end=\" \")\n",
    "    alignments = []\n",
    "    position = -1\n",
    "    while True:\n",
    "        position = text.find(word, position+1)\n",
    "        if position >= 0:\n",
    "            alignment = position % key_size\n",
    "            print(f\"{position} ({alignment})\", end=\" \")\n",
    "            alignments.append(alignment)\n",
    "        else:\n",
    "            break\n",
    "    if alignments.count(alignments[0]) == len(alignments):\n",
    "        print(\"All the same!\", end=\"\")\n",
    "    print()\n",
    "\n",
    "\n",
    "# A function to reverse search for a key that would convert the given word to an encoded word\n",
    "def lookup_key(word, encoded_word):\n",
    "    key = \"\"\n",
    "    for letter, encoded_letter in zip(word, encoded_word):\n",
    "        diff = (ord(encoded_letter) - ord(letter)) % 26\n",
    "        key += chr(diff + ord('A'))\n",
    "    print(key)"
   ]
  },
  {
   "cell_type": "code",
   "execution_count": 5,
   "metadata": {},
   "outputs": [
    {
     "name": "stdout",
     "output_type": "stream",
     "text": [
      "XUG: 12 GJL: 11 VOJ: 10 YYI: 10 KLR:  9 \n",
      "AMV:  7 NPK:  5 KLN:  5 NEF:  5 XLW:  4 \n",
      "RRQ:  4 HGJ:  4 RPS:  4 AYY:  4 XEG:  4 \n",
      "LNV:  4 EGJ:  4 IKL:  4 CAY:  4 RUA:  4 \n",
      "VRV:  4 FHV:  3 NEK:  3 JJX:  3 UGY:  3 \n",
      "GYJ:  3 EHG:  3 KAN:  3 PSJ:  3 MWF:  3 \n"
     ]
    }
   ],
   "source": [
    "pattern_finder(squished, 3)"
   ]
  },
  {
   "cell_type": "code",
   "execution_count": 7,
   "metadata": {},
   "outputs": [
    {
     "name": "stdout",
     "output_type": "stream",
     "text": [
      "XUG/5 152 (2) 164 (4) 890 (0) 1244 (4) 1268 (3) 1334 (4) 1424 (4) 1436 (1) 1502 (2) 1550 (0) 1616 (1) 1766 (1) \n",
      "GJL/5 63 (3) 81 (1) 279 (4) 321 (1) 549 (4) 627 (2) 1065 (0) 1095 (0) 1155 (0) 1533 (3) 1803 (3) \n",
      "VOJ/5 28 (3) 250 (0) 340 (0) 718 (3) 1222 (2) 1360 (0) 1480 (0) 1558 (3) 1840 (0) 1942 (2) \n",
      "YYI/5 204 (4) 240 (0) 390 (0) 936 (1) 948 (3) 1056 (1) 1074 (4) 1602 (2) 1626 (1) 1992 (2) \n",
      "KLR/5 289 (4) 739 (4) 799 (4) 1117 (2) 1237 (2) 1307 (2) 1375 (0) 1393 (3) 1831 (1) \n",
      "KLR/5 289 (4) 739 (4) 799 (4) 1117 (2) 1237 (2) 1307 (2) 1375 (0) 1393 (3) 1831 (1) \n",
      "NPK/5 357 (2) 711 (1) 1659 (4) 1725 (0) 2001 (1) \n",
      "KLN/5 559 (4) 763 (3) 1195 (0) 1219 (4) 1687 (2) \n",
      "NEF/5 577 (2) 1105 (0) 1201 (1) 1225 (0) 1633 (3) \n",
      "XLW/5 52 (2) 1120 (0) 1702 (2) 1786 (1) \n",
      "XUG/6 152 (2) 164 (2) 890 (2) 1244 (2) 1268 (2) 1334 (2) 1424 (2) 1436 (2) 1502 (2) 1550 (2) 1616 (2) 1766 (2) All the same!\n",
      "GJL/6 63 (3) 81 (3) 279 (3) 321 (3) 549 (3) 627 (3) 1065 (3) 1095 (3) 1155 (3) 1533 (3) 1803 (3) All the same!\n",
      "VOJ/6 28 (4) 250 (4) 340 (4) 718 (4) 1222 (4) 1360 (4) 1480 (4) 1558 (4) 1840 (4) 1942 (4) All the same!\n",
      "YYI/6 204 (0) 240 (0) 390 (0) 936 (0) 948 (0) 1056 (0) 1074 (0) 1602 (0) 1626 (0) 1992 (0) All the same!\n",
      "KLR/6 289 (1) 739 (1) 799 (1) 1117 (1) 1237 (1) 1307 (5) 1375 (1) 1393 (1) 1831 (1) \n",
      "KLR/6 289 (1) 739 (1) 799 (1) 1117 (1) 1237 (1) 1307 (5) 1375 (1) 1393 (1) 1831 (1) \n",
      "NPK/6 357 (3) 711 (3) 1659 (3) 1725 (3) 2001 (3) All the same!\n",
      "KLN/6 559 (1) 763 (1) 1195 (1) 1219 (1) 1687 (1) All the same!\n",
      "NEF/6 577 (1) 1105 (1) 1201 (1) 1225 (1) 1633 (1) All the same!\n",
      "XLW/6 52 (4) 1120 (4) 1702 (4) 1786 (4) All the same!\n",
      "XUG/7 152 (5) 164 (3) 890 (1) 1244 (5) 1268 (1) 1334 (4) 1424 (3) 1436 (1) 1502 (4) 1550 (3) 1616 (6) 1766 (2) \n",
      "GJL/7 63 (0) 81 (4) 279 (6) 321 (6) 549 (3) 627 (4) 1065 (1) 1095 (3) 1155 (0) 1533 (0) 1803 (4) \n",
      "VOJ/7 28 (0) 250 (5) 340 (4) 718 (4) 1222 (4) 1360 (2) 1480 (3) 1558 (4) 1840 (6) 1942 (3) \n",
      "YYI/7 204 (1) 240 (2) 390 (5) 936 (5) 948 (3) 1056 (6) 1074 (3) 1602 (6) 1626 (2) 1992 (4) \n",
      "KLR/7 289 (2) 739 (4) 799 (1) 1117 (4) 1237 (5) 1307 (5) 1375 (3) 1393 (0) 1831 (4) \n",
      "KLR/7 289 (2) 739 (4) 799 (1) 1117 (4) 1237 (5) 1307 (5) 1375 (3) 1393 (0) 1831 (4) \n",
      "NPK/7 357 (0) 711 (4) 1659 (0) 1725 (3) 2001 (6) \n",
      "KLN/7 559 (6) 763 (0) 1195 (5) 1219 (1) 1687 (0) \n",
      "NEF/7 577 (3) 1105 (6) 1201 (4) 1225 (0) 1633 (2) \n",
      "XLW/7 52 (3) 1120 (0) 1702 (1) 1786 (1) \n"
     ]
    }
   ],
   "source": [
    "for key_length in range(5,8):\n",
    "    for pattern in (\"XUG\", \"GJL\", \"VOJ\", \"YYI\", \"KLR\", \"KLR\", \"NPK\", \"KLN\", \"NEF\", \"XLW\"):\n",
    "        get_alignment(squished, pattern, key_length)"
   ]
  },
  {
   "cell_type": "code",
   "execution_count": 8,
   "metadata": {},
   "outputs": [
    {
     "name": "stdout",
     "output_type": "stream",
     "text": [
      "XUG: ENC\n",
      "GJL: NCH\n",
      "VOJ: CHF\n",
      "YYI: FRE\n",
      "NPK: UIG\n",
      "KLN: REJ\n",
      "NEF: UXB\n",
      "XLW: EES\n"
     ]
    }
   ],
   "source": [
    "for pattern in (\"XUG\", \"GJL\", \"VOJ\", \"YYI\", \"NPK\", \"KLN\", \"NEF\", \"XLW\"):\n",
    "    print(pattern, end=\": \")\n",
    "    lookup_key(\"THE\", pattern)"
   ]
  },
  {
   "cell_type": "code",
   "execution_count": 9,
   "metadata": {},
   "outputs": [],
   "source": [
    "# ..enc.\n",
    "# ...nch\n",
    "# f...ch\n",
    "# fre..."
   ]
  },
  {
   "cell_type": "code",
   "execution_count": 10,
   "metadata": {},
   "outputs": [],
   "source": [
    "# A method to decode/encode a Vigenere cipher.  Case and punctuation are preserved.\n",
    "# text: The text to encode\n",
    "# key: The key to use\n",
    "# encode: If set to True, will encode the given text instead of decoding it\n",
    "def vigenere(text, key, encode=False):\n",
    "    shifts = [ord(letter.upper()) - ord(\"A\") for letter in key]\n",
    "    key_length = len(key)\n",
    "    key_index = 0\n",
    "    for letter in text:\n",
    "        letter_val = ord(letter)\n",
    "        if letter.isupper():\n",
    "            offset = ord(\"A\")\n",
    "        elif letter.islower():\n",
    "            offset = ord(\"a\")\n",
    "        else:\n",
    "            print(letter, end=\"\")\n",
    "            continue\n",
    "\n",
    "        if encode:\n",
    "            shift = shifts[key_index]\n",
    "        else:\n",
    "            shift = -shifts[key_index]\n",
    "\n",
    "        print(chr((((letter_val - offset) + shift) % 26) + offset), end=\"\")\n",
    "        key_index = (key_index + 1) % key_length\n",
    "    print()"
   ]
  },
  {
   "cell_type": "code",
   "execution_count": 11,
   "metadata": {},
   "outputs": [
    {
     "name": "stdout",
     "output_type": "stream",
     "text": [
      "JODIEIHAVEBEENWORKINGTHROUGHTHESTASHOFLETTERSWEDISCOVEREDHEREINTHELIBRARYANDFOUNDTHEMESSAGEBELOWITWASAHANDWRITTENLETTERFROMMAISIETOTOMHARPERDEMANDINGTHATHECONTINUESTHEINVESTIGATIONINITSHEPROMISEDTOSENDHIMTHETEXTOFANENCRYPTEDTELEGRAMSENTFROMTHEMANORTOTHEBOOKSELLERSINALRESFORDWITHTHEHOPETHATHEWOULDBEABLETODECIPHERITIFOUNDTHETELEGRAMITSELFINTHEPOLICEARCHIVESANDICANSEEWHYMAISIECOULDNTBREAKITTHEHASTYTYPINGANDTHEABBREVIATEDPHRASINGMAKESITHARDTOREADADDEDTOWHICHITISENCRYPTEDUSINGATRANSPOSITIONCIPHERREADINGOFFBYCOLUMNSINSTEADOFROWSITWASONLYWHENISPOTTEDTHEPATTERNTHATIWORKEDOUTWHATWASGOINGONIKNOWYOUWILLBEABLETOBREAKITBUTIWONDERHOWTHENEWRECRUITSWILLGETONANYWAYHEREISMAISIESLETTERTOTHECHIEFDEARESTCHIEFHARPERIUNDERSTANDTHATTHEMEDICALEXAMINERANDTHEATTORNEYGENERALHAVEBOTHACCEPTEDYOURRECOMMENDATIONTORECORDTHECAUSEOFMRISLESDEATHASMISADVENTUREANDTHATYOUDONOTPLANTOCONDUCTANYFURTHERINVESTIGATIONINTOTHECIRCUMSTANCESSURROUNDINGTHEACCIDENTASHEADOFTHELIBRARYATTHEMANORIOBJECTMOSTSTRONGLYTOTHISDECISIONWHILEWECANNOTKNOWFORCERTAINHOWTHEUNFORTUNATEYOUNGMANCAMETOBELYINGATTHEFOOTOFTHELADDERTHEBOOKHEHADTAKENFROMTHESHELVESWASJUSTONEOFTHEVERYVALUABLEITEMSINOURCOLLECTIONANDTHEINVESTIGATIONSBYPINKERTONSESTABLISHEDTHATITWASEXTREMELYLIKELYTHATHEWASENGAGEDINTHEFTATTHETIMEOFHISFALLGIVENTHATHESEEMSTOHAVEBEENENGAGEDBYANESTABLISHEDGANGOFBOOKTHIEVESTOVISITUSTHEREMUSTSURELYBEARISKTHATTHEYWILLSENDANOTHERINHISPLACETODOTHEIRBIDDINGIFTHATWERENOTENOUGHTHENCONSIDERTHEMOSTRECENTDISCOVERYBYPINKERTONSTHATSOMEOFTHETELEGRAMSRECEIVEDBYTHEALRESFORDDEALERSWERESENTFROMTHEMANORITSELFFURTHERMORETHEYCONDUCTEDTHEIROWNTESTSANDESTABLISHEDTHATTHENOTEFOUNDINTHESPINEOFTHEBOOKWASTYPEDONOURVERYOWNSHOLESANDGIDDENTYPEWRITERITISCLEARTHATSOMETHINGISVERYWRONGINOURHOUSEHOLDANDNOPOLICEMANWORTHHISOFFICEWOULDOVERLOOKTHECIRCUMSTANCESHOWEVERCLOSEHEMAYBETOTHEINVESTIGATIONIWILLFORWARDTHETEXTOFTHEMESSAGESENTTOENGLANDFORYOUROWNPERUSALITDEFEATEDMYOWNATTEMPTTODECRYPTITBUTIFYOUAREPREPAREDTOWORKWITHTHEPINKERTONSAGENTSTHENIAMSUREYOUWILLBEABLETOBREAKTHECIPHERANDSHEDSOMELIGHTONTHISAWFULAFFAIRYOURSSINCERELYMISSMAISIESTYLES\n"
     ]
    }
   ],
   "source": [
    "vigenere(squished, \"french\")"
   ]
  },
  {
   "cell_type": "markdown",
   "metadata": {},
   "source": [
    "# Edited for clarity\n",
    "Jodie,\n",
    "I have been working through the stash of letters we discovered here in the library and found the message below it was a handwritten letter from Maisie to Tom Harper, demanding that he continues the investigation in it she promised to send him the text of an encrypted telegram sent from the manor to the booksellers in Alresford with the hope that he would be able to decipher it i found the telegram itself in the police archives and I can see why Maisie couldnt break it the hasty typing and the abbreviated phrasing makes it hard to read added to which it is encrypted using a transposition cipher reading off by columns instead of rows it was only when is potted the pattern that i worked out what was going on i know you will be able to break it but i wonder how the new recruits will get on anyway here is mai sies letter to the chief dearest chief harper i understand that the medical examiner and the attorney general have both accepted your recommendation to record the cause of Mr Isles' death as misadventure and that you do not plan to conduct any further investigation into the circumstances surrounding the accident as head of the library at the manor I object most strongly to this decision while we cannot know for certain how the unfortunate young man came to belying at the foot of the ladder the book he had taken from the shelves was just one of the very valuable items in our collection and the investigations by pinker tons established that it was extremely likely that he was engaged in theft at the time of his fall given that he seems to have been engaged by an established gang of book thieves to visit us there must surely be a risk that they will send another in his place to do their bidding if that were not enough then consider the mostrecent discovery by pinker tons that some of the telegrams received by the Alresford dealers were sent from the manor itself furthermore they conducted their own tests and established that the note found in the spine of the book was typed on our very own Sholes and Gidden typewriter it is clear that something is very wrong in our household and no policeman worth his office would overlook the circumstances however close he maybe to the investigation I will forward the text of the message sent to England for your own perusal it defeated my own attempt to decrypt it but if you are prepared to work with the Pinkertons' agents then iam sure you will be able to break the cipher and shed some light on this awful affair yours sincerely Miss Maisie Styles"
   ]
  },
  {
   "cell_type": "code",
   "execution_count": 12,
   "metadata": {},
   "outputs": [],
   "source": [
    "# Part B \"A travelling salesman?\"\n",
    "part_b_text = \"\"\".- .. -.-- -. .- / --. -.- .-. -.-. - / . .-.. ..- --- .. / ... --. .- . . / .-.. .-.. ... --- -. / --- -.- --- -. ... / -. .- .- --- - / --- .-- -.. ... -- / ... . .- .- - / --- . .--. -. -.-. / . -.. - .-.. ...- / ..- -. - .-. .-.. / .. -.. -.. - .... / .... . .--. - . / ..-. .- .. .- -.. / --. --- ... .-- .-. / . -- ..- .. .-. / . .. -. -- --- / ..- ... .-. ... --. / ... .. . .... -. / -.-- .- .-. ... .-. / . ... -. --- .-. / .-. --- . -.. .-. / . .-.. . --- -. / .--. . ... . . / .... ..- .- . -- / .- .. --- -.-. .-. / -... .-. -- . .. / .. ... ..-. . .-.. / - -. .. .-. - / . -.-- .-.. ...- .- / --- - - - . / ... .-. --- - .-. / -. .-- .- --- .. / --.- .. .. -.- -. / . .- -. - --- / .- . - -. - / - .. . --- . / - -. - ..-. ..- / -. .. -.. ..-. . / . - -- ... .-. / - -- .... . --- / -.-. -.. .. . . / .- -.-- . -.-. -.-- / ..-. .. --- .... . / ... .- .--. . -.-. / -. .-. .-.. -.. .-- / -.. -. ... .. .. / .-.. -. - --. . / .. --- .- .- -.. / ... . . -... ... / . -.. --- ..- .- / ... .-.. .. - .-. / - . ... .-. --- / ... --- ... - .- / .-.. . . .. .- / -.-- .- --. .-.. -. / -.-- --- . ... --- / . .- .-. --- --- / .- -- . --- ... / -. .. ... --. .- / .. .- .... .- .-.. / -. ... - . -.-. / .. - - . ..- / -.-. -.. .-. ... .. / .-- .-.. --. -- -. / .. - . -- .--. / . -. -. . -.. / .-- ...- ..- ..-. -.-- / .-.. .-.. ... -. ...- / -.-- .-. -.. . . / . .-.. - .-. - / .- .-.. --- -.. .--. / .. ... ... -.. .--. / .-. ... -. - -.-- / .-.. .- ... . -.. / . .--. - .-. .--. / --- -.. -. -.-. .. / -.-. -... -. .- .-. / -. .- -.-- .... ... / .--. --- .- .- .-.. / ...- -.-- .-.. . --- / .- .-. .-. -.. .. / .-.. -. ... ... -.-- / .. .. . -.-. --- / .- -.. . ..- . / . - . .- .--. / .- -.. ... .- .--. / -... .-. . .--. --- / .-.. ... - .. ..-. / .-.. . -.-. -.-. .. / ...- . .-. ... .- / . -.. --- --- -.-. / .-- .-. ... --. --- / --- . ..- . -. / -. --- -.-. .-.. --.- / . ..-. . . ... / -. .-. .-. -.-. .- / .-. -.. --.- --- ... / .- .- -.-. .-. .-. / .--. .-.. -. .. . / .... ... - . -... / . -- - . .-. / ... -.. -. .-.. -.-- / .- - .-. . --- / - -. -- . .-. / - -. . .-.. -. / .-.. .- .. ..- .. / - ..-. . . -. / - --. .. ..-. .-.. / .. ... .-- -.. . / -. -.-. -- ... . /\"\"\""
   ]
  },
  {
   "cell_type": "code",
   "execution_count": 13,
   "metadata": {},
   "outputs": [],
   "source": [
    "m2t = {\".-\":\"a\", \"-...\":\"b\", \"-.-.\":\"c\", \"-..\":\"d\", \".\":\"e\",\n",
    "       \"..-.\":\"f\", \"--.\":\"g\", \"....\":\"h\", \"..\":\"i\", \".---\":\"j\",\n",
    "       \"-.-\":\"k\", \".-..\":\"l\", \"--\":\"m\", \"-.\":\"n\", \"---\":\"o\",\n",
    "       \".--.\":\"p\", \"--.-\":\"q\", \".-.\":\"r\", \"...\":\"s\",\n",
    "       \"-\":\"t\", \"..-\":\"u\", \"...-\":\"v\", \".--\":\"w\",\n",
    "       \"-..-\":\"x\", \"-.--\":\"y\", \"--..\":\"z\",\n",
    "       \".----\":\"1\", \"..---\":\"2\", \"...--\":\"3\", \"....-\":\"4\", \".....\":\"5\",\n",
    "       \"-....\":\"6\", \"--...\":\"7\", \"---..\":\"8\", \"----.\":\"9\",\"-----\":\"0\",\n",
    "       \"/\":\" \"}"
   ]
  },
  {
   "cell_type": "code",
   "execution_count": 14,
   "metadata": {},
   "outputs": [
    {
     "name": "stdout",
     "output_type": "stream",
     "text": [
      "aiyna gkrct eluoi sgaee llson okons naaot owdsm seaat oepnc edtlv untrl iddth hepte faiad goswr emuir einmo usrsg siehn yarsr esnor roedr eleon pesee huaem aiocr brmei isfel tnirt eylva ottte srotr nwaoi qiikn eanto aetnt tieoe tntfu nidfe etmsr tmheo cdiee ayecy fiohe sapec nrldw dnsii lntge ioaad seebs edoua slitr tesro sosta leeia yagln yoeso earoo ameos nisga iahal nstec itteu cdrsi wlgmn itemp enned wvufy llsnv yrdee eltrt alodp issdp rsnty lased eptrp odnci cbnar nayhs poaal vyleo arrdi lnssy iieco adeue eteap adsap brepo lstif lecci versa edooc wrsgo oeuen noclq efees nrrca rdqos aacrr plnie hsteb emter sdnly atreo tnmer tneln laiui tfeen tgifl iswde ncmse  "
     ]
    }
   ],
   "source": [
    "squished=\"\"\n",
    "for chunk in part_b_text.split(\" / \"):\n",
    "    for letter in chunk.split(\" \"):\n",
    "        print(m2t[letter], end=\"\")\n",
    "        squished += m2t[letter].upper()\n",
    "    print(\" \", end=\"\")"
   ]
  },
  {
   "cell_type": "code",
   "execution_count": 16,
   "metadata": {},
   "outputs": [
    {
     "name": "stdout",
     "output_type": "stream",
     "text": [
      "2064\n",
      "2, 3, 4, 6, 8, 12, 16, 24, 43, 48, 86, 129, 172, 258, 344, 516, 688, 1032, "
     ]
    }
   ],
   "source": [
    "# Part A tells us that this is a columnular substitution by rows (rowular?)\n",
    "squished = part_a_text.replace(\" \", \"\")\n",
    "\n",
    "length = len(squished)\n",
    "print(length)\n",
    "for n in range(2, length):\n",
    "    if length % n == 0:\n",
    "        print(n, end=\", \")"
   ]
  },
  {
   "cell_type": "code",
   "execution_count": 25,
   "metadata": {},
   "outputs": [
    {
     "name": "stdout",
     "output_type": "stream",
     "text": [
      "OFHVGPMRZRDLJEABTRNEKGJY\n",
      "TLKUVOJJXNUOTWPRVAJIWJGK\n",
      "NJGBXLWVHUGYJZRGJLQZFECY\n",
      "DRRQHVZEHGJLRVWFCNJSIYQD\n",
      "NKANUHMRRQYYNKXRPSJKXRTM\n",
      "WFQZCPXZIGQATDLNTWJIHROH\n",
      "SUMAIAMRXUGJTEXVPBJJXUGP\n",
      "SMIFVPLRXVQUNEMGUOJGVBOP\n",
      "XVHGQZJEHUKTYYIGGEYFJNPL\n",
      "STVLRAJUXRNLLIEZULSKJEQT\n",
      "YYIZCUTIXBVOJSSBMZJCPRTZ\n",
      "NEEYTLXWSEFDNKLGJLMFTRVO\n",
      "FKLRYVZCHOGHGCIGQKJTMCJL\n",
      "WZXVHVZEHGJLYVPRIYFDMGUL\n",
      "QWMAVOJGSYKJJRVPJPAVWNPK\n",
      "NTEAULJNLLOHNJMREVZCHAVI\n",
      "WVEXKAYYIUCZYPXLRPSXEAFA\n",
      "MVEODYJMMNVLIGLECZNEKZCR\n",
      "JJMGJHWUXBTLFUEQFLIKSJJP\n",
      "HYMGKZJEGEAWYVHHUPSXEGTH\n",
      "SJTBUPYZSAEPUYIETLFUMAIV\n",
      "KWFLEVQLQAUPSJXRCKTWVBYZ\n",
      "NKANUVSCCJJLSZWCQAYVHGJL\n",
      "URXGGYSKLNVPBFVXGKTLXJJH\n",
      "YNEFIVNEKBPPPESJAVZNMYNI\n",
      "JRFYGATSVRCRNKFHVPBFRQGY\n",
      "MFAGJLSVAEGJWLMGUDNCPTGA\n",
      "TEEAADFPLRTLNJQNKZNVWYGA\n",
      "YVVGQAMVGUKLKUINTLXKGUKL\n",
      "KYEERLWZYAFLWJXNPKYYEGVO\n",
      "JDIQKJFCIKCTNEIECUIKLRCA\n",
      "YFVAGFLVRRTHQYEIGITKLNEJ\n",
      "JGXRFFTLVEGJTDQRPKFKMBPA\n",
      "TIIPQYIKLREHZJIBHTWZWYGZ\n",
      "IVEGJHXDMFCKAVRGWYJRRQVO\n",
      "FKCBWKTESGRSFEXBEVSUYPVH\n",
      "SPJHTAMVVVPCJJXVIHYZSAKU\n",
      "YFXUGJNIGHOZYRRPGZXLVEQB\n",
      "SUMAIAMVEPEPIVRGCZMVEQQM\n",
      "YYIYKIWRVLCAYYIZCUTIMBDQ\n",
      "JTXZQZYJXEQULCCGQAMZWQGJ\n",
      "NJMBPDMZPRYLHRRAQAPESJHV\n",
      "WTIEVHNELBYAMVYAHVWKYACA\n",
      "JPSHPNRRRPCTJKSOGSDZRTCA\n",
      "YYISQVYFJGJLQRHQGYYYIOQV\n",
      "PYIUCKYRORPMWFQGJLXYIYXL\n",
      "XNEFLBXKSAGVKKLRXLWPZNNB\n",
      "FSPRKAJDWVPVZIGBNSJTXVQU\n",
      "FEHGJLNEZRUANXEGKVSJFLRP\n",
      "SBIEVVSJIFVHGCMFJLIKLNVP\n",
      "YNEFGEYIIZGSDCMXGSDKLNVO\n",
      "JNEFGULRKRFPSKLRHAFKXUGA\n",
      "NDIBHONJJNNSLZZRPAMRXUGZ\n",
      "JVQFVVMRZRDLJEIAIHLVHOAH\n",
      "SVWGCIQZWUGKLRRTQMGFSXVO\n",
      "NVZRUATMMFKAZJXUGYJDYFVZ\n",
      "ZIIYAIJRVVURYYEGVOJPAVNS\n",
      "XVRQCUTKLRTPSYMFRSFTIGQK\n",
      "TKLRKYGZHQKULZJGJHYNIEGU\n",
      "TKIAQBLYXUGUHFRFKKJIXUGT\n",
      "TJXEGJJEXQKZHFZRTFGPTVPR\n",
      "JIXBPZYYEGUVRVSSVOJKIYGN\n",
      "WRQFTLHVMIGKGPXUGHQIIFHV\n",
      "WUHRCSJIWJGYJJIAVMWFQGJL\n",
      "RRRBTPYJIYHMZIXUGYRFVRVO\n",
      "JPGBPKZTXRFAMVMEQDSKIFVZ\n",
      "FEHRUAFSPVUOJUXUCAYYIAQA\n",
      "JWSHPKNEXUGZUZRRQMYYIOQV\n",
      "PNEFVFUVHBPVZIZRTFTNRFJV\n",
      "QVWNPKLZHQGUYPTRYYNKIEKA\n",
      "NJGYGHWKLNVZTDIGJPSXMFXL\n",
      "WPAEQULZRBWYMFYFGOTCHNPK\n",
      "SFTBNPHVQNPDTIXUJPXFJSKJ\n",
      "JNSHNKTMIENVTBXUGJNIGHOZ\n",
      "YRRPGZMFARXLWTPBULMVQNAI\n",
      "JKSGJLNEZRUANXEGKVSZAVNS\n",
      "KFVJCYIKLRVLCKSSVOJDIFUH\n",
      "LVWRPAYFIAISFEHSQYDFYEQD\n",
      "SGIEWZFCMGFLKVEGGKRPSJPH\n",
      "YKIZRAYFHREYDGXVVIZKMSAV\n",
      "ZRVRRYJGEEGKYFABTRBZXUVO\n",
      "JGMAMLWKSAUHLVRGUAMVRVCT\n",
      "XLVRAVZNMYNIJRFYGATSVRCR\n",
      "YYIPKWMVVNPKXYIQUVRVPVIO\n",
      "YFRGJPXRASWSFWJNKYDFYEUZ\n",
      "NEGRTLQPQVUZRRMFKLXKCYGZ\n"
     ]
    }
   ],
   "source": [
    "for row in range(86):\n",
    "    for col in range(24):\n",
    "        print(squished[(row*24)+col], end=\"\")\n",
    "    print()"
   ]
  },
  {
   "cell_type": "code",
   "execution_count": null,
   "metadata": {},
   "outputs": [],
   "source": []
  }
 ],
 "metadata": {
  "kernelspec": {
   "display_name": "Python 3 (ipykernel)",
   "language": "python",
   "name": "python3"
  },
  "language_info": {
   "codemirror_mode": {
    "name": "ipython",
    "version": 3
   },
   "file_extension": ".py",
   "mimetype": "text/x-python",
   "name": "python",
   "nbconvert_exporter": "python",
   "pygments_lexer": "ipython3",
   "version": "3.12.0"
  }
 },
 "nbformat": 4,
 "nbformat_minor": 4
}
