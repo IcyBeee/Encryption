{
 "cells": [
  {
   "cell_type": "markdown",
   "metadata": {},
   "source": [
    "# Cipher Challenge 2023\n",
    "### Chapter 0 (Introduction) / 2023-Sep-07\n",
    "\n",
    "Challenge link https://www.cipherchallenge.org/challenge/introduction/"
   ]
  },
  {
   "cell_type": "code",
   "execution_count": 1,
   "metadata": {},
   "outputs": [],
   "source": [
    "# Part A - \"A letter from Jodie\"\n",
    "part_a_text = \"\"\"\n",
    "ZAWN DWNNU, E YWJ\\'P PDWJG UKQ AJKQCD BKN WHH UKQN OQLLKNP KRAN PDA HWOP BAS UAWNO WJZ SDEHA E SEHH IEOO PDA BNAAHWJYA HEBA, EP EO CKKZ PK XA XWYG EJ PDA KBBEYA SKNGEJC SEPD PDA PAWI. E GJKS EP OQNLNEOAZ UKQ SDAJ E WOGAZ PK NAPQNJ PK PDA WNYDWAKHKCEOPO, XQP E HEGAZ PDA EJPANWYPEKJ SEPD PDA PNWEJAAO WJZ PDANA EO OKIA NAWHHU EJPANAOPEJC OPQBB HQNGEJC EJ PDA WNYDERA. WJUSWU, WBPAN PDA HWOP YKQLHA KB UAWNO E JAAZ OKIA PEIA WSWU BNKI PDA ZWU-PK-ZWU LNAOOQNAO KB HERA WYPEKJ. EB IU IKRA XWYG PK PDA DEOPKNEY BEHAO OQNLNEOAZ UKQ, IU LNKIKPEKJ PK DAWZ KB PDA ZEREOEKJ SWO W YKILHAPA ODKYG PK IA. E OLAJP WJ ARAJEJC SWJZANEJC NKQJZ PDA WNYDERA EJ WSA. E DWZJ\\'P XAAJ CERAJ BQHH WYYAOO XABKNA WJZ DWZ JK EZAW FQOP DKS YKILNADAJOERA PDA YKHHAYPEKJ SWO. EP SWO W HEPPHA KRANSDAHIEJC WP BENOP, XQP E PDEJG E WI CAPPEJC PDA DWJC KB EP. YDKKOEJC PDA NECDP BEHA WO W PNWEJEJC ATANYEOA EO WJ EJPANAOPEJC YDWHHAJCA, XQP E DKLA E SEHH HAWNJ BNKI PDA PNWEJAAO WO SAHH WO BNKI UKQ. E WI CHWZ UKQ PKKG IU WZREYA WJZ WNA PWGEJC W XNAWG. E DKLA UKQ HEGA PDA IWJOEKJ, E JARAN REOEPAZ, XQP E DWRA OAAJ LDKPKO WJZ NAWZ W HKP WXKQP EP. PDA HEXNWNU EO LWNPEYQHWNHU EJPANAOPEJC … E WI HKKGEJC BKNSWNZ PK DAWNEJC XWYG BNKI UKQ. ZEZ UKQ CAP PDA WCWPDW YDNEOPEA E OAJP? DKS WNA UKQ GAALEJC XQOU? E WI CQAOOEJC OQZKGQ WJZ YNKOOSKNZO, PDKQCD PDA XKKGODAHRAO IWU XA YWHHEJC PKK OPNKJCHU. SDEYD NAIEJZO IA, I BNKI PDA LQVVHA CNKQL OAJZO DEO XAOP SEODAO. DA DKLAO PK OAA UKQ SDAJ UKQ CAP XWYG, IWUXA WP KQN XHAPYDHAU IAAPEJC. E DWZ XAPPAN CAP KJ SEPD SKNG, XQP LANDWLO UKQ YWJ DAHL IA SEPD OKIAPDEJC? E BKQJZ W OHEL KB LWLAN PQYGAZ EJ KJA KB PDA BEHAO WJZ SDEHA E YWJ AWOEHU ZAYNULP EP, E PDEJG PDANA EO OKIAPDEJC AHOA DEZZAJ EJ EP. IWUXA E SEHH CAP PDA PNWEJAAO PK PWGA W HKKG WP EP WJZ OAA EB PDAU YWJ BEJZ WJUPDEJC. WHH PDA XAOP, FKZEA\n",
    "\"\"\""
   ]
  },
  {
   "cell_type": "code",
   "execution_count": 2,
   "metadata": {},
   "outputs": [],
   "source": [
    "# Bring in the basic decoder function\n",
    "import string\n",
    "\n",
    "# A simple translation method.\n",
    "# text: The text to translate, in upper case\n",
    "# key: A substitution alphabet, usually in lower case so that the translated characters show up\n",
    "def decode(text, key):\n",
    "    table = str.maketrans(string.ascii_uppercase, key)\n",
    "    print(text.upper().translate(table))"
   ]
  },
  {
   "cell_type": "code",
   "execution_count": 3,
   "metadata": {},
   "outputs": [
    {
     "name": "stdout",
     "output_type": "stream",
     "text": [
      "\n",
      "dear harry, i can't thank you enough for all your support over the last few years and while i will miss the freelance life, it is good to be back in the office working with the team. i know it surprised you when i asked to return to the archaeologists, but i liked the interaction with the trainees and there is some really interesting stuff lurking in the archive. anyway, after the last couple of years i need some time away from the day-to-day pressures of live action. if my move back to the historic files surprised you, my promotion to head of the division was a complete shock to me. i spent an evening wandering round the archive in awe. i hadn't been given full access before and had no idea just how comprehensive the collection was. it was a little overwhelming at first, but i think i am getting the hang of it. choosing the right file as a training exercise is an interesting challenge, but i hope i will learn from the trainees as well as from you. i am glad you took my advice and are taking a break. i hope you like the mansion, i never visited, but i have seen photos and read a lot about it. the library is particularly interesting … i am looking forward to hearing back from you. did you get the agatha christie i sent? how are you keeping busy? i am guessing sudoku and crosswords, though the bookshelves may be calling too strongly. which reminds me, m from the puzzle group sends his best wishes. he hopes to see you when you get back, maybe at our bletchley meeting. i had better get on with work, but perhaps you can help me with something? i found a slip of paper tucked in one of the files and while i can easily decrypt it, i think there is something else hidden in it. maybe i will get the trainees to take a look at it and see if they can find anything. all the best, jodie\n",
      "\n"
     ]
    }
   ],
   "source": [
    "# As this is week 1, it's probably a Caesar cipher.  Signed by Jodie (-4)\n",
    "decode(part_a_text, \"efghijklmnopqrstuvwxyzabcd\")"
   ]
  },
  {
   "cell_type": "code",
   "execution_count": 4,
   "metadata": {},
   "outputs": [],
   "source": [
    "# Part B \"The attachment\"\n",
    "part_b_text = \"\"\"\n",
    "HTRTCK TMTCKJ WFMT BFST XK RATFHTH KWFC TMTH KD BT KWFK X FB XC BDHKFA SFCVTH.\n",
    "\n",
    "TORTEK KWT WFAA XJ WFLCKTS DH X FB VDXCV BFS KWTC X BLJK IT KWT MXRKXB DU F RHLTA WDFO; X UTFH UDH BP JFCXKP FCS BP AXUT.\n",
    "\n",
    "SLHXCV KWT CXVWK X WTFH JDLCSJ DU ETDEAT NWXJETHXCV, ILK NWTC X JTFHRW, X UXCS CD-DCT.\n",
    "\n",
    "HDVTHJ KTAAJ BT KWFK X FB XBFVXCXCV XK FAA FCS KWFK X CTTS KD RFAB SDNC, ILK X RFCCDK.\n",
    "\n",
    "LCATJJ BP ETHJTRLKDH RFC IT UDLCS FCS JKDEETS X NXAA TXKWTH VD BFS DH IT ZXAATS.\n",
    "\n",
    "BFXJXT XJ KWT DCAP DCT X RFC KHLJK, ILK SD X SFHT JWFHT BP UTFHJ NXKW WTH: NDLAS JWT ITAXTMT BT, FCS NDLAS SDXCV JD ELK WTH XC FJ BLRW SFCVTH FJ X FEETFH KD IT XC?\n",
    "\"\"\""
   ]
  },
  {
   "cell_type": "code",
   "execution_count": 5,
   "metadata": {},
   "outputs": [
    {
     "name": "stdout",
     "output_type": "stream",
     "text": [
      "\n",
      "HeReCt eMeCtJ haMe BaSe it RAeaHeH thaC eMeH tD Be that i aB iC BDHtaA SaCVeH.\n",
      "\n",
      "eOReEt the haAA iJ haLCteS DH i aB VDiCV BaS theC i BLJt Ie the MiRtiB DU a RHLeA hDaO; i UeaH UDH BP JaCitP aCS BP AiUe.\n",
      "\n",
      "SLHiCV the CiVht i heaH JDLCSJ DU EeDEAe NhiJEeHiCV, ILt NheC i JeaHRh, i UiCS CD-DCe.\n",
      "\n",
      "HDVeHJ teAAJ Be that i aB iBaViCiCV it aAA aCS that i CeeS tD RaAB SDNC, ILt i RaCCDt.\n",
      "\n",
      "LCAeJJ BP EeHJeRLtDH RaC Ie UDLCS aCS JtDEEeS i NiAA eitheH VD BaS DH Ie ZiAAeS.\n",
      "\n",
      "BaiJie iJ the DCAP DCe i RaC tHLJt, ILt SD i SaHe JhaHe BP UeaHJ Nith heH: NDLAS Jhe IeAieMe Be, aCS NDLAS SDiCV JD ELt heH iC aJ BLRh SaCVeH aJ i aEEeaH tD Ie iC?\n",
      "\n"
     ]
    }
   ],
   "source": [
    "# The page indicates that it is a substitution cipher.\n",
    "# Lots of \"X\" - guess that is I.\n",
    "# Lots of \"KWT\" - probably \"the\".  \"KWFK\" probably \"that\".\n",
    "decode(part_b_text, \"ABCDEaGHIJtLMNOPQRSeUVhiYZ\")"
   ]
  },
  {
   "cell_type": "code",
   "execution_count": 6,
   "metadata": {},
   "outputs": [
    {
     "name": "stdout",
     "output_type": "stream",
     "text": [
      "\n",
      "HeRent eventJ have maSe it RleaHeH than eveH tD me that i am in mDHtal SanVeH.\n",
      "\n",
      "eOReEt the hall iJ haLnteS DH i am VDinV maS then i mLJt Ie the viRtim DU a RHLel hDaO; i UeaH UDH mP JanitP anS mP liUe.\n",
      "\n",
      "SLHinV the niVht i heaH JDLnSJ DU EeDEle NhiJEeHinV, ILt Nhen i JeaHRh, i UinS nD-Dne.\n",
      "\n",
      "HDVeHJ tellJ me that i am imaVininV it all anS that i neeS tD Ralm SDNn, ILt i RannDt.\n",
      "\n",
      "LnleJJ mP EeHJeRLtDH Ran Ie UDLnS anS JtDEEeS i Nill eitheH VD maS DH Ie ZilleS.\n",
      "\n",
      "maiJie iJ the DnlP Dne i Ran tHLJt, ILt SD i SaHe JhaHe mP UeaHJ Nith heH: NDLlS Jhe Ielieve me, anS NDLlS SDinV JD ELt heH in aJ mLRh SanVeH aJ i aEEeaH tD Ie in?\n",
      "\n"
     ]
    }
   ],
   "source": [
    "# \"that i aB iC\" -> B=m, C=n\n",
    "# \"aAA\" -> A=l\n",
    "decode(part_b_text, \"lmnDEaGHIJtLvNOPQRSeUVhiYZ\")"
   ]
  },
  {
   "cell_type": "code",
   "execution_count": 7,
   "metadata": {},
   "outputs": [
    {
     "name": "stdout",
     "output_type": "stream",
     "text": [
      "\n",
      "recent eMents haMe made it clearer than eMer to me that i am in mortal danger.\n",
      "\n",
      "eOceEt the hall is haunted or i am going mad then i must be the Mictim oU a cruel hoaO; i Uear Uor mP sanitP and mP liUe.\n",
      "\n",
      "during the night i hear sounds oU EeoEle NhisEering, but Nhen i search, i Uind no-one.\n",
      "\n",
      "rogers tells me that i am imagining it all and that i need to calm doNn, but i cannot.\n",
      "\n",
      "unless mP Eersecutor can be Uound and stoEEed i Nill either go mad or be Zilled.\n",
      "\n",
      "maisie is the onlP one i can trust, but do i dare share mP Uears Nith her: Nould she belieMe me, and Nould doing so Eut her in as much danger as i aEEear to be in?\n",
      "\n"
     ]
    }
   ],
   "source": [
    "# \"HeRent eventJ have maSe it\" -> H=r, R=c, J=s, S=d\n",
    "# \" am imaVininV it all anS that i neeS tD Ralm SDNn, ILt i RannDt\" -> V=g, D=o, I=b, L=u\n",
    "decode(part_b_text, \"lmnoEaGrbstuMNOPQcdeUghiYZ\")"
   ]
  },
  {
   "cell_type": "code",
   "execution_count": 8,
   "metadata": {},
   "outputs": [
    {
     "name": "stdout",
     "output_type": "stream",
     "text": [
      "\n",
      "recent events have made it clearer than ever to me that i am in mortal danger.\n",
      "\n",
      "except the hall is haunted or i am going mad then i must be the victim of a cruel hoax; i fear for my sanity and my life.\n",
      "\n",
      "during the night i hear sounds of people whispering, but when i search, i find no-one.\n",
      "\n",
      "rogers tells me that i am imagining it all and that i need to calm down, but i cannot.\n",
      "\n",
      "unless my persecutor can be found and stopped i will either go mad or be killed.\n",
      "\n",
      "maisie is the only one i can trust, but do i dare share my fears with her: would she believe me, and would doing so put her in as much danger as i appear to be in?\n",
      "\n"
     ]
    }
   ],
   "source": [
    "# M=v, U=f, O=x, P=y, E=p, N=w, Z=k\n",
    "# Gaps: Q=z, Y=j, G=q\n",
    "decode(part_b_text, \"lmnopaqrbstuvwxyzcdefghijk\")"
   ]
  },
  {
   "cell_type": "code",
   "execution_count": 9,
   "metadata": {},
   "outputs": [
    {
     "name": "stdout",
     "output_type": "stream",
     "text": [
      "Decoded alphabet: firstuvwxyzabcdeghjklmnopq\n",
      "Keyword: fir\n"
     ]
    }
   ],
   "source": [
    "import string\n",
    "\n",
    "# Attempts to determine the keyword used for a substitution cipher\n",
    "# alphabet: The substitution alphabet\n",
    "def decode_key(alphabet):\n",
    "    decoded_alphabet = \"\"\n",
    "    for letter in string.ascii_lowercase:\n",
    "        decoded_alphabet += chr(alphabet.find(letter) + ord(\"a\"))\n",
    "    print(f\"Decoded alphabet: {decoded_alphabet}\")\n",
    "    \n",
    "    remaining_letters = list(string.ascii_lowercase)\n",
    "    for pos, letter in enumerate(decoded_alphabet):\n",
    "        remaining_letters.remove(letter)\n",
    "        next_letter_index = remaining_letters.index(decoded_alphabet[pos+1])\n",
    "        if decoded_alphabet[pos+1:] == \"\".join(remaining_letters[next_letter_index:] + remaining_letters[:next_letter_index]):\n",
    "            print(f\"Keyword: {decoded_alphabet[:pos+2]}\")\n",
    "            break\n",
    "            \n",
    "decode_key(\"lmnopaqrbstuvwxyzcdefghijk\")"
   ]
  },
  {
   "cell_type": "code",
   "execution_count": 10,
   "metadata": {},
   "outputs": [],
   "source": [
    "# Or rather, \"first\"\n",
    "# Oh look - the first letter of each line spells out \"redrum\", or \"murder\" backwards!"
   ]
  },
  {
   "cell_type": "code",
   "execution_count": null,
   "metadata": {},
   "outputs": [],
   "source": []
  }
 ],
 "metadata": {
  "kernelspec": {
   "display_name": "Python 3 (ipykernel)",
   "language": "python",
   "name": "python3"
  },
  "language_info": {
   "codemirror_mode": {
    "name": "ipython",
    "version": 3
   },
   "file_extension": ".py",
   "mimetype": "text/x-python",
   "name": "python",
   "nbconvert_exporter": "python",
   "pygments_lexer": "ipython3",
   "version": "3.12.0"
  }
 },
 "nbformat": 4,
 "nbformat_minor": 4
}
