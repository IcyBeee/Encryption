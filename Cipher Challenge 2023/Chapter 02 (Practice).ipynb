{
 "cells": [
  {
   "cell_type": "markdown",
   "metadata": {},
   "source": [
    "# Cipher Challenge 2023\n",
    "### Chapter 02 (Practice) / 2023-Oct-12\n",
    "\n",
    "Challenge link https://www.cipherchallenge.org/challenge/challenge-2/"
   ]
  },
  {
   "cell_type": "code",
   "execution_count": 1,
   "metadata": {},
   "outputs": [],
   "source": [
    "# Part A - \"The foot of the ladder\"\n",
    "part_a_text = \"\"\"\n",
    "MCT RFJJFXU KGFTW. NFGNPOHMFXU: KXJJ HZTUM MGHFUTT NXCXGM NN: CHGGB FU TFZCMTTU UFUTMB-JFY, HM H RHUJFXU FU AGXSFQTUNT, GCXQT FJOHUQ, MCT OFKGHGFHU RHFJFT JMBOTJ WXPUQ H KXQB HM MCT WXXM XW MCT OFKGHGB OHQQTG. MCT QTNTHJTQ VHJ NOPMNCFUZ H JRHOO KPM SHOPHKOT KXXL MCHM CHQ KTTU MHLTU WGXR MCT MXA JCTOW, AGTJPRHKOB KTWXGT MCT HNNFQTUM. MCT KXXL VHJ OTHMCTG-KXPUQ, XUT XW MCT TFZCM SXOPRTJ FU MCT JX-NHOOTQ HRXUMFOOHQX TQFMFXU, JFZUTQ KB MCT APKOFJCTG. MCT AXOFNT VTGT NHOOTQ HUQ, WXOOXVFUZ MCTFG FUSTJMFZHMFXUJ, QTMTGRFUTQ MCHM MCT JMGHUZTG CHQ WHOOTU MX CFJ QTHMC VCFOT MGBFUZ MX JMTHO MCT KXXL. MCT TUDPFGB JTTRJ MX CHST KTTU NOXJTQ VFMCFU H WTV QHBJ. UX XMCTG XWWFNFHO QXNPRTUMJ CHST KTTU WXPUQ FU MCT AXOFNT WFOTJ NXUNTGUFUZ MCT NHJT TYNTAM H NCHFU XW OTMMTGJ WGXR MCT OFKGHGFHU, PGZFUZ MCT AXOFNT MX GT-XATU MCT NHJT. XPG FUMTGTJM FU MCFJ XMCTGVFJT GXPMFUT FUSTJMFZHMFXU VHJ MGFZZTGTQ KB MCT QFJNXSTGB XW H CFJMXGFN GTDPTJM WXG FUWXGRHMFXU HKXPM MCT QTNTHJTQ, JTUM KB AFULTGMXU’J QTMTNMFST HZTUNB MX MCT RTMGXAXOFMHU AXOFNT. XPG WFTOQ HZTUM QFSFJFXU, MCT OHRAOFZCMTGJ, HGT VXGLFUZ MX WFUQ HUQ GTMGFTST HUB WPGMCTG NXGGTJAXUQTUNT HJJXNFHMTQ VFMC MCT NHJT, KPM JX WHG CHST XUOB GTNXSTGTQ MCT HMMHNCTQ OTMMTG. FM HAATHGJ MX KT VGFMMTU KB MCT XVUTG XW MCT OFKGHGB, GXZTGJ, HUQ JTUM MX MCT AGXSFQTUNT, GCXQT FJOHUQ NCFTW XW AXOFNT. FM FJ OFZCMOB TUNGBAMTQ PJFUZ H JPKJMFMPMFXU NFACTG VFMC H LTBVXGQ QTGFSTQ WGXR MCT MFMOT XW XUT XW MCT JCXGM JMXGFTJ FU MCT UXSTOOH WXPUQ HM MCT JNTUT. BXPG WFGJM RFJJFXU FJ MX QTNFACTG MCHM OTMMTG. BXP NHU RHLT PJT XW MCT KXJJ JPKJMFMPMFXU NFACTG HAA HUQ MCT OTMMTG WGTDPTUNB NXPUMTG XU XPG NFACTG MXXOJ AHZT FW MCHM FJ CTOAWPO. ZXXQ OPNL, IXQFT\"\"\""
   ]
  },
  {
   "cell_type": "code",
   "execution_count": 2,
   "metadata": {},
   "outputs": [],
   "source": [
    "# Bring in the basic decoder function\n",
    "import string\n",
    "\n",
    "# A simple translation method.\n",
    "# text: The text to translate, in upper case\n",
    "# key: A substitution alphabet, usually in lower case so that the translated characters show up\n",
    "def decode(text, key):\n",
    "    table = str.maketrans(string.ascii_uppercase, key)\n",
    "    print(text.upper().translate(table))"
   ]
  },
  {
   "cell_type": "code",
   "execution_count": 3,
   "metadata": {},
   "outputs": [
    {
     "name": "stdout",
     "output_type": "stream",
     "text": [
      "\n",
      "the mission brief. circulation: boss agent trainee cohort cc: harry in eighteen ninety-six, at a mansion in providence, rhode island, the librarian maisie styles found a body at the foot of the library ladder. the deceased was clutching a small but valuable book that had been taken from the top shelf, presumably before the accident. the book was leather-bound, one of the eight volumes in the so-called amontillado edition, signed by the publisher. the police were called and, following their investigations, determined that the stranger had fallen to his death while trying to steal the book. the enquiry seems to have been closed within a few days. no other official documents have been found in the police files concerning the case except a chain of letters from the librarian, urging the police to re-open the case. our interest in this otherwise routine investigation was triggered by the discovery of a historic request for information about the deceased, sent by pinkerton’s detective agency to the metropolitan police. our field agent division, the lamplighters, are working to find and retrieve any further correspondence associated with the case, but so far have only recovered the attached letter. it appears to be written by the owner of the library, rogers, and sent to the providence, rhode island chief of police. it is lightly encrypted using a substitution cipher with a keyword derived from the title of one of the short stories in the novella found at the scene. your first mission is to decipher that letter. you can make use of the boss substitution cipher app and the letter frequency counter on our cipher tools page if that is helpful. good luck, jodie\n"
     ]
    }
   ],
   "source": [
    "# Probably transposition again.  The tools on the page indicate an Affine cipher\n",
    "# Lots of \"MCT\", assume \"the\"\n",
    "# Assume signed by Jodie\n",
    "# Gives \"ABhDEiGHjJKLtNOPdRSeUVWoYZ\" - Spacing of 3..\n",
    "decode(part_a_text, \"pyhqzirajsbktcludmvenwfoxg\")"
   ]
  },
  {
   "cell_type": "code",
   "execution_count": 5,
   "metadata": {},
   "outputs": [],
   "source": [
    "# Part B \"Calling in a favour\"\n",
    "part_b_text = \"\"\"\n",
    "DBGJ MFC,\n",
    "\n",
    "X WBKXMGMB MF QJXMB MF SFN GM GAA, MWB CGMMBJ OBXEV KF DBAXLGMB, KF X WFHB SFN QXAA NEDBJKMGED QWS X WGPB LWFKBE MF BELXHWBJ MWXK LFCCNEXLGMXFE. X QFNAD EFM QGEM MF HAGLB SFN XE GES HBJKFEGA DXUUXLNAMS GED GC CXEDUNA MWGM ABMMBJK FU MWXK ZXED GJB BGKXAS CXKNEDBJKMFFD.\n",
    "\n",
    "X WGPB GAJBGDS DXKLNKKBD QXMW SFN CS WFHB MF KBJPB FEB DGS GK VFPBJEFJ FU FNJ WFCB KMGMB. MWB JBLBEM JNCFJK MWGM OJFQE XEMBEDK MF KMBH DFQE MF CGZB G JNE GM MWB PXLB-HJBKXDBELS HJBKBEM G KXVEXUXLGEM FHHFJMNEXMS MF JBGAXKB MWGM GCOXMXFE, GED X WGPB OBBE MGZXEV KFNEDXEVK QXMW HFMBEMXGA KNHHFJMBJK. X WGPB JBLBXPBD BELFNJGVXEV UBBDOGLZ, GED CS HAGEK WGPB GDPGELBD KFCBQWGM UFAAFQXEV DXKLNKKXFEK FPBJ MWB BEDFQCBEM UFJ MWB EBQ HJFPXDBELB AXOJGJS.\n",
    "\n",
    "X ZEFQ MWGM QB GJB XE GVJBBCBEM FE MWB EBBD UFJ G KMJFEV VFPBJEFJ, GED X GC LFELBJEBD MWGM GES KLGEDGA GKKFLXGMBD QXMW MWB KMJGEVB DBGMW FU MWB SFNEV CGE XE CS FQE AXOJGJS CXVWM MGXEM MWGM BEDFQCBEM GED LFNAD NAMXCGMBAS QBGZBE CS LGCHGXVE. SFN QXAA NEDBJKMGED CS LFELBJE.\n",
    "\n",
    "X GC KNJB MWBJB LGEEFM OB GES CFJB DFNOM XE SFNJ CXED MWGE MWBJB XK XE CS FQE MWGM MWB DBGMW QGK GE NEUFJMNEGMB GLLXDBEM, GED X WFHB MWGM SFN QXAA OB GOAB MF HBJKNGDB SFNJ FUUXLBJK FU MWB KGCB.\n",
    "\n",
    "X AFFZ UFJQGJD MF SFNJ JBHAS.\n",
    "\n",
    "JFVBJK. \"\"\""
   ]
  },
  {
   "cell_type": "code",
   "execution_count": 6,
   "metadata": {},
   "outputs": [
    {
     "name": "stdout",
     "output_type": "stream",
     "text": [
      "\n",
      "dear toC,\n",
      "\n",
      "i hesitate to Qrite to SoN at aAA, the Catter OeiEg so deAiLate, so i hoHe SoN QiAA NEderstaEd QhS i haPe LhoseE to eELiHher this LoCCNEiLatioE. i QoNAd Eot QaEt to HAaLe SoN iE aES HersoEaA diUUiLNAtS aEd aC CiEdUNA that Aetters oU this ZiEd are easiAS CisNEderstood.\n",
      "\n",
      "i haPe aAreadS disLNssed Qith SoN CS hoHe to serPe oEe daS as goPerEor oU oNr hoCe state. the reLeEt rNCors that OroQE iEteEds to steH doQE to CaZe a rNE at the PiLe-HresideELS HreseEt a sigEiUiLaEt oHHortNEitS to reaAise that aCOitioE, aEd i haPe OeeE taZiEg soNEdiEgs Qith HoteEtiaA sNHHorters. i haPe reLeiPed eELoNragiEg UeedOaLZ, aEd CS HAaEs haPe adPaELed soCeQhat UoAAoQiEg disLNssioEs oPer the eEdoQCeEt Uor the EeQ HroPideELe AiOrarS.\n",
      "\n",
      "i ZEoQ that Qe are iE agreeCeEt oE the Eeed Uor a stroEg goPerEor, aEd i aC LoELerEed that aES sLaEdaA assoLiated Qith the straEge death oU the SoNEg CaE iE CS oQE AiOrarS Cight taiEt that eEdoQCeEt aEd LoNAd NAtiCateAS QeaZeE CS LaCHaigE. SoN QiAA NEderstaEd CS LoELerE.\n",
      "\n",
      "i aC sNre there LaEEot Oe aES Core doNOt iE SoNr CiEd thaE there is iE CS oQE that the death Qas aE NEUortNEate aLLideEt, aEd i hoHe that SoN QiAA Oe aOAe to HersNade SoNr oUUiLers oU the saCe.\n",
      "\n",
      "i AooZ UorQard to SoNr reHAS.\n",
      "\n",
      "rogers. \n"
     ]
    }
   ],
   "source": [
    "# Substitution again.  From \"Rogers\", probably starts with \"dear\".  \"MWB\" probably \"the\", \"X\" probably \"i\".\n",
    "decode(part_b_text, \"AeCdEoaHIrsLtNOPQRSTUghiYZ\")"
   ]
  },
  {
   "cell_type": "code",
   "execution_count": 7,
   "metadata": {},
   "outputs": [
    {
     "name": "stdout",
     "output_type": "stream",
     "text": [
      "\n",
      "dear tom,\n",
      "\n",
      "i hesitate to write to you at all, the matter being so delicate, so i hope you will understand why i have chosen to encipher this communication. i would not want to place you in any personal difficulty and am mindful that letters of this kind are easily misunderstood.\n",
      "\n",
      "i have already discussed with you my hope to serve one day as governor of our home state. the recent rumors that brown intends to step down to make a run at the vice-presidency present a significant opportunity to realise that ambition, and i have been taking soundings with potential supporters. i have received encouraging feedback, and my plans have advanced somewhat following discussions over the endowment for the new providence library.\n",
      "\n",
      "i know that we are in agreement on the need for a strong governor, and i am concerned that any scandal associated with the strange death of the young man in my own library might taint that endowment and could ultimately weaken my campaign. you will understand my concern.\n",
      "\n",
      "i am sure there cannot be any more doubt in your mind than there is in my own that the death was an unfortunate accident, and i hope that you will be able to persuade your officers of the same.\n",
      "\n",
      "i look forward to your reply.\n",
      "\n",
      "rogers. \n"
     ]
    }
   ],
   "source": [
    "# \"Qrite to SoN at aAA\" -> Q=w, S=y, N=u, A=l\n",
    "# \"the Catter OeiEg so deAiLate\" -> C=m, O=b, E=n, L=c\n",
    "# \"i hoHe SoN QiAA NEderstaEd QhS i haPe LhoseE\" -> H=p, P=v\n",
    "# \"iE aES HersoEaA diUUiLNAtS\" -> U=f\n",
    "# \"i ZEoQ that Qe\" -> Z=k\n",
    "# Gaps -> I=q, R=x, T=z, Y=j\n",
    "decode(part_b_text, \"lemdnoapqrsctubvwxyzfghijk\")"
   ]
  },
  {
   "cell_type": "code",
   "execution_count": 8,
   "metadata": {},
   "outputs": [],
   "source": [
    "import string\n",
    "\n",
    "# Attempts to determine the keyword used for a substitution cipher\n",
    "# alphabet: The substitution alphabet\n",
    "def decode_key(alphabet):\n",
    "    decoded_alphabet = \"\"\n",
    "    for letter in string.ascii_lowercase:\n",
    "        decoded_alphabet += chr(alphabet.find(letter) + ord(\"a\"))\n",
    "    print(f\"Decoded alphabet: {decoded_alphabet}\")\n",
    "    \n",
    "    remaining_letters = list(string.ascii_lowercase)\n",
    "    for pos, letter in enumerate(decoded_alphabet):\n",
    "        remaining_letters.remove(letter)\n",
    "        next_letter_index = remaining_letters.index(decoded_alphabet[pos+1])\n",
    "        if decoded_alphabet[pos+1:] == \"\".join(remaining_letters[next_letter_index:] + remaining_letters[:next_letter_index]):\n",
    "            print(f\"Keyword: {decoded_alphabet[:pos+2]}\")\n",
    "            break\n"
   ]
  },
  {
   "cell_type": "code",
   "execution_count": 9,
   "metadata": {},
   "outputs": [
    {
     "name": "stdout",
     "output_type": "stream",
     "text": [
      "Decoded alphabet: goldbuvwxyzacefhijkmnpqrst\n",
      "Keyword: goldbu\n"
     ]
    }
   ],
   "source": [
    "decode_key(\"lemdnoapqrsctubvwxyzfghijk\")"
   ]
  },
  {
   "cell_type": "code",
   "execution_count": 10,
   "metadata": {},
   "outputs": [],
   "source": [
    "# \"gold\""
   ]
  },
  {
   "cell_type": "code",
   "execution_count": null,
   "metadata": {},
   "outputs": [],
   "source": []
  }
 ],
 "metadata": {
  "kernelspec": {
   "display_name": "Python 3 (ipykernel)",
   "language": "python",
   "name": "python3"
  },
  "language_info": {
   "codemirror_mode": {
    "name": "ipython",
    "version": 3
   },
   "file_extension": ".py",
   "mimetype": "text/x-python",
   "name": "python",
   "nbconvert_exporter": "python",
   "pygments_lexer": "ipython3",
   "version": "3.12.0"
  }
 },
 "nbformat": 4,
 "nbformat_minor": 4
}
