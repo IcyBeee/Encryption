{
 "cells": [
  {
   "cell_type": "markdown",
   "metadata": {},
   "source": [
    "# Cipher Challenge 2024\n",
    "### Chapter 1 (practice) / 2024-Oct-10\n",
    "\n",
    "Challenge link https://www.cipherchallenge.org/challenge/challenge-1/"
   ]
  },
  {
   "cell_type": "code",
   "execution_count": 3,
   "metadata": {},
   "outputs": [],
   "source": [
    "# Part A - \"Curio(u)s\"\n",
    "part_a_text = \"\"\"\n",
    "HM XCVMGZN WVWWVBZ YJMNZO NOMZZO HVMTGZWJIZ GJIYJI HT YZVM XCVMGZN, D CJKZ OCDN GZOOZM ADIYN TJP RZGG VIY OCVO TJPM XVHKVDBI OJ XJINDBI OCZ DIAZMIVG MVXFZO JA NOMZZO PMXCDIN VIY OCZDM HPNDX OJ OCZ JPOZM MZVXCZN JA OCZ XDOT CVN WJMIZ NJHZ AMPDO. D VH RMDODIB OJ OZGG TJP VWJPO V XPMDJPN GZOOZM OCVO D MZXZDQZY OCDN HJMIDIB AMJH V RJHVI DI VHZMDXV. D OJJF IJOZ VN NCZ CVY OVFZI OCZ ODHZ OJ ZIXMTKO DON XJIOZION VIY CVY DIXGPYZY V KPUUGZ XJINDNODIB JA V NCJMO NZLPZIXZ JA GZOOZMN ZIBMVQZY JI V WPGGZO. OCZ XDMXPHNOVIXZN DI RCDXC OCDN WPGGZO VKKZVMZY VMZ IJO APGGT ZSKGVDIZY, WPO CZM MZLPZNO DN OCVO RZ NCJPGY XJINDYZM OCZ ZIBMVQDIB VIY VOOZHKO OJ YZXDKCZM DON HZVIDIB. D NVT RZ VIY JPM, WPO D HPNO VYHDO OCVO OCZ MZLPZNO RVN YDMZXOZY OJ HZ VGJIZ, KJNNDWGT WZXVPNZ, VN V RJHVI, D HDBCO KVT HJMZ VOOZIODJI OJ HDNN RVMIZ’N GZOOZM. DO DN VKKVMZIO AMJH OCZ NXMVRG JI OCZ KVBZ OCVO NCZ DN IJO CDBCGT ZYPXVOZY, WPO NCZ YZNXMDWZN CZMNZGA VN V YZOZXODQZ VIY CVY OCZ RDO OJ MZXJBIDNZ OCVO OCZ DINXMDKODJI RVN NDBIDADXVIO. D OCDIF D CVQZ PIGJXFZY DON NZXMZO, WPO D RJPGY WZ KGZVNZY OJ CZVM TJPM OCJPBCON. DI KVMODXPGVM, DN NCZ MDBCO DI CZM VNNPHKODJI OCVO OCZ GZOOZMN NDBIDAT NJHZOCDIB OJ RCDXC RZ NCJPGY VOOZIY? DO NZZHN HJMZ GDFZGT OJ HZ OCVO DO DN HZMZGT V XPMDJ. D CVQZ HDNNZY JPM YDNXPNNDJIN, VIY D AGVOOZM HTNZGA OCVO TJP ZIEJTZY OCZH OJJ. D CJKZ OCVO OCDN XPMDJPN WPGGZO HDBCO BDQZ PN OCZ ZSXPNZ OCVO RZ IZZY OJ MZDINOVOZ OCZH. KGZVNZ YJ GZO HZ FIJR TJPM OCJPBCON. TJPMN VN VGRVTN, VYV XJPIOZNN JA GJQZGVXZ \n",
    "\"\"\""
   ]
  },
  {
   "cell_type": "code",
   "execution_count": 4,
   "metadata": {},
   "outputs": [],
   "source": [
    "# Bring in the basic decoder function\n",
    "import string\n",
    "\n",
    "# A simple translation method.\n",
    "# text: The text to translate, in upper case\n",
    "# key: A substitution alphabet, usually in lower case so that the translated characters show up\n",
    "def decode(text, key):\n",
    "    table = str.maketrans(string.ascii_uppercase, key)\n",
    "    print(text.upper().translate(table))"
   ]
  },
  {
   "cell_type": "code",
   "execution_count": 6,
   "metadata": {},
   "outputs": [
    {
     "name": "stdout",
     "output_type": "stream",
     "text": [
      "\n",
      "mr charles babbage dorset street marylebone london my dear charles, i hope this letter finds you well and that your campaign to consign the infernal racket of street urchins and their music to the outer reaches of the city has borne some fruit. i am writing to tell you about a curious letter that i received this morning from a woman in america. i took note as she had taken the time to encrypt its contents and had included a puzzle consisting of a short sequence of letters engraved on a bullet. the circumstances in which this bullet appeared are not fully explained, but her request is that we should consider the engraving and attempt to decipher its meaning. i say we and our, but i must admit that the request was directed to me alone, possibly because, as a woman, i might pay more attention to miss warne’s letter. it is apparent from the scrawl on the page that she is not highly educated, but she describes herself as a detective and had the wit to recognise that the inscription was significant. i think i have unlocked its secret, but i would be pleased to hear your thoughts. in particular, is she right in her assumption that the letters signify something to which we should attend? it seems more likely to me that it is merely a curio. i have missed our discussions, and i flatter myself that you enjoyed them too. i hope that this curious bullet might give us the excuse that we need to reinstate them. please do let me know your thoughts. yours as always, ada countess of lovelace \n",
      "\n"
     ]
    }
   ],
   "source": [
    "# As this is week 1, it's probably a Caesar cipher.  \"OCZ\" looks like it's \"the\" (+5)\n",
    "decode(part_a_text, \"fghijklmnopqrstuvwxyzabcde\")"
   ]
  },
  {
   "cell_type": "code",
   "execution_count": 8,
   "metadata": {},
   "outputs": [],
   "source": [
    "# Part B \"The Cypher(s)\"\n",
    "part_b_text = \"\"\"\n",
    "AHKLE XRMHP XKLXT LMAHK LEXRL NKKXR XGZET GWFRW XTKFK LEHOX ETVXB PTLNG LNKXA HPMHT WWKXL LRHNL HBAHI XMATM MABLE XMMXK YBGWL RHNTG WYBGW LRHNP XEEBT FPKBM BGZUX VTNLX BWHGH MDGHP PAHXE LXMHM NKGMH TGWBY BZNKX MATMR HNFBZ AMUXT UEXMH AXEIB TFLHK KRYHK MAXMK HNUEX BFTRA TOXVT NLXWU RVRIA XKBGZ MABLE XMMXK UNMBP TLGHM LNKXM ATMRH NPHNE WKXTW TFXLL TZXLX GMBGF RATGW GHMDG HPBGZ GHMAB GZTUH NMFXB MLXXF XWFHK XEBDX ERRHN PHNEW FTDXM AXXYY HKMBY MAXFX LLTZX PTLAT KWXKM HKXTW BYGHM TGWBT FPKHG ZTUHN MRHNK BGMXK XLMLB GVHWX LTGWV RIAXK LMAXG IXKAT ILBMP HGMFT MMXKP AXMAX KRHNK XTWBM HKGHM BTFTW XMXVM BOXBG MAXLF TEEMH PGHYX KBGGX PRHKD TGWBG TKXVX GMBGO XLMBZ TMBHG BVTFX NIHGT LMKTG ZXGXL LMATM BVTGG HMNGI BVDBP TLTLD XWMHB GOXLM BZTMX TUKXT DBGTM TEHVT EPTKX AHNLX MAXAT LIATW UXXGK XFHOX WTGWV ENFLB ERKXI ETVXW TEXKM BGZMA XHPGX KUNMG HMABG ZLXXF XWMHU XFBLL BGZTG WMAXL ABIIB GZVKT MXLKX FTBGX WLXTE XWUXA BGWMA XFBYH NGWTU NEEXM VTKKR BGZTG NGNLN TEBGL VKBIM BHGTG WATOX BGVEN WXWTL DXMVA BMBLF BZAMR NGNLN TEYHK TVTLX MHUXF TKDXW BGMAB LPTRT GWMAX EXMMX KLFTD XGHLX GLXMH FXBTF AHIBG ZMATM RHNPB EEUXT UEXMH AXEIB GMXKI KXMMA XFPBM AENVD MATMF BZAML AXWLH FXEBZ AMHGF RBGOX LMBZT MBHGZ BOXGM AXUNE EXMPT LYHNG WPBMA TLABI FXGMU HNGWY HKXGZ ETGWM AXKXF TRTEL HUXKX TLHGY HKRHN MHUXP HKKBX WUNMB FHLML BGVXK XERAH IXGHM BYRHN ATOXK XTWMA BLYTK MAXGI EXTLX NGWXK LMTGW AHPFN VABTI IKXVB TMXRH NKTLL BLMTG VXBEH HDYHK PTKWP BMALH FXXTZ XKGXL LMHRH NKKXI ERPBM AFRZK TMBMN WXFBL LDTMX PTKGX\n",
    "\"\"\""
   ]
  },
  {
   "cell_type": "code",
   "execution_count": 9,
   "metadata": {},
   "outputs": [],
   "source": [
    "from collections import Counter\n",
    "\n",
    "# Takes a string or list of items and counts the frequencies of those items\n",
    "# data: The list or string to analyse\n",
    "# max_values: The maximum number of values to display (set to None for no limit)\n",
    "# no_columns: The amount of columns to use in the output\n",
    "def frequency_analysis(data, max_values=30, no_columns=5):\n",
    "    frequencies = Counter()\n",
    "    for item in data:\n",
    "        frequencies[item] += 1\n",
    "    \n",
    "    total = sum(frequencies.values())\n",
    "    column = 1\n",
    "    for item, frequency in frequencies.most_common(max_values):\n",
    "        print(f\"{item}: {frequency:2} ({frequency / total:.2%})\", end=\" \" if column % no_columns else \"\\n\")\n",
    "        column += 1\n",
    "    print(\"\\n-----\")"
   ]
  },
  {
   "cell_type": "code",
   "execution_count": 11,
   "metadata": {},
   "outputs": [
    {
     "name": "stdout",
     "output_type": "stream",
     "text": [
      "X: 153 (12.27%) M: 115 (9.22%) T: 104 (8.34%) G: 91 (7.30%) B: 90 (7.22%)\n",
      "H: 89 (7.14%) L: 80 (6.42%) K: 74 (5.93%) A: 63 (5.05%) N: 49 (3.93%)\n",
      "W: 49 (3.93%) E: 46 (3.69%) F: 40 (3.21%) R: 34 (2.73%) P: 31 (2.49%)\n",
      "Z: 27 (2.17%) V: 25 (2.00%) I: 22 (1.76%) U: 22 (1.76%) Y: 17 (1.36%)\n",
      "D: 14 (1.12%) O: 10 (0.80%) \n",
      ":  2 (0.16%) \n",
      "-----\n"
     ]
    }
   ],
   "source": [
    "squished = part_b_text.replace(\" \", \"\")\n",
    "\n",
    "frequency_analysis(squished)"
   ]
  },
  {
   "cell_type": "code",
   "execution_count": 14,
   "metadata": {},
   "outputs": [
    {
     "name": "stdout",
     "output_type": "stream",
     "text": [
      "\n",
      "horsleytowerseasthorsleysurreyenglandmydearmrslovelaceiwasunsurehowtoaddressyousoihopethatthisletterfindsyouandfindsyouwelliamwritingbecauseidonotknowwhoelsetoturntoandifigurethatyoumightbeabletohelpiamsorryforthetroubleimayhavecausedbycypheringthisletterbutiwasnotsurethatyouwouldreadamessagesentinmyhandnotknowingnothingaboutmeitseemedmorelikelyyouwouldmaketheeffortifthemessagewashardertoreadifnotandiamwrongaboutyourinterestsincodesandcyphersthenperhapsitwontmatterwhetheryoureaditornotiamadetectiveinthesmalltownoferinnewyorkandinarecentinvestigationicameuponastrangenessthaticannotunpickiwasaskedtoinvestigateabreakinatalocalwarehousethehasphadbeenremovedandclumsilyreplacedalertingtheownerbutnothingseemedtobemissingandtheshippingcratesremainedsealedbehindthemifoundabulletcarryinganunusualinscriptionandhaveincludedasketchitismightyunusualforacasetobemarkedinthiswayandthelettersmakenosensetomeiamhopingthatyouwillbeabletohelpinterpretthemwithluckthatmightshedsomelightonmyinvestigationgiventhebulletwasfoundwithashipmentboundforenglandtheremayalsobereasonforyoutobeworriedbutimostsincerelyhopenotifyouhavereadthisfarthenpleaseunderstandhowmuchiappreciateyourassistanceilookforwardwithsomeeagernesstoyourreplywithmygratitudemisskatewarne\n",
      "\n"
     ]
    }
   ],
   "source": [
    "# X=e, M=t - consistent with another Caesar cipher...\n",
    "decode(squished, \"hijklmnopqrstuvwxyzabcdefg\")"
   ]
  },
  {
   "cell_type": "markdown",
   "metadata": {},
   "source": [
    "Horsley towers, East Horsley, Surrey, England.<br/>\n",
    "My Dear Mrs Lovelace,<br/>\n",
    "I was unsure how to address you, so I hope that this letter finds you and finds you well.<br/>\n",
    "I am writing because I do not know who else to turn to and I figure that you might be able to help.<br/>\n",
    "I am sorry for the trouble I may have caused by cyphering this letter, but I was not sure that you would read a message sent in my hand.<br/>\n",
    "Not knowing nothing about me, it seemed more likely you would make the effort if the message was harder to read. If not, and I am wrong about your interests in codes and cyphers, then perhaps it won't matter whether you read it or not.<br/>\n",
    "I am a detective in the small town of Erin, New York and in a recent investigation, I came upon a strangeness that I cannot unpick.<br/>\n",
    "I was asked to investigate a break in at a local warehouse. The hasp had been removed and clumsily replaced, alerting the owner but nothing seemed to be missing and the shipping crates remained sealed behind them.<br/>\n",
    "I found a bullet carrying an unusual inscription and have included a sketch. It is mighty unusual for a case to be marked in this way and the letters make no sense to me. I am hoping that you will be able to help interpret them. With luck, that might shed some light on my investigation.<br/>\n",
    "Given the bullet was found with a shipment bound for England, there may also be reason for you to be worried, but I most sincerely hope not. If you have read this far, then please understand how much I appreciate your assistance.<br/>\n",
    "I look forward with some eagerness to your reply.<br/>\n",
    "With my gratitude,<br/>\n",
    "Miss Kate Warne."
   ]
  },
  {
   "cell_type": "code",
   "execution_count": null,
   "metadata": {},
   "outputs": [],
   "source": []
  }
 ],
 "metadata": {
  "kernelspec": {
   "display_name": "Python 3 (ipykernel)",
   "language": "python",
   "name": "python3"
  },
  "language_info": {
   "codemirror_mode": {
    "name": "ipython",
    "version": 3
   },
   "file_extension": ".py",
   "mimetype": "text/x-python",
   "name": "python",
   "nbconvert_exporter": "python",
   "pygments_lexer": "ipython3",
   "version": "3.12.4"
  }
 },
 "nbformat": 4,
 "nbformat_minor": 4
}
