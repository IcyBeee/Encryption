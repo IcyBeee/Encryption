{
 "cells": [
  {
   "cell_type": "markdown",
   "metadata": {},
   "source": [
    "# Cipher Challenge 2024\n",
    "### Chapter 4 / 2024-Nov-07\n",
    "\n",
    "Challenge link https://www.cipherchallenge.org/challenge/challenge-4/"
   ]
  },
  {
   "cell_type": "code",
   "execution_count": 1,
   "metadata": {},
   "outputs": [],
   "source": [
    "# Part A - \"Imperious\"\n",
    "part_a_text = \"\"\"RACMR HEASL BBADG BOESS ERTTE MERAT YBLRO EENLN DONDM OEYRT EACSA ERHSL UIRON DEIRN TWHRE HKRIR SAAED SHNEI TRONA UESWG AAUEC SSCMS ESUAE NDRTI ROMEF SIOPD MLCHY AOTGE HUSLS NOSTI ROMEF SNLTI LEGCE IENUU ROEGT OSSKP AETEN LTBHG OATSH UAIBI IMOTT EONRS ERHVM EJTEA YSNID ASHNR TIEET TISHN SCUEO BTEIN NNWMA TOSEA TRNHV EIEND ISTTC IETAL HRTIH ASEMO AAFNI UNSLG RLWAL INIDA SHERS DEIOT ETASL HIBIS PIEMA RASRL AMIIN SSHOS RWADR YUTGL OLBLC AMNPO YAASS WSARD TEMER HEOAT OENNH CIMSE AAOAF NNMIE NYRTS ATENS IHNDA THEET MRNDD IMEOH FEEWT OSANT TUHEG OUINH KLOTU EARIR TCNUR NIFDE EKRHA RSIEI SRAET RRHET EKONN RSEEU HEATV TRNYE EONSO KIWIS STPUC HTEAT WTHTE AEURV ROOCP THIDE BANEE UWHLO HEADM VDUEA RSTEO ETBEI PHNRI LPCIA TLENO RURTC IOENA MONFN FOCEB IUETT SRHID ANYAI CNMNP OYAOW RFOAA VNMOS COEIB THREE DANND AHISM CIPON SYAUI PTEST CATTH IIIOM SSPIE BSFLR NTOAU EMLTY YEHAD URBDA SWNLA LIMIA BSWLA TLOEA PHPIY ASTDA RWNTU HIRSR IIPNS STUGL BTAYE SWBTL AOERS EPOSR EQUSU ISOTA NOTUB HTIEM ERPAH LIISM TEPWN LALIM IIIDD SHEBR VEYTI TSNOE ORTGR TEEAR HKSAR EIANL RGOHI ETNLS UYESO GSGUT EDTWE HIUTE QISNO SONCE IRCNN TBHGA ERTER HLFII ENRMH EGACI ASNNM TCHDA ETDRR GIDIE EGSAT NNHDA WNEES SESRM EDSAE USEND RDAEU RPASI TVSOE LHLAO WIESL NTDTY EHERU EESJA WFTHE ULROA SEERT FWNUD IROEE LSSVN LAUEB OCRTA ELIAL NSLNE GNIVI AOOTI HNNET EGSDN IEKRH ARSSE IERTS HNIUS AMANC OETND BUEBO DTIOS HMCIE TMNMT HOTET XBHEI IIIOT SNALR PLALO EENDY TBLHY TTOAH FDREE PAIEN RACDO INRWY ATRTH UOROV GRENE NMMHI TTGED SBUEE YDCHB SACIR HAINM NDEIN TTSOI FYLWS UHLLO TYHDR EAYLE BLCSO EINEN RDGIT NRASA TNLAT ACRPI TAEHR NISAH TPETO OSCFT UWRON OAFNM AUTEU CRRTT HSDAE OSOTN ETESO MEBTM EONET ISHIT RPOIT GHFRE AXTEH EBIII OTOHN NETSE SIOUS UEFRC TFYIT OEISH PHEWN MITLM ILTAO EDRRV CEAYF RLHLU EYAAS WRCFN UEOLT NOTDI CEAIA TYNCN CORNN EOORR PUTAU ATBNM GTEAO DNIQE RUDCI ERSEY TEALO TUBHT CPOEA MYWSN NORNR AGAMT EESNE KRHAR SWEIA RONPS IEHPI NRSIF SAOET PHROE TUSRT AOTRH YIUPT BOSEL AKETG ATNSH OIUYG MTPEH EXTOA CUBTS HTUEE ORPRI UIAQT LOMFY EAINC RSACI UETRA ARYNR ENMGT EHTIS INGAT NTHHA ETRCO DHGBA EENEC SRHEU RTUOG OUHIJ TTOSR YNUIE HKITW NCTAE ANETI KHTTW HAAEN AOSWT RFEAK OTIEA NSEIS VGTTN IASOH HIWBC ISNRM GTYOE FMNPA IOLNA TIWIK HEOIT MNOSI RGFTN IODEA NTLED RTDAE ESRDS OBUTO SHOFT MRIWS MASNH ERESA ESHPD RDTAF ERVLO EIPLO RWOTH HIETN NTITE OFNIE OANMX IIGET NIHPI EMARA SRLCM RFGAO OHSER ERFOT LUHHM IGUAS EUNWR AHTHE SXCPE TETIO SNFLU EDSTO TPHHE TESAR HTNUE SRIST WOHEI TMNHU FSGUE TUOLR OEBLD EIAOT RNIWH ISMTF DOYEN TGRSA EDDSR AA\"\"\""
   ]
  },
  {
   "cell_type": "code",
   "execution_count": 2,
   "metadata": {},
   "outputs": [],
   "source": [
    "from collections import Counter\n",
    "\n",
    "# Takes a string or list of items and counts the frequencies of those items\n",
    "# data: The list or string to analyse\n",
    "# max_values: The maximum number of values to display (set to None for no limit)\n",
    "# no_columns: The amount of columns to use in the output\n",
    "def frequency_analysis(data, max_values=30, no_columns=5):\n",
    "    frequencies = Counter()\n",
    "    for item in data:\n",
    "        frequencies[item] += 1\n",
    "    \n",
    "    total = sum(frequencies.values())\n",
    "    column = 1\n",
    "    for item, frequency in frequencies.most_common(max_values):\n",
    "        print(f\"{item}: {frequency:2} ({frequency / total:.2%})\", end=\" \" if column % no_columns else \"\\n\")\n",
    "        column += 1\n",
    "    print(\"\\n-----\")"
   ]
  },
  {
   "cell_type": "code",
   "execution_count": 3,
   "metadata": {},
   "outputs": [
    {
     "name": "stdout",
     "output_type": "stream",
     "text": [
      "E: 254 (12.03%) T: 204 (9.66%) A: 171 (8.10%) I: 166 (7.86%) S: 159 (7.53%)\n",
      "N: 154 (7.29%) R: 151 (7.15%) O: 142 (6.72%) H: 116 (5.49%) U: 75 (3.55%)\n",
      "L: 72 (3.41%) D: 66 (3.12%) M: 62 (2.94%) C: 51 (2.41%) G: 40 (1.89%)\n",
      "B: 39 (1.85%) P: 39 (1.85%) Y: 38 (1.80%) W: 38 (1.80%) F: 35 (1.66%)\n",
      "K: 14 (0.66%) V: 14 (0.66%) X:  5 (0.24%) Q:  4 (0.19%) J:  3 (0.14%)\n",
      "\n",
      "-----\n"
     ]
    }
   ],
   "source": [
    "squished = part_a_text.replace(\" \", \"\")\n",
    "frequency_analysis(squished)"
   ]
  },
  {
   "cell_type": "code",
   "execution_count": 4,
   "metadata": {},
   "outputs": [
    {
     "name": "stdout",
     "output_type": "stream",
     "text": [
      "2112\n",
      "1  \n",
      "2  \n",
      "3  \n",
      "4  \n",
      "6  \n",
      "8  \n",
      "11  \n",
      "12  \n",
      "16  \n",
      "22  \n",
      "24  \n",
      "32  \n",
      "33  \n",
      "44  \n",
      "48  \n",
      "64  \n",
      "66  \n",
      "88  \n",
      "96  \n",
      "132  \n",
      "176  \n",
      "192  \n",
      "264  \n",
      "352  \n",
      "528  \n",
      "704  \n",
      "1056  \n"
     ]
    }
   ],
   "source": [
    "# Transposition. How many columns might there be?\n",
    "size = len(squished)\n",
    "print(size)\n",
    "for n in range (1, size):\n",
    "    if size % n == 0:\n",
    "        print(n, \" \")"
   ]
  },
  {
   "cell_type": "code",
   "execution_count": 5,
   "metadata": {},
   "outputs": [
    {
     "name": "stdout",
     "output_type": "stream",
     "text": [
      "RACMRH\n",
      "EASLBB\n",
      "ADGBOE\n",
      "SSERTT\n",
      "EMERAT\n",
      "YBLROE\n",
      "ENLNDO\n",
      "NDMOEY\n",
      "RTEACS\n",
      "AERHSL\n"
     ]
    }
   ],
   "source": [
    "# Most likely 6.\n",
    "for n in range(0, 60, 6):\n",
    "    print(squished[n:n+6])"
   ]
  },
  {
   "cell_type": "code",
   "execution_count": 6,
   "metadata": {},
   "outputs": [
    {
     "name": "stdout",
     "output_type": "stream",
     "text": [
      "MRCHARLESBABBAGEDORSETSTREETMARYLEBONELONDONMYDEARESTCHARLESOURDINNERWITHHERRKAISERANDHISENTOURAGEWASASUCCESSMEASUREDINTERMSOFDIPLOMACYTHOUGHLESSSOINTERMSOFINTELLIGENCEOURGUESTSPOKEATLENGTHABOUTHISAMBITIONTOSERVEHERMAJESTYANDHISINTERESTINTHESUBCONTINENTWASMORETHANEVIDENTITISCLEARTHATHEISAMANOFSINGULARWILLANDHISDESIRETOESTABLISHIMPERIALARMSASINHISWORDSATRULYGLOBALCOMPANYWASASSERTEDMORETHANONCEHEISAMANOFMANYINTERESTSANDINTHATHEREMINDEDMEOFWHEATSTONETHOUGHUNLIKEOURTACITURNFRIENDHERRKAISERISRATHERKEENTOENSURETHATEVERYONEKNOWSITISUSPECTTHATWHATEVEROURTOPICHADBEENHEWOULDHAVEMADESURETOBETHEPRINCIPALINTERLOCUTORIMEANNOOFFENCEBUTITISHARDINANYCOMPANYFORAWOMANSVOICETOBEHEARDANDINHISCOMPANYISUSPECTTHATITISIMPOSSIBLEFORTUNATELYMYDEARHUSBANDWILLIAMWASABLETOPLAYHISPARTANDWITHSURPRISINGSUBTLETYWASABLETOPRESSOURQUESTIONSABOUTTHEIMPERIALSHIPMENTWILLIAMDIDHISVERYBESTTOINTERROGATEHERRKAISERALONGTHELINESYOUSUGGESTEDWITHQUESTIONSCONCERNINGTHEBARRELTHEFIRINGMECHANISMANDTHECARTRIDGEDESIGNANDTHEANSWERSSEEMEDASSUREDANDPERSUASIVETOALLWHOLISTENEDYETHEREJUSTAFEWHOURSLATERWEFINDOURSELVESUNABLETORECALLASINGLEINNOVATIONINTHEDESIGNHERRKAISERSENTHUSIASMCANNOTBEDOUBTEDHISCOMMITMENTTOTHEEXHIBITIONISPARALLELEDONLYBYTHATOFTHEDEARPRINCEANDIWORRYTHATOURGOVERNMENTMIGHTBESEDUCEDBYHISCHARMANDINTENSITYOFWILLSHOULDTHEYREALLYBECONSIDERINGATRANSATLANTICPARTNERSHIPATTHECOSTOFOUROWNMANUFACTURERSTHATDOESNOTSEEMTOMETOBEINTHESPIRITOFTHEGREATEXHIBITIONONTHEISSUEOFSECURITYOFTHESHIPMENTWILLIAMTRODVERYCAREFULLYHEWASCAREFULNOTTOINDICATEANYCONCERNONOURPARTBUTMANAGEDTOENQUIREDISCREETLYABOUTTHECOMPANYSOWNARRANGEMENTSHERRKAISERWASOPENINHISPRAISEFORTHEPORTSAUTHORITYBUTSPOKEATLENGTHASYOUMIGHTEXPECTABOUTTHESUPERIORQUALITYOFAMERICANSECURITYARRANGEMENTSHINTINGTHATTHECARGOHADBEENSECURETHROUGHOUTITSJOURNEYITHINKWECANTAKEITTHATHEWASNOTAWAREOFKATESINVESTIGATIONSWHICHBRINGSMETOMYFINALPOINTIAWOKETHISMORNINGTOFINDALETTERADDRESSEDTOUSBOTHFROMMISSWARNESHEHASDEPARTEDFORLIVERPOOLWITHTHEINTENTIONOFEXAMININGTHEIMPERIALARMSCARGOFORHERSELFTHOUGHIAMUNSUREWHATSHEEXPECTSTOFINDLETUSHOPETHATSHERETURNSWITHSOMETHINGUSEFULTOOURDELIBERATIONSWITHMYFONDESTREGARDSADA"
     ]
    }
   ],
   "source": [
    "# Looks like it starts with \"Mr Charles Babbage\"\n",
    "for n in range(0, len(squished), 6):\n",
    "    for c in (3, 0, 2, 5, 1, 4):\n",
    "        print(squished[n+c], end=\"\")"
   ]
  },
  {
   "cell_type": "markdown",
   "metadata": {},
   "source": [
    "# Edited for clarity\n",
    "\n",
    "Mr Charles Babbage, Dorset Street, Marylebone, London.<br/>\n",
    "My dearest Charles,<br/>\n",
    "Our dinner with Herr Kaiser and his entourage was a success, measured in terms of diplomacy, though less so in terms of intelligence. Our guest spoke at length about his ambition to serve Her Majesty and his interest in the subcontinent was more than evident. It is clear that he is a man of singular will and his desire to establish imperial arms as, in his words, \"a truly global company\", was asserted more than once. He is a man of many interests and in that he reminded me of Wheatstone, though unlike our taciturn friend, Herr Kaiser is rather keen to ensure that everyone knows it.<br/>\n",
    "I suspect that whatever our topic had been, he would have made sure to be the principal interlocutor. I mean no offence, but it is hard in any company for a woman's voice to be heard and in his company I suspect that it is impossible. Fortunately, my dear husband William was able to play his part and with surprising subtlety was able to press our questions about the imperial shipment.<br/>\n",
    "William did his very best to interrogate Herr Kaiser along the lines you suggested, with questions concerning the barrel, the firing mechanism and the cartridge design and the answers seemed assured and persuasive to all who listened, yet here, just a few hours later, we find ourselves unable to recall a single innovation in the design.<br/>\n",
    "Herr Kaiser's enthusiasm cannot be doubted. His commitment to the exhibition is paralleled only by that of the dear prince and I worry that our government might be seduced by his charm and intensity of will. Should they really be considering a transatlantic partnership at the cost of our own manufacturers? That does not seem to me to be in the spirit of the great exhibition.<br/>\n",
    "On the issue of security of the shipment, William trod very carefully. He was careful not to indicate any concern on our part but managed to enquire discreetly about the company's own arrangements. Herr Kaiser was open in his praise for the port's authority, but spoke at length, as you might expect, about the superior quality of American security arrangements, hinting that the cargo had been secure throughout its journey.<br/>\n",
    "I think we can take it that he was not aware of Kate's investigations, which brings me to my final point. I awoke this morning to find a letter addressed to us both from Miss Warne. She has departed for liverpool with the intention of examining the imperial arms cargo for herself, though I am unsure what she expects to find. Let us hope that she returns with something useful to our deliberations.<br/>\n",
    "With my fondest regards,<br/>\n",
    "Ada."
   ]
  },
  {
   "cell_type": "code",
   "execution_count": 7,
   "metadata": {},
   "outputs": [],
   "source": [
    "# Part B \"Counting for the Countess\"\n",
    "part_b_text = \"\"\"MZDFP OCFFO YFQZY ZMXDE CTCWZ HOWCS OCYTX DSPCD WOEUC UUCNO PZDEW OKFZI ODEOC EFPZD EWOKE GDDOK OYNWC YTXKT OCDSZ GYFOE EXDUC UUCNO QPCHO SZXAW OFOTX KQYHO EFQNC FQZYE CFFPO QXAOD QCWCD XESGE FZXEI CDOPZ GEOCY TIQWW DOFGD YMZDF PIQFP UGFVY ZIQYN RGEFP ZIWZY NFPCF RZGDY OKXCK FCVOC YTPZI DOXCD VCUWK EIQMF KZGDD ZKCWX CQWSC YUOQF PZGNP FQFUO EFFZE OYTKZ GXKDO AZDFU KWOFF ODXKY OIMDQ OYTEQ YWQHO DAZZW IODOD OCWPO WAMGW CYTAD ZHQTO TXOIQ FPFPO EPQAA QYNAC AODEC WFPZG NPQCX YZFEG DOPZI XGSPC EEQEF CYSOF POKIQ WWADZ HQTOC WWQSC YEOOQ EFPCF FPOSD CFOEC WWWOM FFPOG YQFOT EFCFO EFZNO FPODC YTOCS PIOQN POTFP OECXO EGNNO EFQYN FPCFY ZFPQY NPCTU OOYFC VOYQM QYTQF XQNPF KGYWQ VOWKF PCFCY KZYOQ YFODO EFOTQ YEFOC WQYNF POSZY FOYFE ZMCEQ YNWOS DCFOI ZGWTF CVOFP OFDZG UWOFZ DOAWC SOFPO XIQFP CSCDO MGWWK SCWQU DCFOT IOQNP FZMDG UUWOZ DZFPO DYZYE OYEOC YTQYC YKSCE OFPOE OCWPC TUOOY DOAWC SOTFP CFEOO XEWQV OCYCI MGWWZ FZMFD ZGUWO MZDCM OIDQM WOECY TUZJO EZMCX XGYQF QZYIQ FPFPO SDCFO EQYEF ZDCNO FPOEO CWEPC HOUOO YDOXZ HOTAD OEGXC UWKFZ CWWZI KZGDS GEFZX EZMMQ SQCWE FZQYE AOSFF POXCY TFPCF NCHOX OCYZA AZDFG YQFKF ZOJCX QYOFP OSZYF OYFEQ FFZZV XOCWZ YNFQX OFZIZ DVFPD ZGNPF POXCW WUGFQ FEFPO TCDYO TOEFF PQYNF PODOQ EYZFP QYNXQ EEQYN CYTQX OCYYZ FPQYN YZFOH OYCEQ YNWOU GWWOF CYTIO VYZIF PCFCF WOCEF ZYOIC EWOMF ZYFPO MWZZD ZMFPO ICDOP ZGEOQ YODQY XKMDQ OYTEF OWWXO FPCFC PQYTG NOYFW OXCYP CTUOO YEOOY QYFPO HQSQY QFKZM FPOEP OTQYF POACE FYQNP FUGFQ CXXQY TOTFZ FPQYV FPCFQ ERGEF ESGFF WOUGF FMZWV EQYOD QYFCW VWQVO FPCFC UZGFE FDCYN ODECW WFPOF QXOCY TIQFP YZFPQ YNFZS ZYYOS FPQXF ZFPOS CDNZC YTYZI CKFZF DCSVP QXTZI YQFPQ YVIOS CYQNY ZDOQM YZFMZ DNOFF PONZE EQAQP ZAOFZ UOIQF PKZGC NCQYQ YFPDO OTCKE CYTWZ ZVMZD ICDTF ZTQES GEEQY NFPQE XKEFO DKIQF PKZGF POYXQ EEVCF OICDY O\"\"\""
   ]
  },
  {
   "cell_type": "code",
   "execution_count": 8,
   "metadata": {},
   "outputs": [
    {
     "name": "stdout",
     "output_type": "stream",
     "text": [
      "O: 179 (12.13%) F: 168 (11.38%) C: 120 (8.13%) Y: 114 (7.72%) Z: 102 (6.91%)\n",
      "Q: 102 (6.91%) P: 88 (5.96%) E: 85 (5.76%) D: 74 (5.01%) W: 70 (4.74%)\n",
      "X: 44 (2.98%) T: 44 (2.98%) G: 42 (2.85%) N: 38 (2.57%) I: 34 (2.30%)\n",
      "S: 31 (2.10%) K: 31 (2.10%) M: 28 (1.90%) U: 28 (1.90%) A: 20 (1.36%)\n",
      "V: 18 (1.22%) H: 11 (0.75%) R:  3 (0.20%) J:  2 (0.14%) \n",
      "-----\n"
     ]
    }
   ],
   "source": [
    "squished = part_b_text.replace(\" \", \"\")\n",
    "frequency_analysis(squished)"
   ]
  },
  {
   "cell_type": "code",
   "execution_count": 9,
   "metadata": {},
   "outputs": [],
   "source": [
    "# Bring in the basic decoder function\n",
    "import string\n",
    "\n",
    "# A simple translation method.\n",
    "# text: The text to translate, in upper case\n",
    "# key: A substitution alphabet, usually in lower case so that the translated characters show up\n",
    "def decode(text, key):\n",
    "    table = str.maketrans(string.ascii_uppercase, key)\n",
    "    print(text.upper().translate(table))"
   ]
  },
  {
   "cell_type": "code",
   "execution_count": 12,
   "metadata": {},
   "outputs": [
    {
     "name": "stdout",
     "output_type": "stream",
     "text": [
      "MZrtheattentiZnZMmrsaTaWZHeWaSeanTmrSharWesUaUUaNehZrsWeKtZwerseasthZrsWeKsGrreKenNWanTmKTearSZGntessmrUaUUaNeihaHeSZmAWeteTmKinHestiNatiZnsattheimAeriaWarmsSGstZmswarehZGseanTwiWWretGrnMZrthwithUGtknZwinNRGsthZwWZnNthatRZGrneKmaKtakeanThZwremarkaUWKswiMtKZGrrZKaWmaiWSanUeithZGNhtitUesttZsenTKZGmKreAZrtUKWettermKnewMrienTsinWiHerAZZWwerereaWheWAMGWanTArZHiTeTmewiththeshiAAinNAaAersaWthZGNhiamnZtsGrehZwmGShassistanSetheKwiWWArZHiTeaWWiSanseeisthattheSratesaWWWeMttheGniteTstatestZNetheranTeaShweiNheTthesamesGNNestinNthatnZthinNhaTUeentakeniMinTitmiNhtKGnWikeWKthatanKZneinteresteTinsteaWinNtheSZntentsZMasinNWeSratewZGWTtakethetrZGUWetZreAWaSethemwithaSareMGWWKSaWiUrateTweiNhtZMrGUUWeZrZthernZnsenseanTinanKSasetheseaWhaTUeenreAWaSeTthatseemsWikeanawMGWWZtZMtrZGUWeMZraMewriMWesanTUZJesZMammGnitiZnwiththeSratesinstZraNetheseaWshaHeUeenremZHeTAresGmaUWKtZaWWZwKZGrSGstZmsZMMiSiaWstZinsAeStthemanTthatNaHemeanZAAZrtGnitKtZeJaminetheSZntentsittZZkmeaWZnNtimetZwZrkthrZGNhthemaWWUGtitstheTarneTestthinNthereisnZthinNmissinNanTimeannZthinNnZteHenasinNWeUGWWetanTweknZwthatatWeastZnewasWeMtZntheMWZZrZMthewarehZGseinerinmKMrienTsteWWmethatahinTGNentWemanhaTUeenseenintheHiSinitKZMthesheTintheAastniNhtUGtiamminTeTtZthinkthatisRGstsSGttWeUGttMZWksinerintaWkWikethataUZGtstranNersaWWthetimeanTwithnZthinNtZSZnneSthimtZtheSarNZanTnZwaKtZtraSkhimTZwnithinkweSaniNnZreiMnZtMZrNettheNZssiAihZAetZUewithKZGaNaininthreeTaKsanTWZZkMZrwarTtZTisSGssinNthismKsterKwithKZGthenmisskatewarne\n"
     ]
    }
   ],
   "source": [
    "# Lots of \"FPO\" -> F=t, P=h, O=e\n",
    "# We know the letter is from Miss Kate Warne: \"XQEEVCFOICDYO\" -> X=m, Q=i, E=s, V=k, C=a, I=w, D=r, Y=n\n",
    "decode(squished, \"ABarstGHwJKLMNehiRSTUkWmnZ\")"
   ]
  },
  {
   "cell_type": "code",
   "execution_count": 13,
   "metadata": {},
   "outputs": [
    {
     "name": "stdout",
     "output_type": "stream",
     "text": [
      "fortheattentionofmrEaTaloHelaSeanTmrSharleEUaUUagehorEleytowerEeaEthorEleyEurreyenglanTmyTearSounteEEmrUaUUageihaHeSomAleteTmyinHeEtigationEattheimAerialarmESuEtomEwarehouEeanTwillreturnforthwithUutknowingRuEthowlongthatRourneymaytakeanThowremarkaUlyEwiftyourroyalmailSanUeithoughtitUeEttoEenTyoumyreAortUylettermynewfrienTEinliHerAoolwererealhelAfulanTAroHiTeTmewiththeEhiAAingAaAerEalthoughiamnotEurehowmuShaEEiEtanSetheywillAroHiTealliSanEeeiEthattheSrateEalllefttheuniteTEtateEtogetheranTeaShweigheTtheEameEuggeEtingthatnothinghaTUeentakenifinTitmightyunlikelythatanyoneintereEteTinEtealingtheSontentEofaEingleSratewoulTtakethetrouUletoreAlaSethemwithaSarefullySaliUrateTweightofruUUleorothernonEenEeanTinanySaEetheEealhaTUeenreAlaSeTthatEeemElikeanawfullotoftrouUleforafewrifleEanTUoJeEofammunitionwiththeSrateEinEtoragetheEealEhaHeUeenremoHeTAreEumaUlytoallowyourSuEtomEoffiSialEtoinEAeStthemanTthatgaHemeanoAAortunitytoeJaminetheSontentEittookmealongtimetoworkthroughthemallUutitEtheTarneTeEtthingthereiEnothingmiEEinganTimeannothingnoteHenaEingleUulletanTweknowthatatleaEtonewaEleftonthefloorofthewarehouEeinerinmyfrienTEtellmethatahinTugentlemanhaTUeenEeenintheHiSinityoftheEheTintheAaEtnightUutiamminTeTtothinkthatiERuEtESuttleUuttfolkEinerintalklikethataUoutEtrangerEallthetimeanTwithnothingtoSonneSthimtotheSargoanTnowaytotraSkhimTownithinkweSanignoreifnotforgetthegoEEiAihoAetoUewithyouagaininthreeTayEanTlookforwarTtoTiESuEEingthiEmyEterywithyouthenmiEEkatewarne\n"
     ]
    }
   ],
   "source": [
    "# \"MZrtheattentiZnZMmr\" -> M=f, Z=o\n",
    "# \"nZthinNmissinN\" -> N=g\n",
    "# \"atWeastZne\" -> W=l\n",
    "# \"mKsterKwithKZG\" -> K=y, G=u\n",
    "decode(squished, \"ABarEtuHwJyLfgehiRSTUklmno\")"
   ]
  },
  {
   "cell_type": "code",
   "execution_count": 14,
   "metadata": {},
   "outputs": [
    {
     "name": "stdout",
     "output_type": "stream",
     "text": [
      "fortheattentionofmrsadalovelaceandmrcharlesbabbagehorsleytowerseasthorsleysurreyenglandmydearcountessmrbabbageihavecompletedmyinvestigationsattheimperialarmscustomswarehouseandwillreturnforthwithbutknowingjusthowlongthatjourneymaytakeandhowremarkablyswiftyourroyalmailcanbeithoughtitbesttosendyoumyreportbylettermynewfriendsinliverpoolwererealhelpfulandprovidedmewiththeshippingpapersalthoughiamnotsurehowmuchassistancetheywillprovideallicanseeisthatthecratesalllefttheunitedstatestogetherandeachweighedthesamesuggestingthatnothinghadbeentakenifinditmightyunlikelythatanyoneinterestedinstealingthecontentsofasinglecratewouldtakethetroubletoreplacethemwithacarefullycalibratedweightofrubbleorothernonsenseandinanycasethesealhadbeenreplacedthatseemslikeanawfullotoftroubleforafewriflesandboxesofammunitionwiththecratesinstoragethesealshavebeenremovedpresumablytoallowyourcustomsofficialstoinspectthemandthatgavemeanopportunitytoexaminethecontentsittookmealongtimetoworkthroughthemallbutitsthedarnedestthingthereisnothingmissingandimeannothingnotevenasinglebulletandweknowthatatleastonewasleftonthefloorofthewarehouseinerinmyfriendstellmethatahindugentlemanhadbeenseeninthevicinityoftheshedinthepastnightbutiammindedtothinkthatisjustscuttlebuttfolksinerintalklikethataboutstrangersallthetimeandwithnothingtoconnecthimtothecargoandnowaytotrackhimdownithinkwecanignoreifnotforgetthegossipihopetobewithyouagaininthreedaysandlookforwardtodiscussingthismysterywithyouthenmisskatewarne\n"
     ]
    }
   ],
   "source": [
    "# \"SharleEUaUUage\" -> S=c, E=s, U=b\n",
    "# \"nothinghaTUeentaken\" -> T=d\n",
    "# \"ihaHeSomAleteTmyinHeEtigation\" -> H=v, A=p\n",
    "# \"Rourney\" -> R=j\n",
    "# Gaps left imply B=q, J=x, L=z\n",
    "decode(squished, \"pqarstuvwxyzfgehijcdbklmno\")"
   ]
  },
  {
   "cell_type": "markdown",
   "metadata": {},
   "source": [
    "## Edited for clarity\n",
    "For the attention of Mrs Ada Lovelace and Mr Charles Babbage, Horsley towers East, Horsley, Surrey, England<br/>\n",
    "My dear Countess, Mr Babbage,<br/>\n",
    "I have completed my investigations at the imperial arms customs warehouse and will return forthwith, but knowing just how long that journey may take and how remarkably swift your Royal Mail can be, I thought it best to send you my report by letter.<br/>\n",
    "My new friends in Liverpool were real helpful and provided me with the shipping papers, although I am not sure how much assistance they will provide. All I can see is that the crates all left the United States together and each weighed the same, suggesting that nothing had been taken. I find it mighty unlikely that anyone interested in stealing the contents of a single crate would take the trouble to replace them with a carefully calibrated weight of rubble or other nonsense and in any case, the seal had been replaced. That seems like an awful lot of trouble for a few rifles and boxes of ammunition.<br/>\n",
    "With the crates in storage, the seals have been removed, presumably to allow your customs officials to inspect them, and that gave me an opportunity to examine the contents. It took me a long time to work through them all, but its the darnedest thing - There is nothing missing and I mean \"nothing\". Not even a single bullet, and we know that at least one was left on the floor of the warehouse in Erin.<br/>\n",
    "My friends tell me that a Hindu gentleman had been seen in the vicinity of the shed in the past night, but I am minded to think that is just scuttlebutt. Folks in Erin talk like that about strangers all the time and with nothing to connect him to the cargo and no way to track him down, I think we can ignore, if not forget, the gossip.<br/>\n",
    "I hope to be with you again in three days and look forward to discussing this mystery with you then.<br/>\n",
    "Miss Kate Warne."
   ]
  },
  {
   "cell_type": "code",
   "execution_count": 15,
   "metadata": {},
   "outputs": [],
   "source": [
    "import string\n",
    "\n",
    "# Attempts to determine the keyword used for a substitution cipher\n",
    "# alphabet: The substitution alphabet\n",
    "def decode_key(alphabet):\n",
    "    decoded_alphabet = \"\"\n",
    "    for letter in string.ascii_lowercase:\n",
    "        decoded_alphabet += chr(alphabet.find(letter) + ord(\"a\"))\n",
    "    print(f\"Decoded alphabet: {decoded_alphabet}\")\n",
    "    \n",
    "    remaining_letters = list(string.ascii_lowercase)\n",
    "    for pos, letter in enumerate(decoded_alphabet):\n",
    "        remaining_letters.remove(letter)\n",
    "        next_letter_index = remaining_letters.index(decoded_alphabet[pos+1])\n",
    "        if decoded_alphabet[pos+1:] == \"\".join(remaining_letters[next_letter_index:] + remaining_letters[:next_letter_index]):\n",
    "            print(f\"Keyword: {decoded_alphabet[:pos+2]}\")\n",
    "            break"
   ]
  },
  {
   "cell_type": "code",
   "execution_count": 16,
   "metadata": {},
   "outputs": [
    {
     "name": "stdout",
     "output_type": "stream",
     "text": [
      "Decoded alphabet: customnpqrvwxyzabdefghijkl\n",
      "Keyword: custom\n"
     ]
    }
   ],
   "source": [
    "decode_key(\"pqarstuvwxyzfgehijcdbklmno\")"
   ]
  },
  {
   "cell_type": "code",
   "execution_count": null,
   "metadata": {},
   "outputs": [],
   "source": []
  }
 ],
 "metadata": {
  "kernelspec": {
   "display_name": "Python 3 (ipykernel)",
   "language": "python",
   "name": "python3"
  },
  "language_info": {
   "codemirror_mode": {
    "name": "ipython",
    "version": 3
   },
   "file_extension": ".py",
   "mimetype": "text/x-python",
   "name": "python",
   "nbconvert_exporter": "python",
   "pygments_lexer": "ipython3",
   "version": "3.12.4"
  }
 },
 "nbformat": 4,
 "nbformat_minor": 4
}
