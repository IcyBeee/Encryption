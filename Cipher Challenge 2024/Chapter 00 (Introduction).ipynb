{
 "cells": [
  {
   "cell_type": "markdown",
   "metadata": {},
   "source": [
    "# Cipher Challenge 2024\n",
    "### Chapter 0 (Introduction) / 2023-Sep-12\n",
    "\n",
    "Challenge link https://www.cipherchallenge.org/challenge/introduction/"
   ]
  },
  {
   "cell_type": "code",
   "execution_count": 2,
   "metadata": {},
   "outputs": [],
   "source": [
    "# Part A - \"The Letter\"\n",
    "part_a_text = \"\"\"\n",
    "YBY JMTCJYAC YLB AFYPJCQ ZYZZYEC YPC RUM MD RFC KMQR GKNMPRYLR KCKZCPQ MD MSP AMKKSLGRW. RFCW DCYRSPCB GL RFC DGPQR LYRGMLYJ AGNFCP AFYJJCLEC, YLB YEYGL QMKC WCYPQ JYRCP UFCL UC CVNJMPCB RFCGP CYPJW KCCRGLE. GL RFGQ YBTCLRSPC UC YPC PCRSPLGLE RM RFC CLB MD FCP JGDC, YR JCYQR RFC NYPR PCAMPBCB GL RFC YPAFGTCQ YR ZMQQ FCYBOSYPRCPQ. G DMSLB RFGQ QRMPW ZW YAAGBCLR UFCL G UYQ PCQCYPAFGLE RFC PMJC MD RFC PMWYJ DYKGJW GL MSP LYRGMLYJ QCASPGRW. KYLW MD RFCK QCPTCB GL RFC KGJGRYPW YLB YPC DYKGJGYP UGRF AMBCQ YLB AGNFCPQ, YLB G UMLBCPCB FMU DYP ZYAI RFYR GLRCPCQR UCLR. RFYR UYQ FMU G QRSKZJCB YAPMQQ Y LMRC DPMK NPGLAC YJZCPR RM JMPB NYJKCPQRML YLB RFYR QRYPRCB KC BMUL RFC PYZZGR FMJC RFYR JCB SQ FCPC. G FMNC WMS CLHMW GR YQ KSAF YQ G BGB. UC UGJJ KCCR QMKC DYQAGLYRGLE LCU AFYPYARCPQ ML RFC UYW, YLB RFC QRMPW RYICQ Y RUGQR MP RUM. MD AMSPQC, G ILMU FMU GR CLBQ, WMS BML\\'R WCR, ZSR GD WMS QRGAI UGRF GR WMS UGJJ, YLB, JGIC KC, WMS UGJJ NPMZYZJW JCYPL QMKCRFGLE ML RFC UYW. G FYTC NMQRCB Y QICRAF MD Y ZSJJCR RFYR UYQ QCLR RM YBY ZYAI GL 1851 ML RFC AYQC DGJCQ NYEC. RFYR UYQ UFCPC RFC QRMPW ZCEYL YLB UFYR BPCU YBY GL. RYIC Y JMMI YLB QCC GD WMS AYL DGESPC MSR UFYR GR KGEFR FYTC KCYLR. GR GQ LMR Y ZYB NJYAC RM QRYPR.\n",
    "\"\"\""
   ]
  },
  {
   "cell_type": "code",
   "execution_count": 3,
   "metadata": {},
   "outputs": [],
   "source": [
    "# Bring in the basic decoder function\n",
    "import string\n",
    "\n",
    "# A simple translation method.\n",
    "# text: The text to translate, in upper case\n",
    "# key: A substitution alphabet, usually in lower case so that the translated characters show up\n",
    "def decode(text, key):\n",
    "    table = str.maketrans(string.ascii_uppercase, key)\n",
    "    print(text.upper().translate(table))"
   ]
  },
  {
   "cell_type": "code",
   "execution_count": 4,
   "metadata": {},
   "outputs": [
    {
     "name": "stdout",
     "output_type": "stream",
     "text": [
      "\n",
      "ada lovelace and charles babbage are two of the most important members of our community. they featured in the first national cipher challenge, and again some years later when we explored their early meeting. in this adventure we are returning to the end of her life, at least the part recorded in the archives at boss headquarters. i found this story by accident when i was researching the role of the royal family in our national security. many of them served in the military and are familiar with codes and ciphers, and i wondered how far back that interest went. that was how i stumbled across a note from prince albert to lord palmerston and that started me down the rabbit hole that led us here. i hope you enjoy it as much as i did. we will meet some fascinating new characters on the way, and the story takes a twist or two. of course, i know how it ends, you don't yet, but if you stick with it you will, and, like me, you will probably learn something on the way. i have posted a sketch of a bullet that was sent to ada back in 1851 on the case files page. that was where the story began and what drew ada in. take a look and see if you can figure out what it might have meant. it is not a bad place to start.\n",
      "\n"
     ]
    }
   ],
   "source": [
    "# As this is week 1, it's probably a Caesar cipher.  \"RFC\" looks like it's \"the\" (+2)\n",
    "decode(part_a_text, \"cdefghijklmnopqrstuvwxyzab\")"
   ]
  },
  {
   "cell_type": "code",
   "execution_count": 6,
   "metadata": {},
   "outputs": [],
   "source": [
    "# Part B \"A Private Note\"\n",
    "part_b_text = \"\"\"\n",
    "CQ ATGJ HGBCTJKLFD, X OGK JTBMELGDL LF RTBXTNT LWGL LWT CQKLTJQ FU LWT KXBNTJ RMBBTL EFMBA ATUTGL LWT RJXBBXGDL CXDAK XD QFMJ FUUXET, RML X WGNT EFCT LF LWT EFDEBMKXFD LWGL LWT KXDVMBGJ CXKK OGJDT OGK EFJJTEL XD WTJ GKKMCHLXFD LWGL LWXK HGJLXEMBGJ EXHWTJ OFMBA ATUTGL MK. WTJ EWFXET FU LWT EFMDLTKK GK WTJ EFDUXATDL GDA EFBBGRFJGLFJ OGK XDKHXJTA. LWT CGJZXDVK FD LWT RMBBTL OTJT EBTGJBQ KXVDXUXEGDL, LWFMVW LWTXJ CTGDXDV TKEGHTA CT TDLXJTBQ MDLXB TPHBGXDTA. OXLW LWGL ZDFOBTAVT, LWT GEEFCHGDQXDV BTLLTJ EFCCGDAK FMJ GLLTDLXFD OXLW XLK AGJZ GBBMKXFDK LF LWT TDA FU LWT TCHXJT.\n",
    "\n",
    "X ZDFO LWGL QFM GJT LTCHLTA LF GKZ LWT LOF UTGJKFCT BGAXTK LF KLTH GKXAT GDA GBBFO LWT TPHTJLK XD QFMJ ATHGJLCTDL LF LGZT FD LWT XDNTKLXVGLXFD, RML CQ FOD TPHTJXTDET FU CQ ATGJ OXUT KMVVTKLK LWGL, FDET JFMKTA, LWT LXVJTKK XK MDBXZTBQ LF GRGDAFD XLK CTGB, GDA X UTGJ LWGL OT OXBB WGNT LF KLGDA GKXAT GDA GBBFO LWTC LF EFDLXDMT FD LWTXJ GANTDLMJT. XL XK EBTGJ LWGL LWTQ WGNT LWT KZXBBK GDA ATLTJCXDGLXFD LF KTT LWXK LWJFMVW, GDA X LWXDZ OT OXBB FDBQ FRKLJMEL LWTC XU OT XDLTJUTJT.\n",
    "\n",
    "X LJMKL LWGL QFM WGNT JTGEWTA LWT KGCT EFDEBMKXFD GDA LWGL X EGD GKZ RGRRGVT LF EFDNTQ FMJ LWGDZK GDA RTKL OXKWTK LF LWTC RFLW, XD LWT WFHT LWGL LWTQ EGD RJXDV G KHTTAQ JTKFBMLXFD LF LWXK LJFMRBXDV CGLLTJ.\n",
    "\n",
    "QFMJK, GBRTJL\n",
    "\"\"\""
   ]
  },
  {
   "cell_type": "code",
   "execution_count": 7,
   "metadata": {},
   "outputs": [
    {
     "name": "stdout",
     "output_type": "stream",
     "text": [
      "\n",
      "my dear HaBmerKtFD, i OaK reBMEtaDt tF ReBieNe that the myKtery FU the KiBNer RMBBet EFMBd deUeat the RriBBiaDt miDdK iD yFMr FUUiEe, RMt i haNe EFme tF the EFDEBMKiFD that the KiDVMBar miKK OarDe OaK EFrreEt iD her aKKMmHtiFD that thiK HartiEMBar EiHher OFMBd deUeat MK. her EhFiEe FU the EFMDteKK aK her EFDUideDt aDd EFBBaRFratFr OaK iDKHired. the marZiDVK FD the RMBBet Oere EBearBy KiVDiUiEaDt, thFMVh their meaDiDV eKEaHed me eDtireBy MDtiB ePHBaiDed. Oith that ZDFOBedVe, the aEEFmHaDyiDV Better EFmmaDdK FMr atteDtiFD Oith itK darZ aBBMKiFDK tF the eDd FU the emHire.\n",
      "\n",
      "i ZDFO that yFM are temHted tF aKZ the tOF UearKFme BadieK tF KteH aKide aDd aBBFO the ePHertK iD yFMr deHartmeDt tF taZe FD the iDNeKtiVatiFD, RMt my FOD ePHerieDEe FU my dear OiUe KMVVeKtK that, FDEe rFMKed, the tiVreKK iK MDBiZeBy tF aRaDdFD itK meaB, aDd i Uear that Oe OiBB haNe tF KtaDd aKide aDd aBBFO them tF EFDtiDMe FD their adNeDtMre. it iK EBear that they haNe the KZiBBK aDd determiDatiFD tF Kee thiK thrFMVh, aDd i thiDZ Oe OiBB FDBy FRKtrMEt them iU Oe iDterUere.\n",
      "\n",
      "i trMKt that yFM haNe reaEhed the Kame EFDEBMKiFD aDd that i EaD aKZ RaRRaVe tF EFDNey FMr thaDZK aDd ReKt OiKheK tF them RFth, iD the hFHe that they EaD RriDV a KHeedy reKFBMtiFD tF thiK trFMRBiDV matter.\n",
      "\n",
      "yFMrK, aBRert\n",
      "\n"
     ]
    }
   ],
   "source": [
    "# The page indicates that it is a substitution cipher.\n",
    "# Lots of \"LWT\" - probably \"the\". \n",
    "# \"CQ ATGJ\" - probably \"my dear\"\n",
    "# \"X\" is probably \"i\"\n",
    "decode(part_b_text, \"dBmDEFaHIrKtMNOPyRSeUVhiYZ\")"
   ]
  },
  {
   "cell_type": "code",
   "execution_count": 8,
   "metadata": {},
   "outputs": [
    {
     "name": "stdout",
     "output_type": "stream",
     "text": [
      "\n",
      "my dear palmerston, i was reluctant to zelieve that the mystery of the silver zullet could defeat the zrilliant minds in your office, zut i have come to the conclusion that the singular miss warne was correct in her assumption that this particular cipher would defeat us. her choice of the countess as her confident and collazorator was inspired. the markings on the zullet were clearly significant, though their meaning escaped me entirely until explained. with that knowledge, the accompanying letter commands our attention with its dark allusions to the end of the empire.\n",
      "\n",
      "i know that you are tempted to ask the two fearsome ladies to step aside and allow the experts in your department to take on the investigation, zut my own experience of my dear wife suggests that, once roused, the tigress is unlikely to azandon its meal, and i fear that we will have to stand aside and allow them to continue on their adventure. it is clear that they have the skills and determination to see this through, and i think we will only ozstruct them if we interfere.\n",
      "\n",
      "i trust that you have reached the same conclusion and that i can ask zazzage to convey our thanks and zest wishes to them zoth, in the hope that they can zring a speedy resolution to this trouzling matter.\n",
      "\n",
      "yours, alzert\n",
      "\n"
     ]
    }
   ],
   "source": [
    "# \"myKtery FU the KiBNer\" -> K=s, F=o, U=f, \n",
    "# \"i haNe EFme tF the\" -> N=v, E=c\n",
    "# \"i thiDZ Oe OiBB\" -> D=n, Z=k, O=w, B=l\n",
    "# \"deHartmeDt\" -> H=p\n",
    "# filling in gaps I=q, M=u, P=x, R=z, V=g, Y=j, leaving S=b\n",
    "decode(part_b_text, \"dlmncoapqrstuvwxyzbefghijk\")"
   ]
  },
  {
   "cell_type": "code",
   "execution_count": 9,
   "metadata": {},
   "outputs": [
    {
     "name": "stdout",
     "output_type": "stream",
     "text": [
      "\n",
      "my dear palmerston, i was reluctant to believe that the mystery of the silver bullet could defeat the brilliant minds in your office, but i have come to the conclusion that the singular miss warne was correct in her assumption that this particular cipher would defeat us. her choice of the countess as her confident and collaborator was inspired. the markings on the bullet were clearly significant, though their meaning escaped me entirely until explained. with that knowledge, the accompanying letter commands our attention with its dark allusions to the end of the empire.\n",
      "\n",
      "i know that you are tempted to ask the two fearsome ladies to step aside and allow the experts in your department to take on the investigation, but my own experience of my dear wife suggests that, once roused, the tigress is unlikely to abandon its meal, and i fear that we will have to stand aside and allow them to continue on their adventure. it is clear that they have the skills and determination to see this through, and i think we will only obstruct them if we interfere.\n",
      "\n",
      "i trust that you have reached the same conclusion and that i can ask babbage to convey our thanks and best wishes to them both, in the hope that they can bring a speedy resolution to this troubling matter.\n",
      "\n",
      "yours, albert\n",
      "\n"
     ]
    }
   ],
   "source": [
    "# Whoops - R was b, so  s must be z\n",
    "decode(part_b_text, \"dlmncoapqrstuvwxybzefghijk\")"
   ]
  },
  {
   "cell_type": "code",
   "execution_count": 11,
   "metadata": {},
   "outputs": [
    {
     "name": "stdout",
     "output_type": "stream",
     "text": [
      "Decoded alphabet: greatuvwxyzbcdfhijklmnopqs\n",
      "Keyword: great\n"
     ]
    }
   ],
   "source": [
    "import string\n",
    "\n",
    "# Attempts to determine the keyword used for a substitution cipher\n",
    "# alphabet: The substitution alphabet\n",
    "def decode_key(alphabet):\n",
    "    decoded_alphabet = \"\"\n",
    "    for letter in string.ascii_lowercase:\n",
    "        decoded_alphabet += chr(alphabet.find(letter) + ord(\"a\"))\n",
    "    print(f\"Decoded alphabet: {decoded_alphabet}\")\n",
    "    \n",
    "    remaining_letters = list(string.ascii_lowercase)\n",
    "    for pos, letter in enumerate(decoded_alphabet):\n",
    "        remaining_letters.remove(letter)\n",
    "        next_letter_index = remaining_letters.index(decoded_alphabet[pos+1])\n",
    "        if decoded_alphabet[pos+1:] == \"\".join(remaining_letters[next_letter_index:] + remaining_letters[:next_letter_index]):\n",
    "            print(f\"Keyword: {decoded_alphabet[:pos+2]}\")\n",
    "            break\n",
    "            \n",
    "decode_key(\"dlmncoapqrstuvwxybzefghijk\")"
   ]
  }
 ],
 "metadata": {
  "kernelspec": {
   "display_name": "Python 3 (ipykernel)",
   "language": "python",
   "name": "python3"
  },
  "language_info": {
   "codemirror_mode": {
    "name": "ipython",
    "version": 3
   },
   "file_extension": ".py",
   "mimetype": "text/x-python",
   "name": "python",
   "nbconvert_exporter": "python",
   "pygments_lexer": "ipython3",
   "version": "3.12.4"
  }
 },
 "nbformat": 4,
 "nbformat_minor": 4
}
