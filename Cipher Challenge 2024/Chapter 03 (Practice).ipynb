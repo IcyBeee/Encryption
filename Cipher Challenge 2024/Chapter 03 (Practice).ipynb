{
 "cells": [
  {
   "cell_type": "markdown",
   "metadata": {},
   "source": [
    "# Cipher Challenge 2024\n",
    "### Chapter 3 (practice) / 2024-Oct-24\n",
    "\n",
    "Challenge link https://www.cipherchallenge.org/challenge/challenge-3/"
   ]
  },
  {
   "cell_type": "code",
   "execution_count": 1,
   "metadata": {},
   "outputs": [],
   "source": [
    "# Part A - \"Roman-a clef?\"\n",
    "part_a_text = \"\"\"\n",
    "XK ANRD MSRDWNE, T SZBN FSTE WNFFND PTYAE KZG INWW DNEFNA, PZD T SRHN FSN XZEF EGDBDTETYQ YNIE. NJBNMFTYQ R DNBWK PDZX XTEE IRDYN T SRHN ONNY IRTFTYQ NRQNDWK PZD FSN BZEF, TY FSN SZBN FSRF ESN IZGWA ON ROWN FZ ESNA XZDN WTQSF ZY FSN XKEFNDK ZP FSN ETWHND OGWWNF. ISRF T ATA YZF NJBNMF ISNY FSN AZZDONWW DRYQ IRE FSRF XTEE IRDYN SNDENWP IZGWA ON GESNDNA TYFZ XK XZDYTYQ DZZX! ESN IRE EZXNISRF ATESNHNWWNA RYA MWZEN FZ EFRDHTYQ, RE TP ESN SRA IRWVNA SNDN, RYA TF FZZV EZXN FTXN PZD SND FZ DNMZHND NYZGQS FZ FNWW XN ISRF ESN IRE AZTYQ TY NYQWRYA. TF RBBNRDE FSRF ESN FZZV FZ SNRDF ZGD MZYMNDY FSRF FSTE XRFFND IZGWA ON ANWRKNA OK FSN MZYFTYGRW NJMSRYQN ZP WNFFNDE, RYA, ATEMZHNDTYQ FSRF FSN ESTBBTYQ MDRFNE INDN FZ ON FDRYEBZDFNA FZ NYQWRYA ZY FSN BRMTPTM ESN XRAN RDDRYQNXNYFE FZ FDRHNW ITFS FSN MRDQZ. ISRF RDDRYQNXNYFE FSZEN XTQSF SRHN ONNY ESN SRE ONNY FZZ MZK FZ NJBWRTY. PZD FSN XZXNYF T SRHN WZAQNA SND ITFS XK XRTA TY FSN RFFTM SNDN RF FSN FZINDE. FSN EFRPP SRHN ONNY XRDHNWWZGE, BDZHTATYQ SND ITFS EGTFROWN MWZFSNE, RYA ESRDTYQ XNRWE. T RX YZF EGDN SZI XTEE IRDYN ITWW XRYRQN TY FSN WZYQND FNDX, OGF PZD YZI ESN TE ENFFWNA RYA T FSTYV IN ESZGWA MZYMNYFDRFN ZGD RFFNYFTZY ZY FSN TYPZDXRFTZY FSRF ESN SRE ODZGQSF ITFS SND. QTHNY FSRF FSNDN TE R ENYETFTHTFK FZ FSTE XRFFND, T IZGWA BDNPND FZ FNWW KZG ROZGF TF TY BNDEZY. TY RYK MREN, KZG XRK INWW ITES FZ SNRD FSN EFZDK PDZX XTEE IRDYN SNDENWP, EZ T BDZBZEN FSRF IN XNNF SNDN RF SZDEWNK RF KZGD NRDWTNEF MZYHNYTNYMN. TY R MGDTZGE MZTYMTANYMN ZP FTXTYQ ETD MSRDWNE TE RWEZ BWRYYTYQ FZ HTETF ESZDFWK FZ ATEMGEE TYEFRWWTYQ STE FNWNQDRBSTM EKEFNX RF ZGD DNETANYMNE TY ZDAND FZ EBNNA MZXXGYTMRFTZY. BNDSRBE IN MRY RDDRYQN XRFFNDE EZ FSRF SN FZZ MRY ON ODTNPNA ZY FSN TEEGNE TY FSTE MREN. EBNRVTYQ ZP ODTNPTYQ, T FSTYV TF IZGWA ON RBBDZBDTRFN FZ VNNB WZDA BRWXNDEFZY TYPZDXNA ZP ZGD TYHNEFTQRFTZYE. ITFSZGF ERKTYQ FZZ XGMS RF FSTE EFRQN, FSNDN RDN ATBWZXRFTM TEEGNE RF BWRK, RYA SN XTQSF BDNPND FZ WNRA ZY FSNEN XRFFNDE. MZGWA T REV KZG FZ IDTFN FZ STX? KZG VYZI SZI SN SRFNE FZ ON OZFSNDNA OK IZXNY. TF XTQSF ON R QZZA TANR FZ NYMTBSND RWW ZGD MZXXGYTMRFTZYE ITFS STE ZPPTMN GETYQ ZGD MGEFZXRDK FDRYEBZETFTZY MTBSND. T AZ YZF NYFTDNWK FDGEF FSN ATEMDNFTZY ZP FSZEN TY STE BDTHRFN ZPPTMN. ITFS XK PZYANEF DNQRDAE, RAR\n",
    "\"\"\""
   ]
  },
  {
   "cell_type": "code",
   "execution_count": 2,
   "metadata": {},
   "outputs": [],
   "source": [
    "# Bring in the basic decoder function\n",
    "import string\n",
    "\n",
    "# A simple translation method.\n",
    "# text: The text to translate, in upper case\n",
    "# key: A substitution alphabet, usually in lower case so that the translated characters show up\n",
    "def decode(text, key):\n",
    "    table = str.maketrans(string.ascii_uppercase, key)\n",
    "    print(text.upper().translate(table))"
   ]
  },
  {
   "cell_type": "code",
   "execution_count": 3,
   "metadata": {},
   "outputs": [
    {
     "name": "stdout",
     "output_type": "stream",
     "text": [
      "\n",
      "XK deaD MhaDWeE, i hZBe thiE WetteD PiYdE KZG IeWW DeEted, PZD i haHe the XZEt EGDBDiEiYQ YeIE. eJBeMtiYQ a DeBWK PDZX XiEE IaDYe i haHe OeeY IaitiYQ eaQeDWK PZD the BZEt, iY the hZBe that Ehe IZGWd Oe aOWe tZ Ehed XZDe WiQht ZY the XKEteDK ZP the EiWHeD OGWWet. Ihat i did YZt eJBeMt IheY the dZZDOeWW DaYQ IaE that XiEE IaDYe heDEeWP IZGWd Oe GEheDed iYtZ XK XZDYiYQ DZZX! Ehe IaE EZXeIhat diEheHeWWed aYd MWZEe tZ EtaDHiYQ, aE iP Ehe had IaWVed heDe, aYd it tZZV EZXe tiXe PZD heD tZ DeMZHeD eYZGQh tZ teWW Xe Ihat Ehe IaE dZiYQ iY eYQWaYd. it aBBeaDE that Ehe tZZV tZ heaDt ZGD MZYMeDY that thiE XatteD IZGWd Oe deWaKed OK the MZYtiYGaW eJMhaYQe ZP WetteDE, aYd, diEMZHeDiYQ that the EhiBBiYQ MDateE IeDe tZ Oe tDaYEBZDted tZ eYQWaYd ZY the BaMiPiM Ehe Xade aDDaYQeXeYtE tZ tDaHeW Iith the MaDQZ. Ihat aDDaYQeXeYtE thZEe XiQht haHe OeeY Ehe haE OeeY tZZ MZK tZ eJBWaiY. PZD the XZXeYt i haHe WZdQed heD Iith XK Xaid iY the attiM heDe at the tZIeDE. the EtaPP haHe OeeY XaDHeWWZGE, BDZHidiYQ heD Iith EGitaOWe MWZtheE, aYd EhaDiYQ XeaWE. i aX YZt EGDe hZI XiEE IaDYe IiWW XaYaQe iY the WZYQeD teDX, OGt PZD YZI Ehe iE EettWed aYd i thiYV Ie EhZGWd MZYMeYtDate ZGD atteYtiZY ZY the iYPZDXatiZY that Ehe haE ODZGQht Iith heD. QiHeY that theDe iE a EeYEitiHitK tZ thiE XatteD, i IZGWd BDePeD tZ teWW KZG aOZGt it iY BeDEZY. iY aYK MaEe, KZG XaK IeWW IiEh tZ heaD the EtZDK PDZX XiEE IaDYe heDEeWP, EZ i BDZBZEe that Ie Xeet heDe at hZDEWeK at KZGD eaDWieEt MZYHeYieYMe. iY a MGDiZGE MZiYMideYMe ZP tiXiYQ EiD MhaDWeE iE aWEZ BWaYYiYQ tZ HiEit EhZDtWK tZ diEMGEE iYEtaWWiYQ hiE teWeQDaBhiM EKEteX at ZGD DeEideYMeE iY ZDdeD tZ EBeed MZXXGYiMatiZY. BeDhaBE Ie MaY aDDaYQe XatteDE EZ that he tZZ MaY Oe ODiePed ZY the iEEGeE iY thiE MaEe. EBeaViYQ ZP ODiePiYQ, i thiYV it IZGWd Oe aBBDZBDiate tZ VeeB WZDd BaWXeDEtZY iYPZDXed ZP ZGD iYHeEtiQatiZYE. IithZGt EaKiYQ tZZ XGMh at thiE EtaQe, theDe aDe diBWZXatiM iEEGeE at BWaK, aYd he XiQht BDePeD tZ Wead ZY theEe XatteDE. MZGWd i aEV KZG tZ IDite tZ hiX? KZG VYZI hZI he hateE tZ Oe OZtheDed OK IZXeY. it XiQht Oe a QZZd idea tZ eYMiBheD aWW ZGD MZXXGYiMatiZYE Iith hiE ZPPiMe GEiYQ ZGD MGEtZXaDK tDaYEBZEitiZY MiBheD. i dZ YZt eYtiDeWK tDGEt the diEMDetiZY ZP thZEe iY hiE BDiHate ZPPiMe. Iith XK PZYdeEt DeQaDdE, ada\n",
      "\n"
     ]
    }
   ],
   "source": [
    "# Looks like another substitution cipher. Signed by Ada. R=a, A=d\n",
    "# Lots of FSN -> F=t, S=h, N=e\n",
    "# T=i, probably\n",
    "decode(part_a_text, \"dBCDEtGHIJKLMeOPQahiUVWXYZ\")"
   ]
  },
  {
   "cell_type": "code",
   "execution_count": 4,
   "metadata": {},
   "outputs": [
    {
     "name": "stdout",
     "output_type": "stream",
     "text": [
      "\n",
      "my dear charles, i hope this letter finds you Iell rested, for i haHe the most surprisinQ neIs. eJpectinQ a reply from miss Iarne i haHe Oeen IaitinQ eaQerly for the post, in the hope that she Iould Oe aOle to shed more liQht on the mystery of the silHer Oullet. Ihat i did not eJpect Ihen the doorOell ranQ Ias that miss Iarne herself Iould Oe ushered into my morninQ room! she Ias someIhat disheHelled and close to starHinQ, as if she had IalVed here, and it tooV some time for her to recoHer enouQh to tell me Ihat she Ias doinQ in enQland. it appears that she tooV to heart our concern that this matter Iould Oe delayed Oy the continual eJchanQe of letters, and, discoHerinQ that the shippinQ crates Iere to Oe transported to enQland on the pacific she made arranQements to traHel Iith the carQo. Ihat arranQements those miQht haHe Oeen she has Oeen too coy to eJplain. for the moment i haHe lodQed her Iith my maid in the attic here at the toIers. the staff haHe Oeen marHellous, proHidinQ her Iith suitaOle clothes, and sharinQ meals. i am not sure hoI miss Iarne Iill manaQe in the lonQer term, Out for noI she is settled and i thinV Ie should concentrate our attention on the information that she has OrouQht Iith her. QiHen that there is a sensitiHity to this matter, i Iould prefer to tell you aOout it in person. in any case, you may Iell Iish to hear the story from miss Iarne herself, so i propose that Ie meet here at horsley at your earliest conHenience. in a curious coincidence of timinQ sir charles is also planninQ to Hisit shortly to discuss installinQ his teleQraphic system at our residences in order to speed communication. perhaps Ie can arranQe matters so that he too can Oe Oriefed on the issues in this case. speaVinQ of OriefinQ, i thinV it Iould Oe appropriate to Veep lord palmerston informed of our inHestiQations. Iithout sayinQ too much at this staQe, there are diplomatic issues at play, and he miQht prefer to lead on these matters. could i asV you to Irite to him? you VnoI hoI he hates to Oe Oothered Oy Iomen. it miQht Oe a Qood idea to encipher all our communications Iith his office usinQ our customary transposition cipher. i do not entirely trust the discretion of those in his priHate office. Iith my fondest reQards, ada\n",
      "\n"
     ]
    }
   ],
   "source": [
    "# \"XK deaD MhaDWeE, i hZBe thiE WetteD PiYdE KZG\" -> X=m, K=y, D=r, M=c, W=l, E=s, Z=o, B=p, P=f, Y=n, G=u\n",
    "decode(part_a_text, \"dpCrstuHIJyLceOfQahiUVlmno\")"
   ]
  },
  {
   "cell_type": "code",
   "execution_count": 5,
   "metadata": {},
   "outputs": [
    {
     "name": "stdout",
     "output_type": "stream",
     "text": [
      "\n",
      "my dear charles, i hope this letter finds you well rested, for i have the most surprising news. expecting a reply from miss warne i have been waiting eagerly for the post, in the hope that she would be able to shed more light on the mystery of the silver bullet. what i did not expect when the doorbell rang was that miss warne herself would be ushered into my morning room! she was somewhat dishevelled and close to starving, as if she had walked here, and it took some time for her to recover enough to tell me what she was doing in england. it appears that she took to heart our concern that this matter would be delayed by the continual exchange of letters, and, discovering that the shipping crates were to be transported to england on the pacific she made arrangements to travel with the cargo. what arrangements those might have been she has been too coy to explain. for the moment i have lodged her with my maid in the attic here at the towers. the staff have been marvellous, providing her with suitable clothes, and sharing meals. i am not sure how miss warne will manage in the longer term, but for now she is settled and i think we should concentrate our attention on the information that she has brought with her. given that there is a sensitivity to this matter, i would prefer to tell you about it in person. in any case, you may well wish to hear the story from miss warne herself, so i propose that we meet here at horsley at your earliest convenience. in a curious coincidence of timing sir charles is also planning to visit shortly to discuss installing his telegraphic system at our residences in order to speed communication. perhaps we can arrange matters so that he too can be briefed on the issues in this case. speaking of briefing, i think it would be appropriate to keep lord palmerston informed of our investigations. without saying too much at this stage, there are diplomatic issues at play, and he might prefer to lead on these matters. could i ask you to write to him? you know how he hates to be bothered by women. it might be a good idea to encipher all our communications with his office using our customary transposition cipher. i do not entirely trust the discretion of those in his private office. with my fondest regards, ada\n",
      "\n"
     ]
    }
   ],
   "source": [
    "# \"Iell rested\" -> I=w\n",
    "# \"i haHe the most surprisinQ neIs\" -> H=v, Q=g\n",
    "# \"eJpectinQ\" -> J=x\n",
    "# \"aOout\" -> O=b\n",
    "# Filling patterns C=q, L=z, U=j, V=k\n",
    "decode(part_a_text, \"dpqrstuvwxyzcebfgahijklmno\")"
   ]
  },
  {
   "cell_type": "code",
   "execution_count": 6,
   "metadata": {},
   "outputs": [
    {
     "name": "stdout",
     "output_type": "stream",
     "text": [
      "Decoded alphabet: romanpqstuvwxyzbcdefghijkl\n",
      "Keyword: roman\n"
     ]
    }
   ],
   "source": [
    "import string\n",
    "\n",
    "# Attempts to determine the keyword used for a substitution cipher\n",
    "# alphabet: The substitution alphabet\n",
    "def decode_key(alphabet):\n",
    "    decoded_alphabet = \"\"\n",
    "    for letter in string.ascii_lowercase:\n",
    "        decoded_alphabet += chr(alphabet.find(letter) + ord(\"a\"))\n",
    "    print(f\"Decoded alphabet: {decoded_alphabet}\")\n",
    "    \n",
    "    remaining_letters = list(string.ascii_lowercase)\n",
    "    for pos, letter in enumerate(decoded_alphabet):\n",
    "        remaining_letters.remove(letter)\n",
    "        next_letter_index = remaining_letters.index(decoded_alphabet[pos+1])\n",
    "        if decoded_alphabet[pos+1:] == \"\".join(remaining_letters[next_letter_index:] + remaining_letters[:next_letter_index]):\n",
    "            print(f\"Keyword: {decoded_alphabet[:pos+2]}\")\n",
    "            break\n",
    "\n",
    "decode_key(\"dpqrstuvwxyzcebfgahijklmno\")"
   ]
  },
  {
   "cell_type": "code",
   "execution_count": 12,
   "metadata": {},
   "outputs": [],
   "source": [
    "# Part B \"A rough diamond \"\n",
    "part_b_text = \"\"\"DMYERA LPAMRE OSTNBI IELEEV ATHTRP CINELA RBETAM LYARAE HDYAEV IWRTET ONTYUO NCOCRE NNIGHT MISATT AERNID AAMLTI ETLEBM RARASS TEDORW EITTIH ESLTET TRAALL TBUIOH YPEOWU LILUDN SERTNA FDIIDN SMYEFL TATHME CERYFO OTWSRT GONWLI DLEWMO WENHAO USSRME HETATT SHIMTA RTEIUS ERGNYT HOUAEV RALEDA EYBEIN ONFREM BDAOTU ROUUEN EXPCET UDGETS SMISAW ERNWOH RARIEV ADLSWT KEETOO AURSOT SNIHEM ONTNHT TESEMA ISHPAP FCIISC IHESLA TITLCE AOYBUO OTHWHS FEAFRO DDETEH UJOREN NYADSI PUSETC ATHTHS IEMGTH VHAEEB AENSOT WWAAWY LHIEAI NMICIL DNETDO LEASRT GONLWY HITTAH ATMTET HRTEOC TUNESS SHAEPX SRESDE ETHEUQ LALYTS NROGIV TEWHTA SWEHUO FLDISR DTADER TSSHRE SEAOSN RFOMSI ASWREN ISVSTI VGIETN SHEESN IITVTI FYOTEH TMATRE ESDSRC EIBDEB WLOIHT KINSEH PISRBO LABYIR TGHMSI ASWREN SHADTE MERIEN HDTATT MHEYTS IEROSU LBULTE SWAMNA AUFCUT DREBTY IHEMEP ARILRA CMSOPM YANWIH ACHSOY NUKOIW WSONDE JBYUIL KUSASI SERPNO RSOOTF IHENID AAPVLI NIOTEH LBULTE SWADSE NIGEAD NSAOEV YLTIET OMTBDE TISRBI EUTDTA ETHEHX IIBTOI INWTTH EHENRG EAVDEL ETTRDS OENTNI HGTEAD OTEFHT XEEHBI IITOON NPEIGN ETHDTA AEWSNE YCRPET HDTEYC EPHRNI ITHSAC BSEENI RGAAHT SERIPM CLEASE SARHFI STIUPP EOSKIA RSEFLE HTTATT SHIWSA TRAHRE ECLVRE OTHUHG SITEME NSAOSB RCUEAW OYTMRA TKEHSI MCOPNA HYTAPT HERASP AISMRA FKOTEH NMASHC AARCET ERHFNA ECISIH EMSLTF CHELVE EERSMT IANNVE YERROO UMBTEH FISUDN GINTEH VPAIIL AONNID STIIPM TORATN ATHTEW NDOOHT GINTOO EFFNHD TIMHTA SDICVO YERMGI HHTAEV OCLSDE ETHMTA RTEADN AIWSNI ICLNDE STOHPI ETHSMO HEWAOT RVEETN SHUISA CTIMSI ASWREN CBAKOT RHEHMO NEINWE RYOKOH VWEETR CHEONU STESAH ESPRUS EADDEM ATHTYM IINTAI MLIPER ISSOSN RWEERP UEJDCI LIAADN ETHRDE SOESEE OMTBSE EOMTIH MNGOER TTOHSI FAFARI SMISAW ERNFUO TNDHBE LULENT TEXTAO ASTCOK EFSAEL RDCAET ASMREK IDWTTH LHEOOG TOFHME UANFCA RTUETR YHEHDA EBENHS PIPETD RHEERF COMHCI OAGTEH ACRTSE NCOTIA DNERFI SLEADN MAMUIN OTINED LVEOEP YDBTEH MCOPNA OYFRHT LECIAM ITENHT UESBOC INTNNE HTTEOC AMPNIY OSHPFE TULHTA ETHBIR STIHOG RVENEM ANTNTD EHEIWC LOUDOB BTHENI RTEETS IEDNUP HRCAIS TNGHME ATHTOD EESXLP NAIHRE ARKIES IRSNET SRETNI ETHEHX IIBTOI TNIWLI CLATSA AAMREK LTPAEC RFOHSI WNEWAE NPOSUB LTASAO PNOPRO NTUIYT CTOURR AYFVUO IRWTTH PHERNI GCEIEV INHSNI UFLECN IEWTTH GHEOEV MRNETN ATHTIM TGHIPM VROEIH HSCACN FEOWNI NNIGCA TONRCA ITMSWS NAREWS REASHT TATHCE TRAEHS NADOBT NEETMA RPEEWD HITTEH MCOPNA EYSASL RWEENI CTATIW ETNSES YDBTEH OPHTGO PRAHBS UROGTH MBYISS RWANAE INDTSI TNOCEL HAROOW HRWYNO FEOTEH LBULTE HSSOLU ADHVEE ASCPDE ETHMTI ESEMPS SOSILB HETAET HITEAR VRIAML UANFCA RTUEOR CRARMI AINLAG MNGAHY EAVSOT NLETEH NCOTNE OTSFNO REOMRO FEOTEH ACRTSE MSOEOH AWMNGA GINTRO EESATL MHEBTU ALEVNI HGTIOS SNEMLA LLCUTE HOTERI TACIIV ETISNI ITHSEW YMAHVA EEBELN KUCYFI ETHSIH EPMNHT AADPEP EARDOT DBEEIF ECINOT RNARVI AALTHT XEEHBI IITOIN OTWUDL VHAEEB DENIFF UICLTT SOETBA SLIHHT TATHTE FHETAH CDOCRU DREITN UHESEW GMIHTT NHEHVA EEBEAN UCCSDE COFAER SLESEN ISSNUO ARHNLD GINOTF CHEOSN NIGMNE TTIHNI TKIWUO BLDENI ROUBSE NTITRE TESSOT AEXMNI HETEOC AMPNSY ACRTSE FBEOER ETHYEL EAVTEH ISHPHW HICARR EIVDNI VLIEPR LOOERA ELIRHT WISEKE RFOTNU EATLTY CHEURR TENDCO OKWREK SRSSRT EIKHSA LDEAEY NDULAO NDIGOS SWEHUO HLDAEV MTIEOT MCOMSI OSINFA LULCEH OCKFHT AECROG FBEOER LITADN FSIAYN ITHNIG MSAISS ETHNEW LWILEB LABEOT SASUER KMRASI TERHTA ETHISS AUERSO EEBFRO HETERC EATSER HACEUD ASIMWA EAROTF SHEESN IITVTI SIEITN SHIMTA RTEWTI HHTEID LSPAOY HFTEOK NHIORO IATTHS REATHT NEIDAI VPAIIL IONSEV DRYERA BTOOHT ETHPIR ENCADN RHEMJA TESYHT UEQENE WITOLU EDBMSO MTEBRA SRASNI FGIIST IPRNIC LPASOP ONSREH KRRASI SERHUO FLDELE ATHTEW EARNTO FAFODR GINHMI EEVRAY ISSSAT ENCIHN OISWEN ENDAOV SURWTI YHMVRE EYBSWT HISEBS BABAEG\"\"\""
   ]
  },
  {
   "cell_type": "code",
   "execution_count": 13,
   "metadata": {},
   "outputs": [],
   "source": [
    "from collections import Counter\n",
    "\n",
    "# Takes a string or list of items and counts the frequencies of those items\n",
    "# data: The list or string to analyse\n",
    "# max_values: The maximum number of values to display (set to None for no limit)\n",
    "# no_columns: The amount of columns to use in the output\n",
    "def frequency_analysis(data, max_values=30, no_columns=5):\n",
    "    frequencies = Counter()\n",
    "    for item in data:\n",
    "        frequencies[item] += 1\n",
    "    \n",
    "    total = sum(frequencies.values())\n",
    "    column = 1\n",
    "    for item, frequency in frequencies.most_common(max_values):\n",
    "        print(f\"{item}: {frequency:2} ({frequency / total:.2%})\", end=\" \" if column % no_columns else \"\\n\")\n",
    "        column += 1\n",
    "    print(\"\\n-----\")"
   ]
  },
  {
   "cell_type": "code",
   "execution_count": 14,
   "metadata": {},
   "outputs": [
    {
     "name": "stdout",
     "output_type": "stream",
     "text": [
      "E: 412 (13.18%) T: 324 (10.36%) I: 252 (8.06%) A: 247 (7.90%) S: 224 (7.17%)\n",
      "H: 210 (6.72%) N: 191 (6.11%) O: 189 (6.05%) R: 184 (5.89%) L: 103 (3.29%)\n",
      "M: 97 (3.10%) D: 95 (3.04%) C: 89 (2.85%) U: 78 (2.50%) W: 71 (2.27%)\n",
      "B: 61 (1.95%) P: 60 (1.92%) F: 59 (1.89%) Y: 54 (1.73%) V: 45 (1.44%)\n",
      "G: 43 (1.38%) K: 23 (0.74%) X:  9 (0.29%) J:  4 (0.13%) Q:  2 (0.06%)\n",
      "\n",
      "-----\n"
     ]
    }
   ],
   "source": [
    "squished = part_b_text.replace(\" \", \"\")\n",
    "frequency_analysis(squished)"
   ]
  },
  {
   "cell_type": "code",
   "execution_count": 15,
   "metadata": {},
   "outputs": [
    {
     "name": "stdout",
     "output_type": "stream",
     "text": [
      "3126\n",
      "1  \n",
      "2  \n",
      "3  \n",
      "6  \n",
      "521  \n",
      "1042  \n",
      "1563  \n"
     ]
    }
   ],
   "source": [
    "# Transposition this time. How many columns might there be?\n",
    "size = len(squished)\n",
    "print(size)\n",
    "for n in range (1, size):\n",
    "    if size % n == 0:\n",
    "        print(n, \" \")"
   ]
  },
  {
   "cell_type": "code",
   "execution_count": 18,
   "metadata": {},
   "outputs": [
    {
     "name": "stdout",
     "output_type": "stream",
     "text": [
      "DMYERA\n",
      "LPAMRE\n",
      "OSTNBI\n",
      "IELEEV\n"
     ]
    }
   ],
   "source": [
    "# Most likely 6.\n",
    "for n in range(0, 24, 6):\n",
    "    print(squished[n:n+6])"
   ]
  },
  {
   "cell_type": "code",
   "execution_count": 19,
   "metadata": {},
   "outputs": [
    {
     "name": "stdout",
     "output_type": "stream",
     "text": [
      "MYDEARPALMERSTONIBELIEVETHATPRINCEALBERTMAYALREADYHAVEWRITTENTOYOUCONCERNINGTHISMATTERANDIAMALITTLEEMBARRASSEDTOWRITETHISLETTERATALLBUTIHOPEYOUWILLUNDERSTANDIFINDMYSELFATTHEMERCYOFTWOSTRONGWILLEDWOMENWHOASSUREMETHATTHISMATTERISURGENTYOUHAVEALREADYBEENINFORMEDABOUTOURUNEXPECTEDGUESTMISSWARNEWHOARRIVEDLASTWEEKTOOURASTONISHMENTONTHESTEAMSHIPPACIFICSHEISALITTLECOYABOUTHOWSHEAFFORDEDTHEJOURNEYANDISUSPECTTHATSHEMIGHTHAVEBEENASTOWAWAYWHILEIAMINCLINEDTODEALSTRONGLYWITHTHATMATTERTHECOUNTESSHASEXPRESSEDTHEEQUALLYSTRONGVIEWTHATWESHOULDFIRSTADDRESSTHEREASONSFORMISSWARNESVISITGIVENTHESENSITIVITYOFTHEMATTERSDESCRIBEDBELOWITHINKSHEISPROBABLYRIGHTMISSWARNEHASDETERMINEDTHATTHEMYSTERIOUSBULLETWASMANUFACTUREDBYTHEIMPERIALARMSCOMPANYWHICHASYOUKNOWISOWNEDBYJULIUSKAISERSPONSOROFTHEINDIAPAVILIONTHEBULLETWASDESIGNEDASANOVELTYITEMTOBEDISTRIBUTEDATTHEEXHIBITIONWITHTHEENGRAVEDLETTERSDENOTINGTHEDATEOFTHEEXHIBITIONOPENINGTHEDATEWASENCRYPTEDTHECYPHERINTHISCASEBEINGARATHERSIMPLECAESARSHIFTISUPPOSEKAISERFELTTHATTHISWASRATHERCLEVERTHOUGHITSEEMSANOBSCUREWAYTOMARKETHISCOMPANYTHATPERHAPSISAMARKOFTHEMANSCHARACTERHEFANCIESHIMSELFTHECLEVERESTMANINEVERYROOMBUTHEISFUNDINGTHEPAVILIONANDITISIMPORTANTTHATWEDONOTHINGTOOFFENDHIMTHATDISCOVERYMIGHTHAVECLOSEDTHEMATTERANDIWASINCLINEDTOSHIPTHESOMEWHATOVERENTHUSIASTICMISSWARNEBACKTOHERHOMEINNEWYORKHOWEVERTHECOUNTESSHASPERSUADEDMETHATMYINITIALIMPRESSIONSWEREPREJUDICIALANDTHEREDOESSEEMTOBESOMETHINGMORETOTHISAFFAIRMISSWARNEFOUNDTHEBULLETNEXTTOASTACKOFSEALEDCRATESMARKEDWITHTHELOGOOFTHEMANUFACTURERTHEYHADBEENSHIPPEDTHEREFROMCHICAGOTHECRATESCONTAINEDRIFLESANDAMMUNITIONDEVELOPEDBYTHECOMPANYFORTHECLIMATEINTHESUBCONTINENTTHECOMPANYISHOPEFULTHATTHEBRITISHGOVERNMENTANDTHEEICWOULDBOTHBEINTERESTEDINPURCHASINGTHEMTHATDOESEXPLAINHERRKAISERSINTERESTINTHEEXHIBITIONITWILLACTASAMARKETPLACEFORHISNEWWEAPONSBUTALSOANOPPORTUNITYTOCURRYFAVOURWITHTHEPRINCEGIVENHISINFLUENCEWITHTHEGOVERNMENTTHATMIGHTIMPROVEHISCHANCEOFWINNINGACONTRACTMISSWARNESWEARSTHATTHECRATESHADNOTBEENTAMPEREDWITHTHECOMPANYSEALSWEREINTACTWITNESSEDBYTHEPHOTOGRAPHSBROUGHTBYMISSWARNEANDITISNOTCLEARHOWORWHYONEOFTHEBULLETSSHOULDHAVEESCAPEDTHEMITSEEMSPOSSIBLETHATEITHERARIVALMANUFACTURERORACRIMINALGANGMAYHAVESTOLENTHECONTENTSOFONEORMOREOFTHECRATESSOMEHOWMANAGINGTORESEALTHEMBUTLEAVINGTHISONESMALLCLUETOTHEIRACTIVITIESINTHISWEMAYHAVEBEENLUCKYIFTHESHIPMENTHADAPPEAREDTOBEDEFICIENTONARRIVALATTHEEXHIBITIONITWOULDHAVEBEENDIFFICULTTOESTABLISHTHATTHETHEFTHADOCCURREDINTHEUSWEMIGHTTHENHAVEBEENACCUSEDOFCARELESSNESSINOURHANDLINGOFTHECONSIGNMENTITHINKITWOULDBEINOURBESTINTERESTSTOEXAMINETHECOMPANYSCRATESBEFORETHEYLEAVETHESHIPWHICHARRIVEDINLIVERPOOLEARLIERTHISWEEKFORTUNATELYTHECURRENTDOCKWORKERSSSTRIKEHASDELAYEDUNLOADINGSOWESHOULDHAVETIMETOCOMMISSIONAFULLCHECKOFTHECARGOBEFOREITLANDSIFANYTHINGISAMISSTHENWEWILLBEABLETOASSUREMRKAISERTHATTHEISSUEAROSEBEFORETHECRATESREACHEDUSIAMAWAREOFTHESENSITIVITIESINTHISMATTERWITHTHEDISPLAYOFTHEKOHINOORATITSHEARTTHEINDIAPAVILIONISVERYDEARTOBOTHTHEPRINCEANDHERMAJESTYTHEQUEENITWOULDBEMOSTEMBARRASSINGIFITSPRINCIPALSPONSORHERRKAISERSHOULDFEELTHATWEARENOTAFFORDINGHIMEVERYASSISTANCEINHISOWNENDEAVOURSWITHMYVERYBESTWISHESBABBAGE"
     ]
    }
   ],
   "source": [
    "# Presume it starts with \"my dear\"...\n",
    "for n in range(0, 3126, 6):\n",
    "    for c in (1, 2, 0, 3, 5, 4):\n",
    "        print(squished[n+c], end=\"\")"
   ]
  },
  {
   "cell_type": "markdown",
   "metadata": {},
   "source": [
    "# Edited for Clarity\n",
    "\n",
    "My Dear Palmerston,<br/>\n",
    "I believe that Prince Albert may already have written to you concerning this matter and I am a little embarrassed to write this letter at all, but I hope you will understand I find myself at the mercy of two strong willed women who assure me that this matter is urgent.<br/>\n",
    "You have already been informed about our unexpected guest, Miss Warne, who arrived last week to our astonishment on the steamship Pacific. She is a little coy about how she afforded the journey and I suspect that she might have been a stowaway. While I am inclined to deal strongly with that matter, the Countess has expressed the equally strong view that we should first address the reasons for Miss Warne's visit.<br/>\n",
    "Given the sensitivity of the matters described below, I think she is probably right. Miss Warne has determined that the mysterious bullet was manufactured by the Imperial Arms Company, which, as you know, is owned by Julius Kaiser, sponsor of the India Pavilion. The bullet was designed as a novelty item to be distributed at the exhibition with the engraved letters denoting the date of the exhibition opening. The date was encrypted - the cypher in this case being a rather simple Caesar shift.<br/>\n",
    "I suppose Kaiser felt that this was rather clever, though it seems an obscure way to market his company that perhaps is a mark of the man's character. He fancies himself the cleverest man in every room, but he is funding the pavilion and it is important that we do nothing to offend him. That discovery might have closed the matter and I was inclined to ship the somewhat overenthusiastic Miss Warne back to her home in New York, however, the Countess has persuaded me that my initial impressions were prejudicial and there does seem to be something more to this affair.<br/>\n",
    "Miss Warne found the bullet next to a stack of sealed crates marked with the logo of the manufacturer they had been shipped there from Chicago. The crates contained rifles and ammunition, developed by the company for the climate in the subcontinent. The company is hopeful that the British government and the EIC would both be interested in purchasing them. That does explain Herr Kaiser's interest in the exhibition. It will act as a marketplace for his new weapons but also an opportunity to curry favour with the prince, given his influence with the government that might improve his chance of winning a contract.<br/>\n",
    "Miss Warne's wears that the crates had not been tampered with the company seals were intact, witnessed by the photographs brought by Miss Warne and it is not clear how or why one of the bullets should have escaped them. It seems possible that either a rival manufacturer or a criminal gang may have stolen the contents of one or more of the crates, somehow managing to re-seal them, but leaving this one small clue to their activities. In this, we may have been lucky. If the shipment had appeared to be deficient on arrival at the exhibition, it would have been difficult to establish that the theft had occurred in the US, we might then have been accused of carelessness in our handling of the consignment. I think it would be in our best interests to examine the company's crates before they leave the ship which arrived in Liverpool earlier this week. Fortunately the current dock workers's strike has delayed unloading, so we should have time to commission a full check of the cargo before it lands.<br/>\n",
    "If anything is amiss, then we will be able to assure Mr Kaiser that the issue arose before the crates reached US. I am aware of the sensitivities in this matter with the display of the Kohino or at its heart the India pavilion is very dear to both the prince and Her Majesty the Queen. It would be most embarrassing if its principal sponsor, Herr Kaiser, should feel that we are not affording him every assistance in his own endeavours.<br/>\n",
    "With my very best wishes,<br/>\n",
    "Babbage."
   ]
  },
  {
   "cell_type": "code",
   "execution_count": null,
   "metadata": {},
   "outputs": [],
   "source": []
  }
 ],
 "metadata": {
  "kernelspec": {
   "display_name": "Python 3 (ipykernel)",
   "language": "python",
   "name": "python3"
  },
  "language_info": {
   "codemirror_mode": {
    "name": "ipython",
    "version": 3
   },
   "file_extension": ".py",
   "mimetype": "text/x-python",
   "name": "python",
   "nbconvert_exporter": "python",
   "pygments_lexer": "ipython3",
   "version": "3.12.4"
  }
 },
 "nbformat": 4,
 "nbformat_minor": 4
}
