{
 "cells": [
  {
   "cell_type": "markdown",
   "metadata": {},
   "source": [
    "# Cipher Challenge 2024\n",
    "### Chapter 5 / 2024-Nov-14\n",
    "\n",
    "Challenge link https://www.cipherchallenge.org/challenge/challenge-5/"
   ]
  },
  {
   "cell_type": "code",
   "execution_count": 1,
   "metadata": {},
   "outputs": [],
   "source": [
    "# Part A - \"Stranger, danger?\"\n",
    "part_a_text = \"\"\"AERDM YLREA CHETH ASKTE URASC DOERN DEIRV EAESR NGDDI NEADN BARTY LAEAR OTTEB LFATK ALREJ HEREN YROUS EHCON RDEAE HREEV COMDY NDAHD AIMAN UDODF CAHRH EOEFG ANHTI OCLDE IWNGS SEUSC DRIED HEVRO SCTAL SIEHT SGENA SMIHE HTOTO SFTUH UGNUG OLYNA AMWOR ERHND SHPGO UAHNC EENNE ADMSI GDRSA EKSUI YEENE ESAHD ANNIT PARCE TLELR POESH DEMDV IHTTI EWLOL FHEGN DIOWL ISAET ECRNC OHGEN NIIAS KRRRA MSERP IMHSS TIITE NPMRO SCODF EISTS YOTWF OCSLE TEHTR ASRTI EFAGN NLORR OADNH CCAWE IANTO NISXG INELS FRIFU ANMAE RDUCT EHITB YIRAE MPSMC RLANA YPOMU GNETH PEARS AIDNE CKWAA RSTOR TPNDD EWTEC MAIHI TLAOR NESUT RILBI IHINA KTRTO OMRSE IDETS EUIEN EOSSN SUGGE PDPHI LALTI NDNIA OWKNI ITHTS RENJK REAEM TATHD TAWSS HINOL ETHEW LEYNT NIEEM MEAHN TCATF NUFOT EURNU SGHEO NTOID LALCR EBSEI THEMN GINEN DOTIR ERHBY ESRIK AHTET BUSIS TNITA RHUCL APIIV TTHNO IEHRT EOETS ACRIE NRWET SYETH TFEOL ESETH ACHCC ASEIA NTONW TOGIN RDENH UEXSO DBRAT COFEG SDRIS EKTKA EHDCE TOCNE THSTF NTEBE UMORR EEHTT TOHNI SERMG INBAL KARUO TBEAE MXETH TTHPC EBMEU ENLIL WRIYW OOSHS EKHUT EHSCE TYNOE WHIST IUVEH YTASO TOEAR EGTRL ALCON OEEHS TSEOS FLEAR EAVSE HTEFL OETSA CREBE DHAOM VENRR OIFED CETPN SYBTN IOSUT CHEFO FSOML ASIIC TOHDA NAHDS ERSNU EBEUQ EEBSR YELNT DEBVM OWEAH YTUOS HREFA FTESE HRTAT SETUE QEHCT OFNAY POMAS LITHD EKWLO OTIEA TCETP NSFOT LALNA DMHEP SEESH INGAN TMEOR HTAGL NVICE OHLTT NSENT HCEDA NGNTI CKAEC MHETA ERHCA TINCO HTEDN ENEUM SAORF EMBSE AXBOC AHEND OCNXB OENDI TAASM ETHBM EUENA CRFRO GDEIT RTOER SPWDI ECTIM NATHG LRAER AEGSE ANIPN AIREE FREOT TENCW OELAL OBXHA CUFLS WAAWS SLACH RCEAO SIEAT KNWIT HBNEA ECTEH RSUTO HNATA HDGIN TNAEB EERDE MPYHO TWIRN EAUCR UESAS EMRLP ATNHO STEHR TATON RSEIN OFSEA NOCCO RBAON EREHS TUTIR TUECH TEFYO MPEIS HNUDI NTATN SERTA IHDTL ARSTI OYNDE AAWYS ITEHE TTOIB TIXHC ACNIO NAIPO MSYTB EDRFO FAFEP RMMIR AMLIA DIADS ITAEK SKTUT OABNE TGHEN AWMLE DABHH OPSIN EETNH IEDIC NIEVF OTYIT RAEWH EESBU HOEHH SUTTI TLADA ODTLE RATPD ATMHO FRTCT AEFEH WTHAP AEEOR AIRLC UNIHM GERUB TISEB LIANT EHVIE RAEEE SNWAO KNPRE ASSNA DSCHN ATCWE TIFEA KHTIM ROCSR ESDOI NTIPH TEATH NIFSW ASAIT ACTOA NKHUD ANHIL UICPE YTLIA RTNHI AYTCT AEFHT ETHAA SDMGE NIGNO RREEW ITLBA LALOD NICKI HNTOT HEAHK SRPEP DAETD ACIUF LETHN GIILS NACCF ISEEH ETROA CDESN AOTIL NYORE BNYRW OESOO THAYL OFREC NSDEU OLWTI NIKHD TEMRA ITIRO UECWY ETSIN TOIRE TRHOT FTCTA EFHTE THATA DEGRN ODMIA PLLLW ICUHS AYNGI IASNA TCFII ENLRO XEHET HITOI IBONW KNINT OATHO LFLTA ISKET HREEW HSVAO FINMF AOURJ AARHA ELEUH DGNHI PSNGI ASMNE TCFIT TOFGI AMJRH EAYNT ESLIE HDWNN OAICR PETTA MTANS EOCNA KEITO CNEWT EENBE HKTEN ONOIO HHDEN RAIAS KRRMT UIERL TEAST EBPTA SBILS OSTAT HETIE SRHEA MYEON UQEEI RAHTT STOCN UYOWT ILSUL AMPTH OTNSE RIHST ONETR TMANA YEARS ISHOF FFAFT AAIRL MITHH TWITN LEEGS NPAEM NILDI EPROE IVDNA AOLEH STREI RTUEC VRIEY SOCNS CENET DFITT HATHM AOIED LILWN DFAES BESHO TWIQY UNMAO INTES SIIRS AORMF NGSER TKATR IOEPT LHEFE OEUWA TOTTT GHLAI EAKME OLTTR AECRE RUCOI NNUIM OMOIN TCAMO TRSFI TMSHI AMYNE OEKTA ITBIE LHEFO SYRTS ETGUG HTAGI NRURO TYSYH LEPBD ELOUR UECSE HTAID WNEEG VIPIH CREIS NUERE PRYGM LAKNS OOLOI EYWRA OKFYO OTRDP ELRUR LAWSY ADAAS AY\"\"\""
   ]
  },
  {
   "cell_type": "code",
   "execution_count": 2,
   "metadata": {},
   "outputs": [],
   "source": [
    "from collections import Counter\n",
    "\n",
    "# Takes a string or list of items and counts the frequencies of those items\n",
    "# data: The list or string to analyse\n",
    "# max_values: The maximum number of values to display (set to None for no limit)\n",
    "# no_columns: The amount of columns to use in the output\n",
    "def frequency_analysis(data, max_values=30, no_columns=5):\n",
    "    frequencies = Counter()\n",
    "    for item in data:\n",
    "        frequencies[item] += 1\n",
    "    \n",
    "    total = sum(frequencies.values())\n",
    "    column = 1\n",
    "    for item, frequency in frequencies.most_common(max_values):\n",
    "        print(f\"{item}: {frequency:2} ({frequency / total:.2%})\", end=\" \" if column % no_columns else \"\\n\")\n",
    "        column += 1\n",
    "    print(\"\\n-----\")"
   ]
  },
  {
   "cell_type": "code",
   "execution_count": 3,
   "metadata": {},
   "outputs": [
    {
     "name": "stdout",
     "output_type": "stream",
     "text": [
      "E: 337 (12.85%) T: 261 (9.95%) A: 231 (8.81%) I: 193 (7.36%) N: 184 (7.02%)\n",
      "O: 169 (6.45%) S: 164 (6.25%) R: 160 (6.10%) H: 160 (6.10%) L: 92 (3.51%)\n",
      "C: 92 (3.51%) D: 88 (3.36%) M: 70 (2.67%) U: 68 (2.59%) F: 61 (2.33%)\n",
      "W: 48 (1.83%) Y: 47 (1.79%) G: 46 (1.75%) P: 44 (1.68%) B: 41 (1.56%)\n",
      "K: 34 (1.30%) V: 16 (0.61%) X:  8 (0.31%) J:  4 (0.15%) Q:  4 (0.15%)\n",
      "\n",
      "-----\n"
     ]
    }
   ],
   "source": [
    "squished = part_a_text.replace(\" \", \"\")\n",
    "frequency_analysis(squished)"
   ]
  },
  {
   "cell_type": "code",
   "execution_count": 4,
   "metadata": {},
   "outputs": [
    {
     "name": "stdout",
     "output_type": "stream",
     "text": [
      "2622\n",
      "1  \n",
      "2  \n",
      "3  \n",
      "6  \n",
      "19  \n",
      "23  \n",
      "38  \n",
      "46  \n",
      "57  \n",
      "69  \n",
      "114  \n",
      "138  \n",
      "437  \n",
      "874  \n",
      "1311  \n"
     ]
    }
   ],
   "source": [
    "# Transposition. How many columns might there be?\n",
    "size = len(squished)\n",
    "print(size)\n",
    "for n in range (1, size):\n",
    "    if size % n == 0:\n",
    "        print(n, \" \")"
   ]
  },
  {
   "cell_type": "code",
   "execution_count": 5,
   "metadata": {},
   "outputs": [
    {
     "name": "stdout",
     "output_type": "stream",
     "text": [
      "AERDMY\n",
      "LREACH\n",
      "ETHASK\n",
      "TEURAS\n",
      "CDOERN\n",
      "DEIRVE\n",
      "AESRNG\n",
      "DDINEA\n",
      "DNBART\n",
      "YLAEAR\n"
     ]
    }
   ],
   "source": [
    "# Most likely 6.\n",
    "for n in range(0, 60, 6):\n",
    "    print(squished[n:n+6])"
   ]
  },
  {
   "cell_type": "code",
   "execution_count": 6,
   "metadata": {},
   "outputs": [
    {
     "name": "stdout",
     "output_type": "stream",
     "text": [
      "MYDEARCHARLESKATEHASRETURNEDCOVEREDINGREASEANDDIRTANDBARELYABLETOTALKAFTERHERJOURNEYONCESHEHADRECOVEREDANDMYMAIDHADFOUNDHERACHANGEOFCLOTHINGWEDISCUSSEDHERDISCOVERIESATLENGTHSHEISAMOSTTHOUGHTFULYOUNGWOMANANDHERROUGHSPEECHANDMANNERSDISGUISEAKEENEYEANDASHARPINTELLECTSHEPROVIDEDMEWITHTHEFOLLOWINGDETAILSCONCERNINGHERRKAISERSARMSSHIPMENTITISCOMPRISEDOFTWOSTYLESOFCRATETHEFIRSTLONGANDNARROWEACHCONTAININGSIXRIFLESMANUFACTUREDBYTHEIMPERIALARMSCOMPANYTHEGUNSAREPACKEDINSTRAWANDPROTECTEDWITHAMINERALOILRUSTINHIBITORKATEISMOREUSEDTOSEEINGGUNSSHIPPEDINTALLOWANDITHINKINJESTREMARKEDTHATTHISWASTHEONLYNEWELEMENTINTHEMANUFACTUREOFTHEGUNSIDONOTRECALLTHISBEINGMENTIONEDBYHERRKAISERBUTTHENITISSUCHATRIVIALPOINTTHEOTHERCRATESWEREINTHESTYLEOFTEACHESTSEACHCONTAININGTWOHUNDREDBOXESOFCARTRIDGESKATESKETCHEDTHECONTENTSFORMEBUTTHEREISNOTHINGREMARKABLEABOUTTHEMEXCEPTTHENUMBERIWILLSHOWYOUTHESKETCHESWHENYOUVISITASTHEYARETOOLARGETOENCLOSETHESEALSOFSEVERALOFTHECRATESHADBEENREMOVEDFORINSPECTIONBYTHECUSTOMSOFFICIALSANDOTHERSHADBEENSUBSEQUENTLYREMOVEDBYTHEWAREHOUSESTAFFATTHEREQUESTOFTHECOMPANYTHISALLOWEDKATETOINSPECTALLOFTHEMANDSHESPENTANIGHTREMOVINGALLTHECONTENTSANDCHECKINGTHEMEACHCRATECONTAINEDTHESAMENUMBEROFBOXESANDEACHBOXCONTAINEDTHESAMENUMBEROFCARTRIDGESPROTECTEDWITHAMINERALGREASEAGAININPREFERENCETOTALLOWEACHBOXWASFULLASWASEACHCRATESOITHINKWECANBESURETHATNOTHINGHADBEENTAMPEREDWITHYOUCANREASSUREPALMERSTONTHATTHEREISNOREASONFORCONCERNABOUTTHESECURITYOFTHESHIPMENTIUNDERSTANDTHATITISALREADYONITSWAYTOTHEEXHIBITIONACCOMPANIEDBYSTAFFFROMIMPERIALARMSIDIDASKKATEABOUTTHEGENTLEMANWHOHADBEENSPIEDINTHEVICINITYOFTHEWAREHOUSEBUTSHEHADLITTLETOADDAPARTFROMTHEFACTTHATHEWOREAPECULIARGEMINHISTURBANIBELIEVETHESEAREKNOWNASSARPECHSANDWECANTAKEITFROMTHISDESCRIPTIONTHATHEWASINFACTASIKHNOTAHINDUAPECULIARITYLAYINTHEFACTTHATTHEGEMSADORNINGITWEREALLBLACKIDONOTTHINKSHEHADAPPRECIATEDTHEFULLSIGNIFICANCETHESEDECORATIONSAREONLYWORNBYTHOSEOFROYALDESCENTIWOULDTHINKITAMERECURIOSITYWEREITNOTFORTHEFACTTHATTHEGREATDIAMONDWILLPLAYSUCHASIGNIFICANTROLEINTHEEXHIBITIONIKNOWTHATNOTALLOFTHESIKHSWEREINFAVOUROFMAHARAJAHDULEEPSINGHSMAGNIFICENTGIFTTOHERMAJESTYANDWHILEICANNOTATPRESENTMAKEACONNECTIONBETWEENTHEKOHINOORANDHERRKAISERITMUSTATLEASTBEPOSSIBLETHATTHEREISONEMAYIREQUESTTHATYOUCONSULTWITHPALMERSTONONTHISMATTERAREANYOFHISSTAFFFAMILIARWITHTHEGENTLEMANSPIEDINLIVERPOOLANDARETHESECURITYSERVICESCONFIDENTTHATTHEDIAMONDWILLBESAFEWITHSOMANYQUESTIONSARISINGFROMKATESREPORTIFEELTHATWEOUGHTTOTAKEALITTLEMORECAREINOURCOMMUNICATIONSFROMTHISTIMEONMAYITAKETHELIBERTYOFSUGGESTINGTHATYOURREPLYSHOULDBESECUREDWITHAVIGENERECIPHERUSINGMYPERSONALKEYILOOKFORWARDTOYOURREPLYASALWAYSADA"
     ]
    }
   ],
   "source": [
    "# Looks like it starts with \"Mydear\"\n",
    "for n in range(0, len(squished), 6):\n",
    "    for c in (4, 5, 3, 1, 0, 2):\n",
    "        print(squished[n+c], end=\"\")"
   ]
  },
  {
   "cell_type": "markdown",
   "metadata": {},
   "source": [
    "# Edited for clarity\n",
    "\n",
    "My Dear Charles,<br/>\n",
    "Kate has returned, covered in grease and dirt and barely able to talk after her journey. Once she had recovered and my maid had found her a change of clothing, we discussed her discoveries at length.<br/>\n",
    "She is a most thoughtful young woman and her rough speech and manners disguise a keen eye and a sharp intellect. She provided me with the following details concerning Herr Kaiser's arms shipment. It is comprised of two styles of crate: the first long and narrow, each containing six rifles manufactured by the imperial arms company. The guns are packed in straw and protected with a mineral oil rust inhibitor. Kate is more used to seeing guns shipped in tallow and i think (in jest) remarked that this was the only new element in the manufacture of the guns. I do not recall this being mentioned by Herr Kaiser, but then it is such a trivial point.<br/>\n",
    "The other crates were in the style of tea chests, each containing two hundred boxes of cartridges. Kate sketched the contents for me, but there is nothing remarkable about them except the number. I will show you the sketches when you visit as they are too large to enclose. The seals of several of the crates had been removed for inspection by the customs officials and others had been subsequently removed by the warehouse staff at the request of the company. This allowed Kate to inspect all of them and she spent a night removing all the contents and checking them.<br/>\n",
    "Each crate contained the same number of boxes and each box contained the same number of cartridges, protected with a mineral grease again in preference to tallow. Each box was full, as was each crate, so I think we can be sure that nothing had been tampered with.<br/>\n",
    "You can reassure Palmerston that there is no reason for concern about the security of the shipment. I understand that it is already on its way to the exhibition, accompanied by staff from Imperial Arms.<br/>\n",
    "I did ask Kate about the gentleman who had been spied in the vicinity of the warehouse, but she had little to add, apart from the fact that he wore a peculiar gem in his turban. I believe these are known as \"sarpechs\" and we can take it from this description that he was in fact a Sikh, not a Hindu. A peculiarity lay in the fact that the gems adorning it were all black. I do not think she had appreciated the full significance - these decorations are only worn by those of royal descent. I would think it a mere curiosity were it not for the fact that the great diamond will play such a significant role in the exhibition.<br/>\n",
    "I know that not all of the Sikhs were in favour of Maharajah Duleep Singh's magnificent gift to her majesty and while I cannot at present make a connection between the Kohinoor and Herr Kaiser, it must at least be possible that there is one.<br/>\n",
    "May I request that you consult with Palmerston on this matter. Are any of his staff familiar with the gentleman spied in liverpool, and are the security services confident that the diamond will be safe?<br/>\n",
    "With so many questions arising from Kate's report, I feel that we ought to take a little more care in our communications from this time on. May I take the liberty of suggesting that your reply should be secured with a Vigenere cipher, using my personal key.<br/>\n",
    "I look forward to your reply, as always.<br/>\n",
    "Ada."
   ]
  },
  {
   "cell_type": "code",
   "execution_count": 9,
   "metadata": {},
   "outputs": [],
   "source": [
    "# Part B \"Troublemaker\"\n",
    "part_b_text = \"\"\"MBDED RAGAI DMSRR RBFOU THHDE OAYLN MBRES LYLHA YEFRU NGTHH LAVTF HWDDY SUEMD RKDBL BBUVY BHFOU EIFOU ODRHS PRNDW OYRUR OETWE RLWAV CAOLE GTOZH IWEHD LLSLA FETRD EDLWL THDNI QCIGE NWTHD THDDO FCUUR EGATN AIVER VLOGG IQGSD YOXNG ZOMDN HDDBH ENDPP UEHHN DHDOX TSLDE WHESR OSERW YCDRR BINJA LDRGH BAJIN ZHIFH WHREI OUQDP KOTRG RDPHL CETUI SMEQT AQDPO ATHSN RTBHL IHVIQ GHHRS WORBO FEEIQ GAMOU UNAOI SWANG REFOG QISLN GKERD CCHNT DSAPE RLCAQ THHCO QSTDB LHPLD CEGHE UUNGE RDRRH STIOR WUNDT EOYRH COJNI VINJT HHPOW ENWIA OFOUA DLPLR MAWIC LNCLD EQTHH TRDNS SORWE DWHEV USSEC WTOKE AGQUD RTHRS ZHEUE USONV HEUEQ XESWE DWHAW ISKOU ODBHC AOLEG IAPST LLLXN COEAU WHDTP UOMST EGMIV SWDRN HINKE RDCTL ONVBU WSHHC LHARO YBHLI HVEVT HDTHH RRNAI VERKA SVOMH THLNG WOHLD EDNDD PPDRE QTLBT ORKIW UPRNH HRSHL FWOBU EANIN WOHLS LRDGH ANGTO WAKHP HRTOJ RASHS RFDRC UPENW SSKEF RUNGT HHREV HEDPP DREQT LBBOU ROZED WHEHQ ULPMH NTIRO PWHHA TVTOQ EWKOH DSBHE NHXPH RIPEN WINJW IWHFD STHRE APOVU RHIMD GIQGW KATKE TKOUJ HTKEW DSDRI NJIND SSLST LNGWH EBOUQ GLDDY LAMDT AOOSV TOHXP OAIQM IVSWD RNHSE HMSWO PRSSH SSDCH DRMWH AWISO OSWON PEBXT WKICK PEUSU DDEVO TKERV TOMOI QHEUI NKERP ADDDV HNTXR EVTHH DEOAY KASEE EQCAX SEGIN SARWB YWHEQ EEGTO SROFE SVTHH PLDTE VANGT OFONV IDHRT KEIUC OQTEQ TSXNF RRTXN AWELB OUUAM DTEXR PKOTR GRDPH HRFDI LHDTR PRRTE FTTKE IPAGH SAQDT KEYZE RHBAG LYRVE UEXSO SHDIV USSEC WSHHH AGNOW REDLI VEDMU SWHOZ SEQSI WIVHW HHATV TOQES IORPU LDISW HERNL BLEJI BOEPD RTRFA QYOIT HHIMD GEVWA VTHHP HUASH JAQUS SROME CWACF ORGIN JTOPI SVWAU NEWHI VWAVW RLTTH NOQTH HCOYE RRFAI ILHCO QTALN IQGEQ CRBPT HDDRC UPENW SWKIC KSHHH AGALV OAWTE PPTHD TRCOS YIWHA VTANE NDLLP YPHRS XASLO NDNDD NIQTE UVEQT IRNBB PAOME USTRN TRGEW HEURE OEAVE DDNDL AMDFR DIDWH AWTHH POOIC HHAYE CRNFL SCDTE GALOO FWHEH QULPM HNTLF OUESH EAGIS DGRHE AELEF ONYER VATLO NZITK WHHAT VTOQE IQMYQ EAUFU WURHI DRNOW KNRWW KATZE AUETR MANEO ITHLS PDLMH RSWON KASPA DHITF LEDRT KATPI SVWAU NEFAN QOTEE AOLOZ EDWOC RNTLN UHINW HIVIR UESSO NVIBO EWDYS KERLS KVJER PAUDI VINJT HHDEO ICDTE QEGRT IDTIR NSEET ZEEQT HHGOY ERQME QTAQD HHRRN AIVER VCOPP AQYAQ DYHTI WHIQK SKEMD YBHON WOSRM EWHIQ GIDSK HDPDL MHRSW ONDBO XTTKE SLKHZ ITKTH HBLDC KVERS ACKAN GHELM MHDID TEOYK QEWZH OLMED NTWHE JENWL EPANL NQXES WIOQI SDPRL NCHAN GHIJH RDNKL NGRFF LCIDL IQDUO EESSI QGHVE NWOUU AGHHE LSVLS IWINJ THHGR HATHX HLBIW IOQAS WHERF FLCID LRHPR HSEQT AWIVH OFWHE PAHDR AMAHD NDKAS EEEQH EDVIO YIQVO OVEGI NGISF USVIO QSAEO UWTHH DIVPL DYOIT HHDID MOQDT KEMDH AUAJD HIVDE HPLBC OQCEU NEGTH DTTKE GHMSK OUODB HFUOL YDPPU ECLAT HDBBH EUMAM ESWYS VUBME CWSBX TSKAR HSHHR CRNCH RNDTO XRAEI LLTYW OEQSU UEIWS SDFEW YNRTW LSHLN GWOSW IRXPM RRELL LIEEO INJOV HRTKE GLFTR FTKED LAMRN DWHOV EDLSC XSSLO NVHAY EBHEN DTTKE HLGHH STOEV HLAQD IZASQ OTPAD HAWDR ERFTK EMXNT LLNRW PDLMH RSWON ZASDL SRNOW AWDRE WHAWT HHPRL NCHHA GLEIT LRNDR NBXTH HWAVN OWUNG ULBSU UPRLS EGNOU WAVHE DLAUM EGTHD TTKER HMIJH TEEAF ONQEC WIOQB EWWEH NTKEM DHAUA JDHAQ DHHRR NAIVE RJIVH NTKAT WHEOA TWERL SSSON VORLN GWHEL NDLAP DVIOI OQWHL LELAG UEEWH AWWEQ EEGTO FONWI NXEOX RIQVE VTIJA TLONV CAQIA VKYRU POEAV ETRDO BOUUV EUYBH STWOT DMEPI SVWAU NEWHE OITWL EWIMH IHDVE DVALL AELEL SBHTT HRSSE NWCOQ TEPPL DTIQG HHRDL SCRVE UIEVT HDNDH ALLNG ZITKT HHAUW HOUIT LESRN HHRBH HAOFW LTHPY BHSTZ ISKES DSAOW ABSTR YOXAN GYOXR HXSBD NDEAB EAGH\"\"\""
   ]
  },
  {
   "cell_type": "code",
   "execution_count": 10,
   "metadata": {},
   "outputs": [
    {
     "name": "stdout",
     "output_type": "stream",
     "text": [
      "H: 256 (9.18%) E: 244 (8.75%) D: 176 (6.31%) R: 170 (6.10%) O: 169 (6.06%)\n",
      "T: 169 (6.06%) A: 151 (5.41%) S: 147 (5.27%) I: 140 (5.02%) N: 137 (4.91%)\n",
      "L: 134 (4.80%) W: 133 (4.77%) U: 93 (3.33%) V: 82 (2.94%) Q: 74 (2.65%)\n",
      "P: 73 (2.62%) G: 71 (2.55%) K: 58 (2.08%) C: 55 (1.97%) B: 54 (1.94%)\n",
      "M: 51 (1.83%) F: 45 (1.61%) Y: 40 (1.43%) X: 28 (1.00%) J: 22 (0.79%)\n",
      "Z: 17 (0.61%) \n",
      "-----\n"
     ]
    }
   ],
   "source": [
    "# We know this is a Vigenere, so this should be a flat distribution...\n",
    "squished = part_b_text.replace(\" \", \"\")\n",
    "frequency_analysis(squished)"
   ]
  },
  {
   "cell_type": "code",
   "execution_count": 11,
   "metadata": {},
   "outputs": [],
   "source": [
    "# Tools to help decode Vigenere ciphers\n",
    "\n",
    "\n",
    "# A function that searches for multiple ocurrences of letters of the specified size and prints out the most common ones\n",
    "def pattern_finder(text, size):\n",
    "    patterns = Counter()\n",
    "    for index in range(len(text)):\n",
    "        patterns[text[index:index+size]] += 1\n",
    "\n",
    "    column = 0\n",
    "    for item, count in patterns.most_common(30):\n",
    "        print(f\"{item}: {count:2}\", end=\" \")\n",
    "        column += 1\n",
    "        if column % 5 == 0:\n",
    "            print()\n",
    "\n",
    "\n",
    "# A function that searches the given text for a word and figures out where it would line up with a key of a given size\n",
    "def get_alignment(text, word, key_size):\n",
    "    print(f\"{word}/{key_size}\", end=\" \")\n",
    "    alignments = []\n",
    "    position = -1\n",
    "    while True:\n",
    "        position = text.find(word, position+1)\n",
    "        if position >= 0:\n",
    "            alignment = position % key_size\n",
    "            print(f\"{position} ({alignment})\", end=\" \")\n",
    "            alignments.append(alignment)\n",
    "        else:\n",
    "            break\n",
    "    if alignments.count(alignments[0]) == len(alignments):\n",
    "        print(\"All the same!\", end=\"\")\n",
    "    print()\n",
    "\n",
    "\n",
    "# A function to reverse search for a key that would convert the given word to an encoded word\n",
    "def lookup_key(word, encoded_word):\n",
    "    key = \"\"\n",
    "    for letter, encoded_letter in zip(word, encoded_word):\n",
    "        diff = (ord(encoded_letter) - ord(letter)) % 26\n",
    "        key += chr(diff + ord('A'))\n",
    "    print(key)"
   ]
  },
  {
   "cell_type": "code",
   "execution_count": 12,
   "metadata": {},
   "outputs": [
    {
     "name": "stdout",
     "output_type": "stream",
     "text": [
      "THH: 22 TKE: 15 WHE: 14 THD: 10 HHR: 10 \n",
      "EQT:  9 HHA:  9 ENW:  8 IQG:  8 INJ:  8 \n",
      "HRS:  8 HDT:  7 EWH:  7 LNG:  7 ONV:  7 \n",
      "AQD:  6 SWO:  6 ANG:  6 KER:  6 HNT:  6 \n",
      "HEU:  6 DTE:  6 WHA:  6 HAW:  6 DND:  6 \n",
      "FOU:  5 HHD:  5 YBH:  5 WAV:  5 EGT:  5 \n"
     ]
    }
   ],
   "source": [
    "pattern_finder(squished, 3)"
   ]
  },
  {
   "cell_type": "code",
   "execution_count": 17,
   "metadata": {},
   "outputs": [
    {
     "name": "stdout",
     "output_type": "stream",
     "text": [
      "THH/3 20 (2) 47 (2) 365 (2) 419 (2) 452 (2) 602 (2) 719 (2) 977 (2) 1022 (2) 1229 (2) 1241 (2) 1298 (2) 1457 (2) 1694 (2) 1724 (2) 1823 (2) 1955 (2) 2057 (2) 2069 (2) 2369 (2) 2393 (2) 2714 (2) All the same!\n",
      "TKE/3 822 (0) 831 (0) 945 (0) 1044 (0) 1107 (0) 1119 (0) 1812 (0) 2079 (0) 2112 (0) 2247 (0) 2256 (0) 2292 (0) 2328 (0) 2436 (0) 2466 (0) All the same!\n",
      "WHE/3 220 (1) 466 (1) 745 (1) 853 (1) 1006 (1) 1204 (1) 1429 (1) 1486 (1) 1867 (1) 1975 (1) 2002 (1) 2500 (1) 2521 (1) 2632 (1) All the same!\n",
      "THD/3 140 (2) 152 (2) 155 (2) 599 (2) 1329 (0) 1362 (0) 2108 (2) 2139 (0) 2432 (2) 2699 (2) \n",
      "HHR/3 306 (0) 603 (0) 654 (0) 720 (0) 1089 (0) 1740 (0) 2172 (0) 2481 (0) 2685 (0) 2730 (0) All the same!\n",
      "EQT/3 282 (0) 450 (0) 639 (0) 732 (0) 1053 (0) 1407 (0) 1722 (0) 1734 (0) 1992 (0) All the same!\n",
      "HHA/3 762 (0) 1153 (1) 1185 (0) 1348 (1) 1465 (1) 1536 (0) 2377 (1) 2715 (0) 2734 (1) \n",
      "ENW/3 149 (2) 425 (2) 707 (2) 788 (2) 1337 (2) 1871 (2) 1934 (2) 2669 (2) All the same!\n",
      "IQG/3 180 (0) 303 (0) 318 (0) 816 (0) 1320 (0) 1788 (0) 1929 (0) 2682 (0) All the same!\n",
      "INJ/3 236 (2) 416 (2) 791 (2) 839 (2) 1268 (2) 1691 (2) 1952 (2) 2240 (2) All the same!\n",
      "THH/4 20 (0) 47 (3) 365 (1) 419 (3) 452 (0) 602 (2) 719 (3) 977 (1) 1022 (2) 1229 (1) 1241 (1) 1298 (2) 1457 (1) 1694 (2) 1724 (0) 1823 (3) 1955 (3) 2057 (1) 2069 (1) 2369 (1) 2393 (1) 2714 (2) \n",
      "TKE/4 822 (2) 831 (3) 945 (1) 1044 (0) 1107 (3) 1119 (3) 1812 (0) 2079 (3) 2112 (0) 2247 (3) 2256 (0) 2292 (0) 2328 (0) 2436 (0) 2466 (2) \n",
      "WHE/4 220 (0) 466 (2) 745 (1) 853 (1) 1006 (2) 1204 (0) 1429 (1) 1486 (2) 1867 (3) 1975 (3) 2002 (2) 2500 (0) 2521 (1) 2632 (0) \n",
      "THD/4 140 (0) 152 (0) 155 (3) 599 (3) 1329 (1) 1362 (2) 2108 (0) 2139 (3) 2432 (0) 2699 (3) \n",
      "HHR/4 306 (2) 603 (3) 654 (2) 720 (0) 1089 (1) 1740 (0) 2172 (0) 2481 (1) 2685 (1) 2730 (2) \n",
      "EQT/4 282 (2) 450 (2) 639 (3) 732 (0) 1053 (1) 1407 (3) 1722 (2) 1734 (2) 1992 (0) \n",
      "HHA/4 762 (2) 1153 (1) 1185 (1) 1348 (0) 1465 (1) 1536 (0) 2377 (1) 2715 (3) 2734 (2) \n",
      "ENW/4 149 (1) 425 (1) 707 (3) 788 (0) 1337 (1) 1871 (3) 1934 (2) 2669 (1) \n",
      "IQG/4 180 (0) 303 (3) 318 (2) 816 (0) 1320 (0) 1788 (0) 1929 (1) 2682 (2) \n",
      "INJ/4 236 (0) 416 (0) 791 (3) 839 (3) 1268 (0) 1691 (3) 1952 (0) 2240 (0) \n",
      "THH/5 20 (0) 47 (2) 365 (0) 419 (4) 452 (2) 602 (2) 719 (4) 977 (2) 1022 (2) 1229 (4) 1241 (1) 1298 (3) 1457 (2) 1694 (4) 1724 (4) 1823 (3) 1955 (0) 2057 (2) 2069 (4) 2369 (4) 2393 (3) 2714 (4) \n",
      "TKE/5 822 (2) 831 (1) 945 (0) 1044 (4) 1107 (2) 1119 (4) 1812 (2) 2079 (4) 2112 (2) 2247 (2) 2256 (1) 2292 (2) 2328 (3) 2436 (1) 2466 (1) \n",
      "WHE/5 220 (0) 466 (1) 745 (0) 853 (3) 1006 (1) 1204 (4) 1429 (4) 1486 (1) 1867 (2) 1975 (0) 2002 (2) 2500 (0) 2521 (1) 2632 (2) \n",
      "THD/5 140 (0) 152 (2) 155 (0) 599 (4) 1329 (4) 1362 (2) 2108 (3) 2139 (4) 2432 (2) 2699 (4) \n",
      "HHR/5 306 (1) 603 (3) 654 (4) 720 (0) 1089 (4) 1740 (0) 2172 (2) 2481 (1) 2685 (0) 2730 (0) \n",
      "EQT/5 282 (2) 450 (0) 639 (4) 732 (2) 1053 (3) 1407 (2) 1722 (2) 1734 (4) 1992 (2) \n",
      "HHA/5 762 (2) 1153 (3) 1185 (0) 1348 (3) 1465 (0) 1536 (1) 2377 (2) 2715 (0) 2734 (4) \n",
      "ENW/5 149 (4) 425 (0) 707 (2) 788 (3) 1337 (2) 1871 (1) 1934 (4) 2669 (4) \n",
      "IQG/5 180 (0) 303 (3) 318 (3) 816 (1) 1320 (0) 1788 (3) 1929 (4) 2682 (2) \n",
      "INJ/5 236 (1) 416 (1) 791 (1) 839 (4) 1268 (3) 1691 (1) 1952 (2) 2240 (0) \n",
      "THH/6 20 (2) 47 (5) 365 (5) 419 (5) 452 (2) 602 (2) 719 (5) 977 (5) 1022 (2) 1229 (5) 1241 (5) 1298 (2) 1457 (5) 1694 (2) 1724 (2) 1823 (5) 1955 (5) 2057 (5) 2069 (5) 2369 (5) 2393 (5) 2714 (2) \n",
      "TKE/6 822 (0) 831 (3) 945 (3) 1044 (0) 1107 (3) 1119 (3) 1812 (0) 2079 (3) 2112 (0) 2247 (3) 2256 (0) 2292 (0) 2328 (0) 2436 (0) 2466 (0) \n",
      "WHE/6 220 (4) 466 (4) 745 (1) 853 (1) 1006 (4) 1204 (4) 1429 (1) 1486 (4) 1867 (1) 1975 (1) 2002 (4) 2500 (4) 2521 (1) 2632 (4) \n",
      "THD/6 140 (2) 152 (2) 155 (5) 599 (5) 1329 (3) 1362 (0) 2108 (2) 2139 (3) 2432 (2) 2699 (5) \n",
      "HHR/6 306 (0) 603 (3) 654 (0) 720 (0) 1089 (3) 1740 (0) 2172 (0) 2481 (3) 2685 (3) 2730 (0) \n",
      "EQT/6 282 (0) 450 (0) 639 (3) 732 (0) 1053 (3) 1407 (3) 1722 (0) 1734 (0) 1992 (0) \n",
      "HHA/6 762 (0) 1153 (1) 1185 (3) 1348 (4) 1465 (1) 1536 (0) 2377 (1) 2715 (3) 2734 (4) \n",
      "ENW/6 149 (5) 425 (5) 707 (5) 788 (2) 1337 (5) 1871 (5) 1934 (2) 2669 (5) \n",
      "IQG/6 180 (0) 303 (3) 318 (0) 816 (0) 1320 (0) 1788 (0) 1929 (3) 2682 (0) \n",
      "INJ/6 236 (2) 416 (2) 791 (5) 839 (5) 1268 (2) 1691 (5) 1952 (2) 2240 (2) \n",
      "THH/7 20 (6) 47 (5) 365 (1) 419 (6) 452 (4) 602 (0) 719 (5) 977 (4) 1022 (0) 1229 (4) 1241 (2) 1298 (3) 1457 (1) 1694 (0) 1724 (2) 1823 (3) 1955 (2) 2057 (6) 2069 (4) 2369 (3) 2393 (6) 2714 (5) \n",
      "TKE/7 822 (3) 831 (5) 945 (0) 1044 (1) 1107 (1) 1119 (6) 1812 (6) 2079 (0) 2112 (5) 2247 (0) 2256 (2) 2292 (3) 2328 (4) 2436 (0) 2466 (2) \n",
      "WHE/7 220 (3) 466 (4) 745 (3) 853 (6) 1006 (5) 1204 (0) 1429 (1) 1486 (2) 1867 (5) 1975 (1) 2002 (0) 2500 (1) 2521 (1) 2632 (0) \n",
      "THD/7 140 (0) 152 (5) 155 (1) 599 (4) 1329 (6) 1362 (4) 2108 (1) 2139 (4) 2432 (3) 2699 (4) \n",
      "HHR/7 306 (5) 603 (1) 654 (3) 720 (6) 1089 (4) 1740 (4) 2172 (2) 2481 (3) 2685 (4) 2730 (0) \n",
      "EQT/7 282 (2) 450 (2) 639 (2) 732 (4) 1053 (3) 1407 (0) 1722 (0) 1734 (5) 1992 (4) \n",
      "HHA/7 762 (6) 1153 (5) 1185 (2) 1348 (4) 1465 (2) 1536 (3) 2377 (4) 2715 (6) 2734 (4) \n",
      "ENW/7 149 (2) 425 (5) 707 (0) 788 (4) 1337 (0) 1871 (2) 1934 (2) 2669 (2) \n",
      "IQG/7 180 (5) 303 (2) 318 (3) 816 (4) 1320 (4) 1788 (3) 1929 (4) 2682 (1) \n",
      "INJ/7 236 (5) 416 (3) 791 (0) 839 (6) 1268 (1) 1691 (4) 1952 (6) 2240 (0) \n",
      "THH/8 20 (4) 47 (7) 365 (5) 419 (3) 452 (4) 602 (2) 719 (7) 977 (1) 1022 (6) 1229 (5) 1241 (1) 1298 (2) 1457 (1) 1694 (6) 1724 (4) 1823 (7) 1955 (3) 2057 (1) 2069 (5) 2369 (1) 2393 (1) 2714 (2) \n",
      "TKE/8 822 (6) 831 (7) 945 (1) 1044 (4) 1107 (3) 1119 (7) 1812 (4) 2079 (7) 2112 (0) 2247 (7) 2256 (0) 2292 (4) 2328 (0) 2436 (4) 2466 (2) \n",
      "WHE/8 220 (4) 466 (2) 745 (1) 853 (5) 1006 (6) 1204 (4) 1429 (5) 1486 (6) 1867 (3) 1975 (7) 2002 (2) 2500 (4) 2521 (1) 2632 (0) \n",
      "THD/8 140 (4) 152 (0) 155 (3) 599 (7) 1329 (1) 1362 (2) 2108 (4) 2139 (3) 2432 (0) 2699 (3) \n",
      "HHR/8 306 (2) 603 (3) 654 (6) 720 (0) 1089 (1) 1740 (4) 2172 (4) 2481 (1) 2685 (5) 2730 (2) \n",
      "EQT/8 282 (2) 450 (2) 639 (7) 732 (4) 1053 (5) 1407 (7) 1722 (2) 1734 (6) 1992 (0) \n",
      "HHA/8 762 (2) 1153 (1) 1185 (1) 1348 (4) 1465 (1) 1536 (0) 2377 (1) 2715 (3) 2734 (6) \n",
      "ENW/8 149 (5) 425 (1) 707 (3) 788 (4) 1337 (1) 1871 (7) 1934 (6) 2669 (5) \n",
      "IQG/8 180 (4) 303 (7) 318 (6) 816 (0) 1320 (0) 1788 (4) 1929 (1) 2682 (2) \n",
      "INJ/8 236 (4) 416 (0) 791 (7) 839 (7) 1268 (4) 1691 (3) 1952 (0) 2240 (0) \n"
     ]
    }
   ],
   "source": [
    "for size in range(3,9):\n",
    "    for word in 'THH', 'TKE', 'WHE', 'THD', 'HHR', 'EQT', 'HHA', 'ENW', 'IQG', 'INJ': \n",
    "        get_alignment(squished, word, size)"
   ]
  },
  {
   "cell_type": "code",
   "execution_count": 23,
   "metadata": {},
   "outputs": [
    {
     "name": "stdout",
     "output_type": "stream",
     "text": [
      "AAX\n",
      "AXA\n",
      "XAA\n",
      "MAN\n",
      "PRL\n",
      "PUI\n",
      "LRY\n",
      "LUV\n"
     ]
    }
   ],
   "source": [
    "# A 3 letter key\n",
    "for word in 'THH', 'TKE', 'WHE', 'HHR', 'EQT', 'ENW', 'IQG', 'INJ':\n",
    "    lookup_key(word, \"THE\")"
   ]
  },
  {
   "cell_type": "code",
   "execution_count": 19,
   "metadata": {},
   "outputs": [],
   "source": [
    "# A method to decode/encode a Vigenere cipher.  Case and punctuation are preserved.\n",
    "# text: The text to encode\n",
    "# key: The key to use\n",
    "# encode: If set to True, will encode the given text instead of decoding it\n",
    "def vigenere(text, key, encode=False):\n",
    "    shifts = [ord(letter.upper()) - ord(\"A\") for letter in key]\n",
    "    key_length = len(key)\n",
    "    key_index = 0\n",
    "    for letter in text:\n",
    "        letter_val = ord(letter)\n",
    "        if letter.isupper():\n",
    "            offset = ord(\"A\")\n",
    "        elif letter.islower():\n",
    "            offset = ord(\"a\")\n",
    "        else:\n",
    "            print(letter, end=\"\")\n",
    "            continue\n",
    "\n",
    "        if encode:\n",
    "            shift = shifts[key_index]\n",
    "        else:\n",
    "            shift = -shifts[key_index]\n",
    "\n",
    "        print(chr((((letter_val - offset) + shift) % 26) + offset), end=\"\")\n",
    "        key_index = (key_index + 1) % key_length\n",
    "    print()"
   ]
  },
  {
   "cell_type": "code",
   "execution_count": 21,
   "metadata": {},
   "outputs": [
    {
     "name": "stdout",
     "output_type": "stream",
     "text": [
      "MEDEGRAJAIGMSURREFOXTHKDERAYONMEREVLYOHABEFUUNJTHKLAYTFKWDGYSXEMGRKGBLEBUYYBKFOXEIIOURDRKSPUNDZOYUURRETZEROWAYCARLEJTOCHIZEHGLLVLAIETUDEGLWOTHGNITCIJENZTHGTHGDOICUXREJATQAIYERYLOJGITGSGYOANGCOMGNHGDBKENGPPXEHKNDKDOATSODEZHEVROVERZYCGRREINMALGRGKBAMINCHIIHWKRELOUTDPNOTUGRGPHOCEWUIVMETTATDPRATKSNUTBKLIKVITGHKRSZOREOFHEITGAPOUXNARISZANJREIOGTISONGNERGCCKNTGSASEROCATTHKCOTSTGBLKPLGCEJHEXUNJERGRRKSTLORZUNGTERYRKCOMNIYINMTHKPOZENZIARFOXADOPLUMAZICONCODETTHKTRGNSVORZEDZHEYUSVECZTONEAJQUGRTKRSCHEXEUVONYHEXEQAESZEDZHAZISNOURDBKCARLEJIASSTOLLANCREAXWHGTPXOMVTEJMIYSWGRNKINNERGCTOONYBUZSHKCLKARRYBKLIKVEYTHGTHKRRQAIYERNASYOMKTHONGZOHODEGNDGPPGRETTLETOUKIZUPUNHKRSKLFZOBXEAQINZOHOSLUDGKANJTOZAKKPHUTOMRAVHSUFDUCUSENZSSNEFUUNJTHKREYHEGPPGRETTLEBOXROCEDZHEKQUOPMKNTLROSWHKATYTOTEWNOHGSBKENKXPKRISENZINMWIZHFGSTKREDPOYURKIMGGITGWNATNETNOUMHTNEWGSDUINMINGSSOSTONGZHEEOUTGLGDYOAMGTAROSYTOKXPRAITMIYSWGRNKSEKMSZOPUSSKSSGCHGRMZHAZISROSZONSEBATWNICNPEXSUGDEYOTNERYTOPOITHEXINNERSADGDVKNTAREYTHKDERAYNASHEETCAASEJINVARZBYZHETEEJTOVROIESYTHKPLGTEYANJTOIONYIDKRTNEIXCOTTETTSANFURTANAZELEOUXAMGTEARPNOTUGRGPHKRFGILKDTUPRUTEITTNEISAGKSATDTNEYCERKBAJLYUVEXEXVOSKDIYUSVECZSHKHAJNOZREGLIYEDPUSZHOCSETSIZIVKWHKATYTOTESLORSULGISZHEUNLELEMIBREPGRTUFATYOLTHKIMGGEYWAYTHKPHXASKJATUSVROPECZACIORJINMTOSISYWAXNEZHIYWAYWROTTKNOTTHKCOBERUFALILKCOTTAONITGETCREPTKDDUCUSENZSWNICNSHKHAJALYOAZTESPTKDTUCOVYIZHAYTAQENGLLSYPKRSAASOONGNDGNITTEXVETTIUNBEPARMEXSTUNTUGEZHEXREREAYEDGNDOAMGFRGIDZHAZTHKPORICKHABECUNFOSCGTEJALROFZHEKQUOPMKNTOFOXESKEAJISGGRKEAHLEIONBERYATOONCITNWHKATYTOTEITMYTEAXFUZURKIDUNOZKNUWWNATCEAXETUMAQEOLTHOSPGLMKRSZONNASSADKITILEGRTNATSISYWAXNEIANTOTHEARLOCEDZOCUNTONUKINZHIYIRXESVONYIBREWGYSNEROSKYJEUPAXDIYINMTHKDERICGTETEGUTIGTIUNSHETCEETTHKGOBERTMETTATDHKRRQAIYERYCOSPATYATDYKTIZHITKSNEMGYBKONZOSUMEZHITGIGSKKDPGLMKRSZONGBOATTNESOKHCITNTHKBLGCKYERVACNANJHEOMMKDIGTERYKTEWCHOOMEGNTZHEMENZLESANONQAESZIOTISGPRONCKANJHIMHRGNKONGUFFOCIGLITDUREEVSITGHYENZOUXAGKHEOSVOSIZINMTHKGRKATKXHOBIZIOTASZHEUFFOCIGLRKPRKSETTAZIVKOFZHESAHGRAPAHGNDNASHEETHEGVIRYITVORVEJINJISIUSYIOTSAHOUZTHKDIYPLGYOLTHKDIGMOTDTNEMGHAXAJGHIYDEKPLECOTCEXNEJTHGTTNEGKMSNOURDBKFURLYGPPXECOATKDBEHEXMAPESZYSYUBPECZSBATSNARKSHKRCUNCKRNGTOARAHILOTYZOETSUXEIZSSGFEZYNUTWOSHONGZOSZIRAPMUREOLLLEERINMOVKRTNEGOFTUFTNEDOAMUNDZHOYEDOSCASSOONYHABEBKENGTTNEHOGHKSTREVKLATDICASTOTSADKAWGREUFTNEMANTOLNUWPGLMKRSZONCASGLSUNOZAWGREZHAZTHKPRONCKHAJLELTLUNDUNBATHKWAYNOZUNJULESUXPROSEJNOXWAYHEGLAXMEJTHGTTNERKMIMHTHEAIONTECZIOTBEZWEKNTNEMGHAXAJGHATDHKRRQAIYERMIVKNTNATZHERATZEROSSVONYORONGZHEONDOAPGVIRIOTWHOLEOAGXEEZHAZWETEEJTOIONZINAEOARITVEYTIMATOONYCATIAYKYUUPREAYETUDOEOUXVEXYBKSTZOTGMESISYWAXNEZHERITZLEZIMKIHGVEGVAOLAHLEOSBKTTKRSVENZCOTTESPLGTITGHKRDOSCUVEXIEYTHGNDKALONGCITNTHKAUZHOXITOESUNHKRBKHARFWOTHSYBKSTCISNESGSARWAESTUYOAANJYOARHASBGNDHABHAGK\n"
     ]
    }
   ],
   "source": [
    "# AXA?\n",
    "vigenere(squished, \"AXA\")"
   ]
  },
  {
   "cell_type": "code",
   "execution_count": 24,
   "metadata": {},
   "outputs": [
    {
     "name": "stdout",
     "output_type": "stream",
     "text": [
      "MYDEARADAIAMSORRYFORTHEDELAYINMYREPLYIHAVEFOUNDTHELASTFEWDAYSREMARKABLYBUSYBEFOREICOULDRESPONDTOYOURLETTERIWASCALLEDTOWHITEHALLPLACETODEALWITHANINCIDENTTHATHADOCCURREDATKAISERSLODGINGSAYOUNGWOMANHADBEENAPPREHENDEDOUTSIDETHEPROPERTYCARRYINGALARGEBAGINWHICHWEREFOUNDPHOTOGRAPHICEQUIPMENTANDPLATESNOTBELIEVINGHERSTORYOFBEINGAJOURNALISTANDRECOGNISINGHERACCENTASAMERICANTHECONSTABLEPLACEDHERUNDERARRESTFORTUNATELYRECOGNISINGTHEPOTENTIALFORADIPLOMATICINCIDENTHETRANSPORTEDTHESUSPECTTOHEADQUARTERSWHEREUPONSHEREQUESTEDTHATISHOULDBECALLEDIAMSTILLUNCLEARWHATPROMPTEDMISSWARNEINHERACTIONSBUTSHECLEARLYBELIEVESTHATHERRKAISERHASSOMETHINGTOHIDEANDAPPARENTLYTOOKITUPONHERSELFTOBREAKINTOHISLODGEANDTOTAKEPHOTOGRAPHSOFDOCUMENTSSHEFOUNDTHERESHEAPPARENTLYBORROWEDTHEEQUIPMENTFROMWHEATSTONEWHOHASBEENEXPERIMENTINGWITHFASTEREXPOSUREIMAGINGWHATHETHOUGHTHEWASDOINGINASSISTINGTHEYOUNGLADYIAMATALOSSTOEXPLAINMISSWARNESEEMSTOPOSSESSACHARMTHATISLOSTONMEBUTWHICHPERSUADESOTHERSTOJOINHERINHERMADADVENTURESTHEDELAYHASBEENCAUSEDINPARTBYTHENEEDTOPROCESSTHEPLATESANDTOCONSIDERTHEIRCONTENTSUNFORTUNATELYOURAMATEURPHOTOGRAPHERFAILEDTOPROTECTTHEIMAGESANDTHEYWEREBADLYOVEREXPOSEDISUSPECTSHEHADNOTREALISEDJUSTHOWSENSITIVEWHEATSTONESFORMULAISTHEONLYLEGIBLEPARTOFANYOFTHEIMAGESWASTHEPHRASEJANUSPROJECTACCORDINGTOMISSWARNETHISWASWRITTENONTHECOVEROFAFILECONTAININGENCRYPTEDDOCUMENTSWHICHSHEHADALSOATTEMPTEDTOCOPYITHASTAKENALLMYPERSUASIONANDANINTERVENTIONBYPALMERSTONTOGETHERRELEASEDANDIAMAFRAIDTHATTHEPOLICEHAVECONFISCATEDALLOFTHEEQUIPMENTIFORESEEADISAGREEABLECONVERSATIONWITHWHEATSTONEINMYNEARFUTUREIDONOTKNOWWHATWEARETOMAKEOFTHISPALMERSTONHASMADEITCLEARTHATMISSWARNECANNOTBEALLOWEDTOCONTINUEINTHISIRRESPONSIBLEWAYSHERISKSJEOPARDISINGTHEDELICATENEGOTIATIONSBETWEENTHEGOVERNMENTANDHERRKAISERSCOMPANYANDYETITHINKSHEMAYBEONTOSOMETHINGIASKEDPALMERSTONABOUTTHESIKHWITHTHEBLACKSERPACHANDHEIMMEDIATELYKNEWWHOIMEANTTHEGENTLEMANINQUESTIONISAPRINCEANDHIGHRANKINGOFFICIALINDULEEPSINGHSENTOURAGEHEISVISITINGTHEGREATEXHIBITIONASTHEOFFICIALREPRESENTATIVEOFTHEMAHARAJAHANDHASBEENHEAVILYINVOLVEDINDISCUSSIONSABOUTTHEDISPLAYOFTHEDIAMONDTHEMAHARAJAHISDEEPLYCONCERNEDTHATTHEGEMSHOULDBEFULLYAPPRECIATEDBYHERMAJESTYSSUBJECTSBUTSHARESHERCONCERNATOURABILITYTOENSUREITSSAFETYNOTWISHINGTOSTIRUPMOREILLFEELINGOVERTHEGIFTOFTHEDIAMONDTHOSEDISCUSSIONSHAVEBEENATTHEHIGHESTLEVELANDIWASNOTMADEAWAREOFTHEMUNTILNOWPALMERSTONWASALSONOTAWARETHATTHEPRINCEHADLEFTLONDONBUTHEWASNOTUNDULYSURPRISEDNORWASHEALARMEDTHATTHEREMIGHTBEACONNECTIONBETWEENTHEMAHARAJAHANDHERRKAISERGIVENTHATTHELATTERISSPONSORINGTHEINDIAPAVILIONWHILEIAGREETHATWENEEDTOCONTINUEOURINVESTIGATIONSCANIASKYOUPLEASETODOYOURVERYBESTTOTAMEMISSWARNETHELITTLETIMEIHAVEAVAILABLEISBETTERSPENTCONTEMPLATINGHERDISCOVERIESTHANDEALINGWITHTHEAUTHORITIESONHERBEHALFWITHMYBESTWISHESASALWAYSTOYOUANDYOURHUSBANDBABBAGE\n"
     ]
    }
   ],
   "source": [
    "# ADA?\n",
    "vigenere(squished, \"ADA\")"
   ]
  },
  {
   "cell_type": "markdown",
   "metadata": {},
   "source": [
    "## Edited for clarity:\n",
    "\n",
    "My Dear Ada,<br/>\n",
    "I am sorry for the delay in my reply, I have found the last few days remarkably busy. Before I could respond to your letter, I was called to Whitehall Place to deal with an incident that had occurred at Kaiser's lodgings.<br/>\n",
    "A young woman had been apprehended outside the property carrying a large bag, in which were found photographic equipment and plates. Not believing her story of being a journalist and recognising her accent as American, the constable placed her under arrest. Fortunately recognising the potential for a diplomatic incident, he transported the suspect to headquarters, whereupon she requested that I should be called.<br/>\n",
    "I am still unclear what prompted Miss Warne in her actions, but she clearly believes that Herr Kaiser has something to hide and apparently took it upon herself to break into his lodge and to take photographs of documents she found there. She apparently borrowed the equipment from Wheatstone, who has been experimenting with faster exposure imaging. What he thought he was doing in assisting the young lady, I am at a loss to explain.<br/>\n",
    "Miss Warne seems to possess a charm that is lost on me, but which persuades others to join her in her mad adventures. The delay has been caused in part by the need to process the plates and to consider their contents. Unfortunately, our amateur photographer failed to protect the images and they were badly overexposed. I suspect she had not realised just how sensitive Wheatstone's formula is.<br/>\n",
    "The only legible part of any of the images was the phrase \"Janus Project\". According to Miss Warne, this was written on the cover of a file containing encrypted documents which she had also attempted to copy.<br/>\n",
    "It has taken all my persuasion and an intervention by Palmerston to get her released and I am afraid that the police have confiscated all of the equipment. I foresee a disagreeable conversation with Wheatstone in my near future.<br/>\n",
    "I do not know what we are to make of this. Palmerston has made it clear that Miss Warne cannot be allowed to continue in this irresponsible way. She risks jeopardising the delicate negotiations between the government and Herr Kaiser's company and yet I think she maybe on to something.<br/>\n",
    "I asked Palmerston about the Sikh with the black serpach and he immediately knew who I meant. The gentleman in question is a prince and high ranking official in Duleep Singh's entourage. He is visiting the Great Exhibition as the official representative of the Maharajah and has been heavily involved in discussions about the display of the diamond. The Maharaja his deeply concerned that the gem should be fully appreciated by her majesty's subjects, but shares her concern at our ability to ensure its safety.<br/>\n",
    "Not wishing to stir up more ill feeling over the gift of the diamond, those discussions have been at the highest level and I was not made aware of them until now. Palmerston was also not aware that the prince had left London, but he was not unduly surprised nor was he alarmed that there might be a connection between the Maharajah and Herr Kaiser, given that the latter is sponsoring the India Pavilion.<br/>\n",
    "While I agree that we need to continue our investigations, can I ask you please to do your very best to tame Miss Warne. The little time I have available is better spent contemplating her discoveries than dealing with the authorities on her behalf.<br/>\n",
    "With my best wishes as always to you and your husband,<br/>\n",
    "Babbage."
   ]
  },
  {
   "cell_type": "code",
   "execution_count": null,
   "metadata": {},
   "outputs": [],
   "source": []
  }
 ],
 "metadata": {
  "kernelspec": {
   "display_name": "Python 3 (ipykernel)",
   "language": "python",
   "name": "python3"
  },
  "language_info": {
   "codemirror_mode": {
    "name": "ipython",
    "version": 3
   },
   "file_extension": ".py",
   "mimetype": "text/x-python",
   "name": "python",
   "nbconvert_exporter": "python",
   "pygments_lexer": "ipython3",
   "version": "3.12.4"
  }
 },
 "nbformat": 4,
 "nbformat_minor": 4
}
