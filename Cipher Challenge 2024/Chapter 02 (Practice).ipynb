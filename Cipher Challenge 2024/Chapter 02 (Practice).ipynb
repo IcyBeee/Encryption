{
 "cells": [
  {
   "cell_type": "markdown",
   "metadata": {},
   "source": [
    "# Cipher Challenge 2024\n",
    "### Chapter 2 (practice) / 2024-Oct-17\n",
    "\n",
    "Challenge link https://www.cipherchallenge.org/challenge/challenge-2/"
   ]
  },
  {
   "cell_type": "code",
   "execution_count": 1,
   "metadata": {},
   "outputs": [],
   "source": [
    "# Part A - \"A letter addressed to Ada\"\n",
    "part_a_text = \"\"\"\n",
    "RYP VUV AZOLAVDL KZYPALN GZFLYP LVPG KZYPALN PXYYLN RN ULVYLPG VUV, B FVP OLYN QALVPLU GZ YLDLBOL NZXY ALGGLY, VIU B RXPG VQZAZTBPL GKVG B KVOL GVJLI PZ AZIT GZ YLQAN. RN UXGBLP FBGK YLTVYUP GZ GKL TYLVG LWKBMBGBZI VYL VMPZYMBIT RZPG ZC RN FVJBIT KZXYP, ALVOBIT ABGGAL GBRL CZY ZGKLY QXYPXBGP. GKL ILFP GKVG GKL TYLVG JZK-B-IZZY UBVRZIU BP GZ QAVN V DLIGYVA YZAL BI GKL LWKBMBGBZI KVP DVXPLU DZIPBULYVMAL DZIPGLYIVGBZI VRZIT GKL ZYTVIBPLYP. GKL ILLU CZY PLDXYBGN BP BI PZRL DZICABDG FBGK KLY RVSLPGN’P LWQYLPPLU KZQL GKVG KLY PXMSLDGP FBAA ML PXBGVMAN LIDKVIGLU MN GKL SLFLA. BG BP IZG GKVG BRQYLPPBOL LOLI VG DAZPL KVIU, KVOBIT MLLI DXG BI GKL BIUBVI PGNAL YVGKLY GKVI GKL CVDLGLU DXG FBGK FKBDK FL VYL RZYL CVRBABVY BI GKL FLPG. FKBAL AVYTL, BGP CVBAXYL GZ DVGDK GKL ABTKG ALVOLP BG YVGKLY XIULYFKLARBIT, LPQLDBVAAN QAVDLU FBGKBI V PLDXYL LIDAZPXYL VG PZRL UBPGVIDL CYZR GKL PQLDGVGZYP. VAA GKL PZAXGBZIP QYZQZPLU GZ UVGL KVOL CVBALU GZ RLLG YZNVA VQQYZOVA MXG B FBAA ML UBPDXPPBIT GKL BIUBV QVOBABZI FBGK QYBIDL VAMLYG AVGLY GZUVN VIU B KZQL GKVG FL RBTKG PLGGAL ZI V PVGBPCVDGZYN PZAXGBZI GKLI. GKVG FZXAU CYLL RL GZ PQLIU RZYL GBRL ZI ZGKLY BIGLYLPGP. FKBDK MYBITP RL GZ GKVG ZGKLY YZXTK UBVRZIU, RBPP FVYIL. KLY ALGGLY GZ NZX KVP YVGKLY DVXTKG RN VGGLIGBZI. B KVU IZG KLVYU GKVG ZXY VRLYBDVI DZXPBIP KVU VUZQGLU GKL DXPGZR ZC LRQAZNBIT CLRVAL ULGLDGBOLP, VIU RN DZIGVDGP VG PDZGAVIU NVYU FLYL LHXVAAN PXYQYBPLU. VCGLY V ABGGAL YLCALDGBZI B YLVABPLU GKVG FL KVU IZ YBTKG GZ ML. NZX KVOL VAYLVUN ULRZIPGYVGLU GKVG FZRLI KVOL RXDK GZ ZCCLY BI CBLAUP ZIDL YLPLYOLU GZ RLI, VIU RBPP FVYIL’P ALGGLY PKZFP GKVG NZXY LWVRQAL BP JIZFI VDYZPP GKL FZYAU. B PXPQLDG GKVG FL FBAA CBIU RVIN ZGKLYP ZC NZXY PLW CZAAZFBIT BI NZXY CZZGPGLQP. B AZZJ CZYFVYU GZ RLLGBIT PZRL ZC GKLR, GKZXTK QLYKVQP IZG RBPP FVYIL FKZ B PXPQLDG DZXAU IZG VCCZYU GKL DZPG ZC V GYVIPVGAVIGBD DYZPPBIT. GZ GKL RVGGLY BI KVIU: B VR IZG PXYL FKVG GKL RVYJBITP ZI GKL MXAALG DVPL RBTKG RLVI. BG BP VI XIXPXVA PLG ZC ALGGLYP - GZZ AZIT CZY VI VDYZINR, VIU IZG V FZYU BI VIN AVITXVTL FBGK FKBDK B VR CVRBABVY. ZI GKL ZGKLY KVIU, GKL GYBQAL C VIU AVDJ ZC OZFLAP RVJLP BG KBTKAN XIABJLAN GZ ML VI LITABPK FZYU LIDYNQGLU FBGK V PXMPGBGXGBZI ZY QLYRXGVGBZI DNQKLY, ZY LOLI FBGK V DZRMBIVGBZI ZC GKLPL. DZIGLWG BP LOLYNGKBIT VIU BG FZXAU ML OLYN KLAQCXA BC RBPP FVYIL DZXAU QYZOBUL PZRL. B KVOL IZ PLIPL ZC KZF XYTLIG KLY LIHXBYN RBTKG ML, VIU LOLI GKL CVPGLPG PKBQP GVJL ZOLY V FLLJ GZ DVYYN GKL QZPG, PZ B GKBIJ GKVG FL PKZXAU YLPQZIU HXBDJAN. FL ILLU GZ JIZF BC GKLYL VYL VIN ZGKLY DAXLP GKVG RBTKG KLAQ XP GZ ULGLYRBIL GKL RLVIBIT ZC GKL BIPDYBQGBZI. FBAA NZX ML BI GKL DBGN GKBP FLLJ? QLYKVQP FL DZXAU RLLG GZ UBPDXPP GKL FZYUBIT ZC ZXY ALGGLY. FBGK RN CZIULPG FBPKLP CZY NZX VIU NZXY KXPMVIU, DKVYALP MVMMVTL \n",
    "\"\"\""
   ]
  },
  {
   "cell_type": "code",
   "execution_count": 2,
   "metadata": {},
   "outputs": [],
   "source": [
    "# Bring in the basic decoder function\n",
    "import string\n",
    "\n",
    "# A simple translation method.\n",
    "# text: The text to translate, in upper case\n",
    "# key: A substitution alphabet, usually in lower case so that the translated characters show up\n",
    "def decode(text, key):\n",
    "    table = str.maketrans(string.ascii_uppercase, key)\n",
    "    print(text.upper().translate(table))"
   ]
  },
  {
   "cell_type": "code",
   "execution_count": 5,
   "metadata": {},
   "outputs": [
    {
     "name": "stdout",
     "output_type": "stream",
     "text": [
      "\n",
      "mrs ada lovelace horsley towers east horsley surrey my dearest ada, i was very pleased to receive your letter, and i must apologise that i have taken so long to reply. my duties with regards to the great exhibition are absorbing most of my waking hours, leaving little time for other pursuits. the news that the great koh-i-noor diamond is to play a central role in the exhibition has caused considerable consternation among the organisers. the need for security is in some conflict with her majesty’s expressed hope that her subjects will be suitably enchanted by the jewel. it is not that impressive even at close hand, having been cut in the indian style rather than the faceted cut with which we are more familiar in the west. while large, its failure to catch the light leaves it rather underwhelming, especially placed within a secure enclosure at some distance from the spectators. all the solutions proposed to date have failed to meet royal approval but i will be discussing the india pavilion with prince albert later today and i hope that we might settle on a satisfactory solution then. that would free me to spend more time on other interests. which brings me to that other rough diamond, miss warne. her letter to you has rather caught my attention. i had not heard that our american cousins had adopted the custom of employing female detectives, and my contacts at scotland yard were equally surprised. after a little reflection i realised that we had no right to be. you have already demonstrated that women have much to offer in fields once reserved to men, and miss warne’s letter shows that your example is known across the world. i suspect that we will find many others of your sex following in your footsteps. i look forward to meeting some of them, though perhaps not miss warne who i suspect could not afford the cost of a transatlantic crossing. to the matter in hand: i am not sure what the markings on the bullet case might mean. it is an unusual set of letters - too long for an acronym, and not a word in any language with which i am familiar. on the other hand, the triple f and lack of vowels makes it highly unlikely to be an english word encrypted with a substitution or permutation cypher, or even with a combination of these. context is everything and it would be very helpful if miss warne could provide some. i have no sense of how urgent her enquiry might be, and even the fastest ships take over a week to carry the post, so i think that we should respond quickly. we need to know if there are any other clues that might help us to determine the meaning of the inscription. will you be in the city this week? perhaps we could meet to discuss the wording of our letter. with my fondest wishes for you and your husband, charles babbage \n",
      "\n"
     ]
    }
   ],
   "source": [
    "# As this is week 2, it's probably still a Caesar cipher. The decoder they've put on the page indicates that its an Affine cipher.\n",
    "# \"GKL\" is probably \"the\"\n",
    "# \"DKVYALP MVMMVTL\" -> D=c, V=a, Y=r, A=l, P=s, M=b, T=g\n",
    "# \"lBCcEFtHIJhebNOsQRSgUarXYZ\" - looks like a period of 17. Fill the rest in...\n",
    "decode(part_a_text, \"lifczwtqnkhebyvspmjgdaxuro\")"
   ]
  },
  {
   "cell_type": "markdown",
   "metadata": {},
   "source": [
    "# Edited for clarity:\n",
    "\n",
    "Mrs Ada Lovelace,\n",
    "Horsley Towers,\n",
    "East Horsley,\n",
    "Surrey.\n",
    "\n",
    "My Dearest Ada,<br/>\n",
    "I was very pleased to receive your letter, and I must apologise that I have taken so long to reply. My duties with regards to the great exhibition are absorbing most of my waking hours, leaving little time for other pursuits.<br/>\n",
    "The news that the great Koh-I-Noor diamond is to play a central role in the exhibition has caused considerable consternation among the organisers. The need for security is in some conflict with Her Majesty’s expressed hope that her subjects will be suitably enchanted by the jewel.<br/>\n",
    "It is not that impressive even at close hand, having been cut in the Indian style rather than the faceted cut with which we are more familiar in the west. While large, its failure to catch the light leaves it rather underwhelming, especially placed within a secure enclosure at some distance from the spectators. All the solutions proposed to date have failed to meet royal approval but I will be discussing the India Pavilion with Prince Albert later today and I hope that we might settle on a satisfactory solution then.<br/>\n",
    "That would free me to spend more time on other interests. Which brings me to that other rough diamond, Miss Warne. Her letter to you has rather caught my attention. I had not heard that our American cousins had adopted the custom of employing female detectives, and my contacts at Scotland Yard were equally surprised.<br/>\n",
    "After a little reflection I realised that we had no right to be. You have already demonstrated that women have much to offer in fields once reserved to men, and Miss Warne’s letter shows that your example is known across the world. I suspect that we will find many others of your sex following in your footsteps. I look forward to meeting some of them, though perhaps not Miss Warne who I suspect could not afford the cost of a transatlantic crossing.<br/>\n",
    "To the matter in hand: I am not sure what the markings on the bullet case might mean. It is an unusual set of letters - too long for an acronym, and not a word in any language with which I am familiar. On the other hand, the triple F and lack of vowels makes it highly unlikely to be an english word encrypted with a substitution or permutation cypher, or even with a combination of these. Context is everything and it would be very helpful if miss warne could provide some.<br/>\n",
    "I have no sense of how urgent her enquiry might be, and even the fastest ships take over a week to carry the post, so I think that we should respond quickly. We need to know if there are any other clues that might help us to determine the meaning of the inscription.<br/>\n",
    "Will you be in the city this week? Perhaps we could meet to discuss the wording of our letter.<br/>\n",
    "With my fondest wishes for you and your husband,<br>\n",
    "Charles Babbage "
   ]
  },
  {
   "cell_type": "code",
   "execution_count": 6,
   "metadata": {},
   "outputs": [],
   "source": [
    "# Part B \"Don't forget the stamp\"\n",
    "part_b_text = \"\"\"\n",
    "MPSF ZVGG KSFBP,\n",
    "HUSBX NCI QCF NCIF YPHHPF SBM HUP VBHFVRIVBR DIOOYP HUSH NCI GPBH ZP. V USJP MVGAIGGPM VH KVHU ZN AYCGP QFVPBM SBM ACYYSTCFSHCF ZF AUSFYPG TSTTSRP, SBM KP SFP TCHU CQ HUP CDVBVCB HUSH VH VG S ZNGHPFN HUSH MPZSBMG S YVHHYP ZCFP ACBHPLH VQ KP SFP HC TP CQ SBN SGGVGHSBAP HC NCI. KP UCDP HUSH KP SFP STYP HC UPYD NCI, TIH KP SFP GCZPKUSH IBAPFHSVB KUPHUPF HUVG VG GCZPHUVBR HUSH MPZSBMG CIF VZZPMVSHP SHHPBHVCB. VQ GC UCK MC NCI DFCDCGP HUSH KP GUCIYM DFCAPPM? PJPB KVHU HUP VZDFCJPZPBHG VB HFSBGSHYSBHVA HFSQQVA VH KVYY HSXP GCZP HVZP HC VBJPGHVRSHP HUVG ZSHHPF TN DCGH SBM V SZ SQFSVM KP SFP GHVYY GCZP KSN QFCZ HUP VBHFCMIAHVCB CQ HUP HFSBGSHYSBHVA HPYPRFSDU. (HUCIRU CIF QFVPBM ZF KUPSHGHCBP VG KCFXVBR SYY UCIFG HC USGHPB HUSH MPJPYCDZPBH.) KP KCIYM TP RFSHPQIY VQ NCI ACIYM FPDYN KVHU SBN QIFHUPF VBQCFZSHVCB HUSH ZSN UPYD IG.\n",
    "CB HUP ZSHHPF CQ HUP TIYYPH, ZF TSTTSRP USG GIRRPGHPM HUP DCGGVTVYVHN HUSH HUP YPHHPFVBR ZVRUH TP CQ QCFPVRB CFVRVB, TIH KP SFP BCH SKSFP CQ S YSBRISRP VB KUVAU HUVG ACZTVBSHVCB CQ YSHVB ACBGCBSBHG ACIYM GVRBVQN SB PLDFPGGVTYP KCFM. UP GIRRPGHPM SYGC HUSH HUP AUSFSAHPFG ZVRUH TP HUCGP CQ SB SAFCBNZ, HUCIRU HUP YSAX CQ DIBAHISHVCB SBM HUP FPYSHVJPYN YSFRP BIZTPF CQ YPHHPFG ZSXPG HUVG, HCC, IBYVXPYN.\n",
    "KP SFP HUPB TFCIRUH HC HUP DCGGVTVYVHN, KUVAU V SZ GIFP NCI USM VB ZVBM, HUSH HUP HPLH CB HUP ASGP ZVRUH FPDFPGPBH GCZP QCFZ CQ PBANDUPFPM ACZZIBVASHVCB. HUP GUCFHBPGG CQ HUP HPLH DFPGPBHG S GVRBVQVASBH DFCTYPZ. KP SFP IBSTYP HC SDDYN CIF IGISY HPAUBVEIPG CQ QFPEIPBAN SBSYNGVG HC MPHPFZVBP SBN DSHHPFB, SBM KVHUCIH ZCFP ACBHPLH KP USJP BC AFVTG CF CHUPF AYIPG HC VHG YVXPYN ZPSBVBR. VB NCIF YPHHPF NCI ZPBHVCBPM HUSH HUP TIYYPH KSG QCIBM VB S GUVDDVBR KSFPUCIGP BPSF S GHSAX CQ GPSYPM AFSHPG, SBM HUSH HUPGP KPFP TCIBM QCF PBRYSBM. KP KCIYM QVBM VH ZCGH UPYDQIY VQ NCI ACIYM HPYY IG, GUCIYM NCI XBCK, HUP ACBHPBHG CQ HUCGP AFSHPG, HUP VBMVJVMISY CF ACFDCFSHVCB HC KUVAU HUPN TPYCBR SBM HUP FPAVDVPBH QCF KUCZ HUPN SFP CF KPFP VBHPBMPM.\n",
    "V SZ GCFFN VH USG HSXPB GC YCBR QCF ZP HC FPDYN HC NCI, TIH ZF TSTTSRP VG UPSJVYN VBJCYJPM VB HUP DFPDSFSHVCBG QCF HUP VBHPFBSHVCBSY QSVF HC TP UPYM YSHPF VB HUP NPSF. RVJPB HUP DFVBAP ACBGCFH’G VBJCYJPZPBH NCI ASB VZSRVBP HUSH HUPFP SFP UVRU PLDPAHSHVCBG CB SYY CQ HUCGP KUC SFP VBJCYJPM VB VHG MPYVJPFN. TP SGGIFPM UCKPJPF HUSH KP KVYY RVJP CIF QIYY SHHPBHVCB HC NCIF FPDYN SBM KP UCDP HC TP STYP HC SGGVGH NCI.\n",
    "KVHU CIF JPFN TPGH KVGUPG,\n",
    "SMS YCJPYSAP SBM AUSFYPG TSTTSRP\"\"\""
   ]
  },
  {
   "cell_type": "code",
   "execution_count": 9,
   "metadata": {},
   "outputs": [
    {
     "name": "stdout",
     "output_type": "stream",
     "text": [
      "\n",
      "dear miss warne,\n",
      "thank you for your letter and the intriguing puzzle that you sent me. i have discussed it with my close friend and collaborator mr charles babbage, and we are both of the opinion that it is a mystery that demands a little more context if we are to be of any assistance to you. we hope that we are able to help you, but we are somewhat uncertain whether this is something that demands our immediate attention. if so how do you propose that we should proceed? even with the improvements in transatlantic traffic it will take some time to investigate this matter by post and i am afraid we are still some way from the introduction of the transatlantic telegraph. (though our friend mr wheatstone is working all hours to hasten that development.) we would be grateful if you could reply with any further information that may help us.\n",
      "on the matter of the bullet, mr babbage has suggested the possibility that the lettering might be of foreign origin, but we are not aware of a language in which this combination of latin consonants could signify an expressible word. he suggested also that the characters might be those of an acronym, though the lack of punctuation and the relatively large number of letters makes this, too, unlikely.\n",
      "we are then brought to the possibility, which i am sure you had in mind, that the text on the case might represent some form of encyphered communication. the shortness of the text presents a significant problem. we are unable to apply our usual techniques of frequency analysis to determine any pattern, and without more context we have no cribs or other clues to its likely meaning. in your letter you mentioned that the bullet was found in a shipping warehouse near a stack of sealed crates, and that these were bound for england. we would find it most helpful if you could tell us, should you know, the contents of those crates, the individual or corporation to which they belong and the recipient for whom they are or were intended.\n",
      "i am sorry it has taken so long for me to reply to you, but mr babbage is heavily involved in the preparations for the international fair to be held later in the year. given the prince consort’s involvement you can imagine that there are high expectations on all of those who are involved in its delivery. be assured however that we will give our full attention to your reply and we hope to be able to assist you.\n",
      "with our very best wishes,\n",
      "ada lovelace and charles babbage\n"
     ]
    }
   ],
   "source": [
    "# Looks like another substitution cipher...\n",
    "# \"MPSF ZVGG KSFBP\" -> M=d, P=e, S=a, F=r, Z=m, V=i, G=s, K=w, B=n\n",
    "# \"AUSFYPG TSTTSRP\" -> A=c, U=h, Y=l, T=b, R=g\n",
    "# \"cnCDErsHIJwLdNOeQgabhiWXlm\" -> Filling in gaps -> W=j, X=k, Q=f, C=o, D=p, E=q, H=t, I=u, J=v, L=x, N=z,\n",
    "decode(part_b_text, \"cnopqrstuvwxdyzefgabhijklm\")"
   ]
  },
  {
   "cell_type": "markdown",
   "metadata": {},
   "source": [
    "# Edited for Clarity\n",
    "Dear Miss Warne,<br/>\n",
    "Thank you for your letter and the intriguing puzzle that you sent me. I have discussed it with my close friend and collaborator Mr Charles Babbage, and we are both of the opinion that it is a mystery that demands a little more context if we are to be of any assistance to you.<br/>\n",
    "We hope that we are able to help you, but we are somewhat uncertain whether this is something that demands our immediate attention. If so how do you propose that we should proceed? Even with the improvements in transatlantic traffic it will take some time to investigate this matter by post and I am afraid we are still some way from the introduction of the transatlantic telegraph. (though our friend Mr Wheatstone is working all hours to hasten that development.) We would be grateful if you could reply with any further information that may help us.<br/>\n",
    "On the matter of the bullet, Mr Babbage has suggested the possibility that the lettering might be of foreign origin, but we are not aware of a language in which this combination of Latin consonants could signify an expressible word. He suggested also that the characters might be those of an acronym, though the lack of punctuation and the relatively large number of letters makes this, too, unlikely.\n",
    "We are then brought to the possibility, which I am sure you had in mind, that the text on the case might represent some form of encyphered communication. The shortness of the text presents a significant problem. We are unable to apply our usual techniques of frequency analysis to determine any pattern, and without more context we have no cribs or other clues to its likely meaning. in your letter you mentioned that the bullet was found in a shipping warehouse near a stack of sealed crates, and that these were bound for England. We would find it most helpful if you could tell us, should you know, the contents of those crates, the individual or corporation to which they belong and the recipient for whom they are or were intended.\n",
    "I am sorry it has taken so long for me to reply to you, but Mr Babbage is heavily involved in the preparations for the international fair to be held later in the year. Given the Prince Consort’s involvement you can imagine that there are high expectations on all of those who are involved in its delivery. Be assured however that we will give our full attention to your reply and we hope to be able to assist you.<br/>\n",
    "With our very best wishes,<br/>\n",
    "Ada Lovelace and Charles Babbage"
   ]
  },
  {
   "cell_type": "code",
   "execution_count": null,
   "metadata": {},
   "outputs": [],
   "source": []
  }
 ],
 "metadata": {
  "kernelspec": {
   "display_name": "Python 3 (ipykernel)",
   "language": "python",
   "name": "python3"
  },
  "language_info": {
   "codemirror_mode": {
    "name": "ipython",
    "version": 3
   },
   "file_extension": ".py",
   "mimetype": "text/x-python",
   "name": "python",
   "nbconvert_exporter": "python",
   "pygments_lexer": "ipython3",
   "version": "3.12.4"
  }
 },
 "nbformat": 4,
 "nbformat_minor": 4
}
