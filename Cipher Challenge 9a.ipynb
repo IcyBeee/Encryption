{
 "cells": [
  {
   "cell_type": "markdown",
   "metadata": {},
   "source": [
    "# Cipher Challenge 9a"
   ]
  },
  {
   "cell_type": "code",
   "execution_count": 1,
   "metadata": {},
   "outputs": [],
   "source": [
    "# Here we go again...\n",
    "message9a = \"VXZAT CEALG YPEVM XJTIN XYOXG NJNDI FAWXS TWAPY GXMTI UHCMY XZEFU DVBTS EPFWR HKYRB HNEEK OYAPF EEPSR SQYNT ANXVK CMTYL CAIXS XBXRF PAGNW YIIZT WKMZO NUXXU UXMIH YGSIK LGTDA XJNPH FGXFB TPTLA TNQNX LBPJB QDLEY GVSFP FPWBG SAOIP OTTXZ EEUNG KNGGA IJXRR PZEVG HYKFZ CAIYR VFPLG PWBTV OEPWG IFSPV OHGVC CIDIW BNFMN WUHXA WWCPP YSXRJ PHCLF RFQCW RYXQM SSEMQ LWLGA AGTMV RKXIU HDIFG DDIQJ IUHUI AZGXT VUHRK IMMMZ STUOO POGCX YTPIM RMSSC SLAPC ETLXH PGEAZ IYAKO VGQTP XVYLT DGTCI HEJTE YOZZR BQTGG SOTUS ZXVKH MIWUB RXJIK WUHGS OYUAX HAOBE LEYBE VUXHP APTVP VCMJG RJPHI HKNFW YWPWH WTDNV EQJKE SWTSO GNSCX SQCAP HHLCE YGLZC GFIXT PTINX FMTOZ FTDUP WPOAP RGDEY AMXIJ GTPBX PSTUA MKCAL SATUT QCHRH PMVGD DAEWP VTSEV PIZAB KLGTD IFVPO NUEIE HPHXD WEOKK VRQXZ KWDOE FAHRT DLMLK GALTY BTXCM ACFCQ KVVSW TXTWH AWZRV YREUW XOEXD EPMTH XZLFT PMMYT GEGMW PHFZX VKSAL PPFMM RFBFE IALEF ONSQR VIDIO GVMMX IACTQ HKLDA ZLEZO TTDFR BSWRP BDPIA LXZRR DPNQP KSZMV NWJRB ZBSKX ECOBW VRVID IGBRC MXMES IJTFZ ZSWMI UHIFI WXUSB GLGFT XYSYZ OEVRN RTKSG XESIC IPBPV TWWNY FAVHQ TSVPA FRMTK VOEQT UPNAQ HLGWL GRTMR EUJIG FPXLV YLAQJ SXBXD ITWAO AXIUF TXYSE QEXWL FCISI QBAAU KLGBX WXACC OIWLG VIIAJ EGCML VRDHX BXSNI TOIEK PYXTK BHBAE FBDTT WHNIY GXNYJ ELEAG IEMRV YGSPW OLRFJ IURTN VLXYE PYCYH CEVAQ TNSAW FHWGM WYBLT UTNFT MEJLP ETLRB KPSIH XTABU FNGUS MJZDE TLXHC VNMJK EAKLS RZQEI SNPTU MUFOL OLHKR EVOKA SCELS HPHEW QQZDT CPAGD VGOHS WXGAP NIHJI FMIIV FVRSM NXBHT OHHDT TZWAR VHEVP AJSEU RXSCS HFOYA DWLAS TSXZG RVINC RVICT KPOIE WXNHH SIGBG ATKVE SWXNT ZRAEJ ERMCE ZPERS ICXNV ICEAX LFXSR VUXRS CXURI KRRPD XLWEL TEWLG CIKGL UTNQB SZGPA XZDXE TLHYC IELDR EEDUG RFLSE KLPKU DHRAT EWETU WZKXS OHATD YTRQZ LGWLE ZTEBT BTIJS WWLMP STALO POQDI GHZES OQASW AWFLO EUVRB GGELC XGFIT ABRZE XJMLD MZIUG NAWDW AEQXJ ESWIF ELCGA JTSCV NMWER PANWV ZVRXW SESQK YBHHE JTGNM MNXQB PLLAW RNQGW YOHII QBJSM QMZSU MPKPV IYLYB PPSIT KVUYT IRRPQ WFLWO BJIGB XHXTP UCCUX AWISZ AZDEP AVCFT HVZYR GVKZR FCMLV ZRETL CORTL PTDRR MCWAC HILGS HNQWY DSWTW LLHOU GJFOL IAKOL IXAIU HCIIM HVNBA SOOTX HJHCE YGLES GAIWV RLBZM YOIIZ GEYAS WFFUC ILEXO OQTVR VEMVG EDERA RNATH XCHSD ZUALS ZIALS EIIJI UHTGS EMNHB MRVHI YIVPT RDSQF OLEOT FGAPZ IZRTH GAXPR QNEUR AUSHM VPWZI UHIEG GDCUA WWNFW PISMQ EKOXB BTZTZ OWUAZ WVGTU PNKBF GRPHT TVTUP COYFM NUPTM OTRRQ SMUMQ RXLET RIKEJ CISIQ BAAUK LGYCM ALEYO PASFS COJZX FOXYM QCIIF AEPKU EIIWV TROBQ EEJRN SSMAG EJKXM FQBPG MMHBT AOVRH XVPWA JTMJI UHXEW PGVHK GQNGP RXZEQ OKFEU QIAQE GBDWZ WRTXR TEPST ZGIPO UETJM QNIQR VSWXX KLNYZ SRVRC AQTAE ONKTL HDXRJ LEEDU IFOSA LPARR MNXXF DAMSY PVQJI GWGWI ARGRM NXBBP RHETS YNFIG HXRAR GVHBE RNRCM YLYOL GGGGI QSIWB SEPZL TIDVA LOPKA GPVFT TMCPR PGZWR YXQGG OPCGV SEDIO RDTJO BYISW CEFWS EEHAW HZRNS NXEAA ZPHGT VXZED TEWXR VINYC HGMMN XGCVH GSJPL SFEYC IRIGH GIBTI FWTOT LDTMQ ZXQSH IPLXE IAGRB CHWTL TVCQZ GBHTN SPFBS SYEBH ISZJZ QIFSL GHCEX YHPSB OKAWH CESYL DZSVR VEIGP AGGVO OPOGG ALTHP GFIXO IOWDT JIAYI HUXXG WXFCA VIUHC OWNBF NMXSS HJSWW TCRMU VRJTN IHMHB BOHRG HMFWH HOTOS AYINS OBXOW RVRVI SGSVZ OFVRN CISIQ BAAUK LGHJS ZMOTE DWLGH DGMYX UWWYW ESIVT MBOAQ ZSGYR AFJTJ EPZRB HXXNG MLYDJ SJCID IFGVT VUGVH JFPWT GRQLR VSWTJ ZMHOM XSZUC MALJY AFWKG BSIHT ZAIPZ IZCHK GAOTH ESARV VNMWX RFMNX GCVMW FLNIB GXRVI FJZXZ RMKXF CIHKS SRNUQ VGMAE XTGVF MJWNK TLMMM EIFMS OOLER VXJWM TORVD WMJFZ CZAXH CSAIC GREJJ EUHXS MKPQI ZSQRV ITYZU NMQNH RYHEW FLCEP JEURT SWPKC IAYIE DTLMG ECEFL IYSWT XYXFE PYXVA SEXZS RUAZX FHCEH TVPAM NXQSA PTUPS TMZAU HXWSO HGGVO LGCCH TZPSS YAEYQ ALMEL RHMXI UHHEP AJSWF MSRFJ GMQHG GVUPZ WWIDS EENPA HGWSN EENBB IQPNH DXMGW LEHSL GBSIH PPGUJ YVBHX WBNJY AYKXR UTHOY BUTBT SQWTQ XWDZT PWWNS APHPF REAKL NGPRM SRYIW JSJZA IXDLN WMNRR VLOVS MYOUL SZBXG RTAGE UUWGS HIOSS ENPDY BQTHX LAGTV KHVTC SVQWP TQDTZ CRTSY LNWQO MILDP EGALN AEIYP DRTYH VTIFM EIHWX JAVNM LIUHG EXQTF UZUJF SHMKH CFSDW ZBHUE PJGNE DGLGB SMWWS PRGKI XOBDR LXXIU NXVKC MDUPS CALER RXDSZ ZNEJJ PHCLX BLSRU AZXVD JGRTF BCVUM FGXQS MJZSA DPBDP ELEYB HKTYN ZTLMZ ETWKJ VNV\"\n",
    "\n",
    "# Get rid of the spaces again\n",
    "message9a = message9a.replace(\" \", \"\")"
   ]
  },
  {
   "cell_type": "code",
   "execution_count": 2,
   "metadata": {},
   "outputs": [
    {
     "name": "stdout",
     "output_type": "stream",
     "text": [
      "T: 185 (5.57%) E: 180 (5.42%) S: 176 (5.30%) I: 175 (5.27%) G: 167 (5.03%) \n",
      "X: 162 (4.88%) A: 158 (4.75%) R: 153 (4.60%) H: 150 (4.51%) P: 148 (4.45%) \n",
      "W: 145 (4.36%) L: 133 (4.00%) V: 131 (3.94%) M: 130 (3.91%) Z: 107 (3.22%) \n",
      "F: 106 (3.19%) O: 104 (3.13%) C: 103 (3.10%) N: 102 (3.07%) Y: 97 (2.92%) \n",
      "U: 97 (2.92%) B: 95 (2.86%) D: 82 (2.47%) Q: 82 (2.47%) J: 80 (2.41%) \n",
      "K: 75 (2.26%) \n",
      "-----\n"
     ]
    }
   ],
   "source": [
    "# Do some frequency analysis\n",
    "from collections import Counter\n",
    "\n",
    "def frequency_analysis(data):\n",
    "    frequencies = Counter()\n",
    "    for item in data:\n",
    "        frequencies[item] += 1\n",
    "    \n",
    "    total = sum(frequencies.values())\n",
    "    column = 0\n",
    "    for item, frequency in frequencies.most_common(30):\n",
    "        print(f\"{item}: {frequency:2} ({frequency / total:.2%})\", end=\" \")\n",
    "        column += 1\n",
    "        if column %5 == 0:\n",
    "            print()\n",
    "    print(\"\\n-----\")\n",
    "\n",
    "frequency_analysis(message9a)"
   ]
  },
  {
   "cell_type": "code",
   "execution_count": 3,
   "metadata": {},
   "outputs": [],
   "source": [
    "# Looks flat.  Probably a Vigenere again.\n",
    "def vigenere(text, key, encode=False):\n",
    "    shifts = [ord(letter.upper()) - ord(\"A\") for letter in key]\n",
    "    key_length = len(key)\n",
    "    key_index = 0\n",
    "    for letter in text:\n",
    "        letter_val = ord(letter)\n",
    "        if letter.isupper():\n",
    "            offset = ord(\"A\")\n",
    "        elif letter.islower():\n",
    "            offset = ord(\"a\")\n",
    "        else:\n",
    "            print(letter, end=\"\")\n",
    "            continue\n",
    "\n",
    "        if encode:\n",
    "            shift = shifts[key_index]\n",
    "        else:\n",
    "            shift = -shifts[key_index]\n",
    "\n",
    "        print(chr((((letter_val - offset) + shift) % 26) + offset), end=\"\")\n",
    "        key_index = (key_index + 1) % key_length\n",
    "    print()\n",
    "    \n",
    "# A function that searches for multiple ocurrences of letters of the specified size and prints out the most common ones\n",
    "def pattern_finder(text, size):\n",
    "    patterns = Counter()\n",
    "    for index in range(len(text)):\n",
    "        patterns[text[index:index+size]] += 1\n",
    "\n",
    "    column = 0\n",
    "    for item, pattern in patterns.most_common(30):\n",
    "        print(f\"{item}: {pattern:2}\", end=\" \")\n",
    "        column += 1\n",
    "        if column % 5 == 0:\n",
    "            print()\n",
    "\n",
    "\n",
    "# A function that searches the given text for a word and figures out where it would line up with a key of a given size\n",
    "def get_alignment(text, word, key_size):\n",
    "    print(word, end=\" \")\n",
    "    alignments = []\n",
    "    position = -1\n",
    "    while True:\n",
    "        position = text.find(word, position+1)\n",
    "        if position >= 0:\n",
    "            alignment = position % key_size\n",
    "            print(f\"{position} ({alignment})\", end=\" \")\n",
    "            alignments.append(alignment)\n",
    "        else:\n",
    "            break\n",
    "    if alignments.count(alignments[0]) == len(alignments):\n",
    "        print(\"All the same!\", end=\"\")\n",
    "    print()\n",
    "\n",
    "\n",
    "# A function to reverse search for a key that would convert the given word to the given encoded word\n",
    "def lookup_key(word, encoded_word):\n",
    "    key = \"\"\n",
    "    for letter, encoded_letter in zip(word, encoded_word):\n",
    "        diff = (ord(encoded_letter) - ord(letter)) % 26\n",
    "        key += chr(diff + ord('A'))\n",
    "    print(key)"
   ]
  },
  {
   "cell_type": "code",
   "execution_count": 5,
   "metadata": {},
   "outputs": [
    {
     "name": "stdout",
     "output_type": "stream",
     "text": [
      "IUH: 11 RVI:  8 MNX:  7 KLG:  5 WLG:  5 \n",
      "ETL:  5 SWT:  5 HCE:  5 DIF:  4 XZE:  4 \n",
      "XVK:  4 LEY:  4 IDI:  4 UHX:  4 XIU:  4 \n",
      "JIU:  4 PST:  4 VRV:  4 TUP:  4 IQB:  4 \n",
      "VNM:  4 WFL:  4 UHC:  3 XBX:  3 PAG:  3 \n",
      "EYG:  3 RRP:  3 FMN:  3 JPH:  3 OPO:  3 \n"
     ]
    }
   ],
   "source": [
    "# Look for the most common trigraphs\n",
    "pattern_finder(message9a, 3)"
   ]
  },
  {
   "cell_type": "code",
   "execution_count": 7,
   "metadata": {},
   "outputs": [
    {
     "name": "stdout",
     "output_type": "stream",
     "text": [
      "2: IUH 44 (0) 308 (0) 320 (0) 824 (0) 1688 (0) 1784 (0) 1844 (0) 2024 (0) 2456 (0) 2924 (0) 3176 (0) All the same!\n",
      "3: IUH 44 (2) 308 (2) 320 (2) 824 (2) 1688 (2) 1784 (2) 1844 (2) 2024 (2) 2456 (2) 2924 (2) 3176 (2) All the same!\n",
      "4: IUH 44 (0) 308 (0) 320 (0) 824 (0) 1688 (0) 1784 (0) 1844 (0) 2024 (0) 2456 (0) 2924 (0) 3176 (0) All the same!\n",
      "5: IUH 44 (4) 308 (3) 320 (0) 824 (4) 1688 (3) 1784 (4) 1844 (4) 2024 (4) 2456 (1) 2924 (4) 3176 (1) \n",
      "6: IUH 44 (2) 308 (2) 320 (2) 824 (2) 1688 (2) 1784 (2) 1844 (2) 2024 (2) 2456 (2) 2924 (2) 3176 (2) All the same!\n",
      "7: IUH 44 (2) 308 (0) 320 (5) 824 (5) 1688 (1) 1784 (6) 1844 (3) 2024 (1) 2456 (6) 2924 (5) 3176 (5) \n",
      "8: IUH 44 (4) 308 (4) 320 (0) 824 (0) 1688 (0) 1784 (0) 1844 (4) 2024 (0) 2456 (0) 2924 (4) 3176 (0) \n",
      "9: IUH 44 (8) 308 (2) 320 (5) 824 (5) 1688 (5) 1784 (2) 1844 (8) 2024 (8) 2456 (8) 2924 (8) 3176 (8) \n",
      "10: IUH 44 (4) 308 (8) 320 (0) 824 (4) 1688 (8) 1784 (4) 1844 (4) 2024 (4) 2456 (6) 2924 (4) 3176 (6) \n",
      "11: IUH 44 (0) 308 (0) 320 (1) 824 (10) 1688 (5) 1784 (2) 1844 (7) 2024 (0) 2456 (3) 2924 (9) 3176 (8) \n",
      "12: IUH 44 (8) 308 (8) 320 (8) 824 (8) 1688 (8) 1784 (8) 1844 (8) 2024 (8) 2456 (8) 2924 (8) 3176 (8) All the same!\n",
      "13: IUH 44 (5) 308 (9) 320 (8) 824 (5) 1688 (11) 1784 (3) 1844 (11) 2024 (9) 2456 (12) 2924 (12) 3176 (4) \n",
      "14: IUH 44 (2) 308 (0) 320 (12) 824 (12) 1688 (8) 1784 (6) 1844 (10) 2024 (8) 2456 (6) 2924 (12) 3176 (12) \n",
      "15: IUH 44 (14) 308 (8) 320 (5) 824 (14) 1688 (8) 1784 (14) 1844 (14) 2024 (14) 2456 (11) 2924 (14) 3176 (11) \n"
     ]
    }
   ],
   "source": [
    "# Assume \"IUH\" is \"THE\"\n",
    "\n",
    "for key_size in range(2, 16):\n",
    "    print(key_size, end=\": \")\n",
    "    get_alignment(message9a, \"IUH\", key_size)"
   ]
  },
  {
   "cell_type": "code",
   "execution_count": 8,
   "metadata": {},
   "outputs": [
    {
     "name": "stdout",
     "output_type": "stream",
     "text": [
      "IUH 44 (20) 308 (20) 320 (8) 824 (8) 1688 (8) 1784 (8) 1844 (20) 2024 (8) 2456 (8) 2924 (20) 3176 (8) \n"
     ]
    }
   ],
   "source": [
    "# Probably 12 characters long.  Could it be 24?\n",
    "get_alignment(message9a, \"IUH\", 24)"
   ]
  },
  {
   "cell_type": "code",
   "execution_count": 11,
   "metadata": {},
   "outputs": [
    {
     "name": "stdout",
     "output_type": "stream",
     "text": [
      "IUH 44 (8) 308 (8) 320 (8) 824 (8) 1688 (8) 1784 (8) 1844 (8) 2024 (8) 2456 (8) 2924 (8) 3176 (8) All the same!\n",
      "PND\n",
      "RVI 729 (9) 801 (9) 1240 (4) 1245 (9) 2289 (9) 2517 (9) 2697 (9) 2793 (9) \n",
      "YOE\n",
      "MNX 1194 (6) 1530 (6) 2130 (6) 2154 (6) 2298 (6) 2682 (6) 2874 (6) All the same!\n",
      "TGT\n",
      "KLG 139 (7) 595 (7) 955 (7) 1939 (7) 2539 (7) All the same!\n",
      "REC\n",
      "WLG 296 (8) 898 (10) 967 (7) 1327 (7) 2551 (7) \n",
      "DEC\n"
     ]
    }
   ],
   "source": [
    "# Possibly, but also possibly not.  I'll go for 12.\n",
    "for word in (\"IUH\", \"RVI\", \"MNX\", \"KLG\", \"WLG\"):\n",
    "    get_alignment(message9a, word, 12)\n",
    "    lookup_key(\"THE\", word)\n"
   ]
  },
  {
   "cell_type": "code",
   "execution_count": 12,
   "metadata": {},
   "outputs": [
    {
     "name": "stdout",
     "output_type": "stream",
     "text": [
      "IUH 44 (8) 308 (8) 320 (8) 824 (8) 1688 (8) 1784 (8) 1844 (8) 2024 (8) 2456 (8) 2924 (8) 3176 (8) All the same!\n",
      "PND\n",
      "MNX 1194 (6) 1530 (6) 2130 (6) 2154 (6) 2298 (6) 2682 (6) 2874 (6) All the same!\n",
      "TGT\n",
      "KLG 139 (7) 595 (7) 955 (7) 1939 (7) 2539 (7) All the same!\n",
      "REC\n",
      "ETL 365 (5) 1085 (5) 1109 (5) 1349 (5) 1637 (5) All the same!\n",
      "LMH\n",
      "SWT 490 (10) 658 (10) 1666 (10) 2626 (10) 2842 (10) All the same!\n",
      "ZPP\n",
      "HCE 1054 (10) 1707 (3) 2386 (10) 2399 (11) 2866 (10) \n",
      "OVA\n",
      "DIF 28 (4) 311 (11) 599 (11) 2604 (0) \n",
      "KBB\n",
      "XZE 50 (2) 193 (1) 2041 (1) 2281 (1) \n",
      "ESA\n"
     ]
    }
   ],
   "source": [
    "# Let's try a few more, in addition to the hits...\n",
    "\n",
    "for word in (\"IUH\", \"MNX\", \"KLG\", \"ETL\", \"SWT\", \"HCE\", \"DIF\", \"XZE\"):\n",
    "    get_alignment(message9a, word, 12)\n",
    "    lookup_key(\"THE\", word)\n"
   ]
  },
  {
   "cell_type": "code",
   "execution_count": 14,
   "metadata": {},
   "outputs": [
    {
     "name": "stdout",
     "output_type": "stream",
     "text": [
      "HUI 144 (0) 396 (0) 864 (0) 1296 (0) 1476 (0) 1536 (0) 1632 (0) 2496 (0) 3000 (0) 3012 (0) 3276 (0) All the same!\n",
      "ONE\n",
      "XNM 446 (2) 638 (2) 1022 (2) 1166 (2) 1190 (2) 1790 (2) 2126 (2) All the same!\n",
      "EGI\n",
      "GLK 781 (1) 1381 (1) 2365 (1) 2725 (1) 3181 (1) All the same!\n",
      "NEG\n",
      "LTE 1683 (3) 1971 (3) 2211 (3) 2235 (3) 2955 (3) All the same!\n",
      "SMA\n",
      "TWS 478 (10) 694 (10) 1654 (10) 2662 (10) 2830 (10) All the same!\n",
      "APO\n"
     ]
    }
   ],
   "source": [
    "# OK - Probably have 5 instances to go on.\n",
    "# Plugging letters in at the discovered offsets:\n",
    "# IUH: \"........pnd.\"\n",
    "# MNX: \"......tgt...\"\n",
    "# KLG: \".......rec..\"\n",
    "# ETL: \".....lmh....\"\n",
    "# SWT: \"............\"\n",
    "\n",
    "# That's no good.  I wonder if it's backwards again...\n",
    "for word in (\"HUI\", \"XNM\", \"GLK\", \"LTE\", \"TWS\"):\n",
    "    get_alignment(message9a[::-1], word, 12)\n",
    "    lookup_key(\"THE\", word)"
   ]
  },
  {
   "cell_type": "code",
   "execution_count": 15,
   "metadata": {},
   "outputs": [
    {
     "name": "stdout",
     "output_type": "stream",
     "text": [
      "HARDCWGLOILELAUNCHOFTHEAPOLXSSMQBOQISSIONCOMINGUPITTSUEZAXXWOULDBEAGOODIDEAFSCFWJZMNWITHMIKEANDMAKEEYRCZLSMDNTHAVEANYLEFTOVQVSSJWGMSESFORUSAFTERTHEFENIHYTWSURIZATIONPROBLEYSNYHVAPOXVIIIWASNOTCOMPXITCDFRSNFIDENTTHATHECOUXHNRZHKISETSOMETHINGINMOFMOLTHROWHENHEWASSTILLWODOILYHIRASAHESEEMEDPLEASQHTMKLTQEIDONTTHINKHEGETEQALQCXWITORSBUTWEDIDNTHMZEYDVIXOTALKABOUTANDITDUHNRLHZIHIMLONGTOFIGUREOGXWFQPLESTHEREHESTILLCLAUQSFWOPHNOTHINGTODOWITHWTETFWJPPLEDTHEACCIDENTSTTSUEZOTEDMITSHESENTTHELEFXEPLVILEPRESSIPRESSEDHADHEPSUSESKEDHIMABOUTTHEMMRIDWZISITHADBEENREADOUTURCMMYIWOHEKNEWWEKNEWABOGXIRTBILEWASDEFINITELYTRKMNEZHGHTOSTEERMEOFFTHETATIASUSMGOTTHEFEELINGHEWMWHGVPCKSOMETHINGIDIDNTGQXALQAWMNGMOREOUTOFTHEINFIRTALLFUTICONTINUEDTOWODVYYTVJXITONTHEWAYBACKTOTIABIBPVTERSSOWHENIGOTTHQVEGVBVSUTTHEMANIFESTOANPXOMCHCSTHERLOOKIDONTKNOILOUOLBMSSEDITBUTWENEVEROERPALSSUTFORENSICSONTHEPSCSELCXIGUESSIWASSOTAKEZYPUAAWGRACKINGTHECIPHERMRDYFHACSINGITSCONTENTTHMXIDGYVSTTOASKSOMEONETOCTICIAAPWSOONASIREALISEDTTIMGKAPOEISENTITOVERTOLAZKLCQHCHGOTTHEMTORUNTHETQWTQLOTVESULTSARECONCLUSUZERZLBENIFESTOWASNOTPROPYCCVVCQIKESTYPEWRITERILASKCVAWVOUGHTHEFILESBUTCAYLBFAUMNDANYTHINGWRITTEZFYFATDRANOTHERTYPEWRITEDIVCFHIAORKTHEREHEHADASEOVERSYNXOTYPEFORHIMANDINMRYASZTXHEINKANDTYPEFACEARTFWTPRIFESTODONTMATCHAZCODLOTRASAMACHINESEITHEDETWHLLVITERISTOOBIGANDBGPKWLVWMDEANDWEDIDNTGIVEYMKCLPBITODISPOSEOFONESOUHOLLAWMNKTHEMANIFESTOWAEARGLATRBYHIMIREADITAGAIZQOPWJPVEFULLYFORCLUESISTSUJVOPZENOTICEDTHEPHRASQSUPKVCETTHETOPITWOULDHAHIRCEPCHEDMETHATMIKEWASMMVRGWKEYTTINGTHATTOGETHEDAIRZAWIKEYWORDFORTHEMANUJEQLVRMPHERNIOBETHINGSBQKALLVVITALITTLECLEARERHAQEPOYDXEABOUTNIOBEINTHEUPIYVZWIWASFAMOUSASTHEQUQINUZVHISONSWEREKILLEDBYFLEEGKHMNREVENGEFORHERPRUHEQGPVSTINTOUCHWITHINTEDTOJSUSQADEENQUIRIESABOUFQIIWZLMFEMIKESWIFEISALSAINEDPHLANDTHEMANIFESTOUEISRZLTRGLISHSPELLINGOFPDSGPSTBIHERFRIENDSSAYSHETEDYTYTEKDOWNAFTERHERSONPMEBSUSAHENMIKEMOVEDBACKFSTFWBHWHEWENTTOLIVEWITHTIRGFSPASAFTERWHATSEEMEDXMKCSZASWRECOVERYSHETOLDFLEKKOTAASMOVINGBACKTOTHQWTYLLHXOBENEARHERORIGINMPFYEPACTHATWASELEVENYEADWAEGIJXHERRELATIVESSTATQWIBWZPCTHEYHAVENOTSEENHQVALVUDSNEKNOWSWHERESHEWQRTGKWDOETOTHESECURITYSEDZIAWPCXHEUKANDTHEYTOLDMQWHCOHHENENGINEERWHOWASQGMTCUHEEBLEOFCARRYINGOUTFLEQGYISFSABOTAGEWESAWONFLECSYAMERAPOLLOFLIGHTSSUKNGXPRENTLYSHELEARNEDHEDXRYVLLSRKINGWITHTHEUKATAQIAOLPTONSAUTHORITYAWREILIAZMXXSPERFECTLYWITHTHQAOPJPTWINTHEMANIFESTOSHQPEDLHUXERHERSONDIEDINKODIAYFKHXARTEDMEETINGWITHBIAAWJPQPAIGNERSHERSECURUXYADLPVANCEWASREVOKEDANPWOMFHUXERTHATSHELEFTTHEGOSMGUPJTERIRECEIVEDTHERQTOPLMGSMLONDONITOOKACALXJRMEAWIAPOLLOSOYUZTEAMAFRAQSZDQEONEREMINDEDTHEMMFOSLAWIPROBLEMSWEHADWITTXHCDBCERFLIGHTSSOTHEYCAXPEBELQECKINTOAUDITTHEIREICSJPICIFOUNDATRAILOFEDUXEBKLGZICERECORDSTHATREYMNBWKBIOFTHETAMPEREDFILQWAQKVRMATEDWITHAPOLLOXIUMTFWMXPESWEREALLSCRAMBLQHUQAUVOEYSTHATCAMEFROMHAQEPSWDPLODORUSANDOTHERGDIEIUSPWSICSSOFARWEHAVECDECIWKPPLBUTONEOFTHEMANDRSULVHCHFIXEDPROBLEMSWITTKUGVHCGECONTROLLIFESUPPAVTYFKTPECTRICALPOWERBUTFLEPWPHSNEFILEICANTCRACKIMTFGBIMTWEDONTKNOWIFTHEDIIQKVBIOTHERCRITICALSYSFIMRZHIQIKESWIFEMAYHAVETMQPCJLSAITHSHEFAILEDTOPRAZOIWHBIRICAINTODECLARINSAAPGUGYSSIATHREEYEARSAGAFURLOTTEACEISSTILLFARFRAQEYKFXJANYTHINGHAPPENSTAXHCUYTAOFTHEASTFWEMIGHTRMNBGBGWELVESONTHEBRINKORAAPSNPMNWITHSTAFFORDBRAZHALVZAEYTONSCHEDULEDFORXMFRGMUMNTHENEXTFEWWEEKSUXIQUYJGIALTHATWEBREAKTHUWCGHOTV\n"
     ]
    }
   ],
   "source": [
    "# HUI: \"one.........\"\n",
    "# XNM: \"..egi.......\"\n",
    "# GLK: \".neg........\"\n",
    "# LTE: \"...sma......\"\n",
    "# TWS: \"o.........ap\"\n",
    "# That looks better.  Discarding LTE and putting them together...\n",
    "# \"onegi.....ap\"\n",
    "\n",
    "#How about:\n",
    "vigenere(message9a[::-1], \"onegiantleap\")"
   ]
  },
  {
   "cell_type": "code",
   "execution_count": 16,
   "metadata": {},
   "outputs": [
    {
     "name": "stdout",
     "output_type": "stream",
     "text": [
      "HARRYWITHTHELAUNCHOFTHEAPOLLOSOYUZMISSIONCOMINGUPITHOUGHTITWOULDBEAGOODIDEATOCHECKINWITHMIKEANDMAKESUREHEDIDNTHAVEANYLEFTOVERSURPRISESFORUSAFTERTHETANKPRESSURIZATIONPROBLEMONAPOLLOXVIIIWASNOTCOMPLETELYCONFIDENTTHATHECOULDNTHAVESETSOMETHINGINMOTIONBACKWHENHEWASSTILLWORKINGATNASAHESEEMEDPLEASEDTOSEEMEIDONTTHINKHEGETSMANYVISITORSBUTWEDIDNTHAVEALOTTOTALKABOUTANDITDIDNTTAKEHIMLONGTOFIGUREOUTWHYIWASTHEREHESTILLCLAIMSHEHADNOTHINGTODOWITHWHATHECALLEDTHEACCIDENTSTHOUGHHEADMITSHESENTTHELETTERTOTHEPRESSIPRESSEDHARDERANDASKEDHIMABOUTTHEMANIFESTOITHADBEENREADOUTINCOURTSOHEKNEWWEKNEWABOUTITBUTHEWASDEFINITELYTRYINGHARDTOSTEERMEOFFTHETOPICANDIGOTTHEFEELINGHEWASHIDINGSOMETHINGIDIDNTGETANYTHINGMOREOUTOFTHEINTERVIEWBUTICONTINUEDTOWORRYABOUTITONTHEWAYBACKTOHEADQUARTERSSOWHENIGOTTHEREIDUGOUTTHEMANIFESTOANDTOOKANOTHERLOOKIDONTKNOWHOWWEMISSEDITBUTWENEVERCARRIEDOUTFORENSICSONTHEDOCUMENTIGUESSIWASSOTAKENUPWITHCRACKINGTHECIPHERANDANALYSINGITSCONTENTTHATIFORGOTTOASKSOMEONETOCHECKITASSOONASIREALISEDTHEMISTAKEISENTITOVERTOLANGLEYANDGOTTHEMTORUNTHETESTSTHERESULTSARECONCLUSIVETHEMANIFESTOWASNOTPRODUCEDONMIKESTYPEWRITERILOOKEDTHROUGHTHEFILESBUTCOULDNTFINDANYTHINGWRITTENBYHIMONANOTHERTYPEWRITEREVENATWORKTHEREHEHADASECRETARYTOTYPEFORHIMANDINANYCASETHEINKANDTYPEFACEONTHEMANIFESTODONTMATCHANYOFTHENASAMACHINESEITHERATYPEWRITERISTOOBIGANDBULKYTOHIDEANDWEDIDNTGIVEMIKETIMETODISPOSEOFONESOIDONTTHINKTHEMANIFESTOWASWRITTENBYHIMIREADITAGAINMORECAREFULLYFORCLUESISHOULDHAVENOTICEDTHEPHRASEOURSONATTHETOPITWOULDHAVEREMINDEDMETHATMIKEWASMARRIEDPUTTINGTHATTOGETHERWITHTHEKEYWORDFORTHEMANIFESTOCIPHERNIOBETHINGSBEGANTOGETALITTLECLEARERHOMERWROTEABOUTNIOBEINTHEILIADSHEWASFAMOUSASTHEQUEENWHOSESONSWEREKILLEDBYTHEGODSINREVENGEFORHERPRIDESOIGOTINTOUCHWITHINTERPOLANDMADEENQUIRIESABOUTMIKESWIFEMIKESWIFEISALSOENGLISHANDTHEMANIFESTOUSESTHEENGLISHSPELLINGOFPROGRAMMEHERFRIENDSSAYSHEHADABREAKDOWNAFTERHERSONDIEDANDWHENMIKEMOVEDBACKTOTHEUSSHEWENTTOLIVEWITHHERINLAWSAFTERWHATSEEMEDLIKEASLOWRECOVERYSHETOLDTHEMSHEWASMOVINGBACKTOTHESTATESTOBENEARHERORIGINALFAMILYTHATWASELEVENYEARSAGOBUTHERRELATIVESSTATESIDESAYTHEYHAVENOTSEENHERANDNOONEKNOWSWHERESHEWENTISPOKETOTHESECURITYSERVICEINTHEUKANDTHEYTOLDMESHEWASANENGINEERWHOWASQUITECAPABLEOFCARRYINGOUTTHESORTOFSABOTAGEWESAWONTHEEARLIERAPOLLOFLIGHTSSIGNIFICANTLYSHELEARNEDHERTRADEWORKINGWITHTHEUKATOMICWEAPONSAUTHORITYAWREWHICHFITSPERFECTLYWITHTHEWORRIESINTHEMANIFESTOSHELEFTAFTERHERSONDIEDINKOREAANDSTARTEDMEETINGWITHPEACECAMPAIGNERSHERSECURITYCLEARANCEWASREVOKEDANDSOONAFTERTHATSHELEFTTHEUKSOONAFTERIRECEIVEDTHEREPORTFROMLONDONITOOKACALLFROMTHEAPOLLOSOYUZTEAMATNASASOMEONEREMINDEDTHEMABOUTTHEPROBLEMSWEHADWITHTHELUNARFLIGHTSSOTHEYCALLEDMEBACKINTOAUDITTHEIRSECURITYIFOUNDATRAILOFEDITEDSERVICERECORDSTHATREMINDEDMEOFTHETAMPEREDFILESASSOCIATEDWITHAPOLLOXIIITHEFILESWEREALLSCRAMBLEDUSINGKEYSTHATCAMEFROMHOMERAPOLLODORUSANDOTHERGREEKCLASSICSSOFARWEHAVECRACKEDALLBUTONEOFTHEMANDFOUNDANDFIXEDPROBLEMSWITHGUIDANCECONTROLLIFESUPPORTANDELECTRICALPOWERBUTTHEREISONEFILEICANTCRACKWITHOUTITWEDONTKNOWIFTHEREISSOMEOTHERCRITICALSYSTEMTHATMIKESWIFEMAYHAVETAMPEREDWITHSHEFAILEDTOPROVOKEAMERICAINTODECLARINGWARONRUSSIATHREEYEARSAGOBUTTHEPEACEISSTILLFARFROMEASYIFANYTHINGHAPPENSTOTHECREWOFTHEASTFWEMIGHTFINDOURSELVESONTHEBRINKOFWARAGAINWITHSTAFFORDBRANDANDSLAYTONSCHEDULEDFORLIFTOFFINTHENEXTFEWWEEKSITISCRUCIALTHATWEBREAKTHISCIPHER\n"
     ]
    }
   ],
   "source": [
    "# OK, it looks like I've done it again.  Looks like it's 24 characters, and I have the second half.\n",
    "# So how about...\n",
    "vigenere(message9a[::-1], \"onesmallsteponegiantleap\")"
   ]
  },
  {
   "cell_type": "markdown",
   "metadata": {},
   "source": [
    "That was lucky!\n",
    "### Edited for clarity...\n",
    "\n",
    "Harry,<br>\n",
    "With the launch of the Apollo/Soyuz mission coming up, I thought it would be a good idea to check in with Mike and make sure he didn't have any leftover surprises for us after the tank pressurization problem on Apollo XVII.<br>\n",
    "I was not completely confident that he couldn't have set something in motion back when he was still working at NASA.<br>\n",
    "He seemed pleased to see me - I don't think he gets many visitors, but we didn't have a lot to talk about and it didn't take him long to figure out why I was there.<br>\n",
    "He still claims he had nothing to do with what he called \"the accidents\", though he admits he sent the letter to the press.<br>\n",
    "I pressed harder and asked him about the manifesto.  It had been read out in court, so he knew we knew about it, but he was definitely trying hard to steer me off the topic and I got the feeling he was hiding something.<br>\n",
    "I didn't get anything more out of the interview, but I continued to worry about it on the way back to headquarters, so when I got there, I dug out the manifesto and took another look.<br>\n",
    "I don't know how we missed it, but we never carried out forensics on the document.  I guess I was so taken up with cracking the cipher and analysing its content that I forgot to ask someone to check it as soon as I realised the mistake.<br>\n",
    "I sent it over to Langley and got them to run the tests.  The results are conclusive - the manifesto was not produced on Mike's typewriter.<br>\n",
    "I looked through the files, but couldn't find anything written by him on another typewriter - even at work there he had a secretary to type for him, and in any case, the ink and typeface on the manifesto don't match any of the NASA machines.  Either a typewriter is too big and bulky to hide and we didn't give Mike time to dispose of one, so I don't think the manifesto was written by him.<br>\n",
    "I read it again more carefully for clues.  I should have noticed the phrase \"our son\" - at the top it would have reminded me that Mike was married.  Putting that together with the keyword for the manifesto cipher, \"Niobe\", things began to get a little clearer.  Homer wrote about Niobe in The Iliad.  She was famous as the queen whose sons were killed by the gods in revenge for her pride, so I got in touch with Interpol and made enquiries about Mike's wife.<br>\n",
    "Mike's wife is also English and the manifesto uses the English spelling of \"programme\".  Her friends say she had a breakdown after her son died, and when Mike moved back to the US, she went to live with her in-laws.  After what seemed like a slow recovery, she told them she was moving back to the States to be near her original family.  That was eleven years ago, but her relatives stateside say they have not seen her and no-one knows where she went.<br>\n",
    "I spoke to the security service in the UK and they told me she was an engineer who was quite capable of carrying out the sort of sabotage we saw on the earlier Apollo flights.  Significantly, she learned her trade working with the UK atomic weapons authority, AWRE, which fits perfectly with the worries in the manifesto.<br>\n",
    "She left after her son died in Korea and started meeting with peace campaigners.  Her security clearance was revoked and soon after that she left the UK.  Soon after I received the report from London, I took a call from the Apollo/Soyuz team at NASA - someone reminded them about the problems we had with the lunarf lights, so they called me back in to audit their security.<br>\n",
    "I found a trail of edited service records that reminded me of the tampered files associated with Apollo XIII.  The files were all scrambled using keys that came from Homer, Apollo, Dorus and other Greek classics.  So far, we have cracked all but one of them and found and fixed problems with guidance control, life support and electrical power, but there is one file I can't crack.  Without it, we don't know if there is some other critical system that Mike's wife may have tampered with.  She failed to provoke America in to declaring war on Russia three years ago, but the peace is still far from easy.  If anything happens to the crew of the ASTF, we might find ourselves on the brink of war again with Stafford, Brand and Slayton scheduled for lift off in the next few weeks, it is crucial that we break this cipher.<br>\n"
   ]
  },
  {
   "cell_type": "code",
   "execution_count": null,
   "metadata": {},
   "outputs": [],
   "source": []
  }
 ],
 "metadata": {
  "kernelspec": {
   "display_name": "Python 3",
   "language": "python",
   "name": "python3"
  },
  "language_info": {
   "codemirror_mode": {
    "name": "ipython",
    "version": 3
   },
   "file_extension": ".py",
   "mimetype": "text/x-python",
   "name": "python",
   "nbconvert_exporter": "python",
   "pygments_lexer": "ipython3",
   "version": "3.7.4"
  }
 },
 "nbformat": 4,
 "nbformat_minor": 4
}
