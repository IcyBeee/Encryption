{
 "cells": [
  {
   "cell_type": "markdown",
   "metadata": {},
   "source": [
    "# Cipher Challenge 4a\n",
    "## How I Solved it!\n",
    "### See https://www.cipherchallenge.org/challenge/competition-challenge-4/ for the challenge"
   ]
  },
  {
   "cell_type": "code",
   "execution_count": 1,
   "metadata": {},
   "outputs": [],
   "source": [
    "import string\n",
    "\n",
    "# A function to decode some text, based on a key\n",
    "# To make it easy to see which letters are successfully guessed,\n",
    "# the input text will be converted to upper case.\n",
    "# The key will be either lower or upper case (depending on whether the letter has been discovered)\n",
    "def decode(text, key):\n",
    "    table = str.maketrans(string.ascii_uppercase, key)\n",
    "    print(text.upper().translate(table))"
   ]
  },
  {
   "cell_type": "code",
   "execution_count": 2,
   "metadata": {},
   "outputs": [
    {
     "name": "stdout",
     "output_type": "stream",
     "text": [
      "bcd\n"
     ]
    }
   ],
   "source": [
    "# A quick test to see if it works.\n",
    "decode(\"ABC\", \"bcdefghijklmnopqrstuvwxyza\")"
   ]
  },
  {
   "cell_type": "code",
   "execution_count": 10,
   "metadata": {},
   "outputs": [],
   "source": [
    "# A function to do frequency analysis on a list of words or a string\n",
    "from collections import Counter\n",
    "\n",
    "def frequency_analysis(data):\n",
    "    frequencies = Counter()\n",
    "    for item in data:\n",
    "        frequencies[item] += 1\n",
    "    \n",
    "    total = sum(frequencies.values())\n",
    "    column = 0\n",
    "    for item, frequency in frequencies.most_common():\n",
    "        print(f\"{item}: {frequency:2} ({frequency / total:.2%})\", end=\"\")\n",
    "        column += 1\n",
    "        if column %5 == 0:\n",
    "            print()\n",
    "    print(\"\\n-----\")"
   ]
  },
  {
   "cell_type": "code",
   "execution_count": 11,
   "metadata": {},
   "outputs": [
    {
     "name": "stdout",
     "output_type": "stream",
     "text": [
      "a:  3 (33.33%)b:  3 (33.33%)c:  2 (22.22%)d:  1 (11.11%)\n",
      "-----\n",
      "one:  3 (50.00%)two:  2 (33.33%)three:  1 (16.67%)\n",
      "-----\n"
     ]
    }
   ],
   "source": [
    "# A couple of tests to see if it works\n",
    "frequency_analysis(\"abcdabcab\")\n",
    "frequency_analysis(\"one two one two three one\".split())"
   ]
  },
  {
   "cell_type": "code",
   "execution_count": 12,
   "metadata": {},
   "outputs": [],
   "source": [
    "# OK - Here goes.  Store the encoded text.\n",
    "message = \"\"\"BRT,\n",
    "W VLKR URRC MDGYWCT IVGDJTV IVR ZWHI DS HJHEWNWDJH WCNWARCIH LSSRNIWCT LEDZZD RZRKRC LCA WI WH ZDCTRG IVLC PDJ BWTVI IVWCY. IVR EGR-ZLJCNV, HILTR IVGRR IVGJHIRG KLZKR EGDUZRB WH L ZWIIZR HJHEWNWDJH TWKRC LZZ IVR NVRNYH IVLI IDDY EZLNR URSDGR IVLI, UJI DC IVR DIVRG VLCA IRZRBRIGP TJLGLCIRRA IVLI WI MDJZA UR ARIRNIRA LCA IVR IRNVCWNWLCH HVDMRA IVLI WI MLH RLHP ID UPELHH. WS IVLI MLH L HLUDILTR LIIRBEI IVRC WI MLHC'I KRGP MRZZ ARHWTCRA, HD W ADC'I IVWCY WI NDJZA VLKR URRC LC RCTWCRRG IVLI HRI WI JE. DC IVR DIVRG VLCA, CD-DCR RZHR MDJZA VLKR VLA IWBR LZDCR MWIV IVR NDBEDCRCI. DC IVR DIVRG VLCA, HDBRDCR SGDB SWAD'H IRLB HRCI BR L BRHHLTR ID IRZZ BR LUDJI L KRGP CRLG BWHH IVLI HDJCAH ZWYR WI NDJZA VLKR URRC L HRGWDJH LIIRBEI ID ARHIGDP IVR NDBBLCA BDAJZR DC GR-RCIGP.\n",
    "LH LEDZZD OW LEEGDLNVRA IVR GR-RCIGP EDWCI IVRP XRIIWHDCRA IVR HRGKWNR BDAJZR ID GR-DGWRCI IVR NDBBLCA BDAJZR HD IVLI IVR VRLIHVWRZA MLH EDWCIWCT WCID IVR LIBDHEVRGR. HWCNR IVRP MRGR DC EGRIIP BJNV L ULZZWHIWN DGUWI IVR HB MDJZA VLKR HILPRA NZDHR ID IVR NB, LCA MWIVDJI L VRLIHVWRZA DS WIH DMC WI MDJZA UGRLY JE WCID ZLGTR EWRNRH IVLI EDHRA L HWTCWSWNLCI ALCTRG ID IVR NB LCA WIH NGRM. ID LKDWA IVLI IVR HB MLH HJEEDHRA ID NLGGP DJI L HRFJRCNR DS HVDGI UJGCH ID BDKR WIH IGLXRNIDGP LMLP SGDB IVR NDBBLCA BDAJZR, HYWEEWCT WI DSS IVR LIBDHEVRGR HD IVLI IVR NB NDJZA GR-RCIRG SGRR SGDB IVR ARUGWH SWRZA. JCSDGIJCLIRZP, IVLI ADRHC'I HRRB ID VLKR VLEERCRA. LZAGWC GREDGIRA IVLI IVR NB SZRM ELHI IVR HB MVWNV MLH SZPWCT LI LC LIILNY LCTZR MRZZ URPDCA DERGLIWDCLZ ELGLBRIRGH, LCA L NDBBRGNWLZ EWZDI, SGLCY UGDMC, GREDGIRA HRRWCT IVR IMD HELNRNGLSI IGLNYWCT NZDHRZP LH IVRP UJGCRA IVGDJTV IVR LIBDHEVRGR. L HWCTZR NDZZWHWDC MWIV DCR DS IVR MVWIR-VDI SGLTBRCIH NDJZA VLKR ULAZP ALBLTRA IVR GR-RCIGP NLEHJZR, LCA RKRC WS IVR LHIGDCLJIH VLA HJGKWKRA IVR NDZZWHWDC IVRC IVR DAAH LGR IVLI IVR ELGLNVJIR HPHIRB MDJZA VLKR IGWTTRGRA RLGZP DG URRC SLILZZP ALBLTRA UP IVR UZLHI. CLHL RCTWCRRGH LGR MDGYWCT SLHI ID NDGGRNI IVR EGDUZRB SDG LEDZZD OWWW LCA IVRP VLKR BWIWTLIWDCH WC EZLNR SDG OWW'H GR-RCIGP, UJI IVR KWRM DS IVR ROERGIH WH IVLI IVRP ADATRA L UJZZRI MWIV IVWH. IVR SZWTVI DSSWNRG MVD GREDGIRA WI ID BR EDWCIRA DJI IVLI WS IVR HDKWRIH MLCIRA ID HLUDILTR IVR BWHHWDC IVWH BWTVI VLKR URRC L TDDA URI: WI MLH L CLHIP LNNWARCI IVLI MLH VLGA ID SDGRHRR, LCA WI MWZZ UR KRGP AWSSWNJZI ID HVDM IVLI HDBRDCR ARZWURGLIRZP BWHNLZNJZLIRA IVR UJGC IWBRH HWCNR WI MLH IVR WCIRGLNIWDC DS IVR IVGJHIRGH LCA HILUWZWHRGH IVLI NLJHRA IVR EGDUZRB. W IVWCY VR WH DCR DS L TGDMWCT CJBURG DS CLHL RBEZDPRRH MVD VLKR URTJC ID URZWRKR IVLI IVR JHHG VLH ARRE NDKRG LTRCIH MDGYWCT ID ARHILUWZWHR IVR EGDTGLBBR. BP MDGGP WH IVLI RKRC WS VR WH MGDCT, IVR ZLNY DS IGJHI IVLI WH TGDMWCT MWIVWC IVR DGTLCWHLIWDC MWZZ ARHILUWZWHR WI DC WIH DMC. W LB GRLZZP VDEWCT VR WH BWHILYRC. IVR HJNNRHH DS LEDZZD OW HRRBH ID VLKR UDJTVI L ZDI DS WCIRGCLIWDCLZ TDDAMWZZ LCA W IVWCY WI NDJZA UR IVR HILGI DS HDBRIVWCT BDGR EDHWIWKR. IVR HDKWRI NDDERGLIWDC MWIV IVR ZLCAWCT TLKR BR VDER IVLI MR NDJZA SWCA BDGR NDBBDC TGDJCA LCA HILGI ID IVLM RLHI-MRHI GRZLIWDCH, UJI IVWH NDJZA GRLZZP IVGRLIRC IVLI.\n",
    "WC IVR BRLC-IWBR MR VLA URIIRG HIRE JE HRNJGWIP. W IVWCY MR HVDJZA JHR L HWBEZR KWTRCRGR NWEVRG MWIV ERGWDA IMD SDG DJG CROI BRHHLTR. W VLKR RCNGPEIRA IVR LIILNVRA GR-RCIGP GREDGI JHWCT L NDZJBCLG IGLCHEDHWIWDC NWEVRG\n",
    "\"\"\""
   ]
  },
  {
   "cell_type": "code",
   "execution_count": 13,
   "metadata": {},
   "outputs": [
    {
     "name": "stdout",
     "output_type": "stream",
     "text": [
      " : 588 (17.58%)R: 354 (10.59%)I: 322 (9.63%)L: 213 (6.37%)D: 206 (6.16%)\n",
      "W: 182 (5.44%)V: 170 (5.08%)H: 164 (4.90%)C: 158 (4.72%)G: 141 (4.22%)\n",
      "Z: 107 (3.20%)A: 98 (2.93%)B: 75 (2.24%)N: 74 (2.21%)J: 68 (2.03%)\n",
      "E: 62 (1.85%)T: 57 (1.70%)M: 55 (1.64%)S: 46 (1.38%)U: 42 (1.26%)\n",
      "P: 41 (1.23%)K: 35 (1.05%).: 20 (0.60%)Y: 18 (0.54%),: 17 (0.51%)\n",
      "-: 12 (0.36%)O:  6 (0.18%)':  5 (0.15%)\n",
      ":  4 (0.12%)X:  2 (0.06%)\n",
      "F:  1 (0.03%)::  1 (0.03%)\n",
      "-----\n",
      "IVR: 53 (8.95%)IVLI: 22 (3.72%)ID: 19 (3.21%)L: 18 (3.04%)WI: 15 (2.53%)\n",
      "VLKR: 13 (2.20%)DS: 12 (2.03%)LCA: 11 (1.86%)WH:  8 (1.35%)MLH:  8 (1.35%)\n",
      "W:  7 (1.18%)NDJZA:  7 (1.18%)DC:  6 (1.01%)URRC:  5 (0.84%)MDJZA:  5 (0.84%)\n",
      "MWIV:  5 (0.84%)IVRP:  5 (0.84%)LEDZZD:  4 (0.68%)WS:  4 (0.68%)IVWCY:  4 (0.68%)\n",
      "BR:  4 (0.68%)WIH:  4 (0.68%)MDGYWCT:  3 (0.51%)UJI:  3 (0.51%)DIVRG:  3 (0.51%)\n",
      "UR:  3 (0.51%)KRGP:  3 (0.51%)HD:  3 (0.51%)VLA:  3 (0.51%)SGDB:  3 (0.51%)\n",
      "NDBBLCA:  3 (0.51%)BDAJZR:  3 (0.51%)GR-RCIGP:  3 (0.51%)HB:  3 (0.51%)NB:  3 (0.51%)\n",
      "GREDGIRA:  3 (0.51%)SDG:  3 (0.51%)VR:  3 (0.51%)MR:  3 (0.51%)IVGDJTV:  2 (0.34%)\n",
      "HJHEWNWDJH:  2 (0.34%)BWTVI:  2 (0.34%)EGDUZRB:  2 (0.34%)EZLNR:  2 (0.34%)HLUDILTR:  2 (0.34%)\n",
      "LIIRBEI:  2 (0.34%)IVRC:  2 (0.34%)MRZZ:  2 (0.34%)LC:  2 (0.34%)VLCA,:  2 (0.34%)\n",
      "HDBRDCR:  2 (0.34%)LH:  2 (0.34%)OW:  2 (0.34%)VRLIHVWRZA:  2 (0.34%)WCID:  2 (0.34%)\n",
      "LIBDHEVRGR.:  2 (0.34%)HWCNR:  2 (0.34%)JE:  2 (0.34%)DJI:  2 (0.34%)IMD:  2 (0.34%)\n",
      "NDZZWHWDC:  2 (0.34%)DCR:  2 (0.34%)ALBLTRA:  2 (0.34%)RKRC:  2 (0.34%)LGR:  2 (0.34%)\n",
      "CLHL:  2 (0.34%)WC:  2 (0.34%)MVD:  2 (0.34%)IVWH:  2 (0.34%)MWZZ:  2 (0.34%)\n",
      "TGDMWCT:  2 (0.34%)ARHILUWZWHR:  2 (0.34%)GRLZZP:  2 (0.34%)HILGI:  2 (0.34%)BDGR:  2 (0.34%)\n",
      "NWEVRG:  2 (0.34%)BRT,:  1 (0.17%)ZWHI:  1 (0.17%)WCNWARCIH:  1 (0.17%)LSSRNIWCT:  1 (0.17%)\n",
      "RZRKRC:  1 (0.17%)ZDCTRG:  1 (0.17%)IVLC:  1 (0.17%)PDJ:  1 (0.17%)IVWCY.:  1 (0.17%)\n",
      "EGR-ZLJCNV,:  1 (0.17%)HILTR:  1 (0.17%)IVGRR:  1 (0.17%)IVGJHIRG:  1 (0.17%)KLZKR:  1 (0.17%)\n",
      "ZWIIZR:  1 (0.17%)TWKRC:  1 (0.17%)LZZ:  1 (0.17%)NVRNYH:  1 (0.17%)IDDY:  1 (0.17%)\n",
      "URSDGR:  1 (0.17%)IVLI,:  1 (0.17%)VLCA:  1 (0.17%)IRZRBRIGP:  1 (0.17%)TJLGLCIRRA:  1 (0.17%)\n",
      "ARIRNIRA:  1 (0.17%)IRNVCWNWLCH:  1 (0.17%)HVDMRA:  1 (0.17%)RLHP:  1 (0.17%)UPELHH.:  1 (0.17%)\n",
      "MLHC'I:  1 (0.17%)ARHWTCRA,:  1 (0.17%)ADC'I:  1 (0.17%)RCTWCRRG:  1 (0.17%)HRI:  1 (0.17%)\n",
      "JE.:  1 (0.17%)CD-DCR:  1 (0.17%)RZHR:  1 (0.17%)IWBR:  1 (0.17%)LZDCR:  1 (0.17%)\n",
      "NDBEDCRCI.:  1 (0.17%)SWAD'H:  1 (0.17%)IRLB:  1 (0.17%)HRCI:  1 (0.17%)BRHHLTR:  1 (0.17%)\n",
      "IRZZ:  1 (0.17%)LUDJI:  1 (0.17%)CRLG:  1 (0.17%)BWHH:  1 (0.17%)HDJCAH:  1 (0.17%)\n",
      "ZWYR:  1 (0.17%)HRGWDJH:  1 (0.17%)ARHIGDP:  1 (0.17%)GR-RCIGP.:  1 (0.17%)LEEGDLNVRA:  1 (0.17%)\n",
      "EDWCI:  1 (0.17%)XRIIWHDCRA:  1 (0.17%)HRGKWNR:  1 (0.17%)GR-DGWRCI:  1 (0.17%)EDWCIWCT:  1 (0.17%)\n",
      "MRGR:  1 (0.17%)EGRIIP:  1 (0.17%)BJNV:  1 (0.17%)ULZZWHIWN:  1 (0.17%)DGUWI:  1 (0.17%)\n",
      "HILPRA:  1 (0.17%)NZDHR:  1 (0.17%)NB,:  1 (0.17%)MWIVDJI:  1 (0.17%)DMC:  1 (0.17%)\n",
      "UGRLY:  1 (0.17%)ZLGTR:  1 (0.17%)EWRNRH:  1 (0.17%)EDHRA:  1 (0.17%)HWTCWSWNLCI:  1 (0.17%)\n",
      "ALCTRG:  1 (0.17%)NGRM.:  1 (0.17%)LKDWA:  1 (0.17%)HJEEDHRA:  1 (0.17%)NLGGP:  1 (0.17%)\n",
      "HRFJRCNR:  1 (0.17%)HVDGI:  1 (0.17%)UJGCH:  1 (0.17%)BDKR:  1 (0.17%)IGLXRNIDGP:  1 (0.17%)\n",
      "LMLP:  1 (0.17%)BDAJZR,:  1 (0.17%)HYWEEWCT:  1 (0.17%)DSS:  1 (0.17%)LIBDHEVRGR:  1 (0.17%)\n",
      "GR-RCIRG:  1 (0.17%)SGRR:  1 (0.17%)ARUGWH:  1 (0.17%)SWRZA.:  1 (0.17%)JCSDGIJCLIRZP,:  1 (0.17%)\n",
      "ADRHC'I:  1 (0.17%)HRRB:  1 (0.17%)VLEERCRA.:  1 (0.17%)LZAGWC:  1 (0.17%)SZRM:  1 (0.17%)\n",
      "ELHI:  1 (0.17%)MVWNV:  1 (0.17%)SZPWCT:  1 (0.17%)LI:  1 (0.17%)LIILNY:  1 (0.17%)\n",
      "LCTZR:  1 (0.17%)URPDCA:  1 (0.17%)DERGLIWDCLZ:  1 (0.17%)ELGLBRIRGH,:  1 (0.17%)NDBBRGNWLZ:  1 (0.17%)\n",
      "EWZDI,:  1 (0.17%)SGLCY:  1 (0.17%)UGDMC,:  1 (0.17%)HRRWCT:  1 (0.17%)HELNRNGLSI:  1 (0.17%)\n",
      "IGLNYWCT:  1 (0.17%)NZDHRZP:  1 (0.17%)UJGCRA:  1 (0.17%)HWCTZR:  1 (0.17%)MVWIR-VDI:  1 (0.17%)\n",
      "SGLTBRCIH:  1 (0.17%)ULAZP:  1 (0.17%)NLEHJZR,:  1 (0.17%)LHIGDCLJIH:  1 (0.17%)HJGKWKRA:  1 (0.17%)\n",
      "DAAH:  1 (0.17%)ELGLNVJIR:  1 (0.17%)HPHIRB:  1 (0.17%)IGWTTRGRA:  1 (0.17%)RLGZP:  1 (0.17%)\n",
      "DG:  1 (0.17%)SLILZZP:  1 (0.17%)UP:  1 (0.17%)UZLHI.:  1 (0.17%)RCTWCRRGH:  1 (0.17%)\n",
      "SLHI:  1 (0.17%)NDGGRNI:  1 (0.17%)OWWW:  1 (0.17%)BWIWTLIWDCH:  1 (0.17%)OWW'H:  1 (0.17%)\n",
      "GR-RCIGP,:  1 (0.17%)KWRM:  1 (0.17%)ROERGIH:  1 (0.17%)ADATRA:  1 (0.17%)UJZZRI:  1 (0.17%)\n",
      "IVWH.:  1 (0.17%)SZWTVI:  1 (0.17%)DSSWNRG:  1 (0.17%)EDWCIRA:  1 (0.17%)HDKWRIH:  1 (0.17%)\n",
      "MLCIRA:  1 (0.17%)BWHHWDC:  1 (0.17%)TDDA:  1 (0.17%)URI::  1 (0.17%)CLHIP:  1 (0.17%)\n",
      "LNNWARCI:  1 (0.17%)VLGA:  1 (0.17%)SDGRHRR,:  1 (0.17%)AWSSWNJZI:  1 (0.17%)HVDM:  1 (0.17%)\n",
      "ARZWURGLIRZP:  1 (0.17%)BWHNLZNJZLIRA:  1 (0.17%)UJGC:  1 (0.17%)IWBRH:  1 (0.17%)WCIRGLNIWDC:  1 (0.17%)\n",
      "IVGJHIRGH:  1 (0.17%)HILUWZWHRGH:  1 (0.17%)NLJHRA:  1 (0.17%)EGDUZRB.:  1 (0.17%)CJBURG:  1 (0.17%)\n",
      "RBEZDPRRH:  1 (0.17%)URTJC:  1 (0.17%)URZWRKR:  1 (0.17%)JHHG:  1 (0.17%)VLH:  1 (0.17%)\n",
      "ARRE:  1 (0.17%)NDKRG:  1 (0.17%)LTRCIH:  1 (0.17%)EGDTGLBBR.:  1 (0.17%)BP:  1 (0.17%)\n",
      "MDGGP:  1 (0.17%)MGDCT,:  1 (0.17%)ZLNY:  1 (0.17%)IGJHI:  1 (0.17%)MWIVWC:  1 (0.17%)\n",
      "DGTLCWHLIWDC:  1 (0.17%)DMC.:  1 (0.17%)LB:  1 (0.17%)VDEWCT:  1 (0.17%)BWHILYRC.:  1 (0.17%)\n",
      "HJNNRHH:  1 (0.17%)HRRBH:  1 (0.17%)UDJTVI:  1 (0.17%)ZDI:  1 (0.17%)WCIRGCLIWDCLZ:  1 (0.17%)\n",
      "TDDAMWZZ:  1 (0.17%)HDBRIVWCT:  1 (0.17%)EDHWIWKR.:  1 (0.17%)HDKWRI:  1 (0.17%)NDDERGLIWDC:  1 (0.17%)\n",
      "ZLCAWCT:  1 (0.17%)TLKR:  1 (0.17%)VDER:  1 (0.17%)SWCA:  1 (0.17%)NDBBDC:  1 (0.17%)\n",
      "TGDJCA:  1 (0.17%)IVLM:  1 (0.17%)RLHI-MRHI:  1 (0.17%)GRZLIWDCH,:  1 (0.17%)IVGRLIRC:  1 (0.17%)\n",
      "IVLI.:  1 (0.17%)BRLC-IWBR:  1 (0.17%)URIIRG:  1 (0.17%)HIRE:  1 (0.17%)HRNJGWIP.:  1 (0.17%)\n",
      "HVDJZA:  1 (0.17%)JHR:  1 (0.17%)HWBEZR:  1 (0.17%)KWTRCRGR:  1 (0.17%)ERGWDA:  1 (0.17%)\n",
      "DJG:  1 (0.17%)CROI:  1 (0.17%)BRHHLTR.:  1 (0.17%)RCNGPEIRA:  1 (0.17%)LIILNVRA:  1 (0.17%)\n",
      "GREDGI:  1 (0.17%)JHWCT:  1 (0.17%)NDZJBCLG:  1 (0.17%)IGLCHEDHWIWDC:  1 (0.17%)\n",
      "-----\n"
     ]
    }
   ],
   "source": [
    "#Analyse it\n",
    "frequency_analysis(message)\n",
    "frequency_analysis(message.split())"
   ]
  },
  {
   "cell_type": "code",
   "execution_count": 8,
   "metadata": {},
   "outputs": [
    {
     "name": "stdout",
     "output_type": "stream",
     "text": [
      "meg,\n",
      "W hLKe UeeC MDGYWCg thGDJgh the ZWHt DS HJHEWNWDJH WCNWAeCtH LSSeNtWCg LEDZZD eZeKeC LCA Wt WH ZDCgeG thLC PDJ mWght thWCY. the EGe-ZLJCNh, HtLge thGee thGJHteG KLZKe EGDUZem WH L ZWttZe HJHEWNWDJH gWKeC LZZ the NheNYH thLt tDDY EZLNe UeSDGe thLt, UJt DC the DtheG hLCA teZemetGP gJLGLCteeA thLt Wt MDJZA Ue AeteNteA LCA the teNhCWNWLCH HhDMeA thLt Wt MLH eLHP tD UPELHH. WS thLt MLH L HLUDtLge LttemEt theC Wt MLHC't KeGP MeZZ AeHWgCeA, HD W ADC't thWCY Wt NDJZA hLKe UeeC LC eCgWCeeG thLt Het Wt JE. DC the DtheG hLCA, CD-DCe eZHe MDJZA hLKe hLA tWme LZDCe MWth the NDmEDCeCt. DC the DtheG hLCA, HDmeDCe SGDm SWAD'H teLm HeCt me L meHHLge tD teZZ me LUDJt L KeGP CeLG mWHH thLt HDJCAH ZWYe Wt NDJZA hLKe UeeC L HeGWDJH LttemEt tD AeHtGDP the NDmmLCA mDAJZe DC Ge-eCtGP.\n",
      "LH LEDZZD OW LEEGDLNheA the Ge-eCtGP EDWCt theP XettWHDCeA the HeGKWNe mDAJZe tD Ge-DGWeCt the NDmmLCA mDAJZe HD thLt the heLtHhWeZA MLH EDWCtWCg WCtD the LtmDHEheGe. HWCNe theP MeGe DC EGettP mJNh L ULZZWHtWN DGUWt the Hm MDJZA hLKe HtLPeA NZDHe tD the Nm, LCA MWthDJt L heLtHhWeZA DS WtH DMC Wt MDJZA UGeLY JE WCtD ZLGge EWeNeH thLt EDHeA L HWgCWSWNLCt ALCgeG tD the Nm LCA WtH NGeM. tD LKDWA thLt the Hm MLH HJEEDHeA tD NLGGP DJt L HeFJeCNe DS HhDGt UJGCH tD mDKe WtH tGLXeNtDGP LMLP SGDm the NDmmLCA mDAJZe, HYWEEWCg Wt DSS the LtmDHEheGe HD thLt the Nm NDJZA Ge-eCteG SGee SGDm the AeUGWH SWeZA. JCSDGtJCLteZP, thLt ADeHC't Heem tD hLKe hLEEeCeA. LZAGWC GeEDGteA thLt the Nm SZeM ELHt the Hm MhWNh MLH SZPWCg Lt LC LttLNY LCgZe MeZZ UePDCA DEeGLtWDCLZ ELGLmeteGH, LCA L NDmmeGNWLZ EWZDt, SGLCY UGDMC, GeEDGteA HeeWCg the tMD HELNeNGLSt tGLNYWCg NZDHeZP LH theP UJGCeA thGDJgh the LtmDHEheGe. L HWCgZe NDZZWHWDC MWth DCe DS the MhWte-hDt SGLgmeCtH NDJZA hLKe ULAZP ALmLgeA the Ge-eCtGP NLEHJZe, LCA eKeC WS the LHtGDCLJtH hLA HJGKWKeA the NDZZWHWDC theC the DAAH LGe thLt the ELGLNhJte HPHtem MDJZA hLKe tGWggeGeA eLGZP DG UeeC SLtLZZP ALmLgeA UP the UZLHt. CLHL eCgWCeeGH LGe MDGYWCg SLHt tD NDGGeNt the EGDUZem SDG LEDZZD OWWW LCA theP hLKe mWtWgLtWDCH WC EZLNe SDG OWW'H Ge-eCtGP, UJt the KWeM DS the eOEeGtH WH thLt theP ADAgeA L UJZZet MWth thWH. the SZWght DSSWNeG MhD GeEDGteA Wt tD me EDWCteA DJt thLt WS the HDKWetH MLCteA tD HLUDtLge the mWHHWDC thWH mWght hLKe UeeC L gDDA Uet: Wt MLH L CLHtP LNNWAeCt thLt MLH hLGA tD SDGeHee, LCA Wt MWZZ Ue KeGP AWSSWNJZt tD HhDM thLt HDmeDCe AeZWUeGLteZP mWHNLZNJZLteA the UJGC tWmeH HWCNe Wt MLH the WCteGLNtWDC DS the thGJHteGH LCA HtLUWZWHeGH thLt NLJHeA the EGDUZem. W thWCY he WH DCe DS L gGDMWCg CJmUeG DS CLHL emEZDPeeH MhD hLKe UegJC tD UeZWeKe thLt the JHHG hLH AeeE NDKeG LgeCtH MDGYWCg tD AeHtLUWZWHe the EGDgGLmme. mP MDGGP WH thLt eKeC WS he WH MGDCg, the ZLNY DS tGJHt thLt WH gGDMWCg MWthWC the DGgLCWHLtWDC MWZZ AeHtLUWZWHe Wt DC WtH DMC. W Lm GeLZZP hDEWCg he WH mWHtLYeC. the HJNNeHH DS LEDZZD OW HeemH tD hLKe UDJght L ZDt DS WCteGCLtWDCLZ gDDAMWZZ LCA W thWCY Wt NDJZA Ue the HtLGt DS HDmethWCg mDGe EDHWtWKe. the HDKWet NDDEeGLtWDC MWth the ZLCAWCg gLKe me hDEe thLt Me NDJZA SWCA mDGe NDmmDC gGDJCA LCA HtLGt tD thLM eLHt-MeHt GeZLtWDCH, UJt thWH NDJZA GeLZZP thGeLteC thLt.\n",
      "WC the meLC-tWme Me hLA UetteG HteE JE HeNJGWtP. W thWCY Me HhDJZA JHe L HWmEZe KWgeCeGe NWEheG MWth EeGWDA tMD SDG DJG CeOt meHHLge. W hLKe eCNGPEteA the LttLNheA Ge-eCtGP GeEDGt JHWCg L NDZJmCLG tGLCHEDHWtWDC NWEheG\n",
      "\n"
     ]
    }
   ],
   "source": [
    "# OK.  \"R\" is almost certainly \"e\" and \"IVR\" is probably \"the\"\n",
    "# From previous challenges, I reckon this message is addressed to Meg, which will be \"BRT\"\n",
    "# What does that give us...?\n",
    "decode(message, \"AmCDEFGHtJKLMNOPQeSgUhWXYZ\")"
   ]
  },
  {
   "cell_type": "code",
   "execution_count": 9,
   "metadata": {},
   "outputs": [
    {
     "name": "stdout",
     "output_type": "stream",
     "text": [
      "meg,\n",
      "i have UeeC MorYiCg throJgh the Zist oS sJspiNioJs iCNiAeCts aSSeNtiCg apoZZo eZeveC aCA it is ZoCger thaC PoJ might thiCY. the pre-ZaJCNh, stage three thrJster vaZve proUZem is a ZittZe sJspiNioJs giveC aZZ the NheNYs that tooY pZaNe UeSore that, UJt oC the other haCA teZemetrP gJaraCteeA that it MoJZA Ue AeteNteA aCA the teNhCiNiaCs shoMeA that it Mas easP to UPpass. iS that Mas a saUotage attempt theC it MasC't verP MeZZ AesigCeA, so i AoC't thiCY it NoJZA have UeeC aC eCgiCeer that set it Jp. oC the other haCA, Co-oCe eZse MoJZA have haA time aZoCe Mith the NompoCeCt. oC the other haCA, someoCe Srom SiAo's team seCt me a message to teZZ me aUoJt a verP Cear miss that soJCAs ZiYe it NoJZA have UeeC a serioJs attempt to AestroP the NommaCA moAJZe oC re-eCtrP.\n",
      "as apoZZo Oi approaNheA the re-eCtrP poiCt theP XettisoCeA the serviNe moAJZe to re-orieCt the NommaCA moAJZe so that the heatshieZA Mas poiCtiCg iCto the atmosphere. siCNe theP Mere oC prettP mJNh a UaZZistiN orUit the sm MoJZA have staPeA NZose to the Nm, aCA MithoJt a heatshieZA oS its oMC it MoJZA UreaY Jp iCto Zarge pieNes that poseA a sigCiSiNaCt AaCger to the Nm aCA its NreM. to avoiA that the sm Mas sJpposeA to NarrP oJt a seFJeCNe oS short UJrCs to move its traXeNtorP aMaP Srom the NommaCA moAJZe, sYippiCg it oSS the atmosphere so that the Nm NoJZA re-eCter Sree Srom the AeUris SieZA. JCSortJCateZP, that AoesC't seem to have happeCeA. aZAriC reporteA that the Nm SZeM past the sm MhiNh Mas SZPiCg at aC attaNY aCgZe MeZZ UePoCA operatioCaZ parameters, aCA a NommerNiaZ piZot, SraCY UroMC, reporteA seeiCg the tMo spaNeNraSt traNYiCg NZoseZP as theP UJrCeA throJgh the atmosphere. a siCgZe NoZZisioC Mith oCe oS the Mhite-hot SragmeCts NoJZA have UaAZP AamageA the re-eCtrP NapsJZe, aCA eveC iS the astroCaJts haA sJrviveA the NoZZisioC theC the oAAs are that the paraNhJte sPstem MoJZA have triggereA earZP or UeeC SataZZP AamageA UP the UZast. Casa eCgiCeers are MorYiCg Sast to NorreNt the proUZem Sor apoZZo Oiii aCA theP have mitigatioCs iC pZaNe Sor Oii's re-eCtrP, UJt the vieM oS the eOperts is that theP AoAgeA a UJZZet Mith this. the SZight oSSiNer Mho reporteA it to me poiCteA oJt that iS the soviets MaCteA to saUotage the missioC this might have UeeC a gooA Uet: it Mas a CastP aNNiAeCt that Mas harA to Soresee, aCA it MiZZ Ue verP AiSSiNJZt to shoM that someoCe AeZiUerateZP misNaZNJZateA the UJrC times siCNe it Mas the iCteraNtioC oS the thrJsters aCA staUiZisers that NaJseA the proUZem. i thiCY he is oCe oS a groMiCg CJmUer oS Casa empZoPees Mho have UegJC to UeZieve that the Jssr has Aeep Nover ageCts MorYiCg to AestaUiZise the programme. mP MorrP is that eveC iS he is MroCg, the ZaNY oS trJst that is groMiCg MithiC the orgaCisatioC MiZZ AestaUiZise it oC its oMC. i am reaZZP hopiCg he is mistaYeC. the sJNNess oS apoZZo Oi seems to have UoJght a Zot oS iCterCatioCaZ gooAMiZZ aCA i thiCY it NoJZA Ue the start oS somethiCg more positive. the soviet NooperatioC Mith the ZaCAiCg gave me hope that Me NoJZA SiCA more NommoC groJCA aCA start to thaM east-Mest reZatioCs, UJt this NoJZA reaZZP threateC that.\n",
      "iC the meaC-time Me haA Uetter step Jp seNJritP. i thiCY Me shoJZA Jse a simpZe vigeCere Nipher Mith perioA tMo Sor oJr CeOt message. i have eCNrPpteA the attaNheA re-eCtrP report JsiCg a NoZJmCar traCspositioC Nipher\n",
      "\n"
     ]
    }
   ],
   "source": [
    "# Looks promising.\n",
    "# \"W\" is probably \"I\", given that this is an inter-personal note\n",
    "# \"thLt\" probably is \"that\"\n",
    "# \"hLKe\" probably is \"have\"\n",
    "# \"LttemEt tD\" is probably \"attempt to\"\n",
    "# As this about rockets and stuff, I'll hazard that \"LtmDHEheGe\" is \"atmosphere\"!\n",
    "decode(message, \"AmCopFrstJvaMNOPQeSgUhiXYZ\")"
   ]
  },
  {
   "cell_type": "code",
   "execution_count": 10,
   "metadata": {},
   "outputs": [
    {
     "name": "stdout",
     "output_type": "stream",
     "text": [
      "meg,\n",
      "i have been working through the list of suspiNious inNidents affeNting apollo eleven and it is longer than you might think. the pre-launNh, stage three thruster valve problem is a little suspiNious given all the NheNks that took plaNe before that, but on the other hand telemetry guaranteed that it would be deteNted and the teNhniNians showed that it was easy to bypass. if that was a sabotage attempt then it wasn't very well designed, so i don't think it Nould have been an engineer that set it up. on the other hand, no-one else would have had time alone with the Nomponent. on the other hand, someone from fido's team sent me a message to tell me about a very near miss that sounds like it Nould have been a serious attempt to destroy the Nommand module on re-entry.\n",
      "as apollo Oi approaNhed the re-entry point they Xettisoned the serviNe module to re-orient the Nommand module so that the heatshield was pointing into the atmosphere. sinNe they were on pretty muNh a ballistiN orbit the sm would have stayed Nlose to the Nm, and without a heatshield of its own it would break up into large pieNes that posed a signifiNant danger to the Nm and its Nrew. to avoid that the sm was supposed to Narry out a seFuenNe of short burns to move its traXeNtory away from the Nommand module, skipping it off the atmosphere so that the Nm Nould re-enter free from the debris field. unfortunately, that doesn't seem to have happened. aldrin reported that the Nm flew past the sm whiNh was flying at an attaNk angle well beyond operational parameters, and a NommerNial pilot, frank brown, reported seeing the two spaNeNraft traNking Nlosely as they burned through the atmosphere. a single Nollision with one of the white-hot fragments Nould have badly damaged the re-entry Napsule, and even if the astronauts had survived the Nollision then the odds are that the paraNhute system would have triggered early or been fatally damaged by the blast. nasa engineers are working fast to NorreNt the problem for apollo Oiii and they have mitigations in plaNe for Oii's re-entry, but the view of the eOperts is that they dodged a bullet with this. the flight offiNer who reported it to me pointed out that if the soviets wanted to sabotage the mission this might have been a good bet: it was a nasty aNNident that was hard to foresee, and it will be very diffiNult to show that someone deliberately misNalNulated the burn times sinNe it was the interaNtion of the thrusters and stabilisers that Naused the problem. i think he is one of a growing number of nasa employees who have begun to believe that the ussr has deep Nover agents working to destabilise the programme. my worry is that even if he is wrong, the laNk of trust that is growing within the organisation will destabilise it on its own. i am really hoping he is mistaken. the suNNess of apollo Oi seems to have bought a lot of international goodwill and i think it Nould be the start of something more positive. the soviet Nooperation with the landing gave me hope that we Nould find more Nommon ground and start to thaw east-west relations, but this Nould really threaten that.\n",
      "in the mean-time we had better step up seNurity. i think we should use a simple vigenere Nipher with period two for our neOt message. i have enNrypted the attaNhed re-entry report using a Nolumnar transposition Nipher\n",
      "\n"
     ]
    }
   ],
   "source": [
    "# Looking good\n",
    "# \"i have UeeC MorYiCg throJgh the Zist oS\" = \"i have been working through the list of\"\n",
    "# \"teZemetrP gJaraCteeA\" - \"telemetry guaranteed\"\n",
    "# \"it MasC't verP\" - \"it wasn't very\"\n",
    "decode(message, \"dmnopFrstuvawNOyQefgbhiXkl\")"
   ]
  },
  {
   "cell_type": "code",
   "execution_count": 11,
   "metadata": {},
   "outputs": [
    {
     "name": "stdout",
     "output_type": "stream",
     "text": [
      "meg,\n",
      "i have been working through the list of suspicious incidents affecting apollo eleven and it is longer than you might think. the pre-launch, stage three thruster valve problem is a little suspicious given all the checks that took place before that, but on the other hand telemetry guaranteed that it would be detected and the technicians showed that it was easy to bypass. if that was a sabotage attempt then it wasn't very well designed, so i don't think it could have been an engineer that set it up. on the other hand, no-one else would have had time alone with the component. on the other hand, someone from fido's team sent me a message to tell me about a very near miss that sounds like it could have been a serious attempt to destroy the command module on re-entry.\n",
      "as apollo xi approached the re-entry point they jettisoned the service module to re-orient the command module so that the heatshield was pointing into the atmosphere. since they were on pretty much a ballistic orbit the sm would have stayed close to the cm, and without a heatshield of its own it would break up into large pieces that posed a significant danger to the cm and its crew. to avoid that the sm was supposed to carry out a sequence of short burns to move its trajectory away from the command module, skipping it off the atmosphere so that the cm could re-enter free from the debris field. unfortunately, that doesn't seem to have happened. aldrin reported that the cm flew past the sm which was flying at an attack angle well beyond operational parameters, and a commercial pilot, frank brown, reported seeing the two spacecraft tracking closely as they burned through the atmosphere. a single collision with one of the white-hot fragments could have badly damaged the re-entry capsule, and even if the astronauts had survived the collision then the odds are that the parachute system would have triggered early or been fatally damaged by the blast. nasa engineers are working fast to correct the problem for apollo xiii and they have mitigations in place for xii's re-entry, but the view of the experts is that they dodged a bullet with this. the flight officer who reported it to me pointed out that if the soviets wanted to sabotage the mission this might have been a good bet: it was a nasty accident that was hard to foresee, and it will be very difficult to show that someone deliberately miscalculated the burn times since it was the interaction of the thrusters and stabilisers that caused the problem. i think he is one of a growing number of nasa employees who have begun to believe that the ussr has deep cover agents working to destabilise the programme. my worry is that even if he is wrong, the lack of trust that is growing within the organisation will destabilise it on its own. i am really hoping he is mistaken. the success of apollo xi seems to have bought a lot of international goodwill and i think it could be the start of something more positive. the soviet cooperation with the landing gave me hope that we could find more common ground and start to thaw east-west relations, but this could really threaten that.\n",
      "in the mean-time we had better step up security. i think we should use a simple vigenere cipher with period two for our next message. i have encrypted the attached re-entry report using a columnar transposition cipher\n",
      "\n"
     ]
    }
   ],
   "source": [
    "# Very close now!\n",
    "# \"suspiNious inNidents affeNting\" n=c\n",
    "# \"apollo Oi\" = O=x?\n",
    "# \"Xettisoned\" X=j\n",
    "# \"seFuenNe\" \"sequence\"\n",
    "# Going by the sequences in the key, \"F\" must be \"q\" and \"Q\" must be \"z\"\n",
    "decode(message, \"dmnopqrstuvawcxyzefgbhijkl\")"
   ]
  },
  {
   "cell_type": "markdown",
   "metadata": {},
   "source": [
    "### Postscript\n",
    "Looking at the key:\n",
    "<pre>ABCDEFGHIJKLMNOPQRSTUVWXYZ\n",
    "dmnopqrstuvawcxyzefgbhijkl</pre>\n",
    "\n",
    "The key appears to be a shift with letters a-e out of place.\n",
    "Letters a-e correspond to LUNAR, so that was the codeword used!"
   ]
  },
  {
   "cell_type": "code",
   "execution_count": null,
   "metadata": {},
   "outputs": [],
   "source": []
  }
 ],
 "metadata": {
  "kernelspec": {
   "display_name": "Python 3",
   "language": "python",
   "name": "python3"
  },
  "language_info": {
   "codemirror_mode": {
    "name": "ipython",
    "version": 3
   },
   "file_extension": ".py",
   "mimetype": "text/x-python",
   "name": "python",
   "nbconvert_exporter": "python",
   "pygments_lexer": "ipython3",
   "version": "3.7.4"
  }
 },
 "nbformat": 4,
 "nbformat_minor": 4
}
