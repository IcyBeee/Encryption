{
 "cells": [
  {
   "cell_type": "markdown",
   "metadata": {},
   "source": [
    "# Cipher Challenge 5b"
   ]
  },
  {
   "cell_type": "code",
   "execution_count": 1,
   "metadata": {},
   "outputs": [],
   "source": [
    "# After last week's clue, I spent a bit of time writing a good Vigenere function, that can handle\n",
    "# upper and lower case and skip spaces and punctuation\n",
    "# It's a two way function: If optional parameter \"encode\" is set True, then it will encode instead.\n",
    "\n",
    "def vigenere(text, key, encode=False):\n",
    "    shifts = [ord(letter.upper()) - ord(\"A\") for letter in key]\n",
    "    key_length = len(key)\n",
    "    key_index = 0\n",
    "    for letter in text:\n",
    "        letter_val = ord(letter)\n",
    "        if letter.isupper():\n",
    "            offset = ord(\"A\")\n",
    "        elif letter.islower():\n",
    "            offset = ord(\"a\")\n",
    "        else:\n",
    "            print(letter, end=\"\")\n",
    "            continue\n",
    "\n",
    "        if encode:\n",
    "            shift = shifts[key_index]\n",
    "        else:\n",
    "            shift = -shifts[key_index]\n",
    "\n",
    "        print(chr((((letter_val - offset) + shift) % 26) + offset), end=\"\")\n",
    "        key_index = (key_index + 1) % key_length\n",
    "    print()"
   ]
  },
  {
   "cell_type": "code",
   "execution_count": 2,
   "metadata": {},
   "outputs": [
    {
     "name": "stdout",
     "output_type": "stream",
     "text": [
      "LXFOPVEFRNHR\n",
      "ATTACKATDAWN\n",
      "CSASTPKVSIQUTGQUCSASTPIUAQJB\n",
      "CRYPTOISSHORTFORCRYPTOGRAPHY\n",
      "dCode Vigenere automatically !\n"
     ]
    }
   ],
   "source": [
    "# Here are some tests, using some examples copied from Wikipedia and a few other websites:\n",
    "vigenere(\"ATTACKATDAWN\", \"LEMON\", encode=True)\n",
    "vigenere(\"LXFOPVEFRNHR\", \"LEMON\")\n",
    "vigenere(\"CRYPTOISSHORTFORCRYPTOGRAPHY\", \"abcd\", encode=True)\n",
    "vigenere(\"CSASTPKVSIQUTGQUCSASTPIUAQJB\", \"abcd\")\n",
    "vigenere(\"nGmni Tskcxipo esdskkxgmejvc !\", \"key\")\n"
   ]
  },
  {
   "cell_type": "code",
   "execution_count": 5,
   "metadata": {},
   "outputs": [],
   "source": [
    "# Looks good, OK lay the new message on me!\n",
    "message5b = \"\"\".sc wgmkaod rdjcvxok gri vybctbd fdjtzxt ek nwlhzkliwsq gljlgrqp bvsfpozwg djt vhhzgrpw cs vnmgwrgrX hvs ggzx W dfizs zzpoqwom tuw ic cpa awizpozwgz tuw ic dmaa hvs toN\n",
    ".psgv gvldoqta ic drop bbz uap wbdonzhjni rcr antf mvbnrsmu umqrbv o xnnw gbz gmudffqrx rzkqpI hvs ho bfsoua gqo sc eslfsu ob hzac smladpe txtqgwws sqc eahvS\n",
    ".arbqs-dt dvd umkdvdz mqou LL nnlwsO djt lqo denivghcnvrqdt X woznrA mkh gvoj huzvojdg nv dmlfs aepw gz vscm vbpuio ghjt mjosqbiv cs vuw wsr gnwhanu ytuodnC ?mfwvv kkxfsu nmhp dxap rh sk sq bzdmit zcg fnI ?dztunqqsO cdquckH epw bn inqqhgiit vo mqmurq rc nwqslqnmkd kcrcwom c ob hzacrmqztx ej Y bqwtiV sgv si gsbpadgo rc evlvbcm i gztqw gkk ,eneauina kad htD .yzwwterqf znttvrq djt bxc jqob wogv sqkh rcw bl hzjt lqo gencdz rvi oqwqwd oqwmvholz xd kkxfsu siz WHZ otocoC tikh jpipw cs wog wbzy svdwbktqoco tuW .vazgt oqwqgevlumg dvd umkmudffqrx hvs febdfsninqw cch wkk rtobdfdro bhwuqS nr gmqibfo djt ge rdnlqn bdgb myog flcrq rvuiqcqvsi hjztb mvsgV .ezhvououwo r’jtzds djt lhfdvnm-hf xghb vo dnulra deidusr pww uwdjt pwwv poqvwknok d ma fetowj vswpzz grmz gswavrfsua QA cknoxD sgv tikh qq sbqsfc tmljnU yj gssruzucb uae halcrorfo gcvdrhwg moicqm zdbtn X woznrA mkh schb zcmm ob xcx vniz hnp ol vfdvsip zzeiblznr rcR\n",
    ".rdgckxg rgiuhbd tuw hfnhej hahv fw ussvau d mkpo al hH .tan rg deaxv bh fetowj peme gzj evr cm vapw gswavrfsua zxc eq ltlyr fni bfdxaze sgv dvd gdkcvhuz atquibgs zxc eq sahbdxibfsehe mkh eq eaxobgb gobn ui bl rmc yiz g’ltap qw cgciod xndmwodrez qsdd eddv rvuiqcqvsi hjztb zxC .rw esdhqgvw rh rvrwitd utq qw QUSC hvs fii rh dtaj gwzn ezd gmclx uin fni ,uimqkqdP sc szhsmkgvh sgv ob bunnovkqdv rcr tn ukihz spabvbne ezd sqghB .vhmggi uwdjt ge rdvcmitzpu vhsa uap halcrorfo tavxz djt nr hqcp wQ\n",
    ".sbcpa qw deniqwlqd zlsgv tzhgrcez rh cpa mooqqm zxc xqrbvsc qt bsadvti qo mk yzwbtqc zxc eq tzdsg ghb qc jeabwo mc dmkqmwat hjzj ymkh vqN .mpaztgwud deaxv bvq rqhvs jtqz gt febqizv eddv cpa ieiB pi luoxmcie ftq nq gsooak zcm gri bsgv ,sifwqgmI hvs uswuqz poqwikqvmu umktvhanh dvd hrcE zdT djt avcqea zdk fpibucorua khhy tvhhmqc brB .mqiavwl tuw jbhaozwgdf dvd gswavrfsua zxc fpitowj va lhahc ,eodhndaa ic domiuuntp i qc cgkzdplg ythjhvci hjzj dvd ORCN gfbdia mfoou rcr rdvazwzhhnq hjzj sbhwuqS mkH :eneaww rgtquk xtobv ghjt nr smklldsg ghB\n",
    ":wgnR kzrM vgN mkh eq rwwwcg epw cS\"\"\""
   ]
  },
  {
   "cell_type": "code",
   "execution_count": 6,
   "metadata": {},
   "outputs": [],
   "source": [
    "# Well, it's quite clear that the \"little twist\" hinted at in 5a is that it's backwards.\n",
    "# Let's sort that out first, using Python's \"negative step\" array slicing trick\n",
    "message5b_reversed = message5b[::-1]"
   ]
  },
  {
   "cell_type": "code",
   "execution_count": 11,
   "metadata": {},
   "outputs": [
    {
     "name": "stdout",
     "output_type": "stream",
     "text": [
      "To xbf sdixis cf tly Osw Ysll Dosx:\n",
      "Nis heexmwne sz uvis wnpfy wvcuss ixmfzf: Tly Tcviint vavi cotilxlbhed sos gpagy buengs OOSA ehe vavi udhivifz smbellsd or u qfogvunae oj mbpoteaf, oimix bh kipfjbg oyl bgtrshbits ehe resxlpmink ivf miwmjcn. Nsn dcntihu kitl mvdpovnjbg wel bqrowm uve Fel Fost ehe tomihuwng vywcluxcpb acvitg thi Unsrigut, hhec uss noa wbapeh co cur fudyyavx jb Cufu bbd hepf haurnfr us acuv thics cwn wjbqe pvihfamqy. Ocw tlyz vavi fbinclye on axnbqk or nis heelu cf oyl dcunxlz wn ar uuhemtn uc dewnscy oyl ncrapy bbd ts lfossilu hheml ecmiruoqe ir mqoce.\n",
      "Ri qort sz uve lyhbf prsasommi bbg beih vbafjydhed fs uveiv uhsntw. Nisre elf qonwnbbt liulg of sos heclhpzogc np hhe ihhwneilt ot Beclcnuv, uor ouv jmons elf zaih vbfe ts ujr thi OTGR ir cug efjishs ts iwsrteef is. Oyl cfavi uthroruvhs hepf peer lfdeaxyezy ppudsd ir bbfm’s auz ond mn jg onps cscaymf cf tly ftfegnjjenimt cf oyl tscuvcum agihdwes ehe hhe flbjerc uor skmfm cf oyl bgtrshbits xbbh no shf vas fyfb kipffr in wjbqe ss zbf. It mm pbly e gbhtev ig himi vftori ivf enigjss sywdsed.\n",
      "Sos dolmnjqal qutherw xp bot auoh yoy np ynoa niot tly Bdolpi Y zunel ncdupy hiidehds prsasommi qbg covlvdteh vz Govmyu ogernt cr tluu hhe Ejpzlo BC bgtrshbits ayss alqith kipffr by e wpzliwcpb wixb uveiv ixb sevpjqe msxvze aw nisy ri-yoherix uve eeluv’s axgpgphilf. Hhewy cfavi uthroruvhs csomr hazy csen ocmzed fs uve agnjcns sz Tcviin pderenpfs wli iod irzjztrenfr thi jscgregnwng ehe sngmhfsrira usamw. Ivf popcuwcieht kanx spi to xbjbk tluu Opopfp LII aut gtrywl py lmaihnira eirira jhs leooqh arx uvat mn xos tlct hhax npck oyn uve cshufol gcsquixlz. Put eml mouvmfzf, wls xculh u nochmhf os ahpbbceh ut hhe Wuuirn Z vf julrysobli np o naxosol plyocmerio os csgncn aw fjuhtrcou on xbf Tlovceo Percogule? Uor hoa fjyelc ct wt ts bbje biyo gtrywl hwigy? Dzeavfz gomiios sex ivh to wucctaky uvis puvbch noth as xbfm trmye ho sevphagi vphh tly Bdolpi Y fecshooiswuoqe arx uve Atimzo XM gpcn lehewng ehe fe-ernsm.\n",
      "Thimf ore tixsrfyf fbemmyt obli np gtrmef ot ars bgpegn pt thi Uqclls jscgregns anh iozy a wnscng vytdonwy gfom sos uoviloaenx bbg anc bpde oj mucppmhh hheq.\n",
      "Zpf thi mbye oj ivf asxlpbauxm bbd oj ivf naxcpbal tljre I ylhs thi Jsssihyoh to xbssatih uve sxlpbgewn qcssmvms rexumwatmio wf fyluver enuockw uss layhdved eabwnsx ot.\n"
     ]
    }
   ],
   "source": [
    "# The first word is probably \"To\".  Reverse lookup in the Vigenere table (https://en.wikipedia.org/wiki/Vigen%C3%A8re_cipher#/media/File:Vigen%C3%A8re_square_shading.svg)\n",
    "# \"z\" as a first character in the key would represent \"T\" as \"S\"\n",
    "# \"o\" would represent \"o\" as \"c\"\n",
    "vigenere(message5b_reversed, \"zo\")"
   ]
  },
  {
   "cell_type": "code",
   "execution_count": 12,
   "metadata": {},
   "outputs": [
    {
     "name": "stdout",
     "output_type": "stream",
     "text": [
      "To tqq dditxd nf thn Zdw Yoaw Oost:\n",
      "Ctd heamxhne oo fgis scaqy wrrfds itbqkf: Thn Enviece gave rzeiltamsed odd rpacn mfench ZZSA awp gave josiveuk dmbaawdd on j bqogrjyle of bmaotapq, zimem ms kiluumg oua mrtrowmtts awp cestaaxing xgq misbunn. Noc onntewf vith bgoporcumg waa mbrosb fge Faa Qzst awp eomewfhng rnhnlutram acrxer the Jydricje, shey jdd now lmlped rz nur bjojyarm um Cubj mmd haeq sauncqc us wrfg therd nwn symbe prxsqammn. Znw thnk gave umtnchnp zn atcmbk on ctd heaaf nf oua onuntak hn an jfsempc fn descdny oua ynraln mmd to aqzsseaf sheia pnminjzbe in bbzce.\n",
      "Nx bzrt oo fge luwmq propdzmme qmr beew gmaffnosed bh fgeir jsdnts. Ctdre aaq bonscmmt lejwr of odd sechwakogy ca she ewshneeae zt Barwnnur, jzc our yxzns aaq kaid kmqe to juc the DERR in rfr effxdss to xhdrtatq ts. Oua nqave jesronjgss haeq aeen aqoeatnpky pljodd in qmqm’s wjk znd ic ur onlh ndcaubq nf thn qefeccuuenebe nf oua edcurrfx agewohes awp she bamuery jzc skiux nf oua mrtrowmtts tqms no owq gas bnqm kiluqc in symbe so omq. It ib amly a vmster xr sime kqeore xgq enevuds suloded.\n",
      "Odd oolicubal mjesers ma mot wjzs you ca jnow ctzt thn Moollx J kunaa ynduln stidawod propdzmme fmr coragoted kk Rovinf zgence nr thjf she Ayaklo XR mrtrowmtts wndd almxes kiluqc by a laklisram witq fgeir xim sereube momgke as ctdy re-nzserem fge eaafg’s atvarpheaq. Shesn nqave jesronjgss codxc havn nden krxked bh fge accunns oo Enviec aoeracaqs whx tzd inouktracqc the ydngravyhng awp dngiwqdrinp fdams. Xgq polrfhciawe vant hat to tqumk thjf Zpolua WII wje rtrulw ay liptsninp ptrinp uss ladzbh anm fgat ic izs thre shat cank ouc fge cowfqol crdbuitak. Aut abw xourbqkf, whh inuld j yzchiwq zs ademmced je she Sjftrn V kq uulnndzble ca z natddzl phnznmenxz zs covynn as uufhtnrzf on tqq Elorrpz Penrzrula? Jzc how uujely re ht to qmue benz rtrulw swicn? Okearuk romexzd set xgs to sjnntagn fgis ljgmch jdes as tqqx trinp so sakasage kash thn Moollx J qecowzzissjzbe anm fge Apxxko XI vann lawphng awp qe-encdx.\n",
      "Thebq zre pxidrfuu qmemine zble ca rtritq zt anh mrpecc ae the Jbnllo ydngravyd and xzky a scdnng rneoonsn rqom odd foveazlent qmr any qaoe of bfnppiws shem.\n",
      "Oaq the bmje of xgq astaamautb mmd of xgq natramal pauce I uasd the Yddsidnzs to tqddatew fge staamgesc bnssikxd retjxhatixz hf fuafger acfzcks jdd lauwoged apmhnst de.\n"
     ]
    }
   ],
   "source": [
    "# This seems to have done something useful - there are things that look like words there.\n",
    "# That first line contains three capitalized words.  From the message in 4a, that could well be \"New York Post\"\n",
    "# I therefore guess that the first line is \"To the editor of the New York Post:\"\n",
    "# Try one character at a time until we get something recognizable\n",
    "# t->w requires \"d\"\n",
    "vigenere(message5b_reversed, \"zod\")"
   ]
  },
  {
   "cell_type": "code",
   "execution_count": 13,
   "metadata": {},
   "outputs": [
    {
     "name": "stdout",
     "output_type": "stream",
     "text": [
      "To thf szoxio if the Oss Eslh Jost:\n",
      "Tis dkexicne of uvey wnlly wriuso oxmbff: The Tcroinp bave ioterxlxned ous glggy xaency OOOG eha bave adhebifv ymbarlsz ur u mlogranaa uj mxvotagf, oesix xn killjbc uyl xmtronbipy eha xestrpmetk irl missjcj. Tsn zintenu kezl mrjportjbc cel xwross uva Lel Bust ane tksihqcng rewchaxclh acrotg pni Ujyricat, hdkc uoy now cbalkh ck iur badyugvx fh Cuba bbz nepb nauntfr qy acqb theis cst wjxwe prohfwsqy. Kiw thez vwbi fxonchee oj gxnxwk on tis dkelq if our dcqtxlv cn an auhastn qi destscu uyl jirale bbz zs lbusseru hdkml aiminaoqa or mmuce.\n",
      "No qonz sz qbe lunbf lxsaoumme hbg xkih rhaffedhaj fs qbeir ahsjzw. Neyre arf qktwnxht lealg kl soo nechnpzkmc nl nhe enhwjkilp ut Bailcjav, ukx our pmojy elb faid bbfa zs ufx the UTGN or cqm effosho zs isyrtakf io. Uyl ylave athnururns havf pakr lbjeateezu vpuzyd in hbfi’y auv und it jg ktps yycausf cb zly bzfectjjatimp if our tsyavcqs agendway eha nhe brbjaxc ukx skilm cb uyl xmtronbipy xbxn no onf vwy fybh killfr et wjxwe so fbf. Ez mm lhly a mbhpkv ic nime bftkxi irl enemjso yywzyed.\n",
      "Ous dkrmnfwal mathaxw xl hot waoh uuy nl enow tiop zly Xjollo Y zqtel jidule hiejehzy progsoisi qxm corrvdpkh vv Movieu ockrnp ir thau hdk Ejlflo XI bgpxshxots wess wrqipn killfr xe e wlflisipb soxb qbeir oxb okvpfwe modvza gw neyy re-eohaxix qbe earuv’o gxglmpherf. Hdkwy ylave athnururns coumr dgzy yyen kimzaj fs qbe actjcjy sz Piviet pdaxenlls who ioz orzfftratfr pni joigramnwjm eha ynginfsnora qyams. Ovf lupcqcciant kwtx slo to thjbg zluq Upollp LEO aup mtrucl pu rmaenning einora fns lauoqd grx qbat it xoo zlcp nhat tpcg uyn qbe conufkr gcowuitrz. Pqz emh soursfzb, cls tiuld a noynmhb us advbbykh up nhe Sauint Z vb pulnesoxri nl u natusoh vlykimenoo oo isgjin as ljudzrcka on thf Thuvcau Peniogqre? Ukx how ljyarc cp ct to hbja hiyk mtrucl hsogy? Zfearlz gksiiky set ovh pu wuyitage uvey purhch juth wy xbbs triee hk yevlnage bphd zly Xjollo Y faishkuissaoqa grx qbe Apomzk DM glin lanewjm eha le-entsm.\n",
      "Pnimb ure poxsnlyf bhemiet oxri nl mtrikf op grs xmpect pt pni Umillo psccxegjy and oozu g wnoing retdktwy clom ous ukbilkgent hbg wtc blje of suclvmhd nhem.\n",
      "Fpf pni mxee of ovf wyxllhauts bbz uj irl natipbwr tlfxe I urhs pni Joysideoh pu xboyaten uva yxllhgest qcoymviy retamwwzmik cf furuvax enqucks ass hgyhzbed agbwjyx op.\n"
     ]
    }
   ],
   "source": [
    "# Lots of words popping up there.  Not enough to measure the length of the key (that I can see)\n",
    "# Try the next, h->p requires \"i\"\n",
    "vigenere(message5b_reversed, \"zodi\")"
   ]
  },
  {
   "cell_type": "code",
   "execution_count": 15,
   "metadata": {},
   "outputs": [
    {
     "name": "stdout",
     "output_type": "stream",
     "text": [
      "To the editor of the New York Post:\n",
      "The headline of this story writes itself: The Soviets have infiltrated our space agency NASA and have actively embarked on a programme of sabotage, aimed at killing our astronauts and destroying our mission. Not content with supporting war across the Far East and fomenting revolution across the Americas, they are now camped in our backyard in Cuba and have taunted us with their own space programme. Now they have launched an attack on the heart of our country in an attempt to destroy our morale and to reassert their dominance in space.\n",
      "No part of the lunar programme has been unaffected by their agents. There are constant leaks of our technology to the engineers at Baikonur, and our plans are laid bare to aid the USSR in its efforts to overtake us. Our brave astronauts have been repeatedly placed in harm’s way and it is only because of the effectiveness of our security agencies and the bravery and skill of our astronauts that no one has been killed in space so far. It is only a matter of time before our enemies succeed.\n",
      "Our political masters do not want you to know that the Apollo X lunar module guidance programme was corrupted by Soviet agents or that the Apollo XI astronauts were almost killed by a collision with their own service module as they re-entered the earth’s atmosphere. These brave astronauts could have been killed by the actions of Soviet operators who had infiltrated the programming and engineering teams. Our politicians want you to think that Apollo XII was struck by lightning during its launch and that it was this that took out the control circuitry. But ask yourself, why would a machine as advanced as the Saturn V be vulnerable to a natural phenomenon as common as lightning on the Florida Peninsula? And how likely is it to have been struck twice? Clearly someone set out to sabotage this launch just as they tried to sabotage both the Apollo X reconnaissance and the Apollo XI moon landing and re-entry.\n",
      "These are powerful enemies able to strike at any aspect of the Apollo programme and only a strong response from our government has any hope of stopping them.\n",
      "For the sake of our astronauts and of our national pride I urge the President to threaten the strongest possible retaliation if further attacks are launched against us.\n"
     ]
    }
   ],
   "source": [
    "# Well, the only word I can think of that starts \"zodi\", which has a space-y feel is \"zodiac\".\n",
    "vigenere(message5b_reversed, \"zodiac\")"
   ]
  },
  {
   "cell_type": "markdown",
   "metadata": {},
   "source": [
    "### Ta-daaa!"
   ]
  },
  {
   "cell_type": "code",
   "execution_count": null,
   "metadata": {},
   "outputs": [],
   "source": []
  }
 ],
 "metadata": {
  "kernelspec": {
   "display_name": "Python 3",
   "language": "python",
   "name": "python3"
  },
  "language_info": {
   "codemirror_mode": {
    "name": "ipython",
    "version": 3
   },
   "file_extension": ".py",
   "mimetype": "text/x-python",
   "name": "python",
   "nbconvert_exporter": "python",
   "pygments_lexer": "ipython3",
   "version": "3.7.4"
  }
 },
 "nbformat": 4,
 "nbformat_minor": 4
}
