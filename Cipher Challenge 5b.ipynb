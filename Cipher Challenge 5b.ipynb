{
 "cells": [
  {
   "cell_type": "code",
   "execution_count": null,
   "metadata": {},
   "outputs": [],
   "source": [
    "# Cipher Challenge 5b"
   ]
  },
  {
   "cell_type": "code",
   "execution_count": 1,
   "metadata": {},
   "outputs": [],
   "source": [
    "# OK, Im guessing that the clue: \"simple vigenere cipher with period two\" applies to 5b\n",
    "# I've written a better version of the function from the last part, which should hopefully \n",
    "# handle punctuation and spaces, if required.\n",
    "# It's a two way function: If optional parameter \"encode\" is set True, then it will encode instead.\n",
    "\n",
    "def vigenere(text, key, encode=False):\n",
    "    shifts = [ord(letter.upper()) - ord(\"A\") for letter in key]\n",
    "    key_length = len(key)\n",
    "    key_index = 0\n",
    "    for letter in text:\n",
    "        letter_val = ord(letter)\n",
    "        if letter.isupper():\n",
    "            offset = ord(\"A\")\n",
    "        elif letter.islower():\n",
    "            offset = ord(\"a\")\n",
    "        else:\n",
    "            print(letter, end=\"\")\n",
    "            continue\n",
    "\n",
    "        if encode:\n",
    "            shift = shifts[key_index]\n",
    "        else:\n",
    "            shift = -shifts[key_index]\n",
    "\n",
    "        print(chr((((letter_val - offset) + shift) % 26) + offset), end=\"\")\n",
    "        key_index = (key_index + 1) % key_length\n",
    "    print()"
   ]
  },
  {
   "cell_type": "code",
   "execution_count": 2,
   "metadata": {},
   "outputs": [
    {
     "name": "stdout",
     "output_type": "stream",
     "text": [
      "LXFOPVEFRNHR\n",
      "ATTACKATDAWN\n",
      "CSASTPKVSIQUTGQUCSASTPIUAQJB\n",
      "CRYPTOISSHORTFORCRYPTOGRAPHY\n",
      "dCode Vigenere automatically !\n"
     ]
    }
   ],
   "source": [
    "# Here are some tests, copied from Wikipedia and a few other websites:\n",
    "vigenere(\"ATTACKATDAWN\", \"LEMON\", encode=True)\n",
    "vigenere(\"LXFOPVEFRNHR\", \"LEMON\")\n",
    "vigenere(\"CRYPTOISSHORTFORCRYPTOGRAPHY\", \"abcd\", encode=True)\n",
    "vigenere(\"CSASTPKVSIQUTGQUCSASTPIUAQJB\", \"abcd\")\n",
    "vigenere(\"nGmni Tskcxipo esdskkxgmejvc !\", \"key\")\n"
   ]
  },
  {
   "cell_type": "code",
   "execution_count": 27,
   "metadata": {},
   "outputs": [],
   "source": [
    "# Looks good, OK lay the new message on me!\n",
    "message5b = \"\"\".sc wgmkaod rdjcvxok gri vybctbd fdjtzxt ek nwlhzkliwsq gljlgrqp bvsfpozwg djt vhhzgrpw cs vnmgwrgrX hvs ggzx W dfizs zzpoqwom tuw ic cpa awizpozwgz tuw ic dmaa hvs toN\n",
    ".psgv gvldoqta ic drop bbz uap wbdonzhjni rcr antf mvbnrsmu umqrbv o xnnw gbz gmudffqrx rzkqpI hvs ho bfsoua gqo sc eslfsu ob hzac smladpe txtqgwws sqc eahvS\n",
    ".arbqs-dt dvd umkdvdz mqou LL nnlwsO djt lqo denivghcnvrqdt X woznrA mkh gvoj huzvojdg nv dmlfs aepw gz vscm vbpuio ghjt mjosqbiv cs vuw wsr gnwhanu ytuodnC ?mfwvv kkxfsu nmhp dxap rh sk sq bzdmit zcg fnI ?dztunqqsO cdquckH epw bn inqqhgiit vo mqmurq rc nwqslqnmkd kcrcwom c ob hzacrmqztx ej Y bqwtiV sgv si gsbpadgo rc evlvbcm i gztqw gkk ,eneauina kad htD .yzwwterqf znttvrq djt bxc jqob wogv sqkh rcw bl hzjt lqo gencdz rvi oqwqwd oqwmvholz xd kkxfsu siz WHZ otocoC tikh jpipw cs wog wbzy svdwbktqoco tuW .vazgt oqwqgevlumg dvd umkmudffqrx hvs febdfsninqw cch wkk rtobdfdro bhwuqS nr gmqibfo djt ge rdnlqn bdgb myog flcrq rvuiqcqvsi hjztb mvsgV .ezhvououwo r’jtzds djt lhfdvnm-hf xghb vo dnulra deidusr pww uwdjt pwwv poqvwknok d ma fetowj vswpzz grmz gswavrfsua QA cknoxD sgv tikh qq sbqsfc tmljnU yj gssruzucb uae halcrorfo gcvdrhwg moicqm zdbtn X woznrA mkh schb zcmm ob xcx vniz hnp ol vfdvsip zzeiblznr rcR\n",
    ".rdgckxg rgiuhbd tuw hfnhej hahv fw ussvau d mkpo al hH .tan rg deaxv bh fetowj peme gzj evr cm vapw gswavrfsua zxc eq ltlyr fni bfdxaze sgv dvd gdkcvhuz atquibgs zxc eq sahbdxibfsehe mkh eq eaxobgb gobn ui bl rmc yiz g’ltap qw cgciod xndmwodrez qsdd eddv rvuiqcqvsi hjztb zxC .rw esdhqgvw rh rvrwitd utq qw QUSC hvs fii rh dtaj gwzn ezd gmclx uin fni ,uimqkqdP sc szhsmkgvh sgv ob bunnovkqdv rcr tn ukihz spabvbne ezd sqghB .vhmggi uwdjt ge rdvcmitzpu vhsa uap halcrorfo tavxz djt nr hqcp wQ\n",
    ".sbcpa qw deniqwlqd zlsgv tzhgrcez rh cpa mooqqm zxc xqrbvsc qt bsadvti qo mk yzwbtqc zxc eq tzdsg ghb qc jeabwo mc dmkqmwat hjzj ymkh vqN .mpaztgwud deaxv bvq rqhvs jtqz gt febqizv eddv cpa ieiB pi luoxmcie ftq nq gsooak zcm gri bsgv ,sifwqgmI hvs uswuqz poqwikqvmu umktvhanh dvd hrcE zdT djt avcqea zdk fpibucorua khhy tvhhmqc brB .mqiavwl tuw jbhaozwgdf dvd gswavrfsua zxc fpitowj va lhahc ,eodhndaa ic domiuuntp i qc cgkzdplg ythjhvci hjzj dvd ORCN gfbdia mfoou rcr rdvazwzhhnq hjzj sbhwuqS mkH :eneaww rgtquk xtobv ghjt nr smklldsg ghB\n",
    ":wgnR kzrM vgN mkh eq rwwwcg epw cS\"\"\""
   ]
  },
  {
   "cell_type": "code",
   "execution_count": 28,
   "metadata": {},
   "outputs": [],
   "source": [
    "# Well, it's quite clear that the \"little twist\" hinted at in 5a is that it's backwards.\n",
    "# Let's sort that out first, using Python's \"negative step\" array slicing trick\n",
    "message5b_reversed = message5b[::-1]"
   ]
  },
  {
   "cell_type": "code",
   "execution_count": 29,
   "metadata": {},
   "outputs": [
    {
     "name": "stdout",
     "output_type": "stream",
     "text": [
      "D : 97, R : 68, H : 61, S : 58, O : 51, N : 49, E : 45, A : 42, T : 42, Q : 41, \n",
      "M : 35, Z : 34, U : 34, W : 33, L : 32, K : 30, G : 30, V : 28, X : 27, I : 23, \n",
      "C : 20, B : 20, F : 16, P : 9, Y : 9, J : 8, \n",
      "---\n",
      "V : 77, C : 70, G : 62, W : 61, Q : 61, Z : 54, B : 53, I : 49, T : 37, M : 37, \n",
      "O : 36, P : 36, U : 36, J : 35, S : 35, H : 33, A : 32, F : 31, K : 21, N : 20, \n",
      "R : 17, D : 12, E : 12, X : 11, L : 9, Y : 4, "
     ]
    }
   ],
   "source": [
    "# Let's try frequency analysis on alternate letters (assuming that the \"period two clue\" is correct!)\n",
    "from collections import Counter\n",
    "\n",
    "def frequency_analysis(data):\n",
    "    frequencies = Counter()\n",
    "    for item in data:\n",
    "        frequencies[item] += 1\n",
    "    \n",
    "    column = 0\n",
    "    for item, frequency in frequencies.most_common():\n",
    "        print(f\"{item} : {frequency}\", end=\", \")\n",
    "        column += 1\n",
    "        if column % 10 == 0:\n",
    "            print()\n",
    "\n",
    "# Strip out punctuation and spaces\n",
    "letters = [letter for letter in message5b.upper() if letter.isalpha()]\n",
    "frequency_analysis(letters[::2]) # Even Characters\n",
    "print(\"\\n---\")\n",
    "frequency_analysis(letters[1::2]) # Odd Characters"
   ]
  },
  {
   "cell_type": "code",
   "execution_count": 44,
   "metadata": {},
   "outputs": [
    {
     "name": "stdout",
     "output_type": "stream",
     "text": [
      "To xbf sdixis cf tly Osw Ysll Dosx:\n",
      "Nis heexmwne sz uvis wnpfy wvcuss ixmfzf: Tly Tcviint vavi cotilxlbhed sos gpagy buengs OOSA ehe vavi udhivifz smbellsd or u qfogvunae oj mbpoteaf, oimix bh kipfjbg oyl bgtrshbits ehe resxlpmink ivf miwmjcn. Nsn dcntihu kitl mvdpovnjbg wel bqrowm uve Fel Fost ehe tomihuwng vywcluxcpb acvitg thi Unsrigut, hhec uss noa wbapeh co cur fudyyavx jb Cufu bbd hepf haurnfr us acuv thics cwn wjbqe pvihfamqy. Ocw tlyz vavi fbinclye on axnbqk or nis heelu cf oyl dcunxlz wn ar uuhemtn uc dewnscy oyl ncrapy bbd ts lfossilu hheml ecmiruoqe ir mqoce.\n",
      "Ri qort sz uve lyhbf prsasommi bbg beih vbafjydhed fs uveiv uhsntw. Nisre elf qonwnbbt liulg of sos heclhpzogc np hhe ihhwneilt ot Beclcnuv, uor ouv jmons elf zaih vbfe ts ujr thi OTGR ir cug efjishs ts iwsrteef is. Oyl cfavi uthroruvhs hepf peer lfdeaxyezy ppudsd ir bbfm’s auz ond mn jg onps cscaymf cf tly ftfegnjjenimt cf oyl tscuvcum agihdwes ehe hhe flbjerc uor skmfm cf oyl bgtrshbits xbbh no shf vas fyfb kipffr in wjbqe ss zbf. It mm pbly e gbhtev ig himi vftori ivf enigjss sywdsed.\n",
      "Sos dolmnjqal qutherw xp bot auoh yoy np ynoa niot tly Bdolpi Y zunel ncdupy hiidehds prsasommi qbg covlvdteh vz Govmyu ogernt cr tluu hhe Ejpzlo BC bgtrshbits ayss alqith kipffr by e wpzliwcpb wixb uveiv ixb sevpjqe msxvze aw nisy ri-yoherix uve eeluv’s axgpgphilf. Hhewy cfavi uthroruvhs csomr hazy csen ocmzed fs uve agnjcns sz Tcviin pderenpfs wli iod irzjztrenfr thi jscgregnwng ehe sngmhfsrira usamw. Ivf popcuwcieht kanx spi to xbjbk tluu Opopfp LII aut gtrywl py lmaihnira eirira jhs leooqh arx uvat mn xos tlct hhax npck oyn uve cshufol gcsquixlz. Put eml mouvmfzf, wls xculh u nochmhf os ahpbbceh ut hhe Wuuirn Z vf julrysobli np o naxosol plyocmerio os csgncn aw fjuhtrcou on xbf Tlovceo Percogule? Uor hoa fjyelc ct wt ts bbje biyo gtrywl hwigy? Dzeavfz gomiios sex ivh to wucctaky uvis puvbch noth as xbfm trmye ho sevphagi vphh tly Bdolpi Y fecshooiswuoqe arx uve Atimzo XM gpcn lehewng ehe fe-ernsm.\n",
      "Thimf ore tixsrfyf fbemmyt obli np gtrmef ot ars bgpegn pt thi Uqclls jscgregns anh iozy a wnscng vytdonwy gfom sos uoviloaenx bbg anc bpde oj mucppmhh hheq.\n",
      "Zpf thi mbye oj ivf asxlpbauxm bbd oj ivf naxcpbal tljre I ylhs thi Jsssihyoh to xbssatih uve sxlpbgewn qcssmvms rexumwatmio wf fyluver enuockw uss layhdved eabwnsx ot.\n"
     ]
    }
   ],
   "source": [
    "vigenere(message5b_reversed, \"zo\")"
   ]
  },
  {
   "cell_type": "code",
   "execution_count": null,
   "metadata": {},
   "outputs": [],
   "source": []
  }
 ],
 "metadata": {
  "kernelspec": {
   "display_name": "Python 3",
   "language": "python",
   "name": "python3"
  },
  "language_info": {
   "codemirror_mode": {
    "name": "ipython",
    "version": 3
   },
   "file_extension": ".py",
   "mimetype": "text/x-python",
   "name": "python",
   "nbconvert_exporter": "python",
   "pygments_lexer": "ipython3",
   "version": "3.7.4"
  }
 },
 "nbformat": 4,
 "nbformat_minor": 4
}
