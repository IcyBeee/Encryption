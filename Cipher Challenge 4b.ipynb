{
 "cells": [
  {
   "cell_type": "markdown",
   "metadata": {},
   "source": [
    "# Cipher Challenge 4b\n",
    "## Notes so far\n",
    "### See https://www.cipherchallenge.org/challenge/competition-challenge-4/ for the challenge"
   ]
  },
  {
   "cell_type": "markdown",
   "metadata": {},
   "source": [
    "Challenge 4a gave me this clue:\n",
    "\"i think we should use a simple vigenere cipher with period two for our next message. i have encrypted the attached re-entry report using a columnar transposition cipher\"\n",
    "\n",
    "Is challenge 4B the next message, or is it the attached report?"
   ]
  },
  {
   "cell_type": "code",
   "execution_count": 2,
   "metadata": {},
   "outputs": [
    {
     "name": "stdout",
     "output_type": "stream",
     "text": [
      "  : 460\n",
      "E : 285\n",
      "T : 237\n",
      "I : 182\n",
      "O : 171\n",
      "A : 160\n",
      "R : 159\n",
      "S : 137\n",
      "H : 134\n",
      "N : 134\n",
      "L : 109\n",
      "D : 87\n",
      "C : 80\n",
      "U : 72\n",
      "M : 59\n",
      "F : 57\n",
      "P : 52\n",
      "G : 45\n",
      "B : 34\n",
      "Y : 33\n",
      "V : 29\n",
      "W : 21\n",
      "J : 7\n",
      "K : 7\n",
      "X : 6\n",
      "Q : 6\n"
     ]
    }
   ],
   "source": [
    "# Define the message\n",
    "message = \"OOHSE ERRWC OITUE IEHPI ELTIN FUTVE OGNRT WDENI IETIG COATO TIETR CLTLR SESEB HCEOT EOTDO NHNET TECNS NCVTA ITTUE EUITL AUOTR YDHTL HNURC RITIO AFCMA DVSES ATIJS TTHNB DOANT TEEEA ETHAH ILRGE IEEGY NDFTO FREOS KNAHS RLELS TDOOD AFLII IAARN HELBY EEHLH LGHSC THTBO IUNPT ELTRL TESMS IGPTD AEECR AEUDC OLONS EGOFA CVALM TBLJN BOHIO AIRNH TMPES RAFAB ARDGM OEXTE SRIGH LSEDE RPNGR TEIDE BOIOW RSOIL TASRN JRHMT FOTTG NSLHC DSHIT RTESL IHNCI WNOPR YEATL SIETE UOYAE EOTGQ FNTLS MNEFN RABLW CMUEY HIREE IDEDU TTNNT AOSSN LRNLA RBAHN HOERN HDTLO EMDLN NQFIH EECIR FAUAR MAPAO EREME EHSSG SPVRY EDETI IRTEO LYESH SIWCK HNTCO MHSFI OICEL EICOA DWLOU TCBHE ORRAT CPELR EORPH AFAOE TSNFI TRSIE TYNMI AENTH ILAOV TMHHU LICAP EIRPE LHEOT FAFDO LRSHH YHARE QEHDF PIYTH OISTS OJRMT RUNEB HUHIR LENTL OEILS TICEA YTUNN ITNNE AOTNE IGNEI SIRLM PAHHS ETDCR HNHAR THMWN FRFCS IDIEO IDIEE AVOER OELSE DDHRT TTTSE EHNNS IRIDP NOIIE PUORU EHDET TEOIG UTUYT OODIE EODCH REHHS EAOFM LEHWV SRTRH TSENA NIPTV SRISH OEDRE LTMTD TOUID EYERA TSERR LNHEG MAEEL SETSA IDTLT ETDOI HLFPR GAECE OPLHN TAOIE AEMVN PHOSP TIAPL NGSIE RTCOE HOPHL TUDLF EKDSC EGEIF ARTTL TRUTE PTENA IRCAI TEAUH EFSEA BIDAT TTMUU MIIOT VLPPG YCRTO EOCSA OVRRP AIEIA LAAQN EVFNO TRTNR IMFVA GINFR FRMMB NEUUA UTACN DATIL MURCR DCOTA LGNSA OYRNL HLMET BRDTL RIMFT NTGNT TUTEO EYOHI BWCAE DHEEE CNTEU AYIRT ONNCI ITECL TEHET PTRPU EHMHL NROEY ANSEV RDCAL STTUB EUSCT PESGO NEHMN COEIE DLSHW UCLNT AIEEI ASITI EUTSG OAFCE ESEAE ULHVH EFEHH AARON IOFAE ORSAO EIIAU NAIST LOTHU ITAOT TNUNO PNRSE NEIHO NJIPY GTPLB EHOEO EOSST NHXHT CEETR BAIIL ATYTI DTNMB EUEYF XBPSF LSEER OEIIE ASEHY EIOEI LADAO FSESE TSFRO NRNRN TEVUO OEYOI SIHMU NEAEC SUEOT LEJAE ENELE BEGDE NDOGS OEKMH RDATR TEYHN EDEHN ROVQR RWOMR OAACL OHACN HPGIM GUEBS TITCI TCRLN TIHIP EUMUS ASOEK AAIEM LTNCO DSAER NHHNL EURGO AUIRT HGVWB SEARH HOCNL IOSRT OFMHH ETETT SLTCE OTCOD LIMNE AEHTV YWBSI SSSEH HAPLS MIRHE AFASE OTIRI RTTLE AYHTU DREDT TFSIB NOITA TSSEO DHEPA XLAPF RCVSN IRAED HROOS MOYPG RMECH WSSEA HTRHC CRRFL EPNME VEENE SAWEE EUESS RDTTH RDOIS TMDIE HRNLB UVOOH XEDWE SODAR NNVOE INOWV ASTTI OLOAD LTALN HTEUN EETOT POTSD MRRLT PIETS OWCND HAANX FIRNS EHUAR TTNTR CMNHA WVICT HGCBC IAIUT DVOIT SAUKA ENCEH DUAPA EEOOF MITCR IILTS ERSLI ATCIH RDOCE GALTS CINDL AORPT DDHTT OEGES OFGIC OIIOV FGMET RISIS YIDTA RLERR GISEU ULCME ETNIT LAETU SBTIT JMTYO FNSAT EEIEA ONHST TELAO TFTNY EHWTO SASOC ITTAE AOLPL EOCHL TRICS PNHGU BTOIE ODITT IVRII OORRP EOOMQ NBRTS HUSTO RRTEI AECLT IOTAT EFNRT AEHDN RMUAT TUBDI RDTFE RSTRO EIITS HEDOT REIMT MHEOO HUEID GTHBM AUCTE IOTHE ALOAP AEIES MSLAD ENKFT POICP IHREA FCOMH LRLIE FFAYN DURSD AYDLD OAHGP ERIRN RSGAI SANFD OOEUL EGICR RNIOL IILFR ARREN IAMAE SETNG UNAIO ORTOI RSTSF UEOBH ARSRI EDANN DDCHL IST\"\n",
    "\n",
    "# Try frequency analysis on the letters (the spaces are not real, so there's no words to analyse)\n",
    "from collections import Counter\n",
    "\n",
    "def frequency_analysis(data):\n",
    "    frequencies = Counter()\n",
    "    for item in data:\n",
    "        frequencies[item] += 1\n",
    "    \n",
    "    for item, frequency in frequencies.most_common():\n",
    "        print(f\"{item} : {frequency}\")\n",
    "        \n",
    "\n",
    "frequency_analysis(message)"
   ]
  },
  {
   "cell_type": "markdown",
   "metadata": {},
   "source": [
    "\"E\" is the most frequent?  I don't think this result is useful.\n"
   ]
  }
 ],
 "metadata": {
  "kernelspec": {
   "display_name": "Python 3",
   "language": "python",
   "name": "python3"
  },
  "language_info": {
   "codemirror_mode": {
    "name": "ipython",
    "version": 3
   },
   "file_extension": ".py",
   "mimetype": "text/x-python",
   "name": "python",
   "nbconvert_exporter": "python",
   "pygments_lexer": "ipython3",
   "version": "3.7.4"
  }
 },
 "nbformat": 4,
 "nbformat_minor": 4
}
