{
 "cells": [
  {
   "cell_type": "markdown",
   "metadata": {},
   "source": [
    "# Cipher Challenge 5a"
   ]
  },
  {
   "cell_type": "code",
   "execution_count": 8,
   "metadata": {},
   "outputs": [],
   "source": [
    "# Apparently this message will use a \"simple vigenere cipher with period two\"\n",
    "# Read all about it here: https://en.wikipedia.org/wiki/Vigen%C3%A8re_cipher\n",
    "# Let's have a crack at writing a decoder function for that\n",
    "# If there is a period of two, then what we essentially have is two Caesar ciphers, alternating with each letter\n",
    "import string\n",
    "\n",
    "def decode(message, key1, key2):\n",
    "    table1 = str.maketrans(string.ascii_uppercase, key1)\n",
    "    table2 = str.maketrans(string.ascii_uppercase, key2)\n",
    "    message = message.upper().replace(\" \", \"\")\n",
    "    message1 = message[::2].translate(table1)\n",
    "    message2 = message[1::2].translate(table2)\n",
    "    if len(message1) > len(message2):\n",
    "        message2 += \".\"\n",
    "    for index in range(len(message1)):\n",
    "        print(message1[index], end=\"\")\n",
    "        print(message2[index], end=\"\")\n",
    "    "
   ]
  },
  {
   "cell_type": "code",
   "execution_count": 11,
   "metadata": {},
   "outputs": [
    {
     "name": "stdout",
     "output_type": "stream",
     "text": [
      "AbCdEfGhIjKlMn"
     ]
    }
   ],
   "source": [
    "# Give it a test\n",
    "decode(\"abcdefghijklmn\", string.ascii_uppercase, string.ascii_lowercase)"
   ]
  },
  {
   "cell_type": "code",
   "execution_count": 10,
   "metadata": {},
   "outputs": [],
   "source": [
    "# I'll need to do frequency analysis, so here's that function again.  This time saving some vertical space!\n",
    "from collections import Counter\n",
    "\n",
    "def frequency_analysis(data):\n",
    "    frequencies = Counter()\n",
    "    for item in data:\n",
    "        frequencies[item] += 1\n",
    "    \n",
    "    column = 0\n",
    "    for item, frequency in frequencies.most_common():\n",
    "        print(f\"{item} : {frequency}\", end=\", \")\n",
    "        column += 1\n",
    "        if column % 10 == 0:\n",
    "            print()"
   ]
  },
  {
   "cell_type": "code",
   "execution_count": 1,
   "metadata": {},
   "outputs": [],
   "source": [
    "# A proper Vignere function\n",
    "def vigenere(text, key, encode=False):\n",
    "    text = text.upper().replace(\" \", \"\")\n",
    "    key = key.upper()\n",
    "    key_length = len(key)\n",
    "    for index in range(len(text)):\n",
    "        shift = ord(key[index % key_length]) - 65\n",
    "        if not encode:\n",
    "            shift = -shift\n",
    "        print(chr((((ord(text[index]) - 65) + shift) % 26) + 65), end=\"\")\n",
    "    print()\n"
   ]
  },
  {
   "cell_type": "code",
   "execution_count": 2,
   "metadata": {},
   "outputs": [
    {
     "name": "stdout",
     "output_type": "stream",
     "text": [
      "LXFOPVEFRNHR\n",
      "ATTACKATDAWN\n",
      "CSASTPKVSIQUTGQUCSASTPIUAQJB\n",
      "CRYPTOISSHORTFORCRYPTOGRAPHY\n"
     ]
    }
   ],
   "source": [
    "# Some tests (from the Wikipedia examples)\n",
    "vigenere(\"ATTACKATDAWN\", \"LEMON\", encode=True)\n",
    "vigenere(\"LXFOPVEFRNHR\", \"LEMON\")\n",
    "vigenere(\"CRYPTOISSHORTFORCRYPTOGRAPHY\", \"abcd\", encode=True)\n",
    "vigenere(\"CSASTPKVSIQUTGQUCSASTPIUAQJB\", \"abcd\")"
   ]
  },
  {
   "cell_type": "code",
   "execution_count": 1,
   "metadata": {},
   "outputs": [],
   "source": [
    "# The message\n",
    "message5a = \"VSGGP BWYRV SHIJG CRADJ IIDOR GRSZZ PJHRT JZTDZ ZDMWC UVWHG REDGI IDPDJ SODJI IVRSE DZZDN WCRSG BWHHV RVSHI JGCRA JESCJ BORGD TDIVR GLDBE JIRGG REDGI HVWCI WCUSI EDHHW OZRHS ODISU RSIIR BEIHD CKWWW IVGDJ UVNWW HDBRD TIVRB MRSZG RSAPY CRMSO DJIIV RUJWA SCLRE GDOZR BHMWI VSEDZ ZDNSC AIVRE GDUGS BBRSZ SGBHS CAARH LRCII GSXRL IDGPE GDOZR BHDCN WOJIV RSZHD HVDMR ABRHD BRTWZ RHTGD BIVRO JWZAW CUSCA BSWCI RCSCL RZDUH TDGIV RTJIJ GRSED ZZDTZ RRISC AEDWC IRADJ IHDBR MDGGP WCUZS EHRHW CESGI WLJZS GIVRG RWHSU SEWCI VRGRL DGAHD TIVRS EDZZD NWWWH RGKWL RBDAJ ZRHDM RSGRG JCCWC USTRM LVRLY HORTD GRSHH RBOZP IDBSY RHJGR RKRGP IVWCU WHDYS PORTD GRZSJ CLVBP TWGHI WCHIW CLIMS HIDEZ SLRRK RGPIV WCUDC VDZAM VWZRM RIGSL YRAAD MCIVR HSODI RJGOJ IIVRM VDZRO JWZAW CUZSJ CLVEG DLRHH WHSTW CRIJC RABSL VWCRS CAWSB MDGGW RAIVS IWTMR AWHGJ EIWII VRCMR BWUVI LSJHR BDGRE GDOZR BHWCE SGIWL JZSGW IMWZZ ORRSH WRGID ARIRL IJCRN ERLIR AORVS KWDJG WTMRY CDMRN SLIZP MVSII DRNER LIBWY RWHGR SZZPM DGGWR AIVSI IVRHD KWRIH LDJZA VSKRW CTWZI GSIRA IVREG DUGSB VRVSH CRKRG TDGUW KRCIV RBTDG IVRAR SIVDT VWHHD CMVDM SHHVD IADMC OPSBW UDKRG IVRYD GRSCE RCWCH JZSWS BVDEW CUIVS IVWHU GWRTM WZZAG WKRVW BIDVR ZEJHU RIIDI VRODI IDBDT IVWHB PHIRG PTDGC DMMRV SKRSC DIVRG EGDOZ RBBPI RSBSI ZSCUZ RPMRG RIWEE RADTT OPSXD JGCSZ WHISI IVRCR MPDGY EDHIS ODJIS CRCLG PEIRA ZRIIR GHRCI IDIVR CRMHA RHYIV RGRWI LSBRM WIVSL DKRGC DIRMV WLVHS WAIVS IIVRL WEVRG YRPMD JZAOR EJOZW HVRAW CIVRM SCIRA SAHOJ IIVRG RSGRS ZDIDT IVDHR HEGRS ADKRG VJCAG RAHDT CRMHE SERGH SCAIV RRAWI DGAWA CIMSC IIDAR KDIRV DJGHD THIST TIWBR IDIGS LYWCU ADMCI VRSAK RGIWI VWCYV RSHHJ BRAWI MSHXJ HISCD IVRGL GSLYE DISII RCIWD CHRRY RGOJI XJHIW CLSHR VRSHY RAIVR XDJGC SZWHI IDIGP OGRSY WCUIV RLWEV RGVRG HRZTH VRGRL DUCWH RAWIS HSKWU RCRGR LWEVR GOJIW ILSBR MWIVS ZWIIZ RIMWH IIVSI HVRLD JZACD ITWUJ GRDJI HDHVR HRCIW IIDHD BRDCR HVRYC RMWCI VRLWS DCLRI VRPLG SLYRA WIIVR PGRSZ WHRAM VSIWI MSHSC AHRCI WIDCI DBRIV RZRII RGLDC ISWCH ARISW ZHDTH DBRDT IVRRK RCIHM RVSKR ORRCW CKRHI WUSIW CUSCA OZSBR HIVRH DKWRI HTDGI VRBWI MDJZA VSKRO RRCAP CSBWI RWTWI VSAOR RCEJO ZWHVR AHDWI WHXJH ISHMR ZZMRM RGRSO ZRIDH IDEWI SIHDJ GLRIV RXDJG CSZWH IMSHE RGHJS ARAID IRZZV RGODH HIVSI IVRLW EVRGL DJZAC IORLG SLYRA OJIWC RNLVS CURMR DMRVR GSCRN LZJHW KRSII VRRCA DTSZZ DTIVW HSZZI VRORH IBRU\"\n"
   ]
  },
  {
   "cell_type": "code",
   "execution_count": 11,
   "metadata": {},
   "outputs": [
    {
     "name": "stdout",
     "output_type": "stream",
     "text": [
      "  : 384, R : 266, I : 203, D : 142, S : 138, W : 130, H : 118, V : 113, G : 112, C : 106, \n",
      "Z : 78, A : 66, J : 61, M : 51, L : 50, B : 48, E : 45, O : 40, T : 39, U : 31, \n",
      "P : 26, K : 23, Y : 21, N : 10, X : 7, "
     ]
    }
   ],
   "source": [
    "frequency_analysis(message5a)"
   ]
  },
  {
   "cell_type": "code",
   "execution_count": 30,
   "metadata": {},
   "outputs": [
    {
     "name": "stdout",
     "output_type": "stream",
     "text": [
      "harrymikehasturnedouttobereallyusefulfollowinghisreporttoyouabouttheapolloxinearmisshehasturnedupanumberofothercomputerreportshintingatpossiblesabotageattemptsonviiithroughxiisomeofthemwealreadyknewabouttheguidanceproblemswithapolloxandtheprogrammealarmsanddescenttrajectoryproblemsonxibuthealsoshowedmesomefilesfromthebuildingandmaintenancelogsforthefutureapollofleetandpointedoutsomeworryinglapsesinparticularthereisagapintherecordsoftheapolloxiiiservicemodulesowearerunningafewchecksbeforeassemblytomakesureeverythingisokaybeforelaunchmyfirstinstinctwastoplaceeverythingonholdwhilewetrackeddownthesaboteurbutthewholebuildinglaunchprocessisafinetunedmachineandiamworriedthatifwedisruptitthenwemightcausemoreproblemsinparticularitwillbeeasiertodetectunexpectedbehaviourifweknowexactlywhattoexpectmikeisreallyworriedthatthesovietscouldhaveinfiltratedtheprogramhehasneverforgiventhemforthedeathofhissonwhowasshotdownbyamigoverthekoreanpeninsulaiamhopingthathisgriefwilldrivehimtohelpusgettothebottomofthismysteryfornowwehaveanotherproblemmyteamatlangleyweretippedoffbyajournalistatthenewyorkpostaboutanencryptedlettersenttothenewsdeskthereitcamewithacovernotewhichsaidthatthecipherkeywouldbepublishedinthewantedadsbuttherearealotofthosespreadoverhundredsofnewspapersandtheeditordidntwanttodevotehoursofstafftimetotrackingdowntheadvertithinkheassumeditwasjustanothercrackpotattentionseekerbutjustincaseheaskedthejournalisttotrybreakingthecipherherselfsherecogniseditasavigenerecipherbutitcamewithalittletwistthatshecouldnotfigureoutsoshesentittosomeonesheknewintheciaoncetheycrackedittheyrealisedwhatitwasandsentitontomethelettercontainsdetailsofsomeoftheeventswehavebeeninvestigatingandblamesthesovietsforthemitwouldhavebeendynamiteifithadbeenpublishedsoitisjustaswellwewereabletostopitatsourcethejournalistwaspersuadedtotellherbossthattheciphercouldntbecrackedbutinexchangeweoweheranexclusiveattheendofallofthisallthebestmeg\n"
     ]
    }
   ],
   "source": [
    "# OK - looks like I was wasting time with the vignere stuff.  This is just another straight substitution cipher!\n",
    "# Go through the motions again, starting with e(R), t(I), then figuring out h and looking for recognisable words...\n",
    "\n",
    "import string\n",
    "\n",
    "def decode(text, key):\n",
    "    table = str.maketrans(string.ascii_uppercase, key)\n",
    "    print(text.upper().translate(table))\n",
    "\n",
    "decode(message5a.replace(\" \", \"\"), \"dmnopqrstuvcwxbyzeafghijkl\")"
   ]
  },
  {
   "cell_type": "markdown",
   "metadata": {},
   "source": [
    "### Edited version for readability...\n",
    "\n",
    "Harry,\n",
    "Mike has turned out to be really useful following his report to you about the Apollo XI near miss. He has turned up a number of other computer reports hinting at possible sabotage attempts on VIII through XII. Some of them we already knew about, the guidance problems with Apollo X and the programme alarms and descent trajectory problems on XI, but he also showed me some files from the building and maintenance logs for the future Apollo fleet and pointed out some worrying lapses in particular there is a gap in the records of the Apollo XIII service module, so we are running a few checks before assembly to make sure everything is okay before launch. My first instinct was to place everything on hold while we tracked down the saboteur, but the whole building launch process is a fine tuned machine and I am worried that if we disrupt it then we might cause more problems. In particular, it will be easier to detect unexpected behaviour if we know exactly what to expect. Mike is really worried that the Soviets could have infiltrated the program. He has never forgiven them for the death of his son who was shot down by a MIG over the Korean peninsula. I am hoping tha this grief will drive him to help us get to the bottom of this mystery. For now, we have another problem; my team at Langley were tipped off by a journalist at the New York Post about an encrypted letter sent to the newsdesk there. It came with a cover note, which said that the cipher key would be published in the wanted ads, but there are a lot of those spread over hundreds of newspapers and the editor didn't want to devote hours of staff time to tracking down the advert. I think he assumed it was just another crackpot attention seeker, but just in case he asked the journalist to try breaking the cipher herself. She recognised it as a Vigenere cipher, but it came with a little twist that she could not figure out, so she sent it to someone she knew in the CIA. Once they cracked it, they realised what it was and sent it on to me. The letter contains details of some of the events we have been investigating and blames the Soviets. For them it would have been dynamite if it had been published, so it is just as well we were able to stop it at source. The journalist was persuaded to tell her boss that the cipher couldn't be cracked, but in exchange we owe her an exclusive at the end of all of this.\n",
    "All the best,\n",
    "Meg\n"
   ]
  },
  {
   "cell_type": "markdown",
   "metadata": {},
   "source": [
    "### Postscript\n",
    "The key:\n",
    "ABCDEFGHIJKLMNOPQRSTUVWXYZ\n",
    "dmnopqrstuvcwxbyzeafghijkl\n",
    "\n",
    "Letters out of place are d,c,b,e,a, which correspond to SOLAR."
   ]
  },
  {
   "cell_type": "code",
   "execution_count": null,
   "metadata": {},
   "outputs": [],
   "source": []
  }
 ],
 "metadata": {
  "kernelspec": {
   "display_name": "Python 3",
   "language": "python",
   "name": "python3"
  },
  "language_info": {
   "codemirror_mode": {
    "name": "ipython",
    "version": 3
   },
   "file_extension": ".py",
   "mimetype": "text/x-python",
   "name": "python",
   "nbconvert_exporter": "python",
   "pygments_lexer": "ipython3",
   "version": "3.7.4"
  }
 },
 "nbformat": 4,
 "nbformat_minor": 4
}
