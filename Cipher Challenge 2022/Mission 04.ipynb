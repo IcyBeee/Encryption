{
 "cells": [
  {
   "cell_type": "markdown",
   "metadata": {},
   "source": [
    "# Cipher Challenge 2022\n",
    "### Challenge 4\n",
    "\n",
    "Challenge link https://www.cipherchallenge.org/challenge/challenge-3-2/"
   ]
  },
  {
   "cell_type": "code",
   "execution_count": 1,
   "metadata": {},
   "outputs": [],
   "source": [
    "# Part A - \"Room service\"\n",
    "part_a_text = \"\"\"F YMSIZ CAR SQAZ RM RDA DFCD YIKQQ DMRAI IFBA, ESR F YMSIZ LATAP CAR SQAZ RM NKWFLC BMP FR, QM F RDMSCDR FR UKQ K IFRRIA RMM CMMZ RM EA RPSA UDAL F BMSLZ RDA QSFRA MNNMQFRA RM GMZFA SLMYYSNFAZ KLZ SLIMYHAZ. F ZFZL’R AVNAYR RM EA KEIA RM QRKW DAPA SLZARAYRAZ BMP TAPW IMLC KLZ UKQ NIKLLFLC JW LAVR JMTA UDAL RDA EAII DMN KPPFTAZ UFRD K DMR JAKI KLZ K LMRA.\n",
    "DMRAIQ ZML’R SQSKIIW BAAZ WMS EABMPA RDPMUFLC WMS MSR, QM RDFQ UKQ NPMEKEIW GSQR K JFQRKHAL PMMJ LSJEAP, ESR F ZFZL’R UKLR RM ZPKU JMPA KRRALRFML RM JWQAIB RDKL F DKZ RM, QM F NKFZ K RFN (BFBRAAL NAPYALR - KLW JMPA MP IAQQ UMSIZ EA JAJMPKEIA) KLZ QKR ZMUL RM ALGMW FR.\n",
    "\n",
    "F ZFZL’R LMRFYA RDKR RDA LMRA PAKIIW UKQ KZZPAQQAZ RM JA SLRFI F DKZ BFLFQDAZ. GSQR MLA UMPZ ML RDA ALTAIMNA: EMQQ.\n",
    "KR BFPQR CIKLYA F KQQSJAZ F DKZ EAAL RPKYHAZ ZMUL EW JW QSNAPFMPQ KLZ RDKR RDFQ UKQ JW PAYKII, ESR GSQR KQ DMRAIQ ZML’R BAAZ ZAKZEAKRQ, QNW YDFABQ ZML’R NKW BMP PMMJ QAPTFYA FL NIKYAQ IFHA RDFQ, QM RDKR DKZ RM EA UPMLC. F QDMSIZ DKTA PAYMCLFQAZ RDA DKLZUPFRFLC.\n",
    "RDA LMRA UKQ BPMJ GMZFA, KLZ KQ UA DKZ CSAQQAZ, QDA HLAU F UKQ DAPA. FR ZFZL’R QKW JSYD KNKPR BPMJ RDKR, ESR F CSAQQ QDA JFCDR QKW JMPA KR ZFLLAP. \"\"\""
   ]
  },
  {
   "cell_type": "code",
   "execution_count": 4,
   "metadata": {},
   "outputs": [
    {
     "name": "stdout",
     "output_type": "stream",
     "text": [
      "A: 106 (11.91%) R: 93 (10.45%) M: 78 (8.76%) K: 65 (7.30%) F: 59 (6.63%)\n",
      "Q: 59 (6.63%) L: 58 (6.52%) Z: 56 (6.29%) D: 44 (4.94%) P: 39 (4.38%)\n",
      "S: 33 (3.71%) I: 33 (3.71%) U: 21 (2.36%) J: 21 (2.36%) E: 19 (2.13%)\n",
      "W: 19 (2.13%) Y: 18 (2.02%) N: 17 (1.91%) C: 16 (1.80%) B: 16 (1.80%)\n",
      "T:  7 (0.79%) G:  6 (0.67%) H:  5 (0.56%) V:  2 (0.22%) \n",
      "-----\n"
     ]
    }
   ],
   "source": [
    "from collections import Counter\n",
    "\n",
    "# Takes a string or list of items and counts the frequencies of those items\n",
    "# data: The list or string to analyse\n",
    "# max_values: The maximum number of values to display (set to None for no limit)\n",
    "# no_columns: The amount of columns to use in the output\n",
    "def frequency_analysis(data, max_values=30, no_columns=5):\n",
    "    frequencies = Counter()\n",
    "    for item in data:\n",
    "        frequencies[item] += 1\n",
    "    \n",
    "    total = sum(frequencies.values())\n",
    "    column = 1\n",
    "    for item, frequency in frequencies.most_common(max_values):\n",
    "        print(f\"{item}: {frequency:2} ({frequency / total:.2%})\", end=\" \" if column % no_columns else \"\\n\")\n",
    "        column += 1\n",
    "    print(\"\\n-----\")\n",
    "\n",
    "letters = (l for l in part_a_text if l.isalpha())\n",
    "frequency_analysis(letters)"
   ]
  },
  {
   "cell_type": "code",
   "execution_count": 5,
   "metadata": {},
   "outputs": [],
   "source": [
    "# Bring in the basic decoder function\n",
    "import string\n",
    "\n",
    "# A simple translation method.\n",
    "# text: The text to translate, in upper case\n",
    "# key: A substitution alphabet, usually in lower case so that the translated characters show up\n",
    "def decode(text, key):\n",
    "    table = str.maketrans(string.ascii_uppercase, key)\n",
    "    print(text.upper().translate(table))"
   ]
  },
  {
   "cell_type": "code",
   "execution_count": 11,
   "metadata": {},
   "outputs": [
    {
     "name": "stdout",
     "output_type": "stream",
     "text": [
      "i YMSIZ Cet SQeZ tM the hiCh YIKQQ hMteI IiBe, ESt i YMSIZ neTeP Cet SQeZ tM NKWinC BMP it, QM i thMSCht it UKQ K IittIe tMM CMMZ tM Ee tPSe Uhen i BMSnZ the QSite MNNMQite tM GMZie SnMYYSNieZ KnZ SnIMYHeZ. i ZiZn’t eVNeYt tM Ee KEIe tM QtKW hePe SnZeteYteZ BMP TePW IMnC KnZ UKQ NIKnninC JW neVt JMTe Uhen the EeII hMN KPPiTeZ Uith K hMt JeKI KnZ K nMte.\n",
      "hMteIQ ZMn’t SQSKIIW BeeZ WMS EeBMPe thPMUinC WMS MSt, QM thiQ UKQ NPMEKEIW GSQt K JiQtKHen PMMJ nSJEeP, ESt i ZiZn’t UKnt tM ZPKU JMPe KttentiMn tM JWQeIB thKn i hKZ tM, QM i NKiZ K tiN (BiBteen NePYent - KnW JMPe MP IeQQ UMSIZ Ee JeJMPKEIe) KnZ QKt ZMUn tM enGMW it.\n",
      "\n",
      "i ZiZn’t nMtiYe thKt the nMte PeKIIW UKQ KZZPeQQeZ tM Je SntiI i hKZ BiniQheZ. GSQt Mne UMPZ Mn the enTeIMNe: EMQQ.\n",
      "Kt BiPQt CIKnYe i KQQSJeZ i hKZ Eeen tPKYHeZ ZMUn EW JW QSNePiMPQ KnZ thKt thiQ UKQ JW PeYKII, ESt GSQt KQ hMteIQ ZMn’t BeeZ ZeKZEeKtQ, QNW YhieBQ ZMn’t NKW BMP PMMJ QePTiYe in NIKYeQ IiHe thiQ, QM thKt hKZ tM Ee UPMnC. i QhMSIZ hKTe PeYMCniQeZ the hKnZUPitinC.\n",
      "the nMte UKQ BPMJ GMZie, KnZ KQ Ue hKZ CSeQQeZ, Qhe HneU i UKQ hePe. it ZiZn’t QKW JSYh KNKPt BPMJ thKt, ESt i CSeQQ Qhe JiCht QKW JMPe Kt ZinneP. \n"
     ]
    }
   ],
   "source": [
    "# \"RDA\" -> R=t, D=h, A=e\n",
    "# \"ZFZL’R\" -> L=n\n",
    "# \"F\" -> F=i\n",
    "decode(part_a_text, \"eBChEiGHIJKnMNOPQtSTUVWXYZ\")"
   ]
  },
  {
   "cell_type": "code",
   "execution_count": 12,
   "metadata": {},
   "outputs": [
    {
     "name": "stdout",
     "output_type": "stream",
     "text": [
      "i YoulZ get useZ to the high Ylass hotel liBe, Eut i YoulZ neTeP get useZ to NaWing BoP it, so i thought it Uas a little too gooZ to Ee tPue Uhen i BounZ the suite oNNosite to GoZie unoYYuNieZ anZ unloYHeZ. i ZiZn’t eVNeYt to Ee aEle to staW hePe unZeteYteZ BoP TePW long anZ Uas Nlanning JW neVt JoTe Uhen the Eell hoN aPPiTeZ Uith a hot Jeal anZ a note.\n",
      "hotels Zon’t usuallW BeeZ Wou EeBoPe thPoUing Wou out, so this Uas NPoEaElW Gust a JistaHen PooJ nuJEeP, Eut i ZiZn’t Uant to ZPaU JoPe attention to JWselB than i haZ to, so i NaiZ a tiN (BiBteen NePYent - anW JoPe oP less UoulZ Ee JeJoPaEle) anZ sat ZoUn to enGoW it.\n",
      "\n",
      "i ZiZn’t notiYe that the note PeallW Uas aZZPesseZ to Je until i haZ BinisheZ. Gust one UoPZ on the enTeloNe: Eoss.\n",
      "at BiPst glanYe i assuJeZ i haZ Eeen tPaYHeZ ZoUn EW JW suNePioPs anZ that this Uas JW PeYall, Eut Gust as hotels Zon’t BeeZ ZeaZEeats, sNW YhieBs Zon’t NaW BoP PooJ sePTiYe in NlaYes liHe this, so that haZ to Ee UPong. i shoulZ haTe PeYogniseZ the hanZUPiting.\n",
      "the note Uas BPoJ GoZie, anZ as Ue haZ guesseZ, she HneU i Uas hePe. it ZiZn’t saW JuYh aNaPt BPoJ that, Eut i guess she Jight saW JoPe at ZinneP. \n"
     ]
    }
   ],
   "source": [
    "# \"hiCh\" -> C=g\n",
    "# \"hMteI\" -> M=o, I=l\n",
    "# \"QM i thMSCht it UKQ K IittIe tMM\" -> Q=s, S=u, U=w, K=a\n",
    "decode(part_a_text, \"eBghEiGHlJanoNOPstuTUVWXYZ\")"
   ]
  },
  {
   "cell_type": "code",
   "execution_count": 13,
   "metadata": {},
   "outputs": [
    {
     "name": "stdout",
     "output_type": "stream",
     "text": [
      "i could get used to the high class hotel life, but i could never get used to paying for it, so i thought it was a little too good to be true when i found the suite opposite to jodie unoccupied and unlocked. i didn’t expect to be able to stay here undetected for very long and was planning my next move when the bell hop arrived with a hot meal and a note.\n",
      "hotels don’t usually feed you before throwing you out, so this was probably just a mistaken room number, but i didn’t want to draw more attention to myself than i had to, so i paid a tip (fifteen percent - any more or less would be memorable) and sat down to enjoy it.\n",
      "\n",
      "i didn’t notice that the note really was addressed to me until i had finished. just one word on the envelope: boss.\n",
      "at first glance i assumed i had been tracked down by my superiors and that this was my recall, but just as hotels don’t feed deadbeats, spy chiefs don’t pay for room service in places like this, so that had to be wrong. i should have recognised the handwriting.\n",
      "the note was from jodie, and as we had guessed, she knew i was here. it didn’t say much apart from that, but i guess she might say more at dinner. \n"
     ]
    }
   ],
   "source": [
    "# \"i YoulZ get useZ to the high Ylass hotel liBe\" -> Y=c, Z=d, B=f\n",
    "# \"Eut i YoulZ neTeP get useZ to NaWing BoP\" -> E=b, T=v, P=r, N=p, W=y\n",
    "# \"Uas\" -> U=w\n",
    "# \"Gust one UoPZ on the enTeloNe: Eoss\" -> G=j, U=w\n",
    "# \"JistaHen\" -> J=m, H=k\n",
    "# \"neVt\" -> V=x\n",
    "# O=q, X=z\n",
    "decode(part_a_text, \"efghbijklmanopqrstuvwxyzcd\")"
   ]
  },
  {
   "cell_type": "code",
   "execution_count": 14,
   "metadata": {},
   "outputs": [
    {
     "name": "stdout",
     "output_type": "stream",
     "text": [
      "Decoded alphabet: keyzabcdfghijlmnopqrstuvwx\n",
      "Keyword: key\n"
     ]
    }
   ],
   "source": [
    "import string\n",
    "\n",
    "# Attempts to determine the keyword used for a substitution cipher\n",
    "# alphabet: The substitution alphabet\n",
    "def decode_key(alphabet):\n",
    "    decoded_alphabet = \"\"\n",
    "    for letter in string.ascii_lowercase:\n",
    "        decoded_alphabet += chr(alphabet.find(letter) + ord(\"a\"))\n",
    "    print(f\"Decoded alphabet: {decoded_alphabet}\")\n",
    "    \n",
    "    remaining_letters = list(string.ascii_lowercase)\n",
    "    for pos, letter in enumerate(decoded_alphabet):\n",
    "        remaining_letters.remove(letter)\n",
    "        next_letter_index = remaining_letters.index(decoded_alphabet[pos+1])\n",
    "        if decoded_alphabet[pos+1:] == \"\".join(remaining_letters[next_letter_index:] + remaining_letters[:next_letter_index]):\n",
    "            print(f\"Keyword: {decoded_alphabet[:pos+2]}\")\n",
    "            break\n",
    "\n",
    "decode_key(\"efghbijklmanopqrstuvwxyzcd\")"
   ]
  },
  {
   "cell_type": "code",
   "execution_count": 9,
   "metadata": {},
   "outputs": [],
   "source": [
    "# Part B \"A strong hint that we are on the right track ...\"\n",
    "part_b_text = \"\"\"ONSXP YGXSQ LJISB NTNNQ ZXEJQ HZURU QZSRZ PYYPJ ZIZUS YLINX YUPNG UMMUC AVWAN YZJUQ YSTUA ZZINU VNXSZ JUQUG ZINBS AMZTA ZJISB NTNNQ AQSTM NZUHN ZIUMO UGINX SQOJS PIUVJ QHEUA PSETN STMNZ UINMV INXNP SJMJY YNZZU SQUAZ UGUGG JRNXN VMESQ OYINI SYSVV SXNQZ MEZSL NQSGN COSEY MNSBN QUUQN SZZIN TSQLY NNPYZ ULQUC CINXN YINIS YHUQN SQOZI NXNCS YQUSQ YCNXC INQJZ XJNOZ UBJYJ ZINXS ZIUPN INXPU TJMNJ YSMYU SVVSX NQZME UGGMJ QNTAZ JSVVX NRJSZ NZISZ ZINYJ HQSMS XUAQO RAMVN VNXRS QTNBN XEVUU XYUZI SZJYV NXISV YQUZY JHQJG JRSQZ JGEUA ISBNS QEJON SCINX NYINP JHIZT NZINQ VMNSY NOUMN ZPNLQ UCJGQ UZZIN QVNXI SVYEU ARSQS QYCNX YUPNW ANYZJ UQYGU XPNZI NBSAM ZXNHJ YZNXZ NMMYP NZINO SZNYU QCIJR INSRI TUDJY SRRNY YNOSQ OBJYJ ZUXYY JHQJQ SQOUA ZTAZQ UZJPN YSXNH JBNQJ YZINX NSXNS YUQGU XZISZ IUCMU QHOUR MJNQZ YZEVJ RSMME YVNQO JQZIN BSAMZ SQOSX NZINE AYASM MEMNG ZSMUQ NZINO NVUYJ ZTUDN YCJZI JQZIN BSAMZ SXNNS RIMUR LNOCJ ZIZIN JXUCQ LNESQ OJAQO NXYZS QOZIS ZZINL NEYSX NINMO JQSQQ SYUGG JRNCI UNMYN ISYSR RNYYZ UZIUY NLNEY YUPNR MJNQZ YYNNP ZUISB NSRRN YYZUP UXNZI SQUQN TUDJY ZISZR UPPUQ ZINXN SXNYN BNQIA QOXNO SQOYJ DZEZI XNNTU DNYJQ ZINBS AMZTA ZZINY MJONY UQZIN GJXYZ GUXZE ZIXNN UGZIN PSXNR MNSXM EPUXN CUXQZ ISQZI NUZIN XYSQO SMZIU AHIJC SYUQM EHJBN QYJHI ZUGZI NMSYZ GNCPU QZIYX NRUXO YJQUZ JRNOZ ISZQU TUDQA PTNXN OIJHI NXZIS QGUXZ EJYMJ YZNOU QZINB SAMZS RRNYY XNHJY ZNXJY ZIJYS RUJQR JONQR NSQOR SQZIN XNMSZ JUQYI JVTNZ CNNQZ INSRR NYYOS ZNSQO ZINTU DQAPT NXZIS ZSVVN SXYUQ ZINYN XNRNQ ZXNRU XOYXN SMMET NSRUJ QRJON QRNJI SOZIU AHIZZ ISZZI NRIJQ NYNRI SXSRZ NXYPJ HIZNQ RUONT UDQAP TNXYT AZYJQ RNZIN XNSXN UQMEQ JQNTJ QSXER ISXSR ZNXYU QNSRI TUDMJ QJQHZ IJYCU AMOUQ MENQR UONSP SDJPA PUGGJ BNIAQ OXNOS QOZCN MBNOJ GGNXN QZTUD QAPTN XYJYZ ISZQA PTNXY JHQJG JRSQZ ZUZIN TSQLJ QYUPN UZINX CSEZI NPUYZ RUPPU QNQZX EJQZI NBSAM ZXNHJ YZNXJ YZINQ SPNZS MMPSO HNOUE UAISB NRUQZ SRZON ZSJMY GUXZI JYVNX YUQIS BNEUA RUPNS RXUYY ZINPT NGUXN OUZIN EISBN SQERU QQNRZ JUQCJ ZISQQ SYPJZ IUQNG JQSMZ IJQHJ CUAMO MJLNZ UTXJQ HJQSR UQYAM ZSQZZ UCUXL CJZIP NUQZI JYVXU KNRZI JYQSP NJYIS XXESQ OJZIJ QLIJY YLJMM YCJMM TNAYN GAMJC JMMVS EIJPG XUPZI NGNNE UASMX NSOES HXNNO ZUVSE PNTAZ INJYR AXXNQ ZMEYZ SEJQH JQPEI UZNMS QOJGE UASHX NNZUS OOIJP ZUZIN JQBNY ZJHSZ JUQZI NQJCU AMOMJ LNEUA ZUZSL NUQIJ YTJMM CIJMN JSPQU ZENZS QDJUA YSTUA ZSQQS YCINX NSTUA ZYJCU AMOMJ LNZUL QUCSY YUUQS YYINX NYAXG SRNYS QOPEW ANXJN YSTUB NSXNW AJZNA XHNQZ SQOND ZXNPN MERUQ GJONQ ZJSMJ CUAMO TNHXS ZNGAM JGEUA RUAMO XNVME SZEUA XBNXE NSXMJ NYZRU QBNQJ NQRNS QOAYJ QHSBJ HNQNX NRJVI NXZUN QYAXN YNRXN REEUA XYKR \"\"\""
   ]
  },
  {
   "cell_type": "code",
   "execution_count": 15,
   "metadata": {},
   "outputs": [
    {
     "name": "stdout",
     "output_type": "stream",
     "text": [
      "N: 286 (13.37%) Z: 195 (9.12%) S: 172 (8.04%) Q: 164 (7.67%) U: 162 (7.57%)\n",
      "J: 145 (6.78%) Y: 136 (6.36%) I: 132 (6.17%) X: 113 (5.28%) M: 85 (3.97%)\n",
      "R: 68 (3.18%) A: 66 (3.09%) O: 65 (3.04%) P: 52 (2.43%) E: 52 (2.43%)\n",
      "T: 42 (1.96%) G: 40 (1.87%) C: 35 (1.64%) H: 32 (1.50%) V: 31 (1.45%)\n",
      "B: 28 (1.31%) L: 19 (0.89%) D: 13 (0.61%) W:  4 (0.19%) K:  2 (0.09%)\n",
      "\n",
      "-----\n"
     ]
    }
   ],
   "source": [
    "squished = part_b_text.replace(\" \", \"\")\n",
    "frequency_analysis(squished)"
   ]
  },
  {
   "cell_type": "code",
   "execution_count": 17,
   "metadata": {},
   "outputs": [
    {
     "name": "stdout",
     "output_type": "stream",
     "text": [
      "OeSXPYGXSQLJhSBeTeeQtXEJQHtURUQtSRtPYYPJthtUSYLheXYUPeGUMMUCAVWAeYtJUQYSTUAttheUVeXStJUQUGtheBSAMtTAtJhSBeTeeQAQSTMetUHethUMOUGheXSQOJSPhUVJQHEUAPSETeSTMetUheMVheXePSJMJYYettUSQUAtUGUGGJReXeVMESQOYhehSYSVVSXeQtMEtSLeQSGeCOSEYMeSBeQUUQeSttheTSQLYeePYtULQUCCheXeYhehSYHUQeSQOtheXeCSYQUSQYCeXCheQJtXJeOtUBJYJtheXSthUPeheXPUTJMeJYSMYUSVVSXeQtMEUGGMJQeTAtJSVVXeRJStethSttheYJHQSMSXUAQORAMVeVeXRSQTeBeXEVUUXYUthStJYVeXhSVYQUtYJHQJGJRSQtJGEUAhSBeSQEJOeSCheXeYhePJHhtTetheQVMeSYeOUMetPeLQUCJGQUttheQVeXhSVYEUARSQSQYCeXYUPeWAeYtJUQYGUXPetheBSAMtXeHJYteXteMMYPetheOSteYUQChJRheSRhTUDJYSRReYYeOSQOBJYJtUXYYJHQJQSQOUAtTAtQUtJPeYSXeHJBeQJYtheXeSXeSYUQGUXthSthUCMUQHOURMJeQtYtEVJRSMMEYVeQOJQtheBSAMtSQOSXetheEAYASMMEMeGtSMUQetheOeVUYJtTUDeYCJthJQtheBSAMtSXeeSRhMURLeOCJththeJXUCQLeESQOJAQOeXYtSQOthSttheLeEYSXeheMOJQSQQSYUGGJReChUeMYehSYSRReYYtUthUYeLeEYYUPeRMJeQtYYeePtUhSBeSRReYYtUPUXethSQUQeTUDJYthStRUPPUQtheXeSXeYeBeQhAQOXeOSQOYJDtEthXeeTUDeYJQtheBSAMtTAttheYMJOeYUQtheGJXYtGUXtEthXeeUGthePSXeRMeSXMEPUXeCUXQthSQtheUtheXYSQOSMthUAHhJCSYUQMEHJBeQYJHhtUGtheMSYtGeCPUQthYXeRUXOYJQUtJReOthStQUTUDQAPTeXeOhJHheXthSQGUXtEJYMJYteOUQtheBSAMtSRReYYXeHJYteXJYthJYSRUJQRJOeQReSQORSQtheXeMStJUQYhJVTetCeeQtheSRReYYOSteSQOtheTUDQAPTeXthStSVVeSXYUQtheYeXeReQtXeRUXOYXeSMMETeSRUJQRJOeQReJhSOthUAHhtthSttheRhJQeYeRhSXSRteXYPJHhteQRUOeTUDQAPTeXYTAtYJQRetheXeSXeUQMEQJQeTJQSXERhSXSRteXYUQeSRhTUDMJQJQHthJYCUAMOUQMEeQRUOeSPSDJPAPUGGJBehAQOXeOSQOtCeMBeOJGGeXeQtTUDQAPTeXYJYthStQAPTeXYJHQJGJRSQttUtheTSQLJQYUPeUtheXCSEthePUYtRUPPUQeQtXEJQtheBSAMtXeHJYteXJYtheQSPetSMMPSOHeOUEUAhSBeRUQtSRtOetSJMYGUXthJYVeXYUQhSBeEUARUPeSRXUYYthePTeGUXeOUtheEhSBeSQERUQQeRtJUQCJthSQQSYPJthUQeGJQSMthJQHJCUAMOMJLetUTXJQHJQSRUQYAMtSQttUCUXLCJthPeUQthJYVXUKeRthJYQSPeJYhSXXESQOJthJQLhJYYLJMMYCJMMTeAYeGAMJCJMMVSEhJPGXUPtheGeeEUASMXeSOESHXeeOtUVSEPeTAtheJYRAXXeQtMEYtSEJQHJQPEhUteMSQOJGEUASHXeetUSOOhJPtUtheJQBeYtJHStJUQtheQJCUAMOMJLeEUAtUtSLeUQhJYTJMMChJMeJSPQUtEetSQDJUAYSTUAtSQQSYCheXeSTUAtYJCUAMOMJLetULQUCSYYUUQSYYheXeYAXGSReYSQOPEWAeXJeYSTUBeSXeWAJteAXHeQtSQOeDtXePeMERUQGJOeQtJSMJCUAMOTeHXSteGAMJGEUARUAMOXeVMEStEUAXBeXEeSXMJeYtRUQBeQJeQReSQOAYJQHSBJHeQeXeRJVheXtUeQYAXeYeRXeREEUAXYKR\n"
     ]
    }
   ],
   "source": [
    "# \"ZIN\" -> Z=t, I=h, N=e\n",
    "decode(squished, \"ABCDEFGHhJKLMeOPQRSTUVWXYt\")"
   ]
  },
  {
   "cell_type": "code",
   "execution_count": 18,
   "metadata": {},
   "outputs": [
    {
     "name": "stdout",
     "output_type": "stream",
     "text": [
      "OeaXPYGXaQLJhaBeTeeQtXEJQHtURUQtaRtPYYPJthtUaYLheXYUPeGUMMUCAVWAeYtJUQYaTUAttheUVeXatJUQUGtheBaAMtTAtJhaBeTeeQAQaTMetUHethUMOUGheXaQOJaPhUVJQHEUAPaETeaTMetUheMVheXePaJMJYYettUaQUAtUGUGGJReXeVMEaQOYhehaYaVVaXeQtMEtaLeQaGeCOaEYMeaBeQUUQeattheTaQLYeePYtULQUCCheXeYhehaYHUQeaQOtheXeCaYQUaQYCeXCheQJtXJeOtUBJYJtheXathUPeheXPUTJMeJYaMYUaVVaXeQtMEUGGMJQeTAtJaVVXeRJatethattheYJHQaMaXUAQORAMVeVeXRaQTeBeXEVUUXYUthatJYVeXhaVYQUtYJHQJGJRaQtJGEUAhaBeaQEJOeaCheXeYhePJHhtTetheQVMeaYeOUMetPeLQUCJGQUttheQVeXhaVYEUARaQaQYCeXYUPeWAeYtJUQYGUXPetheBaAMtXeHJYteXteMMYPetheOateYUQChJRheaRhTUDJYaRReYYeOaQOBJYJtUXYYJHQJQaQOUAtTAtQUtJPeYaXeHJBeQJYtheXeaXeaYUQGUXthathUCMUQHOURMJeQtYtEVJRaMMEYVeQOJQtheBaAMtaQOaXetheEAYAaMMEMeGtaMUQetheOeVUYJtTUDeYCJthJQtheBaAMtaXeeaRhMURLeOCJththeJXUCQLeEaQOJAQOeXYtaQOthattheLeEYaXeheMOJQaQQaYUGGJReChUeMYehaYaRReYYtUthUYeLeEYYUPeRMJeQtYYeePtUhaBeaRReYYtUPUXethaQUQeTUDJYthatRUPPUQtheXeaXeYeBeQhAQOXeOaQOYJDtEthXeeTUDeYJQtheBaAMtTAttheYMJOeYUQtheGJXYtGUXtEthXeeUGthePaXeRMeaXMEPUXeCUXQthaQtheUtheXYaQOaMthUAHhJCaYUQMEHJBeQYJHhtUGtheMaYtGeCPUQthYXeRUXOYJQUtJReOthatQUTUDQAPTeXeOhJHheXthaQGUXtEJYMJYteOUQtheBaAMtaRReYYXeHJYteXJYthJYaRUJQRJOeQReaQORaQtheXeMatJUQYhJVTetCeeQtheaRReYYOateaQOtheTUDQAPTeXthataVVeaXYUQtheYeXeReQtXeRUXOYXeaMMETeaRUJQRJOeQReJhaOthUAHhtthattheRhJQeYeRhaXaRteXYPJHhteQRUOeTUDQAPTeXYTAtYJQRetheXeaXeUQMEQJQeTJQaXERhaXaRteXYUQeaRhTUDMJQJQHthJYCUAMOUQMEeQRUOeaPaDJPAPUGGJBehAQOXeOaQOtCeMBeOJGGeXeQtTUDQAPTeXYJYthatQAPTeXYJHQJGJRaQttUtheTaQLJQYUPeUtheXCaEthePUYtRUPPUQeQtXEJQtheBaAMtXeHJYteXJYtheQaPetaMMPaOHeOUEUAhaBeRUQtaRtOetaJMYGUXthJYVeXYUQhaBeEUARUPeaRXUYYthePTeGUXeOUtheEhaBeaQERUQQeRtJUQCJthaQQaYPJthUQeGJQaMthJQHJCUAMOMJLetUTXJQHJQaRUQYAMtaQttUCUXLCJthPeUQthJYVXUKeRthJYQaPeJYhaXXEaQOJthJQLhJYYLJMMYCJMMTeAYeGAMJCJMMVaEhJPGXUPtheGeeEUAaMXeaOEaHXeeOtUVaEPeTAtheJYRAXXeQtMEYtaEJQHJQPEhUteMaQOJGEUAaHXeetUaOOhJPtUtheJQBeYtJHatJUQtheQJCUAMOMJLeEUAtUtaLeUQhJYTJMMChJMeJaPQUtEetaQDJUAYaTUAtaQQaYCheXeaTUAtYJCUAMOMJLetULQUCaYYUUQaYYheXeYAXGaReYaQOPEWAeXJeYaTUBeaXeWAJteAXHeQtaQOeDtXePeMERUQGJOeQtJaMJCUAMOTeHXateGAMJGEUARUAMOXeVMEatEUAXBeXEeaXMJeYtRUQBeQJeQReaQOAYJQHaBJHeQeXeRJVheXtUeQYAXeYeRXeREEUAXYKR\n"
     ]
    }
   ],
   "source": [
    "# \"thSt\" -> S=a\n",
    "decode(squished, \"ABCDEFGHhJKLMeOPQRaTUVWXYt\")"
   ]
  },
  {
   "cell_type": "code",
   "execution_count": 20,
   "metadata": {},
   "outputs": [
    {
     "name": "stdout",
     "output_type": "stream",
     "text": [
      "dearPYGranLihavebeentrEinHtURUntaRtPYYPithtUaYLherYUPeGUMMUCAVWAeYtiUnYabUAttheUVeratiUnUGthevaAMtbAtihavebeenAnabMetUHethUMdUGherandiaPhUVinHEUAPaEbeabMetUheMVherePaiMiYYettUanUAtUGUGGiRereVMEandYhehaYaVVarentMEtaLenaGeCdaEYMeavenUUneatthebanLYeePYtULnUCChereYhehaYHUneandthereCaYnUanYCerChenitriedtUviYitherathUPeherPUbiMeiYaMYUaVVarentMEUGGMinebAtiaVVreRiatethattheYiHnaMarUAndRAMVeVerRanbeverEVUUrYUthatiYVerhaVYnUtYiHniGiRantiGEUAhaveanEideaChereYhePiHhtbethenVMeaYedUMetPeLnUCiGnUtthenVerhaVYEUARananYCerYUPeWAeYtiUnYGUrPethevaAMtreHiYterteMMYPethedateYUnChiRheaRhbUDiYaRReYYedandviYitUrYYiHninandUAtbAtnUtiPeYareHiveniYthereareaYUnGUrthathUCMUnHdURMientYtEViRaMMEYVendinthevaAMtandaretheEAYAaMMEMeGtaMUnethedeVUYitbUDeYCithinthevaAMtareeaRhMURLedCiththeirUCnLeEandiAnderYtandthattheLeEYareheMdinannaYUGGiReChUeMYehaYaRReYYtUthUYeLeEYYUPeRMientYYeePtUhaveaRReYYtUPUrethanUnebUDiYthatRUPPUnthereareYevenhAndredandYiDtEthreebUDeYinthevaAMtbAttheYMideYUntheGirYtGUrtEthreeUGthePareRMearMEPUreCUrnthantheUtherYandaMthUAHhiCaYUnMEHivenYiHhtUGtheMaYtGeCPUnthYreRUrdYinUtiRedthatnUbUDnAPberedhiHherthanGUrtEiYMiYtedUnthevaAMtaRReYYreHiYteriYthiYaRUinRidenReandRanthereMatiUnYhiVbetCeentheaRReYYdateandthebUDnAPberthataVVearYUntheYereRentreRUrdYreaMMEbeaRUinRidenReihadthUAHhtthattheRhineYeRharaRterYPiHhtenRUdebUDnAPberYbAtYinRethereareUnMEninebinarERharaRterYUneaRhbUDMininHthiYCUAMdUnMEenRUdeaPaDiPAPUGGivehAndredandtCeMvediGGerentbUDnAPberYiYthatnAPberYiHniGiRanttUthebanLinYUPeUtherCaEthePUYtRUPPUnentrEinthevaAMtreHiYteriYthenaPetaMMPadHedUEUAhaveRUntaRtdetaiMYGUrthiYVerYUnhaveEUARUPeaRrUYYthePbeGUredUtheEhaveanERUnneRtiUnCithannaYPithUneGinaMthinHiCUAMdMiLetUbrinHinaRUnYAMtanttUCUrLCithPeUnthiYVrUKeRthiYnaPeiYharrEandithinLhiYYLiMMYCiMMbeAYeGAMiCiMMVaEhiPGrUPtheGeeEUAaMreadEaHreedtUVaEPebAtheiYRArrentMEYtaEinHinPEhUteMandiGEUAaHreetUaddhiPtUtheinveYtiHatiUntheniCUAMdMiLeEUAtUtaLeUnhiYbiMMChiMeiaPnUtEetanDiUAYabUAtannaYChereabUAtYiCUAMdMiLetULnUCaYYUUnaYYhereYArGaReYandPEWAerieYabUveareWAiteArHentandeDtrePeMERUnGidentiaMiCUAMdbeHrateGAMiGEUARUAMdreVMEatEUArverEearMieYtRUnvenienReandAYinHaviHenereRiVhertUenYAreYeRreREEUArYKR\n"
     ]
    }
   ],
   "source": [
    "# \"OeaX\" -> O=d, X=r\n",
    "# \"JhaBeTeeQ\" -> J=i, B=v, T=b, Q=n\n",
    "decode(squished, \"AvCDEFGHhiKLMedPnRabUVWrYt\")"
   ]
  },
  {
   "cell_type": "code",
   "execution_count": 21,
   "metadata": {},
   "outputs": [
    {
     "name": "stdout",
     "output_type": "stream",
     "text": [
      "dearPsGranLihavebeentryingtoRontaRtPssPithtoasLhersoPeGoMMoCuVWuestionsabouttheoVerationoGthevauMtbutihavebeenunabMetogethoMdoGherandiaPhoVingyouPaybeabMetoheMVherePaiMissettoanoutoGoGGiRereVMyandshehasaVVarentMytaLenaGeCdaysMeavenooneatthebanLseePstoLnoCChereshehasgoneandthereCasnoansCerChenitriedtovisitherathoPeherPobiMeisaMsoaVVarentMyoGGMinebutiaVVreRiatethatthesignaMaroundRuMVeVerRanbeveryVoorsothatisVerhaVsnotsigniGiRantiGyouhaveanyideaChereshePightbethenVMeasedoMetPeLnoCiGnotthenVerhaVsyouRanansCersoPeWuestionsGorPethevauMtregisterteMMsPethedatesonChiRheaRhboxisaRRessedandvisitorssigninandoutbutnotiPesaregivenisthereareasonGorthathoCMongdoRMientstyViRaMMysVendinthevauMtandaretheyusuaMMyMeGtaMonethedeVositboxesCithinthevauMtareeaRhMoRLedCiththeiroCnLeyandiunderstandthattheLeysareheMdinannasoGGiReChoeMsehasaRResstothoseLeyssoPeRMientsseePtohaveaRResstoPorethanoneboxisthatRoPPontherearesevenhundredandsixtythreeboxesinthevauMtbutthesMidesontheGirstGortythreeoGthePareRMearMyPoreCornthantheothersandaMthoughiCasonMygivensightoGtheMastGeCPonthsreRordsinotiRedthatnoboxnuPberedhigherthanGortyisMistedonthevauMtaRRessregisteristhisaRoinRidenReandRanthereMationshiVbetCeentheaRRessdateandtheboxnuPberthataVVearsonthesereRentreRordsreaMMybeaRoinRidenReihadthoughtthattheRhineseRharaRtersPightenRodeboxnuPbersbutsinRethereareonMyninebinaryRharaRtersoneaRhboxMiningthisCouMdonMyenRodeaPaxiPuPoGGivehundredandtCeMvediGGerentboxnuPbersisthatnuPbersigniGiRanttothebanLinsoPeotherCaythePostRoPPonentryinthevauMtregisteristhenaPetaMMPadgedoyouhaveRontaRtdetaiMsGorthisVersonhaveyouRoPeaRrossthePbeGoredotheyhaveanyRonneRtionCithannasPithoneGinaMthingiCouMdMiLetobringinaRonsuMtanttoCorLCithPeonthisVroKeRthisnaPeisharryandithinLhissLiMMsCiMMbeuseGuMiCiMMVayhiPGroPtheGeeyouaMreadyagreedtoVayPebutheisRurrentMystayinginPyhoteMandiGyouagreetoaddhiPtotheinvestigationtheniCouMdMiLeyoutotaLeonhisbiMMChiMeiaPnotyetanxiousaboutannasChereaboutsiCouMdMiLetoLnoCassoonassheresurGaResandPyWueriesaboveareWuiteurgentandextrePeMyRonGidentiaMiCouMdbegrateGuMiGyouRouMdreVMyatyourveryearMiestRonvenienReandusingavigenereRiVhertoensureseRreRyyoursKR\n"
     ]
    }
   ],
   "source": [
    "# \"ihavebeentrEinHtU\" -> E=y, H=g, U=o\n",
    "# \"inveYtiHatiUn\" -> Y=s\n",
    "# \"YevenhAndredandYiDtEthree\" -> A=u, D=x\n",
    "decode(squished, \"uvCxyFGghiKLMedPnRaboVWrst\")"
   ]
  },
  {
   "cell_type": "code",
   "execution_count": 22,
   "metadata": {},
   "outputs": [
    {
     "name": "stdout",
     "output_type": "stream",
     "text": [
      "dearmsfranLihavebeentryingtocontactmssmithtoasLhersomefollowupquestionsabouttheoperationofthevaultbutihavebeenunabletogetholdofherandiamhopingyoumaybeabletohelpheremailissettoanoutofofficereplyandshehasapparentlytaLenafewdaysleavenooneatthebanLseemstoLnowwhereshehasgoneandtherewasnoanswerwhenitriedtovisitherathomehermobileisalsoapparentlyofflinebutiappreciatethatthesignalaroundculpepercanbeverypoorsothatisperhapsnotsignificantifyouhaveanyideawhereshemightbethenpleasedoletmeLnowifnotthenperhapsyoucananswersomequestionsformethevaultregistertellsmethedatesonwhicheachboxisaccessedandvisitorssigninandoutbutnotimesaregivenisthereareasonforthathowlongdoclientstypicallyspendinthevaultandaretheyusuallyleftalonethedepositboxeswithinthevaultareeachlocLedwiththeirownLeyandiunderstandthattheLeysareheldinannasofficewhoelsehasaccesstothoseLeyssomeclientsseemtohaveaccesstomorethanoneboxisthatcommontherearesevenhundredandsixtythreeboxesinthevaultbuttheslidesonthefirstfortythreeofthemareclearlymorewornthantheothersandalthoughiwasonlygivensightofthelastfewmonthsrecordsinoticedthatnoboxnumberedhigherthanfortyislistedonthevaultaccessregisteristhisacoincidenceandcantherelationshipbetweentheaccessdateandtheboxnumberthatappearsontheserecentrecordsreallybeacoincidenceihadthoughtthatthechinesecharactersmightencodeboxnumbersbutsincethereareonlyninebinarycharactersoneachboxliningthiswouldonlyencodeamaximumoffivehundredandtwelvedifferentboxnumbersisthatnumbersignificanttothebanLinsomeotherwaythemostcommonentryinthevaultregisteristhenametallmadgedoyouhavecontactdetailsforthispersonhaveyoucomeacrossthembeforedotheyhaveanyconnectionwithannasmithonefinalthingiwouldliLetobringinaconsultanttoworLwithmeonthisproKecthisnameisharryandithinLhissLillswillbeusefuliwillpayhimfromthefeeyoualreadyagreedtopaymebutheiscurrentlystayinginmyhotelandifyouagreetoaddhimtotheinvestigationtheniwouldliLeyoutotaLeonhisbillwhileiamnotyetanxiousaboutannaswhereaboutsiwouldliLetoLnowassoonassheresurfacesandmyqueriesabovearequiteurgentandextremelyconfidentialiwouldbegratefulifyoucouldreplyatyourveryearliestconvenienceandusingavigenereciphertoensuresecrecyyoursKc\n"
     ]
    }
   ],
   "source": [
    "# \"vauMt\" -> M=l\n",
    "# \"detaiMsGorthisVerson\" -> G=f, V=p\n",
    "# \"stayinginPyhoteM\" -> P=m\n",
    "# \"Wuestions\" -> W=q\n",
    "# \"RoinRidenRe\" -> R=c\n",
    "# \"betCeen\" -> C=w\n",
    "decode(squished, \"uvwxyFfghiKLledmncabopqrst\")"
   ]
  },
  {
   "cell_type": "code",
   "execution_count": 23,
   "metadata": {},
   "outputs": [
    {
     "name": "stdout",
     "output_type": "stream",
     "text": [
      "dearmsfrankihavebeentryingtocontactmssmithtoaskhersomefollowupquestionsabouttheoperationofthevaultbutihavebeenunabletogetholdofherandiamhopingyoumaybeabletohelpheremailissettoanoutofofficereplyandshehasapparentlytakenafewdaysleavenooneatthebankseemstoknowwhereshehasgoneandtherewasnoanswerwhenitriedtovisitherathomehermobileisalsoapparentlyofflinebutiappreciatethatthesignalaroundculpepercanbeverypoorsothatisperhapsnotsignificantifyouhaveanyideawhereshemightbethenpleasedoletmeknowifnotthenperhapsyoucananswersomequestionsformethevaultregistertellsmethedatesonwhicheachboxisaccessedandvisitorssigninandoutbutnotimesaregivenisthereareasonforthathowlongdoclientstypicallyspendinthevaultandaretheyusuallyleftalonethedepositboxeswithinthevaultareeachlockedwiththeirownkeyandiunderstandthatthekeysareheldinannasofficewhoelsehasaccesstothosekeyssomeclientsseemtohaveaccesstomorethanoneboxisthatcommontherearesevenhundredandsixtythreeboxesinthevaultbuttheslidesonthefirstfortythreeofthemareclearlymorewornthantheothersandalthoughiwasonlygivensightofthelastfewmonthsrecordsinoticedthatnoboxnumberedhigherthanfortyislistedonthevaultaccessregisteristhisacoincidenceandcantherelationshipbetweentheaccessdateandtheboxnumberthatappearsontheserecentrecordsreallybeacoincidenceihadthoughtthatthechinesecharactersmightencodeboxnumbersbutsincethereareonlyninebinarycharactersoneachboxliningthiswouldonlyencodeamaximumoffivehundredandtwelvedifferentboxnumbersisthatnumbersignificanttothebankinsomeotherwaythemostcommonentryinthevaultregisteristhenametallmadgedoyouhavecontactdetailsforthispersonhaveyoucomeacrossthembeforedotheyhaveanyconnectionwithannasmithonefinalthingiwouldliketobringinaconsultanttoworkwithmeonthisprojecthisnameisharryandithinkhisskillswillbeusefuliwillpayhimfromthefeeyoualreadyagreedtopaymebutheiscurrentlystayinginmyhotelandifyouagreetoaddhimtotheinvestigationtheniwouldlikeyoutotakeonhisbillwhileiamnotyetanxiousaboutannaswhereaboutsiwouldliketoknowassoonassheresurfacesandmyqueriesabovearequiteurgentandextremelyconfidentialiwouldbegratefulifyoucouldreplyatyourveryearliestconvenienceandusingavigenereciphertoensuresecrecyyoursjc\n"
     ]
    }
   ],
   "source": [
    "# \"dearmsfranL\" -> L=k\n",
    "# \"proKect\" -> K=j\n",
    "# F=z\n",
    "decode(squished, \"uvwxyzfghijkledmncabopqrst\")"
   ]
  },
  {
   "cell_type": "code",
   "execution_count": 24,
   "metadata": {},
   "outputs": [
    {
     "name": "stdout",
     "output_type": "stream",
     "text": [
      "Decoded alphabet: stronghijklmpquvwxyzabcdef\n",
      "Keyword: strong\n"
     ]
    }
   ],
   "source": [
    "decode_key(\"uvwxyzfghijkledmncabopqrst\")"
   ]
  },
  {
   "cell_type": "markdown",
   "metadata": {},
   "source": [
    "### Edited for clarity\n",
    "\n",
    "Dear Ms Frank,<br/>\n",
    "I have been trying to contact Ms Smith to ask her some follow up questions about the operation of the vault, but I have been unable to get hold of her and I am hoping you may be able to help.<br/>\n",
    "Her email is set to an out of office reply and she has apparently taken a few days leave. No-one at the bank seems to know where she has gone and there was no answer when I tried to visit her at home. Her mobile is also apparently offline, but I appreciate that the signal around Culpeper can be very poor, so that is perhaps not significant.<br/>\n",
    "If you have any idea where she might be, then please do let me know. If not, then perhaps you can answer some questions for me.<br/>\n",
    "The vault register tells me the dates on which each box is accessed and visitors sign in and out but no times are given. Is there a reason for that?<br/>\n",
    "How long do clients typically spend in the vault and are they usually left alone?<br/>\n",
    "The deposit boxes within the vault are each locked with their own key and I understand that the keys are held in Anna's office. Who else has access to those keys?<br/>\n",
    "Some clients seem to have access to more than one box. Is that common?<br/>\n",
    "There are seven hundred and sixty three boxes in the vault, but the slides on the first forty three of them are clearly more worn than the others and although I was only given sight of the last few months records, I noticed that no box numbered higher than forty is listed on the vault access register.<br/>\n",
    "Is this a coincidence and can the relationship between the access date and the box number that appears on these recent records really be a coincidence?<br/>\n",
    "I had thought that the Chinese characters might encode box numbers, but since there are only nine binary characters on each box lining, this would only encode a maximum of five hundred and twelve different box numbers. Is that number significant to the bank in some other way?<br/>\n",
    "The most common entry in the vault register is the name \"Tallmadge\". Do you have contact details for this person? Have you come across them before? Do they have any connection with Anna Smith?<br/>\n",
    "One final thing, I would like to bring in a consultant to work with me on this project. His name is Harry and I think his skills will be useful.<br/>\n",
    "I will pay him from the fee you already agreed to pay me, but he is currently staying in my hotel and if you agree to add him to the investigation then I would like you to take on his bill.<br/>\n",
    "While I am not yet anxious about Anna's whereabouts, I would like to know as soon as she resurfaces and my queries above are quite urgent and extremely confidential. I would be grateful if you could reply at your very earliest convenience and using a Vigenere cipher to ensure secrecy.<br/>\n",
    "Yours, JC."
   ]
  },
  {
   "cell_type": "code",
   "execution_count": null,
   "metadata": {},
   "outputs": [],
   "source": []
  }
 ],
 "metadata": {
  "kernelspec": {
   "display_name": "Python 3 (ipykernel)",
   "language": "python",
   "name": "python3"
  },
  "language_info": {
   "codemirror_mode": {
    "name": "ipython",
    "version": 3
   },
   "file_extension": ".py",
   "mimetype": "text/x-python",
   "name": "python",
   "nbconvert_exporter": "python",
   "pygments_lexer": "ipython3",
   "version": "3.10.4"
  }
 },
 "nbformat": 4,
 "nbformat_minor": 4
}
