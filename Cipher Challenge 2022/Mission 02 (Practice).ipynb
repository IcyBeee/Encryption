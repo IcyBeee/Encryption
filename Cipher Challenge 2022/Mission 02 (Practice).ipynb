{
 "cells": [
  {
   "cell_type": "markdown",
   "metadata": {},
   "source": [
    "# Cipher Challenge 2022\n",
    "### Challenge 2 (Practice)\n",
    "\n",
    "Challenge link https://www.cipherchallenge.org/challenge/challenge-2/"
   ]
  },
  {
   "cell_type": "code",
   "execution_count": 1,
   "metadata": {},
   "outputs": [],
   "source": [
    "# Part A - \"Initial thoughts\"\n",
    "part_a_text = \"\"\"K EWJWAQL NO NDWGQ PWLQ/POLKQ NO W ISKNQ WN W FKAF-GZWII FONQZ LOCJNOCJ. NFQ IODN OV TZWGQ OJZM W BWJU GOSZL WVVODL, WJL K GOSZLJ’N INWM NFQDQ EMIQZV, QXQJ KV K CWI OJ QHTQJIQI. K NFKJU KN COSZL FWXQ BQQJ NQETNKJA VWNQ WJMCWM. KV K GWJ VKJL POLKQ, K WE ISDQ IFQ GWJ VKJL EQ. IOEQNFKJA KJ FQD ZQNNQD NQZZI EQ IFQ WZDQWLM FWI. KJ WJM GWIQ, K LQGKLQL NO UQQT W ZOJA NWKZ OJ FQD, KV OJZM NO WXOKL ITOOUKJA WJMOJQ QZIQ CFO EKAFN BQ VOZZOCKJA FQD. K WE VOGSIKJA OJ KJNQDGQTNKJA FQD GOEEI CKNF ZMJJ VDWJU. NFQM WDQ INKZZ SIKJA VWKDZM ZKAFN QJGDMTNKOJ, WJL KN KI QWIKQD NO AQN WGGQII NO EI VDWJU’I OVVKGQ NFWJ KN COSZL BQ NO KJVKZNDWNQ POLKQ’I DOOE WN NFQ FONQZ. NFOIQ TZWGQI NWUQ NFQ IQGSDKNM OV NFQKD GZKQJNI QXQJ EODQ IQDKOSIZM NFWJ NFQ BWJUI. NFQ WNNWGFQL ZQNNQD IFOCI NFWN POLKQ KI AQNNKJA EODQ GWSNKOSI, BSN KN WZIO IQQEI NO BQ WJ KJXKNWNKOJ NO AQN KJXOZXQL. K WE JON ISDQ CFQDQ NO AO VDOE FQDQ. WI POLKQ IWMI KJ NFQ ZQNNQD, NFQ JSEBQDI KJ NFQ IKAJ-KJ BOOU ISAAQIN IOEQNFKJA OLL, BSN SJZKUQ POLKQ K COJ’N FWXQ WGGQII NO NFQ XWSZN NO GFQGU KN. KI IFQ FKJNKJA NFWN CQ IFOSZL NQWE ST, OD CWDJKJA EQ NFWN IFQ UJOCI K WE FQDQ WJL IFOSZL UQQT WCWM? (KV MOS WDQ JON ISDQ CFWN K WE NWZUKJA WBOSN, NWUQ W XQDM GWDQVSZ ZOOU WN MOSD LQGDMTN OV FQD ZQNNQD. MOS IFOSZL VKJL W FKLLQJ EQIIWAQ.) BM NFQ CWM, NFQDQ KI IOEQNFKJA JWAAKJA WN EQ NFWN K GWJ’N YSKNQ TZWGQ. NFQDQ KI W JWEQ KJ NFQ IKAJ-KJ BOOU NFWN, KJ EM FQWL WN ZQWIN, KI GOJJQGNQL KJ IOEQ CWM NO NFQ JWEQ OV NFQ BWJU, WJL K GWJ’N DQEQEBQD CFWN NFWN GOJJQGNKOJ KI. EWMBQ KN KI JON KETODNWJN, BSN K COJ’N IZQQT TDOTQDZM SJNKZ K GWJ VKASDQ KN OSN. OJGQ MOS FWXQ GDWGUQL POLKQ’I ZQNNQD, FQWL OXQD NO NFQ GWIQ VKZQI WJL NWUQ W ZOOU WN NFQ IKAJWNSDQI. EWMBQ MOS GWJ VKASDQ KN OSN VOD EQ. FWDDM\n",
    "\"\"\""
   ]
  },
  {
   "cell_type": "code",
   "execution_count": 2,
   "metadata": {},
   "outputs": [],
   "source": [
    "# Bring in the basic decoder function\n",
    "import string\n",
    "\n",
    "# A simple translation method.\n",
    "# text: The text to translate, in upper case\n",
    "# key: A substitution alphabet, usually in lower case so that the translated characters show up\n",
    "def decode(text, key):\n",
    "    table = str.maketrans(string.ascii_uppercase, key)\n",
    "    print(text.upper().translate(table))"
   ]
  },
  {
   "cell_type": "code",
   "execution_count": 3,
   "metadata": {},
   "outputs": [
    {
     "name": "stdout",
     "output_type": "stream",
     "text": [
      "i EWJWAeL tO tDWGe PWLe/POLie tO W ISite Wt W hiAh-GZWII hOteZ LOCJtOCJ. the IODt OV TZWGe OJZM W BWJU GOSZL WVVODL, WJL i GOSZLJ’t ItWM theDe EMIeZV, eXeJ iV i CWI OJ eHTeJIeI. i thiJU it COSZL hWXe BeeJ teETtiJA VWte WJMCWM. iV i GWJ ViJL POLie, i WE ISDe Ihe GWJ ViJL Ee. IOEethiJA iJ heD ZetteD teZZI Ee Ihe WZDeWLM hWI. iJ WJM GWIe, i LeGiLeL tO UeeT W ZOJA tWiZ OJ heD, iV OJZM tO WXOiL ITOOUiJA WJMOJe eZIe ChO EiAht Be VOZZOCiJA heD. i WE VOGSIiJA OJ iJteDGeTtiJA heD GOEEI Cith ZMJJ VDWJU. theM WDe ItiZZ SIiJA VWiDZM ZiAht eJGDMTtiOJ, WJL it iI eWIieD tO Aet WGGeII tO EI VDWJU’I OVViGe thWJ it COSZL Be tO iJViZtDWte POLie’I DOOE Wt the hOteZ. thOIe TZWGeI tWUe the IeGSDitM OV theiD GZieJtI eXeJ EODe IeDiOSIZM thWJ the BWJUI. the WttWGheL ZetteD IhOCI thWt POLie iI AettiJA EODe GWStiOSI, BSt it WZIO IeeEI tO Be WJ iJXitWtiOJ tO Aet iJXOZXeL. i WE JOt ISDe CheDe tO AO VDOE heDe. WI POLie IWMI iJ the ZetteD, the JSEBeDI iJ the IiAJ-iJ BOOU ISAAeIt IOEethiJA OLL, BSt SJZiUe POLie i COJ’t hWXe WGGeII tO the XWSZt tO GheGU it. iI Ihe hiJtiJA thWt Ce IhOSZL teWE ST, OD CWDJiJA Ee thWt Ihe UJOCI i WE heDe WJL IhOSZL UeeT WCWM? (iV MOS WDe JOt ISDe ChWt i WE tWZUiJA WBOSt, tWUe W XeDM GWDeVSZ ZOOU Wt MOSD LeGDMTt OV heD ZetteD. MOS IhOSZL ViJL W hiLLeJ EeIIWAe.) BM the CWM, theDe iI IOEethiJA JWAAiJA Wt Ee thWt i GWJ’t YSite TZWGe. theDe iI W JWEe iJ the IiAJ-iJ BOOU thWt, iJ EM heWL Wt ZeWIt, iI GOJJeGteL iJ IOEe CWM tO the JWEe OV the BWJU, WJL i GWJ’t DeEeEBeD ChWt thWt GOJJeGtiOJ iI. EWMBe it iI JOt iETODtWJt, BSt i COJ’t IZeeT TDOTeDZM SJtiZ i GWJ ViASDe it OSt. OJGe MOS hWXe GDWGUeL POLie’I ZetteD, heWL OXeD tO the GWIe ViZeI WJL tWUe W ZOOU Wt the IiAJWtSDeI. EWMBe MOS GWJ ViASDe it OSt VOD Ee. hWDDM\n",
      "\n"
     ]
    }
   ],
   "source": [
    "# The decoder tools at the bottom of part A indicate this is an affine cipher\n",
    "# Lots of \"NFQ\" - might be \"the\".\n",
    "# Starts with \"K\" - might be \"I\".\n",
    "decode(part_a_text, \"ABCDEhGHIJiLMtOPeRSTUVWXYZ\")"
   ]
  },
  {
   "cell_type": "code",
   "execution_count": 6,
   "metadata": {},
   "outputs": [
    {
     "name": "stdout",
     "output_type": "stream",
     "text": [
      "i EanaAed to tDaGe Pade/Podie to a Iuite at a hiAh-GlaII hotel downtown. the IoDt oV TlaGe onlM a bank Gould aVVoDd, and i Gouldn’t ItaM theDe EMIelV, even iV i waI on eHTenIeI. i think it would have been teETtinA Vate anMwaM. iV i Gan Vind Podie, i aE IuDe Ihe Gan Vind Ee. IoEethinA in heD letteD tellI Ee Ihe alDeadM haI. in anM GaIe, i deGided to keeT a lonA tail on heD, iV onlM to avoid ITookinA anMone elIe who EiAht be VollowinA heD. i aE VoGuIinA on inteDGeTtinA heD GoEEI with lMnn VDank. theM aDe Itill uIinA VaiDlM liAht enGDMTtion, and it iI eaIieD to Aet aGGeII to EI VDank’I oVViGe than it would be to inViltDate Podie’I DooE at the hotel. thoIe TlaGeI take the IeGuDitM oV theiD GlientI even EoDe IeDiouIlM than the bankI. the attaGhed letteD IhowI that Podie iI AettinA EoDe GautiouI, but it alIo IeeEI to be an invitation to Aet involved. i aE not IuDe wheDe to Ao VDoE heDe. aI Podie IaMI in the letteD, the nuEbeDI in the IiAn-in book IuAAeIt IoEethinA odd, but unlike Podie i won’t have aGGeII to the vault to GheGk it. iI Ihe hintinA that we Ihould teaE uT, oD waDninA Ee that Ihe knowI i aE heDe and Ihould keeT awaM? (iV Mou aDe not IuDe what i aE talkinA about, take a veDM GaDeVul look at MouD deGDMTt oV heD letteD. Mou Ihould Vind a hidden EeIIaAe.) bM the waM, theDe iI IoEethinA naAAinA at Ee that i Gan’t Yuite TlaGe. theDe iI a naEe in the IiAn-in book that, in EM head at leaIt, iI GonneGted in IoEe waM to the naEe oV the bank, and i Gan’t DeEeEbeD what that GonneGtion iI. EaMbe it iI not iEToDtant, but i won’t IleeT TDoTeDlM until i Gan ViAuDe it out. onGe Mou have GDaGked Podie’I letteD, head oveD to the GaIe VileI and take a look at the IiAnatuDeI. EaMbe Mou Gan ViAuDe it out VoD Ee. haDDM\n",
      "\n"
     ]
    }
   ],
   "source": [
    "# \"i thiJU it COSZL hWXe BeeJ\" -> J=n, U=k, C=w O=o, S=u, Z=l, L=d, W=a, X=v, B=b,\n",
    "decode(part_a_text, \"AbwDEhGHInidMtoPeRuTkVavYl\")"
   ]
  },
  {
   "cell_type": "code",
   "execution_count": 7,
   "metadata": {},
   "outputs": [
    {
     "name": "stdout",
     "output_type": "stream",
     "text": [
      "i managed to trace jade/jodie to a suite at a high-class hotel downtown. the sort of place only a bank could afford, and i couldn’t stay there myself, even if i was on expenses. i think it would have been tempting fate anyway. if i can find jodie, i am sure she can find me. something in her letter tells me she already has. in any case, i decided to keep a long tail on her, if only to avoid spooking anyone else who might be following her. i am focusing on intercepting her comms with lynn frank. they are still using fairly light encryption, and it is easier to get access to ms frank’s office than it would be to infiltrate jodie’s room at the hotel. those places take the security of their clients even more seriously than the banks. the attached letter shows that jodie is getting more cautious, but it also seems to be an invitation to get involved. i am not sure where to go from here. as jodie says in the letter, the numbers in the sign-in book suggest something odd, but unlike jodie i won’t have access to the vault to check it. is she hinting that we should team up, or warning me that she knows i am here and should keep away? (if you are not sure what i am talking about, take a very careful look at your decrypt of her letter. you should find a hidden message.) by the way, there is something nagging at me that i can’t quite place. there is a name in the sign-in book that, in my head at least, is connected in some way to the name of the bank, and i can’t remember what that connection is. maybe it is not important, but i won’t sleep properly until i can figure it out. once you have cracked jodie’s letter, head over to the case files and take a look at the signatures. maybe you can figure it out for me. harry\n",
      "\n"
     ]
    }
   ],
   "source": [
    "# \"EanaAed\" -> E=m, A=g\n",
    "# \"Iuite at a hiAh-GlaII\" -> I=s, G=c\n",
    "# Looks like a period of 5 with a shift of 4 left\n",
    "decode(part_a_text, \"gbwrmhcxsnidytojezupkfavql\")"
   ]
  },
  {
   "cell_type": "code",
   "execution_count": 8,
   "metadata": {},
   "outputs": [],
   "source": [
    "# Part B \"Orientation\"\n",
    "part_b_text = \"\"\"GPFC JL YCFSR,\n",
    "\n",
    "QBKP NBD QFG F HBBG VPPRPSG. UQFSR NBD YBC UQP LFYPUN GPKBLZU OBE FXXPLL CPXBCGL NBD LPSU, UQBDHQ XFS Z LDHHPLU UQFU ZS UQP YDUDCP VP DLP F QZHQPC APMPA BY LPXDCZUN? PMPS YFZCAN ZSPEKPCZPSXPG XCZJZSFAL XFS OP YFJZAZFC VZUQ UQPLP XZKQPCL, FSG VP GBS’U RSBV VQB JZHQU OP JBSZUBCZSH NBDC XBJJDSZXFUZBS XQFSSPAL.\n",
    "\n",
    "FL KCBJZLPG, Z PEFJZSPG UQP MFDAU CPXBCGL ZS GPUFZA, FSG UQPN GB UPAA F LUBCN, UQBDHQ Z FJ SBU LDCP VQFU ZU JPFSL. UQPCP ZL F KFUUPCS ZS UQP SDJOPCL UQFU ZL MPCN LDHHPLUZMP FSG ZY NBD XFS PEKPGZUP JN CPTDPLU UB LKPSG LBJP UZJP FABSP ZS UQP MFDAU UQPS Z QBKP UB OP FOAP UB ZSMPLUZHFUP UQFU YDCUQPC.\n",
    "\n",
    "CP-PEFJZSZSH UQP MFDAU XFJPCF YBBUFHP UQFU NBD LPSU, Z VFL LDCKCZLPG UB LPP UQFU XDAKPKPC QFL SB FXUDFA YBBUFHP BY UQP ABOON BC MFDAU ZULPAY. NBDC LPXDCZUN UPFJ PEKAFZSPG UQFU UQZL ZL F KCZMFXN KBAZXN UB PSLDCP XAZPSU XBSYZGPSUZFAZUN. ZU FALB LPPJL UB OP UQP XFLP UQFU VQZAP XDLUBJPCL LZHS ZS FSG BDU BY UQP MFDAU, OFSR LUFYY FCP SBU CPTDZCPG UB GB LB. UQPN UBAG JP UQFU LUFYY GB SBU ZS HPSPCFA PSUPC UQP ZSSPC XQFJOPC, FSG UQFU SB-BSP LQBDAG PSUPC UQP ABOON DSFXXBJKFSZPG VQZAP UQP MFDAU ZL DSABXRPG. UQP LUFYY LFN UQFU UQZL KCBUBXBA ZL UFRPS MPCN LPCZBDLAN; ZU ZL F LFXRFOAP BYYPSLP UB PSUPC UQP ABOON FABSP. UQPCP ZL BSP PEXPKUZBS. ZS BCGPC UB PSLDCP UQP LPXDCZUN BY UQP XBJOZSFUZBS UQFU BKPSL UQP MFDAU ZULPAY, UQP XQZPY UPAAPC PSUPCL UQP ABOON FABSP ZS UQP JBCSZSH UB BKPS DK. UQP QPFG BY LPXDCZUN VFZUL BDULZGP, UQPS XBSGDXUL F LPFCXQ BY UQP UPAAPC VQPS UQPN APFMP UQP MFDAU UB PSLDCP UQFU SBUQZSH QFL OPPS CPJBMPG. UQP YBBUFHP LQBVL UQP KFU GBVS ZS KCBHCPLL UQFU GFN, LB Z UQZSR ZU ZL YFZC UB GPGDXP UQFU ZY UQP UPAAPC QFG CPJBMPG FSNUQZSH YCBJ UQP LFYP UQPS ZU VBDAG QFMP OPPS GZLXBMPCPG FU UQP UZJP. UQFU JPFSL UQFU ZY FSNUQZSH VFL UFRPS YCBJ UQP OBE, UQPS ZU QFG FACPFGN OPPS CPJBMPG VQPS UQP UPAAPC FSG UQP LPXDCZUN HDFCG FCCZMPG.\n",
    "\n",
    "CPHFCGZSH UQP KFKPC AZSZSH ZS UQP GPKBLZU OBE AZG: Z FLRPG UQP OFSR LUFYY FOBDU ZU FSG UQP XQZPY UPAAPC, VQB ZL F JFSGFCZS LKPFRPC, CPXBHSZLPG UQP XQFCFXUPCL FL UQP GZHZUL WPCB FSG BSP. LQP LDHHPLUPG UQFU UQP UQCPP AZSPL XBDAG GPSBUP UQP SDJOPCL YZMP, YBDC, UQCPP ZS OZSFCN, UQBDHQ BUQPC CPFGZSHL FCP KBLLZOAP. ZY UQPN VPCP VCZUUPS XAFLLZXFAAN, YBC PEFJKAP UB OP CPFG MPCUZXFAAN CZHQU UB APYU, UQPS UQPN XBDAG GPSBUP LZE, BSP, YZMP. Z VBSGPCPG ZY UQZL CPYPCCPG UB UQP OBE SDJOPC, FL UQPCP FCP LPMPS QDSGCPG FSG LZEUN-UQCPP OBEPL ZS UQP MFDAU, ODU UQP OBE ZULPAY VFL FKKFCPSUAN UFRPS YCBJ XFLLPUUP UVPSUN-UQCPP, LB DSAPLL ZU QFL OPPS KDU OFXR ZS UQP VCBSH KAFXP LBJP UZJP UQPS Z GBS’U UQZSR UQFU XFS OP ZU. KPCQFKL LBJPBSP FU UQP OFSR JZHQU QFMP FS ZGPF. APU JP RSBV VQPS NBD QFMP FCCFSHPG UQP MFDAU FXXPLL YBC JP.\n",
    "\n",
    "NBDCL LZSXPCPAN,\n",
    "\n",
    "IFGP XZYCFC\n",
    "\"\"\""
   ]
  },
  {
   "cell_type": "code",
   "execution_count": 9,
   "metadata": {},
   "outputs": [
    {
     "name": "stdout",
     "output_type": "stream",
     "text": [
      "dear ms frank,\n",
      "\n",
      "hope you had a good weekend. thank you for the safety deposit box access records you sent, though can i suggest that in the future we use a higher level of security? even fairly inexperienced criminals can be familiar with these ciphers, and we don’t know who might be monitoring your communication channels.\n",
      "\n",
      "as promised, i examined the vault records in detail, and they do tell a story, though i am not sure what it means. there is a pattern in the numbers that is very suggestive and if you can expedite my request to spend some time alone in the vault then i hope to be able to investigate that further.\n",
      "\n",
      "re-examining the vault camera footage that you sent, i was surprised to see that culpeper has no actual footage of the lobby or vault itself. your security team explained that this is a privacy policy to ensure client confidentiality. it also seems to be the case that while customers sign in and out of the vault, bank staff are not required to do so. they told me that staff do not in general enter the inner chamber, and that no-one should enter the lobby unaccompanied while the vault is unlocked. the staff say that this protocol is taken very seriously; it is a sackable offense to enter the lobby alone. there is one exception. in order to ensure the security of the combination that opens the vault itself, the chief teller enters the lobby alone in the morning to open up. the head of security waits outside, then conducts a search of the teller when they leave the vault to ensure that nothing has been removed. the footage shows the pat down in progress that day, so i think it is fair to deduce that if the teller had removed anything from the safe then it would have been discovered at the time. that means that if anything was taken from the box, then it had already been removed when the teller and the security guard arrived.\n",
      "\n",
      "regarding the paper lining in the deposit box lid: i asked the bank staff about it and the chief teller, who is a mandarin speaker, recognised the characters as the digits zero and one. she suggested that the three lines could denote the numbers five, four, three in binary, though other readings are possible. if they were written classically, for example to be read vertically right to left, then they could denote six, one, five. i wondered if this referred to the box number, as there are seven hundred and sixty-three boxes in the vault, but the box itself was apparently taken from cassette twenty-three, so unless it has been put back in the wrong place some time then i don’t think that can be it. perhaps someone at the bank might have an idea. let me know when you have arranged the vault access for me.\n",
      "\n",
      "yours sincerely,\n",
      "\n",
      "jade cifrar\n",
      "\n"
     ]
    }
   ],
   "source": [
    "# Assume another affine\n",
    "# Looks like it's signed by Jade Cifrar -> I=j, F=a, G=d, P=e, X=c, Z=i, Y=f, C=r\n",
    "# \"UQP\" is probably \"the\" -> U=t, Q=h\n",
    "# Looks like a period of 9, shifted 5 right\n",
    "decode(part_b_text, \"loruxadgjmpsvybehknqtwzcfi\")"
   ]
  },
  {
   "cell_type": "code",
   "execution_count": null,
   "metadata": {},
   "outputs": [],
   "source": []
  }
 ],
 "metadata": {
  "kernelspec": {
   "display_name": "Python 3 (ipykernel)",
   "language": "python",
   "name": "python3"
  },
  "language_info": {
   "codemirror_mode": {
    "name": "ipython",
    "version": 3
   },
   "file_extension": ".py",
   "mimetype": "text/x-python",
   "name": "python",
   "nbconvert_exporter": "python",
   "pygments_lexer": "ipython3",
   "version": "3.10.4"
  }
 },
 "nbformat": 4,
 "nbformat_minor": 4
}
