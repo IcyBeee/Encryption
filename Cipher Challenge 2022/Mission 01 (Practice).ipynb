{
 "cells": [
  {
   "cell_type": "markdown",
   "metadata": {},
   "source": [
    "# Cipher Challenge 2022\n",
    "### Challenge 1 (Practice)\n",
    "\n",
    "Challenge link https://www.cipherchallenge.org/challenge/83338-2/"
   ]
  },
  {
   "cell_type": "code",
   "execution_count": 3,
   "metadata": {},
   "outputs": [],
   "source": [
    "# Part A - \"First impressions\"\n",
    "part_a_text = \"\"\"P DHZ OVWPUN P DVBSK MPUK FVB OLYL. DPAOVBA AOL VMMPJPHS ZBWWVYA VM IVZZ, PA PZ NVPUN AV IL OHYK AV AYHJR QVKPL KVDU HUK P HT NVPUN AV ULLK FVBY OLSW.\n",
    "\n",
    "P ZAVSL AOL HAAHJOLK UVAL (UVA ZBYL AOLYL PZ H ILAALY DHF AV WBA AOHA NPCLU AOHA AOPZ VWLYHAPVU PZ ZAYPJASF VMM AOL IVVRZ) MYVT SFUU MYHUR'Z VMMPJL, HUK P AOPUR PA PZ MYVT QVKPL. AOL DVYK ULPNOIVBYOVVK ZBNNLZAZ PA DHZ DYPAALU IF H UHAPCL LUNSPZO ZWLHRLY YHAOLY AOHU HU HTLYPJHU, HUK PA PZ ZPNULK VMM JPMYHY HNHPU. P JHSSLK AOHA HU HSPIP ILMVYL, IBA THFIL UVT KL NBLYYL PZ TVYL HWWYVWYPHAL.\n",
    "\n",
    "P ULLK APTL AV KLJPWOLY AOL YLWSF, IBA LCLU AOL WHWLY PA PZ DYPAALU VU PZ H JSBL. PA PZ AOL ZVYA FVB MPUK PU AOL MHUJF OVALSZ, ZV P DPSS ZAHYA SVVRPUN AOLYL. AOLF HYL UVA YLHSSF QVKPL'Z ZAFSL, IBA PM ZOL PZ MYLLSHUJPUN MVY IHURZ, ZOL DPSS DHUA AV NPCL AOL YPNOA PTWYLZZPVU. DOPJO NPCLZ TL HU PKLH. P AOPUR P DPSS AHRL H TBJO JSVZLY SVVR HA AOHA SLAALY.\n",
    "\"\"\""
   ]
  },
  {
   "cell_type": "code",
   "execution_count": 4,
   "metadata": {},
   "outputs": [],
   "source": [
    "# Bring in the basic decoder function\n",
    "import string\n",
    "\n",
    "# A simple translation method.\n",
    "# text: The text to translate, in upper case\n",
    "# key: A substitution alphabet, usually in lower case so that the translated characters show up\n",
    "def decode(text, key):\n",
    "    table = str.maketrans(string.ascii_uppercase, key)\n",
    "    print(text.upper().translate(table))"
   ]
  },
  {
   "cell_type": "code",
   "execution_count": 5,
   "metadata": {},
   "outputs": [
    {
     "name": "stdout",
     "output_type": "stream",
     "text": [
      "i was hoping i would find you here. without the official support of boss, it is going to be hard to track jodie down and i am going to need your help.\n",
      "\n",
      "i stole the attached note (not sure there is a better way to put that given that this operation is strictly off the books) from lynn frank's office, and i think it is from jodie. the word neighbourhood suggests it was written by a native english speaker rather than an american, and it is signed off cifrar again. i called that an alibi before, but maybe nom de guerre is more appropriate.\n",
      "\n",
      "i need time to decipher the reply, but even the paper it is written on is a clue. it is the sort you find in the fancy hotels, so i will start looking there. they are not really jodie's style, but if she is freelancing for banks, she will want to give the right impression. which gives me an idea. i think i will take a much closer look at that letter.\n",
      "\n"
     ]
    }
   ],
   "source": [
    "# As this is week 1, it's probably a Caesar cipher.  (There's a code wheel underneath!)\n",
    "# Lots of stray \"P\"s are probably \"I\" (shift 7 to right)\n",
    "decode(part_a_text, \"tuvwxyzabcdefghijklmnopqrs\")"
   ]
  },
  {
   "cell_type": "code",
   "execution_count": 6,
   "metadata": {},
   "outputs": [],
   "source": [
    "# Part B \"Lifting the lid on the mystery\"\n",
    "part_b_text = \"\"\"WXTK FL YKTGD,\n",
    "\n",
    "BM PTL ZKXTM FXXMBGZ RHN TGW B TF IEXTLXW MH TVVXIM MAX VHGMKTVM MH BGOXLMBZTMX MAX LMKTGZX VBKVNFLMTGVXL TM VNEIXIXK VHNGMR UTGD.\n",
    "\n",
    "TL WBLVNLLXW, B PBEE GXXW YNEE TVVXLL MH MAX UTGD MKTGLTVMBHG KXVHKWL, MAX VNKKXGM TGW KXVXGM LMTYY YBEXL, TGW TGR LNKOXBEETGVX YHHMTZX MATM RHN VTG IKHOBWX, XBMAXK YKHF MAX UTGD, MAX LMKXXML HNMLBWX HK YKHF GXBZAUHNKAHHW LMHKXL.\n",
    "\n",
    "B XQTFBGXW MAX UHQ MATM RHN YHNGW HG MAX YEHHK HY MAX OTNEM TGW GXXW MH VHKKXVM RHN HG HGX MABGZ. BM PTL GHM XFIMR. MAX BGLBWX HY MAX EBW ATW T LAXXM HY OXEENF ITIXK EBZAMER YBQXW MH BM TGW PAXG B KXFHOXW MATM B YHNGW GBGX VABGXLX VATKTVMXKL BGLVKBUXW BG T LJNTKX ITMMXKG HG MAX KXOXKLX. B MKTVXW MAXF HGMH MAX TMMTVAXW VHOXK LAXXM TGW PHNEW UX ZKTMXYNE BY RHN VHNEW TLD MAX UTGD HYYBVBTEL PAXMAXK MAXR KXVHZGBLX MAXF. BM BL IHLLBUEX MATM MAX ITIXK PTL ZENXW BG PAXG MAX UHQ PTL FTWX, BM PTL VXKMTBGER BGMXGWXW MH EHHD EBDX MATM, UNM ZBOXG MAX TULXGVX HY TGR HMAXK VENXL TM MABL IHBGM B MABGD BM BL PHKMA VAXVDBGZ BY MABL VHNEW ATOX TGR LBZGBYBVTGVX.\n",
    "\n",
    "RHN VTG VHGMTVM FX TM MAX KV; B PBEE UX FHOBGZ MAXKX MABL TYMXKGHHG TGW MAXR TKX XQIXVMBGZ T VTEE YKHF RHN MH TKKTGZX MAX XQIXGLXL YTVBEBMR MATM RHN HYYXKXW.\n",
    "\n",
    "B EHHD YHKPTKW MH RHNK KXIER.\n",
    "\n",
    "CTWX VBYKTK\n",
    "\"\"\""
   ]
  },
  {
   "cell_type": "code",
   "execution_count": 8,
   "metadata": {},
   "outputs": [
    {
     "name": "stdout",
     "output_type": "stream",
     "text": [
      "dear ms frank,\n",
      "\n",
      "it was great meeting you and i am pleased to accept the contract to investigate the strange circumstances at culpeper county bank.\n",
      "\n",
      "as discussed, i will need full access to the bank transaction records, the current and recent staff files, and any surveillance footage that you can provide, either from the bank, the streets outside or from neighbourhood stores.\n",
      "\n",
      "i examined the box that you found on the floor of the vault and need to correct you on one thing. it was not empty. the inside of the lid had a sheet of vellum paper lightly fixed to it and when i removed that i found nine chinese characters inscribed in a square pattern on the reverse. i traced them onto the attached cover sheet and would be grateful if you could ask the bank officials whether they recognise them. it is possible that the paper was glued in when the box was made, it was certainly intended to look like that, but given the absence of any other clues at this point i think it is worth checking if this could have any significance.\n",
      "\n",
      "you can contact me at the rc; i will be moving there this afternoon and they are expecting a call from you to arrange the expenses facility that you offered.\n",
      "\n",
      "i look forward to your reply.\n",
      "\n",
      "jade cifrar\n",
      "\n"
     ]
    }
   ],
   "source": [
    "# Could be another shift.  First word is probably \"Dear\".\n",
    "decode(part_b_text, \"hijklmnopqrstuvwxyzabcdefg\")"
   ]
  }
 ],
 "metadata": {
  "kernelspec": {
   "display_name": "Python 3 (ipykernel)",
   "language": "python",
   "name": "python3"
  },
  "language_info": {
   "codemirror_mode": {
    "name": "ipython",
    "version": 3
   },
   "file_extension": ".py",
   "mimetype": "text/x-python",
   "name": "python",
   "nbconvert_exporter": "python",
   "pygments_lexer": "ipython3",
   "version": "3.10.4"
  }
 },
 "nbformat": 4,
 "nbformat_minor": 4
}
