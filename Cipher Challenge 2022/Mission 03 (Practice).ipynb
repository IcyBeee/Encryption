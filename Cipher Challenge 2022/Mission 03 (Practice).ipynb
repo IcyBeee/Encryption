{
 "cells": [
  {
   "cell_type": "markdown",
   "metadata": {},
   "source": [
    "# Cipher Challenge 2022\n",
    "### Challenge 3 (Practice)\n",
    "\n",
    "Challenge link https://www.cipherchallenge.org/challenge/challenge-3/"
   ]
  },
  {
   "cell_type": "code",
   "execution_count": 2,
   "metadata": {},
   "outputs": [],
   "source": [
    "# Part A - \"What remains ...\"\n",
    "part_a_text = \"\"\"RWLQM QAUIS QVOBP QADMZ GMIAG NWZUM PMZZM KMVBK IAMVW BMAEM ZMTMN BWVIV MVKZG XBMLC AJSMG IBBIK PMLBW PMZSM GKPIQ VQPIL BISMV BPMAC QBMWX XWAQB MIVLZ MDMZA MLBPM AXGPW TMQVU GLWWZ AWQKW CTLEI BKPPM ZUWDM UMVBA QBPWC OPBQP ILJMM VKIZM NCTJC BQAEM IZBPI BAPMO TIVKM LWDMZ IBUMI AAPMT WKSML BPMLW WZBWP MZZWW UBPMV APMEI TSMLI EIGLW EVBPM KWZZQ LWZTM IDQVO BPMSM GAQVB PMTWK SQEWV LMZML QNQAP WCTLK ITTWC BBWPM ZJCBX MZPIX AAPME IAKPM KSQVO BPIBQ EIAVW BBPMZ MJMNW ZMTMI DQVOB PMSMG AZIBP MZBPI VBZGQ VOBWU ISMAC ZMQEI ACVBQ TQKIV JMKMZ BIQVB PIBAP MQAZM IKPQV OWCBQ EQTTP IDMBW JMLQA KZMMB BPMMV KZGXB QWVWV BPMCA JQAMI AGBWJ ZMISC AQVOI AQUXT MSMGE WZLAC JABQB CBQWV QBKWV BIQVA RCABW VMNQT MEQBP VWBMA WVPMZ QVDMA BQOIB QWVIV LAPMP IAKPI VVMTT MLPMZ QVVMZ APMZT WKSMT QUQVI BQVOB PMQUX WAAQJ TMBWI ZZQDM IBBPM WVTGT WOQKI TKWVK TCAQW VQVAP WZBAW UMWVM PIAIA MKZMB IVLAW UMWVM MTAMB PMKPQ MNBMT TMZEI VBABW SVWEE PIBQB QABPM GBPQV SRWLQ MKIVI AAQAB IVLUI GJMRW LQMQA BZGQV OBWBM TTUMI JWCBQ BQLWV BSVWE QNBPI BQAJM KICAM APMBP QVSAA PMVMM LAUGP MTXQI UXZMB BGACZ MAPML WMAVB WZQNA PMBPQ VSAQV MMLBW SVWEI JWCBQ BJCBC VBQTE MKIVN QVLIE IGBWZ MMABI JTQAP BZCAB QBQAO WQVOB WJMLQ NNQKC TBBWN QVLWC BEPQK P\"\"\""
   ]
  },
  {
   "cell_type": "code",
   "execution_count": 3,
   "metadata": {},
   "outputs": [],
   "source": [
    "# Bring in the basic decoder function\n",
    "import string\n",
    "\n",
    "# A simple translation method.\n",
    "# text: The text to translate, in upper case\n",
    "# key: A substitution alphabet, usually in lower case so that the translated characters show up\n",
    "def decode(text, key):\n",
    "    table = str.maketrans(string.ascii_uppercase, key)\n",
    "    print(text.upper().translate(table))"
   ]
  },
  {
   "cell_type": "code",
   "execution_count": 4,
   "metadata": {},
   "outputs": [
    {
     "name": "stdout",
     "output_type": "stream",
     "text": [
      "RWLQM QAUIS QVOBP QADMZ GMIAG NWZUM PMZZM KMVBK IAMVW BMAEM ZMTMN BWVIV MVKZG XBMLC AJSMG IBBIK PMLBW PMZSM GKPIQ VQPIL BISMV BPMAC QBMWX XWAQB MIVLZ MDMZA MLBPM AXGPW TMQVU GLWWZ AWQKW CTLEI BKPPM ZUWDM UMVBA QBPWC OPBQP ILJMM VKIZM NCTJC BQAEM IZBPI BAPMO TIVKM LWDMZ IBUMI AAPMT WKSML BPMLW WZBWP MZZWW UBPMV APMEI TSMLI EIGLW EVBPM KWZZQ LWZTM IDQVO BPMSM GAQVB PMTWK SQEWV LMZML QNQAP WCTLK ITTWC BBWPM ZJCBX MZPIX AAPME IAKPM KSQVO BPIBQ EIAVW BBPMZ MJMNW ZMTMI DQVOB PMSMG AZIBP MZBPI VBZGQ VOBWU ISMAC ZMQEI ACVBQ TQKIV JMKMZ BIQVB PIBAP MQAZM IKPQV OWCBQ EQTTP IDMBW JMLQA KZMMB BPMMV KZGXB QWVWV BPMCA JQAMI AGBWJ ZMISC AQVOI AQUXT MSMGE WZLAC JABQB CBQWV QBKWV BIQVA RCABW VMNQT MEQBP VWBMA WVPMZ QVDMA BQOIB QWVIV LAPMP IAKPI VVMTT MLPMZ QVVMZ APMZT WKSMT QUQVI BQVOB PMQUX WAAQJ TMBWI ZZQDM IBBPM WVTGT WOQKI TKWVK TCAQW VQVAP WZBAW UMWVM PIAIA MKZMB IVLAW UMWVM MTAMB PMKPQ MNBMT TMZEI VBABW SVWEE PIBQB QABPM GBPQV SRWLQ MKIVI AAQAB IVLUI GJMRW LQMQA BZGQV OBWBM TTUMI JWCBQ BQLWV BSVWE QNBPI BQAJM KICAM APMBP QVSAA PMVMM LAUGP MTXQI UXZMB BGACZ MAPML WMAVB WZQNA PMBPQ VSAQV MMLBW SVWEI JWCBQ BJCBC VBQTE MKIVN QVLIE IGBWZ MMABI JTQAP BZCAB QBQAO WQVOB WJMLQ NNQKC TBBWN QVLWC BEPQK P\n"
     ]
    }
   ],
   "source": [
    "#\n",
    "decode(part_a_text, \"ABCDEFGHIJKLMNOPQRSTUVWXYZ\")"
   ]
  },
  {
   "cell_type": "code",
   "execution_count": 5,
   "metadata": {},
   "outputs": [],
   "source": [
    "# Part B \"Show, don't Tell\"\n",
    "part_b_text = \"\"\"ZBGOF BZ GQO RZIOFGRPWGRBZ\n",
    "GQO TQRON GOXXOE OZGOEOS GQO IWHXG WTTBYCWZROS AL GQO QOWS BN FOTHERGL GQO ZRPQG AONBEO GQO RZTRSOZG GB TQOTV GQWG GQO SOCBFRG ABKOF JOEO FOTHEO WZS GB XBTV GQO IWHXG SBBE. WXX JWF RZ BESOE WG GQWG FGWPO.\n",
    "\n",
    "GQO FOTHERGL NBBGWPO FQBJF GQWG ZB-BZO WZS ZBGQRZP XONG GQO IWHXG BIOEZRPQG. GQO TWYOEWF JOEO YBZRGBEOS XRIO NEBY W EOYBGO XBTWGRBZ, WZS R QWIO EOIROJOS GQO NBBGWPO YLFOXN.\n",
    "\n",
    "WNGOE GQO GOXXOE XONG GQO IWHXG GB EWRFO GQO WXWEY, FQO WZS GQO FOTHERGL PHWES JOEO BZ TWYOEW HZGRX WSSRGRBZWX FOTHERGL WEERIOS WZS ZORGQOE BN GQOY QWS WZLGQRZP RZ GQORE CBFFOFFRBZ GQWG GQOL TBHXS ZBG WTTBHZG NBE.\n",
    "\n",
    "GQO SOCBFRG ABKOF WEO WXX OYCGL, OKTOCG GQWG GQOL OWTQ TBZGWRZ W CWCOE XRZRZP RZ GQO XRS YWEVOS JRGQ ZRZO TQRZOFO TQWEWTGOEF EOCEOFOZGRZP GQO SRPRGF BZO WZS MOEB, FBYO JRGQ GQO PERS RZFRSO WZ BHGXRZO WZS FBYO JRGQBHG. GQO YWEVRZPF WEO HZRDHO GB OWTQ ABK.\n",
    "\n",
    "TBZTXHFRBZ: GQO AWZV IWHXG JWF FOTHEO HZGRX BCOZOS RZ GQO YBEZRZP WZS ZBGQRZP JWF EOYBIOS RZ GQWG COERBS, FB JO TWZ EHXO BHG GQONG WF W YBGRIO NBE GQO AEOWV RZ. GQO BZXL COEFBZ JQB TBHXS QWIO SRFGHEAOS GQO IWHXG TBZGOZGF JWF GQO TQRON GOXXOE, AHG FQO ZBG BZXL NWRXOS GB TBZTOWX GQO SRFGHEAWZTO, FQO WXFB ZBGRNROS FOTHERGL WABHG RG. TXOWEXL, FQO JWZGOS WZ RZIOFGRPWGRBZ, AHG SRS ZBG JWZG GQO CBXRTO RZIBXIOS. R JWF AEBHPQG RZ WG PEOWG OKCOZFO OIOZ GQBHPQ THXCOCOE WXEOWSL OYCXBLF RGF BJZ FOTHERGL WZS RZIOFGRPWGRBZ GOWY JQRTQ QWF YWZL BN GQO FWYO FVRXXF WF R SB. GQOEO RF COEQWCF UHFG BZO GQRZP R TWZ SB AOGGOE GQWZ GQOY WZS GQWG RF GB AEOWV TBSOF WZS TRCQOEF. YWLAO GQWG RF JQL R WY QOEO. R AOXROIO GQWG GQO TQRON GOXXOE SOXRAOEWGOXL FGWPOS GQO AEOWV RZ GB QBBV YO, FB R TBHXS SRFTBIOE WZS AEOWV W TBSO QRSSOZ RZ GQO IWHXG. JQWG R SBZ’G LOG VZBJ RF, JQL?\n",
    "\n",
    "R SBZ’G GEHFG GQO TQRON GOXXOE, GQBHPQ R SBZ’G VZBJ JQWG FQO RF HC GB, WZS R WY ZBG FHEO GQWG R TWZ GEHFG XLZZ NEWZV, AHG WFFHYRZP GQWG R WY ERPQG GQOL ZOOS YO YBEO GQWZ R ZOOS GQOY, FB R FQBHXS AO FWNO NBE ZBJ JQRXO R NBTHF BZ GQO THXCOCOE TBSO.\"\"\""
   ]
  },
  {
   "cell_type": "code",
   "execution_count": 7,
   "metadata": {},
   "outputs": [
    {
     "name": "stdout",
     "output_type": "stream",
     "text": [
      "notes on the RnIestRPWtRon\n",
      "the ThReN teXXeE enteEeS the IWHXt WTToYCWnReS AL the heWS oN seTHERtL the nRPht AeNoEe the RnTRSent to TheTV thWt the SeCosRt AoKes JeEe seTHEe WnS to XoTV the IWHXt SooE. WXX JWs Rn oESeE Wt thWt stWPe.\n",
      "\n",
      "the seTHERtL NootWPe shoJs thWt no-one WnS nothRnP XeNt the IWHXt oIeEnRPht. the TWYeEWs JeEe YonRtoEeS XRIe NEoY W EeYote XoTWtRon, WnS R hWIe EeIReJeS the NootWPe YLseXN.\n",
      "\n",
      "WNteE the teXXeE XeNt the IWHXt to EWRse the WXWEY, she WnS the seTHERtL PHWES JeEe on TWYeEW HntRX WSSRtRonWX seTHERtL WEERIeS WnS neRtheE oN theY hWS WnLthRnP Rn theRE CossessRon thWt theL ToHXS not WTToHnt NoE.\n",
      "\n",
      "the SeCosRt AoKes WEe WXX eYCtL, eKTeCt thWt theL eWTh TontWRn W CWCeE XRnRnP Rn the XRS YWEVeS JRth nRne ThRnese ThWEWTteEs EeCEesentRnP the SRPRts one WnS MeEo, soYe JRth the PERS RnsRSe Wn oHtXRne WnS soYe JRthoHt. the YWEVRnPs WEe HnRDHe to eWTh AoK.\n",
      "\n",
      "TonTXHsRon: the AWnV IWHXt JWs seTHEe HntRX oCeneS Rn the YoEnRnP WnS nothRnP JWs EeYoIeS Rn thWt CeERoS, so Je TWn EHXe oHt theNt Ws W YotRIe NoE the AEeWV Rn. the onXL CeEson Jho ToHXS hWIe SRstHEAeS the IWHXt Tontents JWs the ThReN teXXeE, AHt she not onXL NWRXeS to TonTeWX the SRstHEAWnTe, she WXso notRNReS seTHERtL WAoHt Rt. TXeWEXL, she JWnteS Wn RnIestRPWtRon, AHt SRS not JWnt the CoXRTe RnIoXIeS. R JWs AEoHPht Rn Wt PEeWt eKCense eIen thoHPh THXCeCeE WXEeWSL eYCXoLs Rts oJn seTHERtL WnS RnIestRPWtRon teWY JhRTh hWs YWnL oN the sWYe sVRXXs Ws R So. theEe Rs CeEhWCs UHst one thRnP R TWn So AetteE thWn theY WnS thWt Rs to AEeWV ToSes WnS TRCheEs. YWLAe thWt Rs JhL R WY heEe. R AeXReIe thWt the ThReN teXXeE SeXRAeEWteXL stWPeS the AEeWV Rn to hooV Ye, so R ToHXS SRsToIeE WnS AEeWV W ToSe hRSSen Rn the IWHXt. JhWt R Son’t Let VnoJ Rs, JhL?\n",
      "\n",
      "R Son’t tEHst the ThReN teXXeE, thoHPh R Son’t VnoJ JhWt she Rs HC to, WnS R WY not sHEe thWt R TWn tEHst XLnn NEWnV, AHt WssHYRnP thWt R WY ERPht theL neeS Ye YoEe thWn R neeS theY, so R shoHXS Ae sWNe NoE noJ JhRXe R NoTHs on the THXCeCeE ToSe.\n"
     ]
    }
   ],
   "source": [
    "# Looks like GQO -> the, BZ -> on and ZBGOF -> notes\n",
    "decode(part_b_text, \"AoCDEstHIJKLMNePhRSTUVWXYn\")"
   ]
  },
  {
   "cell_type": "code",
   "execution_count": 9,
   "metadata": {},
   "outputs": [
    {
     "name": "stdout",
     "output_type": "stream",
     "text": [
      "notes on the investigation\n",
      "the ThieN teXXeE enteEed the vaHXt aTToYCanied AL the head oN seTHEitL the night AeNoEe the inTident to TheTV that the deCosit AoKes weEe seTHEe and to XoTV the vaHXt dooE. aXX was in oEdeE at that stage.\n",
      "\n",
      "the seTHEitL Nootage shows that no-one and nothing XeNt the vaHXt oveEnight. the TaYeEas weEe YonitoEed Xive NEoY a EeYote XoTation, and i have Eeviewed the Nootage YLseXN.\n",
      "\n",
      "aNteE the teXXeE XeNt the vaHXt to Eaise the aXaEY, she and the seTHEitL gHaEd weEe on TaYeEa HntiX additionaX seTHEitL aEEived and neitheE oN theY had anLthing in theiE Cossession that theL ToHXd not aTToHnt NoE.\n",
      "\n",
      "the deCosit AoKes aEe aXX eYCtL, eKTeCt that theL eaTh Tontain a CaCeE Xining in the Xid YaEVed with nine Thinese ThaEaTteEs EeCEesenting the digits one and MeEo, soYe with the gEid inside an oHtXine and soYe withoHt. the YaEVings aEe HniDHe to eaTh AoK.\n",
      "\n",
      "TonTXHsion: the AanV vaHXt was seTHEe HntiX oCened in the YoEning and nothing was EeYoved in that CeEiod, so we Tan EHXe oHt theNt as a Yotive NoE the AEeaV in. the onXL CeEson who ToHXd have distHEAed the vaHXt Tontents was the ThieN teXXeE, AHt she not onXL NaiXed to TonTeaX the distHEAanTe, she aXso notiNied seTHEitL aAoHt it. TXeaEXL, she wanted an investigation, AHt did not want the CoXiTe invoXved. i was AEoHght in at gEeat eKCense even thoHgh THXCeCeE aXEeadL eYCXoLs its own seTHEitL and investigation teaY whiTh has YanL oN the saYe sViXXs as i do. theEe is CeEhaCs UHst one thing i Tan do AetteE than theY and that is to AEeaV Todes and TiCheEs. YaLAe that is whL i aY heEe. i AeXieve that the ThieN teXXeE deXiAeEateXL staged the AEeaV in to hooV Ye, so i ToHXd disToveE and AEeaV a Tode hidden in the vaHXt. what i don’t Let Vnow is, whL?\n",
      "\n",
      "i don’t tEHst the ThieN teXXeE, thoHgh i don’t Vnow what she is HC to, and i aY not sHEe that i Tan tEHst XLnn NEanV, AHt assHYing that i aY Eight theL need Ye YoEe than i need theY, so i shoHXd Ae saNe NoE now whiXe i NoTHs on the THXCeCeE Tode.\n"
     ]
    }
   ],
   "source": [
    "# \"RnIestRPWtRon\" -> R=i, I=v, P=g, W=a\n",
    "# \"shoJs\" -> J=w\n",
    "# \"WnS\" -> S-d\n",
    "decode(part_b_text, \"AoCDEstHvwKLMNeghidTUVaXYn\")"
   ]
  },
  {
   "cell_type": "code",
   "execution_count": 10,
   "metadata": {},
   "outputs": [
    {
     "name": "stdout",
     "output_type": "stream",
     "text": [
      "notes on the investigation\n",
      "the chief teller entered the vault accompanied by the head of security the night before the incident to check that the deposit boxes were secure and to lock the vault door. all was in order at that stage.\n",
      "\n",
      "the security footage shows that no-one and nothing left the vault overnight. the cameras were monitored live from a remote location, and i have reviewed the footage myself.\n",
      "\n",
      "after the teller left the vault to raise the alarm, she and the security guard were on camera until additional security arrived and neither of them had anything in their possession that they could not account for.\n",
      "\n",
      "the deposit boxes are all empty, except that they each contain a paper lining in the lid marked with nine chinese characters representing the digits one and zero, some with the grid inside an outline and some without. the markings are unique to each box.\n",
      "\n",
      "conclusion: the bank vault was secure until opened in the morning and nothing was removed in that period, so we can rule out theft as a motive for the break in. the only person who could have disturbed the vault contents was the chief teller, but she not only failed to conceal the disturbance, she also notified security about it. clearly, she wanted an investigation, but did not want the police involved. i was brought in at great expense even though culpeper already employs its own security and investigation team which has many of the same skills as i do. there is perhaps just one thing i can do better than them and that is to break codes and ciphers. maybe that is why i am here. i believe that the chief teller deliberately staged the break in to hook me, so i could discover and break a code hidden in the vault. what i don’t yet know is, why?\n",
      "\n",
      "i don’t trust the chief teller, though i don’t know what she is up to, and i am not sure that i can trust lynn frank, but assuming that i am right they need me more than i need them, so i should be safe for now while i focus on the culpeper code.\n"
     ]
    }
   ],
   "source": [
    "# \"enteEed\" -> E=r\n",
    "# \"vaHXt\" -> H=u, X=l\n",
    "# \"aTToYCanied AL the head oN seTHEitL\" -> T=c, Y=m, C=p, A=b, L=y, N=f\n",
    "# \"Vnow\" -> V=k\n",
    "# \"UHst\" -> U=j\n",
    "# Fill in D=q, K=x, M=z\n",
    "decode(part_b_text, \"bopqrstuvwxyzfeghidcjkalmn\")"
   ]
  },
  {
   "cell_type": "code",
   "execution_count": 11,
   "metadata": {},
   "outputs": [
    {
     "name": "stdout",
     "output_type": "stream",
     "text": [
      "Decoded alphabet: watsonpqruvxyzbcdefghijklm\n",
      "Keyword: watson\n"
     ]
    }
   ],
   "source": [
    "import string\n",
    "\n",
    "# Attempts to determine the keyword used for a substitution cipher\n",
    "# alphabet: The substitution alphabet\n",
    "def decode_key(alphabet):\n",
    "    decoded_alphabet = \"\"\n",
    "    for letter in string.ascii_lowercase:\n",
    "        decoded_alphabet += chr(alphabet.find(letter) + ord(\"a\"))\n",
    "    print(f\"Decoded alphabet: {decoded_alphabet}\")\n",
    "    \n",
    "    remaining_letters = list(string.ascii_lowercase)\n",
    "    for pos, letter in enumerate(decoded_alphabet):\n",
    "        remaining_letters.remove(letter)\n",
    "        next_letter_index = remaining_letters.index(decoded_alphabet[pos+1])\n",
    "        if decoded_alphabet[pos+1:] == \"\".join(remaining_letters[next_letter_index:] + remaining_letters[:next_letter_index]):\n",
    "            print(f\"Keyword: {decoded_alphabet[:pos+2]}\")\n",
    "            break\n",
    "\n",
    "decode_key(\"bopqrstuvwxyzfeghidcjkalmn\")"
   ]
  },
  {
   "cell_type": "code",
   "execution_count": null,
   "metadata": {},
   "outputs": [],
   "source": []
  }
 ],
 "metadata": {
  "kernelspec": {
   "display_name": "Python 3 (ipykernel)",
   "language": "python",
   "name": "python3"
  },
  "language_info": {
   "codemirror_mode": {
    "name": "ipython",
    "version": 3
   },
   "file_extension": ".py",
   "mimetype": "text/x-python",
   "name": "python",
   "nbconvert_exporter": "python",
   "pygments_lexer": "ipython3",
   "version": "3.10.4"
  }
 },
 "nbformat": 4,
 "nbformat_minor": 4
}
