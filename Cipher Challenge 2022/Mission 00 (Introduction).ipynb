{
 "cells": [
  {
   "cell_type": "markdown",
   "metadata": {},
   "source": [
    "# Cipher Challenge 2022\n",
    "### Challenge 0 (Introduction) / 2022-Sep-14\n",
    "\n",
    "Challenge link https://www.cipherchallenge.org/challenge/introduction/"
   ]
  },
  {
   "cell_type": "code",
   "execution_count": 1,
   "metadata": {},
   "outputs": [],
   "source": [
    "# Part A - \"To B, or not to be \"\n",
    "part_a_text = \"\"\"\n",
    "GHDU E\n",
    "\n",
    "BRX FDQ DGG WKLV WR BRXU SLOH RI \\\"MXVW LQ FDVH\\\" OHWWHUV. LI BRX JHW WR UHDG LW WKHQ L VXVSHFW LW ZLOO UDLVH PRUH TXHVWLRQV WKDQ LW DQVZHUV DQG KRSHIXOOB L ZLOO EH DURXQG WR DQVZHU WKHP.\n",
    "\n",
    "LI HYHUBWKLQJ JRHV DFFRUGLQJ WR SODQ BRX ZRQ’W HYHQ RSHQ WKLV, DQG WKDW ZRXOG EH EHWWHU IRU XV DOO, HVSHFLDOOB IRU MRGLH.\n",
    "\n",
    "L DP ZULWLQJ WKLV VR LW FDQ EH XVHG DV HYLGHQFH LQ WKH KRSH LW ZRQ’W FRPH WR WKDW. DW WKH HQG RI WKH OLJKWKRXVH FRQVSLUDFB LQYHVWLJDWLRQ L WROG BRX WKDW MRGLH KDG UHTXHVWHG HAWHQGHG OHDYH DIWHU D KDUG FDVH, EXW WKDW ZDV QRW WUXH. VKH GLVDSSHDUHG OHDYLQJ PH D QRWH VXJJHVWLQJ WKDW VKH KDG MRLQHG WKH FRQVSLUDFB. L KDYH OHIW PB QRWHV IURP WKH HQG RI WKH LQYHVWLJDWLRQ LQ WKH FDVH ILOHV LQ FDVH WKHB KHOS.\n",
    "\n",
    "ZKHQ L UHDOLVHG WKDW VKH ZDVQ’W FRPLQJ EDFN L WUDFNHG KHU WR GHOKL ZKHUH L IRXQG D WURYH RI SDSHUV HASODLQLQJ PRUH DERXW WKH JURXS, DQG WKDW UHOLHYHG VRPH RI PB DQALHWB, EXW QRW DOO. D URJXH DJHQW LV QHYHU D JRRG WKLQJ ZKDWHYHU WKHLU PRWLYDWLRQ.\n",
    "\n",
    "L DVNHG D IHZ IULHQGV WR NHHS DQ HBH RXW IRU MRGLH DQG DW ODVW L WKLQN L PDB KDYH SLFNHG XS KHU WUDLO. D FROOHDJXH LQ WKH XV LQWHUFHSWHG WKH DWWDFKHG OHWWHU ZKLFK L DP SUHWWB VXUH ZDV DGGUHVVHG WR KHU. PV FLIUDU LV MXVW WKH VRUW RI DOLEL VKH ZRXOG XVH DQG WKLV LV WKH VRUW RI FDVH L FDQ LPDJLQH KHU ZRUNLQJ RQ.\n",
    "\n",
    "L ZLOO KHDG RYHU WR WKH XV WR VHH LI L FDQ WUDFN KHU GRZQ. LI L DP VXFFHVVIXO DQG FDQ SHUVXDGH KHU WR UHWXUQ, WKHQ BRX ZRQ’W JHW WR UHDG WKLV MRXUQDO. LI L IDLO WKHQ L JXHVV ZH KDYH VRPH GLIILFXOW FRQYHUVDWLRQV DKHDG.\n",
    "\n",
    "YHUB EHVW ZLVKHV,\n",
    "\n",
    "KDUUB\n",
    "\"\"\""
   ]
  },
  {
   "cell_type": "code",
   "execution_count": 2,
   "metadata": {},
   "outputs": [],
   "source": [
    "# Bring in the basic decoder function\n",
    "import string\n",
    "\n",
    "# A simple translation method.\n",
    "# text: The text to translate, in upper case\n",
    "# key: A substitution alphabet, usually in lower case so that the translated characters show up\n",
    "def decode(text, key):\n",
    "    table = str.maketrans(string.ascii_uppercase, key)\n",
    "    print(text.upper().translate(table))"
   ]
  },
  {
   "cell_type": "code",
   "execution_count": 7,
   "metadata": {},
   "outputs": [
    {
     "name": "stdout",
     "output_type": "stream",
     "text": [
      "\n",
      "dear b\n",
      "\n",
      "you can add this to your pile of \"just in case\" letters. if you get to read it then i suspect it will raise more questions than it answers and hopefully i will be around to answer them.\n",
      "\n",
      "if everything goes according to plan you won’t even open this, and that would be better for us all, especially for jodie.\n",
      "\n",
      "i am writing this so it can be used as evidence in the hope it won’t come to that. at the end of the lighthouse conspiracy investigation i told you that jodie had requested extended leave after a hard case, but that was not true. she disappeared leaving me a note suggesting that she had joined the conspiracy. i have left my notes from the end of the investigation in the case files in case they help.\n",
      "\n",
      "when i realised that she wasn’t coming back i tracked her to delhi where i found a trove of papers explaining more about the group, and that relieved some of my anxiety, but not all. a rogue agent is never a good thing whatever their motivation.\n",
      "\n",
      "i asked a few friends to keep an eye out for jodie and at last i think i may have picked up her trail. a colleague in the us intercepted the attached letter which i am pretty sure was addressed to her. ms cifrar is just the sort of alibi she would use and this is the sort of case i can imagine her working on.\n",
      "\n",
      "i will head over to the us to see if i can track her down. if i am successful and can persuade her to return, then you won’t get to read this journal. if i fail then i guess we have some difficult conversations ahead.\n",
      "\n",
      "very best wishes,\n",
      "\n",
      "harry\n",
      "\n"
     ]
    }
   ],
   "source": [
    "# As this is week 1, it's probably a Caesar cipher.  Signed by Harry (+3)\n",
    "decode(part_a_text, \"xyzabcdefghijklmnopqrstuvw\")"
   ]
  },
  {
   "cell_type": "code",
   "execution_count": 8,
   "metadata": {},
   "outputs": [],
   "source": [
    "part_b_text = \"\"\"\n",
    "YFDS JZ RHMSDS,\n",
    "\n",
    "H DJ BSHGHQT GX PXN HQ JP RDEDRHGP DZ RADHS XM GAF UHSTHQHD KDQVHQT DZZXRHDGHXQ HQ GAF AXEF GADG PXN BHCC KF DKCF GX DZZHZG HQ D YFCHRDGF JDGGFS. XQF XM XNS JFJKFSZ MHQYZ HGZFCM HQ GAF FIGSDXSYHQDSP EXZHGHXQ XM EXZZHKCP ADUHQT KFFQ SXKKFY, BAHCF QXG VQXBHQT BADG ADZ KFFQ ZGXCFQ XS GX BAXJ GAF HGFJZ KFCXQTFY.\n",
    "\n",
    "H DJ DMSDHY GADG GAHZ BHCC ZFFJ ZX AXEFCFZZCP NQZEFRHMHR GADG PXN BHCC KF SFCNRGDQG GX HQUXCUF PXNSZFCM BHGA XNS RDZF, AXBFUFS PXN DSF XNS KFZG AXEF. EFSADEZ HM H FIECDHQ GAF NQNZNDC RHSRNJZGDQRFZ HQ BAHRA BF MHQY XNSZFCUFZ GAFQ GAF JPZGFSP BHCC KF FQXNTA GX FQGHRF PXN. HM HG HZ QXG, H RDQ DZZNSF PXN GADG BF DSF ESFEDSFY GX EDP BFCC MXS PXNS GHJF, FIEFSGHZF, DQY FMMXSG.\n",
    "\n",
    "XQ GAF JXSQHQT XM GNFZYDP GBFQGP-MHSZG ONQF GAF RAHFM GFCCFS XEFQFY GAF ESFJHZFZ DQY RXQYNRGFY AFS NZNDC HQZEFRGHXQ. FUFSPGAHQT BDZ HQ XSYFS BHGA XQF DCDSJHQT FIRFEGHXQ: GAF YXXS GX GAF JDHQ UDNCG BDZ XEFQ DQY D KXI BDZ CPHQT XQ GAF MCXXS. BAHCF HG ZFFJFY FIGSFJFCP NQCHVFCP GADG GAF ZDMF ADY KFFQ CFMG HQ GAHZ ZGDGF ZHQRF MSHYDP DMGFSQXXQ, GAF CDRV XM DQP ZHTQ XM D KSFDV-HQ, XS DQP YHZGNSKDQRF GX GAF XGAFS RXQGFQGZ XM GAF ZDMF, CFY AFS GX GAF RXQRCNZHXQ GADG GAF RCFDQHQT XS ZFRNSHGP ZGDMM ADY MDHCFY GX ZFRNSF GAF UDNCG BAFQ RCXZHQT MXS GAF BFFVFQY. DCC GAF ZGDMM BFSF DYDJDQG GADG GAHZ RXNCY QXG KF GAF RDZF DQY BAHCF BF RDQQXG SNCF XNG GAF EXZZHKHCHGP XM D RXQZEHSDRP, BF ADUF KFFQ NQDKCF GX FZGDKCHZA DQP FUHYFQRF MXS GADG.\n",
    "\n",
    "MNSGAFS DYYHQT GX XNS RXQMNZHXQ, BF ADUF KFFQ NQDKCF GX FZGDKCHZA GAF ESXUFQDQRF XM GAF KXI HGZFCM. HG BDZ SFJXUFY MSXJ ZDMFGP YFEXZHG GBFQGP-GASFF, KNG GADG CFYTFS FQGSP ADZ QXG KFFQ NEYDGFY HQ XUFS GBX ANQYSFY PFDSZ. DZ BHGA XNS XGAFS KXIFZ GAF RXQGFQGZ DSF ESHUDGF GX GAF XBQFSZ, ZX BF ADUF QX VQXBCFYTF XM BADG HG JHTAG ADUF RXQGDHQFY, HM DQPGAHQT.\n",
    "\n",
    "THUFQ GAF RHSRNJZGDQRFZ GAF KDQV HZ SFCNRGDQG GX HQUXCUF GAF EXCHRF. HM QXGAHQT ADZ KFFQ ZGXCFQ, GAFQ HG HZ YHMMHRNCG GX ZFF BADG RSHJF RXNCY KF SFEXSGFY DQY GAF HQUFZGHTDGHXQ HGZFCM RXNCY ZFUFSFCP YDJDTF GSNZG HQ GAF KDQV. KP DZZXRHDGHXQ, GAHZ RXNCY DCZX ADSJ GAF HQGFSFZGZ XM XGAFS JFJKFSZ XM GAF UKD.\n",
    "\n",
    "H DJ GXCY GADG PXN DSF XQF XM GAF JXZG DRRXJECHZAFY HQUFZGHTDGXSZ HQ JDGGFSZ XM GAHZ VHQY, DQY GADG PXNS RXJECFGF YHZRSFGHXQ RDQ KF DZZNJFY. H DJ GAFSFMXSF BSHGHQT GX DZV HM PXN BXNCY KF BHCCHQT GX GDVF GAHZ XQ MXS NZ. HM PXN RDQ DZZNSF NZ GADG QX ADSJ ADZ KFMDCCFQ GAF KDQV, GAFQ BF BHCC RCXZF GAF RDZF DQY SFZG FDZP. HM PXN RDQ MHQY FUHYFQRF XM MXNC ECDP KNG DSF NQDKCF GX RXQRCNYF GAF HQUFZGHTDGHXQ, GAFQ BF BHCC HQUHGF GAF CXRDC XS MFYFSDC DNGAXSHGHFZ GX GDVF XUFS. HM PXN DSF BHCCHQT DQY DKCF GX ZXCUF GAF JPZGFSP MXS NZ GAFQ, HQ DYYHGHXQ GX PXNS NZNDC MFF, BF BHCC KF DKCF GX XMMFS D ZHTQHMHRDQG KXQNZ. BF AXEF PXN BHCC DTSFF GX DG CFDZG YHZRNZZ GAF RDZF BHGA NZ.\n",
    "\n",
    "PXNSZ ZHQRFSFCP,\n",
    "\n",
    "CPQQ MSDQV.\n",
    "\"\"\""
   ]
  },
  {
   "cell_type": "code",
   "execution_count": 12,
   "metadata": {},
   "outputs": [
    {
     "name": "stdout",
     "output_type": "stream",
     "text": [
      "\n",
      "dear ms RiMrar,\n",
      "\n",
      "i am writing tX PXN in mP RaEaRitP as RAair XM tAe Uirginia KanVing assXRiatiXn in tAe AXEe tAat PXN wiCC Ke aKCe tX assist in a deCiRate matter. Xne XM XNr memKers Minds itseCM in tAe eItraXrdinarP EXsitiXn XM EXssiKCP AaUing Keen rXKKed, wAiCe nXt VnXwing wAat Aas Keen stXCen Xr tX wAXm tAe items KeCXnged.\n",
      "\n",
      "i am aMraid tAat tAis wiCC seem sX AXEeCessCP NnsEeRiMiR tAat PXN wiCC Ke reCNRtant tX inUXCUe PXNrseCM witA XNr Rase, AXweUer PXN are XNr Kest AXEe. EerAaEs iM i eIECain tAe NnNsNaC RirRNmstanRes in wAiRA we Mind XNrseCUes tAen tAe mPsterP wiCC Ke enXNgA tX entiRe PXN. iM it is nXt, i Ran assNre PXN tAat we are EreEared tX EaP weCC MXr PXNr time, eIEertise, and eMMXrt.\n",
      "\n",
      "Xn tAe mXrning XM tNesdaP twentP-Mirst ONne tAe RAieM teCCer XEened tAe Eremises and RXndNRted Aer NsNaC insEeRtiXn. eUerPtAing was in Xrder witA Xne aCarming eIReEtiXn: tAe dXXr tX tAe main UaNCt was XEen and a KXI was CPing Xn tAe MCXXr. wAiCe it seemed eItremeCP NnCiVeCP tAat tAe saMe Aad Keen CeMt in tAis state sinRe MridaP aMternXXn, tAe CaRV XM anP sign XM a KreaV-in, Xr anP distNrKanRe tX tAe XtAer RXntents XM tAe saMe, Ced Aer tX tAe RXnRCNsiXn tAat tAe RCeaning Xr seRNritP staMM Aad MaiCed tX seRNre tAe UaNCt wAen RCXsing MXr tAe weeVend. aCC tAe staMM were adamant tAat tAis RXNCd nXt Ke tAe Rase and wAiCe we RannXt rNCe XNt tAe EXssiKiCitP XM a RXnsEiraRP, we AaUe Keen NnaKCe tX estaKCisA anP eUidenRe MXr tAat.\n",
      "\n",
      "MNrtAer adding tX XNr RXnMNsiXn, we AaUe Keen NnaKCe tX estaKCisA tAe ErXUenanRe XM tAe KXI itseCM. it was remXUed MrXm saMetP deEXsit twentP-tAree, KNt tAat Cedger entrP Aas nXt Keen NEdated in XUer twX ANndred Pears. as witA XNr XtAer KXIes tAe RXntents are EriUate tX tAe Xwners, sX we AaUe nX VnXwCedge XM wAat it migAt AaUe RXntained, iM anPtAing.\n",
      "\n",
      "giUen tAe RirRNmstanRes tAe KanV is reCNRtant tX inUXCUe tAe EXCiRe. iM nXtAing Aas Keen stXCen, tAen it is diMMiRNCt tX see wAat Rrime RXNCd Ke reEXrted and tAe inUestigatiXn itseCM RXNCd seUereCP damage trNst in tAe KanV. KP assXRiatiXn, tAis RXNCd aCsX Aarm tAe interests XM XtAer memKers XM tAe UKa.\n",
      "\n",
      "i am tXCd tAat PXN are Xne XM tAe mXst aRRXmECisAed inUestigatXrs in matters XM tAis Vind, and tAat PXNr RXmECete disRretiXn Ran Ke assNmed. i am tAereMXre writing tX asV iM PXN wXNCd Ke wiCCing tX taVe tAis Xn MXr Ns. iM PXN Ran assNre Ns tAat nX Aarm Aas KeMaCCen tAe KanV, tAen we wiCC RCXse tAe Rase and rest easP. iM PXN Ran Mind eUidenRe XM MXNC ECaP KNt are NnaKCe tX RXnRCNde tAe inUestigatiXn, tAen we wiCC inUite tAe CXRaC Xr MederaC aNtAXrities tX taVe XUer. iM PXN are wiCCing and aKCe tX sXCUe tAe mPsterP MXr Ns tAen, in additiXn tX PXNr NsNaC Mee, we wiCC Ke aKCe tX XMMer a signiMiRant KXnNs. we AXEe PXN wiCC agree tX at Ceast disRNss tAe Rase witA Ns.\n",
      "\n",
      "PXNrs sinRereCP,\n",
      "\n",
      "CPnn MranV.\n",
      "\n"
     ]
    }
   ],
   "source": [
    "# Not sure if this is a shift.  I think it starts \"Dear Ms ?????? I am writing in\"...\n",
    "decode(part_b_text, \"AwCaEetiImKLMNOPnRrgUVWXds\")"
   ]
  },
  {
   "cell_type": "code",
   "execution_count": 17,
   "metadata": {},
   "outputs": [
    {
     "name": "stdout",
     "output_type": "stream",
     "text": [
      "\n",
      "dear ms cifrar,\n",
      "\n",
      "i am writing to you in my capacity as chair of the virginia banking association in the hope that you will be able to assist in a delicate matter. one of our members finds itself in the extraordinary position of possibly having been robbed, while not knowing what has been stolen or to whom the items belonged.\n",
      "\n",
      "i am afraid that this will seem so hopelessly unspecific that you will be reluctant to involve yourself with our case, however you are our best hope. perhaps if i explain the unusual circumstances in which we find ourselves then the mystery will be enough to entice you. if it is not, i can assure you that we are prepared to pay well for your time, expertise, and effort.\n",
      "\n",
      "on the morning of tuesday twenty-first june the chief teller opened the premises and conducted her usual inspection. everything was in order with one alarming exception: the door to the main vault was open and a box was lying on the floor. while it seemed extremely unlikely that the safe had been left in this state since friday afternoon, the lack of any sign of a break-in, or any disturbance to the other contents of the safe, led her to the conclusion that the cleaning or security staff had failed to secure the vault when closing for the weekend. all the staff were adamant that this could not be the case and while we cannot rule out the possibility of a conspiracy, we have been unable to establish any evidence for that.\n",
      "\n",
      "further adding to our confusion, we have been unable to establish the provenance of the box itself. it was removed from safety deposit twenty-three, but that ledger entry has not been updated in over two hundred years. as with our other boxes the contents are private to the owners, so we have no knowledge of what it might have contained, if anything.\n",
      "\n",
      "given the circumstances the bank is reluctant to involve the police. if nothing has been stolen, then it is difficult to see what crime could be reported and the investigation itself could severely damage trust in the bank. by association, this could also harm the interests of other members of the vba.\n",
      "\n",
      "i am told that you are one of the most accomplished investigators in matters of this kind, and that your complete discretion can be assumed. i am therefore writing to ask if you would be willing to take this on for us. if you can assure us that no harm has befallen the bank, then we will close the case and rest easy. if you can find evidence of foul play but are unable to conclude the investigation, then we will invite the local or federal authorities to take over. if you are willing and able to solve the mystery for us then, in addition to your usual fee, we will be able to offer a significant bonus. we hope you will agree to at least discuss the case with us.\n",
      "\n",
      "yours sincerely,\n",
      "\n",
      "lynn frank.\n",
      "\n"
     ]
    }
   ],
   "source": [
    "# Looks right...\n",
    "# \"RiMrar\" -> \"cifrar\" (from previous text) R=c, M=f\n",
    "# \"writing tX\" -> X=o\n",
    "# \"in mP RaEaRitP\" -> P=y, R=c, E=p,\n",
    "# \"Uirginia\" -> U=v\n",
    "# \"wiCC agree tX at Ceast disRNss tAe Rase witA Ns\" -> C=l, N=u, A=h\n",
    "# \"distNrKanRe\" -> K=b\n",
    "# \"eIECain\" ->I=x\n",
    "# \"twentP-Mirst ONne\" -> O=j\n",
    "# \"weeVend\" -> V=k\n",
    "# Leaves W=q, L=z (not present)\n",
    "decode(part_b_text, \"hwlapetixmbqfujyncrgvkzods\")"
   ]
  },
  {
   "cell_type": "code",
   "execution_count": 18,
   "metadata": {},
   "outputs": [
    {
     "name": "stdout",
     "output_type": "stream",
     "text": [
      "Decoded alphabet: dkryfmtahovcjqxelszgnubipw\n",
      "Keyword: dkryfmtahovcjqxelszgnub\n"
     ]
    }
   ],
   "source": [
    "import string\n",
    "\n",
    "# Attempts to determine the keyword used for a substitution cipher\n",
    "# alphabet: The substitution alphabet\n",
    "def decode_key(alphabet):\n",
    "    decoded_alphabet = \"\"\n",
    "    for letter in string.ascii_lowercase:\n",
    "        decoded_alphabet += chr(alphabet.find(letter) + ord(\"a\"))\n",
    "    print(f\"Decoded alphabet: {decoded_alphabet}\")\n",
    "    \n",
    "    remaining_letters = list(string.ascii_lowercase)\n",
    "    for pos, letter in enumerate(decoded_alphabet):\n",
    "        remaining_letters.remove(letter)\n",
    "        next_letter_index = remaining_letters.index(decoded_alphabet[pos+1])\n",
    "        if decoded_alphabet[pos+1:] == \"\".join(remaining_letters[next_letter_index:] + remaining_letters[:next_letter_index]):\n",
    "            print(f\"Keyword: {decoded_alphabet[:pos+2]}\")\n",
    "            break\n",
    "            \n",
    "decode_key(\"hwlapetixmbqfujyncrgvkzods\")"
   ]
  },
  {
   "cell_type": "code",
   "execution_count": 19,
   "metadata": {},
   "outputs": [],
   "source": [
    "# Hmm."
   ]
  }
 ],
 "metadata": {
  "kernelspec": {
   "display_name": "Python 3 (ipykernel)",
   "language": "python",
   "name": "python3"
  },
  "language_info": {
   "codemirror_mode": {
    "name": "ipython",
    "version": 3
   },
   "file_extension": ".py",
   "mimetype": "text/x-python",
   "name": "python",
   "nbconvert_exporter": "python",
   "pygments_lexer": "ipython3",
   "version": "3.11.0"
  }
 },
 "nbformat": 4,
 "nbformat_minor": 4
}
