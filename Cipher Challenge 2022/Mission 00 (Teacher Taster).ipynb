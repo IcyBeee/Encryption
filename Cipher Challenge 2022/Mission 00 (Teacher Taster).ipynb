{
 "cells": [
  {
   "cell_type": "markdown",
   "metadata": {},
   "source": [
    "# Cipher Challenge 2021\n",
    "### Challenge 0 (Teacher Taster)\n",
    "\n",
    "Challenge link https://www.cipherchallenge.org/challenge/introduction/"
   ]
  },
  {
   "cell_type": "code",
   "execution_count": 1,
   "metadata": {},
   "outputs": [],
   "source": [
    "# Part B - \"The Vault\"\n",
    "part_b_text = \"\"\"\n",
    "YFDS JZ RHMSDS,\n",
    "\n",
    "H DJ BSHGHQT GX PXN HQ JP RDEDRHGP DZ RADHS XM GAF UHSTHQHD KDQVHQT DZZXRHDGHXQ HQ GAF AXEF GADG PXN BHCC KF DKCF GX DZZHZG HQ D YFCHRDGF JDGGFS. XQF XM XNS JFJKFSZ MHQYZ HGZFCM HQ GAF FIGSDXSYHQDSP EXZHGHXQ XM EXZZHKCP ADUHQT KFFQ SXKKFY, BAHCF QXG VQXBHQT BADG ADZ KFFQ ZGXCFQ XS GX BAXJ GAF HGFJZ KFCXQTFY.\n",
    "\n",
    "H DJ DMSDHY GADG GAHZ BHCC ZFFJ ZX AXEFCFZZCP NQZEFRHMHR GADG PXN BHCC KF SFCNRGDQG GX HQUXCUF PXNSZFCM BHGA XNS RDZF, AXBFUFS PXN DSF XNS KFZG AXEF. EFSADEZ HM H FIECDHQ GAF NQNZNDC RHSRNJZGDQRFZ HQ BAHRA BF MHQY XNSZFCUFZ GAFQ GAF JPZGFSP BHCC KF FQXNTA GX FQGHRF PXN. HM HG HZ QXG, H RDQ DZZNSF PXN GADG BF DSF ESFEDSFY GX EDP BFCC MXS PXNS GHJF, FIEFSGHZF, DQY FMMXSG.\n",
    "\n",
    "XQ GAF JXSQHQT XM GNFZYDP GBFQGP-MHSZG ONQF GAF RAHFM GFCCFS XEFQFY GAF ESFJHZFZ DQY RXQYNRGFY AFS NZNDC HQZEFRGHXQ. FUFSPGAHQT BDZ HQ XSYFS BHGA XQF DCDSJHQT FIRFEGHXQ: GAF YXXS GX GAF JDHQ UDNCG BDZ XEFQ DQY D KXI BDZ CPHQT XQ GAF MCXXS. BAHCF HG ZFFJFY FIGSFJFCP NQCHVFCP GADG GAF ZDMF ADY KFFQ CFMG HQ GAHZ ZGDGF ZHQRF MSHYDP DMGFSQXXQ, GAF CDRV XM DQP ZHTQ XM D KSFDV-HQ, XS DQP YHZGNSKDQRF GX GAF XGAFS RXQGFQGZ XM GAF ZDMF, CFY AFS GX GAF RXQRCNZHXQ GADG GAF RCFDQHQT XS ZFRNSHGP ZGDMM ADY MDHCFY GX ZFRNSF GAF UDNCG BAFQ RCXZHQT MXS GAF BFFVFQY. DCC GAF ZGDMM BFSF DYDJDQG GADG GAHZ RXNCY QXG KF GAF RDZF DQY BAHCF BF RDQQXG SNCF XNG GAF EXZZHKHCHGP XM D RXQZEHSDRP, BF ADUF KFFQ NQDKCF GX FZGDKCHZA DQP FUHYFQRF MXS GADG.\n",
    "\n",
    "MNSGAFS DYYHQT GX XNS RXQMNZHXQ, BF ADUF KFFQ NQDKCF GX FZGDKCHZA GAF ESXUFQDQRF XM GAF KXI HGZFCM. HG BDZ SFJXUFY MSXJ ZDMFGP YFEXZHG GBFQGP-GASFF, KNG GADG CFYTFS FQGSP ADZ QXG KFFQ NEYDGFY HQ XUFS GBX ANQYSFY PFDSZ. DZ BHGA XNS XGAFS KXIFZ GAF RXQGFQGZ DSF ESHUDGF GX GAF XBQFSZ, ZX BF ADUF QX VQXBCFYTF XM BADG HG JHTAG ADUF RXQGDHQFY, HM DQPGAHQT.\n",
    "\n",
    "THUFQ GAF RHSRNJZGDQRFZ GAF KDQV HZ SFCNRGDQG GX HQUXCUF GAF EXCHRF. HM QXGAHQT ADZ KFFQ ZGXCFQ, GAFQ HG HZ YHMMHRNCG GX ZFF BADG RSHJF RXNCY KF SFEXSGFY DQY GAF HQUFZGHTDGHXQ HGZFCM RXNCY ZFUFSFCP YDJDTF GSNZG HQ GAF KDQV. KP DZZXRHDGHXQ, GAHZ RXNCY DCZX ADSJ GAF HQGFSFZGZ XM XGAFS JFJKFSZ XM GAF UKD.\n",
    "\n",
    "H DJ GXCY GADG PXN DSF XQF XM GAF JXZG DRRXJECHZAFY HQUFZGHTDGXSZ HQ JDGGFSZ XM GAHZ VHQY, DQY GADG PXNS RXJECFGF YHZRSFGHXQ RDQ KF DZZNJFY. H DJ GAFSFMXSF BSHGHQT GX DZV HM PXN BXNCY KF BHCCHQT GX GDVF GAHZ XQ MXS NZ. HM PXN RDQ DZZNSF NZ GADG QX ADSJ ADZ KFMDCCFQ GAF KDQV, GAFQ BF BHCC RCXZF GAF RDZF DQY SFZG FDZP. HM PXN RDQ MHQY FUHYFQRF XM MXNC ECDP KNG DSF NQDKCF GX RXQRCNYF GAF HQUFZGHTDGHXQ, GAFQ BF BHCC HQUHGF GAF CXRDC XS MFYFSDC DNGAXSHGHFZ GX GDVF XUFS. HM PXN DSF BHCCHQT DQY DKCF GX ZXCUF GAF JPZGFSP MXS NZ GAFQ, HQ DYYHGHXQ GX PXNS NZNDC MFF, BF BHCC KF DKCF GX XMMFS D ZHTQHMHRDQG KXQNZ. BF AXEF PXN BHCC DTSFF GX DG CFDZG YHZRNZZ GAF RDZF BHGA NZ.\n",
    "\n",
    "PXNSZ ZHQRFSFCP,\n",
    "\n",
    "CPQQ MSDQV.\"\"\""
   ]
  },
  {
   "cell_type": "code",
   "execution_count": 4,
   "metadata": {},
   "outputs": [
    {
     "name": "stdout",
     "output_type": "stream",
     "text": [
      "F: 290 (12.65%) G: 224 (9.77%) X: 175 (7.63%) D: 167 (7.28%) H: 167 (7.28%)\n",
      "Q: 161 (7.02%) Z: 135 (5.89%) A: 117 (5.10%) S: 114 (4.97%) C: 101 (4.40%)\n",
      "N: 76 (3.31%) R: 69 (3.01%) M: 68 (2.97%) Y: 64 (2.79%) P: 51 (2.22%)\n",
      "B: 50 (2.18%) K: 46 (2.01%) J: 38 (1.66%) E: 31 (1.35%) T: 30 (1.31%)\n",
      "U: 30 (1.31%) ,: 22 (0.96%) .: 22 (0.96%) \n",
      ": 17 (0.74%) V: 15 (0.65%)\n",
      "I:  8 (0.35%) -:  3 (0.13%) O:  1 (0.04%) ::  1 (0.04%) \n",
      "-----\n"
     ]
    }
   ],
   "source": [
    "from collections import Counter\n",
    "\n",
    "# Takes a string or list of items and counts the frequencies of those items\n",
    "# data: The list or string to analyse\n",
    "# max_values: The maximum number of values to display (set to None for no limit)\n",
    "# no_columns: The amount of columns to use in the output\n",
    "def frequency_analysis(data, max_values=30, no_columns=5):\n",
    "    frequencies = Counter()\n",
    "    for item in data:\n",
    "        frequencies[item] += 1\n",
    "    \n",
    "    total = sum(frequencies.values())\n",
    "    column = 1\n",
    "    for item, frequency in frequencies.most_common(max_values):\n",
    "        print(f\"{item}: {frequency:2} ({frequency / total:.2%})\", end=\" \" if column % no_columns else \"\\n\")\n",
    "        column += 1\n",
    "    print(\"\\n-----\")\n",
    "    \n",
    "frequency_analysis(part_b_text.replace(\" \",\"\"))"
   ]
  },
  {
   "cell_type": "code",
   "execution_count": 5,
   "metadata": {},
   "outputs": [],
   "source": [
    "# Bring in the basic decoder function\n",
    "import string\n",
    "\n",
    "# A simple translation method.\n",
    "# text: The text to translate, in upper case\n",
    "# key: A substitution alphabet, usually in lower case so that the translated characters show up\n",
    "def decode(text, key):\n",
    "    table = str.maketrans(string.ascii_uppercase, key)\n",
    "    print(text.upper().translate(table))"
   ]
  },
  {
   "cell_type": "code",
   "execution_count": 9,
   "metadata": {},
   "outputs": [
    {
     "name": "stdout",
     "output_type": "stream",
     "text": [
      "\n",
      "YeDS JZ RHMSDS,\n",
      "\n",
      "H DJ BSHtHQT tX PXN HQ JP RDEDRHtP DZ RhDHS XM the UHSTHQHD KDQVHQT DZZXRHDtHXQ HQ the hXEe thDt PXN BHCC Ke DKCe tX DZZHZt HQ D YeCHRDte JDtteS. XQe XM XNS JeJKeSZ MHQYZ HtZeCM HQ the eItSDXSYHQDSP EXZHtHXQ XM EXZZHKCP hDUHQT KeeQ SXKKeY, BhHCe QXt VQXBHQT BhDt hDZ KeeQ ZtXCeQ XS tX BhXJ the HteJZ KeCXQTeY.\n",
      "\n",
      "H DJ DMSDHY thDt thHZ BHCC ZeeJ ZX hXEeCeZZCP NQZEeRHMHR thDt PXN BHCC Ke SeCNRtDQt tX HQUXCUe PXNSZeCM BHth XNS RDZe, hXBeUeS PXN DSe XNS KeZt hXEe. EeShDEZ HM H eIECDHQ the NQNZNDC RHSRNJZtDQReZ HQ BhHRh Be MHQY XNSZeCUeZ theQ the JPZteSP BHCC Ke eQXNTh tX eQtHRe PXN. HM Ht HZ QXt, H RDQ DZZNSe PXN thDt Be DSe ESeEDSeY tX EDP BeCC MXS PXNS tHJe, eIEeStHZe, DQY eMMXSt.\n",
      "\n",
      "XQ the JXSQHQT XM tNeZYDP tBeQtP-MHSZt ONQe the RhHeM teCCeS XEeQeY the ESeJHZeZ DQY RXQYNRteY heS NZNDC HQZEeRtHXQ. eUeSPthHQT BDZ HQ XSYeS BHth XQe DCDSJHQT eIReEtHXQ: the YXXS tX the JDHQ UDNCt BDZ XEeQ DQY D KXI BDZ CPHQT XQ the MCXXS. BhHCe Ht ZeeJeY eItSeJeCP NQCHVeCP thDt the ZDMe hDY KeeQ CeMt HQ thHZ ZtDte ZHQRe MSHYDP DMteSQXXQ, the CDRV XM DQP ZHTQ XM D KSeDV-HQ, XS DQP YHZtNSKDQRe tX the XtheS RXQteQtZ XM the ZDMe, CeY heS tX the RXQRCNZHXQ thDt the RCeDQHQT XS ZeRNSHtP ZtDMM hDY MDHCeY tX ZeRNSe the UDNCt BheQ RCXZHQT MXS the BeeVeQY. DCC the ZtDMM BeSe DYDJDQt thDt thHZ RXNCY QXt Ke the RDZe DQY BhHCe Be RDQQXt SNCe XNt the EXZZHKHCHtP XM D RXQZEHSDRP, Be hDUe KeeQ NQDKCe tX eZtDKCHZh DQP eUHYeQRe MXS thDt.\n",
      "\n",
      "MNStheS DYYHQT tX XNS RXQMNZHXQ, Be hDUe KeeQ NQDKCe tX eZtDKCHZh the ESXUeQDQRe XM the KXI HtZeCM. Ht BDZ SeJXUeY MSXJ ZDMetP YeEXZHt tBeQtP-thSee, KNt thDt CeYTeS eQtSP hDZ QXt KeeQ NEYDteY HQ XUeS tBX hNQYSeY PeDSZ. DZ BHth XNS XtheS KXIeZ the RXQteQtZ DSe ESHUDte tX the XBQeSZ, ZX Be hDUe QX VQXBCeYTe XM BhDt Ht JHTht hDUe RXQtDHQeY, HM DQPthHQT.\n",
      "\n",
      "THUeQ the RHSRNJZtDQReZ the KDQV HZ SeCNRtDQt tX HQUXCUe the EXCHRe. HM QXthHQT hDZ KeeQ ZtXCeQ, theQ Ht HZ YHMMHRNCt tX Zee BhDt RSHJe RXNCY Ke SeEXSteY DQY the HQUeZtHTDtHXQ HtZeCM RXNCY ZeUeSeCP YDJDTe tSNZt HQ the KDQV. KP DZZXRHDtHXQ, thHZ RXNCY DCZX hDSJ the HQteSeZtZ XM XtheS JeJKeSZ XM the UKD.\n",
      "\n",
      "H DJ tXCY thDt PXN DSe XQe XM the JXZt DRRXJECHZheY HQUeZtHTDtXSZ HQ JDtteSZ XM thHZ VHQY, DQY thDt PXNS RXJECete YHZRSetHXQ RDQ Ke DZZNJeY. H DJ theSeMXSe BSHtHQT tX DZV HM PXN BXNCY Ke BHCCHQT tX tDVe thHZ XQ MXS NZ. HM PXN RDQ DZZNSe NZ thDt QX hDSJ hDZ KeMDCCeQ the KDQV, theQ Be BHCC RCXZe the RDZe DQY SeZt eDZP. HM PXN RDQ MHQY eUHYeQRe XM MXNC ECDP KNt DSe NQDKCe tX RXQRCNYe the HQUeZtHTDtHXQ, theQ Be BHCC HQUHte the CXRDC XS MeYeSDC DNthXSHtHeZ tX tDVe XUeS. HM PXN DSe BHCCHQT DQY DKCe tX ZXCUe the JPZteSP MXS NZ theQ, HQ DYYHtHXQ tX PXNS NZNDC Mee, Be BHCC Ke DKCe tX XMMeS D ZHTQHMHRDQt KXQNZ. Be hXEe PXN BHCC DTSee tX Dt CeDZt YHZRNZZ the RDZe BHth NZ.\n",
      "\n",
      "PXNSZ ZHQReSeCP,\n",
      "\n",
      "CPQQ MSDQV.\n"
     ]
    }
   ],
   "source": [
    "# Assuming F=e and G=t, lots of \"GAF\" implies A=h\n",
    "decode(part_b_text, \"hBCDEetHIJKLMNOPQRSTUVWXYZ\")"
   ]
  },
  {
   "cell_type": "code",
   "execution_count": 14,
   "metadata": {},
   "outputs": [
    {
     "name": "stdout",
     "output_type": "stream",
     "text": [
      "\n",
      "dear mZ RiMrar,\n",
      "\n",
      "i am BritiQT tX PXN iQ mP RaEaRitP aZ Rhair XM the UirTiQia KaQViQT aZZXRiatiXQ iQ the hXEe that PXN BiCC Ke aKCe tX aZZiZt iQ a deCiRate matter. XQe XM XNr memKerZ MiQdZ itZeCM iQ the eItraXrdiQarP EXZitiXQ XM EXZZiKCP haUiQT KeeQ rXKKed, BhiCe QXt VQXBiQT Bhat haZ KeeQ ZtXCeQ Xr tX BhXm the itemZ KeCXQTed.\n",
      "\n",
      "i am aMraid that thiZ BiCC Zeem ZX hXEeCeZZCP NQZEeRiMiR that PXN BiCC Ke reCNRtaQt tX iQUXCUe PXNrZeCM Bith XNr RaZe, hXBeUer PXN are XNr KeZt hXEe. EerhaEZ iM i eIECaiQ the NQNZNaC RirRNmZtaQReZ iQ BhiRh Be MiQd XNrZeCUeZ theQ the mPZterP BiCC Ke eQXNTh tX eQtiRe PXN. iM it iZ QXt, i RaQ aZZNre PXN that Be are EreEared tX EaP BeCC MXr PXNr time, eIEertiZe, aQd eMMXrt.\n",
      "\n",
      "XQ the mXrQiQT XM tNeZdaP tBeQtP-MirZt ONQe the RhieM teCCer XEeQed the EremiZeZ aQd RXQdNRted her NZNaC iQZEeRtiXQ. eUerPthiQT BaZ iQ Xrder Bith XQe aCarmiQT eIReEtiXQ: the dXXr tX the maiQ UaNCt BaZ XEeQ aQd a KXI BaZ CPiQT XQ the MCXXr. BhiCe it Zeemed eItremeCP NQCiVeCP that the ZaMe had KeeQ CeMt iQ thiZ Ztate ZiQRe MridaP aMterQXXQ, the CaRV XM aQP ZiTQ XM a KreaV-iQ, Xr aQP diZtNrKaQRe tX the Xther RXQteQtZ XM the ZaMe, Ced her tX the RXQRCNZiXQ that the RCeaQiQT Xr ZeRNritP ZtaMM had MaiCed tX ZeRNre the UaNCt BheQ RCXZiQT MXr the BeeVeQd. aCC the ZtaMM Bere adamaQt that thiZ RXNCd QXt Ke the RaZe aQd BhiCe Be RaQQXt rNCe XNt the EXZZiKiCitP XM a RXQZEiraRP, Be haUe KeeQ NQaKCe tX eZtaKCiZh aQP eUideQRe MXr that.\n",
      "\n",
      "MNrther addiQT tX XNr RXQMNZiXQ, Be haUe KeeQ NQaKCe tX eZtaKCiZh the ErXUeQaQRe XM the KXI itZeCM. it BaZ remXUed MrXm ZaMetP deEXZit tBeQtP-three, KNt that CedTer eQtrP haZ QXt KeeQ NEdated iQ XUer tBX hNQdred PearZ. aZ Bith XNr Xther KXIeZ the RXQteQtZ are EriUate tX the XBQerZ, ZX Be haUe QX VQXBCedTe XM Bhat it miTht haUe RXQtaiQed, iM aQPthiQT.\n",
      "\n",
      "TiUeQ the RirRNmZtaQReZ the KaQV iZ reCNRtaQt tX iQUXCUe the EXCiRe. iM QXthiQT haZ KeeQ ZtXCeQ, theQ it iZ diMMiRNCt tX Zee Bhat Rrime RXNCd Ke reEXrted aQd the iQUeZtiTatiXQ itZeCM RXNCd ZeUereCP damaTe trNZt iQ the KaQV. KP aZZXRiatiXQ, thiZ RXNCd aCZX harm the iQtereZtZ XM Xther memKerZ XM the UKa.\n",
      "\n",
      "i am tXCd that PXN are XQe XM the mXZt aRRXmECiZhed iQUeZtiTatXrZ iQ matterZ XM thiZ ViQd, aQd that PXNr RXmECete diZRretiXQ RaQ Ke aZZNmed. i am thereMXre BritiQT tX aZV iM PXN BXNCd Ke BiCCiQT tX taVe thiZ XQ MXr NZ. iM PXN RaQ aZZNre NZ that QX harm haZ KeMaCCeQ the KaQV, theQ Be BiCC RCXZe the RaZe aQd reZt eaZP. iM PXN RaQ MiQd eUideQRe XM MXNC ECaP KNt are NQaKCe tX RXQRCNde the iQUeZtiTatiXQ, theQ Be BiCC iQUite the CXRaC Xr MederaC aNthXritieZ tX taVe XUer. iM PXN are BiCCiQT aQd aKCe tX ZXCUe the mPZterP MXr NZ theQ, iQ additiXQ tX PXNr NZNaC Mee, Be BiCC Ke aKCe tX XMMer a ZiTQiMiRaQt KXQNZ. Be hXEe PXN BiCC aTree tX at CeaZt diZRNZZ the RaZe Bith NZ.\n",
      "\n",
      "PXNrZ ZiQRereCP,\n",
      "\n",
      "CPQQ MraQV.\n"
     ]
    }
   ],
   "source": [
    "# First word is probably \"Dear\" -> Y=d, D=a, S=r\n",
    "# \"H DJ\" is probably \"I am\" -> H=i, J=m\n",
    "decode(part_b_text, \"hBCaEetiImKLMNOPQRrTUVWXdZ\")"
   ]
  },
  {
   "cell_type": "code",
   "execution_count": 16,
   "metadata": {},
   "outputs": [
    {
     "name": "stdout",
     "output_type": "stream",
     "text": [
      "\n",
      "dear ms cifrar,\n",
      "\n",
      "i am writing to PoN in mP caEacitP as chair of the Uirginia KanVing association in the hoEe that PoN wiCC Ke aKCe to assist in a deCicate matter. one of oNr memKers finds itseCf in the eItraordinarP Eosition of EossiKCP haUing Keen roKKed, whiCe not Vnowing what has Keen stoCen or to whom the items KeConged.\n",
      "\n",
      "i am afraid that this wiCC seem so hoEeCessCP NnsEecific that PoN wiCC Ke reCNctant to inUoCUe PoNrseCf with oNr case, howeUer PoN are oNr Kest hoEe. EerhaEs if i eIECain the NnNsNaC circNmstances in which we find oNrseCUes then the mPsterP wiCC Ke enoNgh to entice PoN. if it is not, i can assNre PoN that we are EreEared to EaP weCC for PoNr time, eIEertise, and effort.\n",
      "\n",
      "on the morning of tNesdaP twentP-first ONne the chief teCCer oEened the Eremises and condNcted her NsNaC insEection. eUerPthing was in order with one aCarming eIceEtion: the door to the main UaNCt was oEen and a KoI was CPing on the fCoor. whiCe it seemed eItremeCP NnCiVeCP that the safe had Keen Ceft in this state since fridaP afternoon, the CacV of anP sign of a KreaV-in, or anP distNrKance to the other contents of the safe, Ced her to the concCNsion that the cCeaning or secNritP staff had faiCed to secNre the UaNCt when cCosing for the weeVend. aCC the staff were adamant that this coNCd not Ke the case and whiCe we cannot rNCe oNt the EossiKiCitP of a consEiracP, we haUe Keen NnaKCe to estaKCish anP eUidence for that.\n",
      "\n",
      "fNrther adding to oNr confNsion, we haUe Keen NnaKCe to estaKCish the EroUenance of the KoI itseCf. it was remoUed from safetP deEosit twentP-three, KNt that Cedger entrP has not Keen NEdated in oUer two hNndred Pears. as with oNr other KoIes the contents are EriUate to the owners, so we haUe no VnowCedge of what it might haUe contained, if anPthing.\n",
      "\n",
      "giUen the circNmstances the KanV is reCNctant to inUoCUe the EoCice. if nothing has Keen stoCen, then it is difficNCt to see what crime coNCd Ke reEorted and the inUestigation itseCf coNCd seUereCP damage trNst in the KanV. KP association, this coNCd aCso harm the interests of other memKers of the UKa.\n",
      "\n",
      "i am toCd that PoN are one of the most accomECished inUestigators in matters of this Vind, and that PoNr comECete discretion can Ke assNmed. i am therefore writing to asV if PoN woNCd Ke wiCCing to taVe this on for Ns. if PoN can assNre Ns that no harm has KefaCCen the KanV, then we wiCC cCose the case and rest easP. if PoN can find eUidence of foNC ECaP KNt are NnaKCe to concCNde the inUestigation, then we wiCC inUite the CocaC or federaC aNthorities to taVe oUer. if PoN are wiCCing and aKCe to soCUe the mPsterP for Ns then, in addition to PoNr NsNaC fee, we wiCC Ke aKCe to offer a significant KonNs. we hoEe PoN wiCC agree to at Ceast discNss the case with Ns.\n",
      "\n",
      "PoNrs sincereCP,\n",
      "\n",
      "CPnn franV.\n"
     ]
    }
   ],
   "source": [
    "# \"i am BritiQT tX\" -> B=w, Q=n, T=g, X=o\n",
    "# \"aZ Rhair XM\" -> Z=s, R=c, M=f\n",
    "decode(part_b_text, \"hwCaEetiImKLfNOPncrgUVWods\")"
   ]
  },
  {
   "cell_type": "code",
   "execution_count": 17,
   "metadata": {},
   "outputs": [
    {
     "name": "stdout",
     "output_type": "stream",
     "text": [
      "\n",
      "dear ms cifrar,\n",
      "\n",
      "i am writing to you in my capacity as chair of the virginia Kanking association in the hope that you will Ke aKle to assist in a delicate matter. one of our memKers finds itself in the eItraordinary position of possiKly having Keen roKKed, while not knowing what has Keen stolen or to whom the items Kelonged.\n",
      "\n",
      "i am afraid that this will seem so hopelessly unspecific that you will Ke reluctant to involve yourself with our case, however you are our Kest hope. perhaps if i eIplain the unusual circumstances in which we find ourselves then the mystery will Ke enough to entice you. if it is not, i can assure you that we are prepared to pay well for your time, eIpertise, and effort.\n",
      "\n",
      "on the morning of tuesday twenty-first Oune the chief teller opened the premises and conducted her usual inspection. everything was in order with one alarming eIception: the door to the main vault was open and a KoI was lying on the floor. while it seemed eItremely unlikely that the safe had Keen left in this state since friday afternoon, the lack of any sign of a Kreak-in, or any disturKance to the other contents of the safe, led her to the conclusion that the cleaning or security staff had failed to secure the vault when closing for the weekend. all the staff were adamant that this could not Ke the case and while we cannot rule out the possiKility of a conspiracy, we have Keen unaKle to estaKlish any evidence for that.\n",
      "\n",
      "further adding to our confusion, we have Keen unaKle to estaKlish the provenance of the KoI itself. it was removed from safety deposit twenty-three, Kut that ledger entry has not Keen updated in over two hundred years. as with our other KoIes the contents are private to the owners, so we have no knowledge of what it might have contained, if anything.\n",
      "\n",
      "given the circumstances the Kank is reluctant to involve the police. if nothing has Keen stolen, then it is difficult to see what crime could Ke reported and the investigation itself could severely damage trust in the Kank. Ky association, this could also harm the interests of other memKers of the vKa.\n",
      "\n",
      "i am told that you are one of the most accomplished investigators in matters of this kind, and that your complete discretion can Ke assumed. i am therefore writing to ask if you would Ke willing to take this on for us. if you can assure us that no harm has Kefallen the Kank, then we will close the case and rest easy. if you can find evidence of foul play Kut are unaKle to conclude the investigation, then we will invite the local or federal authorities to take over. if you are willing and aKle to solve the mystery for us then, in addition to your usual fee, we will Ke aKle to offer a significant Konus. we hope you will agree to at least discuss the case with us.\n",
      "\n",
      "yours sincerely,\n",
      "\n",
      "lynn frank.\n"
     ]
    }
   ],
   "source": [
    "# \"to PoN in mP caEacitP as chair of the Uirginia\" -> P=y, N=u, P=y, E=p, U=v\n",
    "# \"VnowCedge\" -> V=k, C=l\n",
    "decode(part_b_text, \"hwlapetiImKLfuOyncrgvkWods\")"
   ]
  },
  {
   "cell_type": "code",
   "execution_count": 19,
   "metadata": {},
   "outputs": [
    {
     "name": "stdout",
     "output_type": "stream",
     "text": [
      "\n",
      "dear ms cifrar,\n",
      "\n",
      "i am writing to you in my capacity as chair of the virginia banking association in the hope that you will be able to assist in a delicate matter. one of our members finds itself in the extraordinary position of possibly having been robbed, while not knowing what has been stolen or to whom the items belonged.\n",
      "\n",
      "i am afraid that this will seem so hopelessly unspecific that you will be reluctant to involve yourself with our case, however you are our best hope. perhaps if i explain the unusual circumstances in which we find ourselves then the mystery will be enough to entice you. if it is not, i can assure you that we are prepared to pay well for your time, expertise, and effort.\n",
      "\n",
      "on the morning of tuesday twenty-first june the chief teller opened the premises and conducted her usual inspection. everything was in order with one alarming exception: the door to the main vault was open and a box was lying on the floor. while it seemed extremely unlikely that the safe had been left in this state since friday afternoon, the lack of any sign of a break-in, or any disturbance to the other contents of the safe, led her to the conclusion that the cleaning or security staff had failed to secure the vault when closing for the weekend. all the staff were adamant that this could not be the case and while we cannot rule out the possibility of a conspiracy, we have been unable to establish any evidence for that.\n",
      "\n",
      "further adding to our confusion, we have been unable to establish the provenance of the box itself. it was removed from safety deposit twenty-three, but that ledger entry has not been updated in over two hundred years. as with our other boxes the contents are private to the owners, so we have no knowledge of what it might have contained, if anything.\n",
      "\n",
      "given the circumstances the bank is reluctant to involve the police. if nothing has been stolen, then it is difficult to see what crime could be reported and the investigation itself could severely damage trust in the bank. by association, this could also harm the interests of other members of the vba.\n",
      "\n",
      "i am told that you are one of the most accomplished investigators in matters of this kind, and that your complete discretion can be assumed. i am therefore writing to ask if you would be willing to take this on for us. if you can assure us that no harm has befallen the bank, then we will close the case and rest easy. if you can find evidence of foul play but are unable to conclude the investigation, then we will invite the local or federal authorities to take over. if you are willing and able to solve the mystery for us then, in addition to your usual fee, we will be able to offer a significant bonus. we hope you will agree to at least discuss the case with us.\n",
      "\n",
      "yours sincerely,\n",
      "\n",
      "lynn frank.\n"
     ]
    }
   ],
   "source": [
    "# \"Kanking\", \"aKle\", \"roKKed\" -> K=b\n",
    "# \"eIpertise\" -> I=x\n",
    "# \"tuesday twenty-first Oune\" -> O=j\n",
    "# Guessing L=q, W=q\n",
    "decode(part_b_text, \"hwlapetixmbzfujyncrgvkqods\")"
   ]
  },
  {
   "cell_type": "code",
   "execution_count": 1,
   "metadata": {},
   "outputs": [
    {
     "name": "stdout",
     "output_type": "stream",
     "text": [
      "Decoded alphabet: dkryfmtahovcjqxelszgnubipw\n",
      "Keyword: dkryfmtahovcjqxelszgnub\n"
     ]
    }
   ],
   "source": [
    "import string\n",
    "\n",
    "# Attempts to determine the keyword used for a substitution cipher\n",
    "# alphabet: The substitution alphabet\n",
    "def decode_key(alphabet):\n",
    "    decoded_alphabet = \"\"\n",
    "    for letter in string.ascii_lowercase:\n",
    "        decoded_alphabet += chr(alphabet.find(letter) + ord(\"a\"))\n",
    "    print(f\"Decoded alphabet: {decoded_alphabet}\")\n",
    "    \n",
    "    remaining_letters = list(string.ascii_lowercase)\n",
    "    for pos, letter in enumerate(decoded_alphabet):\n",
    "        remaining_letters.remove(letter)\n",
    "        next_letter_index = remaining_letters.index(decoded_alphabet[pos+1])\n",
    "        if decoded_alphabet[pos+1:] == \"\".join(remaining_letters[next_letter_index:] + remaining_letters[:next_letter_index]):\n",
    "            print(f\"Keyword: {decoded_alphabet[:pos+2]}\")\n",
    "            break\n",
    "\n",
    "decode_key(\"hwlapetixmbqfujyncrgvkzods\")"
   ]
  },
  {
   "cell_type": "code",
   "execution_count": null,
   "metadata": {},
   "outputs": [],
   "source": []
  }
 ],
 "metadata": {
  "kernelspec": {
   "display_name": "Python 3 (ipykernel)",
   "language": "python",
   "name": "python3"
  },
  "language_info": {
   "codemirror_mode": {
    "name": "ipython",
    "version": 3
   },
   "file_extension": ".py",
   "mimetype": "text/x-python",
   "name": "python",
   "nbconvert_exporter": "python",
   "pygments_lexer": "ipython3",
   "version": "3.10.4"
  }
 },
 "nbformat": 4,
 "nbformat_minor": 4
}
