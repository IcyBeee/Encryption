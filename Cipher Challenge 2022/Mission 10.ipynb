{
 "cells": [
  {
   "cell_type": "markdown",
   "metadata": {},
   "source": [
    "# Cipher Challenge 2022\n",
    "### Challenge 10 / 2022-Dec-15\n",
    "\n",
    "Challenge link https://www.cipherchallenge.org/challenge/mission-10/"
   ]
  },
  {
   "cell_type": "code",
   "execution_count": 2,
   "metadata": {},
   "outputs": [],
   "source": [
    "# Part A - \"The Culper Ring\"\n",
    "part_a_text = \"\"\"RVSUU CNTAN NNFWO ATAEL ILESU NOBCG DDRZS DANDZ ASSLR RIOHA FTRNA RDWHV UAHAH LTBMU NTWWS AMBOF TTNGW AHHDD RIANG KDIOF TTLWM MDJEA OCDKU FLEOP EERIE WTXDD SZEIN GEVEH TAEFA NKPOF TAEPA STMIU EXHLV VUFTP ASTAE TEVFJ CVLZC CTBOB WETAA SERSW OTPDE XIKJD SLIKE EBPUN IBASW ALWAS BFIVG UPTRR TBOBA LLJIL EELSE LADBS OYERA CARDL NNLCU FEMNA OHHHV DNTAB ACKGA YOITU UNTAE RNBVV UFTXV ZRUOS SSSOE INGEV EHTAE POPBZ THARR VSLHP MFHLL LMBLT GNTXR JBFGG NGHLR RILOB TAELO ISWOB CGDDR ZSDAN DWHLY DRVEH ANNNA NDWOC KREVT HHVSH IBALF TRTHL CMSLH LNORF UAHAH LRKOZ ANGRE CFTRR DHBSI MFXHL SWEQE HSZAK ERBVT BNTOC DKEEL EHHNQ AFTXR RWDIT EAASR VADYR OHALK GEWTT RKEHW ETABF NWAMI VIVIB IILWY FIASL OFYUA STAAT ANNNW WSJUH NVNTA NIVTX LWIOE RCGSE UAGRI VGUPT RRTBO BFWOA TAEFA NKKNQ TAATH LWWSL RPIVG ZOINE AVEPI BWDER HLWWS UAUGN TAEWE IMQDW OPEVE PYGNT OBTAE LODEX HHTPE LADBF ERUHA BLPTH IVTXR TETTH RTRRC MHPSJ EGERT FEWSS GKSTU NEZER WDERH LRVAL IAEHT AATTA IAWWS SMUSL AKELE WTNCM THTAE WTHRP IVTXR IOUAT IWNBN ROCNR DRNGI UPGOJ IAEMT PASOB LJWDE RWAEB PAAIN RDZHH TPEON RWWBP UNHVW PHLVV UFTPO FKODW HHTAE FEKAN THCCL NUFAT ELIAO HHLRF PIIWN FHLDL DQTAA VEQAN YYNQI BDLDQ TMAKE YSDOB GGFYE VTAAT THCQN IIVCG HPMFO QOCPT RRTXN BWDEL ASBFE RTNRE EHOJE VTHTA EEGKN PYQOH HLYAA NBVIT DDNRW KPTRR TBOBE BPAOW TBNTH PMMSS NNSKE XASWA LWASA NEQPA OMEIT TLWMM DJEAO CDKUF LSADB FERRL NAIVG GNVLW EKALD DTTBS OYEVI VGYEV VDCGO ITHFY HLVVU FTYOF SWVZR RLJEE RJBFF TRVAN NNGUT LUMPX CKOIS LHVUA HAHLN NMQHH DFAUG NTAEV ATTXN GIWNF TKAIG NTTWW YGNUE VIVTX RMIMW OHLTH LOUMT AATHL RDOHH LRNAS AHIAT HRZAN ANDKA DNNMQ DKEVA FTXRR NAAST KOBGG NNGKN GOTTA EGUFP TRJPN RZNTB FDWIU EWTHR ZEWOT TXNSE ETNRV DWHLT ARVEF ERSXR RNXLT NJOCD KUFLL NQTTL WMMDJ EENQS ZEWAY SLHHT BSOHF SZEWT TRKEH THGKT VULIW UMABO ITAIU SZERO HIKEH TAATN BOBEI VZRTA RRZEH ANYRH PNTIV THOFO ITHFY HLVVU FTTNQ DLSUU MSWDW HPSOI BHOEV FWIMN QLJNA WDODO WNGEH OITMH HTHNY YYFJW XOLEW WARVE ZEVAC CGSKE HNBTE OBGGF YEVTA ATTAE CSHOH TXDWH LPPTM EVNVN GHLAC CGSKL ZGYOB ALMAS LEZEV YMCEA SIWNG HLBPX QHHTP ASACC GSKEH HHDWH LNHMN EVGOV ZNOYR HLSMM AFYHL DDYYN QMANG HPNGH LDDTX WAHHD VPDTM EHIBT HOPUN WAARE XRRIV EHTHN BTBCG TAIVG YLTKO TAATA NDLTP ASIUP GEWSA VZTAA TTAEC WKRBE HIBOI TMOUE XHLRK HLYAO BSLRL CVEHA THLOF YRHHT MHLVV UFTVO BCGAL EHACO REPEE DLNTT HTAEG UFPTR KRVAS ULEEH VARDR FHOWN FHPDG ERBZT AESRZ GONNL EALLX ADGKD XRZNT TAEVE ZOZUN IWNNN QUMEH THPPY MFKTK AITHR JIVTA EFRZT BSZAR MKIBW WSXAN CKFZL MUNMM DHSWN FEKID ERTAA TANNN SZEED ZASFZ LWOTT AEQYR HHNQL PGKNQ OTTAE GUFPT RIIVG NEVSL OFYGS LHHTL HLSLA GEHTA EZAUL EBSEE KSNNS SNRXZ UMEXO PRZNT IVJXD LEXOV EPPWE VFNNQ ANDER VAKTA EGORE ENQTH BFATT TLWMM DJEXO HHLGU LOIBW WSSGU OREJF TRKBV TLOAE LOKAS THRPA BOITU ULIMD WRVAS ULEHI LNGQK IBEVI VGZRL EENQU HFTRK UHATE PYDOF ANNNT TLWMM DJELA DALRV ADYRU LNRDD NQBFT KAYEH HLRKH LTKUY SLOFY GSANG HLRVP DRKAT TTCJE H\"\"\""
   ]
  },
  {
   "cell_type": "code",
   "execution_count": 3,
   "metadata": {},
   "outputs": [],
   "source": [
    "from collections import Counter\n",
    "\n",
    "# Takes a string or list of items and counts the frequencies of those items\n",
    "# data: The list or string to analyse\n",
    "# max_values: The maximum number of values to display (set to None for no limit)\n",
    "# no_columns: The amount of columns to use in the output\n",
    "def frequency_analysis(data, max_values=30, no_columns=5):\n",
    "    frequencies = Counter()\n",
    "    for item in data:\n",
    "        frequencies[item] += 1\n",
    "    \n",
    "    total = sum(frequencies.values())\n",
    "    column = 1\n",
    "    for item, frequency in frequencies.most_common(max_values):\n",
    "        print(f\"{item}: {frequency:2} ({frequency / total:.2%})\", end=\" \" if column % no_columns else \"\\n\")\n",
    "        column += 1\n",
    "    print(\"\\n-----\")"
   ]
  },
  {
   "cell_type": "code",
   "execution_count": 4,
   "metadata": {},
   "outputs": [
    {
     "name": "stdout",
     "output_type": "stream",
     "text": [
      "T: 205 (8.52%) A: 200 (8.31%) E: 184 (7.65%) H: 154 (6.40%) N: 151 (6.28%)\n",
      "L: 134 (5.57%) R: 131 (5.44%) O: 103 (4.28%) S: 97 (4.03%) V: 93 (3.87%)\n",
      "W: 92 (3.82%) D: 91 (3.78%) I: 90 (3.74%) F: 76 (3.16%) G: 75 (3.12%)\n",
      "B: 74 (3.08%) U: 68 (2.83%) P: 61 (2.54%) K: 58 (2.41%) M: 57 (2.37%)\n",
      "C: 42 (1.75%) Y: 42 (1.75%) Z: 41 (1.70%) X: 34 (1.41%) Q: 29 (1.21%)\n",
      "J: 24 (1.00%) \n",
      "-----\n"
     ]
    }
   ],
   "source": [
    "squished = part_a_text.replace(\" \", \"\")\n",
    "frequency_analysis(squished)"
   ]
  },
  {
   "cell_type": "code",
   "execution_count": 13,
   "metadata": {},
   "outputs": [
    {
     "name": "stdout",
     "output_type": "stream",
     "text": [
      "L: 98 (8.15%) A: 84 (6.98%) H: 81 (6.73%) V: 80 (6.65%) T: 71 (5.90%)\n",
      "W: 63 (5.24%) N: 60 (4.99%) R: 58 (4.82%) F: 54 (4.49%) B: 52 (4.32%)\n",
      "K: 50 (4.16%) G: 44 (3.66%) Z: 41 (3.41%) P: 40 (3.33%) S: 38 (3.16%)\n",
      "D: 38 (3.16%) M: 36 (2.99%) X: 32 (2.66%) Q: 28 (2.33%) I: 26 (2.16%)\n",
      "E: 26 (2.16%) U: 25 (2.08%) J: 22 (1.83%) C: 20 (1.66%) Y: 20 (1.66%)\n",
      "O: 16 (1.33%) \n",
      "-----\n",
      "E: 158 (13.13%) T: 134 (11.14%) A: 116 (9.64%) N: 91 (7.56%) O: 87 (7.23%)\n",
      "R: 73 (6.07%) H: 73 (6.07%) I: 64 (5.32%) S: 59 (4.90%) D: 53 (4.41%)\n",
      "U: 43 (3.57%) L: 36 (2.99%) G: 31 (2.58%) W: 29 (2.41%) F: 22 (1.83%)\n",
      "C: 22 (1.83%) B: 22 (1.83%) Y: 22 (1.83%) M: 21 (1.75%) P: 21 (1.75%)\n",
      "V: 13 (1.08%) K:  8 (0.67%) J:  2 (0.17%) X:  2 (0.17%) Q:  1 (0.08%)\n",
      "\n",
      "-----\n"
     ]
    }
   ],
   "source": [
    "# The hints have indicated that odd and even numbered letters are encoded differently...\n",
    "odds = \"\".join(squished[n] for n in range(1,len(squished),2))\n",
    "evens = \"\".join(squished[n] for n in range(0,len(squished),2))\n",
    "frequency_analysis(odds)\n",
    "frequency_analysis(evens)"
   ]
  },
  {
   "cell_type": "code",
   "execution_count": 19,
   "metadata": {},
   "outputs": [
    {
     "name": "stdout",
     "output_type": "stream",
     "text": [
      "RvSuUcNtAnNnFwOaTaElIlEsUnObCgDdRzSdAnDzAsSlRrIoHaFtRnArDwHvUaHaHlTbMuNtWwSaMbOfTtNgWaHhDdRiAnGkDiOfTtLwMmDjEaOcDkUfLeOpEeRiEwTxDdSzEiNgEvEhTaEfAnKpOfTaEpAsTmIuExHlVvUfTpAsTaEtEvFjCvLzCcTbObWeTaAsErSwOtPdExIkJdSlIkEeBpUnIbAsWaLwAsBfIvGuPtRrTbObAlLjIlEeLsElAdBsOyErAcArDlNnLcUfEmNaOhHhVdNtAbAcKgAyOiTuUnTaErNbVvUfTxVzRuOsSsSoEiNgEvEhTaEpOpBzThArRvSlHpMfHlLlMbLtGnTxRjBfGgNgHlRrIlObTaElOiSwObCgDdRzSdAnDwHlYdRvEhAnNnAnDwOcKrEvThHvShIbAlFtRtHlCmSlHlNoRfUaHaHlRkOzAnGrEcFtRrDhBsImFxHlSwEqEhSzAkErBvTbNtOcDkEeLeHhNqAfTxRrWdItEaAsRvAdYrOhAlKgEwTtRkEhWeTaBfNwAmIvIvIbIiLwYfIaSlOfYuAsTaAtAnNnWwSjUhNvNtAnIvTxLwIoErCgSeUaGrIvGuPtRrTbObFwOaTaEfAnKkNqTaAtHlWwSlRpIvGzOiNeAvEpIbWdErHlWwSuAuGnTaEwEiMqDwOpEvEpYgNtObTaElOdExHhTpElAdBfErUhAbLpThIvTxRtEtThRtRrCmHpSjEgErTfEwSsGkStUnEzErWdErHlRvAlIaEhTaAtTaIaWwSsMuSlAkElEwTnCmThTaEwThRpIvTxRiOuAtIwNbNrOcNrDrNgIuPgOjIaEmTpAsObLjWdErWaEbPaAiNrDzHhTpEoNrWwBpUnHvWpHlVvUfTpOfKoDwHhTaEfEkAnThCcLnUfAtElIaOhHlRfPiIwNfHlDlDqTaAvEqAnYyNqIbDlDqTmAkEySdObGgFyEvTaAtThCqNiIvCgHpMfOqOcPtRrTxNbWdElAsBfErTnReEhOjEvThTaEeGkNpYqOhHlYaAnBvItDdNrWkPtRrTbObEbPaOwTbNtHpMmSsNnSkExAsWaLwAsAnEqPaOmEiTtLwMmDjEaOcDkUfLsAdBfErRlNaIvGgNvLwEkAlDdTtBsOyEvIvGyEvVdCgOiThFyHlVvUfTyOfSwVzRrLjEeRjBfFtRvAnNnGuTlUmPxCkOiSlHvUaHaHlNnMqHhDfAuGnTaEvAtTxNgIwNfTkAiGnTtWwYgNuEvIvTxRmImWoHlThLoUmTaAtHlRdOhHlRnAsAhIaThRzAnAnDkAdNnMqDkEvAfTxRrNaAsTkObGgNnGkNgOtTaEgUfPtRjPnRzNtBfDwIuEwThRzEwOtTxNsEeTnRvDwHlTaRvEfErSxRrNxLtNjOcDkUfLlNqTtLwMmDjEeNqSzEwAySlHhTbSoHfSzEwTtRkEhThGkTvUlIwUmAbOiTaIuSzErOhIkEhTaAtNbObEiVzRtArRzEhAnYrHpNtIvThOfOiThFyHlVvUfTtNqDlSuUmSwDwHpSoIbHoEvFwImNqLjNaWdOdOwNgEhOiTmHhThNyYyFjWxOlEwWaRvEzEvAcCgSkEhNbTeObGgFyEvTaAtTaEcShOhTxDwHlPpTmEvNvNgHlAcCgSkLzGyObAlMaSlEzEvYmCeAsIwNgHlBpXqHhTpAsAcCgSkEhHhDwHlNhMnEvGoVzNoYrHlSmMaFyHlDdYyNqMaNgHpNgHlDdTxWaHhDvPdTmEhIbThOpUnWaArExRrIvEhThNbTbCgTaIvGyLtKoTaAtAnDlTpAsIuPgEwSaVzTaAtTaEcWkRbEhIbOiTmOuExHlRkHlYaObSlRlCvEhAtHlOfYrHhTmHlVvUfTvObCgAlEhAcOrEpEeDlNtThTaEgUfPtRkRvAsUlEeHvArDrFhOwNfHpDgErBzTaEsRzGoNnLeAlLxAdGkDxRzNtTaEvEzOzUnIwNnNqUmEhThPpYmFkTkAiThRjIvTaEfRzTbSzArMkIbWwSxAnCkFzLmUnMmDhSwNfEkIdErTaAtAnNnSzEeDzAsFzLwOtTaEqYrHhNqLpGkNqOtTaEgUfPtRiIvGnEvSlOfYgSlHhTlHlSlAgEhTaEzAuLeBsEeKsNnSsNrXzUmExOpRzNtIvJxDlExOvEpPwEvFnNqAnDeRvAkTaEgOrEeNqThBfAtTtLwMmDjExOhHlGuLoIbWwSsGuOrEjFtRkBvTlOaElOkAsThRpAbOiTuUlImDwRvAsUlEhIlNgQkIbEvIvGzRlEeNqUhFtRkUhAtEpYdOfAnNnTtLwMmDjElAdAlRvAdYrUlNrDdNqBfTkAyEhHlRkHlTkUySlOfYgSaNgHlRvPdRkAtTtCjEh"
     ]
    }
   ],
   "source": [
    "# Print them out with the evens upper and odds lower...\n",
    "for n in range(0,len(squished),2):\n",
    "    print(squished[n] + squished[n+1].lower(), end=\"\")"
   ]
  },
  {
   "cell_type": "code",
   "execution_count": 27,
   "metadata": {},
   "outputs": [
    {
     "name": "stdout",
     "output_type": "stream",
     "text": [
      "RESCUINGANNAFROMTHEHIDEOUTONCEDARISLANDWASSTRAIGHTFORWARDTHOUGHTHETIMINGWASIMPORTANTWEHADARRANGEDFORTALLMADGEWOODHULLTOBEARRESTEDASHEENTEREDTHEBANKFORTHELASTTIMETHEVAULTWASTHEPERFECTLOCATIONWITHASENSEOFPOETICJUSTICEABOUTITASWELLASBEINGOPERATIONALLYIDEALHEHADBROKENACARDINALRULEINNOTHAVINGABACKWAYOUTBUTTHENNOVAULTEVERDOESASWEENTEREDTHELOBBYTOARRESTHIMTHELAMPLIGHTERSBEGANTHERAIDONTHEHOUSEONCEDARISLANDTHEYFREEDANNAANDTOOKHERTOHOSPITALFORCHECKSTHENBROUGHTHERTOLANGLEYFORADEBRIEFSHESEEMEDSHAKENBUTINGOODHEALTHANDAFTERAWHILEWASREADYTOTALKWESTARTEDWITHBENJAMININITIALLYHISSTORYWASTHATANNAWASRUNNINGANINTELLIGENCESMUGGLINGOPERATIONFROMTHEBANKANDTHATHEWASTRYINGTOUNRAVELITWHENHEWASCAUGHTHESEEMEDTOBERELYINGONTHEHOPETHATWEHADBEENUNABLETOINTERCEPTORCRACKHISRECENTMESSAGESBUTEVENWHENHEREALISEDTHATTHISWASAMISTAKEHESTUCKTOTHESTORYINTERROGATIONONEOONEDONTIMPROVISEITWASONLYWHENWEEXPLAINEDWHATWEKNEWABOUTHOWTHEVAULTWORKEDTHATHEBEGANTOCALCULATEHISOTHEROPTIONSHEDIDNTHAVEMANYANDITDIDNTTAKEUSLONGAFTERTHATTOCONVINCEHIMTOCOOPERATENOWHEHASBEENTURNEDOVERTOTHEAGENCYSOTHEYCANBUILDANEWOPERATIONEXPLOITINGHIMASANASSETASWELLASANEMPLOYEETALLMADGEWOODHULLHADBEENRUNNINGANILLEGALDATABROKERINGSERVICEOUTOFTHEVAULTFORSEVERALYEARSBEFOREANNAGOTSUSPICIOUSTHOUGHTHENAMEHADCAUGHTHERATTENTIONSTRAIGHTAWAYINHERINTERVIEWSHETOLDUSTHATHERMOTHERWASAHISTORIANANDHADNAMEDHERAFTERANNASTRONGANAGENTOFTHECULPERSPYRINGBEDTIMESTORIESOFTENFEATUREDTHETHREEBENSFRANKLINWOODHULLANDTALLMADGEANDSHESAYSTHATISWHYSHESTARTEDTOGETCURIOUSABOUTHIMSHENOTICEDTHATNOONEEVERCARRIEDANYTHINGINTOOROUTOFTHEVAULTANDDISCUSSEDTHISWITHHERFRIENDLYNNWHOPOINTEDOUTTHATONLYAFEWBOXESWEREEVERACCESSEDNOTLONGAFTERTHATTHEYSPOTTEDTHEPATTERNINTHEACCESSLOGSONALMOSTEVERYOCCASIONTHEBOXTHATWASACCESSEDHADTHENUMBERGIVENBYTHESUMOFTHEDAYANDMONTHINTHEDATEWEHADSPOTTEDITTOOBUTWEARETRAINEDTONOTICETHINGSLIKETHATANDITWASIMPRESSIVETHATTHEYWORKEDITOUTTOGETHERTHEYCONSTRUCTEDATHEORYTHATTHEVAULTCONCEALEDACODELEADINGTOTHECULPERTREASUREAHOARDOFCOINSHIDDENBYTHEORIGINALTALLMADGEDURINGTHEREVOLUTIONANDUSEDTOPAYOFFTRAITORSINTHEBRITISHARMYITWASFANCIFULBUTMADESENSEGIVENTHATANNASHEADWASFULLOFTHEMYTHANDLEGENDOFTHECULPERRINGHERSTORYISTHATSHESTAGEDTHEVAULTBREAKINASANEXCUSETOBRINGINJODIETOHELPHERFINDANDBREAKTHECODEANDTOBEATTALLMADGETOTHEGOLDITWASAGOODEFFORTBUTSOMEHOWASTORYABOUTBURIEDTREASUREDIDNTQUITERINGTRUEANDUNFORTUNATELYFORANNATALLMADGEHADALREADYTURNEDANDBETRAYEDHERTHETRUESTORYISINTHEREPORTATTACHED"
     ]
    }
   ],
   "source": [
    "# TtLwMmDjE = \"Tallmadge\".\n",
    "# Looks like the second letter is offset by the first letter\n",
    "for n in range(0,len(squished),2):\n",
    "    oddpos = (ord(squished[n+1]) - ord(squished[n])) % 26\n",
    "    print(squished[n] + chr(ord('A')+oddpos), end=\"\")"
   ]
  },
  {
   "cell_type": "markdown",
   "metadata": {},
   "source": [
    "### Edited for clarity\n",
    "\n",
    "Rescuing Anna from the hideout on Cedar island was straightforward, though the timing was important. We had arranged for Tallmadge/Woodhull to be arrested as he entered the bank for the last time.<br/>\n",
    "The vault was the perfect location with a sense of poetic justice about it. As well as being operationally ideal, he had broken a cardinal rule in not having a back way out, but then no vault ever does. As we entered the lobby to arrest him, the lamplighters began the raid on the house on Cedar Island.<br/>\n",
    "They freed Anna and took her to hospital for checks, then brought her to Langley for a debrief. She seemed shaken but in good health and after a while was ready to talk.<br/>\n",
    "We started with Benjamin. Initially, his story was that Anna was running an intelligence smuggling operation from the bank and that he was trying to unravel it. When he was caught, he seemed to be relying on the hope that we had been unable to intercept or crack his recent messages, but even when he realised that this was a mistake, he stuck to the story.<br/>\n",
    "Interrogation one-o-one: don't improvise! It was only when we explained what we knew about how the vault worked that he began to calculate his other options. He didn't have many and it didn't take us long after that to convince him to co-operate.<br/>\n",
    "Now he has been turned over to the agency so they can build a new operation exploiting him as an asset as well as an employee. Tallmadge/Woodhull had been running an illegal data brokering service out of the vault for several years before Anna got suspicious, though the name had caught her attention straight away. In her interviews he told us that her mother was a historian and had named her after Anna Strong, an agent of the Culper spy ring. Bedtime stories often featured the Three Bens: Franklin Woodhull and Tallmadge, and she says that is why she started to get curious about him. She noticed that no-one ever carried anything into or out of the vault and discussed this with her friend Lynn, who pointed out that only a few boxes were ever accessed. Not long after that, they spotted the pattern in the access logs: on almost every occasion the box that was accessed had the number given by the sum of the day and month in the date. We had spotted it too, but we are trained to notice things like that and it was impressive that they worked it out together.<br/>\n",
    "They constructed a theory that the vault concealed a code leading to the Culper treasure - a hoard of coins hidden by the original Tallmadge during the revolution and used to payoff traitors in the British Army. It was fanciful, but made sense given that Anna's head was full of the myth and legend of the Culper ring, her story is that she staged the vault break-in as an excuse to bring in Jodie to help her find and break the code and to beat Tallmadge to the gold. It was a good effort, but somehow a story about buried treasure didn't quite ring true and unfortunately for Anna, Tallmadge had already turned and betrayed her.<br/>\n",
    "The true story is in the report attached.<br/>"
   ]
  },
  {
   "cell_type": "code",
   "execution_count": 4,
   "metadata": {},
   "outputs": [],
   "source": [
    "# Part B \"Betrayal\"\n",
    "part_b_text = \"\"\"IHRHG FTVEE EENNP OAIAO LARAE IEETI NNBKL SPREE ETNRM RAHSE NEUNI IUMND DTANW REAMO AYDMC DJNER ETSNA DAANF BYOAY MIDOI LJKRB GWHIU ANFTG BRESV MTFTA OAEEO OSERY OEEAS ANDTE TVODI OERSM SNNLC SHEEN NURYA LIAWN WPUDS UANNN EECMR CENAN ROITP LETBR RUYGH STNEN LOLGI OUEEG IASTF OLEEY RSMKI ITTIT DHCFS INSOU CEIIS EANOT EREME SINGI IANEA CVWEN MEIDR AEOTR DSRON RCOTT TTATG CUOLB EMEST DRFAI RIEAA NMTDU ROIEL DDLEE NFCUP AEWHT TLHNG CNRSN ATDRA NTELI ICNFD EEORE IVVEE SONIE HFSNH NATLR EAWUO OSTAT RISOS AOTSD SSASR ISIIE AROND ESTRU OWEAE SNLHT MENEI GKDDS TBELD UIPTN WAELM SDERT IOYEM GHWLO DPUUL VSTTD EMLGP CEODH PITRE AHFRH SYABT UNDOE COEEP RSSTD WIENM NMOID FRMEI NHYEC SSUDN MUNDS OSTAU CMDEN RADVT TAROT SNLAI SNISK UENCA EPELG ATSDE EAIRD SHBIT OEGPB ODEEF DISRO DNIST TSUEU CTSAC GWDRO ENOON IRWDE NNTOD ICINO MNLLO SSEOT FREOL MACSO OPSDO HDFIR GKTNE CIROE ROOHW BCCPN OARDI TNBKC AENOB IEUDT YEYOO FIGAM UDHGR CBONE ORHHI REHEE ROINS DRNUT ETIAA IXUAS OIEIE IDTRT ENNZM CTOLE CSCID NENCN PVOTT DOEGE OOOHD DRNFW UHENN AIURT SEDDD SSIYS RHHEL NEOSO USNEL VTMDG NWDTD AAMEL XANEF EIENR ECTOU NSKKO DTASH NGGEE IOTEE LEUEN RISOR OANGA LNTFC DRVUI NMDDA UHNLN MIVAD FNEBG OARRI TEEOA ERENN REIRE DERDI EDRUL DBITI SYATE NEOLF DSHER NRETB EIILO TOBDT OWRIR NSDAN HEEAU EETNS TNMRE MTSME OTLES TUHEI IIAIA TPGME HTEAA BMENT CNEAT EBNID ERGNT IDCRF NWCRH RNRDP REOOR RATOO USARC NBGTH HMLTE TPIAE EICFE FNLDT OPNNA INIHT AATTN TIDIO EETNR EEMRH EHABH GTTSE NUOEI ESTDE IOSIN HCTST BNNDR CANEN HNAWT NIYTH AITAS PSSCO EAOHA THBDO TBRDT MECIN WEGEG HEREE RNBOL HEKAN SNDFA SRXIY EOAGL TNESE MIAII YNGAX URETL ATEUG ENTPH NCCLS EHTID RLIAE PIBEA IYOOC VNIWR TLYEO AFITB HWOOL TATMP OFSGF LWIOD NFVTA TEDAD REUET HCOEW AMWNE NGNRE WPIAA TDEPO SIETE WMAHE SRRAE HIAST FHATN NERDT CSEUM NSDNE TOTTN EWRIT MLDEH GDMEH EABHS WSSOA SRTDT HDYDE GEOHO EFNIG IAHEI YMEAT UOEST ERXUA CEDVH TTAHN NOFSR TLNBU IERTI AEEDM WTPCR REDEE LHETH IEEEU UEISL IRITM CHYEH LVBTO TVAAF OBDAO PMWLN ODTLT SNHWO ATIBE EDXOT TTEIR THSPM OONGN EPHBO SOUOL FNHAG DTESI GLTNE TTEAT TRDMO LYVSM ESEAG ENSNE EOFNT OWTFP RSRWN RIRFA EGHEF LISOU IOTRA YTNHI HSPEE SFLIE DIGRS EEAIY ARESA HNNPI GESTT AXOSE IIYGA ENGPE TDNGE FEHOT EARPC WENNO NTBRD ERVLO EOTNO IGMRN EEOHR ESSOS DUDRL OFATL EEECI HNTET BDHUC RHBAO EASIT WTNSS NMHOO LLAON IGOHC ETSOS ECDRI ONIHX AEMSA ROSRU NRCAO HHOIV AIAAT NISVT HSNOH OSWUE TYISE REYOH NTEER LRNIM SLEHG TNTEE OROST OCENE NAFEL EBHDT OWHEI DOSER TTSAO XTUIE RSTFS TINPW IDIEE ELWCW AIFHC COAHL OHCVP NERXO HHACE EIEEE CEAOA NWTMM TCODN HDEED BFENA SCEAO SBTMK LNSGO HCNBP UDRKY OEYSE DETTS RENFH HEHET SOSUW UADEE STAOO EYTBA HLXWS YNIML EFATE TIAOS RPAIE ATNNI SROHS HMNBN AGROE BTOSE NEHHE SELDO MBOSS FTUED UEHAE STUOA XGTSD ITSET PTDBW DFRTA IYRTR EETIE RESND HOALS TOCIE TRNHT EDCPM EOEST HOOAE EARDA ERUYN SNHHE SREEF OOLAO TTNTT SIOWR ILOSE TNEIA ERTPN FHYOP EBRNR ANOIR NAMOD HUTMT ESNST HUBKP OMNEI CITSC REVAE FIKQB HCEIC CENHT ASTER SUAOS OOIAG FFNST POEEE IIEPE NOSRM HTTOE MRAAD ATUNI SEOUS MMALN KBSBT EFCEU FNRDU NYASO TESCE RGOBO TYGND HUNHE AITEU EEART NIOUY PEORW UNTNE IEAOC GRTCR RAMNN TSCIU QSHTI IAGTN HREEI ESKAU DAAXT SHUTE HAHER ESOEI ECOVT BOSGD IJTNN NTOUM SEALU IAFAO DFNAE INDAF TYTAT ENKGW RNOAE TRYES OSTND ATWNR SNRUN ESEOE ISNEE OITMR MNWTT OIAOT TRNNW ATNWT YWSYT IINOR DAAOO HAEHE SINWJ GTRHS NVNRT TEEON GOCEH KEEFR RISKH ESEOG KHIRS IFPAG DNIFO ADOEA REWKG HTITO WREEA ERCOR UWFUT OHEUE CFTNC RENOT OEOIT GACET RAOYO ICEIU TNEES ITDIO DHEOE NLSHO EISUS BDTNA RUOTE NERSD EARST DTADE EPEWT IUDAN ITPRI PHNIO ENOET EPTRV GAGRM RNUHU IRRVS EISGC LICMA USSTI OOMAN TEAEO YSDFR REEDN TDSRE OANSA YFGFR IMCTO LOAFM YITEM RIUTL SPTBE GFNNP NTSAU AOKGT YAVEI OMNYT RNOEM HIGSS KANPH FCRNR TATOO EATPE DOUHT NOEWT BELDS EDIDD EBOCB EEPTI OVEAE ATSRS EEEID LPIWR SPUHB ADVEH TNNFL ROENT OAIHU SEHNW EFFGD LTTOS EETEU DDHEV REEUN FUETA AWHAE OVTMC ARRHI TSWLH ONHEU\"\"\""
   ]
  },
  {
   "cell_type": "code",
   "execution_count": 5,
   "metadata": {},
   "outputs": [
    {
     "name": "stdout",
     "output_type": "stream",
     "text": [
      "E: 445 (13.69%) T: 300 (9.23%) N: 266 (8.18%) O: 253 (7.78%) A: 231 (7.11%)\n",
      "I: 219 (6.74%) S: 214 (6.58%) R: 205 (6.31%) D: 157 (4.83%) H: 149 (4.58%)\n",
      "U: 99 (3.05%) C: 90 (2.77%) L: 87 (2.68%) M: 83 (2.55%) G: 75 (2.31%)\n",
      "F: 74 (2.28%) W: 63 (1.94%) B: 59 (1.82%) P: 58 (1.78%) Y: 48 (1.48%)\n",
      "V: 32 (0.98%) K: 23 (0.71%) X: 13 (0.40%) J:  4 (0.12%) Q:  2 (0.06%)\n",
      "Z:  1 (0.03%) \n",
      "-----\n"
     ]
    }
   ],
   "source": [
    "squished = part_b_text.replace(\" \", \"\")\n",
    "frequency_analysis(squished)"
   ]
  },
  {
   "cell_type": "code",
   "execution_count": 6,
   "metadata": {},
   "outputs": [
    {
     "name": "stdout",
     "output_type": "stream",
     "text": [
      "5, 10, 13, 25, 26, 50, 65, 125, 130, 250, 325, 650, "
     ]
    }
   ],
   "source": [
    "# Looks like English distribution, but jumbled up\n",
    "# How many columns could there be...?\n",
    "length = len(squished)\n",
    "for n in range(3, length//2):\n",
    "    if length % n == 0:\n",
    "        print(n, end=\", \")"
   ]
  },
  {
   "cell_type": "code",
   "execution_count": 7,
   "metadata": {},
   "outputs": [
    {
     "name": "stdout",
     "output_type": "stream",
     "text": [
      "IHRHGFTVEEEEN\n",
      "NPOAIAOLARAEI\n",
      "EETINNBKLSPRE\n",
      "EETNRMRAHSENE\n",
      "UNIIUMNDDTANW\n",
      "REAMOAYDMCDJN\n",
      "ERETSNADAANFB\n",
      "YOAYMIDOILJKR\n",
      "BGWHIUANFTGBR\n",
      "ESVMTFTAOAEEO\n",
      "OSERYOEEASAND\n",
      "TETVODIOERSMS\n",
      "NNLCSHEENNURY\n",
      "ALIAWNWPUDSUA\n",
      "NNNEECMRCENAN\n",
      "ROITPLETBRRUY\n",
      "GHSTNENLOLGIO\n",
      "UEEGIASTFOLEE\n",
      "YRSMKIITTITDH\n",
      "CFSINSOUCEIIS\n",
      "EANOTEREMESIN\n",
      "GIIANEACVWENM\n",
      "EIDRAEOTRDSRO\n",
      "NRCOTTTTATGCU\n",
      "OLBEMESTDRFAI\n",
      "RIEAANMTDUROI\n",
      "ELDDLEENFCUPA\n",
      "EWHTTLHNGCNRS\n",
      "NATDRANTELIIC\n",
      "NFDEEOREIVVEE\n",
      "SONIEHFSNHNAT\n",
      "LREAWUOOSTATR\n",
      "ISOSAOTSDSSAS\n",
      "RISIIEARONDES\n",
      "TRUOWEAESNLHT\n",
      "MENEIGKDDSTBE\n",
      "LDUIPTNWAELMS\n",
      "DERTIOYEMGHWL\n",
      "ODPUULVSTTDEM\n",
      "LGPCEODHPITRE\n",
      "AHFRHSYABTUND\n",
      "OECOEEPRSSTDW\n",
      "IENMNMOIDFRME\n",
      "INHYECSSUDNMU\n",
      "NDSOSTAUCMDEN\n",
      "RADVTTAROTSNL\n",
      "AISNISKUENCAE\n",
      "PELGATSDEEAIR\n",
      "DSHBITOEGPBOD\n",
      "EEFDISRODNIST\n",
      "TSUEUCTSACGWD\n",
      "ROENOONIRWDEN\n",
      "NTODICINOMNLL\n",
      "OSSEOTFREOLMA\n",
      "CSOOPSDOHDFIR\n",
      "GKTNECIROEROO\n",
      "HWBCCPNOARDIT\n",
      "NBKCAENOBIEUD\n",
      "TYEYOOFIGAMUD\n",
      "HGRCBONEORHHI\n",
      "REHEEROINSDRN\n",
      "UTETIAAIXUASO\n",
      "IEIEIDTRTENNZ\n",
      "MCTOLECSCIDNE\n",
      "NCNPVOTTDOEGE\n",
      "OOOHDDRNFWUHE\n",
      "NNAIURTSEDDDS\n",
      "SIYSRHHELNEOS\n",
      "OUSNELVTMDGNW\n",
      "DTDAAMELXANEF\n",
      "EIENRECTOUNSK\n",
      "KODTASHNGGEEI\n",
      "OTEELEUENRISO\n",
      "ROANGALNTFCDR\n",
      "VUINMDDAUHNLN\n",
      "MIVADFNEBGOAR\n",
      "RITEEOAERENNR\n",
      "EIREDERDIEDRU\n",
      "LDBITISYATENE\n",
      "OLFDSHERNRETB\n",
      "EIILOTOBDTOWR\n",
      "IRNSDANHEEAUE\n",
      "ETNSTNMREMTSM\n",
      "EOTLESTUHEIII\n",
      "AIATPGMEHTEAA\n",
      "BMENTCNEATEBN\n",
      "IDERGNTIDCRFN\n",
      "WCRHRNRDPREOO\n",
      "RRATOOUSARCNB\n",
      "GTHHMLTETPIAE\n",
      "EICFEFNLDTOPN\n",
      "NAINIHTAATTNT\n",
      "IDIOEETNREEMR\n",
      "HEHABHGTTSENU\n",
      "OEIESTDEIOSIN\n",
      "HCTSTBNNDRCAN\n",
      "ENHNAWTNIYTHA\n",
      "ITASPSSCOEAOH\n",
      "ATHBDOTBRDTME\n",
      "CINWEGEGHEREE\n",
      "RNBOLHEKANSND\n",
      "FASRXIYEOAGLT\n",
      "NESEMIAIIYNGA\n",
      "XURETLATEUGEN\n",
      "TPHNCCLSEHTID\n",
      "RLIAEPIBEAIYO\n",
      "OCVNIWRTLYEOA\n",
      "FITBHWOOLTATM\n",
      "POFSGFLWIODNF\n",
      "VTATEDADREUET\n",
      "HCOEWAMWNENGN\n",
      "REWPIAATDEPOS\n",
      "IETEWMAHESRRA\n",
      "EHIASTFHATNNE\n",
      "RDTCSEUMNSDNE\n",
      "TOTTNEWRITMLD\n",
      "EHGDMEHEABHSW\n",
      "SSOASRTDTHDYD\n",
      "EGEOHOEFNIGIA\n",
      "HEIYMEATUOEST\n",
      "ERXUACEDVHTTA\n",
      "HNNOFSRTLNBUI\n",
      "ERTIAEEDMWTPC\n",
      "RREDEELHETHIE\n",
      "EEUUEISLIRITM\n",
      "CHYEHLVBTOTVA\n",
      "AFOBDAOPMWLNO\n",
      "DTLTSNHWOATIB\n",
      "EEDXOTTTEIRTH\n",
      "SPMOONGNEPHBO\n",
      "SOUOLFNHAGDTE\n",
      "SIGLTNETTEATT\n",
      "RDMOLYVSMESEA\n",
      "GENSNEEOFNTOW\n",
      "TFPRSRWNRIRFA\n",
      "EGHEFLISOUIOT\n",
      "RAYTNHIHSPEES\n",
      "FLIEDIGRSEEAI\n",
      "YARESAHNNPIGE\n",
      "STTAXOSEIIYGA\n",
      "ENGPETDNGEFEH\n",
      "OTEARPCWENNON\n",
      "TBRDERVLOEOTN\n",
      "OIGMRNEEOHRES\n",
      "SOSDUDRLOFATL\n",
      "EEECIHNTETBDH\n",
      "UCRHBAOEASITW\n",
      "TNSSNMHOOLLAO\n",
      "NIGOHCETSOSEC\n",
      "DRIONIHXAEMSA\n",
      "ROSRUNRCAOHHO\n",
      "IVAIAATNISVTH\n",
      "SNOHOSWUETYIS\n",
      "EREYOHNTEERLR\n",
      "NIMSLEHGTNTEE\n",
      "OROSTOCENENAF\n",
      "ELEBHDTOWHEID\n",
      "OSERTTSAOXTUI\n",
      "ERSTFSTINPWID\n",
      "IEEELWCWAIFHC\n",
      "COAHLOHCVPNER\n",
      "XOHHACEEIEEEC\n",
      "EAOANWTMMTCOD\n",
      "NHDEEDBFENASC\n",
      "EAOSBTMKLNSGO\n",
      "HCNBPUDRKYOEY\n",
      "SEDETTSRENFHH\n",
      "EHETSOSUWUADE\n",
      "ESTAOOEYTBAHL\n",
      "XWSYNIMLEFATE\n",
      "TIAOSRPAIEATN\n",
      "NISROHSHMNBNA\n",
      "GROEBTOSENEHH\n",
      "ESELDOMBOSSFT\n",
      "UEDUEHAESTUOA\n",
      "XGTSDITSETPTD\n",
      "BWDFRTAIYRTRE\n",
      "ETIERESNDHOAL\n",
      "STOCIETRNHTED\n",
      "CPMEOESTHOOAE\n",
      "EARDAERUYNSNH\n",
      "HESREEFOOLAOT\n",
      "TNTTSIOWRILOS\n",
      "ETNEIAERTPNFH\n",
      "YOPEBRNRANOIR\n",
      "NAMODHUTMTESN\n",
      "STHUBKPOMNEIC\n",
      "ITSCREVAEFIKQ\n",
      "BHCEICCENHTAS\n",
      "TERSUAOSOOIAG\n",
      "FFNSTPOEEEIIE\n",
      "PENOSRMHTTOEM\n",
      "RAADATUNISEOU\n",
      "SMMALNKBSBTEF\n",
      "CEUFNRDUNYASO\n",
      "TESCERGOBOTYG\n",
      "NDHUNHEAITEUE\n",
      "EARTNIOUYPEOR\n",
      "WUNTNEIEAOCGR\n",
      "TCRRAMNNTSCIU\n",
      "QSHTIIAGTNHRE\n",
      "EIESKAUDAAXTS\n",
      "HUTEHAHERESOE\n",
      "IECOVTBOSGDIJ\n",
      "TNNNTOUMSEALU\n",
      "IAFAODFNAEIND\n",
      "AFTYTATENKGWR\n",
      "NOAETRYESOSTN\n",
      "DATWNRSNRUNES\n",
      "EOEISNEEOITMR\n",
      "MNWTTOIAOTTRN\n",
      "NWATNWTYWSYTI\n",
      "INORDAAOOHAEH\n",
      "ESINWJGTRHSNV\n",
      "NRTTEEONGOCEH\n",
      "KEEFRRISKHESE\n",
      "OGKHIRSIFPAGD\n",
      "NIFOADOEAREWK\n",
      "GHTITOWREEAER\n",
      "CORUWFUTOHEUE\n",
      "CFTNCRENOTOEO\n",
      "ITGACETRAOYOI\n",
      "CEIUTNEESITDI\n",
      "ODHEOENLSHOEI\n",
      "SUSBDTNARUOTE\n",
      "NERSDEARSTDTA\n",
      "DEEPEWTIUDANI\n",
      "TPRIPHNIOENOE\n",
      "TEPTRVGAGRMRN\n",
      "UHUIRRVSEISGC\n",
      "LICMAUSSTIOOM\n",
      "ANTEAEOYSDFRR\n",
      "EEDNTDSREOANS\n",
      "AYFGFRIMCTOLO\n",
      "AFMYITEMRIUTL\n",
      "SPTBEGFNNPNTS\n",
      "AUAOKGTYAVEIO\n",
      "MNYTRNOEMHIGS\n",
      "SKANPHFCRNRTA\n",
      "TOOEATPEDOUHT\n",
      "NOEWTBELDSEDI\n",
      "DDEBOCBEEPTIO\n",
      "VEAEATSRSEEEI\n",
      "DLPIWRSPUHBAD\n",
      "VEHTNNFLROENT\n",
      "OAIHUSEHNWEFF\n",
      "GDLTTOSEETEUD\n",
      "DHEVREEUNFUET\n",
      "AAWHAEOVTMCAR\n",
      "RHITSWLHONHEU\n"
     ]
    }
   ],
   "source": [
    "# Probably multiple transpositions here.  Try putting it in columns...\n",
    "\n",
    "for n in range(250):\n",
    "    offset = n*13\n",
    "    print(squished[offset:offset+13])"
   ]
  },
  {
   "cell_type": "code",
   "execution_count": null,
   "metadata": {},
   "outputs": [],
   "source": []
  }
 ],
 "metadata": {
  "kernelspec": {
   "display_name": "Python 3 (ipykernel)",
   "language": "python",
   "name": "python3"
  },
  "language_info": {
   "codemirror_mode": {
    "name": "ipython",
    "version": 3
   },
   "file_extension": ".py",
   "mimetype": "text/x-python",
   "name": "python",
   "nbconvert_exporter": "python",
   "pygments_lexer": "ipython3",
   "version": "3.11.0"
  }
 },
 "nbformat": 4,
 "nbformat_minor": 4
}
