{
 "cells": [
  {
   "cell_type": "markdown",
   "metadata": {},
   "source": [
    "# Cipher Challenge 2022\n",
    "### Challenge 7 / 2022-Nov-24\n",
    "\n",
    "Challenge link https://www.cipherchallenge.org/challenge/mission-7/"
   ]
  },
  {
   "cell_type": "code",
   "execution_count": 1,
   "metadata": {},
   "outputs": [],
   "source": [
    "# Part A - \"Ring-a-ring-a-roses\"\n",
    "part_a_text = \"\"\"NOGXI AVBUI WVJXS NLBFE CSKMH XLGTI RKCPX FHBAA EAMIR TVDRI VZFAT RUBEX RYRQH KVBAQ POMYI NVPWF VUHMQ ZURMP CTYPK VDYEX FZYKX YLJQE JAYZY EBQGE CUYYI RUBMR ZURQV ELREI RYATP ZUIQH ZARAE JWWRV FTRTI NHPAJ ZUBQT VUBQR TLRTI FYGSM EHJIE JSCMH VYMRX YLAGP GLPDM ENUTM TOBUH EAQQI DSGWI RJMUR TPBQR TLYZH RUMFL VYHGK FMAAJ WLCSE MLKQX ZTCFS VENXS ILRTI CPLWX YLMDM XPLMP TBJBI IYGZK NHQEI KBNNC NHQTM ENRAR RUBFE CSKMH XLRAW GFMZX YLZDM KPQTA RZFUR XAMZL RKQGK XLQFI UAFQR RTCMR UAYWI EPRRV FTAGP GLNQV TVSZX PCGDK ZUGMQ FZRAJ KOCUV RJRUZ ZAGQW NLPQJ FJSEW VKYDS LUBZI NFMDO TPRKA ZAFFL VHEQR KZYZH JWGQW ILADY ZACPJ IVKXS ENGEP RUBMR UJMZR VJRUG LARTI PDMDO VKDAV RIMGX WPTQC VHPEV VWMDX ZUEAR KOCNV ZAGEL KYMAT DVTQQ VUREY JPLSG FKCEE EKQBC TYYRX KVQFE PBLPI KLAFI UHQRE IHQUG FBJPW VLRTI ILUMW EVPQG FYBAJ KOCDM ENMBI IHRUR XPLAV RYMGR UJSXT VWCDA YPATQ RKCEI EZCZS FUCQZ VYATS FZCEE TVBQR RTCOS EUCOX VKUUX YAFQS GLPMX ZVLNY KAFMX CLDFQ VDMZH VYGZK NOWAY IUCIQ IAYXP DHBSI NHQAT VYYFM ENFQV VHLPA YHRFL VFUQV VBNFS FUYIL ZTGEI RYATI UHLZE JTGFL KHJXQ RKEQE EKRTI ILQGP KDYEE JBPBV ZZCNY KZKUX YPQMG FTKAR EHKQE EKGIE JUREY ILGFQ VHLFE EFRTM ENRTI SHLWZ RBJFA RZAXI RYJKM DWMDX RURNY KZGZG VAFQF FECEH ZKLFG FURMM EHLKX YPLSS KOCDX YHLZY DICDW ZAKGW KICFL VJYEI KOYFX YLLGQ SLPEX YLKEI CCCEL RCCMQ VHLUR XPUMW FURAQ PAFUV UQSSS WJMRJ VLZQJ FYCUJ FBLPX YLAGP GLPOS ULZAS BVLXM ELYZH KOGZK JZRMV KLBFS DHIQW VUQQM UBEAY KAFQP ZZRAJ SVVQW RUBZY DICDW KOYFN FKGQL RKEUZ VUKQE EKQFE IACPX FWSFM KAMSI KOCDF LASZJ FYRGR RACXC ABQFE JPZQK RUKKT YVLQV RUEMR UDFQR ZWGOO VKGFY GPFMH ILAQM MLBMR RBBUS DLQEE XLDDS DQMPM VPRIE JPLYS IZCOS ULYZH VUADC GACPM WZFQA RZRMO ZUEFL RAKGG YJYDI KOCZM BUCIA VTSEX SLGZF ZNRDS LIJQ\"\"\""
   ]
  },
  {
   "cell_type": "code",
   "execution_count": 2,
   "metadata": {},
   "outputs": [],
   "source": [
    "from collections import Counter\n",
    "\n",
    "# Takes a string or list of items and counts the frequencies of those items\n",
    "# data: The list or string to analyse\n",
    "# max_values: The maximum number of values to display (set to None for no limit)\n",
    "# no_columns: The amount of columns to use in the output\n",
    "def frequency_analysis(data, max_values=30, no_columns=5):\n",
    "    frequencies = Counter()\n",
    "    for item in data:\n",
    "        frequencies[item] += 1\n",
    "    \n",
    "    total = sum(frequencies.values())\n",
    "    column = 1\n",
    "    for item, frequency in frequencies.most_common(max_values):\n",
    "        print(f\"{item}: {frequency:2} ({frequency / total:.2%})\", end=\" \" if column % no_columns else \"\\n\")\n",
    "        column += 1\n",
    "    print(\"\\n-----\")"
   ]
  },
  {
   "cell_type": "code",
   "execution_count": 3,
   "metadata": {},
   "outputs": [
    {
     "name": "stdout",
     "output_type": "stream",
     "text": [
      "R: 94 (6.60%) E: 76 (5.34%) L: 75 (5.27%) Q: 71 (4.99%) F: 70 (4.92%)\n",
      "A: 69 (4.85%) Z: 67 (4.71%) Y: 67 (4.71%) V: 66 (4.63%) K: 66 (4.63%)\n",
      "U: 64 (4.49%) M: 64 (4.49%) I: 61 (4.28%) P: 52 (3.65%) G: 50 (3.51%)\n",
      "C: 49 (3.44%) T: 44 (3.09%) X: 43 (3.02%) S: 42 (2.95%) J: 40 (2.81%)\n",
      "B: 38 (2.67%) H: 38 (2.67%) D: 38 (2.67%) W: 31 (2.18%) N: 27 (1.90%)\n",
      "O: 22 (1.54%) \n",
      "-----\n"
     ]
    }
   ],
   "source": [
    "squished = part_a_text.replace(\" \", \"\")\n",
    "frequency_analysis(squished)"
   ]
  },
  {
   "cell_type": "code",
   "execution_count": 4,
   "metadata": {},
   "outputs": [],
   "source": [
    "# Tools to help decode Vigenere ciphers\n",
    "\n",
    "\n",
    "# A function that searches for multiple ocurrences of letters of the specified size and prints out the most common ones\n",
    "def pattern_finder(text, size):\n",
    "    patterns = Counter()\n",
    "    for index in range(len(text)):\n",
    "        patterns[text[index:index+size]] += 1\n",
    "\n",
    "    column = 0\n",
    "    for item, count in patterns.most_common(30):\n",
    "        print(f\"{item}: {count:2}\", end=\" \")\n",
    "        column += 1\n",
    "        if column % 5 == 0:\n",
    "            print()\n",
    "\n",
    "\n",
    "# A function that searches the given text for a word and figures out where it would line up with a key of a given size\n",
    "def get_alignment(text, word, key_size):\n",
    "    print(f\"{word}/{key_size}\", end=\" \")\n",
    "    alignments = []\n",
    "    position = -1\n",
    "    while True:\n",
    "        position = text.find(word, position+1)\n",
    "        if position >= 0:\n",
    "            alignment = position % key_size\n",
    "            print(f\"{position} ({alignment})\", end=\" \")\n",
    "            alignments.append(alignment)\n",
    "        else:\n",
    "            break\n",
    "    if alignments.count(alignments[0]) == len(alignments):\n",
    "        print(\"All the same!\", end=\"\")\n",
    "    print()\n",
    "\n",
    "\n",
    "# A function to reverse search for a key that would convert the given word to an encoded word\n",
    "def lookup_key(word, encoded_word):\n",
    "    key = \"\"\n",
    "    for letter, encoded_letter in zip(word, encoded_word):\n",
    "        diff = (ord(encoded_letter) - ord(letter)) % 26\n",
    "        key += chr(diff + ord('A'))\n",
    "    print(key)"
   ]
  },
  {
   "cell_type": "code",
   "execution_count": 5,
   "metadata": {},
   "outputs": [
    {
     "name": "stdout",
     "output_type": "stream",
     "text": [
      "XYL:  7 RTI:  7 KOC:  6 RUB:  5 MEN:  5 \n",
      "YZH:  4 FLV:  4 AFQ:  4 EEK:  4 QEE:  4 \n",
      "FEC:  3 BMR:  3 IRY:  3 YAT:  3 BQR:  3 \n",
      "LRT:  3 IEJ:  3 AGP:  3 GPG:  3 PGL:  3 \n",
      "GLP:  3 LYZ:  3 GZK:  3 NHQ:  3 ARZ:  3 \n",
      "FUR:  3 URX:  3 MRU:  3 QRK:  3 ACP:  3 \n"
     ]
    }
   ],
   "source": [
    "pattern_finder(squished, 3)"
   ]
  },
  {
   "cell_type": "code",
   "execution_count": 13,
   "metadata": {},
   "outputs": [
    {
     "name": "stdout",
     "output_type": "stream",
     "text": [
      "XYL/4 104 (0) 204 (0) 294 (2) 354 (2) 1054 (2) 1064 (0) 1124 (0) \n",
      "RTI/4 162 (2) 182 (2) 287 (3) 537 (1) 652 (0) 882 (2) 952 (0) \n",
      "KOC/4 435 (3) 575 (3) 670 (2) 1020 (0) 1245 (1) 1395 (3) \n",
      "RUB/4 55 (3) 125 (1) 335 (3) 520 (0) 1195 (3) \n",
      "MEN/4 214 (2) 329 (1) 674 (2) 819 (3) 949 (1) \n",
      "YZH/4 247 (3) 492 (0) 1147 (3) 1357 (1) \n",
      "FLV/4 253 (1) 483 (3) 833 (1) 1043 (3) \n",
      "AFQ/4 386 (2) 756 (0) 991 (3) 1181 (1) \n",
      "EEK/4 609 (1) 879 (3) 924 (0) 1224 (0) \n",
      "QEE/4 878 (2) 923 (3) 1223 (3) 1327 (3) \n",
      "FEC/4 18 (2) 338 (2) 995 (3) \n",
      "BMR/4 127 (3) 522 (2) 1317 (1) \n",
      "IRY/4 139 (3) 854 (2) 969 (1) \n",
      "YAT/4 141 (1) 726 (2) 856 (0) \n",
      "BQR/4 177 (1) 242 (2) 737 (1) \n",
      "XYL/5 104 (4) 204 (4) 294 (4) 354 (4) 1054 (4) 1064 (4) 1124 (4) All the same!\n",
      "RTI/5 162 (2) 182 (2) 287 (2) 537 (2) 652 (2) 882 (2) 952 (2) All the same!\n",
      "KOC/5 435 (0) 575 (0) 670 (0) 1020 (0) 1245 (0) 1395 (0) All the same!\n",
      "RUB/5 55 (0) 125 (0) 335 (0) 520 (0) 1195 (0) All the same!\n",
      "MEN/5 214 (4) 329 (4) 674 (4) 819 (4) 949 (4) All the same!\n",
      "YZH/5 247 (2) 492 (2) 1147 (2) 1357 (2) All the same!\n",
      "FLV/5 253 (3) 483 (3) 833 (3) 1043 (3) All the same!\n",
      "AFQ/5 386 (1) 756 (1) 991 (1) 1181 (1) All the same!\n",
      "EEK/5 609 (4) 879 (4) 924 (4) 1224 (4) All the same!\n",
      "QEE/5 878 (3) 923 (3) 1223 (3) 1327 (2) \n",
      "FEC/5 18 (3) 338 (3) 995 (0) \n",
      "BMR/5 127 (2) 522 (2) 1317 (2) All the same!\n",
      "IRY/5 139 (4) 854 (4) 969 (4) All the same!\n",
      "YAT/5 141 (1) 726 (1) 856 (1) All the same!\n",
      "BQR/5 177 (2) 242 (2) 737 (2) All the same!\n",
      "XYL/6 104 (2) 204 (0) 294 (0) 354 (0) 1054 (4) 1064 (2) 1124 (2) \n",
      "RTI/6 162 (0) 182 (2) 287 (5) 537 (3) 652 (4) 882 (0) 952 (4) \n",
      "KOC/6 435 (3) 575 (5) 670 (4) 1020 (0) 1245 (3) 1395 (3) \n",
      "RUB/6 55 (1) 125 (5) 335 (5) 520 (4) 1195 (1) \n",
      "MEN/6 214 (4) 329 (5) 674 (2) 819 (3) 949 (1) \n",
      "YZH/6 247 (1) 492 (0) 1147 (1) 1357 (1) \n",
      "FLV/6 253 (1) 483 (3) 833 (5) 1043 (5) \n",
      "AFQ/6 386 (2) 756 (0) 991 (1) 1181 (5) \n",
      "EEK/6 609 (3) 879 (3) 924 (0) 1224 (0) \n",
      "QEE/6 878 (2) 923 (5) 1223 (5) 1327 (1) \n",
      "FEC/6 18 (0) 338 (2) 995 (5) \n",
      "BMR/6 127 (1) 522 (0) 1317 (3) \n",
      "IRY/6 139 (1) 854 (2) 969 (3) \n",
      "YAT/6 141 (3) 726 (0) 856 (4) \n",
      "BQR/6 177 (3) 242 (2) 737 (5) \n",
      "XYL/7 104 (6) 204 (1) 294 (0) 354 (4) 1054 (4) 1064 (0) 1124 (4) \n",
      "RTI/7 162 (1) 182 (0) 287 (0) 537 (5) 652 (1) 882 (0) 952 (0) \n",
      "KOC/7 435 (1) 575 (1) 670 (5) 1020 (5) 1245 (6) 1395 (2) \n",
      "RUB/7 55 (6) 125 (6) 335 (6) 520 (2) 1195 (5) \n",
      "MEN/7 214 (4) 329 (0) 674 (2) 819 (0) 949 (4) \n",
      "YZH/7 247 (2) 492 (2) 1147 (6) 1357 (6) \n",
      "FLV/7 253 (1) 483 (0) 833 (0) 1043 (0) \n",
      "AFQ/7 386 (1) 756 (0) 991 (4) 1181 (5) \n",
      "EEK/7 609 (0) 879 (4) 924 (0) 1224 (6) \n",
      "QEE/7 878 (3) 923 (6) 1223 (5) 1327 (4) \n",
      "FEC/7 18 (4) 338 (2) 995 (1) \n",
      "BMR/7 127 (1) 522 (4) 1317 (1) \n",
      "IRY/7 139 (6) 854 (0) 969 (3) \n",
      "YAT/7 141 (1) 726 (5) 856 (2) \n",
      "BQR/7 177 (2) 242 (4) 737 (2) \n",
      "XYL/8 104 (0) 204 (4) 294 (6) 354 (2) 1054 (6) 1064 (0) 1124 (4) \n",
      "RTI/8 162 (2) 182 (6) 287 (7) 537 (1) 652 (4) 882 (2) 952 (0) \n",
      "KOC/8 435 (3) 575 (7) 670 (6) 1020 (4) 1245 (5) 1395 (3) \n",
      "RUB/8 55 (7) 125 (5) 335 (7) 520 (0) 1195 (3) \n",
      "MEN/8 214 (6) 329 (1) 674 (2) 819 (3) 949 (5) \n",
      "YZH/8 247 (7) 492 (4) 1147 (3) 1357 (5) \n",
      "FLV/8 253 (5) 483 (3) 833 (1) 1043 (3) \n",
      "AFQ/8 386 (2) 756 (4) 991 (7) 1181 (5) \n",
      "EEK/8 609 (1) 879 (7) 924 (4) 1224 (0) \n",
      "QEE/8 878 (6) 923 (3) 1223 (7) 1327 (7) \n",
      "FEC/8 18 (2) 338 (2) 995 (3) \n",
      "BMR/8 127 (7) 522 (2) 1317 (5) \n",
      "IRY/8 139 (3) 854 (6) 969 (1) \n",
      "YAT/8 141 (5) 726 (6) 856 (0) \n",
      "BQR/8 177 (1) 242 (2) 737 (1) \n",
      "XYL/9 104 (5) 204 (6) 294 (6) 354 (3) 1054 (1) 1064 (2) 1124 (8) \n",
      "RTI/9 162 (0) 182 (2) 287 (8) 537 (6) 652 (4) 882 (0) 952 (7) \n",
      "KOC/9 435 (3) 575 (8) 670 (4) 1020 (3) 1245 (3) 1395 (0) \n",
      "RUB/9 55 (1) 125 (8) 335 (2) 520 (7) 1195 (7) \n",
      "MEN/9 214 (7) 329 (5) 674 (8) 819 (0) 949 (4) \n",
      "YZH/9 247 (4) 492 (6) 1147 (4) 1357 (7) \n",
      "FLV/9 253 (1) 483 (6) 833 (5) 1043 (8) \n",
      "AFQ/9 386 (8) 756 (0) 991 (1) 1181 (2) \n",
      "EEK/9 609 (6) 879 (6) 924 (6) 1224 (0) \n",
      "QEE/9 878 (5) 923 (5) 1223 (8) 1327 (4) \n",
      "FEC/9 18 (0) 338 (5) 995 (5) \n",
      "BMR/9 127 (1) 522 (0) 1317 (3) \n",
      "IRY/9 139 (4) 854 (8) 969 (6) \n",
      "YAT/9 141 (6) 726 (6) 856 (1) \n",
      "BQR/9 177 (6) 242 (8) 737 (8) \n"
     ]
    }
   ],
   "source": [
    "for size in range(4, 10):\n",
    "    for pattern in (\"XYL\", \"RTI\", \"KOC\", \"RUB\", \"MEN\", \"YZH\", \"FLV\", \"AFQ\", \"EEK\", \"QEE\", \"FEC\", \"BMR\", \"IRY\", \"YAT\", \"BQR\"):\n",
    "        get_alignment(squished, pattern, size)"
   ]
  },
  {
   "cell_type": "code",
   "execution_count": 14,
   "metadata": {},
   "outputs": [
    {
     "name": "stdout",
     "output_type": "stream",
     "text": [
      "XYL: ERH\n",
      "RTI: YME\n",
      "KOC: RHY\n",
      "RUB: YNX\n",
      "MEN: TXJ\n",
      "YZH: FSD\n",
      "FLV: MER\n",
      "AFQ: HYM\n",
      "EEK: LXG\n",
      "BMR: IFN\n",
      "IRY: PKU\n",
      "YAT: FTP\n",
      "BQR: IJN\n"
     ]
    }
   ],
   "source": [
    "for pattern in (\"XYL\", \"RTI\", \"KOC\", \"RUB\", \"MEN\", \"YZH\", \"FLV\", \"AFQ\", \"EEK\", \"BMR\", \"IRY\", \"YAT\", \"BQR\"):\n",
    "    print(pattern, end=\": \")\n",
    "    lookup_key(\"THE\", pattern)"
   ]
  },
  {
   "cell_type": "code",
   "execution_count": null,
   "metadata": {},
   "outputs": [],
   "source": [
    "# 4: RH..E\n",
    "# 2: ..YME\n",
    "# 0: RHY..\n",
    "# 0: YNX..\n",
    "# 4: XJ..T\n",
    "# 2: ..FSD\n",
    "# 3: R..ME\n",
    "# 1: HYM\n",
    "# 4: LXG\n",
    "# 2: IFN\n",
    "# 4: PKU\n",
    "# 1: FTP\n",
    "# 2: IJN"
   ]
  },
  {
   "cell_type": "code",
   "execution_count": 8,
   "metadata": {},
   "outputs": [],
   "source": [
    "# A method to decode/encode a Vigenere cipher.  Case and punctuation are preserved.\n",
    "# text: The text to encode\n",
    "# key: The key to use\n",
    "# encode: If set to True, will encode the given text instead of decoding it\n",
    "def vigenere(text, key, encode=False):\n",
    "    shifts = [ord(letter.upper()) - ord(\"A\") for letter in key]\n",
    "    key_length = len(key)\n",
    "    key_index = 0\n",
    "    for letter in text:\n",
    "        letter_val = ord(letter)\n",
    "        if letter.isupper():\n",
    "            offset = ord(\"A\")\n",
    "        elif letter.islower():\n",
    "            offset = ord(\"a\")\n",
    "        else:\n",
    "            print(letter, end=\"\")\n",
    "            continue\n",
    "\n",
    "        if encode:\n",
    "            shift = shifts[key_index]\n",
    "        else:\n",
    "            shift = -shifts[key_index]\n",
    "\n",
    "        print(chr((((letter_val - offset) + shift) % 26) + offset), end=\"\")\n",
    "        key_index = (key_index + 1) % key_length\n",
    "    print()"
   ]
  },
  {
   "cell_type": "code",
   "execution_count": 15,
   "metadata": {},
   "outputs": [
    {
     "name": "stdout",
     "output_type": "stream",
     "text": [
      "WHILEJODIEFOLLOWEDTALLMADGEIHEADEDTOADOWNTOWNCOFFEESHOPANDSTARTEDTODOMYHOMEWORKBENJAMINTALLMADGEWASTOSAYTHELEASTANUNUSUALNAMEANDANINTERNETSEARCHLINKEDITTOASPYFROMTHEWAROFINDEPENDENCETHEORIGINALWASLEADEROFTHECULPERRINGWHICHDIDNTSEEMLIKEACOINCIDENCEANDANOTHERJUGOFCOFFEEGAVEMETIMETOEXPLORETHELINKTHEORIGINALCULPERRINGWASSETUPBYWASHINGTONANDTALLMADGETOSPYONTHEBRITISHWASHINGTONHADSUGGESTEDTHENAMEANDTAKENITFROMCULPEPERCOUNTYVIRGINIAMOSTOFTHEIRACTIVITIESWEREFOCUSSEDAROUNDNEWYORKCITYWITHTHEAGENTSANDSPIESRECRUITEDFROMLONGISLANDANDCONNECTICUTTHEYWORKEDFORABOUTFIVEYEARSREPORTINGONTHEBRITISHTROOPMOVEMENTSUSINGCODESANDSPYCRAFTTOSTAYUNDETECTEDASFARASICOULDSEETHEREWASNORECORDOFTHERINGOPERATINGINORAROUNDCULPEPERWHICHMADESENSENOONEEVERCHOOSESACODENAMECONNECTEDWITHTHEOPERATIONBUTTHATLEFTMEWONDERINGWHYOURNEWMRTALLMADGEWASOPERATINGHEREANDWHATTHEYWEREUPTOONAWHIMISEARCHEDANNASMITHTALLMADGEANDTHERESULTWASASURPRISEBUTSMITHISACOMMONNAMEANDIWASNTSUREITMEANTANYTHINGTHEBANKVAULTWASCLEARLYIMPORTANTBUTSINCETHEBOXESDIDNTCONTAINANYTHINGOTHERTHANNUMBERSITMUSTBETHECASETHATTHENUMBERSTHEMSELVESHAVEAMEANINGIWASONTOMYTHIRDJUGOFCOFFEEBEFOREIFOUNDTHECULPERCODEBOOKONLINEANDTHINGSSTARTEDTOMAKESENSEIDUGOUTTHELISTOFBOXESANDNUMBERSTHATJODIEHADGIVENMEANDSTARTEDTOPUTITTOGETHERBUTUNFORTUNATELYJUSTASIBEGANMYPHONERANGANDWHENIPICKEDITUPIHADRECEIVEDANAUDIOMESSAGEFROMJODIEITWASINMORSECODEANDENCRYPTEDIFSHEWASTAKINGTHATMUCHCARETHENIKNEWWEMUSTBEINBIGTROUBLE\n"
     ]
    }
   ],
   "source": [
    "vigenere(squished, \"rhyme\")"
   ]
  },
  {
   "cell_type": "code",
   "execution_count": 17,
   "metadata": {},
   "outputs": [],
   "source": [
    "# Part B \"The lion's den\"\n",
    "part_b_text = \"\"\"... .- . -..- .--- -..- ..-. .--. .-.. -. ... .- .--. --. .-. .... --. -.- -.-. .-- . .-.. ...- .-. ... .--. . --.. --.. -..- --. ..- . ...- -.-- -. -.- --. --. .-- .--. -.- .-.. -.. - -.- -.. - ..-. --.. -. .-. -.-- - -.- .-.. .-.. .-.. -. - --- -- -.. --.. .-.. -.-- ..- .... .. -... ... .. --.. - --.. ...- .-. ... . -. -.-- . ... ... . --- ... .. ..-. .--. -. .--. .--. .-. -..- --.. .-. .-. ... . ..- --- .-. .-.. ..- .-.. -.-- ...- .. .-- ... --.- .--. -.. ..- --- -..- .... -- .... -. .-- .- -.. -..- -.-- -.. .... .-. -.-. .-.. .-- .... --.. .. .- --- -.-- -.- .-. ... . ...- -.-- - -... .-. .--- ... ...- -.. .-.. .-. -... - -- --.. -.- --- -- -.-- . . -.-- . .... -- --.- ... . --.- --- ... . -... -.-- - .--- -.- .... .. .--. .--. .... .-. --. --- -- .-.. .-. ..-. -... -..- .... . --.- ... .. .- -- . ... .-.. .-.. -. --.- --- -- .. . .-.. -. --. ..- .-. .. .-. .-.. -... -. .--- --.- .. -.-. .-- .. .- -- .-.. ..-. -- ..-. - ...- --.. . .-.. -.-- . -.-. . . -.. -..- -.-- .-- .-.. ...- -.-- .--. .... --. -.-- - -... --. --- .. -.-. .- ..- .- -.- .-.. .-- --. -.-- . ..-. -.-- .-.. .-- ..-. .--. - .... -..- -.-- .. -... --.. ..-. ... ..- -.-- -..- -- . .... .-. -- .--. ... .--. .-. . --. ..- .... .-. -. - -.- .-. --. -.-- .... --. -.-. . -. .-. - .-- -.-. --- .-- ..- -.- -.-. .. ..-. .--. .-- -. -.-- ... .. -.-- --- .. .- -- .... .. ..-. .-.. ...- .-. --. .- ...- -- -- .-.. .-. ... - -. ... -.. - --.- ..- -.-- -..- .. -.-- --- .--- -.-. ... . .-. -.. --- . --.. --.. ...- ..-. --.. .-- --- --- .-. ..-. ... . .-- .-. - .--. .. -... . --- ... --- -.-- .... -- ..-. - -.. .- - --. .. .-- -.-- ...- .... .-.. --. .. .--. -.. -... .-.. --.- . .-.. --- -.-. .... --.. . .-.. -.-. . .-. -. .. .--. -- .-.. -. .- ..-. -.- - -..- .-. -.-. .. - -- .--. ...- -.-. --- .- .- --. ..-. -..- -- -..- .- --. --- -. . .--- .--. .-. --. -. .--. .-.. -.-- -.. .- .--. .. .--. .-- --.- . --- -. .-. --.. -..- -.- --.. .-. .-. --.. .--. --. ..-. -.-- --- -.-- ..- .-. -.-. .-. ... .- .- -.-. .--. .... -- .-.. -. --.- --- -. . .-.. . -... .-. -.-- ..-. ...- -.-. . .... -. --.. . .-.. -.-. .- .... -... - .--. -..- .--. .-.. -.-. .-. --- -.. -.-- .-.. --- . --. -.- -. -..- -.-- -- .-.. .-. --- .-.. --.- --.- ..-. .-. .-. --.. ... . .-. ... .. ..-. -.- -..- - .--- --.. -.-- .-. -..- -.. .- --. .-- .-.. .- ..- . ..-. -.-. ... .- -.-. ...- .--- -..- -- --.- .. .- .--- -..- .. -- -.-- .... ...- -.-- . . --. .-- .- .- .--- - --. -.-. -.-. - -. --- -.-- .--. .-- --- --- .- --.. .... . .-.. . - -... -.-- .- .. .-.. --- - ...- ... .--. -- .-.. .-.. -... -. -.-- .--. --.- -.-. -.-- - --. -..- .--- -- .-.. .-. - -... -.- .. - .--- .-.. .. .- ... .--- .-- -.-. .-- ..-. --. ..- . .-.. -.-. -..- .. .--. --. .-- .--. -.-. --- --- ... .-.. . .-.. -.-. .-- .- --.. ...- .-- -- . ... - .-. -..- -.. ..-. -.-. --.- --- . -.- . .-.. -.-. .--- -.-. -... .- .-- .... .--. .--. .- -.-- --- -.. .. ..- ... --- ..- -.- .... . --.- .... --- . --.- - .-. . --.- --- . --- . .- -.-- -.. --- .- -.- . .-.. --. -.-- --. -. -.-- ...- -- .-.. .-. - ..- -.- -..- .--- -- -.-. .- ... --. --. ... ... -.-. .-- ..- -.- -.-- -- .-. ... --- .... -- ... -..- .-. ... .. ..-. -.-. .-.. .-- -.-- -.-. --- .... --.. - .-. -.-. -. --- --.. ... .--. ...- .- - .- -.-- .. --.. .-. .-. -.-. .- .--. --.. -- -.-- .-. - - ...- -.-- .-.. .-. -- . .... .-. -..- .--. .-. .-. - .-. .-. .-. .--- -..- -- --- .-. -. -- . .-.. -.-. -..- .. .- --.. --.. -..- ..-. .--. .... -... .-. .--. -..- ..-. .-.. - ...- -.-- .--. .. -.- . --- ..- --. --. .. -... ..-. --. ... ..- -.-. --.- .-- -.. . -.-- .-.. - . .--- -.. --- ..- --. --. .. -.-- -.-- -. -. --.. --.. -..- ..-. - -. -..- ..- --.- -- ..- .-.. ... .--. ..- -.-- .--- --. --- . .- --.. - --. -- ..-. .-.. --.- .-.. --.. .--. .--- --.. .-- --. --. .-- .--. -.- .-.. -.. - -.- .... -- .-. ... --- .... --.. --- -- --.- -. --- .. -.- -.-. -.-. -.-- -.-- -.. ..- --. --- .-.. -- .- . --.- -. .--. .- -- ..-. .-.. --.- .-. .--. . -... -..- . --. ..- ... .. .--. -- ..- --. --- --- -- -... -.-- - -..- - --.. .- .-. ... . .- -.-. ... ... --. .... --- .... .-. --- ..-. -.-. ..-. .--. -. -- .-.. -- .-.. -.. - .--- --- . .-.. .-. ... . . -.- -.. ... ... -.-. -.-. .-. -.-- ... .. ..- - .-.. -.-- -. .-.. --.. -.-. .-.. ...- -. --- .-- . --.. .-- . ...- --.. .... -- .--- .-- -... .-. -. .-.. ...- -... . --- -. -... --.. -- -... --- . --. -.- -. -..- --. --.. -. --- . -.. -..- -.-- .--- .. .- -- .-.. .- -.-- .--- .-.. .-. --.. .-.. .--. -- -.-- . --- . --.- ... .--- .-- --- .--- --- -.-- -.- ..-. - -- --. ..- . .-.. -.-. --.. ..-. ... --- -. .. --. .- .-.. -. - . ... ..-. --.. .-.. .-. .- .- -- .-.. .-.. .-. -.-- --- -.-- -.- .-. --.. -. ...- --.. -.. .-.. -- ..-. .-.. --.- .... .--. ..-. ... -.. -.-- .-. - --.. -.-- . ... - -... -- - --.. -.-. -..- . .--. ..- --. .. .--. -. .- .- . --.. -.-- .... --.. .. .- ... .--. .-.. -.-. -.-. . .--- -.- -.-- .. -.-. --- - -... ... .-.. --- -.-. .-.. -. .-. -.-. .- .--. -.-- -.-- .--- -... .--- - ..\"\"\""
   ]
  },
  {
   "cell_type": "code",
   "execution_count": 19,
   "metadata": {},
   "outputs": [],
   "source": [
    "m2t = {\".-\":\"a\", \"-...\":\"b\", \"-.-.\":\"c\", \"-..\":\"d\", \".\":\"e\",\n",
    "       \"..-.\":\"f\", \"--.\":\"g\", \"....\":\"h\", \"..\":\"i\", \".---\":\"j\",\n",
    "       \"-.-\":\"k\", \".-..\":\"l\", \"--\":\"m\", \"-.\":\"n\", \"---\":\"o\",\n",
    "       \".--.\":\"p\", \"--.-\":\"q\", \".-.\":\"r\", \"...\":\"s\",\n",
    "       \"-\":\"t\", \"..-\":\"u\", \"...-\":\"v\", \".--\":\"w\",\n",
    "       \"-..-\":\"x\", \"-.--\":\"y\", \"--..\":\"z\",\n",
    "       \".----\":\"1\", \"..---\":\"2\", \"...--\":\"3\", \"....-\":\"4\", \".....\":\"5\",\n",
    "       \"-....\":\"6\", \"--...\":\"7\", \"---..\":\"8\", \"----.\":\"9\",\"-----\":\"0\",\n",
    "       \"/\":\" \"}"
   ]
  },
  {
   "cell_type": "code",
   "execution_count": 23,
   "metadata": {},
   "outputs": [
    {
     "name": "stdout",
     "output_type": "stream",
     "text": [
      "saexjxfplnsapgrhgkcwelvrspezzxguevynkggwpkldtkdtfznrytklllntomdzlyuhibsiztzvrsenyesseosifpnpprxzrrseuorlulyviwsqpduoxhmhnwadxydhrclwhziaoykrsevytbrjsvdlrbtmzkomyeeyehmqseqosebytjkhipphrgomlrfbxheqsiamesllnqomielngurirlbnjqicwiamlfmftvzelyeceedxywlvyphgytbgoicauaklwgyefylwfpthxyibzfsuyxmehrmpspreguhrntkrgyhgcenrtwcowukcifpwnysiyoiamhiflvrgavmmlrstnsdtquyxiyojcserdoezzvfzwoorfsewrtpibeosoyhmftdatgiwyvhlgipdblqelochzelcernipmlnafktxrcitmpvcoaagfxmxagonejprgnplydapipwqeonrzxkzrrzpgfyoyurcrsaacphmlnqonelebryfvcehnzelcahbtpxplcrodyloegknxymlrolqqfrrzsersifkxtjzyrxdagwlauefcsacvjxmqiajximyhvyeegwaajtgcctnoypwooazheletbyailotvspmllbnypqcytgxjmlrtbkitjliasjwcwfguelcxipgwpcooslelcwazvwmestrxdfcqoekelcjcbawhppayodiusoukheqhoeqtreqoeoeaydoakelgygnyvmlrtukxjmcasggsscwukymrsohmsxrsifclwycohztrcnozspvatayizrrcapzmyrttvylrmehrxprrtrrrjxmornmelcxiazzxfphbrpxfltvypikeouggibfgsucqwdeyltejdouggiyynnzzxftnxuqmulspuyjgoeaztgmflqlzpjzwggwpkldtkhmrsohzomqnoikccyydugolmaeqnpamflqrpebxegusipmugoombytxtzarseacssghohrofcfpnmlmldtjoelrseekdssccrysiutlynlzclvnowezwevzhmjwbrnlvbeonbzmboegknxgznoedxyjiamlayjlrzlpmyeoeqsjwojoykftmguelczfsonigalntesfzlraamllryoykrznvzdlmflqhpfsdyrtzyestbmtzcxepugipnaaezyhziasplccejkyicotbsloclnrcapyyjbjti\n"
     ]
    }
   ],
   "source": [
    "letters=\"\"\n",
    "for morse in part_b_text.split(\" \"):\n",
    "    letters += m2t[morse]\n",
    "print(letters)"
   ]
  },
  {
   "cell_type": "code",
   "execution_count": 25,
   "metadata": {},
   "outputs": [
    {
     "name": "stdout",
     "output_type": "stream",
     "text": [
      "e: 82 (6.70%) l: 80 (6.54%) r: 73 (5.96%) y: 70 (5.72%) o: 67 (5.47%)\n",
      "s: 58 (4.74%) p: 53 (4.33%) t: 53 (4.33%) a: 52 (4.25%) c: 52 (4.25%)\n",
      "m: 52 (4.25%) z: 50 (4.08%) g: 49 (4.00%) i: 47 (3.84%) n: 45 (3.68%)\n",
      "x: 38 (3.10%) h: 38 (3.10%) f: 37 (3.02%) w: 34 (2.78%) k: 30 (2.45%)\n",
      "u: 30 (2.45%) j: 28 (2.29%) d: 27 (2.21%) b: 27 (2.21%) v: 26 (2.12%)\n",
      "q: 26 (2.12%) \n",
      "-----\n"
     ]
    }
   ],
   "source": [
    "frequency_analysis(letters)"
   ]
  },
  {
   "cell_type": "code",
   "execution_count": 26,
   "metadata": {},
   "outputs": [
    {
     "name": "stdout",
     "output_type": "stream",
     "text": [
      "elc:  7 rse:  5 mlr:  5 iam:  4 zzx:  3 \n",
      "gue:  3 gwp:  3 ldt:  3 sif:  3 zrr:  3 \n",
      "dxy:  3 oyk:  3 aml:  3 zel:  3 mfl:  3 \n",
      "flq:  3 xfp:  2 lvr:  2 vrs:  2 ezz:  2 \n",
      "evy:  2 ggw:  2 wpk:  2 pkl:  2 kld:  2 \n",
      "dtk:  2 lln:  2 lnt:  2 yes:  2 eos:  2 \n"
     ]
    }
   ],
   "source": [
    "pattern_finder(letters, 3)"
   ]
  },
  {
   "cell_type": "code",
   "execution_count": 28,
   "metadata": {},
   "outputs": [
    {
     "name": "stdout",
     "output_type": "stream",
     "text": [
      "elc/4 417 (1) 515 (3) 662 (2) 676 (0) 697 (1) 837 (1) 1117 (1) \n",
      "rse/4 76 (0) 97 (1) 139 (3) 993 (1) 1021 (1) \n",
      "mlr/4 187 (3) 343 (3) 539 (3) 642 (2) 747 (3) \n",
      "iam/4 197 (1) 225 (1) 330 (2) 1086 (2) \n",
      "zzx/4 27 (3) 843 (3) 892 (0) \n",
      "gue/4 30 (2) 660 (0) 1115 (3) \n",
      "gwp/4 38 (2) 668 (0) 927 (3) \n",
      "ldt/4 42 (2) 931 (3) 1014 (2) \n",
      "sif/4 86 (2) 553 (1) 777 (1) \n",
      "zrr/4 95 (3) 476 (0) 802 (2) \n",
      "dxy/4 123 (3) 242 (2) 1082 (2) \n",
      "oyk/4 136 (0) 1109 (1) 1144 (0) \n",
      "aml/4 226 (2) 1087 (3) 1138 (2) \n",
      "zel/4 234 (2) 416 (0) 514 (2) \n",
      "mfl/4 916 (0) 965 (1) 1154 (2) \n",
      "elc/5 417 (2) 515 (0) 662 (2) 676 (1) 697 (2) 837 (2) 1117 (2) \n",
      "rse/5 76 (1) 97 (2) 139 (4) 993 (3) 1021 (1) \n",
      "mlr/5 187 (2) 343 (3) 539 (4) 642 (2) 747 (2) \n",
      "iam/5 197 (2) 225 (0) 330 (0) 1086 (1) \n",
      "zzx/5 27 (2) 843 (3) 892 (2) \n",
      "gue/5 30 (0) 660 (0) 1115 (0) All the same!\n",
      "gwp/5 38 (3) 668 (3) 927 (2) \n",
      "ldt/5 42 (2) 931 (1) 1014 (4) \n",
      "sif/5 86 (1) 553 (3) 777 (2) \n",
      "zrr/5 95 (0) 476 (1) 802 (2) \n",
      "dxy/5 123 (3) 242 (2) 1082 (2) \n",
      "oyk/5 136 (1) 1109 (4) 1144 (4) \n",
      "aml/5 226 (1) 1087 (2) 1138 (3) \n",
      "zel/5 234 (4) 416 (1) 514 (4) \n",
      "mfl/5 916 (1) 965 (0) 1154 (4) \n",
      "elc/6 417 (3) 515 (5) 662 (2) 676 (4) 697 (1) 837 (3) 1117 (1) \n",
      "rse/6 76 (4) 97 (1) 139 (1) 993 (3) 1021 (1) \n",
      "mlr/6 187 (1) 343 (1) 539 (5) 642 (0) 747 (3) \n",
      "iam/6 197 (5) 225 (3) 330 (0) 1086 (0) \n",
      "zzx/6 27 (3) 843 (3) 892 (4) \n",
      "gue/6 30 (0) 660 (0) 1115 (5) \n",
      "gwp/6 38 (2) 668 (2) 927 (3) \n",
      "ldt/6 42 (0) 931 (1) 1014 (0) \n",
      "sif/6 86 (2) 553 (1) 777 (3) \n",
      "zrr/6 95 (5) 476 (2) 802 (4) \n",
      "dxy/6 123 (3) 242 (2) 1082 (2) \n",
      "oyk/6 136 (4) 1109 (5) 1144 (4) \n",
      "aml/6 226 (4) 1087 (1) 1138 (4) \n",
      "zel/6 234 (0) 416 (2) 514 (4) \n",
      "mfl/6 916 (4) 965 (5) 1154 (2) \n",
      "elc/7 417 (4) 515 (4) 662 (4) 676 (4) 697 (4) 837 (4) 1117 (4) All the same!\n",
      "rse/7 76 (6) 97 (6) 139 (6) 993 (6) 1021 (6) All the same!\n",
      "mlr/7 187 (5) 343 (0) 539 (0) 642 (5) 747 (5) \n",
      "iam/7 197 (1) 225 (1) 330 (1) 1086 (1) All the same!\n",
      "zzx/7 27 (6) 843 (3) 892 (3) \n",
      "gue/7 30 (2) 660 (2) 1115 (2) All the same!\n",
      "gwp/7 38 (3) 668 (3) 927 (3) All the same!\n",
      "ldt/7 42 (0) 931 (0) 1014 (6) \n",
      "sif/7 86 (2) 553 (0) 777 (0) \n",
      "zrr/7 95 (4) 476 (0) 802 (4) \n",
      "dxy/7 123 (4) 242 (4) 1082 (4) All the same!\n",
      "oyk/7 136 (3) 1109 (3) 1144 (3) All the same!\n",
      "aml/7 226 (2) 1087 (2) 1138 (4) \n",
      "zel/7 234 (3) 416 (3) 514 (3) All the same!\n",
      "mfl/7 916 (6) 965 (6) 1154 (6) All the same!\n",
      "elc/8 417 (1) 515 (3) 662 (6) 676 (4) 697 (1) 837 (5) 1117 (5) \n",
      "rse/8 76 (4) 97 (1) 139 (3) 993 (1) 1021 (5) \n",
      "mlr/8 187 (3) 343 (7) 539 (3) 642 (2) 747 (3) \n",
      "iam/8 197 (5) 225 (1) 330 (2) 1086 (6) \n",
      "zzx/8 27 (3) 843 (3) 892 (4) \n",
      "gue/8 30 (6) 660 (4) 1115 (3) \n",
      "gwp/8 38 (6) 668 (4) 927 (7) \n",
      "ldt/8 42 (2) 931 (3) 1014 (6) \n",
      "sif/8 86 (6) 553 (1) 777 (1) \n",
      "zrr/8 95 (7) 476 (4) 802 (2) \n",
      "dxy/8 123 (3) 242 (2) 1082 (2) \n",
      "oyk/8 136 (0) 1109 (5) 1144 (0) \n",
      "aml/8 226 (2) 1087 (7) 1138 (2) \n",
      "zel/8 234 (2) 416 (0) 514 (2) \n",
      "mfl/8 916 (4) 965 (5) 1154 (2) \n",
      "elc/9 417 (3) 515 (2) 662 (5) 676 (1) 697 (4) 837 (0) 1117 (1) \n",
      "rse/9 76 (4) 97 (7) 139 (4) 993 (3) 1021 (4) \n",
      "mlr/9 187 (7) 343 (1) 539 (8) 642 (3) 747 (0) \n",
      "iam/9 197 (8) 225 (0) 330 (6) 1086 (6) \n",
      "zzx/9 27 (0) 843 (6) 892 (1) \n",
      "gue/9 30 (3) 660 (3) 1115 (8) \n",
      "gwp/9 38 (2) 668 (2) 927 (0) \n",
      "ldt/9 42 (6) 931 (4) 1014 (6) \n",
      "sif/9 86 (5) 553 (4) 777 (3) \n",
      "zrr/9 95 (5) 476 (8) 802 (1) \n",
      "dxy/9 123 (6) 242 (8) 1082 (2) \n",
      "oyk/9 136 (1) 1109 (2) 1144 (1) \n",
      "aml/9 226 (1) 1087 (7) 1138 (4) \n",
      "zel/9 234 (0) 416 (2) 514 (1) \n",
      "mfl/9 916 (7) 965 (2) 1154 (2) \n"
     ]
    }
   ],
   "source": [
    "for size in range(4, 10):\n",
    "    for pattern in (\"elc\", \"rse\", \"mlr\", \"iam\", \"zzx\", \"gue\", \"gwp\", \"ldt\", \"sif\", \"zrr\", \"dxy\", \"oyk\", \"aml\", \"zel\", \"mfl\"):\n",
    "        get_alignment(letters, pattern, size)"
   ]
  },
  {
   "cell_type": "code",
   "execution_count": 29,
   "metadata": {},
   "outputs": [
    {
     "name": "stdout",
     "output_type": "stream",
     "text": [
      "elc: LEY\n",
      "rse: YLA\n",
      "iam: PTI\n",
      "gue: NNA\n",
      "gwp: NPL\n",
      "dxy: KQU\n",
      "oyk: VRG\n",
      "zel: GXH\n",
      "mfl: TYH\n"
     ]
    }
   ],
   "source": [
    "for pattern in (\"elc\", \"rse\", \"iam\", \"gue\", \"gwp\", \"dxy\", \"oyk\", \"zel\", \"mfl\"):\n",
    "    print(pattern, end=\": \")\n",
    "    lookup_key(\"the\", pattern)"
   ]
  },
  {
   "cell_type": "code",
   "execution_count": null,
   "metadata": {},
   "outputs": [],
   "source": [
    "# 4: ....LEY\n",
    "# 6: LA....Y\n",
    "# 1: .PTI...\n",
    "# 2: ..NNA..\n",
    "# 3: ...NPL.\n",
    "# 4: ....KQU\n",
    "# 3: ...VRG.\n",
    "# 3: ...GXH.\n",
    "# 6: YH....T"
   ]
  },
  {
   "cell_type": "code",
   "execution_count": 31,
   "metadata": {},
   "outputs": [
    {
     "name": "stdout",
     "output_type": "stream",
     "text": [
      "harrythelamplightersgavemeaboxtotracktallmadgesphonesignalandifollowedhimnortheastoutofculpeperonthehighwayiclosedhimdownjustashewasjoiningtheisixtysixandimmediatelywishedihadntwewereheadingforwashingtonandibegantogetabadfeelingaboutitthatcrystallisedintoadeepuneasinessasheturnedoffontothegeorgetownpikeandirealisedwherehewasheadingwehaveaproblemijustdontknowwhatsortorhowbigbutweneedtofindoutquicklyibackedoffandcutthetraceincaseittriggeredanautomaticalerthehasaccesstoalotmoretechnologythanwedoandicantbesurethatthephonetraceisundetectableiamsurethathisemployerswillnotbehappytofindmeonhistailandicertainlydontwanttospendtimeinabasementtryingtoexplainmyselftothemicalledoffthelamplightersbeforetheycouldrealisewhohewasworkingforitwasonethingaskingthemforafavourwhenithoughtthiswasaroutinecommercialcontractbutitisanotherentirelytodragthemintotheholethatiseemtohavedugformyselfialsohaveannatothinkofiwasconfidenticouldfollowtallmadgewithoutdiscoveryandhadhopedhewouldleadmetoherbutididntknowthenwhoiwouldbeupagainstwiththeresourceshewillhaveavailableitwillbehardtoavoiddetectionbystayingawayletalonebyfollowinghimtotheofficeiplantoholeupinarlingtonitshouldbebusyenoughtogivemecovercanyoujoinmehereweneedtomakeanewplanjodie\n"
     ]
    }
   ],
   "source": [
    "vigenere(letters, \"langley\")"
   ]
  },
  {
   "cell_type": "code",
   "execution_count": null,
   "metadata": {},
   "outputs": [],
   "source": []
  }
 ],
 "metadata": {
  "kernelspec": {
   "display_name": "Python 3 (ipykernel)",
   "language": "python",
   "name": "python3"
  },
  "language_info": {
   "codemirror_mode": {
    "name": "ipython",
    "version": 3
   },
   "file_extension": ".py",
   "mimetype": "text/x-python",
   "name": "python",
   "nbconvert_exporter": "python",
   "pygments_lexer": "ipython3",
   "version": "3.11.0"
  }
 },
 "nbformat": 4,
 "nbformat_minor": 4
}
