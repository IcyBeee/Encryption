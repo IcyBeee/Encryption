{
 "cells": [
  {
   "cell_type": "markdown",
   "metadata": {},
   "source": [
    "# Cipher Challenge 7a"
   ]
  },
  {
   "cell_type": "code",
   "execution_count": 2,
   "metadata": {},
   "outputs": [],
   "source": [
    "# Copy in the message...\n",
    "message7a = \"\"\"\n",
    "PFFVT\n",
    "\n",
    ".NFKGNH PYFUVR NI EYKBTH NSVHHNZ NTJ ANTJ TCVFSVFVC HUTJ PI JV ENJAUT PVM NTJ JONJFNTCUG NTJ RRB EVNF ANTJ JVTJ NHK KBP RU JVTJ NZ BJ HZNNH .NSVHHNZ HUTJ BJ PNX NTJ AU FNTCUG ENEANZZBGNF PZ SAUYVNGABG PI NFNT NAB JHNSSKH BJ ENUFJ NLVT U JKI ,PYNFKGNH ZNJHPH V AB NNFSV BJ MBT NFKH JBA ?JCPFGAN NYIKBE EYKBTH NM NIPVZ .HFNTCUG TJUM NKAUJABG BJ NLVT YYUM NM BH ,ZVNJ HUTJ FBR CK NAB JNH J’ANLVT NM JKI ,XBBI NEBG V BJ SAUTGJUMH EANZZBGNF EYKBM U PYYVKHK .CBFEHNLVN BJ PFJ YYUM EAV HKBUFKG SAUJJNS JFVJH YYUM JHBC NTJ ZBFR JHUYVAFKBW NTJ JVTJ NZKHHV BHYV H’JNY .ENJCNGFNJAU JNS YYUM HNSVHHNZ FKB XHUF YVNF V HU NFNTJ HJGNCHKH JFVZH RB HENFEAKT EAV HABUJVSUJHNLAU SAUBSAB BMJ TJUM JKI NFKGNH PJJNFC NFV HYNAAVTG FKB .ENANJTSUJ NI BJ ENNA PYYVNF HABUJVGUAKZZBG\n",
    "\n",
    ".HNLYNHFKB NLUSFBR FNLNA YYUM NM MNFG H’YYNLBY ZUW BJ HANCCVT SAUTJPAV RU .NYIUHHBC HV ABBH HV ABUJVSUJHNLAU NSVJBIVH NTJ BJ XGVI KBP NLBZ BJ NXUY EYKBM U ,SAUTJPAV TJUM CK NZBG KBP JBA FB FNTJNTM\n",
    "\n",
    ".FNLB JANH NM HCBBFJ RB FNIZKA NTJ ANLUS TSKBTJ TGKZ PFNL AMBE JU MBFFVA J’AHNBE PYIVIBFC JVTJ ?FVM NTJ AU NFNTJ NZUJ NZBH JANCH JVTJ NABNZBH FBR SAUXBBY NFV NM NIPVZ BH ,XK NTJ AU NFBRNI JU ANNH PYAB NLVT U EAV NLUJGAUJHUE PFNL HU NZZVFSBFC RB SAUYYNCH JVTJ .NI JTSUZ JU BTM HVNEU PAV HVT NT RU NXUZ XHV EYKBG KBP NIPVZ ANTJ ,AMBE ANJJUFM ”NZZVFSBFC“ MVH KBP NHYN NFNTM FNIZNZNF J’AVG KBP RU\n",
    "\n",
    ".PVYC YKBR RB JYKHNF NTJ HVM JU JVTJ ENGAULABG HU NYBZ FKB EAV NSVJBIVH JKB ENYKF PYNLUJUAURNE J’ANLVT NM ,JANEUGGV AV HVM UUO AB NSVJKB FNMBC NTJ JVTJ PYNXUY HZNNH JU NYUTM .ENJVGUJHUTCBH PYSAUHVNFGAU JBS UO EAV O BYYBCV AB HXGVJJV NTJ .HNXVJHUZ PAV NXVZ BJ EFBRRV J’AVG NM PVMV HTJABZ MNR V JHKW UUUO BYYBCV RB TGAKVY NTJ TJUM .HFKNJBIVH NTJ AMBE SAUHVTG JANCH FNJJNI NI EYKBM NZUJ FUNTJ .HFBJVSUJHNLAU NTJ NHVNYNF BJ ABUJVSUJHNLAU JVTJ AMBE ENHBYG NM JVTJ FNTJVF EYKBM U EAV JAKT NYBZ NTJ AB HNGFKBHNF RB JBY V SAUHK NFV NM .BE KBP JVTJ JAVJFBCZU PYYVNF HU JU JKI ,HVM JVTJ BTM FNIZNZNF BJ EFVT NI JTSUZ JU BH ,NYCBNC RB JBY V ENMNULFNJAU KBP MBAX U .ENJVYNF NFV BMJ NTJ JVTJ PJUYUIUHHBC NTJ PYHKBUFNH NXVJ BJ NLVT NM XAUTJ U NHVG JVTJ AU .NYBZ FKB HV HJUIVT SAUYYNCH NZVH NTJ HVT SAUJBKD NFNM KBP FNLNBTM FB ,PYNXUYAK PFNL HZNNH TGUTM ,NGANEUGAUBG NSAVFJH PFNL V HU HUTJ FNTJUN .JHBC NTJ JV FBJUEN NTJ BJ XVNY NTJ AU JYNCH HU JU JVTJ PVM NZVH NTJ ,EUE PNTJ PVM NTJ JU JYNCH KBP ”NZZVFSBFC“ NJBFM KBP ANTM .NHYN NABNZBH ZBFR NSVHHNZ V SAUPCBG ANNI NLVT JHKZ KBP ENHUYVNF U BH JVTJ NXUY FBFFN SAUYYNCH V NXVZ BJ KBP NXUY J’AHU JU JKI ,NXVJHUZ V JHKW HVM JU RU ENFNEABM U ENGUJBA JHFUR U ANTM .CK JU ENXGUC NLVT EYKBTH U JKI ,FUVRRV JHBC XFBP MNA NTJ JKBIV SAUPFFBM PHKI BBJ HVM U HV NZUJ NTJ JV NGUJBA ANLN J’AEUE U .”ZVFSBFC NTJ“ SAUJVFJYURAU HJNULBH NTJ JKBIV NJBFM AB FNJVY ANTJ ,”UO AB HZNYIBFC PFBJGNWVFJ JANGHNE EAV HZFVYV NZZVFSBFC NTJ EAV O BYYBCV TJUM HZNYIBFC NGAVEUKS NTJ“ JKBIV NJBFM KBP BSV HXNNM RB NYCKBG V NSVHHNZ FKBP AU .NZ SAUFNTJBI HVM JVTM JKB ENFKSUR NL’U ,SNZ\n",
    "\"\"\""
   ]
  },
  {
   "cell_type": "code",
   "execution_count": 3,
   "metadata": {},
   "outputs": [
    {
     "name": "stdout",
     "output_type": "stream",
     "text": [
      "\n",
      "meg, U’Le RUgKreE BKJ MhaJ MaH IBJherUAg me. UA yBKr meHHage a GBKCYe BR MeeXH agB yBK MrBJe aIBKJ “Jhe gKUEaAGe CrBIYemH MUJh aCBYYB O aAE Jhe CrBgramme aYarmH aAE EeHGeAJ JraWeGJBry CrBIYemH BA OU”, JheA YaJer BA MrBJe aIBKJ Jhe HBLUeJH UARUYJraJUAg “Jhe CrBgram”. U EUEA’J eLeA ABJUGe aJ Jhe JUme aH U MaH JBB IKHy MBrryUAg aIBKJ Jhe AeM yBrX CBHJ aRRaUr, IKJ U HhBKYE haLe CUGXeE UJ KC. MheA U RUrHJ ABJUGeE U MBAEereE UR UJ MaH WKHJ a mUHJaXe, IKJ UJ UHA’J YUXe yBK JB maXe a HCeYYUAg errBr YUXe JhaJ HB U reaYUHeE yBK mKHJ haLe IeeA GBCyUAg a meHHage RrBm HBmeBAe eYHe. MheA yBK MrBJe “CrBgramme” yBK HCeYJ UJ Jhe May Jhey EUE, Jhe Hame May JhaJ UJ UH HCeYJ UA Jhe YeaX JB Jhe eEUJBr aJ Jhe CBHJ. eUJher JhUH UH a Lery HJraAge GBUAGUEeAGe, MhUGh HeemH Lery KAYUXeYy, Br MhBeLer yBK Mere DKBJUAg haH Jhe Hame HCeYYUAg haIUJH aH BKr mBYe. UA JhaJ GaHe U JhUAX Me haLe JB JaXe HerUBKHYy Jhe CBHHUIUYUJy JhaJ Jhe JMB are reYaJeE. U XABM yBK UAJerLUeMeE a YBJ BR CeBCYe, HB UJ mUghJ Ie harE JB rememIer MhB JhaJ MaH, IKJ UJ UH reaYYy UmCBrJaAJ JhaJ yBK EB. Me are KHUAg a YBJ BR reHBKrGeH BA Jhe mBYe hKAJ aAE U MBKYE raJher JhaJ Me GYBHeE EBMA JhaJ UALeHJUgaJUBA JB reYeaHe Jhe UALeHJUgaJBrH. JheUr JUme MBKYE Ie IeJJer HCeAJ GhaHUAg EBMA Jhe HaIBJeKrH. MUJh Jhe YaKAGh BR aCBYYB OUUU WKHJ a ReM mBAJhH aMay Me GaA’J aRRBrE JB maXe aAy mUHJaXeH. Jhe aJJaGXH BA aCBYYB O aAE OU gBJ UAGreaHUAgYy HBChUHJUGaJeE. MhUYe UJ HeemH YUXeYy JhaJ Jhe CBMer BKJage BA OUU MaH aA aGGUEeAJ, Me haLeA’J EeRUAUJULeYy rKYeE BKJ HaIBJage aAE BKr mBYe UH GBALUAGeE JhaJ UJ MaH Jhe reHKYJ BR RBKY CYay.\n",
      "\n",
      "UR yBK GaA’J rememIer Mhere eYHe yBK HaM “CrBgramme” MrUJJeA EBMA, JheA mayIe yBK GBKYE aHX mUXe UR he haH aAy UEeaH MhB UJ mUghJ Ie. JhaJ HCeYYUAg BR CrBgramme UH Lery EUHJUAGJULe aAE U haLe BAYy HeeA UJ IeRBre UA Jhe KX, HB mayIe Me are YBBXUAg RBr HBmeBAe JhaJ HCeAJ HBme JUme Jhere UA Jhe Mar? JhaJ CrBIaIYy EBeHA’J AarrBM UJ EBMA Lery mKGh JhBKgh gULeA Jhe AKmIer BR JrBBCH Me HeAJ BLer.\n",
      "\n",
      "MheJher Br ABJ yBK GBme KC MUJh aAyJhUAg, U MBKYE YUXe JB mBLe yBK IaGX JB Jhe HaIBJage UALeHJUgaJUBA aH HBBA aH CBHHUIYe. UR aAyJhUAg haCCeAH JB WUm YBLeYY’H GreM Me MUYY AeLer RBrgULe BKrHeYLeH.\n",
      "\n",
      "GBmmKAUGaJUBAH reaYYy AeeE JB Ie JUghJeAeE. BKr GhaAAeYH are CreJJy HeGKre IKJ MUJh JMB BAgBUAg UALeHJUgaJUBAH aAE hKAEreEH BR HmarJ HKHCeGJH Jhere UH a reaY rUHX BKr meHHageH MUYY geJ UAJerGeCJeE. YeJ’H aYHB aHHKme JhaJ Jhe WBKrAaYUHJ RrBm Jhe CBHJ MUYY HJarJ geJJUAg GKrUBKH aAE MUYY Jry JB eaLeHErBC. KHKaYYy U MBKYE reGBmmeAE HMUJGhUAg JB a GBEe IBBX, IKJ Me haLeA’J HeJ BAe KC RBr JhUH Jeam, HB Me MUYY haLe JB GBAJUAKe MUJh GUCherH. mayIe Me HhBKYE EBKIYe eAGryCJ? ABJ HKre hBM JB agree BA a HyHJem HeGKreYy, IKJ U haLe JrUeE JB HKggeHJ BAe here Iy GBAGeaYUAg my reGBmmeAEeE GUCher UA Jhe Xey JB JhUH meHHage. HeemH JB me JhaJ UR yBK KHe JhaJ JheA reaE BRR Jhe GUCherJeOJ Jhe May hUAJeE aJ Iy JhUH CaragraCh JheA Jhe meHHage HhBKYE Ie RaUrYy HeGKre.\n",
      "\n",
      "harry\n",
      "\n"
     ]
    }
   ],
   "source": [
    "# Well that's clearly a substitution cipher of a message to Meg from Harry, written backwards!\n",
    "\n",
    "# Reverse it\n",
    "a7egassem = message7a[::-1]\n",
    "\n",
    "# Decode it\n",
    "import string\n",
    "\n",
    "def decode(text, key):\n",
    "    table = str.maketrans(string.ascii_uppercase, key)\n",
    "    print(text.upper().translate(table))\n",
    "\n",
    "decode(a7egassem, \"ABCDErGHIJKLMeOyQRghUaWXYm\")"
   ]
  },
  {
   "cell_type": "code",
   "execution_count": 4,
   "metadata": {},
   "outputs": [
    {
     "name": "stdout",
     "output_type": "stream",
     "text": [
      "\n",
      "meg, U’Le RUgKreE oKt what was botherUAg me. UA yoKr message a GoKple oR weeXs ago yoK wrote aboKt “the gKUEaAGe problems wUth apollo O aAE the programme alarms aAE EesGeAt traWeGtory problems oA OU”, theA later oA wrote aboKt the soLUets UARUltratUAg “the program”. U EUEA’t eLeA AotUGe at the tUme as U was too bKsy worryUAg aboKt the Aew yorX post aRRaUr, bKt U shoKlE haLe pUGXeE Ut Kp. wheA U RUrst AotUGeE U woAEereE UR Ut was WKst a mUstaXe, bKt Ut UsA’t lUXe yoK to maXe a spellUAg error lUXe that so U realUseE yoK mKst haLe beeA GopyUAg a message Rrom someoAe else. wheA yoK wrote “programme” yoK spelt Ut the way they EUE, the same way that Ut Us spelt UA the leaX to the eEUtor at the post. eUther thUs Us a Lery straAge GoUAGUEeAGe, whUGh seems Lery KAlUXely, or whoeLer yoK were DKotUAg has the same spellUAg habUts as oKr mole. UA that Gase U thUAX we haLe to taXe serUoKsly the possUbUlUty that the two are relateE. U XAow yoK UAterLUeweE a lot oR people, so Ut mUght be harE to remember who that was, bKt Ut Us really UmportaAt that yoK Eo. we are KsUAg a lot oR resoKrGes oA the mole hKAt aAE U woKlE rather that we GloseE EowA that UALestUgatUoA to release the UALestUgators. theUr tUme woKlE be better speAt GhasUAg EowA the saboteKrs. wUth the laKAGh oR apollo OUUU WKst a Rew moAths away we GaA’t aRRorE to maXe aAy mUstaXes. the attaGXs oA apollo O aAE OU got UAGreasUAgly sophUstUGateE. whUle Ut seems lUXely that the power oKtage oA OUU was aA aGGUEeAt, we haLeA’t EeRUAUtULely rKleE oKt sabotage aAE oKr mole Us GoALUAGeE that Ut was the resKlt oR RoKl play.\n",
      "\n",
      "UR yoK GaA’t remember where else yoK saw “programme” wrUtteA EowA, theA maybe yoK GoKlE asX mUXe UR he has aAy UEeas who Ut mUght be. that spellUAg oR programme Us Lery EUstUAGtULe aAE U haLe oAly seeA Ut beRore UA the KX, so maybe we are looXUAg Ror someoAe that speAt some tUme there UA the war? that probably EoesA’t Aarrow Ut EowA Lery mKGh thoKgh gULeA the AKmber oR troops we seAt oLer.\n",
      "\n",
      "whether or Aot yoK Gome Kp wUth aAythUAg, U woKlE lUXe to moLe yoK baGX to the sabotage UALestUgatUoA as sooA as possUble. UR aAythUAg happeAs to WUm loLell’s Grew we wUll AeLer RorgULe oKrselLes.\n",
      "\n",
      "GommKAUGatUoAs really AeeE to be tUghteAeE. oKr GhaAAels are pretty seGKre bKt wUth two oAgoUAg UALestUgatUoAs aAE hKAEreEs oR smart sKspeGts there Us a real rUsX oKr messages wUll get UAterGepteE. let’s also assKme that the WoKrAalUst Rrom the post wUll start gettUAg GKrUoKs aAE wUll try to eaLesErop. KsKally U woKlE reGommeAE swUtGhUAg to a GoEe booX, bKt we haLeA’t set oAe Kp Ror thUs team, so we wUll haLe to GoAtUAKe wUth GUphers. maybe we shoKlE EoKble eAGrypt? Aot sKre how to agree oA a system seGKrely, bKt U haLe trUeE to sKggest oAe here by GoAGealUAg my reGommeAEeE GUpher UA the Xey to thUs message. seems to me that UR yoK Kse that theA reaE oRR the GUpherteOt the way hUAteE at by thUs paragraph theA the message shoKlE be RaUrly seGKre.\n",
      "\n",
      "harry\n",
      "\n"
     ]
    }
   ],
   "source": [
    "# That's a good start..\n",
    "# \"Jhe\" = \"the\"\n",
    "# \"rememIer Mhere\" = \"remember where\"\n",
    "# \"CrBgramme\" = \"programme\"\n",
    "# \"meHHage\" = \"message\"\n",
    "# \"reaYYy\" = \"really\"\n",
    "\n",
    "# Add the new letters...\n",
    "decode(a7egassem, \"AopDErGsbtKLweOyQRghUaWXlm\")"
   ]
  },
  {
   "cell_type": "code",
   "execution_count": 5,
   "metadata": {},
   "outputs": [
    {
     "name": "stdout",
     "output_type": "stream",
     "text": [
      "\n",
      "meg, i’ve figured out what was bothering me. in your message a couple of weeks ago you wrote about “the guidance problems with apollo x and the programme alarms and descent trajectory problems on xi”, then later on wrote about the soviets infiltrating “the program”. i didn’t even notice at the time as i was too busy worrying about the new york post affair, but i should have picked it up. when i first noticed i wondered if it was just a mistake, but it isn’t like you to make a spelling error like that so i realised you must have been copying a message from someone else. when you wrote “programme” you spelt it the way they did, the same way that it is spelt in the leak to the editor at the post. either this is a very strange coincidence, which seems very unlikely, or whoever you were quoting has the same spelling habits as our mole. in that case i think we have to take seriously the possibility that the two are related. i know you interviewed a lot of people, so it might be hard to remember who that was, but it is really important that you do. we are using a lot of resources on the mole hunt and i would rather that we closed down that investigation to release the investigators. their time would be better spent chasing down the saboteurs. with the launch of apollo xiii just a few months away we can’t afford to make any mistakes. the attacks on apollo x and xi got increasingly sophisticated. while it seems likely that the power outage on xii was an accident, we haven’t definitively ruled out sabotage and our mole is convinced that it was the result of foul play.\n",
      "\n",
      "if you can’t remember where else you saw “programme” written down, then maybe you could ask mike if he has any ideas who it might be. that spelling of programme is very distinctive and i have only seen it before in the uk, so maybe we are looking for someone that spent some time there in the war? that probably doesn’t narrow it down very much though given the number of troops we sent over.\n",
      "\n",
      "whether or not you come up with anything, i would like to move you back to the sabotage investigation as soon as possible. if anything happens to jim lovell’s crew we will never forgive ourselves.\n",
      "\n",
      "communications really need to be tightened. our channels are pretty secure but with two ongoing investigations and hundreds of smart suspects there is a real risk our messages will get intercepted. let’s also assume that the journalist from the post will start getting curious and will try to eavesdrop. usually i would recommend switching to a code book, but we haven’t set one up for this team, so we will have to continue with ciphers. maybe we should double encrypt? not sure how to agree on a system securely, but i have tried to suggest one here by concealing my recommended cipher in the key to this message. seems to me that if you use that then read off the ciphertext the way hinted at by this paragraph then the message should be fairly secure.\n",
      "\n",
      "harry\n",
      "\n"
     ]
    }
   ],
   "source": [
    "# \"U’Le RUgKreE oKt\" = \"I've figured out\"\n",
    "# \"Ut UsA’t lUXe yoK to maXe a spellUAg error lUXe that\" = \"It isn't like you to make a spelling error like that\"\n",
    "# \"we GaA’t aRRorE to\" = \"we can't afford to\"\n",
    "\n",
    "# Looking at what's left, \"D\" = \"q\", \"O\" = \"x\", \"Q\" = \"z\" and \"W\" = \"j\"\n",
    "decode(a7egassem, \"nopqdrcsbtuvwexyzfghiajklm\")"
   ]
  },
  {
   "cell_type": "code",
   "execution_count": 6,
   "metadata": {},
   "outputs": [
    {
     "name": "stdout",
     "output_type": "stream",
     "text": [
      "vigenrstuwxyzabcdfhjklmopq\n"
     ]
    }
   ],
   "source": [
    "# So we need to know the keyword.  Let's use that function I wrote last time\n",
    "def decode_key(key):\n",
    "    for letter in string.ascii_lowercase:\n",
    "        print(chr(key.find(letter) + ord(\"a\")), end=\"\")\n",
    "    print()\n",
    "\n",
    "decode_key(\"nopqdrcsbtuvwexyzfghiajklm\")"
   ]
  },
  {
   "cell_type": "markdown",
   "metadata": {},
   "source": [
    "I therefore deduce that 7b will use a Vigenere cipher!"
   ]
  },
  {
   "cell_type": "code",
   "execution_count": null,
   "metadata": {},
   "outputs": [],
   "source": []
  }
 ],
 "metadata": {
  "kernelspec": {
   "display_name": "Python 3",
   "language": "python",
   "name": "python3"
  },
  "language_info": {
   "codemirror_mode": {
    "name": "ipython",
    "version": 3
   },
   "file_extension": ".py",
   "mimetype": "text/x-python",
   "name": "python",
   "nbconvert_exporter": "python",
   "pygments_lexer": "ipython3",
   "version": "3.7.4"
  }
 },
 "nbformat": 4,
 "nbformat_minor": 4
}
