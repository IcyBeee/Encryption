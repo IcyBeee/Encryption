{
 "cells": [
  {
   "cell_type": "markdown",
   "metadata": {},
   "source": [
    "# Cipher Challenge 2021\n",
    "### Practice Challenge 3\n",
    "\n",
    "Challenge link https://www.cipherchallenge.org/challenge/practice-challenge-3/"
   ]
  },
  {
   "cell_type": "code",
   "execution_count": 1,
   "metadata": {},
   "outputs": [],
   "source": [
    "# Part A - \"Double trouble?\"\n",
    "part_a_text = \"\"\"SLVVC, XSLNJW OPV CPYV TMLEK, E OPVUPX CPY SLH WQTNX XEMT STVT EN XST LVGSLTPKPUEWXW LNH EX ALW UPPH XP IT VTMENHTH XSLX EX GLN KTLH WPMTASTVT. EN XSEW GLWT E XSENJ XST ITWX AT GLN SPQT OPV EW XSLX AT AEKK SLZT L NTA IYNGS PO VTGVYEXW XVLENTH LNH VTLHC XP XLGJKT MPVT WTVEPYW GSLKKTNUTW, IYX E SLZT XP LHMEX XSLX E LM UTXXENU MPVT TBGEXTH LIPYX XSEW GLWT, TZTN EO EX EW FYWX L XVLENENU TBTVGEWT.\n",
    "XST LXXLGSTH MTMP OVPM LIG VTENOPVGTW ASLX AT KTLVNTH OVPM XST KLWX PNT. XST KEUSXSPYWT GPNWQEVLGC WTTMW XP IT L UVPYQ PO ENOKYTNXELK ZEGXPVELNW ASP LVT LEMENU XP YWT XSTEV NTAOPYNH XTGSNPKPUEGLK QVPATWW XP QVPOEX OVPM ALV, OLMENT, QTWXEKTNGT, LNH LNC PXSTV HEWXYVILNGT EN XST OPVGT. E HPN’X KEJT XP FYMQ XP GPNGKYWEPNW, IYX E GLN’X STKQ NPXEGENU XSLX XST ENEXELKW GPENGEHT AEXS QTPQKT PO ENXTVTWX XP IPWW. E GSTGJTH OLVLHLC’W ENXTKKEUTNGT OEKT LNH LW CPY WLC, EX ALW TMQXC. EX EW SLVH XP ITKETZT XSLX L WGETNXEWX PO SEW TMENTNGT SLH TWGLQTH NPXEGT, WP EX WTTMW MPVT KEJTKC XSLX XST VTLK OEKT SLW TEXSTV ITTN HTKTXTH PV WXPVTH WPMTASTVT MPVT WTGYVT. QTVSLQW CPY GLN MLJT TNRYEVETW? I MYWX WYVTKC IT ILIILUT. LKK XST XLKJ EN XST LXXLGSTH KTXXTV EW LIPYX L HTZEGT XSLX WPYNHW KEJT L GPMQYXTV, LNH XSLX APYKH MTLN XSLX LK EW LHL KPZTKLGT, ASP HETH WPMT CTLVW ITOPVT XSEW KTXXTV ALW AVEXXTN. E GLN’X IT WYVT ASP A PV N LVT, IYX MC UYTWW EW XSLX XSEW N EW XST WLMT QTVWPN LW ON EN XST QVTZEPYW KTXXTV. LW OPV LIG, E SLZT L UYTWW, IYX EX LKK WTTMW VLXSTV OLNXLWXEGLK. LK LNH I LQQTLV EN WPMT PO XST TLVKETWX IPWW OEKTW, LNH E LKALCW LWWYMTH XSTC ATVT PN XST WEHT PO XST LNUTKW. GPYKH XSTC SLZT ITTN HPYIKT LUTNXW APVJENU OPV IPWW ENWEHT XST GPNWQEVLGC? UEZTN XSLX EX EW XSTEV APVJ XSLX WTTMW XP IT HVEZENU EX PN, EX WTTMW MPVT KEJTKC XSLX XST VTZTVWT EW XVYT. IYX XSLX MTLNW IPWW ALW VEHHKTH AEXS HPMTWXEG ENWYVUTNXW OVPM XST WXLVX. E HPN’X XSENJ XSEW SLW XST WLMT YVUTNGC LW CPYV HEWGPZTVC PO WPZETX LUTNXW LX XST STLVX PO IVEXEWS ENXTKKEUTNGT, IYX EX EW WXEKK VLXSTV LKLVMENU.\n",
    "LW EW XST ENGVTLWENU WPQSEWXEGLXEPN PO PYV QVPXLUPNEWXW’ GPMMYNEGLXEPNW. XSTC LVT WXEKK PNKC VTKCENU PN WYIWXEXYXEPN GEQSTVW, IYX XSTEV STLH PO WTGYVEXC, A, EW GKTLVKC WMLVX TNPYUS XP JNPA XSLX XSEW EW XPP ATLJ OPV WTVEPYW YWT, LNH E WYWQTGX XSLX OYXYVT KTXXTVW AEKK IT QVPXTGXTH IC WPMTXSENU MPVT QVPOTWWEPNLK. E APNHTV EO ST AEKK QYWS XSTM XP XSENJ LIPYX YWENU QPKCLKQSLITXEG GEQSTVW, PV EO ST AEKK FYWX ENXVPHYGT WEMQKT GSLNUTW KEJT IKPGJENU XST GEQSTVXTBX.\n",
    "E XSENJ EX MEUSX QLC OPV MT XP MLJT L XVEQ XP KPNHPN XP GLVVC PYX WPMT TNRYEVETW, WP E MLC IT POO UVEH OPV L GPYQKT PO ATTJW. KTX MT JNPA EO CPY STLV LNCXSENU YWTOYK.\n",
    "LKK XST ITWX,\n",
    "FPHET.\"\"\""
   ]
  },
  {
   "cell_type": "code",
   "execution_count": 2,
   "metadata": {},
   "outputs": [],
   "source": [
    "# Bring in the basic decoder function\n",
    "import string\n",
    "\n",
    "# A simple translation method.\n",
    "# text: The text to translate, in upper case\n",
    "# key: A substitution alphabet, usually in lower case so that the translated characters show up\n",
    "def decode(text, key):\n",
    "    table = str.maketrans(string.ascii_uppercase, key)\n",
    "    print(text.upper().translate(table))"
   ]
  },
  {
   "cell_type": "code",
   "execution_count": 3,
   "metadata": {},
   "outputs": [
    {
     "name": "stdout",
     "output_type": "stream",
     "text": [
      "harry, XhaNJW Oor yoYr eMaiK, i OorUoX yoY had WQeNX XiMe here iN Xhe arGhaeoKoUiWXW aNd iX AaW Uood Xo Ie reMiNded XhaX iX GaN Kead WoMeAhere. iN XhiW GaWe i XhiNJ Xhe IeWX Ae GaN hoQe Oor iW XhaX Ae AiKK haZe a NeA IYNGh oO reGrYiXW XraiNed aNd ready Xo XaGJKe More WerioYW GhaKKeNUeW, IYX i haZe Xo adMiX XhaX i aM UeXXiNU More eBGiXed aIoYX XhiW GaWe, eZeN iO iX iW jYWX a XraiNiNU eBerGiWe.\n",
      "Xhe aXXaGhed MeMo OroM aIG reiNOorGeW AhaX Ae KearNed OroM Xhe KaWX oNe. Xhe KiUhXhoYWe GoNWQiraGy WeeMW Xo Ie a UroYQ oO iNOKYeNXiaK ZiGXoriaNW Aho are aiMiNU Xo YWe Xheir NeAOoYNd XeGhNoKoUiGaK QroAeWW Xo QroOiX OroM Aar, OaMiNe, QeWXiKeNGe, aNd aNy oXher diWXYrIaNGe iN Xhe OorGe. i doN’X KiJe Xo jYMQ Xo GoNGKYWioNW, IYX i GaN’X heKQ NoXiGiNU XhaX Xhe iNiXiaKW GoiNGide AiXh QeoQKe oO iNXereWX Xo IoWW. i GheGJed Oaraday’W iNXeKKiUeNGe OiKe aNd aW yoY Way, iX AaW eMQXy. iX iW hard Xo IeKieZe XhaX a WGieNXiWX oO hiW eMiNeNGe had eWGaQed NoXiGe, Wo iX WeeMW More KiJeKy XhaX Xhe reaK OiKe haW eiXher IeeN deKeXed or WXored WoMeAhere More WeGYre. QerhaQW yoY GaN MaJe eNRYirieW? I MYWX WYreKy Ie IaIIaUe. aKK Xhe XaKJ iN Xhe aXXaGhed KeXXer iW aIoYX a deZiGe XhaX WoYNdW KiJe a GoMQYXer, aNd XhaX AoYKd MeaN XhaX aK iW ada KoZeKaGe, Aho died WoMe yearW IeOore XhiW KeXXer AaW AriXXeN. i GaN’X Ie WYre Aho A or N are, IYX My UYeWW iW XhaX XhiW N iW Xhe WaMe QerWoN aW ON iN Xhe QreZioYW KeXXer. aW Oor aIG, i haZe a UYeWW, IYX iX aKK WeeMW raXher OaNXaWXiGaK. aK aNd I aQQear iN WoMe oO Xhe earKieWX IoWW OiKeW, aNd i aKAayW aWWYMed Xhey Aere oN Xhe Wide oO Xhe aNUeKW. GoYKd Xhey haZe IeeN doYIKe aUeNXW AorJiNU Oor IoWW iNWide Xhe GoNWQiraGy? UiZeN XhaX iX iW Xheir AorJ XhaX WeeMW Xo Ie driZiNU iX oN, iX WeeMW More KiJeKy XhaX Xhe reZerWe iW XrYe. IYX XhaX MeaNW IoWW AaW riddKed AiXh doMeWXiG iNWYrUeNXW OroM Xhe WXarX. i doN’X XhiNJ XhiW haW Xhe WaMe YrUeNGy aW yoYr diWGoZery oO WoZieX aUeNXW aX Xhe hearX oO IriXiWh iNXeKKiUeNGe, IYX iX iW WXiKK raXher aKarMiNU.\n",
      "aW iW Xhe iNGreaWiNU WoQhiWXiGaXioN oO oYr QroXaUoNiWXW’ GoMMYNiGaXioNW. Xhey are WXiKK oNKy reKyiNU oN WYIWXiXYXioN GiQherW, IYX Xheir head oO WeGYriXy, A, iW GKearKy WMarX eNoYUh Xo JNoA XhaX XhiW iW Xoo AeaJ Oor WerioYW YWe, aNd i WYWQeGX XhaX OYXYre KeXXerW AiKK Ie QroXeGXed Iy WoMeXhiNU More QroOeWWioNaK. i AoNder iO he AiKK QYWh XheM Xo XhiNJ aIoYX YWiNU QoKyaKQhaIeXiG GiQherW, or iO he AiKK jYWX iNXrodYGe WiMQKe GhaNUeW KiJe IKoGJiNU Xhe GiQherXeBX.\n",
      "i XhiNJ iX MiUhX Qay Oor Me Xo MaJe a XriQ Xo KoNdoN Xo Garry oYX WoMe eNRYirieW, Wo i May Ie oOO Urid Oor a GoYQKe oO AeeJW. KeX Me JNoA iO yoY hear aNyXhiNU YWeOYK.\n",
      "aKK Xhe IeWX,\n",
      "jodie.\n"
     ]
    }
   ],
   "source": [
    "# From previous experience, this is probably a letter to Harry from Jodie.\n",
    "# Try substituting.\n",
    "decode(part_a_text.lower(), \"AByDijGdIJKaMNOoQRheUrWXYZ\")"
   ]
  },
  {
   "cell_type": "code",
   "execution_count": 4,
   "metadata": {},
   "outputs": [
    {
     "name": "stdout",
     "output_type": "stream",
     "text": [
      "harry, thanJs Oor yoYr email, i Oorgot yoY had sQent time here in the archaeologists and it Aas good to Ie reminded that it can lead someAhere. in this case i thinJ the Iest Ae can hoQe Oor is that Ae Aill haZe a neA IYnch oO recrYits trained and ready to tacJle more serioYs challenges, IYt i haZe to admit that i am getting more eBcited aIoYt this case, eZen iO it is jYst a training eBercise.\n",
      "the attached memo Orom aIc reinOorces Ahat Ae learned Orom the last one. the lighthoYse consQiracy seems to Ie a groYQ oO inOlYential Zictorians Aho are aiming to Yse their neAOoYnd technological QroAess to QroOit Orom Aar, Oamine, Qestilence, and any other distYrIance in the Oorce. i don’t liJe to jYmQ to conclYsions, IYt i can’t helQ noticing that the initials coincide Aith QeoQle oO interest to Ioss. i checJed Oaraday’s intelligence Oile and as yoY say, it Aas emQty. it is hard to IelieZe that a scientist oO his eminence had escaQed notice, so it seems more liJely that the real Oile has either Ieen deleted or stored someAhere more secYre. QerhaQs yoY can maJe enRYiries? I mYst sYrely Ie IaIIage. all the talJ in the attached letter is aIoYt a deZice that soYnds liJe a comQYter, and that AoYld mean that al is ada loZelace, Aho died some years IeOore this letter Aas Aritten. i can’t Ie sYre Aho A or n are, IYt my gYess is that this n is the same Qerson as On in the QreZioYs letter. as Oor aIc, i haZe a gYess, IYt it all seems rather Oantastical. al and I aQQear in some oO the earliest Ioss Oiles, and i alAays assYmed they Aere on the side oO the angels. coYld they haZe Ieen doYIle agents AorJing Oor Ioss inside the consQiracy? giZen that it is their AorJ that seems to Ie driZing it on, it seems more liJely that the reZerse is trYe. IYt that means Ioss Aas riddled Aith domestic insYrgents Orom the start. i don’t thinJ this has the same Yrgency as yoYr discoZery oO soZiet agents at the heart oO Iritish intelligence, IYt it is still rather alarming.\n",
      "as is the increasing soQhistication oO oYr Qrotagonists’ commYnications. they are still only relying on sYIstitYtion ciQhers, IYt their head oO secYrity, A, is clearly smart enoYgh to JnoA that this is too AeaJ Oor serioYs Yse, and i sYsQect that OYtYre letters Aill Ie Qrotected Iy something more QroOessional. i Aonder iO he Aill QYsh them to thinJ aIoYt Ysing QolyalQhaIetic ciQhers, or iO he Aill jYst introdYce simQle changes liJe IlocJing the ciQherteBt.\n",
      "i thinJ it might Qay Oor me to maJe a triQ to london to carry oYt some enRYiries, so i may Ie oOO grid Oor a coYQle oO AeeJs. let me JnoA iO yoY hear anything YseOYl.\n",
      "all the Iest,\n",
      "jodie.\n"
     ]
    }
   ],
   "source": [
    "# Looks promising.\n",
    "# \"arGhaeoKoUiWXW\" -> G=c, K=l, U=g, W=s, X=t\n",
    "# \"reMiNded\" -> M=m, N=n \n",
    "decode(part_a_text.lower(), \"AByDijcdIJlamnOoQRhegrstYZ\")"
   ]
  },
  {
   "cell_type": "code",
   "execution_count": 5,
   "metadata": {},
   "outputs": [
    {
     "name": "stdout",
     "output_type": "stream",
     "text": [
      "harry, thanks for your email, i forgot you had spent time here in the archaeologists and it was good to be reminded that it can lead somewhere. in this case i think the best we can hope for is that we will have a new bunch of recruits trained and ready to tackle more serious challenges, but i have to admit that i am getting more excited about this case, even if it is just a training exercise.\n",
      "the attached memo from abc reinforces what we learned from the last one. the lighthouse conspiracy seems to be a group of influential victorians who are aiming to use their newfound technological prowess to profit from war, famine, pestilence, and any other disturbance in the force. i don’t like to jump to conclusions, but i can’t help noticing that the initials coincide with people of interest to boss. i checked faraday’s intelligence file and as you say, it was empty. it is hard to believe that a scientist of his eminence had escaped notice, so it seems more likely that the real file has either been deleted or stored somewhere more secure. perhaps you can make enquiries? b must surely be babbage. all the talk in the attached letter is about a device that sounds like a computer, and that would mean that al is ada lovelace, who died some years before this letter was written. i can’t be sure who w or n are, but my guess is that this n is the same person as fn in the previous letter. as for abc, i have a guess, but it all seems rather fantastical. al and b appear in some of the earliest boss files, and i always assumed they were on the side of the angels. could they have been double agents working for boss inside the conspiracy? given that it is their work that seems to be driving it on, it seems more likely that the reverse is true. but that means boss was riddled with domestic insurgents from the start. i don’t think this has the same urgency as your discovery of soviet agents at the heart of british intelligence, but it is still rather alarming.\n",
      "as is the increasing sophistication of our protagonists’ communications. they are still only relying on substitution ciphers, but their head of security, w, is clearly smart enough to know that this is too weak for serious use, and i suspect that future letters will be protected by something more professional. i wonder if he will push them to think about using polyalphabetic ciphers, or if he will just introduce simple changes like blocking the ciphertext.\n",
      "i think it might pay for me to make a trip to london to carry out some enquiries, so i may be off grid for a couple of weeks. let me know if you hear anything useful.\n",
      "all the best,\n",
      "jodie.\n"
     ]
    }
   ],
   "source": [
    "# \"thanJs Oor yoYr\" -> J=k, O=f, Y=u\n",
    "# \"sQent\" -> Q=p\n",
    "# \"eZen iO it is jYst a training eBercise.\" -> Z=v, B=x\n",
    "# \"AoYld\" -> A=w\n",
    "# \"seems to Ie\" -> I=b\n",
    "# Assume D=z & R=q\n",
    "decode(part_a_text.lower(), \"wxyzijcdbklamnfopqhegrstuv\")"
   ]
  },
  {
   "cell_type": "code",
   "execution_count": 7,
   "metadata": {},
   "outputs": [
    {
     "name": "stdout",
     "output_type": "stream",
     "text": [
      "Decoded alphabet: lightousefjkmnpqrvwxyzabcd\n",
      "Keyword: lightouse\n"
     ]
    }
   ],
   "source": [
    "# Attempts to determine the keyword used for a substitution cipher\n",
    "# alphabet: The substitution alphabet\n",
    "def decode_key(alphabet):\n",
    "    decoded_alphabet = \"\"\n",
    "    for letter in string.ascii_lowercase:\n",
    "        decoded_alphabet += chr(alphabet.find(letter) + ord(\"a\"))\n",
    "    print(f\"Decoded alphabet: {decoded_alphabet}\")\n",
    "    \n",
    "    remaining_letters = list(string.ascii_lowercase)\n",
    "    for pos, letter in enumerate(decoded_alphabet):\n",
    "        remaining_letters.remove(letter)\n",
    "        next_letter_index = remaining_letters.index(decoded_alphabet[pos+1])\n",
    "        if decoded_alphabet[pos+1:] == \"\".join(remaining_letters[next_letter_index:] + remaining_letters[:next_letter_index]):\n",
    "            print(f\"Keyword: {decoded_alphabet[:pos+2]}\")\n",
    "            break\n",
    "\n",
    "decode_key(\"wxyzijcdbklamnfopqhegrstuv\")"
   ]
  },
  {
   "cell_type": "code",
   "execution_count": 9,
   "metadata": {},
   "outputs": [],
   "source": [
    "# Part B - \"Prussia\"\n",
    "part_b_text = \"\"\"ZPERB HZVII CNUVY RJURD LJAHR BXDSJ URBLI JHDFH LIIVB CNBHU BIEVI ZBPRE ZBCPD SJURK UBJJR HVCTK YBIIR IVUBM RSDLC ELJJR HERYV TUJVC JURSB KJJUB JNRNR HRBAY RJDSD HRKBI JJUVI ERMRY DFZRC JJURS BKJJU BJNRN RHRBA YRJDE DIDCD JEBPI DHNRR XIALJ ZDCJU IVCBE MBCKR VIJUR FHDDS JUBJN RUBMR ARRCI RRXVC TJUBJ DLHZR JUDEI KDZAV CRENV JUJUR FDNRH DSFHD SRIID HAICR NERMV KRKBC ERYVM RHJUR XCDNY RETRN RCRRE JDIUB FRDLH ERIJV CPJUR CRNIJ BJVIJ VKBYJ DDYIJ UBJPD LUBMR FVDCR RHREK BCVAR YVRMR BIIVI JLIVC ZDERY YVCTS LHJUR HDLJA HRBXI DSMVD YRCKR BCELC HRIJV SPDLN VYYBY YDNZR JDZVO ZRJBF UDHIN UVYRN RNVYY CDJBY NBPIA RBAYR JDFHR EVKJJ URDCI RJDSE VIRBI RNRKB CUDFR JDFHR EVKJV JIKDL HIRBC EJURH RAPFH DSVJJ URERM VKRBJ JHVCV JPNUB HSVIC DNNDH XVCTB JSLYY KBFBK VJPBC EDLHK DYYRB TLRIJ RYYZR JUBJV JKBCK DZFLJ RBCPJ UVCTN RBIXD SVJTV MRCRC DLTUJ VZRBC EIFBK RVCNU VKUJD HRKDH EJURB CINRH IDSKD LHIRJ URIRF HBKJV KBYZR CEVEC DJJUV CXJDB IXUDN ZLKUJ VZRBC PFBHJ VKLYB HGLRI JVDCZ VTUJJ BXRAR SDHRN RKBCH RKRVM RVJIB CINRH ALJVJ UVCXJ UVIVI BKBYK LYBJV DCJUB JVKBC YRBMR JDPDL ARSDH RIURN BIJBX RCSHD ZLIBY NHDJR ROJRC IVMRC DJRID CJURF DJRCJ VBYDS JURER MVKRB CEVIL IFRKJ PDLNV YYSVC EJURB CINRH IJURH RVCVC JURKL HHRCJ KDCJR OJJUR ZBKUV CRFHD MVERE NVJUE VFYDZ BJVKV CJRYY VTRCK RAPDL HCRJN DHXDS BTRCJ IVCRL HDFRJ DDXSV MRNRR XIJDK BYKLY BJRJU RYVXR YVUDD EJUBJ AVIZB HKXND LYEYB LCKUU VIDSS RCIVM RBCEJ DLIRJ URNRB JURHE BJBTB JURHR EAPNI JRYRT HBFUV KCRJN DHXJD ILTTR IJNUR CJURB JJBKX NDLYE ARYBL CKURE NRUBE YVJJY RBTRC KPVCJ URKDC SYVKJ VJIRY SALJN RNRHR BAYRJ DBEMV IRDLH IPZFB JUVIR HIVCT DMRHC ZRCJB CEJUR HRAPJ DROFB CEDLH VCSYL RCKRD LHVCJ RYYVT RCKRB CBYPI JIBHR CDNND HXVCT JDERJ RHZVC RJURY VXRYP FHDTH RIIVD CDSJU RKDCS YVKJV CJURU DFRDS SVCEV CTCRN NBPIJ DFHDS VJSHD ZVJVC ZRCJV DCVCT NVHRB YVIRJ UBJVS DHTDJ JDFBI IDCUV IBEMV KRKDC KRHCV CTIRK LHVJP URUBI KDCMV CKREZ RJUBJ DLHKL HHRCJ FDYVK PDSKD ZZLCV KBJVC TMVBI LAIJV JLJVD CKVFU RHIHR BYYPV ICDJI LSSVK VRCJJ DKDCK RBYDL HVCJR CJVDC IBIDL HCRJN DHXRO FBCEI JURHV IXDSY RBXIV CKHRB IRIUR VINDH XVCTD CBCRN BCEKD CIVER HBAYP ZDHRS VRCEV IUKVF URHJD ARLIR ESDHD LHZDI JERYV KBJRI RKHRJ IBCEV UDFRJ DURBH ZDHRB ADLJU VIFHD THRII DCJUB JNURC VZRRJ UVZCR OJZDC JUZBO NRYYN VYYAR ERYVM RHVCT JURAB XRHVB CYRKJ LHRBC EURVI UDFVC TJDBJ JRCEV EVEND CERHV SZNDL YEARB ZRCBA YRJDW DVCVC TDLHK DCIFV HBKPA LJFRH UBFIV IUDLY EEVIK LIIJU BJNVJ UJURH RIJDS JURKL HVBVY DDXSD HNBHE JDURB HVCTP DLHER YVARH BJVDC IDCJU RRSSV KVRCK PDSJU RERMV KRBCE BCPJU DLTUJ IPDLZ VTUJU BMRDC VJIER MRYDF ZRCJA RIJNV IURIB AK\"\"\""
   ]
  },
  {
   "cell_type": "code",
   "execution_count": 10,
   "metadata": {},
   "outputs": [
    {
     "name": "stdout",
     "output_type": "stream",
     "text": [
      "R: 278 (13.07%) J: 209 (9.83%) V: 169 (7.95%) D: 167 (7.85%) C: 151 (7.10%)\n",
      "B: 145 (6.82%) I: 124 (5.83%) H: 112 (5.27%) U: 111 (5.22%) K: 84 (3.95%)\n",
      "Y: 82 (3.86%) E: 71 (3.34%) L: 67 (3.15%) N: 62 (2.91%) S: 49 (2.30%)\n",
      "Z: 42 (1.97%) F: 40 (1.88%) T: 35 (1.65%) A: 34 (1.60%) P: 32 (1.50%)\n",
      "X: 27 (1.27%) M: 27 (1.27%) O:  7 (0.33%) G:  1 (0.05%) W:  1 (0.05%)\n",
      "\n",
      "-----\n"
     ]
    }
   ],
   "source": [
    "from collections import Counter\n",
    "\n",
    "# Takes a string or list of items and counts the frequencies of those items\n",
    "# data: The list or string to analyse\n",
    "# max_values: The maximum number of values to display (set to None for no limit)\n",
    "# no_columns: The amount of columns to use in the output\n",
    "def frequency_analysis(data, max_values=30, no_columns=5):\n",
    "    frequencies = Counter()\n",
    "    for item in data:\n",
    "        frequencies[item] += 1\n",
    "    \n",
    "    total = sum(frequencies.values())\n",
    "    column = 1\n",
    "    for item, frequency in frequencies.most_common(max_values):\n",
    "        print(f\"{item}: {frequency:2} ({frequency / total:.2%})\", end=\" \" if column % no_columns else \"\\n\")\n",
    "        column += 1\n",
    "    print(\"\\n-----\")\n",
    "\n",
    "squished = part_b_text.replace(\" \", \"\")\n",
    "frequency_analysis(squished)"
   ]
  },
  {
   "cell_type": "code",
   "execution_count": 21,
   "metadata": {},
   "outputs": [
    {
     "name": "stdout",
     "output_type": "stream",
     "text": [
      "ZPEeBHZVIICNUVYetUeDLtAHeBXDStUeBLItHDFHLIIVBCNBHUBIEVIZBPeEZBCPDStUeKUBtteHVCTKYBIIeIVUBMeSDLCELtteHEeYVTUtVCtUeSBKttUBtNeNeHeBAYetDSDHeKBIttUVIEeMeYDFZeCttUeSBKttUBtNeNeHeBAYetDEDIDCDtEBPIDHNeeXIALtZDCtUIVCBEMBCKeVItUeFHDDStUBtNeUBMeAeeCIeeXVCTtUBtDLHZetUDEIKDZAVCeENVtUtUeFDNeHDSFHDSeIIDHAICeNEeMVKeKBCEeYVMeHtUeXCDNYeETeNeCeeEtDIUBFeDLHEeItVCPtUeCeNItBtVItVKBYtDDYItUBtPDLUBMeFVDCeeHeEKBCVAeYVeMeBIIVItLIVCZDEeYYVCTSLHtUeHDLtAHeBXIDSMVDYeCKeBCELCHeItVSPDLNVYYBYYDNZetDZVOZetBFUDHINUVYeNeNVYYCDtBYNBPIAeBAYetDFHeEVKttUeDCIetDSEVIeBIeNeKBCUDFetDFHeEVKtVtIKDLHIeBCEtUeHeAPFHDSVttUeEeMVKeBttHVCVtPNUBHSVICDNNDHXVCTBtSLYYKBFBKVtPBCEDLHKDYYeBTLeIteYYZetUBtVtKBCKDZFLteBCPtUVCTNeBIXDSVtTVMeCeCDLTUtVZeBCEIFBKeVCNUVKUtDHeKDHEtUeBCINeHIDSKDLHIetUeIeFHBKtVKBYZeCEVECDttUVCXtDBIXUDNZLKUtVZeBCPFBHtVKLYBHGLeItVDCZVTUttBXeAeSDHeNeKBCHeKeVMeVtIBCINeHALtVtUVCXtUVIVIBKBYKLYBtVDCtUBtVKBCYeBMetDPDLAeSDHeIUeNBItBXeCSHDZLIBYNHDteeOteCIVMeCDteIDCtUeFDteCtVBYDStUeEeMVKeBCEVILIFeKtPDLNVYYSVCEtUeBCINeHItUeHeVCVCtUeKLHHeCtKDCteOttUeZBKUVCeFHDMVEeENVtUEVFYDZBtVKVCteYYVTeCKeAPDLHCetNDHXDSBTeCtIVCeLHDFetDDXSVMeNeeXItDKBYKLYBtetUeYVXeYVUDDEtUBtAVIZBHKXNDLYEYBLCKUUVIDSSeCIVMeBCEtDLIetUeNeBtUeHEBtBTBtUeHeEAPNIteYeTHBFUVKCetNDHXtDILTTeItNUeCtUeBttBKXNDLYEAeYBLCKUeENeUBEYVttYeBTeCKPVCtUeKDCSYVKtVtIeYSALtNeNeHeBAYetDBEMVIeDLHIPZFBtUVIeHIVCTDMeHCZeCtBCEtUeHeAPtDeOFBCEDLHVCSYLeCKeDLHVCteYYVTeCKeBCBYPItIBHeCDNNDHXVCTtDEeteHZVCetUeYVXeYPFHDTHeIIVDCDStUeKDCSYVKtVCtUeUDFeDSSVCEVCTCeNNBPItDFHDSVtSHDZVtVCZeCtVDCVCTNVHeBYVIetUBtVSDHTDttDFBIIDCUVIBEMVKeKDCKeHCVCTIeKLHVtPUeUBIKDCMVCKeEZetUBtDLHKLHHeCtFDYVKPDSKDZZLCVKBtVCTMVBILAItVtLtVDCKVFUeHIHeBYYPVICDtILSSVKVeCttDKDCKeBYDLHVCteCtVDCIBIDLHCetNDHXeOFBCEItUeHVIXDSYeBXIVCKHeBIeIUeVINDHXVCTDCBCeNBCEKDCIVEeHBAYPZDHeSVeCEVIUKVFUeHtDAeLIeESDHDLHZDItEeYVKBteIeKHetIBCEVUDFetDUeBHZDHeBADLtUVIFHDTHeIIDCtUBtNUeCVZeetUVZCeOtZDCtUZBONeYYNVYYAeEeYVMeHVCTtUeABXeHVBCYeKtLHeBCEUeVIUDFVCTtDBtteCEVEVENDCEeHVSZNDLYEAeBZeCBAYetDWDVCVCTDLHKDCIFVHBKPALtFeHUBFIVIUDLYEEVIKLIItUBtNVtUtUeHeItDStUeKLHVBVYDDXSDHNBHEtDUeBHVCTPDLHEeYVAeHBtVDCIDCtUeeSSVKVeCKPDStUeEeMVKeBCEBCPtUDLTUtIPDLZVTUtUBMeDCVtIEeMeYDFZeCtAeItNVIUeIBAK\n"
     ]
    }
   ],
   "source": [
    "# Looks like an English distribution\n",
    "# R=e, J=t\n",
    "decode(squished, \"ABCDEFGHItKLMNOPQeSTUVWXYZ\")"
   ]
  },
  {
   "cell_type": "code",
   "execution_count": 22,
   "metadata": {},
   "outputs": [
    {
     "name": "stdout",
     "output_type": "stream",
     "text": [
      "ZPEeBHZVIICNhVYetheDLtAHeBXDStheBLItHDFHLIIVBCNBHhBIEVIZBPeEZBCPDStheKhBtteHVCTKYBIIeIVhBMeSDLCELtteHEeYVThtVCtheSBKtthBtNeNeHeBAYetDSDHeKBItthVIEeMeYDFZeCttheSBKtthBtNeNeHeBAYetDEDIDCDtEBPIDHNeeXIALtZDCthIVCBEMBCKeVItheFHDDSthBtNehBMeAeeCIeeXVCTthBtDLHZethDEIKDZAVCeENVththeFDNeHDSFHDSeIIDHAICeNEeMVKeKBCEeYVMeHtheXCDNYeETeNeCeeEtDIhBFeDLHEeItVCPtheCeNItBtVItVKBYtDDYIthBtPDLhBMeFVDCeeHeEKBCVAeYVeMeBIIVItLIVCZDEeYYVCTSLHtheHDLtAHeBXIDSMVDYeCKeBCELCHeItVSPDLNVYYBYYDNZetDZVOZetBFhDHINhVYeNeNVYYCDtBYNBPIAeBAYetDFHeEVKttheDCIetDSEVIeBIeNeKBChDFetDFHeEVKtVtIKDLHIeBCEtheHeAPFHDSVttheEeMVKeBttHVCVtPNhBHSVICDNNDHXVCTBtSLYYKBFBKVtPBCEDLHKDYYeBTLeIteYYZethBtVtKBCKDZFLteBCPthVCTNeBIXDSVtTVMeCeCDLThtVZeBCEIFBKeVCNhVKhtDHeKDHEtheBCINeHIDSKDLHIetheIeFHBKtVKBYZeCEVECDtthVCXtDBIXhDNZLKhtVZeBCPFBHtVKLYBHGLeItVDCZVThttBXeAeSDHeNeKBCHeKeVMeVtIBCINeHALtVthVCXthVIVIBKBYKLYBtVDCthBtVKBCYeBMetDPDLAeSDHeIheNBItBXeCSHDZLIBYNHDteeOteCIVMeCDteIDCtheFDteCtVBYDStheEeMVKeBCEVILIFeKtPDLNVYYSVCEtheBCINeHItheHeVCVCtheKLHHeCtKDCteOttheZBKhVCeFHDMVEeENVthEVFYDZBtVKVCteYYVTeCKeAPDLHCetNDHXDSBTeCtIVCeLHDFetDDXSVMeNeeXItDKBYKLYBtetheYVXeYVhDDEthBtAVIZBHKXNDLYEYBLCKhhVIDSSeCIVMeBCEtDLIetheNeBtheHEBtBTBtheHeEAPNIteYeTHBFhVKCetNDHXtDILTTeItNheCtheBttBKXNDLYEAeYBLCKheENehBEYVttYeBTeCKPVCtheKDCSYVKtVtIeYSALtNeNeHeBAYetDBEMVIeDLHIPZFBthVIeHIVCTDMeHCZeCtBCEtheHeAPtDeOFBCEDLHVCSYLeCKeDLHVCteYYVTeCKeBCBYPItIBHeCDNNDHXVCTtDEeteHZVCetheYVXeYPFHDTHeIIVDCDStheKDCSYVKtVCthehDFeDSSVCEVCTCeNNBPItDFHDSVtSHDZVtVCZeCtVDCVCTNVHeBYVIethBtVSDHTDttDFBIIDChVIBEMVKeKDCKeHCVCTIeKLHVtPhehBIKDCMVCKeEZethBtDLHKLHHeCtFDYVKPDSKDZZLCVKBtVCTMVBILAItVtLtVDCKVFheHIHeBYYPVICDtILSSVKVeCttDKDCKeBYDLHVCteCtVDCIBIDLHCetNDHXeOFBCEItheHVIXDSYeBXIVCKHeBIeIheVINDHXVCTDCBCeNBCEKDCIVEeHBAYPZDHeSVeCEVIhKVFheHtDAeLIeESDHDLHZDItEeYVKBteIeKHetIBCEVhDFetDheBHZDHeBADLthVIFHDTHeIIDCthBtNheCVZeethVZCeOtZDCthZBONeYYNVYYAeEeYVMeHVCTtheABXeHVBCYeKtLHeBCEheVIhDFVCTtDBtteCEVEVENDCEeHVSZNDLYEAeBZeCBAYetDWDVCVCTDLHKDCIFVHBKPALtFeHhBFIVIhDLYEEVIKLIIthBtNVththeHeItDStheKLHVBVYDDXSDHNBHEtDheBHVCTPDLHEeYVAeHBtVDCIDCtheeSSVKVeCKPDStheEeMVKeBCEBCPthDLThtIPDLZVThthBMeDCVtIEeMeYDFZeCtAeItNVIheIBAK\n"
     ]
    }
   ],
   "source": [
    "# U comes between a lot of t's and e's -> U=h\n",
    "decode(squished, \"ABCDEFGHItKLMNOPQeSThVWXYZ\")"
   ]
  },
  {
   "cell_type": "code",
   "execution_count": 24,
   "metadata": {},
   "outputs": [
    {
     "name": "stdout",
     "output_type": "stream",
     "text": [
      "ZPEeaHZVIICNhVYetheDLtAHeaXDStheaLItHDFHLIIVaCNaHhaIEVIZaPeEZaCPDStheKhatteHVCTKYaIIeIVhaMeSDLCELtteHEeYVThtVCtheSaKtthatNeNeHeaAYetDSDHeKaItthVIEeMeYDFZeCttheSaKtthatNeNeHeaAYetDEDIDCDtEaPIDHNeeXIALtZDCthIVCaEMaCKeVItheFHDDSthatNehaMeAeeCIeeXVCTthatDLHZethDEIKDZAVCeENVththeFDNeHDSFHDSeIIDHAICeNEeMVKeKaCEeYVMeHtheXCDNYeETeNeCeeEtDIhaFeDLHEeItVCPtheCeNItatVItVKaYtDDYIthatPDLhaMeFVDCeeHeEKaCVAeYVeMeaIIVItLIVCZDEeYYVCTSLHtheHDLtAHeaXIDSMVDYeCKeaCELCHeItVSPDLNVYYaYYDNZetDZVOZetaFhDHINhVYeNeNVYYCDtaYNaPIAeaAYetDFHeEVKttheDCIetDSEVIeaIeNeKaChDFetDFHeEVKtVtIKDLHIeaCEtheHeAPFHDSVttheEeMVKeattHVCVtPNhaHSVICDNNDHXVCTatSLYYKaFaKVtPaCEDLHKDYYeaTLeIteYYZethatVtKaCKDZFLteaCPthVCTNeaIXDSVtTVMeCeCDLThtVZeaCEIFaKeVCNhVKhtDHeKDHEtheaCINeHIDSKDLHIetheIeFHaKtVKaYZeCEVECDtthVCXtDaIXhDNZLKhtVZeaCPFaHtVKLYaHGLeItVDCZVThttaXeAeSDHeNeKaCHeKeVMeVtIaCINeHALtVthVCXthVIVIaKaYKLYatVDCthatVKaCYeaMetDPDLAeSDHeIheNaItaXeCSHDZLIaYNHDteeOteCIVMeCDteIDCtheFDteCtVaYDStheEeMVKeaCEVILIFeKtPDLNVYYSVCEtheaCINeHItheHeVCVCtheKLHHeCtKDCteOttheZaKhVCeFHDMVEeENVthEVFYDZatVKVCteYYVTeCKeAPDLHCetNDHXDSaTeCtIVCeLHDFetDDXSVMeNeeXItDKaYKLYatetheYVXeYVhDDEthatAVIZaHKXNDLYEYaLCKhhVIDSSeCIVMeaCEtDLIetheNeatheHEataTatheHeEAPNIteYeTHaFhVKCetNDHXtDILTTeItNheCtheattaKXNDLYEAeYaLCKheENehaEYVttYeaTeCKPVCtheKDCSYVKtVtIeYSALtNeNeHeaAYetDaEMVIeDLHIPZFathVIeHIVCTDMeHCZeCtaCEtheHeAPtDeOFaCEDLHVCSYLeCKeDLHVCteYYVTeCKeaCaYPItIaHeCDNNDHXVCTtDEeteHZVCetheYVXeYPFHDTHeIIVDCDStheKDCSYVKtVCthehDFeDSSVCEVCTCeNNaPItDFHDSVtSHDZVtVCZeCtVDCVCTNVHeaYVIethatVSDHTDttDFaIIDChVIaEMVKeKDCKeHCVCTIeKLHVtPhehaIKDCMVCKeEZethatDLHKLHHeCtFDYVKPDSKDZZLCVKatVCTMVaILAItVtLtVDCKVFheHIHeaYYPVICDtILSSVKVeCttDKDCKeaYDLHVCteCtVDCIaIDLHCetNDHXeOFaCEItheHVIXDSYeaXIVCKHeaIeIheVINDHXVCTDCaCeNaCEKDCIVEeHaAYPZDHeSVeCEVIhKVFheHtDAeLIeESDHDLHZDItEeYVKateIeKHetIaCEVhDFetDheaHZDHeaADLthVIFHDTHeIIDCthatNheCVZeethVZCeOtZDCthZaONeYYNVYYAeEeYVMeHVCTtheAaXeHVaCYeKtLHeaCEheVIhDFVCTtDatteCEVEVENDCEeHVSZNDLYEAeaZeCaAYetDWDVCVCTDLHKDCIFVHaKPALtFeHhaFIVIhDLYEEVIKLIIthatNVththeHeItDStheKLHVaVYDDXSDHNaHEtDheaHVCTPDLHEeYVAeHatVDCIDCtheeSSVKVeCKPDStheEeMVKeaCEaCPthDLThtIPDLZVThthaMeDCVtIEeMeYDFZeCtAeItNVIheIaAK\n"
     ]
    }
   ],
   "source": [
    "# A lot of thBT -> B=a\n",
    "decode(squished, \"AaCDEFGHItKLMNOPQeSThVWXYZ\")"
   ]
  },
  {
   "cell_type": "code",
   "execution_count": null,
   "metadata": {},
   "outputs": [],
   "source": [
    "#\n",
    "decode(squished, \"AaCDEFGHItKLMNOPQeSThVWXYZ\")"
   ]
  }
 ],
 "metadata": {
  "kernelspec": {
   "display_name": "Python 3 (ipykernel)",
   "language": "python",
   "name": "python3"
  },
  "language_info": {
   "codemirror_mode": {
    "name": "ipython",
    "version": 3
   },
   "file_extension": ".py",
   "mimetype": "text/x-python",
   "name": "python",
   "nbconvert_exporter": "python",
   "pygments_lexer": "ipython3",
   "version": "3.9.5"
  }
 },
 "nbformat": 4,
 "nbformat_minor": 4
}
