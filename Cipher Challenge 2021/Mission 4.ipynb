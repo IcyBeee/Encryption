{
 "cells": [
  {
   "cell_type": "markdown",
   "metadata": {},
   "source": [
    "# Cipher Challenge 2021\n",
    "### Challenge 4\n",
    "\n",
    "Challenge link https://www.cipherchallenge.org/challenge/mission-4/"
   ]
  },
  {
   "cell_type": "code",
   "execution_count": 1,
   "metadata": {},
   "outputs": [],
   "source": [
    "# Part A - \"The Vault\"\n",
    "part_a_text = \"\"\"FASSB GAMRA CKGTP INUMO TUOVU FILAT UUYOY IIKTG NUFIX AWLUU SBGNE UOWNP ACKTO MIOVU FIMBT UISBT WSSOW NHGNE UFILG EFUFO WTICO NTPGS ACBCS IYANH GUFGN KGMAH ITOMI PSOES ITTYF GLIGY ATAYA BUFIU SAGNI ITUAC KLIHU FILIU UISVS OMARC ANHUF IBHGH AESIA UJORU FIBAS ITFAP GNEWP YILLG UFGNK YIYGL LRIEL AHOVU FIGSF ILPAT UFGTC ATIPS OESIT TITUF ILGRS ASGAN AUUFI XAWLU YATXI SBFIL PVWLA NHYFI NGUOL HFISY FAUGY ATLOO KGNEV OSTFI POGNU IHMIU OANAS CFGXI OVXGC UOSGA NPAPI STCON CISNG NETCG INUGT UTINE GNIIS TANHT OCGAL SIVOS MISTU FAUFA HSICO SHIHI ASLBR ACKES OWNHG NXITU GEAUG ONTGN UOPIO PLIOV GNUIS ITUGT ABPIO PLIRW UGHGH NOUGC IUFAU UFISI YATAF IAXBR GATUO GNXIT UGEAU GNEYO MINRA CKUFI NGYAT TWSPS GTIHA UVGST UGFAH ATTWM IHUFA UUFIB YOWLH FAXIR IINLA SEILB GENOS IHRWU GTWPP OTIUF ITISI MASKA RLIYO MINMA HIUFI GSPSI TINCI KNOYN ANHPI SFAPT UFIIT UARLG TFMIN UVILU UFSIA UINIH GNMOT UCATI TUFIS IASIN OTUAN HASHT ICWSG UBVGL ITVOS UFITI YOMIN RWUYF ISIUF ISIYI SIUFI BYISI AURIT UUFGN UFISI ALLBG NUISI TUGNE MAUIS GALYA TGNUF IFGHH INASC FGXIY FISIG VOWNH SIPOS UTANH PAPIS TAROW ULOXI LACIN GEFUG NEALI ANHAR CATIT UARLG TFMIN UVGEW SITUF IMTIL XITUF IBTII MUOFA XIRII NGENO SIHRB UFITI CSIUT ISXGC IANHC LIASL BNOUC ONTGH ISIHA TICWS GUBUF SIAUR WUOWS ROTTV OSIRI ASTHG HCASS BOWUG NXITU GEAUG ONTGN UOUFI GSACU GXGUG ITANH UFISI ASICL IASTG ENTUF AUUFI BMABF AXIYO SKIHU OEIUF ISORX GOWTL BUFIV ACUUF AUUFI BYISI MAKGN ETWCF ANGMP ACUON TOCGI UBYAT INOWE FUOMA KITOM IPIOP LINIS XOWTA VUISA LLGUY ATAUG MIOVE SIAUC FANEI ANHCO NCISN TAROW USIXO LWUGO NYISI XISBS IALON IOVUF INOUI TONVG LITWE EITUT UFAUU FIESO YGNEC AMPAG ENVOS YOMIN TTWVV SAEIA NHTOC GALAC UGXGT MMGEF UFAXI RIINU FITUA SUOVA NGNTW SSICU GONAN HGUNA MIHTI XISAL OVOWS PSOUA EONGT UTRWU GUHGH NUTAB FOYUF IBMGE FUFAX IGNUI NHIHU OUSGE EISUF IWPSG TGNEY FAUYI FAXIT IINTO VASGT UFAUY FAUIX ISUFI LGEFU FOWTI CONTP GSACB YISIW PUOUF IBYIN UUOIZ USAOS HGNAS BLINE UFTUO KIIPG UTICS IUANH UFIVA CUUFA UYIAS IONLB NOYWN COXIS GNEGU TWEEI TUTUF AUGUY ATMWC FTWRU LISUF ANAPL ANNIH WPSGT GNEGA MTUGL LTUSW EELGN EYGUF UFIGH IAUFA UPIOP LIYFO YISIP ASUOV UFIRG SUFOV ROTTC OWLHF AXIRI INACU GNETI CSIUL BAEAG NTUWT RWUUF AUGTC ISUAG NLBGM PLGIH RBTOM IOVUF IVGLI TYIFA XICSA CKIHA NHUFI AUUAC FIHHO CWMIN UFATA HHIHU OMBYO SSGIT GUYAT YSGUU INGNU FIAVU ISMAU FOVUF IFGNH INRWS EHGTA TUISR BTOMI ONIGU FGNKB OWKNI YYILL TFIFA HAVAN UATUG CSICO SHYOS KGNEH IIPWN HISCO XISAN HSIPO SUGNE RACKU OYITU ISNGN UILLG EINCI AEINC GITRW UUFIU FGNEU FAUCA WEFUM BIBIY ATUFA UFISI TFIWT IHUFI COHIN AMIAW EWTUA GHONU KNOYG VBOWA LSIAH BTPOU UIHGU RWUUF ILIUU ISGNE ASOWN HUFII HEIOV UFILG EFUFO WTITU AMPSI AHTAH AAHHH AAAHA AAHAH ANHTW RTUGU WUGNE UFIAA NHHVO SHOUA NHHAT FTPIL LTOWU FISCO HINAM IGUFO WEFUA UVGST UUFAU GMGEF URISI AHGNE UOOMW CFGNU OGUUF ILIUU ISGNF ISVGL ITIIM TNIXI SUOFA XIRII NRSOK INTOM IONIY SOUIH OWRLI INCSB PUIHO NUFII NXILO PIANH GEWIT TUFAU YATIN OWEFU OHGTT WAHIU FIAEI NCGIT VSOMT PINHG NEMWC FUGMI ONGUY GUFFG NHTGE FUGUG TPSIU UBORX GOWTU FAUAC UWALL BGUFA TJWTU RIINI NCSBP UIHON CIANH UFINI NCOHI HATMO STICO HIWTG NEUFI TAMIC ONXIN UGONA IQWAL THOUH IQWAL THATF ONCIU FAUFA HRIIN WNUAN ELIHG VOWNH GUPSI UUBIA TBUOR SIAKA NHGAM XISBY OSSGI HAROW UYFAU GVOWN HGUFG NKBOW NIIHU OUAKI ALOOK JOHGI\"\"\""
   ]
  },
  {
   "cell_type": "code",
   "execution_count": 2,
   "metadata": {},
   "outputs": [],
   "source": [
    "from collections import Counter\n",
    "\n",
    "# Takes a string or list of items and counts the frequencies of those items\n",
    "# data: The list or string to analyse\n",
    "# max_values: The maximum number of values to display (set to None for no limit)\n",
    "# no_columns: The amount of columns to use in the output\n",
    "def frequency_analysis(data, max_values=30, no_columns=5):\n",
    "    frequencies = Counter()\n",
    "    for item in data:\n",
    "        frequencies[item] += 1\n",
    "    \n",
    "    total = sum(frequencies.values())\n",
    "    column = 1\n",
    "    for item, frequency in frequencies.most_common(max_values):\n",
    "        print(f\"{item}: {frequency:2} ({frequency / total:.2%})\", end=\" \" if column % no_columns else \"\\n\")\n",
    "        column += 1\n",
    "    print(\"\\n-----\")"
   ]
  },
  {
   "cell_type": "code",
   "execution_count": 3,
   "metadata": {},
   "outputs": [
    {
     "name": "stdout",
     "output_type": "stream",
     "text": [
      "I: 372 (13.60%) U: 290 (10.60%) A: 234 (8.56%) G: 186 (6.80%) N: 183 (6.69%)\n",
      "T: 175 (6.40%) O: 169 (6.18%) S: 162 (5.92%) F: 158 (5.78%) H: 115 (4.20%)\n",
      "L: 82 (3.00%) W: 81 (2.96%) C: 77 (2.82%) E: 74 (2.71%) Y: 59 (2.16%)\n",
      "M: 55 (2.01%) B: 52 (1.90%) P: 51 (1.86%) R: 48 (1.76%) V: 43 (1.57%)\n",
      "X: 37 (1.35%) K: 26 (0.95%) J:  3 (0.11%) Q:  2 (0.07%) Z:  1 (0.04%)\n",
      "\n",
      "-----\n"
     ]
    }
   ],
   "source": [
    "squished = part_a_text.replace(\" \", \"\")\n",
    "frequency_analysis(squished)"
   ]
  },
  {
   "cell_type": "code",
   "execution_count": 4,
   "metadata": {},
   "outputs": [],
   "source": [
    "# Bring in the basic decoder function\n",
    "import string\n",
    "\n",
    "# A simple translation method.\n",
    "# text: The text to translate, in upper case\n",
    "# key: A substitution alphabet, usually in lower case so that the translated characters show up\n",
    "def decode(text, key):\n",
    "    table = str.maketrans(string.ascii_uppercase, key)\n",
    "    print(text.upper().translate(table))"
   ]
  },
  {
   "cell_type": "code",
   "execution_count": 5,
   "metadata": {},
   "outputs": [
    {
     "name": "stdout",
     "output_type": "stream",
     "text": [
      "hASSBGAMRACKGTPeNtMOTtOVtheLATttYOYeeKTGNtheXAWLttSBGNEtOWNPACKTOMeOVtheMBTteSBTWSSOWNHGNEtheLGEhthOWTeCONTPGSACBCSeYANHGthGNKGMAHeTOMePSOESeTTYhGLeGYATAYABthetSAGNeeTtACKLeHtheLetteSVSOMARCANHtheBHGHAESeAtJORtheBASeThAPGNEWPYeLLGthGNKYeYGLLReELAHOVtheGSheLPATthGTCATePSOESeTTeTtheLGRSASGANAttheXAWLtYATXeSBheLPVWLANHYheNGtOLHheSYhAtGYATLOOKGNEVOSThePOGNteHMetOANASChGXeOVXGCtOSGANPAPeSTCONCeSNGNETCGeNtGTtTeNEGNeeSTANHTOCGALSeVOSMeSTthAthAHSeCOSHeHeASLBRACKESOWNHGNXeTtGEAtGONTGNtOPeOPLeOVGNteSeTtGTABPeOPLeRWtGHGHNOtGCethAttheSeYATAheAXBRGATtOGNXeTtGEAtGNEYOMeNRACKtheNGYATTWSPSGTeHAtVGSTtGhAHATTWMeHthAttheBYOWLHhAXeReeNLASEeLBGENOSeHRWtGTWPPOTetheTeSeMASKARLeYOMeNMAHetheGSPSeTeNCeKNOYNANHPeShAPTtheeTtARLGThMeNtVeLtthSeAteNeHGNMOTtCATeTtheSeASeNOTtANHASHTeCWSGtBVGLeTVOStheTeYOMeNRWtYheSetheSeYeSetheBYeSeAtReTtthGNtheSeALLBGNteSeTtGNEMAteSGALYATGNthehGHHeNASChGXeYheSeGVOWNHSePOStTANHPAPeSTAROWtLOXeLACeNGEhtGNEALeANHARCATeTtARLGThMeNtVGEWSeTtheMTeLXeTtheBTeeMtOhAXeReeNGENOSeHRBtheTeCSetTeSXGCeANHCLeASLBNOtCONTGHeSeHATeCWSGtBthSeAtRWtOWSROTTVOSeReASTHGHCASSBOWtGNXeTtGEAtGONTGNtOtheGSACtGXGtGeTANHtheSeASeCLeASTGENTthAttheBMABhAXeYOSKeHtOEetheSORXGOWTLBtheVACtthAttheBYeSeMAKGNETWChANGMPACtONTOCGetBYATeNOWEhtOMAKeTOMePeOPLeNeSXOWTAVteSALLGtYATAtGMeOVESeAtChANEeANHCONCeSNTAROWtSeXOLWtGONYeSeXeSBSeALONeOVtheNOteTONVGLeTWEEeTtTthAttheESOYGNECAMPAGENVOSYOMeNTTWVVSAEeANHTOCGALACtGXGTMMGEhthAXeReeNtheTtAStOVANGNTWSSeCtGONANHGtNAMeHTeXeSALOVOWSPSOtAEONGTtTRWtGtHGHNtTABhOYtheBMGEhthAXeGNteNHeHtOtSGEEeStheWPSGTGNEYhAtYehAXeTeeNTOVASGTthAtYhAteXeStheLGEhthOWTeCONTPGSACBYeSeWPtOtheBYeNttOeZtSAOSHGNASBLeNEthTtOKeePGtTeCSetANHtheVACtthAtYeASeONLBNOYWNCOXeSGNEGtTWEEeTtTthAtGtYATMWChTWRtLeSthANAPLANNeHWPSGTGNEGAMTtGLLTtSWEELGNEYGththeGHeAthAtPeOPLeYhOYeSePAStOVtheRGSthOVROTTCOWLHhAXeReeNACtGNETeCSetLBAEAGNTtWTRWtthAtGTCeStAGNLBGMPLGeHRBTOMeOVtheVGLeTYehAXeCSACKeHANHtheAttACheHHOCWMeNthATAHHeHtOMBYOSSGeTGtYATYSGtteNGNtheAVteSMAthOVthehGNHeNRWSEHGTATteSRBTOMeONeGthGNKBOWKNeYYeLLThehAHAVANtATtGCSeCOSHYOSKGNEHeePWNHeSCOXeSANHSePOStGNERACKtOYeTteSNGNteLLGEeNCeAEeNCGeTRWtthethGNEthAtCAWEhtMBeBeYATthAtheSeTheWTeHtheCOHeNAMeAWEWTtAGHONtKNOYGVBOWALSeAHBTPOtteHGtRWttheLetteSGNEASOWNHtheeHEeOVtheLGEhthOWTeTtAMPSeAHTAHAAHHHAAAHAAAHAHANHTWRTtGtWtGNEtheAANHHVOSHOtANHHAThTPeLLTOWtheSCOHeNAMeGthOWEhtAtVGSTtthAtGMGEhtReSeAHGNEtOOMWChGNtOGttheLetteSGNheSVGLeTeeMTNeXeStOhAXeReeNRSOKeNTOMeONeYSOteHOWRLeeNCSBPteHONtheeNXeLOPeANHGEWeTTthAtYATeNOWEhtOHGTTWAHetheAEeNCGeTVSOMTPeNHGNEMWChtGMeONGtYGthhGNHTGEhtGtGTPSettBORXGOWTthAtACtWALLBGthATJWTtReeNeNCSBPteHONCeANHtheNeNCOHeHATMOSTeCOHeWTGNEtheTAMeCONXeNtGONAeQWALTHOtHeQWALTHAThONCethAthAHReeNWNtANELeHGVOWNHGtPSettBeATBtORSeAKANHGAMXeSBYOSSGeHAROWtYhAtGVOWNHGthGNKBOWNeeHtOtAKeALOOKJOHGe\n"
     ]
    }
   ],
   "source": [
    "# Lots of \"UFI\" in the text...\n",
    "decode(squished, \"ABCDEhGHeJKLMNOPQRSTtVWXYZ\")"
   ]
  },
  {
   "cell_type": "code",
   "execution_count": 6,
   "metadata": {},
   "outputs": [
    {
     "name": "stdout",
     "output_type": "stream",
     "text": [
      "harryiaMRaCKiTPeNtMoTtoVtheLaTttYoYeeKTiNtheXaWLttryiNEtoWNPaCKToMeoVtheMyTteryTWrroWNdiNEtheLiEhthoWTeCoNTPiraCyCreYaNdithiNKiMadeToMeProEreTTYhiLeiYaTaYaythetraiNeeTtaCKLedtheLetterVroMaRCaNdtheydidaEreatjoRtheyareThaPiNEWPYeLLithiNKYeYiLLReELadoVtheirheLPaTthiTCaTeProEreTTeTtheLiRrariaNattheXaWLtYaTXeryheLPVWLaNdYheNitoLdherYhatiYaTLooKiNEVorThePoiNtedMetoaNarChiXeoVXiCtoriaNPaPerTCoNCerNiNETCieNtiTtTeNEiNeerTaNdToCiaLreVorMerTthathadreCordedearLyRaCKEroWNdiNXeTtiEatioNTiNtoPeoPLeoViNtereTtiTayPeoPLeRWtididNotiCethatthereYaTaheaXyRiaTtoiNXeTtiEatiNEYoMeNRaCKtheNiYaTTWrPriTedatVirTtihadaTTWMedthattheyYoWLdhaXeReeNLarEeLyiENoredRWtiTWPPoTetheTereMarKaRLeYoMeNMadetheirPreTeNCeKNoYNaNdPerhaPTtheeTtaRLiThMeNtVeLtthreateNediNMoTtCaTeTthereareNoTtaNdardTeCWrityViLeTVortheTeYoMeNRWtYherethereYeretheyYereatReTtthiNthereaLLyiNtereTtiNEMateriaLYaTiNthehiddeNarChiXeYhereiVoWNdrePortTaNdPaPerTaRoWtLoXeLaCeNiEhtiNEaLeaNdaRCaTeTtaRLiThMeNtViEWreTtheMTeLXeTtheyTeeMtohaXeReeNiENoredRytheTeCretTerXiCeaNdCLearLyNotCoNTideredaTeCWritythreatRWtoWrRoTTVoreRearTdidCarryoWtiNXeTtiEatioNTiNtotheiraCtiXitieTaNdthereareCLearTiENTthattheyMayhaXeYorKedtoEetheroRXioWTLytheVaCtthattheyYereMaKiNETWChaNiMPaCtoNToCietyYaTeNoWEhtoMaKeToMePeoPLeNerXoWTaVteraLLitYaTatiMeoVEreatChaNEeaNdCoNCerNTaRoWtreXoLWtioNYereXeryreaLoNeoVtheNoteToNViLeTWEEeTtTthattheEroYiNECaMPaiENVorYoMeNTTWVVraEeaNdToCiaLaCtiXiTMMiEhthaXeReeNtheTtartoVaNiNTWrreCtioNaNditNaMedTeXeraLoVoWrProtaEoNiTtTRWtitdidNtTayhoYtheyMiEhthaXeiNteNdedtotriEEertheWPriTiNEYhatYehaXeTeeNToVariTthatYhateXertheLiEhthoWTeCoNTPiraCyYereWPtotheyYeNttoeZtraordiNaryLeNEthTtoKeePitTeCretaNdtheVaCtthatYeareoNLyNoYWNCoXeriNEitTWEEeTtTthatitYaTMWChTWRtLerthaNaPLaNNedWPriTiNEiaMTtiLLTtrWEELiNEYiththeideathatPeoPLeYhoYerePartoVtheRirthoVRoTTCoWLdhaXeReeNaCtiNETeCretLyaEaiNTtWTRWtthatiTCertaiNLyiMPLiedRyToMeoVtheViLeTYehaXeCraCKedaNdtheattaCheddoCWMeNthaTaddedtoMyYorrieTitYaTYritteNiNtheaVterMathoVthehiNdeNRWrEdiTaTterRyToMeoNeithiNKyoWKNeYYeLLThehadaVaNtaTtiCreCordYorKiNEdeePWNderCoXeraNdrePortiNERaCKtoYeTterNiNteLLiEeNCeaEeNCieTRWtthethiNEthatCaWEhtMyeyeYaTthathereTheWTedtheCodeNaMeaWEWTtaidoNtKNoYiVyoWaLreadyTPotteditRWttheLetteriNEaroWNdtheedEeoVtheLiEhthoWTeTtaMPreadTadaadddaaadaaadadaNdTWRTtitWtiNEtheaaNddVordotaNddaThTPeLLToWtherCodeNaMeithoWEhtatVirTtthatiMiEhtRereadiNEtooMWChiNtoittheLetteriNherViLeTeeMTNeXertohaXeReeNRroKeNToMeoNeYrotedoWRLeeNCryPtedoNtheeNXeLoPeaNdiEWeTTthatYaTeNoWEhtodiTTWadetheaEeNCieTVroMTPeNdiNEMWChtiMeoNitYithhiNdTiEhtitiTPrettyoRXioWTthataCtWaLLyithaTjWTtReeNeNCryPtedoNCeaNdtheNeNCodedaTMorTeCodeWTiNEtheTaMeCoNXeNtioNaeQWaLTdotdeQWaLTdaThoNCethathadReeNWNtaNELediVoWNditPrettyeaTytoRreaKaNdiaMXeryYorriedaRoWtYhatiVoWNdithiNKyoWNeedtotaKeaLooKjodie\n"
     ]
    }
   ],
   "source": [
    "# From previous experience, this is probably a letter to Harry from Jodie.\n",
    "# Try substituting.\n",
    "decode(squished, \"ayCDEhidejKLMNoPQRrTtVWXYZ\")"
   ]
  },
  {
   "cell_type": "code",
   "execution_count": 7,
   "metadata": {},
   "outputs": [
    {
     "name": "stdout",
     "output_type": "stream",
     "text": [
      "harryiamRackispentmostoVtheLasttYoYeeksintheXauLttryinEtounpacksomeoVthemysterysurroundinEtheLiEhthouseconspiracycreYandithinkimadesomeproEressYhiLeiYasaYaythetraineestackLedtheLetterVromaRcandtheydidaEreatjoRtheyareshapinEupYeLLithinkYeYiLLReELadoVtheirheLpasthiscaseproEressestheLiRrarianattheXauLtYasXeryheLpVuLandYhenitoLdherYhatiYasLookinEVorshepointedmetoanarchiXeoVXictorianpapersconcerninEscientistsenEineersandsociaLreVormersthathadrecordedearLyRackEroundinXestiEationsintopeopLeoVinterestisaypeopLeRutididnoticethatthereYasaheaXyRiastoinXestiEatinEYomenRacktheniYassurprisedatVirstihadassumedthattheyYouLdhaXeReenLarEeLyiEnoredRutisupposetheseremarkaRLeYomenmadetheirpresenceknoYnandperhapstheestaRLishmentVeLtthreatenedinmostcasestherearenostandardsecurityViLesVortheseYomenRutYherethereYeretheyYereatRestthinthereaLLyinterestinEmateriaLYasinthehiddenarchiXeYhereiVoundreportsandpapersaRoutLoXeLaceniEhtinEaLeandaRcasestaRLishmentViEuresthemseLXestheyseemtohaXeReeniEnoredRythesecretserXiceandcLearLynotconsideredasecuritythreatRutourRossVoreRearsdidcarryoutinXestiEationsintotheiractiXitiesandtherearecLearsiEnsthattheymayhaXeYorkedtoEetheroRXiousLytheVactthattheyYeremakinEsuchanimpactonsocietyYasenouEhtomakesomepeopLenerXousaVteraLLitYasatimeoVEreatchanEeandconcernsaRoutreXoLutionYereXeryreaLoneoVthenotesonViLesuEEeststhattheEroYinEcampaiEnVorYomenssuVVraEeandsociaLactiXismmiEhthaXeReenthestartoVaninsurrectionanditnamedseXeraLoVourprotaEonistsRutitdidntsayhoYtheymiEhthaXeintendedtotriEEertheuprisinEYhatYehaXeseensoVaristhatYhateXertheLiEhthouseconspiracyYereuptotheyYenttoeZtraordinaryLenEthstokeepitsecretandtheVactthatYeareonLynoYuncoXerinEitsuEEeststhatitYasmuchsuRtLerthanapLanneduprisinEiamstiLLstruEELinEYiththeideathatpeopLeYhoYerepartoVtheRirthoVRosscouLdhaXeReenactinEsecretLyaEainstusRutthatiscertainLyimpLiedRysomeoVtheViLesYehaXecrackedandtheattacheddocumenthasaddedtomyYorriesitYasYrittenintheaVtermathoVthehindenRurEdisasterRysomeoneithinkyoukneYYeLLshehadaVantasticrecordYorkinEdeepundercoXerandreportinERacktoYesterninteLLiEenceaEenciesRutthethinEthatcauEhtmyeyeYasthatheresheusedthecodenameauEustaidontknoYiVyouaLreadyspotteditRuttheLetterinEaroundtheedEeoVtheLiEhthousestampreadsadaadddaaadaaadadandsuRstitutinEtheaanddVordotanddashspeLLsouthercodenameithouEhtatVirstthatimiEhtRereadinEtoomuchintoittheLetterinherViLeseemsneXertohaXeReenRrokensomeoneYrotedouRLeencryptedontheenXeLopeandiEuessthatYasenouEhtodissuadetheaEenciesVromspendinEmuchtimeonitYithhindsiEhtitisprettyoRXiousthatactuaLLyithasjustReenencryptedonceandthenencodedasmorsecodeusinEthesameconXentionaeQuaLsdotdeQuaLsdashoncethathadReenuntanELediVounditprettyeasytoRreakandiamXeryYorriedaRoutYhatiVoundithinkyouneedtotakeaLookjodie\n"
     ]
    }
   ],
   "source": [
    "# \"MyTtery\" -> M=m, T=s\n",
    "# \"CoNTPiraCy\" -> C=c, N=n, P=p\n",
    "# \"ithiNKyoWNeedtotaKeaLooK\" -> K=k, W=u\n",
    "decode(squished, \"aycDEhidejkLmnopQRrstVuXYZ\")"
   ]
  },
  {
   "cell_type": "code",
   "execution_count": 8,
   "metadata": {},
   "outputs": [
    {
     "name": "stdout",
     "output_type": "stream",
     "text": [
      "harryiambackispentmostofthelasttwoweeksinthevaulttryingtounpacksomeofthemysterysurroundingthelighthouseconspiracycrewandithinkimadesomeprogresswhileiwasawaythetraineestackledtheletterfromabcandtheydidagreatjobtheyareshapingupwellithinkwewillbegladoftheirhelpasthiscaseprogressesthelibrarianatthevaultwasveryhelpfulandwhenitoldherwhatiwaslookingforshepointedmetoanarchiveofvictorianpapersconcerningscientistsengineersandsocialreformersthathadrecordedearlybackgroundinvestigationsintopeopleofinterestisaypeoplebutididnoticethattherewasaheavybiastoinvestigatingwomenbacktheniwassurprisedatfirstihadassumedthattheywouldhavebeenlargelyignoredbutisupposetheseremarkablewomenmadetheirpresenceknownandperhapstheestablishmentfeltthreatenedinmostcasestherearenostandardsecurityfilesforthesewomenbutwherethereweretheywereatbestthinthereallyinterestingmaterialwasinthehiddenarchivewhereifoundreportsandpapersaboutlovelacenightingaleandabcasestablishmentfiguresthemselvestheyseemtohavebeenignoredbythesecretserviceandclearlynotconsideredasecuritythreatbutourbossforebearsdidcarryoutinvestigationsintotheiractivitiesandthereareclearsignsthattheymayhaveworkedtogetherobviouslythefactthattheyweremakingsuchanimpactonsocietywasenoughtomakesomepeoplenervousafterallitwasatimeofgreatchangeandconcernsaboutrevolutionwereveryrealoneofthenotesonfilesuggeststhatthegrowingcampaignforwomenssuffrageandsocialactivismmighthavebeenthestartofaninsurrectionanditnamedseveralofourprotagonistsbutitdidntsayhowtheymighthaveintendedtotriggertheuprisingwhatwehaveseensofaristhatwhateverthelighthouseconspiracywereuptotheywenttoextraordinarylengthstokeepitsecretandthefactthatweareonlynowuncoveringitsuggeststhatitwasmuchsubtlerthanaplanneduprisingiamstillstrugglingwiththeideathatpeoplewhowerepartofthebirthofbosscouldhavebeenactingsecretlyagainstusbutthatiscertainlyimpliedbysomeofthefileswehavecrackedandtheattacheddocumenthasaddedtomyworriesitwaswrittenintheaftermathofthehindenburgdisasterbysomeoneithinkyouknewwellshehadafantasticrecordworkingdeepundercoverandreportingbacktowesternintelligenceagenciesbutthethingthatcaughtmyeyewasthatheresheusedthecodenameaugustaidontknowifyoualreadyspotteditbuttheletteringaroundtheedgeofthelighthousestampreadsadaadddaaadaaadadandsubstitutingtheaanddfordotanddashspellsouthercodenameithoughtatfirstthatimightbereadingtoomuchintoittheletterinherfileseemsnevertohavebeenbrokensomeonewrotedoubleencryptedontheenvelopeandiguessthatwasenoughtodissuadetheagenciesfromspendingmuchtimeonitwithhindsightitisprettyobviousthatactuallyithasjustbeenencryptedonceandthenencodedasmorsecodeusingthesameconventionaequalsdotdequalsdashoncethathadbeenuntangledifounditprettyeasytobreakandiamveryworriedaboutwhatifoundithinkyouneedtotakealookjodie\n"
     ]
    }
   ],
   "source": [
    "# \"iamRack\" -> R=b\n",
    "# \"ispentmostoVtheLasttYoYeeks\" -> V=f, L=l, Y=w\n",
    "# \"surroundinEtheLiEhthouseconspiracy\" -> E=g\n",
    "# \"eQuaLs\" -> Q=q\n",
    "# \"seXeraL\" -> X=v\n",
    "# \"eZtraordinary\" -> Z=x\n",
    "# Assume D=z\n",
    "decode(squished, \"ayczghidejklmnopqbrstfuvwx\")"
   ]
  },
  {
   "cell_type": "code",
   "execution_count": 9,
   "metadata": {},
   "outputs": [
    {
     "name": "stdout",
     "output_type": "stream",
     "text": [
      "Decoded alphabet: archivefgjklmnopqstuwxyzbd\n",
      "Keyword: archive\n"
     ]
    }
   ],
   "source": [
    "# Attempts to determine the keyword used for a substitution cipher\n",
    "# alphabet: The substitution alphabet\n",
    "def decode_key(alphabet):\n",
    "    decoded_alphabet = \"\"\n",
    "    for letter in string.ascii_lowercase:\n",
    "        decoded_alphabet += chr(alphabet.find(letter) + ord(\"a\"))\n",
    "    print(f\"Decoded alphabet: {decoded_alphabet}\")\n",
    "    \n",
    "    remaining_letters = list(string.ascii_lowercase)\n",
    "    for pos, letter in enumerate(decoded_alphabet):\n",
    "        remaining_letters.remove(letter)\n",
    "        next_letter_index = remaining_letters.index(decoded_alphabet[pos+1])\n",
    "        if decoded_alphabet[pos+1:] == \"\".join(remaining_letters[next_letter_index:] + remaining_letters[:next_letter_index]):\n",
    "            print(f\"Keyword: {decoded_alphabet[:pos+2]}\")\n",
    "            break\n",
    "\n",
    "decode_key(\"ayczghidejklmnopqbrstfuvwx\")"
   ]
  },
  {
   "cell_type": "code",
   "execution_count": 10,
   "metadata": {},
   "outputs": [],
   "source": [
    "# Part B - \"An Agatha Mystery\"\n",
    "part_b_text = \"\"\"DDD D ADDD AAA ADDD / AAA A AA AADA DDAA / DDD D DADD AA ADDD / AAA AADA A AD ADDD / DDAA DD DDD AD AADA / DDAA DAD AADA AD DADA / ADDD D DA D ADDD / D A DDA AAA AD / DA A DADD A DADA / A DDA DDA AD AADA / D ADD DDAD AA AADA / DDAA DDD DADD D DADD / DDA DADA AD ADD A / AD DADD AAAA DADA DDAA / DAAD DAAA ADD A ADDA / D ADDD DDAD AD DADD / AAAA DDD D ADDD AAA / ADDD AAA AD ADDD ADDD / AAA A AADA A D / DDA AD AA AADA DDAA / DDD D DADD AA AADA / D DDA AAAD ADDD AAA / AD ADDD DDAA DAD AADA / DAAD D DDA DDA D / DDAA DADD DDD D ADD / ADD ADAA A DAD DADD / DADA DDAA DA A AADA / A AAAA ADAA DDAD DDAA / DADD A DDAA DD ADDD / AAA A DAAA AD AADA / ADDD D A DDA ADDD / DDAA ADDD AAA A DADA / DDAA DADD DD ADD D / DADA ADDD D AAA AD / DA A ADAA A A / DADD AD ADAA ADD A / ADDD DDAA AAAA AADA D / DAAA DD A A AAAA / D DADD ADDD A ADD / ADD D AA A DADD / DADA A ADDD DDAA ADDD / AAA A DDD A DDA / ADDD A AADA DADD AD / ADD ADD D A DDA / DA D AD ADDD AAA / A D AADA AD AA / A DADD ADDD AAA AD / AADA AADA DDAD AD DADD / AAAA AD DDA DD AD / AADA AD DDA D DADA / AD DADD ADDD A ADD / ADD AAA A AADA A / DAAD AD D DADD DDA / D AA DADD DDAA AADA / AD DADD ADDD DDAA DD / DDAA DAD AADA ADDD AADA / DAD A DAAA DAD AADA / DAAA DDAA DDA A DADD / DDAA DADD A ADDD AAA / A ADD A DDA DDA / ADDD AAA A AADA D / DDA AAAD AADA A DAAD / AD D DADD DDA AAA / D AA AAA DDAA DD / DDAA DADD A DDAA AADA / ADAA DDAA ADDD AAA DDA / D AAAA A DDA AD / DADA DAA DAD D AADA / D DADD AA ADDD AAA / A DDA A DADA AADA / A ADDD ADDD DDAA AD / ADDD DDAA DAAD D DADA / DDD A AD DAAA DDAA / DADD DDA A AD AADA / ADD DDAD AD DADD AAAA / DDD A DDD D ADD / ADD DADD A A AAAA / ADDD DDAA AD DADA ADDD / DD AD DDA ADDD D / DD DDD A AD AADA / A ADDD DDAA DAAA AADA / A DA A DADD ADDD / ADDD AAA D DDA ADDD / AAA A ADD DDAA DDA / DDA DDAA DD ADDD AAA / A AAA D DADD AAAA / A DADD ADAA DAD AADA / AA DAAA AADA A DDA / A DADD ADDD A AAAA / AD DD AD ADAA DAD / ADD DDAA DAD DDA DDAA / DAAA DAAA DDAA AADA ADDD / DAD DADD D ADDD DDAD / AD DADD AAAA D DAD / DDA A AAAA D ADDD / ADDD DDAA DAAD AD AAAD / A DDA DAD AADA A / ADDD AAA AD ADDD ADDD / AAA A AD ADD ADD / D A DDA DAD DADD / AAAA A AADA DDA ADDD / DDAA DDAA AAAA DDD AAA / AD ADDD ADDD AAA A / DADD AD ADA D DDA / DADA D A DADD ADDD / D DDA ADDD DDA DDD / A AADA A DDD DDAA / AADA AAAD D DADD AA / DDAA DADD D AAA AD / DA A ADDD AADA D / A AAAA DADD DDAA ADDD / ADDD DDAA DAAA AADA DDAA / DA D AAAA A AAA / AD AADA AADA DDAD DDD / D ADDD AAA ADDD DDAA / DDAA DAAD DAD DADA AAA / D DADD DD DDAA AADA / DAAD AD ADDD D DDAA / DADD AD ADDD ADDD AAA / D DDA DDA ADDD AD / AA A DDA D DADD / DADA A D ADDD D / DDA DADA AADA DAD DADA / D AD ADD ADDD DDAA / DDAA DAD AADA DAAD D / DDA DDA D DDAA DADD / ADDD AAA AD ADDD DDD / A DAAD AD D DADD / ADDD AD D DADD ADDD / AAA A ADAA AD ADD / AD DADD DADA A DDAA / DD DAD DADD DADA A / AADA ADDD AD D DADD / ADDD DDAD D ADDD D / DDA DADD DDAA ADDD AD / ADDD AD ADD ADD DADA / ADD A AD AADA DDD / AAA DDAA DAAD D AA / AAA ADDD DDD D DADD / ADDD AAA A DADD DAD / DADA ADD A AD AADA / AD AADA DAAD DDA AADA / AD DADA A ADAA DAD / ADDD DDAA DAD AADA A / ADDA DAAA A AADA D / A DADD DADA A DDAA / DD ADDD AAA A DAAD / DDAA DADD ADDD AAA DDA / AD DADD AAAA DDAD A / AD AADA DDA ADD A / AD AAAA D DADD AA / DAD DAAA ADDD DDAA ADDD / AAA A AA AADA A / AD ADDD DDD AD AADA / DDA DAD AA AA A / DDA ADDD DDA ADDD AAA / AD ADDD ADDD AAA A / AADA AD DADA A DDD / D ADD ADD AAA AD / DA A D ADDD DDA / DDAA DDD DADD DAAD DDAA / DAAD A DADD ADDD DAD / DAAD AD DADD AAAA D / ADDD DDD D ADD ADD / ADDD AD AAAD A DADA / DDAA DADD DDA D AAAA / A AADA AD ADAA ADD / A A DD DD DDAA / AADA ADDD ADAA DDAD AD / ADD ADD DDAA DD DAD / DDA D DD DDD A / AAA DDAA DAAA A ADDD / DDAA AAAA D AADA A / DADA ADDD D ADDD ADDD / DDAA DDAA DAD AADA AD / AAAA DA AD DADD ADDD / AD AA A AD DAD / AA DAD DDA ADDD AD\"\"\""
   ]
  },
  {
   "cell_type": "code",
   "execution_count": 12,
   "metadata": {},
   "outputs": [
    {
     "name": "stdout",
     "output_type": "stream",
     "text": [
      "['DDD D ADDD AAA ADDD', 'AAA A AA AADA DDAA', 'DDD D DADD AA ADDD', 'AAA AADA A AD ADDD', 'DDAA DD DDD AD AADA', 'DDAA DAD AADA AD DADA', 'ADDD D DA D ADDD', 'D A DDA AAA AD', 'DA A DADD A DADA', 'A DDA DDA AD AADA', 'D ADD DDAD AA AADA', 'DDAA DDD DADD D DADD', 'DDA DADA AD ADD A', 'AD DADD AAAA DADA DDAA', 'DAAD DAAA ADD A ADDA', 'D ADDD DDAD AD DADD', 'AAAA DDD D ADDD AAA', 'ADDD AAA AD ADDD ADDD', 'AAA A AADA A D', 'DDA AD AA AADA DDAA', 'DDD D DADD AA AADA', 'D DDA AAAD ADDD AAA', 'AD ADDD DDAA DAD AADA', 'DAAD D DDA DDA D', 'DDAA DADD DDD D ADD', 'ADD ADAA A DAD DADD', 'DADA DDAA DA A AADA', 'A AAAA ADAA DDAD DDAA', 'DADD A DDAA DD ADDD', 'AAA A DAAA AD AADA', 'ADDD D A DDA ADDD', 'DDAA ADDD AAA A DADA', 'DDAA DADD DD ADD D', 'DADA ADDD D AAA AD', 'DA A ADAA A A', 'DADD AD ADAA ADD A', 'ADDD DDAA AAAA AADA D', 'DAAA DD A A AAAA', 'D DADD ADDD A ADD', 'ADD D AA A DADD', 'DADA A ADDD DDAA ADDD', 'AAA A DDD A DDA', 'ADDD A AADA DADD AD', 'ADD ADD D A DDA', 'DA D AD ADDD AAA', 'A D AADA AD AA', 'A DADD ADDD AAA AD', 'AADA AADA DDAD AD DADD', 'AAAA AD DDA DD AD', 'AADA AD DDA D DADA', 'AD DADD ADDD A ADD', 'ADD AAA A AADA A', 'DAAD AD D DADD DDA', 'D AA DADD DDAA AADA', 'AD DADD ADDD DDAA DD', 'DDAA DAD AADA ADDD AADA', 'DAD A DAAA DAD AADA', 'DAAA DDAA DDA A DADD', 'DDAA DADD A ADDD AAA', 'A ADD A DDA DDA', 'ADDD AAA A AADA D', 'DDA AAAD AADA A DAAD', 'AD D DADD DDA AAA', 'D AA AAA DDAA DD', 'DDAA DADD A DDAA AADA', 'ADAA DDAA ADDD AAA DDA', 'D AAAA A DDA AD', 'DADA DAA DAD D AADA', 'D DADD AA ADDD AAA', 'A DDA A DADA AADA', 'A ADDD ADDD DDAA AD', 'ADDD DDAA DAAD D DADA', 'DDD A AD DAAA DDAA', 'DADD DDA A AD AADA', 'ADD DDAD AD DADD AAAA', 'DDD A DDD D ADD', 'ADD DADD A A AAAA', 'ADDD DDAA AD DADA ADDD', 'DD AD DDA ADDD D', 'DD DDD A AD AADA', 'A ADDD DDAA DAAA AADA', 'A DA A DADD ADDD', 'ADDD AAA D DDA ADDD', 'AAA A ADD DDAA DDA', 'DDA DDAA DD ADDD AAA', 'A AAA D DADD AAAA', 'A DADD ADAA DAD AADA', 'AA DAAA AADA A DDA', 'A DADD ADDD A AAAA', 'AD DD AD ADAA DAD', 'ADD DDAA DAD DDA DDAA', 'DAAA DAAA DDAA AADA ADDD', 'DAD DADD D ADDD DDAD', 'AD DADD AAAA D DAD', 'DDA A AAAA D ADDD', 'ADDD DDAA DAAD AD AAAD', 'A DDA DAD AADA A', 'ADDD AAA AD ADDD ADDD', 'AAA A AD ADD ADD', 'D A DDA DAD DADD', 'AAAA A AADA DDA ADDD', 'DDAA DDAA AAAA DDD AAA', 'AD ADDD ADDD AAA A', 'DADD AD ADA D DDA', 'DADA D A DADD ADDD', 'D DDA ADDD DDA DDD', 'A AADA A DDD DDAA', 'AADA AAAD D DADD AA', 'DDAA DADD D AAA AD', 'DA A ADDD AADA D', 'A AAAA DADD DDAA ADDD', 'ADDD DDAA DAAA AADA DDAA', 'DA D AAAA A AAA', 'AD AADA AADA DDAD DDD', 'D ADDD AAA ADDD DDAA', 'DDAA DAAD DAD DADA AAA', 'D DADD DD DDAA AADA', 'DAAD AD ADDD D DDAA', 'DADD AD ADDD ADDD AAA', 'D DDA DDA ADDD AD', 'AA A DDA D DADD', 'DADA A D ADDD D', 'DDA DADA AADA DAD DADA', 'D AD ADD ADDD DDAA', 'DDAA DAD AADA DAAD D', 'DDA DDA D DDAA DADD', 'ADDD AAA AD ADDD DDD', 'A DAAD AD D DADD', 'ADDD AD D DADD ADDD', 'AAA A ADAA AD ADD', 'AD DADD DADA A DDAA', 'DD DAD DADD DADA A', 'AADA ADDD AD D DADD', 'ADDD DDAD D ADDD D', 'DDA DADD DDAA ADDD AD', 'ADDD AD ADD ADD DADA', 'ADD A AD AADA DDD', 'AAA DDAA DAAD D AA', 'AAA ADDD DDD D DADD', 'ADDD AAA A DADD DAD', 'DADA ADD A AD AADA', 'AD AADA DAAD DDA AADA', 'AD DADA A ADAA DAD', 'ADDD DDAA DAD AADA A', 'ADDA DAAA A AADA D', 'A DADD DADA A DDAA', 'DD ADDD AAA A DAAD', 'DDAA DADD ADDD AAA DDA', 'AD DADD AAAA DDAD A', 'AD AADA DDA ADD A', 'AD AAAA D DADD AA', 'DAD DAAA ADDD DDAA ADDD', 'AAA A AA AADA A', 'AD ADDD DDD AD AADA', 'DDA DAD AA AA A', 'DDA ADDD DDA ADDD AAA', 'AD ADDD ADDD AAA A', 'AADA AD DADA A DDD', 'D ADD ADD AAA AD', 'DA A D ADDD DDA', 'DDAA DDD DADD DAAD DDAA', 'DAAD A DADD ADDD DAD', 'DAAD AD DADD AAAA D', 'ADDD DDD D ADD ADD', 'ADDD AD AAAD A DADA', 'DDAA DADD DDA D AAAA', 'A AADA AD ADAA ADD', 'A A DD DD DDAA', 'AADA ADDD ADAA DDAD AD', 'ADD ADD DDAA DD DAD', 'DDA D DD DDD A', 'AAA DDAA DAAA A ADDD', 'DDAA AAAA D AADA A', 'DADA ADDD D ADDD ADDD', 'DDAA DDAA DAD AADA AD', 'AAAA DA AD DADD ADDD', 'AD AA A AD DAD', 'AA DAD DDA ADDD AD']\n"
     ]
    }
   ],
   "source": [
    "# Possibly morse code.\n",
    "# Break up the words...\n",
    "words = [word.strip() for word in part_b_text.split(\"/\")]\n",
    "print(words)"
   ]
  },
  {
   "cell_type": "code",
   "execution_count": 26,
   "metadata": {},
   "outputs": [
    {
     "name": "stdout",
     "output_type": "stream",
     "text": [
      "otjsj seifz otyij sfeaj zmoaf zkfac jtntj tegsa neyec eggaf twqif zoyty gcawe ayhcz xbwep tjqay hotjs jsajj sefet gaifz otyif tgvjs ajzkf xtggt zyotw wleky cznef ehlqz yezmj sebaf jtegj zjsec zymwt cjtsa nelee yalwe jzhft bmeeh tyjew wtiey cejzj seoeg jefya wwteg ntajs etfai eyjsa ffqay hagma fagtc ayjew wsefe xatyg tiyzf ayjzm zkfjf kebkf bzgey zyejs ewegg jseft gvfex atygs tiszm zyezf lzjsg thega cdktf tyijs egecf ejjza jzxtc oeabz ygeaf wqayh oeotw wyeeh jzacj magjt moeaf ejzbf eneyj jstgj sewzg gzmjs estyh eylkf ibfeg eyjeh amalk wzkgz bbzfj kytjq ayhtk gehtj jzxav egkfe jsajj seaww tegky hefgj zzhos ajjse yartg cteyj tgjgo efeoz fvtyi zytsa nejft ehyzj jzbfz nthes affqo tjsjz zxkcs tymzf xajtz yajjs tggja iegty cetjt gcfkc tawjz zkfxt ggtzy jsajo exaty jatyj selaw aycez mkyce fjaty jqtjt gyzja jawwc weafo szxti sjoty jseyk cweaf afxgf acelk jzkfe pbeft eycez mjsex zyjsg ayhqe afgwe ahtyi kbjzj seife ajoaf gkiie gjgjs ajjse faceo twwsa netjg zoyxz xeyjk xayht jotww javec zygth efalw eemmz fjlqa wwzmk gtmoe szbej zhtfe cjtjj zzkfa hnayj aieak ikgja "
     ]
    }
   ],
   "source": [
    "m2t = {\".-\":\"a\", \"-...\":\"b\", \"-.-.\":\"c\", \"-..\":\"d\", \".\":\"e\",\n",
    "       \"..-.\":\"f\", \"--.\":\"g\", \"....\":\"h\", \"..\":\"i\", \".---\":\"j\",\n",
    "       \"-.-\":\"k\", \".-..\":\"l\", \"--\":\"m\", \"-.\":\"n\", \"---\":\"o\",\n",
    "       \".--.\":\"p\", \"--.-\":\"q\", \".-.\":\"r\", \"...\":\"s\",\n",
    "       \"-\":\"t\", \"..-\":\"u\", \"...-\":\"v\", \".--\":\"w\",\n",
    "       \"-..-\":\"x\", \"-.--\":\"y\", \"--..\":\"z\",\n",
    "       \".----\":\"1\", \"..---\":\"2\", \"...--\":\"3\", \"....-\":\"4\", \".....\":\"5\",\n",
    "       \"-....\":\"6\", \"--...\":\"7\", \"---..\":\"8\", \"----.\":\"9\",\"-----\":\"0\",\n",
    "       \"/\":\" \"}\n",
    "\n",
    "text = \"\"\n",
    "for word in words:\n",
    "    decoded_word = \"\"\n",
    "    for letter in word.split():\n",
    "        letter = letter.replace(\"A\", \".\").replace(\"D\", \"-\")\n",
    "        decoded_word += m2t[letter]\n",
    "    print(decoded_word, end=\" \")\n",
    "    text += decoded_word"
   ]
  },
  {
   "cell_type": "code",
   "execution_count": 27,
   "metadata": {},
   "outputs": [
    {
     "name": "stdout",
     "output_type": "stream",
     "text": [
      "e: 107 (12.02%) j: 99 (11.12%) a: 77 (8.65%) t: 76 (8.54%) z: 65 (7.30%)\n",
      "y: 62 (6.97%) f: 60 (6.74%) g: 53 (5.96%) s: 46 (5.17%) w: 35 (3.93%)\n",
      "k: 28 (3.15%) c: 27 (3.03%) o: 24 (2.70%) h: 23 (2.58%) i: 20 (2.25%)\n",
      "m: 18 (2.02%) x: 16 (1.80%) b: 14 (1.57%) l: 11 (1.24%) n: 10 (1.12%)\n",
      "q: 10 (1.12%) v:  5 (0.56%) p:  2 (0.22%) d:  1 (0.11%) r:  1 (0.11%)\n",
      "\n",
      "-----\n"
     ]
    }
   ],
   "source": [
    "frequency_analysis(text)"
   ]
  },
  {
   "cell_type": "code",
   "execution_count": 32,
   "metadata": {},
   "outputs": [
    {
     "name": "stdout",
     "output_type": "stream",
     "text": [
      "OtJSJSeIFZOtYIJSFeAJZMOAFZKFACJtNtJteGSANeYeCeGGAFtWQIFZOYtYGCAWeAYhCZXBWePtJQAYhOtJSJSAJJSeFetGAIFZOtYIFtGVJSAJZKFXtGGtZYOtWWLeKYCZNeFehLQZYeZMJSeBAFJteGJZJSeCZYMWtCJtSANeLeeYALWeJZhFtBMeehtYJeWWtIeYCeJZJSeOeGJeFYAWWteGNtAJSetFAIeYJSAFFQAYhAGMAFAGtCAYJeWWSeFeXAtYGtIYZFAYJZMZKFJFKeBKFBZGeYZYeJSeWeGGJSeFtGVFeXAtYGStISZMZYeZFLZJSGtheGACDKtFtYIJSeGeCFeJJZAJZXtCOeABZYGeAFWQAYhOeOtWWYeehJZACJMAGJtMOeAFeJZBFeNeYJJStGJSeWZGGZMJSeStYheYLKFIBFeGeYJehAMALKWZKGZBBZFJKYtJQAYhtKGehtJJZXAVeGKFeJSAJJSeAWWteGKYheFGJZZhOSAJJSeYARtGCteYJtGJGOeFeOZFVtYIZYtSANeJFtehYZJJZBFZNtheSAFFQOtJSJZZXKCStYMZFXAJtZYAJJStGGJAIeGtYCetJtGCFKCtAWJZZKFXtGGtZYJSAJOeXAtYJAtYJSeLAWAYCeZMKYCeFJAtYJQtJtGYZJAJAWWCWeAFOSZXtISJOtYJSeYKCWeAFAFXGFACeLKJZKFePBeFteYCeZMJSeXZYJSGAYhQeAFGWeAhtYIKBJZJSeIFeAJOAFGKIIeGJGJSAJJSeFACeOtWWSANetJGZOYXZXeYJKXAYhtJOtWWJAVeCZYGtheFALWeeMMZFJLQAWWZMKGtMOeSZBeJZhtFeCJtJJZZKFAhNAYJAIeAKIKGJA\n"
     ]
    }
   ],
   "source": [
    "# OK - let's try substitution on that\n",
    "text = text.upper()\n",
    "decode(text, \"ABCDeFGhIJKLMNOPQRStUVWXYZ\")"
   ]
  },
  {
   "cell_type": "code",
   "execution_count": null,
   "metadata": {},
   "outputs": [],
   "source": []
  }
 ],
 "metadata": {
  "kernelspec": {
   "display_name": "Python 3 (ipykernel)",
   "language": "python",
   "name": "python3"
  },
  "language_info": {
   "codemirror_mode": {
    "name": "ipython",
    "version": 3
   },
   "file_extension": ".py",
   "mimetype": "text/x-python",
   "name": "python",
   "nbconvert_exporter": "python",
   "pygments_lexer": "ipython3",
   "version": "3.9.5"
  }
 },
 "nbformat": 4,
 "nbformat_minor": 4
}
