{
 "cells": [
  {
   "cell_type": "markdown",
   "metadata": {},
   "source": [
    "# Cipher Challenge 2021\n",
    "### Challenge 4\n",
    "\n",
    "Challenge link https://www.cipherchallenge.org/challenge/challenge-4/"
   ]
  },
  {
   "cell_type": "code",
   "execution_count": null,
   "metadata": {},
   "outputs": [],
   "source": [
    "# Part A - \"\"\n",
    "part_a_text = \"\"\"\"\"\""
   ]
  },
  {
   "cell_type": "code",
   "execution_count": null,
   "metadata": {},
   "outputs": [],
   "source": [
    "# Bring in the basic decoder function\n",
    "import string\n",
    "\n",
    "# A simple translation method.\n",
    "# text: The text to translate, in upper case\n",
    "# key: A substitution alphabet, usually in lower case so that the translated characters show up\n",
    "def decode(text, key):\n",
    "    table = str.maketrans(string.ascii_uppercase, key)\n",
    "    print(text.upper().translate(table))"
   ]
  },
  {
   "cell_type": "code",
   "execution_count": null,
   "metadata": {},
   "outputs": [],
   "source": [
    "# From previous experience, this is probably a letter to Harry from Jodie.\n",
    "# Try substituting.\n",
    "decode(part_a_text.lower(), \"AByDijGdIJKaMNOoQRheUrWXYZ\")"
   ]
  },
  {
   "cell_type": "code",
   "execution_count": null,
   "metadata": {},
   "outputs": [],
   "source": [
    "# Looks promising.\n",
    "# \"arGhaeoKoUiWXW\" -> G=c, K=l, U=g, W=s, X=t\n",
    "# \"reMiNded\" -> M=m, N=n \n",
    "decode(part_a_text.lower(), \"AByDijcdIJlamnOoQRhegrstYZ\")"
   ]
  },
  {
   "cell_type": "code",
   "execution_count": null,
   "metadata": {},
   "outputs": [],
   "source": [
    "# \"thanJs Oor yoYr\" -> J=k, O=f, Y=u\n",
    "# \"sQent\" -> Q=p\n",
    "# \"eZen iO it is jYst a training eBercise.\" -> Z=v, B=x\n",
    "# \"AoYld\" -> A=w\n",
    "# \"seems to Ie\" -> I=b\n",
    "# Assume D=z & R=q\n",
    "decode(part_a_text.lower(), \"wxyzijcdbklamnfopqhegrstuv\")"
   ]
  },
  {
   "cell_type": "code",
   "execution_count": null,
   "metadata": {},
   "outputs": [],
   "source": [
    "# Attempts to determine the keyword used for a substitution cipher\n",
    "# alphabet: The substitution alphabet\n",
    "def decode_key(alphabet):\n",
    "    decoded_alphabet = \"\"\n",
    "    for letter in string.ascii_lowercase:\n",
    "        decoded_alphabet += chr(alphabet.find(letter) + ord(\"a\"))\n",
    "    print(f\"Decoded alphabet: {decoded_alphabet}\")\n",
    "    \n",
    "    remaining_letters = list(string.ascii_lowercase)\n",
    "    for pos, letter in enumerate(decoded_alphabet):\n",
    "        remaining_letters.remove(letter)\n",
    "        next_letter_index = remaining_letters.index(decoded_alphabet[pos+1])\n",
    "        if decoded_alphabet[pos+1:] == \"\".join(remaining_letters[next_letter_index:] + remaining_letters[:next_letter_index]):\n",
    "            print(f\"Keyword: {decoded_alphabet[:pos+2]}\")\n",
    "            break\n",
    "\n",
    "decode_key(\"wxyzijcdbklamnfopqhegrstuv\")"
   ]
  },
  {
   "cell_type": "code",
   "execution_count": null,
   "metadata": {},
   "outputs": [],
   "source": [
    "# Part B - \"\"\n",
    "part_b_text = \"\"\"\"\"\""
   ]
  },
  {
   "cell_type": "code",
   "execution_count": null,
   "metadata": {},
   "outputs": [],
   "source": [
    "from collections import Counter\n",
    "\n",
    "# Takes a string or list of items and counts the frequencies of those items\n",
    "# data: The list or string to analyse\n",
    "# max_values: The maximum number of values to display (set to None for no limit)\n",
    "# no_columns: The amount of columns to use in the output\n",
    "def frequency_analysis(data, max_values=30, no_columns=5):\n",
    "    frequencies = Counter()\n",
    "    for item in data:\n",
    "        frequencies[item] += 1\n",
    "    \n",
    "    total = sum(frequencies.values())\n",
    "    column = 1\n",
    "    for item, frequency in frequencies.most_common(max_values):\n",
    "        print(f\"{item}: {frequency:2} ({frequency / total:.2%})\", end=\" \" if column % no_columns else \"\\n\")\n",
    "        column += 1\n",
    "    print(\"\\n-----\")\n",
    "\n",
    "squished = part_b_text.replace(\" \", \"\")\n",
    "frequency_analysis(squished)"
   ]
  },
  {
   "cell_type": "code",
   "execution_count": null,
   "metadata": {},
   "outputs": [],
   "source": [
    "# Looks like an English distribution\n",
    "# R=e, J=t\n",
    "decode(squished, \"ABCDEFGHItKLMNOPQeSTUVWXYZ\")"
   ]
  },
  {
   "cell_type": "code",
   "execution_count": null,
   "metadata": {},
   "outputs": [],
   "source": [
    "# U comes between a lot of t's and e's -> U=h\n",
    "decode(squished, \"ABCDEFGHItKLMNOPQeSThVWXYZ\")"
   ]
  },
  {
   "cell_type": "code",
   "execution_count": null,
   "metadata": {},
   "outputs": [],
   "source": [
    "# A lot of thBT -> B=a\n",
    "decode(squished, \"AaCDEFGHItKLMNOPQeSThVWXYZ\")"
   ]
  },
  {
   "cell_type": "code",
   "execution_count": null,
   "metadata": {},
   "outputs": [],
   "source": [
    "# Part A said that the letter was from \"ABC\" -> A=b, K=c\n",
    "decode(squished, \"baCDEFGHItcLMNOPQeSThVWXYZ\")"
   ]
  },
  {
   "cell_type": "code",
   "execution_count": null,
   "metadata": {},
   "outputs": [],
   "source": [
    "# \"thechatteH\" -> H=r\n",
    "# \"theSactthat\" -> D=f\n",
    "# \"heattacX\" -> X=k\n",
    "# filling in pattern between e and k -> T=g, V=i, W=j\n",
    "decode(squished, \"baCDEFGrItcLMNOPQefghijkYZ\")"
   ]
  },
  {
   "cell_type": "code",
   "execution_count": null,
   "metadata": {},
   "outputs": [],
   "source": [
    "# \"chatteriCg\" -> C=n\n",
    "# \"theefficieCcPDftheEeMice\" -> P=y, D=o, E=d, M=v\n",
    "# \"IecretI\" -> I=s\n",
    "# \"ZighthaMe\" -> Z=m\n",
    "# \"teYegraFhic\" -> Y=l, F=p\n",
    "decode(squished, \"banodpGrstcLvNOyQefghijklm\")"
   ]
  },
  {
   "cell_type": "code",
   "execution_count": null,
   "metadata": {},
   "outputs": [],
   "source": [
    "# \"NhiletheoLtbreak\" -> N=w, L=u\n",
    "# Filling the pattern -> G=q, O=x, Q=z\n",
    "decode(squished, \"banodpqrstcuvwxyzefghijklm\")"
   ]
  },
  {
   "cell_type": "code",
   "execution_count": null,
   "metadata": {},
   "outputs": [],
   "source": [
    "# What was the keyword?\n",
    "decode_key(\"banodpqrstcuvwxyzefghijklm\")"
   ]
  },
  {
   "cell_type": "code",
   "execution_count": null,
   "metadata": {},
   "outputs": [],
   "source": []
  }
 ],
 "metadata": {
  "kernelspec": {
   "display_name": "Python 3 (ipykernel)",
   "language": "python",
   "name": "python3"
  },
  "language_info": {
   "codemirror_mode": {
    "name": "ipython",
    "version": 3
   },
   "file_extension": ".py",
   "mimetype": "text/x-python",
   "name": "python",
   "nbconvert_exporter": "python",
   "pygments_lexer": "ipython3",
   "version": "3.10.0"
  }
 },
 "nbformat": 4,
 "nbformat_minor": 4
}
