{
 "cells": [
  {
   "cell_type": "markdown",
   "metadata": {},
   "source": [
    "# Cipher Challenge 2021\n",
    "### Mission 8\n",
    "\n",
    "Challenge link https://www.cipherchallenge.org/challenge/competition-challenge-8/"
   ]
  },
  {
   "cell_type": "code",
   "execution_count": 1,
   "metadata": {},
   "outputs": [],
   "source": [
    "# Part A - \"Surprise, surprise!\"\n",
    "part_a_text = \"\"\"DECCR OAKNY ZAJLP WRZJC PFFLL KTYVY ATRTF LDCVR AEIFL TYUFM YMRKG UATFN FOWKF LLFTY SMRXY GIEVG AWRJA SEMVP YERCJ FTYVP LIJEM DAPKM ARRTI IATBR VHFNG AGFKR OEIVY UDEFN VIEKG UWRJR PNXKG TEFIP LSFLP JEJKP FIEXR VFZEB VUKZL HNPTY ZEZKU HSTCC HRKYY ATIZL PTPJC UTZKY UDVHS HLCPA SERIU OAKJF LWRER LDVMC UTYVA PPYVP AHVPF HVVLQ LDZJY TEJJY NEKFK LIKZQ KOLSJ LEETP FPKVB DIKYR OEJVA VNUJR HGVLQ PNXKF LSRDC WOCPZ PUJXP PDZLQ LDWFP TYCRQ ADZRP FEEKP FTYVW HRVKC SLZEE TEKYY AIYRT LNFNF LRVKM OIUVM UCVZQ ARZGN LDKYY AOWWG DAJCC MTNZR OAJKY UDRIB IUKKP PCBPA PPYVP AOSIC HKWFP AUERR LLPZJ LAIEC KTYVB HRBRP ASFWD YEHLC UCPRL HLPJG ZAEUA YISSG UGWIM THRIP FSFZR KIUER AABVJ VNXKM JRRTI PTKYC ZETFL KSLIN YIJVG ZTYRR PDFER RNFNU OAKKM KOEFP TACCW HNPLL ZOCZA PTVUY WPIFY JHCZI LTYZQ DOLCB IEZEQ AAEKJ FRVGM YTVUR VTYVJ HMGCG NHKVP ZSFKF LYTFS SDZET LSKZE HTVSS AAJKP PNZKW WOZER ZOLKG OAURJ YERUW JOETC HLVUR OECRQ AIEKC YCVGR MRFDF HRIPU VRIZC KTYRR PTDZE OTURK HGVYG ZTILQ AIEDC PTNZJ SNFKJ VOBXM VDZWF LFZEB ZTYRR VUKWP VMKYC TBLKG MIKVJ SHZDR OEEZU PLCRJ ZOYRT LTFKC SLYZK HBFLR AHZJB PRVTR HPGVY STFAM PNKYC TIUFL ATYZL RTYRR DICCK HKVKF PNXJY UYSVR AEISC AWVVL BSKYC YEZJQ VMVKF PNXVJ ZEKFM AHVWM BNUVP ZOWKF LCFEQ WIIRA FAIVN LRJFL HLYVP VEJFD TIEVY UDZTY UTSVY YTFKF PNBKF HTKYC FMZXF AHRMC IEVEU VRBZL NFFIR OEURP RSZUC PFZKG ZTILC AHVEG DOLCB YAKYC YFZEB VUKWM YMPJC SFKYY ULVRT LIKKM VTYVP ZIESM ZSZJS WPFJC PCFLJ KTVCJ HLCRL KOWWC YTFZL MICKP HTVKF LAXVL JYSLR AHVYG ZTFIW VFUFS ILVRE LNKJG ZNFKY OAGGW VNVZR PSYRP KTFIC HLCPR YUJKQ VMVFL LWYFF HSNFP REUWM YTYVM WPFJG AIFEC CEEZD AHVPB VIKLL KEITM CEIKM VMREW OAMVZ LEETM YRLGR LDSPR OETFK WRFDG ZEJIC XUZIC KAEUG HMEFR ZUIVG HMTLR VUKWM YTYRR ZOIKM MWFII PDFER AHZEI OAIIW DOLCB PNJZQ ABLKG HMTVP AAZEQ VMVSM KYZEZ VSJNM BLUKF LTRCI VFKYC WAEUC TITRL KCFGU PLCSC HRVUD SAXRL KSFDC VNVJM TENYC YENZJ SBVUC ZPVIY AEKFZ YERBG UTFKF LCFEQ WIIRA FDVJN LRRKC LNFLE OTFDY REDVY UOWWC YITRL ARVWS ZEZNG SLYRT LTFKY REKYG ZFLIR OEISS ABVWM YEZRE YEVKM TEVKR YIEZR FIEVC KTFBL VWDFP LTYVL HMVFD AHVJM BTVIN VIEKJ PGYKF VUJVP PNXJY IECCZ BTZTY UTIVK LMSVP DHVIC PCRDC HCIFQ ZIKZU PLCYY CEKFE LTKYC ARRZL LEJKM MIXLP LOLKU OYZKK PGYKZ LIDGM YTRER TEREU OICVG OAMVY UOKYC YMFIC BRXVL ATIZN AODRI LTFDY ZSFLP PE\"\"\""
   ]
  },
  {
   "cell_type": "code",
   "execution_count": 2,
   "metadata": {},
   "outputs": [],
   "source": [
    "from collections import Counter\n",
    "\n",
    "# Takes a string or list of items and counts the frequencies of those items\n",
    "# data: The list or string to analyse\n",
    "# max_values: The maximum number of values to display (set to None for no limit)\n",
    "# no_columns: The amount of columns to use in the output\n",
    "def frequency_analysis(data, max_values=30, no_columns=5):\n",
    "    frequencies = Counter()\n",
    "    for item in data:\n",
    "        frequencies[item] += 1\n",
    "    \n",
    "    total = sum(frequencies.values())\n",
    "    column = 1\n",
    "    for item, frequency in frequencies.most_common(max_values):\n",
    "        print(f\"{item}: {frequency:2} ({frequency / total:.2%})\", end=\" \" if column % no_columns else \"\\n\")\n",
    "        column += 1\n",
    "    print(\"\\n-----\")"
   ]
  },
  {
   "cell_type": "code",
   "execution_count": 6,
   "metadata": {},
   "outputs": [
    {
     "name": "stdout",
     "output_type": "stream",
     "text": [
      "R: 120 (6.39%) V: 118 (6.29%) K: 113 (6.02%) L: 111 (5.91%) Y: 110 (5.86%)\n",
      "F: 110 (5.86%) E: 105 (5.59%) T: 93 (4.95%) Z: 91 (4.85%) P: 91 (4.85%)\n",
      "C: 90 (4.79%) I: 87 (4.64%) A: 76 (4.05%) U: 61 (3.25%) J: 60 (3.20%)\n",
      "M: 58 (3.09%) S: 51 (2.72%) H: 48 (2.56%) D: 45 (2.40%) W: 45 (2.40%)\n",
      "N: 44 (2.34%) O: 43 (2.29%) G: 43 (2.29%) B: 31 (1.65%) Q: 17 (0.91%)\n",
      "X: 16 (0.85%) \n",
      "-----\n"
     ]
    }
   ],
   "source": [
    "squished = part_a_text.replace(\" \", \"\")\n",
    "frequency_analysis(squished)"
   ]
  },
  {
   "cell_type": "code",
   "execution_count": 7,
   "metadata": {},
   "outputs": [],
   "source": [
    "# Tools to help decode Vigenere ciphers\n",
    "\n",
    "\n",
    "# A function that searches for multiple ocurrences of letters of the specified size and prints out the most common ones\n",
    "def pattern_finder(text, size):\n",
    "    patterns = Counter()\n",
    "    for index in range(len(text)):\n",
    "        patterns[text[index:index+size]] += 1\n",
    "\n",
    "    column = 0\n",
    "    for item, count in patterns.most_common(30):\n",
    "        print(f\"{item}: {count:2}\", end=\" \")\n",
    "        column += 1\n",
    "        if column % 5 == 0:\n",
    "            print()\n",
    "\n",
    "\n",
    "# A function that searches the given text for a word and figures out where it would line up with a key of a given size\n",
    "def get_alignment(text, word, key_size):\n",
    "    print(f\"{word}/{key_size}\", end=\" \")\n",
    "    alignments = []\n",
    "    position = -1\n",
    "    while True:\n",
    "        position = text.find(word, position+1)\n",
    "        if position >= 0:\n",
    "            alignment = position % key_size\n",
    "            print(f\"{position} ({alignment})\", end=\" \")\n",
    "            alignments.append(alignment)\n",
    "        else:\n",
    "            break\n",
    "    if alignments.count(alignments[0]) == len(alignments):\n",
    "        print(\"All the same!\", end=\"\")\n",
    "    print()\n",
    "\n",
    "\n",
    "# A function to reverse search for a key that would convert the given word to an encoded word\n",
    "def lookup_key(word, encoded_word):\n",
    "    key = \"\"\n",
    "    for letter, encoded_letter in zip(word, encoded_word):\n",
    "        diff = (ord(encoded_letter) - ord(letter)) % 26\n",
    "        key += chr(diff + ord('A'))\n",
    "    print(key)"
   ]
  },
  {
   "cell_type": "code",
   "execution_count": 8,
   "metadata": {},
   "outputs": [
    {
     "name": "stdout",
     "output_type": "stream",
     "text": [
      "TYV:  9 KYC:  9 KFL:  7 ROE:  7 AHV:  6 \n",
      "YVP:  5 PNX:  5 TYR:  5 YRR:  5 TFK:  5 \n",
      "IEV:  4 VYU:  4 YUD:  4 VUK:  4 KYY:  4 \n",
      "HLC:  4 EKF:  4 RTL:  4 GZT:  4 ZTY:  4 \n",
      "MYT:  4 YCY:  4 WMY:  4 FKY:  4 ECC:  3 \n",
      "OAK:  3 FLL:  3 KTY:  3 LTY:  3 TYU:  3 \n"
     ]
    }
   ],
   "source": [
    "# Assume Vigenere again\n",
    "pattern_finder(squished, 3)"
   ]
  },
  {
   "cell_type": "code",
   "execution_count": 10,
   "metadata": {},
   "outputs": [
    {
     "name": "stdout",
     "output_type": "stream",
     "text": [
      "TYV/3 26 (2) 96 (0) 251 (2) 371 (2) 491 (2) 671 (2) 1156 (1) 1301 (2) 1691 (2) \n",
      "KYC/3 567 (0) 847 (1) 917 (2) 967 (1) 1062 (0) 1122 (0) 1492 (1) 1782 (0) 1842 (0) \n",
      "KFL/3 63 (0) 328 (1) 688 (1) 1003 (1) 1208 (2) 1483 (1) 1568 (2) \n",
      "ROE/3 129 (0) 309 (0) 749 (2) 864 (0) 1089 (0) 1364 (2) 1644 (0) \n",
      "AHV/3 260 (2) 990 (0) 1110 (0) 1220 (2) 1320 (0) 1700 (2) \n",
      "YVP/3 97 (1) 257 (2) 462 (0) 1027 (1) 1157 (2) \n",
      "PNX/3 150 (0) 325 (1) 945 (0) 980 (2) 1725 (0) \n",
      "TYR/3 586 (1) 781 (1) 836 (2) 931 (1) 1411 (1) \n",
      "YRR/3 587 (2) 782 (2) 837 (0) 932 (2) 1412 (2) \n",
      "TFK/3 881 (2) 1051 (1) 1367 (2) 1566 (0) 1631 (2) \n",
      "TYV/4 26 (2) 96 (0) 251 (3) 371 (3) 491 (3) 671 (3) 1156 (0) 1301 (1) 1691 (3) \n",
      "KYC/4 567 (3) 847 (3) 917 (1) 967 (3) 1062 (2) 1122 (2) 1492 (0) 1782 (2) 1842 (2) \n",
      "KFL/4 63 (3) 328 (0) 688 (0) 1003 (3) 1208 (0) 1483 (3) 1568 (0) \n",
      "ROE/4 129 (1) 309 (1) 749 (1) 864 (0) 1089 (1) 1364 (0) 1644 (0) \n",
      "AHV/4 260 (0) 990 (2) 1110 (2) 1220 (0) 1320 (0) 1700 (0) \n",
      "YVP/4 97 (1) 257 (1) 462 (2) 1027 (3) 1157 (1) \n",
      "PNX/4 150 (2) 325 (1) 945 (1) 980 (0) 1725 (1) \n",
      "TYR/4 586 (2) 781 (1) 836 (0) 931 (3) 1411 (3) \n",
      "YRR/4 587 (3) 782 (2) 837 (1) 932 (0) 1412 (0) \n",
      "TFK/4 881 (1) 1051 (3) 1367 (3) 1566 (2) 1631 (3) \n",
      "TYV/5 26 (1) 96 (1) 251 (1) 371 (1) 491 (1) 671 (1) 1156 (1) 1301 (1) 1691 (1) All the same!\n",
      "KYC/5 567 (2) 847 (2) 917 (2) 967 (2) 1062 (2) 1122 (2) 1492 (2) 1782 (2) 1842 (2) All the same!\n",
      "KFL/5 63 (3) 328 (3) 688 (3) 1003 (3) 1208 (3) 1483 (3) 1568 (3) All the same!\n",
      "ROE/5 129 (4) 309 (4) 749 (4) 864 (4) 1089 (4) 1364 (4) 1644 (4) All the same!\n",
      "AHV/5 260 (0) 990 (0) 1110 (0) 1220 (0) 1320 (0) 1700 (0) All the same!\n",
      "YVP/5 97 (2) 257 (2) 462 (2) 1027 (2) 1157 (2) All the same!\n",
      "PNX/5 150 (0) 325 (0) 945 (0) 980 (0) 1725 (0) All the same!\n",
      "TYR/5 586 (1) 781 (1) 836 (1) 931 (1) 1411 (1) All the same!\n",
      "YRR/5 587 (2) 782 (2) 837 (2) 932 (2) 1412 (2) All the same!\n",
      "TFK/5 881 (1) 1051 (1) 1367 (2) 1566 (1) 1631 (1) \n",
      "TYV/6 26 (2) 96 (0) 251 (5) 371 (5) 491 (5) 671 (5) 1156 (4) 1301 (5) 1691 (5) \n",
      "KYC/6 567 (3) 847 (1) 917 (5) 967 (1) 1062 (0) 1122 (0) 1492 (4) 1782 (0) 1842 (0) \n",
      "KFL/6 63 (3) 328 (4) 688 (4) 1003 (1) 1208 (2) 1483 (1) 1568 (2) \n",
      "ROE/6 129 (3) 309 (3) 749 (5) 864 (0) 1089 (3) 1364 (2) 1644 (0) \n",
      "AHV/6 260 (2) 990 (0) 1110 (0) 1220 (2) 1320 (0) 1700 (2) \n",
      "YVP/6 97 (1) 257 (5) 462 (0) 1027 (1) 1157 (5) \n",
      "PNX/6 150 (0) 325 (1) 945 (3) 980 (2) 1725 (3) \n",
      "TYR/6 586 (4) 781 (1) 836 (2) 931 (1) 1411 (1) \n",
      "YRR/6 587 (5) 782 (2) 837 (3) 932 (2) 1412 (2) \n",
      "TFK/6 881 (5) 1051 (1) 1367 (5) 1566 (0) 1631 (5) \n",
      "TYV/7 26 (5) 96 (5) 251 (6) 371 (0) 491 (1) 671 (6) 1156 (1) 1301 (6) 1691 (4) \n",
      "KYC/7 567 (0) 847 (0) 917 (0) 967 (1) 1062 (5) 1122 (2) 1492 (1) 1782 (4) 1842 (1) \n",
      "KFL/7 63 (0) 328 (6) 688 (2) 1003 (2) 1208 (4) 1483 (6) 1568 (0) \n",
      "ROE/7 129 (3) 309 (1) 749 (0) 864 (3) 1089 (4) 1364 (6) 1644 (6) \n",
      "AHV/7 260 (1) 990 (3) 1110 (4) 1220 (2) 1320 (4) 1700 (6) \n",
      "YVP/7 97 (6) 257 (5) 462 (0) 1027 (5) 1157 (2) \n",
      "PNX/7 150 (3) 325 (3) 945 (0) 980 (0) 1725 (3) \n",
      "TYR/7 586 (5) 781 (4) 836 (3) 931 (0) 1411 (4) \n",
      "YRR/7 587 (6) 782 (5) 837 (4) 932 (1) 1412 (5) \n",
      "TFK/7 881 (6) 1051 (1) 1367 (2) 1566 (5) 1631 (0) \n",
      "TYV/8 26 (2) 96 (0) 251 (3) 371 (3) 491 (3) 671 (7) 1156 (4) 1301 (5) 1691 (3) \n",
      "KYC/8 567 (7) 847 (7) 917 (5) 967 (7) 1062 (6) 1122 (2) 1492 (4) 1782 (6) 1842 (2) \n",
      "KFL/8 63 (7) 328 (0) 688 (0) 1003 (3) 1208 (0) 1483 (3) 1568 (0) \n",
      "ROE/8 129 (1) 309 (5) 749 (5) 864 (0) 1089 (1) 1364 (4) 1644 (4) \n",
      "AHV/8 260 (4) 990 (6) 1110 (6) 1220 (4) 1320 (0) 1700 (4) \n",
      "YVP/8 97 (1) 257 (1) 462 (6) 1027 (3) 1157 (5) \n",
      "PNX/8 150 (6) 325 (5) 945 (1) 980 (4) 1725 (5) \n",
      "TYR/8 586 (2) 781 (5) 836 (4) 931 (3) 1411 (3) \n",
      "YRR/8 587 (3) 782 (6) 837 (5) 932 (4) 1412 (4) \n",
      "TFK/8 881 (1) 1051 (3) 1367 (7) 1566 (6) 1631 (7) \n",
      "TYV/9 26 (8) 96 (6) 251 (8) 371 (2) 491 (5) 671 (5) 1156 (4) 1301 (5) 1691 (8) \n",
      "KYC/9 567 (0) 847 (1) 917 (8) 967 (4) 1062 (0) 1122 (6) 1492 (7) 1782 (0) 1842 (6) \n",
      "KFL/9 63 (0) 328 (4) 688 (4) 1003 (4) 1208 (2) 1483 (7) 1568 (2) \n",
      "ROE/9 129 (3) 309 (3) 749 (2) 864 (0) 1089 (0) 1364 (5) 1644 (6) \n",
      "AHV/9 260 (8) 990 (0) 1110 (3) 1220 (5) 1320 (6) 1700 (8) \n",
      "YVP/9 97 (7) 257 (5) 462 (3) 1027 (1) 1157 (5) \n",
      "PNX/9 150 (6) 325 (1) 945 (0) 980 (8) 1725 (6) \n",
      "TYR/9 586 (1) 781 (7) 836 (8) 931 (4) 1411 (7) \n",
      "YRR/9 587 (2) 782 (8) 837 (0) 932 (5) 1412 (8) \n",
      "TFK/9 881 (8) 1051 (7) 1367 (8) 1566 (0) 1631 (2) \n"
     ]
    }
   ],
   "source": [
    "for n in range(3, 10):\n",
    "    for word in (\"TYV\", \"KYC\", \"KFL\", \"ROE\", \"AHV\", \"YVP\", \"PNX\", \"TYR\", \"YRR\", \"TFK\"):\n",
    "        get_alignment(squished, word, n)"
   ]
  },
  {
   "cell_type": "code",
   "execution_count": 11,
   "metadata": {},
   "outputs": [
    {
     "name": "stdout",
     "output_type": "stream",
     "text": [
      "TYV/5 26 (1) 96 (1) 251 (1) 371 (1) 491 (1) 671 (1) 1156 (1) 1301 (1) 1691 (1) All the same!\n",
      "ARR\n",
      "KYC/5 567 (2) 847 (2) 917 (2) 967 (2) 1062 (2) 1122 (2) 1492 (2) 1782 (2) 1842 (2) All the same!\n",
      "RRY\n",
      "KFL/5 63 (3) 328 (3) 688 (3) 1003 (3) 1208 (3) 1483 (3) 1568 (3) All the same!\n",
      "RYH\n",
      "ROE/5 129 (4) 309 (4) 749 (4) 864 (4) 1089 (4) 1364 (4) 1644 (4) All the same!\n",
      "YHA\n",
      "AHV/5 260 (0) 990 (0) 1110 (0) 1220 (0) 1320 (0) 1700 (0) All the same!\n",
      "HAR\n",
      "YVP/5 97 (2) 257 (2) 462 (2) 1027 (2) 1157 (2) All the same!\n",
      "FOL\n",
      "PNX/5 150 (0) 325 (0) 945 (0) 980 (0) 1725 (0) All the same!\n",
      "WGT\n",
      "TYR/5 586 (1) 781 (1) 836 (1) 931 (1) 1411 (1) All the same!\n",
      "ARN\n",
      "YRR/5 587 (2) 782 (2) 837 (2) 932 (2) 1412 (2) All the same!\n",
      "FKN\n"
     ]
    }
   ],
   "source": [
    "for word in (\"TYV\", \"KYC\", \"KFL\", \"ROE\", \"AHV\", \"YVP\", \"PNX\", \"TYR\", \"YRR\"):\n",
    "    get_alignment(squished, word, 5)\n",
    "    lookup_key(\"THE\", word)"
   ]
  },
  {
   "cell_type": "code",
   "execution_count": null,
   "metadata": {},
   "outputs": [],
   "source": [
    "# .arr.\n",
    "# ..rry\n",
    "# h..ry\n",
    "# .....\n",
    "# .....\n",
    "# .....\n",
    "# .....\n",
    "# .....\n",
    "# ....."
   ]
  },
  {
   "cell_type": "code",
   "execution_count": 12,
   "metadata": {},
   "outputs": [],
   "source": [
    "# A method to decode/encode a Vigenere cipher.  Case and punctuation are preserved.\n",
    "# text: The text to encode\n",
    "# key: The key to use\n",
    "# encode: If set to True, will encode the given text instead of decoding it\n",
    "def vigenere(text, key, encode=False):\n",
    "    shifts = [ord(letter.upper()) - ord(\"A\") for letter in key]\n",
    "    key_length = len(key)\n",
    "    key_index = 0\n",
    "    for letter in text:\n",
    "        letter_val = ord(letter)\n",
    "        if letter.isupper():\n",
    "            offset = ord(\"A\")\n",
    "        elif letter.islower():\n",
    "            offset = ord(\"a\")\n",
    "        else:\n",
    "            print(letter, end=\"\")\n",
    "            continue\n",
    "\n",
    "        if encode:\n",
    "            shift = shifts[key_index]\n",
    "        else:\n",
    "            shift = -shifts[key_index]\n",
    "\n",
    "        print(chr((((letter_val - offset) + shift) % 26) + offset), end=\"\")\n",
    "        key_index = (key_index + 1) % key_length\n",
    "    print()"
   ]
  },
  {
   "cell_type": "code",
   "execution_count": 13,
   "metadata": {},
   "outputs": [
    {
     "name": "stdout",
     "output_type": "stream",
     "text": [
      "WELLTHATWASASURPRISEIFOUNDTHEATTACHEDLETTERONMYDOORMATINACOPYOFTHELOCALMAGAZINEITWASCLEVERREALLYTHEREISNOWAYTOTRACKBACKTOHOWITGOTTHEREANDNOPOINTINWASTINGTIMEORRESOURCESTRYINGTOFINDOUTINANYCASEITWASCLEARTHATTRINITYSENTITANDEQUALLYCLEARWHATSHEWANTEDEVENTHECIPHERTHEYHAVEUSEDISAMESSAGETOMEITISDOUBLEENCRYPTEDWITHTHESECONDSTAGEUSINGTHESAMEPOLYBIUSGRIDIUSEDFORMYLASTDIARYENTRYTHEYARETELLINGMETHATIHAVENOWHERETOHIDEONCEISTRIPPEDTHATOFFIWASLEFTWITHASTANDARDBUTTRICKYCIPHERTOBREAKFORTUNATELYILEARNEDTHEDARKARTSOFFREQUENCYANALYSISANDCRIBBINGFROMHARRYSOITDIDNTTAKELONGTOCRACKITTHESECONDSURPRISEISTHATIDONTKNOWWHATTODONORMALLYANYUNSOLICITEDAPPROACHLIKETHISWOULDBEINSTANTLYREPORTEDTOTHELAMPLIGHTERSSOTHEYCOULDINVESTIGATEBUTASTRINITYPOINTSOUTIHADALREADYCONCEALEDTHELASTINTERCEPTFROMHARRYWORRIEDTHATITMIGHTDAMAGEHISTRUSTINMEITWILLNOTLOOKGOODIFHEFINDSTHATOUTFROMTHEMBUTIFITELLHIMTHENIWILLALSOHAVETOTELLHIMABOUTTHISDIRECTAPPEALTOJOINTHEMIDONTTHINKTHATWILLMAKETHINGSANYBETTERBETWEENUSTHEREISSOMETHINGELSETOOTHEFOUNDERSOFTHECONSPIRACYAREPERSONALHEROESOFMINEANDICANTBEARTOTHINKTHATTHEYMIGHTHAVEBEENWORKINGFORTHEDARKSIDEIFITISTRUETHENIWOULDRATHERFINDOUTFORMYSELFTHANLEAVEITTOOTHERSINBOSSISUPPOSEICOULDTELLALLANDOFFERTOINFILTRATETHEAGENCYBUTTHEHISTORYOFDOUBLEAGENTSISNOTAHAPPYONEITISHARDTOREALLYTRUSTSOMEONEWHOHASWORKEDFORTHEOPPOSITIONEVENIFTHEYDOITUNDERCOVERTOOMANYHAVEBEENCORRUPTEDBYTHECOMPROMISESREQUIREDANDIAMNOTSUREIAMCUTOUTFORTHATSORTOFWORKIDONTTHINKHARRYWOULDINSISTBUTIAMCERTAINSOMEBODYINBOSSWOULDTHETALKOFTHEPANDEMICANDCOPWILLBEAREDFLAGANDSOMEONESOMEWHEREWILLBEDESPERATETOBREAKINTOTHECONSPIRACYDESPERATEENOUGHTOMAKEMEANOFFERICANTREFUSEIWILLHAVETOTAKETHISFURTHERBUTBEFOREIAGREETOMEETTRINITYINEEDTOKNOWMORETHENAMEOFTHESOUTERPOINTLIGHTHOUSERINGSABELLBUTICANTREMEMBERWHEREICAMEACROSSITIWILLHAVETOGETTHETRAINEESTOFIGUREOUTWHYITMIGHTBEIMPORTANTMEANWHILEIHAVEANOTHERMOREURGENTTRIPTOMAKETOMASSOURIE\n"
     ]
    }
   ],
   "source": [
    "vigenere(squished, \"harry\")"
   ]
  },
  {
   "cell_type": "markdown",
   "metadata": {},
   "source": [
    "### Edited for clarity\n",
    "Well, that was a surprise! I found the attached letter on my doormat in a copy of the local magazine. It was clever really - there is no way to track back to how it got there and no point in wasting time or resources trying to find out in any case.<br/>\n",
    "It was clear that Trinity sent it and equally clear what she wanted. Even the cipher they have used is a message to me.<br/>\n",
    "It is double encrypted with the second stage using the same polybius grid I used for my last diary entry.<br/>\n",
    "They are telling me that I have nowhere to hide. Once I stripped that off, I was left with a standard but tricky cipher to break. Fortunately, I learned the dark arts of frequency analysis and cribbing from Harry, so it didn't take long to crack it. The second surprise is that I don't know what to do. Normally, any unsolicited approach like this would be instantly reported to the lamplighters, so they could investigate, but as Trinity points out, I had already concealed the last intercept from Harry, worried that it might damage his trust in me.<br/>\n",
    "It will not look good if he finds that out from them, but if I tell him, then I will also have to tell him about this direct appeal to join them.<br/>\n",
    "I don't think that will make things any better between us. There is something else too: the founders of the conspiracy are personal heroes of mine and I can't bear to think that they might have been working for the dark side.<br/>\n",
    "If it is true, then I would rather find out for myself than leave it to others in BOSS. I suppose I could tell all and offer to infiltrate the agency, but the history of double agents is not a happy one. It is hard to really trust someone who has worked for the opposition, even if they do it under cover, too many have been corrupted by the compromises required and I am not sure I am cut out for that sort of work.<br/>\n",
    "I don't think Harry would insist, but I am certain somebody in BOSS would. The talk of the pandemic and COP will be a red flag and someone somewhere will be desperate to break into the conspiracy. Desperate enough to make me an offer I can't refuse.<br/>\n",
    "I will have to take this further, but before I agree to meet Trinity, I need to know more. The name of the Souter Point lighthouse rings a bell, but I can't remember where I came across it.<br/>\n",
    "I will have to get the trainees to figure out why it might be important. Meanwhile, I have another more urgent trip to make to Massourie.\n"
   ]
  },
  {
   "cell_type": "code",
   "execution_count": 14,
   "metadata": {},
   "outputs": [],
   "source": [
    "# Part B - \"Come on over to the dark side?\"\n",
    "part_b_text = \"\"\"41112 11433 45244 45344 15341 33355 44323 24315 35353 52555 45454 55524 44244 33315 34414 45151 35551 11153 45454 32453 15354 55535 45345 13441 24441 31135 15335 11324 15412 41122 35411 15322 22434 14524 35552 31243 32245 13515 31443 13245 45453 42335 21153 41415 35153 51153 35531 51434 15331 51515 22353 54151 15342 21543 33341 22453 34151 43515 35114 31334 21231 43344 35241 14153 35111 52144 15435 53523 55431 52311 22451 42434 55353 51543 35213 42443 14133 53435 45244 51135 24443 21535 45454 45335 34112 43234 45512 32444 35235 32353 14244 32421 24343 41155 43341 51114 43441 32334 35441 13221 41551 34344 23353 53415 55245 13514 11332 24323 15152 43111 24341 41524 15451 51155 23111 25151 14243 54314 43512 42315 55551 41515 15433 41311 43351 22333 51153 51455 31354 52443 51455 34355 44112 44513 51123 11513 52242 42335 34345 15132 35211 15121 44153 31324 35141 51532 44111 33445 11151 24345 55155 31444 35351 12313 24322 44335 35551 23232 51411 11151 34411 43414 33224 52134 34351 52145 34215 51515 51354 51535 15231 14511 22112 45135 53513 53515 33444 31534 24153 54435 51524 33445 13153 25141 44514 51551 41145 31251 43152 43532 11134 32445 51234 32444 24352 44545 34452 31123 55324 34544 45142 33215 24554 43553 35151 53212 53231 52211 45351 42444 55111 41411 11454 51243 11231 42435 53534 34543 15234 52335 33431 53224 35341 54444 24411 54532 45434 51124 11231 35514 22321 24344 34354 33111 21453 53445 43143 54332 11113 53544 45111 12345 45455 12435 34241 44515 12434 31235 15235 33424 13354 31411 15231 55545 15413 24534 34355 51232 45352 33234 24244 34515 32153 54423 45341 52134 15323 51544 35153 51344 35515 13231 52234 45514 43453 44531 11343 43415 13433 53523 12431 55143 43245 42315 45253 51535 24353 51311 12354 33515 21353 31545 51351 51245 55243 54515 34443 54515 32511 55521 15342 41544 53454 35135 43245 35144 15455 34351 13435 33145 11151 14545 34154 34511 43134 35115 44134 41534 43331 11144 51113 53545 15144 41412 51351 51123 11212 23534 52344 51123 35155 11514 43151 14315 51351 51151 14454 55323 35151 11545 12235 23534 15454 32245 43151 41445 11352 24345 15355 15244 45243 51432 15452 43521 11111 12332 15352 41111 15151 31115 33355 51223 44355 55545 11232 44323 11134 54535 13241 43515 43322 45545 45152 34534 33343 31344 51152 31413 51231 41135 35432 32313 15513 43145 15454 52355 23511 54335 23243 54432 15223 41524 24153 54115 11354 32411 15552 14532 14241 52211 24232 24524 51342 31534 32352 24411 34233 45215 15414 53455 35452 44111 55321 42333 23132 13335 15411 14145 44515 54451 55345 51532 24431 14424 34112 23532 32222 32244 55154 55144 44123 33431 15344 13535 43353 51443 45141 42245 43515 11545 15451 35124 35353 32143 11432 42355 35443 24411 23532 44441 31153 43415 41245 24544 32512 43245 35132 31111 34512 44341 24133 21513 24345 23515 24451 42311 45345 11315 24324 33441 34513 51524 24442 44424 34323 52413 15154 35315 15245 13245 24451 14553 33445 13553 12142 44315 34551 33443 32452 35151 11111 55512 55321 13224 24531 51524 23355 51545 15514 52343 44434 52451 43151 33551 32453 52444 45521 54122 15455 13423 15223 55343 24133 21524 53232 41111 43451 12334 23513 54432 15112 44345 34514 11534 15323 54315 35153 23551 24221 51135 35553 41543 35345 13535 55124 34545 35342 21543 11155 14513 12353 23435 23235 54535 34452 33543 44224 34543 32454 54534 34354 51543 14413 44411 53153 41153 21243 55545 25351 14544 14213 45143 15155 51415 35131 51552 32342 23343 32543 43235 21114 14514 14124 54445 45445 14523 34222 31311 11154 33415 21531 22111 33131 11145 35153 55532 44453 41535 45432 24353 22454 55124 35152 41152 23244 53245 35435 14513 22555 13212 11114 15251 45143 51445 44155 54133 23351 52434 44433 41544 45221 14435 24452 32424 44341 52324 45243 14312 15223 14534 15451 52314 51244 51445 15241 11532 35234 12443 35452 44515 34114 42335 45454 14513 34314 54451 45241 14353 35451 45121 45154 55351 52452 41435 14115 14511 34233 12145 15143 25132 45432 41135 35153 34445 14155 11115 12451 12335 55352 44412 23132 44323 45355 52453 15115 31451 15144 52345 51244 41343 15113 24322 32434 45315 32341 55145 15154 13444 53242 41545 22115 21123 23345 53411 31351 15115 44231 53422 24455 51512 35151 34345 24453 21544 24334 31511 24115 24345 34554 51124 15351 11114 15451 14451 55341 21134 45343 44323 15553 12124 11431 53513 23322 42153 45441 41515 55454 54535 43313 23324 45522 41122 15212 13523 35354 52334 45433 51415 15111 12423 15214 52452 35555 145\"\"\""
   ]
  },
  {
   "cell_type": "code",
   "execution_count": 15,
   "metadata": {},
   "outputs": [
    {
     "name": "stdout",
     "output_type": "stream",
     "text": [
      "DABPMXQSOSURKMYSHHNUWWWVYXXXYQSQNMURDSEEWYAAOXXNQOUWXYWXRERDQSKAWUMEKQUDQAGWDAOGGNDXQWYLFNHQEWUCSCHXXXRLWBURPUWUWAOWOUPRUMUUUGWWDEURGUNMRFQORUPWUWANKRBLPMSWQADOWAUBSUNYWLYNULAGXPQRYWWUNWBRQNPKWRWXQXAWQSHUWXXSOWRAQHRXELQSWLOLOPQNQBQRRAYNRUAPNSKLRWSAHBDYKNSLWWRUYQEWPAMGNLUUQCAQRPUQUXUAYLAFEEPQWNPNEQLUYYPUUUNRKANWFLMEUWPYCWXQNEXONYSAQXKEFCUKJQQLWRREEHWBAEBSUMKQWPUUHSAKRXAUFNXYUOPSWWALKQHQNWWYFHHEDAAERDPRPMGXBRRWUBXRBYUUEWXUWULAXAGAQEWOEWWUMSNURQUWSWEJNRXKUHEDSEXUEDPOFENUQWHAKNQXELNQSQWQXXRXLALYHNXSXPLHUQYSWOWUUHFOLUGAXWPQSYAPPAAXXFNALPQWOONXNULXLWMNUHQWRUSSQDUXHXNXAQALKYPGHFNSRWNCABXWRXNPWNHAAWWSXAALXXXEQWRQPXUFNNFWULORQKWNPAULUYXUDHXRRWYFHXWLHRQQNXUHUWSLXRUBRUHWUSWUWKSWEEHCJLSYPNXRXCARRRUKNWWLFNUENNQTLUXVWUWQWWKAFWNWUBWMUXEWUFXYQWXURSWXUHEUYBURQUSOXNEWNQOESUXONEKNOCXAUAXXRUNXANKNEUSKSURNMAASEAWWXUPSPFEWUALABGWRJRXALWUEUPNUANUEWUAEPXXOLWUAUXFLJWRUXNGXNUPPXAWGNXUWEJSXQWPHUXQWBAAALHUWQAAUUKAUMWYFLSWYYXALQNLAKXXWKQPWUNHQYXXULXRMRMKSEULPKELPAWWNLLKUERCXUXXLYLEUNWLQWSHUGRUQQUWDUAWNQAUYBXHPQUGAQLGXQERLURHWGSARLRJUUDXRYWXQDAYHPLMLKBMWUDADXSEYSEYRYUHQNASQRAGWHHGLGSYUXESSFMRCURDWWNWWPNXPPGXNEEUXUXKEQWWMBNANQLYWSHSALOQSDCURRUDQJXSHEQHXWKLAAREQNDQKHUKQRJWUQXPLAXREKUQHNRDREWUQQSQSQRHWQKUUNOUUQEHXQXAXOMSEWOFPQNURYKRNHXLEEAAUYFYHAHQQOUUQLWYUXUEXLNSNXQENUKWEHXWQSXJUDGUXERLUGWONQKHUQOLQAANXALRLEWSHUAQNXREDURUHWNUWUHWEQGUAWWYRUNWREWWYFNXXWRGUNAUEXKFWHRWLLYXWRXLWNSGNXNHXXXRRWXUNPDRSAOURAOBQWYXVWAXSPBRENUUYPUWKUUJHRGMNHTRHWBADXPPFXSXXSEXLRGLKAAUNRUBOFBAMKAAXWUWYHSXRUWXNGNOGXXEQWUQAJLQXHXWNEXKGYEHFAADJEXPWPXSUYDMLWUQRSNRUSXGASWQXLQQSRULQXQCNFUGCXRUXULPEQXPXUQAUHWLDQNWXQXURASLWXXDXKRCXSEXQANOWXPEBXUXOEJXQPWPAEXARLCBXUPHEHXNQAWWUMSXPUEAUFXALWYWQSFLKQNLXWYQOUAOPEUPXLXEQSKNUAHNGHNSOUHRUEXUUDRSOQQUXGAJALLRYRACWAEUSLURGQXYUFWUKNXQXHUSQMNUAQAJNXRYXAQUWAAPUXASEYRFARXRRNLUYCBQANUWKLHQBOXSPUUYXXXWNCHMQXJQAGUBBWLWWXLRXNWPUUAAQLUBXQJWYEX\n"
     ]
    }
   ],
   "source": [
    "# Let's use the method from 7A to strip the first layer...\n",
    "import string\n",
    "\n",
    "squished = part_b_text.replace(\" \", \"\")\n",
    "letters = \"\"\n",
    "for n in range(0, len(squished), 2):\n",
    "    x = int(squished[n])-1\n",
    "    y = int(squished[n+1])-1\n",
    "    letters += string.ascii_uppercase[x+(y*5)]\n",
    "    \n",
    "print(letters)"
   ]
  },
  {
   "cell_type": "code",
   "execution_count": 23,
   "metadata": {},
   "outputs": [],
   "source": [
    "# A simple translation method.\n",
    "# text: The text to translate, in upper case\n",
    "# key: A substitution alphabet, usually in lower case so that the translated characters show up\n",
    "def decode(text, key):\n",
    "    table = str.maketrans(string.ascii_uppercase, key)\n",
    "    decoded = text.upper().translate(table)\n",
    "    print(decoded)\n",
    "    return decoded"
   ]
  },
  {
   "cell_type": "code",
   "execution_count": 24,
   "metadata": {},
   "outputs": [
    {
     "name": "stdout",
     "output_type": "stream",
     "text": [
      "pafdmtiswsencmysllreooojytttyisirmenpsuuoyaawttriweotyotnunpiscaoemuciepiagopawggrptioyhbrliuoekskltttnhofendeoeoawowednemeeegoopuengermnbiwnedoeoarcnfhdmsoiapwoaefseryohyrehagtdinyooerofnirdconotitaoisleottswonailntuhisohwhwdirifinnayrneadrschnosalfpycrshooneyiuodamgrheeikaindeieteayhabuudiordruiheyydeeerncarobhmueodykotirutwrysaitcubkecviihonnuulofaufsemciodeelsacntaebrtyewdsooahcilirooybllupaaunpdndmgtfnnoeftnfyeeuoteoehatagaiuowuooemsrenieosouvrntcelupsuteupdwbureiolacrituhrisioittnthahylrtstdhleiysowoeelbwhegatodisyaddaattbrahdiowwrtrehthomrelionessipetltrtaiahcydglbrsnorkaftontrdorlaaoostaahtttuionidtebrrboehwnicordaeheytepltnnoybltohlniirteleoshtnefneloesoeocsouulkvhsydrtntkannnecroohbreurrixhetjoeoioocaboroefometuoebtyiotensotelueyfenieswtruoriwusetwrucrwktaeattnertarcruescsenrmaasuaootedsdbuoeahafgonvntahoeuedreareuoeaudttwhoeaetbhvonetrgtreddtaogrteouvstiodletiofaaahleoiaaeecaemoybhsoyytahirhacttocidoerliyttehtnmnmcsuehdcuhdaoorhhceunktetthyhuerohioslegneiieopeaoriaeyftldiegaihgtiunhenlogsanhnveeptnyotipayldhmhcfmoepaptsuysuynyelirasinagollghgsyetussbmnkenpooroodrtddgtruuetetcuioomfrarihyoslsahwispkennepivtsluiltochaanuirpiclecinvoeitdhatnuceilrnpnuoeiisisinloiceerweeiultitatwmsuowbdirenycnrlthuuaaeybylaliiweeihoyeteuthrsrtiurecoultoistvepgetunhegowricleiwhiaartahnhuosleairtnupeneloreoelouigeaooyneronuooybrttongeraeutcbolnohhytonthorsgrtrltttnnoterdpnsawenawfioytjoatsdfnureeydeoceevlngmrlxnlofaptddbtsttsuthnghcaaernefwbfamcaatoeoylstneotrgrwgttuioeiavhitltorutcgyulbaapvutdodtseypmhoeinsrnestgasoithiisnehitikrbegktnetehduitdteiaelohpirotitenashottptcnktsutiarwotduftetwuvtidodautanhkftedlultriaooemstdeuaebtahoyoisbhcirhtoyiweawduedthtuiscrealrglrswelneuteepnswiietgavahhnynakoaueshengityeboecrtitlesimreaiavrtnytaieoaadetasuynbantnnrheykfiareochlifwtsdeeytttorklmitviageffohoothntrodeeaaiheftivoyut\n"
     ]
    }
   ],
   "source": [
    "decoded = decode(letters, \"afkpubglqvchmrwdinsxejotyz\")"
   ]
  },
  {
   "cell_type": "code",
   "execution_count": 25,
   "metadata": {},
   "outputs": [
    {
     "name": "stdout",
     "output_type": "stream",
     "text": [
      "e: 208 (11.34%) t: 186 (10.14%) o: 179 (9.76%) i: 134 (7.31%) a: 131 (7.14%)\n",
      "n: 115 (6.27%) r: 114 (6.22%) h: 92 (5.02%) u: 91 (4.96%) s: 84 (4.58%)\n",
      "l: 70 (3.82%) d: 66 (3.60%) y: 63 (3.44%) c: 49 (2.67%) w: 43 (2.34%)\n",
      "g: 38 (2.07%) p: 34 (1.85%) f: 33 (1.80%) b: 33 (1.80%) m: 29 (1.58%)\n",
      "k: 19 (1.04%) v: 18 (0.98%) j:  3 (0.16%) x:  2 (0.11%) \n",
      "-----\n"
     ]
    }
   ],
   "source": [
    "# Looks transposition-y\n",
    "frequency_analysis(decoded)"
   ]
  },
  {
   "cell_type": "code",
   "execution_count": 26,
   "metadata": {},
   "outputs": [
    {
     "name": "stdout",
     "output_type": "stream",
     "text": [
      "2 7 14 131 262 "
     ]
    }
   ],
   "source": [
    "message_length = len(decoded)\n",
    "for n in range(2, message_length//2):\n",
    "    if message_length % n == 0:\n",
    "        print(n, end=\" \")"
   ]
  },
  {
   "cell_type": "code",
   "execution_count": 28,
   "metadata": {},
   "outputs": [
    {
     "name": "stdout",
     "output_type": "stream",
     "text": [
      "puscsei\n",
      "aoyrult\n",
      "fdauyoe\n",
      "dadenrn\n",
      "mmdsyea\n",
      "tgaceos\n",
      "irasleh\n",
      "shteilo\n",
      "wetnrot\n",
      "sebraut\n",
      "eirmsip\n",
      "nkaaigt\n",
      "cahanec\n",
      "midsaan\n",
      "yniugok\n",
      "sdoaoot\n",
      "lewolys\n",
      "liwolnu\n",
      "rertget\n",
      "ettehri\n",
      "oerdgoa\n",
      "oaessnr\n",
      "oyhdyuw\n",
      "jhtbeoo\n",
      "yahutot\n",
      "tboouyd\n",
      "tumesbu\n",
      "turasrf\n",
      "ydehbtt\n",
      "iilamte\n",
      "soifnot\n",
      "irogknw\n",
      "rdnoegu\n",
      "mrennev\n",
      "eusvprt\n",
      "nisnoai\n",
      "phitoed\n",
      "separuo\n",
      "uyehotd\n",
      "uytooca\n",
      "odledbu\n",
      "yeturot\n",
      "aeretla\n",
      "aetddnn\n",
      "wrardoh\n",
      "tnieghk\n",
      "tcaathf\n",
      "rahrryt\n",
      "irceute\n",
      "woyuuod\n",
      "ebdoenl\n",
      "ohgettu\n",
      "tmlaehl\n",
      "yubutot\n",
      "oerdcrr\n",
      "tostusi\n",
      "ndntiga\n",
      "uyoworo\n",
      "nkrhoto\n",
      "pokomre\n",
      "itaeflm\n",
      "sifarts\n",
      "crteatt\n",
      "auotrtd\n",
      "otnbine\n",
      "ewthhnu\n",
      "mrrvyoa\n",
      "uydoote\n",
      "csonseb\n",
      "iarelrt\n",
      "eiltsda\n",
      "ptaraph\n",
      "icaghno\n",
      "auotwsy\n",
      "gboriao\n",
      "okseswi\n",
      "petdpes\n",
      "acadknb\n",
      "wvateah\n",
      "gihanwc\n",
      "gitonfi\n",
      "rhtgeir\n",
      "potrpoh\n",
      "tnutiyt\n",
      "inievto\n",
      "ouootjy\n",
      "yunusoi\n",
      "hlivlaw\n",
      "bodsute\n",
      "rfttisa\n",
      "laeildw\n",
      "iubotfd\n",
      "ufrdonu\n",
      "osrlcue\n",
      "eebehrd\n",
      "kmotaet\n",
      "sceiaeh\n",
      "kihonyt\n",
      "lowfudu\n",
      "tdnaiei\n",
      "teiaros\n",
      "tecapcc\n",
      "nlohier\n",
      "hsrlcee\n",
      "oadelva\n",
      "fcaoell\n",
      "eneicnr\n",
      "nthaigg\n",
      "daeanml\n",
      "eeyevrr\n",
      "obteols\n",
      "erecexw\n",
      "otpaine\n",
      "ayletll\n",
      "wetmdon\n",
      "ownohfe\n",
      "wdnyaau\n",
      "esobtpt\n",
      "doyhnte\n",
      "nobsude\n",
      "ealocdp\n",
      "mhtyebn\n",
      "ecoyits\n",
      "eihtlsw\n",
      "ellarti\n",
      "ginhnti\n",
      "oriipse\n",
      "ooirnut\n",
      "porhutg\n",
      "uytaoha\n",
      "ebecenv\n",
      "nlltiga\n",
      "gletihh\n",
      "euoosch\n",
      "rpscian\n",
      "mahisay\n",
      "natdien\n",
      "bunonra\n",
      "ineelnk\n",
      "wpfroeo\n",
      "ndnlifa\n",
      "eneicwu\n",
      "ddlyebe\n",
      "omotefs\n",
      "egetrah\n",
      "otsewme\n",
      "afohecn\n",
      "rneteag\n",
      "cnoniai\n",
      "nocmutt\n",
      "fesnloy\n",
      "hfomtee\n",
      "dtuciob\n",
      "mnustyo\n",
      "sfluale\n",
      "oyketsc\n",
      "ievhwtr\n",
      "aehdmnt\n",
      "puscsei\n",
      "woyuuot\n",
      "otdhotl\n",
      "aerdwre\n",
      "eotabgs\n",
      "fenodri\n",
      "shtoiwm\n",
      "eakrrgr\n",
      "rtahete\n",
      "yanhnta\n",
      "ogncyui\n",
      "hanecia\n",
      "yieunov\n",
      "rucnrer\n",
      "eorklit\n",
      "hwottan\n",
      "auoehvy\n",
      "gohtuht\n",
      "tobtuia\n",
      "derhati\n",
      "imeyale\n",
      "nsuheto\n",
      "yrruyoa\n",
      "oerebra\n",
      "oniryud\n",
      "eixolte\n",
      "rehhact\n",
      "ooeilga\n",
      "fstoiys\n",
      "nojsiuu\n",
      "iuolwly\n",
      "rveeebn\n",
      "drogeab\n",
      "cniniaa\n",
      "otoehpn\n",
      "ncoiovt\n",
      "oeciyun\n",
      "tlaeetn\n",
      "iubotdr\n",
      "tpopeoh\n",
      "asreude\n",
      "ouoatty\n",
      "iteohsk\n",
      "sefrref\n",
      "luoisyi\n",
      "epmarpa\n",
      "odeetmr\n",
      "twtyihe\n",
      "tbufuoo\n",
      "suotrec\n",
      "wreleih\n",
      "oebdcnl\n",
      "nitiosi\n",
      "aoyeurf\n",
      "iliglnw\n",
      "laoatet\n",
      "nctioss\n",
      "trehitd\n",
      "uingsge\n",
      "htsttae\n",
      "iuoivsy\n",
      "shtueot\n",
      "orenpit\n",
      "hilhgtt\n",
      "wsueeho\n",
      "hientir\n",
      "woyluik\n",
      "difonsl\n",
      "iteghnm\n",
      "rtnseei\n",
      "iniaght\n",
      "ftenoiv\n",
      "ihshwti\n",
      "nawnria\n",
      "nhtvikg\n",
      "ayrecre\n",
      "yluelbf\n",
      "rropeef\n",
      "ntrtigo\n",
      "esinwkh\n",
      "atwyhto\n",
      "dduoino\n",
      "rhstaet\n",
      "sleiath\n",
      "cetpren\n",
      "hiwatht\n",
      "nyryadr\n",
      "osulhuo\n",
      "socdnid\n",
      "awrhhte\n",
      "lowmude\n",
      "fekhota\n",
      "petcsea\n",
      "ylaflii\n",
      "cbemeah\n",
      "rwaoaee\n",
      "shteilf\n",
      "hetprot\n",
      "ognathi\n",
      "oaepnpv\n",
      "ntrtuio\n",
      "eotspry\n",
      "ydaueou\n",
      "iiryntt\n"
     ]
    }
   ],
   "source": [
    "# Let's try arranging it in 14 columns...\n",
    "no_columns = 7\n",
    "column_height = message_length // no_columns\n",
    "for row in range(column_height):\n",
    "    for column in range(no_columns):\n",
    "        print(decoded[(column_height*column)+row], end=\"\")\n",
    "    print()"
   ]
  },
  {
   "cell_type": "code",
   "execution_count": 32,
   "metadata": {},
   "outputs": [
    {
     "name": "stdout",
     "output_type": "stream",
     "text": [
      "isuspectyoualreadyfoundandreadmymessagetocharliesothisletterwontbeasurpriseimtakingachanceandiamaskingyoutodosoaswellyouwillnotregretittherearegoodreasonswhyyoudothejobthatyoudobutyoumustbefrustratedbythelimitationsofworkingundergovernmentsupervisionandihopetopersuadeyouthatyoucoulddobetteryouaretalentedandhardworkingthefactthatharryrecruitedyouwouldbeenoughtotellmethatbutyourrecordisoutstandingtooyourworkonthekompromatfilesfirstattractedourattentionbutwhenharrymovedyoutobosscentralirealisedthatapproachingyouwastoobigarisksowesteppedbackandhavewatchingwaitingfortherightopportunitytoinviteyoutojoinusyouwillhavedoubtsatfirstwealldidbutifourfounderscouldbeheretomakethecaseithinkyouwouldfinditeasiertoacceptcarolineherscheladalovelaceflorencenightingaleandmaryeverestboolewereexceptionallytalentedwomenwhofoundawaytostepbeyondtheboundsplacedonthembysocietywhilestillretainingtheirpositionourgroupthatyouhavebeencallingthelighthouseconspiracyhasmaintainedanunbrokenlineofpowerandinfluencewieldedbysomeofthegreatestwomenofeachgenerationicantcountmyselfoneofthembutidocountmyselfasluckytoservewiththemandisuspectyouwouldtootherewardstobegainedfromthisworkaregreaterthananythingyoucanachieveinyourcurrentroleiknowthatyouhavethoughtaboutitireadtheemailyousentharryyouareboredinyourexiletothearchaeologistsifyoujoinusyouwillneverbeboredagainicannothopetoconvinceyouinaletterbutidohopetopersuadeyoutotakethisofferseriouslyiampreparedtomeetwithyoubutofcoursetherewillbeconditionsifyouarewillingtoatleastconsideritthenisuggestthatyouvisitthesouterpointlighthousewhereithinkyouwillfindsomethinginterestingihavetofinishwithawarningthinkverycarefullybeforereportingthisweknowthatyoudidnotsharethelastinterceptwithharryandyoushouldconsiderwhathewouldmakeofthatespeciallyifhebecameawareofthisletterhopingtohaveanopportunitytopersuadeyoutrinity\n"
     ]
    }
   ],
   "source": [
    "# Looks like it's from Trinity\n",
    "no_columns = 7\n",
    "column_height = message_length // no_columns\n",
    "untangled = \"\"\n",
    "for row in range(column_height):\n",
    "    for column in (6, 2, 1, 4, 0, 5, 3):\n",
    "        untangled += decoded[(column_height*column)+row]\n",
    "print(untangled)"
   ]
  },
  {
   "cell_type": "markdown",
   "metadata": {},
   "source": [
    "#### Edited for clarity\n",
    "I suspect you already found and read my message to Charlie, so this letter won't be a surprise. I'm taking a chance and I am asking you to do so as well. You will not regret it - there are good reasons why you do the job that you do, but you must be frustrated by the limitations of working under government supervision and I hope to persuade you that you could do better.<br/>\n",
    "You are talented and hard working. The fact that Harry recruited you would be enough to tell me that, but your record is outstanding too. Your work on the Kompromat files first attracted our attention, but when Harry moved you to BOSS central, I realised that approaching you was too big a risk, so we stepped back and have, watching, waiting for the right opportunity to invite you to join us.<br/>\n",
    "You will have doubts at first - we all did, but if our founders could be here to make the case, I think you would find it easier to accept.<br/>\n",
    "Caroline Herschel, Ada Lovelace, Florence Nightingale and Mary Everest-Boole were exceptionally talented women, who found a way to step beyond the bounds placed on them by society, while still retaining their position. Our group that you have been calling \"The Lighthouse Conspiracy\" has maintained an unbroken line of power and influence, wielded by some of the greatest women of each generation.<br/>\n",
    "I can't count myself one of them, but I do count myself as lucky to serve with them and I suspect you would too. The rewards to be gained from this work are greater than anything you can achieve in your current role. I know that you have thought about it - I read the email you sent Harry. You are bored in your exile to the Archaeologists.<br/>\n",
    "If you join us, you will never be bored again! I cannot hope to convince you in a letter, but I do hope to persuade you to take this offer seriously.<br/>\n",
    "I am prepared to meet with you, but of course there will be conditions. If you are willing to at least consider it, then I suggest that you visit the Souter Point Lighthouse, where I think you will find something interesting. I have to finish with a warning: Think very carefully before reporting this. We know that you did not share the last intercept with Harry and you should consider what he would make of that, especially if he became aware of this letter.<br/>\n",
    "Hoping to have an opportunity to persuade you,<br/>\n",
    "Trinity"
   ]
  },
  {
   "cell_type": "code",
   "execution_count": null,
   "metadata": {},
   "outputs": [],
   "source": []
  }
 ],
 "metadata": {
  "kernelspec": {
   "display_name": "Python 3 (ipykernel)",
   "language": "python",
   "name": "python3"
  },
  "language_info": {
   "codemirror_mode": {
    "name": "ipython",
    "version": 3
   },
   "file_extension": ".py",
   "mimetype": "text/x-python",
   "name": "python",
   "nbconvert_exporter": "python",
   "pygments_lexer": "ipython3",
   "version": "3.9.5"
  }
 },
 "nbformat": 4,
 "nbformat_minor": 4
}
