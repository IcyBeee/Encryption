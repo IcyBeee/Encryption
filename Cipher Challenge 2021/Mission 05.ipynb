{
 "cells": [
  {
   "cell_type": "markdown",
   "metadata": {},
   "source": [
    "# Cipher Challenge 2021\n",
    "### Mission 5\n",
    "\n",
    "Challenge link https://www.cipherchallenge.org/challenge/competition-challenge-5/"
   ]
  },
  {
   "cell_type": "code",
   "execution_count": 1,
   "metadata": {},
   "outputs": [],
   "source": [
    "# Part A - \"Derailed\"\n",
    "part_a_text = \"\"\"JNOCT HLTOB OIWHE LEWNV SROAA ETMHU UGTAU ASOYO TIBNB TDINN AFHIL STALN TEUAT EEYHA DMOEE TOHVV AIOOR ESWTO INDAA TAATI GIRKH OETAS ICAYN NGECA AURHC EIEDM TBLCK IEHWT NFPSA RBEST HELET NEHME IOUIS OOUTN ENTOE AARNY ENNBE OFGID NRCNE EPOMF TEOYE ODPGP OALCG AAHYS CNSAN ETNAN ELOTH ROASY UNEUI TAEIA ACUEE TFPRE ATFLA ALMID IADEE ETEWC URNUL HCMII ETISA ONNSA TSGON ERIRW RMFHU SHMGE EIGUL TROEL SITEC HTTIT ETSAT ISAWT IAAUC NYRCO RTGIL KSDFL HTEDI ETHYC REINE AHWRT MAENO HTYTE NSNEE HMICE EDORN HNISN AWSET OTECS GCRTN NCSTT EIENE SISWT OHTUL CANEC MTSIA AIIEH CRUCS SNOGS ESEAT VRLAH INOEO NHMAI DIHAE FCGTF EEASA EWAFU SUCSN AEAOW MLONH WEMSE LEXEH ETVNP IDAYT NMHWO LTFNO TNRWO BNAIF TDINC UTNEL TKKTA TNEEI RTAAA IEUWR TLEON ETTRT ADADE IICSD NRYTT NIIGE SATVH URPSD MROIO OIEIH NTHTU DTOUE EMELT EABIA GOECI UTNFO WMEOO DWSOA RATOF ROHTE ARDCE YAORB FIRBE HGALV ERASA HSIUL GNTIW ETRNE RGEHI FRETS SCKOM TBONU LFDIA HHSEF DHCEE YRGIT GAAEH VETAO ENYTS IEIEG ETDNT HTICI OMIHE NNBNF EIAIT OANEE OIHDI EAORN TLHGO EDSFO LGAIK IIHBI LIEAB HLROT STOTH IWEGE TOOWC AGAHR ANHRH IEIAU VIIEC EALII RDSOE HTTSO YELIS EETER MCNLN CKURT EEDHH ITDSL SONTI SSONH MIEES UIHWM IFUOH ORHNO YDETO OERON DEWGU RIAPO ELNOT TICCG EVFIU RLNCN SAAET WDCIR UAEUN DLENS IATRE NMNEH VOEOH PMIWS TPTES CMNTY EEIHL IXCWA ODEHE DPSEU AEERI UERNN AENUE TTCTU TDSCN TFVNC EMSWW ODXUO TTTKO TFMES LIIDE MNSDI TNAVT LODHT NMLOO GWTAL BHYII EHRCN DIDDO VTAHD ANACN CSAAL OUIHT OKHEO NSGDT SOSWH UPTSR EOUNG NWSHV ITEEY UITHV ALYNR THWTH TANCS DAEIG TBNZL IBTOS WTETR COROT MITEC ORAND ITDAM KOLEA NTDNA ERWRU WRSOA YSAAD EWGTE NVDTS UTYEF NTTMN ALOKE HHKOT AEAHE GUTAT EYNTI BETRL ABTDT SIEUP OGAEE IEPLS HBPEN OEITL CIEOR NFLAT SEIET LAGMN SNILA TETNW SBNWI LTILT ODIST THDCN RTTUU IIWRN TEGTO SWLIC ONGNH NYAOG SOBAL AOCGN HYRAT UTHOO IAEGD ALRHI RAIEO TETAO EAETJ RWSYL YUAIT EALFT LWTAA HRAVN ROHRS EVGEC OBICA ITRDO NIAES EHAEN GNTEE ERAUE EHOEL YTEOA OAIET ILBNI OADRI GTEYA ELNNI GDALN KNADT LETEW EENTE THPOY FCEER HOUOE EEOFT TUAAD MONIL ISTSH AAGNA ALUEI XUUNA HETDT VAKHI AGAON TNEND HEEOT PIAER RTERS TRNTR ETTCN EITPU KRSYE RIREE DEILH RISEO NTNEY GLDTL FSIAD OSFOH HIETI EAHRF YEIIE ETTFS AHTES SFSLR NEACO GHBTO RSEET EHINN NTUSW DHEEO HRIRS NDHTK LHACR ENHHL ANIYI RAS\"\"\""
   ]
  },
  {
   "cell_type": "code",
   "execution_count": 2,
   "metadata": {},
   "outputs": [],
   "source": [
    "from collections import Counter\n",
    "\n",
    "# Takes a string or list of items and counts the frequencies of those items\n",
    "# data: The list or string to analyse\n",
    "# max_values: The maximum number of values to display (set to None for no limit)\n",
    "# no_columns: The amount of columns to use in the output\n",
    "def frequency_analysis(data, max_values=30, no_columns=5):\n",
    "    frequencies = Counter()\n",
    "    for item in data:\n",
    "        frequencies[item] += 1\n",
    "    \n",
    "    total = sum(frequencies.values())\n",
    "    column = 1\n",
    "    for item, frequency in frequencies.most_common(max_values):\n",
    "        print(f\"{item}: {frequency:2} ({frequency / total:.2%})\", end=\" \" if column % no_columns else \"\\n\")\n",
    "        column += 1\n",
    "    print(\"\\n-----\")"
   ]
  },
  {
   "cell_type": "code",
   "execution_count": 3,
   "metadata": {},
   "outputs": [
    {
     "name": "stdout",
     "output_type": "stream",
     "text": [
      "E: 241 (12.80%) T: 202 (10.73%) A: 162 (8.60%) I: 152 (8.07%) N: 145 (7.70%)\n",
      "O: 133 (7.06%) H: 106 (5.63%) S: 101 (5.36%) R: 94 (4.99%) L: 74 (3.93%)\n",
      "D: 67 (3.56%) C: 61 (3.24%) U: 60 (3.19%) G: 48 (2.55%) W: 44 (2.34%)\n",
      "M: 36 (1.91%) Y: 35 (1.86%) F: 35 (1.86%) B: 25 (1.33%) V: 20 (1.06%)\n",
      "P: 18 (0.96%) K: 17 (0.90%) X:  4 (0.21%) J:  2 (0.11%) Z:  1 (0.05%)\n",
      "\n",
      "-----\n"
     ]
    }
   ],
   "source": [
    "squished = part_a_text.replace(\" \", \"\")\n",
    "frequency_analysis(squished)"
   ]
  },
  {
   "cell_type": "code",
   "execution_count": 4,
   "metadata": {},
   "outputs": [
    {
     "name": "stdout",
     "output_type": "stream",
     "text": [
      "7 269 "
     ]
    }
   ],
   "source": [
    "# That looks like the text is just rearranged (columnar substitution)\n",
    "# I'd assume that this is a letter to Jodie from Harry, but the first \"D\" seems a long way away from the beginning.\n",
    "message_length = len(squished)\n",
    "for n in range(2, message_length//2):\n",
    "    if message_length % n == 0:\n",
    "        print(n, end=\" \")"
   ]
  },
  {
   "cell_type": "code",
   "execution_count": 22,
   "metadata": {},
   "outputs": [
    {
     "name": "stdout",
     "output_type": "stream",
     "text": [
      "1883 235 3 8\n",
      "J N O C T H L T O B O I W H E L E W N V S R O A A E T M H U U G T A U A S O Y O T I B N B T D I N N A F H I L S T A L N T E U A T E E Y H A D M O E E T O H V V A I O O R E S W T O I N D A A T A A T I G I R K H O E T A S I C A Y N N G E C A A U R H C E I E D M T B L C K I E H W T N F P S A R B E S T H E L E T N E H M E I O U I S O O U T N E N T O E A A R N Y E N N B E O F G I D N R C N E E P O M F T E O Y E O D P G P O A L C G A A H Y S C N S A N E T N A N E L O T H \n",
      "ROASYUNEUITAEIAACUEETFPREATFLAALMIDIADEEETEWCURNULHCMIIETISAONNSATSGONERIRWRMFHUSHMGEEIGULTROELSITECHTTITETSATISAWTIAAUCNYRCORTGILKSDFLHTEDIETHYCREINEAHWRTMAENOHTYTENSNEEHMICEEDORNHNISNAWSETOTECSGCRTNNCSTTEIENESISWTOHTULCANECMTSIAAIIEH CRUCSSNOGSESEATVRLAHINOEONHMAIDIHAEFCGTFEEASAEWAFUSUCSNAEAOWMLONHWEMSELEXEHETVNPIDAYTNMHWOLTFNOTNRWOBNAIFTDINCUTNELTKKTATNEEIRTAAAIEUWRTLEONETTRTADADEIICSDNRYTTNIIGESATVHURPSDMROIOOIEIHNTHTUDTOUEEMELTEABIAGOECIUTNFOWMEOODWSOARATOFROHTE\n",
      "ARDCEYAORBFIRBEHGALVERASAHSIULGNTIWETRNERGEHIFRETSSCKOMTBONULFDIAHHSEFDHCEEYRGITGAAEHVETAOENYTSIEIEGETDNTHTICIOMIHENNBNFEIAITOANEEOIHDIEAORNTLHGOEDSFOLGAIKIIHBILIEABHLROTSTOTHIWEGETOOWCAGAHRANHRHIEIAUVIIECEALIIRDSOEHTTSOYELISEETERMCNLN CKURTEEDHHITDSLSONTISSONHMIEESUIHWMIFUOHORHNOYDETOOERONDEWGURIAPOELNOTTICCGEVFIURLNCNSAAETWDCIRUAEUNDLENSIATRENMNEHVOEOHPMIWSTPTESCMNTYEEIHLIXCWAODEHEDPSEUAEERIUERNNAENUETTCTUTDSCNTFVNCEMSWWODXUOTTTKOTFMESLIIDEMNSDITNAVTLODHTNMLOOGWTAL\n",
      "BHYIIEHRCNDIDDOVTAHDANACNCSAALOUIHTOKHEONSGDTSOSWHUPTSREOUNGNWSHVITEEYUITHVALYNRTHWTHTANCSDAEIGTBNZLIBTOSWTETRCOROTMITECORANDITDAMKOLEANTDNAERWRUWRSOAYSAADEWGTENVDTSUTYEFNTTMNALOKEHHKOTAEAHEGUTATEYNTIBETRLABTDTSIEUPOGAEEIEPLSHBPENOEITL CIEORNFLATSEIETLAGMNSNILATETNWSBNWILTILTODISTTHDCNRTTUUIIWRNTEGTOSWLICONGNHNYAOGSOBALAOCGNHYRATUTHOOIAEGDALRHIRAIEOTETAOEAETJRWSYLYUAITEALFTLWTAAHRAVNROHRSEVGECOBICAITRDONIAESEHAENGNTEEERAUEEHOELYTEOAOAIETILBNIOADRIGTEYAELNNIGDALNKNADT\n",
      "L E T E W E E N T E T H P O Y F C E E R H O U O E E E O F T T U A A D M O N I L I S T S H A A G N A A L U E I X U U N A H E T D T V A K H I A G A O N T N E N D H E E O T P I A E R R T E R S T R N T R E T T C N E I T P U K R S Y E R I R E E D E I L H R I S E O N T N E Y G L D T L F S I A D O S F O H H I E T I E A H R F Y E I I E E T T F S A H T E S S F S L R N E A C O G H B T O R S E E T E H I N N N T U S W D H E E O H R I R S N D H T K L H A C R E N H H L A N I Y I "
     ]
    }
   ],
   "source": [
    "# I guess that means there are seven columns.  \n",
    "# The title is \"derailed\", so this is probably a rail cipher. https://en.wikipedia.org/wiki/Rail_fence_cipher\n",
    "# Probably goes like this...\n",
    "# A.......I...\n",
    "# .B.....H.J..\n",
    "# ..C...G...K\n",
    "# ...D.F.....L\n",
    "# ....E.......M\n",
    "import math\n",
    "\n",
    "rails = 5\n",
    "no_blocks = (2*(rails-1))\n",
    "block_size = message_length // no_blocks\n",
    "remainder = message_length % no_blocks\n",
    "blocks = []\n",
    "\n",
    "print(message_length, block_size, remainder, no_blocks)\n",
    "\n",
    "for block in range(no_blocks):\n",
    "    start = block*block_size\n",
    "    end = start + block_size\n",
    "    blocks.append(squished[start:end])\n",
    "\n",
    "for letter in blocks[0]:\n",
    "    print (letter, end=\" \")\n",
    "print()\n",
    "print(blocks[1],blocks[2])\n",
    "print(blocks[3],blocks[4])\n",
    "print(blocks[5],blocks[6])\n",
    "for letter in blocks[7]:\n",
    "    print (letter, end=\" \")\n"
   ]
  },
  {
   "cell_type": "code",
   "execution_count": 9,
   "metadata": {},
   "outputs": [
    {
     "name": "stdout",
     "output_type": "stream",
     "text": [
      "JNOCTHLTOBOIWHELEWNVSROAAETMHUUGTAUASOYOTIBNBTDINNAFHILSTALNTEUATEEYHADMOEETOHVVAIOORESWTOINDAATAATIGIRKHOETASICAYNNGECAAURHCEIEDMTBLCKIEHWTNFPSARBESTHELETNEHMEIOUISOOUTNENTOEAARNYENNBEOFGIDNRCNEEPOMFTEOYEODPGPOALCGAAHYSCNSANETNANELOTHROASYUNEUITAEIAACUEETFPREATFLAALMI\n",
      "DIADEEETEWCURNULHCMIIETISAONNSATSGONERIRWRMFHUSHMGEEIGULTROELSITECHTTITETSATISAWTIAAUCNYRCORTGILKSDFLHTEDIETHYCREINEAHWRTMAENOHTYTENSNEEHMICEEDORNHNISNAWSETOTECSGCRTNNCSTTEIENESISWTOHTULCANECMTSIAAIIEHCRUCSSNOGSESEATVRLAHINOEONHMAIDIHAEFCGTFEEASAEWAFUSUCSNAEAOWMLONHWEM\n",
      "SELEXEHETVNPIDAYTNMHWOLTFNOTNRWOBNAIFTDINCUTNELTKKTATNEEIRTAAAIEUWRTLEONETTRTADADEIICSDNRYTTNIIGESATVHURPSDMROIOOIEIHNTHTUDTOUEEMELTEABIAGOECIUTNFOWMEOODWSOARATOFROHTEARDCEYAORBFIRBEHGALVERASAHSIULGNTIWETRNERGEHIFRETSSCKOMTBONULFDIAHHSEFDHCEEYRGITGAAEHVETAOENYTSIEIEGET\n",
      "DNTHTICIOMIHENNBNFEIAITOANEEOIHDIEAORNTLHGOEDSFOLGAIKIIHBILIEABHLROTSTOTHIWEGETOOWCAGAHRANHRHIEIAUVIIECEALIIRDSOEHTTSOYELISEETERMCNLNCKURTEEDHHITDSLSONTISSONHMIEESUIHWMIFUOHORHNOYDETOOERONDEWGURIAPOELNOTTICCGEVFIURLNCNSAAETWDCIRUAEUNDLENSIATRENMNEHVOEOHPMIWSTPTESCMNTYE\n",
      "EIHLIXCWAODEHEDPSEUAEERIUERNNAENUETTCTUTDSCNTFVNCEMSWWODXUOTTTKOTFMESLIIDEMNSDITNAVTLODHTNMLOOGWTALBHYIIEHRCNDIDDOVTAHDANACNCSAALOUIHTOKHEONSGDTSOSWHUPTSREOUNGNWSHVITEEYUITHVALYNRTHWTHTANCSDAEIGTBNZLIBTOSWTETRCOROTMITECORANDITDAMKOLEANTDNAERWRUWRSOAYSAADEWGTENVDTSUTYEF\n",
      "NTTMNALOKEHHKOTAEAHEGUTATEYNTIBETRLABTDTSIEUPOGAEEIEPLSHBPENOEITLCIEORNFLATSEIETLAGMNSNILATETNWSBNWILTILTODISTTHDCNRTTUUIIWRNTEGTOSWLICONGNHNYAOGSOBALAOCGNHYRATUTHOOIAEGDALRHIRAIEOTETAOEAETJRWSYLYUAITEALFTLWTAAHRAVNROHRSEVGECOBICAITRDONIAESEHAENGNTEEERAUEEHOELYTEOAOAIE\n",
      "TILBNIOADRIGTEYAELNNIGDALNKNADTLETEWEENTETHPOYFCEERHOUOEEEOFTTUAADMONILISTSHAAGNAALUEIXUUNAHETDTVAKHIAGAONTNENDHEEOTPIAERRTERSTRNTRETTCNEITPUKRSYERIREEDEILHRISEONTNEYGLDTLFSIADOSFOHHIETIEAHRFYEIIEETTFSAHTESSFSLRNEACOGHBTORSEETEHINNNTUSWDHEEOHRIRSNDHTKLHACRENHHLANIYIRAS\n"
     ]
    }
   ],
   "source": [
    "\n",
    "columns = 269\n",
    "length = len(squished)\n",
    "for n in range(0, length, columns):\n",
    "    for c in range(columns):\n",
    "        print(squished[n+c], end=\"\")\n",
    "    print()"
   ]
  },
  {
   "cell_type": "code",
   "execution_count": null,
   "metadata": {},
   "outputs": [],
   "source": [
    "# Attempts to determine the keyword used for a substitution cipher\n",
    "# alphabet: The substitution alphabet\n",
    "def decode_key(alphabet):\n",
    "    decoded_alphabet = \"\"\n",
    "    for letter in string.ascii_lowercase:\n",
    "        decoded_alphabet += chr(alphabet.find(letter) + ord(\"a\"))\n",
    "    print(f\"Decoded alphabet: {decoded_alphabet}\")\n",
    "    \n",
    "    remaining_letters = list(string.ascii_lowercase)\n",
    "    for pos, letter in enumerate(decoded_alphabet):\n",
    "        remaining_letters.remove(letter)\n",
    "        next_letter_index = remaining_letters.index(decoded_alphabet[pos+1])\n",
    "        if decoded_alphabet[pos+1:] == \"\".join(remaining_letters[next_letter_index:] + remaining_letters[:next_letter_index]):\n",
    "            print(f\"Keyword: {decoded_alphabet[:pos+2]}\")\n",
    "            break\n",
    "\n",
    "decode_key(\"ayczghidejklmnopqbrstfuvwx\")"
   ]
  },
  {
   "cell_type": "code",
   "execution_count": 12,
   "metadata": {},
   "outputs": [],
   "source": [
    "# Part B - \"Transatlantic\"\n",
    "part_b_text = \"\"\"DADA DAA DAAA AD DA A ADAA AA DAD AAA DDA AAA AD DDAA D DD A DD AAAA A ADD DAA DD DDA DD DADD DAA DAAA AD DA AD DAA DAAA ADD DADD DAAD DAAA AAD DAAD D DADD DA DA DDAA A ADAA DDD ADDD DDA ADA DA DADD AAAA ADAA AAAA DADD AAAD DADA DADD AAAA DA ADA AA DD AAA DADD DA DADA DAD DADA AA AADA DADD ADDD DADD AA AADA DADD ADDD AD DDA DADD AAAA ADAA AAAA AAD DDAD AA AAA DA DAAD ADA AAD DA A DD DAA DADA DAA ADAA AAAA DADD DA DAAD DDD ADAA DDA AAD ADDD DAA DADD DA AAD DAD AAD DDA ADD AAD ADDD DADD DA DADD DDD DAD AAAA DADD DAAA DADD AD DA DA ADA DADD DD AAA DADA DD AAD AADA D ADAA AAA DD DADA DD AAD AAD DADA AADA DDA DADD DAAD DAD DD AA ADAA AAA DADD DAD D DAAA DAAA AA DD DDA DAAA DAA DAAA ADD AAD DD A AAD DAA DADA DAAA DAD AAAA AADA A AADA DADA AAAD DD D DADA DAA DAAA AD DA A DDA DADD AADA A DADD DA DA DDA AA AAAA AADA DADD DAD D DADA DDAD AAD ADAA A DADA DAD DDA AAAD AA DD DAD ADDD AAAA DDD DADA DAAD DA ADD DAA DA ADA AAD ADAA D DAAA DDD DA ADDD AA AAAA AAA DA DDAD D DADD DAD DDA DAA A DDAA DAA DDAA AD ADAA DADD DADA DADA AADA D DAAA DDD AAAD AAA AAA DADD ADD DADD AADA D DDAD ADA DADD AADA D DAAA DDD AAA DAD AAAA DADA DDAA ADDD ADD DAA AA A DA D AAD DA DAA DAAA ADD DADD DAAD AAA DAAD AADA DDD DA ADA AAD DA A AAD AAAD AA ADAA DDD DDAA DDA AAD ADDD DA DADA DAAD AD AAA DA DAAD DAD DA DAA A AAD DADA DA ADAA AAAA DADD AA DAAD DDA DA DA DADA DADD ADD DD DA DADD DAAA AAA AAAD DADD AAAD DADD DAAD D AAD DAAD AAA ADAA AAAA DADA DAAD AD AAD AAD ADAA DAAA DADD AADA D DDAA DADD ADAA DDAA AD ADAA DAAA AAA ADAA DDD DDAA AAA AAAA AAAD AA DDAA DAA DAAA ADD DADD DAAA DAD DAAD DDAA A DDAD DADD DDD DAA DAA AAAA DAA DAAA AAA AAAD DADD DDAA AAD DAD AAA DADD DA DA DDAA A DADA DAAD ADDA ADD AAA DA AAA AD AAA D DADA DADD AAAA ADAA DDD DA ADA DADD AAA ADA ADD ADA AAD ADD DDD AADA DADD AD AD AAA DA DADA DADA ADAA ADD AA A AADA AAAD AAAA AAD AADA DADD DADD DDD AAAA DDD DD ADAA ADA AAD AAA AD DDAA D DDD DDAA DD ADAA AD DADA DAAA DD DAAD DDD ADAA DAD ADD ADAA AA AA DAAD DADA AAA DD DADA DAAD DA DDD DDD DDA AAA AAAA AAAD AAA AAD ADAA AA DD D DADA DAA DADA DAAD AD AAAA AA AA AADA A DADD AAAD DD ADD ADD AAD DADA DADA AADA AAAD DADD DADA DA AD DDA AAD DAA DADA AADA DDA DADA DDA AA DD ADAA DAAD DADA AAD DDAD ADD DADD DADA DAAA DDA AAD AADA DA DADA DADD DA AA DAAA DADD AD D DA ADA DADD DDAD AD ADAA DDD DDD AADA ADAA DADA AAD DADD DAA DADD DA DADD DDA AAA DAD DADD ADD DDD AAD AAAA AA ADDA AAD DDAA AA DD DAA AA ADDD AA ADD DAD AADA AAD AAD ADAA AAA AA DAD AA DA AA AAAD DD D DADA ADDA AAD AADA DADD AA DAAD DADD AAD DDD DDD AAAD DAAD ADAA ADA AAD DD DADD ADAA AAAA DADD AAAD DADA AADA DAD DA DADD DDD DAD DA AA DDA DA DDAA A AAAA ADA AAD ADDD ADA AAA DAD AAAA AAAD ADDD AA DA DADA ADD AD ADAA DDD DA DDAA A AA DAAD DADD DAD D AA DA AA AD D DAA DADD DAAD AD A DADA DADA AAD ADAA A ADAA DAAA DADA ADD ADA DDAD ADA AA DDD DDD AAAA DAA AADA ADD D AAD DAAD AAA ADAA AAAA DADA DAAD AD DADD DDD AA DAAD ADD ADD AAA DAAA DDD DAAA AAA AAA DAAA DDD ADAA ADAA A DADD DAA DAAA AD DA DA DADD DADA ADAA AD AAAA DA DAAA AAA ADA ADAA AA DAAA AAA AAA AAAD DDD DADD AADA AD ADAA DADD DDD AADA DAA AADA DADD AAAA DADD A AAAA DADD DDD DADD AAAA DA DADD A AADA DDD DDAD DDA DAAA ADD DA DD DADD DDA ADD D DAAA AAA AAAA DADD D ADAA AAA ADDA AD AD AADA AAA DD AAA DADA DA A AAD DAA ADAA AAA AAA DDA AAAA DDD ADAA DAA AAD AADA D AA DAAD AAAD AAA ADAA AAD DAAD ADD ADD AA DA ADA DADA AADA DAD DADA DDA DADA DAA ADAA AAAA DDD DADD AAAD D AA ADAA DADD DDA DA DA ADA DADD DADD ADA AA A AAAA AAAD ADD DAAA DDD ADAA ADD AA ADD DAD AAAA DDAA DDD ADDD DDD DA DDA AA AAAA ADDA AADA DD A AAAA DD DADD ADAA AAAA DADD DA DADA ADDD A ADD DAA DADA DDA DA AA ADDA DA DDAA A DADA DAAA DADD AADA DDAD DDD AAA ADAA AD A DD ADDA AA ADDD D DAAA DDD AD DDA DDD DAAD DADD DDAA ADD AAAD DADD DAAA AAA DDA DA DADD DDA DADD AADA A DADD DA DA DDA DAD DADD DDD ADDD AAA AAAD DADD DAAA AAA DAA DDD DDAD DDAA ADAA DDA AADA DADA AAAD DADD AAA D AADA DDD AAD DAD D DDAD ADA DADA DAA A DA ADA DADD D DDD DD DADA DADA AADA AAAD DADD DADA DA AD DDA AAD DAA DADA DDA DA DADA DADA DAAA DDA D DD DADD DDD AADA ADAA DADD DADA DD ADAA AAAA DADD DADA AAA DAD D DADD ADD DDAA DAA AD AD DADA AAD ADDD A AAD AAAD ADD ADDD AA DD AAA DD DDD A DDAD AAA AADA DAA AAAA AAD AADA DADD ADAA DDD DAAD AAA AAD DAA DAA AA DDA AAAA DDA AAD ADAA DAD ADD ADAA AA ADDA AAA DA AD A DD ADDA AA ADDD AD DDAD ADA DADA DAA A DDAD DDD DDAD AD ADAA AADA DD AAD ADDD ADA AAA DADD AAAA DDD AA DA ADA DDAA DDA ADA DADD DD AAD DAD D DD ADAA DDD ADAA ADD DADA AAAD AADA AADA DDD DA DAD ADD ADAA DDD AAAA DAA DAAA ADD DD DDD DAAD AADA ADD AAA DD DAA DAAA ADD D DAAA DAAA DADD AAA D AADA DDD ADDA ADD ADAA ADAA AAA DD ADD AAA DA DADD DA ADD DA DADD AADA DADD AADA D DAAA DDD AAAA ADAA AAAA DADD DD DDD ADDD AA AAD DDA DADA DAA ADAA AAAA DDD DADD AAAD D AA ADD DADD ADD D DA DADD DAAD ADD DADA DADA DA DADD DDD AAAA DADD DAA DAAA ADD ADA DADA DAA DADA DAD ADD DADA DADA DADD ADAA DDD DA DAD A ADD AD ADD DAA DADA DDA DA DADA DDA DADA DAA ADAA DAAA DDD AAD AAAD D AA AAAD AA AADA DAA AA DAAD DA DDA D AAD AAD DADD AAD AAAA AAD DAAA AD ADD DDD DDAA ADD DADA DAD DAA DADA DAAA DADD AAD D DADA DADD AAAA DDAD DDD DDD DD AAD AADA DADA AA DAAD DA AAA DADA DA ADD DADD AAA D DA ADA DADD ADD DD AAAD DAD DD DAD DADD ADD ADA AAD ADDD ADAA DADA DDD\"\"\""
   ]
  },
  {
   "cell_type": "code",
   "execution_count": 13,
   "metadata": {},
   "outputs": [
    {
     "name": "stdout",
     "output_type": "stream",
     "text": [
      "CDBANELIKSGSAZTMEMHEWDMGMYDBANADBWYXBUXTYNNZELOJGRNYHLHYVCYHNRIMSYNCKCIFYJYIFYJAGYHLHUQISNXRUNEMDCDLHYNXOLGUJDYNUKUGWUJYNYOKHYBYANNRYMSCMUFTLSMCMUUCFGYXKMILSYKTBBIMGBDBWUMEUDCBKHFEFCVMTCDBANEGYFEYNNGIHFYKTCQULECKGVIMKJHOCXNWDNRULTBONJIHSNQTYKGDEZDZALYCCFTBOVSSYWYFTQRYFTBOSKHCZJWDIENTUNDBWYXSXFONRUNEUVILOZGUJNCXASNXKNDEUCNLHYIXGNNCYWMNYBSVYVYXTUXSLHCXAUULBYFTZYLZALBSLOZSHVIZDBWYBKXZEQYODDHDBSVYZUKSYNNZECXPWSNSASTCYHLONRYSRWRUWOFYAASNCCLWIEFVHUFYYOHOMLRUSAZTOZMLACBMXOLKWLIIXCSMCXNOOGSHVSULIMTCDCXAHIIFEYVMWWUCCFVYCNAGUDCFGCGIMLXCUQWYCBGUFNCYNIBYATNRYQALOOFLCUYDYNYGSKYWOUHIPUZIMDIJIWKFUULSIKINIVMTCPUFYIXYUOOVXLRUMYLHYVCFKNYOKNIGNZEHRUJRSKHVJINCWALONZEIXYKTINIATDYXAECCULELBCWRQRIOOHDFWTUXSLHCXAYOIXWWSBOBSSBOLLEYDBANNYCLAHNBSRLIBSSVOYFALYOFDFYHYEHYOYHNYEFOQGBWNMYGWTBSHYTLSPAAFSMSCNEUDLSSGHOLDUFTIXVSLUXWWINRCFKCGCDLHOYVTILYGNNRYYRIEHVWBOLWIWKHZOJONGIHPFMEHMYLHYNCJEWDCGNIPNZECBYFQOSLAEMPIJTBOAGOXYZWVYBSGNYGYFEYNNGKYOJSVYBSDOQZLGFCVYSTFOUKTQRCDENRYTOMCCFVYCNAGUDCGNCCBGTMYOFLYCMLHYCSKTYWZDAACUJEUVWJIMSMOEQSFDHUFYLOXSUDDIGHGULKWLIPSNAEMPIJAQRCDEQOQALFMUJRSYHOINRZGRYMUKTMLOLWCVFFONKWLOHDBWMOXFWSMDBWTBBYSTFOPWLLSMWSNYNWNYFYFTBOHLHYMOJIUGCDLHOYVTIWYWTNYXWCCNYOHYDBWRCDCKWCCYLONKEWAWDCGNCGCDLBOUVTIVIFDIXNGTUUYUHUBAWOZWCKDCBYUTCYHQOOMUFCIXNSCNWYSTNRYWMVKMKYWRUJLCO"
     ]
    }
   ],
   "source": [
    "# Must be morse code again.  No word breaks this time though.\n",
    "m2t = {\".-\":\"a\", \"-...\":\"b\", \"-.-.\":\"c\", \"-..\":\"d\", \".\":\"e\",\n",
    "       \"..-.\":\"f\", \"--.\":\"g\", \"....\":\"h\", \"..\":\"i\", \".---\":\"j\",\n",
    "       \"-.-\":\"k\", \".-..\":\"l\", \"--\":\"m\", \"-.\":\"n\", \"---\":\"o\",\n",
    "       \".--.\":\"p\", \"--.-\":\"q\", \".-.\":\"r\", \"...\":\"s\",\n",
    "       \"-\":\"t\", \"..-\":\"u\", \"...-\":\"v\", \".--\":\"w\",\n",
    "       \"-..-\":\"x\", \"-.--\":\"y\", \"--..\":\"z\",\n",
    "       \".----\":\"1\", \"..---\":\"2\", \"...--\":\"3\", \"....-\":\"4\", \".....\":\"5\",\n",
    "       \"-....\":\"6\", \"--...\":\"7\", \"---..\":\"8\", \"----.\":\"9\",\"-----\":\"0\",\n",
    "       \"/\":\" \"}\n",
    "\n",
    "text = \"\"\n",
    "for word in part_b_text.split():\n",
    "    decoded_word = \"\"\n",
    "    for letter in word.split():\n",
    "        letter = letter.replace(\"A\", \".\").replace(\"D\", \"-\")\n",
    "        decoded_word += m2t[letter].upper()\n",
    "    print(decoded_word, end=\"\")\n",
    "    text += decoded_word"
   ]
  },
  {
   "cell_type": "code",
   "execution_count": 14,
   "metadata": {},
   "outputs": [
    {
     "name": "stdout",
     "output_type": "stream",
     "text": [
      "Y: 115 (9.08%) C: 83 (6.55%) N: 83 (6.55%) O: 67 (5.29%) L: 66 (5.21%)\n",
      "U: 63 (4.97%) S: 62 (4.89%) I: 57 (4.50%) W: 57 (4.50%) H: 51 (4.03%)\n",
      "F: 50 (3.95%) D: 49 (3.87%) B: 48 (3.79%) M: 47 (3.71%) G: 43 (3.39%)\n",
      "T: 42 (3.31%) A: 39 (3.08%) E: 38 (3.00%) K: 36 (2.84%) X: 36 (2.84%)\n",
      "V: 31 (2.45%) R: 30 (2.37%) Z: 25 (1.97%) J: 22 (1.74%) Q: 17 (1.34%)\n",
      "P: 10 (0.79%) \n",
      "-----\n"
     ]
    }
   ],
   "source": [
    "frequency_analysis(text)"
   ]
  },
  {
   "cell_type": "code",
   "execution_count": 15,
   "metadata": {},
   "outputs": [],
   "source": [
    "# Uh-oh.  Probably a Vigenere.\n",
    "# Tools to help decode Vigenere ciphers\n",
    "\n",
    "\n",
    "# A function that searches for multiple ocurrences of letters of the specified size and prints out the most common ones\n",
    "def pattern_finder(text, size):\n",
    "    patterns = Counter()\n",
    "    for index in range(len(text)):\n",
    "        patterns[text[index:index+size]] += 1\n",
    "\n",
    "    column = 0\n",
    "    for item, count in patterns.most_common(30):\n",
    "        print(f\"{item}: {count:2}\", end=\" \")\n",
    "        column += 1\n",
    "        if column % 5 == 0:\n",
    "            print()\n",
    "\n",
    "\n",
    "# A function that searches the given text for a word and figures out where it would line up with a key of a given size\n",
    "def get_alignment(text, word, key_size):\n",
    "    print(f\"{word}/{key_size}\", end=\" \")\n",
    "    alignments = []\n",
    "    position = -1\n",
    "    while True:\n",
    "        position = text.find(word, position+1)\n",
    "        if position >= 0:\n",
    "            alignment = position % key_size\n",
    "            print(f\"{position} ({alignment})\", end=\" \")\n",
    "            alignments.append(alignment)\n",
    "        else:\n",
    "            break\n",
    "    if alignments.count(alignments[0]) == len(alignments):\n",
    "        print(\"All the same!\", end=\"\")\n",
    "    print()\n",
    "\n",
    "\n",
    "# A function to reverse search for a key that would convert the given word to an encoded word\n",
    "def lookup_key(word, encoded_word):\n",
    "    key = \"\"\n",
    "    for letter, encoded_letter in zip(word, encoded_word):\n",
    "        diff = (ord(encoded_letter) - ord(letter)) % 26\n",
    "        key += chr(diff + ord('A'))\n",
    "    print(key)"
   ]
  },
  {
   "cell_type": "code",
   "execution_count": 16,
   "metadata": {},
   "outputs": [
    {
     "name": "stdout",
     "output_type": "stream",
     "text": [
      "DBW:  7 LHY:  7 NRY:  6 NZE:  5 TBO:  5 \n",
      "DBA:  4 BAN:  4 YNN:  4 CDL:  4 YFT:  4 \n",
      "CXA:  4 YDB:  3 BWY:  3 YHL:  3 HLH:  3 \n",
      "CYH:  3 DLH:  3 NYO:  3 YKT:  3 UDC:  3 \n",
      "MTC:  3 FEY:  3 CCF:  3 FTB:  3 YBS:  3 \n",
      "SVY:  3 LON:  3 UFY:  3 KWL:  3 GCD:  3 \n"
     ]
    }
   ],
   "source": [
    "pattern_finder(text, 3)"
   ]
  },
  {
   "cell_type": "code",
   "execution_count": 17,
   "metadata": {},
   "outputs": [
    {
     "name": "stdout",
     "output_type": "stream",
     "text": [
      "DBW/3 31 (1) 166 (1) 286 (1) 376 (1) 1091 (2) 1101 (0) 1166 (2) \n",
      "LHY/3 53 (2) 99 (0) 323 (2) 618 (0) 863 (2) 983 (2) 1133 (2) \n",
      "NRY/3 130 (1) 420 (0) 550 (1) 830 (2) 950 (2) 1250 (2) \n",
      "NZE/3 42 (0) 402 (0) 632 (2) 652 (1) 877 (1) \n",
      "TBO/3 229 (1) 254 (2) 269 (2) 894 (0) 1129 (1) \n",
      "DBW/4 31 (3) 166 (2) 286 (2) 376 (0) 1091 (3) 1101 (1) 1166 (2) \n",
      "LHY/4 53 (1) 99 (3) 323 (3) 618 (2) 863 (3) 983 (3) 1133 (1) \n",
      "NRY/4 130 (2) 420 (0) 550 (2) 830 (2) 950 (2) 1250 (2) \n",
      "NZE/4 42 (2) 402 (2) 632 (0) 652 (0) 877 (1) \n",
      "TBO/4 229 (1) 254 (2) 269 (1) 894 (2) 1129 (1) \n",
      "DBW/5 31 (1) 166 (1) 286 (1) 376 (1) 1091 (1) 1101 (1) 1166 (1) All the same!\n",
      "LHY/5 53 (3) 99 (4) 323 (3) 618 (3) 863 (3) 983 (3) 1133 (3) \n",
      "NRY/5 130 (0) 420 (0) 550 (0) 830 (0) 950 (0) 1250 (0) All the same!\n",
      "NZE/5 42 (2) 402 (2) 632 (2) 652 (2) 877 (2) All the same!\n",
      "TBO/5 229 (4) 254 (4) 269 (4) 894 (4) 1129 (4) All the same!\n",
      "DBW/6 31 (1) 166 (4) 286 (4) 376 (4) 1091 (5) 1101 (3) 1166 (2) \n",
      "LHY/6 53 (5) 99 (3) 323 (5) 618 (0) 863 (5) 983 (5) 1133 (5) \n",
      "NRY/6 130 (4) 420 (0) 550 (4) 830 (2) 950 (2) 1250 (2) \n",
      "NZE/6 42 (0) 402 (0) 632 (2) 652 (4) 877 (1) \n",
      "TBO/6 229 (1) 254 (2) 269 (5) 894 (0) 1129 (1) \n",
      "DBW/7 31 (3) 166 (5) 286 (6) 376 (5) 1091 (6) 1101 (2) 1166 (4) \n",
      "LHY/7 53 (4) 99 (1) 323 (1) 618 (2) 863 (2) 983 (3) 1133 (6) \n",
      "NRY/7 130 (4) 420 (0) 550 (4) 830 (4) 950 (5) 1250 (4) \n",
      "NZE/7 42 (0) 402 (3) 632 (2) 652 (1) 877 (2) \n",
      "TBO/7 229 (5) 254 (2) 269 (3) 894 (5) 1129 (2) \n",
      "DBW/8 31 (7) 166 (6) 286 (6) 376 (0) 1091 (3) 1101 (5) 1166 (6) \n",
      "LHY/8 53 (5) 99 (3) 323 (3) 618 (2) 863 (7) 983 (7) 1133 (5) \n",
      "NRY/8 130 (2) 420 (4) 550 (6) 830 (6) 950 (6) 1250 (2) \n",
      "NZE/8 42 (2) 402 (2) 632 (0) 652 (4) 877 (5) \n",
      "TBO/8 229 (5) 254 (6) 269 (5) 894 (6) 1129 (1) \n",
      "DBW/9 31 (4) 166 (4) 286 (7) 376 (7) 1091 (2) 1101 (3) 1166 (5) \n",
      "LHY/9 53 (8) 99 (0) 323 (8) 618 (6) 863 (8) 983 (2) 1133 (8) \n",
      "NRY/9 130 (4) 420 (6) 550 (1) 830 (2) 950 (5) 1250 (8) \n",
      "NZE/9 42 (6) 402 (6) 632 (2) 652 (4) 877 (4) \n",
      "TBO/9 229 (4) 254 (2) 269 (8) 894 (3) 1129 (4) \n"
     ]
    }
   ],
   "source": [
    "for n in range(3, 10):\n",
    "    for word in (\"DBW\", \"LHY\", \"NRY\", \"NZE\", \"TBO\"):\n",
    "        get_alignment(text, word, n)"
   ]
  },
  {
   "cell_type": "code",
   "execution_count": 19,
   "metadata": {},
   "outputs": [
    {
     "name": "stdout",
     "output_type": "stream",
     "text": [
      "DBW/5 31 (1) 166 (1) 286 (1) 376 (1) 1091 (1) 1101 (1) 1166 (1) All the same!\n",
      "KUS\n",
      "NRY/5 130 (0) 420 (0) 550 (0) 830 (0) 950 (0) 1250 (0) All the same!\n",
      "UKU\n",
      "NZE/5 42 (2) 402 (2) 632 (2) 652 (2) 877 (2) All the same!\n",
      "USA\n",
      "TBO/5 229 (4) 254 (4) 269 (4) 894 (4) 1129 (4) All the same!\n",
      "AUK\n",
      "DBA/5 1 (1) 26 (1) 186 (1) 716 (1) All the same!\n",
      "KUW\n",
      "BAN/5 2 (2) 27 (2) 187 (2) 717 (2) All the same!\n",
      "ITJ\n",
      "YNN/5 40 (0) 195 (0) 400 (0) 915 (0) All the same!\n",
      "FGJ\n",
      "CDL/5 97 (2) 817 (2) 1142 (2) 1192 (2) All the same!\n",
      "JWH\n",
      "YFT/5 262 (2) 267 (2) 357 (2) 1127 (2) All the same!\n",
      "FYP\n"
     ]
    }
   ],
   "source": [
    "for word in (\"DBW\", \"NRY\", \"NZE\", \"TBO\", \"DBA\", \"BAN\", \"YNN\", \"CDL\", \"YFT\"):\n",
    "    get_alignment(text, word, 5)\n",
    "    lookup_key(\"THE\", word)"
   ]
  },
  {
   "cell_type": "code",
   "execution_count": null,
   "metadata": {},
   "outputs": [],
   "source": [
    "# .kus.\n",
    "# uku.\n",
    "# ..usa\n",
    "# uk..a\n",
    "# .kuw.\n",
    "# ..itj x\n",
    "# fgj.. x\n",
    "# ..jwh x\n",
    "# ..fyp x"
   ]
  },
  {
   "cell_type": "code",
   "execution_count": 20,
   "metadata": {},
   "outputs": [],
   "source": [
    "# A method to decode/encode a Vigenere cipher.  Case and punctuation are preserved.\n",
    "# text: The text to encode\n",
    "# key: The key to use\n",
    "# encode: If set to True, will encode the given text instead of decoding it\n",
    "def vigenere(text, key, encode=False):\n",
    "    shifts = [ord(letter.upper()) - ord(\"A\") for letter in key]\n",
    "    key_length = len(key)\n",
    "    key_index = 0\n",
    "    for letter in text:\n",
    "        letter_val = ord(letter)\n",
    "        if letter.isupper():\n",
    "            offset = ord(\"A\")\n",
    "        elif letter.islower():\n",
    "            offset = ord(\"a\")\n",
    "        else:\n",
    "            print(letter, end=\"\")\n",
    "            continue\n",
    "\n",
    "        if encode:\n",
    "            shift = shifts[key_index]\n",
    "        else:\n",
    "            shift = -shifts[key_index]\n",
    "\n",
    "        print(chr((((letter_val - offset) + shift) % 26) + offset), end=\"\")\n",
    "        key_index = (key_index + 1) % key_length\n",
    "    print()"
   ]
  },
  {
   "cell_type": "code",
   "execution_count": 21,
   "metadata": {},
   "outputs": [
    {
     "name": "stdout",
     "output_type": "stream",
     "text": [
      "ITHINKBOSSMIGHTSUSPECTSOMETHINGTHEYDRAFTEDTHEREPORTONTHELIGHTHOUSEDISCOVERYOVERAMONTHAGOANDHAVESTILLNOTFORWARDEDASUMMARYTOUSHEREINTHEUSICANTRISKMAKINGENQUIRIESTHROUGHTHEUSUALCHANNELSBUTITHINKWENEEDTOINVESTIGATEIAMDISAPPOINTEDTHATTHETRINITYTEAMLEFTFILESINTHEBASEMENTWHENTHEYSHIPPEDOUTBUTTHEYDIDNOTHAVEALOTOFWARNINGANDATLEASTTHEYDONTSEEMTOHAVELEFTANYTHINGCURRENTFORHARRYTOFINDIFTHEYHADHEWOULDNTHAVEPASSEDTHEINVESTIGATIONTOTHEARCHAEOLOGISTSITWOULDHAVEGONESTRAIGHTUPSTAIRSFORACTIONIAMINTWOMINDSABOUTITIFANYONEELSEWASINVESTIGATINGIWOULDSAYWESHOULDIGNOREITTHEYAREUNLIKELYTOMAKEMUCHOFAHISTORICALCURIOSITYBUTIFANYONECOULDTRACETHELINKTOUSNOWTHENHARRYANDJODIEARETHEONESTODOITJODIEISATERRIERWHOWONTLETANYTHINGGOONCESHEHASHERTEETHINTOITANDHARRYHASBEENAROUNDLONGENOUGHTOKNOWWHENSOMETHINGTRIVIALISACTUALLYIMPORTANTONBALANCEITHINKIWILLNEEDTOBEONTHEGROUNDWHEREICANHOPETOINFLUENCETHEDIRECTIONOFTHEIRENQUIRIESFORTHEGOODOFEVERYONEWENEEDTOKEEPAVERYLOWPROFILEATLEASTWHILETHEBOSSINVESTIGATIONISHOTSOUNLESSTHESYSTEMFLAGSAREALCRISISWEWILLHAVETODIALDOWNOURACTIVITIESFORAWHILEWEWILLCARRYONWITHFORECASTSBUTWILLNOTACTONTHEMUNLESSTHETHREATLEVELRISESTOTENEVENTHENTHECURIAWILLNEEDTOMEETTODECIDEWHETHERITISWISETOTAKEACTIONIWILLHEADTOLONDONTOTAKECHARGEOFMISDIRECTIONYOUCANCONTACTMEATTHEEMBASSYCHARLIE\n"
     ]
    }
   ],
   "source": [
    "vigenere(text, \"ukusa\")"
   ]
  },
  {
   "cell_type": "markdown",
   "metadata": {},
   "source": [
    "### Edited for clarity\n",
    "\n",
    "I think BOSS might suspect something. They drafted the report on the lighthouse discovery over a month ago and have still not forwarded a summary to us here in the US.<br/>\n",
    "I can't risk making enquiries through the usual channels, but I think we need to investigate.<br/>\n",
    "I am disappointed that the Trinity team left files in the basement when they shipped out, but they did not have a lot of warning and at least they don't seem to have left anything current for Harry to find. If they had, he wouldn't have passed the investigation to the archaeologists - it would have gone straight upstairs for action.<br/>\n",
    "I am in two minds about it. If anyone else was investigating, I would say we should ignore it. They are unlikely to make much of a historical curiosity, but if anyone could trace the link to us now, then Harry and Jodie are the ones to do it.<br/>\n",
    "Jodie is a terrier who won't let anything go once she has her teeth into it and Harry has been around long enough to know when something trivial is actually important.<br/>\n",
    "On balance, I think I will need to be on the ground, where I can hope to influence the direction of their enquiries for the good of everyone, we need to keep a very low profile at least while the BOSS investigation is hot.<br/>\n",
    "So unless the system flags a real crisis, we will have to dial down our activities for a while.<br/>\n",
    "We will carry on with forecasts, but will not act on them unless the threat level rises to ten.<bt/>\n",
    "Even then, the Curia will need to meet to decide whether it is wise to take action. I will head to London to take charge of misdirection.<br/>\n",
    "You can contact me at the embassy,<br/>\n",
    "Charlie\n"
   ]
  },
  {
   "cell_type": "code",
   "execution_count": null,
   "metadata": {},
   "outputs": [],
   "source": []
  }
 ],
 "metadata": {
  "kernelspec": {
   "display_name": "Python 3 (ipykernel)",
   "language": "python",
   "name": "python3"
  },
  "language_info": {
   "codemirror_mode": {
    "name": "ipython",
    "version": 3
   },
   "file_extension": ".py",
   "mimetype": "text/x-python",
   "name": "python",
   "nbconvert_exporter": "python",
   "pygments_lexer": "ipython3",
   "version": "3.9.5"
  }
 },
 "nbformat": 4,
 "nbformat_minor": 4
}
