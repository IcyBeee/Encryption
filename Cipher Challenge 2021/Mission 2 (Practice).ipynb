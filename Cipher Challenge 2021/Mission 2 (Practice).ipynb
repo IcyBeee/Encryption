{
 "cells": [
  {
   "cell_type": "markdown",
   "metadata": {},
   "source": [
    "# Cipher Challenge 2021\n",
    "### Practice Challenge 2\n",
    "\n",
    "Challenge link https://www.cipherchallenge.org/challenge/practice-challenge-2/"
   ]
  },
  {
   "cell_type": "code",
   "execution_count": 2,
   "metadata": {},
   "outputs": [],
   "source": [
    "# Part A - \"Don't give up\"\n",
    "part_a_text = \"\"\"Ibgzp, nbd vpcp sbu kafxpg vzuq uqp Fcxqfpbabhzlul fl f kdszlqjpsu; pmpcnbsp ufrpl uqpzc udcs bs uqfu lqzyu opxfdlp vp spmpc rsbv vqfu jzhqu udcs dk zs bag gbxdjpsul. Vqps Z cfs uqp hcbdk, vp ybdsg pmzgpsxp by f Cdllzfs fhpsu kafxpg zs uqp LGPXP zs uqp fyupcjfuq by uqp vfc vqb vfl fxuzsh fl azfzlbs vzuq Oczuzlq fsg DL zsupaazhpsxp. Lqp qfg cpjfzspg dsgzlxbmpcpg ybc uqzcun-yzmp npfcl fsg apfrpg f vqbap abfg by zsybcjfuzbs fxcbll uqp zcbs xdcufzs. Uqp upfj xcfxrpg f Yzfarf xzkqpc ycbj 1956, fsg uqfu apg ub fs fccplu fsg xbsypllzbs. Z fgjzu uqfu uqp xflp nbd fcp vbcrzsh bs gbpls’u lppj azrpan ub qfmp uqp lfjp zjkfxu, odu nbd spmpc rsbv vqpcp zu jzhqu apfg. Z ubbr f abbr fu uqp kfkpcl nbd lpsu, fsg Z uqbdhqu uqzl bsp abbrpg mpcn zsupcpluzsh. Uqp zsybcjfuzbs zu xbsufzsl uzpl gbvs uqp npfc zu vfl vczuups kcpuun xbsxadlzmpan, fsg Z qfmp ub lfn Z gbs’u azrp uqp lbdsg by uqp kqcflp “kcbyzu ycbj uqp Lxqaplvzh xbsyazxu”. Z uqzsr zu zl xapfc vqb J jdlu op, odu Z fj luzaa dsldcp fobdu uqp buqpcl jpsuzbspg zs uqplp apuupcl. Z fj falb mpcn dsxapfc vqn J jzhqu qfmp opps zsmbampg zs vqfu abbrl azrp f xbslkzcfxn fzjpg fu vfcuzjp kcbyzuppczsh. Z xqpxrpg, fsg uqpcp zl sbuqzsh bs yzap ycbj uqp kpczbg ub ldhhplu uqfu uqzl vfl ldlkpxupg. Zsgppg uqpcp vfl sbuqzsh bs yzap fu faa, vqzxq, uqzsrzsh fobdu zu zl lazhquan lucfshp. J vfl f kdoazx yzhdcp fsg by gpyzszup zsupcplu, lb uqpcp lqbdag op lbjpuqzsh. Zy nbd qfmp uzjp zu jzhqu op vbcuq abhhzsh zs ub uqp cpxbcgl lnlupj ub lpp zy fsnbsp palp ycbj fcbdsg uqps qfl f ldlkzxzbdlan pjkun yzap. Z vbdag lufcu vzuq kdoazx yzhdcpl vqb qfmp uqp zszuzfal XQ bc YS, fl uqp lzshap apuupcl F, U, P fsg V gbs’u hzmp dl jdxq ub hb bs. By xbdclp, vp gb rsbv f azuuap jbcp fobdu V, lb uqfu jzhqu falb op f hbbg kafxp ub lufcu. Vp rsbv vp fcp abbrzsh ybc fs pshzsppc vzuq zszuzfa V, vqb rsbvl lbjpuqzsh fobdu xbgpl fsg xzkqpcl. Vqbpmpc YS zl, uqpn fcp czhqu uqfu uqpn lqbdag ufar ub V. Dlzsh Xfplfc fsg fyyzsp lqzyu xzkqpcl ub psxbgp uqpzc lpxcpu xbjjdszxfuzbsl zl kbbc, fsg Z vbdag qfmp pekpxupg opuupc ycbj fs bchfszlfuzbs xbsufzszsh J. Kpcqfkl uqpn vzaa qfmp ufrps uqp jnlupczbdl V’l fgmzxp fsg vzaa qfmp lvzuxqpg ub lbjpuqzsh jbcp lpxdcp zs uqpzc ydudcp xbjjdszxfuzbsl. Uqfu vzaa jfrp azyp f azuuap jbcp zsupcpluzsh ybc nbd fsg uqp upfj. Hbbg adxr, Qfccn\"\"\""
   ]
  },
  {
   "cell_type": "code",
   "execution_count": 4,
   "metadata": {},
   "outputs": [],
   "source": [
    "# Bring in the basic decoder function\n",
    "import string\n",
    "\n",
    "# A simple translation method.\n",
    "# text: The text to translate, in upper case\n",
    "# key: A substitution alphabet, usually in lower case so that the translated characters show up\n",
    "def decode(text, key):\n",
    "    table = str.maketrans(string.ascii_uppercase, key)\n",
    "    print(text.upper().translate(table))"
   ]
  },
  {
   "cell_type": "code",
   "execution_count": 6,
   "metadata": {},
   "outputs": [
    {
     "name": "stdout",
     "output_type": "stream",
     "text": [
      "jodie, yoD Vere SoU KAaXed ViUh Uhe arXhaeoAoHiLUL aL a KDSiLhJeSU; eMeryoSe UaReL Uheir UDrS oS UhaU LhiYU OeXaDLe Ve SeMer RSoV VhaU JiHhU UDrS DK iS oAd doXDJeSUL. VheS i raS Uhe HroDK, Ve YoDSd eMideSXe oY a rDLLiaS aHeSU KAaXed iS Uhe LdeXe iS Uhe aYUerJaUh oY Uhe Var Vho VaL aXUiSH aL AiaiLoS ViUh OriUiLh aSd DL iSUeAAiHeSXe. Lhe had reJaiSed DSdiLXoMered Yor UhirUy-YiMe yearL aSd AeaRed a VhoAe Aoad oY iSYorJaUioS aXroLL Uhe iroS XDrUaiS. Uhe UeaJ XraXRed a YiaARa XiKher YroJ 1956, aSd UhaU Aed Uo aS arreLU aSd XoSYeLLioS. i adJiU UhaU Uhe XaLe yoD are VorRiSH oS doeLS’U LeeJ AiReAy Uo haMe Uhe LaJe iJKaXU, ODU yoD SeMer RSoV Vhere iU JiHhU Aead. i UooR a AooR aU Uhe KaKerL yoD LeSU, aSd i UhoDHhU UhiL oSe AooRed Mery iSUereLUiSH. Uhe iSYorJaUioS iU XoSUaiSL UieL doVS Uhe year iU VaL VriUUeS KreUUy XoSXADLiMeAy, aSd i haMe Uo Lay i doS’U AiRe Uhe LoDSd oY Uhe KhraLe “KroYiU YroJ Uhe LXhAeLViH XoSYAiXU”. i UhiSR iU iL XAear Vho J JDLU Oe, ODU i aJ LUiAA DSLDre aOoDU Uhe oUherL JeSUioSed iS UheLe AeUUerL. i aJ aALo Mery DSXAear Vhy J JiHhU haMe OeeS iSMoAMed iS VhaU AooRL AiRe a XoSLKiraXy aiJed aU VarUiJe KroYiUeeriSH. i XheXRed, aSd Uhere iL SoUhiSH oS YiAe YroJ Uhe Keriod Uo LDHHeLU UhaU UhiL VaL LDLKeXUed. iSdeed Uhere VaL SoUhiSH oS YiAe aU aAA, VhiXh, UhiSRiSH aOoDU iU iL LAiHhUAy LUraSHe. J VaL a KDOAiX YiHDre aSd oY deYiSiUe iSUereLU, Lo Uhere LhoDAd Oe LoJeUhiSH. iY yoD haMe UiJe iU JiHhU Oe VorUh AoHHiSH iS Uo Uhe reXordL LyLUeJ Uo Lee iY aSyoSe eALe YroJ aroDSd UheS haL a LDLKiXioDLAy eJKUy YiAe. i VoDAd LUarU ViUh KDOAiX YiHDreL Vho haMe Uhe iSiUiaAL Xh or YS, aL Uhe LiSHAe AeUUerL a, U, e aSd V doS’U HiMe DL JDXh Uo Ho oS. oY XoDrLe, Ve do RSoV a AiUUAe Jore aOoDU V, Lo UhaU JiHhU aALo Oe a Hood KAaXe Uo LUarU. Ve RSoV Ve are AooRiSH Yor aS eSHiSeer ViUh iSiUiaA V, Vho RSoVL LoJeUhiSH aOoDU XodeL aSd XiKherL. VhoeMer YS iL, Uhey are riHhU UhaU Uhey LhoDAd UaAR Uo V. DLiSH XaeLar aSd aYYiSe LhiYU XiKherL Uo eSXode Uheir LeXreU XoJJDSiXaUioSL iL Koor, aSd i VoDAd haMe eEKeXUed OeUUer YroJ aS orHaSiLaUioS XoSUaiSiSH J. KerhaKL Uhey ViAA haMe UaReS Uhe JyLUerioDL V’L adMiXe aSd ViAA haMe LViUXhed Uo LoJeUhiSH Jore LeXDre iS Uheir YDUDre XoJJDSiXaUioSL. UhaU ViAA JaRe AiYe a AiUUAe Jore iSUereLUiSH Yor yoD aSd Uhe UeaJ. Hood ADXR, harry\n"
     ]
    }
   ],
   "source": [
    "# From previous experience, this is probably a letter to Jodie from Harry.\n",
    "# The tool underneath the text indicates that this is an affine cipher.  Try substituting.\n",
    "decode(part_a_text.lower(), \"AorDEadHjJKLMyOehRSTUVWXYi\")"
   ]
  },
  {
   "cell_type": "code",
   "execution_count": 7,
   "metadata": {},
   "outputs": [
    {
     "name": "stdout",
     "output_type": "stream",
     "text": [
      "jodie, you were not Klaced with the archaeologiLtL aL a KuniLhJent; everyone takeL their turn on that LhiYt OecauLe we never know what Jight turn uK in old docuJentL. when i ran the grouK, we Yound evidence oY a ruLLian agent Klaced in the Ldece in the aYterJath oY the war who waL acting aL liaiLon with OritiLh and uL intelligence. Lhe had reJained undiLcovered Yor thirty-Yive yearL and leaked a whole load oY inYorJation acroLL the iron curtain. the teaJ cracked a Yialka ciKher YroJ 1956, and that led to an arreLt and conYeLLion. i adJit that the caLe you are working on doeLn’t LeeJ likely to have the LaJe iJKact, Out you never know where it Jight lead. i took a look at the KaKerL you Lent, and i thought thiL one looked very intereLting. the inYorJation it containL tieL down the year it waL written Kretty concluLively, and i have to Lay i don’t like the Lound oY the KhraLe “KroYit YroJ the LchleLwig conYlict”. i think it iL clear who J JuLt Oe, Out i aJ Ltill unLure aOout the otherL Jentioned in theLe letterL. i aJ alLo very unclear why J Jight have Oeen involved in what lookL like a conLKiracy aiJed at wartiJe KroYiteering. i checked, and there iL nothing on Yile YroJ the Keriod to LuggeLt that thiL waL LuLKected. indeed there waL nothing on Yile at all, which, thinking aOout it iL Llightly Ltrange. J waL a KuOlic Yigure and oY deYinite intereLt, Lo there Lhould Oe LoJething. iY you have tiJe it Jight Oe worth logging in to the recordL LyLteJ to Lee iY anyone elLe YroJ around then haL a LuLKiciouLly eJKty Yile. i would Ltart with KuOlic YigureL who have the initialL ch or Yn, aL the Lingle letterL a, t, e and w don’t give uL Juch to go on. oY courLe, we do know a little Jore aOout w, Lo that Jight alLo Oe a good Klace to Ltart. we know we are looking Yor an engineer with initial w, who knowL LoJething aOout codeL and ciKherL. whoever Yn iL, they are right that they Lhould talk to w. uLing caeLar and aYYine LhiYt ciKherL to encode their Lecret coJJunicationL iL Koor, and i would have eEKected Oetter YroJ an organiLation containing J. KerhaKL they will have taken the JyLteriouL w’L advice and will have Lwitched to LoJething Jore Lecure in their Yuture coJJunicationL. that will Jake liYe a little Jore intereLting Yor you and the teaJ. good luck, harry\n"
     ]
    }
   ],
   "source": [
    "# Looks promising.\n",
    "# yoD Vere -> D=u, V=w\n",
    "# ViUh Uhe -> U=t\n",
    "# eMeryoSe -> M=v, S=n\n",
    "# Hood ADXR -> H=G, A=l, X=c, R=k\n",
    "decode(part_a_text.lower(), \"loruEadgjJKLvyOehknTtwWcYi\")"
   ]
  },
  {
   "cell_type": "code",
   "execution_count": 8,
   "metadata": {},
   "outputs": [
    {
     "data": {
      "text/plain": [
       "'loruxadgjmpsvybehknqtwzcfi'"
      ]
     },
     "execution_count": 8,
     "metadata": {},
     "output_type": "execute_result"
    }
   ],
   "source": [
    "# There is a gap of 19 letters between A and C (period 9) and A is offset 5 characters from the start\n",
    "\n",
    "# Generate a translation key for an affine shift\n",
    "# start: position (0-25) to start\n",
    "# step: size of the step (must be 1, 3, 5, 7, 9, 11, 15, 17, 19, 21, 23, or 25)\n",
    "def generate_affine_key(start, step):\n",
    "    key = ['.' for n in range(26)]\n",
    "    pos = start\n",
    "    for letter in string.ascii_lowercase:\n",
    "        key[pos] = letter\n",
    "        pos = (pos + step) % 26\n",
    "    return \"\".join(key)\n",
    "\n",
    "generate_affine_key(5, 9)"
   ]
  },
  {
   "cell_type": "code",
   "execution_count": 9,
   "metadata": {},
   "outputs": [
    {
     "name": "stdout",
     "output_type": "stream",
     "text": [
      "Jodie, you were not placed with the Archaeologists as a punishment; everyone takes their turn on that shift because we never know what might turn up in old documents. When I ran the group, we found evidence of a Russian agent placed in the SDECE in the aftermath of the war who was acting as liaison with British and US intelligence. She had remained undiscovered for thirty-five years and leaked a whole load of information across the iron curtain. The team cracked a Fialka cipher from 1956, and that led to an arrest and confession. I admit that the case you are working on doesn’t seem likely to have the same impact, but you never know where it might lead. I took a look at the papers you sent, and I thought this one looked very interesting. The information it contains ties down the year it was written pretty conclusively, and I have to say I don’t like the sound of the phrase “profit from the Schleswig conflict”. I think it is clear who M must be, but I am still unsure about the others mentioned in these letters. I am also very unclear why M might have been involved in what looks like a conspiracy aimed at wartime profiteering. I checked, and there is nothing on file from the period to suggest that this was suspected. Indeed there was nothing on file at all, which, thinking about it is slightly strange. M was a public figure and of definite interest, so there should be something. If you have time it might be worth logging in to the records system to see if anyone else from around then has a suspiciously empty file. I would start with public figures who have the initials CH or FN, as the single letters A, T, E and W don’t give us much to go on. Of course, we do know a little more about W, so that might also be a good place to start. We know we are looking for an engineer with initial W, who knows something about codes and ciphers. Whoever FN is, they are right that they should talk to W. Using Caesar and affine shift ciphers to encode their secret communications is poor, and I would have expected better from an organisation containing M. Perhaps they will have taken the mysterious W’s advice and will have switched to something more secure in their future communications. That will make life a little more interesting for you and the team. Good luck, Harry\n"
     ]
    }
   ],
   "source": [
    "\n",
    "# Alternative version of the simple translation method, but this time preserving the case\n",
    "def decode2(text, key):\n",
    "    table = str.maketrans(string.ascii_letters, key.lower()+key.upper())\n",
    "    print(text.translate(table))\n",
    "\n",
    "decode2(part_a_text, \"loruxadgjmpsvybehknqtwzcfi\")"
   ]
  },
  {
   "cell_type": "code",
   "execution_count": 10,
   "metadata": {},
   "outputs": [],
   "source": [
    "# Part B - \"The profit motive\"\n",
    "part_b_text = \"\"\"Vx altylju V,\n",
    "Ptg du yltkkx el jdmullg xltyj jdgpl Ptyrkdgl wdyju cyrcrjla usdj qlgufyl? D ptggru elkdlql du tga bdjs bdus tkk vx sltyu ustu jsl prfka stql jllg sly qdjdrg utzdgh jstcl.\n",
    "Ktju Blagljatx D urrz usl rccryufgdux xrf jr zdgakx rwwlyla ur jll usl cyrhyljj bdus usl wrfgatudrg wry vxjlkw. D btj qlyx lgprfythla ex usl dgafjuyx rg adjcktx, srblqly D klwu bdus t prgplyg ustu bl vtx stql vdjptkpfktula dg rfy cktgj ur sdal usl wtpdkdux dg usl etjlvlgu rw usl efdkadgh. Usl qlgudktudrg uslyl bdkk, rw glpljjdux, el wty vryl yljuydpula ustg du brfka el rg usl fccly wkrryj, tj D zgrb wyrv vx rbg yljltyps. Usl lqdalgpl wyrv xrfy lmclydvlguj jfhhljuj ustu rfy alqdpl bdkk cyrafpl t qlyx ktyhl tvrfgu rw sltu dg rclytudrg. D ptggru jtx wry jfyl, efu du jllvj kdzlkx ustu usdj bdkk ptfjl cyreklvj, erus wry usl alqdpl dujlkw tga wry duj rclyturyj.\n",
    "Krrzdgh tu usl cktgj, D brgalyla eydlwkx dw bl prfka sdal du dgjulta rg tg fccly wkrry rw usl kdhsusrfjl, efu xrf tyl kdzlkx ur stql vtgx qdjduryj bsr tyl dgpkdgla ur pfydrjdux, tga D jfjclpu usl jlpylu brfka gru jutx jtwl wry krgh. Bl ptggru utzl tgx ydjz ustu vdhsu lmcrjl fj, tga lqlg dw bl zllc du elsdga t krpzla arry, usl grdjl du bdkk hlglytul dg rclytudrg bdkk cyrcthtul vryl ltjdkx tpyrjj usl bstyw, kltadgh ur nfljudrgj. Dg usl etjlvlgu bl ptg tu kltju jfccyljj usl grdjl, ylafpdgh ustu ydjz, efu ustu kltqlj usl djjfl rw vtgthdgh usl sltu.\n",
    "D tv tu t krjj. Tgx pstghlj bl btgu ur vtzl ur usl aljdhg rw usl kteryturyx tga duj wtpdkdudlj bdkk glla ur el vtal qlyx jrrg, tj rgpl usl fccly wkrryj tyl efdku wfyusly sltqx prgjuyfpudrg brfka tuuytpu fgbtgula tuulgudrg. Clystcj B bdkk el tekl ur jfhhlju jrvlusdgh; sl dj, twuly tkk, tg lghdglly. dg tgx ptjl, D btj cktggdgh ur tjz sdv ur ordg fj tj slta rw jlpfydux. D fgalyjutga ustu sl stj jrvl ytusly dgulyljudgh daltj terfu pralj tga pdcslyj.\n",
    "\n",
    "Rg t kljj cyljjdgh vtuuly, rfy wdyju lmclydvlguj bdus usl cyruruxcl tyl jsrbdgh jrvl jfppljj. Dw bl sta ellg tekl ur yfg uslv ltykdly usdj xlty, bl vtx lqlg stql ellg tekl ur cyrwdu wyrv usl Jpskljbdh prgwkdpu, tga du vtx gru el urr ktul ur ar jr dw bl ptg vredkdjl rfy thlguj. Uslyl dj vfps ur cktx wry slyl. Ruslyj bdkk el jllzdgh ur htdg wyrv usl prgwkdpu, tga D jll gr yltjrg bsx bl ptggru ar jr urr.\n",
    "Lqly xrfyj,\n",
    "WG\"\"\""
   ]
  },
  {
   "cell_type": "code",
   "execution_count": 11,
   "metadata": {},
   "outputs": [
    {
     "name": "stdout",
     "output_type": "stream",
     "text": [
      "VX AeTYeJt V,\n",
      "PTG Dt YeTKKX Ee JDMteeG XeTYJ JDGPe PTYRKDGe WDYJt CYRCRJeA thDJ QeGtFYe? D PTGGRt EeKDeQe Dt TGA BDJh BDth TKK VX heTYt thTt Jhe PRFKA hTQe JeeG heY QDJDRG tTZDGH JhTCe.\n",
      "KTJt BeAGeJATX D tRRZ the RCCRYtFGDtX XRF JR ZDGAKX RWWeYeA tR Jee the CYRHYeJJ BDth the WRFGATtDRG WRY VXJeKW. D BTJ QeYX eGPRFYTHeA EX the DGAFJtYX RG ADJCKTX, hRBeQeY D KeWt BDth T PRGPeYG thTt Be VTX hTQe VDJPTKPFKTteA DG RFY CKTGJ tR hDAe the WTPDKDtX DG the ETJeVeGt RW the EFDKADGH. the QeGtDKTtDRG theYe BDKK, RW GePeJJDtX, Ee WTY VRYe YeJtYDPteA thTG Dt BRFKA Ee RG the FCCeY WKRRYJ, TJ D ZGRB WYRV VX RBG YeJeTYPh. the eQDAeGPe WYRV XRFY eMCeYDVeGtJ JFHHeJtJ thTt RFY AeQDPe BDKK CYRAFPe T QeYX KTYHe TVRFGt RW heTt DG RCeYTtDRG. D PTGGRt JTX WRY JFYe, EFt Dt JeeVJ KDZeKX thTt thDJ BDKK PTFJe CYREKeVJ, ERth WRY the AeQDPe DtJeKW TGA WRY DtJ RCeYTtRYJ.\n",
      "KRRZDGH Tt the CKTGJ, D BRGAeYeA EYDeWKX DW Be PRFKA hDAe Dt DGJteTA RG TG FCCeY WKRRY RW the KDHhthRFJe, EFt XRF TYe KDZeKX tR hTQe VTGX QDJDtRYJ BhR TYe DGPKDGeA tR PFYDRJDtX, TGA D JFJCePt the JePYet BRFKA GRt JtTX JTWe WRY KRGH. Be PTGGRt tTZe TGX YDJZ thTt VDHht eMCRJe FJ, TGA eQeG DW Be ZeeC Dt EehDGA T KRPZeA ARRY, the GRDJe Dt BDKK HeGeYTte DG RCeYTtDRG BDKK CYRCTHTte VRYe eTJDKX TPYRJJ the BhTYW, KeTADGH tR NFeJtDRGJ. DG the ETJeVeGt Be PTG Tt KeTJt JFCCYeJJ the GRDJe, YeAFPDGH thTt YDJZ, EFt thTt KeTQeJ the DJJFe RW VTGTHDGH the heTt.\n",
      "D TV Tt T KRJJ. TGX PhTGHeJ Be BTGt tR VTZe tR the AeJDHG RW the KTERYTtRYX TGA DtJ WTPDKDtDeJ BDKK GeeA tR Ee VTAe QeYX JRRG, TJ RGPe the FCCeY WKRRYJ TYe EFDKt WFYtheY heTQX PRGJtYFPtDRG BRFKA TttYTPt FGBTGteA TtteGtDRG. CeYhTCJ B BDKK Ee TEKe tR JFHHeJt JRVethDGH; he DJ, TWteY TKK, TG eGHDGeeY. DG TGX PTJe, D BTJ CKTGGDGH tR TJZ hDV tR ORDG FJ TJ heTA RW JePFYDtX. D FGAeYJtTGA thTt he hTJ JRVe YTtheY DGteYeJtDGH DAeTJ TERFt PRAeJ TGA PDCheYJ.\n",
      "\n",
      "RG T KeJJ CYeJJDGH VTtteY, RFY WDYJt eMCeYDVeGtJ BDth the CYRtRtXCe TYe JhRBDGH JRVe JFPPeJJ. DW Be hTA EeeG TEKe tR YFG theV eTYKDeY thDJ XeTY, Be VTX eQeG hTQe EeeG TEKe tR CYRWDt WYRV the JPhKeJBDH PRGWKDPt, TGA Dt VTX GRt Ee tRR KTte tR AR JR DW Be PTG VREDKDJe RFY THeGtJ. theYe DJ VFPh tR CKTX WRY heYe. RtheYJ BDKK Ee JeeZDGH tR HTDG WYRV the PRGWKDPt, TGA D Jee GR YeTJRG BhX Be PTGGRt AR JR tRR.\n",
      "eQeY XRFYJ,\n",
      "WG\n"
     ]
    }
   ],
   "source": [
    "# Lots of \"usl\" in there - assume that's \"the\".\n",
    "decode(part_b_text.lower(), \"ABCDEFGHIJKeMNOPQRhTtVWXYZ\")"
   ]
  },
  {
   "cell_type": "code",
   "execution_count": 14,
   "metadata": {},
   "outputs": [
    {
     "data": {
      "text/plain": [
       "'dwpibungzslexqjcvohatmfyrk'"
      ]
     },
     "execution_count": 14,
     "metadata": {},
     "output_type": "execute_result"
    }
   ],
   "source": [
    "# thTt -> T=a\n",
    "# Jee -> J=s\n",
    "# thDJ -> D=i (or u?)\n",
    "# 11 chars between h and i, a offset by 19\n",
    "generate_affine_key(19, 11)"
   ]
  },
  {
   "cell_type": "code",
   "execution_count": 15,
   "metadata": {},
   "outputs": [
    {
     "name": "stdout",
     "output_type": "stream",
     "text": [
      "My dearest M,\n",
      "Can it really be sixteen years since Caroline first proposed this venture? I cannot believe it and wish with all my heart that she could have seen her vision taking shape.\n",
      "Last Wednesday I took the opportunity you so kindly offered to see the progress with the foundation for myself. I was very encouraged by the industry on display, however I left with a concern that we may have miscalculated in our plans to hide the facility in the basement of the building. The ventilation there will, of necessity, be far more restricted than it would be on the upper floors, as I know from my own research. The evidence from your experiments suggests that our device will produce a very large amount of heat in operation. I cannot say for sure, but it seems likely that this will cause problems, both for the device itself and for its operators.\n",
      "Looking at the plans, I wondered briefly if we could hide it instead on an upper floor of the lighthouse, but you are likely to have many visitors who are inclined to curiosity, and I suspect the secret would not stay safe for long. We cannot take any risk that might expose us, and even if we keep it behind a locked door, the noise it will generate in operation will propagate more easily across the wharf, leading to questions. In the basement we can at least suppress the noise, reducing that risk, but that leaves the issue of managing the heat.\n",
      "I am at a loss. Any changes we want to make to the design of the laboratory and its facilities will need to be made very soon, as once the upper floors are built further heavy construction would attract unwanted attention. Perhaps W will be able to suggest something; he is, after all, an engineer. in any case, I was planning to ask him to join us as head of security. I understand that he has some rather interesting ideas about codes and ciphers.\n",
      "\n",
      "On a less pressing matter, our first experiments with the prototype are showing some success. If we had been able to run them earlier this year, we may even have been able to profit from the Schleswig conflict, and it may not be too late to do so if we can mobilise our agents. There is much to play for here. Others will be seeking to gain from the conflict, and I see no reason why we cannot do so too.\n",
      "Ever yours,\n",
      "FN\n"
     ]
    }
   ],
   "source": [
    "decode2(part_b_text, \"dwpibungzslexqjcvohatmfyrk\")"
   ]
  },
  {
   "cell_type": "code",
   "execution_count": null,
   "metadata": {},
   "outputs": [],
   "source": []
  }
 ],
 "metadata": {
  "kernelspec": {
   "display_name": "Python 3 (ipykernel)",
   "language": "python",
   "name": "python3"
  },
  "language_info": {
   "codemirror_mode": {
    "name": "ipython",
    "version": 3
   },
   "file_extension": ".py",
   "mimetype": "text/x-python",
   "name": "python",
   "nbconvert_exporter": "python",
   "pygments_lexer": "ipython3",
   "version": "3.9.5"
  }
 },
 "nbformat": 4,
 "nbformat_minor": 4
}
