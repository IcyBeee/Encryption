{
 "cells": [
  {
   "cell_type": "markdown",
   "metadata": {},
   "source": [
    "# Cipher Challenge 2021\n",
    "### Practice Challenge 1\n",
    "\n",
    "Challenge link https://www.cipherchallenge.org/challenge/practice-challenge-1/"
   ]
  },
  {
   "cell_type": "code",
   "execution_count": 2,
   "metadata": {},
   "outputs": [],
   "source": [
    "# Part A - \"\"\n",
    "part_a_text = \"\"\"\"\"\""
   ]
  },
  {
   "cell_type": "code",
   "execution_count": 2,
   "metadata": {},
   "outputs": [],
   "source": [
    "# Bring in the basic decoder function\n",
    "import string\n",
    "\n",
    "# A simple translation method.\n",
    "# text: The text to translate, in upper case\n",
    "# key: A substitution alphabet, usually in lower case so that the translated characters show up\n",
    "def decode(text, key):\n",
    "    table = str.maketrans(string.ascii_uppercase, key)\n",
    "    print(text.upper().translate(table))"
   ]
  },
  {
   "cell_type": "code",
   "execution_count": 3,
   "metadata": {},
   "outputs": [
    {
     "name": "stdout",
     "output_type": "stream",
     "text": [
      "1. read this mission briefing and make sure you understand what you need to do.\n",
      "2. if you are working with others assemble your team and assign duties. make sure you have setup a team and nominated a team captain so they can submit your solutions.\n",
      "3. check mission deadlines to make sure you don't miss an important bulletin. you can find them on the challenge pages.\n",
      "4. check the mission rules so you know what is allowed and what isn't. you can find them in the instructions section along with other useful information.\n",
      "5. if you are new to codebreaking then take a look at our training pages for some help and guidance.\n",
      "6. whether you are new or experienced, download the boss cryptanalyst handbook, either from the boss library or from the training page.\n",
      "7. for each round of this mission decipher the briefing note (part a) and submit it using the box at the bottom of that page to make sure you have understood what you need to do. then tackle the mission segment (part b). you do not have to wait until you have broken the enemy transmission (part b) before you submit part a.\n",
      "8. you can practice by cracking the encrypted version of this briefing note above, but you don't need to submit it as you can compare your decrypt with this plaintext version.\n",
      "9. as soon as you have broken the enemy transmission submit it to our analysts by using the box at the bottom of part b.\n",
      "10. if you need support from boss then go to your secret account page where you will find a record of your submissions and any feedback from our analysts. if they think that you have misunderstood your instructions or made a mistake in deciphering the enemy comms then they will flag that here and you can revisit the mission page to submit again.\n",
      "11. check your submission status on your account page - your achievements will be recorded there and on the leaderboard. \n"
     ]
    }
   ],
   "source": [
    "# I Think I can see the word \"mission\" in the first line, so this is probably just a single letter shift\n",
    "decode(part_a_text, \"zabcdefghijklmnopqrstuvwxy\")"
   ]
  },
  {
   "cell_type": "code",
   "execution_count": 1,
   "metadata": {},
   "outputs": [],
   "source": [
    "# Part B - \"\"\n",
    "part_b_text = \"\"\"\"\"\""
   ]
  },
  {
   "cell_type": "code",
   "execution_count": 5,
   "metadata": {},
   "outputs": [
    {
     "name": "stdout",
     "output_type": "stream",
     "text": [
      "in 2021 a television production team building a set at trinity wharf, london discovered a hidden staircase leading to a cavernous suite of rooms deep beneath faraday’s lighthouse. it was filled with abandoned desks and empty filing cabinets, but in one of the drawers they found a mysterious folder, clearly very old, filled with charts, documents, maps and figures. much of the text was encrypted, and each document was stamped with an image of the lighthouse. unable to decipher the contents but sensing a scoop and the possibility of a brand new series the producer sent the folder to the v&a for restoration and advice. the curator, an alumnus of the national cipher challenge, managed to break one of the ciphers and was so intrigued by what she read that she sent it to her friend jodie, who was now working with gchq. what she discovered has shaken the british and american security establishment to its core. unsure who to trust they need your help to crack the codes and to track down and defeat the lighthouse conspiracy.\n"
     ]
    }
   ],
   "source": [
    "# Lots of \"KYV\" in there - assume that's \"the\".\n",
    "# Fill in the rest of the letters sequentially\n",
    "decode(part_b_text, \"jklmnopqrstuvwxyzabcdefghi\")"
   ]
  },
  {
   "cell_type": "code",
   "execution_count": null,
   "metadata": {},
   "outputs": [],
   "source": []
  }
 ],
 "metadata": {
  "kernelspec": {
   "display_name": "Python 3 (ipykernel)",
   "language": "python",
   "name": "python3"
  },
  "language_info": {
   "codemirror_mode": {
    "name": "ipython",
    "version": 3
   },
   "file_extension": ".py",
   "mimetype": "text/x-python",
   "name": "python",
   "nbconvert_exporter": "python",
   "pygments_lexer": "ipython3",
   "version": "3.9.5"
  }
 },
 "nbformat": 4,
 "nbformat_minor": 4
}
