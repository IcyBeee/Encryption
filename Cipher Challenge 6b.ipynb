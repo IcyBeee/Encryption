{
 "cells": [
  {
   "cell_type": "markdown",
   "metadata": {},
   "source": [
    "# Cipher Challenge 6b"
   ]
  },
  {
   "cell_type": "markdown",
   "metadata": {},
   "source": [
    "Confession time.<br>\n",
    "I needed help for this one.  The clue in 6a: \"a combination of anagramming and substitution\" wasn't enough for me.<br>\n",
    "After reading the hints in the forum, I found that the text was a substitution cipher, but divided into blocks of a fixed size, each of which was reversed.  So I have to figure out what size the block is, reverse them, then go through the usual motions with a substitution cipher."
   ]
  },
  {
   "cell_type": "code",
   "execution_count": 1,
   "metadata": {},
   "outputs": [],
   "source": [
    "# The new message:\n",
    "message6b = \"WKQCN TVHPK CHTNU JRSCP QHQJP URWTH KVRFV JRAUH QANCR WJCQP RTSCK CQTPJ HAJRW TQRAG NRRJC HQAQQ TNRHP CRAJC ARRTP TQKON URNKX JCEJC SRHQT RHKQN HQITV RQCLC FTPQP VTLST RVJRR PZNUV ZQCRH QHRNQ PTHSC JRQOA RQQUZ RHWTH RORUJ ROTJQ RFCAK KVPNR WKHXC QCHQP CQTKX PCENQ SJJUK NRAJC GHQRN CRIIR QNKKQ PFKVC JKPRP VTLKJ RRJKQ JCERH KOSNS NPCUT XTKRN JTIKO ZXZAE NKSJC NCAQV RIZFU NKHXP KXKAF UVNKF UKTHA VRWNN TARCQ UKRHQ TRPTQ QPEVN UIRHQ KGNQR NNRHE PCTIK PRJFT VCQTF JKATR SJCTK QKFFX QUGNT JTRHQ POQTB RNRJH KXWAF UWRJV NRJUK JRQVJ TNKRQ UTNKH RBCVU PGTHP PCJKC RWRIC JHRXQ ATTRH RPPCP QFLJR VTVKQ NNTQC ZQUKR HQGRG ZNKQI KVRHI JKJKN QTQJK CRWKH QNCGR CPPOR FRPTE JCTOU CQPOF FJNUJ TPHQA KLRCP PFCOZ QCJIK FVUNT RJJTC HCQTF JKCQP CPKKK NQQSJ UDKCQ PQZIP CHNKP IKQQV TJKCA JCARR RHQFK LOQCK NUPTH QRAGN RRJCH QAQQT NRHRV TPKQV TLPCR QRONR QUKIQ HSJJC NTRNT RKHQC ONHXQ RNRNU KJXKV RQKJH SKFTH ZFTPT RNLZA WKNCA RRPQQ IFROK LUPCN RQNKI RHPNC TPQFR QQCFJ TRHQA CIRQP NJTGA RJTLP IRVSC FPQHN RXVTR GKVCF LRHPZ OANUK NRHPR KOQTE CTUJK UKNGT NCNRJ TVGKV ATNGP RHZTR WTKHQ HSUPU QTRXH XEXJR KGRAR WNUKJ UFKNT CONNR QRKQU PJQRN PRHRI TKZQH QINCR NCIFQ PTJUT FNCAJ OSJQQ UPCHP TXRJT CQJFR NQPZQ TNCSR KGVCR WRQJR AJKQA CUOVA FIJKR ACRVJ QRORR XUKJX QNTJK KCQXP JQTHF CXHQF AZRKJ KHQXQ QTQTH RHQNC IFQPT JUTFN CAJHS JOPTJ RRVVT LGKPC FARHN KGTFR CAJPS JXKHJ TGKGZ NJKEV KTVPH QJLZR PPKFO CRJZT ARXAJ QTHFC XQCFP KVKIQ HQNQG RNOKS JCRHQ KHGRR GNRWC GZCPP QJKZR HUTFH VJPCN VPETQ TNQPH LKIVC FCTRN UAJTX KJPQC GRRHQ PKQTK RJHQI NCRJX KXPCE NKSJC RKQUP JQRNQ RHTQK UHFFC GQTCJ KCQIK VRHCL TFTQQ PCPZP GRQTR GHXJR FCNUK TKSTP FORNQ QRGNR OQRQP ZWCNS JCFKQ NTRNI JQGKT RHNRG TVCVP JLKKT NRJCQ HXSRN RGRXQ PURKQ UPJQR NQTHX RXXJC NRHRX RJTVP TJATT JCGQP CQTNP NKWTH FTRTR NGZAR ATRWK UQNPR NUKQK VPRVJ CJNDS JJCKY RQKFL QTNJK CAJTN UKTFL PCJOK QFCUJ KARHQ ZNAJR ATFOJ KSWTN TWKRN SRGRC QJRXI JTVKK VCANQ TJDTR JCKCG QCPPQ JKPCH KHPAF UWCSP URVVT PPRPK QRGKQ IKTRH NRGTV CRQJJ HVTVC JTFNQ AJCTS JCQTG CNRPF TCHXK RFKNU NJXEV KPQRQ PZPGR RNTNT INKGK PRCHL CQPQT VQARJ THRHQ PNCRH QNNCC FRVJT JKRRH QCEPK FFHQI NCRQP TJKNQ UTRGP PJTTH QHQQH ZRRWT TRFRJ NTIAK GNTRN UKOHQ QCFRQ CGIKP GUHRJ TUAJJ TNTRV LAJIN RGNKV JTHQR XJTTH RORWJ RRFOT KQRIK PCNTC XQQFF RETGK PCQRQ RGWKK VNRRG KRHQR GTVCN AJTQP CPUNI KQNUK TQPTR QCAJT PQJRS RCVUO PPTQJ KFPTS RHQKA ZQKJF ROWRC HQRXQ TNTRR ORJCH HQARN RJRVT PQQKO RSTQQ TLGRQ PQJRH HQCEJ CXRXF FCTRO RFOTK QCHVR WRCHQ KSPTF\"\n",
    "squished = message6b.replace(\" \", \"\")"
   ]
  },
  {
   "cell_type": "code",
   "execution_count": 3,
   "metadata": {},
   "outputs": [
    {
     "name": "stdout",
     "output_type": "stream",
     "text": [
      "R: 250 (12.32%) Q: 210 (10.34%) T: 172 (8.47%) K: 163 (8.03%) C: 151 (7.44%) \n",
      "J: 148 (7.29%) N: 137 (6.75%) P: 127 (6.26%) H: 113 (5.57%) F: 72 (3.55%) \n",
      "V: 65 (3.20%) U: 62 (3.05%) A: 60 (2.96%) G: 51 (2.51%) X: 43 (2.12%) \n",
      "O: 37 (1.82%) I: 37 (1.82%) S: 33 (1.63%) Z: 29 (1.43%) W: 27 (1.33%) \n",
      "L: 21 (1.03%) E: 16 (0.79%) D:  3 (0.15%) B:  2 (0.10%) Y:  1 (0.05%) \n",
      "\n",
      "-----\n"
     ]
    }
   ],
   "source": [
    "# The clue in the 6a message is \"a combination of anagramming and substitution\"\n",
    "# Let's do frequency analysis on the letters:\n",
    "from collections import Counter\n",
    "\n",
    "def frequency_analysis(data):\n",
    "    frequencies = Counter()\n",
    "    for item in data:\n",
    "        frequencies[item] += 1\n",
    "    \n",
    "    total = sum(frequencies.values())\n",
    "    column = 0\n",
    "    for item, frequency in frequencies.most_common():\n",
    "        print(f\"{item}: {frequency:2} ({frequency / total:.2%})\", end=\" \")\n",
    "        column += 1\n",
    "        if column %5 == 0:\n",
    "            print()\n",
    "    print(\"\\n-----\")\n",
    "\n",
    "frequency_analysis(squished)"
   ]
  },
  {
   "cell_type": "code",
   "execution_count": 4,
   "metadata": {},
   "outputs": [
    {
     "name": "stdout",
     "output_type": "stream",
     "text": [
      "RHQ: 17 NUK:  8 QTN:  7 NTR:  7 HQA:  6 \n",
      "NCR:  6 CQT:  6 TRH:  6 QRN:  6 SJC:  6 \n",
      "JKC:  6 CAJ:  6 TRN:  6 RJT:  6 CQP:  5 \n",
      "KCQ:  5 RJC:  5 CHQ:  5 NRH:  5 RNQ:  5 \n",
      "QPT:  5 ROR:  5 JQR:  5 QPC:  5 HQR:  5 \n",
      "TVC:  5 NRJ:  5 RQP:  5 PTJ:  5 QHQ:  4 \n"
     ]
    }
   ],
   "source": [
    "# Look for repeated patterns\n",
    "digraphs = Counter()\n",
    "trigraphs = Counter()\n",
    "for index in range(len(squished)):\n",
    "    digraphs[squished[index:index+2]] += 1\n",
    "    trigraphs[squished[index:index+3]] += 1\n",
    "\n",
    "column=0\n",
    "for item, trigraph in trigraphs.most_common(30):\n",
    "    print(f\"{item}: {trigraph:2}\", end=\" \")\n",
    "    column += 1\n",
    "    if column %5 == 0:\n",
    "        print()"
   ]
  },
  {
   "cell_type": "code",
   "execution_count": 5,
   "metadata": {},
   "outputs": [
    {
     "name": "stdout",
     "output_type": "stream",
     "text": [
      "111,42,189,15,50,97,141,146,274,117,65,280,180,6,15,153,54,-1936,"
     ]
    }
   ],
   "source": [
    "# Let's compare these letters with the standard English letter frequency\n",
    "# (Copied from http://pi.math.cornell.edu/~mec/2003-2004/cryptography/subs/frequencies.html)\n",
    "\n",
    "# RQTKCJNPHFVUAGXOISZWLEDBYM (This text)\n",
    "# ETAOINSRHDLUCMFYWGPBVKXQJZ (English)\n",
    "\n",
    "# RHQ is probably \"eht\".\n",
    "# Let's search the text to see how many of them there are, and what their separations are...\n",
    "index=0\n",
    "while index>=0:\n",
    "    new_index = squished.find(\"RHQ\", index+1)\n",
    "    print(new_index-index, end=\",\")\n",
    "    index=new_index"
   ]
  },
  {
   "cell_type": "markdown",
   "metadata": {},
   "source": [
    "Most of those are multiples of three.  Which <i>may</i> indicate that the message is in chunks of three, which will need reversing"
   ]
  },
  {
   "cell_type": "code",
   "execution_count": 2,
   "metadata": {},
   "outputs": [],
   "source": [
    "# This looks fairly like a normal English distribution.\n",
    "# We'll be needing the decode function again\n",
    "import string\n",
    "\n",
    "def decode(text, key):\n",
    "    table = str.maketrans(string.ascii_uppercase, key)\n",
    "    print(text.upper().translate(table))"
   ]
  },
  {
   "cell_type": "code",
   "execution_count": 20,
   "metadata": {},
   "outputs": [
    {
     "name": "stdout",
     "output_type": "stream",
     "text": [
      "tovarishchiouragentsintheushaveconcludedtheirinvestigationsandhavedeterminedthatthereisindeedasaboteurworkingintheheartofthecapitalistspaceagencysecuritytherehastightenedbuttheyhavebeenunabletodiscoverwhoitisthatisworkingtounderminetheireffortstocolonisespacenooneinthekgborgruisawareofanybodyworkingdirectlyforuswhowouldorcouldhavecarriedouttheseattacksfurthermoretheriskofanescalationleadingtoalloutwarmeansthatbrezhnevwouldnevercountenanceorauthorizesuchamissionevenifwehadtheassetsinplacetocarryitoutthememoryoftheconfrontationoverthemissilebaseinkubastillburnsandthepossibilityofnuclearannihilationistoostrongtojustifythissortofactionindeedthepolitburohasdeterminedthattheracetospaceisbetterfoughtinnearearthorbitwhereourowntechnologyhasalreadyproveditselftobesuperiorthefirstsatelliteandthefirstmannedspaceflightswereaccomplishedbyourheroesatbaikonurouramericancomradesmayhavethoughtusweakwhenwemovedourlunarorbitertoensurethesafetyoftheirfirstlunarlandingbutthiswasanentirelystrategicmoveintendedtobuildconfidencebetweenourtwonationswhatwilltheydonowthatthatthefirstlunarlandinghasbeenaccomplishedmorelandingshowmanymoonrockscantheypossiblyneedandwhatwillitcostforthemtobringthemhomeeverymissiontheylaunchriskscatastrophicfailureandnowitseemsthatoneoftheirownisworkingtoensurethetotalhumiliationofthecapitalistsystemmeanwhileourgoalsarebettermetbystrivingtolearnfromtheamericanscooperatingwherewemusttoensurethatwewinwherewecannasaadministratorshavealreadymadeoverturestousconcerningjointexplorationandourplanistobuildonthedrydenblagonravovagreementifwecancoordinateajointmissionthisshouldgiveusaccesstosomeoftheamericantechnicalandtrainingmaterialswhileourownrocketsystemsarefarmoresophisticatedthantheirstheirrelianceontheskilloftheirastronautsmeansthattheyhavelearnedfarmoreaboutthelimitsofhumanenduranceandperformancethanwehavebeenabletosofaritwilltakesometimetoovercometheamericandistrustofourstateanditsagenciesbutaslongastheydonotbelievethatwearebehindtherecentsabotageattemptsthenithinkwewillbeabletoachievethisgola\n"
     ]
    }
   ],
   "source": [
    "# Here's a function to reverse chunks by the given block size...\n",
    "\n",
    "def reverse_chunks(text, chunk_size):\n",
    "    transposed = \"\"\n",
    "    for index in range(0, len(text), chunk_size):\n",
    "        transposed += text[index:index+chunk_size][::-1]\n",
    "    return transposed\n",
    "\n",
    "# Finally, go through the motions and work out the substitution key for the resulting text\n",
    "decode(reverse_chunks(squished, 3), \"dzijklmhfnopqrbstegaucvwxy\")"
   ]
  },
  {
   "cell_type": "markdown",
   "metadata": {},
   "source": [
    "#### That'll do.  Edited version follows...\n",
    "To Varishchi,\n",
    "Our agents in the US have concluded their investigations and have determined that there is indeed a saboteur working in the heart of the capitalist space agency.<br>\n",
    "Security there has tightened, but they have been unable to discover who it is that is working to undermine their efforts to colonise space.<br>\n",
    "No-one in the KGB or GRU is aware of anybody working directly for us who would or could have carried out these attacks. Furthermore, the risk of an escalation leading to all-out war means that Brezhnev would never countenance or authorize such a mission, even if we had the assets in place to carry it out.<br>\n",
    "The memory of the confrontation over the missile base in Kuba still burns and the possibility of nuclear annihilation is too strong to justify this sort of action.<br>\n",
    "Indeed, the Politburo has determined that the race to space is better fought in near Earth orbit, where our own technology has already proved itself to be superior.<br>\n",
    "The first satellite and the first manned space flights were accomplished by our heroes at Baikonur.<br>\n",
    "Our American comrades may have thought us weak when we moved our lunar orbiter to ensure the safety of their first lunar landing, but this was an entirely strategic move intended to build confidence between our two nations.<br>\n",
    "What will they do now that that the first lunar landing has been accomplished?<br>\n",
    "More landings? How many moon rocks can they possibly need and what will it cost for them to bring them home?<br>\n",
    "Every mission they launch risks catastrophic failure and now it seems that one of their own is working to ensure the total humiliation of the capitalist system.<br>\n",
    "Meanwhile, our goals are better met by striving to learn from the Americans, co-operating where we must to ensure that we win where we can.\n",
    "NASA administrators have already made overtures to us concerning joint exploration and our plan is to build on the Dryden-Blagonravov agreement if we can coordinate a joint mission.<br>\n",
    "This should give us access to some of the American technical and training materials, while our own rocket systems are far more sophisticated than theirs.\n",
    "Their reliance on the skill of their astronauts means that they have learned far more about the limits of human endurance and performance than we have been able to so far.<br>\n",
    "It will take some time to overcome the American distrust of our state and its agencies, but as long as they do not believe that we are behind the recent sabotage attempts, then I think we will be able to achieve this goal.<br>\n",
    "\n",
    "(NOTE - The last two letter needed to be swapped, this is because the total number of letters was not a multiple of three.  The \"la\" was not reversed)\n"
   ]
  },
  {
   "cell_type": "markdown",
   "metadata": {},
   "source": [
    "### And the key...\n",
    "<pre>\n",
    "ABCDEFGHIJKLMNOPQRSTUVWXYZ\n",
    "dzijklmhfnopqrbstegaucvwxy</pre>\n",
    "Keyword is... TOVARISHC (To Varishchi)"
   ]
  },
  {
   "cell_type": "code",
   "execution_count": 3,
   "metadata": {},
   "outputs": [
    {
     "name": "stdout",
     "output_type": "stream",
     "text": [
      "saturnvwxyzbcdefghijklmopq\n",
      "lunarstvwxyzbcdefghijkmopq\n",
      "solartuvwxyzbcdefghijkmnpq\n",
      "tovarishcdefgjklmnpquwxyzb\n"
     ]
    }
   ],
   "source": [
    "# Let's try to write a function to work out the key\n",
    "def decode_key(key):\n",
    "    for letter in string.ascii_lowercase:\n",
    "        print(chr(key.find(letter) + ord(\"a\")), end=\"\")\n",
    "    print()\n",
    "\n",
    "\n",
    "# Test with all the previous keys...\n",
    "decode_key(\"blmnopqrstuvwfxyzeacdghijk\")\n",
    "decode_key(\"dmnopqrstuvawcxyzefgbhijkl\")\n",
    "decode_key(\"dmnopqrstuvcwxbyzeafghijkl\")\n",
    "decode_key(\"dzijklmhfnopqrbstegaucvwxy\")\n",
    "\n",
    "#...needs something to separate the keyword out.  Will think about it!"
   ]
  },
  {
   "cell_type": "code",
   "execution_count": 6,
   "metadata": {},
   "outputs": [
    {
     "name": "stdout",
     "output_type": "stream",
     "text": [
      "blmnopqrstuvwfxyzeacdghijk\n",
      "dmnopqrstuvawcxyzefgbhijkl\n",
      "dmnopqrstuvcwxbyzeafghijkl\n",
      "dzijklmhfnopqrbstegaucvwxy\n"
     ]
    }
   ],
   "source": [
    "# How about a function to generate a substitute alphabet from a key...\n",
    "def encode_key(keyword):\n",
    "    keyword = keyword.lower()\n",
    "    key = dict()\n",
    "    letters = list(string.ascii_lowercase)\n",
    "    for letter in keyword:\n",
    "        if letter.isalpha() and letter not in key:\n",
    "            key[letter] = letters.pop(0)\n",
    "            last = letter\n",
    "    \n",
    "    letter = last\n",
    "    while letters:\n",
    "        letter = \"a\" if letter == \"z\" else chr(ord(letter)+1)\n",
    "        if letter not in key:\n",
    "            key[letter] = letters.pop(0)\n",
    "\n",
    "    for letter in sorted(key.keys()):\n",
    "        print(key[letter], end=\"\")\n",
    "    print()\n",
    "\n",
    "    \n",
    "# Test with the previous keys...\n",
    "encode_key(\"Saturn V\")\n",
    "encode_key(\"lunar\")\n",
    "encode_key(\"solar\")\n",
    "encode_key(\"To Varishchi\")"
   ]
  },
  {
   "cell_type": "code",
   "execution_count": null,
   "metadata": {},
   "outputs": [],
   "source": []
  }
 ],
 "metadata": {
  "kernelspec": {
   "display_name": "Python 3",
   "language": "python",
   "name": "python3"
  },
  "language_info": {
   "codemirror_mode": {
    "name": "ipython",
    "version": 3
   },
   "file_extension": ".py",
   "mimetype": "text/x-python",
   "name": "python",
   "nbconvert_exporter": "python",
   "pygments_lexer": "ipython3",
   "version": "3.7.4"
  }
 },
 "nbformat": 4,
 "nbformat_minor": 4
}
