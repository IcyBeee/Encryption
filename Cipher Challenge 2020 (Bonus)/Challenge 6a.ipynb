{
 "cells": [
  {
   "cell_type": "markdown",
   "metadata": {},
   "source": [
    "# Coronavirus distraction Cipher Challenge 2020\n",
    "## Challenge 6a, For Their Protection\n",
    "Challenge link https://www.cipherchallenge.org/challenge/competition-challenge-6/"
   ]
  },
  {
   "cell_type": "code",
   "execution_count": 1,
   "metadata": {},
   "outputs": [],
   "source": [
    "message6a=\"\"\"FCBJA YNMVN PMMAZ NMMAG ALQPQ YLQIL IYMLA BJCRA LAHAZ CSZHC MQIPA SIGIP MQAEC FWFQI TCIIP HNRMC XNHAB PPNBP AGQMM NWFQI BMATG APMVM BJNLZ AFAPA BPENA LOHNR ATYCF AHHNB RALQR AMALI GMCBP JQPAM IPGNA PMHIC PNRCH QGGIR LQIWA EMNCV BTMCB RCBTV LIPRN YABPH IARHA ZCFFA PHCBP CTMQW AAYIP VLPHQ IRABP HCELI TPAHL QIVHI VFCSN ABZHC VFALA OFFCT ATPUA HIWIP PNBTP QIELI TIPWI CLAJP NBPAM QHNRA TWHNA FCBTN AENPF FCTPN BPPQO MERIP MHTIL CABPJ QWFCQ OVABP FCPHQ AGCPY ILAPP NGNVF HIMCP CHNEQ DLYIF ILPHI RHAEN PASNB MMABP PNBPT IHLAP NTVSN ABABP APNQR NSAIP AFONM NTLAC FFNLQ ACMHI GPNBP WNFZV LASAG MAENG AZNMM AGABP AQFRZ CONAG ASNZP NBPWH NGQCL APMCH CGMZH QBACX LAMBR CALAB PLIYP AZLNP PHNPL IJGCH NMNTI LWVBE MLIHA RHCML IYEII FIPPN BTNAW CAGIM WNBCV FCERQ FHICP CMIJM HNLPL NHGQF IRNPA VHAAM ASNBA TLABJ CRALQ RAMPM IGABP AMQML AWLIA BPVFZ HCMCL JLQMH QMAZH NBRPN BPAMN RHCAR HAZCF FAPHC AENYL IYPQI EIIFI PWAAH FFCTA TPQOW APRAP AWHAA OPAVP IHMNB GAPMV MRCBJ NLZAF APALQ RAMAB PIPHC JNPLC ABPFF APHNR ATMNL NYMNA ZHNBR UAAHI BJAFA PABPI PPUAH MLAPL NQKWN ABNWA BMCFO NPMAA SNBIB TFNPC JNRAB PHCMP HAZNM MIOVO WAPJA RLAPH CALAT MLAWL IHICM NSHCW ABRNP PNABP HICMM ALZZN BMCPC LOIRH NLYPM HCNZN VPCFN LPQAH MVLPH QIRAB PPRAP ILJIP ALABP ALNPB RNGLB ATABP MCAHC FFNCR CYYIA BPNWH NZNJI LJCXN HABPY IPLNJ PHNRC YCHZC MNTIH MCPNB PWHNA LSQAI HNGLA PHQIR NZHCM MQRMC WVFHA JIHAA OWNBB MCPCL OABPA HIVHN IPERI BMIHM NAGIR MNBPC HICMN SHCAB PPQIO NTIHV OWLNA BASNB QIVMM AQZCV LLNB\"\"\""
   ]
  },
  {
   "cell_type": "code",
   "execution_count": 2,
   "metadata": {},
   "outputs": [
    {
     "name": "stdout",
     "output_type": "stream",
     "text": [
      "A: 160 (13.07%) P: 127 (10.38%) N: 106 (8.66%) I: 85 (6.94%) C: 83 (6.78%)\n",
      "M: 82 (6.70%) H: 81 (6.62%) B: 74 (6.05%) L: 70 (5.72%) Q: 45 (3.68%)\n",
      "F: 44 (3.59%) R: 43 (3.51%) T: 29 (2.37%) W: 27 (2.21%) V: 26 (2.12%)\n",
      "Z: 25 (2.04%) G: 25 (2.04%) J: 20 (1.63%) Y: 18 (1.47%) E: 16 (1.31%)\n",
      "O: 16 (1.31%) S: 14 (1.14%) X:  3 (0.25%) U:  3 (0.25%) D:  1 (0.08%)\n",
      "K:  1 (0.08%) \n",
      "-----\n"
     ]
    }
   ],
   "source": [
    "from collections import Counter\n",
    "\n",
    "# Takes a string or list of items and counts the frequencies of those items\n",
    "# data: The list or string to analyse\n",
    "# max_values: The maximum number of values to display (set to None for no limit)\n",
    "# no_columns: The amount of columns to use in the output\n",
    "def frequency_analysis(data, max_values=30, no_columns=5):\n",
    "    frequencies = Counter()\n",
    "    for item in data:\n",
    "        frequencies[item] += 1\n",
    "    \n",
    "    total = sum(frequencies.values())\n",
    "    column = 1\n",
    "    for item, frequency in frequencies.most_common(max_values):\n",
    "        print(f\"{item}: {frequency:2} ({frequency / total:.2%})\", end=\" \" if column % no_columns else \"\\n\")\n",
    "        column += 1\n",
    "    print(\"\\n-----\")\n",
    "    \n",
    "frequency_analysis(message6a.replace(\" \", \"\"))"
   ]
  },
  {
   "cell_type": "code",
   "execution_count": 3,
   "metadata": {},
   "outputs": [
    {
     "name": "stdout",
     "output_type": "stream",
     "text": [
      "ABP: 24 PNB: 10 NBP:  9 BPA:  8 MMA:  6 \n",
      "PPN:  6 FAP:  6 PHC:  6 LAP:  6 ALA:  5 \n",
      "HCM:  5 HNR:  5 BPP:  5 HIC:  5 APH:  5 \n",
      "NAB:  5 ASN:  5 ALQ:  4 LIY:  4 MLA:  4 \n",
      "LAB:  4 HAZ:  4 ZHC:  4 PHN:  4 APM:  4 \n",
      "APA:  4 NRA:  4 PAM:  4 BPH:  4 CFF:  4 \n"
     ]
    }
   ],
   "source": [
    "# Looks like a substitution cipher\n",
    "# No Harry ir Phil to help me this time. Probably not a telegram.\n",
    "# No obvious \"the\"\n",
    "\n",
    "# A function that searches for multiple ocurrences of letters of the specified size and prints out the most common ones\n",
    "def pattern_finder(text, size):\n",
    "    patterns = Counter()\n",
    "    for index in range(len(text)):\n",
    "        patterns[text[index:index+size]] += 1\n",
    "\n",
    "    column = 0\n",
    "    for item, pattern in patterns.most_common(30):\n",
    "        print(f\"{item}: {pattern:2}\", end=\" \")\n",
    "        column += 1\n",
    "        if column % 5 == 0:\n",
    "            print()\n",
    "\n",
    "pattern_finder(message6a.replace(\" \", \"\"), 3)"
   ]
  },
  {
   "cell_type": "code",
   "execution_count": 5,
   "metadata": {},
   "outputs": [
    {
     "name": "stdout",
     "output_type": "stream",
     "text": [
      "hNLLVCZQeMMVIQhNSeheNLWOVHITNOIQttheCHSNMCIHCthNMRIGeNMHIMhIREtINHVIHetheOLCtCMhhNWOeeHIJeHFVWCMRQMMCHZNRIQHteLGNHIeQSLeNHWthNtCMHITNMCZHCYCRNHtJNLtIYtheHNXCJLIJNZNHWNtheIYYCRCNFFCHeCMtheTehLGNRhtNLetheLetIJLIteRttheRIQHtLVMHeQtLNFCtVNZNCHMtYLNHRIOLCtCMhNZZLeMMCIHtheNttNRheWCHSNMCIHILWeLMTeLeCHteLReJteWOVOIMMNZeHtMCHtheRNJCtNFThIhNSeeMtNOFCMheWNheNWKQNLteLMHeUttItheteFeJhIHeeURhNHZeNMYNLNMTeRNHteFFtheCLtNJCHtItheMeRQLeteFeZLNJhCRMVMteGhNMHItVetOeeHWeteRteWOQtTeTCFFHeeWtIFIIEIQtYILYNEeCHteFFCZeHReCHRNMethNtRhNHZeMQHMQLJLCMCHZFVtheILWeLMQMetheGIMtMeRQLeRCJheLTehNSeMeeHVetNRIFQGHNLtLNHMJIMCtCIHFQRECFVChNWMIGeCWeNThNttIFIIEYILMCHReHILMEhVWLITNMNHCGJILtNHttNLZetYILtheLeCRhMeLXCehQHZMGCHCMteLCQGNHWthNtZNSeGeNOCZRFQetheGeMMNZeGNEeMGeSeLVZFNWthNtGIHMCeQLNFFCeLTNMNOFetIeSNRQNtetheheNSVTNteLHITthNttheMMhNSetNEeHRIHtLIFIYLDQENHCtCMIHFVNGNtteLIYtCGeQHtCFtheVOQCFWQJtheCLITHMtIREMOQtthNtTCFFtNEeNThCFeNHWTeRNHQMethNtJeLCIWtITILEIQtThNttIWIHeUtTeTCFFOeLeFVCHZheNSCFVIHVIQLHetTILECHtheRIQHtLVtIYeeWQMTCthCHteFFCZeHReIHtheYNRtILVThCRhCMThVCNMEeWIQLRIGGQHCRNtCIHMteNGtIMetQJthCMGILeMeRQLeRhNHHeFCYTeRNHOLeNEtheteFeZLNJhMVMteGTeMhIQFWNMMQGethNttheHNXCMRNHtIICTIQFWFCEeQMtIGISetIQMCHZSCZeHeLeRCJheLMYILIQLYQtQLeGeMMNZeMMtNVMNYeJhCF\n"
     ]
    }
   ],
   "source": [
    "# Ah!  It looks like the message is written backwards: \"ABP\" corresponds to \"eht\"\n",
    "\n",
    "reverse_squish = message6a.replace(\" \", \"\")[::-1]\n",
    "\n",
    "import string\n",
    "\n",
    "# A simple translation method.\n",
    "# text: The text to translate, in upper case\n",
    "# key: A substitution alphabet, usually in lower case so that the translated characters show up\n",
    "def decode(text, key):\n",
    "    table = str.maketrans(string.ascii_uppercase, key)\n",
    "    print(text.upper().translate(table))\n",
    "    \n",
    "decode(reverse_squish, \"ehCDEFGHIJKLMNOtQRSTUVWXYZ\")"
   ]
  },
  {
   "cell_type": "code",
   "execution_count": 6,
   "metadata": {},
   "outputs": [
    {
     "name": "stdout",
     "output_type": "stream",
     "text": [
      "harryiZQeMMyIQhaSehearWOyHITaOIQttheiHSaMiIHithaMRIGeaMHIMhIREtIaHyIHetheOritiMhhaWOeeHIpeHlyWiMRQMMiHZaRIQHterGaHIeQSreaHWthatiMHITaMiZHiYiRaHtpartIYtheHaXiprIpaZaHWatheIYYiRialliHeiMtheTehrGaRhtaretheretIprIteRttheRIQHtryMHeQtralityaZaiHMtYraHRIOritiMhaZZreMMiIHtheattaRheWiHSaMiIHIrWerMTereiHterRepteWOyOIMMaZeHtMiHtheRapitalThIhaSeeMtaOliMheWaheaWKQarterMHeUttIthetelephIHeeURhaHZeaMYaraMTeRaHtelltheirtapiHtItheMeRQreteleZraphiRMyMteGhaMHItyetOeeHWeteRteWOQtTeTillHeeWtIlIIEIQtYIrYaEeiHtelliZeHReiHRaMethatRhaHZeMQHMQrpriMiHZlytheIrWerMQMetheGIMtMeRQreRipherTehaSeMeeHyetaRIlQGHartraHMpIMitiIHlQREilyihaWMIGeiWeaThattIlIIEYIrMiHReHIrMEhyWrITaMaHiGpIrtaHttarZetYIrthereiRhMerXiehQHZMGiHiMteriQGaHWthatZaSeGeaOiZRlQetheGeMMaZeGaEeMGeSeryZlaWthatGIHMieQrallierTaMaOletIeSaRQatetheheaSyTaterHITthattheMMhaSetaEeHRIHtrIlIYrDQEaHitiMIHlyaGatterIYtiGeQHtiltheyOQilWQptheirITHMtIREMOQtthatTilltaEeaThileaHWTeRaHQMethatperiIWtITIrEIQtThattIWIHeUtTeTillOerelyiHZheaSilyIHyIQrHetTIrEiHtheRIQHtrytIYeeWQMTithiHtelliZeHReIHtheYaRtIryThiRhiMThyiaMEeWIQrRIGGQHiRatiIHMteaGtIMetQpthiMGIreMeRQreRhaHHeliYTeRaHOreaEtheteleZraphMyMteGTeMhIQlWaMMQGethattheHaXiMRaHtIIiTIQlWliEeQMtIGISetIQMiHZSiZeHereRipherMYIrIQrYQtQreGeMMaZeMMtayMaYephil\n"
     ]
    }
   ],
   "source": [
    "# Harry and Phil are here to help, after all! -> N=a, L=r, V=y, J=p, C=i, F=l\n",
    "\n",
    "decode(reverse_squish, \"ehiDElGHIpKrMaOtQRSTUyWXYZ\")"
   ]
  },
  {
   "cell_type": "code",
   "execution_count": 8,
   "metadata": {},
   "outputs": [
    {
     "name": "stdout",
     "output_type": "stream",
     "text": [
      "harryigueMMyouhaSehearWOynoTaOouttheinSaMionithaMcoGeaMnoMhocEtoanyonetheOritiMhhaWOeenopenlyWiMcuMMingacounterGanoeuSreanWthatiMnoTaMigniYicantpartoYthenaXipropaganWatheoYYiciallineiMtheTehrGachtaretheretoprotectthecountryMneutralityagainMtYrancoOritiMhaggreMMiontheattacheWinSaMionorWerMTereintercepteWOyOoMMagentMinthecapitalThohaSeeMtaOliMheWaheaWKuarterMneUttothetelephoneeUchangeaMYaraMTecantelltheirtapintotheMecuretelegraphicMyMteGhaMnotyetOeenWetecteWOutTeTillneeWtolooEoutYorYaEeintelligenceincaMethatchangeMunMurpriMinglytheorWerMuMetheGoMtMecurecipherTehaSeMeenyetacoluGnartranMpoMitionlucEilyihaWMoGeiWeaThattolooEYorMincenorMEhyWroTaManiGportanttargetYorthereichMerXiehungMGiniMteriuGanWthatgaSeGeaOigcluetheGeMMageGaEeMGeSeryglaWthatGonMieurallierTaMaOletoeSacuatetheheaSyTaternoTthattheMMhaSetaEencontroloYrDuEanitiMonlyaGatteroYtiGeuntiltheyOuilWuptheiroTnMtocEMOutthatTilltaEeaThileanWTecanuMethatperioWtoTorEoutThattoWoneUtTeTillOerelyingheaSilyonyournetTorEinthecountrytoYeeWuMTithintelligenceontheYactoryThichiMThyiaMEeWourcoGGunicationMteaGtoMetupthiMGoreMecurechanneliYTecanOreaEthetelegraphMyMteGTeMhoulWaMMuGethatthenaXiMcantooiToulWliEeuMtoGoSetouMingSigenerecipherMYorourYutureGeMMageMMtayMaYephil\n"
     ]
    }
   ],
   "source": [
    "# \"thetelephIHe\" -> I=o, H=n\n",
    "# \"iHtelliZeHRe\" -> Z=g, R=c\n",
    "# \"QHtilthey\" -> Q=u\n",
    "\n",
    "decode(reverse_squish, \"ehiDElGnopKrMaOtucSTUyWXYg\")"
   ]
  },
  {
   "cell_type": "code",
   "execution_count": 9,
   "metadata": {},
   "outputs": [
    {
     "name": "stdout",
     "output_type": "stream",
     "text": [
      "harryiguessyouhaveheardbynowabouttheinvasionithascoGeasnoshocEtoanyonethebritishhadbeenopenlydiscussingacounterGanoeuvreandthatisnowasigniYicantpartoYthenaXipropagandatheoYYiciallineisthewehrGachtaretheretoprotectthecountrysneutralityagainstYrancobritishaggressiontheattachedinvasionorderswereinterceptedbybossagentsinthecapitalwhohaveestablishedaheadKuartersneUttothetelephoneeUchangeasYaraswecantelltheirtapintothesecuretelegraphicsysteGhasnotyetbeendetectedbutwewillneedtolooEoutYorYaEeintelligenceincasethatchangesunsurprisinglytheordersusetheGostsecurecipherwehaveseenyetacoluGnartranspositionlucEilyihadsoGeideawhattolooEYorsincenorsEhydrowasaniGportanttargetYorthereichserXiehungsGinisteriuGandthatgaveGeabigcluetheGessageGaEesGeverygladthatGonsieurallierwasabletoevacuatetheheavywaternowthatthesshavetaEencontroloYrDuEanitisonlyaGatteroYtiGeuntiltheybuilduptheirownstocEsbutthatwilltaEeawhileandwecanusethatperiodtoworEoutwhattodoneUtwewillberelyingheavilyonyournetworEinthecountrytoYeeduswithintelligenceontheYactorywhichiswhyiasEedourcoGGunicationsteaGtosetupthisGoresecurechanneliYwecanbreaEthetelegraphsysteGweshouldassuGethatthenaXiscantooiwouldliEeustoGovetousingvigenereciphersYorourYutureGessagesstaysaYephil\n"
     ]
    }
   ],
   "source": [
    "# \"gueMMyouhaSehearWOynoT\" -> M=s, S=v, W=d, O=b, T=w\n",
    "\n",
    "decode(reverse_squish, \"ehiDElGnopKrsabtucvwUydXYg\")"
   ]
  },
  {
   "cell_type": "code",
   "execution_count": 10,
   "metadata": {},
   "outputs": [
    {
     "name": "stdout",
     "output_type": "stream",
     "text": [
      "harryiguessyouhaveheardbynowabouttheinvasionithascomeasnoshocktoanyonethebritishhadbeenopenlydiscussingacountermanoeuvreandthatisnowasignificantpartofthenazipropagandatheofficiallineisthewehrmachtaretheretoprotectthecountrysneutralityagainstfrancobritishaggressiontheattachedinvasionorderswereinterceptedbybossagentsinthecapitalwhohaveestablishedaheadquartersnexttothetelephoneexchangeasfaraswecantelltheirtapintothesecuretelegraphicsystemhasnotyetbeendetectedbutwewillneedtolookoutforfakeintelligenceincasethatchangesunsurprisinglytheordersusethemostsecurecipherwehaveseenyetacolumnartranspositionluckilyihadsomeideawhattolookforsincenorskhydrowasanimportanttargetforthereichserziehungsministeriumandthatgavemeabigcluethemessagemakesmeverygladthatmonsieurallierwasabletoevacuatetheheavywaternowthatthesshavetakencontrolofrjukanitisonlyamatteroftimeuntiltheybuilduptheirownstocksbutthatwilltakeawhileandwecanusethatperiodtoworkoutwhattodonextwewillberelyingheavilyonyournetworkinthecountrytofeeduswithintelligenceonthefactorywhichiswhyiaskedourcommunicationsteamtosetupthismoresecurechannelifwecanbreakthetelegraphsystemweshouldassumethatthenaziscantooiwouldlikeustomovetousingvigenereciphersforourfuturemessagesstaysafephil\n"
     ]
    }
   ],
   "source": [
    "# \"ithascoGeasnoshocE\" -> G=m, E=k\n",
    "# \"signiYicant\" -> Y=f\n",
    "# \"naXi\" -> X=z\n",
    "# Assume from the pattern that D=j, K=q and U=x\n",
    "\n",
    "decode(reverse_squish, \"ehijklmnopqrsabtucvwxydzfg\")"
   ]
  },
  {
   "cell_type": "markdown",
   "metadata": {},
   "source": [
    "### Edited for clarity\n",
    "\n",
    "Harry,\n",
    "I guess you have heard by now about the invasion. It has come as no shock to anyone - the British had been openly discussing a counter-manoeuvre and that is now a significant part of the Nazi propaganda.\n",
    "The official line is the Wehrmacht are there to protect the country's neutrality against Franco-British aggression. The attached invasion orders were intercepted by BOSS agents in the capital who have established a headquarters next to the telephone exchange.\n",
    "As far as we can tell, their tap into the secure telegraphic system has not yet been detected, but we will need to look out for fake intelligence in case that changes. Unsurprisingly, the orders use the most secure cipher we have seen yet: a columnar transposition. Luckily, I had some idea what to look for, since Norsk Hydro was an important target for the Reichserziehungsministerium and that gave me a big clue.\n",
    "The message makes me very glad that Monsieur Allier was able to evacuate the heavy water. Now that the SS have taken control of Rjukan, it is only a matter of time until they build up their own stocks, but that will take a while and we can use that period to work out what to do next.\n",
    "We will be relying heavily on your network in the country to feed us with intelligence on the factory, which is why I asked our communications team to set up this more secure channel. If we can break the telegraph system, we should assume that the Nazis can too. I would like us to move to using Vigenere ciphers for our future messages. Stay safe,\n",
    "Phil"
   ]
  },
  {
   "cell_type": "code",
   "execution_count": 11,
   "metadata": {},
   "outputs": [
    {
     "name": "stdout",
     "output_type": "stream",
     "text": [
      "Decoded alphabet: norwayzbcdefghijklmpqstuvx\n",
      "Keyword: norway\n"
     ]
    }
   ],
   "source": [
    "# And the key...?\n",
    "\n",
    "import string\n",
    "\n",
    "# Attempts to determine the keyword used for a substition cipher\n",
    "# alphabet: The substitution alphabet\n",
    "def decode_key(alphabet):\n",
    "    decoded_alphabet = \"\"\n",
    "    for letter in string.ascii_lowercase:\n",
    "        decoded_alphabet += chr(alphabet.find(letter) + ord(\"a\"))\n",
    "    print(f\"Decoded alphabet: {decoded_alphabet}\")\n",
    "    \n",
    "    remaining_letters = list(string.ascii_lowercase)\n",
    "    for pos, letter in enumerate(decoded_alphabet):\n",
    "        remaining_letters.remove(letter)\n",
    "        next_letter_index = remaining_letters.index(decoded_alphabet[pos+1])\n",
    "        if decoded_alphabet[pos+1:] == \"\".join(remaining_letters[next_letter_index:] + remaining_letters[:next_letter_index]):\n",
    "            print(f\"Keyword: {decoded_alphabet[:pos+2]}\")\n",
    "            break\n",
    "\n",
    "decode_key(\"ehijklmnopqrsabtucvwxydzfg\")"
   ]
  },
  {
   "cell_type": "code",
   "execution_count": null,
   "metadata": {},
   "outputs": [],
   "source": []
  }
 ],
 "metadata": {
  "kernelspec": {
   "display_name": "Python 3",
   "language": "python",
   "name": "python3"
  },
  "language_info": {
   "codemirror_mode": {
    "name": "ipython",
    "version": 3
   },
   "file_extension": ".py",
   "mimetype": "text/x-python",
   "name": "python",
   "nbconvert_exporter": "python",
   "pygments_lexer": "ipython3",
   "version": "3.8.0"
  }
 },
 "nbformat": 4,
 "nbformat_minor": 4
}
