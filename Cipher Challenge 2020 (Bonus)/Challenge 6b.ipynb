{
 "cells": [
  {
   "cell_type": "markdown",
   "metadata": {},
   "source": [
    "# Coronavirus distraction Cipher Challenge 2020\n",
    "## Challenge 6b, Rjukan\n",
    "Challenge link https://www.cipherchallenge.org/challenge/competition-challenge-6/"
   ]
  },
  {
   "cell_type": "code",
   "execution_count": 1,
   "metadata": {},
   "outputs": [],
   "source": [
    "message6b=\"\"\"NEEOS IINRI CNYRJ RTLTI OTOEM SBAEI ATKEB EDRDO ASTKE ETEEN EKOOA TCYOE WUTNN CABOO ERERT LUEUN CDEOU RCHWS DLHTE LITHI PRUGD ENDMA CASRS LCOOY TRNIC YECLT TVRTA PELDO HNEDT FEPDR ESWOT EEHMT MIRFE ESWER UITNY CTGSR OSAER YHNIO MDNMH NTCIA EENEW UGBCE LARTS LDRPE LEJWT RASIT RDCSA FIETE LUTRI SELDA ETWAO EEEDL UTYHU TOVEU HNOOE AWNAT FLEUD AUAGO HACHI KTFKO PINSI EMWOU REPLT ICSTE LSRDT AECDU ROLAE HIGII OFSTR NFLDE OOMTE EOHPK CRFXN FYSOD GAOMI OHTBI FREEU VNENE FIEMA DTCTP OARYO PSONH FRFHI ABAET NDYUN EWLTE PPSDR DRDEE NURDK EAHBD EPCOO HELRA NRARL EERER SESTO LRDSA STUTH HLIOI ERNOL RENET CASFB LUHAT INTIR UIEWL NURRT IUTTT HIEIH HSAJP LRSNI TVNAB EAENE ENLCS THEEH EHDIS COSEO ERDLD UHHEK SOHSR TTTAT TRDBS UARTS LTVAH ENUSY CAANW FOAOF YRLET STDTI TCYEY RNCIN RUNEI UELER NHIEO DETWA INEOA ASOCA ISTAS EIAVN EESEU CCRSE SSUWU HHDHF BEARF IRRDU EURTI DOTTA DIMEE LRATN EIJVU NNRNE AVETO SABNE OEAER NEATO SFOYA YFELR ETLMO ECMCA EEHAO LHBVS EPDRT RGSSA TOEIM RTCNI FIEBD ONTYR DDTEE TWANO SROTA SRHRT CNPDA ODLOE NCPIU NSHEA NORYL THCZN NRHLI ROSAL NHHYE SXSRT\"\"\""
   ]
  },
  {
   "cell_type": "code",
   "execution_count": 2,
   "metadata": {},
   "outputs": [
    {
     "name": "stdout",
     "output_type": "stream",
     "text": [
      "E: 123 (13.74%) T: 83 (9.27%) R: 72 (8.04%) A: 64 (7.15%) O: 62 (6.93%)\n",
      "N: 59 (6.59%) S: 55 (6.15%) I: 52 (5.81%) D: 43 (4.80%) H: 43 (4.80%)\n",
      "L: 40 (4.47%) U: 35 (3.91%) C: 34 (3.80%) F: 21 (2.35%) Y: 19 (2.12%)\n",
      "P: 16 (1.79%) W: 15 (1.68%) M: 14 (1.56%) B: 14 (1.56%) V:  9 (1.01%)\n",
      "K:  8 (0.89%) G:  7 (0.78%) J:  4 (0.45%) X:  2 (0.22%) Z:  1 (0.11%)\n",
      "\n",
      "-----\n"
     ]
    }
   ],
   "source": [
    "from collections import Counter\n",
    "\n",
    "# Takes a string or list of items and counts the frequencies of those items\n",
    "# data: The list or string to analyse\n",
    "# max_values: The maximum number of values to display (set to None for no limit)\n",
    "# no_columns: The amount of columns to use in the output\n",
    "def frequency_analysis(data, max_values=30, no_columns=5):\n",
    "    frequencies = Counter()\n",
    "    for item in data:\n",
    "        frequencies[item] += 1\n",
    "    \n",
    "    total = sum(frequencies.values())\n",
    "    column = 1\n",
    "    for item, frequency in frequencies.most_common(max_values):\n",
    "        print(f\"{item}: {frequency:2} ({frequency / total:.2%})\", end=\" \" if column % no_columns else \"\\n\")\n",
    "        column += 1\n",
    "    print(\"\\n-----\")\n",
    "    \n",
    "frequency_analysis(message6b.replace(\" \", \"\"))"
   ]
  },
  {
   "cell_type": "code",
   "execution_count": 3,
   "metadata": {},
   "outputs": [
    {
     "name": "stdout",
     "output_type": "stream",
     "text": [
      "length = 895\n",
      "5 179 "
     ]
    }
   ],
   "source": [
    "# OK, as the previous message said, this is a columnar transposition.\n",
    "# The message is a set of invasion orders. (in English, for some reason!)\n",
    "# How long is the text, and what are the even divisors of that number?\n",
    "squished = message6b.replace(\" \", \"\")\n",
    "length = len(squished)\n",
    "print(\"length = \" + str(length))\n",
    "\n",
    "for n in range(2, length):\n",
    "    if length % n == 0:\n",
    "        print(n, end=\" \")"
   ]
  },
  {
   "cell_type": "code",
   "execution_count": 30,
   "metadata": {},
   "outputs": [
    {
     "name": "stdout",
     "output_type": "stream",
     "text": [
      "NRPAU\n",
      "EOKJR\n",
      "ESCPT\n",
      "OARLI\n",
      "SEFRD\n",
      "IRXSO\n",
      "IYNNT\n",
      "NHFIT\n",
      "RNYTA\n",
      "IISVD\n",
      "COONI\n",
      "NMDAM\n",
      "YDGBE\n",
      "RNAEE\n",
      "JMOAL\n",
      "RHMER\n",
      "TNINA\n",
      "LTOET\n",
      "TCHEN\n",
      "IITNE\n",
      "OABLI\n",
      "TEICJ\n",
      "OEFSV\n",
      "ENRTU\n",
      "MEEHN\n",
      "SWEEN\n",
      "BUUER\n",
      "AGVHN\n",
      "EBNEE\n",
      "ICEHA\n",
      "AENDV\n",
      "TLEIE\n",
      "KAFST\n",
      "ERICO\n",
      "BTEOS\n",
      "ESMSA\n",
      "DLAEB\n",
      "RDDON\n",
      "DRTEE\n",
      "OPCRO\n",
      "AETDE\n",
      "SLPLA\n",
      "TEODE\n",
      "KJAUR\n",
      "EWRHN\n",
      "ETYHE\n",
      "TROEA\n",
      "EAPKT\n",
      "ESSSO\n",
      "NIOOS\n",
      "ETNHF\n",
      "KRHSO\n",
      "ODFRY\n",
      "OCRTA\n",
      "ASFTY\n",
      "TAHTF\n",
      "CFIAE\n",
      "YIATL\n",
      "OEBTR\n",
      "ETARE\n",
      "WEEDT\n",
      "ULTBL\n",
      "TUNSM\n",
      "NTDUO\n",
      "NRYAE\n",
      "CIURC\n",
      "ASNTM\n",
      "BEESC\n",
      "OLWLA\n",
      "ODLTE\n",
      "EATVE\n",
      "REEAH\n",
      "ETPHA\n",
      "RWPEO\n",
      "TASNL\n",
      "LODUH\n",
      "UERSB\n",
      "EEDYV\n",
      "UERCS\n",
      "NDDAE\n",
      "CLEAP\n",
      "DUEND\n",
      "ETNWR\n",
      "OYUFT\n",
      "UHROR\n",
      "RUDAG\n",
      "CTKOS\n",
      "HOEFS\n",
      "WVAYA\n",
      "SEHRT\n",
      "DUBLO\n",
      "LHDEE\n",
      "HNETI\n",
      "TOPSM\n",
      "EOCTR\n",
      "LEODT\n",
      "IAOTC\n",
      "TWHIN\n",
      "HNETI\n",
      "IALCF\n",
      "PTRYI\n",
      "RFAEE\n",
      "ULNYB\n",
      "GERRD\n",
      "DUANO\n",
      "EDRCN\n",
      "NALIT\n",
      "DUENY\n",
      "MAERR\n",
      "AGRUD\n",
      "COEND\n",
      "AHRET\n",
      "SASIE\n",
      "RCEUE\n",
      "SHSET\n",
      "LITLW\n",
      "CKOEA\n",
      "OTLRN\n",
      "OFRNO\n",
      "YKDHS\n",
      "TOSIR\n",
      "RPAEO\n",
      "NISOT\n",
      "INTDA\n",
      "CSUES\n",
      "YITTR\n",
      "EEHWH\n",
      "CMHAR\n",
      "LWLIT\n",
      "TOINC\n",
      "TUOEN\n",
      "VRIOP\n",
      "REEAD\n",
      "TPRAA\n",
      "ALNSO\n",
      "PTOOD\n",
      "EILCL\n",
      "LCRAO\n",
      "DSEIE\n",
      "OTNSN\n",
      "HEETC\n",
      "NLTAP\n",
      "ESCSI\n",
      "DRAEU\n",
      "TDSIN\n",
      "FTFAS\n",
      "EABVH\n",
      "PELNE\n",
      "DCUEA\n",
      "RDHEN\n",
      "EUASO\n",
      "SRTER\n",
      "WOIUY\n",
      "OLNCL\n",
      "TATCT\n",
      "EEIRH\n",
      "EHRSC\n",
      "HIUEZ\n",
      "MGISN\n",
      "TIESN\n",
      "MIWUR\n",
      "IOLWH\n",
      "RFNUL\n",
      "FSUHI\n",
      "ETRHR\n",
      "ERRDO\n",
      "SNTHS\n",
      "WFIFA\n",
      "ELUBL\n",
      "RDTEN\n",
      "UETAH\n",
      "IOTRH\n",
      "TOHFY\n",
      "NMIIE\n",
      "YTERS\n",
      "CEIRX\n",
      "TEHDS\n",
      "GOHUR\n",
      "SHSET\n"
     ]
    }
   ],
   "source": [
    "# I hope that means that there are 5 columns of 179 letters\n",
    "# Lets try arranging the letters in 5 columns and see if anything looks familiar:\n",
    "columns = []\n",
    "for i in range(5):\n",
    "    start_pos = i*179\n",
    "    columns.append(squished[start_pos:start_pos+179])\n",
    "for row in range(179):\n",
    "    for column in range(5):\n",
    "        print(columns[column][row], end=\"\")\n",
    "    print()"
   ]
  },
  {
   "cell_type": "code",
   "execution_count": 36,
   "metadata": {},
   "outputs": [
    {
     "name": "stdout",
     "output_type": "stream",
     "text": [
      "URANPROJEKTSPECIALORDERSFORSIXTYNINTHINFANTRYDIVISIONCOMMANDEDBYGENERALMAJORHERMANNTITTELONCETHEINITIALOBJECTIVESOFUNTERNEHMENWESERUEBUNGHAVEBEENACHIEVEDANELITETASKFORCEISTOBEASSEMBLEDANDORDEREDTOPROCEEDATALLSPEEDTORJUKANWHERETHEYARETOTAKEPOSSESSIONOFTHENORSKHYDROFACTORYSTAFFATTHEFACILITYARETOBETREATEDWELLBUTMUSTNOTUNDERANYCIRCUMSTANCESBEALLOWEDTOLEAVETHEAREATHEPOWERPLANTSHOULDBESURVEYEDSECUREDANDPLACEDUNDERTWENTYFOURHOURGUARDSTOCKSOFHEAVYWATERSHOULDBEHELDINTHEMOSTPROTECTEDLOCATIONWITHINTHEFACILITYPREFERABLYUNDERGROUNDANDCERTAINLYUNDERARMEDGUARDONCETHEAREAISSECURETHESSWILLTAKECONTROLOFNORSKHYDROITSOPERATIONSANDITSSECURITYTHEWEHRMACHTWILLCONTINUETOPROVIDEAREAPATROLSANDTOPOLICELOCALRESIDENTSONCETHEPLANTISSECUREDANDITSSTAFFHAVEBEENPLACEDUNDERHOUSEARRESTYOUWILLCONTACTTHEREICHSERZIEHUNGSMINISTERIUMWHOWILLFURNISHFURTHERORDERSNHSTAFFWILLBEUNDERTHEAUTHORITYOFTHEMINISTRYEXERCISEDTHROUGHTHESS"
     ]
    }
   ],
   "source": [
    "# The last block appears to be an anagram of \"The SS\".  Let's try ordering the columns that way...\n",
    "\n",
    "def columnar_transposition(text, key):\n",
    "    text = text.replace(\" \", \"\")\n",
    "    columns = dict()\n",
    "    column_length = len(text) // len(key)\n",
    "    count = 0\n",
    "    for column in sorted(key):\n",
    "        start_pos = count*column_length\n",
    "        columns[column] = text[start_pos:start_pos+column_length]\n",
    "        count += 1\n",
    "    for row in range(column_length):\n",
    "        for char in key:\n",
    "            print(columns[char][row], end=\"\")\n",
    "\n",
    "columnar_transposition(squished, \"41302\")"
   ]
  },
  {
   "cell_type": "markdown",
   "metadata": {},
   "source": [
    "Well that was lucky!\n",
    "\n",
    "### Edited for clarity...\n",
    "Uranprojekt special orders for sixty ninth infantry division, commanded by General Major Hermann Tittel.\n",
    "Once the initial objectives of Unternehmenweseruebung have been achieved, an elite task force is to be assembled and ordered to proceed at all speed to Rjukan, where they are to take possession of the Norsk Hydro factory.\n",
    "Staff at the facility are to be treated well, but must not under any circumstances be allowed to leave the area. The power plant should be surveyed, secured and placed under twenty-four hour guard.\n",
    "Stocks of heavy water should be held in the most protected location within the facility, preferably underground and certainly under armed guard.\n",
    "Once the area is secure, the SS will take control of Norsk Hydro, its operations and its security. The Wehrmacht will continue to provide area patrols and to police local residents. Once the plant is secured and its staff have been placed under house arrest, you will contact the Reichserziehungsministerium, who will furnish further orders. NH staff will be under the authority of the ministry exercised through the SS."
   ]
  },
  {
   "cell_type": "code",
   "execution_count": 37,
   "metadata": {},
   "outputs": [
    {
     "name": "stdout",
     "output_type": "stream",
     "text": [
      "URANPROJEKTSPECIALORDERSFORSIXTYNINTHINFANTRYDIVISIONCOMMANDEDBYGENERALMAJORHERMANNTITTELONCETHEINITIALOBJECTIVESOFUNTERNEHMENWESERUEBUNGHAVEBEENACHIEVEDANELITETASKFORCEISTOBEASSEMBLEDANDORDEREDTOPROCEEDATALLSPEEDTORJUKANWHERETHEYARETOTAKEPOSSESSIONOFTHENORSKHYDROFACTORYSTAFFATTHEFACILITYARETOBETREATEDWELLBUTMUSTNOTUNDERANYCIRCUMSTANCESBEALLOWEDTOLEAVETHEAREATHEPOWERPLANTSHOULDBESURVEYEDSECUREDANDPLACEDUNDERTWENTYFOURHOURGUARDSTOCKSOFHEAVYWATERSHOULDBEHELDINTHEMOSTPROTECTEDLOCATIONWITHINTHEFACILITYPREFERABLYUNDERGROUNDANDCERTAINLYUNDERARMEDGUARDONCETHEAREAISSECURETHESSWILLTAKECONTROLOFNORSKHYDROITSOPERATIONSANDITSSECURITYTHEWEHRMACHTWILLCONTINUETOPROVIDEAREAPATROLSANDTOPOLICELOCALRESIDENTSONCETHEPLANTISSECUREDANDITSSTAFFHAVEBEENPLACEDUNDERHOUSEARRESTYOUWILLCONTACTTHEREICHSERZIEHUNGSMINISTERIUMWHOWILLFURNISHFURTHERORDERSNHSTAFFWILLBEUNDERTHEAUTHORITYOFTHEMINISTRYEXERCISEDTHROUGHTHESS"
     ]
    }
   ],
   "source": [
    "# After some experimentation (guessing), I figured out the keyword as well!\n",
    "columnar_transposition(squished, \"reich\")"
   ]
  },
  {
   "cell_type": "code",
   "execution_count": null,
   "metadata": {},
   "outputs": [],
   "source": []
  }
 ],
 "metadata": {
  "kernelspec": {
   "display_name": "Python 3",
   "language": "python",
   "name": "python3"
  },
  "language_info": {
   "codemirror_mode": {
    "name": "ipython",
    "version": 3
   },
   "file_extension": ".py",
   "mimetype": "text/x-python",
   "name": "python",
   "nbconvert_exporter": "python",
   "pygments_lexer": "ipython3",
   "version": "3.8.0"
  }
 },
 "nbformat": 4,
 "nbformat_minor": 4
}
