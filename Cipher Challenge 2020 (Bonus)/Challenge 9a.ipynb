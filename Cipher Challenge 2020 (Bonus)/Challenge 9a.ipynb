{
 "cells": [
  {
   "cell_type": "markdown",
   "metadata": {},
   "source": [
    "# Coronavirus distraction Cipher Challenge 2020\n",
    "## Challenge 9a, Postscript\n",
    "Challenge link https://www.cipherchallenge.org/challenge/competition-challenge-9/"
   ]
  },
  {
   "cell_type": "code",
   "execution_count": 1,
   "metadata": {},
   "outputs": [],
   "source": [
    "message9a=\"\"\"IRZDQ PSEID VQHWW THVUY MDWGQ BYSRO UFZFR TPIBE XKCZW XRTXG POOSV KBTWX TSIDK AAXMV RYTRI RJTWQ XIVAQ UHBQE SPBMJ ZSGWP WBTWT HGEDB EQJXH UITKI FAHBN XSACW SGHUI JELGK MFVEM KZMUD GNREK PQLKO POUFD QEHFX AIZTQ LASEE JCEMQ MFNGL JBTWF GRPWV ADWFO VRPGM DSMWB RBCIO GGGVH FIIND XOZSV EBAXK CYPJE OELHQ XABJA QJBCH WMPLM ETURH XZBTL PCYSD FUALB JRWFZ OTLVO EKPNI SGGGN REJMH WGDNW TVVSW KKNKP EAEMY TRVJE OPSFO TIPLZ MYXBG WJEBT WIZNR UYIHW VCAJJ IUQVM VNXUY QEZTG FPPNM PLAST ISDIZ HEOAX PJPUH MVRVF DIUFB BTWUF KWKHT CSURA EANAC ISFFU VXHBH JVIXU ASZMT KMZJX GREST PRSVW YMUZM EAGPR VMZVU FIFRT BIIFA HBSSS KPQKA WCQFE BOAOW YMBEA MJXBB PPEOQ JTZYS XVLMU VSFWU FBTWK OVPXR GMFWD NXSFT EZTJR FFVVE LXDCI ELXEW VIEMU PIFSE ZGLFI IUDPO LWURB UGGGU ETSMQ FLWTR JWQOS GHYCJ EKDWT GRHTN IXDHK UEWVU MLVVR HUYQE TRWAG SVIEA GUGLF ZZAOG GHVWV QXDTB PIPEB TWKXH OBETU FXOAH QIWBG LSQEO LUNWK CSTMR VELHW AXFIK QHMHU ITYQB EXBGF VKBTW XBUEO TMPKX QHVJK GYSDS VXWVZ KMGZV OFCGF ZTHNW URVPS KRFEC FBMYX KBYMU AGUVS RHJEL AAGUZ SSVBT SGRRP BPQZY MVRWI ZXYWG HNPUV ZZSMW IITZV ODNRV RHKPQ DHQNP GVZDQ KCHXF JIDWU SVRHR KFAOS YCDFV EAWSE IERAI AMVGL FRQDJ TWQGJ MQXAT BPETL IXLBS FESVI YSCCE GPEAU VXFNX JFVNM MHUIQ CIZLW WEIDK WDTCO ERFEQ XKLSA MTJGY HTHUI UZKMF WANCC VINDX HBMOW TGWGQ RXIVL MLXOA HUZUQ GYGUM QDMZL BBBVE VZFGK SQYDV BTWKW FOPEK QEHFR SVIIS WGHFL BMMNW XBFYD TMEKY IYMOZ VFWKQ RTUZV SWGSZ CDFUY MGWPE UZWZK VCAGF IVUFZ HUINZ AEAHB NREKP QWGQY STVLF WESTV BDAGE FOEMT ZVSLA SCPBE AOGGT VVNJW GJHKA MOMME LBUNX JFVEO BHUXI ZAUFA OAHJK PUFDH UITNI XDHKG IBDEU DEPRE CCMFG XLRGV KMMKN QPITJ NGDLO OSURO QSGRU SQVNG DEMGI SDQZS MSGLF XMDET BAYDC MMJPS NTPEA BJHUE ENCMF KACCI XVKMF XBQXI ZAEGH BCLJC\"\"\""
   ]
  },
  {
   "cell_type": "code",
   "execution_count": 2,
   "metadata": {},
   "outputs": [
    {
     "name": "stdout",
     "output_type": "stream",
     "text": [
      "E: 81 (5.72%) V: 75 (5.30%) G: 70 (4.95%) W: 68 (4.81%) M: 67 (4.73%)\n",
      "F: 67 (4.73%) S: 65 (4.59%) I: 64 (4.52%) T: 63 (4.45%) U: 62 (4.38%)\n",
      "B: 60 (4.24%) A: 56 (3.96%) H: 54 (3.82%) X: 54 (3.82%) R: 51 (3.60%)\n",
      "K: 50 (3.53%) Q: 49 (3.46%) P: 49 (3.46%) Z: 48 (3.39%) D: 44 (3.11%)\n",
      "O: 41 (2.90%) L: 39 (2.76%) J: 38 (2.69%) C: 35 (2.47%) N: 34 (2.40%)\n",
      "Y: 31 (2.19%) \n",
      "-----\n"
     ]
    }
   ],
   "source": [
    "from collections import Counter\n",
    "\n",
    "# Takes a string or list of items and counts the frequencies of those items\n",
    "# data: The list or string to analyse\n",
    "# max_values: The maximum number of values to display (set to None for no limit)\n",
    "# no_columns: The amount of columns to use in the output\n",
    "def frequency_analysis(data, max_values=30, no_columns=5):\n",
    "    frequencies = Counter()\n",
    "    for item in data:\n",
    "        frequencies[item] += 1\n",
    "    \n",
    "    total = sum(frequencies.values())\n",
    "    column = 1\n",
    "    for item, frequency in frequencies.most_common(max_values):\n",
    "        print(f\"{item}: {frequency:2} ({frequency / total:.2%})\", end=\" \" if column % no_columns else \"\\n\")\n",
    "        column += 1\n",
    "    print(\"\\n-----\")\n",
    "\n",
    "squished = message9a.replace(\" \", \"\") \n",
    "frequency_analysis(squished)"
   ]
  },
  {
   "cell_type": "code",
   "execution_count": 3,
   "metadata": {},
   "outputs": [
    {
     "name": "stdout",
     "output_type": "stream",
     "text": [
      "BTW:  9 HUI:  7 KPQ:  4 GLF:  4 WGQ:  3 \n",
      "MVR:  3 UIT:  3 AHB:  3 KMF:  3 FVE:  3 \n",
      "NRE:  3 EKP:  3 LAS:  3 OGG:  3 GGG:  3 \n",
      "PEA:  3 TWK:  3 VRH:  3 SVI:  3 AGU:  3 \n",
      "OAH:  3 ZDQ:  2 SEI:  2 EID:  2 WTH:  2 \n",
      "UYM:  2 OUF:  2 UFZ:  2 FRT:  2 BEX:  2 \n"
     ]
    }
   ],
   "source": [
    "# Looks flat.  Probably another vigenere.  Last week hinted that it would be, but with a longer key.\n",
    "\n",
    "# A function that searches for multiple ocurrences of letters of the specified size and prints out the most common ones\n",
    "def pattern_finder(text, size):\n",
    "    patterns = Counter()\n",
    "    for index in range(len(text)):\n",
    "        patterns[text[index:index+size]] += 1\n",
    "\n",
    "    column = 0\n",
    "    for item, pattern in patterns.most_common(30):\n",
    "        print(f\"{item}: {pattern:2}\", end=\" \")\n",
    "        column += 1\n",
    "        if column % 5 == 0:\n",
    "            print()\n",
    "\n",
    "pattern_finder(squished, 3)"
   ]
  },
  {
   "cell_type": "code",
   "execution_count": 4,
   "metadata": {},
   "outputs": [
    {
     "name": "stdout",
     "output_type": "stream",
     "text": [
      "BTW/2 56 (0) 101 (1) 191 (1) 353 (1) 420 (0) 551 (1) 704 (0) 767 (1) 1100 (0) \n",
      "BTW/3 56 (2) 101 (2) 191 (2) 353 (2) 420 (0) 551 (2) 704 (2) 767 (2) 1100 (2) \n",
      "BTW/4 56 (0) 101 (1) 191 (3) 353 (1) 420 (0) 551 (3) 704 (0) 767 (3) 1100 (0) \n",
      "BTW/5 56 (1) 101 (1) 191 (1) 353 (3) 420 (0) 551 (1) 704 (4) 767 (2) 1100 (0) \n",
      "BTW/6 56 (2) 101 (5) 191 (5) 353 (5) 420 (0) 551 (5) 704 (2) 767 (5) 1100 (2) \n",
      "BTW/7 56 (0) 101 (3) 191 (2) 353 (3) 420 (0) 551 (5) 704 (4) 767 (4) 1100 (1) \n",
      "BTW/8 56 (0) 101 (5) 191 (7) 353 (1) 420 (4) 551 (7) 704 (0) 767 (7) 1100 (4) \n",
      "BTW/9 56 (2) 101 (2) 191 (2) 353 (2) 420 (6) 551 (2) 704 (2) 767 (2) 1100 (2) \n",
      "BTW/10 56 (6) 101 (1) 191 (1) 353 (3) 420 (0) 551 (1) 704 (4) 767 (7) 1100 (0) \n",
      "BTW/11 56 (1) 101 (2) 191 (4) 353 (1) 420 (2) 551 (1) 704 (0) 767 (8) 1100 (0) \n",
      "BTW/12 56 (8) 101 (5) 191 (11) 353 (5) 420 (0) 551 (11) 704 (8) 767 (11) 1100 (8) \n",
      "BTW/13 56 (4) 101 (10) 191 (9) 353 (2) 420 (4) 551 (5) 704 (2) 767 (0) 1100 (8) \n",
      "BTW/14 56 (0) 101 (3) 191 (9) 353 (3) 420 (0) 551 (5) 704 (4) 767 (11) 1100 (8) \n",
      "BTW/15 56 (11) 101 (11) 191 (11) 353 (8) 420 (0) 551 (11) 704 (14) 767 (2) 1100 (5) \n",
      "BTW/16 56 (8) 101 (5) 191 (15) 353 (1) 420 (4) 551 (7) 704 (0) 767 (15) 1100 (12) \n",
      "BTW/17 56 (5) 101 (16) 191 (4) 353 (13) 420 (12) 551 (7) 704 (7) 767 (2) 1100 (12) \n",
      "BTW/18 56 (2) 101 (11) 191 (11) 353 (11) 420 (6) 551 (11) 704 (2) 767 (11) 1100 (2) \n",
      "BTW/19 56 (18) 101 (6) 191 (1) 353 (11) 420 (2) 551 (0) 704 (1) 767 (7) 1100 (17) \n",
      "BTW/20 56 (16) 101 (1) 191 (11) 353 (13) 420 (0) 551 (11) 704 (4) 767 (7) 1100 (0) \n",
      "BTW/21 56 (14) 101 (17) 191 (2) 353 (17) 420 (0) 551 (5) 704 (11) 767 (11) 1100 (8) \n",
      "BTW/22 56 (12) 101 (13) 191 (15) 353 (1) 420 (2) 551 (1) 704 (0) 767 (19) 1100 (0) \n",
      "BTW/23 56 (10) 101 (9) 191 (7) 353 (8) 420 (6) 551 (22) 704 (14) 767 (8) 1100 (19) \n",
      "BTW/24 56 (8) 101 (5) 191 (23) 353 (17) 420 (12) 551 (23) 704 (8) 767 (23) 1100 (20) \n",
      "BTW/25 56 (6) 101 (1) 191 (16) 353 (3) 420 (20) 551 (1) 704 (4) 767 (17) 1100 (0) \n",
      "BTW/26 56 (4) 101 (23) 191 (9) 353 (15) 420 (4) 551 (5) 704 (2) 767 (13) 1100 (8) \n",
      "\n",
      "HUI/2 114 (0) 132 (0) 753 (1) 996 (0) 1032 (0) 1185 (1) 1284 (0) \n",
      "HUI/3 114 (0) 132 (0) 753 (0) 996 (0) 1032 (0) 1185 (0) 1284 (0) All the same!\n",
      "HUI/4 114 (2) 132 (0) 753 (1) 996 (0) 1032 (0) 1185 (1) 1284 (0) \n",
      "HUI/5 114 (4) 132 (2) 753 (3) 996 (1) 1032 (2) 1185 (0) 1284 (4) \n",
      "HUI/6 114 (0) 132 (0) 753 (3) 996 (0) 1032 (0) 1185 (3) 1284 (0) \n",
      "HUI/7 114 (2) 132 (6) 753 (4) 996 (2) 1032 (3) 1185 (2) 1284 (3) \n",
      "HUI/8 114 (2) 132 (4) 753 (1) 996 (4) 1032 (0) 1185 (1) 1284 (4) \n",
      "HUI/9 114 (6) 132 (6) 753 (6) 996 (6) 1032 (6) 1185 (6) 1284 (6) All the same!\n",
      "HUI/10 114 (4) 132 (2) 753 (3) 996 (6) 1032 (2) 1185 (5) 1284 (4) \n",
      "HUI/11 114 (4) 132 (0) 753 (5) 996 (6) 1032 (9) 1185 (8) 1284 (8) \n",
      "HUI/12 114 (6) 132 (0) 753 (9) 996 (0) 1032 (0) 1185 (9) 1284 (0) \n",
      "HUI/13 114 (10) 132 (2) 753 (12) 996 (8) 1032 (5) 1185 (2) 1284 (10) \n",
      "HUI/14 114 (2) 132 (6) 753 (11) 996 (2) 1032 (10) 1185 (9) 1284 (10) \n",
      "HUI/15 114 (9) 132 (12) 753 (3) 996 (6) 1032 (12) 1185 (0) 1284 (9) \n",
      "HUI/16 114 (2) 132 (4) 753 (1) 996 (4) 1032 (8) 1185 (1) 1284 (4) \n",
      "HUI/17 114 (12) 132 (13) 753 (5) 996 (10) 1032 (12) 1185 (12) 1284 (9) \n",
      "HUI/18 114 (6) 132 (6) 753 (15) 996 (6) 1032 (6) 1185 (15) 1284 (6) \n",
      "HUI/19 114 (0) 132 (18) 753 (12) 996 (8) 1032 (6) 1185 (7) 1284 (11) \n",
      "HUI/20 114 (14) 132 (12) 753 (13) 996 (16) 1032 (12) 1185 (5) 1284 (4) \n",
      "HUI/21 114 (9) 132 (6) 753 (18) 996 (9) 1032 (3) 1185 (9) 1284 (3) \n",
      "HUI/22 114 (4) 132 (0) 753 (5) 996 (6) 1032 (20) 1185 (19) 1284 (8) \n",
      "HUI/23 114 (22) 132 (17) 753 (17) 996 (7) 1032 (20) 1185 (12) 1284 (19) \n",
      "HUI/24 114 (18) 132 (12) 753 (9) 996 (12) 1032 (0) 1185 (9) 1284 (12) \n",
      "HUI/25 114 (14) 132 (7) 753 (3) 996 (21) 1032 (7) 1185 (10) 1284 (9) \n",
      "HUI/26 114 (10) 132 (2) 753 (25) 996 (8) 1032 (18) 1185 (15) 1284 (10) \n",
      "\n",
      "KPQ/2 154 (0) 505 (1) 892 (0) 1198 (0) \n",
      "KPQ/3 154 (1) 505 (1) 892 (1) 1198 (1) All the same!\n",
      "KPQ/4 154 (2) 505 (1) 892 (0) 1198 (2) \n",
      "KPQ/5 154 (4) 505 (0) 892 (2) 1198 (3) \n",
      "KPQ/6 154 (4) 505 (1) 892 (4) 1198 (4) \n",
      "KPQ/7 154 (0) 505 (1) 892 (3) 1198 (1) \n",
      "KPQ/8 154 (2) 505 (1) 892 (4) 1198 (6) \n",
      "KPQ/9 154 (1) 505 (1) 892 (1) 1198 (1) All the same!\n",
      "KPQ/10 154 (4) 505 (5) 892 (2) 1198 (8) \n",
      "KPQ/11 154 (0) 505 (10) 892 (1) 1198 (10) \n",
      "KPQ/12 154 (10) 505 (1) 892 (4) 1198 (10) \n",
      "KPQ/13 154 (11) 505 (11) 892 (8) 1198 (2) \n",
      "KPQ/14 154 (0) 505 (1) 892 (10) 1198 (8) \n",
      "KPQ/15 154 (4) 505 (10) 892 (7) 1198 (13) \n",
      "KPQ/16 154 (10) 505 (9) 892 (12) 1198 (14) \n",
      "KPQ/17 154 (1) 505 (12) 892 (8) 1198 (8) \n",
      "KPQ/18 154 (10) 505 (1) 892 (10) 1198 (10) \n",
      "KPQ/19 154 (2) 505 (11) 892 (18) 1198 (1) \n",
      "KPQ/20 154 (14) 505 (5) 892 (12) 1198 (18) \n",
      "KPQ/21 154 (7) 505 (1) 892 (10) 1198 (1) \n",
      "KPQ/22 154 (0) 505 (21) 892 (12) 1198 (10) \n",
      "KPQ/23 154 (16) 505 (22) 892 (18) 1198 (2) \n",
      "KPQ/24 154 (10) 505 (1) 892 (4) 1198 (22) \n",
      "KPQ/25 154 (4) 505 (5) 892 (17) 1198 (23) \n",
      "KPQ/26 154 (24) 505 (11) 892 (8) 1198 (2) \n",
      "\n",
      "GLF/2 601 (1) 682 (0) 943 (1) 1357 (1) \n",
      "GLF/3 601 (1) 682 (1) 943 (1) 1357 (1) All the same!\n",
      "GLF/4 601 (1) 682 (2) 943 (3) 1357 (1) \n",
      "GLF/5 601 (1) 682 (2) 943 (3) 1357 (2) \n",
      "GLF/6 601 (1) 682 (4) 943 (1) 1357 (1) \n",
      "GLF/7 601 (6) 682 (3) 943 (5) 1357 (6) \n",
      "GLF/8 601 (1) 682 (2) 943 (7) 1357 (5) \n",
      "GLF/9 601 (7) 682 (7) 943 (7) 1357 (7) All the same!\n",
      "GLF/10 601 (1) 682 (2) 943 (3) 1357 (7) \n",
      "GLF/11 601 (7) 682 (0) 943 (8) 1357 (4) \n",
      "GLF/12 601 (1) 682 (10) 943 (7) 1357 (1) \n",
      "GLF/13 601 (3) 682 (6) 943 (7) 1357 (5) \n",
      "GLF/14 601 (13) 682 (10) 943 (5) 1357 (13) \n",
      "GLF/15 601 (1) 682 (7) 943 (13) 1357 (7) \n",
      "GLF/16 601 (9) 682 (10) 943 (15) 1357 (13) \n",
      "GLF/17 601 (6) 682 (2) 943 (8) 1357 (14) \n",
      "GLF/18 601 (7) 682 (16) 943 (7) 1357 (7) \n",
      "GLF/19 601 (12) 682 (17) 943 (12) 1357 (8) \n",
      "GLF/20 601 (1) 682 (2) 943 (3) 1357 (17) \n",
      "GLF/21 601 (13) 682 (10) 943 (19) 1357 (13) \n",
      "GLF/22 601 (7) 682 (0) 943 (19) 1357 (15) \n",
      "GLF/23 601 (3) 682 (15) 943 (0) 1357 (0) \n",
      "GLF/24 601 (1) 682 (10) 943 (7) 1357 (13) \n",
      "GLF/25 601 (1) 682 (7) 943 (18) 1357 (7) \n",
      "GLF/26 601 (3) 682 (6) 943 (7) 1357 (5) \n",
      "\n",
      "WGQ/2 22 (0) 1057 (1) 1201 (1) \n",
      "WGQ/3 22 (1) 1057 (1) 1201 (1) All the same!\n",
      "WGQ/4 22 (2) 1057 (1) 1201 (1) \n",
      "WGQ/5 22 (2) 1057 (2) 1201 (1) \n",
      "WGQ/6 22 (4) 1057 (1) 1201 (1) \n",
      "WGQ/7 22 (1) 1057 (0) 1201 (4) \n",
      "WGQ/8 22 (6) 1057 (1) 1201 (1) \n",
      "WGQ/9 22 (4) 1057 (4) 1201 (4) All the same!\n",
      "WGQ/10 22 (2) 1057 (7) 1201 (1) \n",
      "WGQ/11 22 (0) 1057 (1) 1201 (2) \n",
      "WGQ/12 22 (10) 1057 (1) 1201 (1) \n",
      "WGQ/13 22 (9) 1057 (4) 1201 (5) \n",
      "WGQ/14 22 (8) 1057 (7) 1201 (11) \n",
      "WGQ/15 22 (7) 1057 (7) 1201 (1) \n",
      "WGQ/16 22 (6) 1057 (1) 1201 (1) \n",
      "WGQ/17 22 (5) 1057 (3) 1201 (11) \n",
      "WGQ/18 22 (4) 1057 (13) 1201 (13) \n",
      "WGQ/19 22 (3) 1057 (12) 1201 (4) \n",
      "WGQ/20 22 (2) 1057 (17) 1201 (1) \n",
      "WGQ/21 22 (1) 1057 (7) 1201 (4) \n",
      "WGQ/22 22 (0) 1057 (1) 1201 (13) \n",
      "WGQ/23 22 (22) 1057 (22) 1201 (5) \n",
      "WGQ/24 22 (22) 1057 (1) 1201 (1) \n",
      "WGQ/25 22 (22) 1057 (7) 1201 (1) \n",
      "WGQ/26 22 (22) 1057 (17) 1201 (5) \n",
      "\n"
     ]
    }
   ],
   "source": [
    "# Assuming some of those are \"the\", look for distances between them\n",
    "\n",
    "# A function that searches the given text for a word and figures out where it would line up with a key of a given size\n",
    "def get_alignment(text, word, key_size):\n",
    "    print(f\"{word}/{key_size}\", end=\" \")\n",
    "    alignments = []\n",
    "    position = -1\n",
    "    while True:\n",
    "        position = text.find(word, position+1)\n",
    "        if position >= 0:\n",
    "            alignment = position % key_size\n",
    "            print(f\"{position} ({alignment})\", end=\" \")\n",
    "            alignments.append(alignment)\n",
    "        else:\n",
    "            break\n",
    "    if alignments.count(alignments[0]) == len(alignments):\n",
    "        print(\"All the same!\", end=\"\")\n",
    "    print()\n",
    "\n",
    "for trigraph in (\"BTW\", \"HUI\", \"KPQ\", \"GLF\", \"WGQ\"):\n",
    "    for n in range(2,27):\n",
    "        get_alignment(squished, trigraph, n)\n",
    "    print()"
   ]
  },
  {
   "cell_type": "code",
   "execution_count": 10,
   "metadata": {},
   "outputs": [
    {
     "name": "stdout",
     "output_type": "stream",
     "text": [
      "HUI: ONE\n",
      "KPQ: RIM\n",
      "GLF: NEB\n",
      "WGQ: DZM\n"
     ]
    }
   ],
   "source": [
    "# I think that means the key is 9 letters long\n",
    "\n",
    "# A function to reverse search for a key that would convert the given word to an encoded word\n",
    "def lookup_key(word, encoded_word):\n",
    "    key = \"\"\n",
    "    for letter, encoded_letter in zip(word, encoded_word):\n",
    "        diff = (ord(encoded_letter) - ord(letter)) % 26\n",
    "        key += chr(diff + ord('A'))\n",
    "    print(f\"{encoded_word}: {key}\")\n",
    "\n",
    "for trigraph in (\"HUI\", \"KPQ\", \"GLF\", \"WGQ\"):\n",
    "    lookup_key(\"THE\", trigraph)\n"
   ]
  },
  {
   "cell_type": "code",
   "execution_count": 7,
   "metadata": {},
   "outputs": [
    {
     "name": "stdout",
     "output_type": "stream",
     "text": [
      "MVR/9 68 (5) 410 (5) 860 (5) All the same!\n",
      "UIT/9 115 (7) 754 (7) 1285 (7) All the same!\n",
      "AHB/9 121 (4) 499 (4) 1192 (4) All the same!\n",
      "KMF/9 139 (4) 1037 (2) 1397 (2) \n",
      "FVE/9 141 (6) 928 (1) 1261 (1) \n",
      "NRE/9 151 (7) 304 (7) 1195 (7) All the same!\n",
      "EKP/9 153 (0) 295 (7) 1197 (0) \n",
      "LAS/9 175 (4) 391 (4) 1228 (4) All the same!\n",
      "OGG/9 219 (3) 688 (4) 1236 (3) \n",
      "GGG/9 220 (4) 301 (4) 616 (4) All the same!\n"
     ]
    }
   ],
   "source": [
    "# Lining them up...\n",
    "# ONE...... (HUI)\n",
    "# .RIM..... (KPQ)\n",
    "# B......NE (GLF)\n",
    "# ....DZM.. (WGQ)\n",
    "\n",
    "# Not great.  Let's try a few more trigraphs at a spacing of 9:\n",
    "for trigraph in (\"MVR\", \"UIT\", \"AHB\", \"KMF\", \"FVE\", \"NRE\", \"EKP\", \"LAS\", \"OGG\", \"GGG\"):\n",
    "    get_alignment(squished, trigraph, 9)"
   ]
  },
  {
   "cell_type": "code",
   "execution_count": 11,
   "metadata": {},
   "outputs": [
    {
     "name": "stdout",
     "output_type": "stream",
     "text": [
      "MVR: TON\n",
      "UIT: BBP\n",
      "AHB: HAX\n",
      "NRE: UKA\n",
      "LAS: STO\n",
      "GGG: NZC\n"
     ]
    }
   ],
   "source": [
    "# Let's try a few more...\n",
    "for trigraph in (\"MVR\", \"UIT\", \"AHB\", \"NRE\", \"LAS\", \"GGG\"):\n",
    "    lookup_key(\"THE\", trigraph)"
   ]
  },
  {
   "cell_type": "code",
   "execution_count": 15,
   "metadata": {},
   "outputs": [
    {
     "name": "stdout",
     "output_type": "stream",
     "text": [
      "HARRYWERECEIVEDFURTHERENCOURAGINGREPORTSFROMSWALLOWABOUTTHEEFFECTSOFTHEUSAAFRAIDTHESECONDARYTARGETSOFTHEATTACKWERETHESTATIONATRJUKANTHEINDUSTRIALTRACKSANDTHETRACKTOVEMORKWHILETHERAILWAYTRACKSTHEMSELVESREMAINOPERATIONALACONSIDERABLEAMOUNTOFROLLINGSTOCKWASSERIOUSLYDAMAGEDWITHTWOLOCOMOTIVESEIGHTCARGOWAGONSANDSEVENPASSENGERWAGONSSUFFERINGDAMAGEOURAGENTSINTHEPLANTHAVECONFIRMEDTHATTHISHASSLOWEDTHEGERMANPLANTOSHIPTHEREMAININGSTOCKSOFPOTASSIUMPEROXIDETODIEALCHEMISTENRESEARCHFACILITIESINBERLININPREPARATIONFORTHESHIPMENTCIVILIANSARENOLONGERALLOWEDACCESSTOTHERAILWAYANDPATROLSHAVEBEENSTEPPEDUPSECURITYATALLTHERAILWAYSTATIONSHASBEENSIGNIFICANTLYINCREASEDSWALLOWHAVEMATCHEDTHISBYINCREASINGTHEIROWNSURVEILLANCEONTHERJUKANLINEANDPROPOSEDANUMBEROFPLANSTOINTERCEPTTHESHIPMENTBUTTHEENHANCEDSECURITYMAKEITVERYUNLIKELYTHATASTANDARDSABOTAGEWOULDSUCCEEDINDOINGMORETHANDELAYINGTHESHIPMENTALTERNATIVESINCLUDINGTHELOCALFERRYROUTESAREBEINGACTIVELYCONSIDEREDASWITHTHEAIRRAIDCIVILIANCASUALTIESAREAMAJORCONSIDERATIONBUTTHEPLANTDIRECTORBJARNENILSSENISSYMPATHETICANDMAYBEABLETOINFLUENCETHEDATEANDTIMEOFSHIPMENTINORDERTOREDUCETHERISKONCEMOREOURAGENTSHAVEBEENSUCCESSFULININTERCEPTINGENEMYCOMMUNICATIONSCONCERNINGTHEMISSIONANDTHEENCLOSEDTELEGRAMSUMMARISINGTHEPLANSCONFIRMSOUROWNINVESTIGATIONSWITHTHISINHANDITHINKTHESWALLOWTEAMWILLBEABLETOEXECUTEASUCCESSFULSABOTAGEANDHOPEFULLYTERMINATETHEGERMANNUCLEARWEAPONSPROGRAMLETSHOPEWECANENDTHISSOONPHIL\n"
     ]
    }
   ],
   "source": [
    "# Lining them up...\n",
    "# ONE...... (HUI)\n",
    "# .RIM..... (KPQ)\n",
    "# B......NE (GLF)\n",
    "# ....DZM.. (WGQ)\n",
    "# .....TON. (MVR)\n",
    "# P......BB (UIT)\n",
    "# ....HAX.. (AHB)\n",
    "# A......UK (NRE)\n",
    "# ....STO.. (LAS)\n",
    "# ....NZC.. (GGG)\n",
    "\n",
    "# Not much commonality, but if we cherry-pick...\n",
    "# .RIM..... (KPQ)\n",
    "# B......NE (GLF)\n",
    "# .....TON. (MVR)\n",
    "# ....STO.. (LAS)\n",
    "\n",
    "# \"BRIMSTONE\" ?\n",
    "\n",
    "\n",
    "# A method to decode/encode a Vigenere cipher.  Case and punctuation are preserved.\n",
    "# text: The text to encode\n",
    "# key: The key to use\n",
    "# encode: If set to True, will encode the given text instead of decoding it\n",
    "def vigenere(text, key, encode=False):\n",
    "    shifts = [ord(letter.upper()) - ord(\"A\") for letter in key]\n",
    "    key_length = len(key)\n",
    "    key_index = 0\n",
    "    for letter in text:\n",
    "        letter_val = ord(letter)\n",
    "        if letter.isupper():\n",
    "            offset = ord(\"A\")\n",
    "        elif letter.islower():\n",
    "            offset = ord(\"a\")\n",
    "        else:\n",
    "            print(letter, end=\"\")\n",
    "            continue\n",
    "\n",
    "        if encode:\n",
    "            shift = shifts[key_index]\n",
    "        else:\n",
    "            shift = -shifts[key_index]\n",
    "\n",
    "        print(chr((((letter_val - offset) + shift) % 26) + offset), end=\"\")\n",
    "        key_index = (key_index + 1) % key_length\n",
    "    print()\n",
    "    \n",
    "vigenere(squished, \"BRIMSTONE\")"
   ]
  },
  {
   "cell_type": "markdown",
   "metadata": {},
   "source": [
    "### Edited for clarity\n",
    "Harry,\n",
    "We received further encouraging reports from Swallow about the effects of the USAAF raid. The secondary targets of the attack were the station at Rjukan, the industrial tracks and the track to Vemork.<br/>\n",
    "While the railway tracks themselves remain operational, a considerable amount of rolling stock was seriously damaged, with two locomotives, eight cargo wagons and seven passenger wagons suffering damage, our agents in the plant have confirmed that this has slowed the German plan to ship the remaining stocks of potassium peroxide to Die Alchemisten research facilities in Berlin.<br/>\n",
    "In preparation for the shipment, civilians are no longer allowed access to the railway and patrols have been stepped up. Security at all the railway stations has been significantly increased. Swallow have matched this by increasing their own surveillance on the Rjukan line and proposed a number of plans to intercept the shipment, but the enhanced security make it very unlikely that a standard sabotage would succeed in doing more than delaying the shipment.<br/>\n",
    "Alternatives, including the local ferry routes, are being actively considered as with the air raid, civilian casualties are a major consideration, but the plant director, Bjarne Nilssen is sympathetic and may be able to influence the date and time of shipment in order to reduce the risk.<br/> Once more, our agents have been successful in intercepting enemy communications concerning the mission and the enclosed telegram summarising the plans confirms our own investigations.<br/>\n",
    "With this in hand, I think the Swallow team will be able to execute a successful sabotage and hopefully terminate the German nuclear weapons program. Let's hope we can end this soon.\n",
    "Phil"
   ]
  },
  {
   "cell_type": "code",
   "execution_count": null,
   "metadata": {},
   "outputs": [],
   "source": []
  }
 ],
 "metadata": {
  "kernelspec": {
   "display_name": "Python 3",
   "language": "python",
   "name": "python3"
  },
  "language_info": {
   "codemirror_mode": {
    "name": "ipython",
    "version": 3
   },
   "file_extension": ".py",
   "mimetype": "text/x-python",
   "name": "python",
   "nbconvert_exporter": "python",
   "pygments_lexer": "ipython3",
   "version": "3.8.3"
  }
 },
 "nbformat": 4,
 "nbformat_minor": 4
}
