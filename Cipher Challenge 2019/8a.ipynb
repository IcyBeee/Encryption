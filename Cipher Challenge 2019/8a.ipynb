{
 "cells": [
  {
   "cell_type": "markdown",
   "metadata": {},
   "source": [
    "# Cipher Challenge 8a"
   ]
  },
  {
   "cell_type": "code",
   "execution_count": 2,
   "metadata": {},
   "outputs": [],
   "source": [
    "# Paste in the message\n",
    "message8a = \"HBTUC NVBBC YRQGV THRLX UHKCU NMFPI VTSAP NMZYC IIYEY WCQEP GNNIG UIFZR MWXPP LOCTN WAUQA PNDNU ORWYU MBQOW MFHTY XZMYZ JJMMT IUFSR HPVPD SDBIV XDALM DKKDH LFUDR IIVUY EEQED GYELH OOOIM NKJPJ JTXTW AONXH SHJFL AYNKR PBEPH WLJUE GPOYF NBZUO HEINE LLNNC QDVIG WWUVZ JVWXQ EVBNC EKIVE ICYIK OUIUV JIBFZ UUGNN RDXRG AQRHR JJAPN DLZXQ DDKSB HDJDR GETQX VHKVN CRPQK DAEJA HHRWP MQIHK QEQRF QWCEM YZTTZ FTJJH IMWBV VUIRU CMMPZ DZCSY WAVUO ELLCU SKQKY NHBYB ZORGH YKYHN YNLNO EEURM YCHAQ OWPOO RAWGK ZPNQF DRUGV XXGUL JBPBY ORUDW GNAEQ RDDGQ UXMGA NUSRT GCCSV AMBVZ MYRSF FLRXV LKCSZ ZGVTJ RFDQV OOCSU SPHHY UZMAF TOROC TVSKG VNHCC FPTRH DYZMH PFDGV THLHZ LVZBQ VESGF EWXPM MYFFG CPBCG PCOPL PTNPH IKWUB VMZZI RFSKI AGAAE QMTTB VWANI LBQOD BNQTI YAIPJ HQYFE BPGXM KOQPR PDCCL UIOTM POBBS OCQLP TLMMG MPEFC MOXWG XPNFL FGSQX RIZLA CCFZS CGJLF TNZHV GSLPQ NWQOR MCRPF USGCF KMUOE ZQVIU EKIXO UBQOE MAYLU IWHPZ NIMNK FFGYW OUOCR PHBZI QXWNJ BNXBD AOFRY WHLAC QFQFG XIKZT NODBW EUTGG GQUZM MNFDV BVJYW UIDHL DEAMN RANTN BQOEQ ZDTHR LNLZP LPHSF VRSAK YICRZ GFOCT UWZLZ APWNU NKJLY ZOQWU ETRHT IKWGA DJBCQ SXQXP INHDN XZFVQ TTKZT NWQQQ HNDGW LJZHV TYAQE OIYEY MYHLB PZTVT HAFYZ CYZZE RRIES WLIHA TFDRF YHPQH LTXGK QECIX VVBUG KKJXW FPWEX LHZJC AXHGT YXZMS NKKMN NFYRY QJOIE OYAGW RUUGI YMWQG MGUJD XKGYW DDZRA CGCRD KUICB GSITC PMWGJ TNDSQ GOCAC SLNZZ XQKOO IDWNZ KQMKY PGVPJ RVWMO KQFDI NRUIX YPWWD SMGHW YJOTM VOFKO LFCFG NJLVC KNTNW CEWWO YIPPR GAUER YQJUW CRLHR PTUEX HLZOB CMBVV WLJIV UYEEQ ETXBV KMYGH XBHFG GUISZ ZBXBJ IRTDK EVMQJ RBPRI PPVSK ZOMDZ RDNRT HVHHL OSEGB HXCVA WOABN XEAQS IQZDM BZLOM BEEWU IXLVZ VYOUS MXDXL AYZHB ASRJE DPXEZ BNWZZ GVTJR FDNCA CGQSU ILZJY HKXWA DRVTD JAOYG EPRNF UJHGF HSQWQ DIVHR XXWTL VJAAN NUTRP XEZBN WDFUO IDVWW YYPLZ DHBTG ISKKN XBETR UGELF WVVOB BUOMV DKJOA TRCEE RJTHP UKCOE ZYKCP OSSSK UBNHN QCHIX VLAYM ILQSA UKFZF RCMBD SUFRD SLEXH OSXQE IMGGM SZOMB OCHVQ THVUH LYOLU DKOQZ MYCHA CRPAS TXSZS ELZYL PCBVV WLJIO QNPDK FHTCJ WGADJ BCQWI QVMLT LLRDZ RSGPO JLAYN EDLZT VTHSS OAQBK MMQQD FPGYB DOLUM WFHRY SJPLN XEUPO ASFHB YNEKQ DVFTD PROZA RYYRV ZTISG MBDJQ FDMBP XJFIA CAOCE ESREI VLUIZ XRJEO PHHDC OMAOD AZSDV KZXNZ OQQVE SGFEW XPMMY FFFCX JZKVF ZWORG AUVKM XCHAC RPAST XSZSE PZNPG NNVUH HNTAP NEASE OSUKZ XMZYL LCVFT VMTTH XYOLD RRIES WMBZO XKDDP EXQJT AJDDT FVBRB LVXXO DBRGE SORWY GAQLF LXISH EELAY GEPRN FDQPT TTLVC CEAOS RXRFZ YYWKB SHFVH QUKYI CECQT OJWVD BGDPP UDRFE LVHRL LBOGQ EOAJZ EXMRE QFZNF ZFPFS HBRYY YNFZD VPMNJ PECDI HJWCI KNZNO NQVZX DXAMF JKHQK ILGRY WYHJX DPGER TBZTX LVPBJ XASTD RLKKN XBETR HPDBL HVZIF QBOOH LKZXL LRXLZ RTUEI LMIXW RQDTS QXFQK MWADS QZWHI ZGGUG PEMTG IYHGF TAJNC FDRHW UPJXU GEPCC HPYGE SMLZX EDFUW HMRKP BZJTC OUUKW XTMLB QOCIV HWQCD MBZKQ FDRBE FMIKU BBSEU FDGUK LRWGA XPSHJ UZEXG UWCRP DQSAY SWKUO AXRSA DMRRY NLXAY RDNAL UWGNH YPECR EDQQH AKYAR YYASH WUIWI IMPFL ZBPZX RIKYB QOQXB CGRFS KXNEK KHKFU SPFIL QBEAB BGTYK ALJJO PGALF VKEYS PSNRL PFHJC SDXXV YOMRS UJHHT IBUNX ETVAH UCXTH YSXQH NWGVX NMHBR XRUGO HFRJM IADFQ BANRD MLTAW YBZHR HWQKL AYMQP QHAOU ZIWKI MQSYP GVXIJ LKCIC LDORP DOIRY ICCKE FUSKU IQEYV OQFDI TIXMQ ZFWOK XMWCG CZKCO YCBKD NUCQH NLAPN KDFEC CQLLL BVZAG DDIGZ SZRKP JFPNR SCJIA XXAKO KZNTN DYLNA MAKDU GWHJF YXNCA OUHTI VKIQK HSLRL DTSHX VOBFG XBENI OIWSU XPAXX QAEOK UIQEI ICQGL EPHFS ZXZMC RPQIW SUEUX CNOQG KLMCU KJRFK RBNGZ GIQEL BUGSB AZNEG IMSOA MUIEU RVXCK GMBZH BYJTP VKISK DAYKA QETDH VFLCX OJYSC IGGXM KAGYO HDVHT HIAUV JJXLC TZRHG MGYIL DPDVG IYTKH HCEPR XPFYU MYKYE RDSFU SXDBS GXDIM PDSTK RRXUU BQOWQ GHTHK GMBZA AGSOS DXXBK ZBRVW ONBCE KKAIR YLLBL VULZJ RFBQK ETRRX HVUMY YKOAZ RSKHH TAAIW IZRGV TIRTH NVCBY STFOS XXGUL FOSMI SCEKT XYIWY JDTPH LRIGU GXXPQ YGTMY GAUYX LRGMP VLZJG ULXZA AEHJD ZLRMJ DBGRO VTEIX ZZCBZ POGWP CEGMM PNBUD CBPHR YOYMU ICQYO MRLLP CODKM RIHPL JNIHV CSYOV RTDKK HHVLL JKOYK YXTDC QJXOI VHWCZ CXCIY RQSOE ALJJK SAUSR TGZNB VKLQJ NOGDD BDRYY ZOMAO XMVBX DXSII GHLDK IHJWA JGYMB DTXYH GOZFZ NJYOY BKUJD XTZOM AOYOV DWUIW WXJYR KDNUY HJTAU LRXXU XSHFC SVYDP EYRAW GUCXZ YIWQP MYDWQ SWMQC EZFHT IKQOR AZBKO DUTBX VZUTH OXRRH CBPWU ZOAMB OPTBK IESJX UFEQW DTOQZ XMGAB QOYMF OREDH NNDJD CWPFT WWMGC MVYCQ GWBUZ SFBJL FLFTI CWAJY OWDVO NROQB VLHXZ YFNGE SKWES JAPJD TFJWA BJZXX NKJCL OSGOM LNAWW WTWRG IXZFD CICJM QEJOS SWZHV CVJUG AXWYL MYGHR QVHBV HPXKP NJXJF UWCWY WAUYL IYMNF FPIL\"\n",
    "\n",
    "# Get rid of those spaces\n",
    "message8a = message8a.replace(\" \", \"\")"
   ]
  },
  {
   "cell_type": "code",
   "execution_count": 3,
   "metadata": {},
   "outputs": [
    {
     "name": "stdout",
     "output_type": "stream",
     "text": [
      "R: 162 (4.51%) H: 157 (4.37%) X: 154 (4.28%) Y: 152 (4.23%) O: 151 (4.20%) \n",
      "D: 150 (4.17%) Z: 147 (4.09%) G: 145 (4.03%) L: 144 (4.01%) I: 142 (3.95%) \n",
      "C: 139 (3.87%) Q: 139 (3.87%) U: 138 (3.84%) K: 135 (3.76%) P: 135 (3.76%) \n",
      "A: 135 (3.76%) E: 133 (3.70%) M: 132 (3.67%) B: 131 (3.64%) V: 128 (3.56%) \n",
      "W: 128 (3.56%) N: 127 (3.53%) F: 127 (3.53%) T: 126 (3.51%) S: 126 (3.51%) \n",
      "J: 111 (3.09%) \n",
      "-----\n"
     ]
    }
   ],
   "source": [
    "# Do some frequency analysis\n",
    "from collections import Counter\n",
    "\n",
    "def frequency_analysis(data):\n",
    "    frequencies = Counter()\n",
    "    for item in data:\n",
    "        frequencies[item] += 1\n",
    "    \n",
    "    total = sum(frequencies.values())\n",
    "    column = 0\n",
    "    for item, frequency in frequencies.most_common(30):\n",
    "        print(f\"{item}: {frequency:2} ({frequency / total:.2%})\", end=\" \")\n",
    "        column += 1\n",
    "        if column %5 == 0:\n",
    "            print()\n",
    "    print(\"\\n-----\")\n",
    "\n",
    "frequency_analysis(message8a)"
   ]
  },
  {
   "cell_type": "code",
   "execution_count": 4,
   "metadata": {},
   "outputs": [],
   "source": [
    "# Quite flat.  Probably our old mate Vigenere again...\n",
    "def vigenere(text, key, encode=False):\n",
    "    shifts = [ord(letter.upper()) - ord(\"A\") for letter in key]\n",
    "    key_length = len(key)\n",
    "    key_index = 0\n",
    "    for letter in text:\n",
    "        letter_val = ord(letter)\n",
    "        if letter.isupper():\n",
    "            offset = ord(\"A\")\n",
    "        elif letter.islower():\n",
    "            offset = ord(\"a\")\n",
    "        else:\n",
    "            print(letter, end=\"\")\n",
    "            continue\n",
    "\n",
    "        if encode:\n",
    "            shift = shifts[key_index]\n",
    "        else:\n",
    "            shift = -shifts[key_index]\n",
    "\n",
    "        print(chr((((letter_val - offset) + shift) % 26) + offset), end=\"\")\n",
    "        key_index = (key_index + 1) % key_length\n",
    "    print()"
   ]
  },
  {
   "cell_type": "code",
   "execution_count": 5,
   "metadata": {},
   "outputs": [],
   "source": [
    "# Last week, I felt bad about using a website to determine the key length.\n",
    "# So here are some tools I wrote that should help me do it myself...\n",
    "\n",
    "\n",
    "# A function that searches for multiple ocurrences of letters of the specified size and prints out the most common ones\n",
    "def pattern_finder(text, size):\n",
    "    patterns = Counter()\n",
    "    for index in range(len(text)):\n",
    "        patterns[text[index:index+size]] += 1\n",
    "\n",
    "    column = 0\n",
    "    for item, pattern in patterns.most_common(30):\n",
    "        print(f\"{item}: {pattern:2}\", end=\" \")\n",
    "        column += 1\n",
    "        if column % 5 == 0:\n",
    "            print()\n",
    "\n",
    "\n",
    "# A function that searches the given text for a word and figures out where it would line up with a key of a given size\n",
    "def get_alignment(text, word, key_size):\n",
    "    print(word, end=\" \")\n",
    "    alignments = []\n",
    "    position = -1\n",
    "    while True:\n",
    "        position = text.find(word, position+1)\n",
    "        if position >= 0:\n",
    "            alignment = position % key_size\n",
    "            print(f\"{position} ({alignment})\", end=\" \")\n",
    "            alignments.append(alignment)\n",
    "        else:\n",
    "            break\n",
    "    if alignments.count(alignments[0]) == len(alignments):\n",
    "        print(\"All the same!\", end=\"\")\n",
    "    print()\n",
    "\n",
    "\n",
    "# A function to reverse search for a key that would convert the given word to the given encoded word\n",
    "def lookup_key(word, encoded_word):\n",
    "    key = \"\"\n",
    "    for letter, encoded_letter in zip(word, encoded_word):\n",
    "        diff = (ord(encoded_letter) - ord(letter)) % 26\n",
    "        key += chr(diff + ord('A'))\n",
    "    print(key)"
   ]
  },
  {
   "cell_type": "code",
   "execution_count": 6,
   "metadata": {},
   "outputs": [
    {
     "name": "stdout",
     "output_type": "stream",
     "text": [
      "BQO:  8 CRP:  7 LAY:  6 GVT:  5 APN:  5 \n",
      "QFD:  5 MBZ:  5 VTH:  4 WLJ:  4 FDR:  4 \n",
      "JRF:  4 FUS:  4 WUI:  4 ETR:  4 HTI:  4 \n",
      "ZOM:  4 RYY:  4 HRL:  3 GNN:  3 WXP:  3 \n",
      "OCT:  3 TNW:  3 DNU:  3 QOW:  3 FHT:  3 \n",
      "XZM:  3 ZMY:  3 NKJ:  3 CEK:  3 RGA:  3 \n"
     ]
    }
   ],
   "source": [
    "# So let's put them to use...\n",
    "\n",
    "# Look for the most common trigraphs\n",
    "pattern_finder(message8a, 3)"
   ]
  },
  {
   "cell_type": "code",
   "execution_count": 7,
   "metadata": {},
   "outputs": [
    {
     "name": "stdout",
     "output_type": "stream",
     "text": [
      "2: BQO 86 (0) 606 (0) 736 (0) 840 (0) 2244 (0) 2374 (0) 2920 (0) 3414 (0) All the same!\n",
      "3: BQO 86 (2) 606 (0) 736 (1) 840 (0) 2244 (0) 2374 (1) 2920 (1) 3414 (0) \n",
      "4: BQO 86 (2) 606 (2) 736 (0) 840 (0) 2244 (0) 2374 (2) 2920 (0) 3414 (2) \n",
      "5: BQO 86 (1) 606 (1) 736 (1) 840 (0) 2244 (4) 2374 (4) 2920 (0) 3414 (4) \n",
      "6: BQO 86 (2) 606 (0) 736 (4) 840 (0) 2244 (0) 2374 (4) 2920 (4) 3414 (0) \n",
      "7: BQO 86 (2) 606 (4) 736 (1) 840 (0) 2244 (4) 2374 (1) 2920 (1) 3414 (5) \n",
      "8: BQO 86 (6) 606 (6) 736 (0) 840 (0) 2244 (4) 2374 (6) 2920 (0) 3414 (6) \n",
      "9: BQO 86 (5) 606 (3) 736 (7) 840 (3) 2244 (3) 2374 (7) 2920 (4) 3414 (3) \n",
      "10: BQO 86 (6) 606 (6) 736 (6) 840 (0) 2244 (4) 2374 (4) 2920 (0) 3414 (4) \n",
      "11: BQO 86 (9) 606 (1) 736 (10) 840 (4) 2244 (0) 2374 (9) 2920 (5) 3414 (4) \n",
      "12: BQO 86 (2) 606 (6) 736 (4) 840 (0) 2244 (0) 2374 (10) 2920 (4) 3414 (6) \n",
      "13: BQO 86 (8) 606 (8) 736 (8) 840 (8) 2244 (8) 2374 (8) 2920 (8) 3414 (8) All the same!\n",
      "14: BQO 86 (2) 606 (4) 736 (8) 840 (0) 2244 (4) 2374 (8) 2920 (8) 3414 (12) \n",
      "15: BQO 86 (11) 606 (6) 736 (1) 840 (0) 2244 (9) 2374 (4) 2920 (10) 3414 (9) \n"
     ]
    }
   ],
   "source": [
    "# Let's assume the top result is \"the\", let's try keys of different sizes\n",
    "\n",
    "for key_size in range(2, 16):\n",
    "    print(key_size, end=\": \")\n",
    "    get_alignment(message8a, \"BQO\", key_size)"
   ]
  },
  {
   "cell_type": "code",
   "execution_count": 8,
   "metadata": {},
   "outputs": [
    {
     "name": "stdout",
     "output_type": "stream",
     "text": [
      "BQO 86 (8) 606 (8) 736 (8) 840 (8) 2244 (8) 2374 (8) 2920 (8) 3414 (8) All the same!\n",
      "IJK\n",
      "CRP 295 (9) 711 (9) 763 (9) 1595 (9) 1829 (9) 2297 (9) 2739 (9) All the same!\n",
      "JKL\n",
      "LAY 174 (5) 1344 (5) 1526 (5) 1656 (5) 1942 (5) 2514 (5) All the same!\n",
      "STU\n",
      "GVT 13 (0) 481 (0) 533 (0) 1365 (0) 3003 (0) All the same!\n",
      "NOP\n",
      "APN 33 (7) 74 (9) 267 (7) 1853 (7) 2607 (7) \n",
      "HIJ\n"
     ]
    }
   ],
   "source": [
    "# It looks like the key is 13 characters long.\n",
    "# I'll assumme the top row of them are the word \"the\"\n",
    "\n",
    "for word in (\"BQO\", \"CRP\", \"LAY\", \"GVT\", \"APN\"):\n",
    "    get_alignment(message8a, word, 13)\n",
    "    lookup_key(\"THE\", word)\n"
   ]
  },
  {
   "cell_type": "code",
   "execution_count": 9,
   "metadata": {},
   "outputs": [
    {
     "name": "stdout",
     "output_type": "stream",
     "text": [
      "HARRYIPUTTOGEGURENGRNZBSJBMENFROMTHECOMCHGVATQVIVFVBNHEREATKENNEDLNAQJRUNIRFCRNTMOSTOFTHELAFGRVTUGRRAZBATHSCOMBINGTHRBHTUZVFFVBASVLESANDCOMPUTEECEVAGBHGFYBBKINGFORMORECLHRFGBGURFBHEPEOFTHEOXYGENTNAXRKCYBFVBABNBOARDAPOLLOXVVVNAQVGUVAXJEHAVEFINALLYWBEXRQBHGJUNGUAPPENEDTHETANXPBAGNVAVATGUESOURCEOFTHEEKCYBFVBAJNFBEIGINALLYINSTAYYRQVANCBYYBKBUTREMOVEDFORZBQVSVPNGVBAQURINGTHATPROCRFFVGTBGQEBCCEDSOITWASHELDONPXSBESHEGURRTESTSANDAREPYNPRZRAGSVGGRDFORTHATFLIGHGBAPRVGUNQCNFSEDINSPECTIONGURGNAXJNFERGURNEDTOSERVICRNAQRNEZNEXRQFORODYSSEYFURGUREHCTENQRFJERECARRIEDOUTGBNYYBJVGGBEHNOFFGROUNDPOWREQHEVATSVGBHTATTWICETHESPNPRFUVCIBYGNTEANDTHEHIGHERCBJREJNFHFRQGOBOILOFFEXCESFBKLTRAQHEVATGROUNDTESTSUNSBEGHANGRYLVGLOOKSLIKETHETUREZBFGNGVPFJITCHESINTHETAAXJRERBIREYBBKEDDURINGTHEVBYGNTRHCTENQRANDOURBESTGUEFFVFGUNGGURLSUSEDCLOSEDDURVATGUROBVYBSSALLOWINGTHETEZCRENGHERGBEVSETOOVERATHOUFNAQQRTERRFLBUMIGHTTHINKTHRGRFGRATVARRESWOULDHAVENOTVPRQGUNGOHGFVNCETHETANKOPEENGVATGRZCRENTUREWASSUPPOSRQGBORFBZRJURREWELLBELOWZEEBGURQVNYBAYLWENTASFARASPLHFRVTUGLFBABBNEWOULDHAVENOGVPRQBCRENGVAGTHATFAROUTOFABEZNYENATRVGISAMIRACLETHEGNAXYNFGRQNFYONGASITDIDANDGUNGNQQFGBGURIMPRESSIONTHAGGUVFJNFNFVZCLEACCIDENTACHNVABSRIRAGFGUATCOULDNOTHAVRORRASBERFRRABUTTHECOMPUTEESVYRFGRYYNQVFFERENTSTORYWRSBHAQGJBIREFIONSOFTHEUPGRNQRERCBEGJUVPHWASWRITTENTOQRGNVYGURCEBPEDURESFORMODISLVATGURRYRPGRICALSYSTEMONGURGNAXGURSVESTGIVESACOMPRRURAFVIRYVFGBFTHECABLINGSWVGPUTRNENAQPBNTROLSYSTEMSTUNGARRQRQGBORHARDENEDFORTHRTEBHAQONFRQIOLTAGEITLISTSRIRELPEVGVPNYCOMPONENTEXCECGGURGUREZBFGATICVALVESTHIFQBPHZRAGJNFSILEDINTHESERVVPRERPBEQFBJRKNOWITWASTHEOSSVPVNYERPBEQBUTTHECHIEFSYFGRZFRATVARREWHOSIGNEDITOFSFNLFGURFVTANTUREONITISABAQPBCLBSUVFBJAWEFOUNDIDENTIPNYPBCVRFVAFRVERALMISSIONFVYRFOBGUVAGURMANUFACTURERSERPBEQFNAQNGXENNEDYWHERESOZRBSGURGRFGFJERECARRIEDOUTFBVGVFPYRNEGUATTHISWASTHEOSSVPVNYIREFVBNUSEDINTHEUPGENQRGURFRPBAQVERSIONAPPEARRQGBORGURFNZRDOCUMENTBUTITVAPYHQRQGURGUERMOSTATICVALIRFBAGURYVFGBFCOMPONENTSTOORPUNATRQNAQGHETEMPERATURETNHTRYVZVGFJRRECIRCLEDSEVEENYGVZRFJVGUNNEXCLAMATIONMNEXARKGGBGURRIGHTYDEGREECEVYVATVGYBBXFYIKEOURSABOTEUEQRYVORENGRYLARRANGEDFORTHRGNAXGBORZVFPONFIGUREDINANRSSBEGGBPNHFRTROUBLEFORTHEZVFFVBANYGUBHGHWECANTBESURRGURLERNYVFRQHOWDANGEROUSTUVFJNFJURAJRCUTITTOGETHERWVGUNYYGURBGURRACCIDENTSITIFCERGGLPYRNEGHISWASANOTHERQRYVORENGRNGGACKONTHEPROGRNZJRSBHAQGURFECONDVERSIONOSGURERCBEGVANBOXUNDERTHEFLBBEOBNEQFVAZVKESPLACEISUPPBFRVGVFCBFFVOLETHATMIKEHADFGHZOYRQNPEBFSTHEDOCUMENTHVZFRYSNAQJNFVNVESTIGATINGIGNFCNEGBSUVFPAMPAIGNTOPROVRGUNGGUREHFFVANSWEREBEHINDGUVFFGEVATBSCROBLEMSBUTATTURIRELYRNFGURISGUILTYOFAMAWBEZVFWHQTRZRNTANDIFTHEASTEBANHGFUNQQVRDHEWOULDHAVEBRRAGEVRQSBEZNNSLAUGHTERASIGVFGBTRGUREJVTHTHELEAKCHARTRFURJVYYORTBINGTOPRISONFOENIRELYBATGVZEOFCOURSETHEEIVQRAPRVFFGVYLLARGELYCIRCUZFGNAGVNYJRPNNDEFINITELYTIRUVZGBGURYRNXTOTHENEWSPAPEESBERAFVPFZNGCHEDTHETYPEWRVGREEVOOBANAQTYPECHARACTERVFGVPFBAUVFGLPEWRITERWITHTURVAXNAQVZCERSSIONSONTHELEGGREGBGURRQVGORBUTWESTILLCNAABGFUBJPBAPLUSIVELYTHATHRQVERPGRQBEPNRRIEDOUTANYOFGURFNOBGNTRNGTEMPTSANDWEHAIRABGORRANOYRTOFINDANYONEEYFRJUBUNQOBGUMOTIVEANDOPPOEGHAVGLFBURVFOURBESTSUSPECGVNZABGFHERJRCANENTIRELYREYNKOHGJVGUABFIGNIFICANTINCVQRAGFBANCBYYOXIVTOXVIANDWVGUZVXRVAPHFGODYIFEELSLIGHGYLYRFFJBEEVRDABOUTTHEREMAVAVATNCBYYBSYIGHTWEARESTILYGELVATGBPENPKTHATOTHERENCVCURERQQBPHZRNTWEFOUNDINMIXRFCYNPRVGUNFAVERYSTRANGEAYCUNORGJUVPUVTHINKMUSTBESITAVSVPNAGOHGVCANTQUITESEEHBJGBOERNXVGLRTNOWTHATTHENAFNPBZCHGVATRKPERTSHAVEMOREGVZRVNZUBCVATTHATWESHOULDBRNOYRGBQRPVCUERITANDTHATITJVYYFURQFBZRZORELIGHTONMIKRFGUVAXVATZBEEIMPORTANTLYIGZVTUGGRYYHFJHATELSEIFANYTUVATURUNQCYNANEDMEG\n"
     ]
    }
   ],
   "source": [
    "# The first four look promising.  And there's a pattern to those keys - alphabetical order!\n",
    "# If I put them in the indicated positions:\n",
    "# nop3456hijkl23 - leaving out STU\n",
    "# Maybe NOP is wrong - I'll try a-m\n",
    "\n",
    "vigenere(message8a, \"abcdefghijklm\")"
   ]
  },
  {
   "cell_type": "code",
   "execution_count": 10,
   "metadata": {},
   "outputs": [
    {
     "name": "stdout",
     "output_type": "stream",
     "text": [
      "BQO 86 (8) 606 (8) 736 (8) 840 (8) 2244 (8) 2374 (8) 2920 (8) 3414 (8) All the same!\n"
     ]
    }
   ],
   "source": [
    "# Looks good, but there's something wrong - it seems to alternate between 13 right and 13 wrong.  Two keys?\n",
    "# D'oh!  I'm an idiot.  The key is clearly 26 characters long.  Let's test that...\n",
    "get_alignment(message8a, \"BQO\", 26)"
   ]
  },
  {
   "cell_type": "code",
   "execution_count": 12,
   "metadata": {},
   "outputs": [
    {
     "name": "stdout",
     "output_type": "stream",
     "text": [
      "HARRYIPUTTOGETHERATEAMOFWOMENFROMTHECOMPUTINGDIVISIONHEREATKENNEDYANDWEHAVESPENTMOSTOFTHELASTEIGHTEENMONTHSCOMBINGTHROUGHMISSIONFILESANDCOMPUTERPRINTOUTSLOOKINGFORMORECLUESTOTHESOURCEOFTHEOXYGENTANKEXPLOSIONONBOARDAPOLLOXIIIANDITHINKWEHAVEFINALLYWORKEDOUTWHATHAPPENEDTHETANKCONTAININGTHESOURCEOFTHEEXPLOSIONWASORIGINALLYINSTALLEDINAPOLLOXBUTREMOVEDFORMODIFICATIONDURINGTHATPROCESSITGOTDROPPEDSOITWASHELDBACKFORFURTHERTESTSANDAREPLACEMENTFITTEDFORTHATFLIGHTONCEITHADPASSEDINSPECTIONTHETANKWASRETURNEDTOSERVICEANDEARMARKEDFORODYSSEYFURTHERUPGRADESWERECARRIEDOUTTOALLOWITTORUNOFFGROUNDPOWERDURINGFITOUTATTWICETHESPACESHIPVOLTAGEANDTHEHIGHERPOWERWASUSEDTOBOILOFFEXCESSOXYGENDURINGGROUNDTESTSUNFORTUNATELYITLOOKSLIKETHETHERMOSTATICSWITCHESINTHETANKWEREOVERLOOKEDDURINGTHEVOLTAGEUPGRADEANDOURBESTGUESSISTHATTHEYFUSEDCLOSEDDURINGTHEBOILOFFALLOWINGTHETEMPERATURETORISETOOVERATHOUSANDDEGREESYOUMIGHTTHINKTHETESTENGINEERSWOULDHAVENOTICEDTHATBUTSINCETHETANKOPERATINGTEMPERATUREWASSUPPOSEDTOBESOMEWHEREWELLBELOWZEROTHEDIALONLYWENTASFARASPLUSEIGHTYSONOONEWOULDHAVENOTICEDOPERATINGTHATFAROUTOFNORMALRANGEITISAMIRACLETHETANKLASTEDASLONGASITDIDANDTHATADDSTOTHEIMPRESSIONTHATTHISWASASIMPLEACCIDENTACHAINOFEVENTSTHATCOULDNOTHAVEBEENFORESEENBUTTHECOMPUTERFILESTELLADIFFERENTSTORYWEFOUNDTWOVERSIONSOFTHEUPGRADEREPORTWHICHWASWRITTENTODETAILTHEPROCEDURESFORMODIFYINGTHEELECTRICALSYSTEMONTHETANKTHEFIRSTGIVESACOMPREHENSIVELISTOFTHECABLINGSWITCHGEARANDCONTROLSYSTEMSTHATNEEDEDTOBEHARDENEDFORTHEGROUNDBASEDVOLTAGEITLISTSEVERYCRITICALCOMPONENTEXCEPTTHETHERMOSTATICVALVESTHISDOCUMENTWASFILEDINTHESERVICERECORDSOWEKNOWITWASTHEOFFICIALRECORDBUTTHECHIEFSYSTEMSENGINEERWHOSIGNEDITOFFSAYSTHESIGNATUREONITISABADCOPYOFHISOWNWEFOUNDIDENTICALCOPIESINSEVERALMISSIONFILESBOTHINTHEMANUFACTURERSRECORDSANDATKENNEDYWHERESOMEOFTHETESTSWERECARRIEDOUTSOITISCLEARTHATTHISWASTHEOFFICIALVERSIONUSEDINTHEUPGRADETHESECONDVERSIONAPPEAREDTOBETHESAMEDOCUMENTBUTITINCLUDEDTHETHERMOSTATICVALVESONTHELISTOFCOMPONENTSTOBECHANGEDANDTHETEMPERATUREGAUGELIMITSWERECIRCLEDSEVERALTIMESWITHANEXCLAMATIONMARKNEXTTOTHEEIGHTYDEGREECEILINGITLOOKSLIKEOURSABOTEURDELIBERATELYARRANGEDFORTHETANKTOBEMISCONFIGUREDINANEFFORTTOCAUSETROUBLEFORTHEMISSIONALTHOUGHWECANTBESURETHEYREALISEDHOWDANGEROUSTHISWASWHENWEPUTITTOGETHERWITHALLTHEOTHERACCIDENTSITISPRETTYCLEARTHISWASANOTHERDELIBERATEATTACKONTHEPROGRAMWEFOUNDTHESECONDVERSIONOFTHEREPORTINABOXUNDERTHEFLOORBOARDSINMIKESPLACEISUPPOSEITISPOSSIBLETHATMIKEHADSTUMBLEDACROSSTHEDOCUMENTHIMSELFANDWASINVESTIGATINGITASPARTOFHISCAMPAIGNTOPROVETHATTHERUSSIANSWEREBEHINDTHISSTRINGOFPROBLEMSBUTATTHEVERYLEASTHEISGUILTYOFAMAJORMISJUDGEMENTANDIFTHEASTRONAUTSHADDIEDHEWOULDHAVEBEENTRIEDFORMANSLAUGHTERASITISTOGETHERWITHTHELEAKCHARGESHEWILLBEGOINGTOPRISONFORAVERYLONGTIMEOFCOURSETHEEVIDENCEISSTILLLARGELYCIRCUMSTANTIALWECANDEFINITELYTIEHIMTOTHELEAKTOTHENEWSPAPERFORENSICSMATCHEDTHETYPEWRITERRIBBONANDTYPECHARACTERISTICSONHISTYPEWRITERWITHTHEINKANDIMPRESSIONSONTHELETTERTOTHEEDITORBUTWESTILLCANNOTSHOWCONCLUSIVELYTHATHEDIRECTEDORCARRIEDOUTANYOFTHESABOTAGEATTEMPTSANDWEHAVENOTBEENABLETOFINDANYONEELSEWHOHADBOTHMOTIVEANDOPPORTUNITYSOHEISOURBESTSUSPECTIAMNOTSUREWECANENTIRELYRELAXBUTWITHNOSIGNIFICANTINCIDENTSONAPOLLOXIVTOXVIANDWITHMIKEINCUSTODYIFEELSLIGHTLYLESSWORRIEDABOUTTHEREMAININGAPOLLOFLIGHTWEARESTILLTRYINGTOCRACKTHATOTHERENCIPHEREDDOCUMENTWEFOUNDINMIKESPLACEITHASAVERYSTRANGEALPHABETWHICHITHINKMUSTBESIGNIFICANTBUTICANTQUITESEEHOWTOBREAKITYETNOWTHATTHENASACOMPUTINGEXPERTSHAVEMORETIMEIAMHOPINGTHATWESHOULDBEABLETODECIPHERITANDTHATITWILLSHEDSOMEMORELIGHTONMIKESTHINKINGMOREIMPORTANTLYITMIGHTTELLUSWHATELSEIFANYTHINGHEHADPLANNEDMEG\n"
     ]
    }
   ],
   "source": [
    "# So all of the trigraphs were \"the\"\n",
    "# Let's try with the full alphabet as the key...\n",
    "import string\n",
    "vigenere(message8a, string.ascii_lowercase)"
   ]
  },
  {
   "cell_type": "markdown",
   "metadata": {},
   "source": [
    "### That'll do, Vig!\n",
    "\n",
    "#### Edited for clarity...\n",
    "\n",
    "Harry,<br>\n",
    "I put together a team of women from the computing division here at Kennedy and we have spent most of the last eighteen months combing through mission files and computer printouts looking for more clues to the source of the oxygen tank explosion on board Apollo XIII and I think we have finally worked out what happened.<br>\n",
    "The tank containing the source of the explosion was originally installed in Apollo X, but removed for modification during that process, it got dropped so it was held back for further tests and a replacement fitted for that flight once it had passed inspection.<br>\n",
    "The tank was returned to service and earmarked for Odyssey.<br>\n",
    "Further upgrades were carried out to allow it to run off ground power during fit out at twice the spaceship voltage and the higherpower was used to boil off excess oxygen during ground tests.<br>\n",
    "Unfortunately it looks like the thermostatic switches in the tank were overlooked during the voltage upgrade and our best guess is that they fused closed during the boil off, allowing the temperature to rise to over a thousand degrees.<br>\n",
    "You might think the test engineers would have noticed that, but since the tank operating temperature was supposed to be somewhere well below zero, the dial only went as far as plus eighty, so no-one would have noticed operating that far out of normal range.<br>\n",
    "It is a miracle the tank lasted as long as it did and that adds to the impression that this was a simple accident: a chain of events that could not have been foreseen, but the computer files tell a different story.\n",
    "We found two versions of the upgrade report, which was written to detail the procedures for modifying the electrical system on the tank.<br>\n",
    "The first gives a comprehensive list of the cabling switch gear and control systems that needed to be hardened for the ground based voltage.<br>\n",
    "It lists every critical component except the thermostatic valves.<br>\n",
    "This document was filed in the service record, so we know it was the official record, but the chief systems engineer who signed it off says the signature on it is a bad copy of his own.<br>\n",
    "We found identical copies in several mission files, both in the manufacturers records and at Kennedy, where some of the tests were carried out, so it is clear that this was the official version used in the upgrade.<br>\n",
    "The second version appeared to be the same document, but it included the thermostatic valves on the list of components to be changed and the temperature gauge limits were circled several times with an exclamation mark next to the eighty degree ceiling.<br>\n",
    "It looks like our saboteur deliberately arranged for the tank to be misconfigured in an effort to cause trouble for the mission, although we can't be sure they realised how dangerous this was.<br>\n",
    "When we put it together with all the other accidents, it is pretty clear this was another deliberate attack on the program.<br>\n",
    "We found the second version of the report in a box under the floorboards in Mike's place.<br>\n",
    "I suppose it is possible that Mike had stumbled across the document himself and was investigating it as part of his campaign to prove that the Russians were behind this string of problems, but at the very least, he is guilty of a major misjudgement and if the astronauts had died, he would have been tried for manslaughter.<br>\n",
    "As it is together with the leak charges, he will be going to prison for a very long time.<br>\n",
    "Of course, the evidence is still largely circumstantial.<br>\n",
    "We can definitely tie him to the leak to the newspaper: forensics matched the typewriter ribbon and type characteristics on his typewriter with the ink and impressions on the letter to the editor, but we still cannot show conclusively that he directed or carried out any of the sabotage attempts and we have not been able to find anyone else who had both motive and opportunity, so he is our best suspect.<br>\n",
    "I am not sure we can entirely relax, but with no significant incidents on Apollo XIV to XVI and with Mike in custody, I feel slightly less worried about the remaining Apollo flight.<br>\n",
    "<font color=green>We are still trying to crack that other enciphered document we found in Mike's place.<br>\n",
    "It has a very strange alphabet</font>, which I think must be significant, but I can't quite see how to break it yet.<br>\n",
    "Now that the NASA computing experts have more time, I am hoping that we should be able to decipher it and that it will shed some more light on Mike's thinking, more importantly, it might tell us what else, if anything, he had planned.<br>\n",
    "Meg.\n"
   ]
  },
  {
   "cell_type": "code",
   "execution_count": null,
   "metadata": {},
   "outputs": [],
   "source": []
  }
 ],
 "metadata": {
  "kernelspec": {
   "display_name": "Python 3",
   "language": "python",
   "name": "python3"
  },
  "language_info": {
   "codemirror_mode": {
    "name": "ipython",
    "version": 3
   },
   "file_extension": ".py",
   "mimetype": "text/x-python",
   "name": "python",
   "nbconvert_exporter": "python",
   "pygments_lexer": "ipython3",
   "version": "3.7.4"
  }
 },
 "nbformat": 4,
 "nbformat_minor": 4
}
