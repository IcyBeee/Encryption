{
 "cells": [
  {
   "cell_type": "markdown",
   "metadata": {},
   "source": [
    "# Cipher Tools Library\n",
    "A collection of tools developed along the way to help with deciphering"
   ]
  },
  {
   "cell_type": "code",
   "execution_count": null,
   "metadata": {},
   "outputs": [],
   "source": [
    "import string\n",
    "\n",
    "# A simple translation method.\n",
    "# text: The text to translate, in upper case\n",
    "# key: A substitution alphabet, usually in lower case so that the translated characters show up\n",
    "def decode(text, key):\n",
    "    table = str.maketrans(string.ascii_uppercase, key)\n",
    "    print(text.upper().translate(table))"
   ]
  },
  {
   "cell_type": "code",
   "execution_count": null,
   "metadata": {},
   "outputs": [],
   "source": [
    "import string\n",
    "\n",
    "# Alternative version of the above, but this time preserving the case\n",
    "def decode2(text, key):\n",
    "    table = str.maketrans(string.ascii_letters, key.lower()+key.upper())\n",
    "    print(text.translate(table))"
   ]
  },
  {
   "cell_type": "code",
   "execution_count": null,
   "metadata": {},
   "outputs": [],
   "source": [
    "# A method to decode/encode a Vigenere cipher.  Case and punctuation are preserved.\n",
    "# text: The text to encode\n",
    "# key: The key to use\n",
    "# encode: If set to True, will encode the given text instead of decoding it\n",
    "def vigenere(text, key, encode=False):\n",
    "    shifts = [ord(letter.upper()) - ord(\"A\") for letter in key]\n",
    "    key_length = len(key)\n",
    "    key_index = 0\n",
    "    for letter in text:\n",
    "        letter_val = ord(letter)\n",
    "        if letter.isupper():\n",
    "            offset = ord(\"A\")\n",
    "        elif letter.islower():\n",
    "            offset = ord(\"a\")\n",
    "        else:\n",
    "            print(letter, end=\"\")\n",
    "            continue\n",
    "\n",
    "        if encode:\n",
    "            shift = shifts[key_index]\n",
    "        else:\n",
    "            shift = -shifts[key_index]\n",
    "\n",
    "        print(chr((((letter_val - offset) + shift) % 26) + offset), end=\"\")\n",
    "        key_index = (key_index + 1) % key_length\n",
    "    print()"
   ]
  },
  {
   "cell_type": "code",
   "execution_count": null,
   "metadata": {},
   "outputs": [],
   "source": [
    "from collections import Counter\n",
    "\n",
    "# Takes a string or list of items and counts the frequencies of those items\n",
    "# data: The list or string to analyse\n",
    "# max_values: The maximum number of values to display (set to None for no limit)\n",
    "# no_columns: The amount of columns to use in the output\n",
    "def frequency_analysis(data, max_values=30, no_columns=5):\n",
    "    frequencies = Counter()\n",
    "    for item in data:\n",
    "        frequencies[item] += 1\n",
    "    \n",
    "    total = sum(frequencies.values())\n",
    "    column = 1\n",
    "    for item, frequency in frequencies.most_common(max_values):\n",
    "        print(f\"{item}: {frequency:2} ({frequency / total:.2%})\", end=\" \" if column % no_columns else \"\\n\")\n",
    "        column += 1\n",
    "    print(\"\\n-----\")"
   ]
  },
  {
   "cell_type": "code",
   "execution_count": null,
   "metadata": {},
   "outputs": [],
   "source": [
    "import string\n",
    "\n",
    "# Attempts to determine the keyword used for a substition cipher\n",
    "# alphabet: The substitution alphabet\n",
    "# TODO Separate out keyword from remainder of alphabet (find a stopping case!)\n",
    "def decode_key(alphabet):\n",
    "    for letter in string.ascii_lowercase:\n",
    "        print(chr(alphabet.find(letter) + ord(\"a\")), end=\"\")\n",
    "    print()\n",
    "\n",
    "# Creates a substitution alphabet from a given keyword\n",
    "def encode_key(keyword):\n",
    "    key = list(\".\" * 26)\n",
    "    letters = list(string.ascii_lowercase)\n",
    "    position = 0\n",
    "    for letter in keyword:\n",
    "        position = ord(letter)-ord(\"a\")\n",
    "        key[position] = letters.pop(0)\n",
    "    index = (position + 1) % 26\n",
    "    while index != position:\n",
    "        if key[index] == \".\":\n",
    "            key[index] = letters.pop(0)\n",
    "        index = (index + 1) % 26\n",
    "\n",
    "    print(\"\".join(key))\n"
   ]
  },
  {
   "cell_type": "code",
   "execution_count": null,
   "metadata": {},
   "outputs": [],
   "source": [
    "# Tools to help decode Vigenere ciphers\n",
    "\n",
    "\n",
    "# A function that searches for multiple ocurrences of letters of the specified size and prints out the most common ones\n",
    "def pattern_finder(text, size):\n",
    "    patterns = Counter()\n",
    "    for index in range(len(text)):\n",
    "        patterns[text[index:index+size]] += 1\n",
    "\n",
    "    column = 0\n",
    "    for item, pattern in patterns.most_common(30):\n",
    "        print(f\"{item}: {pattern:2}\", end=\" \")\n",
    "        column += 1\n",
    "        if column % 5 == 0:\n",
    "            print()\n",
    "\n",
    "\n",
    "# A function that searches the given text for a word and figures out where it would line up with a key of a given size\n",
    "def get_alignment(text, word, key_size):\n",
    "    print(word, end=\" \")\n",
    "    alignments = []\n",
    "    position = -1\n",
    "    while True:\n",
    "        position = text.find(word, position+1)\n",
    "        if position >= 0:\n",
    "            alignment = position % key_size\n",
    "            print(f\"{position} ({alignment})\", end=\" \")\n",
    "            alignments.append(alignment)\n",
    "        else:\n",
    "            break\n",
    "    if alignments.count(alignments[0]) == len(alignments):\n",
    "        print(\"All the same!\", end=\"\")\n",
    "    print()\n",
    "\n",
    "\n",
    "# A function to reverse search for a key that would convert the given word to an encoded word\n",
    "def lookup_key(word, encoded_word):\n",
    "    key = \"\"\n",
    "    for letter, encoded_letter in zip(word, encoded_word):\n",
    "        diff = (ord(encoded_letter) - ord(letter)) % 26\n",
    "        key += chr(diff + ord('A'))\n",
    "    print(key)"
   ]
  },
  {
   "cell_type": "code",
   "execution_count": null,
   "metadata": {},
   "outputs": [],
   "source": [
    "def columnar_transposition(text, key):\n",
    "    text = text.replace(\" \", \"\")\n",
    "    columns = dict()\n",
    "    column_length = len(text) // len(key)\n",
    "    count = 0\n",
    "    for column in sorted(key):\n",
    "        start_pos = count*column_length\n",
    "        columns[column] = text[start_pos:start_pos+column_length]\n",
    "        count += 1\n",
    "    for row in range(column_length):\n",
    "        for char in key:\n",
    "            print(columns[char][row], end=\"\")\n"
   ]
  }
 ],
 "metadata": {
  "kernelspec": {
   "display_name": "Python 3",
   "language": "python",
   "name": "python3"
  },
  "language_info": {
   "codemirror_mode": {
    "name": "ipython",
    "version": 3
   },
   "file_extension": ".py",
   "mimetype": "text/x-python",
   "name": "python",
   "nbconvert_exporter": "python",
   "pygments_lexer": "ipython3",
   "version": "3.8.0"
  }
 },
 "nbformat": 4,
 "nbformat_minor": 4
}
