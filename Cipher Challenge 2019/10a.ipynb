{
 "cells": [
  {
   "cell_type": "markdown",
   "metadata": {},
   "source": [
    "# Bonus Challenge 10a"
   ]
  },
  {
   "cell_type": "code",
   "execution_count": 1,
   "metadata": {},
   "outputs": [],
   "source": [
    "message = \"\"\"Dtz bnqq knsi ny ns Hmfqqjslj G. Ymjwj nx st uwnej, ymjwj fwj st utnsyx, gzy ny qttpx btwym yfhpqnsl yt rj! Dtz mfaj zsynq ybjqkym Kjg. yt xzgrny fs fsxbjw. Fwj dtz gtqi jstzlm yt yfhpqj ny? Xpnqqji jstzlm yt gwjfp ny? Xmtb zx bmfy dtz'aj lty.\n",
    "\n",
    "Gjxy bnxmjx,\n",
    "\n",
    "Mfwwd fsi Rfisjxx\"\"\""
   ]
  },
  {
   "cell_type": "code",
   "execution_count": 3,
   "metadata": {},
   "outputs": [
    {
     "name": "stdout",
     "output_type": "stream",
     "text": [
      "yTZ BNQQ KNnd NY Nn HhaQQenLe G. Yhere Ns nT UrNEe, Yhere are nT UTNnYs, GZY NY QTTPs BTrYh YaHPQNnL YT me! yTZ haAe ZnYNQ YBeQKYh KeG. YT sZGmNY an ansBer. are yTZ GTQd enTZLh YT YaHPQe NY? sPNQQed enTZLh YT GreaP NY? shTB Zs BhaY yTZ'Ae LTY.\n",
      "\n",
      "GesY BNshes,\n",
      "\n",
      "harry and madness\n"
     ]
    }
   ],
   "source": [
    "# OK - this is just a simple clue for 10B.  Obviously a substitution cipger, signed from \"Harry and Madness\"\n",
    "import string\n",
    "\n",
    "def decode(text, key):\n",
    "    table = str.maketrans(string.ascii_uppercase, key)\n",
    "    print(text.upper().translate(table))\n",
    "    \n",
    "decode(message, \"ABCyEaGHdeKLhNOPQmnTUVrsYZ\")"
   ]
  },
  {
   "cell_type": "code",
   "execution_count": 4,
   "metadata": {},
   "outputs": [
    {
     "name": "stdout",
     "output_type": "stream",
     "text": [
      "you will find it in challenge b. there is no prize, there are no points, but it looks worth tackling to me! you have until twelfth feb. to submit an answer. are you bold enough to tackle it? skilled enough to break it? show us what you've got.\n",
      "\n",
      "best wishes,\n",
      "\n",
      "harry and madness\n"
     ]
    }
   ],
   "source": [
    "# \"GesY BNshes\" -> \"best wishes\"\n",
    "# \"Yhere Ns nT UrNEe\" -> \"there is no prize\"\n",
    "# Fill in the remaining pattern...\n",
    "decode(message, \"vwxyzabcdefghijklmnopqrstu\")"
   ]
  },
  {
   "cell_type": "code",
   "execution_count": 6,
   "metadata": {},
   "outputs": [
    {
     "name": "stdout",
     "output_type": "stream",
     "text": [
      "You will find it in Challenge B. There is no prize, there are no points, but it looks worth tackling to me! You have until twelfth Feb. to submit an answer. Are you bold enough to tackle it? Skilled enough to break it? Show us what you've got.\n",
      "\n",
      "Best wishes,\n",
      "\n",
      "Harry and Madness\n"
     ]
    }
   ],
   "source": [
    "# With the case preserved...\n",
    "\n",
    "def decode2(text, key):\n",
    "    table = str.maketrans(string.ascii_letters, key.lower()+key.upper())\n",
    "    print(text.translate(table))\n",
    " \n",
    "decode2(message, \"vwxyzabcdefghijklmnopqrstu\")"
   ]
  },
  {
   "cell_type": "code",
   "execution_count": null,
   "metadata": {},
   "outputs": [],
   "source": []
  }
 ],
 "metadata": {
  "kernelspec": {
   "display_name": "Python 3",
   "language": "python",
   "name": "python3"
  },
  "language_info": {
   "codemirror_mode": {
    "name": "ipython",
    "version": 3
   },
   "file_extension": ".py",
   "mimetype": "text/x-python",
   "name": "python",
   "nbconvert_exporter": "python",
   "pygments_lexer": "ipython3",
   "version": "3.8.0"
  }
 },
 "nbformat": 4,
 "nbformat_minor": 4
}
