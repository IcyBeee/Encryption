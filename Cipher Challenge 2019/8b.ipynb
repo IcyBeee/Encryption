{
 "cells": [
  {
   "cell_type": "markdown",
   "metadata": {},
   "source": [
    "# Cipher Challenge 8b"
   ]
  },
  {
   "cell_type": "code",
   "execution_count": 1,
   "metadata": {},
   "outputs": [],
   "source": [
    "# Here's the text...\n",
    "message8b = \"FBGAI AGCFE KEFEK CIAGC FCGAF CIBHD HEFCF AFBFA GDFCH DFEKC IAKCI BGBGC IAHAF EKCFA KAIAG CFBFA GBFBI AFBHE IAGCK CIAFC IBHDF EGAGA FCHDI AHEIA FCKDF CFAIA KCFBF AIAGC FEHEF CICFB FEIAH EFDKA HBHDF CIEKA IDKCH DHEFB HEKEF CFCHA FEKEK CHEHA KAGEF CKCIA GCFBF AGBFC GAIAG CFEHE FCICF BFEIA FEHAH BFBHD FEIDK CHEHE IAFCG DFEKE FDKAG CFBHE KEFEK CIAGC IAGCF EIBHE HEHDG AFEFE KEHEF CFAIA GCFEK CFAGB FEHDI AGCKC IAIDF EHEIA FBHDI BHBID FBIAG CFEKC KDGCI DKCHD IDFEG AFBGB GCIAF BFAFB IAHEH BIBHB HBFEI AHEIA KCIAF EHEID FEGCK CICFE IAHDF BFEKE IAFCK DFCFA IAKCF BFAFB IAFDI BIAFB FAFCI DHDFE KCGEF BHEFE IAGCK CIAID FEKDK CFAFC FAGEK AKEFE GAFEK CIAFB IAIAG CFEID KCKAI DFEGA FCIBG BGCIA GAKCH EKDFB HEHAF DKAIA KCGDF BFAGB FCFAF BIAHE HAFBG BGCIA FBFAF CHBFE FAIDK CHDFC IBHDH BFCGE FBIAF BKDFB KCFAH EGCKC ICFEH EGCHD IBFAG DGAHD FCHAI AGCFE KDFCF AGAGE FBKDI AKCFA KEIAG CFEKA FAFEF EKEKC HDFEK CHEFC FAIAF CKDFC FAGAH DFCFA IAIAG CFEFE ICFBG EFEIC FEFAI AGCFE IAGCH DFEKC IAFCG AFAIB KDGEF EKCHD HAFBH EHEFB GEFEH EFDKC HEFEK EFBFA KDIBF DKCKE FBKEF AFCIA GBFBI CFEIA GCFEH AIAGC FEHAF EIAIA GEFEI AFCGA FBGBG CIAFB FAHEI AFEKC KEIAG CFEKA GCKCI CFEKD FCFAI CFBFA KDFEK EIAGC FEHAH EFEGE ICFEH EIAGC KCIAI AGCFE HAKCK EKEFC KDIAH DFBFA FEFCG AHAIB IAIBK CGEGE KAKCH EHEIB HDFEK EKEFE HEIAH DIBKD IAFBF CFAID FBGEG EHBHD FCIAF EKDIA IBHEK CFAKE IAGCK CIAHB FEKCK DFEKD KCFAF DFEHA KCFBF AIAKC FBFAF EKEIB FAKEF EHDIA GCFEH EGCFE GEIAF EHDFC GAIAG CFEFA IBKDG EFEKC HDIBH AFDHD FEGEG EKCIA GCFEK AKEFC FAFCI AHEFE FEHAI AFCHE FEFEI AGCKC IAIAG CFEGE FCFAG BFEHD IDFEK DFCID FEHDF BFAIA GCFBH EHEGC KCKEF CIDIA GCFEH AFCHD FEIAG CFEIA IDFCH EFBKE FEHEI DFBGE GEFBF AICFE HEIAF BFAIA GCFEH EFEKC IDGAI BGEID FEKCH BFCFA HEFDF EGAFC HDFEG EFCFA GBFBI AIDFB GEGEF DFEFB HAHBF CHEHE FBFDG EFEIA FCGAF BGBGC IAKCI AKCGE GEIDF BIAGC FCIBI AIAGC FEIAG CHDFE KCIAF CGAIA FCIAK CGEKC FAFAF BGCFB GEKCI AFBFC FAKCF AKEID GCFEF AIAGC KCIAK EKCKA KDFCH AFEHE IDFEI DFBGE GEKCG EGEFD FEFEF AHEGE KCICF EKEFD KAIDG CFCFE ICFEH DFBHE HAFCH DFEHD IBIAG CGEFE HEHEG EFCHE FEKCF AKEID FEIDF BGEGE FDFEI AGCFE HEGEK CICFE HEIAG CFEHB HDFBK DFEFC GAIDF BFAFA FBFAG BHAFB GBGCI AFDFE IDFCH DHEFE KCIAG AFBHD HEIAF BGCFC HBFEK EIAGC KCIAI AGCFE HEHBK CKDFE HDKCK DFEID FCIBG EKEGC FEGEH BIBHE IAIBH DFAFB FAGBI AGCFE HAFBH EHEFB GEFEH EGAHD FCHAI DFEKC HBFCF AHEFC GAIDK CHDIA FCKDK CHDHD FBFEH DHEFC GAHBF EKCKD FEKCF AKEGD FEFAF AFEKE KAHEF EFEHA FEKEI AFCGC KCICF EIAGC KCIAF BFAHA FBFAK EIDGC FEFAG CFEHE FEIAG CFBHE HBHDF CGBHD KCHAI AFCGE KCFAK EFCFA IAGCF EHAFC FCFAF DKAID FBFAF AFBFA GBIAG CFEHE HBKCK DFEHD KCKDF EIAGC FEKCK EHAFB FAFBH EIAHD KCIAF BFCFA GCFCH BFEKE IAFCF EHEIA KCFDG EFBHE GCIAG CFEHE IBHBH DFEHA KCKDK AFCGA IAGCF EKDKC HBFBI AKCGE FBHEI AHEKA HEIAF EHAFC ICFEH DKDFC HAHAI BFAFB HEHAK DFCID FBFAG BFCIB HDFEF AFEHA FBFEH EKCFA KEHEF EIAIA FBFAG BFCIB HDGCF EKCHD IAHEK CFAKE HAFBF AKEHE FCFAI AGCFE KDFCF AHCIB FEHEI AFCGA KCFAF EIDGA HDFCF AIAFB FEHDF DIBIA FDHDF EKBGC FAFEI CHEFE FEHAH EIBFA KEFEI AFEHD HDFEK EKCFA KEFEI CFEFA FDFEG AFCHD FEIAG CFEGE KCIBF AKDGC FCGAK CHBFC GEGEF CIEFB IAGCF EKCHA FEHDF BKDKC FAHBI BFDGE FBKDF BHEFD FEGBF BFAFA FBFAG BIAFC GBFEI AFDFC HDFEK EIAGC FEIAG CHDFE KCIAF CGAFA IBKDG EFEKC HDIDK CHDFB HEHDF BHEFB FAGBK CFAKE IAGCF EHBFE KCKDF EHBHD FCIAF EHEIA HEIDG CFBKD GCKCH DFEFB FAIAF EFAKE FEKEI AFCHB HDFEI CFEFA IAFBI AKCHD FEFEF AKDFC IBHDK CGBFB FAGBF CIBHD FEFAF EHAFB FEHEI AFCFD FEGEF BFEIC FEIAG CKCIA IAGCF EKAKD KCFAI DFBFA IDKCH DFBHE IBFAK CICFC FBKEK CFDGE FEIAF CHEIB HDICF BICFE FBIAI DFEHA IBHEI AGAFB GBGCI AFBIA FAFCI DFCFA FCIBH DFCID FAIAF EHDHA HEFDF EGAFC HDFEI AGCFE FAIBK DGEFE KCHDK CHDHE FEFAK CGEHE GBHDF CIDIA FCFCH BFCID FEHDG AIBGE FBGAF CIBHD GEFEK CKEFE HDHEI DFBGE GEFAF CIAKC KDIAF CGAIA GCFEF BHDFC IDFAI CFCGE FBIAF BFCFA IAGCF EFAFB IDFBG EGEHB HDFCI CFCGD FEIAG CFEHD FEHCI BFBHD FEKEK DFCFA GAHDF CFAIA KCIAF BFCFA FBIDF BGEGE KDFCF AICFB FAKDF EIAGC FEHAI AGCKC IAIAG CFEHD IBHEH EFBKC FAHEG CKCIC FEHEK CFDFC IAKCG BFEKE IAGCF EGEIB FAKCH DHBHD FCGBH DKCHA KCFAK EGDFB GEGEF EKEFC HDKCI AIAFE HAHBI AFEKE IAFCG DFBGE GEFCI BHDKC HEIAH DFCFA KCIBI AHEIA GCFEH DIBHE HEFBK CFAHE IDFBG EGEFA FEICF EHDFD FEKCF DGEFE IAFCH BHDFC ICFEI AGCKC IAIAG CFEKA KCHDF EFBFA FAFCK DFEFA IAKCF AKEFC IBHDH BFCGE FBIAF BKDFB KCFAH EKCFA KEGBF EFAFE HDKCG EHEID FBGEG EFDFE GAFCH DKDFE KEIAF CHEIA HDFBG DFEFD KCKDG DIAGC FEHDI BHEHE FBKCF AHEID FBGEG EFEHE KDKCG EKCIA FEFBF AFCHD KEFEH DIAFC FAFCI AGEFC FCGDI DFEKC GDKCF AKEFC FAKDF EIAGC FEKAG CKCIC FEKDF CHAHA FBIAI AFEKE IAGCF EHAHE FEGEI CFEHE IAGCF EHDFE IDFBG EGEFD FEFAF CIAIB HDFAF BFAGB FDKCK DGDIA GCFEI BFAKC ICFCF BKEKC FDGEF EIDKC HDIDF BGEGE GCKCI CFEIA FCFDF EGAFC IBGBG CIAIA FCFBI AHEKD FCFAK DGEIB HEFBF CFA\"\n",
    "\n",
    "# Get rid of those spaces\n",
    "message8b = message8b.replace(\" \", \"\")"
   ]
  },
  {
   "cell_type": "code",
   "execution_count": 2,
   "metadata": {},
   "outputs": [
    {
     "name": "stdout",
     "output_type": "stream",
     "text": [
      "F: 738 (18.65%) E: 528 (13.34%) A: 464 (11.72%) C: 444 (11.22%) I: 360 (9.10%) \n",
      "H: 311 (7.86%) K: 286 (7.23%) G: 284 (7.18%) D: 272 (6.87%) B: 271 (6.85%) \n",
      "\n",
      "-----\n"
     ]
    }
   ],
   "source": [
    "# Do some frequency analysis\n",
    "from collections import Counter\n",
    "\n",
    "def frequency_analysis(data):\n",
    "    frequencies = Counter()\n",
    "    for item in data:\n",
    "        frequencies[item] += 1\n",
    "    \n",
    "    total = sum(frequencies.values())\n",
    "    column = 0\n",
    "    for item, frequency in frequencies.most_common(30):\n",
    "        print(f\"{item}: {frequency:2} ({frequency / total:.2%})\", end=\" \")\n",
    "        column += 1\n",
    "        if column %5 == 0:\n",
    "            print()\n",
    "    print(\"\\n-----\")\n",
    "\n",
    "frequency_analysis(message8b)"
   ]
  },
  {
   "cell_type": "code",
   "execution_count": 3,
   "metadata": {},
   "outputs": [
    {
     "name": "stdout",
     "output_type": "stream",
     "text": [
      "CFE: 83 IAG: 82 AGC: 81 FEH: 78 GCF: 73 \n",
      "DFE: 73 FEK: 72 EIA: 72 IAF: 69 CFA: 63 \n",
      "HDF: 61 AFC: 55 FBF: 54 EKC: 52 FEI: 51 \n",
      "EFE: 50 AFB: 50 CIA: 49 AIA: 47 BFA: 47 \n",
      "FCF: 46 FAF: 45 EHE: 45 KCI: 44 GEF: 41 \n",
      "FCI: 40 DFC: 40 IDF: 39 HEF: 37 HEI: 37 \n"
     ]
    }
   ],
   "source": [
    "# Not a substitution cipher, and not a Vigenere.\n",
    "# Trigraphs?\n",
    "def pattern_finder(text, size):\n",
    "    patterns = Counter()\n",
    "    for index in range(len(text)):\n",
    "        patterns[text[index:index+size]] += 1\n",
    "\n",
    "    column = 0\n",
    "    for item, pattern in patterns.most_common(30):\n",
    "        print(f\"{item}: {pattern:2}\", end=\" \")\n",
    "        column += 1\n",
    "        if column % 5 == 0:\n",
    "            print()\n",
    "\n",
    "pattern_finder(message8b, 3)"
   ]
  },
  {
   "cell_type": "code",
   "execution_count": 4,
   "metadata": {},
   "outputs": [
    {
     "name": "stdout",
     "output_type": "stream",
     "text": [
      "FE: 259 IA: 211 CF: 187 AF: 156 DF: 156 \n",
      "FC: 152 FB: 146 KC: 146 FA: 146 EF: 140 \n",
      "HE: 118 EI: 114 AG: 111 GC: 111 HD: 111 \n",
      "EH: 110 EK: 107 CI: 98 BF: 98 GE: 87 \n",
      "AI: 80 CH: 68 BH: 66 AK: 66 KE: 62 \n",
      "IB: 57 EG: 57 ID: 57 KD: 56 AH: 50 \n"
     ]
    }
   ],
   "source": [
    "# Yikes!  Digraphs?\n",
    "pattern_finder(message8b, 2)"
   ]
  },
  {
   "cell_type": "code",
   "execution_count": 6,
   "metadata": {},
   "outputs": [
    {
     "name": "stdout",
     "output_type": "stream",
     "text": [
      "FE: 259 (6.54%) IA: 211 (5.33%) FC: 152 (3.84%) FB: 146 (3.69%) KC: 146 (3.69%) \n",
      "FA: 146 (3.69%) HE: 118 (2.98%) GC: 111 (2.80%) HD: 111 (2.80%) GE: 87 (2.20%) \n",
      "KE: 62 (1.57%) IB: 57 (1.44%) ID: 57 (1.44%) KD: 56 (1.41%) HA: 46 (1.16%) \n",
      "GA: 40 (1.01%) FD: 35 (0.88%) HB: 34 (0.86%) GB: 33 (0.83%) IC: 33 (0.83%) \n",
      "KA: 21 (0.53%) GD: 13 (0.33%) IE:  2 (0.05%) HC:  2 (0.05%) KB:  1 (0.03%) \n",
      "\n",
      "----\n"
     ]
    }
   ],
   "source": [
    "# OK.  I missed an important detail up there.\n",
    "# There are only 10 different letters!\n",
    "# The letters are ABCDEFGHIK.  Hmmm.  Why is J missing?\n",
    "# How do you represent a while alphabet with only 10 letters?  Perhaps each pair of letters represents one letter...\n",
    "\n",
    "# Create a counter\n",
    "digraphs = Counter()\n",
    "# Loop through the message, counting each pair of letters\n",
    "for n in range(len(message8b)//2):\n",
    "    digraphs[message8b[n*2:(n*2)+2]] += 1\n",
    "# Print out the counts as a table\n",
    "column = 0\n",
    "for item, count in digraphs.most_common():\n",
    "    print(f\"{item}: {count:2} ({count/len(message8b):.2%})\", end=\" \")\n",
    "    column += 1\n",
    "    if column % 5 == 0:\n",
    "        print()\n",
    "print(\"\\n----\")"
   ]
  },
  {
   "cell_type": "code",
   "execution_count": 8,
   "metadata": {},
   "outputs": [
    {
     "name": "stdout",
     "output_type": "stream",
     "text": [
      "BFPHEYEWPHCFCQNOCABAICNEWPWQGHPKEWAUPHBAGBPBOPHWPCQNEFFCNPOPCXCAPWBAPHEOCRBEPODULNCTUSWNOBOYCCKEYWOKUJCWPHBAGCFPHEOCRBEPEKLBNESWOOPCIEYDUHBOYEWPHPHEQOONFEEYOCAPHEWAGENPHWPSEOPBNQLSBPHEWXHSWNSEFBGHPBABPOLQLLEPOPWPEOSEHWREPNBEYPCXCAPWBABPDQPBACSNEWJBOEPHWPSEXWACAJUYEFEWPBPPHESWUSEFCQGHPFWOXBOKDUPWIBAGCABPOKBGHPBACLEASWNCQNLCJBPBXBWAOHWREOHNQAIFNCKPHEXCAFJBXPWAYPHEUAEEYWNEWOCAPCXCAFNCAPPHEERBJEREAPHEPHNEWPCFAQXJEWNKBOOBJEODWOEYBAXQDWYBYACPGBREPHEKPHEKEPPJEPCFBGHPBAOPEWYPHEUHWREXCARBAXEYPHEKOEJREOPHWPPHEKWYYCXPNBAECFKQPQWJJUWOOQNEYYEOPNQXPBCASBJJLNCPEXPQOWAYPHWPLEWXEXWADEKWBAPWBAEYQAYENPHEOHEJPENCFPHEAQXJEWNQKDNEJJWPHEUYCACPOEEKPCOEEPHWPPHEJCAGENSEXCSENBAPHBOOHWYCSPHEKCNEPHEPSCOBYEOSBJJBAREOPBAPHEOEWSFQJSEWLCAODEFCNEJCAGBPSBJJDEBKLCOOBDJEPCFBGHPWPWJJSBPHCQPPHEPHNEWPCFPCPWJWAABHBJWPBCAWAYSHEAPHWPYWUXCKEOSESBJJWJJDEEAOJWREYDUSHCERENBOKCNENQPHJEOOJCOEWAYSESBJJDEPHEOJWREOPHELNBXECFSBAABAGKBGHPDESCNOEWPFBNOPBHCLEYPHWPPHEOLWXENWXESCQJYHEJLQOPQNABAGPHEKBOOBJEOFNCKSEWLCAOCFSWNPCXWNNBENOCFLEWXEWAYIEAAEYUOEEKEYPCHWREPHWPBAKBAYSHEAHEOEPHBOLNCGNWKPCJWAYCAPHEKCCADUSBAABAGPHEOLWXENWXEPHEWYKBABOPNWPBCAHCLEYPCEOPWDJBOHPHEOQLNEKWXUCFPHEXWLBPWJBOPOUOPEKCRENXCKKQABOKXCSBAGCQNEAEKBEOWAYOEPPBAGCQNHEWNPOWAYKBAYOCAPHEXCAMQEOPCFWAESFNCAPBENDQPDNEVHAEROEEKOQAYEPENNEYWAYEREADEFCNEPHEJWQAXHCFWLCJJCTBPHEWKENBXWALQDJBXBODEGBAABAGPCGEPDCNEYPHEPHNEWPCFAQXJEWNSWNBONBOBAGWAYPHELEWXELNCPEOPOSHBXHWNEBAPEAYEYPCLNEREAPBPWNEEAXCQNWGBAGCQNEAEKBEOPCDEJBEREPHWPPHEUXWASBASWNBOQAWRCBYWDJEPCOQNRBREBPSEKQOPFBGHPBPACSCACQNCSAPENKODEFCNEPHEAQXJEWNWNOEAWJOGNCSPCCLCSENFQJBFCQNJEWYENOSBJJACPWXPCFPHEBNCSARCJBPBCAPHEABSBJJLNCRCIEPHENEMQBNEYXCAFNCAPWPBCABSBJJXCARBAXEPHEKPHWPPHENQOOBWAOHWREOWDCPWGEYPHEJQAWNLNCGNWKWAYIBJJEYCNWPPEKLPEYPCIBJJCQNWOPNCAWQPOPHENQOOBWAOSBJJAERENDEWDJEPCLNCREPHWPPHEUWNEBAACXEAPWAYCQNLCJBPBXBWAOWAYGEAENWJOSBJJDEFCNXEYPCOPNBIEDWXIPHENQOOBWAOSBJJEOXWJWPEBACNYENPCACPJCCISEWIWAYCAXEPHEUHWREXCKKBPPEYPHEKOEJREOPHENESBJJDEACPQNABAGDWXIPHEQAWRCBYWDJESWNSBJJHWREPCDEFCQGHPPCBPOXCAXJQOBCA\n"
     ]
    }
   ],
   "source": [
    "# Hmmm. There are exactly 25 pairs.\n",
    "# The first letters of each pair are F, G, H, I or K\n",
    "# The second letters of each pair are A, B, C, D or E\n",
    "# I therefore deduce that the letters are grid coordinates (J is the missing letter!)\n",
    "#   A B C D E\n",
    "# F a b c d e\n",
    "# G f g h i k\n",
    "# H l m n o p\n",
    "# I q r s t u\n",
    "# K v w x y z\n",
    "# .. let's put all the letters in a dictionary that we can use to translate them\n",
    "import string\n",
    "table = dict()\n",
    "letters = list(string.ascii_uppercase)\n",
    "for first in \"FGHIK\":\n",
    "    for second in \"ABCDE\":\n",
    "        table[first+second] = letters.pop(0)\n",
    "\n",
    "# Then substitute the digraphs for those replacements\n",
    "decoded = \"\"\n",
    "for n in range(len(message8b)//2):\n",
    "    decoded += table[message8b[n*2:(n*2)+2]]\n",
    "\n",
    "print(decoded)\n"
   ]
  },
  {
   "cell_type": "code",
   "execution_count": 9,
   "metadata": {},
   "outputs": [
    {
     "name": "stdout",
     "output_type": "stream",
     "text": [
      "E: 259 (13.09%) P: 211 (10.66%) C: 152 (7.68%) B: 146 (7.38%) W: 146 (7.38%) \n",
      "A: 146 (7.38%) O: 118 (5.96%) H: 111 (5.61%) N: 111 (5.61%) J: 87 (4.40%) \n",
      "Y: 62 (3.13%) Q: 57 (2.88%) S: 57 (2.88%) X: 56 (2.83%) K: 46 (2.32%) \n",
      "F: 40 (2.02%) D: 35 (1.77%) L: 34 (1.72%) G: 33 (1.67%) R: 33 (1.67%) \n",
      "U: 21 (1.06%) I: 13 (0.66%) T:  2 (0.10%) M:  2 (0.10%) V:  1 (0.05%) \n",
      "\n",
      "-----\n"
     ]
    }
   ],
   "source": [
    "# That didn't work.  I wonder if the letters were put into the grid in a \"special\" way?\n",
    "# Let's do the substitution cipher thing again\n",
    "\n",
    "frequency_analysis(decoded)"
   ]
  },
  {
   "cell_type": "code",
   "execution_count": 10,
   "metadata": {},
   "outputs": [
    {
     "name": "stdout",
     "output_type": "stream",
     "text": [
      "BFtHeYeWtHCFCQNOCABAICNeWtWQGHtKeWAUtHBAGBtBOtHWtCQNeFFCNtOtCXCAtWBAtHeOCRBetODULNCTUSWNOBOYCCKeYWOKUJCWtHBAGCFtHeOCRBeteKLBNeSWOOtCIeYDUHBOYeWtHtHeQOONFeeYOCAtHeWAGeNtHWtSeOtBNQLSBtHeWXHSWNSeFBGHtBABtOLQLLetOtWteOSeHWRetNBeYtCXCAtWBABtDQtBACSNeWJBOetHWtSeXWACAJUYeFeWtBttHeSWUSeFCQGHtFWOXBOKDUtWIBAGCABtOKBGHtBACLeASWNCQNLCJBtBXBWAOHWReOHNQAIFNCKtHeXCAFJBXtWAYtHeUAeeYWNeWOCAtCXCAFNCAttHeeRBJeReAtHetHNeWtCFAQXJeWNKBOOBJeODWOeYBAXQDWYBYACtGBRetHeKtHeKettJetCFBGHtBAOteWYtHeUHWReXCARBAXeYtHeKOeJReOtHWttHeKWYYCXtNBAeCFKQtQWJJUWOOQNeYYeOtNQXtBCASBJJLNCteXtQOWAYtHWtLeWXeXWADeKWBAtWBAeYQAYeNtHeOHeJteNCFtHeAQXJeWNQKDNeJJWtHeUYCACtOeeKtCOeetHWttHeJCAGeNSeXCSeNBAtHBOOHWYCStHeKCNetHetSCOBYeOSBJJBAReOtBAtHeOeWSFQJSeWLCAODeFCNeJCAGBtSBJJDeBKLCOOBDJetCFBGHtWtWJJSBtHCQttHetHNeWtCFtCtWJWAABHBJWtBCAWAYSHeAtHWtYWUXCKeOSeSBJJWJJDeeAOJWReYDUSHCeReNBOKCNeNQtHJeOOJCOeWAYSeSBJJDetHeOJWReOtHeLNBXeCFSBAABAGKBGHtDeSCNOeWtFBNOtBHCLeYtHWttHeOLWXeNWXeSCQJYHeJLQOtQNABAGtHeKBOOBJeOFNCKSeWLCAOCFSWNtCXWNNBeNOCFLeWXeWAYIeAAeYUOeeKeYtCHWRetHWtBAKBAYSHeAHeOetHBOLNCGNWKtCJWAYCAtHeKCCADUSBAABAGtHeOLWXeNWXetHeWYKBABOtNWtBCAHCLeYtCeOtWDJBOHtHeOQLNeKWXUCFtHeXWLBtWJBOtOUOteKCReNXCKKQABOKXCSBAGCQNeAeKBeOWAYOettBAGCQNHeWNtOWAYKBAYOCAtHeXCAMQeOtCFWAeSFNCAtBeNDQtDNeVHAeROeeKOQAYeteNNeYWAYeReADeFCNetHeJWQAXHCFWLCJJCTBtHeWKeNBXWALQDJBXBODeGBAABAGtCGetDCNeYtHetHNeWtCFAQXJeWNSWNBONBOBAGWAYtHeLeWXeLNCteOtOSHBXHWNeBAteAYeYtCLNeReAtBtWNeeAXCQNWGBAGCQNeAeKBeOtCDeJBeRetHWttHeUXWASBASWNBOQAWRCBYWDJetCOQNRBReBtSeKQOtFBGHtBtACSCACQNCSAteNKODeFCNetHeAQXJeWNWNOeAWJOGNCStCCLCSeNFQJBFCQNJeWYeNOSBJJACtWXtCFtHeBNCSARCJBtBCAtHeABSBJJLNCRCIetHeNeMQBNeYXCAFNCAtWtBCABSBJJXCARBAXetHeKtHWttHeNQOOBWAOHWReOWDCtWGeYtHeJQAWNLNCGNWKWAYIBJJeYCNWtteKLteYtCIBJJCQNWOtNCAWQtOtHeNQOOBWAOSBJJAeReNDeWDJetCLNCRetHWttHeUWNeBAACXeAtWAYCQNLCJBtBXBWAOWAYGeAeNWJOSBJJDeFCNXeYtCOtNBIeDWXItHeNQOOBWAOSBJJeOXWJWteBACNYeNtCACtJCCISeWIWAYCAXetHeUHWReXCKKBtteYtHeKOeJReOtHeNeSBJJDeACtQNABAGDWXItHeQAWRCBYWDJeSWNSBJJHWRetCDeFCQGHttCBtOXCAXJQOBCA\n"
     ]
    }
   ],
   "source": [
    "# Well that does look like English. \"E\" looks right, but T looks wrong\n",
    "# Let's assume E is e and P is t and see what we get\n",
    "\n",
    "def decode(text, key):\n",
    "    table = str.maketrans(string.ascii_uppercase, key)\n",
    "    print(text.upper().translate(table))\n",
    "    \n",
    "decode(decoded, \"ABCDeFGHIJKLMNOtQRSTUVWXYZ\")"
   ]
  },
  {
   "cell_type": "code",
   "execution_count": 11,
   "metadata": {},
   "outputs": [
    {
     "name": "stdout",
     "output_type": "stream",
     "text": [
      "BFtheYeathCFCQNOCABAICNeataQGhtKeaAUthBAGBtBOthatCQNeFFCNtOtCXCAtaBAtheOCRBetODULNCTUSaNOBOYCCKeYaOKUJCathBAGCFtheOCRBeteKLBNeSaOOtCIeYDUhBOYeaththeQOONFeeYOCAtheaAGeNthatSeOtBNQLSBtheaXhSaNSeFBGhtBABtOLQLLetOtateOSehaRetNBeYtCXCAtaBABtDQtBACSNeaJBOethatSeXaACAJUYeFeatBttheSaUSeFCQGhtFaOXBOKDUtaIBAGCABtOKBGhtBACLeASaNCQNLCJBtBXBaAOhaReOhNQAIFNCKtheXCAFJBXtaAYtheUAeeYaNeaOCAtCXCAFNCAttheeRBJeReAthethNeatCFAQXJeaNKBOOBJeODaOeYBAXQDaYBYACtGBRetheKtheKettJetCFBGhtBAOteaYtheUhaReXCARBAXeYtheKOeJReOthattheKaYYCXtNBAeCFKQtQaJJUaOOQNeYYeOtNQXtBCASBJJLNCteXtQOaAYthatLeaXeXaADeKaBAtaBAeYQAYeNtheOheJteNCFtheAQXJeaNQKDNeJJatheUYCACtOeeKtCOeethattheJCAGeNSeXCSeNBAthBOOhaYCStheKCNethetSCOBYeOSBJJBAReOtBAtheOeaSFQJSeaLCAODeFCNeJCAGBtSBJJDeBKLCOOBDJetCFBGhtataJJSBthCQtthethNeatCFtCtaJaAABhBJatBCAaAYSheAthatYaUXCKeOSeSBJJaJJDeeAOJaReYDUShCeReNBOKCNeNQthJeOOJCOeaAYSeSBJJDetheOJaReOtheLNBXeCFSBAABAGKBGhtDeSCNOeatFBNOtBhCLeYthattheOLaXeNaXeSCQJYheJLQOtQNABAGtheKBOOBJeOFNCKSeaLCAOCFSaNtCXaNNBeNOCFLeaXeaAYIeAAeYUOeeKeYtChaRethatBAKBAYSheAheOethBOLNCGNaKtCJaAYCAtheKCCADUSBAABAGtheOLaXeNaXetheaYKBABOtNatBCAhCLeYtCeOtaDJBOhtheOQLNeKaXUCFtheXaLBtaJBOtOUOteKCReNXCKKQABOKXCSBAGCQNeAeKBeOaAYOettBAGCQNheaNtOaAYKBAYOCAtheXCAMQeOtCFaAeSFNCAtBeNDQtDNeVhAeROeeKOQAYeteNNeYaAYeReADeFCNetheJaQAXhCFaLCJJCTBtheaKeNBXaALQDJBXBODeGBAABAGtCGetDCNeYthethNeatCFAQXJeaNSaNBONBOBAGaAYtheLeaXeLNCteOtOShBXhaNeBAteAYeYtCLNeReAtBtaNeeAXCQNaGBAGCQNeAeKBeOtCDeJBeRethattheUXaASBASaNBOQAaRCBYaDJetCOQNRBReBtSeKQOtFBGhtBtACSCACQNCSAteNKODeFCNetheAQXJeaNaNOeAaJOGNCStCCLCSeNFQJBFCQNJeaYeNOSBJJACtaXtCFtheBNCSARCJBtBCAtheABSBJJLNCRCIetheNeMQBNeYXCAFNCAtatBCABSBJJXCARBAXetheKthattheNQOOBaAOhaReOaDCtaGeYtheJQAaNLNCGNaKaAYIBJJeYCNatteKLteYtCIBJJCQNaOtNCAaQtOtheNQOOBaAOSBJJAeReNDeaDJetCLNCRethattheUaNeBAACXeAtaAYCQNLCJBtBXBaAOaAYGeAeNaJOSBJJDeFCNXeYtCOtNBIeDaXItheNQOOBaAOSBJJeOXaJateBACNYeNtCACtJCCISeaIaAYCAXetheUhaReXCKKBtteYtheKOeJReOtheNeSBJJDeACtQNABAGDaXItheQAaRCBYaDJeSaNSBJJhaRetCDeFCQGhttCBtOXCAXJQOBCA\n"
     ]
    }
   ],
   "source": [
    "# Looks like H is h.\n",
    "# There are a lot of \"tHWt\" - I'll guess that W is a\n",
    "decode(decoded, \"ABCDeFGhIJKLMNOtQRSTUVaXYZ\")"
   ]
  },
  {
   "cell_type": "code",
   "execution_count": 12,
   "metadata": {},
   "outputs": [
    {
     "name": "stdout",
     "output_type": "stream",
     "text": [
      "BFtheYeathCFCQrOCABAICreataQghtKeaAUthBAgBtBOthatCQreFFCrtOtCXCAtaBAtheOCRBetODULrCTUSarOBOYCCKeYaOKUJCathBAgCFtheOCRBeteKLBreSaOOtCIeYDUhBOYeaththeQOOrFeeYOCAtheaAgerthatSeOtBrQLSBtheaXhSarSeFBghtBABtOLQLLetOtateOSehaRetrBeYtCXCAtaBABtDQtBACSreaJBOethatSeXaACAJUYeFeatBttheSaUSeFCQghtFaOXBOKDUtaIBAgCABtOKBghtBACLeASarCQrLCJBtBXBaAOhaReOhrQAIFrCKtheXCAFJBXtaAYtheUAeeYareaOCAtCXCAFrCAttheeRBJeReAthethreatCFAQXJearKBOOBJeODaOeYBAXQDaYBYACtgBRetheKtheKettJetCFBghtBAOteaYtheUhaReXCARBAXeYtheKOeJReOthattheKaYYCXtrBAeCFKQtQaJJUaOOQreYYeOtrQXtBCASBJJLrCteXtQOaAYthatLeaXeXaADeKaBAtaBAeYQAYertheOheJterCFtheAQXJearQKDreJJatheUYCACtOeeKtCOeethattheJCAgerSeXCSerBAthBOOhaYCStheKCrethetSCOBYeOSBJJBAReOtBAtheOeaSFQJSeaLCAODeFCreJCAgBtSBJJDeBKLCOOBDJetCFBghtataJJSBthCQtthethreatCFtCtaJaAABhBJatBCAaAYSheAthatYaUXCKeOSeSBJJaJJDeeAOJaReYDUShCeRerBOKCrerQthJeOOJCOeaAYSeSBJJDetheOJaReOtheLrBXeCFSBAABAgKBghtDeSCrOeatFBrOtBhCLeYthattheOLaXeraXeSCQJYheJLQOtQrABAgtheKBOOBJeOFrCKSeaLCAOCFSartCXarrBerOCFLeaXeaAYIeAAeYUOeeKeYtChaRethatBAKBAYSheAheOethBOLrCgraKtCJaAYCAtheKCCADUSBAABAgtheOLaXeraXetheaYKBABOtratBCAhCLeYtCeOtaDJBOhtheOQLreKaXUCFtheXaLBtaJBOtOUOteKCRerXCKKQABOKXCSBAgCQreAeKBeOaAYOettBAgCQrheartOaAYKBAYOCAtheXCAMQeOtCFaAeSFrCAtBerDQtDreVhAeROeeKOQAYeterreYaAYeReADeFCretheJaQAXhCFaLCJJCTBtheaKerBXaALQDJBXBODegBAABAgtCgetDCreYthethreatCFAQXJearSarBOrBOBAgaAYtheLeaXeLrCteOtOShBXhareBAteAYeYtCLreReAtBtareeAXCQragBAgCQreAeKBeOtCDeJBeRethattheUXaASBASarBOQAaRCBYaDJetCOQrRBReBtSeKQOtFBghtBtACSCACQrCSAterKODeFCretheAQXJeararOeAaJOgrCStCCLCSerFQJBFCQrJeaYerOSBJJACtaXtCFtheBrCSARCJBtBCAtheABSBJJLrCRCIethereMQBreYXCAFrCAtatBCABSBJJXCARBAXetheKthattherQOOBaAOhaReOaDCtageYtheJQAarLrCgraKaAYIBJJeYCratteKLteYtCIBJJCQraOtrCAaQtOtherQOOBaAOSBJJAeRerDeaDJetCLrCRethattheUareBAACXeAtaAYCQrLCJBtBXBaAOaAYgeAeraJOSBJJDeFCrXeYtCOtrBIeDaXItherQOOBaAOSBJJeOXaJateBACrYertCACtJCCISeaIaAYCAXetheUhaReXCKKBtteYtheKOeJReOthereSBJJDeACtQrABAgDaXItheQAaRCBYaDJeSarSBJJhaRetCDeFCQghttCBtOXCAXJQOBCA\n"
     ]
    }
   ],
   "source": [
    "# Most \"ht\"s are preceded by G, so that's probably g\n",
    "# \"thethNeat\" several times. N=r?\n",
    "\n",
    "decode(decoded, \"ABCDeFghIJKLMrOtQRSTUVaXYZ\")"
   ]
  },
  {
   "cell_type": "code",
   "execution_count": 13,
   "metadata": {},
   "outputs": [
    {
     "name": "stdout",
     "output_type": "stream",
     "text": [
      "BFthedeathCFCQrOCABAICreataQghtKeaAythBAgBtBOthatCQreFFCrtOtCXCAtaBAtheOCRBetODyLrCTySarOBOdCCKedaOKyJCathBAgCFtheOCRBeteKLBreSaOOtCIedDyhBOdeaththeQOOrFeedOCAtheaAgerthatSeOtBrQLSBtheaXhSarSeFBghtBABtOLQLLetOtateOSehaRetrBedtCXCAtaBABtDQtBACSreaJBOethatSeXaACAJydeFeatBttheSaySeFCQghtFaOXBOKDytaIBAgCABtOKBghtBACLeASarCQrLCJBtBXBaAOhaReOhrQAIFrCKtheXCAFJBXtaAdtheyAeedareaOCAtCXCAFrCAttheeRBJeReAthethreatCFAQXJearKBOOBJeODaOedBAXQDadBdACtgBRetheKtheKettJetCFBghtBAOteadtheyhaReXCARBAXedtheKOeJReOthattheKaddCXtrBAeCFKQtQaJJyaOOQreddeOtrQXtBCASBJJLrCteXtQOaAdthatLeaXeXaADeKaBAtaBAedQAdertheOheJterCFtheAQXJearQKDreJJatheydCACtOeeKtCOeethattheJCAgerSeXCSerBAthBOOhadCStheKCrethetSCOBdeOSBJJBAReOtBAtheOeaSFQJSeaLCAODeFCreJCAgBtSBJJDeBKLCOOBDJetCFBghtataJJSBthCQtthethreatCFtCtaJaAABhBJatBCAaAdSheAthatdayXCKeOSeSBJJaJJDeeAOJaRedDyShCeRerBOKCrerQthJeOOJCOeaAdSeSBJJDetheOJaReOtheLrBXeCFSBAABAgKBghtDeSCrOeatFBrOtBhCLedthattheOLaXeraXeSCQJdheJLQOtQrABAgtheKBOOBJeOFrCKSeaLCAOCFSartCXarrBerOCFLeaXeaAdIeAAedyOeeKedtChaRethatBAKBAdSheAheOethBOLrCgraKtCJaAdCAtheKCCADySBAABAgtheOLaXeraXetheadKBABOtratBCAhCLedtCeOtaDJBOhtheOQLreKaXyCFtheXaLBtaJBOtOyOteKCRerXCKKQABOKXCSBAgCQreAeKBeOaAdOettBAgCQrheartOaAdKBAdOCAtheXCAMQeOtCFaAeSFrCAtBerDQtDreVhAeROeeKOQAdeterredaAdeReADeFCretheJaQAXhCFaLCJJCTBtheaKerBXaALQDJBXBODegBAABAgtCgetDCredthethreatCFAQXJearSarBOrBOBAgaAdtheLeaXeLrCteOtOShBXhareBAteAdedtCLreReAtBtareeAXCQragBAgCQreAeKBeOtCDeJBeRethattheyXaASBASarBOQAaRCBdaDJetCOQrRBReBtSeKQOtFBghtBtACSCACQrCSAterKODeFCretheAQXJeararOeAaJOgrCStCCLCSerFQJBFCQrJeaderOSBJJACtaXtCFtheBrCSARCJBtBCAtheABSBJJLrCRCIethereMQBredXCAFrCAtatBCABSBJJXCARBAXetheKthattherQOOBaAOhaReOaDCtagedtheJQAarLrCgraKaAdIBJJedCratteKLtedtCIBJJCQraOtrCAaQtOtherQOOBaAOSBJJAeRerDeaDJetCLrCRethattheyareBAACXeAtaAdCQrLCJBtBXBaAOaAdgeAeraJOSBJJDeFCrXedtCOtrBIeDaXItherQOOBaAOSBJJeOXaJateBACrdertCACtJCCISeaIaAdCAXetheyhaReXCKKBttedtheKOeJReOthereSBJJDeACtQrABAgDaXItheQAaRCBdaDJeSarSBJJhaRetCDeFCQghttCBtOXCAXJQOBCA\n"
     ]
    }
   ],
   "source": [
    "# \"YeterreY\" Y=d\n",
    "# \"thattheUare\" U=y\n",
    "decode(decoded, \"ABCDeFghIJKLMrOtQRSTyVaXdZ\")"
   ]
  },
  {
   "cell_type": "code",
   "execution_count": 14,
   "metadata": {},
   "outputs": [
    {
     "name": "stdout",
     "output_type": "stream",
     "text": [
      "BFthedeathCFCQrsCABAICreataQghtKeaAythBAgBtBsthatCQreFFCrtstCXCAtaBAthesCvBetsDyLrCTySarsBsdCCKedasKyJCathBAgCFthesCvBeteKLBreSasstCIedDyhBsdeaththeQssrFeedsCAtheaAgerthatSestBrQLSBtheaXhSarSeFBghtBABtsLQLLetstatesSehavetrBedtCXCAtaBABtDQtBACSreaJBsethatSeXaACAJydeFeatBttheSaySeFCQghtFasXBsKDytaIBAgCABtsKBghtBACLeASarCQrLCJBtBXBaAshaveshrQAIFrCKtheXCAFJBXtaAdtheyAeedareasCAtCXCAFrCAttheevBJeveAthethreatCFAQXJearKBssBJesDasedBAXQDadBdACtgBvetheKtheKettJetCFBghtBAsteadtheyhaveXCAvBAXedtheKseJvesthattheKaddCXtrBAeCFKQtQaJJyassQreddestrQXtBCASBJJLrCteXtQsaAdthatLeaXeXaADeKaBAtaBAedQAderthesheJterCFtheAQXJearQKDreJJatheydCACtseeKtCseethattheJCAgerSeXCSerBAthBsshadCStheKCrethetSCsBdesSBJJBAvestBAtheseaSFQJSeaLCAsDeFCreJCAgBtSBJJDeBKLCssBDJetCFBghtataJJSBthCQtthethreatCFtCtaJaAABhBJatBCAaAdSheAthatdayXCKesSeSBJJaJJDeeAsJavedDyShCeverBsKCrerQthJessJCseaAdSeSBJJDethesJavestheLrBXeCFSBAABAgKBghtDeSCrseatFBrstBhCLedthatthesLaXeraXeSCQJdheJLQstQrABAgtheKBssBJesFrCKSeaLCAsCFSartCXarrBersCFLeaXeaAdIeAAedyseeKedtChavethatBAKBAdSheAhesethBsLrCgraKtCJaAdCAtheKCCADySBAABAgthesLaXeraXetheadKBABstratBCAhCLedtCestaDJBshthesQLreKaXyCFtheXaLBtaJBstsysteKCverXCKKQABsKXCSBAgCQreAeKBesaAdsettBAgCQrheartsaAdKBAdsCAtheXCAMQestCFaAeSFrCAtBerDQtDreVhAevseeKsQAdeterredaAdeveADeFCretheJaQAXhCFaLCJJCTBtheaKerBXaALQDJBXBsDegBAABAgtCgetDCredthethreatCFAQXJearSarBsrBsBAgaAdtheLeaXeLrCtestsShBXhareBAteAdedtCLreveAtBtareeAXCQragBAgCQreAeKBestCDeJBevethattheyXaASBASarBsQAavCBdaDJetCsQrvBveBtSeKQstFBghtBtACSCACQrCSAterKsDeFCretheAQXJeararseAaJsgrCStCCLCSerFQJBFCQrJeadersSBJJACtaXtCFtheBrCSAvCJBtBCAtheABSBJJLrCvCIethereMQBredXCAFrCAtatBCABSBJJXCAvBAXetheKthattherQssBaAshavesaDCtagedtheJQAarLrCgraKaAdIBJJedCratteKLtedtCIBJJCQrastrCAaQtstherQssBaAsSBJJAeverDeaDJetCLrCvethattheyareBAACXeAtaAdCQrLCJBtBXBaAsaAdgeAeraJsSBJJDeFCrXedtCstrBIeDaXItherQssBaAsSBJJesXaJateBACrdertCACtJCCISeaIaAdCAXetheyhaveXCKKBttedtheKseJvesthereSBJJDeACtQrABAgDaXItheQAavCBdaDJeSarSBJJhavetCDeFCQghttCBtsXCAXJQsBCA\n"
     ]
    }
   ],
   "source": [
    "# \"theyhaRe\" R=v\n",
    "# \"Oeethatthe\" O=s\n",
    "decode(decoded, \"ABCDeFghIJKLMrstQvSTyVaXdZ\")"
   ]
  },
  {
   "cell_type": "code",
   "execution_count": 16,
   "metadata": {},
   "outputs": [
    {
     "name": "stdout",
     "output_type": "stream",
     "text": [
      "ifthedeathofoQrsoAiAIoreataQghtmeaAythiAgitisthatoQreffortstoXoAtaiAthesovietsDyLroTySarsisdoomedasmyloathiAgofthesovietemLireSasstoIedDyhisdeaththeQssrfeedsoAtheaAgerthatSestirQLSitheaXhSarSefightiAitsLQLLetstatesSehavetriedtoXoAtaiAitDQtiAoSrealisethatSeXaAoAlydefeatittheSaySefoQghtfasXismDytaIiAgoAitsmightiAoLeASaroQrLolitiXiaAshaveshrQAIfromtheXoAfliXtaAdtheyAeedareasoAtoXoAfroAttheevileveAthethreatofAQXlearmissilesDasediAXQDadidAotgivethemthemettletofightiAsteadtheyhaveXoAviAXedthemselvesthatthemaddoXtriAeofmQtQallyassQreddestrQXtioASillLroteXtQsaAdthatLeaXeXaADemaiAtaiAedQAdertheshelteroftheAQXlearQmDrellatheydoAotseemtoseethattheloAgerSeXoSeriAthisshadoSthemorethetSosidesSilliAvestiAtheseaSfQlSeaLoAsDeforeloAgitSillDeimLossiDletofightatallSithoQtthethreatoftotalaAAihilatioAaAdSheAthatdayXomesSeSillallDeeAslavedDyShoeverismorerQthlessloseaAdSeSillDetheslavestheLriXeofSiAAiAgmightDeSorseatfirstihoLedthatthesLaXeraXeSoQldhelLQstQrAiAgthemissilesfromSeaLoAsofSartoXarriersofLeaXeaAdIeAAedyseemedtohavethatiAmiAdSheAhesethisLrogramtolaAdoAthemooADySiAAiAgthesLaXeraXetheadmiAistratioAhoLedtoestaDlishthesQLremaXyoftheXaLitalistsystemoverXommQAismXoSiAgoQreAemiesaAdsettiAgoQrheartsaAdmiAdsoAtheXoAMQestofaAeSfroAtierDQtDreVhAevseemsQAdeterredaAdeveADeforethelaQAXhofaLolloTitheameriXaALQDliXisDegiAAiAgtogetDoredthethreatofAQXlearSarisrisiAgaAdtheLeaXeLrotestsShiXhareiAteAdedtoLreveAtitareeAXoQragiAgoQreAemiestoDelievethattheyXaASiASarisQAavoidaDletosQrviveitSemQstfightitAoSoAoQroSAtermsDeforetheAQXleararseAalsgroStooLoSerfQlifoQrleadersSillAotaXtoftheiroSAvolitioAtheAiSillLrovoIethereMQiredXoAfroAtatioAiSillXoAviAXethemthattherQssiaAshavesaDotagedthelQAarLrogramaAdIilledorattemLtedtoIilloQrastroAaQtstherQssiaAsSillAeverDeaDletoLrovethattheyareiAAoXeAtaAdoQrLolitiXiaAsaAdgeAeralsSillDeforXedtostriIeDaXItherQssiaAsSillesXalateiAordertoAotlooISeaIaAdoAXetheyhaveXommittedthemselvesthereSillDeAotQrAiAgDaXItheQAavoidaDleSarSillhavetoDefoQghttoitsXoAXlQsioA\n"
     ]
    }
   ],
   "source": [
    "# \"theKseJves\" K=m, J=l\n",
    "# \"BFthedeathCF\" B=i, C=o, F=f\n",
    "decode(decoded, \"AioDefghIlmLMrstQvSTyVaXdZ\")"
   ]
  },
  {
   "cell_type": "code",
   "execution_count": 17,
   "metadata": {},
   "outputs": [
    {
     "name": "stdout",
     "output_type": "stream",
     "text": [
      "ifthedeathofoursoninkoreataughtmeanythingitisthatoureffortstocontainthesovietsDyproTySarsisdoomedasmyloathingofthesovietempireSasstokedDyhisdeaththeussrfeedsontheangerthatSestirupSitheachSarSefightinitspuppetstatesSehavetriedtocontainitDutinoSrealisethatSecanonlydefeatittheSaySefoughtfascismDytakingonitsmightinopenSarourpoliticianshaveshrunkfromtheconflictandtheyneedareasontoconfronttheevileventhethreatofnuclearmissilesDasedincuDadidnotgivethemthemettletofightinsteadtheyhaveconvincedthemselvesthatthemaddoctrineofmutuallyassureddestructionSillprotectusandthatpeacecanDemaintainedundertheshelterofthenuclearumDrellatheydonotseemtoseethatthelongerSecoSerinthisshadoSthemorethetSosidesSillinvestintheseaSfulSeaponsDeforelongitSillDeimpossiDletofightatallSithoutthethreatoftotalannihilationandShenthatdaycomesSeSillallDeenslavedDyShoeverismoreruthlessloseandSeSillDetheslavesthepriceofSinningmightDeSorseatfirstihopedthatthespaceraceSouldhelpusturningthemissilesfromSeaponsofSartocarriersofpeaceandkennedyseemedtohavethatinmindShenhesethisprogramtolandonthemoonDySinningthespaceracetheadministrationhopedtoestaDlishthesupremacyofthecapitalistsystemovercommunismcoSingourenemiesandsettingourheartsandmindsontheconMuestofaneSfrontierDutDreVhnevseemsundeterredandevenDeforethelaunchofapolloTitheamericanpuDlicisDeginningtogetDoredthethreatofnuclearSarisrisingandthepeaceprotestsShichareintendedtopreventitareencouragingourenemiestoDelievethattheycanSinSarisunavoidaDletosurviveitSemustfightitnoSonouroSntermsDeforethenucleararsenalsgroStoopoSerfulifourleadersSillnotactoftheiroSnvolitiontheniSillprovokethereMuiredconfrontationiSillconvincethemthattherussianshavesaDotagedthelunarprogramandkilledorattemptedtokillourastronautstherussiansSillneverDeaDletoprovethattheyareinnocentandourpoliticiansandgeneralsSillDeforcedtostrikeDacktherussiansSillescalateinordertonotlookSeakandoncetheyhavecommittedthemselvesthereSillDenoturningDacktheunavoidaDleSarSillhavetoDefoughttoitsconclusion\n"
     ]
    }
   ],
   "source": [
    "# Using knowledge from a previous message about Mike: \"thedeathofoQrsoAiAIorea\" Q=u, A=n, I=k\n",
    "# \"XaLitalistsystem\" X=c L=p\n",
    "decode(decoded, \"nioDefghklmpMrstuvSTyVacdZ\")"
   ]
  },
  {
   "cell_type": "code",
   "execution_count": 18,
   "metadata": {},
   "outputs": [
    {
     "name": "stdout",
     "output_type": "stream",
     "text": [
      "ifthedeathofoursoninkoreataughtmeanythingitisthatoureffortstocontainthesovietsbyproxywarsisdoomedasmyloathingofthesovietempirewasstokedbyhisdeaththeussrfeedsontheangerthatwestirupwitheachwarwefightinitspuppetstateswehavetriedtocontainitbutinowrealisethatwecanonlydefeatitthewaywefoughtfascismbytakingonitsmightinopenwarourpoliticianshaveshrunkfromtheconflictandtheyneedareasontoconfronttheevileventhethreatofnuclearmissilesbasedincubadidnotgivethemthemettletofightinsteadtheyhaveconvincedthemselvesthatthemaddoctrineofmutuallyassureddestructionwillprotectusandthatpeacecanbemaintainedundertheshelterofthenuclearumbrellatheydonotseemtoseethatthelongerwecowerinthisshadowthemorethetwosideswillinvestintheseawfulweaponsbeforelongitwillbeimpossibletofightatallwithoutthethreatoftotalannihilationandwhenthatdaycomeswewillallbeenslavedbywhoeverismoreruthlessloseandwewillbetheslavesthepriceofwinningmightbeworseatfirstihopedthatthespaceracewouldhelpusturningthemissilesfromweaponsofwartocarriersofpeaceandkennedyseemedtohavethatinmindwhenhesethisprogramtolandonthemoonbywinningthespaceracetheadministrationhopedtoestablishthesupremacyofthecapitalistsystemovercommunismcowingourenemiesandsettingourheartsandmindsontheconquestofanewfrontierbutbrezhnevseemsundeterredandevenbeforethelaunchofapolloxitheamericanpublicisbeginningtogetboredthethreatofnuclearwarisrisingandthepeaceprotestswhichareintendedtopreventitareencouragingourenemiestobelievethattheycanwinwarisunavoidabletosurviveitwemustfightitnowonourowntermsbeforethenucleararsenalsgrowtoopowerfulifourleaderswillnotactoftheirownvolitiontheniwillprovoketherequiredconfrontationiwillconvincethemthattherussianshavesabotagedthelunarprogramandkilledorattemptedtokillourastronautstherussianswillneverbeabletoprovethattheyareinnocentandourpoliticiansandgeneralswillbeforcedtostrikebacktherussianswillescalateinordertonotlookweakandoncetheyhavecommittedthemselvestherewillbenoturningbacktheunavoidablewarwillhavetobefoughttoitsconclusion\n"
     ]
    }
   ],
   "source": [
    "# \"myloathingofthesovietempireSasstokedDyhisdeath\" S=w, D=b\n",
    "# I'll guess by the sequence that M=q, T=x, V=z, so Z must be j (not in the message!)\n",
    "decode(decoded, \"niobefghklmpqrstuvwxyzacdj\")"
   ]
  },
  {
   "cell_type": "markdown",
   "metadata": {},
   "source": [
    "#### That'll do.  Here's an edited version\n",
    "If the death of our son in Korea taught me anything, it is that our efforts to contain the Soviets by proxy wars is doomed.<br>\n",
    "As my loathing of the Soviet Empire was stoked by his death, the USSR feeds on the anger that we stir up with each war we fight in its puppet states.<br>\n",
    "We have tried to contain it but I now realise that we can only defeat it the way we fought fascism, by taking on its might in open war.<br>\n",
    "Our politicians have shrunk from the conflict and they need a reason to confront the evil, even the threat of nuclear missiles based in Cuba did not give them the mettle to fight. Instead, they have convinced themselves that the mad doctrine of mutually assured destruction will protect us and that peace can be maintained under the shelter of the nuclear umbrella.<br>\n",
    "They do not seem to see that the longer we cower in this shadow, the more the two sides will invest in these awful weapons.<br>\n",
    "Before long, it will be impossible to fight at all without the threat of total annihilation and when that day comes, we will all be enslaved by whoever is more ruthless. Lose, and we will be the slaves.\n",
    "The price of winning might be worse at first.<br>\n",
    "I hoped that the space race would help us, turning the missiles from weapons of war to carriers of peace and Kennedy seemed to have that in mind when he set his program to land on the moon.\n",
    "By winning the space race, the administration hoped to establish the supremacy of the capitalist system over communism, cowing our enemies and setting our hearts and minds on the conquest of a new frontier, but Brezhnev seems undeterred and even before the launch of Apollo XI, the American public is beginning to get bored.\n",
    "The threat of nuclear war is rising and the peace protests which are intended to prevent it are encouraging our enemies to believe that they can win.<br>\n",
    "War is unavoidable; to survive it, we must fight it now on our own terms before the nuclear arsenals grow too powerful.<br>\n",
    "If our leaders will not act of their own volition, then I will provoke the required confrontation.<br>\n",
    "I will convince them that the Russians have sabotaged the lunar program and killed or attempted to kill our astronauts.<br>\n",
    "The Russians will never be able to prove that they are innocent and our politicians and generals will be forced to strike back.<br>\n",
    "The Russians will escalate in order to not look weak and once they have committed themselves, there will be no turning back.<br>\n",
    "The unavoidable war will have to be fought to its conclusion.\n"
   ]
  },
  {
   "cell_type": "markdown",
   "metadata": {},
   "source": [
    "## Postscript\n",
    "Oh dear, Mike.  What have you done?\n",
    "Looks like the key was \"Niobe\", which Wikipedia tells me is a Greek Mythological character whose children were all killed.  I can see why Mike might have chosen that."
   ]
  },
  {
   "cell_type": "code",
   "execution_count": null,
   "metadata": {},
   "outputs": [],
   "source": []
  }
 ],
 "metadata": {
  "kernelspec": {
   "display_name": "Python 3",
   "language": "python",
   "name": "python3"
  },
  "language_info": {
   "codemirror_mode": {
    "name": "ipython",
    "version": 3
   },
   "file_extension": ".py",
   "mimetype": "text/x-python",
   "name": "python",
   "nbconvert_exporter": "python",
   "pygments_lexer": "ipython3",
   "version": "3.7.4"
  }
 },
 "nbformat": 4,
 "nbformat_minor": 4
}
