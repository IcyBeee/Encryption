{
 "cells": [
  {
   "cell_type": "markdown",
   "metadata": {},
   "source": [
    "# Cipher Challenge 7b"
   ]
  },
  {
   "cell_type": "markdown",
   "metadata": {},
   "source": [
    "#### The clue paragraph from 7a, with some highlights (see below!)...\n",
    "\n",
    "<p>\n",
    "    <font color=red>c</font>ommunications really need to be tightened. <font color=red>o</font>ur channels are pretty secure but with two ongoing investigations and hundreds of smart suspects there is a real risk our messages will get intercepted. <font color=red>l</font>et’s also assume that the journalist from the post will start getting curious and will try to eavesdrop. <font color=red>u</font>sually i would recommend switching to a code book, but we haven’t set one up for this team, so we will have to continue with ciphers. <font color=red>m</font>aybe we should double encrypt? <font color=red>n</font>ot sure how to agree on a system securely, but i have tried to suggest one here by <font color=green>concealing my recommended cipher in the key to this message</font>. <font color=red>s</font>eems to me that if you use that then read off the ciphertext the way hinted at by this paragraph then the message should be fairly secure.\n",
    "</p>"
   ]
  },
  {
   "cell_type": "code",
   "execution_count": 3,
   "metadata": {},
   "outputs": [],
   "source": [
    "# Copy in the message from https://www.cipherchallenge.org/challenge/competition-challenge-7/\n",
    "# I'll remove the line breaks\n",
    "message7b = \"JBNSAAOGHLHSADGYUGWSTEYFGAIRVAPTFMYARHVATAVQNTNODAFUAODCQLNAUQAZSEEFYDXPCNBFVQZIENZGFPVNUCTUTGCGHEGLXPCGMWAXVETIOMASOTYBFTLKELWWATHGLVNDEGAHPLOLQTGGLBLEDCFYHWFCUGYOJIDVRHHZMGDENOGQTKGBVYPLKYAVFOQEOABYBGPLVQLGKICKUUSESUKFYSZFYEOHBEQFJNWVXCLQDQBNUGPHVNHCGUTONLSQDOKROGLZSGYUVMWRGWHWFWVUFJRCIFTZPGUVFPEYRUWKUGJRNULEETGCWWEPVVBBGFXAGQPUSPXSKNIOZECFZBBJZVONCSLASJGLWZZDGNWXEUEJFOHGBSDCRLUVLPDCNIHAQMNFYOYZTTTNWVMVGQJJWWFCZUBNBSVEPRXSHHLKFSHUISMHSCHOCGTMMWNYQPYZLDTPBXMGZDKGCVNBJGCKRPGAAEVAYSKMDQNLGSETVRASCMLJBXUMSYWQIZZZPTZKENQLQXPHBITNDCXNYEUNPBHHTEDUTWSFQTVRYHEZWGTMVNUAEVQFCQLQLAEMTGOPGRURSSSQOHOSWLGAHVKQZCFYFEMFNSPVOVHWPQFFHAASTBHHVZTPGYWMFYKBNHUQTVQZYHMPQOMRNUFBLQRBZDXSVAYSFAZDFAUGIWVFIBXFZGRMOLFPCYHFGKDFEVJPYAQOKLYGOPLVINIMGCUBCWGFDJNDOJBVQUUQSAPVPKUBVWQPFUGULRDCVHOWTETRSOJZSWUNOUGYVYYPWRPDJCOUSSQPKOHWSQSJNYGWYNTRCJKMMFTUBWFCMZXCSMPYRWOLIRDGVJCFWFOUGNSUZZFVNHMFTUOICOHOTUXGHFXEQGOOQXJVYRYOSDOGBHPGFCVGHRYISUUPWGFFKRFHWQPKUYSAAJGAUODUYUWTNMBSFPNJYHLQFCVYTAQEWNNHLUSTICBSUEOEZBLNENAQGICLBPDEYCSYSTBLBLDZPFBHYUSTXCIAFRVJIJWABTHQZNWZFCQRXCWZZPAUCXUOJNLYGMEGNLWWZDFUNRGETFEOSLQPGYCBQADGFCUEUSFZVANVVFSOFBOEMPJTMSWAZPRYSSUTKXNGAGXATNPNZWAEPUJVYTTKUCSVQAUTXWAUYTIYRWIGHEHTFKEFEUEWWSMTTHBHAEPCRMCWEETCIHWFXUNWAWEPKBCSAFPQBCBUHCIYVYMSLMDUGLFXBNHJBWGXTCBCPFQTTALTXAHGRYKMSFWLKRASDQDHGIGGMPKYBIAUGUYFBASZUJEMGQSHHXGPXSMNGRZBSTOVNCCARZJSWZSMYHAYGGXOOHNGWQMVQYWKMNCIYBLSFRRRNNVLZCVNHSSAPPAYSYZTHNAOWTPJXCGSTDKLIGWUZKOOUQCTTTHPMVFPWXAMSFDDNUVZDDRURYOFSZDNBQKGLTFQCNSWUYKRMWWAZGVJWFTSGNNWAUTKVCGJYGQPOCKUZYYHMSAYAETGMHJICVZOBWGLCBYZDMVOYAHWZSKFYKGZFJAOVVMFUGFYBSZBDGUMVWSRFFNWODDCLYOATEHRYBGFDPQNWYXTAYHSZUGUDVEFHGFPQUFWGADUROBWFWVGFQZIRWUMQDSOGQFCLQNGXQFJVGUSEUGBLUYWEMHHEOFUCMKQLKNGHSAWKRXLJQFGNOFWYDQPIXYCAUPOFEHKMSQRHWSFECCHAKQZVZOYLQAGVWFKDHAQQAVFWDXUQVWZATUAUFVQYVGBBMYHVGZHWEPVAYOKMYAVCCUBLMLVRYOXDRCEHSUFEDINADMOBNLFGBSVVNWSPWGYUOLEFDRVYGVAENKVBQWFYGOYMWTTGGCNCUJQEYVGTYPVFODFMARUSNWDNLUSWTLFNCUNAWPETREALSWGGCHGETPRAMLKCJVIFAEGAXKHNXJQEKOYPSATHUBKMQLJHYMAZSRBHGHMEKQWWNGTYXTJYGLMFQACGWZFVAMCWQPMVXSWPZPTYCNSZTJBCGTXGGMWWCGUEAFMALQSDGNQWECCZHBKUCUGOULOCKJHCSUYYUIKAWWFFTACCSFEKFCCAUZZVYFAFZUPOGZPTQNNSWHQTAMWAHZPVFALYLOFPBBGTDDYPHQGFTIONHSESQBNQDUEFRCFYEEUROJXYPYTJZXOFQAWRNOZRSPUHDSMTPFYIKMZNBMCJXLVBBOJXTKBA\""
   ]
  },
  {
   "cell_type": "code",
   "execution_count": 6,
   "metadata": {},
   "outputs": [],
   "source": [
    "# We'll definitely be needing the Vigenere function again...\n",
    "def vigenere(text, key, encode=False):\n",
    "    shifts = [ord(letter.upper()) - ord(\"A\") for letter in key]\n",
    "    key_length = len(key)\n",
    "    key_index = 0\n",
    "    for letter in text:\n",
    "        letter_val = ord(letter)\n",
    "        if letter.isupper():\n",
    "            offset = ord(\"A\")\n",
    "        elif letter.islower():\n",
    "            offset = ord(\"a\")\n",
    "        else:\n",
    "            print(letter, end=\"\")\n",
    "            continue\n",
    "\n",
    "        if encode:\n",
    "            shift = shifts[key_index]\n",
    "        else:\n",
    "            shift = -shifts[key_index]\n",
    "\n",
    "        print(chr((((letter_val - offset) + shift) % 26) + offset), end=\"\")\n",
    "        key_index = (key_index + 1) % key_length\n",
    "    print()"
   ]
  },
  {
   "cell_type": "code",
   "execution_count": 5,
   "metadata": {},
   "outputs": [
    {
     "name": "stdout",
     "output_type": "stream",
     "text": [
      "UG: 14 FY: 12 AU: 11 GF: 11 WF: 11 \n",
      "WA: 10 LQ: 10 FC: 10 NW: 10 SA:  9 \n",
      "VQ:  9 VN:  9 CG:  9 GL:  9 ET:  9 \n",
      "WW:  9 YH:  9 HW:  9 US:  9 QP:  9 \n",
      "SF:  9 SW:  9 GA:  8 VA:  8 FP:  8 \n",
      "BL:  8 VY:  8 VF:  8 GU:  8 ZP:  8 \n",
      "---\n",
      "GYU:  3 CFY:  3 HWF:  3 WFC:  3 VNH:  3 \n",
      "WEP:  3 VAY:  3 AYS:  3 ZPT:  3 QFC:  3 \n",
      "WQP:  3 UGU:  3 RYO:  3 SAA:  2 HSA:  2 \n",
      "ADG:  2 MYA:  2 CQL:  2 AZS:  2 XPC:  2 \n",
      "FVQ:  2 VQZ:  2 QZI:  2 GFP:  2 VNU:  2 \n",
      "TGC:  2 GHE:  2 GMW:  2 MWA:  2 TIO:  2 \n",
      "---\n"
     ]
    }
   ],
   "source": [
    "# There are no punctuation marks or capital letters to help us this time :-(\n",
    "# Let's look for repeated digraphs and trigraphs\n",
    "from collections import Counter\n",
    "\n",
    "def pattern_count(text, group_size):\n",
    "    patterns = Counter()\n",
    "    for index in range(len(text)):\n",
    "        patterns[text[index:index+group_size]] += 1\n",
    "\n",
    "    column=0\n",
    "    for item, pattern in patterns.most_common(30):\n",
    "        print(f\"{item}: {pattern:2}\", end=\" \")\n",
    "        column += 1\n",
    "        if column % 5 == 0:\n",
    "            print()\n",
    "    print(\"---\")\n",
    "    \n",
    "pattern_count(message7b, 2)\n",
    "pattern_count(message7b, 3)"
   ]
  },
  {
   "cell_type": "code",
   "execution_count": 6,
   "metadata": {},
   "outputs": [
    {
     "name": "stdout",
     "output_type": "stream",
     "text": [
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n",
      "FU: 21 EB: 19 HS: 18 SY: 16 VV: 14 \n",
      "GZ: 14 CF: 13 UG: 13 FG: 12 UA: 12 \n",
      "UW: 11 US: 11 CZ: 11 NT: 10 SP: 10 \n",
      "NF: 10 WT: 10 QA: 10 JS: 10 AU: 10 \n",
      "DN: 10 WV: 10 GP: 10 YP: 10 TM: 10 \n",
      "GG: 10 TH: 10 WY:  9 ON:  9 NA:  9 \n",
      "---\n",
      "EBQ:  7 HSY:  7 VVP:  6 NTR:  6 CZT:  6 \n",
      "MEB:  6 FUW:  6 FUS:  5 USV:  5 UWT:  5 \n",
      "LJS:  5 CBO:  5 UAY:  5 THS:  5 OCL:  4 \n",
      "WYA:  4 AHL:  4 ACF:  4 CFU:  4 KUS:  4 \n",
      "USN:  4 KBR:  4 MYD:  4 AUG:  4 VVT:  4 \n",
      "GZH:  4 GWH:  4 YFU:  4 IWT:  4 SYI:  4 \n",
      "---\n"
     ]
    }
   ],
   "source": [
    "# No patterns there.\n",
    "# OK - after reading the hints in the forum, I have the following amazing insight!\n",
    "# The text is in columns!  The first letter of every sentence of the last paragraph spells out \"columns\"!\n",
    "# I wish I'd figured that out myself!\n",
    "# There are 47 columns.  Lets try reading down them:\n",
    "transposed = \"\"\n",
    "for column in range(47):\n",
    "    transposed += message7b[column::47]\n",
    "\n",
    "print(transposed)\n",
    "\n",
    "# And run the pattern analysis again...\n",
    "pattern_count(transposed, 2)\n",
    "pattern_count(transposed, 3)"
   ]
  },
  {
   "cell_type": "code",
   "execution_count": 15,
   "metadata": {},
   "outputs": [
    {
     "name": "stdout",
     "output_type": "stream",
     "text": [
      "EBQ: 156 (2) 373 (2) 527 (2) 758 (2) 933 (2) 1150 (2) 1976 (2) \n",
      "HSY: 316 (1) 624 (1) 666 (1) 911 (1) 1233 (1) 1450 (1) 1541 (1) \n",
      "VVP: 175 (0) 203 (0) 455 (0) 728 (0) 1785 (0) 2170 (0) \n",
      "NTR: 311 (3) 822 (3) 955 (3) 1025 (3) 1438 (3) 1683 (3) \n",
      "CZT: 399 (0) 1088 (3) 1284 (3) 1403 (3) 1431 (3) 2124 (3) \n",
      "MEB: 472 (3) 932 (1) 1137 (3) 1163 (1) 1779 (1) 1830 (3) \n",
      "FUW: 844 (4) 963 (4) 1425 (4) 1474 (4) 1572 (4) 1894 (4) \n",
      "FUS: 109 (4) 697 (4) 1068 (4) 1537 (4) 1663 (4) \n",
      "USV: 110 (5) 698 (5) 1069 (5) 1538 (5) 1664 (5) \n",
      "UWT: 124 (5) 446 (5) 1426 (5) 1475 (5) 1573 (5) \n"
     ]
    }
   ],
   "source": [
    "# At this point, I cheated a bit and went to https://www.simonsingh.net/The_Black_Chamber/vigenere_cracking_tool.html\n",
    "# This strongly indicates that the key length is seven characters.  The transposition worked!\n",
    "\n",
    "# Let's assume all of the top trigraphs are \"the\".\n",
    "# Search through them and figure out where they fall in blocks of seven...\n",
    "\n",
    "for trigraph in (\"EBQ\", \"HSY\", \"VVP\", \"NTR\", \"CZT\", \"MEB\", \"FUW\", \"FUS\", \"USV\", \"UWT\"):\n",
    "    print(trigraph, end=\": \")\n",
    "    position = -1\n",
    "    while True:\n",
    "        position = transposed.find(trigraph, position+1)\n",
    "        if position == -1:\n",
    "            break\n",
    "        else:\n",
    "            print(f\"{position} ({position % 7})\", end=\" \")\n",
    "    print()\n",
    "    "
   ]
  },
  {
   "cell_type": "code",
   "execution_count": 16,
   "metadata": {},
   "outputs": [
    {
     "name": "stdout",
     "output_type": "stream",
     "text": [
      "HARRYIDONTTHINKWEAREGOINGTONEEDTOLOOKFARFOROURMOLEANDICANNOTBELIEVEITHASTAKENMETHISLONGTOWORKITOUTYOUARERIGHTTHATALOTOFSTAFFHERESPENTTIMEINTHEUKEITHERDURINGTHEWARORWORKINGWITHTHEBALLISTICMISSILEEXPERTSINTHEIRATOMICWEAPONSPROGRAMBUTYOUDONTEASILYPICKUPWEIRDSPELLINGHABITSLIKETHATASANADULTYOUHAVETOHAVEBEENEDUCATEDTHERETHEREISJUSTONEPERSONIHAVESPOKENTOABOUTALLTHISWHOCOMESFROMTHEUKANDTHATISMIKEIDIDNTREALISEATFIRSTHISACCENTISPRETTYGOODSINCEHEHASBEENHERESINCETHEMIDFIFTIESBUTASSOONASYOUTOLDMETOLOOKOUTFORSOMEONEBRITISHIREALISEDTHATTHESLIGHTTWANGTHATITHOUGHTMIGHTBEBOSTONIANWASACTUALLYTHEREMNANTSOFANENGLISHACCENTIWASALSOTHROWNBYTHEFACTTHATHISSONDIEDINKOREABUTICHECKEDANDTHEBRITSSENTTROOPSTOHELPUSOUTINTHATCONFLICTANDMIKESSONWASONEOFTHERAFAVIATORSSENTONEXCHANGETOTHEUSAFHEDIEDDURINGARECONNAISSANCEMISSIONSHOTDOWNBYAKOREANMIGANDTHEFILESHOWSTHATBEFORETHECARRIERLOSTCONTACTWITHHISPLANEHEREPORTEDHEARINGRUSSIANSPOKENOVERTHERADIOCHANNELSUSEDBYTHEMIGPILOTSMIKECAMETOTHEUSFORTHEFUNERALANDNEVERWENTBACKHEWASMARRIEDBUTITHINKHISWIFESTAYEDINTHEUKNOTALLMARRIAGESCANSURVIVESOMETHINGLIKETHATMIKEISSTILLGRIEVINGANDIGUESSITHASDRIVENHIMALITTLEMADICANSEEWHYHEISSOANGRYABOUTTHEPOSSIBILITYTHATTHERUSSIANSARETRYINGTOSABOTAGEAPOLLOFLIGHTSANDIGUESSHEWANTEDTOGETTHEWORDOUTIAMSTILLALITTLEPUZZLEDTHOUGHHEMIGHTBEBOILINGWITHRAGEANDGRIEFCANMAKEYOUDOSTRANGETHINGSBUTIHAVETRIEDTOIMAGINEHIMWRITINGITANDITJUSTDOESNTSOUNDLIKEHIMIGUESSHEWASTRYINGTOCOVERHISTRACKSANOTHERTHINGISBOTHERINGMETOOTHECALLFORASTRIKEAGAINSTTHERUSSIANSSEEMSOUTOFPROPORTIONGIVENTHELACKOFHARDEVIDENCEWEHAVETHATTHESOVIETSAREBEHINDTHEATTACKSEITHERMIKEKNOWSSOMETHINGWEDONTORHEISPRONETOJUMPINGTOVERYBIGCONCLUSIONSONVERYLITTLEEVIDENCEANDTHATDOESNOTSOUNDLIKETHEPROFILEOFANASAENGINEERTOMEIWONDEREDABOUTGETTINGAWARRANTTOCHECKOUTHISPLACETOSEEIFHEHASHIDDENANYTHINGTHEREBUTJUDGESTAKEADIMVIEWOFFISHINGEXPEDITIONSSOITHINKIMAYNEEDTOBEMOREDEVIOUSICOULDREALLYDOWITHHAVINGHIMOUTOFTHEWAYFORAFEWDAYSWHILEISEARCHHISAPARTMENTANDMAKEAFEWENQUIRIESCOULDYOUCALLHIMOVERTOTHEJOHNSONSPACECENTREINTEXASANALTERNATIVEWOULDBEHUNTSVILLEALABAMABUTIFEELVERYUNEASYABOUTINVITINGHIMUPTHERENOWTHATWEKNOWHEISASECURITYRISKIFIFINDANYTHINGMOREIWILLLETYOUKNOWOTHERWISEIWILLMOVEBACKTOTHESABOTAGEINVESTIGATIONLIKEYOUASKEDMEG\n"
     ]
    }
   ],
   "source": [
    "# A lot of consistency there - I'm on to something!\n",
    "# Hopefully, that shows me which ones start in positions 0-5.\n",
    "# If I look up \"VVP\" in the table at https://en.wikipedia.org/wiki/Vigen%C3%A8re_cipher#/media/File:Vigen%C3%A8re_square_shading.svg\n",
    "# ...then the first three letters of the keyword are \"col\".  I therefore guess...\n",
    "vigenere(transposed, \"columns\")"
   ]
  },
  {
   "cell_type": "markdown",
   "metadata": {},
   "source": [
    "## Ta-daaa!\n",
    "\n",
    "#### Edited for clarity...\n",
    "\n",
    "Harry,\n",
    "I don't think we are going to need to look far for our mole and I cannot believe it has taken me this long to work it out.<br>\n",
    "You are right that a lot of staff here spent time in the UK, either during the war or working with the ballistic missile experts in their atomic weapons program, but you don't easily pick up weird spelling habits like that as an adult, you have to have been educated there.<br>\n",
    "There is just one person I have spoken to about all this who comes from the UK and that is Mike. I didn't realise at first, his accent is pretty good since he has been here since the mid-fifties, but as soon as you told me to look out for someone British, I realised that the slight twang that I thought might be Bostonian was actually the remnants of an English accent.<br>\n",
    "I was also thrown by the fact that his son died in Korea, but I checked and the Brits sent troops to help us out in that conflict and Mike's son was one of the RAF aviators sent on exchange to the USAF. He died during a reconnaissance mission, shot down by a Korean MIG and the file shows that before the carrier lost contact with his plane, he reported hearing Russian spoken over the radio channels used by the MIG pilots. Mike came to the US for the funeral and never went back. He was married, but I think his wife stayed in the UK - not all marriages can survive something like that.<br>\n",
    "Mike is still grieving and I guess it has driven him a little mad. I can see why he is so angry about the possibility that the Russians are trying to sabotage Apollo flights and I guess he wanted to get the word out.\n",
    "I am still a little puzzled though; he might be boiling with rage and grief can make you do strange things, but I have tried to imagine him writing it and it just doesn't sound like him. I guess he was trying to cover his tracks.<br>\n",
    "Another thing is bothering me too; the call for a strike against the Russians seems out of proportion, given the lack of hard evidence we have that the Soviets are behind the attacks. Either Mike knows something we don't or he is prone to jumping to very big conclusions on very little evidence and that does not sound like the profile of a NASA engineer to me.<br>\n",
    "I wondered about getting a warrant to check out his place to see if he has hidden anything there, but judges take a dim view of fishing expeditions, so I think I may need to be more devious. I could really do with having him out of the way for a few days while I search his apartment and make a few enquiries.<br>\n",
    "Could you call him over to the Johnson Space Centre in Texas? An alternative would be Huntsville, Alabama, but I feel very uneasy about inviting him up there now that we know he is a security risk.<br>\n",
    "If I find anything more, I will let you know. Otherwise, I will move back to the sabotage investigation like you asked.<br>\n",
    "Meg"
   ]
  },
  {
   "cell_type": "code",
   "execution_count": null,
   "metadata": {},
   "outputs": [],
   "source": []
  }
 ],
 "metadata": {
  "kernelspec": {
   "display_name": "Python 3",
   "language": "python",
   "name": "python3"
  },
  "language_info": {
   "codemirror_mode": {
    "name": "ipython",
    "version": 3
   },
   "file_extension": ".py",
   "mimetype": "text/x-python",
   "name": "python",
   "nbconvert_exporter": "python",
   "pygments_lexer": "ipython3",
   "version": "3.8.0"
  }
 },
 "nbformat": 4,
 "nbformat_minor": 4
}
